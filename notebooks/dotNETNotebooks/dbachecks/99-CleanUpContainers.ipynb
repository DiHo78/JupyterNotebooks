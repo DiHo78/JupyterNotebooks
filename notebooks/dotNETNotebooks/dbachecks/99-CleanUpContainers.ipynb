{
 "cells": [
  {
   "cell_type": "markdown",
   "metadata": {
    "azdata_cell_guid": "f38febee-7941-4b2f-985a-8b59165dd2c9"
   },
   "source": [
    "# Cleaning up the containers and directories and files\n",
    "\n",
    "The code below will clean up the files that have been created and remove the docker containers but not the image so that you can run this notebook again without having to download the image again"
   ]
  },
  {
   "cell_type": "code",
   "execution_count": 1,
   "metadata": {
    "azdata_cell_guid": "38dffe36-5442-4d87-a588-e778ca3d808f"
   },
   "outputs": [
    {
     "data": {
      "text/html": [
       "<script type=\"text/javascript\">#!javascript\r\n",
       "if ((typeof(requirejs) !==  typeof(Function)) || (typeof(requirejs.config) !== typeof(Function))) { \r\n",
       "    let script = document.createElement(\"script\"); \r\n",
       "    script.setAttribute(\"src\", \"https://cdnjs.cloudflare.com/ajax/libs/require.js/2.3.6/require.min.js\"); \r\n",
       "    script.onload = function(){\r\n",
       "        loadDotnetInteractiveApi();\r\n",
       "    };\r\n",
       "    document.getElementsByTagName(\"head\")[0].appendChild(script); \r\n",
       "}\r\n",
       "else {\r\n",
       "    loadDotnetInteractiveApi();\r\n",
       "}\r\n",
       "\r\n",
       "function loadDotnetInteractiveApi(){\r\n",
       "    let apiRequire = requirejs.config({context:\"dotnet-interactive.12236.54403\",paths:{dotnetInteractive:\"http://localhost:54403/resources/dotnet-interactive\"}});\r\n",
       "    apiRequire(['dotnetInteractive'], \r\n",
       "    function(api) {       \r\n",
       "        api.createDotnetInteractiveClient(\"http://localhost:54403/\", window);\r\n",
       "    },\r\n",
       "    function(error){\r\n",
       "        console.log(error);\r\n",
       "    });\r\n",
       "}</script>"
      ]
     },
     "metadata": {},
     "output_type": "display_data"
    },
    {
     "name": "stdout",
     "output_type": "stream",
     "text": [
      "Removing containers\n",
      "Stopping dbachecks_SQL2019-1_1 ... \n",
      "\n",
      "Stopping dbachecks_SQL2019_1   ... \n",
      "\n",
      "\u001b[1A\u001b[2K\n",
      "Stopping dbachecks_SQL2019_1   ... \u001b[32mdone\u001b[0m\n",
      "\u001b[1B\u001b[2A\u001b[2K\n",
      "Stopping dbachecks_SQL2019-1_1 ... \u001b[32mdone\u001b[0m\n",
      "\u001b[2BRemoving dbachecks_SQL2019-1_1 ... \n",
      "\n",
      "Removing dbachecks_SQL2019_1   ... \n",
      "\n",
      "\u001b[2A\u001b[2K\n",
      "Removing dbachecks_SQL2019-1_1 ... \u001b[32mdone\u001b[0m\n",
      "\u001b[2B\u001b[1A\u001b[2K\n",
      "Removing dbachecks_SQL2019_1   ... \u001b[32mdone\u001b[0m\n",
      "\u001b[1BRemoving network dbachecks_BeardsMagicNetwork\n",
      "Removing directories and files\n",
      "Removed everything\n"
     ]
    }
   ],
   "source": [
    "$FolderPath = $Env:USERPROFILE + '\\Documents\\dbachecks'\n",
    "\n",
    "Write-Output \"Removing containers\"\n",
    "cd $FolderPath \n",
    "docker-compose down \n",
    "cd ..\n",
    "Write-Output \"Removing directories and files\"\n",
    "Remove-Item $FolderPath -Recurse -Force\n",
    "Write-Output \"Removed everything\"\n"
   ]
  },
  {
   "cell_type": "code",
   "execution_count": 2,
   "metadata": {
    "azdata_cell_guid": "e256d75a-8317-4eda-84f3-c50a5337db0b"
   },
   "outputs": [
    {
     "name": "stdout",
     "output_type": "stream",
     "text": [
      "CONTAINER ID        IMAGE               COMMAND             CREATED             STATUS              PORTS               NAMES\n"
     ]
    }
   ],
   "source": [
    "docker ps -a"
   ]
  },
  {
   "cell_type": "code",
   "execution_count": null,
   "metadata": {},
   "outputs": [],
   "source": []
  }
 ],
 "metadata": {
  "kernelspec": {
   "display_name": ".NET (PowerShell)",
   "language": "PowerShell",
   "name": ".net-powershell"
  },
  "language_info": {
   "file_extension": ".ps1",
   "mimetype": "text/x-powershell",
   "name": "PowerShell",
   "pygments_lexer": "powershell",
   "version": "7.0"
  }
 },
 "nbformat": 4,
 "nbformat_minor": 4
}
