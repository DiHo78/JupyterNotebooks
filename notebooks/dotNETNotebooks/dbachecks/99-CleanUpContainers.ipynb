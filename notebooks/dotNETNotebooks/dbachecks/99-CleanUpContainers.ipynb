{
    "metadata": {
        "kernelspec": {
            "name": "powershell",
            "display_name": "PowerShell"
        },
        "language_info": {
            "name": "powershell",
            "codemirror_mode": "shell",
            "mimetype": "text/x-sh",
            "file_extension": ".ps1"
        }
    },
    "nbformat_minor": 2,
    "nbformat": 4,
    "cells": [
        {
            "cell_type": "markdown",
            "source": [
                "# Cleaning up the containers and directories and files\n",
                "\n",
                "The code below will clean up the files that have been created and remove the docker containers but not the image so that you can run this notebook again without having to download the image again"
            ],
            "metadata": {
                "azdata_cell_guid": "f38febee-7941-4b2f-985a-8b59165dd2c9"
            }
        },
        {
            "cell_type": "code",
            "source": [
                "$FolderPath = $Env:USERPROFILE + '\\Documents\\dbachecks'\n",
                "\n",
                "Write-Output \"Removing containers\"\n",
                "cd $FolderPath \n",
                "# docker-compose down \n",
                "Write-Output \"Removing directories and files\"\n",
                "Remove-Item $FolderPath -Recurse -Force\n",
                "Write-Output \"Removed everything\"\n",
                ""
            ],
            "metadata": {
                "azdata_cell_guid": "38dffe36-5442-4d87-a588-e778ca3d808f"
            },
            "outputs": [
                {
                    "name": "stdout",
                    "text": "Removing containers\nRemoving directories and files\nRemove-Item : Cannot remove the item at 'C:\\Users\\mrrob\\Documents\\dbachecks' because it is in use.\nAt line:7 char:1\n+ Remove-Item $FolderPath -Recurse -Force\n+ ~~~~~~~~~~~~~~~~~~~~~~~~~~~~~~~~~~~~~~~\n    + CategoryInfo          : InvalidOperation: (:) [Remove-Item], PSInvalidOperationException\n    + FullyQualifiedErrorId : InvalidOperation,Microsoft.PowerShell.Commands.RemoveItemCommand\n \nRemoved everything\n",
                    "output_type": "stream"
                }
            ],
            "execution_count": 4
        },
        {
            "cell_type": "code",
            "source": [
                "docker ps -a"
            ],
            "metadata": {
                "azdata_cell_guid": "e256d75a-8317-4eda-84f3-c50a5337db0b"
            },
            "outputs": [
                {
                    "output_type": "stream",
                    "name": "stdout",
                    "text": "CONTAINER ID        IMAGE               COMMAND             CREATED             STATUS              PORTS               NAMES\n"
                }
            ],
            "execution_count": 3
        }
    ]
}