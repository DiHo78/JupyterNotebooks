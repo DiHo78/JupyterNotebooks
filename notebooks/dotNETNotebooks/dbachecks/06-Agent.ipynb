{
 "cells": [
  {
   "cell_type": "markdown",
   "metadata": {},
   "source": [
    "![First Power Bi](.\\images\\dbachecks-logo.png )\n",
    "# Checking Agent\n",
    "\n",
    "Agent Jobs are an important part of a DBAs responsiblity"
   ]
  },
  {
   "cell_type": "code",
   "execution_count": 69,
   "metadata": {},
   "outputs": [],
   "source": [
    "$FolderPath = $Env:USERPROFILE + '\\Documents\\dbachecks'\n",
    "$SqlInstances = 'localhost,15592','localhost,15593'\n",
    "$SqlCredential = Import-Clixml -Path $FolderPath\\sqladmin.cred\n",
    "$null = Reset-DbcConfig"
   ]
  },
  {
   "cell_type": "markdown",
   "metadata": {},
   "source": [
    "Lets take a look at the checks that have agent in them"
   ]
  },
  {
   "cell_type": "code",
   "execution_count": 6,
   "metadata": {},
   "outputs": [
    {
     "name": "stdout",
     "output_type": "stream",
     "text": [
      "\n",
      "Group    Type        UniqueTag                   AllTags\n",
      "-----    ----        ---------                   -------                                           \n",
      "Agent    Sqlinstance DatabaseMailEnabled         DatabaseMailEnabled, CIS, security, Agent         \n",
      "Agent    Sqlinstance AgentServiceAccount         AgentServiceAccount, ServiceAccount, Agent        \n",
      "Agent    Sqlinstance DbaOperator                 DbaOperator, Operator, Agent                      \n",
      "Agent    Sqlinstance FailsafeOperator            FailsafeOperator, Operator, Agent                 \n",
      "Agent    Sqlinstance DatabaseMailProfile         DatabaseMailProfile, Agent                        \n",
      "Agent    Sqlinstance FailedJob                   FailedJob, Agent                                  \n",
      "Agent    Sqlinstance ValidJobOwner               ValidJobOwner, Agent                              \n",
      "Agent    Sqlinstance AgentAlert                  AgentAlert, Agent                                 \n",
      "Agent    Sqlinstance JobHistory                  JobHistory, Agent                                 \n",
      "Agent    Sqlinstance LongRunningJob              LongRunningJob, Agent                             \n",
      "Agent    Sqlinstance LastJobRunTime              LastJobRunTime, Agent                             \n",
      "Instance Sqlinstance SqlAgentProxiesNoPublicRole SqlAgentProxiesNoPublicRole, Security, CIS, Mediu…\n",
      "\n"
     ]
    }
   ],
   "source": [
    "Get-DbcCheck Agent"
   ]
  },
  {
   "cell_type": "markdown",
   "metadata": {},
   "source": [
    "and the configurations"
   ]
  },
  {
   "cell_type": "code",
   "execution_count": 11,
   "metadata": {},
   "outputs": [
    {
     "name": "stdout",
     "output_type": "stream",
     "text": [
      "\n",
      "Name                                                  Value Description\n",
      "----                                                  ----- -----------\n",
      "agent.alert.Job                                       False Agent alert job notification. Ex job t…\n",
      "agent.alert.messageid                       {823, 824, 825} Agent alert messageid to validate; htt…\n",
      "agent.alert.Notification                               True Agent alert notification\n",
      "agent.alert.Severity                      {16, 17, 18, 19…} Agent alert severity to validate; http…\n",
      "agent.databasemailprofile                                   Name of the Database Mail Profile in S…\n",
      "agent.dbaoperatoremail                                      Email address of the DBA Operator in S…\n",
      "agent.dbaoperatorname                                       Name of the DBA Operator in SQL Agent\n",
      "agent.failedjob.excludecancelled                      False Exclude agent jobs with a status of ca…\n",
      "agent.failedjob.since                                    30 The maximum number of days to check fo…\n",
      "agent.failsafeoperator                                      Email address of the DBA Operator in S…\n",
      "agent.history.maximumhistoryrows                       1000 Maximum job history log size (in rows)…\n",
      "agent.history.maximumjobhistoryrows                     100 Maximum job history row per job. When …\n",
      "agent.lastjobruntime.percentage                          50 The maximum percentage variance that t…\n",
      "agent.longrunningjob.percentage                          50 The maximum percentage variance that a…\n",
      "agent.validjobowner.name                                 sa Agent job owner account should be this…\n",
      "skip.agent.lastjobruntime                             False Skip the last agent job time check\n",
      "skip.agent.longrunningjobs                            False Skip the long running agent jobs check\n",
      "skip.security.sqlagentproxiesnopublicrole              True Skips the scan for if the public role …\n",
      "\n"
     ]
    }
   ],
   "source": [
    "Get-DbcConfig *agent*"
   ]
  },
  {
   "cell_type": "markdown",
   "metadata": {},
   "source": [
    "# Checking Failed Jobs\n",
    "\n",
    "We have already checked for failed jobs in an earlier notebook but lets do it again"
   ]
  },
  {
   "cell_type": "code",
   "execution_count": 18,
   "metadata": {},
   "outputs": [
    {
     "name": "stdout",
     "output_type": "stream",
     "text": [
      "\u001b[97m    ____            __\n",
      "   / __ \\___  _____/ /____  _____\n",
      "  / /_/ / _ \\/ ___/ __/ _ \\/ ___/\n",
      " / ____/  __(__  ) /_/  __/ /\n",
      "/_/    \\___/____/\\__/\\___/_/\n",
      "Pester v4.9.0\n",
      "Executing all tests in 'C:\\Users\\mrrob\\Documents\\PowerShell\\Modules\\dbachecks\\1.2.25\\checks\\Agent.Tests.ps1' with Tags FailedJob\u001b[0m\n",
      "\n",
      "\u001b[92mExecuting script C:\\Users\\mrrob\\Documents\\PowerShell\\Modules\\dbachecks\\1.2.25\\checks\\Agent.Tests.ps1\u001b[0m\n",
      "\n",
      "\u001b[92m  Describing Failed Jobs\u001b[0m\n",
      "\n",
      "\u001b[92m    Context Checking for failed enabled jobs since 02/19/2020 14:43:57 on localhost,15592\u001b[0m\n",
      "\u001b[32m      [+] CommandLog Cleanup's last run outcome on 69017f5d2a89 is Succeeded\u001b[0m\u001b[90m 60ms\u001b[0m\n",
      "\u001b[91m      [-] DatabaseBackup - SYSTEM_DATABASES - FULL's last run outcome on 69017f5d2a89 is Failed\u001b[0m\u001b[90m 23ms\u001b[0m\n",
      "\u001b[91m        Expected 'Succeeded', because All Agent Jobs should have succeed - you need to investigate the failed jobs, but got Failed.\u001b[0m\n",
      "\u001b[91m        169:                                         $psitem.LastRunOutcome | Should -Be \"Succeeded\" -Because 'All Agent Jobs should have succeed - you need to investigate the failed jobs'\u001b[0m\n",
      "\u001b[91m        at <ScriptBlock>, C:\\Users\\mrrob\\Documents\\PowerShell\\Modules\\dbachecks\\1.2.25\\checks\\Agent.Tests.ps1: line 169\u001b[0m\n",
      "\u001b[91m      [-] DatabaseBackup - USER_DATABASES - DIFF's last run outcome on 69017f5d2a89 is Failed\u001b[0m\u001b[90m 4ms\u001b[0m\n",
      "\u001b[91m        Expected 'Succeeded', because All Agent Jobs should have succeed - you need to investigate the failed jobs, but got Failed.\u001b[0m\n",
      "\u001b[91m        169:                                         $psitem.LastRunOutcome | Should -Be \"Succeeded\" -Because 'All Agent Jobs should have succeed - you need to investigate the failed jobs'\u001b[0m\n",
      "\u001b[91m        at <ScriptBlock>, C:\\Users\\mrrob\\Documents\\PowerShell\\Modules\\dbachecks\\1.2.25\\checks\\Agent.Tests.ps1: line 169\u001b[0m\n",
      "\u001b[91m      [-] DatabaseBackup - USER_DATABASES - FULL's last run outcome on 69017f5d2a89 is Failed\u001b[0m\u001b[90m 4ms\u001b[0m\n",
      "\u001b[91m        Expected 'Succeeded', because All Agent Jobs should have succeed - you need to investigate the failed jobs, but got Failed.\u001b[0m\n",
      "\u001b[91m        169:                                         $psitem.LastRunOutcome | Should -Be \"Succeeded\" -Because 'All Agent Jobs should have succeed - you need to investigate the failed jobs'\u001b[0m\n",
      "\u001b[91m        at <ScriptBlock>, C:\\Users\\mrrob\\Documents\\PowerShell\\Modules\\dbachecks\\1.2.25\\checks\\Agent.Tests.ps1: line 169\u001b[0m\n",
      "\u001b[91m      [-] DatabaseBackup - USER_DATABASES - LOG's last run outcome on 69017f5d2a89 is Failed\u001b[0m\u001b[90m 5ms\u001b[0m\n",
      "\u001b[91m        Expected 'Succeeded', because All Agent Jobs should have succeed - you need to investigate the failed jobs, but got Failed.\u001b[0m\n",
      "\u001b[91m        169:                                         $psitem.LastRunOutcome | Should -Be \"Succeeded\" -Because 'All Agent Jobs should have succeed - you need to investigate the failed jobs'\u001b[0m\n",
      "\u001b[91m        at <ScriptBlock>, C:\\Users\\mrrob\\Documents\\PowerShell\\Modules\\dbachecks\\1.2.25\\checks\\Agent.Tests.ps1: line 169\u001b[0m\n",
      "\u001b[91m      [-] DatabaseIntegrityCheck - SYSTEM_DATABASES's last run outcome on 69017f5d2a89 is Failed\u001b[0m\u001b[90m 6ms\u001b[0m\n",
      "\u001b[91m        Expected 'Succeeded', because All Agent Jobs should have succeed - you need to investigate the failed jobs, but got Failed.\u001b[0m\n",
      "\u001b[91m        169:                                         $psitem.LastRunOutcome | Should -Be \"Succeeded\" -Because 'All Agent Jobs should have succeed - you need to investigate the failed jobs'\u001b[0m\n",
      "\u001b[91m        at <ScriptBlock>, C:\\Users\\mrrob\\Documents\\PowerShell\\Modules\\dbachecks\\1.2.25\\checks\\Agent.Tests.ps1: line 169\u001b[0m\n",
      "\u001b[91m      [-] DatabaseIntegrityCheck - USER_DATABASES's last run outcome on 69017f5d2a89 is Failed\u001b[0m\u001b[90m 4ms\u001b[0m\n",
      "\u001b[91m        Expected 'Succeeded', because All Agent Jobs should have succeed - you need to investigate the failed jobs, but got Failed.\u001b[0m\n",
      "\u001b[91m        169:                                         $psitem.LastRunOutcome | Should -Be \"Succeeded\" -Because 'All Agent Jobs should have succeed - you need to investigate the failed jobs'\u001b[0m\n",
      "\u001b[91m        at <ScriptBlock>, C:\\Users\\mrrob\\Documents\\PowerShell\\Modules\\dbachecks\\1.2.25\\checks\\Agent.Tests.ps1: line 169\u001b[0m\n",
      "\u001b[32m      [+] IndexOptimize - USER_DATABASES's last run outcome on 69017f5d2a89 is Succeeded\u001b[0m\u001b[90m 3ms\u001b[0m\n",
      "\u001b[32m      [+] sp_delete_backuphistory's last run outcome on 69017f5d2a89 is Succeeded\u001b[0m\u001b[90m 3ms\u001b[0m\n",
      "\u001b[32m      [+] sp_purge_jobhistory's last run outcome on 69017f5d2a89 is Succeeded\u001b[0m\u001b[90m 3ms\u001b[0m\n",
      "\u001b[91m      [-] The Beard is Important's last run outcome on 69017f5d2a89 is Failed\u001b[0m\u001b[90m 6ms\u001b[0m\n",
      "\u001b[91m        Expected 'Succeeded', because All Agent Jobs should have succeed - you need to investigate the failed jobs, but got Failed.\u001b[0m\n",
      "\u001b[91m        169:                                         $psitem.LastRunOutcome | Should -Be \"Succeeded\" -Because 'All Agent Jobs should have succeed - you need to investigate the failed jobs'\u001b[0m\n",
      "\u001b[91m        at <ScriptBlock>, C:\\Users\\mrrob\\Documents\\PowerShell\\Modules\\dbachecks\\1.2.25\\checks\\Agent.Tests.ps1: line 169\u001b[0m\n",
      "\n",
      "\u001b[92m  Describing Failed Jobs\u001b[0m\n",
      "\n",
      "\u001b[92m    Context Checking for failed enabled jobs since 02/19/2020 14:43:59 on localhost,15593\u001b[0m\n",
      "\u001b[97mTests completed in 3.01s\u001b[0m\n",
      "\u001b[97mTests Passed: 4, \u001b[0m\u001b[91mFailed: 7, \u001b[0m\u001b[90mSkipped: 0, \u001b[0m\u001b[90mPending: 0, \u001b[0m\u001b[90mInconclusive: 0 \u001b[0m\n"
     ]
    }
   ],
   "source": [
    "Invoke-DbcCheck -SqlInstance $SqlInstances -SqlCredential $SqlCredential -Check FailedJob"
   ]
  },
  {
   "cell_type": "markdown",
   "metadata": {},
   "source": [
    "If we check the details for this check we can see in the description"
   ]
  },
  {
   "cell_type": "code",
   "execution_count": 21,
   "metadata": {},
   "outputs": [
    {
     "name": "stdout",
     "output_type": "stream",
     "text": [
      "\n",
      "Group       : Agent\n",
      "Type        : Sqlinstance\n",
      "UniqueTag   : FailedJob\n",
      "AllTags     : FailedJob, Agent\n",
      "Config      : app.sqlinstance agent.failedjob.since agent.failedjob.excludecancelled \n",
      "Description : Tests that enabled Agent Jobs last outcome was succeeded since specified start date \n",
      "              (default 30 days ago) and can exclude cancelled jobs (default false)\n",
      "\n",
      "\n"
     ]
    }
   ],
   "source": [
    "Get-DbcCheck failedjob | fl"
   ]
  },
  {
   "cell_type": "markdown",
   "metadata": {},
   "source": [
    "That is will check the status of all enabled jobs in the last 30 days and it excludes any jobs that have been cancelled\n",
    "\n",
    "## Changing configuration\n",
    "If we want to change that and maybe only check the last 24 hours we can change the config"
   ]
  },
  {
   "cell_type": "code",
   "execution_count": 70,
   "metadata": {},
   "outputs": [
    {
     "name": "stdout",
     "output_type": "stream",
     "text": [
      "\n",
      "\u001b[97m    ____            __\n",
      "   / __ \\___  _____/ /____  _____\n",
      "  / /_/ / _ \\/ ___/ __/ _ \\/ ___/\n",
      " / ____/  __(__  ) /_/  __/ /\n",
      "/_/    \\___/____/\\__/\\___/_/\n",
      "Pester v4.9.0\n",
      "Executing all tests in 'C:\\Users\\mrrob\\Documents\\PowerShell\\Modules\\dbachecks\\1.2.25\\checks\\Agent.Tests.ps1' with Tags FailedJob\u001b[0m\n",
      "\u001b[97mTests completed in 2.09s\u001b[0m\n",
      "\u001b[97mTests Passed: 4, \u001b[0m\u001b[91mFailed: 7, \u001b[0m\u001b[90mSkipped: 0, \u001b[0m\u001b[90mPending: 0, \u001b[0m\u001b[90mInconclusive: 0 \u001b[0m\n",
      "Name                                                          Value Description\n",
      "----                                                          ----- -----------\n",
      "agent.failedjob.since                                             1 The maximum number of days to …\n",
      "agent.failedjob.excludecancelled                               True Exclude agent jobs with a stat…\n",
      "app.sqlinstance                  {localhost,15592, localhost,15593} List of SQL Server instances t…\n",
      "\n"
     ]
    }
   ],
   "source": [
    "Set-DbcConfig -Name agent.failedjob.since -Value 1\n",
    "Set-DbcConfig -Name agent.failedjob.excludecancelled -Value $true\n",
    "# set the instances to save retyping\n",
    "Set-DbcConfig -Name app.sqlinstance -Value $SqlInstances\n",
    "Invoke-DbcCheck -SqlCredential $SqlCredential -Check FailedJob -Show Summary"
   ]
  },
  {
   "cell_type": "markdown",
   "metadata": {},
   "source": [
    "# Operators\n",
    "\n",
    "We can check that we have operators for our Agent Jobs"
   ]
  },
  {
   "cell_type": "code",
   "execution_count": 71,
   "metadata": {},
   "outputs": [
    {
     "name": "stdout",
     "output_type": "stream",
     "text": [
      "\u001b[97m    ____            __\n",
      "   / __ \\___  _____/ /____  _____\n",
      "  / /_/ / _ \\/ ___/ __/ _ \\/ ___/\n",
      " / ____/  __(__  ) /_/  __/ /\n",
      "/_/    \\___/____/\\__/\\___/_/\n",
      "Pester v4.9.0\n",
      "Executing all tests in 'C:\\Users\\mrrob\\Documents\\PowerShell\\Modules\\dbachecks\\1.2.25\\checks\\Agent.Tests.ps1' with Tags DbaOperator\u001b[0m\n",
      "\n",
      "\u001b[92mExecuting script C:\\Users\\mrrob\\Documents\\PowerShell\\Modules\\dbachecks\\1.2.25\\checks\\Agent.Tests.ps1\u001b[0m\n",
      "\n",
      "\u001b[92m  Describing DBA Operators\u001b[0m\n",
      "\n",
      "\u001b[92m    Context Testing DBA Operators exists on localhost,15592\u001b[0m\n",
      "\n",
      "\u001b[92m  Describing DBA Operators\u001b[0m\n",
      "\n",
      "\u001b[92m    Context Testing DBA Operators exists on localhost,15593\u001b[0m\n",
      "\u001b[97mTests completed in 4.11s\u001b[0m\n",
      "\u001b[32mTests Passed: 0, \u001b[0m\u001b[90mFailed: 0, \u001b[0m\u001b[90mSkipped: 0, \u001b[0m\u001b[90mPending: 0, \u001b[0m\u001b[90mInconclusive: 0 \u001b[0m\n"
     ]
    }
   ],
   "source": [
    "Invoke-DbcCheck -SqlCredential $SqlCredential -Check DbaOperator"
   ]
  },
  {
   "cell_type": "markdown",
   "metadata": {},
   "source": [
    "That looks weird, No tests run.\n",
    "\n",
    "## Changing Configuration\n",
    "\n",
    "Thats because we havent set a config, if we look at the description of the check and the config we can see that we need to set the values"
   ]
  },
  {
   "cell_type": "code",
   "execution_count": 73,
   "metadata": {},
   "outputs": [
    {
     "name": "stdout",
     "output_type": "stream",
     "text": [
      "\n",
      "Group       : Agent\n",
      "Type        : Sqlinstance\n",
      "UniqueTag   : DbaOperator\n",
      "AllTags     : DbaOperator, Operator, Agent\n",
      "Config      : app.sqlinstance agent.dbaoperatorname agent.dbaoperatoremail \n",
      "Description : Tests that the specified (default blank) DBA Operators exist and have the correct \n",
      "              email address\n",
      "\n",
      "\n"
     ]
    }
   ],
   "source": [
    "Get-DbcCheck dbaop | fl\n"
   ]
  },
  {
   "cell_type": "markdown",
   "metadata": {},
   "source": [
    "Lets set the values (incorrectly) and run the check again"
   ]
  },
  {
   "cell_type": "code",
   "execution_count": 75,
   "metadata": {},
   "outputs": [
    {
     "name": "stdout",
     "output_type": "stream",
     "text": [
      "\n",
      "\u001b[97m    ____            __\n",
      "   / __ \\___  _____/ /____  _____\n",
      "  / /_/ / _ \\/ ___/ __/ _ \\/ ___/\n",
      " / ____/  __(__  ) /_/  __/ /\n",
      "/_/    \\___/____/\\__/\\___/_/\n",
      "Pester v4.9.0\n",
      "Executing all tests in 'C:\\Users\\mrrob\\Documents\\PowerShell\\Modules\\dbachecks\\1.2.25\\checks\\Agent.Tests.ps1' with Tags DbaOperator\u001b[0m\n",
      "\n",
      "\u001b[92mExecuting script C:\\Users\\mrrob\\Documents\\PowerShell\\Modules\\dbachecks\\1.2.25\\checks\\Agent.Tests.ps1\u001b[0m\n",
      "\n",
      "\u001b[92m  Describing DBA Operators\u001b[0m\n",
      "\n",
      "\u001b[92m    Context Testing DBA Operators exists on localhost,15592\u001b[0m\n",
      "\u001b[91m      [-] operator name The wrong thing exists\u001b[0m\u001b[90m 15ms\u001b[0m\n",
      "\u001b[91m        Expected collection $null to contain 'The wrong thing', because This Operator is expected to exist, but it was not found.\u001b[0m\n",
      "\u001b[91m        92:                                     $psitem | Should -BeIn $Results.Name -Because 'This Operator is expected to exist'\u001b[0m\n",
      "\u001b[91m        at <ScriptBlock>, C:\\Users\\mrrob\\Documents\\PowerShell\\Modules\\dbachecks\\1.2.25\\checks\\Agent.Tests.ps1: line 92\u001b[0m\n",
      "\u001b[91m      [-] operator email TheWrongEmailAddress@Nope.Com is correct\u001b[0m\u001b[90m 6ms\u001b[0m\n",
      "\u001b[91m        Expected collection $null to contain 'TheWrongEmailAddress@Nope.Com', because This operator email is expected to exist, but it was not found.\u001b[0m\n",
      "\u001b[91m        98:                                         $psitem | Should -Bein $results.EmailAddress -Because 'This operator email is expected to exist'\u001b[0m\n",
      "\u001b[91m        at <ScriptBlock>, C:\\Users\\mrrob\\Documents\\PowerShell\\Modules\\dbachecks\\1.2.25\\checks\\Agent.Tests.ps1: line 98\u001b[0m\n",
      "\n",
      "\u001b[92m  Describing DBA Operators\u001b[0m\n",
      "\n",
      "\u001b[92m    Context Testing DBA Operators exists on localhost,15593\u001b[0m\n",
      "\u001b[91m      [-] operator name The wrong thing exists\u001b[0m\u001b[90m 4ms\u001b[0m\n",
      "\u001b[91m        Expected collection $null to contain 'The wrong thing', because This Operator is expected to exist, but it was not found.\u001b[0m\n",
      "\u001b[91m        92:                                     $psitem | Should -BeIn $Results.Name -Because 'This Operator is expected to exist'\u001b[0m\n",
      "\u001b[91m        at <ScriptBlock>, C:\\Users\\mrrob\\Documents\\PowerShell\\Modules\\dbachecks\\1.2.25\\checks\\Agent.Tests.ps1: line 92\u001b[0m\n",
      "\u001b[91m      [-] operator email TheWrongEmailAddress@Nope.Com is correct\u001b[0m\u001b[90m 5ms\u001b[0m\n",
      "\u001b[91m        Expected collection $null to contain 'TheWrongEmailAddress@Nope.Com', because This operator email is expected to exist, but it was not found.\u001b[0m\n",
      "\u001b[91m        98:                                         $psitem | Should -Bein $results.EmailAddress -Because 'This operator email is expected to exist'\u001b[0m\n",
      "\u001b[91m        at <ScriptBlock>, C:\\Users\\mrrob\\Documents\\PowerShell\\Modules\\dbachecks\\1.2.25\\checks\\Agent.Tests.ps1: line 98\u001b[0m\n",
      "\u001b[97mTests completed in 865ms\u001b[0m\n",
      "\u001b[97mTests Passed: 0, \u001b[0m\u001b[91mFailed: 4, \u001b[0m\u001b[90mSkipped: 0, \u001b[0m\u001b[90mPending: 0, \u001b[0m\u001b[90mInconclusive: 0 \u001b[0m\n",
      "Name                   Value                         Description\n",
      "----                   -----                         -----------\n",
      "agent.dbaoperatorname  The wrong thing               Name of the DBA Operator in SQL Agent\n",
      "agent.dbaoperatoremail TheWrongEmailAddress@Nope.Com Email address of the DBA Operator in SQL Agent\n",
      "\n"
     ]
    }
   ],
   "source": [
    "Set-DbcConfig agent.dbaoperatorname -Value 'The wrong thing'\n",
    "Set-DbcConfig agent.dbaoperatoremail -Value 'TheWrongEmailAddress@Nope.Com'\n",
    "\n",
    "Invoke-DbcCheck -SqlCredential $SqlCredential -Check DbaOperator"
   ]
  },
  {
   "cell_type": "markdown",
   "metadata": {},
   "source": [
    "Lets set the values correctly and run it again"
   ]
  },
  {
   "cell_type": "code",
   "execution_count": 76,
   "metadata": {},
   "outputs": [
    {
     "name": "stdout",
     "output_type": "stream",
     "text": [
      "\n",
      "\u001b[97m    ____            __\n",
      "   / __ \\___  _____/ /____  _____\n",
      "  / /_/ / _ \\/ ___/ __/ _ \\/ ___/\n",
      " / ____/  __(__  ) /_/  __/ /\n",
      "/_/    \\___/____/\\__/\\___/_/\n",
      "Pester v4.9.0\n",
      "Executing all tests in 'C:\\Users\\mrrob\\Documents\\PowerShell\\Modules\\dbachecks\\1.2.25\\checks\\Agent.Tests.ps1' with Tags DbaOperator\u001b[0m\n",
      "\n",
      "\u001b[92mExecuting script C:\\Users\\mrrob\\Documents\\PowerShell\\Modules\\dbachecks\\1.2.25\\checks\\Agent.Tests.ps1\u001b[0m\n",
      "\n",
      "\u001b[92m  Describing DBA Operators\u001b[0m\n",
      "\n",
      "\u001b[92m    Context Testing DBA Operators exists on localhost,15592\u001b[0m\n",
      "\u001b[32m      [+] operator name SQLAdmins exists\u001b[0m\u001b[90m 3ms\u001b[0m\n",
      "\u001b[32m      [+] operator email SQLAdmins@TheBeard.local is correct\u001b[0m\u001b[90m 2ms\u001b[0m\n",
      "\n",
      "\u001b[92m  Describing DBA Operators\u001b[0m\n",
      "\n",
      "\u001b[92m    Context Testing DBA Operators exists on localhost,15593\u001b[0m\n",
      "\u001b[32m      [+] operator name SQLAdmins exists\u001b[0m\u001b[90m 1ms\u001b[0m\n",
      "\u001b[32m      [+] operator email SQLAdmins@TheBeard.local is correct\u001b[0m\u001b[90m 2ms\u001b[0m\n",
      "\u001b[97mTests completed in 4.7s\u001b[0m\n",
      "\u001b[32mTests Passed: 4, \u001b[0m\u001b[90mFailed: 0, \u001b[0m\u001b[90mSkipped: 0, \u001b[0m\u001b[90mPending: 0, \u001b[0m\u001b[90mInconclusive: 0 \u001b[0m\n",
      "Name                   Value                    Description\n",
      "----                   -----                    -----------\n",
      "agent.dbaoperatorname  SQLAdmins                Name of the DBA Operator in SQL Agent\n",
      "agent.dbaoperatoremail SQLAdmins@TheBeard.local Email address of the DBA Operator in SQL Agent\n",
      "\n"
     ]
    }
   ],
   "source": [
    "Set-DbcConfig agent.dbaoperatorname -Value 'SQLAdmins'\n",
    "Set-DbcConfig agent.dbaoperatoremail -Value 'SQLAdmins@TheBeard.local'\n",
    "\n",
    "Invoke-DbcCheck -SqlCredential $SqlCredential -Check DbaOperator"
   ]
  },
  {
   "cell_type": "markdown",
   "metadata": {},
   "source": [
    "# Database Mail\n",
    "\n",
    "We can check the Database Mail settings. Lets check the check and see which configurations that uses"
   ]
  },
  {
   "cell_type": "code",
   "execution_count": 81,
   "metadata": {},
   "outputs": [
    {
     "name": "stdout",
     "output_type": "stream",
     "text": [
      "\n",
      "Group       : Agent\n",
      "Type        : Sqlinstance\n",
      "UniqueTag   : DatabaseMailProfile\n",
      "AllTags     : DatabaseMailProfile, Agent\n",
      "Config      : app.sqlinstance  agent.databasemailprofile \n",
      "Description : Tests that the specified (default blank) Database Mail Profile exists\n",
      "\n",
      "\n"
     ]
    }
   ],
   "source": [
    "Get-DbcCheck DatabaseMailProfile | fl"
   ]
  },
  {
   "cell_type": "markdown",
   "metadata": {},
   "source": [
    "and check the values of those settings currently"
   ]
  },
  {
   "cell_type": "code",
   "execution_count": 84,
   "metadata": {},
   "outputs": [],
   "source": [
    "Get-DbcConfigValue agent.databasemailprofile"
   ]
  },
  {
   "cell_type": "markdown",
   "metadata": {},
   "source": [
    "## Changing Configuration\n",
    "\n",
    "No response means no value so we had better add a configuration"
   ]
  },
  {
   "cell_type": "code",
   "execution_count": 85,
   "metadata": {},
   "outputs": [
    {
     "name": "stdout",
     "output_type": "stream",
     "text": [
      "\n",
      "Name                      Value  Description\n",
      "----                      -----  -----------\n",
      "agent.databasemailprofile SQLDBA Name of the Database Mail Profile in SQL Agent\n",
      "\n"
     ]
    }
   ],
   "source": [
    "Set-DbcConfig agent.databasemailprofile -Value SQLDBA"
   ]
  },
  {
   "cell_type": "code",
   "execution_count": 88,
   "metadata": {},
   "outputs": [
    {
     "name": "stdout",
     "output_type": "stream",
     "text": [
      "\u001b[97m    ____            __\n",
      "   / __ \\___  _____/ /____  _____\n",
      "  / /_/ / _ \\/ ___/ __/ _ \\/ ___/\n",
      " / ____/  __(__  ) /_/  __/ /\n",
      "/_/    \\___/____/\\__/\\___/_/\n",
      "Pester v4.9.0\n",
      "Executing all tests in 'C:\\Users\\mrrob\\Documents\\PowerShell\\Modules\\dbachecks\\1.2.25\\checks\\Agent.Tests.ps1' with Tags DatabaseMailProfile\u001b[0m\n",
      "\n",
      "\u001b[92mExecuting script C:\\Users\\mrrob\\Documents\\PowerShell\\Modules\\dbachecks\\1.2.25\\checks\\Agent.Tests.ps1\u001b[0m\n",
      "\n",
      "\u001b[92m  Describing Database Mail Profile\u001b[0m\n",
      "\n",
      "\u001b[92m    Context Testing database mail profile is set on localhost,15592\u001b[0m\n",
      "\u001b[32m      [+] database mail profile on localhost,15592 is SQLDBA\u001b[0m\u001b[90m 146ms\u001b[0m\n",
      "\n",
      "\u001b[92m  Describing Database Mail Profile\u001b[0m\n",
      "\n",
      "\u001b[92m    Context Testing database mail profile is set on localhost,15593\u001b[0m\n",
      "\u001b[32m      [+] database mail profile on localhost,15593 is SQLDBA\u001b[0m\u001b[90m 65ms\u001b[0m\n",
      "\u001b[97mTests completed in 987ms\u001b[0m\n",
      "\u001b[32mTests Passed: 2, \u001b[0m\u001b[90mFailed: 0, \u001b[0m\u001b[90mSkipped: 0, \u001b[0m\u001b[90mPending: 0, \u001b[0m\u001b[90mInconclusive: 0 \u001b[0m\n"
     ]
    }
   ],
   "source": [
    "Invoke-DbcCheck -SqlCredential $SqlCredential -Check DatabaseMailProfile"
   ]
  },
  {
   "cell_type": "code",
   "execution_count": 89,
   "metadata": {},
   "outputs": [
    {
     "name": "stdout",
     "output_type": "stream",
     "text": [
      "\n",
      "ComputerName                 : localhost\n",
      "InstanceName                 : MSSQLSERVER\n",
      "SqlInstance                  : 69017f5d2a89\n",
      "Parent                       : [localhost,15592]\n",
      "Description                  : Profile used for database mail for SQL DBA Alerts\n",
      "ID                           : 1\n",
      "ForceDeleteForActiveProfiles : True\n",
      "IsBusyProfile                : False\n",
      "Name                         : SQLDBA\n",
      "ParentCollection             : {SQLDBA}\n",
      "Urn                          : Server[@Name='69017f5d2a89']/Mail/MailProfile[@Name='SQLDBA']\n",
      "Properties                   : {Name=Description/Type=System.String/Writable=True/Value=Profile \n",
      "                               used for database mail for SQL DBA Alerts, \n",
      "                               Name=ID/Type=System.Int32/Writable=False/Value=1}\n",
      "ServerVersion                : 15.0.2000\n",
      "DatabaseEngineType           : Standalone\n",
      "DatabaseEngineEdition        : Enterprise\n",
      "ExecutionManager             : Microsoft.SqlServer.Management.Smo.ExecutionManager\n",
      "UserData                     : \n",
      "State                        : Existing\n",
      "\n",
      "\n"
     ]
    }
   ],
   "source": [
    "Get-DbaDbMailProfile -SqlInstance $SqlInstances[0] -SqlCredential $SqlCredential | Select *"
   ]
  },
  {
   "cell_type": "markdown",
   "metadata": {},
   "source": [
    "# Job Owners\n",
    "\n",
    "Maybe you need to make sure that your Agent Jobs are owned by the correct account.\n",
    "\n",
    "The process is the same\n",
    "\n",
    "- Set the configuration and then runt he check - remember once you have set a configuration, you can save it (see the other notebooks)"
   ]
  },
  {
   "cell_type": "code",
   "execution_count": 91,
   "metadata": {},
   "outputs": [
    {
     "name": "stdout",
     "output_type": "stream",
     "text": [
      "\n",
      "\u001b[97m    ____            __\n",
      "   / __ \\___  _____/ /____  _____\n",
      "  / /_/ / _ \\/ ___/ __/ _ \\/ ___/\n",
      " / ____/  __(__  ) /_/  __/ /\n",
      "/_/    \\___/____/\\__/\\___/_/\n",
      "Pester v4.9.0\n",
      "Executing all tests in 'C:\\Users\\mrrob\\Documents\\PowerShell\\Modules\\dbachecks\\1.2.25\\checks\\Agent.Tests.ps1' with Tags ValidJobOwner\u001b[0m\n",
      "\n",
      "\u001b[92mExecuting script C:\\Users\\mrrob\\Documents\\PowerShell\\Modules\\dbachecks\\1.2.25\\checks\\Agent.Tests.ps1\u001b[0m\n",
      "\n",
      "\u001b[92m  Describing Valid Job Owner\u001b[0m\n",
      "\n",
      "\u001b[92m    Context Testing job owners on localhost,15592\u001b[0m\n",
      "\u001b[32m      [+] Job CommandLog Cleanup  - owner OldSa should be in this list ( OldSa ) on 69017f5d2a89\u001b[0m\u001b[90m 4ms\u001b[0m\n",
      "\u001b[32m      [+] Job DatabaseBackup - SYSTEM_DATABASES - FULL  - owner OldSa should be in this list ( OldSa ) on 69017f5d2a89\u001b[0m\u001b[90m 3ms\u001b[0m\n",
      "\u001b[32m      [+] Job DatabaseBackup - USER_DATABASES - DIFF  - owner OldSa should be in this list ( OldSa ) on 69017f5d2a89\u001b[0m\u001b[90m 3ms\u001b[0m\n",
      "\u001b[32m      [+] Job DatabaseBackup - USER_DATABASES - FULL  - owner OldSa should be in this list ( OldSa ) on 69017f5d2a89\u001b[0m\u001b[90m 4ms\u001b[0m\n",
      "\u001b[32m      [+] Job DatabaseBackup - USER_DATABASES - LOG  - owner OldSa should be in this list ( OldSa ) on 69017f5d2a89\u001b[0m\u001b[90m 2ms\u001b[0m\n",
      "\u001b[32m      [+] Job DatabaseIntegrityCheck - SYSTEM_DATABASES  - owner OldSa should be in this list ( OldSa ) on 69017f5d2a89\u001b[0m\u001b[90m 3ms\u001b[0m\n",
      "\u001b[32m      [+] Job DatabaseIntegrityCheck - USER_DATABASES  - owner OldSa should be in this list ( OldSa ) on 69017f5d2a89\u001b[0m\u001b[90m 3ms\u001b[0m\n",
      "\u001b[32m      [+] Job IndexOptimize - USER_DATABASES  - owner OldSa should be in this list ( OldSa ) on 69017f5d2a89\u001b[0m\u001b[90m 5ms\u001b[0m\n",
      "\u001b[32m      [+] Job sp_delete_backuphistory  - owner OldSa should be in this list ( OldSa ) on 69017f5d2a89\u001b[0m\u001b[90m 3ms\u001b[0m\n",
      "\u001b[32m      [+] Job sp_purge_jobhistory  - owner OldSa should be in this list ( OldSa ) on 69017f5d2a89\u001b[0m\u001b[90m 4ms\u001b[0m\n",
      "\u001b[91m      [-] Job The Beard is Important  - owner sqladmin should be in this list ( OldSa ) on 69017f5d2a89\u001b[0m\u001b[90m 8ms\u001b[0m\n",
      "\u001b[91m        Expected collection OldSa to contain 'sqladmin', because The account that is the job owner is not what was expected, but it was not found.\u001b[0m\n",
      "\u001b[91m        192:                                     $psitem.OwnerLoginName | Should -BeIn $TargetOwner -Because \"The account that is the job owner is not what was expected\"\u001b[0m\n",
      "\u001b[91m        at <ScriptBlock>, C:\\Users\\mrrob\\Documents\\PowerShell\\Modules\\dbachecks\\1.2.25\\checks\\Agent.Tests.ps1: line 192\u001b[0m\n",
      "\n",
      "\u001b[92m  Describing Valid Job Owner\u001b[0m\n",
      "\n",
      "\u001b[92m    Context Testing job owners on localhost,15593\u001b[0m\n",
      "\u001b[32m      [+] Job CommandLog Cleanup  - owner OldSa should be in this list ( OldSa ) on 2a4ce913a3ce\u001b[0m\u001b[90m 6ms\u001b[0m\n",
      "\u001b[32m      [+] Job DatabaseBackup - SYSTEM_DATABASES - FULL  - owner OldSa should be in this list ( OldSa ) on 2a4ce913a3ce\u001b[0m\u001b[90m 3ms\u001b[0m\n",
      "\u001b[32m      [+] Job DatabaseBackup - USER_DATABASES - DIFF  - owner OldSa should be in this list ( OldSa ) on 2a4ce913a3ce\u001b[0m\u001b[90m 2ms\u001b[0m\n",
      "\u001b[32m      [+] Job DatabaseBackup - USER_DATABASES - FULL  - owner OldSa should be in this list ( OldSa ) on 2a4ce913a3ce\u001b[0m\u001b[90m 3ms\u001b[0m\n",
      "\u001b[32m      [+] Job DatabaseBackup - USER_DATABASES - LOG  - owner OldSa should be in this list ( OldSa ) on 2a4ce913a3ce\u001b[0m\u001b[90m 2ms\u001b[0m\n",
      "\u001b[32m      [+] Job DatabaseIntegrityCheck - SYSTEM_DATABASES  - owner OldSa should be in this list ( OldSa ) on 2a4ce913a3ce\u001b[0m\u001b[90m 2ms\u001b[0m\n",
      "\u001b[32m      [+] Job DatabaseIntegrityCheck - USER_DATABASES  - owner OldSa should be in this list ( OldSa ) on 2a4ce913a3ce\u001b[0m\u001b[90m 2ms\u001b[0m\n",
      "\u001b[32m      [+] Job IndexOptimize - USER_DATABASES  - owner OldSa should be in this list ( OldSa ) on 2a4ce913a3ce\u001b[0m\u001b[90m 4ms\u001b[0m\n",
      "\u001b[32m      [+] Job sp_delete_backuphistory  - owner OldSa should be in this list ( OldSa ) on 2a4ce913a3ce\u001b[0m\u001b[90m 3ms\u001b[0m\n",
      "\u001b[32m      [+] Job sp_purge_jobhistory  - owner OldSa should be in this list ( OldSa ) on 2a4ce913a3ce\u001b[0m\u001b[90m 2ms\u001b[0m\n",
      "\u001b[91m      [-] Job The Beard is Important  - owner sqladmin should be in this list ( OldSa ) on 2a4ce913a3ce\u001b[0m\u001b[90m 8ms\u001b[0m\n",
      "\u001b[91m        Expected collection OldSa to contain 'sqladmin', because The account that is the job owner is not what was expected, but it was not found.\u001b[0m\n",
      "\u001b[91m        192:                                     $psitem.OwnerLoginName | Should -BeIn $TargetOwner -Because \"The account that is the job owner is not what was expected\"\u001b[0m\n",
      "\u001b[91m        at <ScriptBlock>, C:\\Users\\mrrob\\Documents\\PowerShell\\Modules\\dbachecks\\1.2.25\\checks\\Agent.Tests.ps1: line 192\u001b[0m\n",
      "\u001b[97mTests completed in 1.49s\u001b[0m\n",
      "\u001b[97mTests Passed: 20, \u001b[0m\u001b[91mFailed: 2, \u001b[0m\u001b[90mSkipped: 0, \u001b[0m\u001b[90mPending: 0, \u001b[0m\u001b[90mInconclusive: 0 \u001b[0m\n",
      "Name                     Value Description\n",
      "----                     ----- -----------\n",
      "agent.validjobowner.name OldSa Agent job owner account should be this user\n",
      "\n"
     ]
    }
   ],
   "source": [
    "Set-DbcConfig -Name agent.validjobowner.name -Value OldSa \n",
    "Invoke-DbcCheck -SqlCredential $SqlCredential -Check ValidJobOwner"
   ]
  },
  {
   "cell_type": "markdown",
   "metadata": {},
   "source": [
    "# Job History\n",
    "\n",
    "To ensure that you always have the expected amount of job history records to be able to troubleshoot, you might wish to ensure that the agent job retention for number of rows and number of rows per job are validated. No suprises here - set a configuration and run the check."
   ]
  },
  {
   "cell_type": "code",
   "execution_count": 94,
   "metadata": {},
   "outputs": [
    {
     "name": "stdout",
     "output_type": "stream",
     "text": [
      "\n",
      "\u001b[97m    ____            __\n",
      "   / __ \\___  _____/ /____  _____\n",
      "  / /_/ / _ \\/ ___/ __/ _ \\/ ___/\n",
      " / ____/  __(__  ) /_/  __/ /\n",
      "/_/    \\___/____/\\__/\\___/_/\n",
      "Pester v4.9.0\n",
      "Executing all tests in 'C:\\Users\\mrrob\\Documents\\PowerShell\\Modules\\dbachecks\\1.2.25\\checks\\Agent.Tests.ps1', 'C:\\Users\\mrrob\\Documents\\PowerShell\\Modules\\dbachecks\\1.2.25\\checks\\MaintenanceSolution.Tests.ps1' with Tags JobHistory\u001b[0m\n",
      "\n",
      "\u001b[92mExecuting script C:\\Users\\mrrob\\Documents\\PowerShell\\Modules\\dbachecks\\1.2.25\\checks\\Agent.Tests.ps1\u001b[0m\n",
      "\n",
      "\u001b[92m  Describing Job History Configuration\u001b[0m\n",
      "\n",
      "\u001b[92m    Context Testing job history configuration on localhost,15592\u001b[0m\n",
      "\u001b[32m      [+] The maximum job history number of rows configuration should be greater or equal to 1000 on localhost,15592\u001b[0m\u001b[90m 59ms\u001b[0m\n",
      "\u001b[32m      [+] The maximum job history rows per job configuration should be greater or equal to 100 on localhost,15592\u001b[0m\u001b[90m 3ms\u001b[0m\n",
      "\n",
      "\u001b[92m  Describing Job History Configuration\u001b[0m\n",
      "\n",
      "\u001b[92m    Context Testing job history configuration on localhost,15593\u001b[0m\n",
      "\u001b[32m      [+] The maximum job history number of rows configuration should be greater or equal to 1000 on localhost,15593\u001b[0m\u001b[90m 59ms\u001b[0m\n",
      "\u001b[32m      [+] The maximum job history rows per job configuration should be greater or equal to 100 on localhost,15593\u001b[0m\u001b[90m 2ms\u001b[0m\n",
      "\n",
      "\u001b[92mExecuting script C:\\Users\\mrrob\\Documents\\PowerShell\\Modules\\dbachecks\\1.2.25\\checks\\MaintenanceSolution.Tests.ps1\u001b[0m\n",
      "\u001b[97mTests completed in 0.99s\u001b[0m\n",
      "\u001b[32mTests Passed: 4, \u001b[0m\u001b[90mFailed: 0, \u001b[0m\u001b[90mSkipped: 0, \u001b[0m\u001b[90mPending: 0, \u001b[0m\u001b[90mInconclusive: 0 \u001b[0m\n",
      "Name                                Value Description\n",
      "----                                ----- -----------\n",
      "agent.history.maximumhistoryrows     1000 Maximum job history log size (in rows). The value -1 mea…\n",
      "agent.history.maximumjobhistoryrows   100 Maximum job history row per job. When the property is di…\n",
      "\n"
     ]
    }
   ],
   "source": [
    "Set-DbcConfig -Name agent.history.maximumhistoryrows -Value 1000\n",
    "Set-DbcConfig -Name agent.history.maximumjobhistoryrows -Value 100\n",
    "\n",
    "Invoke-DbcCheck -SqlCredential $SqlCredential -Check JobHistory"
   ]
  },
  {
   "cell_type": "markdown",
   "metadata": {},
   "source": [
    "# Long Running Jobs\n",
    "\n"
   ]
  },
  {
   "cell_type": "code",
   "execution_count": 97,
   "metadata": {},
   "outputs": [
    {
     "name": "stdout",
     "output_type": "stream",
     "text": [
      "\u001b[97m    ____            __\n",
      "   / __ \\___  _____/ /____  _____\n",
      "  / /_/ / _ \\/ ___/ __/ _ \\/ ___/\n",
      " / ____/  __(__  ) /_/  __/ /\n",
      "/_/    \\___/____/\\__/\\___/_/\n",
      "Pester v4.9.0\n",
      "Executing all tests in 'C:\\Users\\mrrob\\Documents\\PowerShell\\Modules\\dbachecks\\1.2.25\\checks\\Agent.Tests.ps1' with Tags LongRunningJob\u001b[0m\n",
      "\n",
      "\u001b[92mExecuting script C:\\Users\\mrrob\\Documents\\PowerShell\\Modules\\dbachecks\\1.2.25\\checks\\Agent.Tests.ps1\u001b[0m\n",
      "\n",
      "\u001b[92m  Describing Long Running Agent Jobs\u001b[0m\n",
      "\n",
      "\u001b[92m    Context Testing long running jobs on localhost,15592\u001b[0m\n",
      "\u001b[32m      [+] There are no running jobs currently on localhost,15592\u001b[0m\u001b[90m 36ms\u001b[0m\n",
      "\n",
      "\u001b[92m  Describing Long Running Agent Jobs\u001b[0m\n",
      "\n",
      "\u001b[92m    Context Testing long running jobs on localhost,15593\u001b[0m\n",
      "\u001b[32m      [+] There are no running jobs currently on localhost,15593\u001b[0m\u001b[90m 3ms\u001b[0m\n",
      "\u001b[97mTests completed in 1.23s\u001b[0m\n",
      "\u001b[32mTests Passed: 2, \u001b[0m\u001b[90mFailed: 0, \u001b[0m\u001b[90mSkipped: 0, \u001b[0m\u001b[90mPending: 0, \u001b[0m\u001b[90mInconclusive: 0 \u001b[0m\n"
     ]
    }
   ],
   "source": [
    "Invoke-DbcCheck -SqlCredential $SqlCredential -Check LongRunningJob"
   ]
  },
  {
   "cell_type": "markdown",
   "metadata": {},
   "source": [
    "# Was the last Agent Job Run Time Too long?\n",
    "\n",
    "If the last job time was unexpectedly long you might want to check for this. Of course, you know by now that you can check for the configurations as you need them and alter them according to your needs\n",
    "\n",
    "First lets set up a job to show a failure"
   ]
  },
  {
   "cell_type": "code",
   "execution_count": 99,
   "metadata": {},
   "outputs": [
    {
     "name": "stdout",
     "output_type": "stream",
     "text": [
      "\n",
      "Parent                 : [localhost,15592]\n",
      "Category               : [Uncategorized (Local)]\n",
      "CategoryType           : 1\n",
      "CurrentRunRetryAttempt : 0\n",
      "CurrentRunStatus       : Idle\n",
      "CurrentRunStep         : 0 (unknown)\n",
      "DateCreated            : 20/03/2020 17:07:31\n",
      "DateLastModified       : 20/03/2020 17:07:31\n",
      "DeleteLevel            : Never\n",
      "Description            : A job to show how long a job should run for\n",
      "EmailLevel             : Never\n",
      "EventLogLevel          : Never\n",
      "HasSchedule            : False\n",
      "HasServer              : True\n",
      "HasStep                : False\n",
      "IsEnabled              : True\n",
      "JobID                  : 91d25a5c-a3a2-49eb-a3f9-694e2efe97f3\n",
      "JobType                : Local\n",
      "LastRunDate            : 01/01/0001 00:00:00\n",
      "LastRunOutcome         : Unknown\n",
      "NetSendLevel           : Never\n",
      "NextRunDate            : 01/01/0001 00:00:00\n",
      "NextRunScheduleID      : 0\n",
      "OperatorToEmail        : \n",
      "OperatorToNetSend      : \n",
      "OperatorToPage         : \n",
      "OriginatingServer      : 69017F5D2A89\n",
      "OwnerLoginName         : sqladmin\n",
      "PageLevel              : Never\n",
      "StartStepID            : 1\n",
      "VersionNumber          : 1\n",
      "Name                   : This Job Should Not Run Long\n",
      "CategoryID             : 0\n",
      "JobSteps               : {}\n",
      "JobSchedules           : {}\n",
      "ParentCollection       : {CommandLog Cleanup, DatabaseBackup - SYSTEM_DATABASES - FULL, \n",
      "                         DatabaseBackup - USER_DATABASES - DIFF, DatabaseBackup - USER_DATABASES - \n",
      "                         FULL…}\n",
      "Urn                    : Server[@Name='69017f5d2a89']/JobServer/Job[@Name='This Job Should Not Run \n",
      "                         Long' and @CategoryID='0']\n",
      "Properties             : {Name=Category/Type=System.String/Writable=True/Value=[Uncategorized \n",
      "                         (Local)], Name=CategoryID/Type=System.Int32/Writable=True/Value=0, \n",
      "                         Name=CategoryType/Type=System.Byte/Writable=True/Value=1, \n",
      "                         Name=CurrentRunRetryAttempt/Type=System.Int32/Writable=False/Value=0…}\n",
      "ServerVersion          : 15.0.2000\n",
      "DatabaseEngineType     : Standalone\n",
      "DatabaseEngineEdition  : Enterprise\n",
      "ExecutionManager       : Microsoft.SqlServer.Management.Smo.ExecutionManager\n",
      "UserData               : \n",
      "State                  : Existing\n",
      "\n",
      "Parent                      : This Job Should Not Run Long\n",
      "Command                     : WAITFOR DELAY '00:00:02';\n",
      "CommandExecutionSuccessCode : 0\n",
      "DatabaseName                : master\n",
      "DatabaseUserName            : \n",
      "ID                          : 1\n",
      "JobStepFlags                : None\n",
      "LastRunDate                 : 01/01/0001 00:00:00\n",
      "LastRunDuration             : 0\n",
      "LastRunOutcome              : Failed\n",
      "LastRunRetries              : 0\n",
      "OnFailAction                : QuitWithFailure\n",
      "OnFailStep                  : 0\n",
      "OnSuccessAction             : QuitWithSuccess\n",
      "OnSuccessStep               : 0\n",
      "OSRunPriority               : Normal\n",
      "OutputFileName              : \n",
      "ProxyName                   : \n",
      "RetryAttempts               : 0\n",
      "RetryInterval               : 0\n",
      "Server                      : \n",
      "SubSystem                   : TransactSql\n",
      "Name                        : Run TSQL\n",
      "ParentCollection            : {Run TSQL}\n",
      "Urn                         : Server[@Name='69017f5d2a89']/JobServer/Job[@Name='This Job Should \n",
      "                              Not Run Long' and @CategoryID='0']/Step[@Name='Run TSQL']\n",
      "Properties                  : {Name=Command/Type=System.String/Writable=True/Value=WAITFOR DELAY \n",
      "                              '00:00:02';, Name=CommandExecutionSuccessCode/Type=System.Int32/Writa\n",
      "                              ble=True/Value=0, \n",
      "                              Name=DatabaseName/Type=System.String/Writable=True/Value=master, \n",
      "                              Name=DatabaseUserName/Type=System.String/Writable=True/Value=…}\n",
      "ServerVersion               : 15.0.2000\n",
      "DatabaseEngineType          : Standalone\n",
      "DatabaseEngineEdition       : Enterprise\n",
      "ExecutionManager            : Microsoft.SqlServer.Management.Smo.ExecutionManager\n",
      "UserData                    : \n",
      "State                       : Existing\n",
      "\n",
      "\n"
     ]
    }
   ],
   "source": [
    "$JobName = 'This Job Should Not Run Long' \n",
    "$newDbaAgentJobSplat = @{\n",
    "    SqlInstance = $SqlInstances[0]\n",
    "    SqlCredential = $SqlCredential\n",
    "    Job = $JobName\n",
    "    Description = \"A job to show how long a job should run for\"\n",
    "}\n",
    "New-DbaAgentJob @newDbaAgentJobSplat \n",
    "\n",
    "$StepName = 'Run TSQL'\n",
    "$newDbaAgentJobStepSplat = @{\n",
    "    SqlInstance = $SqlInstances[0]\n",
    "    SqlCredential = $SqlCredential\n",
    "    Job = $JobName\n",
    "    StepName = $StepName\n",
    "    Subsystem = 'TransactSql'\n",
    "    Command = \"WAITFOR DELAY '00:00:02';\"\n",
    "}\n",
    "New-DbaAgentJobStep @newDbaAgentJobStepSplat"
   ]
  },
  {
   "cell_type": "markdown",
   "metadata": {},
   "source": [
    "Now lets get a \"normal\" run of this job a few times"
   ]
  },
  {
   "cell_type": "code",
   "execution_count": 100,
   "metadata": {},
   "outputs": [
    {
     "name": "stdout",
     "output_type": "stream",
     "text": [
      "\n",
      "ComputerName           : localhost\n",
      "InstanceName           : MSSQLSERVER\n",
      "SqlInstance            : 69017f5d2a89\n",
      "Name                   : This Job Should Not Run Long\n",
      "Category               : [Uncategorized (Local)]\n",
      "OwnerLoginName         : sqladmin\n",
      "CurrentRunStatus       : Executing\n",
      "CurrentRunRetryAttempt : 0\n",
      "Enabled                : True\n",
      "LastRunDate            : 01/01/0001 00:00:00\n",
      "LastRunOutcome         : Unknown\n",
      "HasSchedule            : False\n",
      "OperatorToEmail        : \n",
      "CreateDate             : 20/03/2020 17:07:31\n",
      "\n",
      "ComputerName           : localhost\n",
      "InstanceName           : MSSQLSERVER\n",
      "SqlInstance            : 69017f5d2a89\n",
      "Name                   : This Job Should Not Run Long\n",
      "Category               : [Uncategorized (Local)]\n",
      "OwnerLoginName         : sqladmin\n",
      "CurrentRunStatus       : Executing\n",
      "CurrentRunRetryAttempt : 0\n",
      "Enabled                : True\n",
      "LastRunDate            : 20/03/2020 17:08:11\n",
      "LastRunOutcome         : Succeeded\n",
      "HasSchedule            : False\n",
      "OperatorToEmail        : \n",
      "CreateDate             : 20/03/2020 17:07:31\n",
      "\n",
      "ComputerName           : localhost\n",
      "InstanceName           : MSSQLSERVER\n",
      "SqlInstance            : 69017f5d2a89\n",
      "Name                   : This Job Should Not Run Long\n",
      "Category               : [Uncategorized (Local)]\n",
      "OwnerLoginName         : sqladmin\n",
      "CurrentRunStatus       : Executing\n",
      "CurrentRunRetryAttempt : 0\n",
      "Enabled                : True\n",
      "LastRunDate            : 20/03/2020 17:08:17\n",
      "LastRunOutcome         : Succeeded\n",
      "HasSchedule            : False\n",
      "OperatorToEmail        : \n",
      "CreateDate             : 20/03/2020 17:07:31\n",
      "\n",
      "ComputerName           : localhost\n",
      "InstanceName           : MSSQLSERVER\n",
      "SqlInstance            : 69017f5d2a89\n",
      "Name                   : This Job Should Not Run Long\n",
      "Category               : [Uncategorized (Local)]\n",
      "OwnerLoginName         : sqladmin\n",
      "CurrentRunStatus       : Executing\n",
      "CurrentRunRetryAttempt : 0\n",
      "Enabled                : True\n",
      "LastRunDate            : 20/03/2020 17:08:22\n",
      "LastRunOutcome         : Succeeded\n",
      "HasSchedule            : False\n",
      "OperatorToEmail        : \n",
      "CreateDate             : 20/03/2020 17:07:31\n",
      "\n",
      "ComputerName           : localhost\n",
      "InstanceName           : MSSQLSERVER\n",
      "SqlInstance            : 69017f5d2a89\n",
      "Name                   : This Job Should Not Run Long\n",
      "Category               : [Uncategorized (Local)]\n",
      "OwnerLoginName         : sqladmin\n",
      "CurrentRunStatus       : Executing\n",
      "CurrentRunRetryAttempt : 0\n",
      "Enabled                : True\n",
      "LastRunDate            : 20/03/2020 17:08:28\n",
      "LastRunOutcome         : Succeeded\n",
      "HasSchedule            : False\n",
      "OperatorToEmail        : \n",
      "CreateDate             : 20/03/2020 17:07:31\n",
      "\n",
      "\n"
     ]
    }
   ],
   "source": [
    "$i = 5\n",
    "while ($i -gt 0) {\n",
    "    Start-DbaAgentJob -SqlInstance $SqlInstances[0] -SqlCredential $SqlCredential -Job $JobName\n",
    "    Start-Sleep -Seconds 3\n",
    "    $i --\n",
    "}"
   ]
  },
  {
   "cell_type": "markdown",
   "metadata": {},
   "source": [
    "Now we can set the job to run for longer"
   ]
  },
  {
   "cell_type": "code",
   "execution_count": 101,
   "metadata": {},
   "outputs": [],
   "source": [
    "$setDbaAgentJobStepSplat = @{\n",
    "    SqlInstance = $SqlInstances[0]\n",
    "    SqlCredential = $SqlCredential\n",
    "    Job = $JobName\n",
    "    StepName = $StepName\n",
    "    Command = \"WAITFOR DELAY '00:00:12';\"\n",
    "}\n",
    "Set-DbaAgentJobStep @setDbaAgentJobStepSplat"
   ]
  },
  {
   "cell_type": "markdown",
   "metadata": {},
   "source": [
    "and run the job again"
   ]
  },
  {
   "cell_type": "code",
   "execution_count": 102,
   "metadata": {},
   "outputs": [
    {
     "name": "stdout",
     "output_type": "stream",
     "text": [
      "\n",
      "ComputerName           : localhost\n",
      "InstanceName           : MSSQLSERVER\n",
      "SqlInstance            : 69017f5d2a89\n",
      "Name                   : This Job Should Not Run Long\n",
      "Category               : [Uncategorized (Local)]\n",
      "OwnerLoginName         : sqladmin\n",
      "CurrentRunStatus       : Executing\n",
      "CurrentRunRetryAttempt : 0\n",
      "Enabled                : True\n",
      "LastRunDate            : 20/03/2020 17:08:34\n",
      "LastRunOutcome         : Succeeded\n",
      "HasSchedule            : False\n",
      "OperatorToEmail        : \n",
      "CreateDate             : 20/03/2020 17:07:31\n",
      "\n",
      "\n"
     ]
    }
   ],
   "source": [
    "Start-DbaAgentJob -SqlInstance $SqlInstances[0] -SqlCredential $SqlCredential -Job $JobName"
   ]
  },
  {
   "cell_type": "markdown",
   "metadata": {},
   "source": [
    "Now when we run the check for last job run time we will see a failure for this job"
   ]
  },
  {
   "cell_type": "code",
   "execution_count": 103,
   "metadata": {},
   "outputs": [
    {
     "name": "stdout",
     "output_type": "stream",
     "text": [
      "\u001b[97m    ____            __\n",
      "   / __ \\___  _____/ /____  _____\n",
      "  / /_/ / _ \\/ ___/ __/ _ \\/ ___/\n",
      " / ____/  __(__  ) /_/  __/ /\n",
      "/_/    \\___/____/\\__/\\___/_/\n",
      "Pester v4.9.0\n",
      "Executing all tests in 'C:\\Users\\mrrob\\Documents\\PowerShell\\Modules\\dbachecks\\1.2.25\\checks\\Agent.Tests.ps1' with Tags LastJobRunTime\u001b[0m\n",
      "\n",
      "\u001b[92mExecuting script C:\\Users\\mrrob\\Documents\\PowerShell\\Modules\\dbachecks\\1.2.25\\checks\\Agent.Tests.ps1\u001b[0m\n",
      "\n",
      "\u001b[92m  Describing Last Agent Job Run\u001b[0m\n",
      "\n",
      "\u001b[92m    Context Testing last job run time on localhost,15592\u001b[0m\n",
      "\u001b[32m      [+] Job IndexOptimize - USER_DATABASES last run duration should be not be greater than 50 % extra of the average run time on localhost,15592\u001b[0m\u001b[90m 39ms\u001b[0m\n",
      "\u001b[32m      [+] Job DatabaseBackup - SYSTEM_DATABASES - FULL last run duration should be not be greater than 50 % extra of the average run time on localhost,15592\u001b[0m\u001b[90m 3ms\u001b[0m\n",
      "\u001b[91m      [-] Job This Job Should Not Run Long last run duration should be not be greater than 50 % extra of the average run time on localhost,15592\u001b[0m\u001b[90m 24ms\u001b[0m\n",
      "\u001b[91m        Expected the actual value to be less than 50, because The last run of job This Job Should Not Run Long was 12 seconds. This is more than the 50 % specified as the maximum variance, but got 300.\u001b[0m\n",
      "\u001b[91m        44:     [math]::Round($lastagentjobrun.Diff/$lastagentjobrun.AvgSec * 100) | Should -BeLessThan $runningjobpercentage -Because \"The last run of job $($lastagentjobrun.JobName) was $($lastagentjobrun.duration) seconds. This is more than the $runningjobpercentage % specified as the maximum variance\"\u001b[0m\n",
      "\u001b[91m        at Assert-LastJobRun, C:\\Users\\mrrob\\Documents\\PowerShell\\Modules\\dbachecks\\1.2.25\\internal\\assertions\\Agent.Assertions.ps1: line 44\u001b[0m\n",
      "\u001b[91m        at <ScriptBlock>, C:\\Users\\mrrob\\Documents\\PowerShell\\Modules\\dbachecks\\1.2.25\\checks\\Agent.Tests.ps1: line 398\u001b[0m\n",
      "\u001b[32m      [+] Job DatabaseBackup - USER_DATABASES - FULL last run duration should be not be greater than 50 % extra of the average run time on localhost,15592\u001b[0m\u001b[90m 4ms\u001b[0m\n",
      "\u001b[32m      [+] Job DatabaseIntegrityCheck - SYSTEM_DATABASES last run duration should be not be greater than 50 % extra of the average run time on localhost,15592\u001b[0m\u001b[90m 3ms\u001b[0m\n",
      "\u001b[32m      [+] Job sp_purge_jobhistory last run duration should be not be greater than 50 % extra of the average run time on localhost,15592\u001b[0m\u001b[90m 3ms\u001b[0m\n",
      "\u001b[32m      [+] Job DatabaseIntegrityCheck - USER_DATABASES last run duration should be not be greater than 50 % extra of the average run time on localhost,15592\u001b[0m\u001b[90m 4ms\u001b[0m\n",
      "\u001b[32m      [+] Job DatabaseBackup - USER_DATABASES - DIFF last run duration should be not be greater than 50 % extra of the average run time on localhost,15592\u001b[0m\u001b[90m 5ms\u001b[0m\n",
      "\n",
      "\u001b[92m  Describing Last Agent Job Run\u001b[0m\n",
      "\n",
      "\u001b[92m    Context Testing last job run time on localhost,15593\u001b[0m\n",
      "\u001b[32m      [+] Job IndexOptimize - USER_DATABASES last run duration should be not be greater than 50 % extra of the average run time on localhost,15593\u001b[0m\u001b[90m 8ms\u001b[0m\n",
      "\u001b[32m      [+] Job DatabaseBackup - SYSTEM_DATABASES - FULL last run duration should be not be greater than 50 % extra of the average run time on localhost,15593\u001b[0m\u001b[90m 3ms\u001b[0m\n",
      "\u001b[32m      [+] Job DatabaseBackup - USER_DATABASES - FULL last run duration should be not be greater than 50 % extra of the average run time on localhost,15593\u001b[0m\u001b[90m 3ms\u001b[0m\n",
      "\u001b[32m      [+] Job DatabaseIntegrityCheck - SYSTEM_DATABASES last run duration should be not be greater than 50 % extra of the average run time on localhost,15593\u001b[0m\u001b[90m 3ms\u001b[0m\n",
      "\u001b[32m      [+] Job DatabaseIntegrityCheck - USER_DATABASES last run duration should be not be greater than 50 % extra of the average run time on localhost,15593\u001b[0m\u001b[90m 3ms\u001b[0m\n",
      "\u001b[32m      [+] Job DatabaseBackup - USER_DATABASES - DIFF last run duration should be not be greater than 50 % extra of the average run time on localhost,15593\u001b[0m\u001b[90m 3ms\u001b[0m\n",
      "\u001b[97mTests completed in 1.56s\u001b[0m\n",
      "\u001b[97mTests Passed: 13, \u001b[0m\u001b[91mFailed: 1, \u001b[0m\u001b[90mSkipped: 0, \u001b[0m\u001b[90mPending: 0, \u001b[0m\u001b[90mInconclusive: 0 \u001b[0m\n"
     ]
    }
   ],
   "source": [
    "Invoke-DbcCheck -SqlCredential $SqlCredential -Check LastJobRunTime"
   ]
  },
  {
   "cell_type": "code",
   "execution_count": null,
   "metadata": {},
   "outputs": [],
   "source": []
  }
 ],
 "metadata": {
  "kernelspec": {
   "display_name": ".NET (PowerShell)",
   "language": "PowerShell",
   "name": ".net-powershell"
  },
  "language_info": {
   "file_extension": ".ps1",
   "mimetype": "text/x-powershell",
   "name": "PowerShell",
   "pygments_lexer": "powershell",
   "version": "7.0"
  }
 },
 "nbformat": 4,
 "nbformat_minor": 4
}
