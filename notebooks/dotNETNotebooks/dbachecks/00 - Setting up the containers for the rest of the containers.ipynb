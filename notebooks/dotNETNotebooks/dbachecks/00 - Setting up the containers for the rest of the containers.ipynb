{
 "cells": [
  {
   "cell_type": "markdown",
   "metadata": {
    "azdata_cell_guid": "417c67ae-8d69-4be2-9b09-d6178d5c2da6"
   },
   "source": [
    "![First Power Bi](.\\images\\dbachecks-logo.png )\r\n",
    "# Setting up the containers for the rest of the dbachecks notebooks\r\n",
    "\r\n",
    "To be able to follow along with the rest of the notebooks, you will need to set up two containers. \r\n",
    "\r\n",
    "This notebook will enable you to do that.\r\n",
    "\r\n",
    "You will need to have Docker installed. The image is based on the SQL Server 2019 image so you will need to have docker set to use Linux Containers. Right click on the Docker icon in the notification area and if it says \"Switch to Linux Containers\" click to switch and wait for Docker to restart.  \r\n",
    "\r\n",
    "![Switch To Linux Containers](.\\images\\switchtolinuxcontainers.png )\r\n",
    "\r\n",
    "You will be able to run all of the code in the notebooks by creating the folder, credential and containers in this notebook and then you can click on the play button in each code block to run the code. Note - There are a few code blocks with the results already included which should not be run. They are to show you the results of a command that cannot be run against containers (setting up configuration for domain accounts for example)\r\n"
   ]
  },
  {
   "cell_type": "markdown",
   "metadata": {
    "azdata_cell_guid": "1dc8ffc9-2c1a-4a93-bfcf-bc52f587df30"
   },
   "source": [
    "## Create the folders and the credential\r\n",
    "\r\n",
    "Before you run this code, you will have to enter the directory that this notebook is saved in.   \r\n",
    "\r\n",
    "This is a restriction of the Jupyter Notebook in Azure Data Studio as the PowerShell session does not know where it is locatBut I have kept it.d.  \r\n",
    "\r\n",
    "The code below will create a directory called dbachecks-demo in your Documents folder and save a credential file for logging into the containers. You can alter the directory created by altering the $FolderPath but you will have to do this in every notebook."
   ]
  },
  {
   "cell_type": "code",
   "execution_count": null,
   "metadata": {
    "azdata_cell_guid": "05f101cc-6fe4-4f97-9e2a-88230ffa5462",
    "tags": [
     "hide_input"
    ]
   },
   "outputs": [],
   "source": [
    "# Alter the Notebook Directory below before running this code\r\n",
    "$notebookDirectory ='C:\\Users\\mrrob\\OneDrive\\Documents\\GitHub\\JupyterNotebooks\\notebooks\\NotDotNet\\dbachecks'\r\n",
    "$FolderPath = $Env:USERPROFILE + '\\Documents\\dbachecks'\r\n",
    "\r\n",
    "########################################################\r\n",
    "Write-Output \"Creating Directory $FolderPath\"\r\n",
    "if(Test-Path $FolderPath){\r\n",
    "    Write-Output \"Path $FolderPath exists already\"\r\n",
    "}else {\r\n",
    " $null =    New-Item $FolderPath -ItemType Directory\r\n",
    "}\r\n",
    "\r\n",
    "Write-Output \"Creating Directory $FolderPath\\SQL1\"\r\n",
    "if(Test-Path \"$FolderPath\\SQL1\"){\r\n",
    "    Write-Output \"Directory SQL1 exists already\"\r\n",
    "    Get-ChildItem \"$FolderPath\\SQL1\" -Recurse| Remove-Item -Recurse -Force\r\n",
    "}else {\r\n",
    "$null = New-Item \"$FolderPath\\SQL1\"-ItemType Directory\r\n",
    "}\r\n",
    "Write-Output \"Creating File $FolderPath\\SQL1\\dummyfile.txt\"\r\n",
    "if(Test-Path \"$FolderPath\\SQL1\\dummyfile.txt\"){\r\n",
    "    Write-Output \"dummyfile.txt exists already\"\r\n",
    "}else {\r\n",
    "$null =  New-Item \"$FolderPath\\SQL1\\dummyfile.txt\" -ItemType file\r\n",
    "}\r\n",
    "\r\n",
    "Write-Output \"Creating Directory $FolderPath\\SQL2\"\r\n",
    "if(Test-Path \"$FolderPath\\SQL2\"){\r\n",
    "    Write-Output \"Directory SQL2 exists already\"\r\n",
    "    Get-ChildItem \"$FolderPath\\SQL2\" -Recurse| Remove-Item -Recurse -Force\r\n",
    "}else {\r\n",
    " $null =    New-Item \"$FolderPath\\SQL2\"-ItemType Directory\r\n",
    "}\r\n",
    "Write-Output \"Creating File $FolderPath\\SQL2\\dummyfile.txt\"\r\n",
    "if(Test-Path \"$FolderPath\\SQL2\\dummyfile.txt\"){\r\n",
    "    Write-Output \"dummyfile.txt exists already\"\r\n",
    "}else {\r\n",
    "$null =  New-Item \"$FolderPath\\SQL2\\dummyfile.txt\" -ItemType file\r\n",
    "}\r\n",
    "\r\n",
    "Write-Output \"Creating a credential file for the containers - Please don't do this in production\"\r\n",
    "\r\n",
    "$sqladminPassword = ConvertTo-SecureString 'dbatools.IO' -AsPlainText -Force \r\n",
    "$cred = New-Object System.Management.Automation.PSCredential ('sqladmin', $sqladminpassword)\r\n",
    "$Cred | Export-Clixml -Path $FolderPath\\sqladmin.cred\r\n",
    "Write-Output \"Credential file created\"\r\n",
    "\r\n",
    "Write-Output \"Setting the docker-compose files values\"\r\n",
    "$dockercompose = (Get-Content $notebookDirectory\\dockercompose.yml) -replace '__ReplaceME__' , $FolderPath\r\n",
    "# $dockercompose\r\n",
    "$dockercompose | Set-Content $FolderPath\\docker-compose.yml\r\n",
    "\r\n"
   ]
  },
  {
   "cell_type": "markdown",
   "metadata": {
    "azdata_cell_guid": "47c883a8-f396-492c-8ed1-05acc981aeae"
   },
   "source": [
    "## Containers\r\n",
    "\r\n",
    "We are going to create two SQL 2019 containers using the sqldbawithabeard\\dbachecks [image from the Docker Hub](https://hub.docker.com/repository/docker/sqldbawithabeard/dbachecksdemo).ve.\r\n",
    "\r\n",
    "The first time it is going to pull the image sqldbawithabeard/dbachecksdemo from the Docker Hub. If you wish to do this first, you can run \r\n",
    "\r\n",
    "`docker pull sqldbawithabeard/dbachecksdemo`\r\n"
   ]
  },
  {
   "cell_type": "code",
   "execution_count": null,
   "metadata": {
    "azdata_cell_guid": "63ae3fba-d0af-4226-9a2e-1ec9f92b76dd",
    "tags": []
   },
   "outputs": [],
   "source": [
    "$FolderPath = $Env:USERPROFILE + '\\Documents\\dbachecks'\r\n",
    "Set-Location $FolderPath\r\n",
    "docker-compose up -d"
   ]
  },
  {
   "cell_type": "markdown",
   "metadata": {
    "azdata_cell_guid": "5f931164-6dc3-4312-9fee-b3112a1204f7"
   },
   "source": [
    "If you get an error you might need to add the user you have shared your drives with Docker modify permissions to the \\Documents\\ directory in your user profile\r\n",
    "More details https://docs.docker.com/docker-for-windows/ or troubleshoot in the normal way\r\n",
    "\r\n",
    "Otherwise continue to the next notebook"
   ]
  },
  {
   "cell_type": "markdown",
   "metadata": {
    "azdata_cell_guid": "c3bdda7b-73bf-4d4f-8e28-90575644d70d"
   },
   "source": [
    "If there are warnings above - Check the containers are running - Look at the status column"
   ]
  },
  {
   "cell_type": "code",
   "execution_count": null,
   "metadata": {
    "azdata_cell_guid": "f47bed8a-0d8c-4f13-ad42-c1685ad0961d"
   },
   "outputs": [],
   "source": [
    "docker ps -a"
   ]
  },
  {
   "cell_type": "markdown",
   "metadata": {
    "azdata_cell_guid": "577b9247-8908-4e06-a35b-cc16a227cfd3"
   },
   "source": [
    "If there are warnings above and the containers are running - check the logs"
   ]
  },
  {
   "cell_type": "code",
   "execution_count": null,
   "metadata": {
    "azdata_cell_guid": "86199e1e-037a-45be-8d02-83c928d29b57"
   },
   "outputs": [],
   "source": [
    "docker logs dbachecks_SQL2019_1"
   ]
  },
  {
   "cell_type": "code",
   "execution_count": null,
   "metadata": {
    "azdata_cell_guid": "7acf752b-8ced-4304-b95d-b392fcdc00b7"
   },
   "outputs": [],
   "source": [
    "docker logs dbachecks_SQL2019-1_1"
   ]
  },
  {
   "cell_type": "markdown",
   "metadata": {
    "azdata_cell_guid": "3253e9c3-f3fb-44c8-80a6-74dd351e1075"
   },
   "source": [
    "Now you can use these containers to run the rest of the notebooks - Don't forget to run the Clean Up Containers Notebook at the end to clean up"
   ]
  }
 ],
 "metadata": {
  "kernelspec": {
   "display_name": ".NET (PowerShell)",
   "language": "PowerShell",
   "name": ".net-powershell"
  },
  "language_info": {
   "file_extension": ".ps1",
   "mimetype": "text/x-powershell",
   "name": "PowerShell",
   "pygments_lexer": "powershell",
   "version": "7.0"
  }
 },
 "nbformat": 4,
 "nbformat_minor": 4
}
