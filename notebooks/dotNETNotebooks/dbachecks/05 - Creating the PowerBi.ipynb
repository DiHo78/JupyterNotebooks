{
 "cells": [
  {
   "cell_type": "markdown",
   "metadata": {
    "azdata_cell_guid": "9bc7915e-3aee-47b6-a760-7902a9fb635f"
   },
   "source": [
    "![First Power Bi](.\\images\\dbachecks-logo.png )\n",
    "# Creating the Power Bi"
   ]
  },
  {
   "cell_type": "markdown",
   "metadata": {
    "azdata_cell_guid": "92be6d4a-5a8a-4234-acd4-ea476ccc2254"
   },
   "source": [
    "Displaying the results in Power Bi is another capability of dbachecks. You can use this to build dashboards for your team or enable quick identification of issues that need to be resolved. There is a Power Bi dashboard embedded with the dbachecks module that you downloaded. This will automatically use the json file that is created when you use the command `Update-DbcPowerBiDataSource`\r\n",
    "\r\n",
    "You **MUST** use the `-PassThru` parameter of `Invoke-DbcCheck` when running the checks otherwise `Update-PowerBiDataSource` will not have an object to work with. There is no way to check that you are going to use `Update-DbcPowerBiDataSource` so the first time you will realise that youhave not used `-Passthru` is after the checks have run which can be very frustrating when it has taken an hour or two to create the configuration and run the checks as the beard has found out!\r\n",
    "\r\n",
    "With your configuration set up you run as you wish, you run `Invoke-DbcCheck` with the `-PassThru` parameter. "
   ]
  },
  {
   "cell_type": "code",
   "execution_count": 1,
   "metadata": {
    "azdata_cell_guid": "b540a7b1-1c0c-4ecb-8f51-9d3e728cd82e"
   },
   "outputs": [
    {
     "data": {
      "text/html": [
       "<script type=\"text/javascript\">#!javascript\r\n",
       "if ((typeof(requirejs) !==  typeof(Function)) || (typeof(requirejs.config) !== typeof(Function))) { \r\n",
       "    let script = document.createElement(\"script\"); \r\n",
       "    script.setAttribute(\"src\", \"https://cdnjs.cloudflare.com/ajax/libs/require.js/2.3.6/require.min.js\"); \r\n",
       "    script.onload = function(){\r\n",
       "        loadDotnetInteractiveApi();\r\n",
       "    };\r\n",
       "    document.getElementsByTagName(\"head\")[0].appendChild(script); \r\n",
       "}\r\n",
       "else {\r\n",
       "    loadDotnetInteractiveApi();\r\n",
       "}\r\n",
       "\r\n",
       "function loadDotnetInteractiveApi(){\r\n",
       "    let apiRequire = requirejs.config({context:\"dotnet-interactive.15560.53622\",paths:{dotnetInteractive:\"http://localhost:53622/resources/dotnet-interactive\"}});\r\n",
       "    apiRequire(['dotnetInteractive'], \r\n",
       "    function(api) {       \r\n",
       "        api.createDotnetInteractiveClient(\"http://localhost:53622/\", window);\r\n",
       "    },\r\n",
       "    function(error){\r\n",
       "        console.log(error);\r\n",
       "    });\r\n",
       "}</script>"
      ]
     },
     "metadata": {},
     "output_type": "display_data"
    },
    {
     "name": "stdout",
     "output_type": "stream",
     "text": [
      "\u001b[97m    ____            __\n",
      "   / __ \\___  _____/ /____  _____\n",
      "  / /_/ / _ \\/ ___/ __/ _ \\/ ___/\n",
      " / ____/  __(__  ) /_/  __/ /\n",
      "/_/    \\___/____/\\__/\\___/_/\n",
      "Pester v4.9.0\n",
      "Executing all tests in 'C:\\Users\\mrrob\\Documents\\PowerShell\\Modules\\dbachecks\\1.2.24\\checks\\Database.Tests.ps1', 'C:\\Users\\mrrob\\Documents\\PowerShell\\Modules\\dbachecks\\1.2.24\\checks\\Instance.Tests.ps1' with Tags DatabaseExists', 'DatabaseStatus', 'DefaultFilePath', 'XpCmdShellDisabled', 'VirtualLogFile', 'TempDbConfiguration', 'MaxMemory', 'ModelDbGrowth', 'LogfileCount', 'LastGoodCheckDb\u001b[0m\n",
      "\u001b[97mTests completed in 18.15s\u001b[0m\n",
      "\u001b[97mTests Passed: 78, \u001b[0m\u001b[91mFailed: 14, \u001b[0m\u001b[93mSkipped: 2, \u001b[0m\u001b[90mPending: 0, \u001b[0m\u001b[90mInconclusive: 0 \u001b[0m\n",
      "\u001b[96m[\u001b[0m\u001b[37m18:35:12\u001b[0m\u001b[96m][\u001b[0m\u001b[37mUpdate-DbcPowerBiDataSource\u001b[0m\u001b[96m] Wrote results to C:\\Windows\\temp\\dbachecks\\dbachecks_1_Default__DatabaseExists_DatabaseStatus_DefaultFilePath_XpCmdShellDisabled.json\u001b[0m\n"
     ]
    }
   ],
   "source": [
    "$FolderPath = $Env:USERPROFILE + '\\Documents\\dbachecks'\r\n",
    "$SqlInstances = 'localhost,15592','localhost,15593'\r\n",
    "$SqlCredential = Import-Clixml -Path $FolderPath\\sqladmin.cred\r\n",
    "$null = Reset-DbcConfig\r\n",
    "$invokeDbcCheckSplat = @{\r\n",
    "    Check = 'DatabaseExists', 'DatabaseStatus', 'DefaultFilePath', 'XpCmdShellDisabled', 'VirtualLogFile', 'TempDbConfiguration', 'MaxMemory', 'ModelDbGrowth', 'LogfileCount', 'LastGoodCheckDb'\r\n",
    "    SqlInstance = $SqlInstances\r\n",
    "    SqlCredential = $SqlCredential\r\n",
    "    Show = 'Summary'\r\n",
    "}\r\n",
    "\r\n",
    "Invoke-DbcCheck @invokeDbcCheckSplat -PassThru | Update-DbcPowerBiDataSource"
   ]
  },
  {
   "cell_type": "markdown",
   "metadata": {
    "azdata_cell_guid": "099867c5-7f64-48ea-9338-b1ddb21bfbe6"
   },
   "source": [
    "You will also notice that for the Show Parameter, we have used `Summary` this will only display the summary and not any of the check results.\r\n",
    "\r\n",
    "The output will also show that the file that has been created is located in the windows temp directory. This is where the includd Power Bi expects to find the files. You can open the Power Bi file using `Start-DbcPowerBi`"
   ]
  },
  {
   "cell_type": "code",
   "execution_count": 2,
   "metadata": {
    "azdata_cell_guid": "4953cb1b-68a8-4376-9f7b-6ccf3ac12795"
   },
   "outputs": [
    {
     "name": "stdout",
     "output_type": "stream",
     "text": [
      "\u001b[96m[\u001b[0m\u001b[37m18:35:17\u001b[0m\u001b[96m][\u001b[0m\u001b[37mStart-DbcPowerBi\u001b[0m\u001b[96m] Launching the dbachecks dashboard. This may take a moment.\u001b[0m\n"
     ]
    }
   ],
   "source": [
    "Start-DbcPowerBi"
   ]
  },
  {
   "cell_type": "markdown",
   "metadata": {
    "azdata_cell_guid": "74c627b6-c214-4d75-bea9-c50a16bff926"
   },
   "source": [
    "This will look ***exactly*** like this.\n",
    "\n",
    "![First Power Bi](.\\images\\firstpowerbi.png )\n",
    "\n",
    "This is the default view and to view your results you will need to refresh the data.\n",
    "\n",
    "![Refresh Power Bi](.\\images\\RefreshPowerBi.gif )\n",
    "\n"
   ]
  },
  {
   "cell_type": "markdown",
   "metadata": {
    "azdata_cell_guid": "563c48bf-a8da-4509-9d6d-66b55b8b1d76"
   },
   "source": [
    "# Combining Results\r\n",
    "\r\n",
    "Now the power of dbachecks is really released. You can create configurations for different types of checks, load the configuration, run the checks and then save ready for the Power Bi. Using the `-Environment` parameter of `Update-DbcPowerBiDataSource` you can enable filtering by the different sets of checks.\r\n",
    "\r\n",
    "The code below will use the configuration files created in Notebook 04 so you will need to have run through that notebook prior to running this code."
   ]
  },
  {
   "cell_type": "code",
   "execution_count": 3,
   "metadata": {
    "azdata_cell_guid": "db420b26-042f-44c6-9dcf-de70c29e4315",
    "tags": []
   },
   "outputs": [
    {
     "name": "stdout",
     "output_type": "stream",
     "text": [
      "\u001b[97m    ____            __\n",
      "   / __ \\___  _____/ /____  _____\n",
      "  / /_/ / _ \\/ ___/ __/ _ \\/ ___/\n",
      " / ____/  __(__  ) /_/  __/ /\n",
      "/_/    \\___/____/\\__/\\___/_/\n",
      "Pester v4.9.0\n",
      "Executing all tests in 'C:\\Users\\mrrob\\Documents\\PowerShell\\Modules\\dbachecks\\1.2.24\\checks\\Agent.Tests.ps1', 'C:\\Users\\mrrob\\Documents\\PowerShell\\Modules\\dbachecks\\1.2.24\\checks\\Database.Tests.ps1', 'C:\\Users\\mrrob\\Documents\\PowerShell\\Modules\\dbachecks\\1.2.24\\checks\\Instance.Tests.ps1', 'C:\\Users\\mrrob\\Documents\\PowerShell\\Modules\\dbachecks\\1.2.24\\checks\\Server.Tests.ps1' with Tags InstanceConnection', 'FailedJob', 'LastBackup', 'ErrorLog', 'DiskCapacity', 'MemoryDump', 'LastJobRunTime', 'LongRunningJob', 'LogfileSize', 'FutureFileGrowth\u001b[0m\n",
      "\u001b[97mTests completed in 12.52s\u001b[0m\n",
      "\u001b[97mTests Passed: 56, \u001b[0m\u001b[91mFailed: 22, \u001b[0m\u001b[93mSkipped: 2, \u001b[0m\u001b[90mPending: 0, \u001b[0m\u001b[90mInconclusive: 0 \u001b[0m\n",
      "\u001b[96m[\u001b[0m\u001b[37m18:36:35\u001b[0m\u001b[96m][\u001b[0m\u001b[37mUpdate-DbcPowerBiDataSource\u001b[0m\u001b[96m] Wrote results to C:\\Windows\\temp\\dbachecks\\dbachecks_1_Morning-Checks-Production__InstanceConnection_FailedJob_LastBackup_ErrorLog.json\u001b[0m\n",
      "\u001b[97m    ____            __\n",
      "   / __ \\___  _____/ /____  _____\n",
      "  / /_/ / _ \\/ ___/ __/ _ \\/ ___/\n",
      " / ____/  __(__  ) /_/  __/ /\n",
      "/_/    \\___/____/\\__/\\___/_/\n",
      "Pester v4.9.0\n",
      "Executing all tests in 'C:\\Users\\mrrob\\Documents\\PowerShell\\Modules\\dbachecks\\1.2.24\\checks\\Agent.Tests.ps1', 'C:\\Users\\mrrob\\Documents\\PowerShell\\Modules\\dbachecks\\1.2.24\\checks\\Instance.Tests.ps1' with Tags Instance', 'Agent\u001b[0m\n",
      "\u001b[93mWARNING: You need to use Set-DbcConfig -Name policy.xevent.requiredstoppedsession -Value to add some Extended Events session names to run this check\u001b[0m\n",
      "\u001b[93mWARNING: You need to use Set-DbcConfig -Name policy.xevent.validrunningsession -Value to add some Extended Events session names to run this check\u001b[0m\n",
      "\u001b[93mWARNING: [18:37:01][Get-ComputerName] You must specify -ComputerName or use Set-DbcConfig app.computername to setup a list of servers\u001b[0m\n",
      "\u001b[97mTests completed in 16.79s\u001b[0m\n",
      "\u001b[97mTests Passed: 204, \u001b[0m\u001b[91mFailed: 7, \u001b[0m\u001b[93mSkipped: 10, \u001b[0m\u001b[90mPending: 0, \u001b[0m\u001b[90mInconclusive: 0 \u001b[0m\n",
      "\u001b[96m[\u001b[0m\u001b[37m18:37:01\u001b[0m\u001b[96m][\u001b[0m\u001b[37mUpdate-DbcPowerBiDataSource\u001b[0m\u001b[96m] Wrote results to C:\\Windows\\temp\\dbachecks\\dbachecks_1_New-Instance__Instance_Agent.json\u001b[0m\n",
      "\u001b[97m    ____            __\n",
      "   / __ \\___  _____/ /____  _____\n",
      "  / /_/ / _ \\/ ___/ __/ _ \\/ ___/\n",
      " / ____/  __(__  ) /_/  __/ /\n",
      "/_/    \\___/____/\\__/\\___/_/\n",
      "Pester v4.9.0\n",
      "Executing all tests in 'C:\\Users\\mrrob\\Documents\\PowerShell\\Modules\\dbachecks\\1.2.24\\checks\\Agent.Tests.ps1', 'C:\\Users\\mrrob\\Documents\\PowerShell\\Modules\\dbachecks\\1.2.24\\checks\\Database.Tests.ps1', 'C:\\Users\\mrrob\\Documents\\PowerShell\\Modules\\dbachecks\\1.2.24\\checks\\Instance.Tests.ps1' with Tags Agent', 'Database', 'Instance\u001b[0m\n"
     ]
    },
    {
     "data": {
      "text/plain": []
     },
     "metadata": {},
     "output_type": "display_data"
    },
    {
     "name": "stdout",
     "output_type": "stream",
     "text": [
      "\u001b[93mWARNING: You need to use Set-DbcConfig -Name policy.xevent.requiredstoppedsession -Value to add some Extended Events session names to run this check\u001b[0m\n",
      "\u001b[93mWARNING: You need to use Set-DbcConfig -Name policy.xevent.validrunningsession -Value to add some Extended Events session names to run this check\u001b[0m\n",
      "\u001b[97mTests completed in 56.78s\u001b[0m\n",
      "\u001b[97mTests Passed: 800, \u001b[0m\u001b[91mFailed: 59, \u001b[0m\u001b[93mSkipped: 14, \u001b[0m\u001b[90mPending: 0, \u001b[0m\u001b[90mInconclusive: 0 \u001b[0m\n",
      "\u001b[96m[\u001b[0m\u001b[37m18:38:06\u001b[0m\u001b[96m][\u001b[0m\u001b[37mUpdate-DbcPowerBiDataSource\u001b[0m\u001b[96m] Wrote results to C:\\Windows\\temp\\dbachecks\\dbachecks_1_Weekly-Check__Agent_Database_Instance.json\u001b[0m\n"
     ]
    }
   ],
   "source": [
    "$FolderPath = $Env:USERPROFILE + '\\Documents\\dbachecks'\r\n",
    "$SqlCredential = Import-Clixml -Path $FolderPath\\sqladmin.cred\r\n",
    "# Just in case the config has been altered\r\n",
    "$null = Reset-DbcConfig\r\n",
    "$null = Import-DbcConfig -Path $FolderPath\\Morning-Checks-Production.json \r\n",
    "$invokeDbcCheckSplat = @{\r\n",
    "    SqlCredential = $SqlCredential\r\n",
    "    Check = 'InstanceConnection', 'FailedJob', 'LastBackup', 'ErrorLog', 'DiskCapacity', 'MemoryDump', 'LastJobRunTime', 'LongRunningJob', 'LogfileSize', 'FutureFileGrowth'\r\n",
    "    Show = 'Summary'\r\n",
    "}\r\n",
    "Invoke-DbcCheck @invokeDbcCheckSplat -PassThru | Update-DbcPowerBiDataSource -Environment Morning-Checks-Production\r\n",
    "\r\n",
    "\r\n",
    "$null = Reset-DbcConfig\r\n",
    "$null = Import-DbcConfig -Path $FolderPath\\New-Instance.json \r\n",
    "$invokeDbcCheckSplat = @{\r\n",
    "    SqlInstance = 'localhost,15592'\r\n",
    "    SqlCredential = $SqlCredential\r\n",
    "    Check = 'Instance','Agent'\r\n",
    "    Show = 'Summary'\r\n",
    "}\r\n",
    "Invoke-DbcCheck @invokeDbcCheckSplat -PassThru | Update-DbcPowerBiDataSource -Environment New-Instance\r\n",
    "\r\n",
    "$null = Reset-DbcConfig\r\n",
    "$null = Import-DbcConfig -Path $FolderPath\\Weekly-Check.json \r\n",
    "$invokeDbcCheckSplat = @{\r\n",
    "    SqlInstance = 'localhost,15592'\r\n",
    "    SqlCredential = $SqlCredential\r\n",
    "    Check = 'Agent', 'Database','Instance'\r\n",
    "    Show = 'Summary'\r\n",
    "}\r\n",
    "Invoke-DbcCheck @invokeDbcCheckSplat -PassThru | Update-DbcPowerBiDataSource -Environment Weekly-Check"
   ]
  },
  {
   "cell_type": "markdown",
   "metadata": {
    "azdata_cell_guid": "25e75c3c-ebc7-49c4-bd14-0bca715acea6"
   },
   "source": [
    "Now you can open the PowerBi with `Start-DbcPowerBi` and start exploring the results (and fixing the broken things!) \n",
    "\n",
    "[![PowerBi](./images/video.png)](https://www.youtube.com/watch?v=W7LRl2zKbzs)\n",
    "\n",
    "Clicking the image will open the video in YouTube\n",
    "\n",
    "If you have Power Bi open you can just refresh the data source to see the new data"
   ]
  },
  {
   "cell_type": "code",
   "execution_count": 1,
   "metadata": {
    "azdata_cell_guid": "c4d8e1f7-37dc-47ad-966d-75cd8e30a0e9"
   },
   "outputs": [
    {
     "name": "stdout",
     "output_type": "stream",
     "text": [
      "[09:12:12][Start-DbcPowerBi] Launching the dbachecks dashboard. This may take a moment.\n"
     ]
    }
   ],
   "source": [
    "Start-DbcPowerBi"
   ]
  },
  {
   "cell_type": "code",
   "execution_count": 1,
   "metadata": {
    "azdata_cell_guid": "1b8f42ff-3e10-4281-8bf9-74543ac0328c"
   },
   "outputs": [
    {
     "name": "stdout",
     "output_type": "stream",
     "text": [
      "\n",
      "ModuleBase                                                 \n",
      "----------                                                 \n",
      "C:\\Program Files\\WindowsPowerShell\\Modules\\dbachecks\\1.2.24\n",
      "C:\\Program Files\\WindowsPowerShell\\Modules\\dbachecks\\1.2.15\n",
      "\n",
      "\n"
     ]
    }
   ],
   "source": [
    "Get-Module dbachecks -ListAvailable| Select ModuleBase"
   ]
  }
 ],
 "metadata": {
  "kernelspec": {
   "display_name": ".NET (PowerShell)",
   "language": "PowerShell",
   "name": ".net-powershell"
  },
  "language_info": {
   "file_extension": ".ps1",
   "mimetype": "text/x-powershell",
   "name": "PowerShell",
   "pygments_lexer": "powershell",
   "version": "7.0"
  }
 },
 "nbformat": 4,
 "nbformat_minor": 4
}
