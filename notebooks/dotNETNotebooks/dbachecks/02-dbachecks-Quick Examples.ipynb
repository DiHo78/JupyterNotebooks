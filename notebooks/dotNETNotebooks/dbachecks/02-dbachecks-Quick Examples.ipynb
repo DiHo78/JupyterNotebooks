{
    "metadata": {
        "kernelspec": {
            "name": ".net-powershell",
            "display_name": ".NET (PowerShell)"
        },
        "language_info": {
            "name": "PowerShell",
            "version": "7.0",
            "mimetype": "text/x-powershell",
            "file_extension": ".ps1",
            "pygments_lexer": "powershell"
        }
    },
    "nbformat_minor": 2,
    "nbformat": 4,
    "cells": [
        {
            "cell_type": "markdown",
            "source": [
                "![First Power Bi](.\\images\\dbachecks-logo.png )\r\n",
                "# dbachecks\r\n",
                "\r\n",
                "## Installation \r\n",
                "\r\n",
                "Take a look at the installation guidelines here [Intro](./01-dbachecks-Intro.ipyLets set some variaailable"
            ],
            "metadata": {
                "azdata_cell_guid": "ae946c13-04d8-4845-8528-907c84d1555c",
                "tags": [
                    "hide_input"
                ]
            }
        },
        {
            "cell_type": "code",
            "source": [
                "$FolderPath = $Env:USERPROFILE + '\\Documents\\dbachecks'\n",
                "$SqlInstances = $Sql1,$SQL2 = 'localhost,15592','localhost,15593'\n",
                "$SqlCredential = Import-Clixml -Path $FolderPath\\sqladmin.cred"
            ],
            "metadata": {
                "azdata_cell_guid": "f63e45e8-13af-4bbf-91d2-e5f1ed9d9ed7"
            },
            "outputs": [],
            "execution_count": 2
        },
        {
            "cell_type": "markdown",
            "source": [
                "Lets Check if you have the dbachecks module available"
            ],
            "metadata": {
                "azdata_cell_guid": "9200e81e-1b1c-477f-ba57-a1a8b405c55b"
            }
        },
        {
            "cell_type": "code",
            "source": [
                "Get-Module dbachecks -ListAvailable"
            ],
            "metadata": {
                "azdata_cell_guid": "3627b53c-63a5-4e21-9a2d-96b1a092c913",
                "tags": [
                    "hide_input"
                ]
            },
            "outputs": [
                {
                    "name": "stdout",
                    "text": "\r\n",
                    "output_type": "stream"
                },
                {
                    "name": "stdout",
                    "text": "\r\n",
                    "output_type": "stream"
                },
                {
                    "name": "stdout",
                    "text": "    Directory: C:\\Users\\mrrob\\OneDrive\\Documents\\PowerShell\\Modules\r\n",
                    "output_type": "stream"
                },
                {
                    "name": "stdout",
                    "text": "\r\n",
                    "output_type": "stream"
                },
                {
                    "name": "stdout",
                    "text": "ModuleType Version    PreRelease Name                                PSEdition ExportedCommands\r\n",
                    "output_type": "stream"
                },
                {
                    "name": "stdout",
                    "text": "---------- -------    ---------- ----                                --------- ----------------\r\n",
                    "output_type": "stream"
                },
                {
                    "name": "stdout",
                    "text": "Script     2.0.4                 dbachecks                           Core,Desk {Get-DbcConfig, Get…\r\n",
                    "output_type": "stream"
                },
                {
                    "name": "stdout",
                    "text": "Script     2.0.3                 dbachecks                           Core,Desk {Get-DbcConfig, Get…\r\n",
                    "output_type": "stream"
                },
                {
                    "name": "stdout",
                    "text": "\r\n",
                    "output_type": "stream"
                }
            ],
            "execution_count": 3
        },
        {
            "cell_type": "markdown",
            "source": [
                "## Examine the available commands\r\n",
                "\r\n",
                "You can look at the commands in the dbachecks module"
            ],
            "metadata": {
                "azdata_cell_guid": "1ae003f9-d98a-43f0-b0b3-bf6b0736c147",
                "tags": [
                    "hide_input"
                ]
            }
        },
        {
            "cell_type": "code",
            "source": [
                "Get-Command -Module dbachecks"
            ],
            "metadata": {
                "azdata_cell_guid": "2718f60b-6ba6-4887-a886-10d52cd0228a",
                "tags": [
                    "hide_input"
                ]
            },
            "outputs": [
                {
                    "name": "stdout",
                    "text": "\r\n",
                    "output_type": "stream"
                },
                {
                    "name": "stdout",
                    "text": "CommandType     Name                                               Version    Source\r\n",
                    "output_type": "stream"
                },
                {
                    "name": "stdout",
                    "text": "-----------     ----                                               -------    ------\r\n",
                    "output_type": "stream"
                },
                {
                    "name": "stdout",
                    "text": "Alias           Update-Dbachecks                                   2.0.4      dbachecks\r\n",
                    "output_type": "stream"
                },
                {
                    "name": "stdout",
                    "text": "Function        Clear-DbcPowerBiDataSource                         2.0.4      dbachecks\r\n",
                    "output_type": "stream"
                },
                {
                    "name": "stdout",
                    "text": "Function        Convert-DbcResult                                  2.0.4      dbachecks\r\n",
                    "output_type": "stream"
                },
                {
                    "name": "stdout",
                    "text": "Function        Export-DbcConfig                                   2.0.4      dbachecks\r\n",
                    "output_type": "stream"
                },
                {
                    "name": "stdout",
                    "text": "Function        Get-DbcCheck                                       2.0.4      dbachecks\r\n",
                    "output_type": "stream"
                },
                {
                    "name": "stdout",
                    "text": "Function        Get-DbcConfig                                      2.0.4      dbachecks\r\n",
                    "output_type": "stream"
                },
                {
                    "name": "stdout",
                    "text": "Function        Get-DbcConfigValue                                 2.0.4      dbachecks\r\n",
                    "output_type": "stream"
                },
                {
                    "name": "stdout",
                    "text": "Function        Get-DbcReleaseNote                                 2.0.4      dbachecks\r\n",
                    "output_type": "stream"
                },
                {
                    "name": "stdout",
                    "text": "Function        Get-DbcTagCollection                               2.0.4      dbachecks\r\n",
                    "output_type": "stream"
                },
                {
                    "name": "stdout",
                    "text": "Function        Import-DbcConfig                                   2.0.4      dbachecks\r\n",
                    "output_type": "stream"
                },
                {
                    "name": "stdout",
                    "text": "Function        Invoke-DbcCheck                                    2.0.4      dbachecks\r\n",
                    "output_type": "stream"
                },
                {
                    "name": "stdout",
                    "text": "Function        Invoke-DbcConfigFile                               2.0.4      dbachecks\r\n",
                    "output_type": "stream"
                },
                {
                    "name": "stdout",
                    "text": "Function        Reset-DbcConfig                                    2.0.4      dbachecks\r\n",
                    "output_type": "stream"
                },
                {
                    "name": "stdout",
                    "text": "Function        Save-DbcRequiredModules                            2.0.4      dbachecks\r\n",
                    "output_type": "stream"
                },
                {
                    "name": "stdout",
                    "text": "Function        Set-DbcConfig                                      2.0.4      dbachecks\r\n",
                    "output_type": "stream"
                },
                {
                    "name": "stdout",
                    "text": "Function        Set-DbcFile                                        2.0.4      dbachecks\r\n",
                    "output_type": "stream"
                },
                {
                    "name": "stdout",
                    "text": "Function        Start-DbcPowerBi                                   2.0.4      dbachecks\r\n",
                    "output_type": "stream"
                },
                {
                    "name": "stdout",
                    "text": "Function        Update-DbcPowerBiDataSource                        2.0.4      dbachecks\r\n",
                    "output_type": "stream"
                },
                {
                    "name": "stdout",
                    "text": "Function        Update-DbcRequiredModules                          2.0.4      dbachecks\r\n",
                    "output_type": "stream"
                },
                {
                    "name": "stdout",
                    "text": "Function        Write-DbcTable                                     2.0.4      dbachecks\r\n",
                    "output_type": "stream"
                },
                {
                    "name": "stdout",
                    "text": "\r\n",
                    "output_type": "stream"
                }
            ],
            "execution_count": 4
        },
        {
            "cell_type": "markdown",
            "source": [
                "# All of the checks\r\n",
                "\r\n",
                "You can see all of the checks using `Get-DbcCheck` \r\n"
            ],
            "metadata": {
                "azdata_cell_guid": "2a6fc094-c131-49af-a96e-4f432737bec2"
            }
        },
        {
            "cell_type": "code",
            "source": [
                "Get-DbcCheck"
            ],
            "metadata": {
                "azdata_cell_guid": "76ce1266-5da6-4999-9fae-5d236fc2e810"
            },
            "outputs": [
                {
                    "name": "stdout",
                    "text": "\r\n",
                    "output_type": "stream"
                },
                {
                    "name": "stdout",
                    "text": "Group               Type         UniqueTag                          AllTags\r\n",
                    "output_type": "stream"
                },
                {
                    "name": "stdout",
                    "text": "-----               ----         ---------                          -------                        \r\n",
                    "output_type": "stream"
                },
                {
                    "name": "stdout",
                    "text": "Agent               Sqlinstance  DatabaseMailEnabled                DatabaseMailEnabled, CIS, secu…\r\n",
                    "output_type": "stream"
                },
                {
                    "name": "stdout",
                    "text": "Agent               Sqlinstance  AgentServiceAccount                AgentServiceAccount, ServiceAc…\r\n",
                    "output_type": "stream"
                },
                {
                    "name": "stdout",
                    "text": "Agent               Sqlinstance  DbaOperator                        DbaOperator, Operator, Agent   \r\n",
                    "output_type": "stream"
                },
                {
                    "name": "stdout",
                    "text": "Agent               Sqlinstance  FailsafeOperator                   FailsafeOperator, Operator, Ag…\r\n",
                    "output_type": "stream"
                },
                {
                    "name": "stdout",
                    "text": "Agent               Sqlinstance  DatabaseMailProfile                DatabaseMailProfile, Agent     \r\n",
                    "output_type": "stream"
                },
                {
                    "name": "stdout",
                    "text": "Agent               Sqlinstance  FailedJob                          FailedJob, Agent               \r\n",
                    "output_type": "stream"
                },
                {
                    "name": "stdout",
                    "text": "Agent               Sqlinstance  ValidJobOwner                      ValidJobOwner, Agent           \r\n",
                    "output_type": "stream"
                },
                {
                    "name": "stdout",
                    "text": "Agent               Sqlinstance  AgentAlert                         AgentAlert, Agent              \r\n",
                    "output_type": "stream"
                },
                {
                    "name": "stdout",
                    "text": "Agent               Sqlinstance  JobHistory                         JobHistory, Agent              \r\n",
                    "output_type": "stream"
                },
                {
                    "name": "stdout",
                    "text": "Agent               Sqlinstance  LongRunningJob                     LongRunningJob, Agent          \r\n",
                    "output_type": "stream"
                },
                {
                    "name": "stdout",
                    "text": "Agent               Sqlinstance  LastJobRunTime                     LastJobRunTime, Agent          \r\n",
                    "output_type": "stream"
                },
                {
                    "name": "stdout",
                    "text": "Database            Sqlinstance  DatabaseCollation                  DatabaseCollation, High, Datab…\r\n",
                    "output_type": "stream"
                },
                {
                    "name": "stdout",
                    "text": "Database            Sqlinstance  SuspectPage                        SuspectPage, High, Database    \r\n",
                    "output_type": "stream"
                },
                {
                    "name": "stdout",
                    "text": "Database            Sqlinstance  TestLastBackup                     TestLastBackup, Backup, Databa…\r\n",
                    "output_type": "stream"
                },
                {
                    "name": "stdout",
                    "text": "Database            Sqlinstance  TestLastBackupVerifyOnly           TestLastBackupVerifyOnly, Back…\r\n",
                    "output_type": "stream"
                },
                {
                    "name": "stdout",
                    "text": "Database            Sqlinstance  ValidDatabaseOwner                 ValidDatabaseOwner, Medium, Da…\r\n",
                    "output_type": "stream"
                },
                {
                    "name": "stdout",
                    "text": "Database            Sqlinstance  InvalidDatabaseOwner               InvalidDatabaseOwner, Medium, …\r\n",
                    "output_type": "stream"
                },
                {
                    "name": "stdout",
                    "text": "Database            Sqlinstance  LastGoodCheckDb                    LastGoodCheckDb, Varied, Datab…\r\n",
                    "output_type": "stream"
                },
                {
                    "name": "stdout",
                    "text": "Database            Sqlinstance  IdentityUsage                      IdentityUsage, Medium, Database\r\n",
                    "output_type": "stream"
                },
                {
                    "name": "stdout",
                    "text": "Database            Sqlinstance  RecoveryModel                      RecoveryModel, DISA, Medium, D…\r\n",
                    "output_type": "stream"
                },
                {
                    "name": "stdout",
                    "text": "Database            Sqlinstance  DuplicateIndex                     DuplicateIndex, Database       \r\n",
                    "output_type": "stream"
                },
                {
                    "name": "stdout",
                    "text": "Database            Sqlinstance  UnusedIndex                        UnusedIndex, Medium, Database  \r\n",
                    "output_type": "stream"
                },
                {
                    "name": "stdout",
                    "text": "Database            Sqlinstance  DisabledIndex                      DisabledIndex, Medium, Database\r\n",
                    "output_type": "stream"
                },
                {
                    "name": "stdout",
                    "text": "Database            Sqlinstance  DatabaseGrowthEvent                DatabaseGrowthEvent, Low, Data…\r\n",
                    "output_type": "stream"
                },
                {
                    "name": "stdout",
                    "text": "Database            Sqlinstance  PageVerify                         PageVerify, Medium, Database   \r\n",
                    "output_type": "stream"
                },
                {
                    "name": "stdout",
                    "text": "Database            Sqlinstance  AutoClose                          AutoClose, High, Database      \r\n",
                    "output_type": "stream"
                },
                {
                    "name": "stdout",
                    "text": "Database            Sqlinstance  AutoShrink                         AutoShrink, High, Database     \r\n",
                    "output_type": "stream"
                },
                {
                    "name": "stdout",
                    "text": "Database            Sqlinstance  LastFullBackup                     LastFullBackup, LastBackup, Ba…\r\n",
                    "output_type": "stream"
                },
                {
                    "name": "stdout",
                    "text": "Database            Sqlinstance  LastDiffBackup                     LastDiffBackup, LastBackup, Ba…\r\n",
                    "output_type": "stream"
                },
                {
                    "name": "stdout",
                    "text": "Database            Sqlinstance  LastLogBackup                      LastLogBackup, LastBackup, Bac…\r\n",
                    "output_type": "stream"
                },
                {
                    "name": "stdout",
                    "text": "Database            Sqlinstance  VirtualLogFile                     VirtualLogFile, Medium, Databa…\r\n",
                    "output_type": "stream"
                },
                {
                    "name": "stdout",
                    "text": "Database            Sqlinstance  LogfileCount                       LogfileCount, Medium, Database \r\n",
                    "output_type": "stream"
                },
                {
                    "name": "stdout",
                    "text": "Database            Sqlinstance  LogfileSize                        LogfileSize, Medium, Database  \r\n",
                    "output_type": "stream"
                },
                {
                    "name": "stdout",
                    "text": "Database            Sqlinstance  FutureFileGrowth                   FutureFileGrowth, Low, Database\r\n",
                    "output_type": "stream"
                },
                {
                    "name": "stdout",
                    "text": "Database            Sqlinstance  FileGroupBalanced                  FileGroupBalanced, Medium, Dat…\r\n",
                    "output_type": "stream"
                },
                {
                    "name": "stdout",
                    "text": "Database            Sqlinstance  CertificateExpiration              CertificateExpiration, High, D…\r\n",
                    "output_type": "stream"
                },
                {
                    "name": "stdout",
                    "text": "Database            Sqlinstance  AutoCreateStatistics               AutoCreateStatistics, Low, Dat…\r\n",
                    "output_type": "stream"
                },
                {
                    "name": "stdout",
                    "text": "Database            Sqlinstance  AutoUpdateStatistics               AutoUpdateStatistics, Low, Dat…\r\n",
                    "output_type": "stream"
                },
                {
                    "name": "stdout",
                    "text": "Database            Sqlinstance  AutoUpdateStatisticsAsynchronously AutoUpdateStatisticsAsynchrono…\r\n",
                    "output_type": "stream"
                },
                {
                    "name": "stdout",
                    "text": "Database            Sqlinstance  DatafileAutoGrowthType             DatafileAutoGrowthType, Low, D…\r\n",
                    "output_type": "stream"
                },
                {
                    "name": "stdout",
                    "text": "Database            Sqlinstance  Trustworthy                        Trustworthy, DISA, Varied, CIS…\r\n",
                    "output_type": "stream"
                },
                {
                    "name": "stdout",
                    "text": "Database            Sqlinstance  OrphanedUser                       OrphanedUser, CIS, Medium, Dat…\r\n",
                    "output_type": "stream"
                },
                {
                    "name": "stdout",
                    "text": "Database            Sqlinstance  PseudoSimple                       PseudoSimple, Medium, Database \r\n",
                    "output_type": "stream"
                },
                {
                    "name": "stdout",
                    "text": "Database            Sqlinstance  CompatibilityLevel                 CompatibilityLevel, High, Data…\r\n",
                    "output_type": "stream"
                },
                {
                    "name": "stdout",
                    "text": "Database            Sqlinstance  FKCKTrusted                        FKCKTrusted, Low, Database     \r\n",
                    "output_type": "stream"
                },
                {
                    "name": "stdout",
                    "text": "Database            Sqlinstance  MaxDopDatabase                     MaxDopDatabase, MaxDop, Low, D…\r\n",
                    "output_type": "stream"
                },
                {
                    "name": "stdout",
                    "text": "Database            Sqlinstance  DatabaseStatus                     DatabaseStatus, High, Database \r\n",
                    "output_type": "stream"
                },
                {
                    "name": "stdout",
                    "text": "Database            Sqlinstance  DatabaseExists                     DatabaseExists, Database       \r\n",
                    "output_type": "stream"
                },
                {
                    "name": "stdout",
                    "text": "Database            Sqlinstance  ContainedDBAutoClose               ContainedDBAutoClose, CIS, Dat…\r\n",
                    "output_type": "stream"
                },
                {
                    "name": "stdout",
                    "text": "Database            Sqlinstance  CLRAssembliesSafe                  CLRAssembliesSafe, CIS, Databa…\r\n",
                    "output_type": "stream"
                },
                {
                    "name": "stdout",
                    "text": "Database            Sqlinstance  GuestUserConnect                   GuestUserConnect, Security, CI…\r\n",
                    "output_type": "stream"
                },
                {
                    "name": "stdout",
                    "text": "Database            Sqlinstance  AsymmetricKeySize                  AsymmetricKeySize, CIS, Databa…\r\n",
                    "output_type": "stream"
                },
                {
                    "name": "stdout",
                    "text": "Database            Sqlinstance  SymmetricKeyEncryptionLevel        SymmetricKeyEncryptionLevel, C…\r\n",
                    "output_type": "stream"
                },
                {
                    "name": "stdout",
                    "text": "Database            Sqlinstance  ContainedDBSQLAuth                 ContainedDBSQLAuth, CIS, Datab…\r\n",
                    "output_type": "stream"
                },
                {
                    "name": "stdout",
                    "text": "Database            Sqlinstance  QueryStoreEnabled                  QueryStoreEnabled, Medium, Dat…\r\n",
                    "output_type": "stream"
                },
                {
                    "name": "stdout",
                    "text": "Database            Sqlinstance  QueryStoreDisabled                 QueryStoreDisabled, Medium, Da…\r\n",
                    "output_type": "stream"
                },
                {
                    "name": "stdout",
                    "text": "Domain              ComputerName DomainName                         DomainName, Domain             \r\n",
                    "output_type": "stream"
                },
                {
                    "name": "stdout",
                    "text": "Domain              ComputerName OrganizationalUnit                 OrganizationalUnit, Domain     \r\n",
                    "output_type": "stream"
                },
                {
                    "name": "stdout",
                    "text": "HADR                ClusterNode  ClusterHealth                      ClusterHealth, HADR            \r\n",
                    "output_type": "stream"
                },
                {
                    "name": "stdout",
                    "text": "Instance            Sqlinstance  InstanceConnection                 InstanceConnection, Connectivi…\r\n",
                    "output_type": "stream"
                },
                {
                    "name": "stdout",
                    "text": "Instance            Sqlinstance  SqlEngineServiceAccount            SqlEngineServiceAccount, Servi…\r\n",
                    "output_type": "stream"
                },
                {
                    "name": "stdout",
                    "text": "Instance            Sqlinstance  TempDbConfiguration                TempDbConfiguration, Medium, I…\r\n",
                    "output_type": "stream"
                },
                {
                    "name": "stdout",
                    "text": "Instance            Sqlinstance  AdHocWorkload                      AdHocWorkload, Medium, Instance\r\n",
                    "output_type": "stream"
                },
                {
                    "name": "stdout",
                    "text": "Instance            Sqlinstance  BackupPathAccess                   BackupPathAccess, Storage, DIS…\r\n",
                    "output_type": "stream"
                },
                {
                    "name": "stdout",
                    "text": "Instance            Sqlinstance  DefaultFilePath                    DefaultFilePath, Instance      \r\n",
                    "output_type": "stream"
                },
                {
                    "name": "stdout",
                    "text": "Instance            Sqlinstance  DAC                                DAC, CIS, Low, Instance        \r\n",
                    "output_type": "stream"
                },
                {
                    "name": "stdout",
                    "text": "Instance            Sqlinstance  NetworkLatency                     NetworkLatency, Connectivity, …\r\n",
                    "output_type": "stream"
                },
                {
                    "name": "stdout",
                    "text": "Instance            Sqlinstance  LinkedServerConnection             LinkedServerConnection, Connec…\r\n",
                    "output_type": "stream"
                },
                {
                    "name": "stdout",
                    "text": "Instance            Sqlinstance  MaxMemory                          MaxMemory, High, Instance      \r\n",
                    "output_type": "stream"
                },
                {
                    "name": "stdout",
                    "text": "Instance            Sqlinstance  OrphanedFile                       OrphanedFile, Low, Instance    \r\n",
                    "output_type": "stream"
                },
                {
                    "name": "stdout",
                    "text": "Instance            Sqlinstance  ServerNameMatch                    ServerNameMatch, Medium, Insta…\r\n",
                    "output_type": "stream"
                },
                {
                    "name": "stdout",
                    "text": "Instance            Sqlinstance  MemoryDump                         MemoryDump, Medium, Instance   \r\n",
                    "output_type": "stream"
                },
                {
                    "name": "stdout",
                    "text": "Instance            Sqlinstance  SupportedBuild                     SupportedBuild, DISA, High, In…\r\n",
                    "output_type": "stream"
                },
                {
                    "name": "stdout",
                    "text": "Instance            Sqlinstance  SaRenamed                          SaRenamed, DISA, CIS, Medium, …\r\n",
                    "output_type": "stream"
                },
                {
                    "name": "stdout",
                    "text": "Instance            Sqlinstance  SaDisabled                         SaDisabled, DISA, CIS, Medium,…\r\n",
                    "output_type": "stream"
                },
                {
                    "name": "stdout",
                    "text": "Instance            Sqlinstance  SaExist                            SaExist, CIS, Medium, Instance \r\n",
                    "output_type": "stream"
                },
                {
                    "name": "stdout",
                    "text": "Instance            Sqlinstance  DefaultBackupCompression           DefaultBackupCompression, Low,…\r\n",
                    "output_type": "stream"
                },
                {
                    "name": "stdout",
                    "text": "Instance            Sqlinstance  XESessionStopped                   XESessionStopped, ExtendedEven…\r\n",
                    "output_type": "stream"
                },
                {
                    "name": "stdout",
                    "text": "Instance            Sqlinstance  XESessionRunning                   XESessionRunning, ExtendedEven…\r\n",
                    "output_type": "stream"
                },
                {
                    "name": "stdout",
                    "text": "Instance            Sqlinstance  XESessionRunningAllowed            XESessionRunningAllowed, Exten…\r\n",
                    "output_type": "stream"
                },
                {
                    "name": "stdout",
                    "text": "Instance            Sqlinstance  OLEAutomation                      OLEAutomation, security, CIS, …\r\n",
                    "output_type": "stream"
                },
                {
                    "name": "stdout",
                    "text": "Instance            Sqlinstance  WhoIsActiveInstalled               WhoIsActiveInstalled, Low, Ins…\r\n",
                    "output_type": "stream"
                },
                {
                    "name": "stdout",
                    "text": "Instance            Sqlinstance  ModelDbGrowth                      ModelDbGrowth, Low, Instance   \r\n",
                    "output_type": "stream"
                },
                {
                    "name": "stdout",
                    "text": "Instance            Sqlinstance  ADUser                             ADUser, Domain, High, Instance \r\n",
                    "output_type": "stream"
                },
                {
                    "name": "stdout",
                    "text": "Instance            Sqlinstance  ErrorLog                           ErrorLog, Medium, Instance     \r\n",
                    "output_type": "stream"
                },
                {
                    "name": "stdout",
                    "text": "Instance            Sqlinstance  ErrorLogCount                      ErrorLogCount, CIS, Low, Insta…\r\n",
                    "output_type": "stream"
                },
                {
                    "name": "stdout",
                    "text": "Instance            Sqlinstance  MaxDopInstance                     MaxDopInstance, MaxDop, Medium…\r\n",
                    "output_type": "stream"
                },
                {
                    "name": "stdout",
                    "text": "Instance            Sqlinstance  TwoDigitYearCutoff                 TwoDigitYearCutoff, Low, Insta…\r\n",
                    "output_type": "stream"
                },
                {
                    "name": "stdout",
                    "text": "Instance            Sqlinstance  TraceFlagsExpected                 TraceFlagsExpected, TraceFlag,…\r\n",
                    "output_type": "stream"
                },
                {
                    "name": "stdout",
                    "text": "Instance            Sqlinstance  TraceFlagsNotExpected              TraceFlagsNotExpected, TraceFl…\r\n",
                    "output_type": "stream"
                },
                {
                    "name": "stdout",
                    "text": "Instance            Sqlinstance  CLREnabled                         CLREnabled, security, CIS, Hig…\r\n",
                    "output_type": "stream"
                },
                {
                    "name": "stdout",
                    "text": "Instance            Sqlinstance  CrossDBOwnershipChaining           CrossDBOwnershipChaining, secu…\r\n",
                    "output_type": "stream"
                },
                {
                    "name": "stdout",
                    "text": "Instance            Sqlinstance  AdHocDistributedQueriesEnabled     AdHocDistributedQueriesEnabled…\r\n",
                    "output_type": "stream"
                },
                {
                    "name": "stdout",
                    "text": "Instance            Sqlinstance  XpCmdShellDisabled                 XpCmdShellDisabled, security, …\r\n",
                    "output_type": "stream"
                },
                {
                    "name": "stdout",
                    "text": "Instance            Sqlinstance  ScanForStartupProceduresDisabled   ScanForStartupProceduresDisabl…\r\n",
                    "output_type": "stream"
                },
                {
                    "name": "stdout",
                    "text": "Instance            Sqlinstance  DefaultTrace                       DefaultTrace, CIS, Low, Instan…\r\n",
                    "output_type": "stream"
                },
                {
                    "name": "stdout",
                    "text": "Instance            Sqlinstance  OLEAutomationProceduresDisabled    OLEAutomationProceduresDisable…\r\n",
                    "output_type": "stream"
                },
                {
                    "name": "stdout",
                    "text": "Instance            Sqlinstance  RemoteAccessDisabled               RemoteAccessDisabled, Security…\r\n",
                    "output_type": "stream"
                },
                {
                    "name": "stdout",
                    "text": "Instance            Sqlinstance  LatestBuild                        LatestBuild, Security, CIS, Me…\r\n",
                    "output_type": "stream"
                },
                {
                    "name": "stdout",
                    "text": "Instance            Sqlinstance  BuiltInAdmin                       BuiltInAdmin, CIS, Medium, Ins…\r\n",
                    "output_type": "stream"
                },
                {
                    "name": "stdout",
                    "text": "Instance            Sqlinstance  LocalWindowsGroup                  LocalWindowsGroup, Security, C…\r\n",
                    "output_type": "stream"
                },
                {
                    "name": "stdout",
                    "text": "Instance            Sqlinstance  LoginAuditFailed                   LoginAuditFailed, Security, CI…\r\n",
                    "output_type": "stream"
                },
                {
                    "name": "stdout",
                    "text": "Instance            Sqlinstance  LoginAuditSuccessful               LoginAuditSuccessful, Security…\r\n",
                    "output_type": "stream"
                },
                {
                    "name": "stdout",
                    "text": "Instance            Sqlinstance  SqlAgentProxiesNoPublicRole        SqlAgentProxiesNoPublicRole, S…\r\n",
                    "output_type": "stream"
                },
                {
                    "name": "stdout",
                    "text": "Instance            Sqlinstance  HideInstance                       HideInstance, Security, CIS, M…\r\n",
                    "output_type": "stream"
                },
                {
                    "name": "stdout",
                    "text": "Instance            Sqlinstance  EngineServiceAdmin                 EngineServiceAdmin, Security, …\r\n",
                    "output_type": "stream"
                },
                {
                    "name": "stdout",
                    "text": "Instance            Sqlinstance  AgentServiceAdmin                  AgentServiceAdmin, Security, C…\r\n",
                    "output_type": "stream"
                },
                {
                    "name": "stdout",
                    "text": "Instance            Sqlinstance  FullTextServiceAdmin               FullTextServiceAdmin, Security…\r\n",
                    "output_type": "stream"
                },
                {
                    "name": "stdout",
                    "text": "Instance            Sqlinstance  LoginCheckPolicy                   LoginCheckPolicy, Security, CI…\r\n",
                    "output_type": "stream"
                },
                {
                    "name": "stdout",
                    "text": "Instance            Sqlinstance  LoginPasswordExpiration            LoginPasswordExpiration, Secur…\r\n",
                    "output_type": "stream"
                },
                {
                    "name": "stdout",
                    "text": "Instance            Sqlinstance  LoginMustChange                    LoginMustChange, Security, CIS…\r\n",
                    "output_type": "stream"
                },
                {
                    "name": "stdout",
                    "text": "Instance            Sqlinstance  SuspectPageLimit                   SuspectPageLimit, Medium, Inst…\r\n",
                    "output_type": "stream"
                },
                {
                    "name": "stdout",
                    "text": "Instance            ComputerName SqlBrowserServiceAccount           SqlBrowserServiceAccount, Serv…\r\n",
                    "output_type": "stream"
                },
                {
                    "name": "stdout",
                    "text": "LogShipping         Sqlinstance  LogShippingPrimary                 LogShippingPrimary, LogShipping\r\n",
                    "output_type": "stream"
                },
                {
                    "name": "stdout",
                    "text": "LogShipping         Sqlinstance  LogShippingSecondary               LogShippingSecondary, LogShipp…\r\n",
                    "output_type": "stream"
                },
                {
                    "name": "stdout",
                    "text": "MaintenanceSolution Sqlinstance  OlaInstalled                       OlaInstalled, MaintenanceSolut…\r\n",
                    "output_type": "stream"
                },
                {
                    "name": "stdout",
                    "text": "MaintenanceSolution Sqlinstance  SystemFull                         SystemFull, OlaJobs, Maintenan…\r\n",
                    "output_type": "stream"
                },
                {
                    "name": "stdout",
                    "text": "MaintenanceSolution Sqlinstance  UserFull                           UserFull, OlaJobs, Maintenance…\r\n",
                    "output_type": "stream"
                },
                {
                    "name": "stdout",
                    "text": "MaintenanceSolution Sqlinstance  UserDiff                           UserDiff, OlaJobs, Maintenance…\r\n",
                    "output_type": "stream"
                },
                {
                    "name": "stdout",
                    "text": "MaintenanceSolution Sqlinstance  UserLog                            UserLog, OlaJobs, MaintenanceS…\r\n",
                    "output_type": "stream"
                },
                {
                    "name": "stdout",
                    "text": "MaintenanceSolution Sqlinstance  CommandLog                         CommandLog, OlaJobs, Maintenan…\r\n",
                    "output_type": "stream"
                },
                {
                    "name": "stdout",
                    "text": "MaintenanceSolution Sqlinstance  SystemIntegrityCheck               SystemIntegrityCheck, OlaJobs,…\r\n",
                    "output_type": "stream"
                },
                {
                    "name": "stdout",
                    "text": "MaintenanceSolution Sqlinstance  UserIntegrityCheck                 UserIntegrityCheck, OlaJobs, M…\r\n",
                    "output_type": "stream"
                },
                {
                    "name": "stdout",
                    "text": "MaintenanceSolution Sqlinstance  UserIndexOptimize                  UserIndexOptimize, OlaJobs, Ma…\r\n",
                    "output_type": "stream"
                },
                {
                    "name": "stdout",
                    "text": "MaintenanceSolution Sqlinstance  OutputFileCleanup                  OutputFileCleanup, OlaJobs, Ma…\r\n",
                    "output_type": "stream"
                },
                {
                    "name": "stdout",
                    "text": "MaintenanceSolution Sqlinstance  DeleteBackupHistory                DeleteBackupHistory, OlaJobs, …\r\n",
                    "output_type": "stream"
                },
                {
                    "name": "stdout",
                    "text": "MaintenanceSolution Sqlinstance  PurgeJobHistory                    PurgeJobHistory, OlaJobs, Main…\r\n",
                    "output_type": "stream"
                },
                {
                    "name": "stdout",
                    "text": "Server              ComputerName PowerPlan                          PowerPlan, Medium, Server      \r\n",
                    "output_type": "stream"
                },
                {
                    "name": "stdout",
                    "text": "Server              ComputerName SPN                                SPN, Server                    \r\n",
                    "output_type": "stream"
                },
                {
                    "name": "stdout",
                    "text": "Server              ComputerName DiskCapacity                       DiskCapacity, Storage, DISA, V…\r\n",
                    "output_type": "stream"
                },
                {
                    "name": "stdout",
                    "text": "Server              ComputerName PingComputer                       PingComputer, Varied, Server   \r\n",
                    "output_type": "stream"
                },
                {
                    "name": "stdout",
                    "text": "Server              ComputerName CPUPrioritisation                  CPUPrioritisation, Medium, Ser…\r\n",
                    "output_type": "stream"
                },
                {
                    "name": "stdout",
                    "text": "Server              ComputerName DiskAllocationUnit                 DiskAllocationUnit, Medium, Se…\r\n",
                    "output_type": "stream"
                },
                {
                    "name": "stdout",
                    "text": "Server              ComputerName NonStandardPort                    NonStandardPort, Medium, CIS, …\r\n",
                    "output_type": "stream"
                },
                {
                    "name": "stdout",
                    "text": "\r\n",
                    "output_type": "stream"
                }
            ],
            "execution_count": 5
        },
        {
            "cell_type": "markdown",
            "source": [
                "## Searching for Checks to run\r\n",
                "\r\n",
                "You can search for checks using `Get-DbcCheck -Pattern SEARCHTERM`"
            ],
            "metadata": {
                "azdata_cell_guid": "f0882807-09b6-4328-8e6e-21fb23d18d33"
            }
        },
        {
            "cell_type": "code",
            "source": [
                "Get-DbcCheck -Pattern backup"
            ],
            "metadata": {
                "azdata_cell_guid": "6868c7fa-7bf5-4721-a211-08eb7343b844"
            },
            "outputs": [],
            "execution_count": null
        },
        {
            "cell_type": "markdown",
            "source": [
                "# Running a Check\r\n",
                "\r\n",
                "This requires that you have the containers set up from the Notebook 00 - Setting up the containers for the rest of the containers.ipynb\r\n",
                "\r\n",
                "If you have altered the folder path you will need to alter it below."
            ],
            "metadata": {
                "azdata_cell_guid": "a6de41f8-f3e3-46d4-8325-c5d0ceb04df4"
            }
        },
        {
            "cell_type": "markdown",
            "source": [
                "Running a check from the command line can be done with\r\n",
                "\r\n",
                "`Invoke-DbcCheck -SqlInstance SQLINSTANCE -Check UNIQUETAG, A TAG, GROUP`\r\n",
                "\r\n",
                "You can run multiple checks with\r\n",
                "\r\n",
                "`Invoke-DbcCheck -SqlInstance SQLINSTANCE -Check Tag,AnotherTag,AnotherTag`"
            ],
            "metadata": {
                "azdata_cell_guid": "2bdc0137-380e-4d98-8c21-65710f7eca4e"
            }
        },
        {
            "cell_type": "code",
            "source": [
                "#$null = Reset-DbcConfig\r\n",
                "Invoke-DbcCheck -SqlInstance $SQL1 -SqlCredential $SqlCredential -Check AutoClose"
            ],
            "metadata": {
                "azdata_cell_guid": "990486fd-573a-4c43-afad-6e65e5b8f4fd"
            },
            "outputs": [
                {
                    "name": "stdout",
                    "text": "\u001b[97mPester v4.10.1\r\nExecuting all tests in 'C:\\Users\\mrrob\\OneDrive\\Documents\\PowerShell\\Modules\\dbachecks\\2.0.4\\checks\\Database.Tests.ps1' with Tags AutoClose\u001b[0m\r\n",
                    "output_type": "stream"
                },
                {
                    "name": "stdout",
                    "text": "\r\n",
                    "output_type": "stream"
                },
                {
                    "name": "stdout",
                    "text": "\u001b[92mExecuting script C:\\Users\\mrrob\\OneDrive\\Documents\\PowerShell\\Modules\\dbachecks\\2.0.4\\checks\\Database.Tests.ps1\u001b[0m\r\n",
                    "output_type": "stream"
                },
                {
                    "name": "stdout",
                    "text": "\r\n",
                    "output_type": "stream"
                },
                {
                    "name": "stdout",
                    "text": "\u001b[92m  Describing Auto Close\u001b[0m\r\n",
                    "output_type": "stream"
                },
                {
                    "name": "stdout",
                    "text": "\r\n",
                    "output_type": "stream"
                },
                {
                    "name": "stdout",
                    "text": "\u001b[92m    Context Testing Auto Close on localhost,15592\u001b[0m\r\n",
                    "output_type": "stream"
                },
                {
                    "name": "stdout",
                    "text": "\u001b[32m      [+] Database AdventureWorks2017 should have Auto Close set to False on localhost,15592\u001b[0m",
                    "output_type": "stream"
                },
                {
                    "name": "stdout",
                    "text": "\u001b[90m 154ms\u001b[0m\r\n",
                    "output_type": "stream"
                },
                {
                    "name": "stdout",
                    "text": "\u001b[32m      [+] Database master should have Auto Close set to False on localhost,15592\u001b[0m",
                    "output_type": "stream"
                },
                {
                    "name": "stdout",
                    "text": "\u001b[90m 30ms\u001b[0m\r\n",
                    "output_type": "stream"
                },
                {
                    "name": "stdout",
                    "text": "\u001b[32m      [+] Database model should have Auto Close set to False on localhost,15592\u001b[0m",
                    "output_type": "stream"
                },
                {
                    "name": "stdout",
                    "text": "\u001b[90m 25ms\u001b[0m\r\n",
                    "output_type": "stream"
                },
                {
                    "name": "stdout",
                    "text": "\u001b[32m      [+] Database msdb should have Auto Close set to False on localhost,15592\u001b[0m",
                    "output_type": "stream"
                },
                {
                    "name": "stdout",
                    "text": "\u001b[90m 23ms\u001b[0m\r\n",
                    "output_type": "stream"
                },
                {
                    "name": "stdout",
                    "text": "\u001b[32m      [+] Database Northwind should have Auto Close set to False on localhost,15592\u001b[0m",
                    "output_type": "stream"
                },
                {
                    "name": "stdout",
                    "text": "\u001b[90m 24ms\u001b[0m\r\n",
                    "output_type": "stream"
                },
                {
                    "name": "stdout",
                    "text": "\u001b[32m      [+] Database pubs should have Auto Close set to False on localhost,15592\u001b[0m",
                    "output_type": "stream"
                },
                {
                    "name": "stdout",
                    "text": "\u001b[90m 25ms\u001b[0m\r\n",
                    "output_type": "stream"
                },
                {
                    "name": "stdout",
                    "text": "\u001b[32m      [+] Database tempdb should have Auto Close set to False on localhost,15592\u001b[0m",
                    "output_type": "stream"
                },
                {
                    "name": "stdout",
                    "text": "\u001b[90m 22ms\u001b[0m\r\n",
                    "output_type": "stream"
                },
                {
                    "name": "stdout",
                    "text": "\u001b[97mTests completed in 1.32s\u001b[0m\r\n",
                    "output_type": "stream"
                },
                {
                    "name": "stdout",
                    "text": "\u001b[32mTests Passed: 7, \u001b[0m",
                    "output_type": "stream"
                },
                {
                    "name": "stdout",
                    "text": "\u001b[90mFailed: 0, \u001b[0m",
                    "output_type": "stream"
                },
                {
                    "name": "stdout",
                    "text": "\u001b[90mSkipped: 0, \u001b[0m",
                    "output_type": "stream"
                },
                {
                    "name": "stdout",
                    "text": "\u001b[90mPending: 0, \u001b[0m",
                    "output_type": "stream"
                },
                {
                    "name": "stdout",
                    "text": "\u001b[90mInconclusive: 0 \u001b[0m\r\n",
                    "output_type": "stream"
                }
            ],
            "execution_count": 6
        },
        {
            "cell_type": "markdown",
            "source": [
                "## Auto-Complete for Checks\r\n",
                "At the command line and in the editor the Checks will auto-complete\r\n",
                "\r\n",
                "Place the cursor a space after the `-Check` and press CTRL + SPACE\r\n",
                "\r\n",
                "`Invoke-DbcCheck -SqlInstance SQL2016N1 -Check `"
            ],
            "metadata": {
                "azdata_cell_guid": "e3eba123-7621-44ee-af57-3b8e95eb46ec"
            }
        },
        {
            "cell_type": "code",
            "source": [
                "\n",
                "Invoke-DbcCheck -SqlInstance $SQL1 -SqlCredential $SqlCredential -Check LogfileSize"
            ],
            "metadata": {
                "azdata_cell_guid": "6bfbde55-35ff-462c-aaa8-0fef795983f3"
            },
            "outputs": [],
            "execution_count": null
        },
        {
            "cell_type": "markdown",
            "source": [
                "# Check Agent Jobs at the command line\r\n",
                "\r\n",
                "Did all of the Agent Jobs succeed ?"
            ],
            "metadata": {
                "azdata_cell_guid": "ace87d71-f023-4181-ba05-4bb5041f542f"
            }
        },
        {
            "cell_type": "code",
            "source": [
                "\n",
                "Invoke-DbcCheck -SqlInstance $SQL1 -SqlCredential $SqlCredential -Check FailedJob"
            ],
            "metadata": {
                "azdata_cell_guid": "a9344196-3a43-4638-8847-0dd3afa429b8",
                "tags": []
            },
            "outputs": [
                {
                    "name": "stdout",
                    "text": "\u001b[97mPester v4.10.1\r\nExecuting all tests in 'C:\\Users\\mrrob\\OneDrive\\Documents\\PowerShell\\Modules\\dbachecks\\2.0.4\\checks\\Agent.Tests.ps1' with Tags FailedJob\u001b[0m\r\n",
                    "output_type": "stream"
                },
                {
                    "name": "stdout",
                    "text": "\r\n",
                    "output_type": "stream"
                },
                {
                    "name": "stdout",
                    "text": "\u001b[92mExecuting script C:\\Users\\mrrob\\OneDrive\\Documents\\PowerShell\\Modules\\dbachecks\\2.0.4\\checks\\Agent.Tests.ps1\u001b[0m\r\n",
                    "output_type": "stream"
                },
                {
                    "name": "stdout",
                    "text": "\r\n",
                    "output_type": "stream"
                },
                {
                    "name": "stdout",
                    "text": "\u001b[92m  Describing Failed Jobs\u001b[0m\r\n",
                    "output_type": "stream"
                },
                {
                    "name": "stdout",
                    "text": "\r\n",
                    "output_type": "stream"
                },
                {
                    "name": "stdout",
                    "text": "\u001b[92m    Context Checking for failed enabled jobs since 07/08/2020 21:32:37 on localhost,15592\u001b[0m\r\n",
                    "output_type": "stream"
                },
                {
                    "name": "stdout",
                    "text": "\u001b[97mTests completed in 832ms\u001b[0m\r\n",
                    "output_type": "stream"
                },
                {
                    "name": "stdout",
                    "text": "\u001b[32mTests Passed: 0, \u001b[0m",
                    "output_type": "stream"
                },
                {
                    "name": "stdout",
                    "text": "\u001b[90mFailed: 0, \u001b[0m",
                    "output_type": "stream"
                },
                {
                    "name": "stdout",
                    "text": "\u001b[90mSkipped: 0, \u001b[0m",
                    "output_type": "stream"
                },
                {
                    "name": "stdout",
                    "text": "\u001b[90mPending: 0, \u001b[0m",
                    "output_type": "stream"
                },
                {
                    "name": "stdout",
                    "text": "\u001b[90mInconclusive: 0 \u001b[0m\r\n",
                    "output_type": "stream"
                }
            ],
            "execution_count": 7
        },
        {
            "cell_type": "markdown",
            "source": [
                "You may have no results because they are no enabled jobs that have run in the last 7 days (depending upon when I last updated the image). Lets run the jobs and see what we get"
            ],
            "metadata": {
                "azdata_cell_guid": "3e5ab98e-4e56-4e7a-8d44-510433db06dd"
            }
        },
        {
            "cell_type": "code",
            "source": [
                "(Get-DbaAgentJob -SqlInstance $SQL1 -SqlCredential $SqlCredential).Start()\r\n",
                "Start-Sleep -Seconds 15\r\n",
                "Invoke-DbcCheck -SqlInstance $SQL1 -SqlCredential $SqlCredential -Check FailedJob"
            ],
            "metadata": {
                "azdata_cell_guid": "79d42ef2-197c-43e7-865e-6cd4ca290b60"
            },
            "outputs": [
                {
                    "name": "stdout",
                    "text": "\u001b[97mPester v4.10.1\r\nExecuting all tests in 'C:\\Users\\mrrob\\OneDrive\\Documents\\PowerShell\\Modules\\dbachecks\\2.0.4\\checks\\Agent.Tests.ps1' with Tags FailedJob\u001b[0m\r\n",
                    "output_type": "stream"
                },
                {
                    "name": "stdout",
                    "text": "\r\n",
                    "output_type": "stream"
                },
                {
                    "name": "stdout",
                    "text": "\u001b[92mExecuting script C:\\Users\\mrrob\\OneDrive\\Documents\\PowerShell\\Modules\\dbachecks\\2.0.4\\checks\\Agent.Tests.ps1\u001b[0m\r\n",
                    "output_type": "stream"
                },
                {
                    "name": "stdout",
                    "text": "\r\n",
                    "output_type": "stream"
                },
                {
                    "name": "stdout",
                    "text": "\u001b[92m  Describing Failed Jobs\u001b[0m\r\n",
                    "output_type": "stream"
                },
                {
                    "name": "stdout",
                    "text": "\r\n",
                    "output_type": "stream"
                },
                {
                    "name": "stdout",
                    "text": "\u001b[92m    Context Checking for failed enabled jobs since 07/08/2020 21:32:58 on localhost,15592\u001b[0m\r\n",
                    "output_type": "stream"
                },
                {
                    "name": "stdout",
                    "text": "\u001b[32m      [+] CommandLog Cleanup's last run outcome is Succeeded on 1b9cb7421f37\u001b[0m",
                    "output_type": "stream"
                },
                {
                    "name": "stdout",
                    "text": "\u001b[90m 10ms\u001b[0m\r\n",
                    "output_type": "stream"
                },
                {
                    "name": "stdout",
                    "text": "\u001b[91m      [-] DatabaseBackup - SYSTEM_DATABASES - FULL's last run outcome is Failed on 1b9cb7421f37\u001b[0m",
                    "output_type": "stream"
                },
                {
                    "name": "stdout",
                    "text": "\u001b[90m 13ms\u001b[0m\r\n",
                    "output_type": "stream"
                },
                {
                    "name": "stdout",
                    "text": "\u001b[91m        Expected 'Succeeded', because All Agent Jobs should have succeed - you need to investigate the failed jobs, but got Failed.\u001b[0m\r\n",
                    "output_type": "stream"
                },
                {
                    "name": "stdout",
                    "text": "\u001b[91m        171:                                         $psitem.LastRunOutcome | Should -Be \"Succeeded\" -Because 'All Agent Jobs should have succeed - you need to investigate the failed jobs'\u001b[0m\r\n",
                    "output_type": "stream"
                },
                {
                    "name": "stdout",
                    "text": "\u001b[91m        at <ScriptBlock>, C:\\Users\\mrrob\\OneDrive\\Documents\\PowerShell\\Modules\\dbachecks\\2.0.4\\checks\\Agent.Tests.ps1: line 171\u001b[0m\r\n",
                    "output_type": "stream"
                },
                {
                    "name": "stdout",
                    "text": "\u001b[91m      [-] DatabaseBackup - USER_DATABASES - DIFF's last run outcome is Failed on 1b9cb7421f37\u001b[0m",
                    "output_type": "stream"
                },
                {
                    "name": "stdout",
                    "text": "\u001b[90m 3ms\u001b[0m\r\n",
                    "output_type": "stream"
                },
                {
                    "name": "stdout",
                    "text": "\u001b[91m        Expected 'Succeeded', because All Agent Jobs should have succeed - you need to investigate the failed jobs, but got Failed.\u001b[0m\r\n",
                    "output_type": "stream"
                },
                {
                    "name": "stdout",
                    "text": "\u001b[91m        171:                                         $psitem.LastRunOutcome | Should -Be \"Succeeded\" -Because 'All Agent Jobs should have succeed - you need to investigate the failed jobs'\u001b[0m\r\n",
                    "output_type": "stream"
                },
                {
                    "name": "stdout",
                    "text": "\u001b[91m        at <ScriptBlock>, C:\\Users\\mrrob\\OneDrive\\Documents\\PowerShell\\Modules\\dbachecks\\2.0.4\\checks\\Agent.Tests.ps1: line 171\u001b[0m\r\n",
                    "output_type": "stream"
                },
                {
                    "name": "stdout",
                    "text": "\u001b[91m      [-] DatabaseBackup - USER_DATABASES - FULL's last run outcome is Failed on 1b9cb7421f37\u001b[0m",
                    "output_type": "stream"
                },
                {
                    "name": "stdout",
                    "text": "\u001b[90m 3ms\u001b[0m\r\n",
                    "output_type": "stream"
                },
                {
                    "name": "stdout",
                    "text": "\u001b[91m        Expected 'Succeeded', because All Agent Jobs should have succeed - you need to investigate the failed jobs, but got Failed.\u001b[0m\r\n",
                    "output_type": "stream"
                },
                {
                    "name": "stdout",
                    "text": "\u001b[91m        171:                                         $psitem.LastRunOutcome | Should -Be \"Succeeded\" -Because 'All Agent Jobs should have succeed - you need to investigate the failed jobs'\u001b[0m\r\n",
                    "output_type": "stream"
                },
                {
                    "name": "stdout",
                    "text": "\u001b[91m        at <ScriptBlock>, C:\\Users\\mrrob\\OneDrive\\Documents\\PowerShell\\Modules\\dbachecks\\2.0.4\\checks\\Agent.Tests.ps1: line 171\u001b[0m\r\n",
                    "output_type": "stream"
                },
                {
                    "name": "stdout",
                    "text": "\u001b[91m      [-] DatabaseBackup - USER_DATABASES - LOG's last run outcome is Failed on 1b9cb7421f37\u001b[0m",
                    "output_type": "stream"
                },
                {
                    "name": "stdout",
                    "text": "\u001b[90m 4ms\u001b[0m\r\n",
                    "output_type": "stream"
                },
                {
                    "name": "stdout",
                    "text": "\u001b[91m        Expected 'Succeeded', because All Agent Jobs should have succeed - you need to investigate the failed jobs, but got Failed.\u001b[0m\r\n",
                    "output_type": "stream"
                },
                {
                    "name": "stdout",
                    "text": "\u001b[91m        171:                                         $psitem.LastRunOutcome | Should -Be \"Succeeded\" -Because 'All Agent Jobs should have succeed - you need to investigate the failed jobs'\u001b[0m\r\n",
                    "output_type": "stream"
                },
                {
                    "name": "stdout",
                    "text": "\u001b[91m        at <ScriptBlock>, C:\\Users\\mrrob\\OneDrive\\Documents\\PowerShell\\Modules\\dbachecks\\2.0.4\\checks\\Agent.Tests.ps1: line 171\u001b[0m\r\n",
                    "output_type": "stream"
                },
                {
                    "name": "stdout",
                    "text": "\u001b[91m      [-] DatabaseIntegrityCheck - SYSTEM_DATABASES's last run outcome is Failed on 1b9cb7421f37\u001b[0m",
                    "output_type": "stream"
                },
                {
                    "name": "stdout",
                    "text": "\u001b[90m 3ms\u001b[0m\r\n",
                    "output_type": "stream"
                },
                {
                    "name": "stdout",
                    "text": "\u001b[91m        Expected 'Succeeded', because All Agent Jobs should have succeed - you need to investigate the failed jobs, but got Failed.\u001b[0m\r\n",
                    "output_type": "stream"
                },
                {
                    "name": "stdout",
                    "text": "\u001b[91m        171:                                         $psitem.LastRunOutcome | Should -Be \"Succeeded\" -Because 'All Agent Jobs should have succeed - you need to investigate the failed jobs'\u001b[0m\r\n",
                    "output_type": "stream"
                },
                {
                    "name": "stdout",
                    "text": "\u001b[91m        at <ScriptBlock>, C:\\Users\\mrrob\\OneDrive\\Documents\\PowerShell\\Modules\\dbachecks\\2.0.4\\checks\\Agent.Tests.ps1: line 171\u001b[0m\r\n",
                    "output_type": "stream"
                },
                {
                    "name": "stdout",
                    "text": "\u001b[91m      [-] DatabaseIntegrityCheck - USER_DATABASES's last run outcome is Failed on 1b9cb7421f37\u001b[0m",
                    "output_type": "stream"
                },
                {
                    "name": "stdout",
                    "text": "\u001b[90m 3ms\u001b[0m\r\n",
                    "output_type": "stream"
                },
                {
                    "name": "stdout",
                    "text": "\u001b[91m        Expected 'Succeeded', because All Agent Jobs should have succeed - you need to investigate the failed jobs, but got Failed.\u001b[0m\r\n",
                    "output_type": "stream"
                },
                {
                    "name": "stdout",
                    "text": "\u001b[91m        171:                                         $psitem.LastRunOutcome | Should -Be \"Succeeded\" -Because 'All Agent Jobs should have succeed - you need to investigate the failed jobs'\u001b[0m\r\n",
                    "output_type": "stream"
                },
                {
                    "name": "stdout",
                    "text": "\u001b[91m        at <ScriptBlock>, C:\\Users\\mrrob\\OneDrive\\Documents\\PowerShell\\Modules\\dbachecks\\2.0.4\\checks\\Agent.Tests.ps1: line 171\u001b[0m\r\n",
                    "output_type": "stream"
                },
                {
                    "name": "stdout",
                    "text": "\u001b[32m      [+] IndexOptimize - USER_DATABASES's last run outcome is Succeeded on 1b9cb7421f37\u001b[0m",
                    "output_type": "stream"
                },
                {
                    "name": "stdout",
                    "text": "\u001b[90m 1ms\u001b[0m\r\n",
                    "output_type": "stream"
                },
                {
                    "name": "stdout",
                    "text": "\u001b[32m      [+] sp_delete_backuphistory's last run outcome is Succeeded on 1b9cb7421f37\u001b[0m",
                    "output_type": "stream"
                },
                {
                    "name": "stdout",
                    "text": "\u001b[90m 1ms\u001b[0m\r\n",
                    "output_type": "stream"
                },
                {
                    "name": "stdout",
                    "text": "\u001b[32m      [+] sp_purge_jobhistory's last run outcome is Succeeded on 1b9cb7421f37\u001b[0m",
                    "output_type": "stream"
                },
                {
                    "name": "stdout",
                    "text": "\u001b[90m 1ms\u001b[0m\r\n",
                    "output_type": "stream"
                },
                {
                    "name": "stdout",
                    "text": "\u001b[91m      [-] The Beard is Important's last run outcome is Failed on 1b9cb7421f37\u001b[0m",
                    "output_type": "stream"
                },
                {
                    "name": "stdout",
                    "text": "\u001b[90m 3ms\u001b[0m\r\n",
                    "output_type": "stream"
                },
                {
                    "name": "stdout",
                    "text": "\u001b[91m        Expected 'Succeeded', because All Agent Jobs should have succeed - you need to investigate the failed jobs, but got Failed.\u001b[0m\r\n",
                    "output_type": "stream"
                },
                {
                    "name": "stdout",
                    "text": "\u001b[91m        171:                                         $psitem.LastRunOutcome | Should -Be \"Succeeded\" -Because 'All Agent Jobs should have succeed - you need to investigate the failed jobs'\u001b[0m\r\n",
                    "output_type": "stream"
                },
                {
                    "name": "stdout",
                    "text": "\u001b[91m        at <ScriptBlock>, C:\\Users\\mrrob\\OneDrive\\Documents\\PowerShell\\Modules\\dbachecks\\2.0.4\\checks\\Agent.Tests.ps1: line 171\u001b[0m\r\n",
                    "output_type": "stream"
                },
                {
                    "name": "stdout",
                    "text": "\u001b[97mTests completed in 940ms\u001b[0m\r\n",
                    "output_type": "stream"
                },
                {
                    "name": "stdout",
                    "text": "\u001b[97mTests Passed: 4, \u001b[0m",
                    "output_type": "stream"
                },
                {
                    "name": "stdout",
                    "text": "\u001b[91mFailed: 7, \u001b[0m",
                    "output_type": "stream"
                },
                {
                    "name": "stdout",
                    "text": "\u001b[90mSkipped: 0, \u001b[0m",
                    "output_type": "stream"
                },
                {
                    "name": "stdout",
                    "text": "\u001b[90mPending: 0, \u001b[0m",
                    "output_type": "stream"
                },
                {
                    "name": "stdout",
                    "text": "\u001b[90mInconclusive: 0 \u001b[0m\r\n",
                    "output_type": "stream"
                }
            ],
            "execution_count": 8
        },
        {
            "cell_type": "markdown",
            "source": [
                "## Check the instances are available\r\n",
                "Are all of the instances up and available?\r\n",
                "\r\n",
                "There will be failures for the default values of the authentication scheme as we are connecting with SQL Authentication. We will look at configuration in a later notebook."
            ],
            "metadata": {
                "azdata_cell_guid": "60a354ad-2eca-4fc2-988b-17ee6cf42ac2"
            }
        },
        {
            "cell_type": "code",
            "source": [
                "Invoke-DbcCheck -SqlInstance $SqlInstances -SqlCredential $SqlCredential -Check InstanceConnection "
            ],
            "metadata": {
                "azdata_cell_guid": "8e268766-82db-4024-a8c6-ebafe51760f3"
            },
            "outputs": [
                {
                    "name": "stdout",
                    "text": "\u001b[97mPester v4.10.1\r\nExecuting all tests in 'C:\\Users\\mrrob\\OneDrive\\Documents\\PowerShell\\Modules\\dbachecks\\2.0.4\\checks\\Instance.Tests.ps1' with Tags InstanceConnection\u001b[0m\r\n",
                    "output_type": "stream"
                },
                {
                    "name": "stdout",
                    "text": "\r\n",
                    "output_type": "stream"
                },
                {
                    "name": "stdout",
                    "text": "\u001b[92mExecuting script C:\\Users\\mrrob\\OneDrive\\Documents\\PowerShell\\Modules\\dbachecks\\2.0.4\\checks\\Instance.Tests.ps1\u001b[0m\r\n",
                    "output_type": "stream"
                },
                {
                    "name": "stdout",
                    "text": "\r\n",
                    "output_type": "stream"
                },
                {
                    "name": "stdout",
                    "text": "\u001b[92m  Describing Instance Connection\u001b[0m\r\n",
                    "output_type": "stream"
                },
                {
                    "name": "stdout",
                    "text": "\r\n",
                    "output_type": "stream"
                },
                {
                    "name": "stdout",
                    "text": "\u001b[92m    Context Testing Instance Connection on localhost,15592\u001b[0m\r\n",
                    "output_type": "stream"
                },
                {
                    "name": "stdout",
                    "text": "\u001b[32m      [+] connects successfully to localhost,15592\u001b[0m",
                    "output_type": "stream"
                },
                {
                    "name": "stdout",
                    "text": "\u001b[90m 10ms\u001b[0m\r\n",
                    "output_type": "stream"
                },
                {
                    "name": "stdout",
                    "text": "\u001b[91m      [-] auth scheme should be NTLM on localhost,15592\u001b[0m",
                    "output_type": "stream"
                },
                {
                    "name": "stdout",
                    "text": "\u001b[90m 127ms\u001b[0m\r\n",
                    "output_type": "stream"
                },
                {
                    "name": "stdout",
                    "text": "\u001b[91m        Expected strings to be the same, but they were different.\u001b[0m\r\n",
                    "output_type": "stream"
                },
                {
                    "name": "stdout",
                    "text": "\u001b[91m        Expected length: 4\u001b[0m\r\n",
                    "output_type": "stream"
                },
                {
                    "name": "stdout",
                    "text": "\u001b[91m        Actual length:   3\u001b[0m\r\n",
                    "output_type": "stream"
                },
                {
                    "name": "stdout",
                    "text": "\u001b[91m        Strings differ at index 0.\u001b[0m\r\n",
                    "output_type": "stream"
                },
                {
                    "name": "stdout",
                    "text": "\u001b[91m        Expected: 'NTLM'\u001b[0m\r\n",
                    "output_type": "stream"
                },
                {
                    "name": "stdout",
                    "text": "\u001b[91m        But was:  'SQL'\u001b[0m\r\n",
                    "output_type": "stream"
                },
                {
                    "name": "stdout",
                    "text": "\u001b[91m        64:                         (Test-DbaConnectionAuthScheme -SqlInstance $Instance).authscheme | Should -Be $authscheme\u001b[0m\r\n",
                    "output_type": "stream"
                },
                {
                    "name": "stdout",
                    "text": "\u001b[91m        at <ScriptBlock>, C:\\Users\\mrrob\\OneDrive\\Documents\\PowerShell\\Modules\\dbachecks\\2.0.4\\checks\\Instance.Tests.ps1: line 64\u001b[0m\r\n",
                    "output_type": "stream"
                },
                {
                    "name": "stdout",
                    "text": "\u001b[32m      [+] We should be able to ping host localhost,15592\u001b[0m",
                    "output_type": "stream"
                },
                {
                    "name": "stdout",
                    "text": "\u001b[90m 14ms\u001b[0m\r\n",
                    "output_type": "stream"
                },
                {
                    "name": "stdout",
                    "text": "\u001b[93m      [!] We should be able to remote onto localhost,15592\u001b[0m",
                    "output_type": "stream"
                },
                {
                    "name": "stdout",
                    "text": "\u001b[93m, is skipped\u001b[0m",
                    "output_type": "stream"
                },
                {
                    "name": "stdout",
                    "text": "\u001b[90m 0ms\u001b[0m\r\n",
                    "output_type": "stream"
                },
                {
                    "name": "stdout",
                    "text": "\r\n",
                    "output_type": "stream"
                },
                {
                    "name": "stdout",
                    "text": "\u001b[92m  Describing Instance Connection\u001b[0m\r\n",
                    "output_type": "stream"
                },
                {
                    "name": "stdout",
                    "text": "\r\n",
                    "output_type": "stream"
                },
                {
                    "name": "stdout",
                    "text": "\u001b[92m    Context Testing Instance Connection on localhost,15593\u001b[0m\r\n",
                    "output_type": "stream"
                },
                {
                    "name": "stdout",
                    "text": "\u001b[32m      [+] connects successfully to localhost,15593\u001b[0m",
                    "output_type": "stream"
                },
                {
                    "name": "stdout",
                    "text": "\u001b[90m 1ms\u001b[0m\r\n",
                    "output_type": "stream"
                },
                {
                    "name": "stdout",
                    "text": "\u001b[91m      [-] auth scheme should be NTLM on localhost,15593\u001b[0m",
                    "output_type": "stream"
                },
                {
                    "name": "stdout",
                    "text": "\u001b[90m 183ms\u001b[0m\r\n",
                    "output_type": "stream"
                },
                {
                    "name": "stdout",
                    "text": "\u001b[91m        Expected strings to be the same, but they were different.\u001b[0m\r\n",
                    "output_type": "stream"
                },
                {
                    "name": "stdout",
                    "text": "\u001b[91m        Expected length: 4\u001b[0m\r\n",
                    "output_type": "stream"
                },
                {
                    "name": "stdout",
                    "text": "\u001b[91m        Actual length:   3\u001b[0m\r\n",
                    "output_type": "stream"
                },
                {
                    "name": "stdout",
                    "text": "\u001b[91m        Strings differ at index 0.\u001b[0m\r\n",
                    "output_type": "stream"
                },
                {
                    "name": "stdout",
                    "text": "\u001b[91m        Expected: 'NTLM'\u001b[0m\r\n",
                    "output_type": "stream"
                },
                {
                    "name": "stdout",
                    "text": "\u001b[91m        But was:  'SQL'\u001b[0m\r\n",
                    "output_type": "stream"
                },
                {
                    "name": "stdout",
                    "text": "\u001b[91m        64:                         (Test-DbaConnectionAuthScheme -SqlInstance $Instance).authscheme | Should -Be $authscheme\u001b[0m\r\n",
                    "output_type": "stream"
                },
                {
                    "name": "stdout",
                    "text": "\u001b[91m        at <ScriptBlock>, C:\\Users\\mrrob\\OneDrive\\Documents\\PowerShell\\Modules\\dbachecks\\2.0.4\\checks\\Instance.Tests.ps1: line 64\u001b[0m\r\n",
                    "output_type": "stream"
                },
                {
                    "name": "stdout",
                    "text": "\u001b[32m      [+] We should be able to ping host localhost,15593\u001b[0m",
                    "output_type": "stream"
                },
                {
                    "name": "stdout",
                    "text": "\u001b[90m 3ms\u001b[0m\r\n",
                    "output_type": "stream"
                },
                {
                    "name": "stdout",
                    "text": "\u001b[93m      [!] We should be able to remote onto localhost,15593\u001b[0m",
                    "output_type": "stream"
                },
                {
                    "name": "stdout",
                    "text": "\u001b[93m, is skipped\u001b[0m",
                    "output_type": "stream"
                },
                {
                    "name": "stdout",
                    "text": "\u001b[90m 0ms\u001b[0m\r\n",
                    "output_type": "stream"
                },
                {
                    "name": "stdout",
                    "text": "\u001b[97mTests completed in 1.06s\u001b[0m\r\n",
                    "output_type": "stream"
                },
                {
                    "name": "stdout",
                    "text": "\u001b[97mTests Passed: 4, \u001b[0m",
                    "output_type": "stream"
                },
                {
                    "name": "stdout",
                    "text": "\u001b[91mFailed: 2, \u001b[0m",
                    "output_type": "stream"
                },
                {
                    "name": "stdout",
                    "text": "\u001b[93mSkipped: 2, \u001b[0m",
                    "output_type": "stream"
                },
                {
                    "name": "stdout",
                    "text": "\u001b[90mPending: 0, \u001b[0m",
                    "output_type": "stream"
                },
                {
                    "name": "stdout",
                    "text": "\u001b[90mInconclusive: 0 \u001b[0m\r\n",
                    "output_type": "stream"
                }
            ],
            "execution_count": 9
        },
        {
            "cell_type": "markdown",
            "source": [
                "# Check the databases are available\r\n",
                "Are all the databases up available?\r\n",
                "\r\n",
                "This by default will only show the system databases but we will talk about configuration for this in the next notebook"
            ],
            "metadata": {
                "azdata_cell_guid": "405d3e5a-c0a8-4819-852e-a865cd0618b4"
            }
        },
        {
            "cell_type": "code",
            "source": [
                "Invoke-DbcCheck -SqlInstance $SqlInstances -SqlCredential $SqlCredential  -Check DatabaseStatus"
            ],
            "metadata": {
                "azdata_cell_guid": "9a42fc56-1dd6-4512-91e0-9908a98cbf83"
            },
            "outputs": [
                {
                    "name": "stdout",
                    "text": "\u001b[97mPester v4.10.1\r\nExecuting all tests in 'C:\\Users\\mrrob\\OneDrive\\Documents\\PowerShell\\Modules\\dbachecks\\2.0.4\\checks\\Database.Tests.ps1' with Tags DatabaseStatus\u001b[0m\r\n",
                    "output_type": "stream"
                },
                {
                    "name": "stdout",
                    "text": "\r\n",
                    "output_type": "stream"
                },
                {
                    "name": "stdout",
                    "text": "\u001b[92mExecuting script C:\\Users\\mrrob\\OneDrive\\Documents\\PowerShell\\Modules\\dbachecks\\2.0.4\\checks\\Database.Tests.ps1\u001b[0m\r\n",
                    "output_type": "stream"
                },
                {
                    "name": "stdout",
                    "text": "\r\n",
                    "output_type": "stream"
                },
                {
                    "name": "stdout",
                    "text": "\u001b[92m  Describing Database Status\u001b[0m\r\n",
                    "output_type": "stream"
                },
                {
                    "name": "stdout",
                    "text": "\r\n",
                    "output_type": "stream"
                },
                {
                    "name": "stdout",
                    "text": "\u001b[92m    Context Database status is correct on localhost,15592\u001b[0m\r\n",
                    "output_type": "stream"
                },
                {
                    "name": "stdout",
                    "text": "\u001b[32m      [+] Database AdventureWorks2017 has the expected status on localhost,15592\u001b[0m",
                    "output_type": "stream"
                },
                {
                    "name": "stdout",
                    "text": "\u001b[90m 143ms\u001b[0m\r\n",
                    "output_type": "stream"
                },
                {
                    "name": "stdout",
                    "text": "\u001b[32m      [+] Database master has the expected status on localhost,15592\u001b[0m",
                    "output_type": "stream"
                },
                {
                    "name": "stdout",
                    "text": "\u001b[90m 100ms\u001b[0m\r\n",
                    "output_type": "stream"
                },
                {
                    "name": "stdout",
                    "text": "\u001b[32m      [+] Database model has the expected status on localhost,15592\u001b[0m",
                    "output_type": "stream"
                },
                {
                    "name": "stdout",
                    "text": "\u001b[90m 99ms\u001b[0m\r\n",
                    "output_type": "stream"
                },
                {
                    "name": "stdout",
                    "text": "\u001b[32m      [+] Database msdb has the expected status on localhost,15592\u001b[0m",
                    "output_type": "stream"
                },
                {
                    "name": "stdout",
                    "text": "\u001b[90m 99ms\u001b[0m\r\n",
                    "output_type": "stream"
                },
                {
                    "name": "stdout",
                    "text": "\u001b[32m      [+] Database Northwind has the expected status on localhost,15592\u001b[0m",
                    "output_type": "stream"
                },
                {
                    "name": "stdout",
                    "text": "\u001b[90m 101ms\u001b[0m\r\n",
                    "output_type": "stream"
                },
                {
                    "name": "stdout",
                    "text": "\u001b[32m      [+] Database pubs has the expected status on localhost,15592\u001b[0m",
                    "output_type": "stream"
                },
                {
                    "name": "stdout",
                    "text": "\u001b[90m 98ms\u001b[0m\r\n",
                    "output_type": "stream"
                },
                {
                    "name": "stdout",
                    "text": "\u001b[32m      [+] Database tempdb has the expected status on localhost,15592\u001b[0m",
                    "output_type": "stream"
                },
                {
                    "name": "stdout",
                    "text": "\u001b[90m 101ms\u001b[0m\r\n",
                    "output_type": "stream"
                },
                {
                    "name": "stdout",
                    "text": "\r\n",
                    "output_type": "stream"
                },
                {
                    "name": "stdout",
                    "text": "\u001b[92m  Describing Database Status\u001b[0m\r\n",
                    "output_type": "stream"
                },
                {
                    "name": "stdout",
                    "text": "\r\n",
                    "output_type": "stream"
                },
                {
                    "name": "stdout",
                    "text": "\u001b[92m    Context Database status is correct on localhost,15593\u001b[0m\r\n",
                    "output_type": "stream"
                },
                {
                    "name": "stdout",
                    "text": "\u001b[32m      [+] Database AdventureWorks2017 has the expected status on localhost,15593\u001b[0m",
                    "output_type": "stream"
                },
                {
                    "name": "stdout",
                    "text": "\u001b[90m 124ms\u001b[0m\r\n",
                    "output_type": "stream"
                },
                {
                    "name": "stdout",
                    "text": "\u001b[32m      [+] Database master has the expected status on localhost,15593\u001b[0m",
                    "output_type": "stream"
                },
                {
                    "name": "stdout",
                    "text": "\u001b[90m 107ms\u001b[0m\r\n",
                    "output_type": "stream"
                },
                {
                    "name": "stdout",
                    "text": "\u001b[32m      [+] Database model has the expected status on localhost,15593\u001b[0m",
                    "output_type": "stream"
                },
                {
                    "name": "stdout",
                    "text": "\u001b[90m 109ms\u001b[0m\r\n",
                    "output_type": "stream"
                },
                {
                    "name": "stdout",
                    "text": "\u001b[32m      [+] Database msdb has the expected status on localhost,15593\u001b[0m",
                    "output_type": "stream"
                },
                {
                    "name": "stdout",
                    "text": "\u001b[90m 103ms\u001b[0m\r\n",
                    "output_type": "stream"
                },
                {
                    "name": "stdout",
                    "text": "\u001b[32m      [+] Database Northwind has the expected status on localhost,15593\u001b[0m",
                    "output_type": "stream"
                },
                {
                    "name": "stdout",
                    "text": "\u001b[90m 106ms\u001b[0m\r\n",
                    "output_type": "stream"
                },
                {
                    "name": "stdout",
                    "text": "\u001b[32m      [+] Database pubs has the expected status on localhost,15593\u001b[0m",
                    "output_type": "stream"
                },
                {
                    "name": "stdout",
                    "text": "\u001b[90m 107ms\u001b[0m\r\n",
                    "output_type": "stream"
                },
                {
                    "name": "stdout",
                    "text": "\u001b[32m      [+] Database tempdb has the expected status on localhost,15593\u001b[0m",
                    "output_type": "stream"
                },
                {
                    "name": "stdout",
                    "text": "\u001b[90m 110ms\u001b[0m\r\n",
                    "output_type": "stream"
                },
                {
                    "name": "stdout",
                    "text": "\u001b[97mTests completed in 2.04s\u001b[0m\r\n",
                    "output_type": "stream"
                },
                {
                    "name": "stdout",
                    "text": "\u001b[32mTests Passed: 14, \u001b[0m",
                    "output_type": "stream"
                },
                {
                    "name": "stdout",
                    "text": "\u001b[90mFailed: 0, \u001b[0m",
                    "output_type": "stream"
                },
                {
                    "name": "stdout",
                    "text": "\u001b[90mSkipped: 0, \u001b[0m",
                    "output_type": "stream"
                },
                {
                    "name": "stdout",
                    "text": "\u001b[90mPending: 0, \u001b[0m",
                    "output_type": "stream"
                },
                {
                    "name": "stdout",
                    "text": "\u001b[90mInconclusive: 0 \u001b[0m\r\n",
                    "output_type": "stream"
                }
            ],
            "execution_count": 10
        },
        {
            "cell_type": "markdown",
            "source": [
                "## Check that DBCC CheckDB \r\n",
                "\r\n",
                "This is one of my favourite checks to run. You can get the last time DBCC CHECKDB was run for a single database using T-SQL with\r\n",
                "\r\n",
                "```sql\r\n",
                "DBCC DBINFO('DatabaseName') WITH TABLERESULTS\r\n",
                "```\r\n",
                "\r\n",
                "You will find the result somewhere around line 50. Doing that for all of the databases on your estate is time consuming and prone to (human) error.\r\n",
                "With dbachecks you can do it like this. ON my machine this checks the 2 containers and 14 databases to make sure DBCC CHECKDB was run in the last 7 days in under 2 seconds :-)"
            ],
            "metadata": {
                "azdata_cell_guid": "420b3aad-8a6b-4412-87f4-98cbd5611b29"
            }
        },
        {
            "cell_type": "code",
            "source": [
                "Invoke-DbcCheck -SqlInstance $SqlInstances -SqlCredential $SqlCredential  -Check LastGoodCheckDb"
            ],
            "metadata": {
                "azdata_cell_guid": "aacc026f-6f6a-4081-ace8-09fe8bf4b72b"
            },
            "outputs": [],
            "execution_count": null
        },
        {
            "cell_type": "markdown",
            "source": [
                "## Check that the Error log has no Errors\r\n",
                "\r\n",
                "By default this will check the error logs for the last 24 hours"
            ],
            "metadata": {
                "azdata_cell_guid": "773c4455-0b23-4388-9e8d-2f02eef29aeb"
            }
        },
        {
            "cell_type": "code",
            "source": [
                "Invoke-DbcCheck -SqlInstance $SqlInstances -SqlCredential $SqlCredential  -Check ErrorLog"
            ],
            "metadata": {
                "azdata_cell_guid": "c5e424b6-74f4-4057-907c-720f8e1dfc66"
            },
            "outputs": [],
            "execution_count": null
        },
        {
            "cell_type": "markdown",
            "source": [
                "## Check the disk space on the instance\r\n",
                "\r\n",
                "This will check that the disk space on the hosts has at least 20% free space by default. It requires passing the host names to the `-ComputerName` parameter"
            ],
            "metadata": {
                "azdata_cell_guid": "96b863a1-dab1-479b-87c7-b0ca576b8671"
            }
        },
        {
            "cell_type": "code",
            "source": [
                "Invoke-DbcCheck -ComputerName $SqlInstances -Check DiskCapacity"
            ],
            "metadata": {
                "azdata_cell_guid": "ae93ad9f-950e-40dc-9ab5-d8d2e40d2928"
            },
            "outputs": [],
            "execution_count": null
        },
        {
            "cell_type": "markdown",
            "source": [
                "# Check if DAC is enabled\r\n",
                "\r\n",
                "This will check that DAC - the dedicated administrator connection is enabled (by default)"
            ],
            "metadata": {
                "azdata_cell_guid": "0d2e7bf5-3687-4141-ad68-26a84e7a66cc"
            }
        },
        {
            "cell_type": "code",
            "source": [
                "Invoke-DbcCheck -SqlInstance $SqlInstances -SqlCredential $SqlCredential  -Check DAC"
            ],
            "metadata": {
                "azdata_cell_guid": "3cb402a8-8d90-45cb-b774-19ea98a57fc9"
            },
            "outputs": [],
            "execution_count": null
        },
        {
            "cell_type": "markdown",
            "source": [
                "## Check if the database collation matches the server collation\r\n",
                "\r\n",
                "This will check that the collation of the database matches the collation of the instance to avoid collation conflict errors when using temporary tables"
            ],
            "metadata": {
                "azdata_cell_guid": "4748f90f-bc7c-4f7f-85af-9866b2ae6027"
            }
        },
        {
            "cell_type": "code",
            "source": [
                "Invoke-DbcCheck -SqlInstance $SqlInstances -SqlCredential $SqlCredential  -Check DatabaseCollation"
            ],
            "metadata": {
                "azdata_cell_guid": "e850a5de-3207-4b09-82a7-a05663a0a5ca"
            },
            "outputs": [],
            "execution_count": null
        },
        {
            "cell_type": "markdown",
            "source": [
                "Are all of the SPNs correct ?\r\n",
                "\r\n",
                "You should not run this one but look at the saved results to see what you can get."
            ],
            "metadata": {
                "azdata_cell_guid": "3aa3347c-b7a9-4d45-b142-8b2f0afc2776"
            }
        },
        {
            "cell_type": "code",
            "source": [
                "$Instances =  'SQL2005Ser2003', 'SQL2008Ser12R2', 'SQL2012Ser08AG1', 'SQL2012Ser08AG2', 'SQL2012Ser08AG3', 'SQL2014Ser12R2', 'SQL2016N1', 'SQL2016N2', 'SQL2016N3', 'SQL2017N5', 'SQL2019N20', 'SQL2019N21', 'SQL2019N22', 'SQL2019N5'\r\n",
                "Invoke-DbcCheck -SqlInstance $instances -Check SPN"
            ],
            "metadata": {
                "azdata_cell_guid": "09010eb5-fc3d-4318-9b29-91a12cff6fbd"
            },
            "outputs": [],
            "execution_count": null
        },
        {
            "cell_type": "markdown",
            "source": [
                "# Running multiple checks\r\n",
                "\r\n",
                "All of the examples above have used a single unique tag. You can run more than one check at a time. You can do this either by specifying a tag that covers a number of checks. You can find these by running `Get-DbcCheck`\r\n",
                "\r\n",
                "When you search for checks like disk"
            ],
            "metadata": {
                "azdata_cell_guid": "823ff429-43b3-4598-b34b-d18ff90836bc"
            }
        },
        {
            "cell_type": "code",
            "source": [
                "Get-DbcCheck disk"
            ],
            "metadata": {
                "azdata_cell_guid": "696f7e6a-c592-4434-8c05-9ca240dfde78"
            },
            "outputs": [],
            "execution_count": null
        },
        {
            "cell_type": "markdown",
            "source": [
                "you can see that under AllTags for the DiskCapacity check there is a tag called Storage. If you search for storage"
            ],
            "metadata": {
                "azdata_cell_guid": "8b17d7b4-a646-4e52-8086-764219072454"
            }
        },
        {
            "cell_type": "code",
            "source": [
                "Get-DbcCheck Storage"
            ],
            "metadata": {
                "azdata_cell_guid": "4d71feaf-0be1-4503-b776-0f99b19e8e1d"
            },
            "outputs": [],
            "execution_count": null
        },
        {
            "cell_type": "markdown",
            "source": [
                "you can see that this returns two checks - BackUpPathAccess and DiskCapacity. You can run both of these checks at the same time. Note that the `Type` of check is different for these two checks and you will have to supply both `SqlInstance` and `ComputerName`"
            ],
            "metadata": {
                "azdata_cell_guid": "71cf2d4b-7024-4ed4-b6a7-29e4fb0e7525"
            }
        },
        {
            "cell_type": "code",
            "source": [
                "Invoke-DbcCheck -SqlInstance $SqlInstances -ComputerName $SqlInstances -SqlCredential $SqlCredential -Check Storage"
            ],
            "metadata": {
                "azdata_cell_guid": "d48cdb95-521b-4f7b-8fb0-cd1b5edfbac5"
            },
            "outputs": [],
            "execution_count": null
        },
        {
            "cell_type": "markdown",
            "source": [
                "## Running checks for a Group\r\n",
                "\r\n",
                "Checks are grouped into ... well groups! The groups are Database, Instance, Server, Agent, HADR, LogShipping and MaintenanceSolution. You can run all of the checks in a group by specifying the group. You will see failures and some errors due to missing configurations and because some checks wont run against containers. I think it is worth showing hte test failures so that you can see what they look like.  \r\n",
                "\r\n",
                "This takes about 90 seconds on my machine"
            ],
            "metadata": {
                "azdata_cell_guid": "5e898a69-40f1-4258-a79f-446d43f09999"
            }
        },
        {
            "cell_type": "code",
            "source": [
                "Invoke-DbcCheck -SqlInstance $SqlInstances -SqlCredential $SqlCredential -Check Instance"
            ],
            "metadata": {
                "azdata_cell_guid": "6ee020a1-3a9e-414c-b225-bad6255041aa"
            },
            "outputs": [],
            "execution_count": null
        },
        {
            "cell_type": "code",
            "source": [],
            "metadata": {
                "azdata_cell_guid": "fbdf5efb-f6e0-4e84-ab65-f2862e5f44fa"
            },
            "outputs": [],
            "execution_count": null
        }
    ]
}