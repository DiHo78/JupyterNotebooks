{
 "cells": [
  {
   "cell_type": "code",
   "execution_count": 2,
   "metadata": {},
   "outputs": [
    {
     "name": "stdout",
     "output_type": "stream",
     "text": [
      "Creating Directory C:\\Users\\mrrob\\Documents\\dbatoolsdemo\n",
      "Path C:\\Users\\mrrob\\Documents\\dbatoolsdemo exists already\n",
      "Creating Directory C:\\Users\\mrrob\\Documents\\dbatoolsdemo\\SQL1\n",
      "Directory SQL1 exists already\n",
      "Creating File C:\\Users\\mrrob\\Documents\\dbatoolsdemo\\SQL1\\dummyfile.txt\n",
      "Creating Directory C:\\Users\\mrrob\\Documents\\dbatoolsdemo\\SQL2\n",
      "Directory SQL2 exists already\n",
      "Creating File C:\\Users\\mrrob\\Documents\\dbatoolsdemo\\SQL2\\dummyfile.txt\n",
      "Creating a credential file for the containers - Please don't do this in production\n",
      "Credential file created\n",
      "Setting the docker-compose files values\n"
     ]
    }
   ],
   "source": [
    "$FolderPath = $Env:USERPROFILE + '\\Documents\\dbatoolsdemo'\n",
    "\n",
    "########################################################\n",
    "Write-Output \"Creating Directory $FolderPath\"\n",
    "if(Test-Path $FolderPath){\n",
    "    Write-Output \"Path $FolderPath exists already\"\n",
    "}else {\n",
    " $null =    New-Item $FolderPath -ItemType Directory\n",
    "}\n",
    "\n",
    "Write-Output \"Creating Directory $FolderPath\\SQL1\"\n",
    "if(Test-Path \"$FolderPath\\SQL1\"){\n",
    "    Write-Output \"Directory SQL1 exists already\"\n",
    "    Get-ChildItem \"$FolderPath\\SQL1\" -Recurse| Remove-Item -Recurse -Force\n",
    "}else {\n",
    "$null = New-Item \"$FolderPath\\SQL1\"-ItemType Directory\n",
    "}\n",
    "Write-Output \"Creating File $FolderPath\\SQL1\\dummyfile.txt\"\n",
    "if(Test-Path \"$FolderPath\\SQL1\\dummyfile.txt\"){\n",
    "    Write-Output \"dummyfile.txt exists already\"\n",
    "}else {\n",
    "$null =  New-Item \"$FolderPath\\SQL1\\dummyfile.txt\" -ItemType file\n",
    "}\n",
    "\n",
    "Write-Output \"Creating Directory $FolderPath\\SQL2\"\n",
    "if(Test-Path \"$FolderPath\\SQL2\"){\n",
    "    Write-Output \"Directory SQL2 exists already\"\n",
    "    Get-ChildItem \"$FolderPath\\SQL2\" -Recurse| Remove-Item -Recurse -Force\n",
    "}else {\n",
    " $null =    New-Item \"$FolderPath\\SQL2\"-ItemType Directory\n",
    "}\n",
    "Write-Output \"Creating File $FolderPath\\SQL2\\dummyfile.txt\"\n",
    "if(Test-Path \"$FolderPath\\SQL2\\dummyfile.txt\"){\n",
    "    Write-Output \"dummyfile.txt exists already\"\n",
    "}else {\n",
    "$null =  New-Item \"$FolderPath\\SQL2\\dummyfile.txt\" -ItemType file\n",
    "}\n",
    "\n",
    "Write-Output \"Creating a credential file for the containers - Please don't do this in production\"\n",
    "\n",
    "$sqladminPassword = ConvertTo-SecureString 'dbatools.IO' -AsPlainText -Force \n",
    "$cred = New-Object System.Management.Automation.PSCredential ('sqladmin', $sqladminpassword)\n",
    "$Cred | Export-Clixml -Path $FolderPath\\sqladmin.cred\n",
    "Write-Output \"Credential file created\"\n",
    "\n",
    "Write-Output \"Setting the docker-compose files values\"\n",
    "$dockercompose = (Get-Content .\\dockercompose.yml) -replace '__ReplaceME__' , $FolderPath\n",
    "# $dockercompose\n",
    "$dockercompose | Set-Content .\\docker-compose.yml"
   ]
  },
  {
   "cell_type": "code",
   "execution_count": 3,
   "metadata": {},
   "outputs": [
    {
     "name": "stdout",
     "output_type": "stream",
     "text": [
      "Creating network \"agent_BeardsMagicNetwork\" with the default driver\n",
      "Pulling SQL2019 (sqldbawithabeard/dbachecksdemo:)...\n",
      "latest: Pulling from sqldbawithabeard/dbachecksdemo\n",
      "Digest: sha256:6332521d6426eff4a6ed148545d34d28e9f979380400319b54fc98cff48936bd\n",
      "Status: Downloaded newer image for sqldbawithabeard/dbachecksdemo:latest\n",
      "Creating agent_SQL2019_1 ... \n",
      "\n",
      "Creating agent_SQL2019-1_1 ... \n",
      "\n",
      "\u001b[2A\u001b[2K\n",
      "Creating agent_SQL2019_1   ... \u001b[32mdone\u001b[0m\n",
      "\u001b[2B\u001b[1A\u001b[2K\n",
      "Creating agent_SQL2019-1_1 ... \u001b[32mdone\u001b[0m\n",
      "\u001b[1B\n"
     ]
    }
   ],
   "source": [
    "docker-compose up -d"
   ]
  },
  {
   "cell_type": "code",
   "execution_count": 9,
   "metadata": {},
   "outputs": [
    {
     "name": "stdout",
     "output_type": "stream",
     "text": [
      "the input device is not a TTY.  If you are using mintty, try prefixing the command with 'winpty'\n"
     ]
    }
   ],
   "source": [
    "docker exec -it agent_SQL2019_1 cat /var/opt/mssql/log/sqlagent.out winpty"
   ]
  },
  {
   "cell_type": "code",
   "execution_count": null,
   "metadata": {},
   "outputs": [],
   "source": []
  }
 ],
 "metadata": {
  "kernelspec": {
   "display_name": ".NET (PowerShell)",
   "language": "PowerShell",
   "name": ".net-powershell"
  },
  "language_info": {
   "file_extension": ".ps1",
   "mimetype": "text/x-powershell",
   "name": "PowerShell",
   "pygments_lexer": "powershell",
   "version": "7.0"
  }
 },
 "nbformat": 4,
 "nbformat_minor": 4
}
