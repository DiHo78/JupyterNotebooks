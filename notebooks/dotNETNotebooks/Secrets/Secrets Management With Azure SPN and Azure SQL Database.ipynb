{
    "metadata": {
        "kernelspec": {
            "name": ".net-powershell",
            "display_name": ".NET (PowerShell)"
        },
        "language_info": {
            "name": "PowerShell",
            "version": "7.0",
            "mimetype": "text/x-powershell",
            "file_extension": ".ps1",
            "pygments_lexer": "powershell"
        }
    },
    "nbformat_minor": 2,
    "nbformat": 4,
    "cells": [
        {
            "cell_type": "markdown",
            "source": [
                "# Storing Azure SPN in Azure Key Vault with Secret Management\r\n",
                "\r\n",
                "\r\n",
                "As well as the local key vault that comes by default with the SecretManagement module, you can also register other key vaults to use with the module.\r\n",
                "\r\n",
                "In this notebook, we will show how to add an Azure Key Vault to be used with the module and how to add and retrieve secrets."
            ],
            "metadata": {
                "azdata_cell_guid": "4160b346-b7ef-47ca-9c0a-abf2b8c35509"
            }
        },
        {
            "cell_type": "markdown",
            "source": [
                "## Get the modules\r\n",
                "\r\n",
                "Lets make sure we have the modules we require. This code block will trust the PowerShell Gallery and install the AZ modules "
            ],
            "metadata": {
                "azdata_cell_guid": "fa11a65f-8022-468c-a4b6-0159660c8938"
            }
        },
        {
            "cell_type": "code",
            "source": [
                "if((Get-PsRepository -Name PSGallery).InstallationPolicy -ne 'Trusted'){\r\n",
                "    Write-Output \"The PowerShell Gallery is not trusted so I will trust it so that we can install the modules without interaction\"\r\n",
                "    Set-PsRepository -Name PSGallery -InstallationPolicy Trusted\r\n",
                "} else {\r\n",
                "    Write-Output \"The PowerShell Gallery is trusted I will continue\"\r\n",
                "}\r\n",
                "If((Get-Module Az.* -ListAvailable)){\r\n",
                "    Write-Output \"We have some AZ modules\"\r\n",
                "} else {\r\n",
                "    Write-Output \"We need to install the AZ modules\"\r\n",
                "    Install-Module -Name Az -AllowClobber -Scope CurrentUser\r\n",
                "}\r\n",
                "If((Get-Module dbatools -ListAvailable)){\r\n",
                "    Write-Output \"We have the dbatools module\"\r\n",
                "} else {\r\n",
                "    Write-Output \"We need to install the dbatools module\"\r\n",
                "    Install-Module -Name dbatools -Scope CurrentUser\r\n",
                "}"
            ],
            "metadata": {
                "azdata_cell_guid": "78a74a19-40a8-4b64-8fea-9bc88b0ccbe4",
                "tags": [
                    "hide_input"
                ]
            },
            "outputs": [],
            "execution_count": null
        },
        {
            "cell_type": "markdown",
            "source": [
                "## Connect to Azure\r\n",
                "\r\n",
                "Next we will run `Connect-AzAccount`, you will need to open this link https://microsoft.com/devicelogin sign in and provide the authentication code"
            ],
            "metadata": {
                "azdata_cell_guid": "7107d2b3-c3d8-4062-8440-33ba0e46c13e"
            }
        },
        {
            "cell_type": "code",
            "source": [
                "# Connect to Azure with a browser sign in token - \r\n",
                "Connect-AzAccount\r\n",
                "\r\n",
                ""
            ],
            "metadata": {
                "azdata_cell_guid": "0c28419f-060e-4fff-b150-1ce13bf1b49a"
            },
            "outputs": [
                {
                    "output_type": "stream",
                    "name": "stdout",
                    "text": "\u001b[93mWARNING: To sign in, use a web browser to open the page https://microsoft.com/devicelogin and enter the code CKN5HNTZD to authenticate.\u001b[0m\r\n"
                },
                {
                    "output_type": "stream",
                    "name": "stdout",
                    "text": "\r\n"
                },
                {
                    "output_type": "stream",
                    "name": "stdout",
                    "text": "Account                 SubscriptionName            TenantId                             Environmen\r\n"
                },
                {
                    "output_type": "stream",
                    "name": "stdout",
                    "text": "                                                                                         t\r\n"
                },
                {
                    "output_type": "stream",
                    "name": "stdout",
                    "text": "-------                 ----------------            --------                             ----------\r\n"
                },
                {
                    "output_type": "stream",
                    "name": "stdout",
                    "text": "mrrobsewell@outlook.com Microsoft Azure Sponsorship add02cc8-7eaf-4746-902a-53d0ceeff326 AzureCloud\r\n"
                },
                {
                    "output_type": "stream",
                    "name": "stdout",
                    "text": "\r\n"
                }
            ],
            "execution_count": 2
        },
        {
            "cell_type": "markdown",
            "source": [
                "## Choose the subscription\r\n",
                "\r\n",
                "If you have multiple subscriptions, choose the one that your key vault is in."
            ],
            "metadata": {
                "azdata_cell_guid": "552e079b-0c56-46d2-ba66-e8f167a1eb90"
            }
        },
        {
            "cell_type": "code",
            "source": [
                "# list subscriptions\r\n",
                "Get-AzSubscription\r\n",
                ""
            ],
            "metadata": {
                "azdata_cell_guid": "73d7ab4a-4a2f-412d-939d-89a054f3a71e"
            },
            "outputs": [
                {
                    "output_type": "stream",
                    "name": "stdout",
                    "text": "\r\n"
                },
                {
                    "output_type": "stream",
                    "name": "stdout",
                    "text": "Name                               Id                                   TenantId\r\n"
                },
                {
                    "output_type": "stream",
                    "name": "stdout",
                    "text": "----                               --                                   --------                   \r\n"
                },
                {
                    "output_type": "stream",
                    "name": "stdout",
                    "text": "Microsoft Azure Sponsorship        6d8f994c-9051-4cef-ba61-528bab27d213 add02cc8-7eaf-4746-902a-53…\r\n"
                },
                {
                    "output_type": "stream",
                    "name": "stdout",
                    "text": "TP Visual Studio Premium with MSDN 18107f13-584f-4e56-8824-31dfbfffaf7f add02cc8-7eaf-4746-902a-53…\r\n"
                },
                {
                    "output_type": "stream",
                    "name": "stdout",
                    "text": "Visual Studio Professional         dd6620e8-486c-4bf7-8c62-115d3e04ea6c add02cc8-7eaf-4746-902a-53…\r\n"
                },
                {
                    "output_type": "stream",
                    "name": "stdout",
                    "text": "MVP - Visual Studio Enterprise     71df03d4-33d9-40ca-8924-a69d8ae8924a add02cc8-7eaf-4746-902a-53…\r\n"
                },
                {
                    "output_type": "stream",
                    "name": "stdout",
                    "text": "Free Trial                         e8a3b955-9a1e-46ac-a9eb-c0cd80b20980 add02cc8-7eaf-4746-902a-53…\r\n"
                },
                {
                    "output_type": "stream",
                    "name": "stdout",
                    "text": "\r\n"
                }
            ],
            "execution_count": 31
        },
        {
            "cell_type": "code",
            "source": [
                "# Set subscription by Name\r\n",
                "$AzureSubscription = Set-AzContext -SubscriptionName \"Microsoft Azure Sponsorship\""
            ],
            "metadata": {
                "azdata_cell_guid": "e85e39a3-74d2-4854-afcb-39ec5333f0c6",
                "tags": []
            },
            "outputs": [
                {
                    "output_type": "stream",
                    "name": "stdout",
                    "text": "\r\n"
                },
                {
                    "output_type": "stream",
                    "name": "stdout",
                    "text": "Name               : Microsoft Azure Sponsorship (6d8f994c-9051-4cef-ba61-528bab27d213) - \r\n"
                },
                {
                    "output_type": "stream",
                    "name": "stdout",
                    "text": "                     mrrobsewell@outlook.com\r\n"
                },
                {
                    "output_type": "stream",
                    "name": "stdout",
                    "text": "Account            : mrrobsewell@outlook.com\r\n"
                },
                {
                    "output_type": "stream",
                    "name": "stdout",
                    "text": "Environment        : AzureCloud\r\n"
                },
                {
                    "output_type": "stream",
                    "name": "stdout",
                    "text": "Subscription       : 6d8f994c-9051-4cef-ba61-528bab27d213\r\n"
                },
                {
                    "output_type": "stream",
                    "name": "stdout",
                    "text": "Tenant             : add02cc8-7eaf-4746-902a-53d0ceeff326\r\n"
                },
                {
                    "output_type": "stream",
                    "name": "stdout",
                    "text": "TokenCache         : Microsoft.Azure.Commands.Common.Authentication.Core.ProtectedFileTokenCache\r\n"
                },
                {
                    "output_type": "stream",
                    "name": "stdout",
                    "text": "VersionProfile     : \r\n"
                },
                {
                    "output_type": "stream",
                    "name": "stdout",
                    "text": "ExtendedProperties : {}\r\n"
                },
                {
                    "output_type": "stream",
                    "name": "stdout",
                    "text": "\r\n"
                },
                {
                    "output_type": "stream",
                    "name": "stdout",
                    "text": "\r\n"
                }
            ],
            "execution_count": 33
        },
        {
            "cell_type": "markdown",
            "source": [
                "## Register your Azure Key Vault with Secret Management Module\r\n",
                "\r\n",
                "For the Secret Management Module to manage the Azure Key Vault, you first need to register it. \r\n",
                "\r\n",
                "Ensure that you have permissions to connect by following the details in the network security documentation https://docs.microsoft.com/en-us/azure/key-vault/general/network-security and the secure access documentation https://docs.microsoft.com/en-us/azure/key-vault/general/secure-your-key-vault\r\n",
                "\r\n",
                "Then you can run `Register-SecretVault` You need to provide the local name for the key vault, the module name `Az.KeyVault`, and a `VaultParameters` hashtable with the KeyVault name and the Azure Subscription ID. You can register other types of Key Vaults to the Secret Management module, they will require different values for the `VaultParameters` parameter."
            ],
            "metadata": {
                "azdata_cell_guid": "b9bd1b66-3d83-4bef-995b-4dd5d0376aac"
            }
        },
        {
            "cell_type": "code",
            "source": [
                "$KeyVaultName = 'beard-key-vault'\r\n",
                "Register-SecretVault -Name BeardKeyVault -ModuleName Az.KeyVault -VaultParameters @{ AZKVaultName = $KeyVaultName; SubscriptionId = $AzureSubscription.Subscription }"
            ],
            "metadata": {
                "azdata_cell_guid": "022394d6-108c-4218-bc3f-7aa8e938f713"
            },
            "outputs": [],
            "execution_count": null
        },
        {
            "cell_type": "markdown",
            "source": [
                "## Create an SPN in Azure\r\n",
                "\r\n",
                "With the Az modules you can create a new Service Principal Name and then store the appid and the secret in the key vault"
            ],
            "metadata": {
                "azdata_cell_guid": "3a4da793-9569-40f7-8fc8-3f0bfafe698b"
            }
        },
        {
            "cell_type": "code",
            "source": [
                "$sp = New-AzADServicePrincipal -DisplayName BeardElasticPoolSPN\r\n",
                "Set-Secret -Vault BeardKeyVault -Name BeardElasticPoolSPNApplicationID -Secret (ConvertTo-SecureString  $sp.ApplicationId.Guid -AsPlainText)\r\n",
                "Set-Secret -Vault BeardKeyVault -Name BeardElasticPoolSPNSecret -Secret $sp.secret\r\n",
                "Set-Secret -Vault BeardKeyVault -Name BeardElasticPoolSPNSecret -Secret bKjNF4-M7w004JrnTlZnvY.C-fAyg1-whd"
            ],
            "metadata": {
                "azdata_cell_guid": "f879cae5-01a2-4ea3-a13b-266f3707fb2d"
            },
            "outputs": [
                {
                    "output_type": "stream",
                    "name": "stdout",
                    "text": "\u001b[93mWARNING: Assigning role 'Contributor' over scope '/subscriptions/6d8f994c-9051-4cef-ba61-528bab27d213' to the new service principal.\u001b[0m\r\n"
                }
            ],
            "execution_count": 4
        },
        {
            "cell_type": "code",
            "source": [
                "Get-SecretVault -Name BeardKeyVault\r\n",
                "Get-SecretInfo -Vault BeardKeyVault -Name BeardElasticPoolSPNApplicationID \r\n",
                "Get-SecretInfo -Vault BeardKeyVault -Name BeardElasticPoolSPNSecret"
            ],
            "metadata": {
                "azdata_cell_guid": "bb99aa4b-69f4-4506-a74c-8235b64ec7ca"
            },
            "outputs": [
                {
                    "output_type": "stream",
                    "name": "stdout",
                    "text": "\r\n"
                },
                {
                    "output_type": "stream",
                    "name": "stdout",
                    "text": "Name          ModuleName  ImplementingType\r\n"
                },
                {
                    "output_type": "stream",
                    "name": "stdout",
                    "text": "----          ----------  ----------------\r\n"
                },
                {
                    "output_type": "stream",
                    "name": "stdout",
                    "text": "BeardKeyVault Az.KeyVault \r\n"
                },
                {
                    "output_type": "stream",
                    "name": "stdout",
                    "text": "\r\n"
                },
                {
                    "output_type": "stream",
                    "name": "stdout",
                    "text": "Name      : BeardElasticPoolSPNApplicationID\r\n"
                },
                {
                    "output_type": "stream",
                    "name": "stdout",
                    "text": "Type      : SecureString\r\n"
                },
                {
                    "output_type": "stream",
                    "name": "stdout",
                    "text": "VaultName : BeardKeyVault\r\n"
                },
                {
                    "output_type": "stream",
                    "name": "stdout",
                    "text": "\r\n"
                },
                {
                    "output_type": "stream",
                    "name": "stdout",
                    "text": "\r\n"
                },
                {
                    "output_type": "stream",
                    "name": "stdout",
                    "text": "Name      : BeardElasticPoolSPNSecret\r\n"
                },
                {
                    "output_type": "stream",
                    "name": "stdout",
                    "text": "Type      : SecureString\r\n"
                },
                {
                    "output_type": "stream",
                    "name": "stdout",
                    "text": "VaultName : BeardKeyVault\r\n"
                },
                {
                    "output_type": "stream",
                    "name": "stdout",
                    "text": "\r\n"
                },
                {
                    "output_type": "stream",
                    "name": "stdout",
                    "text": "\r\n"
                }
            ],
            "execution_count": 43
        },
        {
            "cell_type": "code",
            "source": [
                "Set-Secret -Vault BeardKeyVault -Name BeardElasticPoolSPNSecret -Secret (ConvertTo-SecureString  'bKjNF4-M7w004JrnTlZnvY.C-fAyg1-whd' -AsPlainText) "
            ],
            "metadata": {
                "azdata_cell_guid": "48f8b0f8-66cc-4a4c-8b29-6c87d6c4b755"
            },
            "outputs": [],
            "execution_count": 69
        },
        {
            "cell_type": "code",
            "source": [
                "$AzureSql = 'beard-elasticsql-dev.database.windows.net'\r\n",
                "$appid = Get-Secret -Vault BeardKeyVault -Name BeardElasticPoolSPNApplicationID -AsPlainText\r\n",
                "$Clientsecret = Get-Secret -Vault BeardKeyVault -Name BeardElasticPoolSPNSecret\r\n",
                "$credential = New-Object System.Management.Automation.PSCredential ($appid,$Clientsecret)\r\n",
                "$appid \r\n",
                "$Clientsecret\r\n",
                "$credential.GetNetworkCredential().Password\r\n",
                "Invoke-DbaQuery -SqlInstance $AzureSql -Database devbeardsqldma  -SqlCredential $credential -Query \"Select 1 as one\" -Verbose\r\n",
                ""
            ],
            "metadata": {
                "azdata_cell_guid": "33f5d95f-2822-494e-a280-48e8b2db6275"
            },
            "outputs": [
                {
                    "output_type": "stream",
                    "name": "stdout",
                    "text": "8851588b-3041-4024-8fac-812b07199258\r\n"
                },
                {
                    "output_type": "stream",
                    "name": "stdout",
                    "text": "System.Security.SecureString\r\n"
                },
                {
                    "output_type": "stream",
                    "name": "stdout",
                    "text": "bKjNF4-M7w004JrnTlZnvY.C-fAyg1-whd\r\n"
                },
                {
                    "output_type": "stream",
                    "name": "stdout",
                    "text": "\u001b[93mVERBOSE: [08:47:58][Connect-DbaInstance] Connecting to Data Source=TCP:beard-elasticsql-dev.database.windows.net,1433;Initial Catalog=devbeardsqldma;User ID=8851588b-3041-4024-8fac-812b07199258;Password=********;MultipleActiveResultSets=False;Connect Timeout=30;Encrypt=True;TrustServerCertificate=False;Application Name=\"dbatools PowerShell module - dbatools.io\"\u001b[0m\r\n"
                },
                {
                    "output_type": "stream",
                    "name": "stdout",
                    "text": "\u001b[93mVERBOSE: [08:47:58][Connect-DbaInstance] Connecting to Azure: beard-elasticsql-dev.database.windows.net\u001b[0m\r\n"
                },
                {
                    "output_type": "stream",
                    "name": "stdout",
                    "text": "\u001b[93mWARNING: [08:47:58][Invoke-DbaQuery] Failure | Login failed for user '8851588b-3041-4024-8fac-812b07199258'.\u001b[0m\r\n"
                }
            ],
            "execution_count": 78
        },
        {
            "cell_type": "code",
            "source": [
                "Get-Error"
            ],
            "metadata": {
                "azdata_cell_guid": "6290c7dd-ef74-4d19-aa70-aa29b533d6d8"
            },
            "outputs": [
                {
                    "output_type": "stream",
                    "name": "stdout",
                    "text": "\r\n"
                },
                {
                    "output_type": "stream",
                    "name": "stdout",
                    "text": "\u001b[92mException             : \u001b[0m\r\n"
                },
                {
                    "output_type": "stream",
                    "name": "stdout",
                    "text": "    \u001b[92mType           : \u001b[0mSystem.Exception\r\n"
                },
                {
                    "output_type": "stream",
                    "name": "stdout",
                    "text": "    \u001b[92mMessage        : \u001b[0mLogin failed for user '8851588b-3041-4024-8fac-812b07199258'.\r\n"
                },
                {
                    "output_type": "stream",
                    "name": "stdout",
                    "text": "    \u001b[92mInnerException : \u001b[0m\r\n"
                },
                {
                    "output_type": "stream",
                    "name": "stdout",
                    "text": "        \u001b[92mType               : \u001b[0mSystem.Data.SqlClient.SqlException\r\n"
                },
                {
                    "output_type": "stream",
                    "name": "stdout",
                    "text": "        \u001b[92mErrors             : \u001b[0m\r\n"
                },
                {
                    "output_type": "stream",
                    "name": "stdout",
                    "text": "            \u001b[92mSource     : \u001b[0mCore .Net SqlClient Data Provider\r\n"
                },
                {
                    "output_type": "stream",
                    "name": "stdout",
                    "text": "            \u001b[92mNumber     : \u001b[0m18456\r\n"
                },
                {
                    "output_type": "stream",
                    "name": "stdout",
                    "text": "            \u001b[92mState      : \u001b[0m1\r\n"
                },
                {
                    "output_type": "stream",
                    "name": "stdout",
                    "text": "            \u001b[92mClass      : \u001b[0m14\r\n"
                },
                {
                    "output_type": "stream",
                    "name": "stdout",
                    "text": "            \u001b[92mServer     : \u001b[0mTCP:beard-elasticsql-dev.database.windows.net,1433\r\n"
                },
                {
                    "output_type": "stream",
                    "name": "stdout",
                    "text": "            \u001b[92mMessage    : \u001b[0mLogin failed for user '8851588b-3041-4024-8fac-812b07199258'.\r\n"
                },
                {
                    "output_type": "stream",
                    "name": "stdout",
                    "text": "            \u001b[92mLineNumber : \u001b[0m65536\r\n"
                },
                {
                    "output_type": "stream",
                    "name": "stdout",
                    "text": "        \u001b[92mClientConnectionId : \u001b[0m5491b22d-e392-4db3-bd9b-f298c05caee6\r\n"
                },
                {
                    "output_type": "stream",
                    "name": "stdout",
                    "text": "        \u001b[92mClass              : \u001b[0m14\r\n"
                },
                {
                    "output_type": "stream",
                    "name": "stdout",
                    "text": "        \u001b[92mLineNumber         : \u001b[0m65536\r\n"
                },
                {
                    "output_type": "stream",
                    "name": "stdout",
                    "text": "        \u001b[92mNumber             : \u001b[0m18456\r\n"
                },
                {
                    "output_type": "stream",
                    "name": "stdout",
                    "text": "        \u001b[92mServer             : \u001b[0mTCP:beard-elasticsql-dev.database.windows.net,1433\r\n"
                },
                {
                    "output_type": "stream",
                    "name": "stdout",
                    "text": "        \u001b[92mState              : \u001b[0m1\r\n"
                },
                {
                    "output_type": "stream",
                    "name": "stdout",
                    "text": "        \u001b[92mSource             : \u001b[0mCore .Net SqlClient Data Provider\r\n"
                },
                {
                    "output_type": "stream",
                    "name": "stdout",
                    "text": "        \u001b[92mErrorCode          : \u001b[0m-2146232060\r\n"
                },
                {
                    "output_type": "stream",
                    "name": "stdout",
                    "text": "        \u001b[92mTargetSite         : \u001b[0m\r\n"
                },
                {
                    "output_type": "stream",
                    "name": "stdout",
                    "text": "            \u001b[92mName          : \u001b[0mCheckPoolBlockingPeriod\r\n"
                },
                {
                    "output_type": "stream",
                    "name": "stdout",
                    "text": "            \u001b[92mDeclaringType : \u001b[0mSystem.Data.ProviderBase.DbConnectionPool, \r\n"
                },
                {
                    "output_type": "stream",
                    "name": "stdout",
                    "text": "System.Data.SqlClient, Version=4.6.1.1, Culture=neutral, PublicKeyToken=b03f5f7f11d50a3a\r\n"
                },
                {
                    "output_type": "stream",
                    "name": "stdout",
                    "text": "            \u001b[92mMemberType    : \u001b[0mMethod\r\n"
                },
                {
                    "output_type": "stream",
                    "name": "stdout",
                    "text": "            \u001b[92mModule        : \u001b[0mSystem.Data.SqlClient.dll\r\n"
                },
                {
                    "output_type": "stream",
                    "name": "stdout",
                    "text": "        \u001b[92mStackTrace         : \u001b[0m\r\n"
                },
                {
                    "output_type": "stream",
                    "name": "stdout",
                    "text": "   at System.Data.ProviderBase.DbConnectionPool.CheckPoolBlockingPeriod(Exception e)\r\n"
                },
                {
                    "output_type": "stream",
                    "name": "stdout",
                    "text": "   at System.Data.ProviderBase.DbConnectionPool.CreateObject(DbConnection owningObject, \r\n"
                },
                {
                    "output_type": "stream",
                    "name": "stdout",
                    "text": "DbConnectionOptions userOptions, DbConnectionInternal oldConnection)\r\n"
                },
                {
                    "output_type": "stream",
                    "name": "stdout",
                    "text": "   at System.Data.ProviderBase.DbConnectionPool.UserCreateRequest(DbConnection owningObject, \r\n"
                },
                {
                    "output_type": "stream",
                    "name": "stdout",
                    "text": "DbConnectionOptions userOptions, DbConnectionInternal oldConnection)\r\n"
                },
                {
                    "output_type": "stream",
                    "name": "stdout",
                    "text": "   at System.Data.ProviderBase.DbConnectionPool.TryGetConnection(DbConnection owningObject, UInt32 \r\n"
                },
                {
                    "output_type": "stream",
                    "name": "stdout",
                    "text": "waitForMultipleObjectsTimeout, Boolean allowCreate, Boolean onlyOneCheckConnection, \r\n"
                },
                {
                    "output_type": "stream",
                    "name": "stdout",
                    "text": "DbConnectionOptions userOptions, DbConnectionInternal& connection)\r\n"
                },
                {
                    "output_type": "stream",
                    "name": "stdout",
                    "text": "   at System.Data.ProviderBase.DbConnectionPool.TryGetConnection(DbConnection owningObject, \r\n"
                },
                {
                    "output_type": "stream",
                    "name": "stdout",
                    "text": "TaskCompletionSource`1 retry, DbConnectionOptions userOptions, DbConnectionInternal& connection)\r\n"
                },
                {
                    "output_type": "stream",
                    "name": "stdout",
                    "text": "   at System.Data.ProviderBase.DbConnectionFactory.TryGetConnection(DbConnection owningConnection, \r\n"
                },
                {
                    "output_type": "stream",
                    "name": "stdout",
                    "text": "TaskCompletionSource`1 retry, DbConnectionOptions userOptions, DbConnectionInternal oldConnection, \r\n"
                },
                {
                    "output_type": "stream",
                    "name": "stdout",
                    "text": "DbConnectionInternal& connection)\r\n"
                },
                {
                    "output_type": "stream",
                    "name": "stdout",
                    "text": "   at System.Data.ProviderBase.DbConnectionInternal.TryOpenConnectionInternal(DbConnection \r\n"
                },
                {
                    "output_type": "stream",
                    "name": "stdout",
                    "text": "outerConnection, DbConnectionFactory connectionFactory, TaskCompletionSource`1 retry, \r\n"
                },
                {
                    "output_type": "stream",
                    "name": "stdout",
                    "text": "DbConnectionOptions userOptions)\r\n"
                },
                {
                    "output_type": "stream",
                    "name": "stdout",
                    "text": "   at System.Data.ProviderBase.DbConnectionClosed.TryOpenConnection(DbConnection outerConnection, \r\n"
                },
                {
                    "output_type": "stream",
                    "name": "stdout",
                    "text": "DbConnectionFactory connectionFactory, TaskCompletionSource`1 retry, DbConnectionOptions \r\n"
                },
                {
                    "output_type": "stream",
                    "name": "stdout",
                    "text": "userOptions)\r\n"
                },
                {
                    "output_type": "stream",
                    "name": "stdout",
                    "text": "   at System.Data.SqlClient.SqlConnection.TryOpen(TaskCompletionSource`1 retry)\r\n"
                },
                {
                    "output_type": "stream",
                    "name": "stdout",
                    "text": "   at System.Data.SqlClient.SqlConnection.Open()\r\n"
                },
                {
                    "output_type": "stream",
                    "name": "stdout",
                    "text": "   at Microsoft.SqlServer.Management.Common.ConnectionManager.InternalConnect()\r\n"
                },
                {
                    "output_type": "stream",
                    "name": "stdout",
                    "text": "   at Microsoft.SqlServer.Management.Common.ConnectionManager.Connect()\r\n"
                },
                {
                    "output_type": "stream",
                    "name": "stdout",
                    "text": "        \u001b[92mMessage            : \u001b[0mLogin failed for user '8851588b-3041-4024-8fac-812b07199258'.\r\n"
                },
                {
                    "output_type": "stream",
                    "name": "stdout",
                    "text": "        \u001b[92mData               : \u001b[0mSystem.Collections.ListDictionaryInternal\r\n"
                },
                {
                    "output_type": "stream",
                    "name": "stdout",
                    "text": "        \u001b[92mHResult            : \u001b[0m-2146232060\r\n"
                },
                {
                    "output_type": "stream",
                    "name": "stdout",
                    "text": "    \u001b[92mHResult        : \u001b[0m-2146233088\r\n"
                },
                {
                    "output_type": "stream",
                    "name": "stdout",
                    "text": "\u001b[92mTargetObject          : \u001b[0mbeard-elasticsql-dev.database.windows.net\r\n"
                },
                {
                    "output_type": "stream",
                    "name": "stdout",
                    "text": "\u001b[92mCategoryInfo          : \u001b[0mNotSpecified: (beard-elasticsql-de…atabase.windows.net:PSObject) \r\n"
                },
                {
                    "output_type": "stream",
                    "name": "stdout",
                    "text": "[Write-Error], Exception\r\n"
                },
                {
                    "output_type": "stream",
                    "name": "stdout",
                    "text": "\u001b[92mFullyQualifiedErrorId : \u001b[0mdbatools_Invoke-DbaQuery,Stop-Function\r\n"
                },
                {
                    "output_type": "stream",
                    "name": "stdout",
                    "text": "\u001b[92mErrorDetails          : \u001b[0mLogin failed for user '8851588b-3041-4024-8fac-812b07199258'.\r\n"
                },
                {
                    "output_type": "stream",
                    "name": "stdout",
                    "text": "\u001b[92mInvocationInfo        : \u001b[0m\r\n"
                },
                {
                    "output_type": "stream",
                    "name": "stdout",
                    "text": "    \u001b[92mMyCommand        : \u001b[0mStop-Function\r\n"
                },
                {
                    "output_type": "stream",
                    "name": "stdout",
                    "text": "    \u001b[92mScriptLineNumber : \u001b[0m47464\r\n"
                },
                {
                    "output_type": "stream",
                    "name": "stdout",
                    "text": "    \u001b[92mOffsetInLine     : \u001b[0m17\r\n"
                },
                {
                    "output_type": "stream",
                    "name": "stdout",
                    "text": "    \u001b[92mHistoryId        : \u001b[0m83\r\n"
                },
                {
                    "output_type": "stream",
                    "name": "stdout",
                    "text": "    \u001b[92mScriptName       : \r\n"
                },
                {
                    "output_type": "stream",
                    "name": "stdout",
                    "text": "\u001b[0mC:\\Users\\mrrob\\OneDrive\\Documents\\PowerShell\\Modules\\dbatools\\1.0.113\\allcommands.ps1\r\n"
                },
                {
                    "output_type": "stream",
                    "name": "stdout",
                    "text": "    \u001b[92mLine             : \u001b[0mStop-Function -Message \"Failure\" -ErrorRecord $_ -Target $instance \r\n"
                },
                {
                    "output_type": "stream",
                    "name": "stdout",
                    "text": "-Continue\r\n"
                },
                {
                    "output_type": "stream",
                    "name": "stdout",
                    "text": "                       \r\n"
                },
                {
                    "output_type": "stream",
                    "name": "stdout",
                    "text": "    \u001b[92mPositionMessage  : \u001b[0mAt \r\n"
                },
                {
                    "output_type": "stream",
                    "name": "stdout",
                    "text": "C:\\Users\\mrrob\\OneDrive\\Documents\\PowerShell\\Modules\\dbatools\\1.0.113\\allcommands.ps1:47464 char:17\r\n"
                },
                {
                    "output_type": "stream",
                    "name": "stdout",
                    "text": "                       + …             Stop-Function -Message \"Failure\" -ErrorRecord $_ -Target  …\r\n"
                },
                {
                    "output_type": "stream",
                    "name": "stdout",
                    "text": "                       +               ~~~~~~~~~~~~~~~~~~~~~~~~~~~~~~~~~~~~~~~~~~~~~~~~~~~~~~~~~\r\n"
                },
                {
                    "output_type": "stream",
                    "name": "stdout",
                    "text": "    \u001b[92mPSScriptRoot     : \r\n"
                },
                {
                    "output_type": "stream",
                    "name": "stdout",
                    "text": "\u001b[0mC:\\Users\\mrrob\\OneDrive\\Documents\\PowerShell\\Modules\\dbatools\\1.0.113\r\n"
                },
                {
                    "output_type": "stream",
                    "name": "stdout",
                    "text": "    \u001b[92mPSCommandPath    : \r\n"
                },
                {
                    "output_type": "stream",
                    "name": "stdout",
                    "text": "\u001b[0mC:\\Users\\mrrob\\OneDrive\\Documents\\PowerShell\\Modules\\dbatools\\1.0.113\\allcommands.ps1\r\n"
                },
                {
                    "output_type": "stream",
                    "name": "stdout",
                    "text": "    \u001b[92mInvocationName   : \u001b[0mStop-Function\r\n"
                },
                {
                    "output_type": "stream",
                    "name": "stdout",
                    "text": "    \u001b[92mCommandOrigin    : \u001b[0mInternal\r\n"
                },
                {
                    "output_type": "stream",
                    "name": "stdout",
                    "text": "\u001b[92mScriptStackTrace      : \u001b[0mat Stop-Function, \r\n"
                },
                {
                    "output_type": "stream",
                    "name": "stdout",
                    "text": "C:\\Users\\mrrob\\OneDrive\\Documents\\PowerShell\\Modules\\dbatools\\1.0.113\\allcommands.ps1: line 83443\r\n"
                },
                {
                    "output_type": "stream",
                    "name": "stdout",
                    "text": "                        at Invoke-DbaQuery<Process>, \r\n"
                },
                {
                    "output_type": "stream",
                    "name": "stdout",
                    "text": "C:\\Users\\mrrob\\OneDrive\\Documents\\PowerShell\\Modules\\dbatools\\1.0.113\\allcommands.ps1: line 47464\r\n"
                },
                {
                    "output_type": "stream",
                    "name": "stdout",
                    "text": "                        at <ScriptBlock>, <No file>: line 8\r\n"
                },
                {
                    "output_type": "stream",
                    "name": "stdout",
                    "text": "\u001b[92mPipelineIterationInfo : \u001b[0m\r\n"
                },
                {
                    "output_type": "stream",
                    "name": "stdout",
                    "text": "\r\n"
                },
                {
                    "output_type": "stream",
                    "name": "stdout",
                    "text": "\r\n"
                },
                {
                    "output_type": "stream",
                    "name": "stdout",
                    "text": "\r\n"
                },
                {
                    "output_type": "stream",
                    "name": "stdout",
                    "text": "\r\n"
                }
            ],
            "execution_count": 75
        }
    ]
}