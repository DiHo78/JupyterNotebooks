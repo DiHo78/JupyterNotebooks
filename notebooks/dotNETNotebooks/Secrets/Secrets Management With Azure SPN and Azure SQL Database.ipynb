{
    "metadata": {
        "kernelspec": {
            "name": ".net-powershell",
            "display_name": ".NET (PowerShell)"
        },
        "language_info": {
            "name": "PowerShell",
            "version": "7.0",
            "mimetype": "text/x-powershell",
            "file_extension": ".ps1",
            "pygments_lexer": "powershell"
        }
    },
    "nbformat_minor": 2,
    "nbformat": 4,
    "cells": [
        {
            "cell_type": "markdown",
            "source": [
                "# Secret Management with SPN and Azure SQL Database\r\n",
                "\r\n",
                "\r\n",
                "Create an SPN in Azure"
            ],
            "metadata": {
                "azdata_cell_guid": "4160b346-b7ef-47ca-9c0a-abf2b8c35509"
            }
        },
        {
            "cell_type": "markdown",
            "source": [
                "Lets make ssure we have the modules we require"
            ],
            "metadata": {
                "azdata_cell_guid": "fa11a65f-8022-468c-a4b6-0159660c8938"
            }
        },
        {
            "cell_type": "code",
            "source": [
                "if((Get-PsRepository -Name PSGallery).InstallationPolicy -ne 'Trusted'){\r\n",
                "    Write-Output \"The PowerShell Gallery is not trusted so I will trust it so that we can install the modules without interaction\"\r\n",
                "    Set-PsRepository -Name PSGallery -InstallationPolicy Trusted\r\n",
                "} else {\r\n",
                "    Write-Output \"The PowerShell Gallery is trusted I will continue\"\r\n",
                "}\r\n",
                "If((Get-Module Az.* -ListAvailable)){\r\n",
                "    Write-Output \"We have some AZ modules\"\r\n",
                "} else {\r\n",
                "    Write-Output \"We need to install the AZ modules\"\r\n",
                "    Install-Module -Name Az -AllowClobber -Scope CurrentUser\r\n",
                "}\r\n",
                "If((Get-Module dbatools -ListAvailable)){\r\n",
                "    Write-Output \"We have the dbatools module\"\r\n",
                "} else {\r\n",
                "    Write-Output \"We need to install the dbatools module\"\r\n",
                "    Install-Module -Name dbatools -Scope CurrentUser\r\n",
                "}"
            ],
            "metadata": {
                "azdata_cell_guid": "78a74a19-40a8-4b64-8fea-9bc88b0ccbe4",
                "tags": [
                    "hide_input"
                ]
            },
            "outputs": [],
            "execution_count": null
        },
        {
            "cell_type": "code",
            "source": [
                "# Connect to Azure with a browser sign in token - \r\n",
                "Connect-AzAccount\r\n",
                "\r\n",
                ""
            ],
            "metadata": {
                "azdata_cell_guid": "0c28419f-060e-4fff-b150-1ce13bf1b49a"
            },
            "outputs": [
                {
                    "data": {
                        "text/html": "\r\n<div>\r\n    <div id='dotnet-interactive-this-cell-32856.da635524a0f841efae74f0261ffb919a' style='display: none'>\r\n        The below script needs to be able to find the current output cell; this is an easy method to get it.\r\n    </div>\r\n    <script type='text/javascript'>\r\n// ensure `require` is available globally\r\nif (typeof require !== typeof Function || typeof require.config !== typeof Function) {\r\n    let require_script = document.createElement('script');\r\n    require_script.setAttribute('src', 'https://cdnjs.cloudflare.com/ajax/libs/require.js/2.3.6/require.min.js');\r\n    require_script.setAttribute('type', 'text/javascript');\r\n    require_script.onload = function () {\r\n        loadDotnetInteractiveApi();\r\n    };\r\n\r\n    document.getElementsByTagName('head')[0].appendChild(require_script);\r\n}\r\nelse {\r\n    loadDotnetInteractiveApi();\r\n}\r\n\r\nasync function probeAddresses(probingAddresses) {\r\n    function timeout(ms, promise) {\r\n        return new Promise(function (resolve, reject) {\r\n            setTimeout(function () {\r\n                reject(new Error('timeout'))\r\n            }, ms)\r\n            promise.then(resolve, reject)\r\n        })\r\n    }\r\n\r\n    if (Array.isArray(probingAddresses)) {\r\n        for (let i = 0; i < probingAddresses.length; i++) {\r\n\r\n            let rootUrl = probingAddresses[i];\r\n\r\n            if (!rootUrl.endsWith('/')) {\r\n                rootUrl = `${rootUrl}/`;\r\n            }\r\n\r\n            try {\r\n                let response = await timeout(1000, fetch(`${rootUrl}discovery`, {\r\n                    method: 'POST',\r\n                    cache: 'no-cache',\r\n                    mode: 'cors',\r\n                    timeout: 1000,\r\n                    headers: {\r\n                        'Content-Type': 'text/plain'\r\n                    },\r\n                    body: probingAddresses[i]\r\n                }));\r\n\r\n                if (response.status == 200) {\r\n                    return rootUrl;\r\n                }\r\n            }\r\n            catch (e) { }\r\n        }\r\n    }\r\n}\r\n\r\nfunction loadDotnetInteractiveApi() {\r\n    probeAddresses([\"http://192.168.1.69:1001/\", \"http://172.31.208.1:1001/\", \"http://172.29.240.1:1001/\", \"http://127.0.0.1:1001/\"])\r\n        .then((root) => {\r\n            // use probing to find host url and api resources\r\n            // load interactive helpers and language services\r\n            let dotnet_require = require.config({\r\n                context: '32856.da635524a0f841efae74f0261ffb919a',\r\n                paths: {\r\n                    'dotnet-interactive': `${root}resources`\r\n                }\r\n            }) || require;\r\n            if (!window.dotnet_require) {\r\n                window.dotnet_require = dotnet_require;\r\n            }\r\n        \r\n            dotnet_require([\r\n                    'dotnet-interactive/dotnet-interactive'\r\n                ],\r\n                function (dotnet) {\r\n                    dotnet.init(window);\r\n                },\r\n                function (error) {\r\n                    console.log(error);\r\n                }\r\n            );\r\n        })\r\n        .catch(error => {console.log(error);});\r\n    }\r\n    </script>\r\n</div>"
                    },
                    "metadata": {},
                    "output_type": "display_data"
                },
                {
                    "name": "stdout",
                    "text": "\u001b[93mWARNING: To sign in, use a web browser to open the page https://microsoft.com/devicelogin and enter the code C44GCKS3J to authenticate.\u001b[0m\r\n",
                    "output_type": "stream"
                },
                {
                    "name": "stdout",
                    "text": "\r\n",
                    "output_type": "stream"
                },
                {
                    "name": "stdout",
                    "text": "Account                 SubscriptionName            TenantId                             Environmen\r\n",
                    "output_type": "stream"
                },
                {
                    "name": "stdout",
                    "text": "                                                                                         t\r\n",
                    "output_type": "stream"
                },
                {
                    "name": "stdout",
                    "text": "-------                 ----------------            --------                             ----------\r\n",
                    "output_type": "stream"
                },
                {
                    "name": "stdout",
                    "text": "mrrobsewell@outlook.com Microsoft Azure Sponsorship add02cc8-7eaf-4746-902a-53d0ceeff326 AzureCloud\r\n",
                    "output_type": "stream"
                },
                {
                    "name": "stdout",
                    "text": "\r\n",
                    "output_type": "stream"
                }
            ],
            "execution_count": 1
        },
        {
            "cell_type": "code",
            "source": [
                ""
            ],
            "metadata": {
                "azdata_cell_guid": "598ba950-d07e-4076-ac92-2aa950dad17e"
            },
            "outputs": [],
            "execution_count": null
        },
        {
            "cell_type": "code",
            "source": [
                "$sp = New-AzADServicePrincipal -DisplayName ServicePrincipalName"
            ],
            "metadata": {
                "azdata_cell_guid": "f879cae5-01a2-4ea3-a13b-266f3707fb2d"
            },
            "outputs": [],
            "execution_count": null
        }
    ]
}