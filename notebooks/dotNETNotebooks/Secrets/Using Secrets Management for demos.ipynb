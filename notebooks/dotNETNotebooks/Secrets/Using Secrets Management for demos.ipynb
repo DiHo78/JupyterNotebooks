{
    "metadata": {
        "kernelspec": {
            "name": ".net-powershell",
            "display_name": ".NET (PowerShell)"
        },
        "language_info": {
            "name": "PowerShell",
            "version": "7.0",
            "mimetype": "text/x-powershell",
            "file_extension": ".ps1",
            "pygments_lexer": "powershell"
        }
    },
    "nbformat_minor": 2,
    "nbformat": 4,
    "cells": [
        {
            "cell_type": "markdown",
            "source": [
                "# Storing and using Secrets for your labs and demos\r\n",
                "\r\n",
                "You can use the Microsoft.PowerShell.SecretManagement module introduced here to store and retrieve secrets with PowerShell.\r\n",
                "\r\n",
                "Installation\r\n",
                "Follow this notebook [Secrets Management with PowerShell](Secrets_Management_with_PowerShell.ipynb) for installation instructions"
            ],
            "metadata": {
                "azdata_cell_guid": "9536f2d9-53b8-4fa8-8e6a-3f1917e5ac40"
            }
        },
        {
            "cell_type": "markdown",
            "source": [
                "## Store your secrets\r\n",
                "\r\n",
                "We can use the built in local vault to store secrets for labs and demos. You can add your secrets using a couple of methods described in the first notebook"
            ],
            "metadata": {
                "azdata_cell_guid": "5e8eb5ee-ce89-4eab-a00c-e7fa5e33b680"
            }
        },
        {
            "cell_type": "code",
            "source": [
                "Set-Secret -Name BeardLabSaAccount -Secret 'BeardsAreAwesome!'"
            ],
            "metadata": {
                "azdata_cell_guid": "4e846ca5-d89a-4a91-a8b0-59505f7fd7f2"
            },
            "outputs": [],
            "execution_count": 7
        },
        {
            "cell_type": "markdown",
            "source": [
                "Look at [Secrets Management with PowerShell](Secrets_Management_with_PowerShell.ipynb) notebook for more options"
            ],
            "metadata": {
                "azdata_cell_guid": "ce796adc-24ac-477e-ba19-5dab887b508e"
            }
        },
        {
            "cell_type": "markdown",
            "source": [
                "## Using secrets in your code\r\n",
                "\r\n",
                "Now you can use the secrets in your code. Lets create a docker container and use the SA password from the vault"
            ],
            "metadata": {
                "azdata_cell_guid": "98bd2ac0-e7c2-4af4-8af7-793202715984"
            }
        },
        {
            "cell_type": "code",
            "source": [
                "$DockerSA = Get-Secret -Name BeardLabSaAccount -AsPlainText\r\n",
                "docker run -e \"ACCEPT_EULA=Y\" -e \"SA_PASSWORD=$DockerSA\" -p 15999:1433 --name beardcontainer -d mcr.microsoft.com/mssql/server:2019-latest"
            ],
            "metadata": {
                "azdata_cell_guid": "0257a2ed-7e1f-4a44-8421-2d49f9f87b8b"
            },
            "outputs": [
                {
                    "name": "stdout",
                    "text": "1903468df1adcd740b405d97e23c26678219a49f0302fcf10341bd2e4cbf02bf\r\n",
                    "output_type": "stream"
                }
            ],
            "execution_count": 13
        },
        {
            "cell_type": "markdown",
            "source": [
                "Now we can query the container with dbatools by retrieving the password from the vault and creating a credential object "
            ],
            "metadata": {
                "azdata_cell_guid": "bfcce585-544c-4cac-ba2a-409cbd708bac"
            }
        },
        {
            "cell_type": "code",
            "source": [
                "$DockerSaCred = New-Object System.Management.Automation.PSCredential ('sa',(Get-Secret -Name BeardLabSaAccount))\r\n",
                "$ContainerSQL = Connect-DbaInstance -SqlInstance 'localhost,15999' -SqlCredential $DockerSaCred\r\n",
                "\r\n",
                "Get-DbaDatabase -SqlInstance $containersql |Format-Table\r\n",
                "Get-DbaLogin -SqlInstance $containersql | Format-Table"
            ],
            "metadata": {
                "azdata_cell_guid": "bbf81c01-22a0-4728-95a4-6a3753f41c09"
            },
            "outputs": [
                {
                    "name": "stdout",
                    "text": "\r\n",
                    "output_type": "stream"
                },
                {
                    "name": "stdout",
                    "text": "ComputerName InstanceName SqlInstance  Name   Status IsAccessible RecoveryModel LogReuseWaitStatus\r\n",
                    "output_type": "stream"
                },
                {
                    "name": "stdout",
                    "text": "------------ ------------ -----------  ----   ------ ------------ ------------- ------------------\r\n",
                    "output_type": "stream"
                },
                {
                    "name": "stdout",
                    "text": "localhost    MSSQLSERVER  135b32b4a432 master Normal         True        Simple        Transaction\r\n",
                    "output_type": "stream"
                },
                {
                    "name": "stdout",
                    "text": "localhost    MSSQLSERVER  135b32b4a432 tempdb Normal         True        Simple            Nothing\r\n",
                    "output_type": "stream"
                },
                {
                    "name": "stdout",
                    "text": "localhost    MSSQLSERVER  135b32b4a432 model  Normal         True          Full            Nothing\r\n",
                    "output_type": "stream"
                },
                {
                    "name": "stdout",
                    "text": "localhost    MSSQLSERVER  135b32b4a432 msdb   Normal         True        Simple            Nothing\r\n",
                    "output_type": "stream"
                },
                {
                    "name": "stdout",
                    "text": "\r\n",
                    "output_type": "stream"
                },
                {
                    "name": "stdout",
                    "text": "\r\n",
                    "output_type": "stream"
                },
                {
                    "name": "stdout",
                    "text": "ComputerName InstanceName SqlInstance  Name                                 LoginType CreateDate\r\n",
                    "output_type": "stream"
                },
                {
                    "name": "stdout",
                    "text": "------------ ------------ -----------  ----                                 --------- ----------   \r\n",
                    "output_type": "stream"
                },
                {
                    "name": "stdout",
                    "text": "localhost    MSSQLSERVER  135b32b4a432 ##MS_PolicyEventProcessingLogin##     SqlLogin 10/06/2020 1…\r\n",
                    "output_type": "stream"
                },
                {
                    "name": "stdout",
                    "text": "localhost    MSSQLSERVER  135b32b4a432 ##MS_PolicyTsqlExecutionLogin##       SqlLogin 10/06/2020 1…\r\n",
                    "output_type": "stream"
                },
                {
                    "name": "stdout",
                    "text": "localhost    MSSQLSERVER  135b32b4a432 BUILTIN\\Administrators            WindowsGroup 10/06/2020 1…\r\n",
                    "output_type": "stream"
                },
                {
                    "name": "stdout",
                    "text": "localhost    MSSQLSERVER  135b32b4a432 NT AUTHORITY\\NETWORK SERVICE       WindowsUser 18/07/2020 0…\r\n",
                    "output_type": "stream"
                },
                {
                    "name": "stdout",
                    "text": "localhost    MSSQLSERVER  135b32b4a432 NT AUTHORITY\\SYSTEM                WindowsUser 18/07/2020 0…\r\n",
                    "output_type": "stream"
                },
                {
                    "name": "stdout",
                    "text": "localhost    MSSQLSERVER  135b32b4a432 sa                                    SqlLogin 08/04/2003 0…\r\n",
                    "output_type": "stream"
                },
                {
                    "name": "stdout",
                    "text": "\r\n",
                    "output_type": "stream"
                }
            ],
            "execution_count": 19
        },
        {
            "cell_type": "markdown",
            "source": [
                "## Remove the container"
            ],
            "metadata": {
                "azdata_cell_guid": "50d22ba7-c42d-498a-b40e-d8804c1518e1"
            }
        },
        {
            "cell_type": "code",
            "source": [
                "docker rm beardcontainer --force\r\n",
                "docker ps -a"
            ],
            "metadata": {
                "azdata_cell_guid": "8bfe4cf8-6962-45ab-aecf-ece3e448fe6b"
            },
            "outputs": [
                {
                    "name": "stdout",
                    "text": "beardcontainer\r\n",
                    "output_type": "stream"
                },
                {
                    "name": "stdout",
                    "text": "CONTAINER ID        IMAGE               COMMAND             CREATED             STATUS              PORTS               NAMES\r\n",
                    "output_type": "stream"
                }
            ],
            "execution_count": 12
        }
    ]
}