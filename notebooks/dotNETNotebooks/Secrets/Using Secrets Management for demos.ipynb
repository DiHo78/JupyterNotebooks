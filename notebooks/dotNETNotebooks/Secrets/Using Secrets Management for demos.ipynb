{
    "metadata": {
        "kernelspec": {
            "name": ".net-powershell",
            "display_name": ".NET (PowerShell)"
        },
        "language_info": {
            "name": "PowerShell",
            "version": "7.0",
            "mimetype": "text/x-powershell",
            "file_extension": ".ps1",
            "pygments_lexer": "powershell"
        }
    },
    "nbformat_minor": 2,
    "nbformat": 4,
    "cells": [
        {
            "cell_type": "markdown",
            "source": [
                "# Storing Secrets for your labs\r\n",
                "\r\n",
                "You can use the Microsoft.PowerShell.SecretManagement module introduced here to store and retrieve secrets with PowerShell.\r\n",
                "\r\n",
                "Installation\r\n",
                "You install it from the PowerShell Gallery using"
            ],
            "metadata": {
                "azdata_cell_guid": "9536f2d9-53b8-4fa8-8e6a-3f1917e5ac40"
            }
        },
        {
            "cell_type": "code",
            "source": [
                "Install-Module Microsoft.PowerShell.SecretManagement -AllowPrerelease"
            ],
            "metadata": {
                "azdata_cell_guid": "2e0b6025-b8ac-40f5-924b-6fb17da870ca"
            },
            "outputs": [],
            "execution_count": null
        },
        {
            "cell_type": "markdown",
            "source": [
                "You need to use the `-PreRelease` flag at the moment as it is in preview. \r\n",
                "\r\n",
                "## Local Vault\r\n",
                "\r\n",
                "It will come with a built in local key vault for you to use. You can see this with `Get-SecretVault`"
            ],
            "metadata": {
                "azdata_cell_guid": "9805b9c4-b61d-4f81-9bc7-89df70c5f3fe"
            }
        },
        {
            "cell_type": "code",
            "source": [
                "Get-SecretVault"
            ],
            "metadata": {
                "azdata_cell_guid": "c56718a1-6a3e-45f2-b9c8-334ded6c5f84"
            },
            "outputs": [
                {
                    "data": {
                        "text/html": "<script type=\"text/javascript\">#!javascript\r\nif ((typeof(requirejs) !==  typeof(Function)) || (typeof(requirejs.config) !== typeof(Function))) { \r\n    let script = document.createElement(\"script\"); \r\n    script.setAttribute(\"src\", \"https://cdnjs.cloudflare.com/ajax/libs/require.js/2.3.6/require.min.js\"); \r\n    script.onload = function(){\r\n        loadDotnetInteractiveApi();\r\n    };\r\n    document.getElementsByTagName(\"head\")[0].appendChild(script); \r\n}\r\nelse {\r\n    loadDotnetInteractiveApi();\r\n}\r\n\r\nfunction loadDotnetInteractiveApi(){\r\n    let apiRequire = requirejs.config({context:\"dotnet-interactive.23580.54265\",paths:{dotnetInteractive:\"http://localhost:54265/resources/dotnet-interactive\"}});\r\n    apiRequire(['dotnetInteractive'], \r\n    function(api) {       \r\n        api.createDotnetInteractiveClient(\"http://localhost:54265/\", window);\r\n    },\r\n    function(error){\r\n        console.log(error);\r\n    });\r\n}</script>"
                    },
                    "metadata": {},
                    "output_type": "display_data"
                },
                {
                    "name": "stdout",
                    "text": "\r\n",
                    "output_type": "stream"
                },
                {
                    "name": "stdout",
                    "text": "Name              ModuleName ImplementingType\r\n",
                    "output_type": "stream"
                },
                {
                    "name": "stdout",
                    "text": "----              ---------- ----------------\r\n",
                    "output_type": "stream"
                },
                {
                    "name": "stdout",
                    "text": "BuiltInLocalVault            \r\n",
                    "output_type": "stream"
                },
                {
                    "name": "stdout",
                    "text": "\r\n",
                    "output_type": "stream"
                }
            ],
            "execution_count": 1
        },
        {
            "cell_type": "markdown",
            "source": [
                "## Store your secrets\r\n",
                "\r\n",
                "This is a great place to store your secrets for your demos. You can add your secrets using a couple of methods\r\n",
                "\r\n",
                "- It's just your lab, just type them in to `Get-Secret`"
            ],
            "metadata": {
                "azdata_cell_guid": "5e8eb5ee-ce89-4eab-a00c-e7fa5e33b680"
            }
        },
        {
            "cell_type": "code",
            "source": [
                "Set-Secret -Name BeardLabSaAccount -Secret 'BeardsAreAwesome'"
            ],
            "metadata": {
                "azdata_cell_guid": "4e846ca5-d89a-4a91-a8b0-59505f7fd7f2"
            },
            "outputs": [],
            "execution_count": 2
        }
    ]
}