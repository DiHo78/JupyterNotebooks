{
    "metadata": {
        "kernelspec": {
            "name": "powershell",
            "display_name": "PowerShell"
        },
        "language_info": {
            "name": "powershell",
            "codemirror_mode": "shell",
            "mimetype": "text/x-sh",
            "file_extension": ".ps1"
        }
    },
    "nbformat_minor": 2,
    "nbformat": 4,
    "cells": [
        {
            "cell_type": "markdown",
            "source": [
                "If we create a script we can all with some output"
            ],
            "metadata": {
                "azdata_cell_guid": "4ce862f4-f2b2-43aa-83f9-03af496c35be"
            }
        },
        {
            "cell_type": "code",
            "source": [
                "$script = @\"\n",
                "ECHO 'A thing'\n",
                "ECHO 'Another thing'\n",
                "ECHO 'Yet another thing'\n",
                "ECHO 'Maybe this is progress'\n",
                "\"@\n",
                "\n",
                "$cmdScriptBlock = [scriptblock]::Create($script)\n",
                "        Invoke-Command -ScriptBlock $cmdScriptBlock | Tee-Object -Variable r"
            ],
            "metadata": {
                "azdata_cell_guid": "9c728542-c22d-4ab8-83e4-46ef30a216eb"
            },
            "outputs": [
                {
                    "output_type": "stream",
                    "name": "stdout",
                    "text": "A thing\nAnother thing\nYet another thing\nMaybe this is progress\n"
                }
            ],
            "execution_count": 1
        },
        {
            "cell_type": "markdown",
            "source": [
                "and then add it into a framework of your code"
            ],
            "metadata": {
                "azdata_cell_guid": "917ae83c-d910-4f93-bc10-35d75db439a3"
            }
        },
        {
            "cell_type": "code",
            "source": [
                "function Set-S3Object {\r\n",
                "    $script = @\"\r\n",
                "ECHO 'A thing'\r\n",
                "ECHO 'Another thing'\r\n",
                "ECHO 'Yet another thing'\r\n",
                "ECHO 'Maybe this is progress'\r\n",
                "\"@\r\n",
                "\r\n",
                "    $cmdScriptBlock = [scriptblock]::Create($script)\r\n",
                "    Invoke-Command -ScriptBlock $cmdScriptBlock | Tee-Object -Variable r  ## This output is sent to the variable\r\n",
                "}\r\n",
                "\r\n",
                "function Copy-GlacierToS3 {\r\n",
                "    Param($file)\r\n",
                "    $resultObj = [PSCustomObject]@{\r\n",
                "        LocalFile = $file\r\n",
                "        Status    = \"always\"\r\n",
                "    }\r\n",
                "    Set-S3Object\r\n",
                "    $resultObj.Status = \"Success\"\r\n",
                "\r\n",
                "\r\n",
                "    return $resultObj\r\n",
                "}\r\n",
                "\r\n",
                "# DO Migration\r\n",
                "$resultList = @()\r\n",
                "$filesToMigrate = 'file1','file2','file3'\r\n",
                "# foreach, call Copy-GlacierToS3\r\n",
                "foreach ($f in $filesToMigrate) {\r\n",
                "    $res = Copy-GlacierToS3 -File $f\r\n",
                "    \r\n",
                "    $resultList += $res\r\n",
                "    Start-Sleep -Seconds 2\r\n",
                "}\r\n",
                "\r\n",
                "# display results\r\n",
                "$resultList # This is where output will occur"
            ],
            "metadata": {
                "azdata_cell_guid": "4f1ecb20-9b75-4bae-86b0-375706a82f99"
            },
            "outputs": [
                {
                    "output_type": "stream",
                    "name": "stdout",
                    "text": "A thing\nAnother thing\nYet another thing\nMaybe this is progress\n\nLocalFile Status \n--------- ------ \nfile1     Success\nA thing\nAnother thing\nYet another thing\nMaybe this is progress\nfile2     Success\nA thing\nAnother thing\nYet another thing\nMaybe this is progress\nfile3     Success\n\n\n"
                }
            ],
            "execution_count": 2
        },
        {
            "cell_type": "markdown",
            "source": [
                "So you would have to do something clever with jobs to get the output - like this - Notebooks will give you the output at the end by default but if you run this code in the console you will see what is happening"
            ],
            "metadata": {
                "azdata_cell_guid": "c1fa31c3-eeb0-4ad7-b0d9-1eafcfdcb94e"
            }
        },
        {
            "cell_type": "code",
            "source": [
                "$JobName = 'Jobb'\r\n",
                "$JobScript = \"Write-Output 'I am a job';Start-Sleep -Seconds 20 ; Write-Output 'I am further in';Start-Sleep -Seconds 20 ; Write-Output 'I have finished'\"\r\n",
                "Start-Job -Name $JobName {Write-Output 'I am a job';Start-Sleep -Seconds 20 ; Write-Output 'I am further in';Start-Sleep -Seconds 20 ; Write-Output 'I have finished'}\r\n",
                "$job = Get-Job -Name $Jobname\r\n",
                "While (($job.State -ne 'Completed') -and ($job.State -ne 'Failed')){\r\n",
                "    $job = Get-Job -Name $Jobname\r\n",
                "    $jobresult = Receive-Job -Name $Jobname\r\n",
                "    $JobResult\r\n",
                "    Start-Sleep -Seconds 10\r\n",
                "}\r\n",
                "$jobresult = Receive-Job -Name $Jobname\r\n",
                "$JobResult\r\n",
                "Remove-Job -Name $JobName -Force\r\n",
                ""
            ],
            "metadata": {
                "azdata_cell_guid": "e98b0ff9-7ed8-486b-8a00-51992794c55b"
            },
            "outputs": [
                {
                    "name": "stdout",
                    "text": "\nId     Name            PSJobTypeName   State         HasMoreData     Location             Command                  \n--     ----            -------------   -----         -----------     --------             -------                  \n19     Jobb            BackgroundJob   Running       True            localhost            Write-Output 'I am a j...\nI am a job\nI am further in\nI have finished\n\n\n",
                    "output_type": "stream"
                }
            ],
            "execution_count": 13
        },
        {
            "cell_type": "markdown",
            "source": [
                "BUt in this scenario it is really hard to do as the powershell cant read the output of the invoke-comand that is running the S3 upload command in real time as it sends the command off and doesnt get it back until the end"
            ],
            "metadata": {
                "azdata_cell_guid": "d6d35795-9297-484c-b654-6d71eaa8e3bf"
            }
        },
        {
            "cell_type": "code",
            "source": [
                "function Set-S3Object {\r\n",
                "    $script = @\"\r\n",
                "ECHO 'A thing'\r\n",
                "ECHO 'Another thing'\r\n",
                "ECHO 'Yet another thing'\r\n",
                "ECHO 'Maybe this is progress'\r\n",
                "\"@\r\n",
                "\r\n",
                "    $cmdScriptBlock = [scriptblock]::Create($script)\r\n",
                "    Invoke-Command -ScriptBlock $cmdScriptBlock | Tee-Object -Variable r  ## This output is sent to the variable\r\n",
                "}\r\n",
                "\r\n",
                "function Copy-GlacierToS3 {\r\n",
                "    Param($file)\r\n",
                "    $resultObj = [PSCustomObject]@{\r\n",
                "        LocalFile = $file\r\n",
                "        Status    = \"always\"\r\n",
                "    }\r\n",
                "    Set-S3Object\r\n",
                "    $resultObj.Status = \"Success\"\r\n",
                "\r\n",
                "\r\n",
                "    return $resultObj\r\n",
                "}\r\n",
                "\r\n",
                "# Do Migration\r\n",
                "$resultList = @()\r\n",
                "$filesToMigrate = 'file1', 'file2', 'file3'\r\n",
                "# foreach, call Copy-GlacierToS3\r\n",
                "foreach ($f in $filesToMigrate) {\r\n",
                "    $JobName = 'Jobb'\r\n",
                "    Start-Job -Name $JobName {$res = Copy-GlacierToS3 -File $f }\r\n",
                "    $job = Get-Job -Name $Jobname\r\n",
                "    While (($job.State -ne 'Completed') -and ($job.State -ne 'Failed')) {\r\n",
                "        $job = Get-Job -Name $Jobname\r\n",
                "        $jobresult = Receive-Job -Name $Jobname\r\n",
                "        $JobResult\r\n",
                "        Start-Sleep -Seconds 10\r\n",
                "    }\r\n",
                "    $jobresult = Receive-Job -Name $Jobname\r\n",
                "    $JobResult\r\n",
                "    Remove-Job -Name $JobName -Force\r\n",
                "    \r\n",
                "    $resultList += $res\r\n",
                "    Start-Sleep -Seconds 2\r\n",
                "}\r\n",
                "\r\n",
                "# display results\r\n",
                "$resultList # This is where output will occur"
            ],
            "metadata": {
                "azdata_cell_guid": "53ca1ada-60fd-47e6-bfb1-b85d3ab65844"
            },
            "outputs": [],
            "execution_count": null
        },
        {
            "cell_type": "code",
            "source": [
                "$jobresult"
            ],
            "metadata": {
                "azdata_cell_guid": "26ae2c4e-88ca-4523-972a-67980bc1246e"
            },
            "outputs": [
                {
                    "name": "stdout",
                    "text": "",
                    "output_type": "stream"
                }
            ],
            "execution_count": 11
        }
    ]
}