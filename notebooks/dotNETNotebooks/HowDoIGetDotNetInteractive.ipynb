{
 "cells": [
  {
   "cell_type": "markdown",
   "metadata": {},
   "source": [
    "# How do I get .Net Interactive ?\n",
    "\n",
    "It's quite easy to do. It will take you a few minutes.\n",
    "\n",
    "Go to this link \n",
    "\n",
    "https://devblogs.microsoft.com/dotnet/net-interactive-is-here-net-notebooks-preview-2/\n",
    "\n",
    "and follow the instructions carefully\n",
    "\n",
    "See you soon :-)"
   ]
  },
  {
   "cell_type": "code",
   "execution_count": null,
   "metadata": {},
   "outputs": [],
   "source": []
  }
 ],
 "metadata": {
  "kernelspec": {
   "display_name": ".NET (PowerShell)",
   "language": "PowerShell",
   "name": ".net-powershell"
  },
  "language_info": {
   "file_extension": ".ps1",
   "mimetype": "text/x-powershell",
   "name": "PowerShell",
   "pygments_lexer": "powershell",
   "version": "7.0"
  }
 },
 "nbformat": 4,
 "nbformat_minor": 4
}
