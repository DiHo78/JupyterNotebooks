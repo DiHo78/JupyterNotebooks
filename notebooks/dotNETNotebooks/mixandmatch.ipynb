{
 "cells": [
  {
   "cell_type": "markdown",
   "metadata": {
    "azdata_cell_guid": "81a5bbcb-7caa-4c77-aebd-a810246737f4"
   },
   "source": [
    "# Run C# and Pwsh in the same Notebook\r\n",
    "\r\n",
    "This notebook will run C# and pwsh in the saem notebook and pass values between them"
   ]
  },
  {
   "cell_type": "markdown",
   "metadata": {
    "azdata_cell_guid": "bfc2ea56-a881-4578-98b3-3756aa335598"
   },
   "source": [
    "We will see how long it takes between C# and pwsh to count files in a directory. First create 10,000 files"
   ]
  },
  {
   "cell_type": "code",
   "execution_count": 37,
   "metadata": {
    "azdata_cell_guid": "2bf678c7-1ada-4597-9b99-5255d750641c",
    "tags": [
     "hide_input"
    ]
   },
   "outputs": [],
   "source": [
    "$playdir = \"$Env:Temp\\pwshplaydir\"\r\n",
    "if (-not (Test-Path $playdir)) {\r\n",
    " #   New-Item $playdir -ItemType Directory\r\n",
    "    $10k = 0..10000\r\n",
    "    $10k | ForEach-Object -ThrottleLimit 10 -Parallel {\r\n",
    "        $PlayFileName = $Using:playdir + \"\\$PSItem.txt\"\r\n",
    "        $Null = New-Item $PlayFileName -ItemType File -Force\r\n",
    "    }\r\n",
    "}"
   ]
  },
  {
   "cell_type": "markdown",
   "metadata": {
    "azdata_cell_guid": "93986910-15c4-43a7-af3c-2ad6a2565c4b"
   },
   "source": [
    "Start a stopwatch"
   ]
  },
  {
   "cell_type": "code",
   "execution_count": 38,
   "metadata": {
    "azdata_cell_guid": "c66b5e8f-af57-4fb2-aab2-800b8af7d05c"
   },
   "outputs": [],
   "source": [
    "$Stopwatch = [diagnostics.stopwatch]::StartNew()"
   ]
  },
  {
   "cell_type": "markdown",
   "metadata": {
    "azdata_cell_guid": "dbd03adc-fc9e-46f4-9b74-636262881a34"
   },
   "source": [
    "Get the file count with c# using the magic command `#!csharp`"
   ]
  },
  {
   "cell_type": "code",
   "execution_count": 39,
   "metadata": {
    "azdata_cell_guid": "813730f2-3c74-48d9-949a-d0c1f21dc57b",
    "tags": [
     "hide_input"
    ]
   },
   "outputs": [
    {
     "name": "stdout",
     "output_type": "stream",
     "text": [
      "Number of Files : 10001\n",
      "\n"
     ]
    }
   ],
   "source": [
    "#!csharp\n",
    "using System.IO; \n",
    "using System;\n",
    "int fileCount = Directory.GetFiles(@\"C:\\Users\\mrrob\\AppData\\Local\\Temp\\pwshplaydir\", \"*\", SearchOption.TopDirectoryOnly).Length;\n",
    "Console.WriteLine($\"Number of Files : {fileCount}\\n\");"
   ]
  },
  {
   "cell_type": "code",
   "execution_count": 40,
   "metadata": {
    "azdata_cell_guid": "8fa7e338-b9d1-41c3-80aa-a0facd70e5b2"
   },
   "outputs": [],
   "source": [
    "$Stopwatch.Stop()\n",
    "$csharpmillisecs = $Stopwatch.Elapsed.Milliseconds"
   ]
  },
  {
   "cell_type": "markdown",
   "metadata": {
    "azdata_cell_guid": "7d68593e-9137-4396-92d2-5e5599b38336"
   },
   "source": [
    "Count the same files with pwsh"
   ]
  },
  {
   "cell_type": "code",
   "execution_count": 41,
   "metadata": {
    "azdata_cell_guid": "f8fdc70f-059c-42cc-b0c1-d2c0cd5203a8",
    "tags": [
     "hide_input"
    ]
   },
   "outputs": [
    {
     "name": "stdout",
     "output_type": "stream",
     "text": [
      "The File Count is 10001\n"
     ]
    }
   ],
   "source": [
    "$Stopwatch = [diagnostics.stopwatch]::StartNew()\n",
    "$FileCount = (Get-Childitem C:\\Users\\mrrob\\AppData\\Local\\Temp\\pwshplaydir).Count\n",
    "Write-Output \"The File Count is $FileCount\""
   ]
  },
  {
   "cell_type": "code",
   "execution_count": 42,
   "metadata": {
    "azdata_cell_guid": "685b53ac-85cb-4505-a2db-01a591e219f5",
    "tags": [
     "hide_input"
    ]
   },
   "outputs": [],
   "source": [
    "$Stopwatch.Stop()\n",
    "$pwshmillisecs = $Stopwatch.Elapsed.Milliseconds"
   ]
  },
  {
   "cell_type": "markdown",
   "metadata": {
    "azdata_cell_guid": "2dc3ff37-8ded-44a4-99c4-b031a7369a3c"
   },
   "source": [
    "Which was quicker ?"
   ]
  },
  {
   "cell_type": "code",
   "execution_count": 43,
   "metadata": {
    "azdata_cell_guid": "8b726a22-df45-4559-881b-d2100651f2e3",
    "tags": []
   },
   "outputs": [],
   "source": [
    "function Which-WasQuicker {\r\n",
    "    if($pwshmillisecs -lt $csharpmillisecs ){\r\n",
    "        $percquicker = [math]::Round(($pwshmillisecs / $csharpmillisecs)  * 100, 2)\r\n",
    "        Write-PSFHostColor -String \"<c='blue'> Pwsh did it in</c><c='yellow'> $pwshmillisecs milliseconds</c> which was quicker than C Sharp did it. <c='Magenta'> C Sharp did it in</c><c='yellow'> $csharpmillisecs milliseconds</c> Pwsh completed in $percquicker % of the time \" -DefaultColor Green\r\n",
    "    }else{\r\n",
    "        $percquicker = [math]::Round(($csharpmillisecs / $pwshmillisecs )  * 100, 2)\r\n",
    "        Write-PSFHostColor -String \"<c='Magenta'> C Sharp did it in</c><c='yellow'> $csharpmillisecs milliseconds</c> which was quicker than Pwsh did.<c='blue'> Pwsh did it in</c><c='yellow'> $pwshmillisecs milliseconds</c> C Sharp completed in $percquicker % of the time\" -DefaultColor Green\r\n",
    "    }\r\n",
    "\r\n",
    "}"
   ]
  },
  {
   "cell_type": "code",
   "execution_count": 44,
   "metadata": {
    "azdata_cell_guid": "e4839d89-224a-4788-8767-faba7b14b9f7"
   },
   "outputs": [
    {
     "name": "stdout",
     "output_type": "stream",
     "text": [
      "\u001b[95m C Sharp did it in\u001b[0m\u001b[93m 58 milliseconds\u001b[0m\u001b[92m which was quicker than Pwsh did.\u001b[0m\u001b[94m Pwsh did it in\u001b[0m\u001b[93m 79 milliseconds\u001b[0m\u001b[92m C Sharp completed in 73.42 % of the time\u001b[0m\n"
     ]
    }
   ],
   "source": [
    "Which-WasQuicker"
   ]
  },
  {
   "cell_type": "markdown",
   "metadata": {
    "azdata_cell_guid": "b945774d-55ad-42c4-9aae-9710c8cc83f7"
   },
   "source": [
    "We can set a variable from C Sharp to the number of files"
   ]
  },
  {
   "cell_type": "code",
   "execution_count": 45,
   "metadata": {
    "azdata_cell_guid": "7fa655cf-fa00-4b7d-bcce-eb950efac003",
    "tags": [
     "hide_input"
    ]
   },
   "outputs": [
    {
     "name": "stdout",
     "output_type": "stream",
     "text": [
      "Number of Files from csharp :10001\n",
      "\n"
     ]
    }
   ],
   "source": [
    "#!csharp\n",
    "using System.IO; \n",
    "using System;\n",
    "string value;\n",
    "string File_Countfromenv;\n",
    "int fileCount = Directory.GetFiles(@\"C:\\Users\\mrrob\\AppData\\Local\\Temp\\pwshplaydir\", \"*\", SearchOption.TopDirectoryOnly).Length;\n",
    "value = Convert.ToString(fileCount);\n",
    "Environment.SetEnvironmentVariable(\"File_Count\", value);\n",
    "File_Countfromenv = Environment.GetEnvironmentVariable(\"File_Count\");\n",
    "Console.WriteLine($\"Number of Files from csharp :{File_Countfromenv}\\n\");"
   ]
  },
  {
   "cell_type": "markdown",
   "metadata": {
    "azdata_cell_guid": "e3d704db-f5c5-4750-8ff2-7ef1a899f00e"
   },
   "source": [
    "and then read it from pwsh"
   ]
  },
  {
   "cell_type": "code",
   "execution_count": 46,
   "metadata": {
    "azdata_cell_guid": "61e175c9-fcbf-4c42-b34d-d1c6b425eccf"
   },
   "outputs": [
    {
     "name": "stdout",
     "output_type": "stream",
     "text": [
      "The File Count is 10001 using variable from csharp in pwsh\n"
     ]
    }
   ],
   "source": [
    "Write-Output \"The File Count is $Env:File_Count using variable from csharp in pwsh\""
   ]
  },
  {
   "cell_type": "markdown",
   "metadata": {
    "azdata_cell_guid": "e94b6f8d-8ec8-439b-9176-c95de09f36dc"
   },
   "source": [
    "We can set variables in pwsh and read them in C Sharp"
   ]
  },
  {
   "cell_type": "code",
   "execution_count": 47,
   "metadata": {
    "azdata_cell_guid": "c0df1d0f-70fc-4ab8-89a0-1cb79af9cb3f"
   },
   "outputs": [],
   "source": [
    "$Env:Play_File_Path = (Get-Item \"$env:temp\\pwshplaydir\").FullName"
   ]
  },
  {
   "cell_type": "code",
   "execution_count": 48,
   "metadata": {
    "azdata_cell_guid": "eaf6fca2-821a-4469-96b5-ebb7814c0d91",
    "tags": [
     "hide_input"
    ]
   },
   "outputs": [
    {
     "name": "stdout",
     "output_type": "stream",
     "text": [
      "Number of Files in the directory C:\\Users\\mrrob\\AppData\\Local\\Temp\\pwshplaydir using csharp :10001\n",
      "\n"
     ]
    }
   ],
   "source": [
    "#!csharp\r\n",
    "using System.IO; \r\n",
    "using System;\r\n",
    "string value;\r\n",
    "string File_Countfromenv;\r\n",
    "string File_Path_From_Env;\r\n",
    "int fileCount = Directory.GetFiles(Environment.GetEnvironmentVariable(\"Play_File_Path\"), \"*\", SearchOption.TopDirectoryOnly).Length;\r\n",
    "value = Convert.ToString(fileCount);\r\n",
    "Environment.SetEnvironmentVariable(\"File_Count\", value);\r\n",
    "File_Countfromenv = Environment.GetEnvironmentVariable(\"File_Count\");\r\n",
    "File_Path_From_Env = Environment.GetEnvironmentVariable(\"Play_File_Path\");\r\n",
    "Console.WriteLine($\"Number of Files in the directory {File_Path_From_Env} using csharp :{File_Countfromenv}\\n\");"
   ]
  }
 ],
 "metadata": {
  "kernelspec": {
   "display_name": ".NET (PowerShell)",
   "language": "PowerShell",
   "name": ".net-powershell"
  },
  "language_info": {
   "file_extension": ".ps1",
   "mimetype": "text/x-powershell",
   "name": "PowerShell",
   "pygments_lexer": "powershell",
   "version": "7.0"
  }
 },
 "nbformat": 4,
 "nbformat_minor": 4
}
