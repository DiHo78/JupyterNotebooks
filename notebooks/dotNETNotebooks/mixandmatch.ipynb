{
    "metadata": {
        "kernelspec": {
            "name": ".net-powershell",
            "display_name": ".NET (PowerShell)"
        },
        "language_info": {
            "name": "PowerShell",
            "version": "7.0",
            "mimetype": "text/x-powershell",
            "file_extension": ".ps1",
            "pygments_lexer": "powershell"
        }
    },
    "nbformat_minor": 2,
    "nbformat": 4,
    "cells": [
        {
            "cell_type": "markdown",
            "source": [
                "# Run C# and Pwsh in the same Notebook\r\n",
                "\r\n",
                "This notebook will run C# and pwsh in the saem notebook and pass values between them"
            ],
            "metadata": {
                "azdata_cell_guid": "81a5bbcb-7caa-4c77-aebd-a810246737f4"
            }
        },
        {
            "cell_type": "markdown",
            "source": [
                "We will see how long it takes between C# and pwsh to count files in a directory. First create 10,000 files"
            ],
            "metadata": {
                "azdata_cell_guid": "bfc2ea56-a881-4578-98b3-3756aa335598"
            }
        },
        {
            "cell_type": "code",
            "source": [
                "$playdir = \"$Env:Temp\\pwshplaydir\"\r\n",
                "if (-not (Test-Path $playdir)) {\r\n",
                "    New-Item $playdir -ItemType Directory\r\n",
                "    $10k = 0..10000\r\n",
                "    $10k | ForEach-Object -ThrottleLimit 10 -Parallel {\r\n",
                "        $PlayFileName = $Using:playdir + \"\\$PSItem.txt\"\r\n",
                "        $Null = New-Item $PlayFileName -ItemType File -Force\r\n",
                "    }\r\n",
                "}"
            ],
            "metadata": {
                "azdata_cell_guid": "2bf678c7-1ada-4597-9b99-5255d750641c",
                "tags": []
            },
            "outputs": [],
            "execution_count": 211
        },
        {
            "cell_type": "markdown",
            "source": [
                "Start a stopwatch"
            ],
            "metadata": {
                "azdata_cell_guid": "93986910-15c4-43a7-af3c-2ad6a2565c4b"
            }
        },
        {
            "cell_type": "code",
            "source": [
                "$Stopwatch = [diagnostics.stopwatch]::StartNew()"
            ],
            "metadata": {
                "azdata_cell_guid": "c66b5e8f-af57-4fb2-aab2-800b8af7d05c"
            },
            "outputs": [],
            "execution_count": 212
        },
        {
            "cell_type": "markdown",
            "source": [
                "Get the file count with c# using the magic command `#!csharp`"
            ],
            "metadata": {
                "azdata_cell_guid": "dbd03adc-fc9e-46f4-9b74-636262881a34"
            }
        },
        {
            "cell_type": "code",
            "source": [
                "#!csharp\n",
                "using System.IO; \n",
                "using System;\n",
                "int fileCount = Directory.GetFiles(@\"C:\\Users\\mrrob\\AppData\\Local\\Temp\\pwshplaydir\", \"*\", SearchOption.TopDirectoryOnly).Length;\n",
                "Console.WriteLine($\"Number of Files : {fileCount}\\n\");"
            ],
            "metadata": {
                "azdata_cell_guid": "813730f2-3c74-48d9-949a-d0c1f21dc57b"
            },
            "outputs": [
                {
                    "output_type": "stream",
                    "name": "stdout",
                    "text": "Number of Files : 10001\n\r\n"
                }
            ],
            "execution_count": 213
        },
        {
            "cell_type": "code",
            "source": [
                "$Stopwatch.Stop()\n",
                "$csharpmillisecs = $Stopwatch.Elapsed.Milliseconds"
            ],
            "metadata": {
                "azdata_cell_guid": "8fa7e338-b9d1-41c3-80aa-a0facd70e5b2"
            },
            "outputs": [],
            "execution_count": 214
        },
        {
            "cell_type": "markdown",
            "source": [
                "Count the same files with pwsh"
            ],
            "metadata": {
                "azdata_cell_guid": "7d68593e-9137-4396-92d2-5e5599b38336"
            }
        },
        {
            "cell_type": "code",
            "source": [
                "$Stopwatch = [diagnostics.stopwatch]::StartNew()\n",
                "$FileCount = (Get-Childitem C:\\Users\\mrrob\\AppData\\Local\\Temp\\pwshplaydir).Count\n",
                "Write-Output \"The File Count is $FileCount\""
            ],
            "metadata": {
                "azdata_cell_guid": "f8fdc70f-059c-42cc-b0c1-d2c0cd5203a8"
            },
            "outputs": [
                {
                    "output_type": "stream",
                    "name": "stdout",
                    "text": "The File Count is 10001\r\n"
                }
            ],
            "execution_count": 215
        },
        {
            "cell_type": "code",
            "source": [
                "$Stopwatch.Stop()\n",
                "$pwshmillisecs = $Stopwatch.Elapsed.Milliseconds"
            ],
            "metadata": {
                "azdata_cell_guid": "685b53ac-85cb-4505-a2db-01a591e219f5"
            },
            "outputs": [],
            "execution_count": 216
        },
        {
            "cell_type": "markdown",
            "source": [
                "Which was quicker ?"
            ],
            "metadata": {
                "azdata_cell_guid": "2dc3ff37-8ded-44a4-99c4-b031a7369a3c"
            }
        },
        {
            "cell_type": "code",
            "source": [
                "function Which-WasQuicker {\r\n",
                "    if($pwshmillisecs -lt $csharpmillisecs ){\r\n",
                "        $percquicker = [math]::Round(($pwshmillisecs / $csharpmillisecs)  * 100, 2)\r\n",
                "        $string = @\"\r\n",
                "        '<c=\"green\">Pwsh in $pwshmillisecs milliseconds</c>was quicker than <c=\"red\">c sharp in $csharpmillisecs milliseconds</c>in $percquicker % '\r\n",
                "\"@\r\n",
                "    }else{\r\n",
                "        $percquicker = [math]::Round(($csharpmillisecs / $pwshmillisecs )  * 100, 2)\r\n",
                "        $string = @\"\r\n",
                "        '<c=\"green\">c sharp in $csharpmillisecs milliseconds</c>was quicker than <c=\"red\">Pwsh in $pwshmillisecs milliseconds</c>in $percquicker % '\r\n",
                "\"@      \r\n",
                "    }\r\n",
                "    Write-PSFHostColor -String $string  -DefaultColor DarkBlue\r\n",
                "}"
            ],
            "metadata": {
                "azdata_cell_guid": "8b726a22-df45-4559-881b-d2100651f2e3",
                "tags": []
            },
            "outputs": [],
            "execution_count": 217
        },
        {
            "cell_type": "code",
            "source": [
                "Which-WasQuicker"
            ],
            "metadata": {
                "azdata_cell_guid": "e4839d89-224a-4788-8767-faba7b14b9f7"
            },
            "outputs": [
                {
                    "output_type": "stream",
                    "name": "stdout",
                    "text": "\u001b[34m        '\u001b[0m"
                },
                {
                    "output_type": "stream",
                    "name": "stdout",
                    "text": "\u001b[92mc sharp in 133 milliseconds\u001b[0m"
                },
                {
                    "output_type": "stream",
                    "name": "stdout",
                    "text": "\u001b[34mwas quicker than \u001b[0m"
                },
                {
                    "output_type": "stream",
                    "name": "stdout",
                    "text": "\u001b[91mPwsh in 343 milliseconds\u001b[0m"
                },
                {
                    "output_type": "stream",
                    "name": "stdout",
                    "text": "\u001b[34min 38.78 % '\u001b[0m\r\n"
                }
            ],
            "execution_count": 218
        },
        {
            "cell_type": "code",
            "source": [
                "#!csharp\n",
                "using System.IO; \n",
                "using System;\n",
                "string value;\n",
                "string File_Countfromenv;\n",
                "int fileCount = Directory.GetFiles(@\"C:\\Users\\mrrob\\AppData\\Local\\Temp\\pwshplaydir\", \"*\", SearchOption.TopDirectoryOnly).Length;\n",
                "value = Convert.ToString(fileCount);\n",
                "Environment.SetEnvironmentVariable(\"File_Count\", value);\n",
                "File_Countfromenv = Environment.GetEnvironmentVariable(\"File_Count\");\n",
                "Console.WriteLine($\"Number of Files from csharp :{File_Countfromenv}\\n\");"
            ],
            "metadata": {
                "azdata_cell_guid": "7fa655cf-fa00-4b7d-bcce-eb950efac003"
            },
            "outputs": [
                {
                    "output_type": "stream",
                    "name": "stdout",
                    "text": "Number of Files from csharp :10001\n\r\n"
                }
            ],
            "execution_count": 219
        },
        {
            "cell_type": "code",
            "source": [
                "Write-Output \"The File Count is $Env:File_Count using variable from csharp in pwsh\""
            ],
            "metadata": {
                "azdata_cell_guid": "61e175c9-fcbf-4c42-b34d-d1c6b425eccf"
            },
            "outputs": [
                {
                    "output_type": "stream",
                    "name": "stdout",
                    "text": "The File Count is 10001 using variable from csharp in pwsh\r\n"
                }
            ],
            "execution_count": 220
        },
        {
            "cell_type": "code",
            "source": [
                "pwd"
            ],
            "metadata": {
                "azdata_cell_guid": "748613e6-c8b0-4677-9957-64f8003b8b7a"
            },
            "outputs": [
                {
                    "output_type": "stream",
                    "name": "stdout",
                    "text": "\r\n"
                },
                {
                    "output_type": "stream",
                    "name": "stdout",
                    "text": "Path\r\n"
                },
                {
                    "output_type": "stream",
                    "name": "stdout",
                    "text": "----\r\n"
                },
                {
                    "output_type": "stream",
                    "name": "stdout",
                    "text": "C:\\Users\\mrrob\r\n"
                },
                {
                    "output_type": "stream",
                    "name": "stdout",
                    "text": "\r\n"
                }
            ],
            "execution_count": 221
        },
        {
            "cell_type": "code",
            "source": [],
            "metadata": {
                "azdata_cell_guid": "129fd55d-8f11-48d3-925f-d05a814721aa"
            },
            "outputs": [],
            "execution_count": null
        }
    ]
}