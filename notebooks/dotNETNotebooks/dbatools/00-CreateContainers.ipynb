{
    "metadata": {
        "kernelspec": {
            "name": ".net-powershell",
            "display_name": ".NET (PowerShell)"
        },
        "language_info": {
            "name": "PowerShell",
            "version": "7.0",
            "mimetype": "text/x-powershell",
            "file_extension": ".ps1",
            "pygments_lexer": "powershell"
        }
    },
    "nbformat_minor": 2,
    "nbformat": 4,
    "cells": [
        {
            "cell_type": "markdown",
            "source": [
                "# Creating the containers for .NET notebooks for exploring dbatools\n",
                "\n",
                "To run these notebooks, you will first have to have set up Jupyter Notebooks following the information here https://sqldbawithabeard.com/2020/02/07/new-net-notebooks-are-here-powershell-7-notebooks-are-here/\n",
                "\n",
                "![dbatools](.\\images\\dbatools.png )\n",
                "\n",
                "We have written a book which will give you a brilliant introduction to dbatools. It's called dbatools in a Month of Lunches and you can find it at https://beard.media/book\n",
                "\n",
                "# Setting up the containers for the rest of the dbachecks notebooks\n",
                "\n",
                "To be able to follow along with the rest of the notebooks, you will need to set up two containers. \n",
                "\n",
                "This notebook will enable you to do that.\n",
                "\n",
                "You will need to have Docker installed. The image is based on the SQL Server 2019 image so you will need to have docker set to use Linux Containers. Right click on the Docker icon in the notification area and if it says \"Switch to Linux Containers\" click to switch and wait for Docker to restart.  \n",
                "\n",
                "![Switch To Linux Containers](.\\images\\switchtolinuxcontainers.png )\n",
                "\n",
                "You will be able to run all of the code in the notebooks by creating the folder, credential and containers in this notebook and then you can click on the play button in each code block to run the code. Note - There are a few code blocks with the results already included which should not be run. They are to show you the results of a command that cannot be run against containers (setting up configuration for domain accounts for example)\n",
                "\n",
                "**You can also navigate through the Notebook using the arrow keys and press SHIFT + ENTER to run a cell**"
            ],
            "metadata": {
                "azdata_cell_guid": "e7503606-32c6-4685-84a5-99cda6387fce"
            }
        },
        {
            "cell_type": "markdown",
            "source": [
                "## Create the folders and the credential\n",
                "\n",
                "The code below will create a directory called dbatools-demo in your Documents folder and save a credential file for logging into the containers. You can alter the directory created by altering the `$FolderPath`  \n",
                "\n",
                "The code has been collapsed but you can view it using the view menu in the lab or by clicking the 3 ellipses"
            ],
            "metadata": {
                "azdata_cell_guid": "9a602f20-4924-490a-a025-1aa03bb4f4b4"
            }
        },
        {
            "cell_type": "code",
            "source": [
                "$FolderPath = $Env:USERPROFILE + '\\Documents\\dbatoolsdemo'\n",
                "\n",
                "########################################################\n",
                "Write-Output \"Creating Directory $FolderPath\"\n",
                "if(Test-Path $FolderPath){\n",
                "    Write-Output \"Path $FolderPath exists already\"\n",
                "}else {\n",
                " $null =    New-Item $FolderPath -ItemType Directory\n",
                "}\n",
                "\n",
                "Write-Output \"Creating Directory $FolderPath\\SQL1\"\n",
                "if(Test-Path \"$FolderPath\\SQL1\"){\n",
                "    Write-Output \"Directory SQL1 exists already\"\n",
                "    Get-ChildItem \"$FolderPath\\SQL1\" -Recurse| Remove-Item -Recurse -Force\n",
                "}else {\n",
                "$null = New-Item \"$FolderPath\\SQL1\"-ItemType Directory\n",
                "}\n",
                "Write-Output \"Creating File $FolderPath\\SQL1\\dummyfile.txt\"\n",
                "if(Test-Path \"$FolderPath\\SQL1\\dummyfile.txt\"){\n",
                "    Write-Output \"dummyfile.txt exists already\"\n",
                "}else {\n",
                "$null =  New-Item \"$FolderPath\\SQL1\\dummyfile.txt\" -ItemType file\n",
                "}\n",
                "\n",
                "Write-Output \"Creating Directory $FolderPath\\SQL2\"\n",
                "if(Test-Path \"$FolderPath\\SQL2\"){\n",
                "    Write-Output \"Directory SQL2 exists already\"\n",
                "    Get-ChildItem \"$FolderPath\\SQL2\" -Recurse| Remove-Item -Recurse -Force\n",
                "}else {\n",
                " $null =    New-Item \"$FolderPath\\SQL2\"-ItemType Directory\n",
                "}\n",
                "Write-Output \"Creating File $FolderPath\\SQL2\\dummyfile.txt\"\n",
                "if(Test-Path \"$FolderPath\\SQL2\\dummyfile.txt\"){\n",
                "    Write-Output \"dummyfile.txt exists already\"\n",
                "}else {\n",
                "$null =  New-Item \"$FolderPath\\SQL2\\dummyfile.txt\" -ItemType file\n",
                "}\n",
                "\n",
                "Write-Output \"Creating a credential file for the containers - Please don't do this in production\"\n",
                "\n",
                "$sqladminPassword = ConvertTo-SecureString 'dbatools.IO' -AsPlainText -Force \n",
                "$cred = New-Object System.Management.Automation.PSCredential ('sqladmin', $sqladminpassword)\n",
                "$Cred | Export-Clixml -Path $FolderPath\\sqladmin.cred\n",
                "Write-Output \"Credential file created\"\n",
                "\n",
                "Write-Output \"Setting the docker-compose files values\"\n",
                "$dockercompose = (Get-Content .\\dockercompose.yml) -replace '__ReplaceME__' , $FolderPath\n",
                "# $dockercompose\n",
                "$dockercompose | Set-Content .\\docker-compose.yml\n",
                "\n"
            ],
            "metadata": {
                "azdata_cell_guid": "da2a1233-6845-4031-b5dd-fc65263cc832"
            },
            "outputs": [
                {
                    "output_type": "display_data",
                    "data": {
                        "text/html": "<script type=\"text/javascript\">#!javascript\r\nif ((typeof(requirejs) !==  typeof(Function)) || (typeof(requirejs.config) !== typeof(Function))) { \r\n    let script = document.createElement(\"script\"); \r\n    script.setAttribute(\"src\", \"https://cdnjs.cloudflare.com/ajax/libs/require.js/2.3.6/require.min.js\"); \r\n    script.onload = function(){\r\n        loadDotnetInteractiveApi();\r\n    };\r\n    document.getElementsByTagName(\"head\")[0].appendChild(script); \r\n}\r\nelse {\r\n    loadDotnetInteractiveApi();\r\n}\r\n\r\nfunction loadDotnetInteractiveApi(){\r\n    let apiRequire = requirejs.config({context:\"dotnet-interactive.16808.65222\",paths:{dotnetInteractive:\"http://localhost:65222/resources/dotnet-interactive\"}});\r\n    apiRequire(['dotnetInteractive'], \r\n    function(api) {       \r\n        api.createDotnetInteractiveClient(\"http://localhost:65222/\", window);\r\n    let apiRequire = requirejs.config({context:\"dotnet-interactive.8600.57321\",paths:{dotnetInteractive:\"http://localhost:57321/resources/dotnet-interactive\"}});\r\n    apiRequire(['dotnetInteractive'], \r\n    function(api) {       \r\n        api.createDotnetInteractiveClient(\"http://localhost:57321/\", window);\r\n200    },\r\n    function(error){\r\n        console.log(error);\r\n    });\r\n}</script>"
                    },
                    "metadata": {}
                },
                {
                    "output_type": "stream",
                    "name": "stdout",
                    "text": "Creating Directory C:\\Users\\Rob\\Documents\\dbatoolsdemo\nCreating Directory C:\\Users\\Rob\\Documents\\dbatoolsdemo\\SQL1\nCreating File C:\\Users\\Rob\\Documents\\dbatoolsdemo\\SQL1\\dummyfile.txt\nCreating Directory C:\\Users\\Rob\\Documents\\dbatoolsdemo\\SQL2\nCreating File C:\\Users\\Rob\\Documents\\dbatoolsdemo\\SQL2\\dummyfile.txt\nCreating Directory C:\\Users\\mrrob\\Documents\\dbatoolsdemo\nPath C:\\Users\\mrrob\\Documents\\dbatoolsdemo exists already\nCreating Directory C:\\Users\\mrrob\\Documents\\dbatoolsdemo\\SQL1\nDirectory SQL1 exists already\nCreating File C:\\Users\\mrrob\\Documents\\dbatoolsdemo\\SQL1\\dummyfile.txt\nCreating Directory C:\\Users\\mrrob\\Documents\\dbatoolsdemo\\SQL2\nDirectory SQL2 exists already\nCreating File C:\\Users\\mrrob\\Documents\\dbatoolsdemo\\SQL2\\dummyfile.txt\n200Creating a credential file for the containers - Please don't do this in production\nCredential file created\nSetting the docker-compose files values\n"
                }
            ],
            "execution_count": 1
        },
        {
            "cell_type": "markdown",
            "source": [
                "## Containers\n",
                "\n",
                "We are going to create two SQL 2019 containers using the sqldbawithabeard\\dbachecks [image from the Docker Hub](https://hub.docker.com/repository/docker/sqldbawithabeard/dbachecksdemo). \n",
                "\n",
                "The first time it is going to pull the image sqldbawithabeard/dbachecksdemo from the Docker Hub. If you wish to do this first, you can run the cell below\n",
                "\n"
            ],
            "metadata": {
                "azdata_cell_guid": "82e68f8a-0aa6-4f70-a781-7e511c1a762f"
            }
        },
        {
            "cell_type": "code",
            "source": [
                "docker pull sqldbawithabeard/dbachecksdemo"
            ],
            "metadata": {
                "azdata_cell_guid": "689caa3f-e974-41ad-a35b-8c2e1f609386"
            },
            "outputs": [
                {
                    "output_type": "stream",
                    "name": "stdout",
                    "text": "Using default tag: latest\r\n"
                },
                {
                    "output_type": "stream",
                    "name": "stdout",
                    "text": "latest: Pulling from sqldbawithabeard/dbachecksdemo\r\n"
                },
                {
                    "output_type": "stream",
                    "name": "stdout",
                    "text": "b234f539f7a1: Pulling fs layer\r\n"
                },
                {
                    "output_type": "stream",
                    "name": "stdout",
                    "text": "55172d420b43: Pulling fs layer\r\n"
                },
                {
                    "output_type": "stream",
                    "name": "stdout",
                    "text": "5ba5bbeb6b91: Pulling fs layer\r\n"
                },
                {
                    "output_type": "stream",
                    "name": "stdout",
                    "text": "43ae2841ad7a: Pulling fs layer\r\n"
                },
                {
                    "output_type": "stream",
                    "name": "stdout",
                    "text": "f6c9c6de4190: Pulling fs layer\r\n"
                },
                {
                    "output_type": "stream",
                    "name": "stdout",
                    "text": "fd449e8d7345: Pulling fs layer\r\n"
                },
                {
                    "output_type": "stream",
                    "name": "stdout",
                    "text": "51d0933375e5: Pulling fs layer\r\n"
                },
                {
                    "output_type": "stream",
                    "name": "stdout",
                    "text": "64f21ba81504: Pulling fs layer\r\n"
                },
                {
                    "output_type": "stream",
                    "name": "stdout",
                    "text": "55b6919c0cc6: Pulling fs layer\r\n"
                },
                {
                    "output_type": "stream",
                    "name": "stdout",
                    "text": "76386ba2eb1b: Pulling fs layer\r\n"
                },
                {
                    "output_type": "stream",
                    "name": "stdout",
                    "text": "43ae2841ad7a: Waiting\r\n"
                },
                {
                    "output_type": "stream",
                    "name": "stdout",
                    "text": "64f21ba81504: Waiting\r\n"
                },
                {
                    "output_type": "stream",
                    "name": "stdout",
                    "text": "55b6919c0cc6: Waiting\r\n"
                },
                {
                    "output_type": "stream",
                    "name": "stdout",
                    "text": "f6c9c6de4190: Waiting\r\n"
                },
                {
                    "output_type": "stream",
                    "name": "stdout",
                    "text": "76386ba2eb1b: Waiting\r\n"
                },
                {
                    "output_type": "stream",
                    "name": "stdout",
                    "text": "fd449e8d7345: Waiting\r\n"
                },
                {
                    "output_type": "stream",
                    "name": "stdout",
                    "text": "51d0933375e5: Waiting\r\n"
                },
                {
                    "output_type": "stream",
                    "name": "stdout",
                    "text": "5ba5bbeb6b91: Verifying Checksum\r\n"
                },
                {
                    "output_type": "stream",
                    "name": "stdout",
                    "text": "5ba5bbeb6b91: Download complete\r\n"
                },
                {
                    "output_type": "stream",
                    "name": "stdout",
                    "text": "55172d420b43: Verifying Checksum\r\n"
                },
                {
                    "output_type": "stream",
                    "name": "stdout",
                    "text": "55172d420b43: Download complete\r\n"
                },
                {
                    "output_type": "stream",
                    "name": "stdout",
                    "text": "f6c9c6de4190: Verifying Checksum\r\n"
                },
                {
                    "output_type": "stream",
                    "name": "stdout",
                    "text": "f6c9c6de4190: Download complete\r\n"
                },
                {
                    "output_type": "stream",
                    "name": "stdout",
                    "text": "43ae2841ad7a: Verifying Checksum\r\n"
                },
                {
                    "output_type": "stream",
                    "name": "stdout",
                    "text": "43ae2841ad7a: Download complete\r\n"
                },
                {
                    "output_type": "stream",
                    "name": "stdout",
                    "text": "b234f539f7a1: Download complete\r\n"
                },
                {
                    "output_type": "stream",
                    "name": "stdout",
                    "text": "fd449e8d7345: Verifying Checksum\r\n"
                },
                {
                    "output_type": "stream",
                    "name": "stdout",
                    "text": "fd449e8d7345: Download complete\r\n"
                },
                {
                    "output_type": "stream",
                    "name": "stdout",
                    "text": "b234f539f7a1: Pull complete\r\n"
                },
                {
                    "output_type": "stream",
                    "name": "stdout",
                    "text": "55172d420b43: Pull complete\r\n"
                },
                {
                    "output_type": "stream",
                    "name": "stdout",
                    "text": "5ba5bbeb6b91: Pull complete\r\n"
                },
                {
                    "output_type": "stream",
                    "name": "stdout",
                    "text": "43ae2841ad7a: Pull complete\r\n"
                },
                {
                    "output_type": "stream",
                    "name": "stdout",
                    "text": "f6c9c6de4190: Pull complete\r\n"
                },
                {
                    "output_type": "stream",
                    "name": "stdout",
                    "text": "fd449e8d7345: Pull complete\r\n"
                },
                {
                    "output_type": "stream",
                    "name": "stdout",
                    "text": "55b6919c0cc6: Verifying Checksum\r\n"
                },
                {
                    "output_type": "stream",
                    "name": "stdout",
                    "text": "55b6919c0cc6: Download complete\r\n"
                },
                {
                    "output_type": "stream",
                    "name": "stdout",
                    "text": "51d0933375e5: Verifying Checksum\r\n"
                },
                {
                    "output_type": "stream",
                    "name": "stdout",
                    "text": "51d0933375e5: Download complete\r\n"
                },
                {
                    "output_type": "stream",
                    "name": "stdout",
                    "text": "51d0933375e5: Pull complete\r\n"
                },
                {
                    "output_type": "stream",
                    "name": "stdout",
                    "text": "64f21ba81504: Verifying Checksum\r\n"
                },
                {
                    "output_type": "stream",
                    "name": "stdout",
                    "text": "64f21ba81504: Download complete\r\n"
                },
                {
                    "output_type": "stream",
                    "name": "stdout",
                    "text": "64f21ba81504: Pull complete\r\n"
                },
                {
                    "output_type": "stream",
                    "name": "stdout",
                    "text": "76386ba2eb1b: Verifying Checksum\r\n"
                },
                {
                    "output_type": "stream",
                    "name": "stdout",
                    "text": "76386ba2eb1b: Download complete\r\n"
                },
                {
                    "output_type": "stream",
                    "name": "stdout",
                    "text": "55b6919c0cc6: Pull complete\r\n"
                },
                {
                    "output_type": "stream",
                    "name": "stdout",
                    "text": "76386ba2eb1b: Pull complete\r\n"
                },
                {
                    "output_type": "stream",
                    "name": "stdout",
                    "text": "Digest: sha256:6332521d6426eff4a6ed148545d34d28e9f979380400319b54fc98cff48936bd\r\n"
                },
                {
                    "output_type": "stream",
                    "name": "stdout",
                    "text": "Status: Downloaded newer image for sqldbawithabeard/dbachecksdemo:latest\r\n"
                },
                {
                    "output_type": "stream",
                    "name": "stdout",
                    "text": "docker.io/sqldbawithabeard/dbachecksdemo:latest\r\n"
                }
            ],
            "execution_count": 1
        },
        {
            "cell_type": "markdown",
            "source": [
                "Now we can start the containers with the code below"
            ],
            "metadata": {
                "azdata_cell_guid": "1771c1c6-4dbb-46e5-b0ad-d66cd66e855e"
            }
        },
        {
            "cell_type": "code",
            "source": [
                "docker-compose up -d"
            ],
            "metadata": {
                "azdata_cell_guid": "d05505a2-c39e-4402-93cd-059430df01a3"
            },
            "outputs": [
                {
                    "name": "stdout",
                    "text": "Creating network \"dbatools_BeardsMagicNetwork\" with the default driver\r\n",
                    "output_type": "stream"
                },
                {
                    "name": "stdout",
                    "text": "Creating dbatools_SQL2019-1_1 ... \r\n",
                    "output_type": "stream"
                },
                {
                    "name": "stdout",
                    "text": "\r\n",
                    "output_type": "stream"
                },
                {
                    "name": "stdout",
                    "text": "Creating dbatools_SQL2019_1   ... \r\n",
                    "output_type": "stream"
                },
                {
                    "name": "stdout",
                    "text": "\r\n",
                    "output_type": "stream"
                },
                {
                    "name": "stdout",
                    "text": "\u001b[2A\u001b[2K\r\n",
                    "output_type": "stream"
                },
                {
                    "name": "stdout",
                    "text": "Creating dbatools_SQL2019-1_1 ... \u001b[32mdone\u001b[0m\r\n",
                    "output_type": "stream"
                },
                {
                    "name": "stdout",
                    "text": "\u001b[2B\u001b[1A\u001b[2K\r\n",
                    "output_type": "stream"
                },
                {
                    "name": "stdout",
                    "text": "Creating dbatools_SQL2019_1   ... \u001b[32mdone\u001b[0m\r\n",
                    "output_type": "stream"
                },
                {
                    "name": "stdout",
                    "text": "\u001b[1B\r\n",
                    "output_type": "stream"
                }
            ],
            "execution_count": 7
        },
        {
            "cell_type": "markdown",
            "source": [
                "All being well, you wil have something that looks like\n",
                "\n",
                "\n",
                "![DockerCompose](.\\images\\containers.png )\n",
                "\n",
                "If you get an error you might need to add the user you have shared your drives with Docker modify permissions to the \\Documents\\ directory in your user profile   \n",
                "More details https://docs.docker.com/docker-for-windows/ or troubleshoot in the normal way\n",
                "\n",
                "\n",
                "Now we can start exploring with dbatools :-)\n",
                "\n",
                "If you have not installed dbatools, it can be got from the PowerShell Gallery using `Install-Module dbatools` the code below will check for the module and either install it in your user profile or update it and Import it"
            ],
            "metadata": {
                "azdata_cell_guid": "6eeea37c-830b-4a3c-9355-db07601ab47b"
            }
        },
        {
            "cell_type": "code",
            "source": [
                "if(Get-Module dbatools -ListAvailable){\n",
                "Write-Output \"Updating dbatools\"\n",
                "Update-Module dbatools\n",
                "}else {\n",
                "Write-Output \"Installing dbatools in your user profile\"\n",
                "Install-Module dbatools -Scope CurrentUser\n",
                "}\n",
                "Import-Module dbatools"
            ],
            "metadata": {
                "azdata_cell_guid": "ddff53ab-f6d0-4c74-abc6-f79487d77f19"
            },
            "outputs": [],
            "execution_count": null
        },
        {
            "cell_type": "markdown",
            "source": [
                "## Check connection\n",
                "Now that is done, we can make a connection to our instances and see if we can connect to them.\n",
                "\n",
                "We are going to use `Connect-DBaInstance` to do this and we will use the containers that we have created and because we need to use SQL Authentication, we will use a credential that we have saved to disk using `Export-CliXML` in one of the celss above.\n",
                "\n",
                "It is **Important** to state that this is not a production secure solution and should not be used as a means of accessing any secure system."
            ],
            "metadata": {
                "azdata_cell_guid": "c6cfbe4c-5e3b-4312-ab12-91416a3cc02d"
            }
        },
        {
            "cell_type": "code",
            "source": [
                "$FolderPath = $Env:USERPROFILE + '\\Documents\\dbatoolsdemo'\n",
                "$SqlInstances = 'localhost,15592', 'localhost,15593'\n",
                "$SqlCredential = Import-Clixml -Path $FolderPath\\sqladmin.cred\n",
                "Write-Output \" Creating connection to the containers\"\n",
                "try {\n",
                "    $SQL1 = Connect-DbaInstance -SqlInstance $SqlInstances[0] -SqlCredential $SqlCredential \n",
                "    $SQL2 = Connect-DbaInstance -SqlInstance $SqlInstances[1] -SqlCredential $SqlCredential\n",
                "    Write-Output \"We have a connection to the containers\"\n",
                "\n",
                "}\n",
                "catch {\n",
                "    Write-Output \"You haven't got a connection to the containers - Either they are still upgrading in which case try again in 30 seconds or the containers have not come up correctly\"\n",
                "    Write-Output \"Make sure the containers are running - the code is below in a block for you\"\n",
                "    Write-Output \"docker ps -a\"\n",
                "    Write-Output \"If they are read the logs - the code is below in a block for you\"\n",
                "    Write-Output \"docker logs dbatools_SQL2019_1\"\n",
                "    Write-Output \"docker logs dbatools_SQL2019-1_1\"\n",
                "}"
            ],
            "metadata": {
                "jupyter": {
                    "source_hidden": true
                },
                "azdata_cell_guid": "e8e0f4c0-9328-42f4-b328-6cca11d2ad54"
            },
            "outputs": [
                {
                    "output_type": "stream",
                    "name": "stdout",
                    "text": " Creating connection to the containers\nWe have a connection to the containers\n"
                }
            ],
            "execution_count": 3
        },
        {
            "cell_type": "markdown",
            "source": [
                "If there are warnings above - Check the containers are running - Look at the status column"
            ],
            "metadata": {
                "azdata_cell_guid": "ec7b3d4b-e1a3-4668-ac40-a89a064d74e2"
            }
        },
        {
            "cell_type": "code",
            "source": [
                "docker ps -a"
            ],
            "metadata": {
                "azdata_cell_guid": "6ab5d62d-2069-4206-b555-b3c1a76a7f1d"
            },
            "outputs": [
                {
                    "output_type": "display_data",
                    "data": {
                        "text/html": "<pre>CONTAINER ID        IMAGE                            COMMAND                  CREATED             STATUS              PORTS                     NAMES</pre>\r\n"
                    },
                    "metadata": {}
                },
                {
                    "output_type": "display_data",
                    "data": {
                        "text/html": "<pre>e5e6a324ee39        sqldbawithabeard/dbachecksdemo   &quot;/opt/mssql/bin/perm…&quot;   42 seconds ago      Up 40 seconds       0.0.0.0:15593-&gt;1433/tcp   dbatools_SQL2019-1_1</pre>\r\n"
                    },
                    "metadata": {}
                },
                {
                    "output_type": "display_data",
                    "data": {
                        "text/html": "<pre>01a539677f71        sqldbawithabeard/dbachecksdemo   &quot;/opt/mssql/bin/perm…&quot;   42 seconds ago      Up 35 seconds       0.0.0.0:15592-&gt;1433/tcp   dbatools_SQL2019_1</pre>\r\n"
                    },
                    "metadata": {}
                }
            ],
            "execution_count": 6
        },
        {
            "cell_type": "markdown",
            "source": [
                "If there are warnings above and the containers are running - check the logs"
            ],
            "metadata": {
                "azdata_cell_guid": "a6ed4b0c-37e0-4a79-a63f-bd35616df3ea"
            }
        },
        {
            "cell_type": "code",
            "source": [
                "docker logs dbatools_SQL2019_1"
            ],
            "metadata": {
                "azdata_cell_guid": "67480623-8a3f-4236-8a69-21438c35d90a"
            },
            "outputs": [
                {
                    "output_type": "stream",
                    "name": "stdout",
                    "text": "SQL Server 2019 will run as non-root by default.\nThis container is running as user mssql.\nYour master database file is owned by mssql.\nTo learn more visit https://go.microsoft.com/fwlink/?linkid=2099216.\n2020-05-30 06:59:38.59 Server      Microsoft SQL Server 2019 (RTM) - 15.0.2000.5 (X64) \n\n\tSep 24 2019 13:48:23 \n\n\tCopyright (C) 2019 Microsoft Corporation\n\n\tDeveloper Edition (64-bit) on Linux (Ubuntu 16.04.6 LTS) <X64>\n\n2020-05-30 06:59:38.59 Server      UTC adjustment: 0:00\n\n2020-05-30 06:59:38.60 Server      (c) Microsoft Corporation.\n\n2020-05-30 06:59:38.60 Server      All rights reserved.\n\n2020-05-30 06:59:38.60 Server      Server process ID is 32.\n\n2020-05-30 06:59:38.61 Server      Logging SQL Server messages in file '/var/opt/mssql/log/errorlog'.\n\n2020-05-30 06:59:38.61 Server      Registry startup parameters: \n\n\t -d /var/opt/mssql/data/master.mdf\n\n\t -l /var/opt/mssql/data/mastlog.ldf\n\n\t -e /var/opt/mssql/log/errorlog\n\n2020-05-30 06:59:38.62 Server      SQL Server detected 1 sockets with 4 cores per socket and 8 logical processors per socket, 8 total logical processors; using 8 logical processors based on SQL Server licensing. This is an informational message; no user action is required.\n\n2020-05-30 06:59:38.63 Server      SQL Server is starting at normal priority base (=7). This is an informational message only. No user action is required.\n\n2020-05-30 06:59:38.63 Server      Detected 10067 MB of RAM. This is an informational message; no user action is required.\n\n2020-05-30 06:59:38.63 Server      Using conventional memory in the memory manager.\n\n2020-05-30 06:59:38.65 Server      Page exclusion bitmap is enabled.\n\n2020-05-30 06:59:38.73 Server      Buffer pool extension is not supported on Linux platform.\n\n2020-05-30 06:59:38.74 Server      Buffer Pool: Allocating 2097152 bytes for 1521796 hashPages.\n\n2020-05-30 06:59:39.15 Server      Buffer pool extension is already disabled. No action is necessary.\n\n2020-05-30 06:59:39.46 Server      Successfully initialized the TLS configuration. Allowed TLS protocol versions are ['1.0 1.1 1.2']. Allowed TLS ciphers are ['ECDHE-ECDSA-AES128-GCM-SHA256:ECDHE-ECDSA-AES256-GCM-SHA384:ECDHE-RSA-AES128-GCM-SHA256:ECDHE-RSA-AES256-GCM-SHA384:ECDHE-ECDSA-AES128-SHA256:ECDHE-ECDSA-AES256-SHA384:ECDHE-ECDSA-AES256-SHA:ECDHE-ECDSA-AES128-SHA:AES256-GCM-SHA384:AES128-GCM-SHA256:AES256-SHA256:AES128-SHA256:AES256-SHA:AES128-SHA:!DHE-RSA-AES256-GCM-SHA384:!DHE-RSA-AES128-GCM-SHA256:!DHE-RSA-AES256-SHA:!DHE-RSA-AES128-SHA'].\n\n2020-05-30 06:59:39.49 Server      Query Store settings initialized with enabled = 1, \n\n2020-05-30 06:59:39.53 Server      The maximum number of dedicated administrator connections for this instance is '1'\n\n2020-05-30 06:59:39.54 Server      Node configuration: node 0: CPU mask: 0x00000000000000ff:0 Active CPU mask: 0x00000000000000ff:0. This message provides a description of the NUMA configuration for this computer. This is an informational message only. No user action is required.\n\n2020-05-30 06:59:39.56 Server      Using dynamic lock allocation.  Initial allocation of 2500 Lock blocks and 5000 Lock Owner blocks per node.  This is an informational message only.  No user action is required.\n\n2020-05-30 06:59:39.58 Server      In-Memory OLTP initialized on standard machine.\n\n2020-05-30 06:59:39.69 Server      [INFO] Created Extended Events session 'hkenginexesession'\n\n\n\n2020-05-30 06:59:39.69 Server      Database Instant File Initialization: enabled. For security and performance considerations see the topic 'Database Instant File Initialization' in SQL Server Books Online. This is an informational message only. No user action is required.\n\nForceFlush is enabled for this instance. \n\n2020-05-30 06:59:39.71 Server      Total Log Writer threads: 2. This is an informational message; no user action is required.\n\n2020-05-30 06:59:39.74 Server      clflushopt is selected for pmem flush operation.\n\n2020-05-30 06:59:39.75 Server      Software Usage Metrics is disabled.\n\n2020-05-30 06:59:39.76 spid9s      [1]. Feature Status: PVS: 0. CTR: 0. ConcurrentPFSUpdate: 1.\n\n2020-05-30 06:59:39.76 spid9s      Starting up database 'master'.\n\n2020-05-30 06:59:40.15 Server      CLR version v4.0.30319 loaded.\n\nForceFlush feature is enabled for log durability.\n\n2020-05-30 06:59:40.66 spid9s      CHECKDB for database 'master' finished without errors on 2019-12-21 14:41:58.023 (local time). This is an informational message only; no user action is required.\n\n2020-05-30 06:59:40.71 spid9s      Resource governor reconfiguration succeeded.\n\n2020-05-30 06:59:40.72 spid9s      SQL Server Audit is starting the audits. This is an informational message. No user action is required.\n\n2020-05-30 06:59:40.72 spid9s      SQL Server Audit has started the audits. This is an informational message. No user action is required.\n\n2020-05-30 06:59:41.15 Server      Common language runtime (CLR) functionality initialized.\n\n2020-05-30 06:59:41.25 spid9s      SQL Trace ID 1 was started by login \"sa\".\n\n2020-05-30 06:59:41.32 spid9s      Server name is 'cd3b90b9d1dc'. This is an informational message only. No user action is required.\n\n2020-05-30 06:59:41.36 spid27s     Always On: The availability replica manager is starting. This is an informational message only. No user action is required.\n\n2020-05-30 06:59:41.37 spid30s     [7]. Feature Status: PVS: 0. CTR: 0. ConcurrentPFSUpdate: 1.\n\n2020-05-30 06:59:41.37 spid31s     [5]. Feature Status: PVS: 0. CTR: 0. ConcurrentPFSUpdate: 1.\n\n2020-05-30 06:59:41.38 spid12s     [32767]. Feature Status: PVS: 0. CTR: 0. ConcurrentPFSUpdate: 1.\n\n2020-05-30 06:59:41.38 spid30s     Starting up database 'Northwind'.\n\n2020-05-30 06:59:41.38 spid27s     Always On: The availability replica manager is waiting for the instance of SQL Server to allow client connections. This is an informational message only. No user action is required.\n\n2020-05-30 06:59:41.39 spid33s     [8]. Feature Status: PVS: 0. CTR: 0. ConcurrentPFSUpdate: 1.\n\n2020-05-30 06:59:41.38 spid28s     [4]. Feature Status: PVS: 0. CTR: 0. ConcurrentPFSUpdate: 1.\n\n2020-05-30 06:59:41.40 spid33s     Starting up database 'pubs'.\n\n2020-05-30 06:59:41.38 spid31s     Starting up database 'AdventureWorks2017'.\n\n2020-05-30 06:59:41.39 spid12s     Starting up database 'mssqlsystemresource'.\n\n2020-05-30 06:59:41.40 spid28s     Starting up database 'msdb'.\n\n2020-05-30 06:59:41.45 spid12s     The resource database build version is 15.00.2000. This is an informational message only. No user action is required.\n\n2020-05-30 06:59:41.54 spid12s     [3]. Feature Status: PVS: 0. CTR: 0. ConcurrentPFSUpdate: 1.\n\n2020-05-30 06:59:41.55 spid25s     A self-generated certificate was successfully loaded for encryption.\n\n2020-05-30 06:59:41.56 spid12s     Starting up database 'model'.\n\n2020-05-30 06:59:41.59 spid25s     Server is listening on [ 'any' <ipv6> 1433].\n\n2020-05-30 06:59:41.61 spid25s     Server is listening on [ 'any' <ipv4> 1433].\n\n2020-05-30 06:59:41.62 Server      Server is listening on [ 'any' <ipv6> 1434].\n\n2020-05-30 06:59:41.63 Server      Server is listening on [ 'any' <ipv4> 1434].\n\n2020-05-30 06:59:41.63 Server      Dedicated admin connection support was established for listening remotely on port 1434.\n\n2020-05-30 06:59:41.65 spid25s     Error: 39002, Severity: 16, State: 1.\n\n2020-05-30 06:59:41.65 spid25s     SQL failed to boot extensibility for error code 0x80070005.\n\n2020-05-30 06:59:41.66 spid25s     InitializeXdbPkgLauncher failed. ErrorCode: 0x80004005.\n\n2020-05-30 06:59:41.66 spid25s     SQL Server is now ready for client connections. This is an informational message; no user action is required.\n\n2020-05-30 06:59:42.15 Server      Failed to verify the Authenticode signature of 'C:\\binn\\msoledbsql.dll'. Signature verification of SQL Server DLLs will be skipped. Genuine copies of SQL Server are signed. Failure to verify the Authenticode signature might indicate that this is not an authentic release of SQL Server. Install a genuine copy of SQL Server or contact customer support.\n\n2020-05-30 06:59:42.50 spid30s     Parallel redo is started for database 'Northwind' with worker pool size [4].\n\n2020-05-30 06:59:42.82 spid33s     Parallel redo is started for database 'pubs' with worker pool size [4].\n\n2020-05-30 06:59:42.87 spid9s      Parallel redo is shutdown for database 'Northwind' with worker pool size [4].\n\n2020-05-30 06:59:42.88 spid12s     CHECKDB for database 'model' finished without errors on 2019-12-21 14:41:58.610 (local time). This is an informational message only; no user action is required.\n\n2020-05-30 06:59:42.89 spid12s     Clearing tempdb database.\n\n2020-05-30 06:59:42.92 spid30s     CHECKDB for database 'Northwind' finished without errors on 2019-12-21 14:42:06.193 (local time). This is an informational message only; no user action is required.\n\n2020-05-30 06:59:42.93 spid33s     CHECKDB for database 'pubs' finished without errors on 2019-12-21 14:42:06.563 (local time). This is an informational message only; no user action is required.\n\n2020-05-30 06:59:42.94 spid33s     Recovery is writing a checkpoint in database 'msdb' (4). This is an informational message only. No user action is required.\n\n2020-05-30 06:59:42.99 spid9s      Parallel redo is shutdown for database 'pubs' with worker pool size [4].\n\n2020-05-30 06:59:43.04 spid28s     CHECKDB for database 'msdb' finished without errors on 2019-12-21 14:41:59.007 (local time). This is an informational message only; no user action is required.\n\n2020-05-30 06:59:43.97 spid12s     [2]. Feature Status: PVS: 0. CTR: 0. ConcurrentPFSUpdate: 1.\n\n2020-05-30 06:59:43.97 spid12s     Starting up database 'tempdb'.\n\n2020-05-30 06:59:51.55 spid31s     Parallel redo is started for database 'AdventureWorks2017' with worker pool size [4].\n\n2020-05-30 06:59:51.68 spid31s     CHECKDB for database 'AdventureWorks2017' finished without errors on 2019-12-21 14:42:03.403 (local time). This is an informational message only; no user action is required.\n\n2020-05-30 06:59:51.71 spid9s      Parallel redo is shutdown for database 'AdventureWorks2017' with worker pool size [4].\n\n2020-05-30 06:59:51.77 spid12s     The tempdb database has 4 data file(s).\n\n2020-05-30 06:59:51.81 spid27s     The Service Broker endpoint is in disabled or stopped state.\n\n2020-05-30 06:59:51.81 spid27s     The Database Mirroring endpoint is in disabled or stopped state.\n\n2020-05-30 06:59:51.83 spid27s     Service Broker manager has started.\n\n2020-05-30 06:59:51.83 spid9s      Recovery is complete. This is an informational message only. No user action is required.\n\n2020-05-30 06:59:52.28 spid51      Attempting to load library 'xpsqlbot.dll' into memory. This is an informational message only. No user action is required.\n\n2020-05-30 06:59:52.34 spid51      Using 'xpsqlbot.dll' version '2019.150.2000' to execute extended stored procedure 'xp_qv'. This is an informational message only; no user action is required.\n\n2020-05-30 06:59:52.43 spid51      Attempting to load library 'xpstar.dll' into memory. This is an informational message only. No user action is required.\n\n2020-05-30 06:59:52.55 spid51      Using 'xpstar.dll' version '2019.150.2000' to execute extended stored procedure 'xp_sqlagent_notify'. This is an informational message only; no user action is required.\n\n2020-05-30 07:00:04.27 spid52      Attempting to load library 'xplog70.dll' into memory. This is an informational message only. No user action is required.\n\n2020-05-30 07:00:04.35 spid52      Using 'xplog70.dll' version '2019.150.2000' to execute extended stored procedure 'xp_msver'. This is an informational message only; no user action is required.\n\n2020-05-30 07:02:15.07 Backup      Database backed up. Database: AdventureWorks2017, creation date(time): 2019/12/21(14:34:04), pages dumped: 26508, first LSN: 39:24648:1, last LSN: 39:24672:1, number of dump devices: 1, device information: (FILE=1, TYPE=DISK: {'c:\\var\\opt\\mssql\\backups\\SQL1\\AdventureWorks2017_202005300802.bak'}). This is an informational message only. No user action is required.\n\n2020-05-30 07:02:15.10 Backup      BACKUP DATABASE successfully processed 26354 pages in 3.182 seconds (64.703 MB/sec).\n\n2020-05-30 07:02:16.76 Backup      Database backed up. Database: master, creation date(time): 2020/05/30(06:59:39), pages dumped: 860, first LSN: 241:248:1, last LSN: 241:272:1, number of dump devices: 1, device information: (FILE=1, TYPE=DISK: {'c:\\var\\opt\\mssql\\backups\\SQL1\\master_202005300802.bak'}). This is an informational message only. No user action is required.\n\n2020-05-30 07:02:16.79 Backup      BACKUP DATABASE successfully processed 850 pages in 0.390 seconds (17.017 MB/sec).\n\n2020-05-30 07:02:18.10 Backup      Database backed up. Database: model, creation date(time): 2003/04/08(09:13:36), pages dumped: 332, first LSN: 36:880:1, last LSN: 36:904:1, number of dump devices: 1, device information: (FILE=1, TYPE=DISK: {'c:\\var\\opt\\mssql\\backups\\SQL1\\model_202005300802.bak'}). This is an informational message only. No user action is required.\n\n2020-05-30 07:02:18.13 Backup      BACKUP DATABASE successfully processed 322 pages in 0.246 seconds (10.210 MB/sec).\n\n2020-05-30 07:02:19.66 Backup      Database backed up. Database: msdb, creation date(time): 2019/09/24(14:21:42), pages dumped: 2060, first LSN: 92:40:1, last LSN: 92:64:1, number of dump devices: 1, device information: (FILE=1, TYPE=DISK: {'c:\\var\\opt\\mssql\\backups\\SQL1\\msdb_202005300802.bak'}). This is an informational message only. No user action is required.\n\n2020-05-30 07:02:19.70 Backup      BACKUP DATABASE successfully processed 1874 pages in 0.331 seconds (44.219 MB/sec).\n\n2020-05-30 07:02:21.09 Backup      Database backed up. Database: Northwind, creation date(time): 2019/12/21(14:34:30), pages dumped: 859, first LSN: 43:3088:1, last LSN: 43:3112:1, number of dump devices: 1, device information: (FILE=1, TYPE=DISK: {'c:\\var\\opt\\mssql\\backups\\SQL1\\Northwind_202005300802.bak'}). This is an informational message only. No user action is required.\n\n2020-05-30 07:02:21.12 Backup      BACKUP DATABASE successfully processed 850 pages in 0.298 seconds (22.270 MB/sec).\n\n2020-05-30 07:02:22.34 Backup      Database backed up. Database: pubs, creation date(time): 2019/12/21(14:34:37), pages dumped: 579, first LSN: 37:1200:1, last LSN: 37:1224:1, number of dump devices: 1, device information: (FILE=1, TYPE=DISK: {'c:\\var\\opt\\mssql\\backups\\SQL1\\pubs_202005300802.bak'}). This is an informational message only. No user action is required.\n\n2020-05-30 07:02:22.38 Backup      BACKUP DATABASE successfully processed 570 pages in 0.312 seconds (14.260 MB/sec).\nSQL Server 2019 will run as non-root by default.\nThis container is running as user mssql.\nYour master database file is owned by mssql.\nTo learn more visit https://go.microsoft.com/fwlink/?linkid=2099216.\n2020-05-30 09:36:29.85 Server      Microsoft SQL Server 2019 (RTM) - 15.0.2000.5 (X64) \n\n\tSep 24 2019 13:48:23 \n\n\tCopyright (C) 2019 Microsoft Corporation\n\n\tDeveloper Edition (64-bit) on Linux (Ubuntu 16.04.6 LTS) <X64>\n\n2020-05-30 09:36:29.85 Server      UTC adjustment: 0:00\n\n2020-05-30 09:36:29.85 Server      (c) Microsoft Corporation.\n\n2020-05-30 09:36:29.85 Server      All rights reserved.\n\n2020-05-30 09:36:29.85 Server      Server process ID is 32.\n\n2020-05-30 09:36:29.85 Server      Logging SQL Server messages in file '/var/opt/mssql/log/errorlog'.\n\n2020-05-30 09:36:29.85 Server      Registry startup parameters: \n\n\t -d /var/opt/mssql/data/master.mdf\n\n\t -l /var/opt/mssql/data/mastlog.ldf\n\n\t -e /var/opt/mssql/log/errorlog\n\n2020-05-30 09:36:29.86 Server      SQL Server detected 1 sockets with 4 cores per socket and 8 logical processors per socket, 8 total logical processors; using 8 logical processors based on SQL Server licensing. This is an informational message; no user action is required.\n\n2020-05-30 09:36:29.86 Server      SQL Server is starting at normal priority base (=7). This is an informational message only. No user action is required.\n\n2020-05-30 09:36:29.86 Server      Detected 10067 MB of RAM. This is an informational message; no user action is required.\n\n2020-05-30 09:36:29.87 Server      Using conventional memory in the memory manager.\n\n2020-05-30 09:36:29.89 Server      Page exclusion bitmap is enabled.\n\n2020-05-30 09:36:29.94 Server      Buffer pool extension is not supported on Linux platform.\n\n2020-05-30 09:36:29.95 Server      Buffer Pool: Allocating 2097152 bytes for 1521676 hashPages.\n\n2020-05-30 09:36:30.28 Server      Buffer pool extension is already disabled. No action is necessary.\n\n2020-05-30 09:36:30.59 Server      Successfully initialized the TLS configuration. Allowed TLS protocol versions are ['1.0 1.1 1.2']. Allowed TLS ciphers are ['ECDHE-ECDSA-AES128-GCM-SHA256:ECDHE-ECDSA-AES256-GCM-SHA384:ECDHE-RSA-AES128-GCM-SHA256:ECDHE-RSA-AES256-GCM-SHA384:ECDHE-ECDSA-AES128-SHA256:ECDHE-ECDSA-AES256-SHA384:ECDHE-ECDSA-AES256-SHA:ECDHE-ECDSA-AES128-SHA:AES256-GCM-SHA384:AES128-GCM-SHA256:AES256-SHA256:AES128-SHA256:AES256-SHA:AES128-SHA:!DHE-RSA-AES256-GCM-SHA384:!DHE-RSA-AES128-GCM-SHA256:!DHE-RSA-AES256-SHA:!DHE-RSA-AES128-SHA'].\n\n2020-05-30 09:36:30.61 Server      Query Store settings initialized with enabled = 1, \n\n2020-05-30 09:36:30.65 Server      The maximum number of dedicated administrator connections for this instance is '1'\n\n2020-05-30 09:36:30.65 Server      Node configuration: node 0: CPU mask: 0x00000000000000ff:0 Active CPU mask: 0x00000000000000ff:0. This message provides a description of the NUMA configuration for this computer. This is an informational message only. No user action is required.\n\n2020-05-30 09:36:30.68 Server      Using dynamic lock allocation.  Initial allocation of 2500 Lock blocks and 5000 Lock Owner blocks per node.  This is an informational message only.  No user action is required.\n\n2020-05-30 09:36:30.70 Server      In-Memory OLTP initialized on standard machine.\n\n2020-05-30 09:36:30.80 Server      [INFO] Created Extended Events session 'hkenginexesession'\n\n\n\n2020-05-30 09:36:30.80 Server      Database Instant File Initialization: enabled. For security and performance considerations see the topic 'Database Instant File Initialization' in SQL Server Books Online. This is an informational message only. No user action is required.\n\nForceFlush is enabled for this instance. \n\n2020-05-30 09:36:30.85 Server      Total Log Writer threads: 2. This is an informational message; no user action is required.\n\n2020-05-30 09:36:30.89 Server      clflushopt is selected for pmem flush operation.\n\n2020-05-30 09:36:30.89 Server      Software Usage Metrics is disabled.\n\n2020-05-30 09:36:30.91 spid9s      [1]. Feature Status: PVS: 0. CTR: 0. ConcurrentPFSUpdate: 1.\n\n2020-05-30 09:36:30.91 spid9s      Starting up database 'master'.\n\n2020-05-30 09:36:31.06 Server      CLR version v4.0.30319 loaded.\n\nForceFlush feature is enabled for log durability.\n\n2020-05-30 09:36:31.62 spid9s      CHECKDB for database 'master' finished without errors on 2019-12-21 14:41:58.023 (local time). This is an informational message only; no user action is required.\n\n2020-05-30 09:36:31.69 spid9s      Resource governor reconfiguration succeeded.\n\n2020-05-30 09:36:31.69 spid9s      SQL Server Audit is starting the audits. This is an informational message. No user action is required.\n\n2020-05-30 09:36:31.72 spid9s      SQL Server Audit has started the audits. This is an informational message. No user action is required.\n\n2020-05-30 09:36:32.23 Server      Common language runtime (CLR) functionality initialized.\n\n2020-05-30 09:36:32.43 spid9s      SQL Trace ID 1 was started by login \"sa\".\n\n2020-05-30 09:36:32.50 spid9s      Server name is 'cd3b90b9d1dc'. This is an informational message only. No user action is required.\n\n2020-05-30 09:36:32.54 spid26s     Always On: The availability replica manager is starting. This is an informational message only. No user action is required.\n\n2020-05-30 09:36:32.55 spid26s     Always On: The availability replica manager is waiting for the instance of SQL Server to allow client connections. This is an informational message only. No user action is required.\n\n2020-05-30 09:36:32.55 spid29s     [5]. Feature Status: PVS: 0. CTR: 0. ConcurrentPFSUpdate: 1.\n\n2020-05-30 09:36:32.56 spid30s     [4]. Feature Status: PVS: 0. CTR: 0. ConcurrentPFSUpdate: 1.\n\n2020-05-30 09:36:32.57 spid31s     [7]. Feature Status: PVS: 0. CTR: 0. ConcurrentPFSUpdate: 1.\n\n2020-05-30 09:36:32.57 spid30s     Starting up database 'msdb'.\n\n2020-05-30 09:36:32.57 spid33s     [8]. Feature Status: PVS: 0. CTR: 0. ConcurrentPFSUpdate: 1.\n\n2020-05-30 09:36:32.57 spid29s     Starting up database 'AdventureWorks2017'.\n\n2020-05-30 09:36:32.57 spid33s     Starting up database 'pubs'.\n\n2020-05-30 09:36:32.58 spid31s     Starting up database 'Northwind'.\n\n2020-05-30 09:36:32.57 spid12s     [32767]. Feature Status: PVS: 0. CTR: 0. ConcurrentPFSUpdate: 1.\n\n2020-05-30 09:36:32.59 spid12s     Starting up database 'mssqlsystemresource'.\n\n2020-05-30 09:36:32.61 spid12s     The resource database build version is 15.00.2000. This is an informational message only. No user action is required.\n\n2020-05-30 09:36:32.66 spid12s     [3]. Feature Status: PVS: 0. CTR: 0. ConcurrentPFSUpdate: 1.\n\n2020-05-30 09:36:32.67 spid12s     Starting up database 'model'.\n\n2020-05-30 09:36:32.81 spid25s     A self-generated certificate was successfully loaded for encryption.\n\n2020-05-30 09:36:32.88 spid25s     Server is listening on [ 'any' <ipv6> 1433].\n\n2020-05-30 09:36:32.89 spid25s     Server is listening on [ 'any' <ipv4> 1433].\n\n2020-05-30 09:36:32.90 Server      Server is listening on [ 'any' <ipv6> 1434].\n\n2020-05-30 09:36:32.91 Server      Server is listening on [ 'any' <ipv4> 1434].\n\n2020-05-30 09:36:32.91 Server      Dedicated admin connection support was established for listening remotely on port 1434.\n\n2020-05-30 09:36:33.00 spid25s     Error: 39002, Severity: 16, State: 1.\n\n2020-05-30 09:36:33.00 spid25s     SQL failed to boot extensibility for error code 0x80070005.\n\n2020-05-30 09:36:33.01 spid25s     InitializeXdbPkgLauncher failed. ErrorCode: 0x80004005.\n\n2020-05-30 09:36:33.02 spid25s     SQL Server is now ready for client connections. This is an informational message; no user action is required.\n\n2020-05-30 09:36:33.38 spid29s     Parallel redo is started for database 'AdventureWorks2017' with worker pool size [4].\n\n2020-05-30 09:36:33.50 spid33s     Parallel redo is started for database 'pubs' with worker pool size [4].\n\n2020-05-30 09:36:33.57 spid31s     Parallel redo is started for database 'Northwind' with worker pool size [4].\n\n2020-05-30 09:36:33.63 spid12s     CHECKDB for database 'model' finished without errors on 2019-12-21 14:41:58.610 (local time). This is an informational message only; no user action is required.\n\n2020-05-30 09:36:33.64 spid12s     Clearing tempdb database.\n\n2020-05-30 09:36:33.72 spid9s      Parallel redo is shutdown for database 'AdventureWorks2017' with worker pool size [4].\n\n2020-05-30 09:36:33.73 spid33s     CHECKDB for database 'pubs' finished without errors on 2019-12-21 14:42:06.563 (local time). This is an informational message only; no user action is required.\n\n2020-05-30 09:36:33.74 spid33s     Parallel redo is shutdown for database 'pubs' with worker pool size [4].\n\n2020-05-30 09:36:33.76 spid33s     Parallel redo is shutdown for database 'Northwind' with worker pool size [4].\n\n2020-05-30 09:36:33.76 spid33s     Recovery is writing a checkpoint in database 'msdb' (4). This is an informational message only. No user action is required.\n\n2020-05-30 09:36:33.77 spid31s     CHECKDB for database 'Northwind' finished without errors on 2019-12-21 14:42:06.193 (local time). This is an informational message only; no user action is required.\n\n2020-05-30 09:36:33.80 spid29s     CHECKDB for database 'AdventureWorks2017' finished without errors on 2019-12-21 14:42:03.403 (local time). This is an informational message only; no user action is required.\n\n2020-05-30 09:36:33.98 Server      Failed to verify the Authenticode signature of 'C:\\binn\\msoledbsql.dll'. Signature verification of SQL Server DLLs will be skipped. Genuine copies of SQL Server are signed. Failure to verify the Authenticode signature might indicate that this is not an authentic release of SQL Server. Install a genuine copy of SQL Server or contact customer support.\n\n2020-05-30 09:36:34.09 spid30s     CHECKDB for database 'msdb' finished without errors on 2019-12-21 14:41:59.007 (local time). This is an informational message only; no user action is required.\n\n2020-05-30 09:36:34.47 spid12s     [2]. Feature Status: PVS: 0. CTR: 0. ConcurrentPFSUpdate: 1.\n\n2020-05-30 09:36:34.47 spid12s     Starting up database 'tempdb'.\n\n2020-05-30 09:36:36.48 spid12s     The tempdb database has 4 data file(s).\n\n2020-05-30 09:36:36.49 spid29s     The Service Broker endpoint is in disabled or stopped state.\n\n2020-05-30 09:36:36.49 spid29s     The Database Mirroring endpoint is in disabled or stopped state.\n\n2020-05-30 09:36:36.51 spid29s     Service Broker manager has started.\n\n2020-05-30 09:36:36.52 spid9s      Recovery is complete. This is an informational message only. No user action is required.\n\n2020-05-30 09:36:37.57 spid51      Attempting to load library 'xpsqlbot.dll' into memory. This is an informational message only. No user action is required.\n\n2020-05-30 09:36:37.59 spid51      Using 'xpsqlbot.dll' version '2019.150.2000' to execute extended stored procedure 'xp_qv'. This is an informational message only; no user action is required.\n\n2020-05-30 09:36:37.67 spid51      Attempting to load library 'xpstar.dll' into memory. This is an informational message only. No user action is required.\n\n2020-05-30 09:36:37.74 spid51      Using 'xpstar.dll' version '2019.150.2000' to execute extended stored procedure 'xp_sqlagent_notify'. This is an informational message only; no user action is required.\n\n2020-05-30 09:36:51.95 spid52      Attempting to load library 'xplog70.dll' into memory. This is an informational message only. No user action is required.\n\n2020-05-30 09:36:52.05 spid52      Using 'xplog70.dll' version '2019.150.2000' to execute extended stored procedure 'xp_msver'. This is an informational message only; no user action is required.\n"
                }
            ],
            "execution_count": 4
        },
        {
            "cell_type": "markdown",
            "source": [
                "If there are warnings above and the containers are running - check the logs"
            ],
            "metadata": {
                "azdata_cell_guid": "93044e3d-d9d1-4b03-aab6-0438eb3d9fb9"
            }
        },
        {
            "cell_type": "code",
            "source": [
                "docker logs dbatools_SQL2019_1"
            ],
            "metadata": {
                "azdata_cell_guid": "00d631fb-0dc2-421b-bdd3-fb6ec20c1c5b"
            },
            "outputs": [],
            "execution_count": null
        },
        {
            "cell_type": "markdown",
            "source": [
                "Now you can use these containers to run the rest of the notebooks - Don't forget to run the Clean Up Containers Notebook at the end to clean up"
            ],
            "metadata": {
                "azdata_cell_guid": "51f09646-69f5-46a7-acf0-33d227489314"
            }
        },
        {
            "cell_type": "code",
            "source": [],
            "metadata": {
                "azdata_cell_guid": "f023eb88-1e69-49c5-8bd1-55b6de9e45f5"
            },
            "outputs": [
                {
                    "output_type": "display_data",
                    "data": {
                        "text/html": "<script type=\"text/javascript\">#!javascript\r\nif ((typeof(requirejs) !==  typeof(Function)) || (typeof(requirejs.config) !== typeof(Function))) { \r\n    let script = document.createElement(\"script\"); \r\n    script.setAttribute(\"src\", \"https://cdnjs.cloudflare.com/ajax/libs/require.js/2.3.6/require.min.js\"); \r\n    script.onload = function(){\r\n        loadDotnetInteractiveApi();\r\n    };\r\n    document.getElementsByTagName(\"head\")[0].appendChild(script); \r\n}\r\nelse {\r\n    loadDotnetInteractiveApi();\r\n}\r\n\r\nfunction loadDotnetInteractiveApi(){\r\n    let apiRequire = requirejs.config({context:\"dotnet-interactive.22480.58172\",paths:{dotnetInteractive:\"http://localhost:58172/resources/dotnet-interactive\"}});\r\n    apiRequire(['dotnetInteractive'], \r\n    function(api) {       \r\n        api.createDotnetInteractiveClient(\"http://localhost:58172/\", window);\r\n    },\r\n    function(error){\r\n        console.log(error);\r\n    });\r\n}</script>"
                    },
                    "metadata": {}
                }
            ],
            "execution_count": null
        },
        {
            "cell_type": "code",
            "source": [],
            "metadata": {
                "azdata_cell_guid": "35a7c0e9-2679-43b5-accc-22ea39181f09"
            },
            "outputs": [],
            "execution_count": null
        }
    ]
}