{
 "cells": [
  {
   "cell_type": "markdown",
   "metadata": {},
   "source": [
    "# Extended Events\n",
    "\n",
    "***You will need to have followed the steps in the 00-CreateContainers notebook to use this notebook***\n",
    "\n",
    "We have written a book which will give you a brilliant introduction to dbatools. It's called dbatools in a Month of Lunches and you can find it at https://beard.media/book\n",
    "\n",
    "dbatools is **awesome** with Extended Events\n",
    "\n",
    "First we will set up the variables and connections to the containers"
   ]
  },
  {
   "cell_type": "code",
   "execution_count": 1,
   "metadata": {
    "jupyter": {
     "source_hidden": true
    }
   },
   "outputs": [
    {
     "data": {
      "text/html": [
       "<script type=\"text/javascript\">#!javascript\r\n",
       "if ((typeof(requirejs) !==  typeof(Function)) || (typeof(requirejs.config) !== typeof(Function))) { \r\n",
       "    let script = document.createElement(\"script\"); \r\n",
       "    script.setAttribute(\"src\", \"https://cdnjs.cloudflare.com/ajax/libs/require.js/2.3.6/require.min.js\"); \r\n",
       "    script.onload = function(){\r\n",
       "        loadDotnetInteractiveApi();\r\n",
       "    };\r\n",
       "    document.getElementsByTagName(\"head\")[0].appendChild(script); \r\n",
       "}\r\n",
       "else {\r\n",
       "    loadDotnetInteractiveApi();\r\n",
       "}\r\n",
       "\r\n",
       "function loadDotnetInteractiveApi(){\r\n",
       "    let apiRequire = requirejs.config({context:\"dotnet-interactive.18372.64688\",paths:{dotnetInteractive:\"http://localhost:64688/resources/dotnet-interactive\"}});\r\n",
       "    apiRequire(['dotnetInteractive'], \r\n",
       "    function(api) {       \r\n",
       "        api.createDotnetInteractiveClient(\"http://localhost:64688/\", window);\r\n",
       "    },\r\n",
       "    function(error){\r\n",
       "        console.log(error);\r\n",
       "    });\r\n",
       "}</script>"
      ]
     },
     "metadata": {},
     "output_type": "display_data"
    },
    {
     "name": "stdout",
     "output_type": "stream",
     "text": [
      " Creating connection to the containers\n",
      "We have a connection to the containers\n"
     ]
    }
   ],
   "source": [
    "$FolderPath = $Env:USERPROFILE + '\\Documents\\dbatoolsdemo'\n",
    "$SqlInstances = 'localhost,15592', 'localhost,15593'\n",
    "$SqlCredential = Import-Clixml -Path $FolderPath\\sqladmin.cred\n",
    "Write-Output \" Creating connection to the containers\"\n",
    "try {\n",
    "    $SQL1 = Connect-DbaInstance -SqlInstance $SqlInstances[0] -SqlCredential $SqlCredential \n",
    "    $SQL2 = Connect-DbaInstance -SqlInstance $SqlInstances[1] -SqlCredential $SqlCredential\n",
    "    Write-Output \"We have a connection to the containers\"\n",
    "\n",
    "}\n",
    "catch {\n",
    "    Write-Output \"You haven't got a connection to the containers - Either they are still upgrading in which case try again in 30 seconds or the containers have not come up correctly\"\n",
    "    Write-Output \"Make sure the containers are running - the code is below in a block for you\"\n",
    "    Write-Output \"docker ps -a\"\n",
    "    Write-Output \"If they are read the logs - the code is below in a block for you\"\n",
    "    Write-Output \"docker logs dbatools_SQL2019_1\"\n",
    "    Write-Output \"docker logs dbatools_SQL2019-1_1\"\n",
    "}"
   ]
  },
  {
   "cell_type": "markdown",
   "metadata": {},
   "source": [
    "## Listing Extended Events\n",
    "\n",
    "Which Extended Event sessions do we have on our instances ?\n",
    "\n",
    "This will give you \n",
    "\n",
    "- The name of the session\n",
    "- If it is running\n",
    "- When it started\n",
    "- If it will start on server startup (Autostart = True)\n",
    "- The targets\n",
    "- The target filename\n",
    "- The events"
   ]
  },
  {
   "cell_type": "code",
   "execution_count": 2,
   "metadata": {},
   "outputs": [
    {
     "name": "stdout",
     "output_type": "stream",
     "text": [
      "\n",
      "ComputerName : localhost\n",
      "InstanceName : MSSQLSERVER\n",
      "SqlInstance  : f65aa80e71d9\n",
      "Name         : 15 Second IO Error\n",
      "Status       : Running\n",
      "StartTime    : 10/03/2020 21:57:52\n",
      "AutoStart    : True\n",
      "State        : Existing\n",
      "Targets      : {package0.event_file}\n",
      "TargetFile   : {/var/opt/mssql/log\\15_second_io_error}\n",
      "Events       : {sqlserver.file_read_completed, sqlserver.file_write_completed}\n",
      "MaxMemory    : 4096\n",
      "MaxEventSize : 0\n",
      "\n",
      "ComputerName : localhost\n",
      "InstanceName : MSSQLSERVER\n",
      "SqlInstance  : f65aa80e71d9\n",
      "Name         : AlwaysOn_health\n",
      "Status       : Stopped\n",
      "StartTime    : \n",
      "AutoStart    : False\n",
      "State        : Existing\n",
      "Targets      : {package0.event_file}\n",
      "TargetFile   : {/var/opt/mssql/log\\AlwaysOn_health.xel}\n",
      "Events       : {sqlserver.alwayson_ddl_executed, sqlserver.availability_group_lease_expired, \n",
      "               sqlserver.availability_replica_automatic_failover_validation, \n",
      "               sqlserver.availability_replica_manager_state_change…}\n",
      "MaxMemory    : 4096\n",
      "MaxEventSize : 0\n",
      "\n",
      "ComputerName : localhost\n",
      "InstanceName : MSSQLSERVER\n",
      "SqlInstance  : f65aa80e71d9\n",
      "Name         : Blocked Process Report\n",
      "Status       : Running\n",
      "StartTime    : 10/03/2020 21:57:52\n",
      "AutoStart    : True\n",
      "State        : Existing\n",
      "Targets      : {package0.event_file}\n",
      "TargetFile   : {/var/opt/mssql/log\\Blocked Process Report}\n",
      "Events       : {sqlserver.blocked_process_report}\n",
      "MaxMemory    : 8192\n",
      "MaxEventSize : 0\n",
      "\n",
      "ComputerName : localhost\n",
      "InstanceName : MSSQLSERVER\n",
      "SqlInstance  : f65aa80e71d9\n",
      "Name         : Stored Procedure Parameters\n",
      "Status       : Running\n",
      "StartTime    : 10/03/2020 21:57:52\n",
      "AutoStart    : True\n",
      "State        : Existing\n",
      "Targets      : {package0.event_file}\n",
      "TargetFile   : {/var/opt/mssql/log\\capture_parameters}\n",
      "Events       : {sqlserver.rpc_completed, sqlserver.sql_batch_completed}\n",
      "MaxMemory    : 4096\n",
      "MaxEventSize : 0\n",
      "\n",
      "ComputerName : localhost\n",
      "InstanceName : MSSQLSERVER\n",
      "SqlInstance  : f65aa80e71d9\n",
      "Name         : system_health\n",
      "Status       : Running\n",
      "StartTime    : 10/03/2020 21:57:52\n",
      "AutoStart    : True\n",
      "State        : Existing\n",
      "Targets      : {package0.event_file, package0.ring_buffer}\n",
      "TargetFile   : {/var/opt/mssql/log\\system_health.xel}\n",
      "Events       : {sqlclr.clr_allocation_failure, sqlclr.clr_virtual_alloc_failure, \n",
      "               sqlos.memory_broker_ring_buffer_recorded, \n",
      "               sqlos.memory_node_oom_ring_buffer_recorded…}\n",
      "MaxMemory    : 4096\n",
      "MaxEventSize : 0\n",
      "\n",
      "ComputerName : localhost\n",
      "InstanceName : MSSQLSERVER\n",
      "SqlInstance  : f65aa80e71d9\n",
      "Name         : telemetry_xevents\n",
      "Status       : Running\n",
      "StartTime    : 10/03/2020 21:57:52\n",
      "AutoStart    : True\n",
      "State        : Existing\n",
      "Targets      : {package0.ring_buffer}\n",
      "TargetFile   : {}\n",
      "Events       : {qds.query_store_db_diagnostics, sqlserver.alter_column_event, \n",
      "               sqlserver.always_encrypted_query_count, \n",
      "               sqlserver.approximate_count_distinct_query_compiled…}\n",
      "MaxMemory    : 4096\n",
      "MaxEventSize : 0\n",
      "\n",
      "\n"
     ]
    }
   ],
   "source": [
    "Get-DbaXESession -SqlInstance $SQL1"
   ]
  },
  {
   "cell_type": "markdown",
   "metadata": {},
   "source": [
    "## Starting and stopping Extended Events Sessions\n",
    "\n",
    "It is no surprise that you can start and stop extended events sessions easily with dbatools. We like to make command names easy to remember!\n",
    "\n",
    "`Start-DbaXeSession`  \n",
    "`Stop-DbaXeSession`\n",
    "\n",
    "The following session is running - Yep we can check a session with `Get-DbaXeSession` - Look at the status to see if it is running"
   ]
  },
  {
   "cell_type": "code",
   "execution_count": 3,
   "metadata": {},
   "outputs": [
    {
     "name": "stdout",
     "output_type": "stream",
     "text": [
      "\n",
      "ComputerName : localhost\n",
      "InstanceName : MSSQLSERVER\n",
      "SqlInstance  : f65aa80e71d9\n",
      "Name         : Blocked Process Report\n",
      "Status       : Running\n",
      "StartTime    : 10/03/2020 21:57:52\n",
      "AutoStart    : True\n",
      "State        : Existing\n",
      "Targets      : {package0.event_file}\n",
      "TargetFile   : {/var/opt/mssql/log\\Blocked Process Report}\n",
      "Events       : {sqlserver.blocked_process_report}\n",
      "MaxMemory    : 8192\n",
      "MaxEventSize : 0\n",
      "\n",
      "\n"
     ]
    }
   ],
   "source": [
    "Get-DbaXESession -SqlInstance $SQL1 -Session 'Blocked Process Report'"
   ]
  },
  {
   "cell_type": "markdown",
   "metadata": {},
   "source": [
    "We can stop it\n"
   ]
  },
  {
   "cell_type": "code",
   "execution_count": 4,
   "metadata": {},
   "outputs": [
    {
     "name": "stdout",
     "output_type": "stream",
     "text": [
      "\n",
      "ComputerName : localhost\n",
      "InstanceName : MSSQLSERVER\n",
      "SqlInstance  : f65aa80e71d9\n",
      "Name         : Blocked Process Report\n",
      "Status       : Stopped\n",
      "StartTime    : \n",
      "AutoStart    : True\n",
      "State        : Existing\n",
      "Targets      : {package0.event_file}\n",
      "TargetFile   : {/var/opt/mssql/log\\Blocked Process Report}\n",
      "Events       : {sqlserver.blocked_process_report}\n",
      "MaxMemory    : 8192\n",
      "MaxEventSize : 0\n",
      "\n",
      "\n"
     ]
    }
   ],
   "source": [
    "Stop-DbaXESession  -SqlInstance $SQL1 -Session 'Blocked Process Report'"
   ]
  },
  {
   "cell_type": "markdown",
   "metadata": {},
   "source": [
    "and start it again\n"
   ]
  },
  {
   "cell_type": "code",
   "execution_count": 5,
   "metadata": {},
   "outputs": [
    {
     "name": "stdout",
     "output_type": "stream",
     "text": [
      "\n",
      "ComputerName : localhost\n",
      "InstanceName : MSSQLSERVER\n",
      "SqlInstance  : f65aa80e71d9\n",
      "Name         : Blocked Process Report\n",
      "Status       : Running\n",
      "StartTime    : 10/03/2020 21:59:00\n",
      "AutoStart    : True\n",
      "State        : Existing\n",
      "Targets      : {package0.event_file}\n",
      "TargetFile   : {/var/opt/mssql/log\\Blocked Process Report}\n",
      "Events       : {sqlserver.blocked_process_report}\n",
      "MaxMemory    : 8192\n",
      "MaxEventSize : 0\n",
      "\n",
      "\n"
     ]
    }
   ],
   "source": [
    "Start-DbaXESession  -SqlInstance $SQL1 -Session 'Blocked Process Report'"
   ]
  },
  {
   "cell_type": "markdown",
   "metadata": {},
   "source": [
    "We can watch the live data - Lets create a different process to watch the Blocked Process Session.\n",
    "\n",
    "This code will open a Windows PowerShell session, right click to paste the code and it will prompt for a password which is `dbatools.IO` You will need to have installed dbatools in Windows PowerShell prior to this.\n",
    "Leave that running and move to the next step"
   ]
  },
  {
   "cell_type": "code",
   "execution_count": 6,
   "metadata": {},
   "outputs": [],
   "source": [
    "## When PowerShell opens - right click to paste the command\n",
    "#  \n",
    "@\"\n",
    "## the password is dbatools.IO\n",
    "Get-DbaXESession -SqlInstance 'localhost,15592' -SqlCredential sqladmin -Session 'Blocked Process Report' | Watch-DbaXESession  \n",
    "\"@ | clip\n",
    "\n",
    "# \n",
    "Start-Process 'C:\\Windows\\system32\\WindowsPowerShell\\v1.0\\powershell.exe'"
   ]
  },
  {
   "cell_type": "markdown",
   "metadata": {},
   "source": [
    "This code will create some blocked processes, once you have run it you can look at the Windows PowerShell window and see the details, close the window when you are done!"
   ]
  },
  {
   "cell_type": "code",
   "execution_count": 8,
   "metadata": {},
   "outputs": [
    {
     "name": "stdout",
     "output_type": "stream",
     "text": [
      "\n",
      "au_id    : 172-32-1176\n",
      "au_lname : White\n",
      "au_fname : Johnson\n",
      "phone    : 408 496-7223\n",
      "address  : 10932 Bigge Rd.\n",
      "city     : Menlo Park\n",
      "state    : CA\n",
      "zip      : 94025\n",
      "contract : True\n",
      "\n",
      "au_id    : 172-32-1176\n",
      "au_lname : White\n",
      "au_fname : Johnson\n",
      "phone    : 408 496-7223\n",
      "address  : 10932 Bigge Rd.\n",
      "city     : Menlo Park\n",
      "state    : CA\n",
      "zip      : 94025\n",
      "contract : True\n",
      "\n",
      "au_id    : 172-32-1176\n",
      "au_lname : White\n",
      "au_fname : Johnson\n",
      "phone    : 408 496-7223\n",
      "address  : 10932 Bigge Rd.\n",
      "city     : Menlo Park\n",
      "state    : CA\n",
      "zip      : 94025\n",
      "contract : True\n",
      "\n",
      "au_id    : 172-32-1176\n",
      "au_lname : White\n",
      "au_fname : Johnson\n",
      "phone    : 408 496-7223\n",
      "address  : 10932 Bigge Rd.\n",
      "city     : Menlo Park\n",
      "state    : CA\n",
      "zip      : 94025\n",
      "contract : True\n",
      "\n",
      "au_id    : 172-32-1176\n",
      "au_lname : White\n",
      "au_fname : Johnson\n",
      "phone    : 408 496-7223\n",
      "address  : 10932 Bigge Rd.\n",
      "city     : Menlo Park\n",
      "state    : CA\n",
      "zip      : 94025\n",
      "contract : True\n",
      "\n",
      "au_id    : 213-46-8915\n",
      "au_lname : Green\n",
      "au_fname : Marjorie\n",
      "phone    : 415 986-7020\n",
      "address  : 309 63rd St. #411\n",
      "city     : Oakland\n",
      "state    : CA\n",
      "zip      : 94618\n",
      "contract : True\n",
      "\n",
      "au_id    : 238-95-7766\n",
      "au_lname : Carson\n",
      "au_fname : Cheryl\n",
      "phone    : 415 548-7723\n",
      "address  : 589 Darwin Ln.\n",
      "city     : Berkeley\n",
      "state    : CA\n",
      "zip      : 94705\n",
      "contract : True\n",
      "\n",
      "au_id    : 267-41-2394\n",
      "au_lname : O'Leary\n",
      "au_fname : Michael\n",
      "phone    : 408 286-2428\n",
      "address  : 22 Cleveland Av. #14\n",
      "city     : San Jose\n",
      "state    : CA\n",
      "zip      : 95128\n",
      "contract : True\n",
      "\n",
      "au_id    : 274-80-9391\n",
      "au_lname : Straight\n",
      "au_fname : Dean\n",
      "phone    : 415 834-2919\n",
      "address  : 5420 College Av.\n",
      "city     : Oakland\n",
      "state    : CA\n",
      "zip      : 94609\n",
      "contract : True\n",
      "\n",
      "au_id    : 341-22-1782\n",
      "au_lname : Smith\n",
      "au_fname : Meander\n",
      "phone    : 913 843-0462\n",
      "address  : 10 Mississippi Dr.\n",
      "city     : Lawrence\n",
      "state    : KS\n",
      "zip      : 66044\n",
      "contract : False\n",
      "\n",
      "au_id    : 409-56-7008\n",
      "au_lname : Bennet\n",
      "au_fname : Abraham\n",
      "phone    : 415 658-9932\n",
      "address  : 6223 Bateman St.\n",
      "city     : Berkeley\n",
      "state    : CA\n",
      "zip      : 94705\n",
      "contract : True\n",
      "\n",
      "au_id    : 427-17-2319\n",
      "au_lname : Dull\n",
      "au_fname : Ann\n",
      "phone    : 415 836-7128\n",
      "address  : 3410 Blonde St.\n",
      "city     : Palo Alto\n",
      "state    : CA\n",
      "zip      : 94301\n",
      "contract : True\n",
      "\n",
      "au_id    : 472-27-2349\n",
      "au_lname : Gringlesby\n",
      "au_fname : Burt\n",
      "phone    : 707 938-6445\n",
      "address  : PO Box 792\n",
      "city     : Covelo\n",
      "state    : CA\n",
      "zip      : 95428\n",
      "contract : True\n",
      "\n",
      "au_id    : 486-29-1786\n",
      "au_lname : Locksley\n",
      "au_fname : Charlene\n",
      "phone    : 415 585-4620\n",
      "address  : 18 Broadway Av.\n",
      "city     : San Francisco\n",
      "state    : CA\n",
      "zip      : 94130\n",
      "contract : True\n",
      "\n",
      "au_id    : 527-72-3246\n",
      "au_lname : Greene\n",
      "au_fname : Morningstar\n",
      "phone    : 615 297-2723\n",
      "address  : 22 Graybar House Rd.\n",
      "city     : Nashville\n",
      "state    : TN\n",
      "zip      : 37215\n",
      "contract : False\n",
      "\n",
      "au_id    : 648-92-1872\n",
      "au_lname : Blotchet-Halls\n",
      "au_fname : Reginald\n",
      "phone    : 503 745-6402\n",
      "address  : 55 Hillsdale Bl.\n",
      "city     : Corvallis\n",
      "state    : OR\n",
      "zip      : 97330\n",
      "contract : True\n",
      "\n",
      "au_id    : 672-71-3249\n",
      "au_lname : Yokomoto\n",
      "au_fname : Akiko\n",
      "phone    : 415 935-4228\n",
      "address  : 3 Silver Ct.\n",
      "city     : Walnut Creek\n",
      "state    : CA\n",
      "zip      : 94595\n",
      "contract : True\n",
      "\n",
      "au_id    : 712-45-1867\n",
      "au_lname : del Castillo\n",
      "au_fname : Innes\n",
      "phone    : 615 996-8275\n",
      "address  : 2286 Cram Pl. #86\n",
      "city     : Ann Arbor\n",
      "state    : MI\n",
      "zip      : 48105\n",
      "contract : True\n",
      "\n",
      "au_id    : 722-51-5454\n",
      "au_lname : DeFrance\n",
      "au_fname : Michel\n",
      "phone    : 219 547-9982\n",
      "address  : 3 Balding Pl.\n",
      "city     : Gary\n",
      "state    : IN\n",
      "zip      : 46403\n",
      "contract : True\n",
      "\n",
      "au_id    : 724-08-9931\n",
      "au_lname : Stringer\n",
      "au_fname : Dirk\n",
      "phone    : 415 843-2991\n",
      "address  : 5420 Telegraph Av.\n",
      "city     : Oakland\n",
      "state    : CA\n",
      "zip      : 94609\n",
      "contract : False\n",
      "\n",
      "au_id    : 724-80-9391\n",
      "au_lname : MacFeather\n",
      "au_fname : Stearns\n",
      "phone    : 415 354-7128\n",
      "address  : 44 Upland Hts.\n",
      "city     : Oakland\n",
      "state    : CA\n",
      "zip      : 94612\n",
      "contract : True\n",
      "\n",
      "au_id    : 756-30-7391\n",
      "au_lname : Karsen\n",
      "au_fname : Livia\n",
      "phone    : 415 534-9219\n",
      "address  : 5720 McAuley St.\n",
      "city     : Oakland\n",
      "state    : CA\n",
      "zip      : 94609\n",
      "contract : True\n",
      "\n",
      "au_id    : 807-91-6654\n",
      "au_lname : Panteley\n",
      "au_fname : Sylvia\n",
      "phone    : 301 946-8853\n",
      "address  : 1956 Arlington Pl.\n",
      "city     : Rockville\n",
      "state    : MD\n",
      "zip      : 20853\n",
      "contract : True\n",
      "\n",
      "au_id    : 846-92-7186\n",
      "au_lname : Hunter\n",
      "au_fname : Sheryl\n",
      "phone    : 415 836-7128\n",
      "address  : 3410 Blonde St.\n",
      "city     : Palo Alto\n",
      "state    : CA\n",
      "zip      : 94301\n",
      "contract : True\n",
      "\n",
      "au_id    : 893-72-1158\n",
      "au_lname : McBadden\n",
      "au_fname : Heather\n",
      "phone    : 707 448-4982\n",
      "address  : 301 Putnam\n",
      "city     : Vacaville\n",
      "state    : CA\n",
      "zip      : 95688\n",
      "contract : False\n",
      "\n",
      "au_id    : 899-46-2035\n",
      "au_lname : Ringer\n",
      "au_fname : Anne\n",
      "phone    : 801 826-0752\n",
      "address  : 67 Seventh Av.\n",
      "city     : Salt Lake City\n",
      "state    : UT\n",
      "zip      : 84152\n",
      "contract : True\n",
      "\n",
      "au_id    : 998-72-3567\n",
      "au_lname : Ringer\n",
      "au_fname : Albert\n",
      "phone    : 801 826-0752\n",
      "address  : 67 Seventh Av.\n",
      "city     : Salt Lake City\n",
      "state    : UT\n",
      "zip      : 84152\n",
      "contract : True\n",
      "\n",
      "au_id    : 172-32-1176\n",
      "au_lname : White\n",
      "au_fname : Johnson\n",
      "phone    : 408 496-7223\n",
      "address  : 10932 Bigge Rd.\n",
      "city     : Menlo Park\n",
      "state    : CA\n",
      "zip      : 94025\n",
      "contract : True\n",
      "\n",
      "au_id    : 172-32-1176\n",
      "au_lname : White\n",
      "au_fname : Johnson\n",
      "phone    : 408 496-7223\n",
      "address  : 10932 Bigge Rd.\n",
      "city     : Menlo Park\n",
      "state    : CA\n",
      "zip      : 94025\n",
      "contract : True\n",
      "\n",
      "au_id    : 172-32-1176\n",
      "au_lname : White\n",
      "au_fname : Johnson\n",
      "phone    : 408 496-7223\n",
      "address  : 10932 Bigge Rd.\n",
      "city     : Menlo Park\n",
      "state    : CA\n",
      "zip      : 94025\n",
      "contract : True\n",
      "\n",
      "au_id    : 172-32-1176\n",
      "au_lname : White\n",
      "au_fname : Johnson\n",
      "phone    : 408 496-7223\n",
      "address  : 10932 Bigge Rd.\n",
      "city     : Menlo Park\n",
      "state    : CA\n",
      "zip      : 94025\n",
      "contract : True\n",
      "\n",
      "au_id    : 172-32-1176\n",
      "au_lname : White\n",
      "au_fname : Johnson\n",
      "phone    : 408 496-7223\n",
      "address  : 10932 Bigge Rd.\n",
      "city     : Menlo Park\n",
      "state    : CA\n",
      "zip      : 94025\n",
      "contract : True\n",
      "\n",
      "\n"
     ]
    }
   ],
   "source": [
    "$query1 = \"\n",
    "BEGIN TRANSACTION\n",
    "  SELECT * FROM [dbo].[authors] WITH (TABLOCKX, HOLDLOCK)\n",
    "    WAITFOR DELAY '00:00:30' -- 30 seconds\n",
    "ROLLBACK TRANSACTION\n",
    "\"\n",
    "$query2 = \"SELECT TOP 1 * FROM [dbo].[authors]\" \n",
    "$Queries = $query1, $query2, $query2 , $query2, $query2, $query2, $query2, $query2, $query2, $query2\n",
    "$FolderPath = $Env:USERPROFILE + '\\Documents\\dbatoolsdemo'\n",
    "$Queries |ForEach-Object -Parallel  {\n",
    "$Credential = Import-Clixml -Path $Using:FolderPath\\sqladmin.cred\n",
    "Invoke-DbaQuery -SqlInstance 'localhost,15592' -SqlCredential $Credential -Database pubs -Query $psitem \n",
    "}"
   ]
  },
  {
   "cell_type": "markdown",
   "metadata": {},
   "source": [
    "Thats really cool, you can see the data flying by on the screen  \n",
    "  \n",
    "![dbatools](.\\images\\blockedprocessXE.png )  \n",
    "\n",
    "But what about if you would like to read the data\n",
    "\n",
    "There is no need to learn the XML shredding :-)\n",
    "\n",
    "We can read the file.\n",
    "\n",
    "First we need to know where the file is"
   ]
  },
  {
   "cell_type": "code",
   "execution_count": 9,
   "metadata": {},
   "outputs": [
    {
     "name": "stdout",
     "output_type": "stream",
     "text": [
      "\n",
      "ComputerName  : localhost\n",
      "InstanceName  : MSSQLSERVER\n",
      "SqlInstance   : f65aa80e71d9\n",
      "Session       : Blocked Process Report\n",
      "SessionStatus : Running\n",
      "Name          : package0.event_file\n",
      "ID            : 2\n",
      "Field         : {filename, increment, is_indexed_file_target, lazy_create_blob…}\n",
      "PackageName   : package0\n",
      "File          : {/var/opt/mssql/log\\Blocked Process Report}\n",
      "Description   : Use the event_file target to save the event data to an XEL file, which can be \n",
      "                archived and used for later analysis and review. You can merge multiple XEL files \n",
      "                to view the combined data from separate event sessions.\n",
      "ScriptName    : package0.event_file\n",
      "\n",
      "\n"
     ]
    }
   ],
   "source": [
    "Get-DbaXESessionTarget -SqlInstance $SQL1 -Session 'Blocked Process Report'"
   ]
  },
  {
   "cell_type": "markdown",
   "metadata": {},
   "source": [
    "If we weren't using containers you could use `Get-DbaXeSessionTargetFile` and if you were on Windows and had access to the admin UNC share, you could do\n",
    "\n",
    "`Get-DbaXESession -SqlInstance $SQL1 -Session 'Blocked Process Report' | Read-DbaXEFile`\n",
    "\n",
    "But we arent so lucky. Lets copy the files to the directory we have mounted for our containers (I copy all the files because after 5 minutes of trying to only copy the xel files with bash I gave up)"
   ]
  },
  {
   "cell_type": "code",
   "execution_count": 10,
   "metadata": {},
   "outputs": [],
   "source": [
    "docker exec -i dbatools_SQL2019_1 cp -R /var/opt/mssql/log/ /var/opt/mssql/backups/"
   ]
  },
  {
   "cell_type": "markdown",
   "metadata": {},
   "source": [
    "With the files moved to a place we can access them, we can read the files with one line of code. It won't work in the notebook but the code below will open a Windows PowerShell session and the you can right click to paste the command and read the data. `CTRL + C ` will stop it and you can just close the PowerShell session when it is done"
   ]
  },
  {
   "cell_type": "code",
   "execution_count": 11,
   "metadata": {},
   "outputs": [],
   "source": [
    "## When PowerShell opens - right click to paste the command\n",
    "#     \n",
    "\"Get-ChildItem $FolderPath\\log\\Block* | Read-DbaXEFile\" | clip\n",
    "\n",
    "Start-Process 'C:\\Windows\\system32\\WindowsPowerShell\\v1.0\\powershell.exe'"
   ]
  },
  {
   "cell_type": "markdown",
   "metadata": {},
   "source": [
    "But we are using PowerShell which means we have all of the tools available to us :-)\n",
    "\n",
    "How about if we want the XE event data in a CSV file ?\n",
    "\n",
    "Again we need to open a PowerShell session and right click and when it is done, close it and come back here"
   ]
  },
  {
   "cell_type": "code",
   "execution_count": 12,
   "metadata": {},
   "outputs": [],
   "source": [
    "## When PowerShell opens - right click to paste the command\n",
    "#     \n",
    "\"Get-ChildItem $FolderPath\\log\\Block* | Read-DbaXEFile | Export-Csv -Path $FolderPath\\BlockedProcess.csv -NoClobber\" | clip\n",
    "\n",
    "Start-Process 'C:\\Windows\\system32\\WindowsPowerShell\\v1.0\\powershell.exe'"
   ]
  },
  {
   "cell_type": "markdown",
   "metadata": {},
   "source": [
    "Now we can read the CSV file\n"
   ]
  },
  {
   "cell_type": "code",
   "execution_count": 13,
   "metadata": {},
   "outputs": [
    {
     "name": "stdout",
     "output_type": "stream",
     "text": [
      "\n",
      "name                : blocked_process_report\n",
      "timestamp           : 10/03/2020 21:59:51 +00:00\n",
      "blocked_process     : <blocked-process-report monitorLoop=\"24\"><blocked-process><process \n",
      "                      id=\"process1202cdb848\" taskpriority=\"0\" logused=\"0\" waitresource=\"OBJECT: \n",
      "                      8:581577110:0 \" waittime=\"9729\" ownerId=\"10318\" transactionname=\"SELECT\" \n",
      "                      lasttranstarted=\"2020-03-10T21:59:41.347\" XDES=\"0x11fb947be8\" lockMode=\"IS\" \n",
      "                      schedulerid=\"3\" kpid=\"736\" status=\"suspended\" spid=\"62\" sbid=\"0\" ecid=\"0\" \n",
      "                      priority=\"0\" trancount=\"0\" lastbatchstarted=\"2020-03-10T21:59:41.343\" \n",
      "                      lastbatchcompleted=\"2020-03-10T21:59:41.347\" \n",
      "                      lastattention=\"2020-03-10T21:59:41.287\" clientapp=\"dbatools PowerShell \n",
      "                      module - dbatools.io\" hostname=\"BEARDXPS\" hostpid=\"18372\" \n",
      "                      loginname=\"sqladmin\" isolationlevel=\"read committed (2)\" xactid=\"10318\" \n",
      "                      currentdb=\"8\" currentdbname=\"pubs\" lockTimeout=\"4294967295\" \n",
      "                      clientoption1=\"671088672\" clientoption2=\"128056\"><executionStack><frame \n",
      "                      line=\"1\" stmtend=\"68\" sqlhandle=\"0x02000000f35a0e044951d232c0f64f8c92f4f6ab57\n",
      "                      016e7b0000000000000000000000000000000000000000\" /></executionStack><inputbuf>\n",
      "                      SELECT TOP 1 * FROM [dbo].[authors]   \n",
      "                      </inputbuf></process></blocked-process><blocking-process><process \n",
      "                      status=\"suspended\" waittime=\"9728\" spid=\"65\" sbid=\"0\" ecid=\"0\" priority=\"0\" \n",
      "                      trancount=\"1\" lastbatchstarted=\"2020-03-10T21:59:41.340\" \n",
      "                      lastbatchcompleted=\"2020-03-10T21:59:41.343\" \n",
      "                      lastattention=\"2020-03-10T21:59:41.320\" clientapp=\"dbatools PowerShell \n",
      "                      module - dbatools.io\" hostname=\"BEARDXPS\" hostpid=\"18372\" \n",
      "                      loginname=\"sqladmin\" isolationlevel=\"read committed (2)\" xactid=\"10316\" \n",
      "                      currentdb=\"8\" currentdbname=\"pubs\" lockTimeout=\"4294967295\" \n",
      "                      clientoption1=\"671088672\" clientoption2=\"128056\"><executionStack><frame \n",
      "                      line=\"4\" stmtstart=\"162\" stmtend=\"238\" sqlhandle=\"0x020000002a16a5065ddc88fdb\n",
      "                      56eb2b358d23f16d135750d0000000000000000000000000000000000000000\" \n",
      "                      /></executionStack><inputbuf>\n",
      "                      \n",
      "                      BEGIN TRANSACTION\n",
      "                        SELECT * FROM [dbo].[authors] WITH (TABLOCKX, HOLDLOCK)\n",
      "                          WAITFOR DELAY '00:00:30' -- 30 seconds\n",
      "                      ROLLBACK TRANSACTION\n",
      "                         </inputbuf></process></blocking-process></blocked-process-report>\n",
      "database_id         : 8\n",
      "database_name       : pubs\n",
      "duration            : 9729000\n",
      "index_id            : 0\n",
      "lock_mode           : IS\n",
      "object_id           : 581577110\n",
      "resource_owner_type : LOCK\n",
      "transaction_id      : 10318\n",
      "\n",
      "\n"
     ]
    }
   ],
   "source": [
    "$BlockedProcesses = Import-Csv $FolderPath\\BlockedProcess.csv \n",
    "$BlockedProcesses | Select -First 1"
   ]
  },
  {
   "cell_type": "markdown",
   "metadata": {},
   "source": [
    "We could even put them in a database using \n",
    "\n",
    "`$BlockedProcesses | Write-DbaDataTable -SqlInstance $SQL1 -Database tempdb -Table BlockedProcess -AutoCreateTable`\n",
    "\n",
    "or an Excel File with ImportExcel, Email, Word Document, back to XML, into Azure etc etc"
   ]
  },
  {
   "cell_type": "markdown",
   "metadata": {},
   "source": [
    "# New Extended Events\n",
    "\n",
    "OK thats all very well and good, I can see, start, stop, watch, read the files with dbatools but I want to create a new one. dbatools has you covered.\n",
    "\n",
    "We have templates built in from Microsoft and Community members like Erin Stellato, Jes Borland, Ola Hallengren and more (Thank you all very much for this )"
   ]
  },
  {
   "cell_type": "code",
   "execution_count": 14,
   "metadata": {},
   "outputs": [
    {
     "name": "stdout",
     "output_type": "stream",
     "text": [
      "\n",
      "Category                 Compatibility Name                           Source\n",
      "--------                 ------------- ----                           ------\n",
      "Everyday Extended Events 2012          15 Second IO Error             Jes Borland\n",
      "System Monitoring        2012          Activity Detail Tracking       Microsoft\n",
      "System Monitoring        2014          Activity Tracking              Microsoft\n",
      "System Monitoring        2014          AlwaysOn Health Enhanced       Jonathan Kehayias\n",
      "System Monitoring        2012          Blocked Process Report         Erin Stellato\n",
      "System Monitoring        2012          Connection Detail Tracking     Microsoft\n",
      "System Monitoring        2012          Connection Tracking            Microsoft\n",
      "Locks and Blocks         2012          Count Query Locks              Microsoft\n",
      "Everyday Extended Events 2012          Database File I/O              Jes Borland\n",
      "Performance Store        2012          Database Health 2012           Ola Hallengren\n",
      "Performance Store        2014          Database Health 2014           Ola Hallengren\n",
      "Performance Store        2016          Database Health 2016 and Above Ola Hallengren\n",
      "Everyday Extended Events 2014          Deadlock Graphs                Jes Borland\n",
      "System Monitoring        2012          Default Profiler Trace         Chrissy LeMaire\n",
      "Features                 2012          Deprecated Feature Usage       Christian Gräfe\n",
      "Query Execution          2012          Failing Queries                Sander Stad\n",
      "Everyday Extended Events 2012          Function Executions            Jes Borland\n",
      "Everyday Extended Events 2012          Index Page Splits              Jes Borland\n",
      "System Monitoring        2012          Log File IO Detail Tracking    Microsoft\n",
      "System Monitoring        2012          Log File IO Tracking           Microsoft\n",
      "System Monitoring        2012          Login Tracker                  Chrissy LeMaire\n",
      "Query Execution          2012          Long Running Queries           Peter Schott\n",
      "Performance Store        2012          Overly Complex Queries         Pétur Grétarsson\n",
      "Profiler Equivalents     2012          Profiler SP Counts             Microsoft\n",
      "Profiler Equivalents     2012          Profiler Standard              Microsoft\n",
      "Profiler Equivalents     2012          Profiler TSQL Duration         Microsoft\n",
      "Profiler Equivalents     2012          Profiler TSQL Locks            Microsoft\n",
      "Profiler Equivalents     2012          Profiler TSQL Replay           Microsoft\n",
      "Profiler Equivalents     2012          Profiler TSQL SPs              Microsoft\n",
      "Profiler Equivalents     2012          Profiler TSQL                  Microsoft\n",
      "Profiler Equivalents     2012          Profiler Tuning                Microsoft\n",
      "Everyday Extended Events 2012          Queries and Resources          Jes Borland\n",
      "Query Execution          2012          Query Batch Detail Sampling    Microsoft\n",
      "Query Execution          2012          Query Batch Sampling           Microsoft\n",
      "Query Execution          2012          Query Batch Tracking           Microsoft\n",
      "Query Execution          2012          Query Detail Sampling          Microsoft\n",
      "Query Execution          2012          Query Detail Tracking          Microsoft\n",
      "Query Execution          2012          Query Timeouts                 Christian Gräfe\n",
      "Query Execution          2012          Query Wait Statistics Detail   Microsoft\n",
      "Everyday Extended Events 2014          Query Wait Statistics          Jes Borland\n",
      "Everyday Extended Events 2012          Stored Procedure Parameters    Jes Borland\n",
      "\n"
     ]
    }
   ],
   "source": [
    "Get-DbaXESessionTemplate  | Select Category, Compatibility , Name, Source"
   ]
  },
  {
   "cell_type": "markdown",
   "metadata": {},
   "source": [
    "You can see exactly what it will do"
   ]
  },
  {
   "cell_type": "code",
   "execution_count": 15,
   "metadata": {},
   "outputs": [
    {
     "name": "stdout",
     "output_type": "stream",
     "text": [
      "\n",
      "Category      : System Monitoring\n",
      "Compatibility : 2012\n",
      "Description   : Captures the blocked process report. In order to capture a blocked process report, \n",
      "                you must have the blocked process threshold system configuration option enabled \n",
      "                (To capture blocking processes, configure blocked threshold (Set-DbaSpConfigure \n",
      "                -SqlInstance sql2017 -ConfigName BlockedProcessThreshold -Value 5). \n",
      "Name          : Blocked Process Report\n",
      "Source        : Erin Stellato\n",
      "\n",
      "\n"
     ]
    }
   ],
   "source": [
    "Get-DbaXESessionTemplate -Template 'Blocked Process Report'"
   ]
  },
  {
   "cell_type": "markdown",
   "metadata": {},
   "source": [
    "So you can pick a ready made session and add it to your instance easily. Again, notebooks dont like the XE.dlls for some reason so we have to open a Windows PowerShell Session"
   ]
  },
  {
   "cell_type": "code",
   "execution_count": 17,
   "metadata": {},
   "outputs": [],
   "source": [
    " ## When PowerShell opens - right click to paste the command\n",
    "# \n",
    "## the password is dbatools.IO\n",
    "\" Import-DbaXESessionTemplate -SqlInstance 'localhost,15592' -SqlCredential sqladmin -Template 'Index Page Splits'\" | clip\n",
    "\n",
    "Start-Process 'C:\\Windows\\system32\\WindowsPowerShell\\v1.0\\powershell.exe'"
   ]
  },
  {
   "cell_type": "markdown",
   "metadata": {},
   "source": [
    "If we look at the instance for that session"
   ]
  },
  {
   "cell_type": "code",
   "execution_count": 18,
   "metadata": {},
   "outputs": [
    {
     "name": "stdout",
     "output_type": "stream",
     "text": [
      "\n",
      "ComputerName : localhost\n",
      "InstanceName : MSSQLSERVER\n",
      "SqlInstance  : f65aa80e71d9\n",
      "Name         : Index Page Splits\n",
      "Status       : Stopped\n",
      "StartTime    : \n",
      "AutoStart    : False\n",
      "State        : Existing\n",
      "Targets      : {package0.event_file}\n",
      "TargetFile   : {/var/opt/mssql/log\\page_splits}\n",
      "Events       : {sqlserver.page_split}\n",
      "MaxMemory    : 4096\n",
      "MaxEventSize : 0\n",
      "\n",
      "\n"
     ]
    }
   ],
   "source": [
    "Get-DbaXESession -SqlInstance $SQL1 -Session 'Index Page Splits'"
   ]
  },
  {
   "cell_type": "code",
   "execution_count": 19,
   "metadata": {},
   "outputs": [
    {
     "name": "stdout",
     "output_type": "stream",
     "text": [
      "\n",
      "BufferCount       : 2\n",
      "BufferSize        : 1024\n",
      "ComputerName      : localhost\n",
      "DroppedEventCount : \n",
      "EventCount        : 127\n",
      "FilePosition      : 1048576\n",
      "Id                : 1\n",
      "InstanceName      : MSSQLSERVER\n",
      "IsDefault         : True\n",
      "IsRollover        : True\n",
      "IsRowset          : False\n",
      "IsRunning         : True\n",
      "IsShutdown        : False\n",
      "LastEventTime     : 10/03/2020 22:09:03\n",
      "MaxFiles          : 5\n",
      "MaxSize           : 20\n",
      "Path              : /var/opt/mssql/log/log_16.trc\n",
      "ReaderSpid        : \n",
      "SqlInstance       : f65aa80e71d9\n",
      "StartTime         : 10/03/2020 21:57:52\n",
      "Status            : 1\n",
      "StopTime          : \n",
      "\n",
      "\n"
     ]
    }
   ],
   "source": [
    "Get-DbaTrace -SqlInstance $sql1 # | Out-GridView -PassThru | ConvertTo-DbaXESession -Name 'Test' | Start-DbaXESession"
   ]
  },
  {
   "cell_type": "markdown",
   "metadata": {},
   "source": [
    "There is so much more that dbatools can do with Extended Events take a look at Chrissy and Gianluca's presentation from SQL Bits\n",
    "\n",
    "Video - https://sqlbits.com/Sessions/Event17/Simplifying_XEvents_Management_with_dbatools  \n",
    "Code - https://github.com/sqlcollaborative/community-presentations/tree/master/chrissy-lemaire-gianluca-sartori/bits-xevents"
   ]
  },
  {
   "cell_type": "markdown",
   "metadata": {},
   "source": [
    "# Clean Up\n",
    "\n",
    "The 99-CleanUpContainers notebook will remove the containers, files and directory - it will leave the image so you do not have to download it again!"
   ]
  },
  {
   "cell_type": "code",
   "execution_count": null,
   "metadata": {},
   "outputs": [],
   "source": []
  }
 ],
 "metadata": {
  "kernelspec": {
   "display_name": ".NET (PowerShell)",
   "language": "PowerShell",
   "name": ".net-powershell"
  },
  "language_info": {
   "file_extension": ".ps1",
   "mimetype": "text/x-powershell",
   "name": "PowerShell",
   "pygments_lexer": "powershell",
   "version": "7.0"
  }
 },
 "nbformat": 4,
 "nbformat_minor": 4
}
