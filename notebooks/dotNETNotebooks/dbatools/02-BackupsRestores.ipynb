{
 "cells": [
  {
   "cell_type": "markdown",
   "metadata": {},
   "source": [
    "# Backups\n",
    "\n",
    "***You will need to have followed the steps in the 00-CreateContainers notebook to use this notebook***\n",
    "\n",
    "We have written a book which will give you a brilliant introduction to dbatools. It's called dbatools in a Month of Lunches and you can find it at https://beard.media/book\n",
    "\n",
    "dbatools is **awesome** at performing backups :-)\n",
    "\n",
    "The next block sets the variables for tje instances and folder paths for this Notebook and checks the connection - Refer to the first notebook for any issues"
   ]
  },
  {
   "cell_type": "code",
   "execution_count": 1,
   "metadata": {},
   "outputs": [
    {
     "data": {
      "text/html": [
       "<script type=\"text/javascript\">#!javascript\r\n",
       "if ((typeof(requirejs) !==  typeof(Function)) || (typeof(requirejs.config) !== typeof(Function))) { \r\n",
       "    let script = document.createElement(\"script\"); \r\n",
       "    script.setAttribute(\"src\", \"https://cdnjs.cloudflare.com/ajax/libs/require.js/2.3.6/require.min.js\"); \r\n",
       "    script.onload = function(){\r\n",
       "        loadDotnetInteractiveApi();\r\n",
       "    };\r\n",
       "    document.getElementsByTagName(\"head\")[0].appendChild(script); \r\n",
       "}\r\n",
       "else {\r\n",
       "    loadDotnetInteractiveApi();\r\n",
       "}\r\n",
       "\r\n",
       "function loadDotnetInteractiveApi(){\r\n",
       "    let apiRequire = requirejs.config({context:\"dotnet-interactive.22500.57346\",paths:{dotnetInteractive:\"http://localhost:57346/resources/dotnet-interactive\"}});\r\n",
       "    apiRequire(['dotnetInteractive'], \r\n",
       "    function(api) {       \r\n",
       "        api.createDotnetInteractiveClient(\"http://localhost:57346/\", window);\r\n",
       "    },\r\n",
       "    function(error){\r\n",
       "        console.log(error);\r\n",
       "    });\r\n",
       "}</script>"
      ]
     },
     "metadata": {},
     "output_type": "display_data"
    },
    {
     "name": "stdout",
     "output_type": "stream",
     "text": [
      " Creating connection to the containers\n",
      "We have a connection to the containers\n"
     ]
    }
   ],
   "source": [
    "$FolderPath = $Env:USERPROFILE + '\\Documents\\dbatoolsdemo'\n",
    "$SqlInstances = 'localhost,15592', 'localhost,15593'\n",
    "$SqlCredential = Import-Clixml -Path $FolderPath\\sqladmin.cred\n",
    "Write-Output \" Creating connection to the containers\"\n",
    "try {\n",
    "    $SQL1 = Connect-DbaInstance -SqlInstance $SqlInstances[0] -SqlCredential $SqlCredential \n",
    "    $SQL2 = Connect-DbaInstance -SqlInstance $SqlInstances[1] -SqlCredential $SqlCredential\n",
    "    Write-Output \"We have a connection to the containers\"\n",
    "\n",
    "}\n",
    "catch {\n",
    "    Write-Output \"You haven't got a connection to the containers - Either they are still upgrading in which case try again in 30 seconds or the containers have not come up correctly\"\n",
    "    Write-Output \"Make sure the containers are running - the code is below in a block for you\"\n",
    "    Write-Output \"docker ps -a\"\n",
    "    Write-Output \"If they are read the logs - the code is below in a block for you\"\n",
    "    Write-Output \"docker logs dbatools_SQL2019_1\"\n",
    "    Write-Output \"docker logs dbatools_SQL2019-1_1\"\n",
    "}"
   ]
  },
  {
   "cell_type": "markdown",
   "metadata": {},
   "source": [
    "## Investigate a directory using the SQL Service Account\n",
    "\n",
    "We can investigate the file system from the viewpoint of the SQL Service Account using `Get-DbaFile` We are going to use that to show the files in the directory but this can be really useful when investigating errors with file system access, for example when backups fail or when reading from shares. This command will try ot access the path from teh SQL Instance using the SQL Account which means that you can troubleshoot the error and also that users do not need access to directories holding backups or client files for example  \n",
    "If we look in the Directory that we created in the create container notebook using the command below"
   ]
  },
  {
   "cell_type": "code",
   "execution_count": 2,
   "metadata": {},
   "outputs": [
    {
     "name": "stdout",
     "output_type": "stream",
     "text": [
      "\n",
      "Filename                                  SqlInstance\n",
      "--------                                  -----------\n",
      "/var/opt/mssql/backups/SQL1\\dummyfile.txt cd3b90b9d1dc\n",
      "\n"
     ]
    }
   ],
   "source": [
    "Get-DbaFile -SqlInstance $SQL1 -SqlCredential $SqlCredential -Path /var/opt/mssql/backups/SQL1"
   ]
  },
  {
   "cell_type": "markdown",
   "metadata": {},
   "source": [
    "You can see that all there is in the directory is a dummy file that we created earlier when we set up the directories  \n",
    "\n",
    "## Check the last time that the databases were backed up\n",
    "\n",
    "Knowing the last time a database was backed up is often useful information and with dbatools it can be retrieved easily. (NB - I use Warning action silently continue to hide the backups from multiple forks warnings that I have created when I created the container and havent fixed yet!)"
   ]
  },
  {
   "cell_type": "code",
   "execution_count": 2,
   "metadata": {},
   "outputs": [
    {
     "name": "stdout",
     "output_type": "stream",
     "text": [
      "\n",
      "ComputerName InstanceName SqlInstance  Database           LastFullBackup          LastDiffBackup\n",
      "------------ ------------ -----------  --------           --------------          --------------   \n",
      "localhost    MSSQLSERVER  cd3b90b9d1dc AdventureWorks2017 2020-05-30 07:02:14.000 2019-12-21 14:42…\n",
      "localhost    MSSQLSERVER  cd3b90b9d1dc master             2020-05-30 07:02:16.000                  \n",
      "localhost    MSSQLSERVER  cd3b90b9d1dc model              2020-05-30 07:02:18.000                  \n",
      "localhost    MSSQLSERVER  cd3b90b9d1dc msdb               2020-05-30 07:02:19.000                  \n",
      "localhost    MSSQLSERVER  cd3b90b9d1dc Northwind          2020-05-30 07:02:21.000 2019-12-21 14:42…\n",
      "localhost    MSSQLSERVER  cd3b90b9d1dc pubs               2020-05-30 07:02:22.000 2019-12-21 14:42…\n",
      "localhost    MSSQLSERVER  909483a8503d AdventureWorks2017 2020-05-30 07:02:56.000 2019-12-21 14:42…\n",
      "localhost    MSSQLSERVER  909483a8503d master             2020-05-30 07:02:58.000                  \n",
      "localhost    MSSQLSERVER  909483a8503d model              2020-05-30 07:02:59.000                  \n",
      "localhost    MSSQLSERVER  909483a8503d msdb               2020-05-30 07:03:01.000                  \n",
      "localhost    MSSQLSERVER  909483a8503d Northwind          2020-05-30 07:03:02.000 2019-12-21 14:42…\n",
      "localhost    MSSQLSERVER  909483a8503d pubs               2020-05-30 07:03:04.000 2019-12-21 14:42…\n",
      "\n"
     ]
    }
   ],
   "source": [
    "Get-DbaLastBackup -SqlInstance $SQL1,$SQL2 -SqlCredential $SqlCredential -WarningAction SilentlyContinue | Format-Table "
   ]
  },
  {
   "cell_type": "markdown",
   "metadata": {},
   "source": [
    "The databases were last backed up on the 21st December 2019. Thats not so clever!\n",
    "\n",
    "## Docker requires permissions\n",
    "\n",
    "You will get errors for the command below if the account that you have used to allow Docker to access your drives does not have permissions to the folder that we have created. [You can see the instructions here](https://docs.docker.com/docker-for-windows/)\n",
    "\n",
    "You should add the docker account with full control over your dbatoolsdemo directory in your User Profile directory if you get errors below.\n",
    "\n",
    "![DockerCompose](.\\images\\dbatoolsdemopermissions.png )\n",
    "\n",
    "Its annoying but you can give the docker account modify permissions to your documents folder and it will inherited\n",
    "\n",
    "![DockerCompose](.\\images\\documentsdirectorypermissions.png )\n",
    "\n"
   ]
  },
  {
   "cell_type": "markdown",
   "metadata": {},
   "source": [
    "## Perform a backup of the entire instance\n",
    "\n",
    "With one line of code we can quickly backup an entire instance."
   ]
  },
  {
   "cell_type": "code",
   "execution_count": 3,
   "metadata": {},
   "outputs": [
    {
     "data": {
      "text/plain": []
     },
     "metadata": {},
     "output_type": "display_data"
    },
    {
     "name": "stdout",
     "output_type": "stream",
     "text": [
      "\n",
      "SqlInstance  Database           Type TotalSize DeviceType Start                   Duration End\n",
      "-----------  --------           ---- --------- ---------- -----                   -------- ---\n",
      "cd3b90b9d1dc AdventureWorks2017 Full 207.09 MB Disk       2020-05-30 09:38:09.000 00:00:03 2020-05…\n",
      "cd3b90b9d1dc master             Full 6.71 MB   Disk       2020-05-30 09:38:14.000 00:00:01 2020-05…\n",
      "cd3b90b9d1dc model              Full 2.59 MB   Disk       2020-05-30 09:38:16.000 00:00:00 2020-05…\n",
      "cd3b90b9d1dc msdb               Full 16.09 MB  Disk       2020-05-30 09:38:18.000 00:00:00 2020-05…\n",
      "cd3b90b9d1dc Northwind          Full 6.71 MB   Disk       2020-05-30 09:38:19.000 00:00:01 2020-05…\n",
      "cd3b90b9d1dc pubs               Full 4.52 MB   Disk       2020-05-30 09:38:21.000 00:00:01 2020-05…\n",
      "\n"
     ]
    }
   ],
   "source": [
    "Backup-DbaDatabase  -SqlInstance $SQL1 -SqlCredential $SqlCredential -Path /var/opt/mssql/backups/SQL1"
   ]
  },
  {
   "cell_type": "markdown",
   "metadata": {},
   "source": [
    "All of the databases are backed up - Lets have a look in the directory"
   ]
  },
  {
   "cell_type": "code",
   "execution_count": 5,
   "metadata": {},
   "outputs": [
    {
     "name": "stdout",
     "output_type": "stream",
     "text": [
      "\n",
      "Filename                                                        SqlInstance\n",
      "--------                                                        -----------\n",
      "/var/opt/mssql/backups/SQL1\\AdventureWorks2017_202005300802.bak cd3b90b9d1dc\n",
      "/var/opt/mssql/backups/SQL1\\dummyfile.txt                       cd3b90b9d1dc\n",
      "/var/opt/mssql/backups/SQL1\\master_202005300802.bak             cd3b90b9d1dc\n",
      "/var/opt/mssql/backups/SQL1\\model_202005300802.bak              cd3b90b9d1dc\n",
      "/var/opt/mssql/backups/SQL1\\msdb_202005300802.bak               cd3b90b9d1dc\n",
      "/var/opt/mssql/backups/SQL1\\Northwind_202005300802.bak          cd3b90b9d1dc\n",
      "/var/opt/mssql/backups/SQL1\\pubs_202005300802.bak               cd3b90b9d1dc\n",
      "\n"
     ]
    }
   ],
   "source": [
    "Get-DbaFile -SqlInstance $SQL1 -SqlCredential $SqlCredential -Path /var/opt/mssql/backups/SQL1"
   ]
  },
  {
   "cell_type": "markdown",
   "metadata": {},
   "source": [
    "If you want to have a look in the mounted volume on your laptop "
   ]
  },
  {
   "cell_type": "code",
   "execution_count": 6,
   "metadata": {},
   "outputs": [
    {
     "name": "stdout",
     "output_type": "stream",
     "text": [
      "\n",
      "\n",
      "    Directory: C:\\Users\\mrrob\\Documents\\dbatoolsdemo\\SQL1\n",
      "\n",
      "Mode                 LastWriteTime         Length Name\n",
      "----                 -------------         ------ ----\n",
      "-a---          30/05/2020    08:02       50442240 AdventureWorks2017_202005300802.bak\n",
      "-a---          30/05/2020    07:59              0 dummyfile.txt\n",
      "-a---          30/05/2020    08:02        1486848 master_202005300802.bak\n",
      "-a---          30/05/2020    08:02         450560 model_202005300802.bak\n",
      "-a---          30/05/2020    08:02        2732032 msdb_202005300802.bak\n",
      "-a---          30/05/2020    08:02         864256 Northwind_202005300802.bak\n",
      "-a---          30/05/2020    08:02         524288 pubs_202005300802.bak\n",
      "\n"
     ]
    }
   ],
   "source": [
    "Get-ChildItem \"$FolderPath\\SQL1\""
   ]
  },
  {
   "cell_type": "markdown",
   "metadata": {},
   "source": [
    "## Backup to a directory for each database\n",
    "\n",
    "Rob - I hear you cry, I have 2000 databases, I dont want them all backing up to the same directory - Can dbatools help me there ?\n",
    "\n",
    "Sure, just add the `-CreateFolder` switch.\n",
    "\n",
    "Lets demonstrate with SQL2\n",
    "\n",
    "Theres nothing up my sleeves, lets look at the SQL2 folder\n"
   ]
  },
  {
   "cell_type": "code",
   "execution_count": 7,
   "metadata": {},
   "outputs": [
    {
     "name": "stdout",
     "output_type": "stream",
     "text": [
      "\n",
      "Filename                                  SqlInstance\n",
      "--------                                  -----------\n",
      "/var/opt/mssql/backups/SQL2\\dummyfile.txt 909483a8503d\n",
      "\n"
     ]
    }
   ],
   "source": [
    "Get-DbaFile -SqlInstance $SQL2 -SqlCredential $SqlCredential -Path /var/opt/mssql/backups/SQL2"
   ]
  },
  {
   "cell_type": "markdown",
   "metadata": {},
   "source": [
    "Only the dummy file! \n",
    "\n",
    "### Backup the databases"
   ]
  },
  {
   "cell_type": "code",
   "execution_count": 8,
   "metadata": {},
   "outputs": [
    {
     "data": {
      "text/plain": []
     },
     "metadata": {},
     "output_type": "display_data"
    },
    {
     "name": "stdout",
     "output_type": "stream",
     "text": [
      "\n",
      "SqlInstance  Database           Type TotalSize DeviceType Start                   Duration End\n",
      "-----------  --------           ---- --------- ---------- -----                   -------- ---\n",
      "909483a8503d AdventureWorks2017 Full 207.09 MB Disk       2020-05-30 07:02:53.000 00:00:03 2020-05…\n",
      "909483a8503d master             Full 6.71 MB   Disk       2020-05-30 07:02:57.000 00:00:01 2020-05…\n",
      "909483a8503d model              Full 2.59 MB   Disk       2020-05-30 07:02:59.000 00:00:00 2020-05…\n",
      "909483a8503d msdb               Full 16.09 MB  Disk       2020-05-30 07:03:00.000 00:00:01 2020-05…\n",
      "909483a8503d Northwind          Full 6.71 MB   Disk       2020-05-30 07:03:02.000 00:00:00 2020-05…\n",
      "909483a8503d pubs               Full 4.52 MB   Disk       2020-05-30 07:03:03.000 00:00:01 2020-05…\n",
      "\n"
     ]
    }
   ],
   "source": [
    "Backup-DbaDatabase -SqlInstance $SQL2 -SqlCredential $SqlCredential -CreateFolder -Path /var/opt/mssql/backups/SQL2 -CompressBackup -WarningAction SilentlyContinue"
   ]
  },
  {
   "cell_type": "markdown",
   "metadata": {},
   "source": [
    "## have a look in the directory"
   ]
  },
  {
   "cell_type": "code",
   "execution_count": null,
   "metadata": {},
   "outputs": [],
   "source": [
    "Get-ChildItem \"$FolderPath\\SQL2\" -Recurse"
   ]
  },
  {
   "cell_type": "markdown",
   "metadata": {},
   "source": [
    "As you can see we have the databases backed up, each in their own directory :-)"
   ]
  },
  {
   "cell_type": "markdown",
   "metadata": {},
   "source": [
    "## Double check all the instances\n",
    "\n",
    "dbatoos works with multiple instances whereever there is a `-SqlInstance` parameter\n",
    "\n",
    "Lets check the last time that these databases were backed up on both of the containers"
   ]
  },
  {
   "cell_type": "code",
   "execution_count": null,
   "metadata": {},
   "outputs": [],
   "source": [
    "Get-DbaLastBackup -SqlInstance $SQL1,$SQL2 -SqlCredential $SqlCredential -WarningAction SilentlyContinue | Format-Table "
   ]
  },
  {
   "cell_type": "markdown",
   "metadata": {},
   "source": [
    "# We want to use Ola Hallengren for our backups\n",
    "\n",
    "Thats ok, dbatools supports many of the excellent community tooling including Ola Hallengrens solution.\n",
    "\n",
    "You can install Ola Hallengren like this (except in containers)\n",
    "\n",
    "````\n",
    "$installDbaMaintenanceSolutionSplat = @{\n",
    "    SqlInstance = $sql1\n",
    "    InstallJobs = $true\n",
    "    ReplaceExisting = $true\n",
    "    LogToTable = $true\n",
    "    OutputFileDirectory = '/var/opt/mssql/backups/SQL1'\n",
    "    BackupLocation = '/var/opt/mssql/backups/SQL1'\n",
    "    CleanupTime = 72\n",
    "    Solution = 'All'\n",
    "    Database = 'master'\n",
    "}\n",
    "Install-DbaMaintenanceSolution @installDbaMaintenanceSolutionSplat -Verbose\n",
    "````\n",
    "\n",
    "Lets have a look at the Agent Jobs on the Instance"
   ]
  },
  {
   "cell_type": "code",
   "execution_count": null,
   "metadata": {},
   "outputs": [],
   "source": [
    "Get-DbaAgentJob -SqlInstance $sql1 |Select Name"
   ]
  },
  {
   "cell_type": "markdown",
   "metadata": {},
   "source": [
    "Those look like Ola Jobs to me :-)\n",
    "\n",
    "Lets run the jobs to back up the system and user databases"
   ]
  },
  {
   "cell_type": "code",
   "execution_count": null,
   "metadata": {},
   "outputs": [],
   "source": [
    "$Jobs = 'DatabaseBackup - SYSTEM_DATABASES - FULL' ,'DatabaseBackup - USER_DATABASES - FULL'\n",
    "Start-DbaAgentJob -SqlInstance $sql1 -Job $Jobs"
   ]
  },
  {
   "cell_type": "markdown",
   "metadata": {},
   "source": [
    "Check the status of the jobs"
   ]
  },
  {
   "cell_type": "code",
   "execution_count": null,
   "metadata": {},
   "outputs": [],
   "source": [
    "$SQL1 = Connect-DbaInstance -SqlInstance $SqlInstances[0] -SqlCredential $SqlCredential \n",
    "Get-DbaAgentJob -SqlInstance $sql1 -Job $Jobs | Select SqlInstance, Name, CurrentRunStatus, LastRunOutCome"
   ]
  },
  {
   "cell_type": "markdown",
   "metadata": {},
   "source": [
    "When the jobs have finished, lets have a look at the files.\n",
    "We need to alter the file path to include the current container name from the results above"
   ]
  },
  {
   "cell_type": "code",
   "execution_count": null,
   "metadata": {},
   "outputs": [],
   "source": [
    "Get-DbaFile -SqlInstance $sql1 -Path '/var/opt/mssql/data/01a539677f71/AdventureWorks2017/FULL'"
   ]
  },
  {
   "cell_type": "markdown",
   "metadata": {},
   "source": [
    "# Restores\n",
    "\n",
    "Backups are all very well and good but what about restores?\n",
    "\n",
    "**NEVER EVER DO THIS IN PRODUCTION**\n",
    "unless you need to delete all of your user databases for some reason"
   ]
  },
  {
   "cell_type": "code",
   "execution_count": null,
   "metadata": {},
   "outputs": [],
   "source": [
    "Get-DbaDatabase -SqlInstance $SQL1 -ExcludeAllSystemDb | Remove-DbaDatabase -Confirm:$false"
   ]
  },
  {
   "cell_type": "code",
   "execution_count": null,
   "metadata": {},
   "outputs": [],
   "source": [
    "$SQL1 = Connect-DbaInstance -SqlInstance $SqlInstances[0] -SqlCredential $SqlCredential \n",
    "Get-DbaDatabase -SqlInstance $SQL1 -ExcludeAllSystemDb | Select Name"
   ]
  },
  {
   "cell_type": "markdown",
   "metadata": {},
   "source": [
    "All the databases have gone - How easy it is to restore them?\n",
    "\n",
    "This easy :-)\n",
    "\n",
    "One line of code\n",
    "\n",
    "## First lets restore from the backups we took with dbatools in, with all files in the one directory"
   ]
  },
  {
   "cell_type": "code",
   "execution_count": null,
   "metadata": {},
   "outputs": [],
   "source": [
    "Write-Output \"Starting Restoring\"\n",
    "Restore-DbaDatabase  -SqlInstance $SQL1 -Path /var/opt/mssql/backups/SQL1 \n",
    "Write-Output \"Finished\""
   ]
  },
  {
   "cell_type": "code",
   "execution_count": null,
   "metadata": {},
   "outputs": [],
   "source": [
    "$SQL1 = Connect-DbaInstance -SqlInstance $SqlInstances[0] -SqlCredential $SqlCredential \n",
    "Get-DbaDatabase -SqlInstance $SQL1 -ExcludeAllSystemDb | Select Name"
   ]
  },
  {
   "cell_type": "markdown",
   "metadata": {},
   "source": [
    "That was easy - WHat about if I have used Ola Hallengren?\n",
    "\n",
    "AGAIN\n",
    "\n",
    "**NEVER EVER DO THIS IN PRODUCTION**\n",
    "unless you need to delete all of your user databases for some reason\n"
   ]
  },
  {
   "cell_type": "code",
   "execution_count": null,
   "metadata": {},
   "outputs": [],
   "source": [
    "Get-DbaDatabase -SqlInstance $SQL1 -ExcludeAllSystemDb | Remove-DbaDatabase -Confirm:$false"
   ]
  },
  {
   "cell_type": "markdown",
   "metadata": {},
   "source": [
    "## Restore from Ola Halengren Backups \n",
    "\n",
    "- Use the path from the above files check with the new container name "
   ]
  },
  {
   "cell_type": "code",
   "execution_count": null,
   "metadata": {},
   "outputs": [],
   "source": [
    "Write-Output \"Starting Restoring\"\n",
    "Restore-DbaDatabase -SqlInstance $SQL1 -Path /var/opt/mssql/data/ca2f813564a4 -MaintenanceSolutionBackup\n",
    "Write-Output \"Finished\""
   ]
  },
  {
   "cell_type": "code",
   "execution_count": null,
   "metadata": {},
   "outputs": [],
   "source": [
    "$SQL1 = Connect-DbaInstance -SqlInstance $SqlInstances[0] -SqlCredential $SqlCredential \n",
    "Get-DbaDatabase -SqlInstance $SQL1 -ExcludeAllSystemDb | Select Name"
   ]
  },
  {
   "cell_type": "markdown",
   "metadata": {},
   "source": [
    "Thats all very well and good\n",
    "\n",
    "## When were the databases restored?\n",
    "\n",
    "and which backup was used?"
   ]
  },
  {
   "cell_type": "code",
   "execution_count": null,
   "metadata": {},
   "outputs": [],
   "source": [
    "Get-DbaDbRestoreHistory -SqlInstance $SQL1 -Last"
   ]
  },
  {
   "cell_type": "markdown",
   "metadata": {},
   "source": [
    "# Don't forget to clean up\n",
    "\n",
    "Now you can use these containers to run the rest of the notebooks - Don't forget to run the Clean Up Containers Notebook at the end to clean up"
   ]
  },
  {
   "cell_type": "code",
   "execution_count": null,
   "metadata": {},
   "outputs": [],
   "source": []
  }
 ],
 "metadata": {
  "kernelspec": {
   "display_name": ".NET (PowerShell)",
   "language": "PowerShell",
   "name": ".net-powershell"
  },
  "language_info": {
   "file_extension": ".ps1",
   "mimetype": "text/x-powershell",
   "name": "PowerShell",
   "pygments_lexer": "powershell",
   "version": "7.0"
  }
 },
 "nbformat": 4,
 "nbformat_minor": 4
}
