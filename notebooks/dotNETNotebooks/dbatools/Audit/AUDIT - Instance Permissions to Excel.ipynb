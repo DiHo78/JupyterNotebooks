{
    "metadata": {
        "kernelspec": {
            "name": ".net-powershell",
            "display_name": ".NET (PowerShell)"
        },
        "language_info": {
            "name": "PowerShell",
            "version": "7.0",
            "mimetype": "text/x-powershell",
            "file_extension": ".ps1",
            "pygments_lexer": "powershell"
        }
    },
    "nbformat_minor": 2,
    "nbformat": 4,
    "cells": [
        {
            "cell_type": "markdown",
            "source": [
                "# SQL Instance Permissions\r\n",
                "\r\n",
                "This Notebook will provide you with the permissions granted on an instance at both Instance and Database level. It requires the PowerShell module dbatools and if you wish to create the Excel Workbook then it also requires the ImportExcel PowerShell module"
            ],
            "metadata": {
                "azdata_cell_guid": "d40f2017-da7c-4c58-9560-8b71373dd98a"
            }
        },
        {
            "cell_type": "markdown",
            "source": [
                "You can check if you have the modules and install them in your user scope with this block"
            ],
            "metadata": {
                "azdata_cell_guid": "2e354682-c479-4807-96ec-d9c0722c2d3a"
            }
        },
        {
            "cell_type": "code",
            "source": [
                "#Check for modules and install\r\n",
                "$Modules = 'dbatools', 'importExcel'\r\n",
                "\r\n",
                "if((Get-PsRepository -Name PSGallery).InstallationPolicy -ne 'Trusted'){\r\n",
                "    Write-Output \"             #######################################################\"\r\n",
                "    Write-Output \"The PowerShell Gallery is not trusted so I will trust it so that we can install the modules without interaction\"\r\n",
                "    Write-Output \"             ######     Please follow the Setting Up notebook ######\"\r\n",
                "} else {\r\n",
                "    Write-Output \"The PowerShell Gallery is trusted I will continue\"\r\n",
                "}\r\n",
                "$Modules.ForEach{\r\n",
                "    If(-not(Get-Module $psitem -ListAvailable)){\r\n",
                "        Write-Output \"             #######################################################\"\r\n",
                "        Write-Output \"                        We don't have the $psitem module.\"\r\n",
                "        Write-Output \"             ######     Please follow the Setting Up notebook ######\"\r\n",
                "    }\r\n",
                "    else {\r\n",
                "        Write-Output \"We have the $psitem module already\"\r\n",
                "    }\r\n",
                "}"
            ],
            "metadata": {
                "azdata_cell_guid": "d8fb8e0d-44ec-4a0a-9366-b080f55bca72",
                "tags": [
                    "hide_input"
                ]
            },
            "outputs": [
                {
                    "name": "stdout",
                    "text": "The PowerShell Gallery is trusted I will continue\r\n",
                    "output_type": "stream"
                },
                {
                    "name": "stdout",
                    "text": "We have the dbatools module already\r\n",
                    "output_type": "stream"
                },
                {
                    "name": "stdout",
                    "text": "We have the importExcel module already\r\n",
                    "output_type": "stream"
                }
            ],
            "execution_count": 1
        },
        {
            "cell_type": "markdown",
            "source": [
                "Run this block below to alter the width of the output pane to avoid the output being truncated"
            ],
            "metadata": {
                "azdata_cell_guid": "2e7f5d5f-8a4e-4d68-b5ec-94a2c1c3119a"
            }
        },
        {
            "cell_type": "code",
            "source": [
                "# Run this first to make sure output width does not mess with output - Update output buffer size to prevent clipping in Visual Studio output window.\r\n",
                "if( $Host -and $Host.UI -and $Host.UI.RawUI ) {\r\n",
                "    $rawUI = $Host.UI.RawUI\r\n",
                "    $oldSize = $rawUI.BufferSize\r\n",
                "    $typeName = $oldSize.GetType( ).FullName\r\n",
                "    $newSize = New-Object $typeName (500, $oldSize.Height)\r\n",
                "    $rawUI.BufferSize = $newSize\r\n",
                "  }"
            ],
            "metadata": {
                "azdata_cell_guid": "cfadff2a-b0f8-4a2b-a6f9-dd2992039bea",
                "tags": [
                    "hide_input"
                ]
            },
            "outputs": [],
            "execution_count": 2
        },
        {
            "cell_type": "markdown",
            "source": [
                "If you want all of the permissions on one worksheet for a single instance use this code - More options below  \r\n",
                "\r\n",
                "You will need to alter the Directory that you want the Excel file stored in using the variable `$ExcelDirectory` and the SQL instance that you want to get the permissions for with the variable `$SQLInstance`. The file will be named `InstanceName_Permissions_Date.xlsx`"
            ],
            "metadata": {
                "azdata_cell_guid": "c0dda5ed-dd64-4845-820f-e61a02e47272"
            }
        },
        {
            "cell_type": "code",
            "source": [
                "$ExcelDirectory = 'c:\\temp\\' # Alter this to the directory you want the file created\r\n",
                "$SQlinstance = 'localhost' # Alter this for the SQL Instance you want to get permissions for\r\n",
                "Write-Output \"Processing $sqlinstance\"\r\n",
                "\r\n",
                "$InstanceName = $SQlinstance.Split('\\').Split('.').Split('\\').Split(',') -join '_'\r\n",
                "$ExcelFile = $ExcelDirectory + '\\' + $InstanceName + '_Permssions_OneTab_' + (Get-Date).ToString('yyyy-MM-dd') + '.xlsx'\r\n",
                "\r\n",
                "Write-Output \"    FileName is $ExcelFile\"\r\n",
                "\r\n",
                "$WorkSheetName = \"Permissions\"\r\n",
                "\r\n",
                "    $excel = Get-DbaUserPermission -SqlInstance $sqlinstance | Export-Excel -Path $ExcelFile -WorksheetName $WorkSheetName -AutoSize -FreezeTopRow -AutoFilter -PassThru\r\n",
                "  \r\n",
                "    $rulesparam = @{\r\n",
                "        Address   = $excel.Workbook.Worksheets[$WorkSheetName].Dimension.Address\r\n",
                "        WorkSheet = $excel.Workbook.Worksheets[$WorkSheetName] \r\n",
                "        RuleType  = 'Expression'      \r\n",
                "    }\r\n",
                "\r\n",
                "    Add-ConditionalFormatting @rulesparam -ConditionValue 'NOT(ISERROR(FIND(\"sysadmin\",$G1)))' -BackgroundColor Yellow -StopIfTrue\r\n",
                "    Add-ConditionalFormatting @rulesparam -ConditionValue 'NOT(ISERROR(FIND(\"db_owner\",$G1)))' -BackgroundColor Yellow -StopIfTrue\r\n",
                "    Add-ConditionalFormatting @rulesparam -ConditionValue 'NOT(ISERROR(FIND(\"SERVER LOGINS\",$E1)))' -BackgroundColor PaleGreen \r\n",
                "    Add-ConditionalFormatting @rulesparam -ConditionValue 'NOT(ISERROR(FIND(\"SERVER SECURABLES\",$E1)))' -BackgroundColor PowderBlue \r\n",
                "    Add-ConditionalFormatting @rulesparam -ConditionValue 'NOT(ISERROR(FIND(\"DB ROLE MEMBERS\",$E1)))' -BackgroundColor GoldenRod \r\n",
                "    Add-ConditionalFormatting @rulesparam -ConditionValue 'NOT(ISERROR(FIND(\"DB SECURABLES\",$E1)))' -BackgroundColor BurlyWood \r\n",
                "\r\n",
                "    Close-ExcelPackage $excel\r\n",
                "\r\n",
                "\r\n",
                "Write-Output \"\"\r\n",
                "Write-Output \"Finished Processing $sqlinstance\"\r\n",
                "\r\n",
                "$Excel = Open-ExcelPackage -Path $ExcelFile\r\n",
                "Add-Worksheet -ExcelPackage $Excel -WorksheetName 'Title' -MoveToStart | Out-Null\r\n",
                "\r\n",
                "$TitleSheet = $excel.Workbook.Worksheets['Title']\r\n",
                "$Date = (Get-Date).ToLongDateString()\r\n",
                "$TitleSheet.Cells[\"A1\"].value = \"This Worksheet shows the User Permissions for each database on $sqlinstance at $Date \"\r\n",
                "Set-ExcelRange -Worksheet $TitleSheet -Range \"A:1\" -Bold -FontSize 22 -Underline -UnderLineType Double\r\n",
                "\r\n",
                "$TitleSheet.Cells[\"B3\"].Value = \"The Cells are colour coded as follows :-\"\r\n",
                "Set-ExcelRange -Worksheet $TitleSheet -Range \"B3\" -Bold -FontSize 18 \r\n",
                "$TitleSheet.Cells[\"E5\"].Value = \"The Yellow Cells show members of the sysadmin role who have permission to do and access anything on the instance \"\r\n",
                "$TitleSheet.Cells[\"E6\"].Value = \"The Green Cells show the logins on the server\"\r\n",
                "$TitleSheet.Cells[\"E7\"].Value = \"The Blue Cells show the instance level permissions that have been granted to the logins\"\r\n",
                "$TitleSheet.Cells[\"E8\"].Value = \"The Orange Cells show the database role membership for the login\"\r\n",
                "$TitleSheet.Cells[\"E9\"].Value = \"The Brown Cells show specific database permissions that have been granted for the logins\"\r\n",
                "\r\n",
                "$TitleSheet.Cells[\"B11\"].Value = \"You can filter by Database on the Object column\"\r\n",
                "Set-ExcelRange -Worksheet $TitleSheet -Range \"C11\" -FontSize 18\r\n",
                "\r\n",
                "$TitleSheet.Cells[\"B12\"].Value = \"You can filter by User/Group/Login on the Member column\"\r\n",
                "Set-ExcelRange -Worksheet $TitleSheet -Range \"C12\" -FontSize 18\r\n",
                "\r\n",
                "Set-ExcelRange -Worksheet $TitleSheet -Range  \"C5\" -BackgroundColor Yellow\r\n",
                "Set-ExcelRange -Worksheet $TitleSheet -Range  \"C6\" -BackgroundColor PaleGreen\r\n",
                "Set-ExcelRange -Worksheet $TitleSheet -Range  \"C7\" -BackgroundColor PowderBlue \r\n",
                "Set-ExcelRange -Worksheet $TitleSheet -Range  \"C8\" -BackgroundColor GoldenRod \r\n",
                "Set-ExcelRange -Worksheet $TitleSheet -Range  \"C9\" -BackgroundColor BurlyWood \r\n",
                "\r\n",
                "Close-ExcelPackage $excel\r\n",
                "\r\n",
                "\r\n",
                "Write-Output \"                ###############                  \"\r\n",
                "Write-Output \"        FileName is $ExcelFile            \"\r\n",
                "Write-Output \"                ###############                  \"\r\n",
                "Write-Output \"\"\r\n",
                "\r\n",
                "Invoke-Item $ExcelFile"
            ],
            "metadata": {
                "azdata_cell_guid": "9b8d5db4-03d1-4289-b277-763e019a36d7",
                "tags": []
            },
            "outputs": [
                {
                    "name": "stdout",
                    "text": "Processing localhost\r\n",
                    "output_type": "stream"
                },
                {
                    "name": "stdout",
                    "text": "    FileName is c:\\temp\\\\localhost_Permssions_OneTab_2020-06-24.xlsx\r\n",
                    "output_type": "stream"
                },
                {
                    "name": "stdout",
                    "text": "\r\n",
                    "output_type": "stream"
                },
                {
                    "name": "stdout",
                    "text": "Finished Processing localhost\r\n",
                    "output_type": "stream"
                },
                {
                    "name": "stdout",
                    "text": "                ###############                  \r\n",
                    "output_type": "stream"
                },
                {
                    "name": "stdout",
                    "text": "        FileName is c:\\temp\\\\localhost_Permssions_OneTab_2020-06-24.xlsx            \r\n",
                    "output_type": "stream"
                },
                {
                    "name": "stdout",
                    "text": "                ###############                  \r\n",
                    "output_type": "stream"
                },
                {
                    "name": "stdout",
                    "text": "\r\n",
                    "output_type": "stream"
                }
            ],
            "execution_count": 3
        },
        {
            "cell_type": "markdown",
            "source": [
                "If you want all of the permissions for a number of instances use this code - More options below  \r\n",
                "\r\n",
                "You will need to alter the Directory that you want the Excel file stored in using the variable `$ExcelDirectory` and the SQL instances that you want to get the permissions for with the variable `$SQLInstances` You will need to add them as `'FULLINSTANCENAME,PORT','FULLINSTANCENAME2,PORT'` or if you have variables set up like `$ProdInstances` you can use that. Each file will be named `InstanceName_Permissions_Date.xlsx`"
            ],
            "metadata": {
                "azdata_cell_guid": "417a6117-5c23-4bc5-98c4-ef8543eff4ff"
            }
        },
        {
            "cell_type": "code",
            "source": [
                "$ExcelDirectory = 'c:\\temp\\' # Alter this to the directory you want the file created\r\n",
                "$SQlinstances = 'AnInstance','ANotherinstance' # Alter this for the SQL Instances you want to get permissions for\r\n",
                "\r\n",
                "foreach($sqlinstance in $SQlinstances){\r\n",
                "Write-Output \"Processing $sqlinstance\"\r\n",
                "\r\n",
                "$InstanceName = $SQlinstance.Split('\\').Split('.').Split('\\').Split(',') -join '_'\r\n",
                "$ExcelFile = $ExcelDirectory + '\\' + $InstanceName + '_Permssions_OneTab_' + (Get-Date).ToString('yyyy-MM-dd') + '.xlsx'\r\n",
                "\r\n",
                "Write-Output \"    FileName is $ExcelFile\"\r\n",
                "\r\n",
                "$WorkSheetName = \"Permissions\"\r\n",
                "\r\n",
                "    $excel = Get-DbaUserPermission -SqlInstance $sqlinstance | Export-Excel -Path $ExcelFile -WorksheetName $WorkSheetName -AutoSize -FreezeTopRow -AutoFilter -PassThru\r\n",
                "  \r\n",
                "    $rulesparam = @{\r\n",
                "        Address   = $excel.Workbook.Worksheets[$WorkSheetName].Dimension.Address\r\n",
                "        WorkSheet = $excel.Workbook.Worksheets[$WorkSheetName] \r\n",
                "        RuleType  = 'Expression'      \r\n",
                "    }\r\n",
                "\r\n",
                "    Add-ConditionalFormatting @rulesparam -ConditionValue 'NOT(ISERROR(FIND(\"sysadmin\",$G1)))' -BackgroundColor Yellow -StopIfTrue\r\n",
                "    Add-ConditionalFormatting @rulesparam -ConditionValue 'NOT(ISERROR(FIND(\"db_owner\",$G1)))' -BackgroundColor Yellow -StopIfTrue\r\n",
                "    Add-ConditionalFormatting @rulesparam -ConditionValue 'NOT(ISERROR(FIND(\"SERVER LOGINS\",$E1)))' -BackgroundColor PaleGreen \r\n",
                "    Add-ConditionalFormatting @rulesparam -ConditionValue 'NOT(ISERROR(FIND(\"SERVER SECURABLES\",$E1)))' -BackgroundColor PowderBlue \r\n",
                "    Add-ConditionalFormatting @rulesparam -ConditionValue 'NOT(ISERROR(FIND(\"DB ROLE MEMBERS\",$E1)))' -BackgroundColor GoldenRod \r\n",
                "    Add-ConditionalFormatting @rulesparam -ConditionValue 'NOT(ISERROR(FIND(\"DB SECURABLES\",$E1)))' -BackgroundColor BurlyWood \r\n",
                "\r\n",
                "    Close-ExcelPackage $excel\r\n",
                "\r\n",
                "\r\n",
                "Write-Output \"\"\r\n",
                "Write-Output \"Finished Processing $sqlinstance\"\r\n",
                "\r\n",
                "$Excel = Open-ExcelPackage -Path $ExcelFile\r\n",
                "Add-Worksheet -ExcelPackage $Excel -WorksheetName 'Title' -MoveToStart | Out-Null\r\n",
                "\r\n",
                "$TitleSheet = $excel.Workbook.Worksheets['Title']\r\n",
                "$Date = (Get-Date).ToLongDateString()\r\n",
                "$TitleSheet.Cells[\"A1\"].value = \"This Worksheet shows the User Permissions for each database on $sqlinstance at $Date \"\r\n",
                "Set-ExcelRange -Worksheet $TitleSheet -Range \"A:1\" -Bold -FontSize 22 -Underline -UnderLineType Double\r\n",
                "\r\n",
                "$TitleSheet.Cells[\"B3\"].Value = \"The Cells are colour coded as follows :-\"\r\n",
                "Set-ExcelRange -Worksheet $TitleSheet -Range \"B3\" -Bold -FontSize 18 \r\n",
                "$TitleSheet.Cells[\"E5\"].Value = \"The Yellow Cells show members of the sysadmin role who have permission to do and access anything on the instance \"\r\n",
                "$TitleSheet.Cells[\"E6\"].Value = \"The Green Cells show the logins on the server\"\r\n",
                "$TitleSheet.Cells[\"E7\"].Value = \"The Blue Cells show the instance level permissions that have been granted to the logins\"\r\n",
                "$TitleSheet.Cells[\"E8\"].Value = \"The Orange Cells show the database role membership for the login\"\r\n",
                "$TitleSheet.Cells[\"E9\"].Value = \"The Brown Cells show specific database permissions that have been granted for the logins\"\r\n",
                "\r\n",
                "$TitleSheet.Cells[\"B11\"].Value = \"You can filter by Database on the Object column\"\r\n",
                "Set-ExcelRange -Worksheet $TitleSheet -Range \"C11\" -FontSize 18\r\n",
                "\r\n",
                "$TitleSheet.Cells[\"B12\"].Value = \"You can filter by User/Group/Login on the Member column\"\r\n",
                "Set-ExcelRange -Worksheet $TitleSheet -Range \"C12\" -FontSize 18\r\n",
                "\r\n",
                "Set-ExcelRange -Worksheet $TitleSheet -Range  \"C5\" -BackgroundColor Yellow\r\n",
                "Set-ExcelRange -Worksheet $TitleSheet -Range  \"C6\" -BackgroundColor PaleGreen\r\n",
                "Set-ExcelRange -Worksheet $TitleSheet -Range  \"C7\" -BackgroundColor PowderBlue \r\n",
                "Set-ExcelRange -Worksheet $TitleSheet -Range  \"C8\" -BackgroundColor GoldenRod \r\n",
                "Set-ExcelRange -Worksheet $TitleSheet -Range  \"C9\" -BackgroundColor BurlyWood \r\n",
                "\r\n",
                "Close-ExcelPackage $excel\r\n",
                "\r\n",
                "\r\n",
                "Write-Output \"                ###############                  \"\r\n",
                "Write-Output \"        FileName is $ExcelFile            \"\r\n",
                "Write-Output \"                ###############                  \"\r\n",
                "Write-Output \"\"\r\n",
                "\r\n",
                "Invoke-Item $ExcelFile\r\n",
                "}"
            ],
            "metadata": {
                "azdata_cell_guid": "2083c6a4-f9c2-448a-a68c-dfd99d10749a"
            },
            "outputs": [],
            "execution_count": null
        },
        {
            "cell_type": "markdown",
            "source": [
                "If you just want the results for a single database in the notebook use the next block. If you want to create a colour coded Excel Workbook showing all of the permissions for all of the databases on a seperate worksheet then use this block. You will need to alter the Directory that you want the Excel file stored in usign the variable `$ExcelDirectory` and the SQL instance that you want to get the permissions for with the variable `$SQLInstance`. The file will be named `InstanceName_Permissions_Date.xlsx`"
            ],
            "metadata": {
                "azdata_cell_guid": "5f1de29c-63e1-41dc-8f69-f979dc942baf"
            }
        },
        {
            "cell_type": "code",
            "source": [
                "$ExcelDirectory = 'c:\\temp\\' # Alter this to the directory you want the file created\r\n",
                "$SQlinstance = '' # Alter this for the SQL Instance you want to get permissions for\r\n",
                "Write-Output \"Processing $sqlinstance\"\r\n",
                "\r\n",
                "$InstanceName = $SQlinstance.Split('\\').Split('.').Split('\\').Split(',') -join '_'\r\n",
                "$ExcelFile = $ExcelDirectory + '\\' + $InstanceName + '_Permssions_' + (Get-Date).ToString('yyyy-MM-dd') + '.xlsx'\r\n",
                "\r\n",
                "Write-Output \"    FileName is $ExcelFile\"\r\n",
                "\r\n",
                "$Databases = Get-DbaDatabase -SqlInstance $sqlinstance\r\n",
                "\r\n",
                "foreach ($Database in $Databases) {\r\n",
                "    $DatabaseName = $Database.Name\r\n",
                "    Write-Output \"       Processing $DatabaseName\"\r\n",
                "    $WorkSheetName = \"$($Database.Name) Perms\"\r\n",
                "\r\n",
                "    $excel = Get-DbaUserPermission -SqlInstance $sqlinstance -Database $DatabaseName | Export-Excel -Path $ExcelFile -WorksheetName $WorkSheetName -AutoSize -FreezeTopRow -AutoFilter -PassThru\r\n",
                "  \r\n",
                "    $rulesparam = @{\r\n",
                "        Address   = $excel.Workbook.Worksheets[$WorkSheetName].Dimension.Address\r\n",
                "        WorkSheet = $excel.Workbook.Worksheets[$WorkSheetName] \r\n",
                "        RuleType  = 'Expression'      \r\n",
                "    }\r\n",
                "\r\n",
                "    Add-ConditionalFormatting @rulesparam -ConditionValue 'NOT(ISERROR(FIND(\"sysadmin\",$G1)))' -BackgroundColor Yellow -StopIfTrue\r\n",
                "    Add-ConditionalFormatting @rulesparam -ConditionValue 'NOT(ISERROR(FIND(\"db_owner\",$G1)))' -BackgroundColor Yellow -StopIfTrue\r\n",
                "    Add-ConditionalFormatting @rulesparam -ConditionValue 'NOT(ISERROR(FIND(\"SERVER LOGINS\",$E1)))' -BackgroundColor PaleGreen \r\n",
                "    Add-ConditionalFormatting @rulesparam -ConditionValue 'NOT(ISERROR(FIND(\"SERVER SECURABLES\",$E1)))' -BackgroundColor PowderBlue \r\n",
                "    Add-ConditionalFormatting @rulesparam -ConditionValue 'NOT(ISERROR(FIND(\"DB ROLE MEMBERS\",$E1)))' -BackgroundColor GoldenRod \r\n",
                "    Add-ConditionalFormatting @rulesparam -ConditionValue 'NOT(ISERROR(FIND(\"DB SECURABLES\",$E1)))' -BackgroundColor BurlyWood \r\n",
                "\r\n",
                "    Close-ExcelPackage $excel\r\n",
                "    Write-Output \"       Finished Processing $($Database.Name)\"\r\n",
                "}\r\n",
                "\r\n",
                "Write-Output \"\"\r\n",
                "Write-Output \"Finished Processing $sqlinstance\"\r\n",
                "\r\n",
                "$Excel = Open-ExcelPackage -Path $ExcelFile\r\n",
                "Add-Worksheet -ExcelPackage $Excel -WorksheetName 'Title' -MoveToStart | Out-Null\r\n",
                "\r\n",
                "$TitleSheet = $excel.Workbook.Worksheets['Title']\r\n",
                "$Date = (Get-Date).ToLongDateString()\r\n",
                "$TitleSheet.Cells[\"A1\"].value = \"This Worksheet shows the User Permissions for each database on $sqlinstance at $Date \"\r\n",
                "Set-ExcelRange -Worksheet $TitleSheet -Range \"A:1\" -Bold -FontSize 22 -Underline -UnderLineType Double\r\n",
                "\r\n",
                "$TitleSheet.Cells[\"B3\"].Value = \"The Cells are colour coded as follows\"\r\n",
                "$TitleSheet.Cells[\"D4\"].Value = \"The Yellow Cells show members of the sysadmin role who have permission to do and access anything on the instance \"\r\n",
                "$TitleSheet.Cells[\"D5\"].Value = \"The Green Cells show the logins on the server\"\r\n",
                "$TitleSheet.Cells[\"D6\"].Value = \"The Blue Cells show the instance level permissions that have been granted to the logins\"\r\n",
                "$TitleSheet.Cells[\"D7\"].Value = \"The Orange Cells show the database role membership for the login\"\r\n",
                "$TitleSheet.Cells[\"D8\"].Value = \"The Brown Cells show specific database permissions that have been granted for the logins\"\r\n",
                "\r\n",
                "Set-ExcelRange -Worksheet $TitleSheet -Range  \"C4\" -BackgroundColor Yellow\r\n",
                "Set-ExcelRange -Worksheet $TitleSheet -Range  \"C5\" -BackgroundColor PaleGreen\r\n",
                "Set-ExcelRange -Worksheet $TitleSheet -Range  \"C6\" -BackgroundColor PowderBlue \r\n",
                "Set-ExcelRange -Worksheet $TitleSheet -Range  \"C7\" -BackgroundColor GoldenRod \r\n",
                "Set-ExcelRange -Worksheet $TitleSheet -Range  \"C8\" -BackgroundColor BurlyWood \r\n",
                "\r\n",
                "Close-ExcelPackage $excel\r\n",
                "\r\n",
                "\r\n",
                "Write-Output \"                ###############                  \"\r\n",
                "Write-Output \"        FileName is $ExcelFile            \"\r\n",
                "Write-Output \"                ###############                  \"\r\n",
                "Write-Output \"\"\r\n",
                "\r\n",
                "Invoke-Item $ExcelFile"
            ],
            "metadata": {
                "azdata_cell_guid": "2b48e888-434d-444a-b235-f94a12a460d7"
            },
            "outputs": [],
            "execution_count": null
        },
        {
            "cell_type": "markdown",
            "source": [
                "You can get the details for a single database and display in the notebook using the block below. You will need to specify the instance and the database in the code"
            ],
            "metadata": {
                "azdata_cell_guid": "dd55a38e-42bb-4a6d-b850-f7001d72370b"
            }
        },
        {
            "cell_type": "code",
            "source": [
                "Get-DbaUserPermission -SqlInstance '' -Database tempdb | Format-Table"
            ],
            "metadata": {
                "azdata_cell_guid": "004e2984-dc87-4d0d-9034-73dfdd76cc5a"
            },
            "outputs": [],
            "execution_count": null
        },
        {
            "cell_type": "markdown",
            "source": [
                "## Managed instance needs to be done slightly differently\r\n",
                "\r\n",
                "This code works only for SQL Authenticated users and prompts for a credential.\r\n",
                "\r\n",
                " **you will be prompted for a Username/ Password**"
            ],
            "metadata": {
                "azdata_cell_guid": "d5e0a49c-c111-44cb-a694-ce27b8d772a8"
            }
        },
        {
            "cell_type": "code",
            "source": [
                "$ExcelDirectory = 'c:\\temp\\' # Alter this to the directory you want the file created\r\n",
                "$SQlinstance = 'beardsql-mi.public.fee5c5c7dd9f.database.windows.net,3342' # Alter this for the SQL Instance you want to get permissions for\r\n",
                "Write-Output \"Processing $sqlinstance\"\r\n",
                "\r\n",
                "$InstanceName = $SQlinstance.Split('\\').Split('.').Split('\\').Split(',') -join '_'\r\n",
                "$ExcelFile = $ExcelDirectory + '\\' + $InstanceName + '_Permssions_' + (Get-Date).ToString('yyyy-MM-dd') + '.xlsx'\r\n",
                "\r\n",
                "Write-Output \"    FileName is $ExcelFile\"\r\n",
                "\r\n",
                "$SQlCredential = Get-Credential\r\n",
                "\r\n",
                "$inst = Connect-DbaInstance  -SqlInstance $sqlinstance -SqlCredential $SQlCredential\r\n",
                "\r\n",
                "$Databases = $inst.Databases\r\n",
                "\r\n",
                "foreach ($Database in $Databases) {\r\n",
                "    $DatabaseName = $Database.Name\r\n",
                "    Write-Output \"       Processing $DatabaseName\"\r\n",
                "    $WorkSheetName = \"$($Database.Name) Perms\"\r\n",
                "\r\n",
                "    $excel = Get-DbaUserPermission -SqlInstance $inst -Database $DatabaseName | Export-Excel -Path $ExcelFile -WorksheetName $WorkSheetName -AutoSize -FreezeTopRow -AutoFilter -PassThru\r\n",
                "  \r\n",
                "    $rulesparam = @{\r\n",
                "        Address   = $excel.Workbook.Worksheets[$WorkSheetName].Dimension.Address\r\n",
                "        WorkSheet = $excel.Workbook.Worksheets[$WorkSheetName] \r\n",
                "        RuleType  = 'Expression'      \r\n",
                "    }\r\n",
                "\r\n",
                "    Add-ConditionalFormatting @rulesparam -ConditionValue 'NOT(ISERROR(FIND(\"sysadmin\",$G1)))' -BackgroundColor Yellow -StopIfTrue\r\n",
                "    Add-ConditionalFormatting @rulesparam -ConditionValue 'NOT(ISERROR(FIND(\"db_owner\",$G1)))' -BackgroundColor Yellow -StopIfTrue\r\n",
                "    Add-ConditionalFormatting @rulesparam -ConditionValue 'NOT(ISERROR(FIND(\"SERVER LOGINS\",$E1)))' -BackgroundColor PaleGreen \r\n",
                "    Add-ConditionalFormatting @rulesparam -ConditionValue 'NOT(ISERROR(FIND(\"SERVER SECURABLES\",$E1)))' -BackgroundColor PowderBlue \r\n",
                "    Add-ConditionalFormatting @rulesparam -ConditionValue 'NOT(ISERROR(FIND(\"DB ROLE MEMBERS\",$E1)))' -BackgroundColor GoldenRod \r\n",
                "    Add-ConditionalFormatting @rulesparam -ConditionValue 'NOT(ISERROR(FIND(\"DB SECURABLES\",$E1)))' -BackgroundColor BurlyWood \r\n",
                "\r\n",
                "    Close-ExcelPackage $excel\r\n",
                "    Write-Output \"       Finished Processing $($Database.Name)\"\r\n",
                "}\r\n",
                "\r\n",
                "Write-Output \"\"\r\n",
                "Write-Output \"Finished Processing $sqlinstance\"\r\n",
                "\r\n",
                "$Excel = Open-ExcelPackage -Path $ExcelFile\r\n",
                "Add-Worksheet -ExcelPackage $Excel -WorksheetName 'Title' -MoveToStart | Out-Null\r\n",
                "\r\n",
                "$TitleSheet = $excel.Workbook.Worksheets['Title']\r\n",
                "$Date = (Get-Date).ToLongDateString()\r\n",
                "$TitleSheet.Cells[\"A1\"].value = \"This Worksheet shows the User Permissions for each database on $sqlinstance at $Date \"\r\n",
                "Set-ExcelRange -Worksheet $TitleSheet -Range \"A:1\" -Bold -FontSize 22 -Underline -UnderLineType Double\r\n",
                "\r\n",
                "$TitleSheet.Cells[\"B3\"].Value = \"The Cells are colour coded as follows\"\r\n",
                "$TitleSheet.Cells[\"D4\"].Value = \"The Yellow Cells show members of the sysadmin role who have permission to do and access anything on the instance \"\r\n",
                "$TitleSheet.Cells[\"D5\"].Value = \"The Green Cells show the logins on the server\"\r\n",
                "$TitleSheet.Cells[\"D6\"].Value = \"The Blue Cells show the instance level permissions that have been granted to the logins\"\r\n",
                "$TitleSheet.Cells[\"D7\"].Value = \"The Orange Cells show the database role membership for the login\"\r\n",
                "$TitleSheet.Cells[\"D8\"].Value = \"The Brown Cells show specific database permissions that have been granted for the logins\"\r\n",
                "\r\n",
                "Set-ExcelRange -Worksheet $TitleSheet -Range  \"C4\" -BackgroundColor Yellow\r\n",
                "Set-ExcelRange -Worksheet $TitleSheet -Range  \"C5\" -BackgroundColor PaleGreen\r\n",
                "Set-ExcelRange -Worksheet $TitleSheet -Range  \"C6\" -BackgroundColor PowderBlue \r\n",
                "Set-ExcelRange -Worksheet $TitleSheet -Range  \"C7\" -BackgroundColor GoldenRod \r\n",
                "Set-ExcelRange -Worksheet $TitleSheet -Range  \"C8\" -BackgroundColor BurlyWood \r\n",
                "\r\n",
                "Close-ExcelPackage $excel\r\n",
                "\r\n",
                "\r\n",
                "Write-Output \"                ###############                  \"\r\n",
                "Write-Output \"        FileName is $ExcelFile            \"\r\n",
                "Write-Output \"                ###############                  \"\r\n",
                "Write-Output \"\"\r\n",
                "$inst.ConnectionContext.DisConnect()\r\n",
                "Invoke-Item $ExcelFile"
            ],
            "metadata": {
                "azdata_cell_guid": "414bd1e0-6cb2-4206-9a7a-303d6f1f1457",
                "tags": []
            },
            "outputs": [],
            "execution_count": null
        }
    ]
}