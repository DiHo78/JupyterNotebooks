{
 "cells": [
  {
   "cell_type": "markdown",
   "metadata": {},
   "source": [
    "# Cleaning up the containers and directories and files\n",
    "\n",
    "The code below will clean up the files that have been created and remove the docker containers but not the image so that you can run this notebook again without having to download the image again"
   ]
  },
  {
   "cell_type": "code",
   "execution_count": 2,
   "metadata": {},
   "outputs": [
    {
     "name": "stdout",
     "output_type": "stream",
     "text": [
      "Removing containers\n",
      "Stopping dbatools_SQL2019-1_1 ... \n",
      "\n",
      "Stopping dbatools_SQL2019_1   ... \n",
      "\n",
      "\u001b[2A\u001b[2K\n",
      "Stopping dbatools_SQL2019-1_1 ... \u001b[32mdone\u001b[0m\n",
      "\u001b[2B\u001b[1A\u001b[2K\n",
      "Stopping dbatools_SQL2019_1   ... \u001b[32mdone\u001b[0m\n",
      "\u001b[1BRemoving dbatools_SQL2019-1_1 ... \n",
      "\n",
      "Removing dbatools_SQL2019_1   ... \n",
      "\n",
      "\u001b[2A\u001b[2K\n",
      "Removing dbatools_SQL2019-1_1 ... \u001b[32mdone\u001b[0m\n",
      "\u001b[2B\u001b[1A\u001b[2K\n",
      "Removing dbatools_SQL2019_1   ... \u001b[32mdone\u001b[0m\n",
      "\u001b[1BRemoving network dbatools_BeardsMagicNetwork\n",
      "Removing directories and files\n",
      "Removed everything\n"
     ]
    }
   ],
   "source": [
    "$FolderPath = $Env:USERPROFILE + '\\Documents\\dbatoolsdemo'\n",
    "Write-Output \"Removing containers\"\n",
    "docker-compose down \n",
    "Write-Output \"Removing directories and files\"\n",
    "Remove-Item $FolderPath -Recurse -Force\n",
    "Write-Output \"Removed everything\"\n"
   ]
  },
  {
   "cell_type": "code",
   "execution_count": 3,
   "metadata": {},
   "outputs": [
    {
     "name": "stdout",
     "output_type": "stream",
     "text": [
      "CONTAINER ID        IMAGE               COMMAND             CREATED             STATUS              PORTS               NAMES\n"
     ]
    }
   ],
   "source": [
    "docker ps -a"
   ]
  },
  {
   "cell_type": "code",
   "execution_count": null,
   "metadata": {},
   "outputs": [],
   "source": []
  },
  {
   "cell_type": "code",
   "execution_count": null,
   "metadata": {},
   "outputs": [],
   "source": []
  }
 ],
 "metadata": {
  "kernelspec": {
   "display_name": ".NET (PowerShell)",
   "language": "PowerShell",
   "name": ".net-powershell"
  },
  "language_info": {
   "file_extension": ".ps1",
   "mimetype": "text/x-powershell",
   "name": "PowerShell",
   "pygments_lexer": "powershell",
   "version": "7.0"
  }
 },
 "nbformat": 4,
 "nbformat_minor": 4
}
