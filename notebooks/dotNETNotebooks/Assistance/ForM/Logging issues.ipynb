{
    "metadata": {
        "kernelspec": {
            "name": ".net-powershell",
            "display_name": ".NET (PowerShell)"
        },
        "language_info": {
            "name": "PowerShell",
            "version": "7.0",
            "mimetype": "text/x-powershell",
            "file_extension": ".ps1",
            "pygments_lexer": "powershell"
        }
    },
    "nbformat_minor": 2,
    "nbformat": 4,
    "cells": [
        {
            "cell_type": "markdown",
            "source": [
                "# Logging scripts execution"
            ],
            "metadata": {
                "azdata_cell_guid": "931f67fe-ac17-4d9f-9bf7-03db4feefc55"
            }
        },
        {
            "cell_type": "code",
            "source": [
                "cd C:\\Users\\mrrob\\OneDrive\\Documents\\GitHub\\JupyterNotebooks\\notebooks\\dotNETNotebooks\\Assistance\\ForM\r\n",
                "if(Test-Path C:\\temp\\script-Execution.log -ErrorAction SilentlyContinue){\r\n",
                "    rm C:\\temp\\script-Execution.log -Force\r\n",
                "}"
            ],
            "metadata": {
                "azdata_cell_guid": "b31a612f-e0db-4fb3-8556-8489c72c6337",
                "tags": []
            },
            "outputs": [],
            "execution_count": 29
        },
        {
            "cell_type": "code",
            "source": [
                "ipmo .\\scripts\\beardfunction.psm1\r\n",
                "& .\\scripts\\CallingScript.ps1\r\n",
                "\r\n",
                "gc C:\\temp\\script-Execution.log"
            ],
            "metadata": {
                "azdata_cell_guid": "6e6dc8da-2412-414e-be21-4be140bb2ee1",
                "tags": []
            },
            "outputs": [],
            "execution_count": 31
        },
        {
            "cell_type": "code",
            "source": [
                "$PSScriptRoot"
            ],
            "metadata": {
                "azdata_cell_guid": "057cb2bf-c8f8-463f-973a-24633fc84ae8"
            },
            "outputs": [
                {
                    "output_type": "stream",
                    "name": "stdout",
                    "text": "\r\n"
                }
            ],
            "execution_count": 14
        }
    ]
}