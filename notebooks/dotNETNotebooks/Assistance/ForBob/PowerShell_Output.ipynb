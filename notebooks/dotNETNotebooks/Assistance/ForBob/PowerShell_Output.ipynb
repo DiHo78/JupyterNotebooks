{
    "metadata": {
        "kernelspec": {
            "name": ".net-powershell",
            "display_name": ".NET (PowerShell)"
        },
        "language_info": {
            "name": "PowerShell",
            "version": "7.0",
            "mimetype": "text/x-powershell",
            "file_extension": ".ps1",
            "pygments_lexer": "powershell"
        }
    },
    "nbformat_minor": 2,
    "nbformat": 4,
    "cells": [
        {
            "cell_type": "markdown",
            "source": [
                "The output stream and the variable\r\n",
                "\r\n",
                "If we write a function like this"
            ],
            "metadata": {
                "azdata_cell_guid": "822c7c94-3574-43c7-ad3d-b10b259496b5"
            }
        },
        {
            "cell_type": "code",
            "source": [
                "function Get-MeSomeFilesPlease {\r\n",
                "    Param (\r\n",
                "        $FilePath\r\n",
                "    )\r\n",
                "    Get-ChildItem $FilePath -File\r\n",
                "}\r\n",
                "Get-MeSomeFilesPlease -FilePath C:\\temp\\export\\"
            ],
            "metadata": {
                "azdata_cell_guid": "a4dcfa02-4846-42ce-93a8-32301c915f46"
            },
            "outputs": [
                {
                    "name": "stdout",
                    "text": "\r\n",
                    "output_type": "stream"
                },
                {
                    "name": "stdout",
                    "text": "\r\n",
                    "output_type": "stream"
                },
                {
                    "name": "stdout",
                    "text": "    Directory: C:\\temp\\export\r\n",
                    "output_type": "stream"
                },
                {
                    "name": "stdout",
                    "text": "\r\n",
                    "output_type": "stream"
                },
                {
                    "name": "stdout",
                    "text": "Mode                 LastWriteTime         Length Name\r\n",
                    "output_type": "stream"
                },
                {
                    "name": "stdout",
                    "text": "----                 -------------         ------ ----\r\n",
                    "output_type": "stream"
                },
                {
                    "name": "stdout",
                    "text": "-a---          16/11/2019    14:59            563 audit.sql\r\n",
                    "output_type": "stream"
                },
                {
                    "name": "stdout",
                    "text": "-a---          16/11/2019    15:00            504 auditspec.sql\r\n",
                    "output_type": "stream"
                },
                {
                    "name": "stdout",
                    "text": "-a---          16/11/2019    14:29           3851 spconfig.sql\r\n",
                    "output_type": "stream"
                },
                {
                    "name": "stdout",
                    "text": "\r\n",
                    "output_type": "stream"
                }
            ],
            "execution_count": 2
        },
        {
            "cell_type": "markdown",
            "source": [
                "It gives us an array of file objects"
            ],
            "metadata": {
                "azdata_cell_guid": "f76597a5-f2db-493f-832b-2b5702bf5cd5"
            }
        },
        {
            "cell_type": "code",
            "source": [
                "(Get-MeSomeFilesPlease -FilePath C:\\temp\\export\\).GetType()\r\n",
                "(Get-MeSomeFilesPlease -FilePath C:\\temp\\export\\)[0].GetType()\r\n",
                ""
            ],
            "metadata": {
                "azdata_cell_guid": "4024497d-ce30-4a8a-9476-3df13f98382f"
            },
            "outputs": [
                {
                    "name": "stdout",
                    "text": "\r\n",
                    "output_type": "stream"
                },
                {
                    "name": "stdout",
                    "text": "IsPublic IsSerial Name                                     BaseType\r\n",
                    "output_type": "stream"
                },
                {
                    "name": "stdout",
                    "text": "-------- -------- ----                                     --------\r\n",
                    "output_type": "stream"
                },
                {
                    "name": "stdout",
                    "text": "True     True     Object[]                                 System.Array\r\n",
                    "output_type": "stream"
                },
                {
                    "name": "stdout",
                    "text": "True     False    FileInfo                                 System.IO.FileSystemInfo\r\n",
                    "output_type": "stream"
                },
                {
                    "name": "stdout",
                    "text": "\r\n",
                    "output_type": "stream"
                }
            ],
            "execution_count": 8
        },
        {
            "cell_type": "markdown",
            "source": [
                "If we set that to a variable, we ge the array of file objects in the variable"
            ],
            "metadata": {
                "azdata_cell_guid": "267d537e-e56d-49d1-9381-e59f3a855160"
            }
        },
        {
            "cell_type": "code",
            "source": [
                "$Files = Get-MeSomeFilesPlease -FilePath C:\\temp\\export\\\r\n",
                "$files.GetType()\r\n",
                "$files[0].GetType()"
            ],
            "metadata": {
                "azdata_cell_guid": "82debff3-ae58-4915-bf18-4b846604d64f"
            },
            "outputs": [
                {
                    "name": "stdout",
                    "text": "\r\n",
                    "output_type": "stream"
                },
                {
                    "name": "stdout",
                    "text": "IsPublic IsSerial Name                                     BaseType\r\n",
                    "output_type": "stream"
                },
                {
                    "name": "stdout",
                    "text": "-------- -------- ----                                     --------\r\n",
                    "output_type": "stream"
                },
                {
                    "name": "stdout",
                    "text": "True     True     Object[]                                 System.Array\r\n",
                    "output_type": "stream"
                },
                {
                    "name": "stdout",
                    "text": "True     False    FileInfo                                 System.IO.FileSystemInfo\r\n",
                    "output_type": "stream"
                },
                {
                    "name": "stdout",
                    "text": "\r\n",
                    "output_type": "stream"
                }
            ],
            "execution_count": 9
        },
        {
            "cell_type": "markdown",
            "source": [
                "But look what happens if we add some output to the function"
            ],
            "metadata": {
                "azdata_cell_guid": "c37e045f-eefd-49e6-9112-7d8019b3a668"
            }
        },
        {
            "cell_type": "code",
            "source": [
                "function Get-MeSomeFilesPlease {\r\n",
                "    Param (\r\n",
                "        $FilePath\r\n",
                "    )\r\n",
                "    Write-Output \"I am going to look in $filePath for some files\"\r\n",
                "    Write-Output \"I found some files - here they are\"\r\n",
                "    Get-ChildItem $FilePath -File\r\n",
                "    Write-Output \"OK I have finished\"\r\n",
                "}\r\n",
                "Get-MeSomeFilesPlease -FilePath C:\\temp\\export\\"
            ],
            "metadata": {
                "azdata_cell_guid": "cfc111b0-4001-476c-86d6-7b64a660f07e",
                "tags": []
            },
            "outputs": [
                {
                    "name": "stdout",
                    "text": "I am going to look in C:\\temp\\export\\ for some files\r\n",
                    "output_type": "stream"
                },
                {
                    "name": "stdout",
                    "text": "I found some files - here they are\r\n",
                    "output_type": "stream"
                },
                {
                    "name": "stdout",
                    "text": "\r\n",
                    "output_type": "stream"
                },
                {
                    "name": "stdout",
                    "text": "\r\n",
                    "output_type": "stream"
                },
                {
                    "name": "stdout",
                    "text": "    Directory: C:\\temp\\export\r\n",
                    "output_type": "stream"
                },
                {
                    "name": "stdout",
                    "text": "\r\n",
                    "output_type": "stream"
                },
                {
                    "name": "stdout",
                    "text": "Mode                 LastWriteTime         Length Name\r\n",
                    "output_type": "stream"
                },
                {
                    "name": "stdout",
                    "text": "----                 -------------         ------ ----\r\n",
                    "output_type": "stream"
                },
                {
                    "name": "stdout",
                    "text": "-a---          16/11/2019    14:59            563 audit.sql\r\n",
                    "output_type": "stream"
                },
                {
                    "name": "stdout",
                    "text": "-a---          16/11/2019    15:00            504 auditspec.sql\r\n",
                    "output_type": "stream"
                },
                {
                    "name": "stdout",
                    "text": "-a---          16/11/2019    14:29           3851 spconfig.sql\r\n",
                    "output_type": "stream"
                },
                {
                    "name": "stdout",
                    "text": "OK I have finished\r\n",
                    "output_type": "stream"
                },
                {
                    "name": "stdout",
                    "text": "\r\n",
                    "output_type": "stream"
                }
            ],
            "execution_count": 10
        },
        {
            "cell_type": "markdown",
            "source": [
                "and if we set that to a variable"
            ],
            "metadata": {
                "azdata_cell_guid": "b9ca8b10-c5f6-470e-b6d4-7916d8a28a42"
            }
        },
        {
            "cell_type": "code",
            "source": [
                "$files = Get-MeSomeFilesPlease -FilePath C:\\temp\\export\\\r\n",
                "$files.GetType()\r\n",
                "# look at the first one in the array - Its the output not the file!\r\n",
                "$files[0]"
            ],
            "metadata": {
                "azdata_cell_guid": "13237c66-b77c-4650-8bb4-ae1cd8eb0509"
            },
            "outputs": [
                {
                    "name": "stdout",
                    "text": "\r\n",
                    "output_type": "stream"
                },
                {
                    "name": "stdout",
                    "text": "IsPublic IsSerial Name                                     BaseType\r\n",
                    "output_type": "stream"
                },
                {
                    "name": "stdout",
                    "text": "-------- -------- ----                                     --------\r\n",
                    "output_type": "stream"
                },
                {
                    "name": "stdout",
                    "text": "True     True     Object[]                                 System.Array\r\n",
                    "output_type": "stream"
                },
                {
                    "name": "stdout",
                    "text": "I am going to look in C:\\temp\\export\\ for some files\r\n",
                    "output_type": "stream"
                },
                {
                    "name": "stdout",
                    "text": "\r\n",
                    "output_type": "stream"
                }
            ],
            "execution_count": 13
        },
        {
            "cell_type": "markdown",
            "source": [
                "Here is a blog post about streams - https://devblogs.microsoft.com/scripting/understanding-streams-redirection-and-write-host-in-powershell/"
            ],
            "metadata": {
                "azdata_cell_guid": "9ede6695-4e40-4f2e-9924-efb0ea84c7a2"
            }
        },
        {
            "cell_type": "code",
            "source": [
                ""
            ],
            "metadata": {
                "azdata_cell_guid": "dd2cf921-e74f-4026-a82e-2daabdbca0e3"
            },
            "outputs": [],
            "execution_count": null
        }
    ]
}