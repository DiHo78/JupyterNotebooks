{
    "metadata": {
        "kernelspec": {
            "name": ".net-powershell",
            "display_name": ".NET (PowerShell)"
        },
        "language_info": {
            "name": "PowerShell",
            "version": "7.0",
            "mimetype": "text/x-powershell",
            "file_extension": ".ps1",
            "pygments_lexer": "powershell"
        }
    },
    "nbformat_minor": 2,
    "nbformat": 4,
    "cells": [
        {
            "cell_type": "markdown",
            "source": [
                "# Validate local lab is running\r\n",
                "\r\n",
                "This will ensure that all of the SQL instances are ready for demos\r\n",
                "\r\n",
                "## Lets see which VMs are running"
            ],
            "metadata": {
                "azdata_cell_guid": "a03e800e-e9f5-41a9-a6ee-be052f37923f"
            }
        },
        {
            "cell_type": "code",
            "source": [
                "$SQLInstances = 'SQL2005Ser2003','SQL2008Ser12R2','SQL2012Ser08AG1','SQL2012Ser08AG2','SQL2012Ser08AG3','SQL2014Ser12R2','SQL2016N1','SQL2016N2','SQL2016N3','SQL2017N5','SQL2019N5'\r\n",
                "# Dont do a ping check\r\n",
                "Set-DbcConfig -Name skip.connection.ping -Value $true\r\n",
                "#Dont do a remoting check\r\n",
                "Set-DbcConfig -Name skip.connection.remoting -Value $true\r\n",
                "#Check the instances\r\n",
                "Invoke-DbcCheck -SQLInstance $SQLInstances -Check InstanceConnection"
            ],
            "metadata": {
                "azdata_cell_guid": "9dfd901e-2918-41ca-b070-46d89d6c353d"
            },
            "outputs": [
                {
                    "name": "stdout",
                    "text": "\r\n",
                    "output_type": "stream"
                },
                {
                    "name": "stdout",
                    "text": "\u001b[97m    ____            __\r\n   / __ \\___  _____/ /____  _____\r\n  / /_/ / _ \\/ ___/ __/ _ \\/ ___/\r\n / ____/  __(__  ) /_/  __/ /\r\n/_/    \\___/____/\\__/\\___/_/\r\nPester v4.9.0\r\nExecuting all tests in 'C:\\Users\\Rob\\Documents\\PowerShell\\Modules\\dbachecks\\1.2.29\\checks\\Instance.Tests.ps1' with Tags InstanceConnection\u001b[0m\r\n",
                    "output_type": "stream"
                },
                {
                    "name": "stdout",
                    "text": "\r\n",
                    "output_type": "stream"
                },
                {
                    "name": "stdout",
                    "text": "\u001b[92mExecuting script C:\\Users\\Rob\\Documents\\PowerShell\\Modules\\dbachecks\\1.2.29\\checks\\Instance.Tests.ps1\u001b[0m\r\n",
                    "output_type": "stream"
                },
                {
                    "name": "stdout",
                    "text": "\r\n",
                    "output_type": "stream"
                },
                {
                    "name": "stdout",
                    "text": "\u001b[92m  Describing Instance Connection\u001b[0m\r\n",
                    "output_type": "stream"
                },
                {
                    "name": "stdout",
                    "text": "\r\n",
                    "output_type": "stream"
                },
                {
                    "name": "stdout",
                    "text": "\u001b[92m    Context Testing Instance Connection on SQL2005Ser2003\u001b[0m\r\n",
                    "output_type": "stream"
                },
                {
                    "name": "stdout",
                    "text": "\u001b[32m      [+] connects successfully to SQL2005Ser2003\u001b[0m",
                    "output_type": "stream"
                },
                {
                    "name": "stdout",
                    "text": "\u001b[90m 37ms\u001b[0m\r\n",
                    "output_type": "stream"
                },
                {
                    "name": "stdout",
                    "text": "\u001b[32m      [+] auth scheme should be Kerberos on SQL2005Ser2003\u001b[0m",
                    "output_type": "stream"
                },
                {
                    "name": "stdout",
                    "text": "\u001b[90m 196ms\u001b[0m\r\n",
                    "output_type": "stream"
                },
                {
                    "name": "stdout",
                    "text": "\u001b[93m      [!] SQL2005Ser2003 is pingable\u001b[0m",
                    "output_type": "stream"
                },
                {
                    "name": "stdout",
                    "text": "\u001b[93m, is skipped\u001b[0m",
                    "output_type": "stream"
                },
                {
                    "name": "stdout",
                    "text": "\u001b[90m 0ms\u001b[0m\r\n",
                    "output_type": "stream"
                },
                {
                    "name": "stdout",
                    "text": "\u001b[93m      [!] SQL2005Ser2003 Is PSRemoteable\u001b[0m",
                    "output_type": "stream"
                },
                {
                    "name": "stdout",
                    "text": "\u001b[93m, is skipped\u001b[0m",
                    "output_type": "stream"
                },
                {
                    "name": "stdout",
                    "text": "\u001b[90m 0ms\u001b[0m\r\n",
                    "output_type": "stream"
                },
                {
                    "name": "stdout",
                    "text": "\r\n",
                    "output_type": "stream"
                },
                {
                    "name": "stdout",
                    "text": "\u001b[92m  Describing Instance Connection\u001b[0m\r\n",
                    "output_type": "stream"
                },
                {
                    "name": "stdout",
                    "text": "\r\n",
                    "output_type": "stream"
                },
                {
                    "name": "stdout",
                    "text": "\u001b[92m    Context Testing Instance Connection on SQL2008Ser12R2\u001b[0m\r\n",
                    "output_type": "stream"
                },
                {
                    "name": "stdout",
                    "text": "\u001b[32m      [+] connects successfully to SQL2008Ser12R2\u001b[0m",
                    "output_type": "stream"
                },
                {
                    "name": "stdout",
                    "text": "\u001b[90m 1ms\u001b[0m\r\n",
                    "output_type": "stream"
                },
                {
                    "name": "stdout",
                    "text": "\u001b[32m      [+] auth scheme should be Kerberos on SQL2008Ser12R2\u001b[0m",
                    "output_type": "stream"
                },
                {
                    "name": "stdout",
                    "text": "\u001b[90m 71ms\u001b[0m\r\n",
                    "output_type": "stream"
                },
                {
                    "name": "stdout",
                    "text": "\u001b[93m      [!] SQL2008Ser12R2 is pingable\u001b[0m",
                    "output_type": "stream"
                },
                {
                    "name": "stdout",
                    "text": "\u001b[93m, is skipped\u001b[0m",
                    "output_type": "stream"
                },
                {
                    "name": "stdout",
                    "text": "\u001b[90m 0ms\u001b[0m\r\n",
                    "output_type": "stream"
                },
                {
                    "name": "stdout",
                    "text": "\u001b[93m      [!] SQL2008Ser12R2 Is PSRemoteable\u001b[0m",
                    "output_type": "stream"
                },
                {
                    "name": "stdout",
                    "text": "\u001b[93m, is skipped\u001b[0m",
                    "output_type": "stream"
                },
                {
                    "name": "stdout",
                    "text": "\u001b[90m 0ms\u001b[0m\r\n",
                    "output_type": "stream"
                },
                {
                    "name": "stdout",
                    "text": "\r\n",
                    "output_type": "stream"
                },
                {
                    "name": "stdout",
                    "text": "\u001b[92m  Describing Instance Connection\u001b[0m\r\n",
                    "output_type": "stream"
                },
                {
                    "name": "stdout",
                    "text": "\r\n",
                    "output_type": "stream"
                },
                {
                    "name": "stdout",
                    "text": "\u001b[92m    Context Testing Instance Connection on SQL2012Ser08AG1\u001b[0m\r\n",
                    "output_type": "stream"
                },
                {
                    "name": "stdout",
                    "text": "\u001b[32m      [+] connects successfully to SQL2012Ser08AG1\u001b[0m",
                    "output_type": "stream"
                },
                {
                    "name": "stdout",
                    "text": "\u001b[90m 1ms\u001b[0m\r\n",
                    "output_type": "stream"
                },
                {
                    "name": "stdout",
                    "text": "\u001b[32m      [+] auth scheme should be Kerberos on SQL2012Ser08AG1\u001b[0m",
                    "output_type": "stream"
                },
                {
                    "name": "stdout",
                    "text": "\u001b[90m 377ms\u001b[0m\r\n",
                    "output_type": "stream"
                },
                {
                    "name": "stdout",
                    "text": "\u001b[93m      [!] SQL2012Ser08AG1 is pingable\u001b[0m",
                    "output_type": "stream"
                },
                {
                    "name": "stdout",
                    "text": "\u001b[93m, is skipped\u001b[0m",
                    "output_type": "stream"
                },
                {
                    "name": "stdout",
                    "text": "\u001b[90m 0ms\u001b[0m\r\n",
                    "output_type": "stream"
                },
                {
                    "name": "stdout",
                    "text": "\u001b[93m      [!] SQL2012Ser08AG1 Is PSRemoteable\u001b[0m",
                    "output_type": "stream"
                },
                {
                    "name": "stdout",
                    "text": "\u001b[93m, is skipped\u001b[0m",
                    "output_type": "stream"
                },
                {
                    "name": "stdout",
                    "text": "\u001b[90m 0ms\u001b[0m\r\n",
                    "output_type": "stream"
                },
                {
                    "name": "stdout",
                    "text": "\r\n",
                    "output_type": "stream"
                },
                {
                    "name": "stdout",
                    "text": "\u001b[92m  Describing Instance Connection\u001b[0m\r\n",
                    "output_type": "stream"
                },
                {
                    "name": "stdout",
                    "text": "\r\n",
                    "output_type": "stream"
                },
                {
                    "name": "stdout",
                    "text": "\u001b[92m    Context Testing Instance Connection on SQL2012Ser08AG2\u001b[0m\r\n",
                    "output_type": "stream"
                },
                {
                    "name": "stdout",
                    "text": "\u001b[32m      [+] connects successfully to SQL2012Ser08AG2\u001b[0m",
                    "output_type": "stream"
                },
                {
                    "name": "stdout",
                    "text": "\u001b[90m 1ms\u001b[0m\r\n",
                    "output_type": "stream"
                },
                {
                    "name": "stdout",
                    "text": "\u001b[32m      [+] auth scheme should be Kerberos on SQL2012Ser08AG2\u001b[0m",
                    "output_type": "stream"
                },
                {
                    "name": "stdout",
                    "text": "\u001b[90m 102ms\u001b[0m\r\n",
                    "output_type": "stream"
                },
                {
                    "name": "stdout",
                    "text": "\u001b[93m      [!] SQL2012Ser08AG2 is pingable\u001b[0m",
                    "output_type": "stream"
                },
                {
                    "name": "stdout",
                    "text": "\u001b[93m, is skipped\u001b[0m",
                    "output_type": "stream"
                },
                {
                    "name": "stdout",
                    "text": "\u001b[90m 0ms\u001b[0m\r\n",
                    "output_type": "stream"
                },
                {
                    "name": "stdout",
                    "text": "\u001b[93m      [!] SQL2012Ser08AG2 Is PSRemoteable\u001b[0m",
                    "output_type": "stream"
                },
                {
                    "name": "stdout",
                    "text": "\u001b[93m, is skipped\u001b[0m",
                    "output_type": "stream"
                },
                {
                    "name": "stdout",
                    "text": "\u001b[90m 0ms\u001b[0m\r\n",
                    "output_type": "stream"
                },
                {
                    "name": "stdout",
                    "text": "\r\n",
                    "output_type": "stream"
                },
                {
                    "name": "stdout",
                    "text": "\u001b[92m  Describing Instance Connection\u001b[0m\r\n",
                    "output_type": "stream"
                },
                {
                    "name": "stdout",
                    "text": "\r\n",
                    "output_type": "stream"
                },
                {
                    "name": "stdout",
                    "text": "\u001b[92m    Context Testing Instance Connection on SQL2012Ser08AG3\u001b[0m\r\n",
                    "output_type": "stream"
                },
                {
                    "name": "stdout",
                    "text": "\u001b[32m      [+] connects successfully to SQL2012Ser08AG3\u001b[0m",
                    "output_type": "stream"
                },
                {
                    "name": "stdout",
                    "text": "\u001b[90m 1ms\u001b[0m\r\n",
                    "output_type": "stream"
                },
                {
                    "name": "stdout",
                    "text": "\u001b[32m      [+] auth scheme should be Kerberos on SQL2012Ser08AG3\u001b[0m",
                    "output_type": "stream"
                },
                {
                    "name": "stdout",
                    "text": "\u001b[90m 487ms\u001b[0m\r\n",
                    "output_type": "stream"
                },
                {
                    "name": "stdout",
                    "text": "\u001b[93m      [!] SQL2012Ser08AG3 is pingable\u001b[0m",
                    "output_type": "stream"
                },
                {
                    "name": "stdout",
                    "text": "\u001b[93m, is skipped\u001b[0m",
                    "output_type": "stream"
                },
                {
                    "name": "stdout",
                    "text": "\u001b[90m 0ms\u001b[0m\r\n",
                    "output_type": "stream"
                },
                {
                    "name": "stdout",
                    "text": "\u001b[93m      [!] SQL2012Ser08AG3 Is PSRemoteable\u001b[0m",
                    "output_type": "stream"
                },
                {
                    "name": "stdout",
                    "text": "\u001b[93m, is skipped\u001b[0m",
                    "output_type": "stream"
                },
                {
                    "name": "stdout",
                    "text": "\u001b[90m 0ms\u001b[0m\r\n",
                    "output_type": "stream"
                },
                {
                    "name": "stdout",
                    "text": "\r\n",
                    "output_type": "stream"
                },
                {
                    "name": "stdout",
                    "text": "\u001b[92m  Describing Instance Connection\u001b[0m\r\n",
                    "output_type": "stream"
                },
                {
                    "name": "stdout",
                    "text": "\r\n",
                    "output_type": "stream"
                },
                {
                    "name": "stdout",
                    "text": "\u001b[92m    Context Testing Instance Connection on SQL2014Ser12R2\u001b[0m\r\n",
                    "output_type": "stream"
                },
                {
                    "name": "stdout",
                    "text": "\u001b[32m      [+] connects successfully to SQL2014Ser12R2\u001b[0m",
                    "output_type": "stream"
                },
                {
                    "name": "stdout",
                    "text": "\u001b[90m 2ms\u001b[0m\r\n",
                    "output_type": "stream"
                },
                {
                    "name": "stdout",
                    "text": "\u001b[32m      [+] auth scheme should be Kerberos on SQL2014Ser12R2\u001b[0m",
                    "output_type": "stream"
                },
                {
                    "name": "stdout",
                    "text": "\u001b[90m 89ms\u001b[0m\r\n",
                    "output_type": "stream"
                },
                {
                    "name": "stdout",
                    "text": "\u001b[93m      [!] SQL2014Ser12R2 is pingable\u001b[0m",
                    "output_type": "stream"
                },
                {
                    "name": "stdout",
                    "text": "\u001b[93m, is skipped\u001b[0m",
                    "output_type": "stream"
                },
                {
                    "name": "stdout",
                    "text": "\u001b[90m 0ms\u001b[0m\r\n",
                    "output_type": "stream"
                },
                {
                    "name": "stdout",
                    "text": "\u001b[93m      [!] SQL2014Ser12R2 Is PSRemoteable\u001b[0m",
                    "output_type": "stream"
                },
                {
                    "name": "stdout",
                    "text": "\u001b[93m, is skipped\u001b[0m",
                    "output_type": "stream"
                },
                {
                    "name": "stdout",
                    "text": "\u001b[90m 0ms\u001b[0m\r\n",
                    "output_type": "stream"
                },
                {
                    "name": "stdout",
                    "text": "\r\n",
                    "output_type": "stream"
                },
                {
                    "name": "stdout",
                    "text": "\u001b[92m  Describing Instance Connection\u001b[0m\r\n",
                    "output_type": "stream"
                },
                {
                    "name": "stdout",
                    "text": "\r\n",
                    "output_type": "stream"
                },
                {
                    "name": "stdout",
                    "text": "\u001b[92m    Context Testing Instance Connection on SQL2016N1\u001b[0m\r\n",
                    "output_type": "stream"
                },
                {
                    "name": "stdout",
                    "text": "\u001b[32m      [+] connects successfully to SQL2016N1\u001b[0m",
                    "output_type": "stream"
                },
                {
                    "name": "stdout",
                    "text": "\u001b[90m 1ms\u001b[0m\r\n",
                    "output_type": "stream"
                },
                {
                    "name": "stdout",
                    "text": "\u001b[32m      [+] auth scheme should be Kerberos on SQL2016N1\u001b[0m",
                    "output_type": "stream"
                },
                {
                    "name": "stdout",
                    "text": "\u001b[90m 177ms\u001b[0m\r\n",
                    "output_type": "stream"
                },
                {
                    "name": "stdout",
                    "text": "\u001b[93m      [!] SQL2016N1 is pingable\u001b[0m",
                    "output_type": "stream"
                },
                {
                    "name": "stdout",
                    "text": "\u001b[93m, is skipped\u001b[0m",
                    "output_type": "stream"
                },
                {
                    "name": "stdout",
                    "text": "\u001b[90m 0ms\u001b[0m\r\n",
                    "output_type": "stream"
                },
                {
                    "name": "stdout",
                    "text": "\u001b[93m      [!] SQL2016N1 Is PSRemoteable\u001b[0m",
                    "output_type": "stream"
                },
                {
                    "name": "stdout",
                    "text": "\u001b[93m, is skipped\u001b[0m",
                    "output_type": "stream"
                },
                {
                    "name": "stdout",
                    "text": "\u001b[90m 0ms\u001b[0m\r\n",
                    "output_type": "stream"
                },
                {
                    "name": "stdout",
                    "text": "\r\n",
                    "output_type": "stream"
                },
                {
                    "name": "stdout",
                    "text": "\u001b[92m  Describing Instance Connection\u001b[0m\r\n",
                    "output_type": "stream"
                },
                {
                    "name": "stdout",
                    "text": "\r\n",
                    "output_type": "stream"
                },
                {
                    "name": "stdout",
                    "text": "\u001b[92m    Context Testing Instance Connection on SQL2016N2\u001b[0m\r\n",
                    "output_type": "stream"
                },
                {
                    "name": "stdout",
                    "text": "\u001b[32m      [+] connects successfully to SQL2016N2\u001b[0m",
                    "output_type": "stream"
                },
                {
                    "name": "stdout",
                    "text": "\u001b[90m 2ms\u001b[0m\r\n",
                    "output_type": "stream"
                },
                {
                    "name": "stdout",
                    "text": "\u001b[32m      [+] auth scheme should be Kerberos on SQL2016N2\u001b[0m",
                    "output_type": "stream"
                },
                {
                    "name": "stdout",
                    "text": "\u001b[90m 135ms\u001b[0m\r\n",
                    "output_type": "stream"
                },
                {
                    "name": "stdout",
                    "text": "\u001b[93m      [!] SQL2016N2 is pingable\u001b[0m",
                    "output_type": "stream"
                },
                {
                    "name": "stdout",
                    "text": "\u001b[93m, is skipped\u001b[0m",
                    "output_type": "stream"
                },
                {
                    "name": "stdout",
                    "text": "\u001b[90m 0ms\u001b[0m\r\n",
                    "output_type": "stream"
                },
                {
                    "name": "stdout",
                    "text": "\u001b[93m      [!] SQL2016N2 Is PSRemoteable\u001b[0m",
                    "output_type": "stream"
                },
                {
                    "name": "stdout",
                    "text": "\u001b[93m, is skipped\u001b[0m",
                    "output_type": "stream"
                },
                {
                    "name": "stdout",
                    "text": "\u001b[90m 0ms\u001b[0m\r\n",
                    "output_type": "stream"
                },
                {
                    "name": "stdout",
                    "text": "\r\n",
                    "output_type": "stream"
                },
                {
                    "name": "stdout",
                    "text": "\u001b[92m  Describing Instance Connection\u001b[0m\r\n",
                    "output_type": "stream"
                },
                {
                    "name": "stdout",
                    "text": "\r\n",
                    "output_type": "stream"
                },
                {
                    "name": "stdout",
                    "text": "\u001b[92m    Context Testing Instance Connection on SQL2016N3\u001b[0m\r\n",
                    "output_type": "stream"
                },
                {
                    "name": "stdout",
                    "text": "\u001b[32m      [+] connects successfully to SQL2016N3\u001b[0m",
                    "output_type": "stream"
                },
                {
                    "name": "stdout",
                    "text": "\u001b[90m 6ms\u001b[0m\r\n",
                    "output_type": "stream"
                },
                {
                    "name": "stdout",
                    "text": "\u001b[32m      [+] auth scheme should be Kerberos on SQL2016N3\u001b[0m",
                    "output_type": "stream"
                },
                {
                    "name": "stdout",
                    "text": "\u001b[90m 119ms\u001b[0m\r\n",
                    "output_type": "stream"
                },
                {
                    "name": "stdout",
                    "text": "\u001b[93m      [!] SQL2016N3 is pingable\u001b[0m",
                    "output_type": "stream"
                },
                {
                    "name": "stdout",
                    "text": "\u001b[93m, is skipped\u001b[0m",
                    "output_type": "stream"
                },
                {
                    "name": "stdout",
                    "text": "\u001b[90m 0ms\u001b[0m\r\n",
                    "output_type": "stream"
                },
                {
                    "name": "stdout",
                    "text": "\u001b[93m      [!] SQL2016N3 Is PSRemoteable\u001b[0m",
                    "output_type": "stream"
                },
                {
                    "name": "stdout",
                    "text": "\u001b[93m, is skipped\u001b[0m",
                    "output_type": "stream"
                },
                {
                    "name": "stdout",
                    "text": "\u001b[90m 0ms\u001b[0m\r\n",
                    "output_type": "stream"
                },
                {
                    "name": "stdout",
                    "text": "\r\n",
                    "output_type": "stream"
                },
                {
                    "name": "stdout",
                    "text": "\u001b[92m  Describing Instance Connection\u001b[0m\r\n",
                    "output_type": "stream"
                },
                {
                    "name": "stdout",
                    "text": "\r\n",
                    "output_type": "stream"
                },
                {
                    "name": "stdout",
                    "text": "\u001b[92m    Context Testing Instance Connection on SQL2017N5\u001b[0m\r\n",
                    "output_type": "stream"
                },
                {
                    "name": "stdout",
                    "text": "\u001b[32m      [+] connects successfully to SQL2017N5\u001b[0m",
                    "output_type": "stream"
                },
                {
                    "name": "stdout",
                    "text": "\u001b[90m 1ms\u001b[0m\r\n",
                    "output_type": "stream"
                },
                {
                    "name": "stdout",
                    "text": "\u001b[32m      [+] auth scheme should be Kerberos on SQL2017N5\u001b[0m",
                    "output_type": "stream"
                },
                {
                    "name": "stdout",
                    "text": "\u001b[90m 108ms\u001b[0m\r\n",
                    "output_type": "stream"
                },
                {
                    "name": "stdout",
                    "text": "\u001b[93m      [!] SQL2017N5 is pingable\u001b[0m",
                    "output_type": "stream"
                },
                {
                    "name": "stdout",
                    "text": "\u001b[93m, is skipped\u001b[0m",
                    "output_type": "stream"
                },
                {
                    "name": "stdout",
                    "text": "\u001b[90m 0ms\u001b[0m\r\n",
                    "output_type": "stream"
                },
                {
                    "name": "stdout",
                    "text": "\u001b[93m      [!] SQL2017N5 Is PSRemoteable\u001b[0m",
                    "output_type": "stream"
                },
                {
                    "name": "stdout",
                    "text": "\u001b[93m, is skipped\u001b[0m",
                    "output_type": "stream"
                },
                {
                    "name": "stdout",
                    "text": "\u001b[90m 0ms\u001b[0m\r\n",
                    "output_type": "stream"
                },
                {
                    "name": "stdout",
                    "text": "\r\n",
                    "output_type": "stream"
                },
                {
                    "name": "stdout",
                    "text": "\u001b[92m  Describing Instance Connection\u001b[0m\r\n",
                    "output_type": "stream"
                },
                {
                    "name": "stdout",
                    "text": "\r\n",
                    "output_type": "stream"
                },
                {
                    "name": "stdout",
                    "text": "\u001b[92m    Context Testing Instance Connection on SQL2019N5\u001b[0m\r\n",
                    "output_type": "stream"
                },
                {
                    "name": "stdout",
                    "text": "\u001b[32m      [+] connects successfully to SQL2019N5\u001b[0m",
                    "output_type": "stream"
                },
                {
                    "name": "stdout",
                    "text": "\u001b[90m 1ms\u001b[0m\r\n",
                    "output_type": "stream"
                },
                {
                    "name": "stdout",
                    "text": "\u001b[32m      [+] auth scheme should be Kerberos on SQL2019N5\u001b[0m",
                    "output_type": "stream"
                },
                {
                    "name": "stdout",
                    "text": "\u001b[90m 65ms\u001b[0m\r\n",
                    "output_type": "stream"
                },
                {
                    "name": "stdout",
                    "text": "\u001b[93m      [!] SQL2019N5 is pingable\u001b[0m",
                    "output_type": "stream"
                },
                {
                    "name": "stdout",
                    "text": "\u001b[93m, is skipped\u001b[0m",
                    "output_type": "stream"
                },
                {
                    "name": "stdout",
                    "text": "\u001b[90m 0ms\u001b[0m\r\n",
                    "output_type": "stream"
                },
                {
                    "name": "stdout",
                    "text": "\u001b[93m      [!] SQL2019N5 Is PSRemoteable\u001b[0m",
                    "output_type": "stream"
                },
                {
                    "name": "stdout",
                    "text": "\u001b[93m, is skipped\u001b[0m",
                    "output_type": "stream"
                },
                {
                    "name": "stdout",
                    "text": "\u001b[90m 0ms\u001b[0m\r\n",
                    "output_type": "stream"
                },
                {
                    "name": "stdout",
                    "text": "\u001b[97mTests completed in 5.6s\u001b[0m\r\n",
                    "output_type": "stream"
                },
                {
                    "name": "stdout",
                    "text": "\u001b[32mTests Passed: 22, \u001b[0m",
                    "output_type": "stream"
                },
                {
                    "name": "stdout",
                    "text": "\u001b[90mFailed: 0, \u001b[0m",
                    "output_type": "stream"
                },
                {
                    "name": "stdout",
                    "text": "\u001b[93mSkipped: 22, \u001b[0m",
                    "output_type": "stream"
                },
                {
                    "name": "stdout",
                    "text": "\u001b[90mPending: 0, \u001b[0m",
                    "output_type": "stream"
                },
                {
                    "name": "stdout",
                    "text": "\u001b[90mInconclusive: 0 \u001b[0m\r\n",
                    "output_type": "stream"
                },
                {
                    "name": "stdout",
                    "text": "Name                     Value Description\r\n",
                    "output_type": "stream"
                },
                {
                    "name": "stdout",
                    "text": "----                     ----- -----------\r\n",
                    "output_type": "stream"
                },
                {
                    "name": "stdout",
                    "text": "skip.connection.ping      True Skip the ping check for connectivity\r\n",
                    "output_type": "stream"
                },
                {
                    "name": "stdout",
                    "text": "skip.connection.remoting  True Skip PowerShell remoting check for connectivity\r\n",
                    "output_type": "stream"
                },
                {
                    "name": "stdout",
                    "text": "\r\n",
                    "output_type": "stream"
                }
            ],
            "execution_count": 8
        },
        {
            "cell_type": "markdown",
            "source": [
                "If any are not, lets start them"
            ],
            "metadata": {
                "azdata_cell_guid": "7145bcde-390c-49eb-b7d9-76a781194a34"
            }
        },
        {
            "cell_type": "code",
            "source": [
                "$SQLInstances = 'SQL2005Ser2003', 'SQL2008Ser12R2', 'SQL2012Ser08AG1', 'SQL2012Ser08AG2', 'SQL2012Ser08AG3', 'SQL2014Ser12R2', 'SQL2016N1', 'SQL2016N2', 'SQL2016N3', 'SQL2017N5', 'SQL2019N5'\r\n",
                "foreach ($Instance in $SQlinstances) {\r\n",
                "    if ((Get-Vm -ComputerName BeardNuc, BeardNUc2 -Name $instance).state -ne 'Running') {\r\n",
                "        Write-Output \"Need to start $instance\"\r\n",
                "      #  Start-Vm $Instance\r\n",
                "      #  Start-Sleep -Seconds 60\r\n",
                "    }\r\n",
                "    else {\r\n",
                "    Write-Output \"$Instance is already running\" \r\n",
                "    }\r\n",
                "}"
            ],
            "metadata": {
                "azdata_cell_guid": "c1396d93-3b7e-45e0-87f0-592828398d0a"
            },
            "outputs": [
                {
                    "name": "stdout",
                    "text": "SQL2005Ser2003 is already running\r\n",
                    "output_type": "stream"
                },
                {
                    "name": "stdout",
                    "text": "SQL2008Ser12R2 is already running\r\n",
                    "output_type": "stream"
                },
                {
                    "name": "stdout",
                    "text": "SQL2012Ser08AG1 is already running\r\n",
                    "output_type": "stream"
                },
                {
                    "name": "stdout",
                    "text": "SQL2012Ser08AG2 is already running\r\n",
                    "output_type": "stream"
                },
                {
                    "name": "stdout",
                    "text": "SQL2012Ser08AG3 is already running\r\n",
                    "output_type": "stream"
                },
                {
                    "name": "stdout",
                    "text": "SQL2014Ser12R2 is already running\r\n",
                    "output_type": "stream"
                },
                {
                    "name": "stdout",
                    "text": "SQL2016N1 is already running\r\n",
                    "output_type": "stream"
                },
                {
                    "name": "stdout",
                    "text": "SQL2016N2 is already running\r\n",
                    "output_type": "stream"
                },
                {
                    "name": "stdout",
                    "text": "SQL2016N3 is already running\r\n",
                    "output_type": "stream"
                },
                {
                    "name": "stdout",
                    "text": "SQL2017N5 is already running\r\n",
                    "output_type": "stream"
                },
                {
                    "name": "stdout",
                    "text": "SQL2019N5 is already running\r\n",
                    "output_type": "stream"
                }
            ],
            "execution_count": 7
        },
        {
            "cell_type": "code",
            "source": [
                "Get-DbcConfig | Where Name -like '*remot*'\r\n",
                "Get-DbcCheck  InstanceConnection | fl"
            ],
            "metadata": {
                "azdata_cell_guid": "56b24d29-2486-4395-bb52-e72203f35807"
            },
            "outputs": [],
            "execution_count": null
        }
    ]
}