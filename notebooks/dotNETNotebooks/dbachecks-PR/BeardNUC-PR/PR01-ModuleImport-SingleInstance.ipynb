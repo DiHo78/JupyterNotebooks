{
    "metadata": {
        "kernelspec": {
            "name": ".net-powershell",
            "display_name": ".NET (PowerShell)"
        },
        "language_info": {
            "name": "PowerShell",
            "version": "7.0",
            "mimetype": "text/x-powershell",
            "file_extension": ".ps1",
            "pygments_lexer": "powershell"
        }
    },
    "nbformat_minor": 2,
    "nbformat": 4,
    "cells": [
        {
            "cell_type": "markdown",
            "source": [
                "# dbachecks PR check on Beard NUC\n",
                "\n",
                "Rob uses this process to make sure that changes will work in an AD estate with a variety of versions"
            ],
            "metadata": {
                "azdata_cell_guid": "029e86a7-6922-45dd-aa18-bce0949046df"
            }
        },
        {
            "cell_type": "markdown",
            "source": [
                "First we must check the status of the local development folder"
            ],
            "metadata": {
                "azdata_cell_guid": "f7316783-775a-4e34-8b44-63cdf6eec2f0"
            }
        },
        {
            "cell_type": "code",
            "source": [
                "cd D:\\OneDrive\\Documents\\GitHub\\dbachecks\n",
                "# git checkout development\n",
                "git status"
            ],
            "metadata": {
                "azdata_cell_guid": "f4da549f-203d-42d3-883a-b05f195564a3"
            },
            "outputs": [
{
    "name": "stdout",
    "text": "On branch pr/jpomfret/768-1\r\n",
    "output_type": "stream"
}, {
    "name": "stdout",
    "text": "Your branch is up to date with 'jpomfret/suspectpagelimit'.\r\n",
    "output_type": "stream"
}, {
    "name": "stdout",
    "text": "\r\n",
    "output_type": "stream"
}, {
    "name": "stdout",
    "text": "nothing to commit, working tree clean\r\n",
    "output_type": "stream"
}
],
            "execution_count": 1
        },
        {
            "cell_type": "markdown",
            "source": [
                "First we need to check out the PR locally. To do this go to Github and open the PR and at the bottom you will see\n",
                "\n",
                "![command line instructions](.\\Images\\commandline.png)\n",
                "\n",
                "Click on that and you will see the code that you need\n",
                "\n",
                "![command line details](.\\Images\\commandlinedetails.png)\n"
            ],
            "metadata": {
                "azdata_cell_guid": "e0349c39-5805-4ddd-b8c1-9fbc59d07b36"
            }
        },
        {
            "cell_type": "code",
            "source": [
                "#git checkout -b tboggiano-serviceaccountadmins development\n",
                "#git pull https://github.com/tboggiano/dbachecks.git serviceaccountadmins"
            ],
            "metadata": {
                "azdata_cell_guid": "d1c8c520-bbf4-4600-89a5-bb0c86fd9cce"
            },
            "outputs": [],
            "execution_count": null
        },
        {
            "cell_type": "markdown",
            "source": [
                "Sometimes there are merge conflicts - these need to be resolved - i will do this i n Visual Studio Code"
            ],
            "metadata": {
                "azdata_cell_guid": "b734fe5e-6b65-443c-8820-ff114d17d635"
            }
        },
        {
            "cell_type": "code",
            "source": [
                "#git merge development"
            ],
            "metadata": {
                "azdata_cell_guid": "af26bf07-d57e-4fb0-8b95-35c8205ae7bd"
            },
            "outputs": [],
            "execution_count": null
        },
        {
            "cell_type": "markdown",
            "source": [
                "First we need to import the module from source control - I normally use verbose to see how it is going\n"
            ],
            "metadata": {
                "azdata_cell_guid": "005e283c-3dcc-472b-94fc-071b914b899c"
            }
        },
        {
            "cell_type": "code",
            "source": [
                "Import-Module .\\dbachecks.psd1 -Verbose\n",
                "$null = Reset-DbcConfig"
            ],
            "metadata": {
                "azdata_cell_guid": "723e4fcc-cfa8-476d-8757-10ec69f1a17f"
            },
            "outputs": [
{
    "name": "stdout",
    "text": "\u001b[93mVERBOSE: Loading module from path 'D:\\OneDrive\\Documents\\GitHub\\dbachecks\\dbachecks.psd1'.\u001b[0m\r\n",
    "output_type": "stream"
}, {
    "name": "stdout",
    "text": "\u001b[93mVERBOSE: Loading 'FormatsToProcess' from path 'D:\\OneDrive\\Documents\\GitHub\\dbachecks\\xml\\dbachecks.Format.ps1xml'.\u001b[0m\r\n",
    "output_type": "stream"
}, {
    "name": "stdout",
    "text": "\u001b[93mVERBOSE: Loading module from path 'D:\\OneDrive\\Documents\\GitHub\\dbachecks\\dbachecks.psm1'.\u001b[0m\r\n",
    "output_type": "stream"
}, {
    "name": "stdout",
    "text": "\u001b[93mVERBOSE: Exporting function 'Import-ModuleFile'.\u001b[0m\r\n",
    "output_type": "stream"
}, {
    "name": "stdout",
    "text": "\u001b[93mVERBOSE: Exporting function 'Get-CheckFile'.\u001b[0m\r\n",
    "output_type": "stream"
}, {
    "name": "stdout",
    "text": "\u001b[93mVERBOSE: Exporting function 'Get-CheckInformation'.\u001b[0m\r\n",
    "output_type": "stream"
}, {
    "name": "stdout",
    "text": "\u001b[93mVERBOSE: Exporting function 'Get-CheckRepo'.\u001b[0m\r\n",
    "output_type": "stream"
}, {
    "name": "stdout",
    "text": "\u001b[93mVERBOSE: Exporting function 'Get-ComputerName'.\u001b[0m\r\n",
    "output_type": "stream"
}, {
    "name": "stdout",
    "text": "\u001b[93mVERBOSE: Exporting function 'Get-DatabaseDetail'.\u001b[0m\r\n",
    "output_type": "stream"
}, {
    "name": "stdout",
    "text": "\u001b[93mVERBOSE: Exporting function 'Get-Instance'.\u001b[0m\r\n",
    "output_type": "stream"
}, {
    "name": "stdout",
    "text": "\u001b[93mVERBOSE: Exporting function 'Get-Version'.\u001b[0m\r\n",
    "output_type": "stream"
}, {
    "name": "stdout",
    "text": "\u001b[93mVERBOSE: Exporting function 'Invoke-ConfigurationScript'.\u001b[0m\r\n",
    "output_type": "stream"
}, {
    "name": "stdout",
    "text": "\u001b[93mVERBOSE: Exporting function 'New-Json'.\u001b[0m\r\n",
    "output_type": "stream"
}, {
    "name": "stdout",
    "text": "\u001b[93mVERBOSE: Exporting function 'Select-DefaultView'.\u001b[0m\r\n",
    "output_type": "stream"
}, {
    "name": "stdout",
    "text": "\u001b[93mVERBOSE: Exporting function 'Set-DatabaseForIntegrationTesting'.\u001b[0m\r\n",
    "output_type": "stream"
}, {
    "name": "stdout",
    "text": "\u001b[93mVERBOSE: Exporting function 'Clear-DbcPowerBiDataSource'.\u001b[0m\r\n",
    "output_type": "stream"
}, {
    "name": "stdout",
    "text": "\u001b[93mVERBOSE: Exporting function 'Export-DbcConfig'.\u001b[0m\r\n",
    "output_type": "stream"
}, {
    "name": "stdout",
    "text": "\u001b[93mVERBOSE: Exporting function 'Get-DbcCheck'.\u001b[0m\r\n",
    "output_type": "stream"
}, {
    "name": "stdout",
    "text": "\u001b[93mVERBOSE: Exporting function 'Get-DbcConfig'.\u001b[0m\r\n",
    "output_type": "stream"
}, {
    "name": "stdout",
    "text": "\u001b[93mVERBOSE: Exporting function 'Get-DbcConfigValue'.\u001b[0m\r\n",
    "output_type": "stream"
}, {
    "name": "stdout",
    "text": "\u001b[93mVERBOSE: Exporting function 'Get-DbcReleaseNote'.\u001b[0m\r\n",
    "output_type": "stream"
}, {
    "name": "stdout",
    "text": "\u001b[93mVERBOSE: Exporting function 'Get-DbcTagCollection'.\u001b[0m\r\n",
    "output_type": "stream"
}, {
    "name": "stdout",
    "text": "\u001b[93mVERBOSE: Exporting function 'Import-DbcConfig'.\u001b[0m\r\n",
    "output_type": "stream"
}, {
    "name": "stdout",
    "text": "\u001b[93mVERBOSE: Exporting function 'Invoke-DbcCheck'.\u001b[0m\r\n",
    "output_type": "stream"
}, {
    "name": "stdout",
    "text": "\u001b[93mVERBOSE: Exporting function 'Invoke-DbcConfigFile'.\u001b[0m\r\n",
    "output_type": "stream"
}, {
    "name": "stdout",
    "text": "\u001b[93mVERBOSE: Exporting function 'Reset-DbcConfig'.\u001b[0m\r\n",
    "output_type": "stream"
}, {
    "name": "stdout",
    "text": "\u001b[93mVERBOSE: Exporting function 'Save-DbcRequiredModules'.\u001b[0m\r\n",
    "output_type": "stream"
}, {
    "name": "stdout",
    "text": "\u001b[93mVERBOSE: Exporting function 'Set-DbcConfig'.\u001b[0m\r\n",
    "output_type": "stream"
}, {
    "name": "stdout",
    "text": "\u001b[93mVERBOSE: Exporting function 'Start-DbcPowerBi'.\u001b[0m\r\n",
    "output_type": "stream"
}, {
    "name": "stdout",
    "text": "\u001b[93mVERBOSE: Exporting function 'Update-DbcPowerBiDataSource'.\u001b[0m\r\n",
    "output_type": "stream"
}, {
    "name": "stdout",
    "text": "\u001b[93mVERBOSE: Exporting function 'Update-DbcRequiredModules'.\u001b[0m\r\n",
    "output_type": "stream"
}, {
    "name": "stdout",
    "text": "\u001b[93mVERBOSE: Importing function 'Clear-DbcPowerBiDataSource'.\u001b[0m\r\n",
    "output_type": "stream"
}, {
    "name": "stdout",
    "text": "\u001b[93mVERBOSE: Importing function 'Export-DbcConfig'.\u001b[0m\r\n",
    "output_type": "stream"
}, {
    "name": "stdout",
    "text": "\u001b[93mVERBOSE: Importing function 'Get-DbcCheck'.\u001b[0m\r\n",
    "output_type": "stream"
}, {
    "name": "stdout",
    "text": "\u001b[93mVERBOSE: Importing function 'Get-DbcConfig'.\u001b[0m\r\n",
    "output_type": "stream"
}, {
    "name": "stdout",
    "text": "\u001b[93mVERBOSE: Importing function 'Get-DbcConfigValue'.\u001b[0m\r\n",
    "output_type": "stream"
}, {
    "name": "stdout",
    "text": "\u001b[93mVERBOSE: Importing function 'Get-DbcReleaseNote'.\u001b[0m\r\n",
    "output_type": "stream"
}, {
    "name": "stdout",
    "text": "\u001b[93mVERBOSE: Importing function 'Get-DbcTagCollection'.\u001b[0m\r\n",
    "output_type": "stream"
}, {
    "name": "stdout",
    "text": "\u001b[93mVERBOSE: Importing function 'Import-DbcConfig'.\u001b[0m\r\n",
    "output_type": "stream"
}, {
    "name": "stdout",
    "text": "\u001b[93mVERBOSE: Importing function 'Invoke-DbcCheck'.\u001b[0m\r\n",
    "output_type": "stream"
}, {
    "name": "stdout",
    "text": "\u001b[93mVERBOSE: Importing function 'Invoke-DbcConfigFile'.\u001b[0m\r\n",
    "output_type": "stream"
}, {
    "name": "stdout",
    "text": "\u001b[93mVERBOSE: Importing function 'Reset-DbcConfig'.\u001b[0m\r\n",
    "output_type": "stream"
}, {
    "name": "stdout",
    "text": "\u001b[93mVERBOSE: Importing function 'Save-DbcRequiredModules'.\u001b[0m\r\n",
    "output_type": "stream"
}, {
    "name": "stdout",
    "text": "\u001b[93mVERBOSE: Importing function 'Set-DbcConfig'.\u001b[0m\r\n",
    "output_type": "stream"
}, {
    "name": "stdout",
    "text": "\u001b[93mVERBOSE: Importing function 'Start-DbcPowerBi'.\u001b[0m\r\n",
    "output_type": "stream"
}, {
    "name": "stdout",
    "text": "\u001b[93mVERBOSE: Importing function 'Update-DbcPowerBiDataSource'.\u001b[0m\r\n",
    "output_type": "stream"
}, {
    "name": "stdout",
    "text": "\u001b[93mVERBOSE: Importing function 'Update-DbcRequiredModules'.\u001b[0m\r\n",
    "output_type": "stream"
}
],
            "execution_count": 2
        },
        {
            "cell_type": "code",
            "source": [
                "pwd"
            ],
            "metadata": {
                "azdata_cell_guid": "a0a45eac-6275-45d9-8626-671967b1efc6"
            },
            "outputs": [
                {
                    "name": "stdout",
                    "text": "\r\n",
                    "output_type": "stream"
                },
                {
                    "name": "stdout",
                    "text": "Path\r\n",
                    "output_type": "stream"
                },
                {
                    "name": "stdout",
                    "text": "----\r\n",
                    "output_type": "stream"
                },
                {
                    "name": "stdout",
                    "text": "D:\\OneDrive\\Documents\\GitHub\\dbachecks\r\n",
                    "output_type": "stream"
                },
                {
                    "name": "stdout",
                    "text": "\r\n",
                    "output_type": "stream"
                }
            ],
            "execution_count": 4
        },
        {
            "cell_type": "markdown",
            "source": [
                "Excellent, that worked. Now to run a single check"
            ],
            "metadata": {
                "azdata_cell_guid": "bfa20770-9e15-411a-9d80-7b00a0757ec4"
            }
        },
        {
            "cell_type": "code",
            "source": [
                "Invoke-DbcCheck -SqlInstance SQL2017N5 -Check AutoClose"
            ],
            "metadata": {
                "azdata_cell_guid": "404ee859-caed-4264-930d-43ded084016f"
            },
            "outputs": [
{
    "name": "stdout",
    "text": "\u001b[97m    ____            __\r\n   / __ \\___  _____/ /____  _____\r\n  / /_/ / _ \\/ ___/ __/ _ \\/ ___/\r\n / ____/  __(__  ) /_/  __/ /\r\n/_/    \\___/____/\\__/\\___/_/\r\nPester v4.9.0\r\nExecuting all tests in 'D:\\OneDrive\\Documents\\GitHub\\dbachecks\\checks\\Database.Tests.ps1' with Tags AutoClose\u001b[0m\r\n",
    "output_type": "stream"
}, {
    "name": "stdout",
    "text": "\r\n",
    "output_type": "stream"
}, {
    "name": "stdout",
    "text": "\u001b[92mExecuting script D:\\OneDrive\\Documents\\GitHub\\dbachecks\\checks\\Database.Tests.ps1\u001b[0m\r\n",
    "output_type": "stream"
}, {
    "name": "stdout",
    "text": "\r\n",
    "output_type": "stream"
}, {
    "name": "stdout",
    "text": "\u001b[92m  Describing Auto Close\u001b[0m\r\n",
    "output_type": "stream"
}, {
    "name": "stdout",
    "text": "\r\n",
    "output_type": "stream"
}, {
    "name": "stdout",
    "text": "\u001b[92m    Context Testing Auto Close on SQL2017N5\u001b[0m\r\n",
    "output_type": "stream"
}, {
    "name": "stdout",
    "text": "\u001b[32m      [+] ADonutFactory on SQL2017N5 should have Auto Close set to False\u001b[0m",
    "output_type": "stream"
}, {
    "name": "stdout",
    "text": "\u001b[90m 501ms\u001b[0m\r\n",
    "output_type": "stream"
}, {
    "name": "stdout",
    "text": "\u001b[32m      [+] ASausageFactory on SQL2017N5 should have Auto Close set to False\u001b[0m",
    "output_type": "stream"
}, {
    "name": "stdout",
    "text": "\u001b[90m 678ms\u001b[0m\r\n",
    "output_type": "stream"
}, {
    "name": "stdout",
    "text": "\u001b[32m      [+] ASockFactory on SQL2017N5 should have Auto Close set to False\u001b[0m",
    "output_type": "stream"
}, {
    "name": "stdout",
    "text": "\u001b[90m 157ms\u001b[0m\r\n",
    "output_type": "stream"
}, {
    "name": "stdout",
    "text": "\u001b[32m      [+] BeardNotebooks on SQL2017N5 should have Auto Close set to False\u001b[0m",
    "output_type": "stream"
}, {
    "name": "stdout",
    "text": "\u001b[90m 186ms\u001b[0m\r\n",
    "output_type": "stream"
}, {
    "name": "stdout",
    "text": "\u001b[32m      [+] emptydbachecks on SQL2017N5 should have Auto Close set to False\u001b[0m",
    "output_type": "stream"
}, {
    "name": "stdout",
    "text": "\u001b[90m 523ms\u001b[0m\r\n",
    "output_type": "stream"
}, {
    "name": "stdout",
    "text": "\u001b[32m      [+] master on SQL2017N5 should have Auto Close set to False\u001b[0m",
    "output_type": "stream"
}, {
    "name": "stdout",
    "text": "\u001b[90m 132ms\u001b[0m\r\n",
    "output_type": "stream"
}, {
    "name": "stdout",
    "text": "\u001b[32m      [+] model on SQL2017N5 should have Auto Close set to False\u001b[0m",
    "output_type": "stream"
}, {
    "name": "stdout",
    "text": "\u001b[90m 185ms\u001b[0m\r\n",
    "output_type": "stream"
}, {
    "name": "stdout",
    "text": "\u001b[32m      [+] msdb on SQL2017N5 should have Auto Close set to False\u001b[0m",
    "output_type": "stream"
}, {
    "name": "stdout",
    "text": "\u001b[90m 172ms\u001b[0m\r\n",
    "output_type": "stream"
}, {
    "name": "stdout",
    "text": "\u001b[32m      [+] SqlWatch on SQL2017N5 should have Auto Close set to False\u001b[0m",
    "output_type": "stream"
}, {
    "name": "stdout",
    "text": "\u001b[90m 170ms\u001b[0m\r\n",
    "output_type": "stream"
}, {
    "name": "stdout",
    "text": "\u001b[32m      [+] SSISDB on SQL2017N5 should have Auto Close set to False\u001b[0m",
    "output_type": "stream"
}, {
    "name": "stdout",
    "text": "\u001b[90m 146ms\u001b[0m\r\n",
    "output_type": "stream"
}, {
    "name": "stdout",
    "text": "\u001b[32m      [+] tempdb on SQL2017N5 should have Auto Close set to False\u001b[0m",
    "output_type": "stream"
}, {
    "name": "stdout",
    "text": "\u001b[90m 120ms\u001b[0m\r\n",
    "output_type": "stream"
}, {
    "name": "stdout",
    "text": "\u001b[97mTests completed in 8.4s\u001b[0m\r\n",
    "output_type": "stream"
}, {
    "name": "stdout",
    "text": "\u001b[32mTests Passed: 11, \u001b[0m",
    "output_type": "stream"
}, {
    "name": "stdout",
    "text": "\u001b[90mFailed: 0, \u001b[0m",
    "output_type": "stream"
}, {
    "name": "stdout",
    "text": "\u001b[90mSkipped: 0, \u001b[0m",
    "output_type": "stream"
}, {
    "name": "stdout",
    "text": "\u001b[90mPending: 0, \u001b[0m",
    "output_type": "stream"
}, {
    "name": "stdout",
    "text": "\u001b[90mInconclusive: 0 \u001b[0m\r\n",
    "output_type": "stream"
}
],
            "execution_count": 4
        },
        {
            "cell_type": "markdown",
            "source": [
                "Run a single check with various Shows"
            ],
            "metadata": {
                "azdata_cell_guid": "ed4acd8e-abe5-4af3-af06-e77239895184"
            }
        },
        {
            "cell_type": "code",
            "source": [
                "Invoke-DbcCheck -SqlInstance SQL2017N5 -Check FailedJob -Show Fails"
            ],
            "metadata": {
                "azdata_cell_guid": "6ee79b88-23c3-493b-89c6-c3b81cbbafa9"
            },
            "outputs": [
{
    "name": "stdout",
    "text": "\u001b[97m    ____            __\r\n   / __ \\___  _____/ /____  _____\r\n  / /_/ / _ \\/ ___/ __/ _ \\/ ___/\r\n / ____/  __(__  ) /_/  __/ /\r\n/_/    \\___/____/\\__/\\___/_/\r\nPester v4.9.0\r\nExecuting all tests in 'D:\\OneDrive\\Documents\\GitHub\\dbachecks\\checks\\Agent.Tests.ps1' with Tags FailedJob\u001b[0m\r\n",
    "output_type": "stream"
}, {
    "name": "stdout",
    "text": "\r\n",
    "output_type": "stream"
}, {
    "name": "stdout",
    "text": "\u001b[92mExecuting script D:\\OneDrive\\Documents\\GitHub\\dbachecks\\checks\\Agent.Tests.ps1\u001b[0m\r\n",
    "output_type": "stream"
}, {
    "name": "stdout",
    "text": "\r\n",
    "output_type": "stream"
}, {
    "name": "stdout",
    "text": "\u001b[92m  Describing Failed Jobs\u001b[0m\r\n",
    "output_type": "stream"
}, {
    "name": "stdout",
    "text": "\r\n",
    "output_type": "stream"
}, {
    "name": "stdout",
    "text": "\u001b[92m    Context Checking for failed enabled jobs since 06/13/2020 07:20:19 on SQL2017N5\u001b[0m\r\n",
    "output_type": "stream"
}, {
    "name": "stdout",
    "text": "\u001b[91m      [-] Gather SQLWatch Data's last run outcome on SQL2017N5 is Failed\u001b[0m",
    "output_type": "stream"
}, {
    "name": "stdout",
    "text": "\u001b[90m 8ms\u001b[0m\r\n",
    "output_type": "stream"
}, {
    "name": "stdout",
    "text": "\u001b[91m        Expected 'Succeeded', because All Agent Jobs should have succeed - you need to investigate the failed jobs, but got Failed.\u001b[0m\r\n",
    "output_type": "stream"
}, {
    "name": "stdout",
    "text": "\u001b[91m        169:                                         $psitem.LastRunOutcome | Should -Be \"Succeeded\" -Because 'All Agent Jobs should have succeed - you need to investigate the failed jobs'\u001b[0m\r\n",
    "output_type": "stream"
}, {
    "name": "stdout",
    "text": "\u001b[91m        at <ScriptBlock>, D:\\OneDrive\\Documents\\GitHub\\dbachecks\\checks\\Agent.Tests.ps1: line 169\u001b[0m\r\n",
    "output_type": "stream"
}, {
    "name": "stdout",
    "text": "\u001b[97mTests completed in 22.46s\u001b[0m\r\n",
    "output_type": "stream"
}, {
    "name": "stdout",
    "text": "\u001b[97mTests Passed: 16, \u001b[0m",
    "output_type": "stream"
}, {
    "name": "stdout",
    "text": "\u001b[91mFailed: 1, \u001b[0m",
    "output_type": "stream"
}, {
    "name": "stdout",
    "text": "\u001b[90mSkipped: 0, \u001b[0m",
    "output_type": "stream"
}, {
    "name": "stdout",
    "text": "\u001b[90mPending: 0, \u001b[0m",
    "output_type": "stream"
}, {
    "name": "stdout",
    "text": "\u001b[90mInconclusive: 0 \u001b[0m\r\n",
    "output_type": "stream"
}
],
            "execution_count": 5
        },
        {
            "cell_type": "code",
            "source": [
                "Invoke-DbcCheck -SqlInstance SQL2017N5 -Check SuspectPage"
            ],
            "metadata": {
                "azdata_cell_guid": "892dcdd3-f954-435b-8f4c-9cc024b2c212"
            },
            "outputs": [
                {
                    "name": "stdout",
                    "text": "\u001b[97m    ____            __\r\n   / __ \\___  _____/ /____  _____\r\n  / /_/ / _ \\/ ___/ __/ _ \\/ ___/\r\n / ____/  __(__  ) /_/  __/ /\r\n/_/    \\___/____/\\__/\\___/_/\r\nPester v4.9.0\r\nExecuting all tests in 'D:\\OneDrive\\Documents\\GitHub\\dbachecks\\checks\\Database.Tests.ps1' with Tags SuspectPage\u001b[0m\r\n",
                    "output_type": "stream"
                },
                {
                    "name": "stdout",
                    "text": "\r\n",
                    "output_type": "stream"
                },
                {
                    "name": "stdout",
                    "text": "\u001b[92mExecuting script D:\\OneDrive\\Documents\\GitHub\\dbachecks\\checks\\Database.Tests.ps1\u001b[0m\r\n",
                    "output_type": "stream"
                },
                {
                    "name": "stdout",
                    "text": "\r\n",
                    "output_type": "stream"
                },
                {
                    "name": "stdout",
                    "text": "\u001b[92m  Describing Suspect Page\u001b[0m\r\n",
                    "output_type": "stream"
                },
                {
                    "name": "stdout",
                    "text": "\r\n",
                    "output_type": "stream"
                },
                {
                    "name": "stdout",
                    "text": "\u001b[92m    Context Testing suspect pages on SQL2017N5\u001b[0m\r\n",
                    "output_type": "stream"
                },
                {
                    "name": "stdout",
                    "text": "\u001b[32m      [+] Database ADonutFactory should return 0 suspect pages on SQL2017N5\u001b[0m",
                    "output_type": "stream"
                },
                {
                    "name": "stdout",
                    "text": "\u001b[90m 11ms\u001b[0m\r\n",
                    "output_type": "stream"
                },
                {
                    "name": "stdout",
                    "text": "\u001b[32m      [+] Database ASausageFactory should return 0 suspect pages on SQL2017N5\u001b[0m",
                    "output_type": "stream"
                },
                {
                    "name": "stdout",
                    "text": "\u001b[90m 1ms\u001b[0m\r\n",
                    "output_type": "stream"
                },
                {
                    "name": "stdout",
                    "text": "\u001b[32m      [+] Database ASockFactory should return 0 suspect pages on SQL2017N5\u001b[0m",
                    "output_type": "stream"
                },
                {
                    "name": "stdout",
                    "text": "\u001b[90m 1ms\u001b[0m\r\n",
                    "output_type": "stream"
                },
                {
                    "name": "stdout",
                    "text": "\u001b[32m      [+] Database BeardNotebooks should return 0 suspect pages on SQL2017N5\u001b[0m",
                    "output_type": "stream"
                },
                {
                    "name": "stdout",
                    "text": "\u001b[90m 2ms\u001b[0m\r\n",
                    "output_type": "stream"
                },
                {
                    "name": "stdout",
                    "text": "\u001b[32m      [+] Database emptydbachecks should return 0 suspect pages on SQL2017N5\u001b[0m",
                    "output_type": "stream"
                },
                {
                    "name": "stdout",
                    "text": "\u001b[90m 3ms\u001b[0m\r\n",
                    "output_type": "stream"
                },
                {
                    "name": "stdout",
                    "text": "\u001b[32m      [+] Database master should return 0 suspect pages on SQL2017N5\u001b[0m",
                    "output_type": "stream"
                },
                {
                    "name": "stdout",
                    "text": "\u001b[90m 2ms\u001b[0m\r\n",
                    "output_type": "stream"
                },
                {
                    "name": "stdout",
                    "text": "\u001b[32m      [+] Database model should return 0 suspect pages on SQL2017N5\u001b[0m",
                    "output_type": "stream"
                },
                {
                    "name": "stdout",
                    "text": "\u001b[90m 4ms\u001b[0m\r\n",
                    "output_type": "stream"
                },
                {
                    "name": "stdout",
                    "text": "\u001b[32m      [+] Database msdb should return 0 suspect pages on SQL2017N5\u001b[0m",
                    "output_type": "stream"
                },
                {
                    "name": "stdout",
                    "text": "\u001b[90m 2ms\u001b[0m\r\n",
                    "output_type": "stream"
                },
                {
                    "name": "stdout",
                    "text": "\u001b[32m      [+] Database SqlWatch should return 0 suspect pages on SQL2017N5\u001b[0m",
                    "output_type": "stream"
                },
                {
                    "name": "stdout",
                    "text": "\u001b[90m 2ms\u001b[0m\r\n",
                    "output_type": "stream"
                },
                {
                    "name": "stdout",
                    "text": "\u001b[32m      [+] Database SSISDB should return 0 suspect pages on SQL2017N5\u001b[0m",
                    "output_type": "stream"
                },
                {
                    "name": "stdout",
                    "text": "\u001b[90m 2ms\u001b[0m\r\n",
                    "output_type": "stream"
                },
                {
                    "name": "stdout",
                    "text": "\u001b[32m      [+] Database tempdb should return 0 suspect pages on SQL2017N5\u001b[0m",
                    "output_type": "stream"
                },
                {
                    "name": "stdout",
                    "text": "\u001b[90m 1ms\u001b[0m\r\n",
                    "output_type": "stream"
                },
                {
                    "name": "stdout",
                    "text": "\u001b[97mTests completed in 653ms\u001b[0m\r\n",
                    "output_type": "stream"
                },
                {
                    "name": "stdout",
                    "text": "\u001b[32mTests Passed: 11, \u001b[0m",
                    "output_type": "stream"
                },
                {
                    "name": "stdout",
                    "text": "\u001b[90mFailed: 0, \u001b[0m",
                    "output_type": "stream"
                },
                {
                    "name": "stdout",
                    "text": "\u001b[90mSkipped: 0, \u001b[0m",
                    "output_type": "stream"
                },
                {
                    "name": "stdout",
                    "text": "\u001b[90mPending: 0, \u001b[0m",
                    "output_type": "stream"
                },
                {
                    "name": "stdout",
                    "text": "\u001b[90mInconclusive: 0 \u001b[0m\r\n",
                    "output_type": "stream"
                }
            ],
            "execution_count": 7
        },
        {
            "cell_type": "code",
            "source": [],
            "metadata": {
                "azdata_cell_guid": "d3781f4f-ddf5-49bb-bc23-dec63dd81070"
            },
            "outputs": [],
            "execution_count": null
        },
        {
            "cell_type": "code",
            "source": [],
            "metadata": {
                "azdata_cell_guid": "409175b0-cbeb-4558-b875-3a2ad5f09425"
            },
            "outputs": [],
            "execution_count": null
        }
    ]
}