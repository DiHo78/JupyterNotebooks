{
 "cells": [
  {
   "cell_type": "markdown",
   "metadata": {},
   "source": [
    "# dbachecks PR check on Beard NUC - MultipleInstances\n",
    "\n",
    "Rob uses this process to make sure that changes will work in an AD estate with a variety of versions"
   ]
  },
  {
   "cell_type": "markdown",
   "metadata": {},
   "source": [
    "First we must check the status of the local source control and ensure that we are in the PR branch"
   ]
  },
  {
   "cell_type": "code",
   "execution_count": 1,
   "metadata": {},
   "outputs": [
    {
     "data": {
      "text/html": [
       "<script type=\"text/javascript\">#!javascript\r\n",
       "if ((typeof(requirejs) !==  typeof(Function)) || (typeof(requirejs.config) !== typeof(Function))) { \r\n",
       "    let script = document.createElement(\"script\"); \r\n",
       "    script.setAttribute(\"src\", \"https://cdnjs.cloudflare.com/ajax/libs/require.js/2.3.6/require.min.js\"); \r\n",
       "    script.onload = function(){\r\n",
       "        loadDotnetInteractiveApi();\r\n",
       "    };\r\n",
       "    document.getElementsByTagName(\"head\")[0].appendChild(script); \r\n",
       "}\r\n",
       "else {\r\n",
       "    loadDotnetInteractiveApi();\r\n",
       "}\r\n",
       "\r\n",
       "function loadDotnetInteractiveApi(){\r\n",
       "    let apiRequire = requirejs.config({context:\"dotnet-interactive.6396.62408\",paths:{dotnetInteractive:\"http://localhost:62408/resources/dotnet-interactive\"}});\r\n",
       "    apiRequire(['dotnetInteractive'], \r\n",
       "    function(api) {       \r\n",
       "        api.createDotnetInteractiveClient(\"http://localhost:62408/\", window);\r\n",
       "    },\r\n",
       "    function(error){\r\n",
       "        console.log(error);\r\n",
       "    });\r\n",
       "}</script>"
      ]
     },
     "metadata": {},
     "output_type": "display_data"
    },
    {
     "name": "stdout",
     "output_type": "stream",
     "text": [
      "On branch pr/ashdar/752\n",
      "Your branch is ahead of 'ashdar/fix_PingComputer' by 66 commits.\n",
      "  (use \"git push\" to publish your local commits)\n",
      "\n",
      "nothing to commit, working tree clean\n"
     ]
    }
   ],
   "source": [
    "cd D:\\OneDrive\\Documents\\GitHub\\dbachecks\n",
    "    git status"
   ]
  },
  {
   "cell_type": "markdown",
   "metadata": {},
   "source": [
    "First we need to import the module from source control - I normally use verbose to see how it is going\n"
   ]
  },
  {
   "cell_type": "code",
   "execution_count": 2,
   "metadata": {},
   "outputs": [],
   "source": [
    "Import-Module .\\dbachecks.psd1\n",
    "$null= Reset-DbcConfig"
   ]
  },
  {
   "cell_type": "markdown",
   "metadata": {},
   "source": [
    "Excellent, that worked. Now to run some checks against a single instance  "
   ]
  },
  {
   "cell_type": "markdown",
   "metadata": {},
   "source": [
    "I don't care if the test pass or fail, I am only interested in any \n",
    "\n",
    "> Describe block has Error\n",
    "\n",
    "or\n",
    "\n",
    "> Error in Script\n",
    "\n",
    "type failures"
   ]
  },
  {
   "cell_type": "markdown",
   "metadata": {},
   "source": [
    "Multiple Instances at parameter"
   ]
  },
  {
   "cell_type": "code",
   "execution_count": 3,
   "metadata": {},
   "outputs": [
    {
     "name": "stdout",
     "output_type": "stream",
     "text": [
      "\u001b[97m    ____            __\n",
      "   / __ \\___  _____/ /____  _____\n",
      "  / /_/ / _ \\/ ___/ __/ _ \\/ ___/\n",
      " / ____/  __(__  ) /_/  __/ /\n",
      "/_/    \\___/____/\\__/\\___/_/\n",
      "Pester v4.9.0\n",
      "Executing all tests in 'D:\\OneDrive\\Documents\\GitHub\\dbachecks\\checks\\Server.Tests.ps1' with Tags PingComputer\u001b[0m\n",
      "\n",
      "\u001b[92mExecuting script D:\\OneDrive\\Documents\\GitHub\\dbachecks\\checks\\Server.Tests.ps1\u001b[0m\n",
      "\n",
      "\u001b[92m  Describing Ping Computer\u001b[0m\n",
      "\n",
      "\u001b[92m    Context Testing Ping to SQL2005Ser2003\u001b[0m\n",
      "\u001b[32m      [+] Should have pinged 3 times for SQL2005Ser2003\u001b[0m\u001b[90m 58ms\u001b[0m\n",
      "\u001b[32m      [+] Average response time (ms) should Be less than 10 (ms) for SQL2005Ser2003\u001b[0m\u001b[90m 22ms\u001b[0m\n",
      "\n",
      "\u001b[92m  Describing Ping Computer\u001b[0m\n",
      "\n",
      "\u001b[92m    Context Testing Ping to SQL2016N2\u001b[0m\n",
      "\u001b[32m      [+] Should have pinged 3 times for SQL2016N2\u001b[0m\u001b[90m 8ms\u001b[0m\n",
      "\u001b[32m      [+] Average response time (ms) should Be less than 10 (ms) for SQL2016N2\u001b[0m\u001b[90m 9ms\u001b[0m\n",
      "\n",
      "\u001b[92m  Describing Ping Computer\u001b[0m\n",
      "\n",
      "\u001b[92m    Context Testing Ping to SQL2012Ser08AG1\u001b[0m\n",
      "\u001b[32m      [+] Should have pinged 3 times for SQL2012Ser08AG1\u001b[0m\u001b[90m 7ms\u001b[0m\n",
      "\u001b[32m      [+] Average response time (ms) should Be less than 10 (ms) for SQL2012Ser08AG1\u001b[0m\u001b[90m 7ms\u001b[0m\n",
      "\n",
      "\u001b[92m  Describing Ping Computer\u001b[0m\n",
      "\n",
      "\u001b[92m    Context Testing Ping to SQL2016N3\u001b[0m\n",
      "\u001b[32m      [+] Should have pinged 3 times for SQL2016N3\u001b[0m\u001b[90m 6ms\u001b[0m\n",
      "\u001b[32m      [+] Average response time (ms) should Be less than 10 (ms) for SQL2016N3\u001b[0m\u001b[90m 8ms\u001b[0m\n",
      "\n",
      "\u001b[92m  Describing Ping Computer\u001b[0m\n",
      "\n",
      "\u001b[92m    Context Testing Ping to SQL2012Ser08AG3\u001b[0m\n",
      "\u001b[32m      [+] Should have pinged 3 times for SQL2012Ser08AG3\u001b[0m\u001b[90m 8ms\u001b[0m\n",
      "\u001b[32m      [+] Average response time (ms) should Be less than 10 (ms) for SQL2012Ser08AG3\u001b[0m\u001b[90m 19ms\u001b[0m\n",
      "\n",
      "\u001b[92m  Describing Ping Computer\u001b[0m\n",
      "\n",
      "\u001b[92m    Context Testing Ping to SQL2012Ser08AG2\u001b[0m\n",
      "\u001b[32m      [+] Should have pinged 3 times for SQL2012Ser08AG2\u001b[0m\u001b[90m 7ms\u001b[0m\n",
      "\u001b[32m      [+] Average response time (ms) should Be less than 10 (ms) for SQL2012Ser08AG2\u001b[0m\u001b[90m 8ms\u001b[0m\n",
      "\n",
      "\u001b[92m  Describing Ping Computer\u001b[0m\n",
      "\n",
      "\u001b[92m    Context Testing Ping to SQL2014Ser12R2\u001b[0m\n",
      "\u001b[32m      [+] Should have pinged 3 times for SQL2014Ser12R2\u001b[0m\u001b[90m 6ms\u001b[0m\n",
      "\u001b[32m      [+] Average response time (ms) should Be less than 10 (ms) for SQL2014Ser12R2\u001b[0m\u001b[90m 11ms\u001b[0m\n",
      "\n",
      "\u001b[92m  Describing Ping Computer\u001b[0m\n",
      "\n",
      "\u001b[92m    Context Testing Ping to SQL2008Ser12R2\u001b[0m\n",
      "\u001b[32m      [+] Should have pinged 3 times for SQL2008Ser12R2\u001b[0m\u001b[90m 9ms\u001b[0m\n",
      "\u001b[32m      [+] Average response time (ms) should Be less than 10 (ms) for SQL2008Ser12R2\u001b[0m\u001b[90m 9ms\u001b[0m\n",
      "\n",
      "\u001b[92m  Describing Ping Computer\u001b[0m\n",
      "\n",
      "\u001b[92m    Context Testing Ping to SQL2016N1\u001b[0m\n",
      "\u001b[32m      [+] Should have pinged 3 times for SQL2016N1\u001b[0m\u001b[90m 11ms\u001b[0m\n",
      "\u001b[32m      [+] Average response time (ms) should Be less than 10 (ms) for SQL2016N1\u001b[0m\u001b[90m 12ms\u001b[0m\n",
      "\n",
      "\u001b[92m  Describing Ping Computer\u001b[0m\n",
      "\n",
      "\u001b[92m    Context Testing Ping to SQL2017N5\u001b[0m\n",
      "\u001b[32m      [+] Should have pinged 3 times for SQL2017N5\u001b[0m\u001b[90m 6ms\u001b[0m\n",
      "\u001b[32m      [+] Average response time (ms) should Be less than 10 (ms) for SQL2017N5\u001b[0m\u001b[90m 6ms\u001b[0m\n",
      "\n",
      "\u001b[92m  Describing Ping Computer\u001b[0m\n",
      "\n",
      "\u001b[92m    Context Testing Ping to SQL2019N22\u001b[0m\n",
      "\u001b[32m      [+] Should have pinged 3 times for SQL2019N22\u001b[0m\u001b[90m 8ms\u001b[0m\n",
      "\u001b[32m      [+] Average response time (ms) should Be less than 10 (ms) for SQL2019N22\u001b[0m\u001b[90m 7ms\u001b[0m\n",
      "\n",
      "\u001b[92m  Describing Ping Computer\u001b[0m\n",
      "\n",
      "\u001b[92m    Context Testing Ping to SQL2019N21\u001b[0m\n",
      "\u001b[32m      [+] Should have pinged 3 times for SQL2019N21\u001b[0m\u001b[90m 6ms\u001b[0m\n",
      "\u001b[32m      [+] Average response time (ms) should Be less than 10 (ms) for SQL2019N21\u001b[0m\u001b[90m 9ms\u001b[0m\n",
      "\n",
      "\u001b[92m  Describing Ping Computer\u001b[0m\n",
      "\n",
      "\u001b[92m    Context Testing Ping to SQL2019N20\u001b[0m\n",
      "\u001b[32m      [+] Should have pinged 3 times for SQL2019N20\u001b[0m\u001b[90m 7ms\u001b[0m\n",
      "\u001b[32m      [+] Average response time (ms) should Be less than 10 (ms) for SQL2019N20\u001b[0m\u001b[90m 6ms\u001b[0m\n",
      "\n",
      "\u001b[92m  Describing Ping Computer\u001b[0m\n",
      "\n",
      "\u001b[92m    Context Testing Ping to SQL2019N5\u001b[0m\n",
      "\u001b[32m      [+] Should have pinged 3 times for SQL2019N5\u001b[0m\u001b[90m 6ms\u001b[0m\n",
      "\u001b[32m      [+] Average response time (ms) should Be less than 10 (ms) for SQL2019N5\u001b[0m\u001b[90m 8ms\u001b[0m\n",
      "\u001b[97mTests completed in 105.03s\u001b[0m\n",
      "\u001b[32mTests Passed: 28, \u001b[0m\u001b[90mFailed: 0, \u001b[0m\u001b[90mSkipped: 0, \u001b[0m\u001b[90mPending: 0, \u001b[0m\u001b[90mInconclusive: 0 \u001b[0m\n"
     ]
    }
   ],
   "source": [
    "$Sqlinstances = (Get-VM -ComputerName BEARDNUC, BEARDNUC2 -Name *SQL* | Where State -eq 'Running').Name\n",
    "\n",
    "Invoke-DbcCheck -ComputerName $Sqlinstances -Check PingComputer"
   ]
  },
  {
   "cell_type": "markdown",
   "metadata": {},
   "source": [
    "Set the config and run again"
   ]
  },
  {
   "cell_type": "code",
   "execution_count": 8,
   "metadata": {},
   "outputs": [
    {
     "name": "stdout",
     "output_type": "stream",
     "text": [
      "\n",
      "\u001b[97m    ____            __\n",
      "   / __ \\___  _____/ /____  _____\n",
      "  / /_/ / _ \\/ ___/ __/ _ \\/ ___/\n",
      " / ____/  __(__  ) /_/  __/ /\n",
      "/_/    \\___/____/\\__/\\___/_/\n",
      "Pester v4.9.0\n",
      "Executing all tests in 'D:\\OneDrive\\Documents\\GitHub\\dbachecks\\checks\\Instance.Tests.ps1' with Tags SaDisabled\u001b[0m\n",
      "\n",
      "\u001b[92mExecuting script D:\\OneDrive\\Documents\\GitHub\\dbachecks\\checks\\Instance.Tests.ps1\u001b[0m\n",
      "\n",
      "\u001b[92m  Describing SA Login Disabled\u001b[0m\n",
      "\n",
      "\u001b[92m    Context Checking that sa login has been disabled on SQL2005Ser2003\u001b[0m\n",
      "\u001b[32m      [+] sa login is disabled on SQL2005Ser2003\u001b[0m\u001b[90m 50ms\u001b[0m\n",
      "\n",
      "\u001b[92m  Describing SA Login Disabled\u001b[0m\n",
      "\n",
      "\u001b[92m    Context Checking that sa login has been disabled on SQL2016N2\u001b[0m\n",
      "\u001b[32m      [+] sa login is disabled on SQL2016N2\u001b[0m\u001b[90m 2ms\u001b[0m\n",
      "\n",
      "\u001b[92m  Describing SA Login Disabled\u001b[0m\n",
      "\n",
      "\u001b[92m    Context Checking that sa login has been disabled on SQL2012Ser08AG1\u001b[0m\n",
      "\u001b[32m      [+] sa login is disabled on SQL2012Ser08AG1\u001b[0m\u001b[90m 2ms\u001b[0m\n",
      "\n",
      "\u001b[92m  Describing SA Login Disabled\u001b[0m\n",
      "\n",
      "\u001b[92m    Context Checking that sa login has been disabled on SQL2016N3\u001b[0m\n",
      "\u001b[32m      [+] sa login is disabled on SQL2016N3\u001b[0m\u001b[90m 3ms\u001b[0m\n",
      "\n",
      "\u001b[92m  Describing SA Login Disabled\u001b[0m\n",
      "\n",
      "\u001b[92m    Context Checking that sa login has been disabled on SQL2012Ser08AG3\u001b[0m\n",
      "\u001b[32m      [+] sa login is disabled on SQL2012Ser08AG3\u001b[0m\u001b[90m 1ms\u001b[0m\n",
      "\n",
      "\u001b[92m  Describing SA Login Disabled\u001b[0m\n",
      "\n",
      "\u001b[92m    Context Checking that sa login has been disabled on SQL2012Ser08AG2\u001b[0m\n",
      "\u001b[32m      [+] sa login is disabled on SQL2012Ser08AG2\u001b[0m\u001b[90m 3ms\u001b[0m\n",
      "\n",
      "\u001b[92m  Describing SA Login Disabled\u001b[0m\n",
      "\n",
      "\u001b[92m    Context Checking that sa login has been disabled on SQL2014Ser12R2\u001b[0m\n",
      "\u001b[32m      [+] sa login is disabled on SQL2014Ser12R2\u001b[0m\u001b[90m 1ms\u001b[0m\n",
      "\n",
      "\u001b[92m  Describing SA Login Disabled\u001b[0m\n",
      "\n",
      "\u001b[92m    Context Checking that sa login has been disabled on SQL2008Ser12R2\u001b[0m\n",
      "\u001b[32m      [+] sa login is disabled on SQL2008Ser12R2\u001b[0m\u001b[90m 1ms\u001b[0m\n",
      "\n",
      "\u001b[92m  Describing SA Login Disabled\u001b[0m\n",
      "\n",
      "\u001b[92m    Context Checking that sa login has been disabled on SQL2016N1\u001b[0m\n",
      "\u001b[32m      [+] sa login is disabled on SQL2016N1\u001b[0m\u001b[90m 2ms\u001b[0m\n",
      "\n",
      "\u001b[92m  Describing SA Login Disabled\u001b[0m\n",
      "\n",
      "\u001b[92m    Context Checking that sa login has been disabled on SQL2017N5\u001b[0m\n",
      "\u001b[32m      [+] sa login is disabled on SQL2017N5\u001b[0m\u001b[90m 1ms\u001b[0m\n",
      "\n",
      "\u001b[92m  Describing SA Login Disabled\u001b[0m\n",
      "\n",
      "\u001b[92m    Context Checking that sa login has been disabled on SQL2019N22\u001b[0m\n",
      "\u001b[32m      [+] sa login is disabled on SQL2019N22\u001b[0m\u001b[90m 1ms\u001b[0m\n",
      "\n",
      "\u001b[92m  Describing SA Login Disabled\u001b[0m\n",
      "\n",
      "\u001b[92m    Context Checking that sa login has been disabled on SQL2019N21\u001b[0m\n",
      "\u001b[32m      [+] sa login is disabled on SQL2019N21\u001b[0m\u001b[90m 1ms\u001b[0m\n",
      "\n",
      "\u001b[92m  Describing SA Login Disabled\u001b[0m\n",
      "\n",
      "\u001b[92m    Context Checking that sa login has been disabled on SQL2019N20\u001b[0m\n",
      "\u001b[32m      [+] sa login is disabled on SQL2019N20\u001b[0m\u001b[90m 1ms\u001b[0m\n",
      "\n",
      "\u001b[92m  Describing SA Login Disabled\u001b[0m\n",
      "\n",
      "\u001b[92m    Context Checking that sa login has been disabled on SQL2019N5\u001b[0m\n",
      "\u001b[32m      [+] sa login is disabled on SQL2019N5\u001b[0m\u001b[90m 2ms\u001b[0m\n",
      "\u001b[97mTests completed in 2.69s\u001b[0m\n",
      "\u001b[32mTests Passed: 14, \u001b[0m\u001b[90mFailed: 0, \u001b[0m\u001b[90mSkipped: 0, \u001b[0m\u001b[90mPending: 0, \u001b[0m\u001b[90mInconclusive: 0 \u001b[0m\n",
      "Name                     Value Description\n",
      "----                     ----- -----------\n",
      "skip.security.sadisabled False Skip the check for if the sa login is disabled\n",
      "\n"
     ]
    }
   ],
   "source": [
    "$Sqlinstances = (Get-VM -ComputerName BEARDNUC, BEARDNUC2 -Name *SQL* | Where State -eq 'Running').Name\n",
    "\n",
    "Set-DbcConfig -Name skip.security.sadisabled -Value $false\n",
    "Invoke-DbcCheck -SqlInstance $Sqlinstances -Check SaDisabled"
   ]
  },
  {
   "cell_type": "code",
   "execution_count": 11,
   "metadata": {},
   "outputs": [
    {
     "name": "stdout",
     "output_type": "stream",
     "text": [
      "\n",
      "ComputerName : SQL2019N5\n",
      "InstanceName : MSSQLSERVER\n",
      "SqlInstance  : SQL2019N5\n",
      "Role         : sysadmin\n",
      "Login        : {sa, THEBEARD\\Rob, NT SERVICE\\SQLWriter, NT SERVICE\\Winmgmt…}\n",
      "Owner        : sa\n",
      "IsFixedRole  : True\n",
      "DateCreated  : 13/04/2009 12:59:06\n",
      "DateModified : 13/04/2009 12:59:06\n",
      "\n",
      "\n"
     ]
    }
   ],
   "source": [
    "Get-DbaServerRole -SQLInstance sql2019n5 -ServerRole \"sysadmin\""
   ]
  },
  {
   "cell_type": "code",
   "execution_count": 9,
   "metadata": {},
   "outputs": [
    {
     "name": "stdout",
     "output_type": "stream",
     "text": [
      "1\n"
     ]
    }
   ],
   "source": [
    "@(Get-DbaLogin -SQLInstance sql2019n5 -Type SQL | Where-Object { $_.PasswordPolicyEnforced -eq $false -and $_.IsDisabled -eq $false}).Count"
   ]
  },
  {
   "cell_type": "code",
   "execution_count": 10,
   "metadata": {},
   "outputs": [
    {
     "name": "stdout",
     "output_type": "stream",
     "text": [
      "1\n"
     ]
    }
   ],
   "source": [
    "@(Get-DbaLogin -SqlInstance sql2019n5 -Login sa).Count"
   ]
  },
  {
   "cell_type": "code",
   "execution_count": null,
   "metadata": {},
   "outputs": [],
   "source": []
  }
 ],
 "metadata": {
  "kernelspec": {
   "display_name": ".NET (PowerShell)",
   "language": "PowerShell",
   "name": ".net-powershell"
  },
  "language_info": {
   "file_extension": ".ps1",
   "mimetype": "text/x-powershell",
   "name": "PowerShell",
   "pygments_lexer": "powershell",
   "version": "7.0"
  }
 },
 "nbformat": 4,
 "nbformat_minor": 4
}
