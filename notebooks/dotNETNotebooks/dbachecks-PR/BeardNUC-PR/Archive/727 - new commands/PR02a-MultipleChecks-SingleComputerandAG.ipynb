{
 "cells": [
  {
   "cell_type": "markdown",
   "metadata": {},
   "source": [
    "# dbachecks PR check on Beard NUC - Multiple Checks - Single Computer and AG\n",
    "\n",
    "Rob uses this process to make sure that changes will work in an AD estate with a variety of versions"
   ]
  },
  {
   "cell_type": "markdown",
   "metadata": {},
   "source": [
    "First we must check the status of the local source control and ensure that we are in the PR branch"
   ]
  },
  {
   "cell_type": "code",
   "execution_count": 1,
   "metadata": {},
   "outputs": [
    {
     "data": {
      "text/html": [
       "<script type=\"text/javascript\">#!javascript\r\n",
       "if ((typeof(requirejs) !==  typeof(Function)) || (typeof(requirejs.config) !== typeof(Function))) { \r\n",
       "    let script = document.createElement(\"script\"); \r\n",
       "    script.setAttribute(\"src\", \"https://cdnjs.cloudflare.com/ajax/libs/require.js/2.3.6/require.min.js\"); \r\n",
       "    script.onload = function(){\r\n",
       "        loadDotnetInteractiveApi();\r\n",
       "    };\r\n",
       "    document.getElementsByTagName(\"head\")[0].appendChild(script); \r\n",
       "}\r\n",
       "else {\r\n",
       "    loadDotnetInteractiveApi();\r\n",
       "}\r\n",
       "\r\n",
       "function loadDotnetInteractiveApi(){\r\n",
       "    let apiRequire = requirejs.config({context:\"dotnet-interactive.10736.62799\",paths:{dotnetInteractive:\"http://localhost:62799/resources/dotnet-interactive\"}});\r\n",
       "    apiRequire(['dotnetInteractive'], \r\n",
       "    function(api) {       \r\n",
       "        api.createDotnetInteractiveClient(\"http://localhost:62799/\", window);\r\n",
       "    },\r\n",
       "    function(error){\r\n",
       "        console.log(error);\r\n",
       "    });\r\n",
       "}</script>"
      ]
     },
     "metadata": {},
     "output_type": "display_data"
    },
    {
     "name": "stdout",
     "output_type": "stream",
     "text": [
      "On branch new-json\n",
      "Your branch is ahead of 'origin/new-json' by 162 commits.\n",
      "  (use \"git push\" to publish your local commits)\n",
      "\n",
      "nothing to commit, working tree clean\n"
     ]
    }
   ],
   "source": [
    "cd D:\\OneDrive\\Documents\\GitHub\\dbachecks\n",
    "git status"
   ]
  },
  {
   "cell_type": "markdown",
   "metadata": {},
   "source": [
    "First we need to import the module from source control - I normally use verbose to see how it is going\n"
   ]
  },
  {
   "cell_type": "code",
   "execution_count": 2,
   "metadata": {},
   "outputs": [],
   "source": [
    "Import-Module .\\dbachecks.psd1\n",
    "$null = Reset-DbcConfig"
   ]
  },
  {
   "cell_type": "markdown",
   "metadata": {},
   "source": [
    "Excellent, that worked. Now to run some checks against a single instance  "
   ]
  },
  {
   "cell_type": "markdown",
   "metadata": {},
   "source": [
    "I don't care if the test pass or fail, I am only interested in any \n",
    "\n",
    "> Describe block has Error\n",
    "\n",
    "or\n",
    "\n",
    "> Error in Script\n",
    "\n",
    "type failures"
   ]
  },
  {
   "cell_type": "code",
   "execution_count": 3,
   "metadata": {},
   "outputs": [
    {
     "name": "stdout",
     "output_type": "stream",
     "text": [
      "\u001b[97m    ____            __\n",
      "   / __ \\___  _____/ /____  _____\n",
      "  / /_/ / _ \\/ ___/ __/ _ \\/ ___/\n",
      " / ____/  __(__  ) /_/  __/ /\n",
      "/_/    \\___/____/\\__/\\___/_/\n",
      "Pester v4.9.0\n",
      "Executing all tests in 'D:\\OneDrive\\Documents\\GitHub\\dbachecks\\checks\\Instance.Tests.ps1', 'D:\\OneDrive\\Documents\\GitHub\\dbachecks\\checks\\Server.Tests.ps1' with Tags Server\u001b[0m\n",
      "\n",
      "\u001b[92mExecuting script D:\\OneDrive\\Documents\\GitHub\\dbachecks\\checks\\Instance.Tests.ps1\u001b[0m\n",
      "\u001b[93mWARNING: [16:32:07][Get-Instance] You must specify -SqlInstance or use Set-DbcConfig app.sqlinstance to setup a list of servers\u001b[0m\n",
      "\n",
      "\u001b[92mExecuting script D:\\OneDrive\\Documents\\GitHub\\dbachecks\\checks\\Server.Tests.ps1\u001b[0m\n",
      "\n",
      "\u001b[92m  Describing Server Power Plan Configuration\u001b[0m\n",
      "\n",
      "\u001b[92m    Context Testing Server Power Plan Configuration on SQL2017N5\u001b[0m\n",
      "\u001b[91m      [-] PowerPlan is High Performance on SQL2017N5\u001b[0m\u001b[90m 81ms\u001b[0m\n",
      "\u001b[91m        Expected 'True', because You want your SQL Server to not be throttled by the Power Plan settings - See https://support.microsoft.com/en-us/help/2207548/slow-performance-on-windows-server-when-using-the-balanced-power-plan, but got $false.\u001b[0m\n",
      "\u001b[91m        209:     $AllServerInfo.PowerPlan | Should -Be 'True' -Because \"You want your SQL Server to not be throttled by the Power Plan settings - See https://support.microsoft.com/en-us/help/2207548/slow-performance-on-windows-server-when-using-the-balanced-power-plan\"\u001b[0m\n",
      "\u001b[91m        at Assert-PowerPlan, D:\\OneDrive\\Documents\\GitHub\\dbachecks\\internal\\assertions\\Server.Assertions.ps1: line 209\u001b[0m\n",
      "\u001b[91m        at <ScriptBlock>, D:\\OneDrive\\Documents\\GitHub\\dbachecks\\checks\\Server.Tests.ps1: line 16\u001b[0m\n",
      "\n",
      "\u001b[92m  Describing SPNs\u001b[0m\n",
      "\n",
      "\u001b[92m    Context Testing SPNs on SQL2017N5\u001b[0m\n",
      "\u001b[91m      [-] There should be an SPN Dont know the SPN for Dont know the Account on SQL2017N5\u001b[0m\u001b[90m 23ms\u001b[0m\n",
      "\u001b[91m        Expected strings to be the same, because We expect to have a SPN Dont know the SPN for Dont know the Account, but they were different.\u001b[0m\n",
      "\u001b[91m        Expected length: 4\u001b[0m\n",
      "\u001b[91m        Actual length:   17\u001b[0m\n",
      "\u001b[91m        Strings differ at index 0.\u001b[0m\n",
      "\u001b[91m        Expected: 'None'\u001b[0m\n",
      "\u001b[91m        But was:  'An Error occurred'\u001b[0m\n",
      "\u001b[91m        214:     $SPN.Error | Should -Be 'None' -Because \"We expect to have a SPN $($SPN.RequiredSPN) for $($SPN.InstanceServiceAccount)\"\u001b[0m\n",
      "\u001b[91m        at Assert-SPN, D:\\OneDrive\\Documents\\GitHub\\dbachecks\\internal\\assertions\\Server.Assertions.ps1: line 214\u001b[0m\n",
      "\u001b[91m        at <ScriptBlock>, D:\\OneDrive\\Documents\\GitHub\\dbachecks\\checks\\Server.Tests.ps1: line 25\u001b[0m\n",
      "\n",
      "\u001b[92m  Describing Disk Space\u001b[0m\n",
      "\n",
      "\u001b[92m    Context Testing Disk Space on SQL2017N5\u001b[0m\n",
      "\n",
      "\u001b[92m  Describing Ping Computer\u001b[0m\n",
      "\n",
      "\u001b[92m    Context Testing Ping to SQL2017N5\u001b[0m\n",
      "\n",
      "\u001b[92m  Describing CPUPrioritisation\u001b[0m\n",
      "\n",
      "\u001b[92m    Context Testing CPU Prioritisation on SQL2017N5\u001b[0m\n",
      "\u001b[93m      [!] Should have the registry key set correctly for background CPU Prioritisation on SQL2017N5\u001b[0m\u001b[93m, is skipped\u001b[0m\u001b[90m 0ms\u001b[0m\n",
      "\n",
      "\u001b[92m  Describing Disk Allocation Unit\u001b[0m\n",
      "\n",
      "\u001b[92m    Context Testing disk allocation unit on SQL2017N5\u001b[0m\n",
      "\u001b[93m      [!] Can't run this check on Core on SQL2017N5\u001b[0m\u001b[93m, is skipped\u001b[0m\u001b[90m 0ms\u001b[0m\n",
      "\n",
      "\u001b[92m  Describing Non Standard Port\u001b[0m\n",
      "\n",
      "\u001b[92m    Context Checking SQL Server ports on SQL2017N5\u001b[0m\n",
      "\u001b[93m      [!] No SQL Server Instances should be configured with port 1433 on SQL2017N5\u001b[0m\u001b[93m, is skipped\u001b[0m\u001b[90m 0ms\u001b[0m\n",
      "\u001b[97mTests completed in 22.59s\u001b[0m\n",
      "\u001b[97mTests Passed: 3, \u001b[0m\u001b[91mFailed: 2, \u001b[0m\u001b[93mSkipped: 3, \u001b[0m\u001b[90mPending: 0, \u001b[0m\u001b[90mInconclusive: 0 \u001b[0m\n"
     ]
    }
   ],
   "source": [
    "Invoke-DbcCheck -ComputerName SQL2017N5 -Check Server -Show Fails"
   ]
  },
  {
   "cell_type": "markdown",
   "metadata": {},
   "source": [
    "Make sure HADR doesnt run in Core"
   ]
  },
  {
   "cell_type": "code",
   "execution_count": 4,
   "metadata": {},
   "outputs": [
    {
     "name": "stdout",
     "output_type": "stream",
     "text": [
      "\n",
      "\u001b[97m    ____            __\n",
      "   / __ \\___  _____/ /____  _____\n",
      "  / /_/ / _ \\/ ___/ __/ _ \\/ ___/\n",
      " / ____/  __(__  ) /_/  __/ /\n",
      "/_/    \\___/____/\\__/\\___/_/\n",
      "Pester v4.9.0\n",
      "Executing all tests in 'D:\\OneDrive\\Documents\\GitHub\\dbachecks\\checks\\HADR.Tests.ps1' with Tags HADR\u001b[0m\n",
      "\n",
      "\u001b[92mExecuting script D:\\OneDrive\\Documents\\GitHub\\dbachecks\\checks\\HADR.Tests.ps1\u001b[0m\n",
      "\u001b[93mWARNING: [16:32:41][HADR.Tests.ps1] FailoverClusters module cannot be loaded in PowerShell Core unfortunately\u001b[0m\n",
      "\u001b[97mTests completed in 74ms\u001b[0m\n",
      "\u001b[32mTests Passed: 0, \u001b[0m\u001b[90mFailed: 0, \u001b[0m\u001b[90mSkipped: 0, \u001b[0m\u001b[90mPending: 0, \u001b[0m\u001b[90mInconclusive: 0 \u001b[0m\n",
      "Name        Value     Description\n",
      "----        -----     -----------\n",
      "app.cluster SQL2016N1 One host name for each cluster for the HADR checks\n",
      "\n"
     ]
    }
   ],
   "source": [
    "Set-DbcConfig -Name app.cluster -Value SQL2016N1\n",
    "Invoke-DbcCheck -Check HADR "
   ]
  },
  {
   "cell_type": "code",
   "execution_count": 5,
   "metadata": {},
   "outputs": [
    {
     "name": "stdout",
     "output_type": "stream",
     "text": [
      "\n",
      "ModuleBase\n",
      "----------\n",
      "D:\\OneDrive\\Documents\\GitHub\\dbachecks\n",
      "\n"
     ]
    }
   ],
   "source": [
    "Get-Module dbachecks | Select modulebase"
   ]
  },
  {
   "cell_type": "code",
   "execution_count": 6,
   "metadata": {},
   "outputs": [
    {
     "name": "stdout",
     "output_type": "stream",
     "text": [
      "True\n"
     ]
    }
   ],
   "source": [
    "-not (Get-Module FailoverClusters)\n"
   ]
  },
  {
   "cell_type": "code",
   "execution_count": null,
   "metadata": {},
   "outputs": [],
   "source": []
  }
 ],
 "metadata": {
  "kernelspec": {
   "display_name": ".NET (PowerShell)",
   "language": "PowerShell",
   "name": ".net-powershell"
  },
  "language_info": {
   "file_extension": ".ps1",
   "mimetype": "text/x-powershell",
   "name": "PowerShell",
   "pygments_lexer": "powershell",
   "version": "7.0"
  }
 },
 "nbformat": 4,
 "nbformat_minor": 4
}
