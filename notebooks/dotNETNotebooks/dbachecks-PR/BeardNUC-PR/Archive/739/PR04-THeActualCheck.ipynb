{
 "cells": [
  {
   "cell_type": "markdown",
   "metadata": {},
   "source": [
    "# dbachecks PR check on Beard NUC - MultipleInstances\n",
    "\n",
    "Rob uses this process to make sure that changes will work in an AD estate with a variety of versions"
   ]
  },
  {
   "cell_type": "markdown",
   "metadata": {},
   "source": [
    "First we must check the status of the local source control and ensure that we are in the PR branch"
   ]
  },
  {
   "cell_type": "code",
   "execution_count": 1,
   "metadata": {},
   "outputs": [
    {
     "data": {
      "text/html": [
       "<script type=\"text/javascript\">#!javascript\r\n",
       "if ((typeof(requirejs) !==  typeof(Function)) || (typeof(requirejs.config) !== typeof(Function))) { \r\n",
       "    let script = document.createElement(\"script\"); \r\n",
       "    script.setAttribute(\"src\", \"https://cdnjs.cloudflare.com/ajax/libs/require.js/2.3.6/require.min.js\"); \r\n",
       "    script.onload = function(){\r\n",
       "        loadDotnetInteractiveApi();\r\n",
       "    };\r\n",
       "    document.getElementsByTagName(\"head\")[0].appendChild(script); \r\n",
       "}\r\n",
       "else {\r\n",
       "    loadDotnetInteractiveApi();\r\n",
       "}\r\n",
       "\r\n",
       "function loadDotnetInteractiveApi(){\r\n",
       "    let apiRequire = requirejs.config({context:\"dotnet-interactive.12304.56772\",paths:{dotnetInteractive:\"http://localhost:56772/resources/dotnet-interactive\"}});\r\n",
       "    apiRequire(['dotnetInteractive'], \r\n",
       "    function(api) {       \r\n",
       "        api.createDotnetInteractiveClient(\"http://localhost:56772/\", window);\r\n",
       "    },\r\n",
       "    function(error){\r\n",
       "        console.log(error);\r\n",
       "    });\r\n",
       "}</script>"
      ]
     },
     "metadata": {},
     "output_type": "display_data"
    },
    {
     "name": "stdout",
     "output_type": "stream",
     "text": [
      "On branch pr/mikedavem/739\n",
      "Your branch is ahead of 'mikedavem/development' by 63 commits.\n",
      "  (use \"git push\" to publish your local commits)\n",
      "\n",
      "nothing to commit, working tree clean\n"
     ]
    }
   ],
   "source": [
    "cd D:\\OneDrive\\Documents\\GitHub\\dbachecks\n",
    "git status"
   ]
  },
  {
   "cell_type": "markdown",
   "metadata": {},
   "source": [
    "First we need to import the module from source control - I normally use verbose to see how it is going\n"
   ]
  },
  {
   "cell_type": "code",
   "execution_count": 2,
   "metadata": {},
   "outputs": [],
   "source": [
    "Import-Module .\\dbachecks.psd1\n",
    "$null= Reset-DbcConfig"
   ]
  },
  {
   "cell_type": "markdown",
   "metadata": {},
   "source": [
    "Excellent, that worked. Now to run some checks against a single instance  "
   ]
  },
  {
   "cell_type": "markdown",
   "metadata": {},
   "source": [
    "I don't care if the test pass or fail, I am only interested in any \n",
    "\n",
    "> Describe block has Error\n",
    "\n",
    "or\n",
    "\n",
    "> Error in Script\n",
    "\n",
    "type failures"
   ]
  },
  {
   "cell_type": "markdown",
   "metadata": {},
   "source": [
    "Multiple Instances at parameter"
   ]
  },
  {
   "cell_type": "code",
   "execution_count": 6,
   "metadata": {},
   "outputs": [
    {
     "name": "stdout",
     "output_type": "stream",
     "text": [
      "\n",
      "\u001b[97m    ____            __\n",
      "   / __ \\___  _____/ /____  _____\n",
      "  / /_/ / _ \\/ ___/ __/ _ \\/ ___/\n",
      " / ____/  __(__  ) /_/  __/ /\n",
      "/_/    \\___/____/\\__/\\___/_/\n",
      "Pester v4.9.0\n",
      "Executing all tests in 'D:\\OneDrive\\Documents\\GitHub\\dbachecks\\checks\\Server.Tests.ps1' with Tags DiskAllocationUnit\u001b[0m\n",
      "\n",
      "\u001b[92mExecuting script D:\\OneDrive\\Documents\\GitHub\\dbachecks\\checks\\Server.Tests.ps1\u001b[0m\n",
      "\n",
      "\u001b[92m  Describing Disk Allocation Unit\u001b[0m\n",
      "\n",
      "\u001b[92m    Context Testing disk allocation unit on SQL2005Ser2003\u001b[0m\n",
      "\u001b[93m      [!] Can't run this check on Core on SQL2005Ser2003\u001b[0m\u001b[93m, is skipped\u001b[0m\u001b[90m 0ms\u001b[0m\n",
      "\n",
      "\u001b[92m  Describing Disk Allocation Unit\u001b[0m\n",
      "\n",
      "\u001b[92m    Context Testing disk allocation unit on SQL2016N2\u001b[0m\n",
      "\u001b[93m      [!] Can't run this check on Core on SQL2016N2\u001b[0m\u001b[93m, is skipped\u001b[0m\u001b[90m 0ms\u001b[0m\n",
      "\n",
      "\u001b[92m  Describing Disk Allocation Unit\u001b[0m\n",
      "\n",
      "\u001b[92m    Context Testing disk allocation unit on SQL2012Ser08AG1\u001b[0m\n",
      "\u001b[93m      [!] Can't run this check on Core on SQL2012Ser08AG1\u001b[0m\u001b[93m, is skipped\u001b[0m\u001b[90m 0ms\u001b[0m\n",
      "\n",
      "\u001b[92m  Describing Disk Allocation Unit\u001b[0m\n",
      "\n",
      "\u001b[92m    Context Testing disk allocation unit on SQL2016N3\u001b[0m\n",
      "\u001b[93m      [!] Can't run this check on Core on SQL2016N3\u001b[0m\u001b[93m, is skipped\u001b[0m\u001b[90m 0ms\u001b[0m\n",
      "\n",
      "\u001b[92m  Describing Disk Allocation Unit\u001b[0m\n",
      "\n",
      "\u001b[92m    Context Testing disk allocation unit on SQL2012Ser08AG3\u001b[0m\n",
      "\u001b[93m      [!] Can't run this check on Core on SQL2012Ser08AG3\u001b[0m\u001b[93m, is skipped\u001b[0m\u001b[90m 0ms\u001b[0m\n",
      "\n",
      "\u001b[92m  Describing Disk Allocation Unit\u001b[0m\n",
      "\n",
      "\u001b[92m    Context Testing disk allocation unit on SQL2012Ser08AG2\u001b[0m\n",
      "\u001b[93m      [!] Can't run this check on Core on SQL2012Ser08AG2\u001b[0m\u001b[93m, is skipped\u001b[0m\u001b[90m 0ms\u001b[0m\n",
      "\n",
      "\u001b[92m  Describing Disk Allocation Unit\u001b[0m\n",
      "\n",
      "\u001b[92m    Context Testing disk allocation unit on SQL2014Ser12R2\u001b[0m\n",
      "\u001b[93m      [!] Can't run this check on Core on SQL2014Ser12R2\u001b[0m\u001b[93m, is skipped\u001b[0m\u001b[90m 0ms\u001b[0m\n",
      "\n",
      "\u001b[92m  Describing Disk Allocation Unit\u001b[0m\n",
      "\n",
      "\u001b[92m    Context Testing disk allocation unit on SQL2008Ser12R2\u001b[0m\n",
      "\u001b[93m      [!] Can't run this check on Core on SQL2008Ser12R2\u001b[0m\u001b[93m, is skipped\u001b[0m\u001b[90m 0ms\u001b[0m\n",
      "\n",
      "\u001b[92m  Describing Disk Allocation Unit\u001b[0m\n",
      "\n",
      "\u001b[92m    Context Testing disk allocation unit on SQL2016N1\u001b[0m\n",
      "\u001b[93m      [!] Can't run this check on Core on SQL2016N1\u001b[0m\u001b[93m, is skipped\u001b[0m\u001b[90m 0ms\u001b[0m\n",
      "\n",
      "\u001b[92m  Describing Disk Allocation Unit\u001b[0m\n",
      "\n",
      "\u001b[92m    Context Testing disk allocation unit on SQL2017N5\u001b[0m\n",
      "\u001b[93m      [!] Can't run this check on Core on SQL2017N5\u001b[0m\u001b[93m, is skipped\u001b[0m\u001b[90m 0ms\u001b[0m\n",
      "\n",
      "\u001b[92m  Describing Disk Allocation Unit\u001b[0m\n",
      "\n",
      "\u001b[92m    Context Testing disk allocation unit on SQL2019N22\u001b[0m\n",
      "\u001b[93m      [!] Can't run this check on Core on SQL2019N22\u001b[0m\u001b[93m, is skipped\u001b[0m\u001b[90m 0ms\u001b[0m\n",
      "\n",
      "\u001b[92m  Describing Disk Allocation Unit\u001b[0m\n",
      "\n",
      "\u001b[92m    Context Testing disk allocation unit on SQL2019N21\u001b[0m\n",
      "\u001b[93m      [!] Can't run this check on Core on SQL2019N21\u001b[0m\u001b[93m, is skipped\u001b[0m\u001b[90m 0ms\u001b[0m\n",
      "\n",
      "\u001b[92m  Describing Disk Allocation Unit\u001b[0m\n",
      "\n",
      "\u001b[92m    Context Testing disk allocation unit on SQL2019N20\u001b[0m\n",
      "\u001b[93m      [!] Can't run this check on Core on SQL2019N20\u001b[0m\u001b[93m, is skipped\u001b[0m\u001b[90m 0ms\u001b[0m\n",
      "\n",
      "\u001b[92m  Describing Disk Allocation Unit\u001b[0m\n",
      "\n",
      "\u001b[92m    Context Testing disk allocation unit on SQL2019N5\u001b[0m\n",
      "\u001b[93m      [!] Can't run this check on Core on SQL2019N5\u001b[0m\u001b[93m, is skipped\u001b[0m\u001b[90m 0ms\u001b[0m\n",
      "\u001b[97mTests completed in 10.68s\u001b[0m\n",
      "\u001b[32mTests Passed: 0, \u001b[0m\u001b[90mFailed: 0, \u001b[0m\u001b[93mSkipped: 14, \u001b[0m\u001b[90mPending: 0, \u001b[0m\u001b[90mInconclusive: 0 \u001b[0m\n",
      "Name                                    Value Description\n",
      "----                                    ----- -----------\n",
      "policy.server.excludeDiskAllocationUnit C:\\   The disks to skip from the Disk Allocation Unit chec…\n",
      "\n"
     ]
    }
   ],
   "source": [
    "$Sqlinstances = (Get-VM -ComputerName BEARDNUC, BEARDNUC2 -Name *SQL* | Where State -eq 'Running').Name\n",
    "\n",
    "Set-DbcConfig -Name policy.server.excludeDiskAllocationUnit -Value C:\\\n",
    "\n",
    "Invoke-DbcCheck -ComputerName $Sqlinstances -Check DiskAllocationUnit"
   ]
  },
  {
   "cell_type": "markdown",
   "metadata": {},
   "source": [
    "These checks dont run on core but tested in Windows PowerShell successfully"
   ]
  },
  {
   "cell_type": "code",
   "execution_count": null,
   "metadata": {},
   "outputs": [],
   "source": []
  }
 ],
 "metadata": {
  "kernelspec": {
   "display_name": ".NET (PowerShell)",
   "language": "PowerShell",
   "name": ".net-powershell"
  },
  "language_info": {
   "file_extension": ".ps1",
   "mimetype": "text/x-powershell",
   "name": "PowerShell",
   "pygments_lexer": "powershell",
   "version": "7.0"
  }
 },
 "nbformat": 4,
 "nbformat_minor": 4
}
