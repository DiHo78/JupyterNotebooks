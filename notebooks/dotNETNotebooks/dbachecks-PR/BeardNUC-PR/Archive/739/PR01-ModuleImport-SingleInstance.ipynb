{
 "cells": [
  {
   "cell_type": "markdown",
   "metadata": {},
   "source": [
    "# dbachecks PR check on Beard NUC\n",
    "\n",
    "Rob uses this process to make sure that changes will work in an AD estate with a variety of versions"
   ]
  },
  {
   "cell_type": "markdown",
   "metadata": {},
   "source": [
    "First we must check the status of the local development folder"
   ]
  },
  {
   "cell_type": "code",
   "execution_count": 1,
   "metadata": {},
   "outputs": [
    {
     "data": {
      "text/html": [
       "<script type=\"text/javascript\">#!javascript\r\n",
       "if ((typeof(requirejs) !==  typeof(Function)) || (typeof(requirejs.config) !== typeof(Function))) { \r\n",
       "    let script = document.createElement(\"script\"); \r\n",
       "    script.setAttribute(\"src\", \"https://cdnjs.cloudflare.com/ajax/libs/require.js/2.3.6/require.min.js\"); \r\n",
       "    script.onload = function(){\r\n",
       "        loadDotnetInteractiveApi();\r\n",
       "    };\r\n",
       "    document.getElementsByTagName(\"head\")[0].appendChild(script); \r\n",
       "}\r\n",
       "else {\r\n",
       "    loadDotnetInteractiveApi();\r\n",
       "}\r\n",
       "\r\n",
       "function loadDotnetInteractiveApi(){\r\n",
       "    let apiRequire = requirejs.config({context:\"dotnet-interactive.22764.58473\",paths:{dotnetInteractive:\"http://localhost:58473/resources/dotnet-interactive\"}});\r\n",
       "    apiRequire(['dotnetInteractive'], \r\n",
       "    function(api) {       \r\n",
       "        api.createDotnetInteractiveClient(\"http://localhost:58473/\", window);\r\n",
       "    },\r\n",
       "    function(error){\r\n",
       "        console.log(error);\r\n",
       "    });\r\n",
       "}</script>"
      ]
     },
     "metadata": {},
     "output_type": "display_data"
    },
    {
     "name": "stdout",
     "output_type": "stream",
     "text": [
      "On branch development\n",
      "Your branch is ahead of 'origin/development' by 13 commits.\n",
      "  (use \"git push\" to publish your local commits)\n",
      "\n",
      "nothing to commit, working tree clean\n"
     ]
    }
   ],
   "source": [
    "cd D:\\OneDrive\\Documents\\GitHub\\dbachecks\n",
    "# git checkout development\n",
    "git status"
   ]
  },
  {
   "cell_type": "markdown",
   "metadata": {},
   "source": [
    "First we need to check out the PR locally. To do this go to Github and open the PR and at the bottom you will see\n",
    "\n",
    "![command line instructions](.\\Images\\commandline.png)\n",
    "\n",
    "Click on that and you will see the code that you need\n",
    "\n",
    "![command line details](.\\Images\\commandlinedetails.png)\n"
   ]
  },
  {
   "cell_type": "code",
   "execution_count": 2,
   "metadata": {},
   "outputs": [
    {
     "name": "stdout",
     "output_type": "stream",
     "text": [
      "M\tPSScriptAnalyzerSettings.psd1\n",
      "Switched to a new branch 'tboggiano-serviceaccountadmins'\n",
      "error: refs/remotes/tboggiano/serviceaccountadmins does not point to a valid object!\n",
      "error: refs/remotes/tboggiano/serviceaccountadmins does not point to a valid object!\n",
      "error: refs/remotes/tboggiano/serviceaccountadmins does not point to a valid object!\n",
      "From https://github.com/tboggiano/dbachecks\n",
      " * branch            serviceaccountadmins -> FETCH_HEAD\n",
      "error: Your local changes to the following files would be overwritten by merge:\n",
      "\tPSScriptAnalyzerSettings.psd1\n",
      "Please commit your changes or stash them before you merge.\n",
      "Aborting\n"
     ]
    }
   ],
   "source": [
    "git checkout -b tboggiano-serviceaccountadmins development\n",
    "git pull https://github.com/tboggiano/dbachecks.git serviceaccountadmins"
   ]
  },
  {
   "cell_type": "markdown",
   "metadata": {},
   "source": [
    "Sometimes there are merge conflicts - these need to be resolved - i will do this i n Visual Studio Code"
   ]
  },
  {
   "cell_type": "code",
   "execution_count": 10,
   "metadata": {},
   "outputs": [
    {
     "name": "stdout",
     "output_type": "stream",
     "text": [
      "Merge made by the 'recursive' strategy.\n",
      " PSScriptAnalyzerSettings.psd1                     |   1 +\n",
      " RELEASE.md                                        |  20 +-\n",
      " checks/Agent.Tests.ps1                            |  41 ++--\n",
      " checks/Database.Tests.ps1                         |  62 ++++++\n",
      " checks/HADR.Tests.ps1                             |  22 +-\n",
      " checks/Instance.Tests.ps1                         | 113 +++++++++-\n",
      " dbachecks.psd1                                    |  16 +-\n",
      " docs/RELEASE.md                                   |  10 +-\n",
      " docs/functions/Invoke-DbcCheck.md                 |  86 +++++++-\n",
      " internal/assertions/Database.Assertions.ps1       |  24 +++\n",
      " internal/assertions/Instance.Assertions.ps1       | 243 +++++++++++++++++++++-\n",
      " internal/configurations/DbcCheckDescriptions.json |  37 +++-\n",
      " internal/configurations/configuration.ps1         |  20 +-\n",
      " tests/Unit.Tests.ps1                              |   2 +-\n",
      " 14 files changed, 634 insertions(+), 63 deletions(-)\n"
     ]
    }
   ],
   "source": [
    "git merge development"
   ]
  },
  {
   "cell_type": "markdown",
   "metadata": {},
   "source": [
    "First we need to import the module from source control - I normally use verbose to see how it is going\n"
   ]
  },
  {
   "cell_type": "code",
   "execution_count": 2,
   "metadata": {},
   "outputs": [
    {
     "name": "stdout",
     "output_type": "stream",
     "text": [
      "\u001b[93mVERBOSE: Loading module from path 'D:\\OneDrive\\Documents\\GitHub\\dbachecks\\dbachecks.psd1'.\u001b[0m\n",
      "\u001b[93mVERBOSE: Loading 'FormatsToProcess' from path 'D:\\OneDrive\\Documents\\GitHub\\dbachecks\\xml\\dbachecks.Format.ps1xml'.\u001b[0m\n",
      "\u001b[93mVERBOSE: Loading module from path 'D:\\OneDrive\\Documents\\GitHub\\dbachecks\\dbachecks.psm1'.\u001b[0m\n",
      "\u001b[93mVERBOSE: Exporting function 'Import-ModuleFile'.\u001b[0m\n",
      "\u001b[93mVERBOSE: Exporting function 'Get-CheckFile'.\u001b[0m\n",
      "\u001b[93mVERBOSE: Exporting function 'Get-CheckInformation'.\u001b[0m\n",
      "\u001b[93mVERBOSE: Exporting function 'Get-CheckRepo'.\u001b[0m\n",
      "\u001b[93mVERBOSE: Exporting function 'Get-ComputerName'.\u001b[0m\n",
      "\u001b[93mVERBOSE: Exporting function 'Get-DatabaseDetail'.\u001b[0m\n",
      "\u001b[93mVERBOSE: Exporting function 'Get-Instance'.\u001b[0m\n",
      "\u001b[93mVERBOSE: Exporting function 'Get-Version'.\u001b[0m\n",
      "\u001b[93mVERBOSE: Exporting function 'Invoke-ConfigurationScript'.\u001b[0m\n",
      "\u001b[93mVERBOSE: Exporting function 'New-Json'.\u001b[0m\n",
      "\u001b[93mVERBOSE: Exporting function 'Select-DefaultView'.\u001b[0m\n",
      "\u001b[93mVERBOSE: Exporting function 'Set-DatabaseForIntegrationTesting'.\u001b[0m\n",
      "\u001b[93mVERBOSE: Exporting function 'Clear-DbcPowerBiDataSource'.\u001b[0m\n",
      "\u001b[93mVERBOSE: Exporting function 'Export-DbcConfig'.\u001b[0m\n",
      "\u001b[93mVERBOSE: Exporting function 'Get-DbcCheck'.\u001b[0m\n",
      "\u001b[93mVERBOSE: Exporting function 'Get-DbcConfig'.\u001b[0m\n",
      "\u001b[93mVERBOSE: Exporting function 'Get-DbcConfigValue'.\u001b[0m\n",
      "\u001b[93mVERBOSE: Exporting function 'Get-DbcReleaseNote'.\u001b[0m\n",
      "\u001b[93mVERBOSE: Exporting function 'Get-DbcTagCollection'.\u001b[0m\n",
      "\u001b[93mVERBOSE: Exporting function 'Import-DbcConfig'.\u001b[0m\n",
      "\u001b[93mVERBOSE: Exporting function 'Invoke-DbcCheck'.\u001b[0m\n",
      "\u001b[93mVERBOSE: Exporting function 'Invoke-DbcConfigFile'.\u001b[0m\n",
      "\u001b[93mVERBOSE: Exporting function 'Reset-DbcConfig'.\u001b[0m\n",
      "\u001b[93mVERBOSE: Exporting function 'Save-DbcRequiredModules'.\u001b[0m\n",
      "\u001b[93mVERBOSE: Exporting function 'Set-DbcConfig'.\u001b[0m\n",
      "\u001b[93mVERBOSE: Exporting function 'Start-DbcPowerBi'.\u001b[0m\n",
      "\u001b[93mVERBOSE: Exporting function 'Update-DbcPowerBiDataSource'.\u001b[0m\n",
      "\u001b[93mVERBOSE: Exporting function 'Update-DbcRequiredModules'.\u001b[0m\n",
      "\u001b[93mVERBOSE: Importing function 'Clear-DbcPowerBiDataSource'.\u001b[0m\n",
      "\u001b[93mVERBOSE: Importing function 'Export-DbcConfig'.\u001b[0m\n",
      "\u001b[93mVERBOSE: Importing function 'Get-DbcCheck'.\u001b[0m\n",
      "\u001b[93mVERBOSE: Importing function 'Get-DbcConfig'.\u001b[0m\n",
      "\u001b[93mVERBOSE: Importing function 'Get-DbcConfigValue'.\u001b[0m\n",
      "\u001b[93mVERBOSE: Importing function 'Get-DbcReleaseNote'.\u001b[0m\n",
      "\u001b[93mVERBOSE: Importing function 'Get-DbcTagCollection'.\u001b[0m\n",
      "\u001b[93mVERBOSE: Importing function 'Import-DbcConfig'.\u001b[0m\n",
      "\u001b[93mVERBOSE: Importing function 'Invoke-DbcCheck'.\u001b[0m\n",
      "\u001b[93mVERBOSE: Importing function 'Invoke-DbcConfigFile'.\u001b[0m\n",
      "\u001b[93mVERBOSE: Importing function 'Reset-DbcConfig'.\u001b[0m\n",
      "\u001b[93mVERBOSE: Importing function 'Save-DbcRequiredModules'.\u001b[0m\n",
      "\u001b[93mVERBOSE: Importing function 'Set-DbcConfig'.\u001b[0m\n",
      "\u001b[93mVERBOSE: Importing function 'Start-DbcPowerBi'.\u001b[0m\n",
      "\u001b[93mVERBOSE: Importing function 'Update-DbcPowerBiDataSource'.\u001b[0m\n",
      "\u001b[93mVERBOSE: Importing function 'Update-DbcRequiredModules'.\u001b[0m\n"
     ]
    }
   ],
   "source": [
    "Import-Module .\\dbachecks.psd1 -Verbose\n",
    "$null = Reset-DbcConfig"
   ]
  },
  {
   "cell_type": "markdown",
   "metadata": {},
   "source": [
    "Excellent, that worked. Now to run a single check"
   ]
  },
  {
   "cell_type": "code",
   "execution_count": 3,
   "metadata": {},
   "outputs": [
    {
     "name": "stdout",
     "output_type": "stream",
     "text": [
      "\u001b[97m    ____            __\n",
      "   / __ \\___  _____/ /____  _____\n",
      "  / /_/ / _ \\/ ___/ __/ _ \\/ ___/\n",
      " / ____/  __(__  ) /_/  __/ /\n",
      "/_/    \\___/____/\\__/\\___/_/\n",
      "Pester v4.9.0\n",
      "Executing all tests in 'D:\\OneDrive\\Documents\\GitHub\\dbachecks\\checks\\Database.Tests.ps1' with Tags AutoClose\u001b[0m\n",
      "\n",
      "\u001b[92mExecuting script D:\\OneDrive\\Documents\\GitHub\\dbachecks\\checks\\Database.Tests.ps1\u001b[0m\n",
      "\n",
      "\u001b[92m  Describing Auto Close\u001b[0m\n",
      "\n",
      "\u001b[92m    Context Testing Auto Close on SQL2017N5\u001b[0m\n",
      "\u001b[32m      [+] ADonutFactory on SQL2017N5 should have Auto Close set to False\u001b[0m\u001b[90m 151ms\u001b[0m\n",
      "\u001b[32m      [+] ASausageFactory on SQL2017N5 should have Auto Close set to False\u001b[0m\u001b[90m 12ms\u001b[0m\n",
      "\u001b[32m      [+] ASockFactory on SQL2017N5 should have Auto Close set to False\u001b[0m\u001b[90m 10ms\u001b[0m\n",
      "\u001b[32m      [+] master on SQL2017N5 should have Auto Close set to False\u001b[0m\u001b[90m 13ms\u001b[0m\n",
      "\u001b[32m      [+] model on SQL2017N5 should have Auto Close set to False\u001b[0m\u001b[90m 11ms\u001b[0m\n",
      "\u001b[32m      [+] msdb on SQL2017N5 should have Auto Close set to False\u001b[0m\u001b[90m 14ms\u001b[0m\n",
      "\u001b[32m      [+] SqlWatch on SQL2017N5 should have Auto Close set to False\u001b[0m\u001b[90m 11ms\u001b[0m\n",
      "\u001b[32m      [+] SSISDB on SQL2017N5 should have Auto Close set to False\u001b[0m\u001b[90m 12ms\u001b[0m\n",
      "\u001b[32m      [+] tempdb on SQL2017N5 should have Auto Close set to False\u001b[0m\u001b[90m 11ms\u001b[0m\n",
      "\u001b[97mTests completed in 1.48s\u001b[0m\n",
      "\u001b[32mTests Passed: 9, \u001b[0m\u001b[90mFailed: 0, \u001b[0m\u001b[90mSkipped: 0, \u001b[0m\u001b[90mPending: 0, \u001b[0m\u001b[90mInconclusive: 0 \u001b[0m\n"
     ]
    }
   ],
   "source": [
    "Invoke-DbcCheck -SqlInstance SQL2017N5 -Check AutoClose"
   ]
  },
  {
   "cell_type": "markdown",
   "metadata": {},
   "source": [
    "Run a single check with various Shows"
   ]
  },
  {
   "cell_type": "code",
   "execution_count": 4,
   "metadata": {},
   "outputs": [
    {
     "name": "stdout",
     "output_type": "stream",
     "text": [
      "\u001b[97m    ____            __\n",
      "   / __ \\___  _____/ /____  _____\n",
      "  / /_/ / _ \\/ ___/ __/ _ \\/ ___/\n",
      " / ____/  __(__  ) /_/  __/ /\n",
      "/_/    \\___/____/\\__/\\___/_/\n",
      "Pester v4.9.0\n",
      "Executing all tests in 'D:\\OneDrive\\Documents\\GitHub\\dbachecks\\checks\\Agent.Tests.ps1' with Tags FailedJob\u001b[0m\n",
      "\n",
      "\u001b[92mExecuting script D:\\OneDrive\\Documents\\GitHub\\dbachecks\\checks\\Agent.Tests.ps1\u001b[0m\n",
      "\n",
      "\u001b[92m  Describing Failed Jobs\u001b[0m\n",
      "\n",
      "\u001b[92m    Context Checking for failed enabled jobs since 02/20/2020 15:59:26 on SQL2017N5\u001b[0m\n",
      "\u001b[91m      [-] DatabaseBackup - USER_DATABASES - FULL's last run outcome on SQL2017N5 is Failed\u001b[0m\u001b[90m 13ms\u001b[0m\n",
      "\u001b[91m        Expected 'Succeeded', because All Agent Jobs should have succeed - you need to investigate the failed jobs, but got Failed.\u001b[0m\n",
      "\u001b[91m        169:                                         $psitem.LastRunOutcome | Should -Be \"Succeeded\" -Because 'All Agent Jobs should have succeed - you need to investigate the failed jobs'\u001b[0m\n",
      "\u001b[91m        at <ScriptBlock>, D:\\OneDrive\\Documents\\GitHub\\dbachecks\\checks\\Agent.Tests.ps1: line 169\u001b[0m\n",
      "\u001b[91m      [-] Gather SQLWatch Data's last run outcome on SQL2017N5 is Failed\u001b[0m\u001b[90m 3ms\u001b[0m\n",
      "\u001b[91m        Expected 'Succeeded', because All Agent Jobs should have succeed - you need to investigate the failed jobs, but got Failed.\u001b[0m\n",
      "\u001b[91m        169:                                         $psitem.LastRunOutcome | Should -Be \"Succeeded\" -Because 'All Agent Jobs should have succeed - you need to investigate the failed jobs'\u001b[0m\n",
      "\u001b[91m        at <ScriptBlock>, D:\\OneDrive\\Documents\\GitHub\\dbachecks\\checks\\Agent.Tests.ps1: line 169\u001b[0m\n",
      "\u001b[97mTests completed in 785ms\u001b[0m\n",
      "\u001b[97mTests Passed: 14, \u001b[0m\u001b[91mFailed: 2, \u001b[0m\u001b[90mSkipped: 0, \u001b[0m\u001b[90mPending: 0, \u001b[0m\u001b[90mInconclusive: 0 \u001b[0m\n"
     ]
    }
   ],
   "source": [
    "Invoke-DbcCheck -SqlInstance SQL2017N5 -Check FailedJob -Show Fails"
   ]
  },
  {
   "cell_type": "code",
   "execution_count": 6,
   "metadata": {},
   "outputs": [
    {
     "name": "stdout",
     "output_type": "stream",
     "text": [
      "\u001b[97m    ____            __\n",
      "   / __ \\___  _____/ /____  _____\n",
      "  / /_/ / _ \\/ ___/ __/ _ \\/ ___/\n",
      " / ____/  __(__  ) /_/  __/ /\n",
      "/_/    \\___/____/\\__/\\___/_/\n",
      "Pester v4.9.0\n",
      "Executing all tests in 'D:\\OneDrive\\Documents\\GitHub\\dbachecks\\checks\\Instance.Tests.ps1' with Tags BuiltInAdmin\u001b[0m\n",
      "\n",
      "\u001b[92mExecuting script D:\\OneDrive\\Documents\\GitHub\\dbachecks\\checks\\Instance.Tests.ps1\u001b[0m\n",
      "\n",
      "\u001b[92m  Describing Login BUILTIN Administrators cannot exist\u001b[0m\n",
      "\n",
      "\u001b[92m    Context Checking that a login named BUILTIN\\Administrators does not exist on SQL2017N5\u001b[0m\n",
      "\u001b[93m      [!] BUILTIN\\Administrators login does not exist on SQL2017N5\u001b[0m\u001b[93m, is skipped\u001b[0m\u001b[90m 0ms\u001b[0m\n",
      "\u001b[97mTests completed in 440ms\u001b[0m\n",
      "\u001b[32mTests Passed: 0, \u001b[0m\u001b[90mFailed: 0, \u001b[0m\u001b[93mSkipped: 1, \u001b[0m\u001b[90mPending: 0, \u001b[0m\u001b[90mInconclusive: 0 \u001b[0m\n"
     ]
    }
   ],
   "source": [
    "Invoke-DbcCheck -SqlInstance SQL2017N5 -Check BuiltInAdmin"
   ]
  },
  {
   "cell_type": "code",
   "execution_count": null,
   "metadata": {},
   "outputs": [],
   "source": []
  },
  {
   "cell_type": "code",
   "execution_count": null,
   "metadata": {},
   "outputs": [],
   "source": []
  }
 ],
 "metadata": {
  "kernelspec": {
   "display_name": ".NET (PowerShell)",
   "language": "PowerShell",
   "name": ".net-powershell"
  },
  "language_info": {
   "file_extension": ".ps1",
   "mimetype": "text/x-powershell",
   "name": "PowerShell",
   "pygments_lexer": "powershell",
   "version": "7.0"
  }
 },
 "nbformat": 4,
 "nbformat_minor": 4
}
