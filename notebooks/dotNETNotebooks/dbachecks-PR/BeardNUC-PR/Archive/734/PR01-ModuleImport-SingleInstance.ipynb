{
 "cells": [
  {
   "cell_type": "markdown",
   "metadata": {},
   "source": [
    "# dbachecks PR check on Beard NUC\n",
    "\n",
    "Rob uses this process to make sure that changes will work in an AD estate with a variety of versions"
   ]
  },
  {
   "cell_type": "markdown",
   "metadata": {},
   "source": [
    "First we must check the status of the local development folder"
   ]
  },
  {
   "cell_type": "code",
   "execution_count": 6,
   "metadata": {},
   "outputs": [
    {
     "name": "stdout",
     "output_type": "stream",
     "text": [
      "M\tPSScriptAnalyzerSettings.psd1\n",
      "Already on 'development'\n",
      "Your branch is up to date with 'origin/development'.\n",
      "On branch development\n",
      "Your branch is up to date with 'origin/development'.\n",
      "\n",
      "Changes not staged for commit:\n",
      "  (use \"git add <file>...\" to update what will be committed)\n",
      "  (use \"git restore <file>...\" to discard changes in working directory)\n",
      "\tmodified:   PSScriptAnalyzerSettings.psd1\n",
      "\n",
      "no changes added to commit (use \"git add\" and/or \"git commit -a\")\n"
     ]
    }
   ],
   "source": [
    "cd D:\\OneDrive\\Documents\\GitHub\\dbachecks\n",
    "git checkout development\n",
    "git status"
   ]
  },
  {
   "cell_type": "markdown",
   "metadata": {},
   "source": [
    "First we need to check out the PR locally. To do this go to Github and open the PR and at the bottom you will see\n",
    "\n",
    "![command line instructions](.\\Images\\commandline.png)\n",
    "\n",
    "Click on that and you will see the code that you need\n",
    "\n",
    "![command line details](.\\Images\\commandlinedetails.png)\n"
   ]
  },
  {
   "cell_type": "code",
   "execution_count": 7,
   "metadata": {},
   "outputs": [
    {
     "name": "stdout",
     "output_type": "stream",
     "text": [
      "M\tPSScriptAnalyzerSettings.psd1\n",
      "Switched to a new branch 'tboggiano-clrsafe'\n",
      "error: refs/remotes/tboggiano/clrsafe does not point to a valid object!\n",
      "error: refs/remotes/tboggiano/serviceaccountadmins does not point to a valid object!\n",
      "error: refs/remotes/tboggiano/clrsafe does not point to a valid object!\n",
      "error: refs/remotes/tboggiano/serviceaccountadmins does not point to a valid object!\n",
      "error: refs/remotes/tboggiano/clrsafe does not point to a valid object!\n",
      "error: refs/remotes/tboggiano/serviceaccountadmins does not point to a valid object!\n",
      "error: refs/remotes/tboggiano/serviceaccountadmins does not point to a valid object!\n",
      "error: refs/remotes/tboggiano/serviceaccountadmins does not point to a valid object!\n",
      "From https://github.com/tboggiano/dbachecks\n",
      " * branch            clrsafe    -> FETCH_HEAD\n",
      "Auto-merging internal/configurations/configuration.ps1\n",
      "CONFLICT (content): Merge conflict in internal/configurations/configuration.ps1\n",
      "Auto-merging internal/configurations/DbcCheckDescriptions.json\n",
      "CONFLICT (content): Merge conflict in internal/configurations/DbcCheckDescriptions.json\n",
      "Auto-merging internal/assertions/Database.Assertions.ps1\n",
      "CONFLICT (content): Merge conflict in internal/assertions/Database.Assertions.ps1\n",
      "Auto-merging checks/Database.Tests.ps1\n",
      "Automatic merge failed; fix conflicts and then commit the result.\n"
     ]
    }
   ],
   "source": [
    "git checkout -b tboggiano-clrsafe development\n",
    "git pull https://github.com/tboggiano/dbachecks.git clrsafe"
   ]
  },
  {
   "cell_type": "markdown",
   "metadata": {},
   "source": [
    "Sometimes there are merge conflicts - these need to be resolved - i will do this i n Visual Studio Code"
   ]
  },
  {
   "cell_type": "code",
   "execution_count": 11,
   "metadata": {},
   "outputs": [
    {
     "name": "stdout",
     "output_type": "stream",
     "text": [
      "On branch tboggiano-clrsafe\n",
      "Your branch is up to date with 'origin/tboggiano-clrsafe'.\n",
      "\n",
      "Changes not staged for commit:\n",
      "  (use \"git add <file>...\" to update what will be committed)\n",
      "  (use \"git restore <file>...\" to discard changes in working directory)\n",
      "\tmodified:   PSScriptAnalyzerSettings.psd1\n",
      "\n",
      "no changes added to commit (use \"git add\" and/or \"git commit -a\")\n"
     ]
    }
   ],
   "source": [
    "git status"
   ]
  },
  {
   "cell_type": "markdown",
   "metadata": {},
   "source": [
    "First we need to import the module from source control - I normally use verbose to see how it is going\n"
   ]
  },
  {
   "cell_type": "code",
   "execution_count": 19,
   "metadata": {},
   "outputs": [
    {
     "name": "stdout",
     "output_type": "stream",
     "text": [
      "\u001b[93mVERBOSE: Loading module from path 'D:\\OneDrive\\Documents\\GitHub\\dbachecks\\dbachecks.psd1'.\u001b[0m\n",
      "\u001b[93mVERBOSE: Loading 'FormatsToProcess' from path 'D:\\OneDrive\\Documents\\GitHub\\dbachecks\\xml\\dbachecks.Format.ps1xml'.\u001b[0m\n",
      "\u001b[93mVERBOSE: Loading module from path 'D:\\OneDrive\\Documents\\GitHub\\dbachecks\\dbachecks.psm1'.\u001b[0m\n",
      "\u001b[93mVERBOSE: Exporting function 'Import-ModuleFile'.\u001b[0m\n",
      "\u001b[93mVERBOSE: Exporting function 'Get-CheckFile'.\u001b[0m\n",
      "\u001b[93mVERBOSE: Exporting function 'Get-CheckInformation'.\u001b[0m\n",
      "\u001b[93mVERBOSE: Exporting function 'Get-CheckRepo'.\u001b[0m\n",
      "\u001b[93mVERBOSE: Exporting function 'Get-ComputerName'.\u001b[0m\n",
      "\u001b[93mVERBOSE: Exporting function 'Get-DatabaseDetail'.\u001b[0m\n",
      "\u001b[93mVERBOSE: Exporting function 'Get-Instance'.\u001b[0m\n",
      "\u001b[93mVERBOSE: Exporting function 'Get-Version'.\u001b[0m\n",
      "\u001b[93mVERBOSE: Exporting function 'Invoke-ConfigurationScript'.\u001b[0m\n",
      "\u001b[93mVERBOSE: Exporting function 'New-Json'.\u001b[0m\n",
      "\u001b[93mVERBOSE: Exporting function 'Select-DefaultView'.\u001b[0m\n",
      "\u001b[93mVERBOSE: Exporting function 'Set-DatabaseForIntegrationTesting'.\u001b[0m\n",
      "\u001b[93mVERBOSE: Exporting function 'Clear-DbcPowerBiDataSource'.\u001b[0m\n",
      "\u001b[93mVERBOSE: Exporting function 'Export-DbcConfig'.\u001b[0m\n",
      "\u001b[93mVERBOSE: Exporting function 'Get-DbcCheck'.\u001b[0m\n",
      "\u001b[93mVERBOSE: Exporting function 'Get-DbcConfig'.\u001b[0m\n",
      "\u001b[93mVERBOSE: Exporting function 'Get-DbcConfigValue'.\u001b[0m\n",
      "\u001b[93mVERBOSE: Exporting function 'Get-DbcReleaseNote'.\u001b[0m\n",
      "\u001b[93mVERBOSE: Exporting function 'Get-DbcTagCollection'.\u001b[0m\n",
      "\u001b[93mVERBOSE: Exporting function 'Import-DbcConfig'.\u001b[0m\n",
      "\u001b[93mVERBOSE: Exporting function 'Invoke-DbcCheck'.\u001b[0m\n",
      "\u001b[93mVERBOSE: Exporting function 'Invoke-DbcConfigFile'.\u001b[0m\n",
      "\u001b[93mVERBOSE: Exporting function 'Reset-DbcConfig'.\u001b[0m\n",
      "\u001b[93mVERBOSE: Exporting function 'Save-DbcRequiredModules'.\u001b[0m\n",
      "\u001b[93mVERBOSE: Exporting function 'Set-DbcConfig'.\u001b[0m\n",
      "\u001b[93mVERBOSE: Exporting function 'Start-DbcPowerBi'.\u001b[0m\n",
      "\u001b[93mVERBOSE: Exporting function 'Update-DbcPowerBiDataSource'.\u001b[0m\n",
      "\u001b[93mVERBOSE: Exporting function 'Update-DbcRequiredModules'.\u001b[0m\n",
      "\u001b[93mVERBOSE: Importing function 'Clear-DbcPowerBiDataSource'.\u001b[0m\n",
      "\u001b[93mVERBOSE: Importing function 'Export-DbcConfig'.\u001b[0m\n",
      "\u001b[93mVERBOSE: Importing function 'Get-DbcCheck'.\u001b[0m\n",
      "\u001b[93mVERBOSE: Importing function 'Get-DbcConfig'.\u001b[0m\n",
      "\u001b[93mVERBOSE: Importing function 'Get-DbcConfigValue'.\u001b[0m\n",
      "\u001b[93mVERBOSE: Importing function 'Get-DbcReleaseNote'.\u001b[0m\n",
      "\u001b[93mVERBOSE: Importing function 'Get-DbcTagCollection'.\u001b[0m\n",
      "\u001b[93mVERBOSE: Importing function 'Import-DbcConfig'.\u001b[0m\n",
      "\u001b[93mVERBOSE: Importing function 'Invoke-DbcCheck'.\u001b[0m\n",
      "\u001b[93mVERBOSE: Importing function 'Invoke-DbcConfigFile'.\u001b[0m\n",
      "\u001b[93mVERBOSE: Importing function 'Reset-DbcConfig'.\u001b[0m\n",
      "\u001b[93mVERBOSE: Importing function 'Save-DbcRequiredModules'.\u001b[0m\n",
      "\u001b[93mVERBOSE: Importing function 'Set-DbcConfig'.\u001b[0m\n",
      "\u001b[93mVERBOSE: Importing function 'Start-DbcPowerBi'.\u001b[0m\n",
      "\u001b[93mVERBOSE: Importing function 'Update-DbcPowerBiDataSource'.\u001b[0m\n",
      "\u001b[93mVERBOSE: Importing function 'Update-DbcRequiredModules'.\u001b[0m\n"
     ]
    }
   ],
   "source": [
    "Import-Module .\\dbachecks.psd1 -Verbose"
   ]
  },
  {
   "cell_type": "markdown",
   "metadata": {},
   "source": [
    "Excellent, that worked. Now to run a single check"
   ]
  },
  {
   "cell_type": "code",
   "execution_count": 20,
   "metadata": {},
   "outputs": [
    {
     "name": "stdout",
     "output_type": "stream",
     "text": [
      "\u001b[97m    ____            __\n",
      "   / __ \\___  _____/ /____  _____\n",
      "  / /_/ / _ \\/ ___/ __/ _ \\/ ___/\n",
      " / ____/  __(__  ) /_/  __/ /\n",
      "/_/    \\___/____/\\__/\\___/_/\n",
      "Pester v4.9.0\n",
      "Executing all tests in 'D:\\OneDrive\\Documents\\GitHub\\dbachecks\\checks\\Database.Tests.ps1' with Tags AutoClose\u001b[0m\n",
      "\n",
      "\u001b[92mExecuting script D:\\OneDrive\\Documents\\GitHub\\dbachecks\\checks\\Database.Tests.ps1\u001b[0m\n",
      "\n",
      "\u001b[92m  Describing Auto Close\u001b[0m\n",
      "\n",
      "\u001b[92m    Context Testing Auto Close on SQL2017N5\u001b[0m\n",
      "\u001b[32m      [+] ADonutFactory on SQL2017N5 should have Auto Close set to False\u001b[0m\u001b[90m 140ms\u001b[0m\n",
      "\u001b[32m      [+] ASausageFactory on SQL2017N5 should have Auto Close set to False\u001b[0m\u001b[90m 16ms\u001b[0m\n",
      "\u001b[32m      [+] ASockFactory on SQL2017N5 should have Auto Close set to False\u001b[0m\u001b[90m 17ms\u001b[0m\n",
      "\u001b[32m      [+] master on SQL2017N5 should have Auto Close set to False\u001b[0m\u001b[90m 15ms\u001b[0m\n",
      "\u001b[32m      [+] model on SQL2017N5 should have Auto Close set to False\u001b[0m\u001b[90m 14ms\u001b[0m\n",
      "\u001b[32m      [+] msdb on SQL2017N5 should have Auto Close set to False\u001b[0m\u001b[90m 15ms\u001b[0m\n",
      "\u001b[32m      [+] SqlWatch on SQL2017N5 should have Auto Close set to False\u001b[0m\u001b[90m 16ms\u001b[0m\n",
      "\u001b[32m      [+] SSISDB on SQL2017N5 should have Auto Close set to False\u001b[0m\u001b[90m 16ms\u001b[0m\n",
      "\u001b[32m      [+] tempdb on SQL2017N5 should have Auto Close set to False\u001b[0m\u001b[90m 16ms\u001b[0m\n",
      "\u001b[97mTests completed in 1.31s\u001b[0m\n",
      "\u001b[32mTests Passed: 9, \u001b[0m\u001b[90mFailed: 0, \u001b[0m\u001b[90mSkipped: 0, \u001b[0m\u001b[90mPending: 0, \u001b[0m\u001b[90mInconclusive: 0 \u001b[0m\n"
     ]
    }
   ],
   "source": [
    "Invoke-DbcCheck -SqlInstance SQL2017N5 -Check AutoClose"
   ]
  },
  {
   "cell_type": "markdown",
   "metadata": {},
   "source": [
    "Run a single check with various Shows"
   ]
  },
  {
   "cell_type": "code",
   "execution_count": 21,
   "metadata": {},
   "outputs": [
    {
     "name": "stdout",
     "output_type": "stream",
     "text": [
      "\u001b[97m    ____            __\n",
      "   / __ \\___  _____/ /____  _____\n",
      "  / /_/ / _ \\/ ___/ __/ _ \\/ ___/\n",
      " / ____/  __(__  ) /_/  __/ /\n",
      "/_/    \\___/____/\\__/\\___/_/\n",
      "Pester v4.9.0\n",
      "Executing all tests in 'D:\\OneDrive\\Documents\\GitHub\\dbachecks\\checks\\Instance.Tests.ps1' with Tags AdHocDistributedQueriesEnabled\u001b[0m\n",
      "\n",
      "\u001b[92mExecuting script D:\\OneDrive\\Documents\\GitHub\\dbachecks\\checks\\Instance.Tests.ps1\u001b[0m\n",
      "\n",
      "\u001b[92m  Describing Ad Hoc Distributed Queries\u001b[0m\n",
      "\n",
      "\u001b[92m    Context Testing Ad Hoc Distributed Queries on SQL2017N5\u001b[0m\n",
      "\u001b[97mTests completed in 578ms\u001b[0m\n",
      "\u001b[32mTests Passed: 1, \u001b[0m\u001b[90mFailed: 0, \u001b[0m\u001b[90mSkipped: 0, \u001b[0m\u001b[90mPending: 0, \u001b[0m\u001b[90mInconclusive: 0 \u001b[0m\n"
     ]
    }
   ],
   "source": [
    "Invoke-DbcCheck -SqlInstance SQL2017N5 -Check AdHocDistributedQueriesEnabled -Show Fails"
   ]
  },
  {
   "cell_type": "code",
   "execution_count": 22,
   "metadata": {},
   "outputs": [
    {
     "name": "stdout",
     "output_type": "stream",
     "text": [
      "\u001b[97m    ____            __\n",
      "   / __ \\___  _____/ /____  _____\n",
      "  / /_/ / _ \\/ ___/ __/ _ \\/ ___/\n",
      " / ____/  __(__  ) /_/  __/ /\n",
      "/_/    \\___/____/\\__/\\___/_/\n",
      "Pester v4.9.0\n",
      "Executing all tests in 'D:\\OneDrive\\Documents\\GitHub\\dbachecks\\checks\\Database.Tests.ps1' with Tags DatabaseCollation\u001b[0m\n",
      "\u001b[97mTests completed in 285ms\u001b[0m\n",
      "\u001b[97mTests Passed: 8, \u001b[0m\u001b[91mFailed: 1, \u001b[0m\u001b[90mSkipped: 0, \u001b[0m\u001b[90mPending: 0, \u001b[0m\u001b[90mInconclusive: 0 \u001b[0m\n"
     ]
    }
   ],
   "source": [
    "Invoke-DbcCheck -SqlInstance SQL2017N5 -Check DatabaseCollation -Show Summary"
   ]
  },
  {
   "cell_type": "code",
   "execution_count": null,
   "metadata": {},
   "outputs": [],
   "source": []
  }
 ],
 "metadata": {
  "kernelspec": {
   "display_name": ".NET (PowerShell)",
   "language": "PowerShell",
   "name": ".net-powershell"
  },
  "language_info": {
   "file_extension": ".ps1",
   "mimetype": "text/x-powershell",
   "name": "PowerShell",
   "pygments_lexer": "powershell",
   "version": "7.0"
  }
 },
 "nbformat": 4,
 "nbformat_minor": 4
}
