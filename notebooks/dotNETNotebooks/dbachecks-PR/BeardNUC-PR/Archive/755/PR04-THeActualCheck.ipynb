{
 "cells": [
  {
   "cell_type": "markdown",
   "metadata": {},
   "source": [
    "# dbachecks PR check on Beard NUC - MultipleInstances\n",
    "\n",
    "Rob uses this process to make sure that changes will work in an AD estate with a variety of versions"
   ]
  },
  {
   "cell_type": "markdown",
   "metadata": {},
   "source": [
    "First we must check the status of the local source control and ensure that we are in the PR branch"
   ]
  },
  {
   "cell_type": "markdown",
   "metadata": {},
   "source": [
    "Cant run HADR on core but it worked on Windwos PowerShell and returned the AG Name\n",
    "\n",
    "\n",
    "\n",
    "PS D:\\OneDrive\\Documents\\GitHub\\dbachecks> Invoke-DbcCheck -Check HADR                                                                                                                                 ____            __                                                                                                                                                                                / __ \\___  _____/ /____  _____                                                                                                                                                                    / /_/ / _ \\/ ___/ __/ _ \\/ ___/                                                                                                                                                                   / ____/  __(__  ) /_/  __/ /                                                                                                                                                                      /_/    \\___/____/\\__/\\___/_/                                                                                                                                                                       Pester v4.9.0                                                                                                                                                                                      Executing all tests in 'D:\\OneDrive\\Documents\\GitHub\\dbachecks\\checks\\HADR.Tests.ps1' with Tags HADR                                                                                                                                                                                                                                                                                                  Executing script D:\\OneDrive\\Documents\\GitHub\\dbachecks\\checks\\HADR.Tests.ps1                                                                                                                                                                                                                                                                                                                           Describing Cluster sql2016 Health using Node SQL2016N1                                                                                                                                                                                                                                                                                                                                                  Context Cluster nodes for sql2016                                                                                                                                                                    [+] Node SQL2016N1 should be up 96ms                                                                                                                                                               [+] Node SQL2016N2 should be up 4ms                                                                                                                                                                [+] Node SQL2016N3 should be up 3ms                                                                                                                                                                                                                                                                                                                                                                 Context Cluster resources for sql2016                                                                                                                                                                [+] Resource sql2016AG should be online 18ms                                                                                                                                                       [+] Resource sql2016AG_SQL2016_list should be online 5ms                                                                                                                                           [+] One of the IP Addresses for Availability Group sql2016AG Should be online 31ms                                                                                                                                                                                                                                                                                                                  Context Cluster networks for sql2016                                                                                                                                                                 [+] Cluster Network 1 should be up 32ms                                                                                                                                                            [+] Cluster Network 2 should be up 6ms                                                                                                                                                                                                                                                                                                                                                              Context HADR status for SQL2016N1 on sql2016                                                                                                                                                         [+] HADR should be enabled on the replica SQL2016N1 75ms                                                                                                                                                                                                                                                                                                                                            Context Cluster Connectivity for Availability Group sql2016AG on sql2016                                                                                                                             [-] Listener  should be pingable 19ms                                                                                                                                                                Expected $true, because The listeners should be pingable, but got $false.                                                                                                                          177:                         $results.IsPingable | Should -BeTrue -Because 'The listeners should be pingable'                                                                                      at <ScriptBlock>, D:\\OneDrive\\Documents\\GitHub\\dbachecks\\checks\\HADR.Tests.ps1: line 177                                                                                                         [-] Listener  should be able to connect with SQL 11ms                                                                                                                                                Expected $true, because The listener should process SQL commands successfully, but got $false.                                                                                                     180:                         $results.ConnectSuccess | Should -BeTrue -Because 'The listener should process SQL commands successfully'                                                             at <ScriptBlock>, D:\\OneDrive\\Documents\\GitHub\\dbachecks\\checks\\HADR.Tests.ps1: line 180                                                                                                         [-] Listener  domain name should be thebeard.local 19ms                                                                                                                                              Expected 'thebeard.local', because thebeard.local is what we expect the domain name to be, but got $false.                                                                                         183:                         $results.DomainName | Should -Be $domainname -Because \"$domainname is what we expect the domain name to be\"                                                           at <ScriptBlock>, D:\\OneDrive\\Documents\\GitHub\\dbachecks\\checks\\HADR.Tests.ps1: line 183                                                                                                         [+] Replica SQL2016N1 should be Pingable 6ms                                                                                                                                                       [+] Replica SQL2016N1 should be able to connect with SQL 14ms                                                                                                                                      [+] Replica SQL2016N1 domain name should be thebeard.local 4ms                                                                                                                                     [+] Replica SQL2016N1 TCP port should be in  24ms                                                                                                                                                  [+] Replica SQL2016N2 should be Pingable 1ms                                                                                                                                                       [+] Replica SQL2016N2 should be able to connect with SQL 4ms                                                                                                                                       [+] Replica SQL2016N2 domain name should be thebeard.local 8ms                                                                                                                                     [+] Replica SQL2016N2 TCP port should be in  2ms                                                                                                                                                   [+] Replica SQL2016N3 should be Pingable 1ms                                                                                                                                                       [+] Replica SQL2016N3 should be able to connect with SQL 1ms                                                                                                                                       [+] Replica SQL2016N3 domain name should be thebeard.local 1ms                                                                                                                                     [+] Replica SQL2016N3 TCP port should be in  1ms                                                                                                                                                                                                                                                                                                                                                    Context Availability group status for sql2016AG on sql2016                                                                                                                                           [+] SQL2016N1 replica should not be in unknown availability mode 317ms                                                                                                                             [+] SQL2016N2 replica should not be in unknown availability mode 184ms                                                                                                                             [+] SQL2016N3 replica should not be in unknown availability mode 310ms                                                                                                                             [+] SQL2016N1 replica should be synchronised 11ms                                                                                                                                                  [+] SQL2016N2 replica should be synchronised 2ms                                                                                                                                                   [+] SQL2016N3 replica should be synchronising 8ms                                                                                                                                                                                                                                                                                                                                                   Context Database availability group status for sql2016AG on sql2016                                                                                                                                  [+] Database DEMOdbareports should be synchronised on the replica SQL2016N1 146ms                                                                                                                  [+] Database DEMOdbareports should be failover ready on the replica SQL2016N1 8ms                                                                                                                  [+] Database DEMOdbareports should be joined on the  replica SQL2016N1 10ms                                                                                                                        [+] Database DEMOdbareports should not be suspended on the replica SQL2016N1 11ms                                                                                                                  [+] Database Lisbondbareports should be synchronised on the replica SQL2016N1 190ms                                                                                                                [+] Database Lisbondbareports should be failover ready on the replica SQL2016N1 3ms                                                                                                                [+] Database Lisbondbareports should be joined on the  replica SQL2016N1 2ms                                                                                                                       [+] Database Lisbondbareports should not be suspended on the replica SQL2016N1 4ms                                                                                                                 [+] Database NoGoodDBCC should be synchronised on the replica SQL2016N1 139ms                                                                                                                      [+] Database NoGoodDBCC should be failover ready on the replica SQL2016N1 1ms                                                                                                                      [+] Database NoGoodDBCC should be joined on the  replica SQL2016N1 2ms                                                                                                                             [+] Database NoGoodDBCC should not be suspended on the replica SQL2016N1 2ms                                                                                                                       [+] Database passrocssug_dbareports should be synchronised on the replica SQL2016N1 145ms                                                                                                          [+] Database passrocssug_dbareports should be failover ready on the replica SQL2016N1 2ms                                                                                                          [+] Database passrocssug_dbareports should be joined on the  replica SQL2016N1 6ms                                                                                                                 [+] Database passrocssug_dbareports should not be suspended on the replica SQL2016N1 3ms                                                                                                           [+] Database TheBeardsProd should be synchronised on the replica SQL2016N1 178ms                                                                                                                   [+] Database TheBeardsProd should be failover ready on the replica SQL2016N1 1ms                                                                                                                   [+] Database TheBeardsProd should be joined on the  replica SQL2016N1 1ms                                                                                                                          [+] Database TheBeardsProd should not be suspended on the replica SQL2016N1 2ms                                                                                                                    [+] Database VideoDemodbareports should be synchronised on the replica SQL2016N1 139ms                                                                                                             [+] Database VideoDemodbareports should be failover ready on the replica SQL2016N1 2ms                                                                                                             [+] Database VideoDemodbareports should be joined on the  replica SQL2016N1 1ms                                                                                                                    [+] Database VideoDemodbareports should not be suspended on the replica SQL2016N1 5ms                                                                                                              [+] Database Viennadbareports should be synchronised on the replica SQL2016N1 151ms                                                                                                                [+] Database Viennadbareports should be failover ready on the replica SQL2016N1 1ms                                                                                                                [+] Database Viennadbareports should be joined on the  replica SQL2016N1 1ms                                                                                                                       [+] Database Viennadbareports should not be suspended on the replica SQL2016N1 1ms                                                                                                                 [+] Database DEMOdbareports should be synchronised on the replica SQL2016N2 110ms                                                                                                                  [+] Database DEMOdbareports should be failover ready on the replica SQL2016N2 2ms                                                                                                                  [+] Database DEMOdbareports should be joined on the  replica SQL2016N2 2ms                                                                                                                         [+] Database DEMOdbareports should not be suspended on the replica SQL2016N2 7ms                                                                                                                   [+] Database Lisbondbareports should be synchronised on the replica SQL2016N2 79ms                                                                                                                 [+] Database Lisbondbareports should be failover ready on the replica SQL2016N2 1ms                                                                                                                [+] Database Lisbondbareports should be joined on the  replica SQL2016N2 1ms                                                                                                                       [+] Database Lisbondbareports should not be suspended on the replica SQL2016N2 1ms                                                                                                                 [+] Database NoGoodDBCC should be synchronised on the replica SQL2016N2 75ms                                                                                                                       [+] Database NoGoodDBCC should be failover ready on the replica SQL2016N2 9ms                                                                                                                      [+] Database NoGoodDBCC should be joined on the  replica SQL2016N2 2ms                                                                                                                             [+] Database NoGoodDBCC should not be suspended on the replica SQL2016N2 1ms                                                                                                                       [+] Database passrocssug_dbareports should be synchronised on the replica SQL2016N2 82ms                                                                                                           [+] Database passrocssug_dbareports should be failover ready on the replica SQL2016N2 1ms                                                                                                          [+] Database passrocssug_dbareports should be joined on the  replica SQL2016N2 1ms                                                                                                                 [+] Database passrocssug_dbareports should not be suspended on the replica SQL2016N2 3ms                                                                                                           [+] Database TheBeardsProd should be synchronised on the replica SQL2016N2 77ms                                                                                                                    [+] Database TheBeardsProd should be failover ready on the replica SQL2016N2 1ms                                                                                                                   [+] Database TheBeardsProd should be joined on the  replica SQL2016N2 1ms                                                                                                                          [+] Database TheBeardsProd should not be suspended on the replica SQL2016N2 2ms                                                                                                                    [+] Database VideoDemodbareports should be synchronised on the replica SQL2016N2 85ms                                                                                                              [+] Database VideoDemodbareports should be failover ready on the replica SQL2016N2 3ms\n",
    "      [+] Database VideoDemodbareports should be joined on the  replica SQL2016N2 1ms\n",
    "      [+] Database VideoDemodbareports should not be suspended on the replica SQL2016N2 2ms\n",
    "      [+] Database Viennadbareports should be synchronised on the replica SQL2016N2 72ms\n",
    "      [+] Database Viennadbareports should be failover ready on the replica SQL2016N2 1ms\n",
    "      [+] Database Viennadbareports should be joined on the  replica SQL2016N2 1ms\n",
    "      [+] Database Viennadbareports should not be suspended on the replica SQL2016N2 1ms\n",
    "      [+] Database DEMOdbareports should be synchronising on the secondary as it is Async 127ms\n",
    "      [+] Database DEMOdbareports should not be failover ready on the secondary replica SQL2016N3 10ms\n",
    "      [+] Database DEMOdbareports should be joined on the secondary replica SQL2016N3 7ms\n",
    "      [+] Database DEMOdbareports should not be suspended on the secondary replica SQL2016N3 6ms\n",
    "      [+] Database Lisbondbareports should be synchronising on the secondary as it is Async 74ms\n",
    "      [+] Database Lisbondbareports should not be failover ready on the secondary replica SQL2016N3 2ms\n",
    "      [+] Database Lisbondbareports should be joined on the secondary replica SQL2016N3 1ms\n",
    "      [+] Database Lisbondbareports should not be suspended on the secondary replica SQL2016N3 3ms\n",
    "      [+] Database NoGoodDBCC should be synchronising on the secondary as it is Async 77ms\n",
    "      [+] Database NoGoodDBCC should not be failover ready on the secondary replica SQL2016N3 1ms\n",
    "      [+] Database NoGoodDBCC should be joined on the secondary replica SQL2016N3 1ms\n",
    "      [+] Database NoGoodDBCC should not be suspended on the secondary replica SQL2016N3 1ms\n",
    "      [+] Database passrocssug_dbareports should be synchronising on the secondary as it is Async 62ms\n",
    "      [+] Database passrocssug_dbareports should not be failover ready on the secondary replica SQL2016N3 2ms\n",
    "      [+] Database passrocssug_dbareports should be joined on the secondary replica SQL2016N3 5ms\n",
    "      [+] Database passrocssug_dbareports should not be suspended on the secondary replica SQL2016N3 1ms\n",
    "      [+] Database TheBeardsProd should be synchronising on the secondary as it is Async 79ms\n",
    "      [+] Database TheBeardsProd should not be failover ready on the secondary replica SQL2016N3 3ms\n",
    "      [+] Database TheBeardsProd should be joined on the secondary replica SQL2016N3 1ms\n",
    "      [+] Database TheBeardsProd should not be suspended on the secondary replica SQL2016N3 1ms\n",
    "      [+] Database VideoDemodbareports should be synchronising on the secondary as it is Async 323ms\n",
    "      [+] Database VideoDemodbareports should not be failover ready on the secondary replica SQL2016N3 3ms\n",
    "      [+] Database VideoDemodbareports should be joined on the secondary replica SQL2016N3 1ms\n",
    "      [+] Database VideoDemodbareports should not be suspended on the secondary replica SQL2016N3 1ms\n",
    "      [+] Database Viennadbareports should be synchronising on the secondary as it is Async 156ms\n",
    "      [+] Database Viennadbareports should not be failover ready on the secondary replica SQL2016N3 4ms\n",
    "      [+] Database Viennadbareports should be joined on the secondary replica SQL2016N3 5ms\n",
    "      [+] Database Viennadbareports should not be suspended on the secondary replica SQL2016N3 1ms\n",
    "\n",
    "    Context Always On extended event status for replica SQL2016N1 on sql2016\n",
    "      [+] Replica  should have an extended event session called AlwaysOn_health 12ms\n",
    "      [+] Replica SQL2016N1 Always On Health extended event session should be running 13ms\n",
    "      [+] Replica SQL2016N1 Always On Health extended event session should be set to auto start 16ms\n",
    "Tests completed in 120.67s\n",
    "Tests Passed: 114, Failed: 3, Skipped: 0, Pending: 0, Inconclusive: 0\n",
    "PS D:\\OneDrive\\Documents\\GitHub\\dbachecks>\n",
    "\n",
    "\n",
    "\n",
    "\n",
    "\n",
    "\n",
    "\n",
    "\n",
    "\n",
    "\n",
    "\n",
    "\n",
    "\n",
    "\n",
    "\n",
    "\n",
    "\n",
    "\n",
    "\n",
    "\n",
    "\n"
   ]
  },
  {
   "cell_type": "code",
   "execution_count": null,
   "metadata": {},
   "outputs": [],
   "source": [
    "cd D:\\OneDrive\\Documents\\GitHub\\dbachecks\n",
    "    git status"
   ]
  },
  {
   "cell_type": "markdown",
   "metadata": {},
   "source": [
    "First we need to import the module from source control - I normally use verbose to see how it is going\n"
   ]
  },
  {
   "cell_type": "code",
   "execution_count": null,
   "metadata": {},
   "outputs": [],
   "source": [
    "Import-Module .\\dbachecks.psd1\n",
    "$null= Reset-DbcConfig"
   ]
  },
  {
   "cell_type": "markdown",
   "metadata": {},
   "source": [
    "Excellent, that worked. Now to run some checks against a single instance  "
   ]
  },
  {
   "cell_type": "markdown",
   "metadata": {},
   "source": [
    "I don't care if the test pass or fail, I am only interested in any \n",
    "\n",
    "> Describe block has Error\n",
    "\n",
    "or\n",
    "\n",
    "> Error in Script\n",
    "\n",
    "type failures"
   ]
  },
  {
   "cell_type": "markdown",
   "metadata": {},
   "source": [
    "Multiple Instances at parameter"
   ]
  },
  {
   "cell_type": "code",
   "execution_count": null,
   "metadata": {},
   "outputs": [],
   "source": [
    "$Sqlinstances = (Get-VM -ComputerName BEARDNUC, BEARDNUC2 -Name *SQL* | Where State -eq 'Running').Name\n",
    "\n",
    "Invoke-DbcCheck -ComputerName $Sqlinstances -Check PingComputer"
   ]
  },
  {
   "cell_type": "markdown",
   "metadata": {},
   "source": [
    "Set the config and run again"
   ]
  },
  {
   "cell_type": "code",
   "execution_count": null,
   "metadata": {},
   "outputs": [],
   "source": [
    "$Sqlinstances = (Get-VM -ComputerName BEARDNUC, BEARDNUC2 -Name *SQL* | Where State -eq 'Running').Name\n",
    "\n",
    "Set-DbcConfig -Name skip.security.sadisabled -Value $false\n",
    "Invoke-DbcCheck -SqlInstance $Sqlinstances -Check SaDisabled"
   ]
  },
  {
   "cell_type": "code",
   "execution_count": null,
   "metadata": {},
   "outputs": [],
   "source": [
    "Get-DbaServerRole -SQLInstance sql2019n5 -ServerRole \"sysadmin\""
   ]
  },
  {
   "cell_type": "code",
   "execution_count": null,
   "metadata": {},
   "outputs": [],
   "source": [
    "@(Get-DbaLogin -SQLInstance sql2019n5 -Type SQL | Where-Object { $_.PasswordPolicyEnforced -eq $false -and $_.IsDisabled -eq $false}).Count"
   ]
  },
  {
   "cell_type": "code",
   "execution_count": null,
   "metadata": {},
   "outputs": [],
   "source": [
    "@(Get-DbaLogin -SqlInstance sql2019n5 -Login sa).Count"
   ]
  },
  {
   "cell_type": "code",
   "execution_count": null,
   "metadata": {},
   "outputs": [],
   "source": []
  }
 ],
 "metadata": {
  "kernelspec": {
   "display_name": ".NET (PowerShell)",
   "language": "PowerShell",
   "name": ".net-powershell"
  },
  "language_info": {
   "file_extension": ".ps1",
   "mimetype": "text/x-powershell",
   "name": "PowerShell",
   "pygments_lexer": "powershell",
   "version": "7.0"
  }
 },
 "nbformat": 4,
 "nbformat_minor": 4
}
