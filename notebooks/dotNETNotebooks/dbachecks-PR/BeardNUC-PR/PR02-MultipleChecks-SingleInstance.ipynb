{
    "metadata": {
        "kernelspec": {
            "name": ".net-powershell",
            "display_name": ".NET (PowerShell)"
        },
        "language_info": {
            "name": "PowerShell",
            "version": "7.0",
            "mimetype": "text/x-powershell",
            "file_extension": ".ps1",
            "pygments_lexer": "powershell"
        }
    },
    "nbformat_minor": 2,
    "nbformat": 4,
    "cells": [
        {
            "cell_type": "markdown",
            "source": [
                "# dbachecks PR check on Beard NUC - Multiple Checks - Single Instance\n",
                "\n",
                "Rob uses this process to make sure that changes will work in an AD estate with a variety of versions"
            ],
            "metadata": {
                "azdata_cell_guid": "cf1eecb7-9e45-4a5d-bb83-afbb7e9cf3ca"
            }
        },
        {
            "cell_type": "markdown",
            "source": [
                "First we must check the status of the local source control and ensure that we are in the PR branch"
            ],
            "metadata": {
                "azdata_cell_guid": "14265d54-fb90-4d67-b904-cc30496b4d09"
            }
        },
        {
            "cell_type": "code",
            "source": [
                "cd D:\\OneDrive\\Documents\\GitHub\\dbachecks\n",
                "git status"
            ],
            "metadata": {
                "azdata_cell_guid": "04a211f8-21a0-4b79-b53c-42e1c0ac3261"
            },
            "outputs": [
                {
                    "name": "stdout",
                    "text": "On branch pr/jpomfret/777\r\n",
                    "output_type": "stream"
                },
                {
                    "name": "stdout",
                    "text": "Your branch is up to date with 'jpomfret/agSecondaries'.\r\n",
                    "output_type": "stream"
                },
                {
                    "name": "stdout",
                    "text": "\r\n",
                    "output_type": "stream"
                },
                {
                    "name": "stdout",
                    "text": "nothing to commit, working tree clean\r\n",
                    "output_type": "stream"
                }
            ],
            "execution_count": 1
        },
        {
            "cell_type": "markdown",
            "source": [
                "First we need to import the module from source control - I normally use verbose to see how it is going\n"
            ],
            "metadata": {
                "azdata_cell_guid": "7feabf41-6aec-410c-91ff-6f5e18c9e67a"
            }
        },
        {
            "cell_type": "code",
            "source": [
                "Import-Module .\\dbachecks.psd1\n",
                "$null = Reset-DbcConfig"
            ],
            "metadata": {
                "azdata_cell_guid": "8408a807-e071-471b-9c6e-228979d725aa"
            },
            "outputs": [],
            "execution_count": 2
        },
        {
            "cell_type": "markdown",
            "source": [
                "Excellent, that worked. Now to run some checks against a single instance  \n",
                "\n",
                "Maybe all of instance"
            ],
            "metadata": {
                "azdata_cell_guid": "368f3a81-18c9-43af-8b8d-2d8a4f9b7261"
            }
        },
        {
            "cell_type": "markdown",
            "source": [
                "I don't care if the test pass or fail, I am only interested in any \n",
                "\n",
                "> Describe block has Error\n",
                "\n",
                "or\n",
                "\n",
                "> Error in Script\n",
                "\n",
                "type failures"
            ],
            "metadata": {
                "azdata_cell_guid": "2a566e21-2e87-4878-88b7-af3f6da25795"
            }
        },
        {
            "cell_type": "code",
            "source": [
                "Invoke-DbcCheck -SqlInstance SQL2017N5 -Check Instance -Show Fails "
            ],
            "metadata": {
                "azdata_cell_guid": "9211bedf-3b42-41a8-aa23-17ec4d49f2c8"
            },
            "outputs": [
                {
                    "name": "stdout",
                    "text": "\u001b[97m    ____            __\r\n   / __ \\___  _____/ /____  _____\r\n  / /_/ / _ \\/ ___/ __/ _ \\/ ___/\r\n / ____/  __(__  ) /_/  __/ /\r\n/_/    \\___/____/\\__/\\___/_/\r\nPester v4.9.0\r\nExecuting all tests in 'D:\\OneDrive\\Documents\\GitHub\\dbachecks\\checks\\Instance.Tests.ps1' with Tags Instance\u001b[0m\r\n",
                    "output_type": "stream"
                },
                {
                    "name": "stdout",
                    "text": "\r\n",
                    "output_type": "stream"
                },
                {
                    "name": "stdout",
                    "text": "\u001b[92mExecuting script D:\\OneDrive\\Documents\\GitHub\\dbachecks\\checks\\Instance.Tests.ps1\u001b[0m\r\n",
                    "output_type": "stream"
                },
                {
                    "name": "stdout",
                    "text": "\r\n",
                    "output_type": "stream"
                },
                {
                    "name": "stdout",
                    "text": "\u001b[92m  Describing Instance Connection\u001b[0m\r\n",
                    "output_type": "stream"
                },
                {
                    "name": "stdout",
                    "text": "\r\n",
                    "output_type": "stream"
                },
                {
                    "name": "stdout",
                    "text": "\u001b[92m    Context Testing Instance Connection on SQL2017N5\u001b[0m\r\n",
                    "output_type": "stream"
                },
                {
                    "name": "stdout",
                    "text": "\u001b[91m      [-] We should be able to ping host SQL2017N5\u001b[0m",
                    "output_type": "stream"
                },
                {
                    "name": "stdout",
                    "text": "\u001b[90m 690ms\u001b[0m\r\n",
                    "output_type": "stream"
                },
                {
                    "name": "stdout",
                    "text": "\u001b[91m        Expected $true, but got $false.\u001b[0m\r\n",
                    "output_type": "stream"
                },
                {
                    "name": "stdout",
                    "text": "\u001b[91m        72:                     $pingable | Should -BeTrue\u001b[0m\r\n",
                    "output_type": "stream"
                },
                {
                    "name": "stdout",
                    "text": "\u001b[91m        at <ScriptBlock>, D:\\OneDrive\\Documents\\GitHub\\dbachecks\\checks\\Instance.Tests.ps1: line 72\u001b[0m\r\n",
                    "output_type": "stream"
                },
                {
                    "name": "stdout",
                    "text": "\u001b[91m      [-] We should be able to remote onto SQL2017N5\u001b[0m",
                    "output_type": "stream"
                },
                {
                    "name": "stdout",
                    "text": "\u001b[90m 13ms\u001b[0m\r\n",
                    "output_type": "stream"
                },
                {
                    "name": "stdout",
                    "text": "\u001b[91m        Expected $true, but got $false.\u001b[0m\r\n",
                    "output_type": "stream"
                },
                {
                    "name": "stdout",
                    "text": "\u001b[91m        84:                     $remoting | Should -BeTrue\u001b[0m\r\n",
                    "output_type": "stream"
                },
                {
                    "name": "stdout",
                    "text": "\u001b[91m        at <ScriptBlock>, D:\\OneDrive\\Documents\\GitHub\\dbachecks\\checks\\Instance.Tests.ps1: line 84\u001b[0m\r\n",
                    "output_type": "stream"
                },
                {
                    "name": "stdout",
                    "text": "\r\n",
                    "output_type": "stream"
                },
                {
                    "name": "stdout",
                    "text": "\u001b[92m  Describing SQL Engine Service\u001b[0m\r\n",
                    "output_type": "stream"
                },
                {
                    "name": "stdout",
                    "text": "\r\n",
                    "output_type": "stream"
                },
                {
                    "name": "stdout",
                    "text": "\u001b[92m    Context Testing SQL Engine Service on SQL2017N5\u001b[0m\r\n",
                    "output_type": "stream"
                },
                {
                    "name": "stdout",
                    "text": "\r\n",
                    "output_type": "stream"
                },
                {
                    "name": "stdout",
                    "text": "\u001b[92m  Describing TempDB Configuration\u001b[0m\r\n",
                    "output_type": "stream"
                },
                {
                    "name": "stdout",
                    "text": "\r\n",
                    "output_type": "stream"
                },
                {
                    "name": "stdout",
                    "text": "\u001b[92m    Context Testing TempDB Configuration on SQL2017N5\u001b[0m\r\n",
                    "output_type": "stream"
                },
                {
                    "name": "stdout",
                    "text": "\u001b[93m      [!] should have TF1118 enabled on SQL2017N5\u001b[0m",
                    "output_type": "stream"
                },
                {
                    "name": "stdout",
                    "text": "\u001b[93m, is skipped\u001b[0m",
                    "output_type": "stream"
                },
                {
                    "name": "stdout",
                    "text": "\u001b[90m 0ms\u001b[0m\r\n",
                    "output_type": "stream"
                },
                {
                    "name": "stdout",
                    "text": "\u001b[91m      [-] should not have TempDB Files on the C Drive on SQL2017N5\u001b[0m",
                    "output_type": "stream"
                },
                {
                    "name": "stdout",
                    "text": "\u001b[90m 14ms\u001b[0m\r\n",
                    "output_type": "stream"
                },
                {
                    "name": "stdout",
                    "text": "\u001b[91m        Expected $false, because You do not want the tempdb files on the same drive as the operating system, but got $true.\u001b[0m\r\n",
                    "output_type": "stream"
                },
                {
                    "name": "stdout",
                    "text": "\u001b[91m        149:                     $TempDBTest[3].CurrentSetting | Should -Be $TempDBTest[3].Recommended -Because 'You do not want the tempdb files on the same drive as the operating system'\u001b[0m\r\n",
                    "output_type": "stream"
                },
                {
                    "name": "stdout",
                    "text": "\u001b[91m        at <ScriptBlock>, D:\\OneDrive\\Documents\\GitHub\\dbachecks\\checks\\Instance.Tests.ps1: line 149\u001b[0m\r\n",
                    "output_type": "stream"
                },
                {
                    "name": "stdout",
                    "text": "\r\n",
                    "output_type": "stream"
                },
                {
                    "name": "stdout",
                    "text": "\u001b[92m  Describing Ad Hoc Workload Optimization\u001b[0m\r\n",
                    "output_type": "stream"
                },
                {
                    "name": "stdout",
                    "text": "\r\n",
                    "output_type": "stream"
                },
                {
                    "name": "stdout",
                    "text": "\u001b[92m    Context Testing Ad Hoc Workload Optimization on SQL2017N5\u001b[0m\r\n",
                    "output_type": "stream"
                },
                {
                    "name": "stdout",
                    "text": "\u001b[91m      [-] Should have Optimize for Ad Hoc workloads set correctly on SQL2017N5\u001b[0m",
                    "output_type": "stream"
                },
                {
                    "name": "stdout",
                    "text": "\u001b[90m 46ms\u001b[0m\r\n",
                    "output_type": "stream"
                },
                {
                    "name": "stdout",
                    "text": "\u001b[91m        Expected 1, because optimize for ad hoc workloads is a recommended setting, but got 0.\u001b[0m\r\n",
                    "output_type": "stream"
                },
                {
                    "name": "stdout",
                    "text": "\u001b[91m        173:                         $psitem.CurrentOptimizeAdHoc | Should -Be $psitem.RecommendedOptimizeAdHoc -Because \"optimize for ad hoc workloads is a recommended setting\"\u001b[0m\r\n",
                    "output_type": "stream"
                },
                {
                    "name": "stdout",
                    "text": "\u001b[91m        at <ScriptBlock>, D:\\OneDrive\\Documents\\GitHub\\dbachecks\\checks\\Instance.Tests.ps1: line 173\u001b[0m\r\n",
                    "output_type": "stream"
                },
                {
                    "name": "stdout",
                    "text": "\u001b[91m        at <ScriptBlock>, D:\\OneDrive\\Documents\\GitHub\\dbachecks\\checks\\Instance.Tests.ps1: line 172\u001b[0m\r\n",
                    "output_type": "stream"
                },
                {
                    "name": "stdout",
                    "text": "\r\n",
                    "output_type": "stream"
                },
                {
                    "name": "stdout",
                    "text": "\u001b[92m  Describing Backup Path Access\u001b[0m\r\n",
                    "output_type": "stream"
                },
                {
                    "name": "stdout",
                    "text": "\r\n",
                    "output_type": "stream"
                },
                {
                    "name": "stdout",
                    "text": "\u001b[92m    Context Testing Backup Path Access on SQL2017N5\u001b[0m\r\n",
                    "output_type": "stream"
                },
                {
                    "name": "stdout",
                    "text": "\r\n",
                    "output_type": "stream"
                },
                {
                    "name": "stdout",
                    "text": "\u001b[92m  Describing Default File Path\u001b[0m\r\n",
                    "output_type": "stream"
                },
                {
                    "name": "stdout",
                    "text": "\r\n",
                    "output_type": "stream"
                },
                {
                    "name": "stdout",
                    "text": "\u001b[92m    Context Testing Default Data File Path on SQL2017N5\u001b[0m\r\n",
                    "output_type": "stream"
                },
                {
                    "name": "stdout",
                    "text": "\u001b[91m      [-] Default Data File Path on SQL2017N5\u001b[0m",
                    "output_type": "stream"
                },
                {
                    "name": "stdout",
                    "text": "\u001b[90m 188ms\u001b[0m\r\n",
                    "output_type": "stream"
                },
                {
                    "name": "stdout",
                    "text": "\u001b[91m        Expected 'C' to be different from the actual value, because Default Data file path should not be your C:\\ drive, but got the same value.\u001b[0m\r\n",
                    "output_type": "stream"
                },
                {
                    "name": "stdout",
                    "text": "\u001b[91m        213:                     $diskFile.Value.substring(0, 1) | Should -Not -Be \"C\" -Because 'Default Data file path should not be your C:\\ drive'\u001b[0m\r\n",
                    "output_type": "stream"
                },
                {
                    "name": "stdout",
                    "text": "\u001b[91m        at <ScriptBlock>, D:\\OneDrive\\Documents\\GitHub\\dbachecks\\checks\\Instance.Tests.ps1: line 213\u001b[0m\r\n",
                    "output_type": "stream"
                },
                {
                    "name": "stdout",
                    "text": "\r\n",
                    "output_type": "stream"
                },
                {
                    "name": "stdout",
                    "text": "\u001b[92m    Context Testing Default Log File Path on SQL2017N5\u001b[0m\r\n",
                    "output_type": "stream"
                },
                {
                    "name": "stdout",
                    "text": "\u001b[91m      [-] Default Log File Path on SQL2017N5\u001b[0m",
                    "output_type": "stream"
                },
                {
                    "name": "stdout",
                    "text": "\u001b[90m 208ms\u001b[0m\r\n",
                    "output_type": "stream"
                },
                {
                    "name": "stdout",
                    "text": "\u001b[91m        Expected 'C' to be different from the actual value, because Default Log file path should not be your C:\\ drive, but got the same value.\u001b[0m\r\n",
                    "output_type": "stream"
                },
                {
                    "name": "stdout",
                    "text": "\u001b[91m        219:                     $diskLog.Value.substring(0, 1) | Should -Not -Be \"C\" -Because 'Default Log file path should not be your C:\\ drive'\u001b[0m\r\n",
                    "output_type": "stream"
                },
                {
                    "name": "stdout",
                    "text": "\u001b[91m        at <ScriptBlock>, D:\\OneDrive\\Documents\\GitHub\\dbachecks\\checks\\Instance.Tests.ps1: line 219\u001b[0m\r\n",
                    "output_type": "stream"
                },
                {
                    "name": "stdout",
                    "text": "\r\n",
                    "output_type": "stream"
                },
                {
                    "name": "stdout",
                    "text": "\u001b[92m  Describing Dedicated Administrator Connection\u001b[0m\r\n",
                    "output_type": "stream"
                },
                {
                    "name": "stdout",
                    "text": "\r\n",
                    "output_type": "stream"
                },
                {
                    "name": "stdout",
                    "text": "\u001b[92m    Context Testing Dedicated Administrator Connection on SQL2017N5\u001b[0m\r\n",
                    "output_type": "stream"
                },
                {
                    "name": "stdout",
                    "text": "\u001b[91m      [-] DAC is set to True on SQL2017N5\u001b[0m",
                    "output_type": "stream"
                },
                {
                    "name": "stdout",
                    "text": "\u001b[90m 42ms\u001b[0m\r\n",
                    "output_type": "stream"
                },
                {
                    "name": "stdout",
                    "text": "\u001b[91m        Expected $true, because This is the setting that you have chosen for DAC connections, but got $false.\u001b[0m\r\n",
                    "output_type": "stream"
                },
                {
                    "name": "stdout",
                    "text": "\u001b[91m        237:                     (Get-DbaSpConfigure -SqlInstance $psitem -ConfigName 'RemoteDACConnectionsEnabled').ConfiguredValue -eq 1 | Should -Be $dac -Because 'This is the setting that you have chosen for DAC connections'\u001b[0m\r\n",
                    "output_type": "stream"
                },
                {
                    "name": "stdout",
                    "text": "\u001b[91m        at <ScriptBlock>, D:\\OneDrive\\Documents\\GitHub\\dbachecks\\checks\\Instance.Tests.ps1: line 237\u001b[0m\r\n",
                    "output_type": "stream"
                },
                {
                    "name": "stdout",
                    "text": "\r\n",
                    "output_type": "stream"
                },
                {
                    "name": "stdout",
                    "text": "\u001b[92m  Describing Network Latency\u001b[0m\r\n",
                    "output_type": "stream"
                },
                {
                    "name": "stdout",
                    "text": "\r\n",
                    "output_type": "stream"
                },
                {
                    "name": "stdout",
                    "text": "\u001b[92m    Context Testing Network Latency on SQL2017N5\u001b[0m\r\n",
                    "output_type": "stream"
                },
                {
                    "name": "stdout",
                    "text": "\r\n",
                    "output_type": "stream"
                },
                {
                    "name": "stdout",
                    "text": "\u001b[92m  Describing Linked Servers\u001b[0m\r\n",
                    "output_type": "stream"
                },
                {
                    "name": "stdout",
                    "text": "\r\n",
                    "output_type": "stream"
                },
                {
                    "name": "stdout",
                    "text": "\u001b[92m    Context Testing Linked Servers on SQL2017N5\u001b[0m\r\n",
                    "output_type": "stream"
                },
                {
                    "name": "stdout",
                    "text": "\r\n",
                    "output_type": "stream"
                },
                {
                    "name": "stdout",
                    "text": "\u001b[92m  Describing Max Memory\u001b[0m\r\n",
                    "output_type": "stream"
                },
                {
                    "name": "stdout",
                    "text": "\r\n",
                    "output_type": "stream"
                },
                {
                    "name": "stdout",
                    "text": "\u001b[92m    Context Testing Max Memory on SQL2017N5\u001b[0m\r\n",
                    "output_type": "stream"
                },
                {
                    "name": "stdout",
                    "text": "\r\n",
                    "output_type": "stream"
                },
                {
                    "name": "stdout",
                    "text": "\u001b[92m  Describing Orphaned Files\u001b[0m\r\n",
                    "output_type": "stream"
                },
                {
                    "name": "stdout",
                    "text": "\r\n",
                    "output_type": "stream"
                },
                {
                    "name": "stdout",
                    "text": "\u001b[92m    Context Checking for orphaned database files on SQL2017N5\u001b[0m\r\n",
                    "output_type": "stream"
                },
                {
                    "name": "stdout",
                    "text": "\r\n",
                    "output_type": "stream"
                },
                {
                    "name": "stdout",
                    "text": "\u001b[92m  Describing SQL and Windows names match\u001b[0m\r\n",
                    "output_type": "stream"
                },
                {
                    "name": "stdout",
                    "text": "\r\n",
                    "output_type": "stream"
                },
                {
                    "name": "stdout",
                    "text": "\u001b[92m    Context Testing instance name matches Windows name for SQL2017N5\u001b[0m\r\n",
                    "output_type": "stream"
                },
                {
                    "name": "stdout",
                    "text": "\r\n",
                    "output_type": "stream"
                },
                {
                    "name": "stdout",
                    "text": "\u001b[92m  Describing SQL Memory Dumps\u001b[0m\r\n",
                    "output_type": "stream"
                },
                {
                    "name": "stdout",
                    "text": "\r\n",
                    "output_type": "stream"
                },
                {
                    "name": "stdout",
                    "text": "\u001b[92m    Context Checking that dumps on SQL2017N5 do not exceed 1 for SQL2017N5\u001b[0m\r\n",
                    "output_type": "stream"
                },
                {
                    "name": "stdout",
                    "text": "\r\n",
                    "output_type": "stream"
                },
                {
                    "name": "stdout",
                    "text": "\u001b[92m  Describing Supported Build\u001b[0m\r\n",
                    "output_type": "stream"
                },
                {
                    "name": "stdout",
                    "text": "\r\n",
                    "output_type": "stream"
                },
                {
                    "name": "stdout",
                    "text": "\u001b[92m    Context Checking that build is still supported by Microsoft for SQL2017N5\u001b[0m\r\n",
                    "output_type": "stream"
                },
                {
                    "name": "stdout",
                    "text": "\r\n",
                    "output_type": "stream"
                },
                {
                    "name": "stdout",
                    "text": "\u001b[92m  Describing SA Login Renamed\u001b[0m\r\n",
                    "output_type": "stream"
                },
                {
                    "name": "stdout",
                    "text": "\r\n",
                    "output_type": "stream"
                },
                {
                    "name": "stdout",
                    "text": "\u001b[92m    Context Checking that sa login has been renamed on SQL2017N5\u001b[0m\r\n",
                    "output_type": "stream"
                },
                {
                    "name": "stdout",
                    "text": "\u001b[91m      [-] sa login has been renamed on SQL2017N5\u001b[0m",
                    "output_type": "stream"
                },
                {
                    "name": "stdout",
                    "text": "\u001b[90m 13ms\u001b[0m\r\n",
                    "output_type": "stream"
                },
                {
                    "name": "stdout",
                    "text": "\u001b[91m        Expected $null, because Renaming the sa account is a requirement, but got [sa].\u001b[0m\r\n",
                    "output_type": "stream"
                },
                {
                    "name": "stdout",
                    "text": "\u001b[91m        410:                     $results | Should -Be $null -Because 'Renaming the sa account is a requirement'\u001b[0m\r\n",
                    "output_type": "stream"
                },
                {
                    "name": "stdout",
                    "text": "\u001b[91m        at <ScriptBlock>, D:\\OneDrive\\Documents\\GitHub\\dbachecks\\checks\\Instance.Tests.ps1: line 410\u001b[0m\r\n",
                    "output_type": "stream"
                },
                {
                    "name": "stdout",
                    "text": "\r\n",
                    "output_type": "stream"
                },
                {
                    "name": "stdout",
                    "text": "\u001b[92m  Describing SA Login Disabled\u001b[0m\r\n",
                    "output_type": "stream"
                },
                {
                    "name": "stdout",
                    "text": "\r\n",
                    "output_type": "stream"
                },
                {
                    "name": "stdout",
                    "text": "\u001b[92m    Context Checking that sa login has been disabled on SQL2017N5\u001b[0m\r\n",
                    "output_type": "stream"
                },
                {
                    "name": "stdout",
                    "text": "\u001b[93m      [!] sa login is disabled on SQL2017N5\u001b[0m",
                    "output_type": "stream"
                },
                {
                    "name": "stdout",
                    "text": "\u001b[93m, is skipped\u001b[0m",
                    "output_type": "stream"
                },
                {
                    "name": "stdout",
                    "text": "\u001b[90m 0ms\u001b[0m\r\n",
                    "output_type": "stream"
                },
                {
                    "name": "stdout",
                    "text": "\r\n",
                    "output_type": "stream"
                },
                {
                    "name": "stdout",
                    "text": "\u001b[92m  Describing Login SA cannot exist\u001b[0m\r\n",
                    "output_type": "stream"
                },
                {
                    "name": "stdout",
                    "text": "\r\n",
                    "output_type": "stream"
                },
                {
                    "name": "stdout",
                    "text": "\u001b[92m    Context Checking that a login named sa does not exist on SQL2017N5\u001b[0m\r\n",
                    "output_type": "stream"
                },
                {
                    "name": "stdout",
                    "text": "\u001b[93m      [!] sa login does not exist on SQL2017N5\u001b[0m",
                    "output_type": "stream"
                },
                {
                    "name": "stdout",
                    "text": "\u001b[93m, is skipped\u001b[0m",
                    "output_type": "stream"
                },
                {
                    "name": "stdout",
                    "text": "\u001b[90m 0ms\u001b[0m\r\n",
                    "output_type": "stream"
                },
                {
                    "name": "stdout",
                    "text": "\r\n",
                    "output_type": "stream"
                },
                {
                    "name": "stdout",
                    "text": "\u001b[92m  Describing Default Backup Compression\u001b[0m\r\n",
                    "output_type": "stream"
                },
                {
                    "name": "stdout",
                    "text": "\r\n",
                    "output_type": "stream"
                },
                {
                    "name": "stdout",
                    "text": "\u001b[92m    Context Testing Default Backup Compression on SQL2017N5\u001b[0m\r\n",
                    "output_type": "stream"
                },
                {
                    "name": "stdout",
                    "text": "\u001b[91m      [-] Default Backup Compression is set to True on SQL2017N5\u001b[0m",
                    "output_type": "stream"
                },
                {
                    "name": "stdout",
                    "text": "\u001b[90m 37ms\u001b[0m\r\n",
                    "output_type": "stream"
                },
                {
                    "name": "stdout",
                    "text": "\u001b[91m        Expected $true, because The default backup compression should be set correctly, but got $false.\u001b[0m\r\n",
                    "output_type": "stream"
                },
                {
                    "name": "stdout",
                    "text": "\u001b[91m        858:     (Get-DbaSpConfigure -SqlInstance $Instance -ConfigName 'DefaultBackupCompression').ConfiguredValue -eq 1 | Should -Be $defaultbackupcompression -Because 'The default backup compression should be set correctly'\u001b[0m\r\n",
                    "output_type": "stream"
                },
                {
                    "name": "stdout",
                    "text": "\u001b[91m        at Assert-BackupCompression, D:\\OneDrive\\Documents\\GitHub\\dbachecks\\internal\\assertions\\Instance.Assertions.ps1: line 858\u001b[0m\r\n",
                    "output_type": "stream"
                },
                {
                    "name": "stdout",
                    "text": "\u001b[91m        at <ScriptBlock>, D:\\OneDrive\\Documents\\GitHub\\dbachecks\\checks\\Instance.Tests.ps1: line 463\u001b[0m\r\n",
                    "output_type": "stream"
                },
                {
                    "name": "stdout",
                    "text": "\r\n",
                    "output_type": "stream"
                },
                {
                    "name": "stdout",
                    "text": "\u001b[92m  Describing XE Sessions That should be Stopped\u001b[0m\r\n",
                    "output_type": "stream"
                },
                {
                    "name": "stdout",
                    "text": "\u001b[93mWARNING: You need to use Set-DbcConfig -Name policy.xevent.requiredstoppedsession -Value to add some Extended Events session names to run this check\u001b[0m\r\n",
                    "output_type": "stream"
                },
                {
                    "name": "stdout",
                    "text": "\r\n",
                    "output_type": "stream"
                },
                {
                    "name": "stdout",
                    "text": "\u001b[92m  Describing XE Sessions That should be Running\u001b[0m\r\n",
                    "output_type": "stream"
                },
                {
                    "name": "stdout",
                    "text": "\u001b[93mWARNING: You need to use Set-DbcConfig -Name policy.xevent.requiredrunningsession -Value to add some Extended Events session names to run this check\u001b[0m\r\n",
                    "output_type": "stream"
                },
                {
                    "name": "stdout",
                    "text": "\r\n",
                    "output_type": "stream"
                },
                {
                    "name": "stdout",
                    "text": "\u001b[92m  Describing XE Sessions That Are Allowed to Be Running\u001b[0m\r\n",
                    "output_type": "stream"
                },
                {
                    "name": "stdout",
                    "text": "\u001b[93mWARNING: You need to use Set-DbcConfig -Name policy.xevent.validrunningsession -Value to add some Extended Events session names to run this check\u001b[0m\r\n",
                    "output_type": "stream"
                },
                {
                    "name": "stdout",
                    "text": "\r\n",
                    "output_type": "stream"
                },
                {
                    "name": "stdout",
                    "text": "\u001b[92m  Describing OLE Automation\u001b[0m\r\n",
                    "output_type": "stream"
                },
                {
                    "name": "stdout",
                    "text": "\r\n",
                    "output_type": "stream"
                },
                {
                    "name": "stdout",
                    "text": "\u001b[92m    Context Testing OLE Automation on SQL2017N5\u001b[0m\r\n",
                    "output_type": "stream"
                },
                {
                    "name": "stdout",
                    "text": "\r\n",
                    "output_type": "stream"
                },
                {
                    "name": "stdout",
                    "text": "\u001b[92m  Describing sp_whoisactive is Installed\u001b[0m\r\n",
                    "output_type": "stream"
                },
                {
                    "name": "stdout",
                    "text": "\r\n",
                    "output_type": "stream"
                },
                {
                    "name": "stdout",
                    "text": "\u001b[92m    Context Testing WhoIsActive exists on SQL2017N5\u001b[0m\r\n",
                    "output_type": "stream"
                },
                {
                    "name": "stdout",
                    "text": "\r\n",
                    "output_type": "stream"
                },
                {
                    "name": "stdout",
                    "text": "\u001b[92m  Describing Model Database Growth\u001b[0m\r\n",
                    "output_type": "stream"
                },
                {
                    "name": "stdout",
                    "text": "\r\n",
                    "output_type": "stream"
                },
                {
                    "name": "stdout",
                    "text": "\u001b[92m    Context Testing model database growth setting is not default on SQL2017N5\u001b[0m\r\n",
                    "output_type": "stream"
                },
                {
                    "name": "stdout",
                    "text": "\r\n",
                    "output_type": "stream"
                },
                {
                    "name": "stdout",
                    "text": "\u001b[92m  Describing Ad Users and Groups \u001b[0m\r\n",
                    "output_type": "stream"
                },
                {
                    "name": "stdout",
                    "text": "\r\n",
                    "output_type": "stream"
                },
                {
                    "name": "stdout",
                    "text": "\u001b[92m    Context Testing Active Directory users on SQL2017N5\u001b[0m\r\n",
                    "output_type": "stream"
                },
                {
                    "name": "stdout",
                    "text": "\r\n",
                    "output_type": "stream"
                },
                {
                    "name": "stdout",
                    "text": "\u001b[92m    Context Testing Active Directory groups on SQL2017N5\u001b[0m\r\n",
                    "output_type": "stream"
                },
                {
                    "name": "stdout",
                    "text": "\r\n",
                    "output_type": "stream"
                },
                {
                    "name": "stdout",
                    "text": "\u001b[92m  Describing Error Log Entries\u001b[0m\r\n",
                    "output_type": "stream"
                },
                {
                    "name": "stdout",
                    "text": "\r\n",
                    "output_type": "stream"
                },
                {
                    "name": "stdout",
                    "text": "\u001b[92m    Context Checking error log on SQL2017N5\u001b[0m\r\n",
                    "output_type": "stream"
                },
                {
                    "name": "stdout",
                    "text": "\r\n",
                    "output_type": "stream"
                },
                {
                    "name": "stdout",
                    "text": "\u001b[92m  Describing Error Log Count\u001b[0m\r\n",
                    "output_type": "stream"
                },
                {
                    "name": "stdout",
                    "text": "\r\n",
                    "output_type": "stream"
                },
                {
                    "name": "stdout",
                    "text": "\u001b[92m    Context Checking error log count on SQL2017N5\u001b[0m\r\n",
                    "output_type": "stream"
                },
                {
                    "name": "stdout",
                    "text": "\r\n",
                    "output_type": "stream"
                },
                {
                    "name": "stdout",
                    "text": "\u001b[92m  Describing Instance MaxDop\u001b[0m\r\n",
                    "output_type": "stream"
                },
                {
                    "name": "stdout",
                    "text": "\r\n",
                    "output_type": "stream"
                },
                {
                    "name": "stdout",
                    "text": "\u001b[92m    Context Testing Instance MaxDop Value on SQL2017N5\u001b[0m\r\n",
                    "output_type": "stream"
                },
                {
                    "name": "stdout",
                    "text": "\r\n",
                    "output_type": "stream"
                },
                {
                    "name": "stdout",
                    "text": "\u001b[92m  Describing Two Digit Year Cutoff\u001b[0m\r\n",
                    "output_type": "stream"
                },
                {
                    "name": "stdout",
                    "text": "\r\n",
                    "output_type": "stream"
                },
                {
                    "name": "stdout",
                    "text": "\u001b[92m    Context Testing Two Digit Year Cutoff on SQL2017N5\u001b[0m\r\n",
                    "output_type": "stream"
                },
                {
                    "name": "stdout",
                    "text": "\r\n",
                    "output_type": "stream"
                },
                {
                    "name": "stdout",
                    "text": "\u001b[92m  Describing Trace Flags Expected\u001b[0m\r\n",
                    "output_type": "stream"
                },
                {
                    "name": "stdout",
                    "text": "\r\n",
                    "output_type": "stream"
                },
                {
                    "name": "stdout",
                    "text": "\u001b[92m    Context Testing Expected Trace Flags on SQL2017N5\u001b[0m\r\n",
                    "output_type": "stream"
                },
                {
                    "name": "stdout",
                    "text": "\r\n",
                    "output_type": "stream"
                },
                {
                    "name": "stdout",
                    "text": "\u001b[92m  Describing Trace Flags Not Expected\u001b[0m\r\n",
                    "output_type": "stream"
                },
                {
                    "name": "stdout",
                    "text": "\r\n",
                    "output_type": "stream"
                },
                {
                    "name": "stdout",
                    "text": "\u001b[92m    Context Testing Not Expected Trace Flags on SQL2017N5\u001b[0m\r\n",
                    "output_type": "stream"
                },
                {
                    "name": "stdout",
                    "text": "\r\n",
                    "output_type": "stream"
                },
                {
                    "name": "stdout",
                    "text": "\u001b[92m  Describing CLR Enabled\u001b[0m\r\n",
                    "output_type": "stream"
                },
                {
                    "name": "stdout",
                    "text": "\r\n",
                    "output_type": "stream"
                },
                {
                    "name": "stdout",
                    "text": "\u001b[92m    Context Testing CLR Enabled on SQL2017N5\u001b[0m\r\n",
                    "output_type": "stream"
                },
                {
                    "name": "stdout",
                    "text": "\u001b[91m      [-] CLR Enabled is set to False on SQL2017N5\u001b[0m",
                    "output_type": "stream"
                },
                {
                    "name": "stdout",
                    "text": "\u001b[90m 60ms\u001b[0m\r\n",
                    "output_type": "stream"
                },
                {
                    "name": "stdout",
                    "text": "\u001b[91m        Expected $false, because The CLR Enabled should be set correctly, but got $true.\u001b[0m\r\n",
                    "output_type": "stream"
                },
                {
                    "name": "stdout",
                    "text": "\u001b[91m        942:     (Get-DbaSpConfigure -SqlInstance $SQLInstance -Name IsSqlClrEnabled).ConfiguredValue -eq 1 | Should -Be $CLREnabled -Because 'The CLR Enabled should be set correctly'\u001b[0m\r\n",
                    "output_type": "stream"
                },
                {
                    "name": "stdout",
                    "text": "\u001b[91m        at Assert-CLREnabled, D:\\OneDrive\\Documents\\GitHub\\dbachecks\\internal\\assertions\\Instance.Assertions.ps1: line 942\u001b[0m\r\n",
                    "output_type": "stream"
                },
                {
                    "name": "stdout",
                    "text": "\u001b[91m        at <ScriptBlock>, D:\\OneDrive\\Documents\\GitHub\\dbachecks\\checks\\Instance.Tests.ps1: line 827\u001b[0m\r\n",
                    "output_type": "stream"
                },
                {
                    "name": "stdout",
                    "text": "\r\n",
                    "output_type": "stream"
                },
                {
                    "name": "stdout",
                    "text": "\u001b[92m  Describing Cross Database Ownership Chaining\u001b[0m\r\n",
                    "output_type": "stream"
                },
                {
                    "name": "stdout",
                    "text": "\r\n",
                    "output_type": "stream"
                },
                {
                    "name": "stdout",
                    "text": "\u001b[92m    Context Testing Cross Database Ownership Chaining on SQL2017N5\u001b[0m\r\n",
                    "output_type": "stream"
                },
                {
                    "name": "stdout",
                    "text": "\r\n",
                    "output_type": "stream"
                },
                {
                    "name": "stdout",
                    "text": "\u001b[92m  Describing Ad Hoc Distributed Queries\u001b[0m\r\n",
                    "output_type": "stream"
                },
                {
                    "name": "stdout",
                    "text": "\r\n",
                    "output_type": "stream"
                },
                {
                    "name": "stdout",
                    "text": "\u001b[92m    Context Testing Ad Hoc Distributed Queries on SQL2017N5\u001b[0m\r\n",
                    "output_type": "stream"
                },
                {
                    "name": "stdout",
                    "text": "\r\n",
                    "output_type": "stream"
                },
                {
                    "name": "stdout",
                    "text": "\u001b[92m  Describing XP CmdShell\u001b[0m\r\n",
                    "output_type": "stream"
                },
                {
                    "name": "stdout",
                    "text": "\r\n",
                    "output_type": "stream"
                },
                {
                    "name": "stdout",
                    "text": "\u001b[92m    Context Testing XP CmdShell on SQL2017N5\u001b[0m\r\n",
                    "output_type": "stream"
                },
                {
                    "name": "stdout",
                    "text": "\r\n",
                    "output_type": "stream"
                },
                {
                    "name": "stdout",
                    "text": "\u001b[92m  Describing Scan For Startup Procedures\u001b[0m\r\n",
                    "output_type": "stream"
                },
                {
                    "name": "stdout",
                    "text": "\r\n",
                    "output_type": "stream"
                },
                {
                    "name": "stdout",
                    "text": "\u001b[92m    Context Testing Scan For Startup Procedures on SQL2017N5\u001b[0m\r\n",
                    "output_type": "stream"
                },
                {
                    "name": "stdout",
                    "text": "\u001b[91m      [-] Scan For Startup Procedures should be disabled on SQL2017N5\u001b[0m",
                    "output_type": "stream"
                },
                {
                    "name": "stdout",
                    "text": "\u001b[90m 10ms\u001b[0m\r\n",
                    "output_type": "stream"
                },
                {
                    "name": "stdout",
                    "text": "\u001b[91m        Expected 0, because We expected the scan for startup procedures to be disabled, but got 1.\u001b[0m\r\n",
                    "output_type": "stream"
                },
                {
                    "name": "stdout",
                    "text": "\u001b[91m        827:     $AllInstanceInfo.ScanForStartupProceduresDisabled.ConfiguredValue | Should -Be 0 -Because \"We expected the scan for startup procedures to be disabled\"\u001b[0m\r\n",
                    "output_type": "stream"
                },
                {
                    "name": "stdout",
                    "text": "\u001b[91m        at Assert-ScanForStartupProcedures, D:\\OneDrive\\Documents\\GitHub\\dbachecks\\internal\\assertions\\Instance.Assertions.ps1: line 827\u001b[0m\r\n",
                    "output_type": "stream"
                },
                {
                    "name": "stdout",
                    "text": "\u001b[91m        at <ScriptBlock>, D:\\OneDrive\\Documents\\GitHub\\dbachecks\\checks\\Instance.Tests.ps1: line 895\u001b[0m\r\n",
                    "output_type": "stream"
                },
                {
                    "name": "stdout",
                    "text": "\r\n",
                    "output_type": "stream"
                },
                {
                    "name": "stdout",
                    "text": "\u001b[92m  Describing Default Trace\u001b[0m\r\n",
                    "output_type": "stream"
                },
                {
                    "name": "stdout",
                    "text": "\r\n",
                    "output_type": "stream"
                },
                {
                    "name": "stdout",
                    "text": "\u001b[92m    Context Checking Default Trace on SQL2017N5\u001b[0m\r\n",
                    "output_type": "stream"
                },
                {
                    "name": "stdout",
                    "text": "\r\n",
                    "output_type": "stream"
                },
                {
                    "name": "stdout",
                    "text": "\u001b[92m  Describing OLE Automation Procedures Disabled\u001b[0m\r\n",
                    "output_type": "stream"
                },
                {
                    "name": "stdout",
                    "text": "\r\n",
                    "output_type": "stream"
                },
                {
                    "name": "stdout",
                    "text": "\u001b[92m    Context Checking OLE Automation Procedures on SQL2017N5\u001b[0m\r\n",
                    "output_type": "stream"
                },
                {
                    "name": "stdout",
                    "text": "\r\n",
                    "output_type": "stream"
                },
                {
                    "name": "stdout",
                    "text": "\u001b[92m  Describing Remote Access Disabled\u001b[0m\r\n",
                    "output_type": "stream"
                },
                {
                    "name": "stdout",
                    "text": "\r\n",
                    "output_type": "stream"
                },
                {
                    "name": "stdout",
                    "text": "\u001b[92m    Context Testing Remote Access on SQL2017N5\u001b[0m\r\n",
                    "output_type": "stream"
                },
                {
                    "name": "stdout",
                    "text": "\u001b[91m      [-] The Remote Access should be disabled on SQL2017N5\u001b[0m",
                    "output_type": "stream"
                },
                {
                    "name": "stdout",
                    "text": "\u001b[90m 10ms\u001b[0m\r\n",
                    "output_type": "stream"
                },
                {
                    "name": "stdout",
                    "text": "\u001b[91m        Expected 0, because We expected Remote Access to be disabled, but got 1.\u001b[0m\r\n",
                    "output_type": "stream"
                },
                {
                    "name": "stdout",
                    "text": "\u001b[91m        836:     $AllInstanceInfo.RemoteAccess.ConfiguredValue | Should -Be 0 -Because \"We expected Remote Access to be disabled\"\u001b[0m\r\n",
                    "output_type": "stream"
                },
                {
                    "name": "stdout",
                    "text": "\u001b[91m        at Assert-RemoteAccess, D:\\OneDrive\\Documents\\GitHub\\dbachecks\\internal\\assertions\\Instance.Assertions.ps1: line 836\u001b[0m\r\n",
                    "output_type": "stream"
                },
                {
                    "name": "stdout",
                    "text": "\u001b[91m        at <ScriptBlock>, D:\\OneDrive\\Documents\\GitHub\\dbachecks\\checks\\Instance.Tests.ps1: line 946\u001b[0m\r\n",
                    "output_type": "stream"
                },
                {
                    "name": "stdout",
                    "text": "\r\n",
                    "output_type": "stream"
                },
                {
                    "name": "stdout",
                    "text": "\u001b[92m  Describing Latest Build\u001b[0m\r\n",
                    "output_type": "stream"
                },
                {
                    "name": "stdout",
                    "text": "\r\n",
                    "output_type": "stream"
                },
                {
                    "name": "stdout",
                    "text": "\u001b[92m    Context Testing Latest Build on SQL2017N5\u001b[0m\r\n",
                    "output_type": "stream"
                },
                {
                    "name": "stdout",
                    "text": "\u001b[91m      [-] The Latest Build of SQL should be installed on SQL2017N5\u001b[0m",
                    "output_type": "stream"
                },
                {
                    "name": "stdout",
                    "text": "\u001b[90m 12ms\u001b[0m\r\n",
                    "output_type": "stream"
                },
                {
                    "name": "stdout",
                    "text": "\u001b[91m        Expected $true, because We expected the SQL Server to be on the newest SQL Server Packs/CUs, but got $false.\u001b[0m\r\n",
                    "output_type": "stream"
                },
                {
                    "name": "stdout",
                    "text": "\u001b[91m        979:     $AllInstanceInfo.LatestBuild.Compliant | Should -Be $true -Because \"We expected the SQL Server to be on the newest SQL Server Packs/CUs\"\u001b[0m\r\n",
                    "output_type": "stream"
                },
                {
                    "name": "stdout",
                    "text": "\u001b[91m        at Assert-LatestBuild, D:\\OneDrive\\Documents\\GitHub\\dbachecks\\internal\\assertions\\Instance.Assertions.ps1: line 979\u001b[0m\r\n",
                    "output_type": "stream"
                },
                {
                    "name": "stdout",
                    "text": "\u001b[91m        at <ScriptBlock>, D:\\OneDrive\\Documents\\GitHub\\dbachecks\\checks\\Instance.Tests.ps1: line 964\u001b[0m\r\n",
                    "output_type": "stream"
                },
                {
                    "name": "stdout",
                    "text": "\r\n",
                    "output_type": "stream"
                },
                {
                    "name": "stdout",
                    "text": "\u001b[92m  Describing Login BUILTIN Administrators cannot exist\u001b[0m\r\n",
                    "output_type": "stream"
                },
                {
                    "name": "stdout",
                    "text": "\r\n",
                    "output_type": "stream"
                },
                {
                    "name": "stdout",
                    "text": "\u001b[92m    Context Checking that a login named BUILTIN\\Administrators does not exist on SQL2017N5\u001b[0m\r\n",
                    "output_type": "stream"
                },
                {
                    "name": "stdout",
                    "text": "\u001b[93m      [!] BUILTIN\\Administrators login does not exist on SQL2017N5\u001b[0m",
                    "output_type": "stream"
                },
                {
                    "name": "stdout",
                    "text": "\u001b[93m, is skipped\u001b[0m",
                    "output_type": "stream"
                },
                {
                    "name": "stdout",
                    "text": "\u001b[90m 0ms\u001b[0m\r\n",
                    "output_type": "stream"
                },
                {
                    "name": "stdout",
                    "text": "\r\n",
                    "output_type": "stream"
                },
                {
                    "name": "stdout",
                    "text": "\u001b[92m  Describing Local Windows Groups Not Have SQL Logins\u001b[0m\r\n",
                    "output_type": "stream"
                },
                {
                    "name": "stdout",
                    "text": "\r\n",
                    "output_type": "stream"
                },
                {
                    "name": "stdout",
                    "text": "\u001b[92m    Context Checking that local Windows groups do not have SQL Logins on SQL2017N5\u001b[0m\r\n",
                    "output_type": "stream"
                },
                {
                    "name": "stdout",
                    "text": "\u001b[93m      [!] Local Windows groups should not SQL Logins on SQL2017N5\u001b[0m",
                    "output_type": "stream"
                },
                {
                    "name": "stdout",
                    "text": "\u001b[93m, is skipped\u001b[0m",
                    "output_type": "stream"
                },
                {
                    "name": "stdout",
                    "text": "\u001b[90m 0ms\u001b[0m\r\n",
                    "output_type": "stream"
                },
                {
                    "name": "stdout",
                    "text": "\r\n",
                    "output_type": "stream"
                },
                {
                    "name": "stdout",
                    "text": "\u001b[92m  Describing Failed Login Auditing\u001b[0m\r\n",
                    "output_type": "stream"
                },
                {
                    "name": "stdout",
                    "text": "\r\n",
                    "output_type": "stream"
                },
                {
                    "name": "stdout",
                    "text": "\u001b[92m    Context Testing if failed login auditing is in place on SQL2017N5\u001b[0m\r\n",
                    "output_type": "stream"
                },
                {
                    "name": "stdout",
                    "text": "\u001b[93m      [!] The failed login auditing should be set on SQL2017N5\u001b[0m",
                    "output_type": "stream"
                },
                {
                    "name": "stdout",
                    "text": "\u001b[93m, is skipped\u001b[0m",
                    "output_type": "stream"
                },
                {
                    "name": "stdout",
                    "text": "\u001b[90m 0ms\u001b[0m\r\n",
                    "output_type": "stream"
                },
                {
                    "name": "stdout",
                    "text": "\r\n",
                    "output_type": "stream"
                },
                {
                    "name": "stdout",
                    "text": "\u001b[92m  Describing Successful Login Auditing\u001b[0m\r\n",
                    "output_type": "stream"
                },
                {
                    "name": "stdout",
                    "text": "\r\n",
                    "output_type": "stream"
                },
                {
                    "name": "stdout",
                    "text": "\u001b[92m    Context Testing if successful and failed login auditing is in place on SQL2017N5\u001b[0m\r\n",
                    "output_type": "stream"
                },
                {
                    "name": "stdout",
                    "text": "\u001b[93m      [!] The successful and failed auditing should be set on SQL2017N5\u001b[0m",
                    "output_type": "stream"
                },
                {
                    "name": "stdout",
                    "text": "\u001b[93m, is skipped\u001b[0m",
                    "output_type": "stream"
                },
                {
                    "name": "stdout",
                    "text": "\u001b[90m 0ms\u001b[0m\r\n",
                    "output_type": "stream"
                },
                {
                    "name": "stdout",
                    "text": "\r\n",
                    "output_type": "stream"
                },
                {
                    "name": "stdout",
                    "text": "\u001b[92m  Describing SqlAgentProxiesNoPublicRole\u001b[0m\r\n",
                    "output_type": "stream"
                },
                {
                    "name": "stdout",
                    "text": "\r\n",
                    "output_type": "stream"
                },
                {
                    "name": "stdout",
                    "text": "\u001b[92m    Context Testing to see if the public role has access to the SQL Agent proxies on SQL2017N5\u001b[0m\r\n",
                    "output_type": "stream"
                },
                {
                    "name": "stdout",
                    "text": "\u001b[93m      [!] The public role should not have access to the SQL Agent Proxies on SQL2017N5\u001b[0m",
                    "output_type": "stream"
                },
                {
                    "name": "stdout",
                    "text": "\u001b[93m, is skipped\u001b[0m",
                    "output_type": "stream"
                },
                {
                    "name": "stdout",
                    "text": "\u001b[90m 0ms\u001b[0m\r\n",
                    "output_type": "stream"
                },
                {
                    "name": "stdout",
                    "text": "\r\n",
                    "output_type": "stream"
                },
                {
                    "name": "stdout",
                    "text": "\u001b[92m  Describing Hide Instance\u001b[0m\r\n",
                    "output_type": "stream"
                },
                {
                    "name": "stdout",
                    "text": "\r\n",
                    "output_type": "stream"
                },
                {
                    "name": "stdout",
                    "text": "\u001b[92m    Context Checking the Hide an Instance of SQL Server Database Engine property on SQL2017N5\u001b[0m\r\n",
                    "output_type": "stream"
                },
                {
                    "name": "stdout",
                    "text": "\u001b[93m      [!] The Hide an Instance of SQL Server Database Engine property on SQL Server instance SQL2017N5\u001b[0m",
                    "output_type": "stream"
                },
                {
                    "name": "stdout",
                    "text": "\u001b[93m, is skipped\u001b[0m",
                    "output_type": "stream"
                },
                {
                    "name": "stdout",
                    "text": "\u001b[90m 0ms\u001b[0m\r\n",
                    "output_type": "stream"
                },
                {
                    "name": "stdout",
                    "text": "\r\n",
                    "output_type": "stream"
                },
                {
                    "name": "stdout",
                    "text": "\u001b[92m  Describing SQL Engine Service Admin\u001b[0m\r\n",
                    "output_type": "stream"
                },
                {
                    "name": "stdout",
                    "text": "\r\n",
                    "output_type": "stream"
                },
                {
                    "name": "stdout",
                    "text": "\u001b[92m    Context Testing whether SQL Engine account is a local administrator on SQL2017N5\u001b[0m\r\n",
                    "output_type": "stream"
                },
                {
                    "name": "stdout",
                    "text": "\u001b[93m      [!] The SQL Engine service account should not be a local administrator on SQL2017N5\u001b[0m",
                    "output_type": "stream"
                },
                {
                    "name": "stdout",
                    "text": "\u001b[93m, is skipped\u001b[0m",
                    "output_type": "stream"
                },
                {
                    "name": "stdout",
                    "text": "\u001b[90m 0ms\u001b[0m\r\n",
                    "output_type": "stream"
                },
                {
                    "name": "stdout",
                    "text": "\r\n",
                    "output_type": "stream"
                },
                {
                    "name": "stdout",
                    "text": "\u001b[92m  Describing SQL Agent Service Admin\u001b[0m\r\n",
                    "output_type": "stream"
                },
                {
                    "name": "stdout",
                    "text": "\r\n",
                    "output_type": "stream"
                },
                {
                    "name": "stdout",
                    "text": "\u001b[92m    Context Testing whether SQL Agent account is a local administrator on SQL2017N5\u001b[0m\r\n",
                    "output_type": "stream"
                },
                {
                    "name": "stdout",
                    "text": "\u001b[93m      [!] The SQL Agent service account should not be a local administrator on SQL2017N5\u001b[0m",
                    "output_type": "stream"
                },
                {
                    "name": "stdout",
                    "text": "\u001b[93m, is skipped\u001b[0m",
                    "output_type": "stream"
                },
                {
                    "name": "stdout",
                    "text": "\u001b[90m 0ms\u001b[0m\r\n",
                    "output_type": "stream"
                },
                {
                    "name": "stdout",
                    "text": "\r\n",
                    "output_type": "stream"
                },
                {
                    "name": "stdout",
                    "text": "\u001b[92m  Describing SQL Full Text Service Admin\u001b[0m\r\n",
                    "output_type": "stream"
                },
                {
                    "name": "stdout",
                    "text": "\r\n",
                    "output_type": "stream"
                },
                {
                    "name": "stdout",
                    "text": "\u001b[92m    Context Testing whether SQL Full Text account is a local administrator on  SQL2017N5\u001b[0m\r\n",
                    "output_type": "stream"
                },
                {
                    "name": "stdout",
                    "text": "\u001b[93m      [!] The SQL Full Text service account should not be a local administrator on SQL2017N5\u001b[0m",
                    "output_type": "stream"
                },
                {
                    "name": "stdout",
                    "text": "\u001b[93m, is skipped\u001b[0m",
                    "output_type": "stream"
                },
                {
                    "name": "stdout",
                    "text": "\u001b[90m 0ms\u001b[0m\r\n",
                    "output_type": "stream"
                },
                {
                    "name": "stdout",
                    "text": "\r\n",
                    "output_type": "stream"
                },
                {
                    "name": "stdout",
                    "text": "\u001b[92m  Describing Login Check Policy\u001b[0m\r\n",
                    "output_type": "stream"
                },
                {
                    "name": "stdout",
                    "text": "\r\n",
                    "output_type": "stream"
                },
                {
                    "name": "stdout",
                    "text": "\u001b[92m    Context Testing if the CHECK_POLICY is enabled on all logins on SQL2017N5\u001b[0m\r\n",
                    "output_type": "stream"
                },
                {
                    "name": "stdout",
                    "text": "\u001b[93m      [!] All logins should have the CHECK_POLICY option set to ON on SQL2017N5\u001b[0m",
                    "output_type": "stream"
                },
                {
                    "name": "stdout",
                    "text": "\u001b[93m, is skipped\u001b[0m",
                    "output_type": "stream"
                },
                {
                    "name": "stdout",
                    "text": "\u001b[90m 0ms\u001b[0m\r\n",
                    "output_type": "stream"
                },
                {
                    "name": "stdout",
                    "text": "\r\n",
                    "output_type": "stream"
                },
                {
                    "name": "stdout",
                    "text": "\u001b[92m  Describing Login Password Expiration\u001b[0m\r\n",
                    "output_type": "stream"
                },
                {
                    "name": "stdout",
                    "text": "\r\n",
                    "output_type": "stream"
                },
                {
                    "name": "stdout",
                    "text": "\u001b[92m    Context Testing if the login password expiration is enabled for sql logins in the sysadmin role on SQL2017N5\u001b[0m\r\n",
                    "output_type": "stream"
                },
                {
                    "name": "stdout",
                    "text": "\u001b[93m      [!] All sql logins should have the password expiration option set to ON in the sysadmin role on SQL2017N5\u001b[0m",
                    "output_type": "stream"
                },
                {
                    "name": "stdout",
                    "text": "\u001b[93m, is skipped\u001b[0m",
                    "output_type": "stream"
                },
                {
                    "name": "stdout",
                    "text": "\u001b[90m 0ms\u001b[0m\r\n",
                    "output_type": "stream"
                },
                {
                    "name": "stdout",
                    "text": "\r\n",
                    "output_type": "stream"
                },
                {
                    "name": "stdout",
                    "text": "\u001b[92m  Describing Login Must Change\u001b[0m\r\n",
                    "output_type": "stream"
                },
                {
                    "name": "stdout",
                    "text": "\r\n",
                    "output_type": "stream"
                },
                {
                    "name": "stdout",
                    "text": "\u001b[92m    Context Testing if the new SQL logins that have not logged have to change their password when they log in on SQL2017N5\u001b[0m\r\n",
                    "output_type": "stream"
                },
                {
                    "name": "stdout",
                    "text": "\u001b[93m      [!] All new sql logins should have the have to change their password when they log in for the first time on SQL2017N5\u001b[0m",
                    "output_type": "stream"
                },
                {
                    "name": "stdout",
                    "text": "\u001b[93m, is skipped\u001b[0m",
                    "output_type": "stream"
                },
                {
                    "name": "stdout",
                    "text": "\u001b[90m 0ms\u001b[0m\r\n",
                    "output_type": "stream"
                },
                {
                    "name": "stdout",
                    "text": "\r\n",
                    "output_type": "stream"
                },
                {
                    "name": "stdout",
                    "text": "\u001b[92m  Describing SQL Browser Service\u001b[0m\r\n",
                    "output_type": "stream"
                },
                {
                    "name": "stdout",
                    "text": "\u001b[93mWARNING: [09:59:48][Get-ComputerName] You must specify -ComputerName or use Set-DbcConfig app.computername to setup a list of servers\u001b[0m\r\n",
                    "output_type": "stream"
                },
                {
                    "name": "stdout",
                    "text": "\u001b[97mTests completed in 23.47s\u001b[0m\r\n",
                    "output_type": "stream"
                },
                {
                    "name": "stdout",
                    "text": "\u001b[97mTests Passed: 60, \u001b[0m",
                    "output_type": "stream"
                },
                {
                    "name": "stdout",
                    "text": "\u001b[91mFailed: 13, \u001b[0m",
                    "output_type": "stream"
                },
                {
                    "name": "stdout",
                    "text": "\u001b[93mSkipped: 15, \u001b[0m",
                    "output_type": "stream"
                },
                {
                    "name": "stdout",
                    "text": "\u001b[90mPending: 0, \u001b[0m",
                    "output_type": "stream"
                },
                {
                    "name": "stdout",
                    "text": "\u001b[90mInconclusive: 0 \u001b[0m\r\n",
                    "output_type": "stream"
                }
            ],
            "execution_count": 3
        },
        {
            "cell_type": "code",
            "source": [
                "Invoke-DbcCheck -SqlInstance SQL2017N5 -Check Database -Show Fails"
            ],
            "metadata": {
                "azdata_cell_guid": "d8ba1127-364f-4db2-a225-96a797029240"
            },
            "outputs": [
                {
                    "name": "stdout",
                    "text": "\u001b[97m    ____            __\r\n   / __ \\___  _____/ /____  _____\r\n  / /_/ / _ \\/ ___/ __/ _ \\/ ___/\r\n / ____/  __(__  ) /_/  __/ /\r\n/_/    \\___/____/\\__/\\___/_/\r\nPester v4.9.0\r\nExecuting all tests in 'D:\\OneDrive\\Documents\\GitHub\\dbachecks\\checks\\Agent.Tests.ps1', 'D:\\OneDrive\\Documents\\GitHub\\dbachecks\\checks\\Database.Tests.ps1' with Tags Database\u001b[0m\r\n",
                    "output_type": "stream"
                },
                {
                    "name": "stdout",
                    "text": "\r\n",
                    "output_type": "stream"
                },
                {
                    "name": "stdout",
                    "text": "\u001b[92mExecuting script D:\\OneDrive\\Documents\\GitHub\\dbachecks\\checks\\Agent.Tests.ps1\u001b[0m\r\n",
                    "output_type": "stream"
                },
                {
                    "name": "stdout",
                    "text": "\r\n",
                    "output_type": "stream"
                },
                {
                    "name": "stdout",
                    "text": "\u001b[92mExecuting script D:\\OneDrive\\Documents\\GitHub\\dbachecks\\checks\\Database.Tests.ps1\u001b[0m\r\n",
                    "output_type": "stream"
                },
                {
                    "name": "stdout",
                    "text": "\r\n",
                    "output_type": "stream"
                },
                {
                    "name": "stdout",
                    "text": "\u001b[92m  Describing Database Collation\u001b[0m\r\n",
                    "output_type": "stream"
                },
                {
                    "name": "stdout",
                    "text": "\r\n",
                    "output_type": "stream"
                },
                {
                    "name": "stdout",
                    "text": "\u001b[92m    Context Testing database collation on SQL2017N5\u001b[0m\r\n",
                    "output_type": "stream"
                },
                {
                    "name": "stdout",
                    "text": "\u001b[91m      [-] Database SqlWatch collation (Latin1_General_CI_AS) should match server collation (SQL_Latin1_General_CP1_CI_AS) on SQL2017N5\u001b[0m",
                    "output_type": "stream"
                },
                {
                    "name": "stdout",
                    "text": "\u001b[90m 15ms\u001b[0m\r\n",
                    "output_type": "stream"
                },
                {
                    "name": "stdout",
                    "text": "\u001b[91m        Expected strings to be the same, because You will get collation conflict errors in tempdb, but they were different.\u001b[0m\r\n",
                    "output_type": "stream"
                },
                {
                    "name": "stdout",
                    "text": "\u001b[91m        Expected length: 20\u001b[0m\r\n",
                    "output_type": "stream"
                },
                {
                    "name": "stdout",
                    "text": "\u001b[91m        Actual length:   28\u001b[0m\r\n",
                    "output_type": "stream"
                },
                {
                    "name": "stdout",
                    "text": "\u001b[91m        Strings differ at index 0.\u001b[0m\r\n",
                    "output_type": "stream"
                },
                {
                    "name": "stdout",
                    "text": "\u001b[91m        Expected: 'Latin1_General_CI_AS'\u001b[0m\r\n",
                    "output_type": "stream"
                },
                {
                    "name": "stdout",
                    "text": "\u001b[91m        But was:  'SQL_Latin1_General_CP1_CI_AS'\u001b[0m\r\n",
                    "output_type": "stream"
                },
                {
                    "name": "stdout",
                    "text": "\u001b[91m        47:                         $psitem.ServerCollation | Should -Be $psitem.DatabaseCollation -Because \"You will get collation conflict errors in tempdb\"\u001b[0m\r\n",
                    "output_type": "stream"
                },
                {
                    "name": "stdout",
                    "text": "\u001b[91m        at <ScriptBlock>, D:\\OneDrive\\Documents\\GitHub\\dbachecks\\checks\\Database.Tests.ps1: line 47\u001b[0m\r\n",
                    "output_type": "stream"
                },
                {
                    "name": "stdout",
                    "text": "\r\n",
                    "output_type": "stream"
                },
                {
                    "name": "stdout",
                    "text": "\u001b[92m  Describing Suspect Page\u001b[0m\r\n",
                    "output_type": "stream"
                },
                {
                    "name": "stdout",
                    "text": "\r\n",
                    "output_type": "stream"
                },
                {
                    "name": "stdout",
                    "text": "\u001b[92m    Context Testing suspect pages on SQL2017N5\u001b[0m\r\n",
                    "output_type": "stream"
                },
                {
                    "name": "stdout",
                    "text": "\r\n",
                    "output_type": "stream"
                },
                {
                    "name": "stdout",
                    "text": "\u001b[92m  Describing Last Backup Restore Test\u001b[0m\r\n",
                    "output_type": "stream"
                },
                {
                    "name": "stdout",
                    "text": "\r\n",
                    "output_type": "stream"
                },
                {
                    "name": "stdout",
                    "text": "\u001b[92m  Describing Last Backup VerifyOnly\u001b[0m\r\n",
                    "output_type": "stream"
                },
                {
                    "name": "stdout",
                    "text": "\r\n",
                    "output_type": "stream"
                },
                {
                    "name": "stdout",
                    "text": "\u001b[92m    Context VerifyOnly tests of last backups on SQL2017N5\u001b[0m\r\n",
                    "output_type": "stream"
                },
                {
                    "data": {
                        "text/plain": "\u001b[93;46m                                                                                                    \n Updating                                                                                           \n    Progress                                                                                        \n    [                                                                                        ]      \n                                                                                                    \n    Scanning Restore headers: 0/1                                                                   \n                                                                                                    \u001b[0m"
                    },
                    "metadata": {},
                    "output_type": "display_data"
                },
                {
                    "data": {
                        "text/plain": "\u001b[93;46m                                                                                                    \n Updating                                                                                           \n    Progress                                                                                        \n    [                                                                                        ]      \n                                                                                                    \n    Scanning Restore headers: 0/1                                                                   \n                                                                                                    \u001b[0m"
                    },
                    "metadata": {},
                    "output_type": "display_data"
                },
                {
                    "data": {
                        "text/plain": "\u001b[93;46m                                                                                                    \n Updating                                                                                           \n    Progress                                                                                        \n    [                                                                                        ]      \n                                                                                                    \n    Scanning Restore headers: 0/1                                                                   \n                                                                                                    \u001b[0m"
                    },
                    "metadata": {},
                    "output_type": "display_data"
                },
                {
                    "data": {
                        "text/plain": "\u001b[93;46m                                                                                                    \n Verifying dbatools-testrestore-ADonutFactory backup file on SQL2017N5 - Backup 1 of 4              \n    Progress: 0 %                                                                                   \n    [                                                                                        ]      \n                                                                                                    \u001b[0m"
                    },
                    "metadata": {},
                    "output_type": "display_data"
                },
                {
                    "data": {
                        "text/plain": ""
                    },
                    "metadata": {},
                    "output_type": "display_data"
                },
                {
                    "data": {
                        "text/plain": "\u001b[93;46m                                                                                                    \n Updating                                                                                           \n    Progress                                                                                        \n    [                                                                                        ]      \n                                                                                                    \n    Scanning Restore headers: 0/1                                                                   \n                                                                                                    \u001b[0m"
                    },
                    "metadata": {},
                    "output_type": "display_data"
                },
                {
                    "data": {
                        "text/plain": "\u001b[93;46m                                                                                                    \n Updating                                                                                           \n    Progress                                                                                        \n    [                                                                                        ]      \n                                                                                                    \n    Scanning Restore headers: 0/1                                                                   \n                                                                                                    \u001b[0m"
                    },
                    "metadata": {},
                    "output_type": "display_data"
                },
                {
                    "data": {
                        "text/plain": "\u001b[93;46m                                                                                                    \n Verifying dbatools-testrestore-ASausageFactory backup file on SQL2017N5 - Backup 1 of 4            \n    Progress: 0 %                                                                                   \n    [                                                                                        ]      \n                                                                                                    \u001b[0m"
                    },
                    "metadata": {},
                    "output_type": "display_data"
                },
                {
                    "data": {
                        "text/plain": ""
                    },
                    "metadata": {},
                    "output_type": "display_data"
                },
                {
                    "data": {
                        "text/plain": "\u001b[93;46m                                                                                                    \n Updating                                                                                           \n    Progress                                                                                        \n    [                                                                                        ]      \n                                                                                                    \n    Scanning Restore headers: 0/1                                                                   \n                                                                                                    \u001b[0m"
                    },
                    "metadata": {},
                    "output_type": "display_data"
                },
                {
                    "data": {
                        "text/plain": "\u001b[93;46m                                                                                                    \n Updating                                                                                           \n    Progress                                                                                        \n    [                                                                                        ]      \n                                                                                                    \n    Scanning Restore headers: 0/1                                                                   \n                                                                                                    \u001b[0m"
                    },
                    "metadata": {},
                    "output_type": "display_data"
                },
                {
                    "data": {
                        "text/plain": "\u001b[93;46m                                                                                                    \n Verifying dbatools-testrestore-ASockFactory backup file on SQL2017N5 - Backup 1 of 4               \n    Progress: 0 %                                                                                   \n    [                                                                                        ]      \n                                                                                                    \u001b[0m"
                    },
                    "metadata": {},
                    "output_type": "display_data"
                },
                {
                    "data": {
                        "text/plain": ""
                    },
                    "metadata": {},
                    "output_type": "display_data"
                },
                {
                    "data": {
                        "text/plain": "\u001b[93;46m                                                                                                    \n Updating                                                                                           \n    Progress                                                                                        \n    [                                                                                        ]      \n                                                                                                    \n    Scanning Restore headers: 0/1                                                                   \n                                                                                                    \u001b[0m"
                    },
                    "metadata": {},
                    "output_type": "display_data"
                },
                {
                    "data": {
                        "text/plain": "\u001b[93;46m                                                                                                    \n Updating                                                                                           \n    Progress                                                                                        \n    [                                                                                        ]      \n                                                                                                    \n    Scanning Restore headers: 0/1                                                                   \n                                                                                                    \u001b[0m"
                    },
                    "metadata": {},
                    "output_type": "display_data"
                },
                {
                    "data": {
                        "text/plain": "\u001b[93;46m                                                                                                    \n Verifying dbatools-testrestore-BeardNotebooks backup file on SQL2017N5 - Backup 1 of 4             \n    Progress: 0 %                                                                                   \n    [                                                                                        ]      \n                                                                                                    \u001b[0m"
                    },
                    "metadata": {},
                    "output_type": "display_data"
                },
                {
                    "data": {
                        "text/plain": ""
                    },
                    "metadata": {},
                    "output_type": "display_data"
                },
                {
                    "data": {
                        "text/plain": "\u001b[93;46m                                                                                                    \n Updating                                                                                           \n    Progress                                                                                        \n    [                                                                                        ]      \n                                                                                                    \n    Scanning Restore headers: 0/1                                                                   \n                                                                                                    \u001b[0m"
                    },
                    "metadata": {},
                    "output_type": "display_data"
                },
                {
                    "data": {
                        "text/plain": "\u001b[93;46m                                                                                                    \n Updating                                                                                           \n    Progress                                                                                        \n    [                                                                                        ]      \n                                                                                                    \n    Scanning Restore headers: 0/1                                                                   \n                                                                                                    \u001b[0m"
                    },
                    "metadata": {},
                    "output_type": "display_data"
                },
                {
                    "data": {
                        "text/plain": "\u001b[93;46m                                                                                                    \n Updating                                                                                           \n    Progress                                                                                        \n    [                                                                                        ]      \n                                                                                                    \n    Scanning Restore headers: 0/1                                                                   \n                                                                                                    \u001b[0m"
                    },
                    "metadata": {},
                    "output_type": "display_data"
                },
                {
                    "data": {
                        "text/plain": "\u001b[93;46m                                                                                                    \n Updating                                                                                           \n    Progress                                                                                        \n    [                                                                                        ]      \n                                                                                                    \n    Scanning Restore headers: 0/1                                                                   \n                                                                                                    \u001b[0m"
                    },
                    "metadata": {},
                    "output_type": "display_data"
                },
                {
                    "data": {
                        "text/plain": "\u001b[93;46m                                                                                                    \n Updating                                                                                           \n    Progress                                                                                        \n    [                                                                                        ]      \n                                                                                                    \n    Scanning Restore headers: 0/1                                                                   \n                                                                                                    \u001b[0m"
                    },
                    "metadata": {},
                    "output_type": "display_data"
                },
                {
                    "data": {
                        "text/plain": "\u001b[93;46m                                                                                                    \n Verifying dbatools-testrestore-emptydbachecks backup file on SQL2017N5 - Backup 1 of 4             \n    Progress: 0 %                                                                                   \n    [                                                                                        ]      \n                                                                                                    \u001b[0m"
                    },
                    "metadata": {},
                    "output_type": "display_data"
                },
                {
                    "data": {
                        "text/plain": ""
                    },
                    "metadata": {},
                    "output_type": "display_data"
                },
                {
                    "data": {
                        "text/plain": "\u001b[93;46m                                                                                                    \n Updating                                                                                           \n    Progress                                                                                        \n    [                                                                                        ]      \n                                                                                                    \n    Scanning Restore headers: 0/1                                                                   \n                                                                                                    \u001b[0m"
                    },
                    "metadata": {},
                    "output_type": "display_data"
                },
                {
                    "data": {
                        "text/plain": "\u001b[93;46m                                                                                                    \n Updating                                                                                           \n    Progress                                                                                        \n    [                                                                                        ]      \n                                                                                                    \n    Scanning Restore headers: 0/1                                                                   \n                                                                                                    \u001b[0m"
                    },
                    "metadata": {},
                    "output_type": "display_data"
                },
                {
                    "data": {
                        "text/plain": "\u001b[93;46m                                                                                                    \n Verifying dbatools-testrestore-master backup file on SQL2017N5 - Backup 1 of 1                     \n    Progress: 0 %                                                                                   \n    [                                                                                        ]      \n                                                                                                    \u001b[0m"
                    },
                    "metadata": {},
                    "output_type": "display_data"
                },
                {
                    "data": {
                        "text/plain": ""
                    },
                    "metadata": {},
                    "output_type": "display_data"
                },
                {
                    "data": {
                        "text/plain": "\u001b[93;46m                                                                                                    \n Updating                                                                                           \n    Progress                                                                                        \n    [                                                                                        ]      \n                                                                                                    \n    Scanning Restore headers: 0/1                                                                   \n                                                                                                    \u001b[0m"
                    },
                    "metadata": {},
                    "output_type": "display_data"
                },
                {
                    "data": {
                        "text/plain": "\u001b[93;46m                                                                                                    \n Updating                                                                                           \n    Progress                                                                                        \n    [                                                                                        ]      \n                                                                                                    \n    Scanning Restore headers: 0/1                                                                   \n                                                                                                    \u001b[0m"
                    },
                    "metadata": {},
                    "output_type": "display_data"
                },
                {
                    "data": {
                        "text/plain": "\u001b[93;46m                                                                                                    \n Verifying dbatools-testrestore-model backup file on SQL2017N5 - Backup 1 of 1                      \n    Progress: 0 %                                                                                   \n    [                                                                                        ]      \n                                                                                                    \u001b[0m"
                    },
                    "metadata": {},
                    "output_type": "display_data"
                },
                {
                    "data": {
                        "text/plain": ""
                    },
                    "metadata": {},
                    "output_type": "display_data"
                },
                {
                    "data": {
                        "text/plain": "\u001b[93;46m                                                                                                    \n Updating                                                                                           \n    Progress                                                                                        \n    [                                                                                        ]      \n                                                                                                    \n    Scanning Restore headers: 0/1                                                                   \n                                                                                                    \u001b[0m"
                    },
                    "metadata": {},
                    "output_type": "display_data"
                },
                {
                    "data": {
                        "text/plain": "\u001b[93;46m                                                                                                    \n Updating                                                                                           \n    Progress                                                                                        \n    [                                                                                        ]      \n                                                                                                    \n    Scanning Restore headers: 0/1                                                                   \n                                                                                                    \u001b[0m"
                    },
                    "metadata": {},
                    "output_type": "display_data"
                },
                {
                    "data": {
                        "text/plain": "\u001b[93;46m                                                                                                    \n Updating                                                                                           \n    Progress                                                                                        \n    [                                                                                        ]      \n                                                                                                    \n    Scanning Restore headers: 0/1                                                                   \n                                                                                                    \u001b[0m"
                    },
                    "metadata": {},
                    "output_type": "display_data"
                },
                {
                    "data": {
                        "text/plain": "\u001b[93;46m                                                                                                    \n Verifying dbatools-testrestore-msdb backup file on SQL2017N5 - Backup 1 of 1                       \n    Progress: 0 %                                                                                   \n    [                                                                                        ]      \n                                                                                                    \u001b[0m"
                    },
                    "metadata": {},
                    "output_type": "display_data"
                },
                {
                    "data": {
                        "text/plain": ""
                    },
                    "metadata": {},
                    "output_type": "display_data"
                },
                {
                    "data": {
                        "text/plain": "\u001b[93;46m                                                                                                    \n Updating                                                                                           \n    Progress                                                                                        \n    [                                                                                        ]      \n                                                                                                    \n    Scanning Restore headers: 0/1                                                                   \n                                                                                                    \u001b[0m"
                    },
                    "metadata": {},
                    "output_type": "display_data"
                },
                {
                    "data": {
                        "text/plain": "\u001b[93;46m                                                                                                    \n Updating                                                                                           \n    Progress                                                                                        \n    [                                                                                        ]      \n                                                                                                    \n    Scanning Restore headers: 0/1                                                                   \n                                                                                                    \u001b[0m"
                    },
                    "metadata": {},
                    "output_type": "display_data"
                },
                {
                    "data": {
                        "text/plain": "\u001b[93;46m                                                                                                    \n Updating                                                                                           \n    Progress                                                                                        \n    [                                                                                        ]      \n                                                                                                    \n    Scanning Restore headers: 0/1                                                                   \n                                                                                                    \u001b[0m"
                    },
                    "metadata": {},
                    "output_type": "display_data"
                },
                {
                    "data": {
                        "text/plain": "\u001b[93;46m                                                                                                    \n Updating                                                                                           \n    Progress                                                                                        \n    [                                                                                        ]      \n                                                                                                    \n    Scanning Restore headers: 0/1                                                                   \n                                                                                                    \u001b[0m"
                    },
                    "metadata": {},
                    "output_type": "display_data"
                },
                {
                    "data": {
                        "text/plain": "\u001b[93;46m                                                                                                    \n Updating                                                                                           \n    Progress                                                                                        \n    [                                                                                        ]      \n                                                                                                    \n    Scanning Restore headers: 0/1                                                                   \n                                                                                                    \u001b[0m"
                    },
                    "metadata": {},
                    "output_type": "display_data"
                },
                {
                    "data": {
                        "text/plain": "\u001b[93;46m                                                                                                    \n Verifying dbatools-testrestore-SqlWatch backup file on SQL2017N5 - Backup 1 of 2                   \n    Progress: 0 %                                                                                   \n    [                                                                                        ]      \n                                                                                                    \u001b[0m"
                    },
                    "metadata": {},
                    "output_type": "display_data"
                },
                {
                    "data": {
                        "text/plain": ""
                    },
                    "metadata": {},
                    "output_type": "display_data"
                },
                {
                    "data": {
                        "text/plain": "\u001b[93;46m                                                                                                    \n Updating                                                                                           \n    Progress                                                                                        \n    [                                                                                        ]      \n                                                                                                    \n    Scanning Restore headers: 0/1                                                                   \n                                                                                                    \u001b[0m"
                    },
                    "metadata": {},
                    "output_type": "display_data"
                },
                {
                    "data": {
                        "text/plain": "\u001b[93;46m                                                                                                    \n Updating                                                                                           \n    Progress                                                                                        \n    [                                                                                        ]      \n                                                                                                    \n    Scanning Restore headers: 0/1                                                                   \n                                                                                                    \u001b[0m"
                    },
                    "metadata": {},
                    "output_type": "display_data"
                },
                {
                    "data": {
                        "text/plain": "\u001b[93;46m                                                                                                    \n Updating                                                                                           \n    Progress                                                                                        \n    [                                                                                        ]      \n                                                                                                    \n    Scanning Restore headers: 0/1                                                                   \n                                                                                                    \u001b[0m"
                    },
                    "metadata": {},
                    "output_type": "display_data"
                },
                {
                    "data": {
                        "text/plain": "\u001b[93;46m                                                                                                    \n Updating                                                                                           \n    Progress                                                                                        \n    [                                                                                        ]      \n                                                                                                    \n    Scanning Restore headers: 0/1                                                                   \n                                                                                                    \u001b[0m"
                    },
                    "metadata": {},
                    "output_type": "display_data"
                },
                {
                    "data": {
                        "text/plain": "\u001b[93;46m                                                                                                    \n Updating                                                                                           \n    Progress                                                                                        \n    [                                                                                        ]      \n                                                                                                    \n    Scanning Restore headers: 0/1                                                                   \n                                                                                                    \u001b[0m"
                    },
                    "metadata": {},
                    "output_type": "display_data"
                },
                {
                    "data": {
                        "text/plain": "\u001b[93;46m                                                                                                    \n Verifying dbatools-testrestore-SSISDB backup file on SQL2017N5 - Backup 1 of 4                     \n    Progress: 0 %                                                                                   \n    [                                                                                        ]      \n                                                                                                    \u001b[0m"
                    },
                    "metadata": {},
                    "output_type": "display_data"
                },
                {
                    "data": {
                        "text/plain": ""
                    },
                    "metadata": {},
                    "output_type": "display_data"
                },
                {
                    "name": "stdout",
                    "text": "\r\n",
                    "output_type": "stream"
                },
                {
                    "name": "stdout",
                    "text": "\u001b[92m  Describing Valid Database Owner\u001b[0m\r\n",
                    "output_type": "stream"
                },
                {
                    "name": "stdout",
                    "text": "\r\n",
                    "output_type": "stream"
                },
                {
                    "name": "stdout",
                    "text": "\u001b[92m    Context Testing Database Owners on SQL2017N5\u001b[0m\r\n",
                    "output_type": "stream"
                },
                {
                    "name": "stdout",
                    "text": "\u001b[91m      [-] Database ADonutFactory - owner THEBEARD\\Rob should be in this list ( sa ) on SQL2017N5\u001b[0m",
                    "output_type": "stream"
                },
                {
                    "name": "stdout",
                    "text": "\u001b[90m 11ms\u001b[0m\r\n",
                    "output_type": "stream"
                },
                {
                    "name": "stdout",
                    "text": "\u001b[91m        Expected collection sa to contain 'THEBEARD\\Rob', because The account that is the database owner is not what was expected, but it was not found.\u001b[0m\r\n",
                    "output_type": "stream"
                },
                {
                    "name": "stdout",
                    "text": "\u001b[91m        172:                         $psitem.Owner | Should -BeIn $TargetOwner -Because \"The account that is the database owner is not what was expected\"\u001b[0m\r\n",
                    "output_type": "stream"
                },
                {
                    "name": "stdout",
                    "text": "\u001b[91m        at <ScriptBlock>, D:\\OneDrive\\Documents\\GitHub\\dbachecks\\checks\\Database.Tests.ps1: line 172\u001b[0m\r\n",
                    "output_type": "stream"
                },
                {
                    "name": "stdout",
                    "text": "\u001b[91m      [-] Database ASausageFactory - owner THEBEARD\\Rob should be in this list ( sa ) on SQL2017N5\u001b[0m",
                    "output_type": "stream"
                },
                {
                    "name": "stdout",
                    "text": "\u001b[90m 6ms\u001b[0m\r\n",
                    "output_type": "stream"
                },
                {
                    "name": "stdout",
                    "text": "\u001b[91m        Expected collection sa to contain 'THEBEARD\\Rob', because The account that is the database owner is not what was expected, but it was not found.\u001b[0m\r\n",
                    "output_type": "stream"
                },
                {
                    "name": "stdout",
                    "text": "\u001b[91m        172:                         $psitem.Owner | Should -BeIn $TargetOwner -Because \"The account that is the database owner is not what was expected\"\u001b[0m\r\n",
                    "output_type": "stream"
                },
                {
                    "name": "stdout",
                    "text": "\u001b[91m        at <ScriptBlock>, D:\\OneDrive\\Documents\\GitHub\\dbachecks\\checks\\Database.Tests.ps1: line 172\u001b[0m\r\n",
                    "output_type": "stream"
                },
                {
                    "name": "stdout",
                    "text": "\u001b[91m      [-] Database ASockFactory - owner THEBEARD\\Rob should be in this list ( sa ) on SQL2017N5\u001b[0m",
                    "output_type": "stream"
                },
                {
                    "name": "stdout",
                    "text": "\u001b[90m 3ms\u001b[0m\r\n",
                    "output_type": "stream"
                },
                {
                    "name": "stdout",
                    "text": "\u001b[91m        Expected collection sa to contain 'THEBEARD\\Rob', because The account that is the database owner is not what was expected, but it was not found.\u001b[0m\r\n",
                    "output_type": "stream"
                },
                {
                    "name": "stdout",
                    "text": "\u001b[91m        172:                         $psitem.Owner | Should -BeIn $TargetOwner -Because \"The account that is the database owner is not what was expected\"\u001b[0m\r\n",
                    "output_type": "stream"
                },
                {
                    "name": "stdout",
                    "text": "\u001b[91m        at <ScriptBlock>, D:\\OneDrive\\Documents\\GitHub\\dbachecks\\checks\\Database.Tests.ps1: line 172\u001b[0m\r\n",
                    "output_type": "stream"
                },
                {
                    "name": "stdout",
                    "text": "\u001b[91m      [-] Database BeardNotebooks - owner THEBEARD\\Rob should be in this list ( sa ) on SQL2017N5\u001b[0m",
                    "output_type": "stream"
                },
                {
                    "name": "stdout",
                    "text": "\u001b[90m 4ms\u001b[0m\r\n",
                    "output_type": "stream"
                },
                {
                    "name": "stdout",
                    "text": "\u001b[91m        Expected collection sa to contain 'THEBEARD\\Rob', because The account that is the database owner is not what was expected, but it was not found.\u001b[0m\r\n",
                    "output_type": "stream"
                },
                {
                    "name": "stdout",
                    "text": "\u001b[91m        172:                         $psitem.Owner | Should -BeIn $TargetOwner -Because \"The account that is the database owner is not what was expected\"\u001b[0m\r\n",
                    "output_type": "stream"
                },
                {
                    "name": "stdout",
                    "text": "\u001b[91m        at <ScriptBlock>, D:\\OneDrive\\Documents\\GitHub\\dbachecks\\checks\\Database.Tests.ps1: line 172\u001b[0m\r\n",
                    "output_type": "stream"
                },
                {
                    "name": "stdout",
                    "text": "\u001b[91m      [-] Database emptydbachecks - owner THEBEARD\\Rob should be in this list ( sa ) on SQL2017N5\u001b[0m",
                    "output_type": "stream"
                },
                {
                    "name": "stdout",
                    "text": "\u001b[90m 3ms\u001b[0m\r\n",
                    "output_type": "stream"
                },
                {
                    "name": "stdout",
                    "text": "\u001b[91m        Expected collection sa to contain 'THEBEARD\\Rob', because The account that is the database owner is not what was expected, but it was not found.\u001b[0m\r\n",
                    "output_type": "stream"
                },
                {
                    "name": "stdout",
                    "text": "\u001b[91m        172:                         $psitem.Owner | Should -BeIn $TargetOwner -Because \"The account that is the database owner is not what was expected\"\u001b[0m\r\n",
                    "output_type": "stream"
                },
                {
                    "name": "stdout",
                    "text": "\u001b[91m        at <ScriptBlock>, D:\\OneDrive\\Documents\\GitHub\\dbachecks\\checks\\Database.Tests.ps1: line 172\u001b[0m\r\n",
                    "output_type": "stream"
                },
                {
                    "name": "stdout",
                    "text": "\u001b[91m      [-] Database SqlWatch - owner THEBEARD\\Rob should be in this list ( sa ) on SQL2017N5\u001b[0m",
                    "output_type": "stream"
                },
                {
                    "name": "stdout",
                    "text": "\u001b[90m 5ms\u001b[0m\r\n",
                    "output_type": "stream"
                },
                {
                    "name": "stdout",
                    "text": "\u001b[91m        Expected collection sa to contain 'THEBEARD\\Rob', because The account that is the database owner is not what was expected, but it was not found.\u001b[0m\r\n",
                    "output_type": "stream"
                },
                {
                    "name": "stdout",
                    "text": "\u001b[91m        172:                         $psitem.Owner | Should -BeIn $TargetOwner -Because \"The account that is the database owner is not what was expected\"\u001b[0m\r\n",
                    "output_type": "stream"
                },
                {
                    "name": "stdout",
                    "text": "\u001b[91m        at <ScriptBlock>, D:\\OneDrive\\Documents\\GitHub\\dbachecks\\checks\\Database.Tests.ps1: line 172\u001b[0m\r\n",
                    "output_type": "stream"
                },
                {
                    "name": "stdout",
                    "text": "\u001b[91m      [-] Database SSISDB - owner THEBEARD\\Rob should be in this list ( sa ) on SQL2017N5\u001b[0m",
                    "output_type": "stream"
                },
                {
                    "name": "stdout",
                    "text": "\u001b[90m 4ms\u001b[0m\r\n",
                    "output_type": "stream"
                },
                {
                    "name": "stdout",
                    "text": "\u001b[91m        Expected collection sa to contain 'THEBEARD\\Rob', because The account that is the database owner is not what was expected, but it was not found.\u001b[0m\r\n",
                    "output_type": "stream"
                },
                {
                    "name": "stdout",
                    "text": "\u001b[91m        172:                         $psitem.Owner | Should -BeIn $TargetOwner -Because \"The account that is the database owner is not what was expected\"\u001b[0m\r\n",
                    "output_type": "stream"
                },
                {
                    "name": "stdout",
                    "text": "\u001b[91m        at <ScriptBlock>, D:\\OneDrive\\Documents\\GitHub\\dbachecks\\checks\\Database.Tests.ps1: line 172\u001b[0m\r\n",
                    "output_type": "stream"
                },
                {
                    "name": "stdout",
                    "text": "\r\n",
                    "output_type": "stream"
                },
                {
                    "name": "stdout",
                    "text": "\u001b[92m  Describing Invalid Database Owner\u001b[0m\r\n",
                    "output_type": "stream"
                },
                {
                    "name": "stdout",
                    "text": "\r\n",
                    "output_type": "stream"
                },
                {
                    "name": "stdout",
                    "text": "\u001b[92m    Context Testing Database Owners on SQL2017N5\u001b[0m\r\n",
                    "output_type": "stream"
                },
                {
                    "name": "stdout",
                    "text": "\r\n",
                    "output_type": "stream"
                },
                {
                    "name": "stdout",
                    "text": "\u001b[92m  Describing Last Good DBCC CHECKDB\u001b[0m\r\n",
                    "output_type": "stream"
                },
                {
                    "name": "stdout",
                    "text": "\r\n",
                    "output_type": "stream"
                },
                {
                    "name": "stdout",
                    "text": "\u001b[92m    Context Testing Last Good DBCC CHECKDB on SQL2017N5\u001b[0m\r\n",
                    "output_type": "stream"
                },
                {
                    "name": "stdout",
                    "text": "\u001b[91m      [-] Database master last good integrity check should be less than 7 days old on SQL2017N5\u001b[0m",
                    "output_type": "stream"
                },
                {
                    "name": "stdout",
                    "text": "\u001b[90m 12ms\u001b[0m\r\n",
                    "output_type": "stream"
                },
                {
                    "name": "stdout",
                    "text": "\u001b[91m        Expected the actual value to be greater than 2020-06-28T09:03:22.7084946Z, because You should have run a DBCC CheckDB inside that time, but got 2020-06-20T20:00:41.4900000.\u001b[0m\r\n",
                    "output_type": "stream"
                },
                {
                    "name": "stdout",
                    "text": "\u001b[91m        218:                                 $psitem.LastGoodCheckDb | Should -BeGreaterThan (Get-Date).ToUniversalTime().AddDays( - ($maxdays)) -Because \"You should have run a DBCC CheckDB inside that time\"\u001b[0m\r\n",
                    "output_type": "stream"
                },
                {
                    "name": "stdout",
                    "text": "\u001b[91m        at <ScriptBlock>, D:\\OneDrive\\Documents\\GitHub\\dbachecks\\checks\\Database.Tests.ps1: line 218\u001b[0m\r\n",
                    "output_type": "stream"
                },
                {
                    "name": "stdout",
                    "text": "\u001b[91m      [-] Database model last good integrity check should be less than 7 days old on SQL2017N5\u001b[0m",
                    "output_type": "stream"
                },
                {
                    "name": "stdout",
                    "text": "\u001b[90m 3ms\u001b[0m\r\n",
                    "output_type": "stream"
                },
                {
                    "name": "stdout",
                    "text": "\u001b[91m        Expected the actual value to be greater than 2020-06-28T09:03:22.7286822Z, because You should have run a DBCC CheckDB inside that time, but got 2020-06-20T20:00:45.1600000.\u001b[0m\r\n",
                    "output_type": "stream"
                },
                {
                    "name": "stdout",
                    "text": "\u001b[91m        218:                                 $psitem.LastGoodCheckDb | Should -BeGreaterThan (Get-Date).ToUniversalTime().AddDays( - ($maxdays)) -Because \"You should have run a DBCC CheckDB inside that time\"\u001b[0m\r\n",
                    "output_type": "stream"
                },
                {
                    "name": "stdout",
                    "text": "\u001b[91m        at <ScriptBlock>, D:\\OneDrive\\Documents\\GitHub\\dbachecks\\checks\\Database.Tests.ps1: line 218\u001b[0m\r\n",
                    "output_type": "stream"
                },
                {
                    "name": "stdout",
                    "text": "\u001b[91m      [-] Database msdb last good integrity check should be less than 7 days old on SQL2017N5\u001b[0m",
                    "output_type": "stream"
                },
                {
                    "name": "stdout",
                    "text": "\u001b[90m 3ms\u001b[0m\r\n",
                    "output_type": "stream"
                },
                {
                    "name": "stdout",
                    "text": "\u001b[91m        Expected the actual value to be greater than 2020-06-28T09:03:22.7397697Z, because You should have run a DBCC CheckDB inside that time, but got 2020-06-20T20:00:48.4800000.\u001b[0m\r\n",
                    "output_type": "stream"
                },
                {
                    "name": "stdout",
                    "text": "\u001b[91m        218:                                 $psitem.LastGoodCheckDb | Should -BeGreaterThan (Get-Date).ToUniversalTime().AddDays( - ($maxdays)) -Because \"You should have run a DBCC CheckDB inside that time\"\u001b[0m\r\n",
                    "output_type": "stream"
                },
                {
                    "name": "stdout",
                    "text": "\u001b[91m        at <ScriptBlock>, D:\\OneDrive\\Documents\\GitHub\\dbachecks\\checks\\Database.Tests.ps1: line 218\u001b[0m\r\n",
                    "output_type": "stream"
                },
                {
                    "name": "stdout",
                    "text": "\u001b[91m      [-] Database SqlWatch last good integrity check should be less than 7 days old on SQL2017N5\u001b[0m",
                    "output_type": "stream"
                },
                {
                    "name": "stdout",
                    "text": "\u001b[90m 3ms\u001b[0m\r\n",
                    "output_type": "stream"
                },
                {
                    "name": "stdout",
                    "text": "\u001b[91m        Expected the actual value to be greater than 2020-06-28T09:03:22.7494403Z, because You should have run a DBCC CheckDB inside that time, but got 2020-01-14T16:47:37.5200000.\u001b[0m\r\n",
                    "output_type": "stream"
                },
                {
                    "name": "stdout",
                    "text": "\u001b[91m        218:                                 $psitem.LastGoodCheckDb | Should -BeGreaterThan (Get-Date).ToUniversalTime().AddDays( - ($maxdays)) -Because \"You should have run a DBCC CheckDB inside that time\"\u001b[0m\r\n",
                    "output_type": "stream"
                },
                {
                    "name": "stdout",
                    "text": "\u001b[91m        at <ScriptBlock>, D:\\OneDrive\\Documents\\GitHub\\dbachecks\\checks\\Database.Tests.ps1: line 218\u001b[0m\r\n",
                    "output_type": "stream"
                },
                {
                    "name": "stdout",
                    "text": "\u001b[91m      [-] Database SSISDB last good integrity check should be less than 7 days old on SQL2017N5\u001b[0m",
                    "output_type": "stream"
                },
                {
                    "name": "stdout",
                    "text": "\u001b[90m 6ms\u001b[0m\r\n",
                    "output_type": "stream"
                },
                {
                    "name": "stdout",
                    "text": "\u001b[91m        Expected the actual value to be greater than 2020-06-28T09:03:22.7602231Z, because You should have run a DBCC CheckDB inside that time, but got $null.\u001b[0m\r\n",
                    "output_type": "stream"
                },
                {
                    "name": "stdout",
                    "text": "\u001b[91m        221:                                 $psitem.LastGoodCheckDb | Should -BeGreaterThan (Get-Date).ToUniversalTime().AddDays( - ($maxdays)) -Because \"You should have run a DBCC CheckDB inside that time\"\u001b[0m\r\n",
                    "output_type": "stream"
                },
                {
                    "name": "stdout",
                    "text": "\u001b[91m        at <ScriptBlock>, D:\\OneDrive\\Documents\\GitHub\\dbachecks\\checks\\Database.Tests.ps1: line 221\u001b[0m\r\n",
                    "output_type": "stream"
                },
                {
                    "name": "stdout",
                    "text": "\u001b[91m      [-] Database ASockFactory last good integrity check should be less than 7 days old on SQL2017N5\u001b[0m",
                    "output_type": "stream"
                },
                {
                    "name": "stdout",
                    "text": "\u001b[90m 3ms\u001b[0m\r\n",
                    "output_type": "stream"
                },
                {
                    "name": "stdout",
                    "text": "\u001b[91m        Expected the actual value to be greater than 2020-06-28T09:03:22.7760507Z, because You should have run a DBCC CheckDB inside that time, but got $null.\u001b[0m\r\n",
                    "output_type": "stream"
                },
                {
                    "name": "stdout",
                    "text": "\u001b[91m        221:                                 $psitem.LastGoodCheckDb | Should -BeGreaterThan (Get-Date).ToUniversalTime().AddDays( - ($maxdays)) -Because \"You should have run a DBCC CheckDB inside that time\"\u001b[0m\r\n",
                    "output_type": "stream"
                },
                {
                    "name": "stdout",
                    "text": "\u001b[91m        at <ScriptBlock>, D:\\OneDrive\\Documents\\GitHub\\dbachecks\\checks\\Database.Tests.ps1: line 221\u001b[0m\r\n",
                    "output_type": "stream"
                },
                {
                    "name": "stdout",
                    "text": "\u001b[91m      [-] Database ASausageFactory last good integrity check should be less than 7 days old on SQL2017N5\u001b[0m",
                    "output_type": "stream"
                },
                {
                    "name": "stdout",
                    "text": "\u001b[90m 2ms\u001b[0m\r\n",
                    "output_type": "stream"
                },
                {
                    "name": "stdout",
                    "text": "\u001b[91m        Expected the actual value to be greater than 2020-06-28T09:03:22.7859072Z, because You should have run a DBCC CheckDB inside that time, but got $null.\u001b[0m\r\n",
                    "output_type": "stream"
                },
                {
                    "name": "stdout",
                    "text": "\u001b[91m        221:                                 $psitem.LastGoodCheckDb | Should -BeGreaterThan (Get-Date).ToUniversalTime().AddDays( - ($maxdays)) -Because \"You should have run a DBCC CheckDB inside that time\"\u001b[0m\r\n",
                    "output_type": "stream"
                },
                {
                    "name": "stdout",
                    "text": "\u001b[91m        at <ScriptBlock>, D:\\OneDrive\\Documents\\GitHub\\dbachecks\\checks\\Database.Tests.ps1: line 221\u001b[0m\r\n",
                    "output_type": "stream"
                },
                {
                    "name": "stdout",
                    "text": "\u001b[91m      [-] Database ADonutFactory last good integrity check should be less than 7 days old on SQL2017N5\u001b[0m",
                    "output_type": "stream"
                },
                {
                    "name": "stdout",
                    "text": "\u001b[90m 3ms\u001b[0m\r\n",
                    "output_type": "stream"
                },
                {
                    "name": "stdout",
                    "text": "\u001b[91m        Expected the actual value to be greater than 2020-06-28T09:03:22.7962115Z, because You should have run a DBCC CheckDB inside that time, but got $null.\u001b[0m\r\n",
                    "output_type": "stream"
                },
                {
                    "name": "stdout",
                    "text": "\u001b[91m        221:                                 $psitem.LastGoodCheckDb | Should -BeGreaterThan (Get-Date).ToUniversalTime().AddDays( - ($maxdays)) -Because \"You should have run a DBCC CheckDB inside that time\"\u001b[0m\r\n",
                    "output_type": "stream"
                },
                {
                    "name": "stdout",
                    "text": "\u001b[91m        at <ScriptBlock>, D:\\OneDrive\\Documents\\GitHub\\dbachecks\\checks\\Database.Tests.ps1: line 221\u001b[0m\r\n",
                    "output_type": "stream"
                },
                {
                    "name": "stdout",
                    "text": "\u001b[91m      [-] Database BeardNotebooks last good integrity check should be less than 7 days old on SQL2017N5\u001b[0m",
                    "output_type": "stream"
                },
                {
                    "name": "stdout",
                    "text": "\u001b[90m 3ms\u001b[0m\r\n",
                    "output_type": "stream"
                },
                {
                    "name": "stdout",
                    "text": "\u001b[91m        Expected the actual value to be greater than 2020-06-28T09:03:22.8105177Z, because You should have run a DBCC CheckDB inside that time, but got $null.\u001b[0m\r\n",
                    "output_type": "stream"
                },
                {
                    "name": "stdout",
                    "text": "\u001b[91m        221:                                 $psitem.LastGoodCheckDb | Should -BeGreaterThan (Get-Date).ToUniversalTime().AddDays( - ($maxdays)) -Because \"You should have run a DBCC CheckDB inside that time\"\u001b[0m\r\n",
                    "output_type": "stream"
                },
                {
                    "name": "stdout",
                    "text": "\u001b[91m        at <ScriptBlock>, D:\\OneDrive\\Documents\\GitHub\\dbachecks\\checks\\Database.Tests.ps1: line 221\u001b[0m\r\n",
                    "output_type": "stream"
                },
                {
                    "name": "stdout",
                    "text": "\u001b[91m      [-] Database emptydbachecks last good integrity check should be less than 7 days old on SQL2017N5\u001b[0m",
                    "output_type": "stream"
                },
                {
                    "name": "stdout",
                    "text": "\u001b[90m 5ms\u001b[0m\r\n",
                    "output_type": "stream"
                },
                {
                    "name": "stdout",
                    "text": "\u001b[91m        Expected the actual value to be greater than 2020-06-28T09:03:22.8234936Z, because You should have run a DBCC CheckDB inside that time, but got $null.\u001b[0m\r\n",
                    "output_type": "stream"
                },
                {
                    "name": "stdout",
                    "text": "\u001b[91m        221:                                 $psitem.LastGoodCheckDb | Should -BeGreaterThan (Get-Date).ToUniversalTime().AddDays( - ($maxdays)) -Because \"You should have run a DBCC CheckDB inside that time\"\u001b[0m\r\n",
                    "output_type": "stream"
                },
                {
                    "name": "stdout",
                    "text": "\u001b[91m        at <ScriptBlock>, D:\\OneDrive\\Documents\\GitHub\\dbachecks\\checks\\Database.Tests.ps1: line 221\u001b[0m\r\n",
                    "output_type": "stream"
                },
                {
                    "name": "stdout",
                    "text": "\r\n",
                    "output_type": "stream"
                },
                {
                    "name": "stdout",
                    "text": "\u001b[92m  Describing Column Identity Usage\u001b[0m\r\n",
                    "output_type": "stream"
                },
                {
                    "name": "stdout",
                    "text": "\r\n",
                    "output_type": "stream"
                },
                {
                    "name": "stdout",
                    "text": "\u001b[92m    Context Testing Column Identity Usage on SQL2017N5\u001b[0m\r\n",
                    "output_type": "stream"
                },
                {
                    "name": "stdout",
                    "text": "\r\n",
                    "output_type": "stream"
                },
                {
                    "name": "stdout",
                    "text": "\u001b[92m  Describing Recovery Model\u001b[0m\r\n",
                    "output_type": "stream"
                },
                {
                    "name": "stdout",
                    "text": "\r\n",
                    "output_type": "stream"
                },
                {
                    "name": "stdout",
                    "text": "\u001b[92m    Context Testing Recovery Model on SQL2017N5\u001b[0m\r\n",
                    "output_type": "stream"
                },
                {
                    "name": "stdout",
                    "text": "\u001b[91m      [-] Database msdb should be set to Full on SQL2017N5\u001b[0m",
                    "output_type": "stream"
                },
                {
                    "name": "stdout",
                    "text": "\u001b[90m 3ms\u001b[0m\r\n",
                    "output_type": "stream"
                },
                {
                    "name": "stdout",
                    "text": "\u001b[91m        Expected 'Full', because You expect this recovery model, but got Simple.\u001b[0m\r\n",
                    "output_type": "stream"
                },
                {
                    "name": "stdout",
                    "text": "\u001b[91m        280:                         $psitem.RecoveryModel | Should -Be $recoverymodel -Because \"You expect this recovery model\"\u001b[0m\r\n",
                    "output_type": "stream"
                },
                {
                    "name": "stdout",
                    "text": "\u001b[91m        at <ScriptBlock>, D:\\OneDrive\\Documents\\GitHub\\dbachecks\\checks\\Database.Tests.ps1: line 280\u001b[0m\r\n",
                    "output_type": "stream"
                },
                {
                    "name": "stdout",
                    "text": "\u001b[91m      [-] Database SqlWatch should be set to Full on SQL2017N5\u001b[0m",
                    "output_type": "stream"
                },
                {
                    "name": "stdout",
                    "text": "\u001b[90m 4ms\u001b[0m\r\n",
                    "output_type": "stream"
                },
                {
                    "name": "stdout",
                    "text": "\u001b[91m        Expected 'Full', because You expect this recovery model, but got Simple.\u001b[0m\r\n",
                    "output_type": "stream"
                },
                {
                    "name": "stdout",
                    "text": "\u001b[91m        280:                         $psitem.RecoveryModel | Should -Be $recoverymodel -Because \"You expect this recovery model\"\u001b[0m\r\n",
                    "output_type": "stream"
                },
                {
                    "name": "stdout",
                    "text": "\u001b[91m        at <ScriptBlock>, D:\\OneDrive\\Documents\\GitHub\\dbachecks\\checks\\Database.Tests.ps1: line 280\u001b[0m\r\n",
                    "output_type": "stream"
                },
                {
                    "name": "stdout",
                    "text": "\r\n",
                    "output_type": "stream"
                },
                {
                    "name": "stdout",
                    "text": "\u001b[92m  Describing Duplicate Index\u001b[0m\r\n",
                    "output_type": "stream"
                },
                {
                    "name": "stdout",
                    "text": "\r\n",
                    "output_type": "stream"
                },
                {
                    "name": "stdout",
                    "text": "\u001b[92m    Context Testing duplicate indexes on SQL2017N5\u001b[0m\r\n",
                    "output_type": "stream"
                },
                {
                    "name": "stdout",
                    "text": "\r\n",
                    "output_type": "stream"
                },
                {
                    "name": "stdout",
                    "text": "\u001b[92m  Describing Unused Index\u001b[0m\r\n",
                    "output_type": "stream"
                },
                {
                    "name": "stdout",
                    "text": "\r\n",
                    "output_type": "stream"
                },
                {
                    "name": "stdout",
                    "text": "\u001b[92m    Context Testing Unused indexes on SQL2017N5\u001b[0m\r\n",
                    "output_type": "stream"
                },
                {
                    "name": "stdout",
                    "text": "\u001b[93m      [!] Database The SQL Service on SQL2017N5 was restarted on 07/05/2020 09:25:29, which is not long enough for a solid evaluation. should return 0 Unused indexes on \u001b[0m",
                    "output_type": "stream"
                },
                {
                    "name": "stdout",
                    "text": "\u001b[93m, is skipped\u001b[0m",
                    "output_type": "stream"
                },
                {
                    "name": "stdout",
                    "text": "\u001b[90m 0ms\u001b[0m\r\n",
                    "output_type": "stream"
                },
                {
                    "name": "stdout",
                    "text": "\r\n",
                    "output_type": "stream"
                },
                {
                    "name": "stdout",
                    "text": "\u001b[92m  Describing Disabled Index\u001b[0m\r\n",
                    "output_type": "stream"
                },
                {
                    "name": "stdout",
                    "text": "\r\n",
                    "output_type": "stream"
                },
                {
                    "name": "stdout",
                    "text": "\u001b[92m    Context Testing Disabled indexes on SQL2017N5\u001b[0m\r\n",
                    "output_type": "stream"
                },
                {
                    "name": "stdout",
                    "text": "\r\n",
                    "output_type": "stream"
                },
                {
                    "name": "stdout",
                    "text": "\u001b[92m  Describing Database Growth Event\u001b[0m\r\n",
                    "output_type": "stream"
                },
                {
                    "name": "stdout",
                    "text": "\r\n",
                    "output_type": "stream"
                },
                {
                    "name": "stdout",
                    "text": "\u001b[92m    Context Testing database growth event on SQL2017N5\u001b[0m\r\n",
                    "output_type": "stream"
                },
                {
                    "name": "stdout",
                    "text": "\u001b[91m      [-] Database SqlWatch should return 0 database growth events on SQL2017N5\u001b[0m",
                    "output_type": "stream"
                },
                {
                    "name": "stdout",
                    "text": "\u001b[90m 3ms\u001b[0m\r\n",
                    "output_type": "stream"
                },
                {
                    "name": "stdout",
                    "text": "\u001b[91m        Expected 0, because You want to control how your database files are grown, but got 1.\u001b[0m\r\n",
                    "output_type": "stream"
                },
                {
                    "name": "stdout",
                    "text": "\u001b[91m        375:                         @($results).Count | Should -Be 0 -Because \"You want to control how your database files are grown\"\u001b[0m\r\n",
                    "output_type": "stream"
                },
                {
                    "name": "stdout",
                    "text": "\u001b[91m        at <ScriptBlock>, D:\\OneDrive\\Documents\\GitHub\\dbachecks\\checks\\Database.Tests.ps1: line 375\u001b[0m\r\n",
                    "output_type": "stream"
                },
                {
                    "name": "stdout",
                    "text": "\u001b[91m      [-] Database tempdb should return 0 database growth events on SQL2017N5\u001b[0m",
                    "output_type": "stream"
                },
                {
                    "name": "stdout",
                    "text": "\u001b[90m 3ms\u001b[0m\r\n",
                    "output_type": "stream"
                },
                {
                    "name": "stdout",
                    "text": "\u001b[91m        Expected 0, because You want to control how your database files are grown, but got 9.\u001b[0m\r\n",
                    "output_type": "stream"
                },
                {
                    "name": "stdout",
                    "text": "\u001b[91m        375:                         @($results).Count | Should -Be 0 -Because \"You want to control how your database files are grown\"\u001b[0m\r\n",
                    "output_type": "stream"
                },
                {
                    "name": "stdout",
                    "text": "\u001b[91m        at <ScriptBlock>, D:\\OneDrive\\Documents\\GitHub\\dbachecks\\checks\\Database.Tests.ps1: line 375\u001b[0m\r\n",
                    "output_type": "stream"
                },
                {
                    "name": "stdout",
                    "text": "\r\n",
                    "output_type": "stream"
                },
                {
                    "name": "stdout",
                    "text": "\u001b[92m  Describing Page Verify\u001b[0m\r\n",
                    "output_type": "stream"
                },
                {
                    "name": "stdout",
                    "text": "\r\n",
                    "output_type": "stream"
                },
                {
                    "name": "stdout",
                    "text": "\u001b[92m    Context Testing page verify on SQL2017N5\u001b[0m\r\n",
                    "output_type": "stream"
                },
                {
                    "name": "stdout",
                    "text": "\r\n",
                    "output_type": "stream"
                },
                {
                    "name": "stdout",
                    "text": "\u001b[92m  Describing Auto Close\u001b[0m\r\n",
                    "output_type": "stream"
                },
                {
                    "name": "stdout",
                    "text": "\r\n",
                    "output_type": "stream"
                },
                {
                    "name": "stdout",
                    "text": "\u001b[92m    Context Testing Auto Close on SQL2017N5\u001b[0m\r\n",
                    "output_type": "stream"
                },
                {
                    "name": "stdout",
                    "text": "\r\n",
                    "output_type": "stream"
                },
                {
                    "name": "stdout",
                    "text": "\u001b[92m  Describing Auto Shrink\u001b[0m\r\n",
                    "output_type": "stream"
                },
                {
                    "name": "stdout",
                    "text": "\r\n",
                    "output_type": "stream"
                },
                {
                    "name": "stdout",
                    "text": "\u001b[92m    Context Testing Auto Shrink on SQL2017N5\u001b[0m\r\n",
                    "output_type": "stream"
                },
                {
                    "name": "stdout",
                    "text": "\r\n",
                    "output_type": "stream"
                },
                {
                    "name": "stdout",
                    "text": "\u001b[92m  Describing Last Full Backup Times\u001b[0m\r\n",
                    "output_type": "stream"
                },
                {
                    "name": "stdout",
                    "text": "\r\n",
                    "output_type": "stream"
                },
                {
                    "name": "stdout",
                    "text": "\u001b[92m    Context Testing last full backups on SQL2017N5\u001b[0m\r\n",
                    "output_type": "stream"
                },
                {
                    "name": "stdout",
                    "text": "\u001b[91m      [-] Database ADonutFactory should have full backups less than 1 days old on SQL2017N5\u001b[0m",
                    "output_type": "stream"
                },
                {
                    "name": "stdout",
                    "text": "\u001b[90m 14ms\u001b[0m\r\n",
                    "output_type": "stream"
                },
                {
                    "name": "stdout",
                    "text": "\u001b[91m        Expected the actual value to be greater than 2020-07-04T09:04:09.1091237Z, because Taking regular backups is extraordinarily important, but got 2020-06-21T00:15:45.0000000Z.\u001b[0m\r\n",
                    "output_type": "stream"
                },
                {
                    "name": "stdout",
                    "text": "\u001b[91m        487:                         $psitem.LastBackupDate.ToUniversalTime() | Should -BeGreaterThan (Get-Date).ToUniversalTime().AddDays( - ($maxfull)) -Because \"Taking regular backups is extraordinarily important\"\u001b[0m\r\n",
                    "output_type": "stream"
                },
                {
                    "name": "stdout",
                    "text": "\u001b[91m        at <ScriptBlock>, D:\\OneDrive\\Documents\\GitHub\\dbachecks\\checks\\Database.Tests.ps1: line 487\u001b[0m\r\n",
                    "output_type": "stream"
                },
                {
                    "name": "stdout",
                    "text": "\u001b[91m      [-] Database ASausageFactory should have full backups less than 1 days old on SQL2017N5\u001b[0m",
                    "output_type": "stream"
                },
                {
                    "name": "stdout",
                    "text": "\u001b[90m 3ms\u001b[0m\r\n",
                    "output_type": "stream"
                },
                {
                    "name": "stdout",
                    "text": "\u001b[91m        Expected the actual value to be greater than 2020-07-04T09:04:09.1171455Z, because Taking regular backups is extraordinarily important, but got 2020-06-21T00:15:53.0000000Z.\u001b[0m\r\n",
                    "output_type": "stream"
                },
                {
                    "name": "stdout",
                    "text": "\u001b[91m        487:                         $psitem.LastBackupDate.ToUniversalTime() | Should -BeGreaterThan (Get-Date).ToUniversalTime().AddDays( - ($maxfull)) -Because \"Taking regular backups is extraordinarily important\"\u001b[0m\r\n",
                    "output_type": "stream"
                },
                {
                    "name": "stdout",
                    "text": "\u001b[91m        at <ScriptBlock>, D:\\OneDrive\\Documents\\GitHub\\dbachecks\\checks\\Database.Tests.ps1: line 487\u001b[0m\r\n",
                    "output_type": "stream"
                },
                {
                    "name": "stdout",
                    "text": "\u001b[91m      [-] Database ASockFactory should have full backups less than 1 days old on SQL2017N5\u001b[0m",
                    "output_type": "stream"
                },
                {
                    "name": "stdout",
                    "text": "\u001b[90m 3ms\u001b[0m\r\n",
                    "output_type": "stream"
                },
                {
                    "name": "stdout",
                    "text": "\u001b[91m        Expected the actual value to be greater than 2020-07-04T09:04:09.1247129Z, because Taking regular backups is extraordinarily important, but got 2020-06-21T00:15:54.0000000Z.\u001b[0m\r\n",
                    "output_type": "stream"
                },
                {
                    "name": "stdout",
                    "text": "\u001b[91m        487:                         $psitem.LastBackupDate.ToUniversalTime() | Should -BeGreaterThan (Get-Date).ToUniversalTime().AddDays( - ($maxfull)) -Because \"Taking regular backups is extraordinarily important\"\u001b[0m\r\n",
                    "output_type": "stream"
                },
                {
                    "name": "stdout",
                    "text": "\u001b[91m        at <ScriptBlock>, D:\\OneDrive\\Documents\\GitHub\\dbachecks\\checks\\Database.Tests.ps1: line 487\u001b[0m\r\n",
                    "output_type": "stream"
                },
                {
                    "name": "stdout",
                    "text": "\u001b[91m      [-] Database BeardNotebooks should have full backups less than 1 days old on SQL2017N5\u001b[0m",
                    "output_type": "stream"
                },
                {
                    "name": "stdout",
                    "text": "\u001b[90m 5ms\u001b[0m\r\n",
                    "output_type": "stream"
                },
                {
                    "name": "stdout",
                    "text": "\u001b[91m        Expected the actual value to be greater than 2020-07-04T09:04:09.1336635Z, because Taking regular backups is extraordinarily important, but got 2020-06-21T00:16:01.0000000Z.\u001b[0m\r\n",
                    "output_type": "stream"
                },
                {
                    "name": "stdout",
                    "text": "\u001b[91m        487:                         $psitem.LastBackupDate.ToUniversalTime() | Should -BeGreaterThan (Get-Date).ToUniversalTime().AddDays( - ($maxfull)) -Because \"Taking regular backups is extraordinarily important\"\u001b[0m\r\n",
                    "output_type": "stream"
                },
                {
                    "name": "stdout",
                    "text": "\u001b[91m        at <ScriptBlock>, D:\\OneDrive\\Documents\\GitHub\\dbachecks\\checks\\Database.Tests.ps1: line 487\u001b[0m\r\n",
                    "output_type": "stream"
                },
                {
                    "name": "stdout",
                    "text": "\u001b[91m      [-] Database emptydbachecks should have full backups less than 1 days old on SQL2017N5\u001b[0m",
                    "output_type": "stream"
                },
                {
                    "name": "stdout",
                    "text": "\u001b[90m 3ms\u001b[0m\r\n",
                    "output_type": "stream"
                },
                {
                    "name": "stdout",
                    "text": "\u001b[91m        Expected the actual value to be greater than 2020-07-04T09:04:09.1437449Z, because Taking regular backups is extraordinarily important, but got 2020-06-21T00:16:05.0000000Z.\u001b[0m\r\n",
                    "output_type": "stream"
                },
                {
                    "name": "stdout",
                    "text": "\u001b[91m        487:                         $psitem.LastBackupDate.ToUniversalTime() | Should -BeGreaterThan (Get-Date).ToUniversalTime().AddDays( - ($maxfull)) -Because \"Taking regular backups is extraordinarily important\"\u001b[0m\r\n",
                    "output_type": "stream"
                },
                {
                    "name": "stdout",
                    "text": "\u001b[91m        at <ScriptBlock>, D:\\OneDrive\\Documents\\GitHub\\dbachecks\\checks\\Database.Tests.ps1: line 487\u001b[0m\r\n",
                    "output_type": "stream"
                },
                {
                    "name": "stdout",
                    "text": "\u001b[91m      [-] Database master should have full backups less than 1 days old on SQL2017N5\u001b[0m",
                    "output_type": "stream"
                },
                {
                    "name": "stdout",
                    "text": "\u001b[90m 3ms\u001b[0m\r\n",
                    "output_type": "stream"
                },
                {
                    "name": "stdout",
                    "text": "\u001b[91m        Expected the actual value to be greater than 2020-07-04T09:04:09.1507073Z, because Taking regular backups is extraordinarily important, but got 2020-06-27T02:45:39.0000000Z.\u001b[0m\r\n",
                    "output_type": "stream"
                },
                {
                    "name": "stdout",
                    "text": "\u001b[91m        487:                         $psitem.LastBackupDate.ToUniversalTime() | Should -BeGreaterThan (Get-Date).ToUniversalTime().AddDays( - ($maxfull)) -Because \"Taking regular backups is extraordinarily important\"\u001b[0m\r\n",
                    "output_type": "stream"
                },
                {
                    "name": "stdout",
                    "text": "\u001b[91m        at <ScriptBlock>, D:\\OneDrive\\Documents\\GitHub\\dbachecks\\checks\\Database.Tests.ps1: line 487\u001b[0m\r\n",
                    "output_type": "stream"
                },
                {
                    "name": "stdout",
                    "text": "\u001b[91m      [-] Database model should have full backups less than 1 days old on SQL2017N5\u001b[0m",
                    "output_type": "stream"
                },
                {
                    "name": "stdout",
                    "text": "\u001b[90m 3ms\u001b[0m\r\n",
                    "output_type": "stream"
                },
                {
                    "name": "stdout",
                    "text": "\u001b[91m        Expected the actual value to be greater than 2020-07-04T09:04:09.1591040Z, because Taking regular backups is extraordinarily important, but got 2020-06-27T02:45:39.0000000Z.\u001b[0m\r\n",
                    "output_type": "stream"
                },
                {
                    "name": "stdout",
                    "text": "\u001b[91m        487:                         $psitem.LastBackupDate.ToUniversalTime() | Should -BeGreaterThan (Get-Date).ToUniversalTime().AddDays( - ($maxfull)) -Because \"Taking regular backups is extraordinarily important\"\u001b[0m\r\n",
                    "output_type": "stream"
                },
                {
                    "name": "stdout",
                    "text": "\u001b[91m        at <ScriptBlock>, D:\\OneDrive\\Documents\\GitHub\\dbachecks\\checks\\Database.Tests.ps1: line 487\u001b[0m\r\n",
                    "output_type": "stream"
                },
                {
                    "name": "stdout",
                    "text": "\u001b[91m      [-] Database msdb should have full backups less than 1 days old on SQL2017N5\u001b[0m",
                    "output_type": "stream"
                },
                {
                    "name": "stdout",
                    "text": "\u001b[90m 3ms\u001b[0m\r\n",
                    "output_type": "stream"
                },
                {
                    "name": "stdout",
                    "text": "\u001b[91m        Expected the actual value to be greater than 2020-07-04T09:04:09.1656206Z, because Taking regular backups is extraordinarily important, but got 2020-06-27T02:45:39.0000000Z.\u001b[0m\r\n",
                    "output_type": "stream"
                },
                {
                    "name": "stdout",
                    "text": "\u001b[91m        487:                         $psitem.LastBackupDate.ToUniversalTime() | Should -BeGreaterThan (Get-Date).ToUniversalTime().AddDays( - ($maxfull)) -Because \"Taking regular backups is extraordinarily important\"\u001b[0m\r\n",
                    "output_type": "stream"
                },
                {
                    "name": "stdout",
                    "text": "\u001b[91m        at <ScriptBlock>, D:\\OneDrive\\Documents\\GitHub\\dbachecks\\checks\\Database.Tests.ps1: line 487\u001b[0m\r\n",
                    "output_type": "stream"
                },
                {
                    "name": "stdout",
                    "text": "\u001b[91m      [-] Database SqlWatch should have full backups less than 1 days old on SQL2017N5\u001b[0m",
                    "output_type": "stream"
                },
                {
                    "name": "stdout",
                    "text": "\u001b[90m 4ms\u001b[0m\r\n",
                    "output_type": "stream"
                },
                {
                    "name": "stdout",
                    "text": "\u001b[91m        Expected the actual value to be greater than 2020-07-04T09:04:09.1737700Z, because Taking regular backups is extraordinarily important, but got 2020-06-21T00:17:49.0000000Z.\u001b[0m\r\n",
                    "output_type": "stream"
                },
                {
                    "name": "stdout",
                    "text": "\u001b[91m        487:                         $psitem.LastBackupDate.ToUniversalTime() | Should -BeGreaterThan (Get-Date).ToUniversalTime().AddDays( - ($maxfull)) -Because \"Taking regular backups is extraordinarily important\"\u001b[0m\r\n",
                    "output_type": "stream"
                },
                {
                    "name": "stdout",
                    "text": "\u001b[91m        at <ScriptBlock>, D:\\OneDrive\\Documents\\GitHub\\dbachecks\\checks\\Database.Tests.ps1: line 487\u001b[0m\r\n",
                    "output_type": "stream"
                },
                {
                    "name": "stdout",
                    "text": "\u001b[91m      [-] Database SSISDB should have full backups less than 1 days old on SQL2017N5\u001b[0m",
                    "output_type": "stream"
                },
                {
                    "name": "stdout",
                    "text": "\u001b[90m 4ms\u001b[0m\r\n",
                    "output_type": "stream"
                },
                {
                    "name": "stdout",
                    "text": "\u001b[91m        Expected the actual value to be greater than 2020-07-04T09:04:09.1827586Z, because Taking regular backups is extraordinarily important, but got 2020-06-21T00:18:43.0000000Z.\u001b[0m\r\n",
                    "output_type": "stream"
                },
                {
                    "name": "stdout",
                    "text": "\u001b[91m        487:                         $psitem.LastBackupDate.ToUniversalTime() | Should -BeGreaterThan (Get-Date).ToUniversalTime().AddDays( - ($maxfull)) -Because \"Taking regular backups is extraordinarily important\"\u001b[0m\r\n",
                    "output_type": "stream"
                },
                {
                    "name": "stdout",
                    "text": "\u001b[91m        at <ScriptBlock>, D:\\OneDrive\\Documents\\GitHub\\dbachecks\\checks\\Database.Tests.ps1: line 487\u001b[0m\r\n",
                    "output_type": "stream"
                },
                {
                    "name": "stdout",
                    "text": "\r\n",
                    "output_type": "stream"
                },
                {
                    "name": "stdout",
                    "text": "\u001b[92m  Describing Last Diff Backup Times\u001b[0m\r\n",
                    "output_type": "stream"
                },
                {
                    "name": "stdout",
                    "text": "\r\n",
                    "output_type": "stream"
                },
                {
                    "name": "stdout",
                    "text": "\u001b[92m    Context Testing last diff backups on SQL2017N5\u001b[0m\r\n",
                    "output_type": "stream"
                },
                {
                    "name": "stdout",
                    "text": "\u001b[91m      [-] Database ADonutFactory diff backups should be less than 25 hours old on SQL2017N5\u001b[0m",
                    "output_type": "stream"
                },
                {
                    "name": "stdout",
                    "text": "\u001b[90m 10ms\u001b[0m\r\n",
                    "output_type": "stream"
                },
                {
                    "name": "stdout",
                    "text": "\u001b[91m        Expected the actual value to be greater than 2020-07-04T08:04:09.3268846Z, because Taking regular backups is extraordinarily important, but got 2020-06-27T03:00:41.0000000Z.\u001b[0m\r\n",
                    "output_type": "stream"
                },
                {
                    "name": "stdout",
                    "text": "\u001b[91m        518:                             $psitem.LastDifferentialBackupDate.ToUniversalTime() | Should -BeGreaterThan (Get-Date).ToUniversalTime().AddHours( - ($maxdiff)) -Because 'Taking regular backups is extraordinarily important'\u001b[0m\r\n",
                    "output_type": "stream"
                },
                {
                    "name": "stdout",
                    "text": "\u001b[91m        at <ScriptBlock>, D:\\OneDrive\\Documents\\GitHub\\dbachecks\\checks\\Database.Tests.ps1: line 518\u001b[0m\r\n",
                    "output_type": "stream"
                },
                {
                    "name": "stdout",
                    "text": "\u001b[91m      [-] Database ASausageFactory diff backups should be less than 25 hours old on SQL2017N5\u001b[0m",
                    "output_type": "stream"
                },
                {
                    "name": "stdout",
                    "text": "\u001b[90m 3ms\u001b[0m\r\n",
                    "output_type": "stream"
                },
                {
                    "name": "stdout",
                    "text": "\u001b[91m        Expected the actual value to be greater than 2020-07-04T08:04:09.3343389Z, because Taking regular backups is extraordinarily important, but got 2020-06-27T03:00:42.0000000Z.\u001b[0m\r\n",
                    "output_type": "stream"
                },
                {
                    "name": "stdout",
                    "text": "\u001b[91m        518:                             $psitem.LastDifferentialBackupDate.ToUniversalTime() | Should -BeGreaterThan (Get-Date).ToUniversalTime().AddHours( - ($maxdiff)) -Because 'Taking regular backups is extraordinarily important'\u001b[0m\r\n",
                    "output_type": "stream"
                },
                {
                    "name": "stdout",
                    "text": "\u001b[91m        at <ScriptBlock>, D:\\OneDrive\\Documents\\GitHub\\dbachecks\\checks\\Database.Tests.ps1: line 518\u001b[0m\r\n",
                    "output_type": "stream"
                },
                {
                    "name": "stdout",
                    "text": "\u001b[91m      [-] Database ASockFactory diff backups should be less than 25 hours old on SQL2017N5\u001b[0m",
                    "output_type": "stream"
                },
                {
                    "name": "stdout",
                    "text": "\u001b[90m 3ms\u001b[0m\r\n",
                    "output_type": "stream"
                },
                {
                    "name": "stdout",
                    "text": "\u001b[91m        Expected the actual value to be greater than 2020-07-04T08:04:09.3417405Z, because Taking regular backups is extraordinarily important, but got 2020-06-27T03:00:44.0000000Z.\u001b[0m\r\n",
                    "output_type": "stream"
                },
                {
                    "name": "stdout",
                    "text": "\u001b[91m        518:                             $psitem.LastDifferentialBackupDate.ToUniversalTime() | Should -BeGreaterThan (Get-Date).ToUniversalTime().AddHours( - ($maxdiff)) -Because 'Taking regular backups is extraordinarily important'\u001b[0m\r\n",
                    "output_type": "stream"
                },
                {
                    "name": "stdout",
                    "text": "\u001b[91m        at <ScriptBlock>, D:\\OneDrive\\Documents\\GitHub\\dbachecks\\checks\\Database.Tests.ps1: line 518\u001b[0m\r\n",
                    "output_type": "stream"
                },
                {
                    "name": "stdout",
                    "text": "\u001b[91m      [-] Database BeardNotebooks diff backups should be less than 25 hours old on SQL2017N5\u001b[0m",
                    "output_type": "stream"
                },
                {
                    "name": "stdout",
                    "text": "\u001b[90m 4ms\u001b[0m\r\n",
                    "output_type": "stream"
                },
                {
                    "name": "stdout",
                    "text": "\u001b[91m        Expected the actual value to be greater than 2020-07-04T08:04:09.3496024Z, because Taking regular backups is extraordinarily important, but got 2020-06-27T03:00:48.0000000Z.\u001b[0m\r\n",
                    "output_type": "stream"
                },
                {
                    "name": "stdout",
                    "text": "\u001b[91m        518:                             $psitem.LastDifferentialBackupDate.ToUniversalTime() | Should -BeGreaterThan (Get-Date).ToUniversalTime().AddHours( - ($maxdiff)) -Because 'Taking regular backups is extraordinarily important'\u001b[0m\r\n",
                    "output_type": "stream"
                },
                {
                    "name": "stdout",
                    "text": "\u001b[91m        at <ScriptBlock>, D:\\OneDrive\\Documents\\GitHub\\dbachecks\\checks\\Database.Tests.ps1: line 518\u001b[0m\r\n",
                    "output_type": "stream"
                },
                {
                    "name": "stdout",
                    "text": "\u001b[91m      [-] Database emptydbachecks diff backups should be less than 25 hours old on SQL2017N5\u001b[0m",
                    "output_type": "stream"
                },
                {
                    "name": "stdout",
                    "text": "\u001b[90m 3ms\u001b[0m\r\n",
                    "output_type": "stream"
                },
                {
                    "name": "stdout",
                    "text": "\u001b[91m        Expected the actual value to be greater than 2020-07-04T08:04:09.3598980Z, because Taking regular backups is extraordinarily important, but got 2020-06-27T03:00:55.0000000Z.\u001b[0m\r\n",
                    "output_type": "stream"
                },
                {
                    "name": "stdout",
                    "text": "\u001b[91m        518:                             $psitem.LastDifferentialBackupDate.ToUniversalTime() | Should -BeGreaterThan (Get-Date).ToUniversalTime().AddHours( - ($maxdiff)) -Because 'Taking regular backups is extraordinarily important'\u001b[0m\r\n",
                    "output_type": "stream"
                },
                {
                    "name": "stdout",
                    "text": "\u001b[91m        at <ScriptBlock>, D:\\OneDrive\\Documents\\GitHub\\dbachecks\\checks\\Database.Tests.ps1: line 518\u001b[0m\r\n",
                    "output_type": "stream"
                },
                {
                    "name": "stdout",
                    "text": "\u001b[91m      [-] Database SqlWatch diff backups should be less than 25 hours old on SQL2017N5\u001b[0m",
                    "output_type": "stream"
                },
                {
                    "name": "stdout",
                    "text": "\u001b[90m 4ms\u001b[0m\r\n",
                    "output_type": "stream"
                },
                {
                    "name": "stdout",
                    "text": "\u001b[91m        Expected the actual value to be greater than 2020-07-04T08:04:09.3680301Z, because Taking regular backups is extraordinarily important, but got 2020-06-27T03:01:14.0000000Z.\u001b[0m\r\n",
                    "output_type": "stream"
                },
                {
                    "name": "stdout",
                    "text": "\u001b[91m        518:                             $psitem.LastDifferentialBackupDate.ToUniversalTime() | Should -BeGreaterThan (Get-Date).ToUniversalTime().AddHours( - ($maxdiff)) -Because 'Taking regular backups is extraordinarily important'\u001b[0m\r\n",
                    "output_type": "stream"
                },
                {
                    "name": "stdout",
                    "text": "\u001b[91m        at <ScriptBlock>, D:\\OneDrive\\Documents\\GitHub\\dbachecks\\checks\\Database.Tests.ps1: line 518\u001b[0m\r\n",
                    "output_type": "stream"
                },
                {
                    "name": "stdout",
                    "text": "\u001b[91m      [-] Database SSISDB diff backups should be less than 25 hours old on SQL2017N5\u001b[0m",
                    "output_type": "stream"
                },
                {
                    "name": "stdout",
                    "text": "\u001b[90m 2ms\u001b[0m\r\n",
                    "output_type": "stream"
                },
                {
                    "name": "stdout",
                    "text": "\u001b[91m        Expected the actual value to be greater than 2020-07-04T08:04:09.3768377Z, because Taking regular backups is extraordinarily important, but got 2020-06-27T03:01:16.0000000Z.\u001b[0m\r\n",
                    "output_type": "stream"
                },
                {
                    "name": "stdout",
                    "text": "\u001b[91m        518:                             $psitem.LastDifferentialBackupDate.ToUniversalTime() | Should -BeGreaterThan (Get-Date).ToUniversalTime().AddHours( - ($maxdiff)) -Because 'Taking regular backups is extraordinarily important'\u001b[0m\r\n",
                    "output_type": "stream"
                },
                {
                    "name": "stdout",
                    "text": "\u001b[91m        at <ScriptBlock>, D:\\OneDrive\\Documents\\GitHub\\dbachecks\\checks\\Database.Tests.ps1: line 518\u001b[0m\r\n",
                    "output_type": "stream"
                },
                {
                    "name": "stdout",
                    "text": "\r\n",
                    "output_type": "stream"
                },
                {
                    "name": "stdout",
                    "text": "\u001b[92m  Describing Last Log Backup Times\u001b[0m\r\n",
                    "output_type": "stream"
                },
                {
                    "name": "stdout",
                    "text": "\r\n",
                    "output_type": "stream"
                },
                {
                    "name": "stdout",
                    "text": "\u001b[92m    Context Testing last log backups on SQL2017N5\u001b[0m\r\n",
                    "output_type": "stream"
                },
                {
                    "name": "stdout",
                    "text": "\r\n",
                    "output_type": "stream"
                },
                {
                    "name": "stdout",
                    "text": "\u001b[92m  Describing Virtual Log Files\u001b[0m\r\n",
                    "output_type": "stream"
                },
                {
                    "name": "stdout",
                    "text": "\r\n",
                    "output_type": "stream"
                },
                {
                    "name": "stdout",
                    "text": "\u001b[92m    Context Testing Database VLFs on SQL2017N5\u001b[0m\r\n",
                    "output_type": "stream"
                },
                {
                    "name": "stdout",
                    "text": "\r\n",
                    "output_type": "stream"
                },
                {
                    "name": "stdout",
                    "text": "\u001b[92m  Describing Log File Count Checks\u001b[0m\r\n",
                    "output_type": "stream"
                },
                {
                    "name": "stdout",
                    "text": "\r\n",
                    "output_type": "stream"
                },
                {
                    "name": "stdout",
                    "text": "\u001b[92m    Context Testing Log File count for SQL2017N5\u001b[0m\r\n",
                    "output_type": "stream"
                },
                {
                    "name": "stdout",
                    "text": "\r\n",
                    "output_type": "stream"
                },
                {
                    "name": "stdout",
                    "text": "\u001b[92m  Describing Log File Size Checks\u001b[0m\r\n",
                    "output_type": "stream"
                },
                {
                    "name": "stdout",
                    "text": "\r\n",
                    "output_type": "stream"
                },
                {
                    "name": "stdout",
                    "text": "\u001b[92m    Context Testing Log File size for SQL2017N5\u001b[0m\r\n",
                    "output_type": "stream"
                },
                {
                    "name": "stdout",
                    "text": "\r\n",
                    "output_type": "stream"
                },
                {
                    "name": "stdout",
                    "text": "\u001b[92m  Describing Future File Growth\u001b[0m\r\n",
                    "output_type": "stream"
                },
                {
                    "name": "stdout",
                    "text": "\r\n",
                    "output_type": "stream"
                },
                {
                    "name": "stdout",
                    "text": "\u001b[92m    Context Testing for files likely to grow soon on SQL2017N5\u001b[0m\r\n",
                    "output_type": "stream"
                },
                {
                    "name": "stdout",
                    "text": "\u001b[91m      [-] Database master file master has free space under threshold on SQL2017N5\u001b[0m",
                    "output_type": "stream"
                },
                {
                    "name": "stdout",
                    "text": "\u001b[90m 5ms\u001b[0m\r\n",
                    "output_type": "stream"
                },
                {
                    "name": "stdout",
                    "text": "\u001b[91m        Expected the actual value to be greater than or equal to 20, because free space within the file should be lower than threshold of 20 %, but got 2.586.\u001b[0m\r\n",
                    "output_type": "stream"
                },
                {
                    "name": "stdout",
                    "text": "\u001b[91m        650:                                 $PSItem.PercentFree | Should -BeGreaterOrEqual $threshold -Because \"free space within the file should be lower than threshold of $threshold %\"\u001b[0m\r\n",
                    "output_type": "stream"
                },
                {
                    "name": "stdout",
                    "text": "\u001b[91m        at <ScriptBlock>, D:\\OneDrive\\Documents\\GitHub\\dbachecks\\checks\\Database.Tests.ps1: line 650\u001b[0m\r\n",
                    "output_type": "stream"
                },
                {
                    "name": "stdout",
                    "text": "\u001b[91m      [-] Database msdb file MSDBData has free space under threshold on SQL2017N5\u001b[0m",
                    "output_type": "stream"
                },
                {
                    "name": "stdout",
                    "text": "\u001b[90m 5ms\u001b[0m\r\n",
                    "output_type": "stream"
                },
                {
                    "name": "stdout",
                    "text": "\u001b[91m        Expected the actual value to be greater than or equal to 20, because free space within the file should be lower than threshold of 20 %, but got 1.312.\u001b[0m\r\n",
                    "output_type": "stream"
                },
                {
                    "name": "stdout",
                    "text": "\u001b[91m        650:                                 $PSItem.PercentFree | Should -BeGreaterOrEqual $threshold -Because \"free space within the file should be lower than threshold of $threshold %\"\u001b[0m\r\n",
                    "output_type": "stream"
                },
                {
                    "name": "stdout",
                    "text": "\u001b[91m        at <ScriptBlock>, D:\\OneDrive\\Documents\\GitHub\\dbachecks\\checks\\Database.Tests.ps1: line 650\u001b[0m\r\n",
                    "output_type": "stream"
                },
                {
                    "name": "stdout",
                    "text": "\u001b[91m      [-] Database SSISDB file data has free space under threshold on SQL2017N5\u001b[0m",
                    "output_type": "stream"
                },
                {
                    "name": "stdout",
                    "text": "\u001b[90m 3ms\u001b[0m\r\n",
                    "output_type": "stream"
                },
                {
                    "name": "stdout",
                    "text": "\u001b[91m        Expected the actual value to be greater than or equal to 20, because free space within the file should be lower than threshold of 20 %, but got 0.343000000000004.\u001b[0m\r\n",
                    "output_type": "stream"
                },
                {
                    "name": "stdout",
                    "text": "\u001b[91m        650:                                 $PSItem.PercentFree | Should -BeGreaterOrEqual $threshold -Because \"free space within the file should be lower than threshold of $threshold %\"\u001b[0m\r\n",
                    "output_type": "stream"
                },
                {
                    "name": "stdout",
                    "text": "\u001b[91m        at <ScriptBlock>, D:\\OneDrive\\Documents\\GitHub\\dbachecks\\checks\\Database.Tests.ps1: line 650\u001b[0m\r\n",
                    "output_type": "stream"
                },
                {
                    "name": "stdout",
                    "text": "\r\n",
                    "output_type": "stream"
                },
                {
                    "name": "stdout",
                    "text": "\u001b[92m  Describing Correctly sized Filegroup members\u001b[0m\r\n",
                    "output_type": "stream"
                },
                {
                    "name": "stdout",
                    "text": "\r\n",
                    "output_type": "stream"
                },
                {
                    "name": "stdout",
                    "text": "\u001b[92m    Context Testing for balanced FileGroups on SQL2017N5\u001b[0m\r\n",
                    "output_type": "stream"
                },
                {
                    "name": "stdout",
                    "text": "\r\n",
                    "output_type": "stream"
                },
                {
                    "name": "stdout",
                    "text": "\u001b[92m  Describing Certificate Expiration\u001b[0m\r\n",
                    "output_type": "stream"
                },
                {
                    "name": "stdout",
                    "text": "\r\n",
                    "output_type": "stream"
                },
                {
                    "name": "stdout",
                    "text": "\u001b[92m    Context Checking that encryption certificates have not expired on SQL2017N5\u001b[0m\r\n",
                    "output_type": "stream"
                },
                {
                    "name": "stdout",
                    "text": "\u001b[91m      [-] Database SSISDB certificate MS_SQLISSigningCertificate has not expired on SQL2017N5\u001b[0m",
                    "output_type": "stream"
                },
                {
                    "name": "stdout",
                    "text": "\u001b[90m 3ms\u001b[0m\r\n",
                    "output_type": "stream"
                },
                {
                    "name": "stdout",
                    "text": "\u001b[91m        Expected the actual value to be greater than 2020-07-05T09:05:45.2425951Z, because this certificate should not be expired, but got 2018-08-23T01:39:03.0000000Z.\u001b[0m\r\n",
                    "output_type": "stream"
                },
                {
                    "name": "stdout",
                    "text": "\u001b[91m        702:                         $psitem.ExpirationDate.ToUniversalTime() | Should -BeGreaterThan (Get-Date).ToUniversalTime() -Because \"this certificate should not be expired\"\u001b[0m\r\n",
                    "output_type": "stream"
                },
                {
                    "name": "stdout",
                    "text": "\u001b[91m        at <ScriptBlock>, D:\\OneDrive\\Documents\\GitHub\\dbachecks\\checks\\Database.Tests.ps1: line 702\u001b[0m\r\n",
                    "output_type": "stream"
                },
                {
                    "name": "stdout",
                    "text": "\u001b[91m      [-] Database SSISDB certificate MS_SQLISSigningCertificate does not expire for more than 1 months on SQL2017N5\u001b[0m",
                    "output_type": "stream"
                },
                {
                    "name": "stdout",
                    "text": "\u001b[90m 4ms\u001b[0m\r\n",
                    "output_type": "stream"
                },
                {
                    "name": "stdout",
                    "text": "\u001b[91m        Expected the actual value to be greater than 2020-08-05T09:05:45.2500564Z, because expires inside the warning window of 1, but got 2018-08-23T01:39:03.0000000Z.\u001b[0m\r\n",
                    "output_type": "stream"
                },
                {
                    "name": "stdout",
                    "text": "\u001b[91m        705:                         $psitem.ExpirationDate.ToUniversalTime() | Should -BeGreaterThan (Get-Date).ToUniversalTime().AddMonths($CertificateWarning) -Because \"expires inside the warning window of $CertificateWarning\"\u001b[0m\r\n",
                    "output_type": "stream"
                },
                {
                    "name": "stdout",
                    "text": "\u001b[91m        at <ScriptBlock>, D:\\OneDrive\\Documents\\GitHub\\dbachecks\\checks\\Database.Tests.ps1: line 705\u001b[0m\r\n",
                    "output_type": "stream"
                },
                {
                    "name": "stdout",
                    "text": "\r\n",
                    "output_type": "stream"
                },
                {
                    "name": "stdout",
                    "text": "\u001b[92m  Describing Auto Create Statistics\u001b[0m\r\n",
                    "output_type": "stream"
                },
                {
                    "name": "stdout",
                    "text": "\r\n",
                    "output_type": "stream"
                },
                {
                    "name": "stdout",
                    "text": "\u001b[92m    Context Testing Auto Create Statistics on SQL2017N5\u001b[0m\r\n",
                    "output_type": "stream"
                },
                {
                    "name": "stdout",
                    "text": "\r\n",
                    "output_type": "stream"
                },
                {
                    "name": "stdout",
                    "text": "\u001b[92m  Describing Auto Update Statistics\u001b[0m\r\n",
                    "output_type": "stream"
                },
                {
                    "name": "stdout",
                    "text": "\r\n",
                    "output_type": "stream"
                },
                {
                    "name": "stdout",
                    "text": "\u001b[92m    Context Testing Auto Update Statistics on SQL2017N5\u001b[0m\r\n",
                    "output_type": "stream"
                },
                {
                    "name": "stdout",
                    "text": "\r\n",
                    "output_type": "stream"
                },
                {
                    "name": "stdout",
                    "text": "\u001b[92m  Describing Auto Update Statistics Asynchronously\u001b[0m\r\n",
                    "output_type": "stream"
                },
                {
                    "name": "stdout",
                    "text": "\r\n",
                    "output_type": "stream"
                },
                {
                    "name": "stdout",
                    "text": "\u001b[92m    Context Testing Auto Update Statistics Asynchronously on SQL2017N5\u001b[0m\r\n",
                    "output_type": "stream"
                },
                {
                    "name": "stdout",
                    "text": "\r\n",
                    "output_type": "stream"
                },
                {
                    "name": "stdout",
                    "text": "\u001b[92m  Describing Datafile Auto Growth Configuration\u001b[0m\r\n",
                    "output_type": "stream"
                },
                {
                    "name": "stdout",
                    "text": "\r\n",
                    "output_type": "stream"
                },
                {
                    "name": "stdout",
                    "text": "\u001b[92m    Context Testing datafile growth type on SQL2017N5\u001b[0m\r\n",
                    "output_type": "stream"
                },
                {
                    "name": "stdout",
                    "text": "\u001b[91m      [-] Database master datafile master on filegroup PRIMARY should have GrowthType set to kb on SQL2017N5\u001b[0m",
                    "output_type": "stream"
                },
                {
                    "name": "stdout",
                    "text": "\u001b[90m 4ms\u001b[0m\r\n",
                    "output_type": "stream"
                },
                {
                    "name": "stdout",
                    "text": "\u001b[91m        Expected strings to be the same, because We expect a certain file growth type, but they were different.\u001b[0m\r\n",
                    "output_type": "stream"
                },
                {
                    "name": "stdout",
                    "text": "\u001b[91m        Expected length: 2\u001b[0m\r\n",
                    "output_type": "stream"
                },
                {
                    "name": "stdout",
                    "text": "\u001b[91m        Actual length:   7\u001b[0m\r\n",
                    "output_type": "stream"
                },
                {
                    "name": "stdout",
                    "text": "\u001b[91m        Strings differ at index 0.\u001b[0m\r\n",
                    "output_type": "stream"
                },
                {
                    "name": "stdout",
                    "text": "\u001b[91m        Expected: 'kb'\u001b[0m\r\n",
                    "output_type": "stream"
                },
                {
                    "name": "stdout",
                    "text": "\u001b[91m        But was:  'Percent'\u001b[0m\r\n",
                    "output_type": "stream"
                },
                {
                    "name": "stdout",
                    "text": "\u001b[91m        791:                                 $psitem.GrowthType | Should -Be $datafilegrowthtype -Because \"We expect a certain file growth type\"\u001b[0m\r\n",
                    "output_type": "stream"
                },
                {
                    "name": "stdout",
                    "text": "\u001b[91m        at <ScriptBlock>, D:\\OneDrive\\Documents\\GitHub\\dbachecks\\checks\\Database.Tests.ps1: line 791\u001b[0m\r\n",
                    "output_type": "stream"
                },
                {
                    "name": "stdout",
                    "text": "\u001b[91m      [-] Database master datafile master on filegroup PRIMARY should have Growth set equal or higher than 65535 on SQL2017N5\u001b[0m",
                    "output_type": "stream"
                },
                {
                    "name": "stdout",
                    "text": "\u001b[90m 5ms\u001b[0m\r\n",
                    "output_type": "stream"
                },
                {
                    "name": "stdout",
                    "text": "\u001b[91m        Expected the actual value to be greater than or equal to 65535, because We expect a certain file growth value, but got 80.\u001b[0m\r\n",
                    "output_type": "stream"
                },
                {
                    "name": "stdout",
                    "text": "\u001b[91m        795:                                     $psitem.Growth * 8 | Should -BeGreaterOrEqual $datafilegrowthvalue  -because \"We expect a certain file growth value\"\u001b[0m\r\n",
                    "output_type": "stream"
                },
                {
                    "name": "stdout",
                    "text": "\u001b[91m        at <ScriptBlock>, D:\\OneDrive\\Documents\\GitHub\\dbachecks\\checks\\Database.Tests.ps1: line 795\u001b[0m\r\n",
                    "output_type": "stream"
                },
                {
                    "name": "stdout",
                    "text": "\u001b[91m      [-] Database master datafile mastlog on filegroup  should have GrowthType set to kb on SQL2017N5\u001b[0m",
                    "output_type": "stream"
                },
                {
                    "name": "stdout",
                    "text": "\u001b[90m 3ms\u001b[0m\r\n",
                    "output_type": "stream"
                },
                {
                    "name": "stdout",
                    "text": "\u001b[91m        Expected strings to be the same, because We expect a certain file growth type, but they were different.\u001b[0m\r\n",
                    "output_type": "stream"
                },
                {
                    "name": "stdout",
                    "text": "\u001b[91m        Expected length: 2\u001b[0m\r\n",
                    "output_type": "stream"
                },
                {
                    "name": "stdout",
                    "text": "\u001b[91m        Actual length:   7\u001b[0m\r\n",
                    "output_type": "stream"
                },
                {
                    "name": "stdout",
                    "text": "\u001b[91m        Strings differ at index 0.\u001b[0m\r\n",
                    "output_type": "stream"
                },
                {
                    "name": "stdout",
                    "text": "\u001b[91m        Expected: 'kb'\u001b[0m\r\n",
                    "output_type": "stream"
                },
                {
                    "name": "stdout",
                    "text": "\u001b[91m        But was:  'Percent'\u001b[0m\r\n",
                    "output_type": "stream"
                },
                {
                    "name": "stdout",
                    "text": "\u001b[91m        791:                                 $psitem.GrowthType | Should -Be $datafilegrowthtype -Because \"We expect a certain file growth type\"\u001b[0m\r\n",
                    "output_type": "stream"
                },
                {
                    "name": "stdout",
                    "text": "\u001b[91m        at <ScriptBlock>, D:\\OneDrive\\Documents\\GitHub\\dbachecks\\checks\\Database.Tests.ps1: line 791\u001b[0m\r\n",
                    "output_type": "stream"
                },
                {
                    "name": "stdout",
                    "text": "\u001b[91m      [-] Database master datafile mastlog on filegroup  should have Growth set equal or higher than 65535 on SQL2017N5\u001b[0m",
                    "output_type": "stream"
                },
                {
                    "name": "stdout",
                    "text": "\u001b[90m 5ms\u001b[0m\r\n",
                    "output_type": "stream"
                },
                {
                    "name": "stdout",
                    "text": "\u001b[91m        Expected the actual value to be greater than or equal to 65535, because We expect a certain file growth value, but got 80.\u001b[0m\r\n",
                    "output_type": "stream"
                },
                {
                    "name": "stdout",
                    "text": "\u001b[91m        795:                                     $psitem.Growth * 8 | Should -BeGreaterOrEqual $datafilegrowthvalue  -because \"We expect a certain file growth value\"\u001b[0m\r\n",
                    "output_type": "stream"
                },
                {
                    "name": "stdout",
                    "text": "\u001b[91m        at <ScriptBlock>, D:\\OneDrive\\Documents\\GitHub\\dbachecks\\checks\\Database.Tests.ps1: line 795\u001b[0m\r\n",
                    "output_type": "stream"
                },
                {
                    "name": "stdout",
                    "text": "\u001b[91m      [-] Database msdb datafile MSDBData on filegroup PRIMARY should have GrowthType set to kb on SQL2017N5\u001b[0m",
                    "output_type": "stream"
                },
                {
                    "name": "stdout",
                    "text": "\u001b[90m 5ms\u001b[0m\r\n",
                    "output_type": "stream"
                },
                {
                    "name": "stdout",
                    "text": "\u001b[91m        Expected strings to be the same, because We expect a certain file growth type, but they were different.\u001b[0m\r\n",
                    "output_type": "stream"
                },
                {
                    "name": "stdout",
                    "text": "\u001b[91m        Expected length: 2\u001b[0m\r\n",
                    "output_type": "stream"
                },
                {
                    "name": "stdout",
                    "text": "\u001b[91m        Actual length:   7\u001b[0m\r\n",
                    "output_type": "stream"
                },
                {
                    "name": "stdout",
                    "text": "\u001b[91m        Strings differ at index 0.\u001b[0m\r\n",
                    "output_type": "stream"
                },
                {
                    "name": "stdout",
                    "text": "\u001b[91m        Expected: 'kb'\u001b[0m\r\n",
                    "output_type": "stream"
                },
                {
                    "name": "stdout",
                    "text": "\u001b[91m        But was:  'Percent'\u001b[0m\r\n",
                    "output_type": "stream"
                },
                {
                    "name": "stdout",
                    "text": "\u001b[91m        791:                                 $psitem.GrowthType | Should -Be $datafilegrowthtype -Because \"We expect a certain file growth type\"\u001b[0m\r\n",
                    "output_type": "stream"
                },
                {
                    "name": "stdout",
                    "text": "\u001b[91m        at <ScriptBlock>, D:\\OneDrive\\Documents\\GitHub\\dbachecks\\checks\\Database.Tests.ps1: line 791\u001b[0m\r\n",
                    "output_type": "stream"
                },
                {
                    "name": "stdout",
                    "text": "\u001b[91m      [-] Database msdb datafile MSDBData on filegroup PRIMARY should have Growth set equal or higher than 65535 on SQL2017N5\u001b[0m",
                    "output_type": "stream"
                },
                {
                    "name": "stdout",
                    "text": "\u001b[90m 3ms\u001b[0m\r\n",
                    "output_type": "stream"
                },
                {
                    "name": "stdout",
                    "text": "\u001b[91m        Expected the actual value to be greater than or equal to 65535, because We expect a certain file growth value, but got 80.\u001b[0m\r\n",
                    "output_type": "stream"
                },
                {
                    "name": "stdout",
                    "text": "\u001b[91m        795:                                     $psitem.Growth * 8 | Should -BeGreaterOrEqual $datafilegrowthvalue  -because \"We expect a certain file growth value\"\u001b[0m\r\n",
                    "output_type": "stream"
                },
                {
                    "name": "stdout",
                    "text": "\u001b[91m        at <ScriptBlock>, D:\\OneDrive\\Documents\\GitHub\\dbachecks\\checks\\Database.Tests.ps1: line 795\u001b[0m\r\n",
                    "output_type": "stream"
                },
                {
                    "name": "stdout",
                    "text": "\u001b[91m      [-] Database msdb datafile MSDBLog on filegroup  should have GrowthType set to kb on SQL2017N5\u001b[0m",
                    "output_type": "stream"
                },
                {
                    "name": "stdout",
                    "text": "\u001b[90m 7ms\u001b[0m\r\n",
                    "output_type": "stream"
                },
                {
                    "name": "stdout",
                    "text": "\u001b[91m        Expected strings to be the same, because We expect a certain file growth type, but they were different.\u001b[0m\r\n",
                    "output_type": "stream"
                },
                {
                    "name": "stdout",
                    "text": "\u001b[91m        Expected length: 2\u001b[0m\r\n",
                    "output_type": "stream"
                },
                {
                    "name": "stdout",
                    "text": "\u001b[91m        Actual length:   7\u001b[0m\r\n",
                    "output_type": "stream"
                },
                {
                    "name": "stdout",
                    "text": "\u001b[91m        Strings differ at index 0.\u001b[0m\r\n",
                    "output_type": "stream"
                },
                {
                    "name": "stdout",
                    "text": "\u001b[91m        Expected: 'kb'\u001b[0m\r\n",
                    "output_type": "stream"
                },
                {
                    "name": "stdout",
                    "text": "\u001b[91m        But was:  'Percent'\u001b[0m\r\n",
                    "output_type": "stream"
                },
                {
                    "name": "stdout",
                    "text": "\u001b[91m        791:                                 $psitem.GrowthType | Should -Be $datafilegrowthtype -Because \"We expect a certain file growth type\"\u001b[0m\r\n",
                    "output_type": "stream"
                },
                {
                    "name": "stdout",
                    "text": "\u001b[91m        at <ScriptBlock>, D:\\OneDrive\\Documents\\GitHub\\dbachecks\\checks\\Database.Tests.ps1: line 791\u001b[0m\r\n",
                    "output_type": "stream"
                },
                {
                    "name": "stdout",
                    "text": "\u001b[91m      [-] Database msdb datafile MSDBLog on filegroup  should have Growth set equal or higher than 65535 on SQL2017N5\u001b[0m",
                    "output_type": "stream"
                },
                {
                    "name": "stdout",
                    "text": "\u001b[90m 4ms\u001b[0m\r\n",
                    "output_type": "stream"
                },
                {
                    "name": "stdout",
                    "text": "\u001b[91m        Expected the actual value to be greater than or equal to 65535, because We expect a certain file growth value, but got 80.\u001b[0m\r\n",
                    "output_type": "stream"
                },
                {
                    "name": "stdout",
                    "text": "\u001b[91m        795:                                     $psitem.Growth * 8 | Should -BeGreaterOrEqual $datafilegrowthvalue  -because \"We expect a certain file growth value\"\u001b[0m\r\n",
                    "output_type": "stream"
                },
                {
                    "name": "stdout",
                    "text": "\u001b[91m        at <ScriptBlock>, D:\\OneDrive\\Documents\\GitHub\\dbachecks\\checks\\Database.Tests.ps1: line 795\u001b[0m\r\n",
                    "output_type": "stream"
                },
                {
                    "name": "stdout",
                    "text": "\u001b[91m      [-] Database SSISDB datafile data on filegroup PRIMARY should have GrowthType set to kb on SQL2017N5\u001b[0m",
                    "output_type": "stream"
                },
                {
                    "name": "stdout",
                    "text": "\u001b[90m 4ms\u001b[0m\r\n",
                    "output_type": "stream"
                },
                {
                    "name": "stdout",
                    "text": "\u001b[91m        Expected strings to be the same, because We expect a certain file growth type, but they were different.\u001b[0m\r\n",
                    "output_type": "stream"
                },
                {
                    "name": "stdout",
                    "text": "\u001b[91m        Expected length: 2\u001b[0m\r\n",
                    "output_type": "stream"
                },
                {
                    "name": "stdout",
                    "text": "\u001b[91m        Actual length:   7\u001b[0m\r\n",
                    "output_type": "stream"
                },
                {
                    "name": "stdout",
                    "text": "\u001b[91m        Strings differ at index 0.\u001b[0m\r\n",
                    "output_type": "stream"
                },
                {
                    "name": "stdout",
                    "text": "\u001b[91m        Expected: 'kb'\u001b[0m\r\n",
                    "output_type": "stream"
                },
                {
                    "name": "stdout",
                    "text": "\u001b[91m        But was:  'Percent'\u001b[0m\r\n",
                    "output_type": "stream"
                },
                {
                    "name": "stdout",
                    "text": "\u001b[91m        791:                                 $psitem.GrowthType | Should -Be $datafilegrowthtype -Because \"We expect a certain file growth type\"\u001b[0m\r\n",
                    "output_type": "stream"
                },
                {
                    "name": "stdout",
                    "text": "\u001b[91m        at <ScriptBlock>, D:\\OneDrive\\Documents\\GitHub\\dbachecks\\checks\\Database.Tests.ps1: line 791\u001b[0m\r\n",
                    "output_type": "stream"
                },
                {
                    "name": "stdout",
                    "text": "\u001b[91m      [-] Database SSISDB datafile data on filegroup PRIMARY should have Growth set equal or higher than 65535 on SQL2017N5\u001b[0m",
                    "output_type": "stream"
                },
                {
                    "name": "stdout",
                    "text": "\u001b[90m 4ms\u001b[0m\r\n",
                    "output_type": "stream"
                },
                {
                    "name": "stdout",
                    "text": "\u001b[91m        Expected the actual value to be greater than or equal to 65535, because We expect a certain file growth value, but got 80.\u001b[0m\r\n",
                    "output_type": "stream"
                },
                {
                    "name": "stdout",
                    "text": "\u001b[91m        795:                                     $psitem.Growth * 8 | Should -BeGreaterOrEqual $datafilegrowthvalue  -because \"We expect a certain file growth value\"\u001b[0m\r\n",
                    "output_type": "stream"
                },
                {
                    "name": "stdout",
                    "text": "\u001b[91m        at <ScriptBlock>, D:\\OneDrive\\Documents\\GitHub\\dbachecks\\checks\\Database.Tests.ps1: line 795\u001b[0m\r\n",
                    "output_type": "stream"
                },
                {
                    "name": "stdout",
                    "text": "\u001b[91m      [-] Database SSISDB datafile log on filegroup  should have GrowthType set to kb on SQL2017N5\u001b[0m",
                    "output_type": "stream"
                },
                {
                    "name": "stdout",
                    "text": "\u001b[90m 4ms\u001b[0m\r\n",
                    "output_type": "stream"
                },
                {
                    "name": "stdout",
                    "text": "\u001b[91m        Expected strings to be the same, because We expect a certain file growth type, but they were different.\u001b[0m\r\n",
                    "output_type": "stream"
                },
                {
                    "name": "stdout",
                    "text": "\u001b[91m        Expected length: 2\u001b[0m\r\n",
                    "output_type": "stream"
                },
                {
                    "name": "stdout",
                    "text": "\u001b[91m        Actual length:   7\u001b[0m\r\n",
                    "output_type": "stream"
                },
                {
                    "name": "stdout",
                    "text": "\u001b[91m        Strings differ at index 0.\u001b[0m\r\n",
                    "output_type": "stream"
                },
                {
                    "name": "stdout",
                    "text": "\u001b[91m        Expected: 'kb'\u001b[0m\r\n",
                    "output_type": "stream"
                },
                {
                    "name": "stdout",
                    "text": "\u001b[91m        But was:  'Percent'\u001b[0m\r\n",
                    "output_type": "stream"
                },
                {
                    "name": "stdout",
                    "text": "\u001b[91m        791:                                 $psitem.GrowthType | Should -Be $datafilegrowthtype -Because \"We expect a certain file growth type\"\u001b[0m\r\n",
                    "output_type": "stream"
                },
                {
                    "name": "stdout",
                    "text": "\u001b[91m        at <ScriptBlock>, D:\\OneDrive\\Documents\\GitHub\\dbachecks\\checks\\Database.Tests.ps1: line 791\u001b[0m\r\n",
                    "output_type": "stream"
                },
                {
                    "name": "stdout",
                    "text": "\u001b[91m      [-] Database SSISDB datafile log on filegroup  should have Growth set equal or higher than 65535 on SQL2017N5\u001b[0m",
                    "output_type": "stream"
                },
                {
                    "name": "stdout",
                    "text": "\u001b[90m 3ms\u001b[0m\r\n",
                    "output_type": "stream"
                },
                {
                    "name": "stdout",
                    "text": "\u001b[91m        Expected the actual value to be greater than or equal to 65535, because We expect a certain file growth value, but got 80.\u001b[0m\r\n",
                    "output_type": "stream"
                },
                {
                    "name": "stdout",
                    "text": "\u001b[91m        795:                                     $psitem.Growth * 8 | Should -BeGreaterOrEqual $datafilegrowthvalue  -because \"We expect a certain file growth value\"\u001b[0m\r\n",
                    "output_type": "stream"
                },
                {
                    "name": "stdout",
                    "text": "\u001b[91m        at <ScriptBlock>, D:\\OneDrive\\Documents\\GitHub\\dbachecks\\checks\\Database.Tests.ps1: line 795\u001b[0m\r\n",
                    "output_type": "stream"
                },
                {
                    "name": "stdout",
                    "text": "\r\n",
                    "output_type": "stream"
                },
                {
                    "name": "stdout",
                    "text": "\u001b[92m  Describing Trustworthy Option\u001b[0m\r\n",
                    "output_type": "stream"
                },
                {
                    "name": "stdout",
                    "text": "\r\n",
                    "output_type": "stream"
                },
                {
                    "name": "stdout",
                    "text": "\u001b[92m    Context Testing database trustworthy option on SQL2017N5\u001b[0m\r\n",
                    "output_type": "stream"
                },
                {
                    "name": "stdout",
                    "text": "\r\n",
                    "output_type": "stream"
                },
                {
                    "name": "stdout",
                    "text": "\u001b[92m  Describing Database Orphaned User\u001b[0m\r\n",
                    "output_type": "stream"
                },
                {
                    "name": "stdout",
                    "text": "\r\n",
                    "output_type": "stream"
                },
                {
                    "name": "stdout",
                    "text": "\u001b[92m    Context Testing database orphaned user event on SQL2017N5\u001b[0m\r\n",
                    "output_type": "stream"
                },
                {
                    "name": "stdout",
                    "text": "\r\n",
                    "output_type": "stream"
                },
                {
                    "name": "stdout",
                    "text": "\u001b[92m  Describing PseudoSimple Recovery Model\u001b[0m\r\n",
                    "output_type": "stream"
                },
                {
                    "name": "stdout",
                    "text": "\r\n",
                    "output_type": "stream"
                },
                {
                    "name": "stdout",
                    "text": "\u001b[92m    Context Testing database is not in PseudoSimple recovery model on SQL2017N5\u001b[0m\r\n",
                    "output_type": "stream"
                },
                {
                    "name": "stdout",
                    "text": "\r\n",
                    "output_type": "stream"
                },
                {
                    "name": "stdout",
                    "text": "\u001b[92m  Describing Compatibility Level\u001b[0m\r\n",
                    "output_type": "stream"
                },
                {
                    "name": "stdout",
                    "text": "\r\n",
                    "output_type": "stream"
                },
                {
                    "name": "stdout",
                    "text": "\u001b[92m    Context Testing database compatibility level matches server compatibility level on SQL2017N5\u001b[0m\r\n",
                    "output_type": "stream"
                },
                {
                    "name": "stdout",
                    "text": "\r\n",
                    "output_type": "stream"
                },
                {
                    "name": "stdout",
                    "text": "\u001b[92m  Describing Foreign keys and check constraints not trusted\u001b[0m\r\n",
                    "output_type": "stream"
                },
                {
                    "name": "stdout",
                    "text": "\r\n",
                    "output_type": "stream"
                },
                {
                    "name": "stdout",
                    "text": "\u001b[92m    Context Testing Foreign Keys and Check Constraints are not trusted SQL2017N5\u001b[0m\r\n",
                    "output_type": "stream"
                },
                {
                    "name": "stdout",
                    "text": "\u001b[91m      [-] Database SqlWatch Foreign Key fk_sqlwatch_logger_agent_job_history_job on table [dbo].[sqlwatch_logger_agent_job_history] should be trusted on SQL2017N5\u001b[0m",
                    "output_type": "stream"
                },
                {
                    "name": "stdout",
                    "text": "\u001b[90m 4ms\u001b[0m\r\n",
                    "output_type": "stream"
                },
                {
                    "name": "stdout",
                    "text": "\u001b[91m        Expected $true, because This can have a huge performance impact on queries. SQL Server won't use untrusted constraints to build better execution plans. It will also avoid data violation, but got $false.\u001b[0m\r\n",
                    "output_type": "stream"
                },
                {
                    "name": "stdout",
                    "text": "\u001b[91m        906:                         $psitem.IsChecked | Should -Be $true -Because \"This can have a huge performance impact on queries. SQL Server won't use untrusted constraints to build better execution plans. It will also avoid data violation\"\u001b[0m\r\n",
                    "output_type": "stream"
                },
                {
                    "name": "stdout",
                    "text": "\u001b[91m        at <ScriptBlock>, D:\\OneDrive\\Documents\\GitHub\\dbachecks\\checks\\Database.Tests.ps1: line 906\u001b[0m\r\n",
                    "output_type": "stream"
                },
                {
                    "name": "stdout",
                    "text": "\u001b[91m      [-] Database SqlWatch Foreign Key fk_sqlwatch_logger_agent_job_history_snapshot_header on table [dbo].[sqlwatch_logger_agent_job_history] should be trusted on SQL2017N5\u001b[0m",
                    "output_type": "stream"
                },
                {
                    "name": "stdout",
                    "text": "\u001b[90m 4ms\u001b[0m\r\n",
                    "output_type": "stream"
                },
                {
                    "name": "stdout",
                    "text": "\u001b[91m        Expected $true, because This can have a huge performance impact on queries. SQL Server won't use untrusted constraints to build better execution plans. It will also avoid data violation, but got $false.\u001b[0m\r\n",
                    "output_type": "stream"
                },
                {
                    "name": "stdout",
                    "text": "\u001b[91m        906:                         $psitem.IsChecked | Should -Be $true -Because \"This can have a huge performance impact on queries. SQL Server won't use untrusted constraints to build better execution plans. It will also avoid data violation\"\u001b[0m\r\n",
                    "output_type": "stream"
                },
                {
                    "name": "stdout",
                    "text": "\u001b[91m        at <ScriptBlock>, D:\\OneDrive\\Documents\\GitHub\\dbachecks\\checks\\Database.Tests.ps1: line 906\u001b[0m\r\n",
                    "output_type": "stream"
                },
                {
                    "name": "stdout",
                    "text": "\u001b[91m      [-] Database SqlWatch Foreign Key FK_logger_disk_util_database_database on table [dbo].[sqlwatch_logger_disk_utilisation_database] should be trusted on SQL2017N5\u001b[0m",
                    "output_type": "stream"
                },
                {
                    "name": "stdout",
                    "text": "\u001b[90m 3ms\u001b[0m\r\n",
                    "output_type": "stream"
                },
                {
                    "name": "stdout",
                    "text": "\u001b[91m        Expected $true, because This can have a huge performance impact on queries. SQL Server won't use untrusted constraints to build better execution plans. It will also avoid data violation, but got $false.\u001b[0m\r\n",
                    "output_type": "stream"
                },
                {
                    "name": "stdout",
                    "text": "\u001b[91m        906:                         $psitem.IsChecked | Should -Be $true -Because \"This can have a huge performance impact on queries. SQL Server won't use untrusted constraints to build better execution plans. It will also avoid data violation\"\u001b[0m\r\n",
                    "output_type": "stream"
                },
                {
                    "name": "stdout",
                    "text": "\u001b[91m        at <ScriptBlock>, D:\\OneDrive\\Documents\\GitHub\\dbachecks\\checks\\Database.Tests.ps1: line 906\u001b[0m\r\n",
                    "output_type": "stream"
                },
                {
                    "name": "stdout",
                    "text": "\u001b[91m      [-] Database SqlWatch Foreign Key FK_logger_disk_util_database_snapshot on table [dbo].[sqlwatch_logger_disk_utilisation_database] should be trusted on SQL2017N5\u001b[0m",
                    "output_type": "stream"
                },
                {
                    "name": "stdout",
                    "text": "\u001b[90m 19ms\u001b[0m\r\n",
                    "output_type": "stream"
                },
                {
                    "name": "stdout",
                    "text": "\u001b[91m        Expected $true, because This can have a huge performance impact on queries. SQL Server won't use untrusted constraints to build better execution plans. It will also avoid data violation, but got $false.\u001b[0m\r\n",
                    "output_type": "stream"
                },
                {
                    "name": "stdout",
                    "text": "\u001b[91m        906:                         $psitem.IsChecked | Should -Be $true -Because \"This can have a huge performance impact on queries. SQL Server won't use untrusted constraints to build better execution plans. It will also avoid data violation\"\u001b[0m\r\n",
                    "output_type": "stream"
                },
                {
                    "name": "stdout",
                    "text": "\u001b[91m        at <ScriptBlock>, D:\\OneDrive\\Documents\\GitHub\\dbachecks\\checks\\Database.Tests.ps1: line 906\u001b[0m\r\n",
                    "output_type": "stream"
                },
                {
                    "name": "stdout",
                    "text": "\u001b[91m      [-] Database SqlWatch Foreign Key FK_disk_util_vol_snapshot_header on table [dbo].[sqlwatch_logger_disk_utilisation_volume] should be trusted on SQL2017N5\u001b[0m",
                    "output_type": "stream"
                },
                {
                    "name": "stdout",
                    "text": "\u001b[90m 3ms\u001b[0m\r\n",
                    "output_type": "stream"
                },
                {
                    "name": "stdout",
                    "text": "\u001b[91m        Expected $true, because This can have a huge performance impact on queries. SQL Server won't use untrusted constraints to build better execution plans. It will also avoid data violation, but got $false.\u001b[0m\r\n",
                    "output_type": "stream"
                },
                {
                    "name": "stdout",
                    "text": "\u001b[91m        906:                         $psitem.IsChecked | Should -Be $true -Because \"This can have a huge performance impact on queries. SQL Server won't use untrusted constraints to build better execution plans. It will also avoid data violation\"\u001b[0m\r\n",
                    "output_type": "stream"
                },
                {
                    "name": "stdout",
                    "text": "\u001b[91m        at <ScriptBlock>, D:\\OneDrive\\Documents\\GitHub\\dbachecks\\checks\\Database.Tests.ps1: line 906\u001b[0m\r\n",
                    "output_type": "stream"
                },
                {
                    "name": "stdout",
                    "text": "\u001b[91m      [-] Database SqlWatch Foreign Key fk_sqlwatch_logger_disk_utilisation_volume_id on table [dbo].[sqlwatch_logger_disk_utilisation_volume] should be trusted on SQL2017N5\u001b[0m",
                    "output_type": "stream"
                },
                {
                    "name": "stdout",
                    "text": "\u001b[90m 3ms\u001b[0m\r\n",
                    "output_type": "stream"
                },
                {
                    "name": "stdout",
                    "text": "\u001b[91m        Expected $true, because This can have a huge performance impact on queries. SQL Server won't use untrusted constraints to build better execution plans. It will also avoid data violation, but got $false.\u001b[0m\r\n",
                    "output_type": "stream"
                },
                {
                    "name": "stdout",
                    "text": "\u001b[91m        906:                         $psitem.IsChecked | Should -Be $true -Because \"This can have a huge performance impact on queries. SQL Server won't use untrusted constraints to build better execution plans. It will also avoid data violation\"\u001b[0m\r\n",
                    "output_type": "stream"
                },
                {
                    "name": "stdout",
                    "text": "\u001b[91m        at <ScriptBlock>, D:\\OneDrive\\Documents\\GitHub\\dbachecks\\checks\\Database.Tests.ps1: line 906\u001b[0m\r\n",
                    "output_type": "stream"
                },
                {
                    "name": "stdout",
                    "text": "\u001b[91m      [-] Database SqlWatch Foreign Key fk_logger_missing_indexes_snapshot_header on table [dbo].[sqlwatch_logger_index_missing_stats] should be trusted on SQL2017N5\u001b[0m",
                    "output_type": "stream"
                },
                {
                    "name": "stdout",
                    "text": "\u001b[90m 2ms\u001b[0m\r\n",
                    "output_type": "stream"
                },
                {
                    "name": "stdout",
                    "text": "\u001b[91m        Expected $true, because This can have a huge performance impact on queries. SQL Server won't use untrusted constraints to build better execution plans. It will also avoid data violation, but got $false.\u001b[0m\r\n",
                    "output_type": "stream"
                },
                {
                    "name": "stdout",
                    "text": "\u001b[91m        906:                         $psitem.IsChecked | Should -Be $true -Because \"This can have a huge performance impact on queries. SQL Server won't use untrusted constraints to build better execution plans. It will also avoid data violation\"\u001b[0m\r\n",
                    "output_type": "stream"
                },
                {
                    "name": "stdout",
                    "text": "\u001b[91m        at <ScriptBlock>, D:\\OneDrive\\Documents\\GitHub\\dbachecks\\checks\\Database.Tests.ps1: line 906\u001b[0m\r\n",
                    "output_type": "stream"
                },
                {
                    "name": "stdout",
                    "text": "\u001b[91m      [-] Database SqlWatch Foreign Key fk_sqlwatch_logger_index_missing_stats_index_detail on table [dbo].[sqlwatch_logger_index_missing_stats] should be trusted on SQL2017N5\u001b[0m",
                    "output_type": "stream"
                },
                {
                    "name": "stdout",
                    "text": "\u001b[90m 3ms\u001b[0m\r\n",
                    "output_type": "stream"
                },
                {
                    "name": "stdout",
                    "text": "\u001b[91m        Expected $true, because This can have a huge performance impact on queries. SQL Server won't use untrusted constraints to build better execution plans. It will also avoid data violation, but got $false.\u001b[0m\r\n",
                    "output_type": "stream"
                },
                {
                    "name": "stdout",
                    "text": "\u001b[91m        906:                         $psitem.IsChecked | Should -Be $true -Because \"This can have a huge performance impact on queries. SQL Server won't use untrusted constraints to build better execution plans. It will also avoid data violation\"\u001b[0m\r\n",
                    "output_type": "stream"
                },
                {
                    "name": "stdout",
                    "text": "\u001b[91m        at <ScriptBlock>, D:\\OneDrive\\Documents\\GitHub\\dbachecks\\checks\\Database.Tests.ps1: line 906\u001b[0m\r\n",
                    "output_type": "stream"
                },
                {
                    "name": "stdout",
                    "text": "\u001b[91m      [-] Database SqlWatch Foreign Key fk_index_usage_stats_header on table [dbo].[sqlwatch_logger_index_usage_stats] should be trusted on SQL2017N5\u001b[0m",
                    "output_type": "stream"
                },
                {
                    "name": "stdout",
                    "text": "\u001b[90m 3ms\u001b[0m\r\n",
                    "output_type": "stream"
                },
                {
                    "name": "stdout",
                    "text": "\u001b[91m        Expected $true, because This can have a huge performance impact on queries. SQL Server won't use untrusted constraints to build better execution plans. It will also avoid data violation, but got $false.\u001b[0m\r\n",
                    "output_type": "stream"
                },
                {
                    "name": "stdout",
                    "text": "\u001b[91m        906:                         $psitem.IsChecked | Should -Be $true -Because \"This can have a huge performance impact on queries. SQL Server won't use untrusted constraints to build better execution plans. It will also avoid data violation\"\u001b[0m\r\n",
                    "output_type": "stream"
                },
                {
                    "name": "stdout",
                    "text": "\u001b[91m        at <ScriptBlock>, D:\\OneDrive\\Documents\\GitHub\\dbachecks\\checks\\Database.Tests.ps1: line 906\u001b[0m\r\n",
                    "output_type": "stream"
                },
                {
                    "name": "stdout",
                    "text": "\u001b[91m      [-] Database SqlWatch Foreign Key fk_sqlwatch_logger_index_usage_stats_index on table [dbo].[sqlwatch_logger_index_usage_stats] should be trusted on SQL2017N5\u001b[0m",
                    "output_type": "stream"
                },
                {
                    "name": "stdout",
                    "text": "\u001b[90m 3ms\u001b[0m\r\n",
                    "output_type": "stream"
                },
                {
                    "name": "stdout",
                    "text": "\u001b[91m        Expected $true, because This can have a huge performance impact on queries. SQL Server won't use untrusted constraints to build better execution plans. It will also avoid data violation, but got $false.\u001b[0m\r\n",
                    "output_type": "stream"
                },
                {
                    "name": "stdout",
                    "text": "\u001b[91m        906:                         $psitem.IsChecked | Should -Be $true -Because \"This can have a huge performance impact on queries. SQL Server won't use untrusted constraints to build better execution plans. It will also avoid data violation\"\u001b[0m\r\n",
                    "output_type": "stream"
                },
                {
                    "name": "stdout",
                    "text": "\u001b[91m        at <ScriptBlock>, D:\\OneDrive\\Documents\\GitHub\\dbachecks\\checks\\Database.Tests.ps1: line 906\u001b[0m\r\n",
                    "output_type": "stream"
                },
                {
                    "name": "stdout",
                    "text": "\u001b[91m      [-] Database SqlWatch Foreign Key fk_logger_index_stats_histogram on table [dbo].[sqlwatch_logger_index_usage_stats_histogram] should be trusted on SQL2017N5\u001b[0m",
                    "output_type": "stream"
                },
                {
                    "name": "stdout",
                    "text": "\u001b[90m 4ms\u001b[0m\r\n",
                    "output_type": "stream"
                },
                {
                    "name": "stdout",
                    "text": "\u001b[91m        Expected $true, because This can have a huge performance impact on queries. SQL Server won't use untrusted constraints to build better execution plans. It will also avoid data violation, but got $false.\u001b[0m\r\n",
                    "output_type": "stream"
                },
                {
                    "name": "stdout",
                    "text": "\u001b[91m        906:                         $psitem.IsChecked | Should -Be $true -Because \"This can have a huge performance impact on queries. SQL Server won't use untrusted constraints to build better execution plans. It will also avoid data violation\"\u001b[0m\r\n",
                    "output_type": "stream"
                },
                {
                    "name": "stdout",
                    "text": "\u001b[91m        at <ScriptBlock>, D:\\OneDrive\\Documents\\GitHub\\dbachecks\\checks\\Database.Tests.ps1: line 906\u001b[0m\r\n",
                    "output_type": "stream"
                },
                {
                    "name": "stdout",
                    "text": "\u001b[91m      [-] Database SqlWatch Foreign Key pk_sqlwatch_logger_index_usage_stats_histogram_index on table [dbo].[sqlwatch_logger_index_usage_stats_histogram] should be trusted on SQL2017N5\u001b[0m",
                    "output_type": "stream"
                },
                {
                    "name": "stdout",
                    "text": "\u001b[90m 3ms\u001b[0m\r\n",
                    "output_type": "stream"
                },
                {
                    "name": "stdout",
                    "text": "\u001b[91m        Expected $true, because This can have a huge performance impact on queries. SQL Server won't use untrusted constraints to build better execution plans. It will also avoid data violation, but got $false.\u001b[0m\r\n",
                    "output_type": "stream"
                },
                {
                    "name": "stdout",
                    "text": "\u001b[91m        906:                         $psitem.IsChecked | Should -Be $true -Because \"This can have a huge performance impact on queries. SQL Server won't use untrusted constraints to build better execution plans. It will also avoid data violation\"\u001b[0m\r\n",
                    "output_type": "stream"
                },
                {
                    "name": "stdout",
                    "text": "\u001b[91m        at <ScriptBlock>, D:\\OneDrive\\Documents\\GitHub\\dbachecks\\checks\\Database.Tests.ps1: line 906\u001b[0m\r\n",
                    "output_type": "stream"
                },
                {
                    "name": "stdout",
                    "text": "\u001b[91m      [-] Database SqlWatch Foreign Key fk_sql_perf_mon_file_stats_snapshot_header on table [dbo].[sqlwatch_logger_perf_file_stats] should be trusted on SQL2017N5\u001b[0m",
                    "output_type": "stream"
                },
                {
                    "name": "stdout",
                    "text": "\u001b[90m 3ms\u001b[0m\r\n",
                    "output_type": "stream"
                },
                {
                    "name": "stdout",
                    "text": "\u001b[91m        Expected $true, because This can have a huge performance impact on queries. SQL Server won't use untrusted constraints to build better execution plans. It will also avoid data violation, but got $false.\u001b[0m\r\n",
                    "output_type": "stream"
                },
                {
                    "name": "stdout",
                    "text": "\u001b[91m        906:                         $psitem.IsChecked | Should -Be $true -Because \"This can have a huge performance impact on queries. SQL Server won't use untrusted constraints to build better execution plans. It will also avoid data violation\"\u001b[0m\r\n",
                    "output_type": "stream"
                },
                {
                    "name": "stdout",
                    "text": "\u001b[91m        at <ScriptBlock>, D:\\OneDrive\\Documents\\GitHub\\dbachecks\\checks\\Database.Tests.ps1: line 906\u001b[0m\r\n",
                    "output_type": "stream"
                },
                {
                    "name": "stdout",
                    "text": "\u001b[91m      [-] Database SqlWatch Foreign Key fk_sqlwatch_logger_perf_file_stats_master_file on table [dbo].[sqlwatch_logger_perf_file_stats] should be trusted on SQL2017N5\u001b[0m",
                    "output_type": "stream"
                },
                {
                    "name": "stdout",
                    "text": "\u001b[90m 5ms\u001b[0m\r\n",
                    "output_type": "stream"
                },
                {
                    "name": "stdout",
                    "text": "\u001b[91m        Expected $true, because This can have a huge performance impact on queries. SQL Server won't use untrusted constraints to build better execution plans. It will also avoid data violation, but got $false.\u001b[0m\r\n",
                    "output_type": "stream"
                },
                {
                    "name": "stdout",
                    "text": "\u001b[91m        906:                         $psitem.IsChecked | Should -Be $true -Because \"This can have a huge performance impact on queries. SQL Server won't use untrusted constraints to build better execution plans. It will also avoid data violation\"\u001b[0m\r\n",
                    "output_type": "stream"
                },
                {
                    "name": "stdout",
                    "text": "\u001b[91m        at <ScriptBlock>, D:\\OneDrive\\Documents\\GitHub\\dbachecks\\checks\\Database.Tests.ps1: line 906\u001b[0m\r\n",
                    "output_type": "stream"
                },
                {
                    "name": "stdout",
                    "text": "\u001b[91m      [-] Database SqlWatch Foreign Key fk_sql_perf_mon_os_memory_clerks_snapshot_header on table [dbo].[sqlwatch_logger_perf_os_memory_clerks] should be trusted on SQL2017N5\u001b[0m",
                    "output_type": "stream"
                },
                {
                    "name": "stdout",
                    "text": "\u001b[90m 3ms\u001b[0m\r\n",
                    "output_type": "stream"
                },
                {
                    "name": "stdout",
                    "text": "\u001b[91m        Expected $true, because This can have a huge performance impact on queries. SQL Server won't use untrusted constraints to build better execution plans. It will also avoid data violation, but got $false.\u001b[0m\r\n",
                    "output_type": "stream"
                },
                {
                    "name": "stdout",
                    "text": "\u001b[91m        906:                         $psitem.IsChecked | Should -Be $true -Because \"This can have a huge performance impact on queries. SQL Server won't use untrusted constraints to build better execution plans. It will also avoid data violation\"\u001b[0m\r\n",
                    "output_type": "stream"
                },
                {
                    "name": "stdout",
                    "text": "\u001b[91m        at <ScriptBlock>, D:\\OneDrive\\Documents\\GitHub\\dbachecks\\checks\\Database.Tests.ps1: line 906\u001b[0m\r\n",
                    "output_type": "stream"
                },
                {
                    "name": "stdout",
                    "text": "\u001b[91m      [-] Database SqlWatch Foreign Key fk_sqlwatch_logger_perf_os_memory_clerks_meta on table [dbo].[sqlwatch_logger_perf_os_memory_clerks] should be trusted on SQL2017N5\u001b[0m",
                    "output_type": "stream"
                },
                {
                    "name": "stdout",
                    "text": "\u001b[90m 3ms\u001b[0m\r\n",
                    "output_type": "stream"
                },
                {
                    "name": "stdout",
                    "text": "\u001b[91m        Expected $true, because This can have a huge performance impact on queries. SQL Server won't use untrusted constraints to build better execution plans. It will also avoid data violation, but got $false.\u001b[0m\r\n",
                    "output_type": "stream"
                },
                {
                    "name": "stdout",
                    "text": "\u001b[91m        906:                         $psitem.IsChecked | Should -Be $true -Because \"This can have a huge performance impact on queries. SQL Server won't use untrusted constraints to build better execution plans. It will also avoid data violation\"\u001b[0m\r\n",
                    "output_type": "stream"
                },
                {
                    "name": "stdout",
                    "text": "\u001b[91m        at <ScriptBlock>, D:\\OneDrive\\Documents\\GitHub\\dbachecks\\checks\\Database.Tests.ps1: line 906\u001b[0m\r\n",
                    "output_type": "stream"
                },
                {
                    "name": "stdout",
                    "text": "\u001b[91m      [-] Database SqlWatch Foreign Key fk_sql_perf_mon_perf_counters_snapshot_header on table [dbo].[sqlwatch_logger_perf_os_performance_counters] should be trusted on SQL2017N5\u001b[0m",
                    "output_type": "stream"
                },
                {
                    "name": "stdout",
                    "text": "\u001b[90m 3ms\u001b[0m\r\n",
                    "output_type": "stream"
                },
                {
                    "name": "stdout",
                    "text": "\u001b[91m        Expected $true, because This can have a huge performance impact on queries. SQL Server won't use untrusted constraints to build better execution plans. It will also avoid data violation, but got $false.\u001b[0m\r\n",
                    "output_type": "stream"
                },
                {
                    "name": "stdout",
                    "text": "\u001b[91m        906:                         $psitem.IsChecked | Should -Be $true -Because \"This can have a huge performance impact on queries. SQL Server won't use untrusted constraints to build better execution plans. It will also avoid data violation\"\u001b[0m\r\n",
                    "output_type": "stream"
                },
                {
                    "name": "stdout",
                    "text": "\u001b[91m        at <ScriptBlock>, D:\\OneDrive\\Documents\\GitHub\\dbachecks\\checks\\Database.Tests.ps1: line 906\u001b[0m\r\n",
                    "output_type": "stream"
                },
                {
                    "name": "stdout",
                    "text": "\u001b[91m      [-] Database SqlWatch Foreign Key fk_sqlwatch_logger_perf_os_performance_counters_meta on table [dbo].[sqlwatch_logger_perf_os_performance_counters] should be trusted on SQL2017N5\u001b[0m",
                    "output_type": "stream"
                },
                {
                    "name": "stdout",
                    "text": "\u001b[90m 5ms\u001b[0m\r\n",
                    "output_type": "stream"
                },
                {
                    "name": "stdout",
                    "text": "\u001b[91m        Expected $true, because This can have a huge performance impact on queries. SQL Server won't use untrusted constraints to build better execution plans. It will also avoid data violation, but got $false.\u001b[0m\r\n",
                    "output_type": "stream"
                },
                {
                    "name": "stdout",
                    "text": "\u001b[91m        906:                         $psitem.IsChecked | Should -Be $true -Because \"This can have a huge performance impact on queries. SQL Server won't use untrusted constraints to build better execution plans. It will also avoid data violation\"\u001b[0m\r\n",
                    "output_type": "stream"
                },
                {
                    "name": "stdout",
                    "text": "\u001b[91m        at <ScriptBlock>, D:\\OneDrive\\Documents\\GitHub\\dbachecks\\checks\\Database.Tests.ps1: line 906\u001b[0m\r\n",
                    "output_type": "stream"
                },
                {
                    "name": "stdout",
                    "text": "\u001b[91m      [-] Database SqlWatch Foreign Key fk_sql_perf_mon_os_process_memory_snapshot_header on table [dbo].[sqlwatch_logger_perf_os_process_memory] should be trusted on SQL2017N5\u001b[0m",
                    "output_type": "stream"
                },
                {
                    "name": "stdout",
                    "text": "\u001b[90m 5ms\u001b[0m\r\n",
                    "output_type": "stream"
                },
                {
                    "name": "stdout",
                    "text": "\u001b[91m        Expected $true, because This can have a huge performance impact on queries. SQL Server won't use untrusted constraints to build better execution plans. It will also avoid data violation, but got $false.\u001b[0m\r\n",
                    "output_type": "stream"
                },
                {
                    "name": "stdout",
                    "text": "\u001b[91m        906:                         $psitem.IsChecked | Should -Be $true -Because \"This can have a huge performance impact on queries. SQL Server won't use untrusted constraints to build better execution plans. It will also avoid data violation\"\u001b[0m\r\n",
                    "output_type": "stream"
                },
                {
                    "name": "stdout",
                    "text": "\u001b[91m        at <ScriptBlock>, D:\\OneDrive\\Documents\\GitHub\\dbachecks\\checks\\Database.Tests.ps1: line 906\u001b[0m\r\n",
                    "output_type": "stream"
                },
                {
                    "name": "stdout",
                    "text": "\u001b[91m      [-] Database SqlWatch Foreign Key fk_sqlwatch_logger_perf_os_process_memory_server on table [dbo].[sqlwatch_logger_perf_os_process_memory] should be trusted on SQL2017N5\u001b[0m",
                    "output_type": "stream"
                },
                {
                    "name": "stdout",
                    "text": "\u001b[90m 3ms\u001b[0m\r\n",
                    "output_type": "stream"
                },
                {
                    "name": "stdout",
                    "text": "\u001b[91m        Expected $true, because This can have a huge performance impact on queries. SQL Server won't use untrusted constraints to build better execution plans. It will also avoid data violation, but got $false.\u001b[0m\r\n",
                    "output_type": "stream"
                },
                {
                    "name": "stdout",
                    "text": "\u001b[91m        906:                         $psitem.IsChecked | Should -Be $true -Because \"This can have a huge performance impact on queries. SQL Server won't use untrusted constraints to build better execution plans. It will also avoid data violation\"\u001b[0m\r\n",
                    "output_type": "stream"
                },
                {
                    "name": "stdout",
                    "text": "\u001b[91m        at <ScriptBlock>, D:\\OneDrive\\Documents\\GitHub\\dbachecks\\checks\\Database.Tests.ps1: line 906\u001b[0m\r\n",
                    "output_type": "stream"
                },
                {
                    "name": "stdout",
                    "text": "\u001b[91m      [-] Database SqlWatch Foreign Key fk_logger_perf_os_schedulers on table [dbo].[sqlwatch_logger_perf_os_schedulers] should be trusted on SQL2017N5\u001b[0m",
                    "output_type": "stream"
                },
                {
                    "name": "stdout",
                    "text": "\u001b[90m 3ms\u001b[0m\r\n",
                    "output_type": "stream"
                },
                {
                    "name": "stdout",
                    "text": "\u001b[91m        Expected $true, because This can have a huge performance impact on queries. SQL Server won't use untrusted constraints to build better execution plans. It will also avoid data violation, but got $false.\u001b[0m\r\n",
                    "output_type": "stream"
                },
                {
                    "name": "stdout",
                    "text": "\u001b[91m        906:                         $psitem.IsChecked | Should -Be $true -Because \"This can have a huge performance impact on queries. SQL Server won't use untrusted constraints to build better execution plans. It will also avoid data violation\"\u001b[0m\r\n",
                    "output_type": "stream"
                },
                {
                    "name": "stdout",
                    "text": "\u001b[91m        at <ScriptBlock>, D:\\OneDrive\\Documents\\GitHub\\dbachecks\\checks\\Database.Tests.ps1: line 906\u001b[0m\r\n",
                    "output_type": "stream"
                },
                {
                    "name": "stdout",
                    "text": "\u001b[91m      [-] Database SqlWatch Foreign Key fk_sqlwatch_logger_perf_os_schedulers_server on table [dbo].[sqlwatch_logger_perf_os_schedulers] should be trusted on SQL2017N5\u001b[0m",
                    "output_type": "stream"
                },
                {
                    "name": "stdout",
                    "text": "\u001b[90m 3ms\u001b[0m\r\n",
                    "output_type": "stream"
                },
                {
                    "name": "stdout",
                    "text": "\u001b[91m        Expected $true, because This can have a huge performance impact on queries. SQL Server won't use untrusted constraints to build better execution plans. It will also avoid data violation, but got $false.\u001b[0m\r\n",
                    "output_type": "stream"
                },
                {
                    "name": "stdout",
                    "text": "\u001b[91m        906:                         $psitem.IsChecked | Should -Be $true -Because \"This can have a huge performance impact on queries. SQL Server won't use untrusted constraints to build better execution plans. It will also avoid data violation\"\u001b[0m\r\n",
                    "output_type": "stream"
                },
                {
                    "name": "stdout",
                    "text": "\u001b[91m        at <ScriptBlock>, D:\\OneDrive\\Documents\\GitHub\\dbachecks\\checks\\Database.Tests.ps1: line 906\u001b[0m\r\n",
                    "output_type": "stream"
                },
                {
                    "name": "stdout",
                    "text": "\u001b[91m      [-] Database SqlWatch Foreign Key fk_sql_perf_mon_wait_stats_snapshot_header on table [dbo].[sqlwatch_logger_perf_os_wait_stats] should be trusted on SQL2017N5\u001b[0m",
                    "output_type": "stream"
                },
                {
                    "name": "stdout",
                    "text": "\u001b[90m 9ms\u001b[0m\r\n",
                    "output_type": "stream"
                },
                {
                    "name": "stdout",
                    "text": "\u001b[91m        Expected $true, because This can have a huge performance impact on queries. SQL Server won't use untrusted constraints to build better execution plans. It will also avoid data violation, but got $false.\u001b[0m\r\n",
                    "output_type": "stream"
                },
                {
                    "name": "stdout",
                    "text": "\u001b[91m        906:                         $psitem.IsChecked | Should -Be $true -Because \"This can have a huge performance impact on queries. SQL Server won't use untrusted constraints to build better execution plans. It will also avoid data violation\"\u001b[0m\r\n",
                    "output_type": "stream"
                },
                {
                    "name": "stdout",
                    "text": "\u001b[91m        at <ScriptBlock>, D:\\OneDrive\\Documents\\GitHub\\dbachecks\\checks\\Database.Tests.ps1: line 906\u001b[0m\r\n",
                    "output_type": "stream"
                },
                {
                    "name": "stdout",
                    "text": "\u001b[91m      [-] Database SqlWatch Foreign Key fk_sqlwatch_logger_perf_os_wait_stats_wait_type_id on table [dbo].[sqlwatch_logger_perf_os_wait_stats] should be trusted on SQL2017N5\u001b[0m",
                    "output_type": "stream"
                },
                {
                    "name": "stdout",
                    "text": "\u001b[90m 3ms\u001b[0m\r\n",
                    "output_type": "stream"
                },
                {
                    "name": "stdout",
                    "text": "\u001b[91m        Expected $true, because This can have a huge performance impact on queries. SQL Server won't use untrusted constraints to build better execution plans. It will also avoid data violation, but got $false.\u001b[0m\r\n",
                    "output_type": "stream"
                },
                {
                    "name": "stdout",
                    "text": "\u001b[91m        906:                         $psitem.IsChecked | Should -Be $true -Because \"This can have a huge performance impact on queries. SQL Server won't use untrusted constraints to build better execution plans. It will also avoid data violation\"\u001b[0m\r\n",
                    "output_type": "stream"
                },
                {
                    "name": "stdout",
                    "text": "\u001b[91m        at <ScriptBlock>, D:\\OneDrive\\Documents\\GitHub\\dbachecks\\checks\\Database.Tests.ps1: line 906\u001b[0m\r\n",
                    "output_type": "stream"
                },
                {
                    "name": "stdout",
                    "text": "\u001b[91m      [-] Database SqlWatch Foreign Key FK__sqlwatch___snaps__5CA1C101 on table [dbo].[sqlwatch_logger_snapshot_header] should be trusted on SQL2017N5\u001b[0m",
                    "output_type": "stream"
                },
                {
                    "name": "stdout",
                    "text": "\u001b[90m 3ms\u001b[0m\r\n",
                    "output_type": "stream"
                },
                {
                    "name": "stdout",
                    "text": "\u001b[91m        Expected $true, because This can have a huge performance impact on queries. SQL Server won't use untrusted constraints to build better execution plans. It will also avoid data violation, but got $false.\u001b[0m\r\n",
                    "output_type": "stream"
                },
                {
                    "name": "stdout",
                    "text": "\u001b[91m        906:                         $psitem.IsChecked | Should -Be $true -Because \"This can have a huge performance impact on queries. SQL Server won't use untrusted constraints to build better execution plans. It will also avoid data violation\"\u001b[0m\r\n",
                    "output_type": "stream"
                },
                {
                    "name": "stdout",
                    "text": "\u001b[91m        at <ScriptBlock>, D:\\OneDrive\\Documents\\GitHub\\dbachecks\\checks\\Database.Tests.ps1: line 906\u001b[0m\r\n",
                    "output_type": "stream"
                },
                {
                    "name": "stdout",
                    "text": "\u001b[91m      [-] Database SqlWatch Foreign Key fk_sql_perf_mon_who_is_active_snapshot_header on table [dbo].[sqlwatch_logger_whoisactive] should be trusted on SQL2017N5\u001b[0m",
                    "output_type": "stream"
                },
                {
                    "name": "stdout",
                    "text": "\u001b[90m 4ms\u001b[0m\r\n",
                    "output_type": "stream"
                },
                {
                    "name": "stdout",
                    "text": "\u001b[91m        Expected $true, because This can have a huge performance impact on queries. SQL Server won't use untrusted constraints to build better execution plans. It will also avoid data violation, but got $false.\u001b[0m\r\n",
                    "output_type": "stream"
                },
                {
                    "name": "stdout",
                    "text": "\u001b[91m        906:                         $psitem.IsChecked | Should -Be $true -Because \"This can have a huge performance impact on queries. SQL Server won't use untrusted constraints to build better execution plans. It will also avoid data violation\"\u001b[0m\r\n",
                    "output_type": "stream"
                },
                {
                    "name": "stdout",
                    "text": "\u001b[91m        at <ScriptBlock>, D:\\OneDrive\\Documents\\GitHub\\dbachecks\\checks\\Database.Tests.ps1: line 906\u001b[0m\r\n",
                    "output_type": "stream"
                },
                {
                    "name": "stdout",
                    "text": "\u001b[91m      [-] Database SqlWatch Foreign Key fk_sqlwatch_logger_whoisactive_server on table [dbo].[sqlwatch_logger_whoisactive] should be trusted on SQL2017N5\u001b[0m",
                    "output_type": "stream"
                },
                {
                    "name": "stdout",
                    "text": "\u001b[90m 5ms\u001b[0m\r\n",
                    "output_type": "stream"
                },
                {
                    "name": "stdout",
                    "text": "\u001b[91m        Expected $true, because This can have a huge performance impact on queries. SQL Server won't use untrusted constraints to build better execution plans. It will also avoid data violation, but got $false.\u001b[0m\r\n",
                    "output_type": "stream"
                },
                {
                    "name": "stdout",
                    "text": "\u001b[91m        906:                         $psitem.IsChecked | Should -Be $true -Because \"This can have a huge performance impact on queries. SQL Server won't use untrusted constraints to build better execution plans. It will also avoid data violation\"\u001b[0m\r\n",
                    "output_type": "stream"
                },
                {
                    "name": "stdout",
                    "text": "\u001b[91m        at <ScriptBlock>, D:\\OneDrive\\Documents\\GitHub\\dbachecks\\checks\\Database.Tests.ps1: line 906\u001b[0m\r\n",
                    "output_type": "stream"
                },
                {
                    "name": "stdout",
                    "text": "\u001b[91m      [-] Database SqlWatch Foreign Key fk_logger_perf_xes_blockers on table [dbo].[sqlwatch_logger_xes_blockers] should be trusted on SQL2017N5\u001b[0m",
                    "output_type": "stream"
                },
                {
                    "name": "stdout",
                    "text": "\u001b[90m 3ms\u001b[0m\r\n",
                    "output_type": "stream"
                },
                {
                    "name": "stdout",
                    "text": "\u001b[91m        Expected $true, because This can have a huge performance impact on queries. SQL Server won't use untrusted constraints to build better execution plans. It will also avoid data violation, but got $false.\u001b[0m\r\n",
                    "output_type": "stream"
                },
                {
                    "name": "stdout",
                    "text": "\u001b[91m        906:                         $psitem.IsChecked | Should -Be $true -Because \"This can have a huge performance impact on queries. SQL Server won't use untrusted constraints to build better execution plans. It will also avoid data violation\"\u001b[0m\r\n",
                    "output_type": "stream"
                },
                {
                    "name": "stdout",
                    "text": "\u001b[91m        at <ScriptBlock>, D:\\OneDrive\\Documents\\GitHub\\dbachecks\\checks\\Database.Tests.ps1: line 906\u001b[0m\r\n",
                    "output_type": "stream"
                },
                {
                    "name": "stdout",
                    "text": "\u001b[91m      [-] Database SqlWatch Foreign Key fk_sqlwatch_logger_xes_blockers_server on table [dbo].[sqlwatch_logger_xes_blockers] should be trusted on SQL2017N5\u001b[0m",
                    "output_type": "stream"
                },
                {
                    "name": "stdout",
                    "text": "\u001b[90m 3ms\u001b[0m\r\n",
                    "output_type": "stream"
                },
                {
                    "name": "stdout",
                    "text": "\u001b[91m        Expected $true, because This can have a huge performance impact on queries. SQL Server won't use untrusted constraints to build better execution plans. It will also avoid data violation, but got $false.\u001b[0m\r\n",
                    "output_type": "stream"
                },
                {
                    "name": "stdout",
                    "text": "\u001b[91m        906:                         $psitem.IsChecked | Should -Be $true -Because \"This can have a huge performance impact on queries. SQL Server won't use untrusted constraints to build better execution plans. It will also avoid data violation\"\u001b[0m\r\n",
                    "output_type": "stream"
                },
                {
                    "name": "stdout",
                    "text": "\u001b[91m        at <ScriptBlock>, D:\\OneDrive\\Documents\\GitHub\\dbachecks\\checks\\Database.Tests.ps1: line 906\u001b[0m\r\n",
                    "output_type": "stream"
                },
                {
                    "name": "stdout",
                    "text": "\u001b[91m      [-] Database SqlWatch Foreign Key fk_logger_performance_xes_iosubsystem_snapshot_header on table [dbo].[sqlwatch_logger_xes_iosubsystem] should be trusted on SQL2017N5\u001b[0m",
                    "output_type": "stream"
                },
                {
                    "name": "stdout",
                    "text": "\u001b[90m 4ms\u001b[0m\r\n",
                    "output_type": "stream"
                },
                {
                    "name": "stdout",
                    "text": "\u001b[91m        Expected $true, because This can have a huge performance impact on queries. SQL Server won't use untrusted constraints to build better execution plans. It will also avoid data violation, but got $false.\u001b[0m\r\n",
                    "output_type": "stream"
                },
                {
                    "name": "stdout",
                    "text": "\u001b[91m        906:                         $psitem.IsChecked | Should -Be $true -Because \"This can have a huge performance impact on queries. SQL Server won't use untrusted constraints to build better execution plans. It will also avoid data violation\"\u001b[0m\r\n",
                    "output_type": "stream"
                },
                {
                    "name": "stdout",
                    "text": "\u001b[91m        at <ScriptBlock>, D:\\OneDrive\\Documents\\GitHub\\dbachecks\\checks\\Database.Tests.ps1: line 906\u001b[0m\r\n",
                    "output_type": "stream"
                },
                {
                    "name": "stdout",
                    "text": "\u001b[91m      [-] Database SqlWatch Foreign Key fk_sqlwatch_logger_xes_iosubsystem_server on table [dbo].[sqlwatch_logger_xes_iosubsystem] should be trusted on SQL2017N5\u001b[0m",
                    "output_type": "stream"
                },
                {
                    "name": "stdout",
                    "text": "\u001b[90m 4ms\u001b[0m\r\n",
                    "output_type": "stream"
                },
                {
                    "name": "stdout",
                    "text": "\u001b[91m        Expected $true, because This can have a huge performance impact on queries. SQL Server won't use untrusted constraints to build better execution plans. It will also avoid data violation, but got $false.\u001b[0m\r\n",
                    "output_type": "stream"
                },
                {
                    "name": "stdout",
                    "text": "\u001b[91m        906:                         $psitem.IsChecked | Should -Be $true -Because \"This can have a huge performance impact on queries. SQL Server won't use untrusted constraints to build better execution plans. It will also avoid data violation\"\u001b[0m\r\n",
                    "output_type": "stream"
                },
                {
                    "name": "stdout",
                    "text": "\u001b[91m        at <ScriptBlock>, D:\\OneDrive\\Documents\\GitHub\\dbachecks\\checks\\Database.Tests.ps1: line 906\u001b[0m\r\n",
                    "output_type": "stream"
                },
                {
                    "name": "stdout",
                    "text": "\u001b[91m      [-] Database SqlWatch Foreign Key fk_logger_perf_xes_long_queries on table [dbo].[sqlwatch_logger_xes_long_queries] should be trusted on SQL2017N5\u001b[0m",
                    "output_type": "stream"
                },
                {
                    "name": "stdout",
                    "text": "\u001b[90m 4ms\u001b[0m\r\n",
                    "output_type": "stream"
                },
                {
                    "name": "stdout",
                    "text": "\u001b[91m        Expected $true, because This can have a huge performance impact on queries. SQL Server won't use untrusted constraints to build better execution plans. It will also avoid data violation, but got $false.\u001b[0m\r\n",
                    "output_type": "stream"
                },
                {
                    "name": "stdout",
                    "text": "\u001b[91m        906:                         $psitem.IsChecked | Should -Be $true -Because \"This can have a huge performance impact on queries. SQL Server won't use untrusted constraints to build better execution plans. It will also avoid data violation\"\u001b[0m\r\n",
                    "output_type": "stream"
                },
                {
                    "name": "stdout",
                    "text": "\u001b[91m        at <ScriptBlock>, D:\\OneDrive\\Documents\\GitHub\\dbachecks\\checks\\Database.Tests.ps1: line 906\u001b[0m\r\n",
                    "output_type": "stream"
                },
                {
                    "name": "stdout",
                    "text": "\u001b[91m      [-] Database SqlWatch Foreign Key fk_sqlwatch_logger_xes_long_queries_server on table [dbo].[sqlwatch_logger_xes_long_queries] should be trusted on SQL2017N5\u001b[0m",
                    "output_type": "stream"
                },
                {
                    "name": "stdout",
                    "text": "\u001b[90m 4ms\u001b[0m\r\n",
                    "output_type": "stream"
                },
                {
                    "name": "stdout",
                    "text": "\u001b[91m        Expected $true, because This can have a huge performance impact on queries. SQL Server won't use untrusted constraints to build better execution plans. It will also avoid data violation, but got $false.\u001b[0m\r\n",
                    "output_type": "stream"
                },
                {
                    "name": "stdout",
                    "text": "\u001b[91m        906:                         $psitem.IsChecked | Should -Be $true -Because \"This can have a huge performance impact on queries. SQL Server won't use untrusted constraints to build better execution plans. It will also avoid data violation\"\u001b[0m\r\n",
                    "output_type": "stream"
                },
                {
                    "name": "stdout",
                    "text": "\u001b[91m        at <ScriptBlock>, D:\\OneDrive\\Documents\\GitHub\\dbachecks\\checks\\Database.Tests.ps1: line 906\u001b[0m\r\n",
                    "output_type": "stream"
                },
                {
                    "name": "stdout",
                    "text": "\u001b[91m      [-] Database SqlWatch Foreign Key fk_logger_xe_query_processing_snapshot_header on table [dbo].[sqlwatch_logger_xes_query_processing] should be trusted on SQL2017N5\u001b[0m",
                    "output_type": "stream"
                },
                {
                    "name": "stdout",
                    "text": "\u001b[90m 4ms\u001b[0m\r\n",
                    "output_type": "stream"
                },
                {
                    "name": "stdout",
                    "text": "\u001b[91m        Expected $true, because This can have a huge performance impact on queries. SQL Server won't use untrusted constraints to build better execution plans. It will also avoid data violation, but got $false.\u001b[0m\r\n",
                    "output_type": "stream"
                },
                {
                    "name": "stdout",
                    "text": "\u001b[91m        906:                         $psitem.IsChecked | Should -Be $true -Because \"This can have a huge performance impact on queries. SQL Server won't use untrusted constraints to build better execution plans. It will also avoid data violation\"\u001b[0m\r\n",
                    "output_type": "stream"
                },
                {
                    "name": "stdout",
                    "text": "\u001b[91m        at <ScriptBlock>, D:\\OneDrive\\Documents\\GitHub\\dbachecks\\checks\\Database.Tests.ps1: line 906\u001b[0m\r\n",
                    "output_type": "stream"
                },
                {
                    "name": "stdout",
                    "text": "\u001b[91m      [-] Database SqlWatch Foreign Key fk_sqlwatch_logger_xes_query_processing_server on table [dbo].[sqlwatch_logger_xes_query_processing] should be trusted on SQL2017N5\u001b[0m",
                    "output_type": "stream"
                },
                {
                    "name": "stdout",
                    "text": "\u001b[90m 3ms\u001b[0m\r\n",
                    "output_type": "stream"
                },
                {
                    "name": "stdout",
                    "text": "\u001b[91m        Expected $true, because This can have a huge performance impact on queries. SQL Server won't use untrusted constraints to build better execution plans. It will also avoid data violation, but got $false.\u001b[0m\r\n",
                    "output_type": "stream"
                },
                {
                    "name": "stdout",
                    "text": "\u001b[91m        906:                         $psitem.IsChecked | Should -Be $true -Because \"This can have a huge performance impact on queries. SQL Server won't use untrusted constraints to build better execution plans. It will also avoid data violation\"\u001b[0m\r\n",
                    "output_type": "stream"
                },
                {
                    "name": "stdout",
                    "text": "\u001b[91m        at <ScriptBlock>, D:\\OneDrive\\Documents\\GitHub\\dbachecks\\checks\\Database.Tests.ps1: line 906\u001b[0m\r\n",
                    "output_type": "stream"
                },
                {
                    "name": "stdout",
                    "text": "\u001b[91m      [-] Database SqlWatch Foreign Key fk_logger_xes_waits_snapshot_header on table [dbo].[sqlwatch_logger_xes_waits_stats] should be trusted on SQL2017N5\u001b[0m",
                    "output_type": "stream"
                },
                {
                    "name": "stdout",
                    "text": "\u001b[90m 3ms\u001b[0m\r\n",
                    "output_type": "stream"
                },
                {
                    "name": "stdout",
                    "text": "\u001b[91m        Expected $true, because This can have a huge performance impact on queries. SQL Server won't use untrusted constraints to build better execution plans. It will also avoid data violation, but got $false.\u001b[0m\r\n",
                    "output_type": "stream"
                },
                {
                    "name": "stdout",
                    "text": "\u001b[91m        906:                         $psitem.IsChecked | Should -Be $true -Because \"This can have a huge performance impact on queries. SQL Server won't use untrusted constraints to build better execution plans. It will also avoid data violation\"\u001b[0m\r\n",
                    "output_type": "stream"
                },
                {
                    "name": "stdout",
                    "text": "\u001b[91m        at <ScriptBlock>, D:\\OneDrive\\Documents\\GitHub\\dbachecks\\checks\\Database.Tests.ps1: line 906\u001b[0m\r\n",
                    "output_type": "stream"
                },
                {
                    "name": "stdout",
                    "text": "\u001b[91m      [-] Database SqlWatch Foreign Key fk_sqlwatch_logger_xes_waits_stats_server on table [dbo].[sqlwatch_logger_xes_waits_stats] should be trusted on SQL2017N5\u001b[0m",
                    "output_type": "stream"
                },
                {
                    "name": "stdout",
                    "text": "\u001b[90m 3ms\u001b[0m\r\n",
                    "output_type": "stream"
                },
                {
                    "name": "stdout",
                    "text": "\u001b[91m        Expected $true, because This can have a huge performance impact on queries. SQL Server won't use untrusted constraints to build better execution plans. It will also avoid data violation, but got $false.\u001b[0m\r\n",
                    "output_type": "stream"
                },
                {
                    "name": "stdout",
                    "text": "\u001b[91m        906:                         $psitem.IsChecked | Should -Be $true -Because \"This can have a huge performance impact on queries. SQL Server won't use untrusted constraints to build better execution plans. It will also avoid data violation\"\u001b[0m\r\n",
                    "output_type": "stream"
                },
                {
                    "name": "stdout",
                    "text": "\u001b[91m        at <ScriptBlock>, D:\\OneDrive\\Documents\\GitHub\\dbachecks\\checks\\Database.Tests.ps1: line 906\u001b[0m\r\n",
                    "output_type": "stream"
                },
                {
                    "name": "stdout",
                    "text": "\u001b[91m      [-] Database SqlWatch Foreign Key fk_sqlwatch_meta_agent_job_server on table [dbo].[sqlwatch_meta_agent_job] should be trusted on SQL2017N5\u001b[0m",
                    "output_type": "stream"
                },
                {
                    "name": "stdout",
                    "text": "\u001b[90m 3ms\u001b[0m\r\n",
                    "output_type": "stream"
                },
                {
                    "name": "stdout",
                    "text": "\u001b[91m        Expected $true, because This can have a huge performance impact on queries. SQL Server won't use untrusted constraints to build better execution plans. It will also avoid data violation, but got $false.\u001b[0m\r\n",
                    "output_type": "stream"
                },
                {
                    "name": "stdout",
                    "text": "\u001b[91m        906:                         $psitem.IsChecked | Should -Be $true -Because \"This can have a huge performance impact on queries. SQL Server won't use untrusted constraints to build better execution plans. It will also avoid data violation\"\u001b[0m\r\n",
                    "output_type": "stream"
                },
                {
                    "name": "stdout",
                    "text": "\u001b[91m        at <ScriptBlock>, D:\\OneDrive\\Documents\\GitHub\\dbachecks\\checks\\Database.Tests.ps1: line 906\u001b[0m\r\n",
                    "output_type": "stream"
                },
                {
                    "name": "stdout",
                    "text": "\u001b[91m      [-] Database SqlWatch Foreign Key fk_sqlwatch_meta_agent_job_id on table [dbo].[sqlwatch_meta_agent_job_step] should be trusted on SQL2017N5\u001b[0m",
                    "output_type": "stream"
                },
                {
                    "name": "stdout",
                    "text": "\u001b[90m 4ms\u001b[0m\r\n",
                    "output_type": "stream"
                },
                {
                    "name": "stdout",
                    "text": "\u001b[91m        Expected $true, because This can have a huge performance impact on queries. SQL Server won't use untrusted constraints to build better execution plans. It will also avoid data violation, but got $false.\u001b[0m\r\n",
                    "output_type": "stream"
                },
                {
                    "name": "stdout",
                    "text": "\u001b[91m        906:                         $psitem.IsChecked | Should -Be $true -Because \"This can have a huge performance impact on queries. SQL Server won't use untrusted constraints to build better execution plans. It will also avoid data violation\"\u001b[0m\r\n",
                    "output_type": "stream"
                },
                {
                    "name": "stdout",
                    "text": "\u001b[91m        at <ScriptBlock>, D:\\OneDrive\\Documents\\GitHub\\dbachecks\\checks\\Database.Tests.ps1: line 906\u001b[0m\r\n",
                    "output_type": "stream"
                },
                {
                    "name": "stdout",
                    "text": "\u001b[91m      [-] Database SqlWatch Foreign Key fk_sqlwatch_meta_database_server on table [dbo].[sqlwatch_meta_database] should be trusted on SQL2017N5\u001b[0m",
                    "output_type": "stream"
                },
                {
                    "name": "stdout",
                    "text": "\u001b[90m 3ms\u001b[0m\r\n",
                    "output_type": "stream"
                },
                {
                    "name": "stdout",
                    "text": "\u001b[91m        Expected $true, because This can have a huge performance impact on queries. SQL Server won't use untrusted constraints to build better execution plans. It will also avoid data violation, but got $false.\u001b[0m\r\n",
                    "output_type": "stream"
                },
                {
                    "name": "stdout",
                    "text": "\u001b[91m        906:                         $psitem.IsChecked | Should -Be $true -Because \"This can have a huge performance impact on queries. SQL Server won't use untrusted constraints to build better execution plans. It will also avoid data violation\"\u001b[0m\r\n",
                    "output_type": "stream"
                },
                {
                    "name": "stdout",
                    "text": "\u001b[91m        at <ScriptBlock>, D:\\OneDrive\\Documents\\GitHub\\dbachecks\\checks\\Database.Tests.ps1: line 906\u001b[0m\r\n",
                    "output_type": "stream"
                },
                {
                    "name": "stdout",
                    "text": "\u001b[91m      [-] Database SqlWatch Foreign Key fk_sqlwatch_meta_index on table [dbo].[sqlwatch_meta_index] should be trusted on SQL2017N5\u001b[0m",
                    "output_type": "stream"
                },
                {
                    "name": "stdout",
                    "text": "\u001b[90m 3ms\u001b[0m\r\n",
                    "output_type": "stream"
                },
                {
                    "name": "stdout",
                    "text": "\u001b[91m        Expected $true, because This can have a huge performance impact on queries. SQL Server won't use untrusted constraints to build better execution plans. It will also avoid data violation, but got $false.\u001b[0m\r\n",
                    "output_type": "stream"
                },
                {
                    "name": "stdout",
                    "text": "\u001b[91m        906:                         $psitem.IsChecked | Should -Be $true -Because \"This can have a huge performance impact on queries. SQL Server won't use untrusted constraints to build better execution plans. It will also avoid data violation\"\u001b[0m\r\n",
                    "output_type": "stream"
                },
                {
                    "name": "stdout",
                    "text": "\u001b[91m        at <ScriptBlock>, D:\\OneDrive\\Documents\\GitHub\\dbachecks\\checks\\Database.Tests.ps1: line 906\u001b[0m\r\n",
                    "output_type": "stream"
                },
                {
                    "name": "stdout",
                    "text": "\u001b[91m      [-] Database SqlWatch Foreign Key fk_sqlwatch_meta_index_missing_table on table [dbo].[sqlwatch_meta_index_missing] should be trusted on SQL2017N5\u001b[0m",
                    "output_type": "stream"
                },
                {
                    "name": "stdout",
                    "text": "\u001b[90m 3ms\u001b[0m\r\n",
                    "output_type": "stream"
                },
                {
                    "name": "stdout",
                    "text": "\u001b[91m        Expected $true, because This can have a huge performance impact on queries. SQL Server won't use untrusted constraints to build better execution plans. It will also avoid data violation, but got $false.\u001b[0m\r\n",
                    "output_type": "stream"
                },
                {
                    "name": "stdout",
                    "text": "\u001b[91m        906:                         $psitem.IsChecked | Should -Be $true -Because \"This can have a huge performance impact on queries. SQL Server won't use untrusted constraints to build better execution plans. It will also avoid data violation\"\u001b[0m\r\n",
                    "output_type": "stream"
                },
                {
                    "name": "stdout",
                    "text": "\u001b[91m        at <ScriptBlock>, D:\\OneDrive\\Documents\\GitHub\\dbachecks\\checks\\Database.Tests.ps1: line 906\u001b[0m\r\n",
                    "output_type": "stream"
                },
                {
                    "name": "stdout",
                    "text": "\u001b[91m      [-] Database SqlWatch Foreign Key FK_sql_perf_mon_master_files_db on table [dbo].[sqlwatch_meta_master_file] should be trusted on SQL2017N5\u001b[0m",
                    "output_type": "stream"
                },
                {
                    "name": "stdout",
                    "text": "\u001b[90m 4ms\u001b[0m\r\n",
                    "output_type": "stream"
                },
                {
                    "name": "stdout",
                    "text": "\u001b[91m        Expected $true, because This can have a huge performance impact on queries. SQL Server won't use untrusted constraints to build better execution plans. It will also avoid data violation, but got $false.\u001b[0m\r\n",
                    "output_type": "stream"
                },
                {
                    "name": "stdout",
                    "text": "\u001b[91m        906:                         $psitem.IsChecked | Should -Be $true -Because \"This can have a huge performance impact on queries. SQL Server won't use untrusted constraints to build better execution plans. It will also avoid data violation\"\u001b[0m\r\n",
                    "output_type": "stream"
                },
                {
                    "name": "stdout",
                    "text": "\u001b[91m        at <ScriptBlock>, D:\\OneDrive\\Documents\\GitHub\\dbachecks\\checks\\Database.Tests.ps1: line 906\u001b[0m\r\n",
                    "output_type": "stream"
                },
                {
                    "name": "stdout",
                    "text": "\u001b[91m      [-] Database SqlWatch Foreign Key fk_sqlwatch_meta_memory_clerk_server on table [dbo].[sqlwatch_meta_memory_clerk] should be trusted on SQL2017N5\u001b[0m",
                    "output_type": "stream"
                },
                {
                    "name": "stdout",
                    "text": "\u001b[90m 4ms\u001b[0m\r\n",
                    "output_type": "stream"
                },
                {
                    "name": "stdout",
                    "text": "\u001b[91m        Expected $true, because This can have a huge performance impact on queries. SQL Server won't use untrusted constraints to build better execution plans. It will also avoid data violation, but got $false.\u001b[0m\r\n",
                    "output_type": "stream"
                },
                {
                    "name": "stdout",
                    "text": "\u001b[91m        906:                         $psitem.IsChecked | Should -Be $true -Because \"This can have a huge performance impact on queries. SQL Server won't use untrusted constraints to build better execution plans. It will also avoid data violation\"\u001b[0m\r\n",
                    "output_type": "stream"
                },
                {
                    "name": "stdout",
                    "text": "\u001b[91m        at <ScriptBlock>, D:\\OneDrive\\Documents\\GitHub\\dbachecks\\checks\\Database.Tests.ps1: line 906\u001b[0m\r\n",
                    "output_type": "stream"
                },
                {
                    "name": "stdout",
                    "text": "\u001b[91m      [-] Database SqlWatch Foreign Key fk_sqlwatch_meta_os_volume_server on table [dbo].[sqlwatch_meta_os_volume] should be trusted on SQL2017N5\u001b[0m",
                    "output_type": "stream"
                },
                {
                    "name": "stdout",
                    "text": "\u001b[90m 5ms\u001b[0m\r\n",
                    "output_type": "stream"
                },
                {
                    "name": "stdout",
                    "text": "\u001b[91m        Expected $true, because This can have a huge performance impact on queries. SQL Server won't use untrusted constraints to build better execution plans. It will also avoid data violation, but got $false.\u001b[0m\r\n",
                    "output_type": "stream"
                },
                {
                    "name": "stdout",
                    "text": "\u001b[91m        906:                         $psitem.IsChecked | Should -Be $true -Because \"This can have a huge performance impact on queries. SQL Server won't use untrusted constraints to build better execution plans. It will also avoid data violation\"\u001b[0m\r\n",
                    "output_type": "stream"
                },
                {
                    "name": "stdout",
                    "text": "\u001b[91m        at <ScriptBlock>, D:\\OneDrive\\Documents\\GitHub\\dbachecks\\checks\\Database.Tests.ps1: line 906\u001b[0m\r\n",
                    "output_type": "stream"
                },
                {
                    "name": "stdout",
                    "text": "\u001b[91m      [-] Database SqlWatch Foreign Key fk_sqlwatch_meta_performance_counter_server on table [dbo].[sqlwatch_meta_performance_counter] should be trusted on SQL2017N5\u001b[0m",
                    "output_type": "stream"
                },
                {
                    "name": "stdout",
                    "text": "\u001b[90m 5ms\u001b[0m\r\n",
                    "output_type": "stream"
                },
                {
                    "name": "stdout",
                    "text": "\u001b[91m        Expected $true, because This can have a huge performance impact on queries. SQL Server won't use untrusted constraints to build better execution plans. It will also avoid data violation, but got $false.\u001b[0m\r\n",
                    "output_type": "stream"
                },
                {
                    "name": "stdout",
                    "text": "\u001b[91m        906:                         $psitem.IsChecked | Should -Be $true -Because \"This can have a huge performance impact on queries. SQL Server won't use untrusted constraints to build better execution plans. It will also avoid data violation\"\u001b[0m\r\n",
                    "output_type": "stream"
                },
                {
                    "name": "stdout",
                    "text": "\u001b[91m        at <ScriptBlock>, D:\\OneDrive\\Documents\\GitHub\\dbachecks\\checks\\Database.Tests.ps1: line 906\u001b[0m\r\n",
                    "output_type": "stream"
                },
                {
                    "name": "stdout",
                    "text": "\u001b[91m      [-] Database SqlWatch Foreign Key fk_sqlwatch_meta_table_database on table [dbo].[sqlwatch_meta_table] should be trusted on SQL2017N5\u001b[0m",
                    "output_type": "stream"
                },
                {
                    "name": "stdout",
                    "text": "\u001b[90m 3ms\u001b[0m\r\n",
                    "output_type": "stream"
                },
                {
                    "name": "stdout",
                    "text": "\u001b[91m        Expected $true, because This can have a huge performance impact on queries. SQL Server won't use untrusted constraints to build better execution plans. It will also avoid data violation, but got $false.\u001b[0m\r\n",
                    "output_type": "stream"
                },
                {
                    "name": "stdout",
                    "text": "\u001b[91m        906:                         $psitem.IsChecked | Should -Be $true -Because \"This can have a huge performance impact on queries. SQL Server won't use untrusted constraints to build better execution plans. It will also avoid data violation\"\u001b[0m\r\n",
                    "output_type": "stream"
                },
                {
                    "name": "stdout",
                    "text": "\u001b[91m        at <ScriptBlock>, D:\\OneDrive\\Documents\\GitHub\\dbachecks\\checks\\Database.Tests.ps1: line 906\u001b[0m\r\n",
                    "output_type": "stream"
                },
                {
                    "name": "stdout",
                    "text": "\u001b[91m      [-] Database SqlWatch Foreign Key fk_sqlwatch_meta_wait_stats_server on table [dbo].[sqlwatch_meta_wait_stats] should be trusted on SQL2017N5\u001b[0m",
                    "output_type": "stream"
                },
                {
                    "name": "stdout",
                    "text": "\u001b[90m 3ms\u001b[0m\r\n",
                    "output_type": "stream"
                },
                {
                    "name": "stdout",
                    "text": "\u001b[91m        Expected $true, because This can have a huge performance impact on queries. SQL Server won't use untrusted constraints to build better execution plans. It will also avoid data violation, but got $false.\u001b[0m\r\n",
                    "output_type": "stream"
                },
                {
                    "name": "stdout",
                    "text": "\u001b[91m        906:                         $psitem.IsChecked | Should -Be $true -Because \"This can have a huge performance impact on queries. SQL Server won't use untrusted constraints to build better execution plans. It will also avoid data violation\"\u001b[0m\r\n",
                    "output_type": "stream"
                },
                {
                    "name": "stdout",
                    "text": "\u001b[91m        at <ScriptBlock>, D:\\OneDrive\\Documents\\GitHub\\dbachecks\\checks\\Database.Tests.ps1: line 906\u001b[0m\r\n",
                    "output_type": "stream"
                },
                {
                    "name": "stdout",
                    "text": "\r\n",
                    "output_type": "stream"
                },
                {
                    "name": "stdout",
                    "text": "\u001b[92m  Describing Database MaxDop\u001b[0m\r\n",
                    "output_type": "stream"
                },
                {
                    "name": "stdout",
                    "text": "\r\n",
                    "output_type": "stream"
                },
                {
                    "name": "stdout",
                    "text": "\u001b[92m    Context Database MaxDop setting is correct on SQL2017N5\u001b[0m\r\n",
                    "output_type": "stream"
                },
                {
                    "name": "stdout",
                    "text": "\r\n",
                    "output_type": "stream"
                },
                {
                    "name": "stdout",
                    "text": "\u001b[92m  Describing Database Status\u001b[0m\r\n",
                    "output_type": "stream"
                },
                {
                    "name": "stdout",
                    "text": "\r\n",
                    "output_type": "stream"
                },
                {
                    "name": "stdout",
                    "text": "\u001b[92m    Context Database status is correct on SQL2017N5\u001b[0m\r\n",
                    "output_type": "stream"
                },
                {
                    "name": "stdout",
                    "text": "\r\n",
                    "output_type": "stream"
                },
                {
                    "name": "stdout",
                    "text": "\u001b[92m  Describing Database Exists\u001b[0m\r\n",
                    "output_type": "stream"
                },
                {
                    "name": "stdout",
                    "text": "\r\n",
                    "output_type": "stream"
                },
                {
                    "name": "stdout",
                    "text": "\u001b[92m    Context Database exists on SQL2017N5\u001b[0m\r\n",
                    "output_type": "stream"
                },
                {
                    "name": "stdout",
                    "text": "\r\n",
                    "output_type": "stream"
                },
                {
                    "name": "stdout",
                    "text": "\u001b[92m  Describing Contained Database Auto Close\u001b[0m\r\n",
                    "output_type": "stream"
                },
                {
                    "name": "stdout",
                    "text": "\r\n",
                    "output_type": "stream"
                },
                {
                    "name": "stdout",
                    "text": "\u001b[92m    Context Testing contained database auto close option on SQL2017N5\u001b[0m\r\n",
                    "output_type": "stream"
                },
                {
                    "name": "stdout",
                    "text": "\r\n",
                    "output_type": "stream"
                },
                {
                    "name": "stdout",
                    "text": "\u001b[92m  Describing CLR Assemblies SAFE_ACCESS\u001b[0m\r\n",
                    "output_type": "stream"
                },
                {
                    "name": "stdout",
                    "text": "\r\n",
                    "output_type": "stream"
                },
                {
                    "name": "stdout",
                    "text": "\u001b[92m    Context Testing that all user-defined CLR assemblies are set to SAFE_ACCESS on SQL2017N5\u001b[0m\r\n",
                    "output_type": "stream"
                },
                {
                    "name": "stdout",
                    "text": "\u001b[91m      [-] Database master user-defined CLR assemblies are set to SAFE_ACCESS on SQL2017N5\u001b[0m",
                    "output_type": "stream"
                },
                {
                    "name": "stdout",
                    "text": "\u001b[90m 4.8s\u001b[0m\r\n",
                    "output_type": "stream"
                },
                {
                    "name": "stdout",
                    "text": "\u001b[91m        Expected 0, because Symmetric keys should have a key length greater than or equal to 2048, but got 1.\u001b[0m\r\n",
                    "output_type": "stream"
                },
                {
                    "name": "stdout",
                    "text": "\u001b[91m        89:     @(Get-DbaDbEncryption -SqlInstance $Instance -Database $Database | Where-Object {$_.Encryption -eq \"Symmetric Key\" -and $_.KeyLength -LT 2048}).Count | Should -Be 0 -Because \"Symmetric keys should have a key length greater than or equal to 2048\"\u001b[0m\r\n",
                    "output_type": "stream"
                },
                {
                    "name": "stdout",
                    "text": "\u001b[91m        at Assert-CLRAssembliesSafe, D:\\OneDrive\\Documents\\GitHub\\dbachecks\\internal\\assertions\\Database.Assertions.ps1: line 89\u001b[0m\r\n",
                    "output_type": "stream"
                },
                {
                    "name": "stdout",
                    "text": "\u001b[91m        at <ScriptBlock>, D:\\OneDrive\\Documents\\GitHub\\dbachecks\\checks\\Database.Tests.ps1: line 1022\u001b[0m\r\n",
                    "output_type": "stream"
                },
                {
                    "name": "stdout",
                    "text": "\u001b[91m      [-] Database SSISDB user-defined CLR assemblies are set to SAFE_ACCESS on SQL2017N5\u001b[0m",
                    "output_type": "stream"
                },
                {
                    "name": "stdout",
                    "text": "\u001b[90m 5.4s\u001b[0m\r\n",
                    "output_type": "stream"
                },
                {
                    "name": "stdout",
                    "text": "\u001b[91m        Expected 0, because Symmetric keys should have a key length greater than or equal to 2048, but got 4.\u001b[0m\r\n",
                    "output_type": "stream"
                },
                {
                    "name": "stdout",
                    "text": "\u001b[91m        89:     @(Get-DbaDbEncryption -SqlInstance $Instance -Database $Database | Where-Object {$_.Encryption -eq \"Symmetric Key\" -and $_.KeyLength -LT 2048}).Count | Should -Be 0 -Because \"Symmetric keys should have a key length greater than or equal to 2048\"\u001b[0m\r\n",
                    "output_type": "stream"
                },
                {
                    "name": "stdout",
                    "text": "\u001b[91m        at Assert-CLRAssembliesSafe, D:\\OneDrive\\Documents\\GitHub\\dbachecks\\internal\\assertions\\Database.Assertions.ps1: line 89\u001b[0m\r\n",
                    "output_type": "stream"
                },
                {
                    "name": "stdout",
                    "text": "\u001b[91m        at <ScriptBlock>, D:\\OneDrive\\Documents\\GitHub\\dbachecks\\checks\\Database.Tests.ps1: line 1022\u001b[0m\r\n",
                    "output_type": "stream"
                },
                {
                    "name": "stdout",
                    "text": "\r\n",
                    "output_type": "stream"
                },
                {
                    "name": "stdout",
                    "text": "\u001b[92m  Describing Guest User\u001b[0m\r\n",
                    "output_type": "stream"
                },
                {
                    "name": "stdout",
                    "text": "\r\n",
                    "output_type": "stream"
                },
                {
                    "name": "stdout",
                    "text": "\u001b[92m    Context Testing Guest user has CONNECT permission on SQL2017N5\u001b[0m\r\n",
                    "output_type": "stream"
                },
                {
                    "name": "stdout",
                    "text": "\u001b[93m      [!] Database Guest user should return no CONNECT permissions in ADonutFactory on SQL2017N5\u001b[0m",
                    "output_type": "stream"
                },
                {
                    "name": "stdout",
                    "text": "\u001b[93m, is skipped\u001b[0m",
                    "output_type": "stream"
                },
                {
                    "name": "stdout",
                    "text": "\u001b[90m 0ms\u001b[0m\r\n",
                    "output_type": "stream"
                },
                {
                    "name": "stdout",
                    "text": "\u001b[93m      [!] Database Guest user should return no CONNECT permissions in ASausageFactory on SQL2017N5\u001b[0m",
                    "output_type": "stream"
                },
                {
                    "name": "stdout",
                    "text": "\u001b[93m, is skipped\u001b[0m",
                    "output_type": "stream"
                },
                {
                    "name": "stdout",
                    "text": "\u001b[90m 0ms\u001b[0m\r\n",
                    "output_type": "stream"
                },
                {
                    "name": "stdout",
                    "text": "\u001b[93m      [!] Database Guest user should return no CONNECT permissions in ASockFactory on SQL2017N5\u001b[0m",
                    "output_type": "stream"
                },
                {
                    "name": "stdout",
                    "text": "\u001b[93m, is skipped\u001b[0m",
                    "output_type": "stream"
                },
                {
                    "name": "stdout",
                    "text": "\u001b[90m 0ms\u001b[0m\r\n",
                    "output_type": "stream"
                },
                {
                    "name": "stdout",
                    "text": "\u001b[93m      [!] Database Guest user should return no CONNECT permissions in BeardNotebooks on SQL2017N5\u001b[0m",
                    "output_type": "stream"
                },
                {
                    "name": "stdout",
                    "text": "\u001b[93m, is skipped\u001b[0m",
                    "output_type": "stream"
                },
                {
                    "name": "stdout",
                    "text": "\u001b[90m 0ms\u001b[0m\r\n",
                    "output_type": "stream"
                },
                {
                    "name": "stdout",
                    "text": "\u001b[93m      [!] Database Guest user should return no CONNECT permissions in emptydbachecks on SQL2017N5\u001b[0m",
                    "output_type": "stream"
                },
                {
                    "name": "stdout",
                    "text": "\u001b[93m, is skipped\u001b[0m",
                    "output_type": "stream"
                },
                {
                    "name": "stdout",
                    "text": "\u001b[90m 0ms\u001b[0m\r\n",
                    "output_type": "stream"
                },
                {
                    "name": "stdout",
                    "text": "\u001b[93m      [!] Database Guest user should return no CONNECT permissions in model on SQL2017N5\u001b[0m",
                    "output_type": "stream"
                },
                {
                    "name": "stdout",
                    "text": "\u001b[93m, is skipped\u001b[0m",
                    "output_type": "stream"
                },
                {
                    "name": "stdout",
                    "text": "\u001b[90m 0ms\u001b[0m\r\n",
                    "output_type": "stream"
                },
                {
                    "name": "stdout",
                    "text": "\u001b[93m      [!] Database Guest user should return no CONNECT permissions in SqlWatch on SQL2017N5\u001b[0m",
                    "output_type": "stream"
                },
                {
                    "name": "stdout",
                    "text": "\u001b[93m, is skipped\u001b[0m",
                    "output_type": "stream"
                },
                {
                    "name": "stdout",
                    "text": "\u001b[90m 0ms\u001b[0m\r\n",
                    "output_type": "stream"
                },
                {
                    "name": "stdout",
                    "text": "\u001b[93m      [!] Database Guest user should return no CONNECT permissions in SSISDB on SQL2017N5\u001b[0m",
                    "output_type": "stream"
                },
                {
                    "name": "stdout",
                    "text": "\u001b[93m, is skipped\u001b[0m",
                    "output_type": "stream"
                },
                {
                    "name": "stdout",
                    "text": "\u001b[90m 0ms\u001b[0m\r\n",
                    "output_type": "stream"
                },
                {
                    "name": "stdout",
                    "text": "\r\n",
                    "output_type": "stream"
                },
                {
                    "name": "stdout",
                    "text": "\u001b[92m  Describing AsymmetricKeySize\u001b[0m\r\n",
                    "output_type": "stream"
                },
                {
                    "name": "stdout",
                    "text": "\r\n",
                    "output_type": "stream"
                },
                {
                    "name": "stdout",
                    "text": "\u001b[92m    Context Testing Asymmetric Key Size is 2048 or higher on SQL2017N5\u001b[0m\r\n",
                    "output_type": "stream"
                },
                {
                    "name": "stdout",
                    "text": "\u001b[93m      [!] Database ADonutFactory Asymmetric Key Size should be at least 2048 on SQL2017N5\u001b[0m",
                    "output_type": "stream"
                },
                {
                    "name": "stdout",
                    "text": "\u001b[93m, is skipped\u001b[0m",
                    "output_type": "stream"
                },
                {
                    "name": "stdout",
                    "text": "\u001b[90m 0ms\u001b[0m\r\n",
                    "output_type": "stream"
                },
                {
                    "name": "stdout",
                    "text": "\u001b[93m      [!] Database ASausageFactory Asymmetric Key Size should be at least 2048 on SQL2017N5\u001b[0m",
                    "output_type": "stream"
                },
                {
                    "name": "stdout",
                    "text": "\u001b[93m, is skipped\u001b[0m",
                    "output_type": "stream"
                },
                {
                    "name": "stdout",
                    "text": "\u001b[90m 0ms\u001b[0m\r\n",
                    "output_type": "stream"
                },
                {
                    "name": "stdout",
                    "text": "\u001b[93m      [!] Database ASockFactory Asymmetric Key Size should be at least 2048 on SQL2017N5\u001b[0m",
                    "output_type": "stream"
                },
                {
                    "name": "stdout",
                    "text": "\u001b[93m, is skipped\u001b[0m",
                    "output_type": "stream"
                },
                {
                    "name": "stdout",
                    "text": "\u001b[90m 0ms\u001b[0m\r\n",
                    "output_type": "stream"
                },
                {
                    "name": "stdout",
                    "text": "\u001b[93m      [!] Database BeardNotebooks Asymmetric Key Size should be at least 2048 on SQL2017N5\u001b[0m",
                    "output_type": "stream"
                },
                {
                    "name": "stdout",
                    "text": "\u001b[93m, is skipped\u001b[0m",
                    "output_type": "stream"
                },
                {
                    "name": "stdout",
                    "text": "\u001b[90m 0ms\u001b[0m\r\n",
                    "output_type": "stream"
                },
                {
                    "name": "stdout",
                    "text": "\u001b[93m      [!] Database emptydbachecks Asymmetric Key Size should be at least 2048 on SQL2017N5\u001b[0m",
                    "output_type": "stream"
                },
                {
                    "name": "stdout",
                    "text": "\u001b[93m, is skipped\u001b[0m",
                    "output_type": "stream"
                },
                {
                    "name": "stdout",
                    "text": "\u001b[90m 0ms\u001b[0m\r\n",
                    "output_type": "stream"
                },
                {
                    "name": "stdout",
                    "text": "\u001b[93m      [!] Database model Asymmetric Key Size should be at least 2048 on SQL2017N5\u001b[0m",
                    "output_type": "stream"
                },
                {
                    "name": "stdout",
                    "text": "\u001b[93m, is skipped\u001b[0m",
                    "output_type": "stream"
                },
                {
                    "name": "stdout",
                    "text": "\u001b[90m 0ms\u001b[0m\r\n",
                    "output_type": "stream"
                },
                {
                    "name": "stdout",
                    "text": "\u001b[93m      [!] Database SqlWatch Asymmetric Key Size should be at least 2048 on SQL2017N5\u001b[0m",
                    "output_type": "stream"
                },
                {
                    "name": "stdout",
                    "text": "\u001b[93m, is skipped\u001b[0m",
                    "output_type": "stream"
                },
                {
                    "name": "stdout",
                    "text": "\u001b[90m 0ms\u001b[0m\r\n",
                    "output_type": "stream"
                },
                {
                    "name": "stdout",
                    "text": "\u001b[93m      [!] Database SSISDB Asymmetric Key Size should be at least 2048 on SQL2017N5\u001b[0m",
                    "output_type": "stream"
                },
                {
                    "name": "stdout",
                    "text": "\u001b[93m, is skipped\u001b[0m",
                    "output_type": "stream"
                },
                {
                    "name": "stdout",
                    "text": "\u001b[90m 0ms\u001b[0m\r\n",
                    "output_type": "stream"
                },
                {
                    "name": "stdout",
                    "text": "\r\n",
                    "output_type": "stream"
                },
                {
                    "name": "stdout",
                    "text": "\u001b[92m  Describing SymmetricKeyEncryptionLevel\u001b[0m\r\n",
                    "output_type": "stream"
                },
                {
                    "name": "stdout",
                    "text": "\r\n",
                    "output_type": "stream"
                },
                {
                    "name": "stdout",
                    "text": "\u001b[92m    Context Testing Symmetric Key Encryption Level at least AES_128 or higher on SQL2017N5\u001b[0m\r\n",
                    "output_type": "stream"
                },
                {
                    "name": "stdout",
                    "text": "\u001b[93m      [!] Database ADonutFactory Symmetric Key Encryption Level should have AES_128 or higher on SQL2017N5\u001b[0m",
                    "output_type": "stream"
                },
                {
                    "name": "stdout",
                    "text": "\u001b[93m, is skipped\u001b[0m",
                    "output_type": "stream"
                },
                {
                    "name": "stdout",
                    "text": "\u001b[90m 0ms\u001b[0m\r\n",
                    "output_type": "stream"
                },
                {
                    "name": "stdout",
                    "text": "\u001b[93m      [!] Database ASausageFactory Symmetric Key Encryption Level should have AES_128 or higher on SQL2017N5\u001b[0m",
                    "output_type": "stream"
                },
                {
                    "name": "stdout",
                    "text": "\u001b[93m, is skipped\u001b[0m",
                    "output_type": "stream"
                },
                {
                    "name": "stdout",
                    "text": "\u001b[90m 0ms\u001b[0m\r\n",
                    "output_type": "stream"
                },
                {
                    "name": "stdout",
                    "text": "\u001b[93m      [!] Database ASockFactory Symmetric Key Encryption Level should have AES_128 or higher on SQL2017N5\u001b[0m",
                    "output_type": "stream"
                },
                {
                    "name": "stdout",
                    "text": "\u001b[93m, is skipped\u001b[0m",
                    "output_type": "stream"
                },
                {
                    "name": "stdout",
                    "text": "\u001b[90m 0ms\u001b[0m\r\n",
                    "output_type": "stream"
                },
                {
                    "name": "stdout",
                    "text": "\u001b[93m      [!] Database BeardNotebooks Symmetric Key Encryption Level should have AES_128 or higher on SQL2017N5\u001b[0m",
                    "output_type": "stream"
                },
                {
                    "name": "stdout",
                    "text": "\u001b[93m, is skipped\u001b[0m",
                    "output_type": "stream"
                },
                {
                    "name": "stdout",
                    "text": "\u001b[90m 0ms\u001b[0m\r\n",
                    "output_type": "stream"
                },
                {
                    "name": "stdout",
                    "text": "\u001b[93m      [!] Database emptydbachecks Symmetric Key Encryption Level should have AES_128 or higher on SQL2017N5\u001b[0m",
                    "output_type": "stream"
                },
                {
                    "name": "stdout",
                    "text": "\u001b[93m, is skipped\u001b[0m",
                    "output_type": "stream"
                },
                {
                    "name": "stdout",
                    "text": "\u001b[90m 0ms\u001b[0m\r\n",
                    "output_type": "stream"
                },
                {
                    "name": "stdout",
                    "text": "\u001b[93m      [!] Database model Symmetric Key Encryption Level should have AES_128 or higher on SQL2017N5\u001b[0m",
                    "output_type": "stream"
                },
                {
                    "name": "stdout",
                    "text": "\u001b[93m, is skipped\u001b[0m",
                    "output_type": "stream"
                },
                {
                    "name": "stdout",
                    "text": "\u001b[90m 0ms\u001b[0m\r\n",
                    "output_type": "stream"
                },
                {
                    "name": "stdout",
                    "text": "\u001b[93m      [!] Database SqlWatch Symmetric Key Encryption Level should have AES_128 or higher on SQL2017N5\u001b[0m",
                    "output_type": "stream"
                },
                {
                    "name": "stdout",
                    "text": "\u001b[93m, is skipped\u001b[0m",
                    "output_type": "stream"
                },
                {
                    "name": "stdout",
                    "text": "\u001b[90m 0ms\u001b[0m\r\n",
                    "output_type": "stream"
                },
                {
                    "name": "stdout",
                    "text": "\u001b[93m      [!] Database SSISDB Symmetric Key Encryption Level should have AES_128 or higher on SQL2017N5\u001b[0m",
                    "output_type": "stream"
                },
                {
                    "name": "stdout",
                    "text": "\u001b[93m, is skipped\u001b[0m",
                    "output_type": "stream"
                },
                {
                    "name": "stdout",
                    "text": "\u001b[90m 0ms\u001b[0m\r\n",
                    "output_type": "stream"
                },
                {
                    "name": "stdout",
                    "text": "\r\n",
                    "output_type": "stream"
                },
                {
                    "name": "stdout",
                    "text": "\u001b[92m  Describing Contained Database SQL Authenticated Users\u001b[0m\r\n",
                    "output_type": "stream"
                },
                {
                    "name": "stdout",
                    "text": "\r\n",
                    "output_type": "stream"
                },
                {
                    "name": "stdout",
                    "text": "\u001b[92m    Context Testing contained database to see if sql authenticated users exist on SQL2017N5\u001b[0m\r\n",
                    "output_type": "stream"
                },
                {
                    "name": "stdout",
                    "text": "\r\n",
                    "output_type": "stream"
                },
                {
                    "name": "stdout",
                    "text": "\u001b[92m  Describing Query Store Enabled\u001b[0m\r\n",
                    "output_type": "stream"
                },
                {
                    "name": "stdout",
                    "text": "\r\n",
                    "output_type": "stream"
                },
                {
                    "name": "stdout",
                    "text": "\u001b[92m    Context Testing to see if Query Store is enabled on SQL2017N5\u001b[0m\r\n",
                    "output_type": "stream"
                },
                {
                    "name": "stdout",
                    "text": "\u001b[91m      [-] Database ASausageFactory should have Query Store enabled on SQL2017N5\u001b[0m",
                    "output_type": "stream"
                },
                {
                    "name": "stdout",
                    "text": "\u001b[90m 2.96s\u001b[0m\r\n",
                    "output_type": "stream"
                },
                {
                    "name": "stdout",
                    "text": "\u001b[91m        Expected collection @('OFF', 'ERROR') to not contain Off, because We expect the Query Store to be enabled in ASausageFactory on [SQL2017N5], but it was found.\u001b[0m\r\n",
                    "output_type": "stream"
                },
                {
                    "name": "stdout",
                    "text": "\u001b[91m        113:     (Get-DbaDbQueryStoreOption -SqlInstance $Instance -Database $Database).ActualState  | Should -Not -BeIn 'OFF', 'ERROR' -Because \"We expect the Query Store to be enabled in $Database on $Instance\"\u001b[0m\r\n",
                    "output_type": "stream"
                },
                {
                    "name": "stdout",
                    "text": "\u001b[91m        at Assert-QueryStoreEnabled, D:\\OneDrive\\Documents\\GitHub\\dbachecks\\internal\\assertions\\Database.Assertions.ps1: line 113\u001b[0m\r\n",
                    "output_type": "stream"
                },
                {
                    "name": "stdout",
                    "text": "\u001b[91m        at <ScriptBlock>, D:\\OneDrive\\Documents\\GitHub\\dbachecks\\checks\\Database.Tests.ps1: line 1132\u001b[0m\r\n",
                    "output_type": "stream"
                },
                {
                    "name": "stdout",
                    "text": "\u001b[91m      [-] Database ASockFactory should have Query Store enabled on SQL2017N5\u001b[0m",
                    "output_type": "stream"
                },
                {
                    "name": "stdout",
                    "text": "\u001b[90m 3.13s\u001b[0m\r\n",
                    "output_type": "stream"
                },
                {
                    "name": "stdout",
                    "text": "\u001b[91m        Expected collection @('OFF', 'ERROR') to not contain Off, because We expect the Query Store to be enabled in ASockFactory on [SQL2017N5], but it was found.\u001b[0m\r\n",
                    "output_type": "stream"
                },
                {
                    "name": "stdout",
                    "text": "\u001b[91m        113:     (Get-DbaDbQueryStoreOption -SqlInstance $Instance -Database $Database).ActualState  | Should -Not -BeIn 'OFF', 'ERROR' -Because \"We expect the Query Store to be enabled in $Database on $Instance\"\u001b[0m\r\n",
                    "output_type": "stream"
                },
                {
                    "name": "stdout",
                    "text": "\u001b[91m        at Assert-QueryStoreEnabled, D:\\OneDrive\\Documents\\GitHub\\dbachecks\\internal\\assertions\\Database.Assertions.ps1: line 113\u001b[0m\r\n",
                    "output_type": "stream"
                },
                {
                    "name": "stdout",
                    "text": "\u001b[91m        at <ScriptBlock>, D:\\OneDrive\\Documents\\GitHub\\dbachecks\\checks\\Database.Tests.ps1: line 1132\u001b[0m\r\n",
                    "output_type": "stream"
                },
                {
                    "name": "stdout",
                    "text": "\u001b[91m      [-] Database BeardNotebooks should have Query Store enabled on SQL2017N5\u001b[0m",
                    "output_type": "stream"
                },
                {
                    "name": "stdout",
                    "text": "\u001b[90m 2s\u001b[0m\r\n",
                    "output_type": "stream"
                },
                {
                    "name": "stdout",
                    "text": "\u001b[91m        Expected collection @('OFF', 'ERROR') to not contain Off, because We expect the Query Store to be enabled in BeardNotebooks on [SQL2017N5], but it was found.\u001b[0m\r\n",
                    "output_type": "stream"
                },
                {
                    "name": "stdout",
                    "text": "\u001b[91m        113:     (Get-DbaDbQueryStoreOption -SqlInstance $Instance -Database $Database).ActualState  | Should -Not -BeIn 'OFF', 'ERROR' -Because \"We expect the Query Store to be enabled in $Database on $Instance\"\u001b[0m\r\n",
                    "output_type": "stream"
                },
                {
                    "name": "stdout",
                    "text": "\u001b[91m        at Assert-QueryStoreEnabled, D:\\OneDrive\\Documents\\GitHub\\dbachecks\\internal\\assertions\\Database.Assertions.ps1: line 113\u001b[0m\r\n",
                    "output_type": "stream"
                },
                {
                    "name": "stdout",
                    "text": "\u001b[91m        at <ScriptBlock>, D:\\OneDrive\\Documents\\GitHub\\dbachecks\\checks\\Database.Tests.ps1: line 1132\u001b[0m\r\n",
                    "output_type": "stream"
                },
                {
                    "name": "stdout",
                    "text": "\u001b[91m      [-] Database emptydbachecks should have Query Store enabled on SQL2017N5\u001b[0m",
                    "output_type": "stream"
                },
                {
                    "name": "stdout",
                    "text": "\u001b[90m 3.08s\u001b[0m\r\n",
                    "output_type": "stream"
                },
                {
                    "name": "stdout",
                    "text": "\u001b[91m        Expected collection @('OFF', 'ERROR') to not contain Off, because We expect the Query Store to be enabled in emptydbachecks on [SQL2017N5], but it was found.\u001b[0m\r\n",
                    "output_type": "stream"
                },
                {
                    "name": "stdout",
                    "text": "\u001b[91m        113:     (Get-DbaDbQueryStoreOption -SqlInstance $Instance -Database $Database).ActualState  | Should -Not -BeIn 'OFF', 'ERROR' -Because \"We expect the Query Store to be enabled in $Database on $Instance\"\u001b[0m\r\n",
                    "output_type": "stream"
                },
                {
                    "name": "stdout",
                    "text": "\u001b[91m        at Assert-QueryStoreEnabled, D:\\OneDrive\\Documents\\GitHub\\dbachecks\\internal\\assertions\\Database.Assertions.ps1: line 113\u001b[0m\r\n",
                    "output_type": "stream"
                },
                {
                    "name": "stdout",
                    "text": "\u001b[91m        at <ScriptBlock>, D:\\OneDrive\\Documents\\GitHub\\dbachecks\\checks\\Database.Tests.ps1: line 1132\u001b[0m\r\n",
                    "output_type": "stream"
                },
                {
                    "name": "stdout",
                    "text": "\u001b[91m      [-] Database SSISDB should have Query Store enabled on SQL2017N5\u001b[0m",
                    "output_type": "stream"
                },
                {
                    "name": "stdout",
                    "text": "\u001b[90m 591ms\u001b[0m\r\n",
                    "output_type": "stream"
                },
                {
                    "name": "stdout",
                    "text": "\u001b[91m        Expected collection @('OFF', 'ERROR') to not contain Off, because We expect the Query Store to be enabled in SSISDB on [SQL2017N5], but it was found.\u001b[0m\r\n",
                    "output_type": "stream"
                },
                {
                    "name": "stdout",
                    "text": "\u001b[91m        113:     (Get-DbaDbQueryStoreOption -SqlInstance $Instance -Database $Database).ActualState  | Should -Not -BeIn 'OFF', 'ERROR' -Because \"We expect the Query Store to be enabled in $Database on $Instance\"\u001b[0m\r\n",
                    "output_type": "stream"
                },
                {
                    "name": "stdout",
                    "text": "\u001b[91m        at Assert-QueryStoreEnabled, D:\\OneDrive\\Documents\\GitHub\\dbachecks\\internal\\assertions\\Database.Assertions.ps1: line 113\u001b[0m\r\n",
                    "output_type": "stream"
                },
                {
                    "name": "stdout",
                    "text": "\u001b[91m        at <ScriptBlock>, D:\\OneDrive\\Documents\\GitHub\\dbachecks\\checks\\Database.Tests.ps1: line 1132\u001b[0m\r\n",
                    "output_type": "stream"
                },
                {
                    "name": "stdout",
                    "text": "\r\n",
                    "output_type": "stream"
                },
                {
                    "name": "stdout",
                    "text": "\u001b[92m  Describing Query Store Disabled\u001b[0m\r\n",
                    "output_type": "stream"
                },
                {
                    "name": "stdout",
                    "text": "\r\n",
                    "output_type": "stream"
                },
                {
                    "name": "stdout",
                    "text": "\u001b[92m    Context Testing to see if Query Store is disabled on SQL2017N5\u001b[0m\r\n",
                    "output_type": "stream"
                },
                {
                    "name": "stdout",
                    "text": "\u001b[91m      [-] Database ADonutFactory should have Query Store disabled on SQL2017N5\u001b[0m",
                    "output_type": "stream"
                },
                {
                    "name": "stdout",
                    "text": "\u001b[90m 3.22s\u001b[0m\r\n",
                    "output_type": "stream"
                },
                {
                    "name": "stdout",
                    "text": "\u001b[91m        Expected 'OFF', because We expect the Query Store to be disabled in ADonutFactory on [SQL2017N5], but got ReadWrite.\u001b[0m\r\n",
                    "output_type": "stream"
                },
                {
                    "name": "stdout",
                    "text": "\u001b[91m        120:     (Get-DbaDbQueryStoreOption -SqlInstance $Instance -Database $Database).ActualState | Should -Be 'OFF' -Because \"We expect the Query Store to be disabled in $Database on $Instance\"\u001b[0m\r\n",
                    "output_type": "stream"
                },
                {
                    "name": "stdout",
                    "text": "\u001b[91m        at Assert-QueryStoreDisabled, D:\\OneDrive\\Documents\\GitHub\\dbachecks\\internal\\assertions\\Database.Assertions.ps1: line 120\u001b[0m\r\n",
                    "output_type": "stream"
                },
                {
                    "name": "stdout",
                    "text": "\u001b[91m        at <ScriptBlock>, D:\\OneDrive\\Documents\\GitHub\\dbachecks\\checks\\Database.Tests.ps1: line 1156\u001b[0m\r\n",
                    "output_type": "stream"
                },
                {
                    "name": "stdout",
                    "text": "\u001b[91m      [-] Database model should have Query Store disabled on SQL2017N5\u001b[0m",
                    "output_type": "stream"
                },
                {
                    "name": "stdout",
                    "text": "\u001b[90m 1.02s\u001b[0m\r\n",
                    "output_type": "stream"
                },
                {
                    "name": "stdout",
                    "text": "\u001b[91m        Expected 'OFF', because We expect the Query Store to be disabled in model on [SQL2017N5], but got $null.\u001b[0m\r\n",
                    "output_type": "stream"
                },
                {
                    "name": "stdout",
                    "text": "\u001b[91m        120:     (Get-DbaDbQueryStoreOption -SqlInstance $Instance -Database $Database).ActualState | Should -Be 'OFF' -Because \"We expect the Query Store to be disabled in $Database on $Instance\"\u001b[0m\r\n",
                    "output_type": "stream"
                },
                {
                    "name": "stdout",
                    "text": "\u001b[91m        at Assert-QueryStoreDisabled, D:\\OneDrive\\Documents\\GitHub\\dbachecks\\internal\\assertions\\Database.Assertions.ps1: line 120\u001b[0m\r\n",
                    "output_type": "stream"
                },
                {
                    "name": "stdout",
                    "text": "\u001b[91m        at <ScriptBlock>, D:\\OneDrive\\Documents\\GitHub\\dbachecks\\checks\\Database.Tests.ps1: line 1156\u001b[0m\r\n",
                    "output_type": "stream"
                },
                {
                    "name": "stdout",
                    "text": "\u001b[91m      [-] Database SqlWatch should have Query Store disabled on SQL2017N5\u001b[0m",
                    "output_type": "stream"
                },
                {
                    "name": "stdout",
                    "text": "\u001b[90m 3.58s\u001b[0m\r\n",
                    "output_type": "stream"
                },
                {
                    "name": "stdout",
                    "text": "\u001b[91m        Expected 'OFF', because We expect the Query Store to be disabled in SqlWatch on [SQL2017N5], but got ReadWrite.\u001b[0m\r\n",
                    "output_type": "stream"
                },
                {
                    "name": "stdout",
                    "text": "\u001b[91m        120:     (Get-DbaDbQueryStoreOption -SqlInstance $Instance -Database $Database).ActualState | Should -Be 'OFF' -Because \"We expect the Query Store to be disabled in $Database on $Instance\"\u001b[0m\r\n",
                    "output_type": "stream"
                },
                {
                    "name": "stdout",
                    "text": "\u001b[91m        at Assert-QueryStoreDisabled, D:\\OneDrive\\Documents\\GitHub\\dbachecks\\internal\\assertions\\Database.Assertions.ps1: line 120\u001b[0m\r\n",
                    "output_type": "stream"
                },
                {
                    "name": "stdout",
                    "text": "\u001b[91m        at <ScriptBlock>, D:\\OneDrive\\Documents\\GitHub\\dbachecks\\checks\\Database.Tests.ps1: line 1156\u001b[0m\r\n",
                    "output_type": "stream"
                },
                {
                    "name": "stdout",
                    "text": "\u001b[97mTests completed in 461.9s\u001b[0m\r\n",
                    "output_type": "stream"
                },
                {
                    "name": "stdout",
                    "text": "\u001b[97mTests Passed: 607, \u001b[0m",
                    "output_type": "stream"
                },
                {
                    "name": "stdout",
                    "text": "\u001b[91mFailed: 114, \u001b[0m",
                    "output_type": "stream"
                },
                {
                    "name": "stdout",
                    "text": "\u001b[93mSkipped: 25, \u001b[0m",
                    "output_type": "stream"
                },
                {
                    "name": "stdout",
                    "text": "\u001b[90mPending: 0, \u001b[0m",
                    "output_type": "stream"
                },
                {
                    "name": "stdout",
                    "text": "\u001b[90mInconclusive: 0 \u001b[0m\r\n",
                    "output_type": "stream"
                },
                {
                    "data": {
                        "text/plain": ""
                    },
                    "metadata": {},
                    "output_type": "display_data"
                }
            ],
            "execution_count": 4
        },
        {
            "cell_type": "code",
            "source": [
                "Invoke-DbcCheck -SqlInstance SQL2017N5 -Check Agent -Show Fails"
            ],
            "metadata": {
                "azdata_cell_guid": "3e91f1da-d2c8-4ee8-bcc1-62107a5934be"
            },
            "outputs": [
                {
                    "name": "stdout",
                    "text": "\u001b[97m    ____            __\r\n   / __ \\___  _____/ /____  _____\r\n  / /_/ / _ \\/ ___/ __/ _ \\/ ___/\r\n / ____/  __(__  ) /_/  __/ /\r\n/_/    \\___/____/\\__/\\___/_/\r\nPester v4.9.0\r\nExecuting all tests in 'D:\\OneDrive\\Documents\\GitHub\\dbachecks\\checks\\Agent.Tests.ps1', 'D:\\OneDrive\\Documents\\GitHub\\dbachecks\\checks\\Instance.Tests.ps1' with Tags Agent\u001b[0m\r\n",
                    "output_type": "stream"
                },
                {
                    "name": "stdout",
                    "text": "\r\n",
                    "output_type": "stream"
                },
                {
                    "name": "stdout",
                    "text": "\u001b[92mExecuting script D:\\OneDrive\\Documents\\GitHub\\dbachecks\\checks\\Agent.Tests.ps1\u001b[0m\r\n",
                    "output_type": "stream"
                },
                {
                    "name": "stdout",
                    "text": "\r\n",
                    "output_type": "stream"
                },
                {
                    "name": "stdout",
                    "text": "\u001b[92m  Describing Database Mail XPs\u001b[0m\r\n",
                    "output_type": "stream"
                },
                {
                    "name": "stdout",
                    "text": "\r\n",
                    "output_type": "stream"
                },
                {
                    "name": "stdout",
                    "text": "\u001b[92m    Context Testing Testing Database Mail XPs on SQL2017N5\u001b[0m\r\n",
                    "output_type": "stream"
                },
                {
                    "name": "stdout",
                    "text": "\u001b[91m      [-] Testing Database Mail XPs is set to False on SQL2017N5\u001b[0m",
                    "output_type": "stream"
                },
                {
                    "name": "stdout",
                    "text": "\u001b[90m 1.05s\u001b[0m\r\n",
                    "output_type": "stream"
                },
                {
                    "name": "stdout",
                    "text": "\u001b[91m        Expected $false, because The Database Mail XPs setting should be set correctly, but got $true.\u001b[0m\r\n",
                    "output_type": "stream"
                },
                {
                    "name": "stdout",
                    "text": "\u001b[91m        6:    (Get-DbaSpConfigure -SqlInstance $SQLInstance -Name DatabaseMailEnabled).ConfiguredValue -eq 1 | Should -Be $DatabaseMailEnabled -Because 'The Database Mail XPs setting should be set correctly'\u001b[0m\r\n",
                    "output_type": "stream"
                },
                {
                    "name": "stdout",
                    "text": "\u001b[91m        at Assert-DatabaseMailEnabled, D:\\OneDrive\\Documents\\GitHub\\dbachecks\\internal\\assertions\\Agent.Assertions.ps1: line 6\u001b[0m\r\n",
                    "output_type": "stream"
                },
                {
                    "name": "stdout",
                    "text": "\u001b[91m        at <ScriptBlock>, D:\\OneDrive\\Documents\\GitHub\\dbachecks\\checks\\Agent.Tests.ps1: line 34\u001b[0m\r\n",
                    "output_type": "stream"
                },
                {
                    "name": "stdout",
                    "text": "\r\n",
                    "output_type": "stream"
                },
                {
                    "name": "stdout",
                    "text": "\u001b[92m  Describing SQL Agent Account\u001b[0m\r\n",
                    "output_type": "stream"
                },
                {
                    "name": "stdout",
                    "text": "\r\n",
                    "output_type": "stream"
                },
                {
                    "name": "stdout",
                    "text": "\u001b[92m    Context Testing SQL Agent is running on SQL2017N5\u001b[0m\r\n",
                    "output_type": "stream"
                },
                {
                    "name": "stdout",
                    "text": "\r\n",
                    "output_type": "stream"
                },
                {
                    "name": "stdout",
                    "text": "\u001b[92m  Describing DBA Operators\u001b[0m\r\n",
                    "output_type": "stream"
                },
                {
                    "name": "stdout",
                    "text": "\r\n",
                    "output_type": "stream"
                },
                {
                    "name": "stdout",
                    "text": "\u001b[92m    Context Testing DBA Operators exists on SQL2017N5\u001b[0m\r\n",
                    "output_type": "stream"
                },
                {
                    "name": "stdout",
                    "text": "\r\n",
                    "output_type": "stream"
                },
                {
                    "name": "stdout",
                    "text": "\u001b[92m  Describing Failsafe Operator\u001b[0m\r\n",
                    "output_type": "stream"
                },
                {
                    "name": "stdout",
                    "text": "\r\n",
                    "output_type": "stream"
                },
                {
                    "name": "stdout",
                    "text": "\u001b[92m    Context Testing failsafe operator exists on SQL2017N5\u001b[0m\r\n",
                    "output_type": "stream"
                },
                {
                    "name": "stdout",
                    "text": "\u001b[91m      [-] The Failsafe Operator exists on SQL2017N5\u001b[0m",
                    "output_type": "stream"
                },
                {
                    "name": "stdout",
                    "text": "\u001b[90m 3.1s\u001b[0m\r\n",
                    "output_type": "stream"
                },
                {
                    "name": "stdout",
                    "text": "\u001b[91m        Expected $null, because The failsafe operator will ensure that any job failures will be notified to someone if not set explicitly, but got <empty>.\u001b[0m\r\n",
                    "output_type": "stream"
                },
                {
                    "name": "stdout",
                    "text": "\u001b[91m        120:                                 (Connect-DbaInstance -SqlInstance $psitem).JobServer.AlertSystem.FailSafeOperator | Should -Be $failsafeoperator -Because 'The failsafe operator will ensure that any job failures will be notified to someone if not set explicitly'\u001b[0m\r\n",
                    "output_type": "stream"
                },
                {
                    "name": "stdout",
                    "text": "\u001b[91m        at <ScriptBlock>, D:\\OneDrive\\Documents\\GitHub\\dbachecks\\checks\\Agent.Tests.ps1: line 120\u001b[0m\r\n",
                    "output_type": "stream"
                },
                {
                    "name": "stdout",
                    "text": "\r\n",
                    "output_type": "stream"
                },
                {
                    "name": "stdout",
                    "text": "\u001b[92m  Describing Database Mail Profile\u001b[0m\r\n",
                    "output_type": "stream"
                },
                {
                    "name": "stdout",
                    "text": "\r\n",
                    "output_type": "stream"
                },
                {
                    "name": "stdout",
                    "text": "\u001b[92m    Context Testing database mail profile is set on SQL2017N5\u001b[0m\r\n",
                    "output_type": "stream"
                },
                {
                    "name": "stdout",
                    "text": "\u001b[91m      [-] The Database Mail profile  exists on SQL2017N5\u001b[0m",
                    "output_type": "stream"
                },
                {
                    "name": "stdout",
                    "text": "\u001b[90m 101ms\u001b[0m\r\n",
                    "output_type": "stream"
                },
                {
                    "name": "stdout",
                    "text": "\u001b[91m        Expected $null, because The database mail profile is required to send emails, but got 'DBaMail'.\u001b[0m\r\n",
                    "output_type": "stream"
                },
                {
                    "name": "stdout",
                    "text": "\u001b[91m        138:                                 (Get-DbaDbMailProfile -SqlInstance $InstanceSMO).Name | Should -Be $databasemailprofile -Because 'The database mail profile is required to send emails'\u001b[0m\r\n",
                    "output_type": "stream"
                },
                {
                    "name": "stdout",
                    "text": "\u001b[91m        at <ScriptBlock>, D:\\OneDrive\\Documents\\GitHub\\dbachecks\\checks\\Agent.Tests.ps1: line 138\u001b[0m\r\n",
                    "output_type": "stream"
                },
                {
                    "name": "stdout",
                    "text": "\r\n",
                    "output_type": "stream"
                },
                {
                    "name": "stdout",
                    "text": "\u001b[92m  Describing Failed Jobs\u001b[0m\r\n",
                    "output_type": "stream"
                },
                {
                    "name": "stdout",
                    "text": "\r\n",
                    "output_type": "stream"
                },
                {
                    "name": "stdout",
                    "text": "\u001b[92m    Context Checking for failed enabled jobs since 06/05/2020 10:09:19 on SQL2017N5\u001b[0m\r\n",
                    "output_type": "stream"
                },
                {
                    "name": "stdout",
                    "text": "\u001b[91m      [-] Gather SQLWatch Data's last run outcome is Failed on SQL2017N5\u001b[0m",
                    "output_type": "stream"
                },
                {
                    "name": "stdout",
                    "text": "\u001b[90m 4ms\u001b[0m\r\n",
                    "output_type": "stream"
                },
                {
                    "name": "stdout",
                    "text": "\u001b[91m        Expected 'Succeeded', because All Agent Jobs should have succeed - you need to investigate the failed jobs, but got Failed.\u001b[0m\r\n",
                    "output_type": "stream"
                },
                {
                    "name": "stdout",
                    "text": "\u001b[91m        171:                                         $psitem.LastRunOutcome | Should -Be \"Succeeded\" -Because 'All Agent Jobs should have succeed - you need to investigate the failed jobs'\u001b[0m\r\n",
                    "output_type": "stream"
                },
                {
                    "name": "stdout",
                    "text": "\u001b[91m        at <ScriptBlock>, D:\\OneDrive\\Documents\\GitHub\\dbachecks\\checks\\Agent.Tests.ps1: line 171\u001b[0m\r\n",
                    "output_type": "stream"
                },
                {
                    "name": "stdout",
                    "text": "\r\n",
                    "output_type": "stream"
                },
                {
                    "name": "stdout",
                    "text": "\u001b[92m  Describing Valid Job Owner\u001b[0m\r\n",
                    "output_type": "stream"
                },
                {
                    "name": "stdout",
                    "text": "\r\n",
                    "output_type": "stream"
                },
                {
                    "name": "stdout",
                    "text": "\u001b[92m    Context Testing job owners on SQL2017N5\u001b[0m\r\n",
                    "output_type": "stream"
                },
                {
                    "name": "stdout",
                    "text": "\u001b[91m      [-] Job AUDIT - T-SQL Gather Permissions Notebook Template  - owner THEBEARD\\Rob should be in this list ( sa ) on SQL2017N5\u001b[0m",
                    "output_type": "stream"
                },
                {
                    "name": "stdout",
                    "text": "\u001b[90m 9ms\u001b[0m\r\n",
                    "output_type": "stream"
                },
                {
                    "name": "stdout",
                    "text": "\u001b[91m        Expected collection sa to contain 'THEBEARD\\Rob', because The account that is the job owner is not what was expected, but it was not found.\u001b[0m\r\n",
                    "output_type": "stream"
                },
                {
                    "name": "stdout",
                    "text": "\u001b[91m        193:                                     $psitem.OwnerLoginName | Should -BeIn $TargetOwner -Because \"The account that is the job owner is not what was expected\"\u001b[0m\r\n",
                    "output_type": "stream"
                },
                {
                    "name": "stdout",
                    "text": "\u001b[91m        at <ScriptBlock>, D:\\OneDrive\\Documents\\GitHub\\dbachecks\\checks\\Agent.Tests.ps1: line 193\u001b[0m\r\n",
                    "output_type": "stream"
                },
                {
                    "name": "stdout",
                    "text": "\u001b[91m      [-] Job Gather SQLWatch Data  - owner THEBEARD\\Rob should be in this list ( sa ) on SQL2017N5\u001b[0m",
                    "output_type": "stream"
                },
                {
                    "name": "stdout",
                    "text": "\u001b[90m 3ms\u001b[0m\r\n",
                    "output_type": "stream"
                },
                {
                    "name": "stdout",
                    "text": "\u001b[91m        Expected collection sa to contain 'THEBEARD\\Rob', because The account that is the job owner is not what was expected, but it was not found.\u001b[0m\r\n",
                    "output_type": "stream"
                },
                {
                    "name": "stdout",
                    "text": "\u001b[91m        193:                                     $psitem.OwnerLoginName | Should -BeIn $TargetOwner -Because \"The account that is the job owner is not what was expected\"\u001b[0m\r\n",
                    "output_type": "stream"
                },
                {
                    "name": "stdout",
                    "text": "\u001b[91m        at <ScriptBlock>, D:\\OneDrive\\Documents\\GitHub\\dbachecks\\checks\\Agent.Tests.ps1: line 193\u001b[0m\r\n",
                    "output_type": "stream"
                },
                {
                    "name": "stdout",
                    "text": "\u001b[91m      [-] Job Power Saturday  - owner THEBEARD\\Rob should be in this list ( sa ) on SQL2017N5\u001b[0m",
                    "output_type": "stream"
                },
                {
                    "name": "stdout",
                    "text": "\u001b[90m 3ms\u001b[0m\r\n",
                    "output_type": "stream"
                },
                {
                    "name": "stdout",
                    "text": "\u001b[91m        Expected collection sa to contain 'THEBEARD\\Rob', because The account that is the job owner is not what was expected, but it was not found.\u001b[0m\r\n",
                    "output_type": "stream"
                },
                {
                    "name": "stdout",
                    "text": "\u001b[91m        193:                                     $psitem.OwnerLoginName | Should -BeIn $TargetOwner -Because \"The account that is the job owner is not what was expected\"\u001b[0m\r\n",
                    "output_type": "stream"
                },
                {
                    "name": "stdout",
                    "text": "\u001b[91m        at <ScriptBlock>, D:\\OneDrive\\Documents\\GitHub\\dbachecks\\checks\\Agent.Tests.ps1: line 193\u001b[0m\r\n",
                    "output_type": "stream"
                },
                {
                    "name": "stdout",
                    "text": "\u001b[91m      [-] Job PowerShel VG ExEvent Job  - owner THEBEARD\\Rob should be in this list ( sa ) on SQL2017N5\u001b[0m",
                    "output_type": "stream"
                },
                {
                    "name": "stdout",
                    "text": "\u001b[90m 4ms\u001b[0m\r\n",
                    "output_type": "stream"
                },
                {
                    "name": "stdout",
                    "text": "\u001b[91m        Expected collection sa to contain 'THEBEARD\\Rob', because The account that is the job owner is not what was expected, but it was not found.\u001b[0m\r\n",
                    "output_type": "stream"
                },
                {
                    "name": "stdout",
                    "text": "\u001b[91m        193:                                     $psitem.OwnerLoginName | Should -BeIn $TargetOwner -Because \"The account that is the job owner is not what was expected\"\u001b[0m\r\n",
                    "output_type": "stream"
                },
                {
                    "name": "stdout",
                    "text": "\u001b[91m        at <ScriptBlock>, D:\\OneDrive\\Documents\\GitHub\\dbachecks\\checks\\Agent.Tests.ps1: line 193\u001b[0m\r\n",
                    "output_type": "stream"
                },
                {
                    "name": "stdout",
                    "text": "\u001b[91m      [-] Job SQLWATCH-INTERNAL-META-CONFIG  - owner THEBEARD\\Rob should be in this list ( sa ) on SQL2017N5\u001b[0m",
                    "output_type": "stream"
                },
                {
                    "name": "stdout",
                    "text": "\u001b[90m 3ms\u001b[0m\r\n",
                    "output_type": "stream"
                },
                {
                    "name": "stdout",
                    "text": "\u001b[91m        Expected collection sa to contain 'THEBEARD\\Rob', because The account that is the job owner is not what was expected, but it was not found.\u001b[0m\r\n",
                    "output_type": "stream"
                },
                {
                    "name": "stdout",
                    "text": "\u001b[91m        193:                                     $psitem.OwnerLoginName | Should -BeIn $TargetOwner -Because \"The account that is the job owner is not what was expected\"\u001b[0m\r\n",
                    "output_type": "stream"
                },
                {
                    "name": "stdout",
                    "text": "\u001b[91m        at <ScriptBlock>, D:\\OneDrive\\Documents\\GitHub\\dbachecks\\checks\\Agent.Tests.ps1: line 193\u001b[0m\r\n",
                    "output_type": "stream"
                },
                {
                    "name": "stdout",
                    "text": "\u001b[91m      [-] Job SQLWATCH-INTERNAL-RETENTION  - owner THEBEARD\\Rob should be in this list ( sa ) on SQL2017N5\u001b[0m",
                    "output_type": "stream"
                },
                {
                    "name": "stdout",
                    "text": "\u001b[90m 4ms\u001b[0m\r\n",
                    "output_type": "stream"
                },
                {
                    "name": "stdout",
                    "text": "\u001b[91m        Expected collection sa to contain 'THEBEARD\\Rob', because The account that is the job owner is not what was expected, but it was not found.\u001b[0m\r\n",
                    "output_type": "stream"
                },
                {
                    "name": "stdout",
                    "text": "\u001b[91m        193:                                     $psitem.OwnerLoginName | Should -BeIn $TargetOwner -Because \"The account that is the job owner is not what was expected\"\u001b[0m\r\n",
                    "output_type": "stream"
                },
                {
                    "name": "stdout",
                    "text": "\u001b[91m        at <ScriptBlock>, D:\\OneDrive\\Documents\\GitHub\\dbachecks\\checks\\Agent.Tests.ps1: line 193\u001b[0m\r\n",
                    "output_type": "stream"
                },
                {
                    "name": "stdout",
                    "text": "\u001b[91m      [-] Job SQLWATCH-LOGGER-AGENT-HISTORY  - owner THEBEARD\\Rob should be in this list ( sa ) on SQL2017N5\u001b[0m",
                    "output_type": "stream"
                },
                {
                    "name": "stdout",
                    "text": "\u001b[90m 3ms\u001b[0m\r\n",
                    "output_type": "stream"
                },
                {
                    "name": "stdout",
                    "text": "\u001b[91m        Expected collection sa to contain 'THEBEARD\\Rob', because The account that is the job owner is not what was expected, but it was not found.\u001b[0m\r\n",
                    "output_type": "stream"
                },
                {
                    "name": "stdout",
                    "text": "\u001b[91m        193:                                     $psitem.OwnerLoginName | Should -BeIn $TargetOwner -Because \"The account that is the job owner is not what was expected\"\u001b[0m\r\n",
                    "output_type": "stream"
                },
                {
                    "name": "stdout",
                    "text": "\u001b[91m        at <ScriptBlock>, D:\\OneDrive\\Documents\\GitHub\\dbachecks\\checks\\Agent.Tests.ps1: line 193\u001b[0m\r\n",
                    "output_type": "stream"
                },
                {
                    "name": "stdout",
                    "text": "\u001b[91m      [-] Job SQLWATCH-LOGGER-DISK-UTILISATION  - owner THEBEARD\\Rob should be in this list ( sa ) on SQL2017N5\u001b[0m",
                    "output_type": "stream"
                },
                {
                    "name": "stdout",
                    "text": "\u001b[90m 3ms\u001b[0m\r\n",
                    "output_type": "stream"
                },
                {
                    "name": "stdout",
                    "text": "\u001b[91m        Expected collection sa to contain 'THEBEARD\\Rob', because The account that is the job owner is not what was expected, but it was not found.\u001b[0m\r\n",
                    "output_type": "stream"
                },
                {
                    "name": "stdout",
                    "text": "\u001b[91m        193:                                     $psitem.OwnerLoginName | Should -BeIn $TargetOwner -Because \"The account that is the job owner is not what was expected\"\u001b[0m\r\n",
                    "output_type": "stream"
                },
                {
                    "name": "stdout",
                    "text": "\u001b[91m        at <ScriptBlock>, D:\\OneDrive\\Documents\\GitHub\\dbachecks\\checks\\Agent.Tests.ps1: line 193\u001b[0m\r\n",
                    "output_type": "stream"
                },
                {
                    "name": "stdout",
                    "text": "\u001b[91m      [-] Job SQLWATCH-LOGGER-INDEXES  - owner THEBEARD\\Rob should be in this list ( sa ) on SQL2017N5\u001b[0m",
                    "output_type": "stream"
                },
                {
                    "name": "stdout",
                    "text": "\u001b[90m 3ms\u001b[0m\r\n",
                    "output_type": "stream"
                },
                {
                    "name": "stdout",
                    "text": "\u001b[91m        Expected collection sa to contain 'THEBEARD\\Rob', because The account that is the job owner is not what was expected, but it was not found.\u001b[0m\r\n",
                    "output_type": "stream"
                },
                {
                    "name": "stdout",
                    "text": "\u001b[91m        193:                                     $psitem.OwnerLoginName | Should -BeIn $TargetOwner -Because \"The account that is the job owner is not what was expected\"\u001b[0m\r\n",
                    "output_type": "stream"
                },
                {
                    "name": "stdout",
                    "text": "\u001b[91m        at <ScriptBlock>, D:\\OneDrive\\Documents\\GitHub\\dbachecks\\checks\\Agent.Tests.ps1: line 193\u001b[0m\r\n",
                    "output_type": "stream"
                },
                {
                    "name": "stdout",
                    "text": "\u001b[91m      [-] Job SQLWATCH-LOGGER-PERFORMANCE  - owner THEBEARD\\Rob should be in this list ( sa ) on SQL2017N5\u001b[0m",
                    "output_type": "stream"
                },
                {
                    "name": "stdout",
                    "text": "\u001b[90m 3ms\u001b[0m\r\n",
                    "output_type": "stream"
                },
                {
                    "name": "stdout",
                    "text": "\u001b[91m        Expected collection sa to contain 'THEBEARD\\Rob', because The account that is the job owner is not what was expected, but it was not found.\u001b[0m\r\n",
                    "output_type": "stream"
                },
                {
                    "name": "stdout",
                    "text": "\u001b[91m        193:                                     $psitem.OwnerLoginName | Should -BeIn $TargetOwner -Because \"The account that is the job owner is not what was expected\"\u001b[0m\r\n",
                    "output_type": "stream"
                },
                {
                    "name": "stdout",
                    "text": "\u001b[91m        at <ScriptBlock>, D:\\OneDrive\\Documents\\GitHub\\dbachecks\\checks\\Agent.Tests.ps1: line 193\u001b[0m\r\n",
                    "output_type": "stream"
                },
                {
                    "name": "stdout",
                    "text": "\u001b[91m      [-] Job SQLWATCH-LOGGER-WHOISACTIVE  - owner THEBEARD\\Rob should be in this list ( sa ) on SQL2017N5\u001b[0m",
                    "output_type": "stream"
                },
                {
                    "name": "stdout",
                    "text": "\u001b[90m 3ms\u001b[0m\r\n",
                    "output_type": "stream"
                },
                {
                    "name": "stdout",
                    "text": "\u001b[91m        Expected collection sa to contain 'THEBEARD\\Rob', because The account that is the job owner is not what was expected, but it was not found.\u001b[0m\r\n",
                    "output_type": "stream"
                },
                {
                    "name": "stdout",
                    "text": "\u001b[91m        193:                                     $psitem.OwnerLoginName | Should -BeIn $TargetOwner -Because \"The account that is the job owner is not what was expected\"\u001b[0m\r\n",
                    "output_type": "stream"
                },
                {
                    "name": "stdout",
                    "text": "\u001b[91m        at <ScriptBlock>, D:\\OneDrive\\Documents\\GitHub\\dbachecks\\checks\\Agent.Tests.ps1: line 193\u001b[0m\r\n",
                    "output_type": "stream"
                },
                {
                    "name": "stdout",
                    "text": "\u001b[91m      [-] Job SSIS Server Maintenance Job  - owner ##MS_SSISServerCleanupJobLogin## should be in this list ( sa ) on SQL2017N5\u001b[0m",
                    "output_type": "stream"
                },
                {
                    "name": "stdout",
                    "text": "\u001b[90m 3ms\u001b[0m\r\n",
                    "output_type": "stream"
                },
                {
                    "name": "stdout",
                    "text": "\u001b[91m        Expected collection sa to contain '##MS_SSISServerCleanupJobLogin##', because The account that is the job owner is not what was expected, but it was not found.\u001b[0m\r\n",
                    "output_type": "stream"
                },
                {
                    "name": "stdout",
                    "text": "\u001b[91m        193:                                     $psitem.OwnerLoginName | Should -BeIn $TargetOwner -Because \"The account that is the job owner is not what was expected\"\u001b[0m\r\n",
                    "output_type": "stream"
                },
                {
                    "name": "stdout",
                    "text": "\u001b[91m        at <ScriptBlock>, D:\\OneDrive\\Documents\\GitHub\\dbachecks\\checks\\Agent.Tests.ps1: line 193\u001b[0m\r\n",
                    "output_type": "stream"
                },
                {
                    "name": "stdout",
                    "text": "\r\n",
                    "output_type": "stream"
                },
                {
                    "name": "stdout",
                    "text": "\u001b[92m  Describing Agent Alerts\u001b[0m\r\n",
                    "output_type": "stream"
                },
                {
                    "name": "stdout",
                    "text": "\r\n",
                    "output_type": "stream"
                },
                {
                    "name": "stdout",
                    "text": "\u001b[92m    Context Testing Agent Alerts Severity exists on SQL2017N5\u001b[0m\r\n",
                    "output_type": "stream"
                },
                {
                    "name": "stdout",
                    "text": "\u001b[91m      [-] Severity 16 Alert should exist on SQL2017N5\u001b[0m",
                    "output_type": "stream"
                },
                {
                    "name": "stdout",
                    "text": "\u001b[90m 9ms\u001b[0m\r\n",
                    "output_type": "stream"
                },
                {
                    "name": "stdout",
                    "text": "\u001b[91m        Expected $true, because Recommended Agent Alerts to exists http://blog.extreme-advice.com/2013/01/29/list-of-errors-and-severity-level-in-sql-server-with-catalog-view-sysmessages/, but got $null.\u001b[0m\r\n",
                    "output_type": "stream"
                },
                {
                    "name": "stdout",
                    "text": "\u001b[91m        223:                                     ($alerts.Where{ $psitem.Severity -eq $sev }) | Should -be $true -Because \"Recommended Agent Alerts to exists http://blog.extreme-advice.com/2013/01/29/list-of-errors-and-severity-level-in-sql-server-with-catalog-view-sysmessages/\"\u001b[0m\r\n",
                    "output_type": "stream"
                },
                {
                    "name": "stdout",
                    "text": "\u001b[91m        at <ScriptBlock>, D:\\OneDrive\\Documents\\GitHub\\dbachecks\\checks\\Agent.Tests.ps1: line 223\u001b[0m\r\n",
                    "output_type": "stream"
                },
                {
                    "name": "stdout",
                    "text": "\u001b[91m      [-] Severity 16 Alert should be enabled on SQL2017N5\u001b[0m",
                    "output_type": "stream"
                },
                {
                    "name": "stdout",
                    "text": "\u001b[90m 8ms\u001b[0m\r\n",
                    "output_type": "stream"
                },
                {
                    "name": "stdout",
                    "text": "\u001b[91m        Expected $true, because Configured alerts should be enabled, but got $null.\u001b[0m\r\n",
                    "output_type": "stream"
                },
                {
                    "name": "stdout",
                    "text": "\u001b[91m        226:                                     ($alerts.Where{ $psitem.Severity -eq $sev }) | Should -be $true -Because \"Configured alerts should be enabled\"\u001b[0m\r\n",
                    "output_type": "stream"
                },
                {
                    "name": "stdout",
                    "text": "\u001b[91m        at <ScriptBlock>, D:\\OneDrive\\Documents\\GitHub\\dbachecks\\checks\\Agent.Tests.ps1: line 226\u001b[0m\r\n",
                    "output_type": "stream"
                },
                {
                    "name": "stdout",
                    "text": "\u001b[91m      [-] Severity 16 Alert should have a notification on SQL2017N5\u001b[0m",
                    "output_type": "stream"
                },
                {
                    "name": "stdout",
                    "text": "\u001b[90m 9ms\u001b[0m\r\n",
                    "output_type": "stream"
                },
                {
                    "name": "stdout",
                    "text": "\u001b[91m        Expected $true, because Should notify by Agent notifications, but got $false.\u001b[0m\r\n",
                    "output_type": "stream"
                },
                {
                    "name": "stdout",
                    "text": "\u001b[91m        235:                                         ($alerts.Where{ $psitem.Severity -eq $sev }).HasNotification -in 1, 2, 3, 4, 5, 6, 7 | Should -be $true -Because \"Should notify by Agent notifications\"\u001b[0m\r\n",
                    "output_type": "stream"
                },
                {
                    "name": "stdout",
                    "text": "\u001b[91m        at <ScriptBlock>, D:\\OneDrive\\Documents\\GitHub\\dbachecks\\checks\\Agent.Tests.ps1: line 235\u001b[0m\r\n",
                    "output_type": "stream"
                },
                {
                    "name": "stdout",
                    "text": "\u001b[91m      [-] Severity 17 Alert should exist on SQL2017N5\u001b[0m",
                    "output_type": "stream"
                },
                {
                    "name": "stdout",
                    "text": "\u001b[90m 3ms\u001b[0m\r\n",
                    "output_type": "stream"
                },
                {
                    "name": "stdout",
                    "text": "\u001b[91m        Expected $true, because Recommended Agent Alerts to exists http://blog.extreme-advice.com/2013/01/29/list-of-errors-and-severity-level-in-sql-server-with-catalog-view-sysmessages/, but got $null.\u001b[0m\r\n",
                    "output_type": "stream"
                },
                {
                    "name": "stdout",
                    "text": "\u001b[91m        223:                                     ($alerts.Where{ $psitem.Severity -eq $sev }) | Should -be $true -Because \"Recommended Agent Alerts to exists http://blog.extreme-advice.com/2013/01/29/list-of-errors-and-severity-level-in-sql-server-with-catalog-view-sysmessages/\"\u001b[0m\r\n",
                    "output_type": "stream"
                },
                {
                    "name": "stdout",
                    "text": "\u001b[91m        at <ScriptBlock>, D:\\OneDrive\\Documents\\GitHub\\dbachecks\\checks\\Agent.Tests.ps1: line 223\u001b[0m\r\n",
                    "output_type": "stream"
                },
                {
                    "name": "stdout",
                    "text": "\u001b[91m      [-] Severity 17 Alert should be enabled on SQL2017N5\u001b[0m",
                    "output_type": "stream"
                },
                {
                    "name": "stdout",
                    "text": "\u001b[90m 2ms\u001b[0m\r\n",
                    "output_type": "stream"
                },
                {
                    "name": "stdout",
                    "text": "\u001b[91m        Expected $true, because Configured alerts should be enabled, but got $null.\u001b[0m\r\n",
                    "output_type": "stream"
                },
                {
                    "name": "stdout",
                    "text": "\u001b[91m        226:                                     ($alerts.Where{ $psitem.Severity -eq $sev }) | Should -be $true -Because \"Configured alerts should be enabled\"\u001b[0m\r\n",
                    "output_type": "stream"
                },
                {
                    "name": "stdout",
                    "text": "\u001b[91m        at <ScriptBlock>, D:\\OneDrive\\Documents\\GitHub\\dbachecks\\checks\\Agent.Tests.ps1: line 226\u001b[0m\r\n",
                    "output_type": "stream"
                },
                {
                    "name": "stdout",
                    "text": "\u001b[91m      [-] Severity 17 Alert should have a notification on SQL2017N5\u001b[0m",
                    "output_type": "stream"
                },
                {
                    "name": "stdout",
                    "text": "\u001b[90m 4ms\u001b[0m\r\n",
                    "output_type": "stream"
                },
                {
                    "name": "stdout",
                    "text": "\u001b[91m        Expected $true, because Should notify by Agent notifications, but got $false.\u001b[0m\r\n",
                    "output_type": "stream"
                },
                {
                    "name": "stdout",
                    "text": "\u001b[91m        235:                                         ($alerts.Where{ $psitem.Severity -eq $sev }).HasNotification -in 1, 2, 3, 4, 5, 6, 7 | Should -be $true -Because \"Should notify by Agent notifications\"\u001b[0m\r\n",
                    "output_type": "stream"
                },
                {
                    "name": "stdout",
                    "text": "\u001b[91m        at <ScriptBlock>, D:\\OneDrive\\Documents\\GitHub\\dbachecks\\checks\\Agent.Tests.ps1: line 235\u001b[0m\r\n",
                    "output_type": "stream"
                },
                {
                    "name": "stdout",
                    "text": "\u001b[91m      [-] Severity 18 Alert should exist on SQL2017N5\u001b[0m",
                    "output_type": "stream"
                },
                {
                    "name": "stdout",
                    "text": "\u001b[90m 4ms\u001b[0m\r\n",
                    "output_type": "stream"
                },
                {
                    "name": "stdout",
                    "text": "\u001b[91m        Expected $true, because Recommended Agent Alerts to exists http://blog.extreme-advice.com/2013/01/29/list-of-errors-and-severity-level-in-sql-server-with-catalog-view-sysmessages/, but got $null.\u001b[0m\r\n",
                    "output_type": "stream"
                },
                {
                    "name": "stdout",
                    "text": "\u001b[91m        223:                                     ($alerts.Where{ $psitem.Severity -eq $sev }) | Should -be $true -Because \"Recommended Agent Alerts to exists http://blog.extreme-advice.com/2013/01/29/list-of-errors-and-severity-level-in-sql-server-with-catalog-view-sysmessages/\"\u001b[0m\r\n",
                    "output_type": "stream"
                },
                {
                    "name": "stdout",
                    "text": "\u001b[91m        at <ScriptBlock>, D:\\OneDrive\\Documents\\GitHub\\dbachecks\\checks\\Agent.Tests.ps1: line 223\u001b[0m\r\n",
                    "output_type": "stream"
                },
                {
                    "name": "stdout",
                    "text": "\u001b[91m      [-] Severity 18 Alert should be enabled on SQL2017N5\u001b[0m",
                    "output_type": "stream"
                },
                {
                    "name": "stdout",
                    "text": "\u001b[90m 4ms\u001b[0m\r\n",
                    "output_type": "stream"
                },
                {
                    "name": "stdout",
                    "text": "\u001b[91m        Expected $true, because Configured alerts should be enabled, but got $null.\u001b[0m\r\n",
                    "output_type": "stream"
                },
                {
                    "name": "stdout",
                    "text": "\u001b[91m        226:                                     ($alerts.Where{ $psitem.Severity -eq $sev }) | Should -be $true -Because \"Configured alerts should be enabled\"\u001b[0m\r\n",
                    "output_type": "stream"
                },
                {
                    "name": "stdout",
                    "text": "\u001b[91m        at <ScriptBlock>, D:\\OneDrive\\Documents\\GitHub\\dbachecks\\checks\\Agent.Tests.ps1: line 226\u001b[0m\r\n",
                    "output_type": "stream"
                },
                {
                    "name": "stdout",
                    "text": "\u001b[91m      [-] Severity 18 Alert should have a notification on SQL2017N5\u001b[0m",
                    "output_type": "stream"
                },
                {
                    "name": "stdout",
                    "text": "\u001b[90m 3ms\u001b[0m\r\n",
                    "output_type": "stream"
                },
                {
                    "name": "stdout",
                    "text": "\u001b[91m        Expected $true, because Should notify by Agent notifications, but got $false.\u001b[0m\r\n",
                    "output_type": "stream"
                },
                {
                    "name": "stdout",
                    "text": "\u001b[91m        235:                                         ($alerts.Where{ $psitem.Severity -eq $sev }).HasNotification -in 1, 2, 3, 4, 5, 6, 7 | Should -be $true -Because \"Should notify by Agent notifications\"\u001b[0m\r\n",
                    "output_type": "stream"
                },
                {
                    "name": "stdout",
                    "text": "\u001b[91m        at <ScriptBlock>, D:\\OneDrive\\Documents\\GitHub\\dbachecks\\checks\\Agent.Tests.ps1: line 235\u001b[0m\r\n",
                    "output_type": "stream"
                },
                {
                    "name": "stdout",
                    "text": "\u001b[91m      [-] Severity 19 Alert should exist on SQL2017N5\u001b[0m",
                    "output_type": "stream"
                },
                {
                    "name": "stdout",
                    "text": "\u001b[90m 3ms\u001b[0m\r\n",
                    "output_type": "stream"
                },
                {
                    "name": "stdout",
                    "text": "\u001b[91m        Expected $true, because Recommended Agent Alerts to exists http://blog.extreme-advice.com/2013/01/29/list-of-errors-and-severity-level-in-sql-server-with-catalog-view-sysmessages/, but got $null.\u001b[0m\r\n",
                    "output_type": "stream"
                },
                {
                    "name": "stdout",
                    "text": "\u001b[91m        223:                                     ($alerts.Where{ $psitem.Severity -eq $sev }) | Should -be $true -Because \"Recommended Agent Alerts to exists http://blog.extreme-advice.com/2013/01/29/list-of-errors-and-severity-level-in-sql-server-with-catalog-view-sysmessages/\"\u001b[0m\r\n",
                    "output_type": "stream"
                },
                {
                    "name": "stdout",
                    "text": "\u001b[91m        at <ScriptBlock>, D:\\OneDrive\\Documents\\GitHub\\dbachecks\\checks\\Agent.Tests.ps1: line 223\u001b[0m\r\n",
                    "output_type": "stream"
                },
                {
                    "name": "stdout",
                    "text": "\u001b[91m      [-] Severity 19 Alert should be enabled on SQL2017N5\u001b[0m",
                    "output_type": "stream"
                },
                {
                    "name": "stdout",
                    "text": "\u001b[90m 3ms\u001b[0m\r\n",
                    "output_type": "stream"
                },
                {
                    "name": "stdout",
                    "text": "\u001b[91m        Expected $true, because Configured alerts should be enabled, but got $null.\u001b[0m\r\n",
                    "output_type": "stream"
                },
                {
                    "name": "stdout",
                    "text": "\u001b[91m        226:                                     ($alerts.Where{ $psitem.Severity -eq $sev }) | Should -be $true -Because \"Configured alerts should be enabled\"\u001b[0m\r\n",
                    "output_type": "stream"
                },
                {
                    "name": "stdout",
                    "text": "\u001b[91m        at <ScriptBlock>, D:\\OneDrive\\Documents\\GitHub\\dbachecks\\checks\\Agent.Tests.ps1: line 226\u001b[0m\r\n",
                    "output_type": "stream"
                },
                {
                    "name": "stdout",
                    "text": "\u001b[91m      [-] Severity 19 Alert should have a notification on SQL2017N5\u001b[0m",
                    "output_type": "stream"
                },
                {
                    "name": "stdout",
                    "text": "\u001b[90m 3ms\u001b[0m\r\n",
                    "output_type": "stream"
                },
                {
                    "name": "stdout",
                    "text": "\u001b[91m        Expected $true, because Should notify by Agent notifications, but got $false.\u001b[0m\r\n",
                    "output_type": "stream"
                },
                {
                    "name": "stdout",
                    "text": "\u001b[91m        235:                                         ($alerts.Where{ $psitem.Severity -eq $sev }).HasNotification -in 1, 2, 3, 4, 5, 6, 7 | Should -be $true -Because \"Should notify by Agent notifications\"\u001b[0m\r\n",
                    "output_type": "stream"
                },
                {
                    "name": "stdout",
                    "text": "\u001b[91m        at <ScriptBlock>, D:\\OneDrive\\Documents\\GitHub\\dbachecks\\checks\\Agent.Tests.ps1: line 235\u001b[0m\r\n",
                    "output_type": "stream"
                },
                {
                    "name": "stdout",
                    "text": "\u001b[91m      [-] Severity 20 Alert should exist on SQL2017N5\u001b[0m",
                    "output_type": "stream"
                },
                {
                    "name": "stdout",
                    "text": "\u001b[90m 3ms\u001b[0m\r\n",
                    "output_type": "stream"
                },
                {
                    "name": "stdout",
                    "text": "\u001b[91m        Expected $true, because Recommended Agent Alerts to exists http://blog.extreme-advice.com/2013/01/29/list-of-errors-and-severity-level-in-sql-server-with-catalog-view-sysmessages/, but got $null.\u001b[0m\r\n",
                    "output_type": "stream"
                },
                {
                    "name": "stdout",
                    "text": "\u001b[91m        223:                                     ($alerts.Where{ $psitem.Severity -eq $sev }) | Should -be $true -Because \"Recommended Agent Alerts to exists http://blog.extreme-advice.com/2013/01/29/list-of-errors-and-severity-level-in-sql-server-with-catalog-view-sysmessages/\"\u001b[0m\r\n",
                    "output_type": "stream"
                },
                {
                    "name": "stdout",
                    "text": "\u001b[91m        at <ScriptBlock>, D:\\OneDrive\\Documents\\GitHub\\dbachecks\\checks\\Agent.Tests.ps1: line 223\u001b[0m\r\n",
                    "output_type": "stream"
                },
                {
                    "name": "stdout",
                    "text": "\u001b[91m      [-] Severity 20 Alert should be enabled on SQL2017N5\u001b[0m",
                    "output_type": "stream"
                },
                {
                    "name": "stdout",
                    "text": "\u001b[90m 3ms\u001b[0m\r\n",
                    "output_type": "stream"
                },
                {
                    "name": "stdout",
                    "text": "\u001b[91m        Expected $true, because Configured alerts should be enabled, but got $null.\u001b[0m\r\n",
                    "output_type": "stream"
                },
                {
                    "name": "stdout",
                    "text": "\u001b[91m        226:                                     ($alerts.Where{ $psitem.Severity -eq $sev }) | Should -be $true -Because \"Configured alerts should be enabled\"\u001b[0m\r\n",
                    "output_type": "stream"
                },
                {
                    "name": "stdout",
                    "text": "\u001b[91m        at <ScriptBlock>, D:\\OneDrive\\Documents\\GitHub\\dbachecks\\checks\\Agent.Tests.ps1: line 226\u001b[0m\r\n",
                    "output_type": "stream"
                },
                {
                    "name": "stdout",
                    "text": "\u001b[91m      [-] Severity 20 Alert should have a notification on SQL2017N5\u001b[0m",
                    "output_type": "stream"
                },
                {
                    "name": "stdout",
                    "text": "\u001b[90m 3ms\u001b[0m\r\n",
                    "output_type": "stream"
                },
                {
                    "name": "stdout",
                    "text": "\u001b[91m        Expected $true, because Should notify by Agent notifications, but got $false.\u001b[0m\r\n",
                    "output_type": "stream"
                },
                {
                    "name": "stdout",
                    "text": "\u001b[91m        235:                                         ($alerts.Where{ $psitem.Severity -eq $sev }).HasNotification -in 1, 2, 3, 4, 5, 6, 7 | Should -be $true -Because \"Should notify by Agent notifications\"\u001b[0m\r\n",
                    "output_type": "stream"
                },
                {
                    "name": "stdout",
                    "text": "\u001b[91m        at <ScriptBlock>, D:\\OneDrive\\Documents\\GitHub\\dbachecks\\checks\\Agent.Tests.ps1: line 235\u001b[0m\r\n",
                    "output_type": "stream"
                },
                {
                    "name": "stdout",
                    "text": "\u001b[91m      [-] Severity 21 Alert should exist on SQL2017N5\u001b[0m",
                    "output_type": "stream"
                },
                {
                    "name": "stdout",
                    "text": "\u001b[90m 4ms\u001b[0m\r\n",
                    "output_type": "stream"
                },
                {
                    "name": "stdout",
                    "text": "\u001b[91m        Expected $true, because Recommended Agent Alerts to exists http://blog.extreme-advice.com/2013/01/29/list-of-errors-and-severity-level-in-sql-server-with-catalog-view-sysmessages/, but got $null.\u001b[0m\r\n",
                    "output_type": "stream"
                },
                {
                    "name": "stdout",
                    "text": "\u001b[91m        223:                                     ($alerts.Where{ $psitem.Severity -eq $sev }) | Should -be $true -Because \"Recommended Agent Alerts to exists http://blog.extreme-advice.com/2013/01/29/list-of-errors-and-severity-level-in-sql-server-with-catalog-view-sysmessages/\"\u001b[0m\r\n",
                    "output_type": "stream"
                },
                {
                    "name": "stdout",
                    "text": "\u001b[91m        at <ScriptBlock>, D:\\OneDrive\\Documents\\GitHub\\dbachecks\\checks\\Agent.Tests.ps1: line 223\u001b[0m\r\n",
                    "output_type": "stream"
                },
                {
                    "name": "stdout",
                    "text": "\u001b[91m      [-] Severity 21 Alert should be enabled on SQL2017N5\u001b[0m",
                    "output_type": "stream"
                },
                {
                    "name": "stdout",
                    "text": "\u001b[90m 3ms\u001b[0m\r\n",
                    "output_type": "stream"
                },
                {
                    "name": "stdout",
                    "text": "\u001b[91m        Expected $true, because Configured alerts should be enabled, but got $null.\u001b[0m\r\n",
                    "output_type": "stream"
                },
                {
                    "name": "stdout",
                    "text": "\u001b[91m        226:                                     ($alerts.Where{ $psitem.Severity -eq $sev }) | Should -be $true -Because \"Configured alerts should be enabled\"\u001b[0m\r\n",
                    "output_type": "stream"
                },
                {
                    "name": "stdout",
                    "text": "\u001b[91m        at <ScriptBlock>, D:\\OneDrive\\Documents\\GitHub\\dbachecks\\checks\\Agent.Tests.ps1: line 226\u001b[0m\r\n",
                    "output_type": "stream"
                },
                {
                    "name": "stdout",
                    "text": "\u001b[91m      [-] Severity 21 Alert should have a notification on SQL2017N5\u001b[0m",
                    "output_type": "stream"
                },
                {
                    "name": "stdout",
                    "text": "\u001b[90m 3ms\u001b[0m\r\n",
                    "output_type": "stream"
                },
                {
                    "name": "stdout",
                    "text": "\u001b[91m        Expected $true, because Should notify by Agent notifications, but got $false.\u001b[0m\r\n",
                    "output_type": "stream"
                },
                {
                    "name": "stdout",
                    "text": "\u001b[91m        235:                                         ($alerts.Where{ $psitem.Severity -eq $sev }).HasNotification -in 1, 2, 3, 4, 5, 6, 7 | Should -be $true -Because \"Should notify by Agent notifications\"\u001b[0m\r\n",
                    "output_type": "stream"
                },
                {
                    "name": "stdout",
                    "text": "\u001b[91m        at <ScriptBlock>, D:\\OneDrive\\Documents\\GitHub\\dbachecks\\checks\\Agent.Tests.ps1: line 235\u001b[0m\r\n",
                    "output_type": "stream"
                },
                {
                    "name": "stdout",
                    "text": "\u001b[91m      [-] Severity 22 Alert should exist on SQL2017N5\u001b[0m",
                    "output_type": "stream"
                },
                {
                    "name": "stdout",
                    "text": "\u001b[90m 4ms\u001b[0m\r\n",
                    "output_type": "stream"
                },
                {
                    "name": "stdout",
                    "text": "\u001b[91m        Expected $true, because Recommended Agent Alerts to exists http://blog.extreme-advice.com/2013/01/29/list-of-errors-and-severity-level-in-sql-server-with-catalog-view-sysmessages/, but got $null.\u001b[0m\r\n",
                    "output_type": "stream"
                },
                {
                    "name": "stdout",
                    "text": "\u001b[91m        223:                                     ($alerts.Where{ $psitem.Severity -eq $sev }) | Should -be $true -Because \"Recommended Agent Alerts to exists http://blog.extreme-advice.com/2013/01/29/list-of-errors-and-severity-level-in-sql-server-with-catalog-view-sysmessages/\"\u001b[0m\r\n",
                    "output_type": "stream"
                },
                {
                    "name": "stdout",
                    "text": "\u001b[91m        at <ScriptBlock>, D:\\OneDrive\\Documents\\GitHub\\dbachecks\\checks\\Agent.Tests.ps1: line 223\u001b[0m\r\n",
                    "output_type": "stream"
                },
                {
                    "name": "stdout",
                    "text": "\u001b[91m      [-] Severity 22 Alert should be enabled on SQL2017N5\u001b[0m",
                    "output_type": "stream"
                },
                {
                    "name": "stdout",
                    "text": "\u001b[90m 3ms\u001b[0m\r\n",
                    "output_type": "stream"
                },
                {
                    "name": "stdout",
                    "text": "\u001b[91m        Expected $true, because Configured alerts should be enabled, but got $null.\u001b[0m\r\n",
                    "output_type": "stream"
                },
                {
                    "name": "stdout",
                    "text": "\u001b[91m        226:                                     ($alerts.Where{ $psitem.Severity -eq $sev }) | Should -be $true -Because \"Configured alerts should be enabled\"\u001b[0m\r\n",
                    "output_type": "stream"
                },
                {
                    "name": "stdout",
                    "text": "\u001b[91m        at <ScriptBlock>, D:\\OneDrive\\Documents\\GitHub\\dbachecks\\checks\\Agent.Tests.ps1: line 226\u001b[0m\r\n",
                    "output_type": "stream"
                },
                {
                    "name": "stdout",
                    "text": "\u001b[91m      [-] Severity 22 Alert should have a notification on SQL2017N5\u001b[0m",
                    "output_type": "stream"
                },
                {
                    "name": "stdout",
                    "text": "\u001b[90m 3ms\u001b[0m\r\n",
                    "output_type": "stream"
                },
                {
                    "name": "stdout",
                    "text": "\u001b[91m        Expected $true, because Should notify by Agent notifications, but got $false.\u001b[0m\r\n",
                    "output_type": "stream"
                },
                {
                    "name": "stdout",
                    "text": "\u001b[91m        235:                                         ($alerts.Where{ $psitem.Severity -eq $sev }).HasNotification -in 1, 2, 3, 4, 5, 6, 7 | Should -be $true -Because \"Should notify by Agent notifications\"\u001b[0m\r\n",
                    "output_type": "stream"
                },
                {
                    "name": "stdout",
                    "text": "\u001b[91m        at <ScriptBlock>, D:\\OneDrive\\Documents\\GitHub\\dbachecks\\checks\\Agent.Tests.ps1: line 235\u001b[0m\r\n",
                    "output_type": "stream"
                },
                {
                    "name": "stdout",
                    "text": "\u001b[91m      [-] Severity 23 Alert should exist on SQL2017N5\u001b[0m",
                    "output_type": "stream"
                },
                {
                    "name": "stdout",
                    "text": "\u001b[90m 3ms\u001b[0m\r\n",
                    "output_type": "stream"
                },
                {
                    "name": "stdout",
                    "text": "\u001b[91m        Expected $true, because Recommended Agent Alerts to exists http://blog.extreme-advice.com/2013/01/29/list-of-errors-and-severity-level-in-sql-server-with-catalog-view-sysmessages/, but got $null.\u001b[0m\r\n",
                    "output_type": "stream"
                },
                {
                    "name": "stdout",
                    "text": "\u001b[91m        223:                                     ($alerts.Where{ $psitem.Severity -eq $sev }) | Should -be $true -Because \"Recommended Agent Alerts to exists http://blog.extreme-advice.com/2013/01/29/list-of-errors-and-severity-level-in-sql-server-with-catalog-view-sysmessages/\"\u001b[0m\r\n",
                    "output_type": "stream"
                },
                {
                    "name": "stdout",
                    "text": "\u001b[91m        at <ScriptBlock>, D:\\OneDrive\\Documents\\GitHub\\dbachecks\\checks\\Agent.Tests.ps1: line 223\u001b[0m\r\n",
                    "output_type": "stream"
                },
                {
                    "name": "stdout",
                    "text": "\u001b[91m      [-] Severity 23 Alert should be enabled on SQL2017N5\u001b[0m",
                    "output_type": "stream"
                },
                {
                    "name": "stdout",
                    "text": "\u001b[90m 3ms\u001b[0m\r\n",
                    "output_type": "stream"
                },
                {
                    "name": "stdout",
                    "text": "\u001b[91m        Expected $true, because Configured alerts should be enabled, but got $null.\u001b[0m\r\n",
                    "output_type": "stream"
                },
                {
                    "name": "stdout",
                    "text": "\u001b[91m        226:                                     ($alerts.Where{ $psitem.Severity -eq $sev }) | Should -be $true -Because \"Configured alerts should be enabled\"\u001b[0m\r\n",
                    "output_type": "stream"
                },
                {
                    "name": "stdout",
                    "text": "\u001b[91m        at <ScriptBlock>, D:\\OneDrive\\Documents\\GitHub\\dbachecks\\checks\\Agent.Tests.ps1: line 226\u001b[0m\r\n",
                    "output_type": "stream"
                },
                {
                    "name": "stdout",
                    "text": "\u001b[91m      [-] Severity 23 Alert should have a notification on SQL2017N5\u001b[0m",
                    "output_type": "stream"
                },
                {
                    "name": "stdout",
                    "text": "\u001b[90m 3ms\u001b[0m\r\n",
                    "output_type": "stream"
                },
                {
                    "name": "stdout",
                    "text": "\u001b[91m        Expected $true, because Should notify by Agent notifications, but got $false.\u001b[0m\r\n",
                    "output_type": "stream"
                },
                {
                    "name": "stdout",
                    "text": "\u001b[91m        235:                                         ($alerts.Where{ $psitem.Severity -eq $sev }).HasNotification -in 1, 2, 3, 4, 5, 6, 7 | Should -be $true -Because \"Should notify by Agent notifications\"\u001b[0m\r\n",
                    "output_type": "stream"
                },
                {
                    "name": "stdout",
                    "text": "\u001b[91m        at <ScriptBlock>, D:\\OneDrive\\Documents\\GitHub\\dbachecks\\checks\\Agent.Tests.ps1: line 235\u001b[0m\r\n",
                    "output_type": "stream"
                },
                {
                    "name": "stdout",
                    "text": "\u001b[91m      [-] Severity 24 Alert should exist on SQL2017N5\u001b[0m",
                    "output_type": "stream"
                },
                {
                    "name": "stdout",
                    "text": "\u001b[90m 3ms\u001b[0m\r\n",
                    "output_type": "stream"
                },
                {
                    "name": "stdout",
                    "text": "\u001b[91m        Expected $true, because Recommended Agent Alerts to exists http://blog.extreme-advice.com/2013/01/29/list-of-errors-and-severity-level-in-sql-server-with-catalog-view-sysmessages/, but got $null.\u001b[0m\r\n",
                    "output_type": "stream"
                },
                {
                    "name": "stdout",
                    "text": "\u001b[91m        223:                                     ($alerts.Where{ $psitem.Severity -eq $sev }) | Should -be $true -Because \"Recommended Agent Alerts to exists http://blog.extreme-advice.com/2013/01/29/list-of-errors-and-severity-level-in-sql-server-with-catalog-view-sysmessages/\"\u001b[0m\r\n",
                    "output_type": "stream"
                },
                {
                    "name": "stdout",
                    "text": "\u001b[91m        at <ScriptBlock>, D:\\OneDrive\\Documents\\GitHub\\dbachecks\\checks\\Agent.Tests.ps1: line 223\u001b[0m\r\n",
                    "output_type": "stream"
                },
                {
                    "name": "stdout",
                    "text": "\u001b[91m      [-] Severity 24 Alert should be enabled on SQL2017N5\u001b[0m",
                    "output_type": "stream"
                },
                {
                    "name": "stdout",
                    "text": "\u001b[90m 3ms\u001b[0m\r\n",
                    "output_type": "stream"
                },
                {
                    "name": "stdout",
                    "text": "\u001b[91m        Expected $true, because Configured alerts should be enabled, but got $null.\u001b[0m\r\n",
                    "output_type": "stream"
                },
                {
                    "name": "stdout",
                    "text": "\u001b[91m        226:                                     ($alerts.Where{ $psitem.Severity -eq $sev }) | Should -be $true -Because \"Configured alerts should be enabled\"\u001b[0m\r\n",
                    "output_type": "stream"
                },
                {
                    "name": "stdout",
                    "text": "\u001b[91m        at <ScriptBlock>, D:\\OneDrive\\Documents\\GitHub\\dbachecks\\checks\\Agent.Tests.ps1: line 226\u001b[0m\r\n",
                    "output_type": "stream"
                },
                {
                    "name": "stdout",
                    "text": "\u001b[91m      [-] Severity 24 Alert should have a notification on SQL2017N5\u001b[0m",
                    "output_type": "stream"
                },
                {
                    "name": "stdout",
                    "text": "\u001b[90m 3ms\u001b[0m\r\n",
                    "output_type": "stream"
                },
                {
                    "name": "stdout",
                    "text": "\u001b[91m        Expected $true, because Should notify by Agent notifications, but got $false.\u001b[0m\r\n",
                    "output_type": "stream"
                },
                {
                    "name": "stdout",
                    "text": "\u001b[91m        235:                                         ($alerts.Where{ $psitem.Severity -eq $sev }).HasNotification -in 1, 2, 3, 4, 5, 6, 7 | Should -be $true -Because \"Should notify by Agent notifications\"\u001b[0m\r\n",
                    "output_type": "stream"
                },
                {
                    "name": "stdout",
                    "text": "\u001b[91m        at <ScriptBlock>, D:\\OneDrive\\Documents\\GitHub\\dbachecks\\checks\\Agent.Tests.ps1: line 235\u001b[0m\r\n",
                    "output_type": "stream"
                },
                {
                    "name": "stdout",
                    "text": "\u001b[91m      [-] Severity 25 Alert should exist on SQL2017N5\u001b[0m",
                    "output_type": "stream"
                },
                {
                    "name": "stdout",
                    "text": "\u001b[90m 3ms\u001b[0m\r\n",
                    "output_type": "stream"
                },
                {
                    "name": "stdout",
                    "text": "\u001b[91m        Expected $true, because Recommended Agent Alerts to exists http://blog.extreme-advice.com/2013/01/29/list-of-errors-and-severity-level-in-sql-server-with-catalog-view-sysmessages/, but got $null.\u001b[0m\r\n",
                    "output_type": "stream"
                },
                {
                    "name": "stdout",
                    "text": "\u001b[91m        223:                                     ($alerts.Where{ $psitem.Severity -eq $sev }) | Should -be $true -Because \"Recommended Agent Alerts to exists http://blog.extreme-advice.com/2013/01/29/list-of-errors-and-severity-level-in-sql-server-with-catalog-view-sysmessages/\"\u001b[0m\r\n",
                    "output_type": "stream"
                },
                {
                    "name": "stdout",
                    "text": "\u001b[91m        at <ScriptBlock>, D:\\OneDrive\\Documents\\GitHub\\dbachecks\\checks\\Agent.Tests.ps1: line 223\u001b[0m\r\n",
                    "output_type": "stream"
                },
                {
                    "name": "stdout",
                    "text": "\u001b[91m      [-] Severity 25 Alert should be enabled on SQL2017N5\u001b[0m",
                    "output_type": "stream"
                },
                {
                    "name": "stdout",
                    "text": "\u001b[90m 3ms\u001b[0m\r\n",
                    "output_type": "stream"
                },
                {
                    "name": "stdout",
                    "text": "\u001b[91m        Expected $true, because Configured alerts should be enabled, but got $null.\u001b[0m\r\n",
                    "output_type": "stream"
                },
                {
                    "name": "stdout",
                    "text": "\u001b[91m        226:                                     ($alerts.Where{ $psitem.Severity -eq $sev }) | Should -be $true -Because \"Configured alerts should be enabled\"\u001b[0m\r\n",
                    "output_type": "stream"
                },
                {
                    "name": "stdout",
                    "text": "\u001b[91m        at <ScriptBlock>, D:\\OneDrive\\Documents\\GitHub\\dbachecks\\checks\\Agent.Tests.ps1: line 226\u001b[0m\r\n",
                    "output_type": "stream"
                },
                {
                    "name": "stdout",
                    "text": "\u001b[91m      [-] Severity 25 Alert should have a notification on SQL2017N5\u001b[0m",
                    "output_type": "stream"
                },
                {
                    "name": "stdout",
                    "text": "\u001b[90m 3ms\u001b[0m\r\n",
                    "output_type": "stream"
                },
                {
                    "name": "stdout",
                    "text": "\u001b[91m        Expected $true, because Should notify by Agent notifications, but got $false.\u001b[0m\r\n",
                    "output_type": "stream"
                },
                {
                    "name": "stdout",
                    "text": "\u001b[91m        235:                                         ($alerts.Where{ $psitem.Severity -eq $sev }).HasNotification -in 1, 2, 3, 4, 5, 6, 7 | Should -be $true -Because \"Should notify by Agent notifications\"\u001b[0m\r\n",
                    "output_type": "stream"
                },
                {
                    "name": "stdout",
                    "text": "\u001b[91m        at <ScriptBlock>, D:\\OneDrive\\Documents\\GitHub\\dbachecks\\checks\\Agent.Tests.ps1: line 235\u001b[0m\r\n",
                    "output_type": "stream"
                },
                {
                    "name": "stdout",
                    "text": "\r\n",
                    "output_type": "stream"
                },
                {
                    "name": "stdout",
                    "text": "\u001b[92m    Context Testing Agent Alerts MessageID exists on SQL2017N5\u001b[0m\r\n",
                    "output_type": "stream"
                },
                {
                    "name": "stdout",
                    "text": "\u001b[91m      [-] Message_ID 823 Alert should exist on SQL2017N5\u001b[0m",
                    "output_type": "stream"
                },
                {
                    "name": "stdout",
                    "text": "\u001b[90m 10ms\u001b[0m\r\n",
                    "output_type": "stream"
                },
                {
                    "name": "stdout",
                    "text": "\u001b[91m        Expected $true, because Recommended Agent Alerts to exists http://blog.extreme-advice.com/2013/01/29/list-of-errors-and-severity-level-in-sql-server-with-catalog-view-sysmessages/, but got $null.\u001b[0m\r\n",
                    "output_type": "stream"
                },
                {
                    "name": "stdout",
                    "text": "\u001b[91m        243:                                     ($alerts.Where{ $psitem.messageid -eq $mid }) | Should -be $true -Because \"Recommended Agent Alerts to exists http://blog.extreme-advice.com/2013/01/29/list-of-errors-and-severity-level-in-sql-server-with-catalog-view-sysmessages/\"\u001b[0m\r\n",
                    "output_type": "stream"
                },
                {
                    "name": "stdout",
                    "text": "\u001b[91m        at <ScriptBlock>, D:\\OneDrive\\Documents\\GitHub\\dbachecks\\checks\\Agent.Tests.ps1: line 243\u001b[0m\r\n",
                    "output_type": "stream"
                },
                {
                    "name": "stdout",
                    "text": "\u001b[91m      [-] Message_ID 823 Alert should be enabled on SQL2017N5\u001b[0m",
                    "output_type": "stream"
                },
                {
                    "name": "stdout",
                    "text": "\u001b[90m 9ms\u001b[0m\r\n",
                    "output_type": "stream"
                },
                {
                    "name": "stdout",
                    "text": "\u001b[91m        Expected $true, because Configured alerts should be enabled, but got $null.\u001b[0m\r\n",
                    "output_type": "stream"
                },
                {
                    "name": "stdout",
                    "text": "\u001b[91m        246:                                     ($alerts.Where{ $psitem.messageid -eq $mid }) | Should -be $true -Because \"Configured alerts should be enabled\"\u001b[0m\r\n",
                    "output_type": "stream"
                },
                {
                    "name": "stdout",
                    "text": "\u001b[91m        at <ScriptBlock>, D:\\OneDrive\\Documents\\GitHub\\dbachecks\\checks\\Agent.Tests.ps1: line 246\u001b[0m\r\n",
                    "output_type": "stream"
                },
                {
                    "name": "stdout",
                    "text": "\u001b[91m      [-] Message_ID 823 Alert should have a notification on SQL2017N5\u001b[0m",
                    "output_type": "stream"
                },
                {
                    "name": "stdout",
                    "text": "\u001b[90m 9ms\u001b[0m\r\n",
                    "output_type": "stream"
                },
                {
                    "name": "stdout",
                    "text": "\u001b[91m        Expected $true, because Should notify by Agent notifications, but got $false.\u001b[0m\r\n",
                    "output_type": "stream"
                },
                {
                    "name": "stdout",
                    "text": "\u001b[91m        255:                                         ($alerts.Where{ $psitem.messageid -eq $mid }).HasNotification -in 1, 2, 3, 4, 5, 6, 7 | Should -be $true -Because \"Should notify by Agent notifications\"\u001b[0m\r\n",
                    "output_type": "stream"
                },
                {
                    "name": "stdout",
                    "text": "\u001b[91m        at <ScriptBlock>, D:\\OneDrive\\Documents\\GitHub\\dbachecks\\checks\\Agent.Tests.ps1: line 255\u001b[0m\r\n",
                    "output_type": "stream"
                },
                {
                    "name": "stdout",
                    "text": "\u001b[91m      [-] Message_ID 824 Alert should exist on SQL2017N5\u001b[0m",
                    "output_type": "stream"
                },
                {
                    "name": "stdout",
                    "text": "\u001b[90m 3ms\u001b[0m\r\n",
                    "output_type": "stream"
                },
                {
                    "name": "stdout",
                    "text": "\u001b[91m        Expected $true, because Recommended Agent Alerts to exists http://blog.extreme-advice.com/2013/01/29/list-of-errors-and-severity-level-in-sql-server-with-catalog-view-sysmessages/, but got $null.\u001b[0m\r\n",
                    "output_type": "stream"
                },
                {
                    "name": "stdout",
                    "text": "\u001b[91m        243:                                     ($alerts.Where{ $psitem.messageid -eq $mid }) | Should -be $true -Because \"Recommended Agent Alerts to exists http://blog.extreme-advice.com/2013/01/29/list-of-errors-and-severity-level-in-sql-server-with-catalog-view-sysmessages/\"\u001b[0m\r\n",
                    "output_type": "stream"
                },
                {
                    "name": "stdout",
                    "text": "\u001b[91m        at <ScriptBlock>, D:\\OneDrive\\Documents\\GitHub\\dbachecks\\checks\\Agent.Tests.ps1: line 243\u001b[0m\r\n",
                    "output_type": "stream"
                },
                {
                    "name": "stdout",
                    "text": "\u001b[91m      [-] Message_ID 824 Alert should be enabled on SQL2017N5\u001b[0m",
                    "output_type": "stream"
                },
                {
                    "name": "stdout",
                    "text": "\u001b[90m 3ms\u001b[0m\r\n",
                    "output_type": "stream"
                },
                {
                    "name": "stdout",
                    "text": "\u001b[91m        Expected $true, because Configured alerts should be enabled, but got $null.\u001b[0m\r\n",
                    "output_type": "stream"
                },
                {
                    "name": "stdout",
                    "text": "\u001b[91m        246:                                     ($alerts.Where{ $psitem.messageid -eq $mid }) | Should -be $true -Because \"Configured alerts should be enabled\"\u001b[0m\r\n",
                    "output_type": "stream"
                },
                {
                    "name": "stdout",
                    "text": "\u001b[91m        at <ScriptBlock>, D:\\OneDrive\\Documents\\GitHub\\dbachecks\\checks\\Agent.Tests.ps1: line 246\u001b[0m\r\n",
                    "output_type": "stream"
                },
                {
                    "name": "stdout",
                    "text": "\u001b[91m      [-] Message_ID 824 Alert should have a notification on SQL2017N5\u001b[0m",
                    "output_type": "stream"
                },
                {
                    "name": "stdout",
                    "text": "\u001b[90m 5ms\u001b[0m\r\n",
                    "output_type": "stream"
                },
                {
                    "name": "stdout",
                    "text": "\u001b[91m        Expected $true, because Should notify by Agent notifications, but got $false.\u001b[0m\r\n",
                    "output_type": "stream"
                },
                {
                    "name": "stdout",
                    "text": "\u001b[91m        255:                                         ($alerts.Where{ $psitem.messageid -eq $mid }).HasNotification -in 1, 2, 3, 4, 5, 6, 7 | Should -be $true -Because \"Should notify by Agent notifications\"\u001b[0m\r\n",
                    "output_type": "stream"
                },
                {
                    "name": "stdout",
                    "text": "\u001b[91m        at <ScriptBlock>, D:\\OneDrive\\Documents\\GitHub\\dbachecks\\checks\\Agent.Tests.ps1: line 255\u001b[0m\r\n",
                    "output_type": "stream"
                },
                {
                    "name": "stdout",
                    "text": "\u001b[91m      [-] Message_ID 825 Alert should exist on SQL2017N5\u001b[0m",
                    "output_type": "stream"
                },
                {
                    "name": "stdout",
                    "text": "\u001b[90m 3ms\u001b[0m\r\n",
                    "output_type": "stream"
                },
                {
                    "name": "stdout",
                    "text": "\u001b[91m        Expected $true, because Recommended Agent Alerts to exists http://blog.extreme-advice.com/2013/01/29/list-of-errors-and-severity-level-in-sql-server-with-catalog-view-sysmessages/, but got $null.\u001b[0m\r\n",
                    "output_type": "stream"
                },
                {
                    "name": "stdout",
                    "text": "\u001b[91m        243:                                     ($alerts.Where{ $psitem.messageid -eq $mid }) | Should -be $true -Because \"Recommended Agent Alerts to exists http://blog.extreme-advice.com/2013/01/29/list-of-errors-and-severity-level-in-sql-server-with-catalog-view-sysmessages/\"\u001b[0m\r\n",
                    "output_type": "stream"
                },
                {
                    "name": "stdout",
                    "text": "\u001b[91m        at <ScriptBlock>, D:\\OneDrive\\Documents\\GitHub\\dbachecks\\checks\\Agent.Tests.ps1: line 243\u001b[0m\r\n",
                    "output_type": "stream"
                },
                {
                    "name": "stdout",
                    "text": "\u001b[91m      [-] Message_ID 825 Alert should be enabled on SQL2017N5\u001b[0m",
                    "output_type": "stream"
                },
                {
                    "name": "stdout",
                    "text": "\u001b[90m 3ms\u001b[0m\r\n",
                    "output_type": "stream"
                },
                {
                    "name": "stdout",
                    "text": "\u001b[91m        Expected $true, because Configured alerts should be enabled, but got $null.\u001b[0m\r\n",
                    "output_type": "stream"
                },
                {
                    "name": "stdout",
                    "text": "\u001b[91m        246:                                     ($alerts.Where{ $psitem.messageid -eq $mid }) | Should -be $true -Because \"Configured alerts should be enabled\"\u001b[0m\r\n",
                    "output_type": "stream"
                },
                {
                    "name": "stdout",
                    "text": "\u001b[91m        at <ScriptBlock>, D:\\OneDrive\\Documents\\GitHub\\dbachecks\\checks\\Agent.Tests.ps1: line 246\u001b[0m\r\n",
                    "output_type": "stream"
                },
                {
                    "name": "stdout",
                    "text": "\u001b[91m      [-] Message_ID 825 Alert should have a notification on SQL2017N5\u001b[0m",
                    "output_type": "stream"
                },
                {
                    "name": "stdout",
                    "text": "\u001b[90m 3ms\u001b[0m\r\n",
                    "output_type": "stream"
                },
                {
                    "name": "stdout",
                    "text": "\u001b[91m        Expected $true, because Should notify by Agent notifications, but got $false.\u001b[0m\r\n",
                    "output_type": "stream"
                },
                {
                    "name": "stdout",
                    "text": "\u001b[91m        255:                                         ($alerts.Where{ $psitem.messageid -eq $mid }).HasNotification -in 1, 2, 3, 4, 5, 6, 7 | Should -be $true -Because \"Should notify by Agent notifications\"\u001b[0m\r\n",
                    "output_type": "stream"
                },
                {
                    "name": "stdout",
                    "text": "\u001b[91m        at <ScriptBlock>, D:\\OneDrive\\Documents\\GitHub\\dbachecks\\checks\\Agent.Tests.ps1: line 255\u001b[0m\r\n",
                    "output_type": "stream"
                },
                {
                    "name": "stdout",
                    "text": "\r\n",
                    "output_type": "stream"
                },
                {
                    "name": "stdout",
                    "text": "\u001b[92m  Describing Job History Configuration\u001b[0m\r\n",
                    "output_type": "stream"
                },
                {
                    "name": "stdout",
                    "text": "\r\n",
                    "output_type": "stream"
                },
                {
                    "name": "stdout",
                    "text": "\u001b[92m    Context Testing job history configuration on SQL2017N5\u001b[0m\r\n",
                    "output_type": "stream"
                },
                {
                    "name": "stdout",
                    "text": "\r\n",
                    "output_type": "stream"
                },
                {
                    "name": "stdout",
                    "text": "\u001b[92m  Describing Long Running Agent Jobs\u001b[0m\r\n",
                    "output_type": "stream"
                },
                {
                    "name": "stdout",
                    "text": "\r\n",
                    "output_type": "stream"
                },
                {
                    "name": "stdout",
                    "text": "\u001b[92m    Context Testing long running jobs on SQL2017N5\u001b[0m\r\n",
                    "output_type": "stream"
                },
                {
                    "name": "stdout",
                    "text": "\u001b[91m      [-] Running job SQLWATCH-INTERNAL-RETENTION duration should not be more than 50 % extra of the average run time on SQL2017N5\u001b[0m",
                    "output_type": "stream"
                },
                {
                    "name": "stdout",
                    "text": "\u001b[90m 13ms\u001b[0m\r\n",
                    "output_type": "stream"
                },
                {
                    "name": "stdout",
                    "text": "\u001b[91m        Expected the actual value to be less than 50, because The current running job SQLWATCH-INTERNAL-RETENTION has been running for 4079 seconds longer than the average run time. This is more than the 50 % specified as the maximum, but got 5229.\u001b[0m\r\n",
                    "output_type": "stream"
                },
                {
                    "name": "stdout",
                    "text": "\u001b[91m        40:     [math]::Round($runningjob.Diff/$runningjob.AvgSec * 100) | Should -BeLessThan $runningjobpercentage -Because \"The current running job $($runningjob.JobName) has been running for $($runningjob.Diff) seconds longer than the average run time. This is more than the $runningjobpercentage % specified as the maximum\"\u001b[0m\r\n",
                    "output_type": "stream"
                },
                {
                    "name": "stdout",
                    "text": "\u001b[91m        at Assert-LongRunningJobs, D:\\OneDrive\\Documents\\GitHub\\dbachecks\\internal\\assertions\\Agent.Assertions.ps1: line 40\u001b[0m\r\n",
                    "output_type": "stream"
                },
                {
                    "name": "stdout",
                    "text": "\u001b[91m        at <ScriptBlock>, D:\\OneDrive\\Documents\\GitHub\\dbachecks\\checks\\Agent.Tests.ps1: line 339\u001b[0m\r\n",
                    "output_type": "stream"
                },
                {
                    "name": "stdout",
                    "text": "\u001b[91m      [-] Running job SQLWATCH-INTERNAL-RETENTION duration should not be more than 50 % extra of the average run time on SQL2017N5\u001b[0m",
                    "output_type": "stream"
                },
                {
                    "name": "stdout",
                    "text": "\u001b[90m 4ms\u001b[0m\r\n",
                    "output_type": "stream"
                },
                {
                    "name": "stdout",
                    "text": "\u001b[91m        Expected the actual value to be less than 50, because The current running job SQLWATCH-INTERNAL-RETENTION has been running for 479 seconds longer than the average run time. This is more than the 50 % specified as the maximum, but got 614.\u001b[0m\r\n",
                    "output_type": "stream"
                },
                {
                    "name": "stdout",
                    "text": "\u001b[91m        40:     [math]::Round($runningjob.Diff/$runningjob.AvgSec * 100) | Should -BeLessThan $runningjobpercentage -Because \"The current running job $($runningjob.JobName) has been running for $($runningjob.Diff) seconds longer than the average run time. This is more than the $runningjobpercentage % specified as the maximum\"\u001b[0m\r\n",
                    "output_type": "stream"
                },
                {
                    "name": "stdout",
                    "text": "\u001b[91m        at Assert-LongRunningJobs, D:\\OneDrive\\Documents\\GitHub\\dbachecks\\internal\\assertions\\Agent.Assertions.ps1: line 40\u001b[0m\r\n",
                    "output_type": "stream"
                },
                {
                    "name": "stdout",
                    "text": "\u001b[91m        at <ScriptBlock>, D:\\OneDrive\\Documents\\GitHub\\dbachecks\\checks\\Agent.Tests.ps1: line 339\u001b[0m\r\n",
                    "output_type": "stream"
                },
                {
                    "name": "stdout",
                    "text": "\r\n",
                    "output_type": "stream"
                },
                {
                    "name": "stdout",
                    "text": "\u001b[92m  Describing Last Agent Job Run\u001b[0m\r\n",
                    "output_type": "stream"
                },
                {
                    "name": "stdout",
                    "text": "\r\n",
                    "output_type": "stream"
                },
                {
                    "name": "stdout",
                    "text": "\u001b[92m    Context Testing last job run time on SQL2017N5\u001b[0m\r\n",
                    "output_type": "stream"
                },
                {
                    "name": "stdout",
                    "text": "\u001b[91m      [-] Job SQLWATCH-LOGGER-INDEXES last run duration should be not be greater than 50 % extra of the average run time on SQL2017N5\u001b[0m",
                    "output_type": "stream"
                },
                {
                    "name": "stdout",
                    "text": "\u001b[90m 24ms\u001b[0m\r\n",
                    "output_type": "stream"
                },
                {
                    "name": "stdout",
                    "text": "\u001b[91m        Expected the actual value to be less than 50, because The last run of job SQLWATCH-LOGGER-INDEXES was 2 seconds. This is more than the 50 % specified as the maximum variance, but got 100.\u001b[0m\r\n",
                    "output_type": "stream"
                },
                {
                    "name": "stdout",
                    "text": "\u001b[91m        44:     [math]::Round($lastagentjobrun.Diff/$lastagentjobrun.AvgSec * 100) | Should -BeLessThan $runningjobpercentage -Because \"The last run of job $($lastagentjobrun.JobName) was $($lastagentjobrun.duration) seconds. This is more than the $runningjobpercentage % specified as the maximum variance\"\u001b[0m\r\n",
                    "output_type": "stream"
                },
                {
                    "name": "stdout",
                    "text": "\u001b[91m        at Assert-LastJobRun, D:\\OneDrive\\Documents\\GitHub\\dbachecks\\internal\\assertions\\Agent.Assertions.ps1: line 44\u001b[0m\r\n",
                    "output_type": "stream"
                },
                {
                    "name": "stdout",
                    "text": "\u001b[91m        at <ScriptBlock>, D:\\OneDrive\\Documents\\GitHub\\dbachecks\\checks\\Agent.Tests.ps1: line 408\u001b[0m\r\n",
                    "output_type": "stream"
                },
                {
                    "name": "stdout",
                    "text": "\u001b[91m      [-] Job IndexOptimize - USER_DATABASES last run duration should be not be greater than 50 % extra of the average run time on SQL2017N5\u001b[0m",
                    "output_type": "stream"
                },
                {
                    "name": "stdout",
                    "text": "\u001b[90m 5ms\u001b[0m\r\n",
                    "output_type": "stream"
                },
                {
                    "name": "stdout",
                    "text": "\u001b[91m        Expected the actual value to be less than 50, because The last run of job IndexOptimize - USER_DATABASES was 154 seconds. This is more than the 50 % specified as the maximum variance, but got 51.\u001b[0m\r\n",
                    "output_type": "stream"
                },
                {
                    "name": "stdout",
                    "text": "\u001b[91m        44:     [math]::Round($lastagentjobrun.Diff/$lastagentjobrun.AvgSec * 100) | Should -BeLessThan $runningjobpercentage -Because \"The last run of job $($lastagentjobrun.JobName) was $($lastagentjobrun.duration) seconds. This is more than the $runningjobpercentage % specified as the maximum variance\"\u001b[0m\r\n",
                    "output_type": "stream"
                },
                {
                    "name": "stdout",
                    "text": "\u001b[91m        at Assert-LastJobRun, D:\\OneDrive\\Documents\\GitHub\\dbachecks\\internal\\assertions\\Agent.Assertions.ps1: line 44\u001b[0m\r\n",
                    "output_type": "stream"
                },
                {
                    "name": "stdout",
                    "text": "\u001b[91m        at <ScriptBlock>, D:\\OneDrive\\Documents\\GitHub\\dbachecks\\checks\\Agent.Tests.ps1: line 408\u001b[0m\r\n",
                    "output_type": "stream"
                },
                {
                    "name": "stdout",
                    "text": "\u001b[91m      [-] Job SQLWATCH-LOGGER-AGENT-HISTORY last run duration should be not be greater than 50 % extra of the average run time on SQL2017N5\u001b[0m",
                    "output_type": "stream"
                },
                {
                    "name": "stdout",
                    "text": "\u001b[90m 5ms\u001b[0m\r\n",
                    "output_type": "stream"
                },
                {
                    "name": "stdout",
                    "text": "\u001b[91m        Expected the actual value to be less than 50, because The last run of job SQLWATCH-LOGGER-AGENT-HISTORY was 101 seconds. This is more than the 50 % specified as the maximum variance, but got 87.\u001b[0m\r\n",
                    "output_type": "stream"
                },
                {
                    "name": "stdout",
                    "text": "\u001b[91m        44:     [math]::Round($lastagentjobrun.Diff/$lastagentjobrun.AvgSec * 100) | Should -BeLessThan $runningjobpercentage -Because \"The last run of job $($lastagentjobrun.JobName) was $($lastagentjobrun.duration) seconds. This is more than the $runningjobpercentage % specified as the maximum variance\"\u001b[0m\r\n",
                    "output_type": "stream"
                },
                {
                    "name": "stdout",
                    "text": "\u001b[91m        at Assert-LastJobRun, D:\\OneDrive\\Documents\\GitHub\\dbachecks\\internal\\assertions\\Agent.Assertions.ps1: line 44\u001b[0m\r\n",
                    "output_type": "stream"
                },
                {
                    "name": "stdout",
                    "text": "\u001b[91m        at <ScriptBlock>, D:\\OneDrive\\Documents\\GitHub\\dbachecks\\checks\\Agent.Tests.ps1: line 408\u001b[0m\r\n",
                    "output_type": "stream"
                },
                {
                    "name": "stdout",
                    "text": "\u001b[91m      [-] Job DatabaseBackup - USER_DATABASES - FULL last run duration should be not be greater than 50 % extra of the average run time on SQL2017N5\u001b[0m",
                    "output_type": "stream"
                },
                {
                    "name": "stdout",
                    "text": "\u001b[90m 3ms\u001b[0m\r\n",
                    "output_type": "stream"
                },
                {
                    "name": "stdout",
                    "text": "\u001b[91m        Expected the actual value to be less than 50, because The last run of job DatabaseBackup - USER_DATABASES - FULL was 306 seconds. This is more than the 50 % specified as the maximum variance, but got 212.\u001b[0m\r\n",
                    "output_type": "stream"
                },
                {
                    "name": "stdout",
                    "text": "\u001b[91m        44:     [math]::Round($lastagentjobrun.Diff/$lastagentjobrun.AvgSec * 100) | Should -BeLessThan $runningjobpercentage -Because \"The last run of job $($lastagentjobrun.JobName) was $($lastagentjobrun.duration) seconds. This is more than the $runningjobpercentage % specified as the maximum variance\"\u001b[0m\r\n",
                    "output_type": "stream"
                },
                {
                    "name": "stdout",
                    "text": "\u001b[91m        at Assert-LastJobRun, D:\\OneDrive\\Documents\\GitHub\\dbachecks\\internal\\assertions\\Agent.Assertions.ps1: line 44\u001b[0m\r\n",
                    "output_type": "stream"
                },
                {
                    "name": "stdout",
                    "text": "\u001b[91m        at <ScriptBlock>, D:\\OneDrive\\Documents\\GitHub\\dbachecks\\checks\\Agent.Tests.ps1: line 408\u001b[0m\r\n",
                    "output_type": "stream"
                },
                {
                    "name": "stdout",
                    "text": "\u001b[91m      [-] Job SSIS Server Maintenance Job last run duration should be not be greater than 50 % extra of the average run time on SQL2017N5\u001b[0m",
                    "output_type": "stream"
                },
                {
                    "name": "stdout",
                    "text": "\u001b[90m 3ms\u001b[0m\r\n",
                    "output_type": "stream"
                },
                {
                    "name": "stdout",
                    "text": "\u001b[91m        Expected the actual value to be less than 50, because The last run of job SSIS Server Maintenance Job was 111 seconds. This is more than the 50 % specified as the maximum variance, but got 236.\u001b[0m\r\n",
                    "output_type": "stream"
                },
                {
                    "name": "stdout",
                    "text": "\u001b[91m        44:     [math]::Round($lastagentjobrun.Diff/$lastagentjobrun.AvgSec * 100) | Should -BeLessThan $runningjobpercentage -Because \"The last run of job $($lastagentjobrun.JobName) was $($lastagentjobrun.duration) seconds. This is more than the $runningjobpercentage % specified as the maximum variance\"\u001b[0m\r\n",
                    "output_type": "stream"
                },
                {
                    "name": "stdout",
                    "text": "\u001b[91m        at Assert-LastJobRun, D:\\OneDrive\\Documents\\GitHub\\dbachecks\\internal\\assertions\\Agent.Assertions.ps1: line 44\u001b[0m\r\n",
                    "output_type": "stream"
                },
                {
                    "name": "stdout",
                    "text": "\u001b[91m        at <ScriptBlock>, D:\\OneDrive\\Documents\\GitHub\\dbachecks\\checks\\Agent.Tests.ps1: line 408\u001b[0m\r\n",
                    "output_type": "stream"
                },
                {
                    "name": "stdout",
                    "text": "\u001b[91m      [-] Job Gather SQLWatch Data last run duration should be not be greater than 50 % extra of the average run time on SQL2017N5\u001b[0m",
                    "output_type": "stream"
                },
                {
                    "name": "stdout",
                    "text": "\u001b[90m 3ms\u001b[0m\r\n",
                    "output_type": "stream"
                },
                {
                    "name": "stdout",
                    "text": "\u001b[91m        Expected the actual value to be less than 50, because The last run of job Gather SQLWatch Data was 329 seconds. This is more than the 50 % specified as the maximum variance, but got 62.\u001b[0m\r\n",
                    "output_type": "stream"
                },
                {
                    "name": "stdout",
                    "text": "\u001b[91m        44:     [math]::Round($lastagentjobrun.Diff/$lastagentjobrun.AvgSec * 100) | Should -BeLessThan $runningjobpercentage -Because \"The last run of job $($lastagentjobrun.JobName) was $($lastagentjobrun.duration) seconds. This is more than the $runningjobpercentage % specified as the maximum variance\"\u001b[0m\r\n",
                    "output_type": "stream"
                },
                {
                    "name": "stdout",
                    "text": "\u001b[91m        at Assert-LastJobRun, D:\\OneDrive\\Documents\\GitHub\\dbachecks\\internal\\assertions\\Agent.Assertions.ps1: line 44\u001b[0m\r\n",
                    "output_type": "stream"
                },
                {
                    "name": "stdout",
                    "text": "\u001b[91m        at <ScriptBlock>, D:\\OneDrive\\Documents\\GitHub\\dbachecks\\checks\\Agent.Tests.ps1: line 408\u001b[0m\r\n",
                    "output_type": "stream"
                },
                {
                    "name": "stdout",
                    "text": "\u001b[91m      [-] Job syspolicy_purge_history last run duration should be not be greater than 50 % extra of the average run time on SQL2017N5\u001b[0m",
                    "output_type": "stream"
                },
                {
                    "name": "stdout",
                    "text": "\u001b[90m 3ms\u001b[0m\r\n",
                    "output_type": "stream"
                },
                {
                    "name": "stdout",
                    "text": "\u001b[91m        Expected the actual value to be less than 50, because The last run of job syspolicy_purge_history was 106 seconds. This is more than the 50 % specified as the maximum variance, but got 63.\u001b[0m\r\n",
                    "output_type": "stream"
                },
                {
                    "name": "stdout",
                    "text": "\u001b[91m        44:     [math]::Round($lastagentjobrun.Diff/$lastagentjobrun.AvgSec * 100) | Should -BeLessThan $runningjobpercentage -Because \"The last run of job $($lastagentjobrun.JobName) was $($lastagentjobrun.duration) seconds. This is more than the $runningjobpercentage % specified as the maximum variance\"\u001b[0m\r\n",
                    "output_type": "stream"
                },
                {
                    "name": "stdout",
                    "text": "\u001b[91m        at Assert-LastJobRun, D:\\OneDrive\\Documents\\GitHub\\dbachecks\\internal\\assertions\\Agent.Assertions.ps1: line 44\u001b[0m\r\n",
                    "output_type": "stream"
                },
                {
                    "name": "stdout",
                    "text": "\u001b[91m        at <ScriptBlock>, D:\\OneDrive\\Documents\\GitHub\\dbachecks\\checks\\Agent.Tests.ps1: line 408\u001b[0m\r\n",
                    "output_type": "stream"
                },
                {
                    "name": "stdout",
                    "text": "\r\n",
                    "output_type": "stream"
                },
                {
                    "name": "stdout",
                    "text": "\u001b[92mExecuting script D:\\OneDrive\\Documents\\GitHub\\dbachecks\\checks\\Instance.Tests.ps1\u001b[0m\r\n",
                    "output_type": "stream"
                },
                {
                    "name": "stdout",
                    "text": "\u001b[97mTests completed in 41.69s\u001b[0m\r\n",
                    "output_type": "stream"
                },
                {
                    "name": "stdout",
                    "text": "\u001b[97mTests Passed: 40, \u001b[0m",
                    "output_type": "stream"
                },
                {
                    "name": "stdout",
                    "text": "\u001b[91mFailed: 64, \u001b[0m",
                    "output_type": "stream"
                },
                {
                    "name": "stdout",
                    "text": "\u001b[90mSkipped: 0, \u001b[0m",
                    "output_type": "stream"
                },
                {
                    "name": "stdout",
                    "text": "\u001b[90mPending: 0, \u001b[0m",
                    "output_type": "stream"
                },
                {
                    "name": "stdout",
                    "text": "\u001b[90mInconclusive: 0 \u001b[0m\r\n",
                    "output_type": "stream"
                }
            ],
            "execution_count": 5
        },
        {
            "cell_type": "code",
            "source": [
                "Invoke-DbcCheck -SqlInstance SQL2017N5 -Check MaintenanceSolution -Show Fails"
            ],
            "metadata": {
                "azdata_cell_guid": "da68cf35-3a68-48ad-926f-86af0ae7328f"
            },
            "outputs": [
                {
                    "name": "stdout",
                    "text": "\u001b[97m    ____            __\r\n   / __ \\___  _____/ /____  _____\r\n  / /_/ / _ \\/ ___/ __/ _ \\/ ___/\r\n / ____/  __(__  ) /_/  __/ /\r\n/_/    \\___/____/\\__/\\___/_/\r\nPester v4.9.0\r\nExecuting all tests in 'D:\\OneDrive\\Documents\\GitHub\\dbachecks\\checks\\MaintenanceSolution.Tests.ps1' with Tags MaintenanceSolution\u001b[0m\r\n",
                    "output_type": "stream"
                },
                {
                    "name": "stdout",
                    "text": "\r\n",
                    "output_type": "stream"
                },
                {
                    "name": "stdout",
                    "text": "\u001b[92mExecuting script D:\\OneDrive\\Documents\\GitHub\\dbachecks\\checks\\MaintenanceSolution.Tests.ps1\u001b[0m\r\n",
                    "output_type": "stream"
                },
                {
                    "name": "stdout",
                    "text": "\r\n",
                    "output_type": "stream"
                },
                {
                    "name": "stdout",
                    "text": "\u001b[92m  Describing Ola maintenance solution installed\u001b[0m\r\n",
                    "output_type": "stream"
                },
                {
                    "name": "stdout",
                    "text": "\r\n",
                    "output_type": "stream"
                },
                {
                    "name": "stdout",
                    "text": "\u001b[92m    Context Checking the CommandLog table on SQL2017N5\u001b[0m\r\n",
                    "output_type": "stream"
                },
                {
                    "name": "stdout",
                    "text": "\r\n",
                    "output_type": "stream"
                },
                {
                    "name": "stdout",
                    "text": "\u001b[92m    Context Checking the Ola Stored Procedures on SQL2017N5\u001b[0m\r\n",
                    "output_type": "stream"
                },
                {
                    "name": "stdout",
                    "text": "\r\n",
                    "output_type": "stream"
                },
                {
                    "name": "stdout",
                    "text": "\u001b[92m  Describing Ola - DatabaseBackup - SYSTEM_DATABASES - FULL\u001b[0m\r\n",
                    "output_type": "stream"
                },
                {
                    "name": "stdout",
                    "text": "\r\n",
                    "output_type": "stream"
                },
                {
                    "name": "stdout",
                    "text": "\u001b[92m    Context Is job enabled on SQL2017N5\u001b[0m\r\n",
                    "output_type": "stream"
                },
                {
                    "name": "stdout",
                    "text": "\r\n",
                    "output_type": "stream"
                },
                {
                    "name": "stdout",
                    "text": "\u001b[92m    Context Is job scheduled on SQL2017N5\u001b[0m\r\n",
                    "output_type": "stream"
                },
                {
                    "name": "stdout",
                    "text": "\r\n",
                    "output_type": "stream"
                },
                {
                    "name": "stdout",
                    "text": "\u001b[92m    Context Checking the backup retention on SQL2017N5\u001b[0m\r\n",
                    "output_type": "stream"
                },
                {
                    "name": "stdout",
                    "text": "\u001b[91m      [-] Is the backup retention set to at least 192 hours on SQL2017N5\u001b[0m",
                    "output_type": "stream"
                },
                {
                    "name": "stdout",
                    "text": "\u001b[90m 14ms\u001b[0m\r\n",
                    "output_type": "stream"
                },
                {
                    "name": "stdout",
                    "text": "\u001b[91m        Expected the actual value to be greater than or equal to 192, because The backup retention for DatabaseBackup - SYSTEM_DATABASES - FULL needs to be correct, but got 0.\u001b[0m\r\n",
                    "output_type": "stream"
                },
                {
                    "name": "stdout",
                    "text": "\u001b[91m        70:                     $hours | Should -BeGreaterOrEqual $Retention -Because \"The backup retention for $SysFullJobName needs to be correct\"\u001b[0m\r\n",
                    "output_type": "stream"
                },
                {
                    "name": "stdout",
                    "text": "\u001b[91m        at <ScriptBlock>, D:\\OneDrive\\Documents\\GitHub\\dbachecks\\checks\\MaintenanceSolution.Tests.ps1: line 70\u001b[0m\r\n",
                    "output_type": "stream"
                },
                {
                    "name": "stdout",
                    "text": "\r\n",
                    "output_type": "stream"
                },
                {
                    "name": "stdout",
                    "text": "\u001b[92m  Describing Ola - DatabaseBackup - USER_DATABASES - FULL\u001b[0m\r\n",
                    "output_type": "stream"
                },
                {
                    "name": "stdout",
                    "text": "\r\n",
                    "output_type": "stream"
                },
                {
                    "name": "stdout",
                    "text": "\u001b[92m    Context Is job enabled on SQL2017N5\u001b[0m\r\n",
                    "output_type": "stream"
                },
                {
                    "name": "stdout",
                    "text": "\r\n",
                    "output_type": "stream"
                },
                {
                    "name": "stdout",
                    "text": "\u001b[92m    Context Is job scheduled on SQL2017N5\u001b[0m\r\n",
                    "output_type": "stream"
                },
                {
                    "name": "stdout",
                    "text": "\r\n",
                    "output_type": "stream"
                },
                {
                    "name": "stdout",
                    "text": "\u001b[92m    Context Checking the backup retention on SQL2017N5\u001b[0m\r\n",
                    "output_type": "stream"
                },
                {
                    "name": "stdout",
                    "text": "\u001b[91m      [-] Is the backup retention set to at least 192 hours on SQL2017N5\u001b[0m",
                    "output_type": "stream"
                },
                {
                    "name": "stdout",
                    "text": "\u001b[90m 9ms\u001b[0m\r\n",
                    "output_type": "stream"
                },
                {
                    "name": "stdout",
                    "text": "\u001b[91m        Expected the actual value to be greater than or equal to 192, because The backup retention for DatabaseBackup - USER_DATABASES - FULL needs to be correct, but got 0.\u001b[0m\r\n",
                    "output_type": "stream"
                },
                {
                    "name": "stdout",
                    "text": "\u001b[91m        114:                     $hours | Should -BeGreaterOrEqual $Retention -Because \"The backup retention for $UserFullJobName needs to be correct\"\u001b[0m\r\n",
                    "output_type": "stream"
                },
                {
                    "name": "stdout",
                    "text": "\u001b[91m        at <ScriptBlock>, D:\\OneDrive\\Documents\\GitHub\\dbachecks\\checks\\MaintenanceSolution.Tests.ps1: line 114\u001b[0m\r\n",
                    "output_type": "stream"
                },
                {
                    "name": "stdout",
                    "text": "\r\n",
                    "output_type": "stream"
                },
                {
                    "name": "stdout",
                    "text": "\u001b[92m  Describing Ola - DatabaseBackup - USER_DATABASES - DIFF\u001b[0m\r\n",
                    "output_type": "stream"
                },
                {
                    "name": "stdout",
                    "text": "\r\n",
                    "output_type": "stream"
                },
                {
                    "name": "stdout",
                    "text": "\u001b[92m    Context Is job enabled on SQL2017N5\u001b[0m\r\n",
                    "output_type": "stream"
                },
                {
                    "name": "stdout",
                    "text": "\r\n",
                    "output_type": "stream"
                },
                {
                    "name": "stdout",
                    "text": "\u001b[92m    Context Is job scheduled on SQL2017N5\u001b[0m\r\n",
                    "output_type": "stream"
                },
                {
                    "name": "stdout",
                    "text": "\r\n",
                    "output_type": "stream"
                },
                {
                    "name": "stdout",
                    "text": "\u001b[92m    Context Checking the backup retention on SQL2017N5\u001b[0m\r\n",
                    "output_type": "stream"
                },
                {
                    "name": "stdout",
                    "text": "\u001b[91m      [-] Is the backup retention set to at least 192 hours on SQL2017N5\u001b[0m",
                    "output_type": "stream"
                },
                {
                    "name": "stdout",
                    "text": "\u001b[90m 8ms\u001b[0m\r\n",
                    "output_type": "stream"
                },
                {
                    "name": "stdout",
                    "text": "\u001b[91m        Expected the actual value to be greater than or equal to 192, because The backup retention for DatabaseBackup - USER_DATABASES - DIFF needs to be correct, but got 0.\u001b[0m\r\n",
                    "output_type": "stream"
                },
                {
                    "name": "stdout",
                    "text": "\u001b[91m        158:                     $hours | Should -BeGreaterOrEqual $Retention -Because \"The backup retention for $UserDiffJobName needs to be correct\"\u001b[0m\r\n",
                    "output_type": "stream"
                },
                {
                    "name": "stdout",
                    "text": "\u001b[91m        at <ScriptBlock>, D:\\OneDrive\\Documents\\GitHub\\dbachecks\\checks\\MaintenanceSolution.Tests.ps1: line 158\u001b[0m\r\n",
                    "output_type": "stream"
                },
                {
                    "name": "stdout",
                    "text": "\r\n",
                    "output_type": "stream"
                },
                {
                    "name": "stdout",
                    "text": "\u001b[92m  Describing Ola - DatabaseBackup - USER_DATABASES - Log\u001b[0m\r\n",
                    "output_type": "stream"
                },
                {
                    "name": "stdout",
                    "text": "\r\n",
                    "output_type": "stream"
                },
                {
                    "name": "stdout",
                    "text": "\u001b[92m    Context Is job enabled on SQL2017N5\u001b[0m\r\n",
                    "output_type": "stream"
                },
                {
                    "name": "stdout",
                    "text": "\r\n",
                    "output_type": "stream"
                },
                {
                    "name": "stdout",
                    "text": "\u001b[92m    Context Is job scheduled on SQL2017N5\u001b[0m\r\n",
                    "output_type": "stream"
                },
                {
                    "name": "stdout",
                    "text": "\r\n",
                    "output_type": "stream"
                },
                {
                    "name": "stdout",
                    "text": "\u001b[92m    Context Checking the backup retention on SQL2017N5\u001b[0m\r\n",
                    "output_type": "stream"
                },
                {
                    "name": "stdout",
                    "text": "\u001b[91m      [-] Is the backup retention set to at least 192 hours on SQL2017N5\u001b[0m",
                    "output_type": "stream"
                },
                {
                    "name": "stdout",
                    "text": "\u001b[90m 9ms\u001b[0m\r\n",
                    "output_type": "stream"
                },
                {
                    "name": "stdout",
                    "text": "\u001b[91m        Expected the actual value to be greater than or equal to 192, because The backup retention for DatabaseBackup - USER_DATABASES - Log needs to be correct, but got 0.\u001b[0m\r\n",
                    "output_type": "stream"
                },
                {
                    "name": "stdout",
                    "text": "\u001b[91m        202:                     $hours | Should -BeGreaterOrEqual $Retention -Because \"The backup retention for $UserLogJobName needs to be correct\"\u001b[0m\r\n",
                    "output_type": "stream"
                },
                {
                    "name": "stdout",
                    "text": "\u001b[91m        at <ScriptBlock>, D:\\OneDrive\\Documents\\GitHub\\dbachecks\\checks\\MaintenanceSolution.Tests.ps1: line 202\u001b[0m\r\n",
                    "output_type": "stream"
                },
                {
                    "name": "stdout",
                    "text": "\r\n",
                    "output_type": "stream"
                },
                {
                    "name": "stdout",
                    "text": "\u001b[92m  Describing Ola - CommandLog Cleanup\u001b[0m\r\n",
                    "output_type": "stream"
                },
                {
                    "name": "stdout",
                    "text": "\r\n",
                    "output_type": "stream"
                },
                {
                    "name": "stdout",
                    "text": "\u001b[92m    Context Is job enabled on SQL2017N5\u001b[0m\r\n",
                    "output_type": "stream"
                },
                {
                    "name": "stdout",
                    "text": "\r\n",
                    "output_type": "stream"
                },
                {
                    "name": "stdout",
                    "text": "\u001b[92m    Context Is job scheduled on SQL2017N5\u001b[0m\r\n",
                    "output_type": "stream"
                },
                {
                    "name": "stdout",
                    "text": "\u001b[91m      [-] CommandLog Cleanup should be scheduled - True on SQL2017N5\u001b[0m",
                    "output_type": "stream"
                },
                {
                    "name": "stdout",
                    "text": "\u001b[90m 419ms\u001b[0m\r\n",
                    "output_type": "stream"
                },
                {
                    "name": "stdout",
                    "text": "\u001b[91m        Expected $true, because If the CommandLog Cleanup job is not scheduled it will not run, but got $false.\u001b[0m\r\n",
                    "output_type": "stream"
                },
                {
                    "name": "stdout",
                    "text": "\u001b[91m        224:                 $job.HasSchedule | Should -Be $Scheduled -Because \"If the $CommandLogJobName job is not scheduled it will not run\"\u001b[0m\r\n",
                    "output_type": "stream"
                },
                {
                    "name": "stdout",
                    "text": "\u001b[91m        at <ScriptBlock>, D:\\OneDrive\\Documents\\GitHub\\dbachecks\\checks\\MaintenanceSolution.Tests.ps1: line 224\u001b[0m\r\n",
                    "output_type": "stream"
                },
                {
                    "name": "stdout",
                    "text": "\u001b[91m      [-] CommandLog Cleanup schedules should be enabled - True on SQL2017N5\u001b[0m",
                    "output_type": "stream"
                },
                {
                    "name": "stdout",
                    "text": "\u001b[90m 69ms\u001b[0m\r\n",
                    "output_type": "stream"
                },
                {
                    "name": "stdout",
                    "text": "\u001b[91m        Expected the actual value to be greater than 0, because If the schedule is not enabled the CommandLog Cleanup job will not run, but got $false.\u001b[0m\r\n",
                    "output_type": "stream"
                },
                {
                    "name": "stdout",
                    "text": "\u001b[91m        228:                 $results | Should -BeGreaterThan 0 -Because \"If the schedule is not enabled the $CommandLogJobName job will not run\"\u001b[0m\r\n",
                    "output_type": "stream"
                },
                {
                    "name": "stdout",
                    "text": "\u001b[91m        at <ScriptBlock>, D:\\OneDrive\\Documents\\GitHub\\dbachecks\\checks\\MaintenanceSolution.Tests.ps1: line 228\u001b[0m\r\n",
                    "output_type": "stream"
                },
                {
                    "name": "stdout",
                    "text": "\r\n",
                    "output_type": "stream"
                },
                {
                    "name": "stdout",
                    "text": "\u001b[92m    Context Checking the Command Log Cleanup Time on SQL2017N5\u001b[0m\r\n",
                    "output_type": "stream"
                },
                {
                    "name": "stdout",
                    "text": "\r\n",
                    "output_type": "stream"
                },
                {
                    "name": "stdout",
                    "text": "\u001b[92m  Describing Ola - DatabaseIntegrityCheck - SYSTEM_DATABASES\u001b[0m\r\n",
                    "output_type": "stream"
                },
                {
                    "name": "stdout",
                    "text": "\r\n",
                    "output_type": "stream"
                },
                {
                    "name": "stdout",
                    "text": "\u001b[92m    Context Is job enabled on SQL2017N5\u001b[0m\r\n",
                    "output_type": "stream"
                },
                {
                    "name": "stdout",
                    "text": "\r\n",
                    "output_type": "stream"
                },
                {
                    "name": "stdout",
                    "text": "\u001b[92m    Context Is job scheduled on SQL2017N5\u001b[0m\r\n",
                    "output_type": "stream"
                },
                {
                    "name": "stdout",
                    "text": "\r\n",
                    "output_type": "stream"
                },
                {
                    "name": "stdout",
                    "text": "\u001b[92m  Describing Ola - DatabaseIntegrityCheck - USER_DATABASES\u001b[0m\r\n",
                    "output_type": "stream"
                },
                {
                    "name": "stdout",
                    "text": "\r\n",
                    "output_type": "stream"
                },
                {
                    "name": "stdout",
                    "text": "\u001b[92m    Context Is job enabled on SQL2017N5\u001b[0m\r\n",
                    "output_type": "stream"
                },
                {
                    "name": "stdout",
                    "text": "\r\n",
                    "output_type": "stream"
                },
                {
                    "name": "stdout",
                    "text": "\u001b[92m    Context Is job scheduled on SQL2017N5\u001b[0m\r\n",
                    "output_type": "stream"
                },
                {
                    "name": "stdout",
                    "text": "\u001b[91m      [-] DatabaseIntegrityCheck - USER_DATABASES should be scheduled - True on SQL2017N5\u001b[0m",
                    "output_type": "stream"
                },
                {
                    "name": "stdout",
                    "text": "\u001b[90m 424ms\u001b[0m\r\n",
                    "output_type": "stream"
                },
                {
                    "name": "stdout",
                    "text": "\u001b[91m        Expected $true, because If the DatabaseIntegrityCheck - USER_DATABASES job is not scheduled it will not run, but got $false.\u001b[0m\r\n",
                    "output_type": "stream"
                },
                {
                    "name": "stdout",
                    "text": "\u001b[91m        281:                 $job.HasSchedule | Should -Be $Scheduled -Because \"If the $UserIntegrityJobName job is not scheduled it will not run\"\u001b[0m\r\n",
                    "output_type": "stream"
                },
                {
                    "name": "stdout",
                    "text": "\u001b[91m        at <ScriptBlock>, D:\\OneDrive\\Documents\\GitHub\\dbachecks\\checks\\MaintenanceSolution.Tests.ps1: line 281\u001b[0m\r\n",
                    "output_type": "stream"
                },
                {
                    "name": "stdout",
                    "text": "\u001b[91m      [-] DatabaseIntegrityCheck - USER_DATABASES schedules should be enabled - True on SQL2017N5\u001b[0m",
                    "output_type": "stream"
                },
                {
                    "name": "stdout",
                    "text": "\u001b[90m 63ms\u001b[0m\r\n",
                    "output_type": "stream"
                },
                {
                    "name": "stdout",
                    "text": "\u001b[91m        Expected the actual value to be greater than 0, because If the schedule is not enabled the DatabaseIntegrityCheck - USER_DATABASES job will not run, but got $false.\u001b[0m\r\n",
                    "output_type": "stream"
                },
                {
                    "name": "stdout",
                    "text": "\u001b[91m        285:                 $results | Should -BeGreaterThan 0 -Because \"If the schedule is not enabled the $UserIntegrityJobName job will not run\"\u001b[0m\r\n",
                    "output_type": "stream"
                },
                {
                    "name": "stdout",
                    "text": "\u001b[91m        at <ScriptBlock>, D:\\OneDrive\\Documents\\GitHub\\dbachecks\\checks\\MaintenanceSolution.Tests.ps1: line 285\u001b[0m\r\n",
                    "output_type": "stream"
                },
                {
                    "name": "stdout",
                    "text": "\r\n",
                    "output_type": "stream"
                },
                {
                    "name": "stdout",
                    "text": "\u001b[92m  Describing Ola - IndexOptimize - USER_DATABASES\u001b[0m\r\n",
                    "output_type": "stream"
                },
                {
                    "name": "stdout",
                    "text": "\r\n",
                    "output_type": "stream"
                },
                {
                    "name": "stdout",
                    "text": "\u001b[92m    Context Is job enabled on SQL2017N5\u001b[0m\r\n",
                    "output_type": "stream"
                },
                {
                    "name": "stdout",
                    "text": "\r\n",
                    "output_type": "stream"
                },
                {
                    "name": "stdout",
                    "text": "\u001b[92m    Context Is job scheduled on SQL2017N5\u001b[0m\r\n",
                    "output_type": "stream"
                },
                {
                    "name": "stdout",
                    "text": "\r\n",
                    "output_type": "stream"
                },
                {
                    "name": "stdout",
                    "text": "\u001b[92m  Describing Ola - Output File Cleanup\u001b[0m\r\n",
                    "output_type": "stream"
                },
                {
                    "name": "stdout",
                    "text": "\r\n",
                    "output_type": "stream"
                },
                {
                    "name": "stdout",
                    "text": "\u001b[92m    Context Is job enabled on SQL2017N5\u001b[0m\r\n",
                    "output_type": "stream"
                },
                {
                    "name": "stdout",
                    "text": "\r\n",
                    "output_type": "stream"
                },
                {
                    "name": "stdout",
                    "text": "\u001b[92m    Context Is job scheduled on SQL2017N5\u001b[0m\r\n",
                    "output_type": "stream"
                },
                {
                    "name": "stdout",
                    "text": "\u001b[91m      [-] Output File Cleanup should be scheduled - True on SQL2017N5\u001b[0m",
                    "output_type": "stream"
                },
                {
                    "name": "stdout",
                    "text": "\u001b[90m 447ms\u001b[0m\r\n",
                    "output_type": "stream"
                },
                {
                    "name": "stdout",
                    "text": "\u001b[91m        Expected $true, because If the Output File Cleanup job is not scheduled it will not run, but got $false.\u001b[0m\r\n",
                    "output_type": "stream"
                },
                {
                    "name": "stdout",
                    "text": "\u001b[91m        330:                 $job.HasSchedule | Should -Be $Scheduled -Because \"If the $OutputFileJobName job is not scheduled it will not run\"\u001b[0m\r\n",
                    "output_type": "stream"
                },
                {
                    "name": "stdout",
                    "text": "\u001b[91m        at <ScriptBlock>, D:\\OneDrive\\Documents\\GitHub\\dbachecks\\checks\\MaintenanceSolution.Tests.ps1: line 330\u001b[0m\r\n",
                    "output_type": "stream"
                },
                {
                    "name": "stdout",
                    "text": "\u001b[91m      [-] Output File Cleanup schedules should be enabled - True on SQL2017N5\u001b[0m",
                    "output_type": "stream"
                },
                {
                    "name": "stdout",
                    "text": "\u001b[90m 62ms\u001b[0m\r\n",
                    "output_type": "stream"
                },
                {
                    "name": "stdout",
                    "text": "\u001b[91m        Expected the actual value to be greater than 0, because If the schedule is not enabled the Output File Cleanup job will not run, but got $false.\u001b[0m\r\n",
                    "output_type": "stream"
                },
                {
                    "name": "stdout",
                    "text": "\u001b[91m        334:                 $results | Should -BeGreaterThan 0 -Because \"If the schedule is not enabled the $OutputFileJobName job will not run\"\u001b[0m\r\n",
                    "output_type": "stream"
                },
                {
                    "name": "stdout",
                    "text": "\u001b[91m        at <ScriptBlock>, D:\\OneDrive\\Documents\\GitHub\\dbachecks\\checks\\MaintenanceSolution.Tests.ps1: line 334\u001b[0m\r\n",
                    "output_type": "stream"
                },
                {
                    "name": "stdout",
                    "text": "\r\n",
                    "output_type": "stream"
                },
                {
                    "name": "stdout",
                    "text": "\u001b[92m    Context Checking the Output File Job Cleanup Time on SQL2017N5\u001b[0m\r\n",
                    "output_type": "stream"
                },
                {
                    "name": "stdout",
                    "text": "\r\n",
                    "output_type": "stream"
                },
                {
                    "name": "stdout",
                    "text": "\u001b[92m  Describing Ola - sp_delete_backuphistory\u001b[0m\r\n",
                    "output_type": "stream"
                },
                {
                    "name": "stdout",
                    "text": "\r\n",
                    "output_type": "stream"
                },
                {
                    "name": "stdout",
                    "text": "\u001b[92m    Context Is job enabled on SQL2017N5\u001b[0m\r\n",
                    "output_type": "stream"
                },
                {
                    "name": "stdout",
                    "text": "\r\n",
                    "output_type": "stream"
                },
                {
                    "name": "stdout",
                    "text": "\u001b[92m    Context Is job scheduled on SQL2017N5\u001b[0m\r\n",
                    "output_type": "stream"
                },
                {
                    "name": "stdout",
                    "text": "\u001b[91m      [-] sp_delete_backuphistory should be scheduled - True on SQL2017N5\u001b[0m",
                    "output_type": "stream"
                },
                {
                    "name": "stdout",
                    "text": "\u001b[90m 416ms\u001b[0m\r\n",
                    "output_type": "stream"
                },
                {
                    "name": "stdout",
                    "text": "\u001b[91m        Expected $true, because If the sp_delete_backuphistory job is not scheduled it will not run, but got $false.\u001b[0m\r\n",
                    "output_type": "stream"
                },
                {
                    "name": "stdout",
                    "text": "\u001b[91m        370:                 $job.HasSchedule | Should -Be $Scheduled -Because \"If the $DeleteBackupJobName job is not scheduled it will not run\"\u001b[0m\r\n",
                    "output_type": "stream"
                },
                {
                    "name": "stdout",
                    "text": "\u001b[91m        at <ScriptBlock>, D:\\OneDrive\\Documents\\GitHub\\dbachecks\\checks\\MaintenanceSolution.Tests.ps1: line 370\u001b[0m\r\n",
                    "output_type": "stream"
                },
                {
                    "name": "stdout",
                    "text": "\u001b[91m      [-] sp_delete_backuphistory schedules should be enabled - True on SQL2017N5\u001b[0m",
                    "output_type": "stream"
                },
                {
                    "name": "stdout",
                    "text": "\u001b[90m 62ms\u001b[0m\r\n",
                    "output_type": "stream"
                },
                {
                    "name": "stdout",
                    "text": "\u001b[91m        Expected the actual value to be greater than 0, because If the schedule is not enabled the sp_delete_backuphistory job will not run, but got $false.\u001b[0m\r\n",
                    "output_type": "stream"
                },
                {
                    "name": "stdout",
                    "text": "\u001b[91m        374:                 $results | Should -BeGreaterThan 0 -Because \"If the schedule is not enabled the $DeleteBackupJobName job will not run\"\u001b[0m\r\n",
                    "output_type": "stream"
                },
                {
                    "name": "stdout",
                    "text": "\u001b[91m        at <ScriptBlock>, D:\\OneDrive\\Documents\\GitHub\\dbachecks\\checks\\MaintenanceSolution.Tests.ps1: line 374\u001b[0m\r\n",
                    "output_type": "stream"
                },
                {
                    "name": "stdout",
                    "text": "\r\n",
                    "output_type": "stream"
                },
                {
                    "name": "stdout",
                    "text": "\u001b[92m    Context Checking the Delete Backup History Cleanup Time on SQL2017N5\u001b[0m\r\n",
                    "output_type": "stream"
                },
                {
                    "name": "stdout",
                    "text": "\r\n",
                    "output_type": "stream"
                },
                {
                    "name": "stdout",
                    "text": "\u001b[92m  Describing Ola - sp_purge_jobhistory\u001b[0m\r\n",
                    "output_type": "stream"
                },
                {
                    "name": "stdout",
                    "text": "\r\n",
                    "output_type": "stream"
                },
                {
                    "name": "stdout",
                    "text": "\u001b[92m    Context Is job enabled on SQL2017N5\u001b[0m\r\n",
                    "output_type": "stream"
                },
                {
                    "name": "stdout",
                    "text": "\r\n",
                    "output_type": "stream"
                },
                {
                    "name": "stdout",
                    "text": "\u001b[92m    Context Is job scheduled on SQL2017N5\u001b[0m\r\n",
                    "output_type": "stream"
                },
                {
                    "name": "stdout",
                    "text": "\u001b[91m      [-] sp_purge_jobhistory should be scheduled - True on SQL2017N5\u001b[0m",
                    "output_type": "stream"
                },
                {
                    "name": "stdout",
                    "text": "\u001b[90m 323ms\u001b[0m\r\n",
                    "output_type": "stream"
                },
                {
                    "name": "stdout",
                    "text": "\u001b[91m        Expected $true, because If the sp_purge_jobhistory job is not scheduled it will not run, but got $false.\u001b[0m\r\n",
                    "output_type": "stream"
                },
                {
                    "name": "stdout",
                    "text": "\u001b[91m        404:                 $job.HasSchedule | Should -Be $Scheduled -Because \"If the $PurgeBackupJobName job is not scheduled it will not run\"\u001b[0m\r\n",
                    "output_type": "stream"
                },
                {
                    "name": "stdout",
                    "text": "\u001b[91m        at <ScriptBlock>, D:\\OneDrive\\Documents\\GitHub\\dbachecks\\checks\\MaintenanceSolution.Tests.ps1: line 404\u001b[0m\r\n",
                    "output_type": "stream"
                },
                {
                    "name": "stdout",
                    "text": "\u001b[91m      [-] sp_purge_jobhistory schedules should be enabled - True on SQL2017N5\u001b[0m",
                    "output_type": "stream"
                },
                {
                    "name": "stdout",
                    "text": "\u001b[90m 200ms\u001b[0m\r\n",
                    "output_type": "stream"
                },
                {
                    "name": "stdout",
                    "text": "\u001b[91m        Expected the actual value to be greater than 0, because If the schedule is not enabled the sp_purge_jobhistory job will not run, but got $false.\u001b[0m\r\n",
                    "output_type": "stream"
                },
                {
                    "name": "stdout",
                    "text": "\u001b[91m        408:                 $results | Should -BeGreaterThan 0 -Because \"If the schedule is not enabled the $PurgeBackupJobName job will not run\"\u001b[0m\r\n",
                    "output_type": "stream"
                },
                {
                    "name": "stdout",
                    "text": "\u001b[91m        at <ScriptBlock>, D:\\OneDrive\\Documents\\GitHub\\dbachecks\\checks\\MaintenanceSolution.Tests.ps1: line 408\u001b[0m\r\n",
                    "output_type": "stream"
                },
                {
                    "name": "stdout",
                    "text": "\r\n",
                    "output_type": "stream"
                },
                {
                    "name": "stdout",
                    "text": "\u001b[92m    Context Checking the Purge Backup History Cleanup Time on SQL2017N5\u001b[0m\r\n",
                    "output_type": "stream"
                },
                {
                    "name": "stdout",
                    "text": "\u001b[97mTests completed in 57.75s\u001b[0m\r\n",
                    "output_type": "stream"
                },
                {
                    "name": "stdout",
                    "text": "\u001b[97mTests Passed: 29, \u001b[0m",
                    "output_type": "stream"
                },
                {
                    "name": "stdout",
                    "text": "\u001b[91mFailed: 14, \u001b[0m",
                    "output_type": "stream"
                },
                {
                    "name": "stdout",
                    "text": "\u001b[90mSkipped: 0, \u001b[0m",
                    "output_type": "stream"
                },
                {
                    "name": "stdout",
                    "text": "\u001b[90mPending: 0, \u001b[0m",
                    "output_type": "stream"
                },
                {
                    "name": "stdout",
                    "text": "\u001b[90mInconclusive: 0 \u001b[0m\r\n",
                    "output_type": "stream"
                }
            ],
            "execution_count": 6
        },
        {
            "cell_type": "code",
            "source": [],
            "metadata": {
                "azdata_cell_guid": "e80b62ae-d131-482e-8293-5f044a1c3740"
            },
            "outputs": [],
            "execution_count": null
        }
    ]
}