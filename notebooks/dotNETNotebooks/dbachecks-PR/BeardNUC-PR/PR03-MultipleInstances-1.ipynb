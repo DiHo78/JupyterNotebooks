{
    "metadata": {
        "kernelspec": {
            "display_name": ".NET (PowerShell)",
            "language": "PowerShell",
            "name": ".net-powershell"
        },
        "language_info": {
            "name": "python",
            "version": ""
        }
    },
    "nbformat_minor": 2,
    "nbformat": 4,
    "cells": [
        {
            "cell_type": "markdown",
            "source": [
                "# dbachecks PR check on Beard NUC - MultipleInstances\n",
                "\n",
                "Rob uses this process to make sure that changes will work in an AD estate with a variety of versions"
            ],
            "metadata": {
                "azdata_cell_guid": "f296b1e7-02cc-4053-aea4-dc7de2ee21c5"
            }
        },
        {
            "cell_type": "markdown",
            "source": [
                "First we must check the status of the local source control and ensure that we are in the PR branch"
            ],
            "metadata": {
                "azdata_cell_guid": "d071504b-8f6f-427a-bf32-dc8bd2adaa8c"
            }
        },
        {
            "cell_type": "code",
            "source": [
                "cd D:\\OneDrive\\Documents\\GitHub\\dbachecks\n",
                "git status"
            ],
            "metadata": {
                "azdata_cell_guid": "8d499e99-f7e2-4b38-bbe9-8d319b05ebe5"
            },
            "outputs": [
{
    "name": "stdout",
    "text": "On branch pr/jpomfret/777\r\n",
    "output_type": "stream"
}, {
    "name": "stdout",
    "text": "Your branch is up to date with 'jpomfret/agSecondaries'.\r\n",
    "output_type": "stream"
}, {
    "name": "stdout",
    "text": "\r\n",
    "output_type": "stream"
}, {
    "name": "stdout",
    "text": "nothing to commit, working tree clean\r\n",
    "output_type": "stream"
}
],
            "execution_count": 1
        },
        {
            "cell_type": "markdown",
            "source": [
                "First we need to import the module from source control - I normally use verbose to see how it is going\n"
            ],
            "metadata": {
                "azdata_cell_guid": "f82abe41-6c8e-4f1a-9e04-ae8a926fc546"
            }
        },
        {
            "cell_type": "code",
            "source": [
                "Import-Module .\\dbachecks.psd1\n",
                "$null = Reset-DbcConfig"
            ],
            "metadata": {
                "azdata_cell_guid": "bf9798f1-2a32-4b11-abfa-7757cb789c71"
            },
            "outputs": [
{
    "name": "stdout",
    "text": "\r\n",
    "output_type": "stream"
}, {
    "name": "stdout",
    "text": "Name                             State   CPUUsage(%) MemoryAssigned(M) Uptime           Status\r\n",
    "output_type": "stream"
}, {
    "name": "stdout",
    "text": "----                             -----   ----------- ----------------- ------           ------     \r\n",
    "output_type": "stream"
}, {
    "name": "stdout",
    "text": "BeardDC1                         Running 0           1252              01:38:33.0920000 Operating …\r\n",
    "output_type": "stream"
}, {
    "name": "stdout",
    "text": "BeardDC2                         Off     0           0                 00:00:00         Operating …\r\n",
    "output_type": "stream"
}, {
    "name": "stdout",
    "text": "BeardLinuxVNext                  Off     0           0                 00:00:00         Operating …\r\n",
    "output_type": "stream"
}, {
    "name": "stdout",
    "text": "DockerDesktopVM                  Off     0           0                 00:00:00         Operating …\r\n",
    "output_type": "stream"
}, {
    "name": "stdout",
    "text": "LinuxvNextCTP14                  Off     0           0                 00:00:00         Operating …\r\n",
    "output_type": "stream"
}, {
    "name": "stdout",
    "text": "PullServer                       Off     0           0                 00:00:00         Operating …\r\n",
    "output_type": "stream"
}, {
    "name": "stdout",
    "text": "SQL2005Ser2003                   Running 1           822               01:39:01.8810000 Operating …\r\n",
    "output_type": "stream"
}, {
    "name": "stdout",
    "text": "SQL2008Ser12R2                   Running 0           694               01:39:01.6940000 Operating …\r\n",
    "output_type": "stream"
}, {
    "name": "stdout",
    "text": "SQL2012Ser08AG1                  Off     0           0                 00:00:00         Operating …\r\n",
    "output_type": "stream"
}, {
    "name": "stdout",
    "text": "SQL2012Ser08AG2                  Off     0           0                 00:00:00         Operating …\r\n",
    "output_type": "stream"
}, {
    "name": "stdout",
    "text": "SQL2012Ser08AG3                  Off     0           0                 00:00:00         Operating …\r\n",
    "output_type": "stream"
}, {
    "name": "stdout",
    "text": "SQL2014Ser12R2                   Running 0           5398              01:39:05.6010000 Operating …\r\n",
    "output_type": "stream"
}, {
    "name": "stdout",
    "text": "SQL2016N1                        Running 0           3568              01:39:06.1530000 Operating …\r\n",
    "output_type": "stream"
}, {
    "name": "stdout",
    "text": "SQL2016N2                        Off     0           0                 00:00:00         Operating …\r\n",
    "output_type": "stream"
}, {
    "name": "stdout",
    "text": "SQL2016N3                        Running 0           3124              01:39:06.6790000 Operating …\r\n",
    "output_type": "stream"
}, {
    "name": "stdout",
    "text": "SQL2017CTP2                      Off     0           0                 00:00:00         Operating …\r\n",
    "output_type": "stream"
}, {
    "name": "stdout",
    "text": "SQL2019N1                        Off     0           0                 00:00:00         Operating …\r\n",
    "output_type": "stream"
}, {
    "name": "stdout",
    "text": "SQL2019N2                        Off     0           0                 00:00:00         Operating …\r\n",
    "output_type": "stream"
}, {
    "name": "stdout",
    "text": "SQLVnextN1                       Off     0           0                 00:00:00         Operating …\r\n",
    "output_type": "stream"
}, {
    "name": "stdout",
    "text": "SQLvNextN2                       Off     0           0                 00:00:00         Operating …\r\n",
    "output_type": "stream"
}, {
    "name": "stdout",
    "text": "THEBEARDDNS1                     Off     0           0                 00:00:00         Operating …\r\n",
    "output_type": "stream"
}, {
    "name": "stdout",
    "text": "BeardDC4                         Running 0           914               00:46:45.4530000 Operating …\r\n",
    "output_type": "stream"
}, {
    "name": "stdout",
    "text": "BeardNUC2VMs_2020-02-24-03-17-17 Off     0           0                 00:00:00         Operating …\r\n",
    "output_type": "stream"
}, {
    "name": "stdout",
    "text": "BeardNUC2VMs_2020-02-24-07-51-51 Off     0           0                 00:00:00         Operating …\r\n",
    "output_type": "stream"
}, {
    "name": "stdout",
    "text": "BeardNUC2VMs_2020-02-24-07-54-54 Off     0           0                 00:00:00         Operating …\r\n",
    "output_type": "stream"
}, {
    "name": "stdout",
    "text": "BeardNUC2VMs_2020-02-24-07-58-58 Off     0           0                 00:00:00         Operating …\r\n",
    "output_type": "stream"
}, {
    "name": "stdout",
    "text": "BeardNUC2VMs_2020-02-24-08-01-01 Off     0           0                 00:00:00         Operating …\r\n",
    "output_type": "stream"
}, {
    "name": "stdout",
    "text": "BeardNUC2VMs_2020-03-02-04-51-51 Off     0           0                 00:00:00         Operating …\r\n",
    "output_type": "stream"
}, {
    "name": "stdout",
    "text": "BeardNUC2VMs_2020-03-02-04-55-55 Off     0           0                 00:00:00         Operating …\r\n",
    "output_type": "stream"
}, {
    "name": "stdout",
    "text": "BeardNUC2VMs_2020-03-02-04-58-58 Off     0           0                 00:00:00         Operating …\r\n",
    "output_type": "stream"
}, {
    "name": "stdout",
    "text": "BeardNUC2VMs_2020-03-02-05-02-02 Off     0           0                 00:00:00         Operating …\r\n",
    "output_type": "stream"
}, {
    "name": "stdout",
    "text": "BeardNUC2VMs_2020-03-02-05-05-05 Off     0           0                 00:00:00         Operating …\r\n",
    "output_type": "stream"
}, {
    "name": "stdout",
    "text": "BeardNUC2VMs_2020-03-02-05-08-08 Off     0           0                 00:00:00         Operating …\r\n",
    "output_type": "stream"
}, {
    "name": "stdout",
    "text": "beardsyslog                      Running 0           4030              00:46:45.5240000 Operating …\r\n",
    "output_type": "stream"
}, {
    "name": "stdout",
    "text": "SQL2017N5                        Running 12          4096              00:46:46.9480000 Operating …\r\n",
    "output_type": "stream"
}, {
    "name": "stdout",
    "text": "SQL2019N20                       Off     0           0                 00:00:00         Operating …\r\n",
    "output_type": "stream"
}, {
    "name": "stdout",
    "text": "SQL2019N21                       Off     0           0                 00:00:00         Operating …\r\n",
    "output_type": "stream"
}, {
    "name": "stdout",
    "text": "SQL2019N22                       Off     0           0                 00:00:00         Operating …\r\n",
    "output_type": "stream"
}, {
    "name": "stdout",
    "text": "SQL2019N5                        Running 0           2884              00:46:46.7810000 Operating …\r\n",
    "output_type": "stream"
}, {
    "name": "stdout",
    "text": "Ubuntu 18.04.3 LTS               Off     0           0                 00:00:00         Operating …\r\n",
    "output_type": "stream"
}, {
    "name": "stdout",
    "text": "\r\n",
    "output_type": "stream"
}
],
            "execution_count": 3
        },
        {
            "cell_type": "markdown",
            "source": [
                "Excellent, that worked. Now to run some checks against a single instance  "
            ],
            "metadata": {
                "azdata_cell_guid": "1aed6379-9d36-4c06-bdbd-c8701eeb2486"
            }
        },
        {
            "cell_type": "markdown",
            "source": [
                "I don't care if the test pass or fail, I am only interested in any \n",
                "\n",
                "> Describe block has Error\n",
                "\n",
                "or\n",
                "\n",
                "> Error in Script\n",
                "\n",
                "type failures"
            ],
            "metadata": {
                "azdata_cell_guid": "9581b762-7235-4904-8563-9b5a81945bcb"
            }
        },
        {
            "cell_type": "markdown",
            "source": [
                "Multiple Instances at parameter"
            ],
            "metadata": {
                "azdata_cell_guid": "c7a39a7a-d837-4a60-bd47-2daab5680ee1"
            }
        },
        {
            "cell_type": "code",
            "source": [
                "Get-VM -ComputerName BEARDNUC, BEARDNUC2"
            ],
            "metadata": {
                "azdata_cell_guid": "62044ded-6607-4811-beeb-2e00bcb436fd"
            },
            "outputs": [
{
    "name": "stdout",
    "text": "\r\n",
    "output_type": "stream"
}, {
    "name": "stdout",
    "text": "Name                             State   CPUUsage(%) MemoryAssigned(M) Uptime           Status\r\n",
    "output_type": "stream"
}, {
    "name": "stdout",
    "text": "----                             -----   ----------- ----------------- ------           ------     \r\n",
    "output_type": "stream"
}, {
    "name": "stdout",
    "text": "BeardDC1                         Running 0           1248              01:56:01.4020000 Operating …\r\n",
    "output_type": "stream"
}, {
    "name": "stdout",
    "text": "BeardDC2                         Off     0           0                 00:00:00         Operating …\r\n",
    "output_type": "stream"
}, {
    "name": "stdout",
    "text": "BeardLinuxVNext                  Off     0           0                 00:00:00         Operating …\r\n",
    "output_type": "stream"
}, {
    "name": "stdout",
    "text": "DockerDesktopVM                  Off     0           0                 00:00:00         Operating …\r\n",
    "output_type": "stream"
}, {
    "name": "stdout",
    "text": "LinuxvNextCTP14                  Off     0           0                 00:00:00         Operating …\r\n",
    "output_type": "stream"
}, {
    "name": "stdout",
    "text": "PullServer                       Off     0           0                 00:00:00         Operating …\r\n",
    "output_type": "stream"
}, {
    "name": "stdout",
    "text": "SQL2005Ser2003                   Running 0           822               01:56:29.8050000 Operating …\r\n",
    "output_type": "stream"
}, {
    "name": "stdout",
    "text": "SQL2008Ser12R2                   Running 0           694               01:56:29.5420000 Operating …\r\n",
    "output_type": "stream"
}, {
    "name": "stdout",
    "text": "SQL2012Ser08AG1                  Running 29          2034              00:15:58.6650000 Operating …\r\n",
    "output_type": "stream"
}, {
    "name": "stdout",
    "text": "SQL2012Ser08AG2                  Running 0           1482              00:15:48.1840000 Operating …\r\n",
    "output_type": "stream"
}, {
    "name": "stdout",
    "text": "SQL2012Ser08AG3                  Running 3           2270              00:14:23.5850000 Operating …\r\n",
    "output_type": "stream"
}, {
    "name": "stdout",
    "text": "SQL2014Ser12R2                   Running 12          5398              01:56:33.1850000 Operating …\r\n",
    "output_type": "stream"
}, {
    "name": "stdout",
    "text": "SQL2016N1                        Running 5           3750              01:56:33.6430000 Operating …\r\n",
    "output_type": "stream"
}, {
    "name": "stdout",
    "text": "SQL2016N2                        Running 5           2426              00:13:57.0150000 Operating …\r\n",
    "output_type": "stream"
}, {
    "name": "stdout",
    "text": "SQL2016N3                        Running 11          3124              01:56:34.0040000 Operating …\r\n",
    "output_type": "stream"
}, {
    "name": "stdout",
    "text": "SQL2017CTP2                      Off     0           0                 00:00:00         Operating …\r\n",
    "output_type": "stream"
}, {
    "name": "stdout",
    "text": "SQL2019N1                        Off     0           0                 00:00:00         Operating …\r\n",
    "output_type": "stream"
}, {
    "name": "stdout",
    "text": "SQL2019N2                        Off     0           0                 00:00:00         Operating …\r\n",
    "output_type": "stream"
}, {
    "name": "stdout",
    "text": "SQLVnextN1                       Off     0           0                 00:00:00         Operating …\r\n",
    "output_type": "stream"
}, {
    "name": "stdout",
    "text": "SQLvNextN2                       Off     0           0                 00:00:00         Operating …\r\n",
    "output_type": "stream"
}, {
    "name": "stdout",
    "text": "THEBEARDDNS1                     Off     0           0                 00:00:00         Operating …\r\n",
    "output_type": "stream"
}, {
    "name": "stdout",
    "text": "BeardDC4                         Running 0           914               01:04:12.3110000 Operating …\r\n",
    "output_type": "stream"
}, {
    "name": "stdout",
    "text": "BeardNUC2VMs_2020-02-24-03-17-17 Off     0           0                 00:00:00         Operating …\r\n",
    "output_type": "stream"
}, {
    "name": "stdout",
    "text": "BeardNUC2VMs_2020-02-24-07-51-51 Off     0           0                 00:00:00         Operating …\r\n",
    "output_type": "stream"
}, {
    "name": "stdout",
    "text": "BeardNUC2VMs_2020-02-24-07-54-54 Off     0           0                 00:00:00         Operating …\r\n",
    "output_type": "stream"
}, {
    "name": "stdout",
    "text": "BeardNUC2VMs_2020-02-24-07-58-58 Off     0           0                 00:00:00         Operating …\r\n",
    "output_type": "stream"
}, {
    "name": "stdout",
    "text": "BeardNUC2VMs_2020-02-24-08-01-01 Off     0           0                 00:00:00         Operating …\r\n",
    "output_type": "stream"
}, {
    "name": "stdout",
    "text": "BeardNUC2VMs_2020-03-02-04-51-51 Off     0           0                 00:00:00         Operating …\r\n",
    "output_type": "stream"
}, {
    "name": "stdout",
    "text": "BeardNUC2VMs_2020-03-02-04-55-55 Off     0           0                 00:00:00         Operating …\r\n",
    "output_type": "stream"
}, {
    "name": "stdout",
    "text": "BeardNUC2VMs_2020-03-02-04-58-58 Off     0           0                 00:00:00         Operating …\r\n",
    "output_type": "stream"
}, {
    "name": "stdout",
    "text": "BeardNUC2VMs_2020-03-02-05-02-02 Off     0           0                 00:00:00         Operating …\r\n",
    "output_type": "stream"
}, {
    "name": "stdout",
    "text": "BeardNUC2VMs_2020-03-02-05-05-05 Off     0           0                 00:00:00         Operating …\r\n",
    "output_type": "stream"
}, {
    "name": "stdout",
    "text": "BeardNUC2VMs_2020-03-02-05-08-08 Off     0           0                 00:00:00         Operating …\r\n",
    "output_type": "stream"
}, {
    "name": "stdout",
    "text": "beardsyslog                      Running 0           4030              01:04:11.9930000 Operating …\r\n",
    "output_type": "stream"
}, {
    "name": "stdout",
    "text": "SQL2017N5                        Running 12          4096              01:04:12.5300000 Operating …\r\n",
    "output_type": "stream"
}, {
    "name": "stdout",
    "text": "SQL2019N20                       Running 0           1554              00:13:53.6050000 Operating …\r\n",
    "output_type": "stream"
}, {
    "name": "stdout",
    "text": "SQL2019N21                       Running 0           1534              00:13:50.1540000 Operating …\r\n",
    "output_type": "stream"
}, {
    "name": "stdout",
    "text": "SQL2019N22                       Off     0           0                 00:00:00         Operating …\r\n",
    "output_type": "stream"
}, {
    "name": "stdout",
    "text": "SQL2019N5                        Running 0           2884              01:04:12.2140000 Operating …\r\n",
    "output_type": "stream"
}, {
    "name": "stdout",
    "text": "Ubuntu 18.04.3 LTS               Off     0           0                 00:00:00         Operating …\r\n",
    "output_type": "stream"
}, {
    "name": "stdout",
    "text": "\r\n",
    "output_type": "stream"
}
],
            "execution_count": 4
        },
        {
            "cell_type": "code",
            "source": [
                "$Sqlinstances = (Get-VM -ComputerName BEARDNUC, BEARDNUC2 -Name *SQL* | Where State -eq 'Running').Name\n",
                "\n",
                "Invoke-DbcCheck -SqlInstance $SQLInstances -Check InstanceConnection"
            ],
            "metadata": {
                "azdata_cell_guid": "070ba8bb-cfd9-4ce7-a29e-649128693bf0"
            },
            "outputs": [
{
    "name": "stdout",
    "text": "\u001b[97m    ____            __\r\n   / __ \\___  _____/ /____  _____\r\n  / /_/ / _ \\/ ___/ __/ _ \\/ ___/\r\n / ____/  __(__  ) /_/  __/ /\r\n/_/    \\___/____/\\__/\\___/_/\r\nPester v4.9.0\r\nExecuting all tests in 'D:\\OneDrive\\Documents\\GitHub\\dbachecks\\checks\\Instance.Tests.ps1' with Tags InstanceConnection\u001b[0m\r\n",
    "output_type": "stream"
}, {
    "name": "stdout",
    "text": "\r\n",
    "output_type": "stream"
}, {
    "name": "stdout",
    "text": "\u001b[92mExecuting script D:\\OneDrive\\Documents\\GitHub\\dbachecks\\checks\\Instance.Tests.ps1\u001b[0m\r\n",
    "output_type": "stream"
}, {
    "name": "stdout",
    "text": "\r\n",
    "output_type": "stream"
}, {
    "name": "stdout",
    "text": "\u001b[92m  Describing Instance Connection\u001b[0m\r\n",
    "output_type": "stream"
}, {
    "name": "stdout",
    "text": "\r\n",
    "output_type": "stream"
}, {
    "name": "stdout",
    "text": "\u001b[92m    Context Testing Instance Connection on SQL2005Ser2003\u001b[0m\r\n",
    "output_type": "stream"
}, {
    "name": "stdout",
    "text": "\u001b[32m      [+] connects successfully to SQL2005Ser2003\u001b[0m",
    "output_type": "stream"
}, {
    "name": "stdout",
    "text": "\u001b[90m 50ms\u001b[0m\r\n",
    "output_type": "stream"
}, {
    "name": "stdout",
    "text": "\u001b[32m      [+] auth scheme should be Kerberos on SQL2005Ser2003\u001b[0m",
    "output_type": "stream"
}, {
    "name": "stdout",
    "text": "\u001b[90m 179ms\u001b[0m\r\n",
    "output_type": "stream"
}, {
    "name": "stdout",
    "text": "\u001b[32m      [+] We should be able to ping host SQL2005Ser2003\u001b[0m",
    "output_type": "stream"
}, {
    "name": "stdout",
    "text": "\u001b[90m 18ms\u001b[0m\r\n",
    "output_type": "stream"
}, {
    "name": "stdout",
    "text": "\u001b[91m      [-] We should be able to remote onto SQL2005Ser2003\u001b[0m",
    "output_type": "stream"
}, {
    "name": "stdout",
    "text": "\u001b[90m 29ms\u001b[0m\r\n",
    "output_type": "stream"
}, {
    "name": "stdout",
    "text": "\u001b[91m        Expected $true, but got $false.\u001b[0m\r\n",
    "output_type": "stream"
}, {
    "name": "stdout",
    "text": "\u001b[91m        84:                     $remoting | Should -BeTrue\u001b[0m\r\n",
    "output_type": "stream"
}, {
    "name": "stdout",
    "text": "\u001b[91m        at <ScriptBlock>, D:\\OneDrive\\Documents\\GitHub\\dbachecks\\checks\\Instance.Tests.ps1: line 84\u001b[0m\r\n",
    "output_type": "stream"
}, {
    "name": "stdout",
    "text": "\r\n",
    "output_type": "stream"
}, {
    "name": "stdout",
    "text": "\u001b[92m  Describing Instance Connection\u001b[0m\r\n",
    "output_type": "stream"
}, {
    "name": "stdout",
    "text": "\r\n",
    "output_type": "stream"
}, {
    "name": "stdout",
    "text": "\u001b[92m    Context Testing Instance Connection on SQL2016N2\u001b[0m\r\n",
    "output_type": "stream"
}, {
    "name": "stdout",
    "text": "\u001b[32m      [+] connects successfully to SQL2016N2\u001b[0m",
    "output_type": "stream"
}, {
    "name": "stdout",
    "text": "\u001b[90m 2ms\u001b[0m\r\n",
    "output_type": "stream"
}, {
    "name": "stdout",
    "text": "\u001b[32m      [+] auth scheme should be Kerberos on SQL2016N2\u001b[0m",
    "output_type": "stream"
}, {
    "name": "stdout",
    "text": "\u001b[90m 189ms\u001b[0m\r\n",
    "output_type": "stream"
}, {
    "name": "stdout",
    "text": "\u001b[32m      [+] We should be able to ping host SQL2016N2\u001b[0m",
    "output_type": "stream"
}, {
    "name": "stdout",
    "text": "\u001b[90m 4ms\u001b[0m\r\n",
    "output_type": "stream"
}, {
    "name": "stdout",
    "text": "\u001b[91m      [-] We should be able to remote onto SQL2016N2\u001b[0m",
    "output_type": "stream"
}, {
    "name": "stdout",
    "text": "\u001b[90m 5ms\u001b[0m\r\n",
    "output_type": "stream"
}, {
    "name": "stdout",
    "text": "\u001b[91m        Expected $true, but got $false.\u001b[0m\r\n",
    "output_type": "stream"
}, {
    "name": "stdout",
    "text": "\u001b[91m        84:                     $remoting | Should -BeTrue\u001b[0m\r\n",
    "output_type": "stream"
}, {
    "name": "stdout",
    "text": "\u001b[91m        at <ScriptBlock>, D:\\OneDrive\\Documents\\GitHub\\dbachecks\\checks\\Instance.Tests.ps1: line 84\u001b[0m\r\n",
    "output_type": "stream"
}, {
    "name": "stdout",
    "text": "\r\n",
    "output_type": "stream"
}, {
    "name": "stdout",
    "text": "\u001b[92m  Describing Instance Connection\u001b[0m\r\n",
    "output_type": "stream"
}, {
    "name": "stdout",
    "text": "\r\n",
    "output_type": "stream"
}, {
    "name": "stdout",
    "text": "\u001b[92m    Context Testing Instance Connection on SQL2012Ser08AG1\u001b[0m\r\n",
    "output_type": "stream"
}, {
    "name": "stdout",
    "text": "\u001b[32m      [+] connects successfully to SQL2012Ser08AG1\u001b[0m",
    "output_type": "stream"
}, {
    "name": "stdout",
    "text": "\u001b[90m 1ms\u001b[0m\r\n",
    "output_type": "stream"
}, {
    "name": "stdout",
    "text": "\u001b[32m      [+] auth scheme should be Kerberos on SQL2012Ser08AG1\u001b[0m",
    "output_type": "stream"
}, {
    "name": "stdout",
    "text": "\u001b[90m 218ms\u001b[0m\r\n",
    "output_type": "stream"
}, {
    "name": "stdout",
    "text": "\u001b[32m      [+] We should be able to ping host SQL2012Ser08AG1\u001b[0m",
    "output_type": "stream"
}, {
    "name": "stdout",
    "text": "\u001b[90m 5ms\u001b[0m\r\n",
    "output_type": "stream"
}, {
    "name": "stdout",
    "text": "\u001b[91m      [-] We should be able to remote onto SQL2012Ser08AG1\u001b[0m",
    "output_type": "stream"
}, {
    "name": "stdout",
    "text": "\u001b[90m 7ms\u001b[0m\r\n",
    "output_type": "stream"
}, {
    "name": "stdout",
    "text": "\u001b[91m        Expected $true, but got $false.\u001b[0m\r\n",
    "output_type": "stream"
}, {
    "name": "stdout",
    "text": "\u001b[91m        84:                     $remoting | Should -BeTrue\u001b[0m\r\n",
    "output_type": "stream"
}, {
    "name": "stdout",
    "text": "\u001b[91m        at <ScriptBlock>, D:\\OneDrive\\Documents\\GitHub\\dbachecks\\checks\\Instance.Tests.ps1: line 84\u001b[0m\r\n",
    "output_type": "stream"
}, {
    "name": "stdout",
    "text": "\r\n",
    "output_type": "stream"
}, {
    "name": "stdout",
    "text": "\u001b[92m  Describing Instance Connection\u001b[0m\r\n",
    "output_type": "stream"
}, {
    "name": "stdout",
    "text": "\r\n",
    "output_type": "stream"
}, {
    "name": "stdout",
    "text": "\u001b[92m    Context Testing Instance Connection on SQL2016N3\u001b[0m\r\n",
    "output_type": "stream"
}, {
    "name": "stdout",
    "text": "\u001b[32m      [+] connects successfully to SQL2016N3\u001b[0m",
    "output_type": "stream"
}, {
    "name": "stdout",
    "text": "\u001b[90m 3ms\u001b[0m\r\n",
    "output_type": "stream"
}, {
    "name": "stdout",
    "text": "\u001b[32m      [+] auth scheme should be Kerberos on SQL2016N3\u001b[0m",
    "output_type": "stream"
}, {
    "name": "stdout",
    "text": "\u001b[90m 182ms\u001b[0m\r\n",
    "output_type": "stream"
}, {
    "name": "stdout",
    "text": "\u001b[32m      [+] We should be able to ping host SQL2016N3\u001b[0m",
    "output_type": "stream"
}, {
    "name": "stdout",
    "text": "\u001b[90m 3ms\u001b[0m\r\n",
    "output_type": "stream"
}, {
    "name": "stdout",
    "text": "\u001b[91m      [-] We should be able to remote onto SQL2016N3\u001b[0m",
    "output_type": "stream"
}, {
    "name": "stdout",
    "text": "\u001b[90m 4ms\u001b[0m\r\n",
    "output_type": "stream"
}, {
    "name": "stdout",
    "text": "\u001b[91m        Expected $true, but got $false.\u001b[0m\r\n",
    "output_type": "stream"
}, {
    "name": "stdout",
    "text": "\u001b[91m        84:                     $remoting | Should -BeTrue\u001b[0m\r\n",
    "output_type": "stream"
}, {
    "name": "stdout",
    "text": "\u001b[91m        at <ScriptBlock>, D:\\OneDrive\\Documents\\GitHub\\dbachecks\\checks\\Instance.Tests.ps1: line 84\u001b[0m\r\n",
    "output_type": "stream"
}, {
    "name": "stdout",
    "text": "\r\n",
    "output_type": "stream"
}, {
    "name": "stdout",
    "text": "\u001b[92m  Describing Instance Connection\u001b[0m\r\n",
    "output_type": "stream"
}, {
    "name": "stdout",
    "text": "\r\n",
    "output_type": "stream"
}, {
    "name": "stdout",
    "text": "\u001b[92m    Context Testing Instance Connection on SQL2012Ser08AG3\u001b[0m\r\n",
    "output_type": "stream"
}, {
    "name": "stdout",
    "text": "\u001b[32m      [+] connects successfully to SQL2012Ser08AG3\u001b[0m",
    "output_type": "stream"
}, {
    "name": "stdout",
    "text": "\u001b[90m 2ms\u001b[0m\r\n",
    "output_type": "stream"
}, {
    "name": "stdout",
    "text": "\u001b[32m      [+] auth scheme should be Kerberos on SQL2012Ser08AG3\u001b[0m",
    "output_type": "stream"
}, {
    "name": "stdout",
    "text": "\u001b[90m 205ms\u001b[0m\r\n",
    "output_type": "stream"
}, {
    "name": "stdout",
    "text": "\u001b[32m      [+] We should be able to ping host SQL2012Ser08AG3\u001b[0m",
    "output_type": "stream"
}, {
    "name": "stdout",
    "text": "\u001b[90m 3ms\u001b[0m\r\n",
    "output_type": "stream"
}, {
    "name": "stdout",
    "text": "\u001b[91m      [-] We should be able to remote onto SQL2012Ser08AG3\u001b[0m",
    "output_type": "stream"
}, {
    "name": "stdout",
    "text": "\u001b[90m 4ms\u001b[0m\r\n",
    "output_type": "stream"
}, {
    "name": "stdout",
    "text": "\u001b[91m        Expected $true, but got $false.\u001b[0m\r\n",
    "output_type": "stream"
}, {
    "name": "stdout",
    "text": "\u001b[91m        84:                     $remoting | Should -BeTrue\u001b[0m\r\n",
    "output_type": "stream"
}, {
    "name": "stdout",
    "text": "\u001b[91m        at <ScriptBlock>, D:\\OneDrive\\Documents\\GitHub\\dbachecks\\checks\\Instance.Tests.ps1: line 84\u001b[0m\r\n",
    "output_type": "stream"
}, {
    "name": "stdout",
    "text": "\r\n",
    "output_type": "stream"
}, {
    "name": "stdout",
    "text": "\u001b[92m  Describing Instance Connection\u001b[0m\r\n",
    "output_type": "stream"
}, {
    "name": "stdout",
    "text": "\r\n",
    "output_type": "stream"
}, {
    "name": "stdout",
    "text": "\u001b[92m    Context Testing Instance Connection on SQL2012Ser08AG2\u001b[0m\r\n",
    "output_type": "stream"
}, {
    "name": "stdout",
    "text": "\u001b[32m      [+] connects successfully to SQL2012Ser08AG2\u001b[0m",
    "output_type": "stream"
}, {
    "name": "stdout",
    "text": "\u001b[90m 2ms\u001b[0m\r\n",
    "output_type": "stream"
}, {
    "name": "stdout",
    "text": "\u001b[32m      [+] auth scheme should be Kerberos on SQL2012Ser08AG2\u001b[0m",
    "output_type": "stream"
}, {
    "name": "stdout",
    "text": "\u001b[90m 202ms\u001b[0m\r\n",
    "output_type": "stream"
}, {
    "name": "stdout",
    "text": "\u001b[32m      [+] We should be able to ping host SQL2012Ser08AG2\u001b[0m",
    "output_type": "stream"
}, {
    "name": "stdout",
    "text": "\u001b[90m 3ms\u001b[0m\r\n",
    "output_type": "stream"
}, {
    "name": "stdout",
    "text": "\u001b[91m      [-] We should be able to remote onto SQL2012Ser08AG2\u001b[0m",
    "output_type": "stream"
}, {
    "name": "stdout",
    "text": "\u001b[90m 7ms\u001b[0m\r\n",
    "output_type": "stream"
}, {
    "name": "stdout",
    "text": "\u001b[91m        Expected $true, but got $false.\u001b[0m\r\n",
    "output_type": "stream"
}, {
    "name": "stdout",
    "text": "\u001b[91m        84:                     $remoting | Should -BeTrue\u001b[0m\r\n",
    "output_type": "stream"
}, {
    "name": "stdout",
    "text": "\u001b[91m        at <ScriptBlock>, D:\\OneDrive\\Documents\\GitHub\\dbachecks\\checks\\Instance.Tests.ps1: line 84\u001b[0m\r\n",
    "output_type": "stream"
}, {
    "name": "stdout",
    "text": "\r\n",
    "output_type": "stream"
}, {
    "name": "stdout",
    "text": "\u001b[92m  Describing Instance Connection\u001b[0m\r\n",
    "output_type": "stream"
}, {
    "name": "stdout",
    "text": "\r\n",
    "output_type": "stream"
}, {
    "name": "stdout",
    "text": "\u001b[92m    Context Testing Instance Connection on SQL2014Ser12R2\u001b[0m\r\n",
    "output_type": "stream"
}, {
    "name": "stdout",
    "text": "\u001b[32m      [+] connects successfully to SQL2014Ser12R2\u001b[0m",
    "output_type": "stream"
}, {
    "name": "stdout",
    "text": "\u001b[90m 3ms\u001b[0m\r\n",
    "output_type": "stream"
}, {
    "name": "stdout",
    "text": "\u001b[32m      [+] auth scheme should be Kerberos on SQL2014Ser12R2\u001b[0m",
    "output_type": "stream"
}, {
    "name": "stdout",
    "text": "\u001b[90m 164ms\u001b[0m\r\n",
    "output_type": "stream"
}, {
    "name": "stdout",
    "text": "\u001b[32m      [+] We should be able to ping host SQL2014Ser12R2\u001b[0m",
    "output_type": "stream"
}, {
    "name": "stdout",
    "text": "\u001b[90m 3ms\u001b[0m\r\n",
    "output_type": "stream"
}, {
    "name": "stdout",
    "text": "\u001b[91m      [-] We should be able to remote onto SQL2014Ser12R2\u001b[0m",
    "output_type": "stream"
}, {
    "name": "stdout",
    "text": "\u001b[90m 5ms\u001b[0m\r\n",
    "output_type": "stream"
}, {
    "name": "stdout",
    "text": "\u001b[91m        Expected $true, but got $false.\u001b[0m\r\n",
    "output_type": "stream"
}, {
    "name": "stdout",
    "text": "\u001b[91m        84:                     $remoting | Should -BeTrue\u001b[0m\r\n",
    "output_type": "stream"
}, {
    "name": "stdout",
    "text": "\u001b[91m        at <ScriptBlock>, D:\\OneDrive\\Documents\\GitHub\\dbachecks\\checks\\Instance.Tests.ps1: line 84\u001b[0m\r\n",
    "output_type": "stream"
}, {
    "name": "stdout",
    "text": "\r\n",
    "output_type": "stream"
}, {
    "name": "stdout",
    "text": "\u001b[92m  Describing Instance Connection\u001b[0m\r\n",
    "output_type": "stream"
}, {
    "name": "stdout",
    "text": "\r\n",
    "output_type": "stream"
}, {
    "name": "stdout",
    "text": "\u001b[92m    Context Testing Instance Connection on SQL2008Ser12R2\u001b[0m\r\n",
    "output_type": "stream"
}, {
    "name": "stdout",
    "text": "\u001b[32m      [+] connects successfully to SQL2008Ser12R2\u001b[0m",
    "output_type": "stream"
}, {
    "name": "stdout",
    "text": "\u001b[90m 2ms\u001b[0m\r\n",
    "output_type": "stream"
}, {
    "name": "stdout",
    "text": "\u001b[32m      [+] auth scheme should be Kerberos on SQL2008Ser12R2\u001b[0m",
    "output_type": "stream"
}, {
    "name": "stdout",
    "text": "\u001b[90m 145ms\u001b[0m\r\n",
    "output_type": "stream"
}, {
    "name": "stdout",
    "text": "\u001b[32m      [+] We should be able to ping host SQL2008Ser12R2\u001b[0m",
    "output_type": "stream"
}, {
    "name": "stdout",
    "text": "\u001b[90m 4ms\u001b[0m\r\n",
    "output_type": "stream"
}, {
    "name": "stdout",
    "text": "\u001b[91m      [-] We should be able to remote onto SQL2008Ser12R2\u001b[0m",
    "output_type": "stream"
}, {
    "name": "stdout",
    "text": "\u001b[90m 7ms\u001b[0m\r\n",
    "output_type": "stream"
}, {
    "name": "stdout",
    "text": "\u001b[91m        Expected $true, but got $false.\u001b[0m\r\n",
    "output_type": "stream"
}, {
    "name": "stdout",
    "text": "\u001b[91m        84:                     $remoting | Should -BeTrue\u001b[0m\r\n",
    "output_type": "stream"
}, {
    "name": "stdout",
    "text": "\u001b[91m        at <ScriptBlock>, D:\\OneDrive\\Documents\\GitHub\\dbachecks\\checks\\Instance.Tests.ps1: line 84\u001b[0m\r\n",
    "output_type": "stream"
}, {
    "name": "stdout",
    "text": "\r\n",
    "output_type": "stream"
}, {
    "name": "stdout",
    "text": "\u001b[92m  Describing Instance Connection\u001b[0m\r\n",
    "output_type": "stream"
}, {
    "name": "stdout",
    "text": "\r\n",
    "output_type": "stream"
}, {
    "name": "stdout",
    "text": "\u001b[92m    Context Testing Instance Connection on SQL2016N1\u001b[0m\r\n",
    "output_type": "stream"
}, {
    "name": "stdout",
    "text": "\u001b[32m      [+] connects successfully to SQL2016N1\u001b[0m",
    "output_type": "stream"
}, {
    "name": "stdout",
    "text": "\u001b[90m 3ms\u001b[0m\r\n",
    "output_type": "stream"
}, {
    "name": "stdout",
    "text": "\u001b[32m      [+] auth scheme should be Kerberos on SQL2016N1\u001b[0m",
    "output_type": "stream"
}, {
    "name": "stdout",
    "text": "\u001b[90m 221ms\u001b[0m\r\n",
    "output_type": "stream"
}, {
    "name": "stdout",
    "text": "\u001b[32m      [+] We should be able to ping host SQL2016N1\u001b[0m",
    "output_type": "stream"
}, {
    "name": "stdout",
    "text": "\u001b[90m 3ms\u001b[0m\r\n",
    "output_type": "stream"
}, {
    "name": "stdout",
    "text": "\u001b[91m      [-] We should be able to remote onto SQL2016N1\u001b[0m",
    "output_type": "stream"
}, {
    "name": "stdout",
    "text": "\u001b[90m 7ms\u001b[0m\r\n",
    "output_type": "stream"
}, {
    "name": "stdout",
    "text": "\u001b[91m        Expected $true, but got $false.\u001b[0m\r\n",
    "output_type": "stream"
}, {
    "name": "stdout",
    "text": "\u001b[91m        84:                     $remoting | Should -BeTrue\u001b[0m\r\n",
    "output_type": "stream"
}, {
    "name": "stdout",
    "text": "\u001b[91m        at <ScriptBlock>, D:\\OneDrive\\Documents\\GitHub\\dbachecks\\checks\\Instance.Tests.ps1: line 84\u001b[0m\r\n",
    "output_type": "stream"
}, {
    "name": "stdout",
    "text": "\r\n",
    "output_type": "stream"
}, {
    "name": "stdout",
    "text": "\u001b[92m  Describing Instance Connection\u001b[0m\r\n",
    "output_type": "stream"
}, {
    "name": "stdout",
    "text": "\r\n",
    "output_type": "stream"
}, {
    "name": "stdout",
    "text": "\u001b[92m    Context Testing Instance Connection on SQL2017N5\u001b[0m\r\n",
    "output_type": "stream"
}, {
    "name": "stdout",
    "text": "\u001b[32m      [+] connects successfully to SQL2017N5\u001b[0m",
    "output_type": "stream"
}, {
    "name": "stdout",
    "text": "\u001b[90m 1ms\u001b[0m\r\n",
    "output_type": "stream"
}, {
    "name": "stdout",
    "text": "\u001b[32m      [+] auth scheme should be Kerberos on SQL2017N5\u001b[0m",
    "output_type": "stream"
}, {
    "name": "stdout",
    "text": "\u001b[90m 1.89s\u001b[0m\r\n",
    "output_type": "stream"
}, {
    "name": "stdout",
    "text": "\u001b[91m      [-] We should be able to ping host SQL2017N5\u001b[0m",
    "output_type": "stream"
}, {
    "name": "stdout",
    "text": "\u001b[90m 882ms\u001b[0m\r\n",
    "output_type": "stream"
}, {
    "name": "stdout",
    "text": "\u001b[91m        Expected $true, but got $false.\u001b[0m\r\n",
    "output_type": "stream"
}, {
    "name": "stdout",
    "text": "\u001b[91m        72:                     $pingable | Should -BeTrue\u001b[0m\r\n",
    "output_type": "stream"
}, {
    "name": "stdout",
    "text": "\u001b[91m        at <ScriptBlock>, D:\\OneDrive\\Documents\\GitHub\\dbachecks\\checks\\Instance.Tests.ps1: line 72\u001b[0m\r\n",
    "output_type": "stream"
}, {
    "name": "stdout",
    "text": "\u001b[91m      [-] We should be able to remote onto SQL2017N5\u001b[0m",
    "output_type": "stream"
}, {
    "name": "stdout",
    "text": "\u001b[90m 4ms\u001b[0m\r\n",
    "output_type": "stream"
}, {
    "name": "stdout",
    "text": "\u001b[91m        Expected $true, but got $false.\u001b[0m\r\n",
    "output_type": "stream"
}, {
    "name": "stdout",
    "text": "\u001b[91m        84:                     $remoting | Should -BeTrue\u001b[0m\r\n",
    "output_type": "stream"
}, {
    "name": "stdout",
    "text": "\u001b[91m        at <ScriptBlock>, D:\\OneDrive\\Documents\\GitHub\\dbachecks\\checks\\Instance.Tests.ps1: line 84\u001b[0m\r\n",
    "output_type": "stream"
}, {
    "name": "stdout",
    "text": "\r\n",
    "output_type": "stream"
}, {
    "name": "stdout",
    "text": "\u001b[92m  Describing Instance Connection\u001b[0m\r\n",
    "output_type": "stream"
}, {
    "name": "stdout",
    "text": "\r\n",
    "output_type": "stream"
}, {
    "name": "stdout",
    "text": "\u001b[92m    Context Testing Instance Connection on SQL2019N21\u001b[0m\r\n",
    "output_type": "stream"
}, {
    "name": "stdout",
    "text": "\u001b[32m      [+] connects successfully to SQL2019N21\u001b[0m",
    "output_type": "stream"
}, {
    "name": "stdout",
    "text": "\u001b[90m 1ms\u001b[0m\r\n",
    "output_type": "stream"
}, {
    "name": "stdout",
    "text": "\u001b[32m      [+] auth scheme should be Kerberos on SQL2019N21\u001b[0m",
    "output_type": "stream"
}, {
    "name": "stdout",
    "text": "\u001b[90m 96ms\u001b[0m\r\n",
    "output_type": "stream"
}, {
    "name": "stdout",
    "text": "\u001b[91m      [-] We should be able to ping host SQL2019N21\u001b[0m",
    "output_type": "stream"
}, {
    "name": "stdout",
    "text": "\u001b[90m 665ms\u001b[0m\r\n",
    "output_type": "stream"
}, {
    "name": "stdout",
    "text": "\u001b[91m        Expected $true, but got $false.\u001b[0m\r\n",
    "output_type": "stream"
}, {
    "name": "stdout",
    "text": "\u001b[91m        72:                     $pingable | Should -BeTrue\u001b[0m\r\n",
    "output_type": "stream"
}, {
    "name": "stdout",
    "text": "\u001b[91m        at <ScriptBlock>, D:\\OneDrive\\Documents\\GitHub\\dbachecks\\checks\\Instance.Tests.ps1: line 72\u001b[0m\r\n",
    "output_type": "stream"
}, {
    "name": "stdout",
    "text": "\u001b[91m      [-] We should be able to remote onto SQL2019N21\u001b[0m",
    "output_type": "stream"
}, {
    "name": "stdout",
    "text": "\u001b[90m 5ms\u001b[0m\r\n",
    "output_type": "stream"
}, {
    "name": "stdout",
    "text": "\u001b[91m        Expected $true, but got $false.\u001b[0m\r\n",
    "output_type": "stream"
}, {
    "name": "stdout",
    "text": "\u001b[91m        84:                     $remoting | Should -BeTrue\u001b[0m\r\n",
    "output_type": "stream"
}, {
    "name": "stdout",
    "text": "\u001b[91m        at <ScriptBlock>, D:\\OneDrive\\Documents\\GitHub\\dbachecks\\checks\\Instance.Tests.ps1: line 84\u001b[0m\r\n",
    "output_type": "stream"
}, {
    "name": "stdout",
    "text": "\r\n",
    "output_type": "stream"
}, {
    "name": "stdout",
    "text": "\u001b[92m  Describing Instance Connection\u001b[0m\r\n",
    "output_type": "stream"
}, {
    "name": "stdout",
    "text": "\r\n",
    "output_type": "stream"
}, {
    "name": "stdout",
    "text": "\u001b[92m    Context Testing Instance Connection on SQL2019N20\u001b[0m\r\n",
    "output_type": "stream"
}, {
    "name": "stdout",
    "text": "\u001b[32m      [+] connects successfully to SQL2019N20\u001b[0m",
    "output_type": "stream"
}, {
    "name": "stdout",
    "text": "\u001b[90m 1ms\u001b[0m\r\n",
    "output_type": "stream"
}, {
    "name": "stdout",
    "text": "\u001b[32m      [+] auth scheme should be Kerberos on SQL2019N20\u001b[0m",
    "output_type": "stream"
}, {
    "name": "stdout",
    "text": "\u001b[90m 120ms\u001b[0m\r\n",
    "output_type": "stream"
}, {
    "name": "stdout",
    "text": "\u001b[91m      [-] We should be able to ping host SQL2019N20\u001b[0m",
    "output_type": "stream"
}, {
    "name": "stdout",
    "text": "\u001b[90m 617ms\u001b[0m\r\n",
    "output_type": "stream"
}, {
    "name": "stdout",
    "text": "\u001b[91m        Expected $true, but got $false.\u001b[0m\r\n",
    "output_type": "stream"
}, {
    "name": "stdout",
    "text": "\u001b[91m        72:                     $pingable | Should -BeTrue\u001b[0m\r\n",
    "output_type": "stream"
}, {
    "name": "stdout",
    "text": "\u001b[91m        at <ScriptBlock>, D:\\OneDrive\\Documents\\GitHub\\dbachecks\\checks\\Instance.Tests.ps1: line 72\u001b[0m\r\n",
    "output_type": "stream"
}, {
    "name": "stdout",
    "text": "\u001b[91m      [-] We should be able to remote onto SQL2019N20\u001b[0m",
    "output_type": "stream"
}, {
    "name": "stdout",
    "text": "\u001b[90m 4ms\u001b[0m\r\n",
    "output_type": "stream"
}, {
    "name": "stdout",
    "text": "\u001b[91m        Expected $true, but got $false.\u001b[0m\r\n",
    "output_type": "stream"
}, {
    "name": "stdout",
    "text": "\u001b[91m        84:                     $remoting | Should -BeTrue\u001b[0m\r\n",
    "output_type": "stream"
}, {
    "name": "stdout",
    "text": "\u001b[91m        at <ScriptBlock>, D:\\OneDrive\\Documents\\GitHub\\dbachecks\\checks\\Instance.Tests.ps1: line 84\u001b[0m\r\n",
    "output_type": "stream"
}, {
    "name": "stdout",
    "text": "\r\n",
    "output_type": "stream"
}, {
    "name": "stdout",
    "text": "\u001b[92m  Describing Instance Connection\u001b[0m\r\n",
    "output_type": "stream"
}, {
    "name": "stdout",
    "text": "\r\n",
    "output_type": "stream"
}, {
    "name": "stdout",
    "text": "\u001b[92m    Context Testing Instance Connection on SQL2019N5\u001b[0m\r\n",
    "output_type": "stream"
}, {
    "name": "stdout",
    "text": "\u001b[32m      [+] connects successfully to SQL2019N5\u001b[0m",
    "output_type": "stream"
}, {
    "name": "stdout",
    "text": "\u001b[90m 2ms\u001b[0m\r\n",
    "output_type": "stream"
}, {
    "name": "stdout",
    "text": "\u001b[32m      [+] auth scheme should be Kerberos on SQL2019N5\u001b[0m",
    "output_type": "stream"
}, {
    "name": "stdout",
    "text": "\u001b[90m 104ms\u001b[0m\r\n",
    "output_type": "stream"
}, {
    "name": "stdout",
    "text": "\u001b[91m      [-] We should be able to ping host SQL2019N5\u001b[0m",
    "output_type": "stream"
}, {
    "name": "stdout",
    "text": "\u001b[90m 660ms\u001b[0m\r\n",
    "output_type": "stream"
}, {
    "name": "stdout",
    "text": "\u001b[91m        Expected $true, but got $false.\u001b[0m\r\n",
    "output_type": "stream"
}, {
    "name": "stdout",
    "text": "\u001b[91m        72:                     $pingable | Should -BeTrue\u001b[0m\r\n",
    "output_type": "stream"
}, {
    "name": "stdout",
    "text": "\u001b[91m        at <ScriptBlock>, D:\\OneDrive\\Documents\\GitHub\\dbachecks\\checks\\Instance.Tests.ps1: line 72\u001b[0m\r\n",
    "output_type": "stream"
}, {
    "name": "stdout",
    "text": "\u001b[91m      [-] We should be able to remote onto SQL2019N5\u001b[0m",
    "output_type": "stream"
}, {
    "name": "stdout",
    "text": "\u001b[90m 4ms\u001b[0m\r\n",
    "output_type": "stream"
}, {
    "name": "stdout",
    "text": "\u001b[91m        Expected $true, but got $false.\u001b[0m\r\n",
    "output_type": "stream"
}, {
    "name": "stdout",
    "text": "\u001b[91m        84:                     $remoting | Should -BeTrue\u001b[0m\r\n",
    "output_type": "stream"
}, {
    "name": "stdout",
    "text": "\u001b[91m        at <ScriptBlock>, D:\\OneDrive\\Documents\\GitHub\\dbachecks\\checks\\Instance.Tests.ps1: line 84\u001b[0m\r\n",
    "output_type": "stream"
}, {
    "name": "stdout",
    "text": "\u001b[97mTests completed in 13.8s\u001b[0m\r\n",
    "output_type": "stream"
}, {
    "name": "stdout",
    "text": "\u001b[97mTests Passed: 35, \u001b[0m",
    "output_type": "stream"
}, {
    "name": "stdout",
    "text": "\u001b[91mFailed: 17, \u001b[0m",
    "output_type": "stream"
}, {
    "name": "stdout",
    "text": "\u001b[90mSkipped: 0, \u001b[0m",
    "output_type": "stream"
}, {
    "name": "stdout",
    "text": "\u001b[90mPending: 0, \u001b[0m",
    "output_type": "stream"
}, {
    "name": "stdout",
    "text": "\u001b[90mInconclusive: 0 \u001b[0m\r\n",
    "output_type": "stream"
}
],
            "execution_count": 5
        },
        {
            "cell_type": "code",
            "source": [],
            "metadata": {
                "azdata_cell_guid": "8a420911-8229-4589-bb77-d5e63291d7a9"
            },
            "outputs": [],
            "execution_count": null
        },
        {
            "cell_type": "code",
            "source": [],
            "metadata": {
                "azdata_cell_guid": "854ed04c-4349-4fa3-91b7-fd1359632275"
            },
            "outputs": [],
            "execution_count": null
        }
    ]
}