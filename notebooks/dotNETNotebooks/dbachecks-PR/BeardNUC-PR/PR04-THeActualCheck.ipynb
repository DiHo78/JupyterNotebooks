{
 "cells": [
  {
   "cell_type": "markdown",
   "metadata": {},
   "source": [
    "# dbachecks PR check on Beard NUC - MultipleInstances\n",
    "\n",
    "Rob uses this process to make sure that changes will work in an AD estate with a variety of versions"
   ]
  },
  {
   "cell_type": "markdown",
   "metadata": {},
   "source": [
    "First we must check the status of the local source control and ensure that we are in the PR branch"
   ]
  },
  {
   "cell_type": "code",
   "execution_count": 1,
   "metadata": {},
   "outputs": [
    {
     "data": {
      "text/html": [
       "<script type=\"text/javascript\">#!javascript\r\n",
       "if ((typeof(requirejs) !==  typeof(Function)) || (typeof(requirejs.config) !== typeof(Function))) { \r\n",
       "    let script = document.createElement(\"script\"); \r\n",
       "    script.setAttribute(\"src\", \"https://cdnjs.cloudflare.com/ajax/libs/require.js/2.3.6/require.min.js\"); \r\n",
       "    script.onload = function(){\r\n",
       "        loadDotnetInteractiveApi();\r\n",
       "    };\r\n",
       "    document.getElementsByTagName(\"head\")[0].appendChild(script); \r\n",
       "}\r\n",
       "else {\r\n",
       "    loadDotnetInteractiveApi();\r\n",
       "}\r\n",
       "\r\n",
       "function loadDotnetInteractiveApi(){\r\n",
       "    let apiRequire = requirejs.config({context:\"dotnet-interactive.18724.51074\",paths:{dotnetInteractive:\"http://localhost:51074/resources/dotnet-interactive\"}});\r\n",
       "    apiRequire(['dotnetInteractive'], \r\n",
       "    function(api) {       \r\n",
       "        api.createDotnetInteractiveClient(\"http://localhost:51074/\", window);\r\n",
       "    },\r\n",
       "    function(error){\r\n",
       "        console.log(error);\r\n",
       "    });\r\n",
       "}</script>"
      ]
     },
     "metadata": {},
     "output_type": "display_data"
    },
    {
     "name": "stdout",
     "output_type": "stream",
     "text": [
      "On branch pr/tboggiano/759\n",
      "Your branch is ahead of 'tboggiano/ports' by 12 commits.\n",
      "  (use \"git push\" to publish your local commits)\n",
      "\n",
      "Changes not staged for commit:\n",
      "  (use \"git add <file>...\" to update what will be committed)\n",
      "  (use \"git restore <file>...\" to discard changes in working directory)\n",
      "\tmodified:   checks/Server.Tests.ps1\n",
      "\tmodified:   internal/configurations/DbcCheckDescriptions.json\n",
      "\tmodified:   internal/configurations/configuration.ps1\n",
      "\n",
      "no changes added to commit (use \"git add\" and/or \"git commit -a\")\n"
     ]
    }
   ],
   "source": [
    "cd D:\\OneDrive\\Documents\\GitHub\\dbachecks\n",
    "    git status\n",
    "    "
   ]
  },
  {
   "cell_type": "markdown",
   "metadata": {},
   "source": [
    "First we need to import the module from source control - I normally use verbose to see how it is going\n"
   ]
  },
  {
   "cell_type": "code",
   "execution_count": 2,
   "metadata": {},
   "outputs": [
    {
     "name": "stdout",
     "output_type": "stream",
     "text": [
      "\u001b[93mVERBOSE: Loading module from path 'D:\\OneDrive\\Documents\\GitHub\\dbachecks\\dbachecks.psd1'.\u001b[0m\n",
      "\u001b[93mVERBOSE: Loading 'FormatsToProcess' from path 'D:\\OneDrive\\Documents\\GitHub\\dbachecks\\xml\\dbachecks.Format.ps1xml'.\u001b[0m\n",
      "\u001b[93mVERBOSE: Loading module from path 'D:\\OneDrive\\Documents\\GitHub\\dbachecks\\dbachecks.psm1'.\u001b[0m\n",
      "\u001b[93mVERBOSE: Exporting function 'Import-ModuleFile'.\u001b[0m\n",
      "\u001b[93mVERBOSE: Exporting function 'Get-CheckFile'.\u001b[0m\n",
      "\u001b[93mVERBOSE: Exporting function 'Get-CheckInformation'.\u001b[0m\n",
      "\u001b[93mVERBOSE: Exporting function 'Get-CheckRepo'.\u001b[0m\n",
      "\u001b[93mVERBOSE: Exporting function 'Get-ComputerName'.\u001b[0m\n",
      "\u001b[93mVERBOSE: Exporting function 'Get-DatabaseDetail'.\u001b[0m\n",
      "\u001b[93mVERBOSE: Exporting function 'Get-Instance'.\u001b[0m\n",
      "\u001b[93mVERBOSE: Exporting function 'Get-Version'.\u001b[0m\n",
      "\u001b[93mVERBOSE: Exporting function 'Invoke-ConfigurationScript'.\u001b[0m\n",
      "\u001b[93mVERBOSE: Exporting function 'New-Json'.\u001b[0m\n",
      "\u001b[93mVERBOSE: Exporting function 'Select-DefaultView'.\u001b[0m\n",
      "\u001b[93mVERBOSE: Exporting function 'Set-DatabaseForIntegrationTesting'.\u001b[0m\n",
      "\u001b[93mVERBOSE: Exporting function 'Clear-DbcPowerBiDataSource'.\u001b[0m\n",
      "\u001b[93mVERBOSE: Exporting function 'Export-DbcConfig'.\u001b[0m\n",
      "\u001b[93mVERBOSE: Exporting function 'Get-DbcCheck'.\u001b[0m\n",
      "\u001b[93mVERBOSE: Exporting function 'Get-DbcConfig'.\u001b[0m\n",
      "\u001b[93mVERBOSE: Exporting function 'Get-DbcConfigValue'.\u001b[0m\n",
      "\u001b[93mVERBOSE: Exporting function 'Get-DbcReleaseNote'.\u001b[0m\n",
      "\u001b[93mVERBOSE: Exporting function 'Get-DbcTagCollection'.\u001b[0m\n",
      "\u001b[93mVERBOSE: Exporting function 'Import-DbcConfig'.\u001b[0m\n",
      "\u001b[93mVERBOSE: Exporting function 'Invoke-DbcCheck'.\u001b[0m\n",
      "\u001b[93mVERBOSE: Exporting function 'Invoke-DbcConfigFile'.\u001b[0m\n",
      "\u001b[93mVERBOSE: Exporting function 'Reset-DbcConfig'.\u001b[0m\n",
      "\u001b[93mVERBOSE: Exporting function 'Save-DbcRequiredModules'.\u001b[0m\n",
      "\u001b[93mVERBOSE: Exporting function 'Set-DbcConfig'.\u001b[0m\n",
      "\u001b[93mVERBOSE: Exporting function 'Start-DbcPowerBi'.\u001b[0m\n",
      "\u001b[93mVERBOSE: Exporting function 'Update-DbcPowerBiDataSource'.\u001b[0m\n",
      "\u001b[93mVERBOSE: Exporting function 'Update-DbcRequiredModules'.\u001b[0m\n",
      "\u001b[93mVERBOSE: Importing function 'Clear-DbcPowerBiDataSource'.\u001b[0m\n",
      "\u001b[93mVERBOSE: Importing function 'Export-DbcConfig'.\u001b[0m\n",
      "\u001b[93mVERBOSE: Importing function 'Get-DbcCheck'.\u001b[0m\n",
      "\u001b[93mVERBOSE: Importing function 'Get-DbcConfig'.\u001b[0m\n",
      "\u001b[93mVERBOSE: Importing function 'Get-DbcConfigValue'.\u001b[0m\n",
      "\u001b[93mVERBOSE: Importing function 'Get-DbcReleaseNote'.\u001b[0m\n",
      "\u001b[93mVERBOSE: Importing function 'Get-DbcTagCollection'.\u001b[0m\n",
      "\u001b[93mVERBOSE: Importing function 'Import-DbcConfig'.\u001b[0m\n",
      "\u001b[93mVERBOSE: Importing function 'Invoke-DbcCheck'.\u001b[0m\n",
      "\u001b[93mVERBOSE: Importing function 'Invoke-DbcConfigFile'.\u001b[0m\n",
      "\u001b[93mVERBOSE: Importing function 'Reset-DbcConfig'.\u001b[0m\n",
      "\u001b[93mVERBOSE: Importing function 'Save-DbcRequiredModules'.\u001b[0m\n",
      "\u001b[93mVERBOSE: Importing function 'Set-DbcConfig'.\u001b[0m\n",
      "\u001b[93mVERBOSE: Importing function 'Start-DbcPowerBi'.\u001b[0m\n",
      "\u001b[93mVERBOSE: Importing function 'Update-DbcPowerBiDataSource'.\u001b[0m\n",
      "\u001b[93mVERBOSE: Importing function 'Update-DbcRequiredModules'.\u001b[0m\n"
     ]
    }
   ],
   "source": [
    "Import-Module .\\dbachecks.psd1 -Verbose\n",
    "$null= Reset-DbcConfig "
   ]
  },
  {
   "cell_type": "markdown",
   "metadata": {},
   "source": [
    "Excellent, that worked. Now to run some checks against a single instance  "
   ]
  },
  {
   "cell_type": "markdown",
   "metadata": {},
   "source": [
    "I don't care if the test pass or fail, I am only interested in any \n",
    "\n",
    "> Describe block has Error\n",
    "\n",
    "or\n",
    "\n",
    "> Error in Script\n",
    "\n",
    "type failures"
   ]
  },
  {
   "cell_type": "markdown",
   "metadata": {},
   "source": [
    "Multiple Instances at parameter"
   ]
  },
  {
   "cell_type": "markdown",
   "metadata": {},
   "source": [
    "# Make sure that the check and config have been written to the json file"
   ]
  },
  {
   "cell_type": "code",
   "execution_count": 3,
   "metadata": {},
   "outputs": [
    {
     "name": "stdout",
     "output_type": "stream",
     "text": [
      "\n",
      "Group       : Server\n",
      "Type        : ComputerName\n",
      "UniqueTag   : NonStandardPort\n",
      "AllTags     : NonStandardPort, Medium, CIS, Server\n",
      "Config      : app.computername skip.security.nonstandardport \n",
      "Description : Tests to see if the SQL Server Instances are NOT running on the default port of 1433.\n",
      "\n",
      "\n"
     ]
    }
   ],
   "source": [
    "Get-DbcCheck NonStandardPort | fl"
   ]
  },
  {
   "cell_type": "code",
   "execution_count": 4,
   "metadata": {},
   "outputs": [
    {
     "name": "stdout",
     "output_type": "stream",
     "text": [
      "\n",
      "Name        : skip.security.nonstandardport\n",
      "Value       : True\n",
      "Description : Skips the check for whether SQL Server should be configured with a non standard port\n",
      "\n",
      "\n"
     ]
    }
   ],
   "source": [
    "Get-DbcConfig skip.security.NonStandardPort | fl"
   ]
  },
  {
   "cell_type": "code",
   "execution_count": 5,
   "metadata": {},
   "outputs": [
    {
     "name": "stdout",
     "output_type": "stream",
     "text": [
      "\u001b[97m    ____            __\n",
      "   / __ \\___  _____/ /____  _____\n",
      "  / /_/ / _ \\/ ___/ __/ _ \\/ ___/\n",
      " / ____/  __(__  ) /_/  __/ /\n",
      "/_/    \\___/____/\\__/\\___/_/\n",
      "Pester v4.9.0\n",
      "Executing all tests in 'D:\\OneDrive\\Documents\\GitHub\\dbachecks\\checks\\Server.Tests.ps1' with Tags NonStandardPort\u001b[0m\n",
      "\n",
      "\u001b[92mExecuting script D:\\OneDrive\\Documents\\GitHub\\dbachecks\\checks\\Server.Tests.ps1\u001b[0m\n",
      "\n",
      "\u001b[92m  Describing Non Standard Port\u001b[0m\n",
      "\n",
      "\u001b[92m    Context Checking SQL Server ports on SQL2005Ser2003\u001b[0m\n",
      "\u001b[93m      [!] No SQL Server Instances should be configured with port 1433 on SQL2005Ser2003\u001b[0m\u001b[93m, is skipped\u001b[0m\u001b[90m 0ms\u001b[0m\n",
      "\n",
      "\u001b[92m  Describing Non Standard Port\u001b[0m\n",
      "\n",
      "\u001b[92m    Context Checking SQL Server ports on SQL2016N2\u001b[0m\n",
      "\u001b[93m      [!] No SQL Server Instances should be configured with port 1433 on SQL2016N2\u001b[0m\u001b[93m, is skipped\u001b[0m\u001b[90m 0ms\u001b[0m\n",
      "\n",
      "\u001b[92m  Describing Non Standard Port\u001b[0m\n",
      "\n",
      "\u001b[92m    Context Checking SQL Server ports on SQL2012Ser08AG1\u001b[0m\n",
      "\u001b[93m      [!] No SQL Server Instances should be configured with port 1433 on SQL2012Ser08AG1\u001b[0m\u001b[93m, is skipped\u001b[0m\u001b[90m 0ms\u001b[0m\n",
      "\n",
      "\u001b[92m  Describing Non Standard Port\u001b[0m\n",
      "\n",
      "\u001b[92m    Context Checking SQL Server ports on SQL2016N3\u001b[0m\n",
      "\u001b[93m      [!] No SQL Server Instances should be configured with port 1433 on SQL2016N3\u001b[0m\u001b[93m, is skipped\u001b[0m\u001b[90m 0ms\u001b[0m\n",
      "\n",
      "\u001b[92m  Describing Non Standard Port\u001b[0m\n",
      "\n",
      "\u001b[92m    Context Checking SQL Server ports on SQL2012Ser08AG3\u001b[0m\n",
      "\u001b[93m      [!] No SQL Server Instances should be configured with port 1433 on SQL2012Ser08AG3\u001b[0m\u001b[93m, is skipped\u001b[0m\u001b[90m 0ms\u001b[0m\n",
      "\n",
      "\u001b[92m  Describing Non Standard Port\u001b[0m\n",
      "\n",
      "\u001b[92m    Context Checking SQL Server ports on SQL2012Ser08AG2\u001b[0m\n",
      "\u001b[93m      [!] No SQL Server Instances should be configured with port 1433 on SQL2012Ser08AG2\u001b[0m\u001b[93m, is skipped\u001b[0m\u001b[90m 0ms\u001b[0m\n",
      "\n",
      "\u001b[92m  Describing Non Standard Port\u001b[0m\n",
      "\n",
      "\u001b[92m    Context Checking SQL Server ports on SQL2014Ser12R2\u001b[0m\n",
      "\u001b[93m      [!] No SQL Server Instances should be configured with port 1433 on SQL2014Ser12R2\u001b[0m\u001b[93m, is skipped\u001b[0m\u001b[90m 0ms\u001b[0m\n",
      "\n",
      "\u001b[92m  Describing Non Standard Port\u001b[0m\n",
      "\n",
      "\u001b[92m    Context Checking SQL Server ports on SQL2008Ser12R2\u001b[0m\n",
      "\u001b[93m      [!] No SQL Server Instances should be configured with port 1433 on SQL2008Ser12R2\u001b[0m\u001b[93m, is skipped\u001b[0m\u001b[90m 0ms\u001b[0m\n",
      "\n",
      "\u001b[92m  Describing Non Standard Port\u001b[0m\n",
      "\n",
      "\u001b[92m    Context Checking SQL Server ports on SQL2016N1\u001b[0m\n",
      "\u001b[93m      [!] No SQL Server Instances should be configured with port 1433 on SQL2016N1\u001b[0m\u001b[93m, is skipped\u001b[0m\u001b[90m 0ms\u001b[0m\n",
      "\n",
      "\u001b[92m  Describing Non Standard Port\u001b[0m\n",
      "\n",
      "\u001b[92m    Context Checking SQL Server ports on SQL2017N5\u001b[0m\n",
      "\u001b[93m      [!] No SQL Server Instances should be configured with port 1433 on SQL2017N5\u001b[0m\u001b[93m, is skipped\u001b[0m\u001b[90m 0ms\u001b[0m\n",
      "\n",
      "\u001b[92m  Describing Non Standard Port\u001b[0m\n",
      "\n",
      "\u001b[92m    Context Checking SQL Server ports on SQL2019N22\u001b[0m\n",
      "\u001b[93m      [!] No SQL Server Instances should be configured with port 1433 on SQL2019N22\u001b[0m\u001b[93m, is skipped\u001b[0m\u001b[90m 0ms\u001b[0m\n",
      "\n",
      "\u001b[92m  Describing Non Standard Port\u001b[0m\n",
      "\n",
      "\u001b[92m    Context Checking SQL Server ports on SQL2019N21\u001b[0m\n",
      "\u001b[93m      [!] No SQL Server Instances should be configured with port 1433 on SQL2019N21\u001b[0m\u001b[93m, is skipped\u001b[0m\u001b[90m 0ms\u001b[0m\n",
      "\n",
      "\u001b[92m  Describing Non Standard Port\u001b[0m\n",
      "\n",
      "\u001b[92m    Context Checking SQL Server ports on SQL2019N20\u001b[0m\n",
      "\u001b[93m      [!] No SQL Server Instances should be configured with port 1433 on SQL2019N20\u001b[0m\u001b[93m, is skipped\u001b[0m\u001b[90m 0ms\u001b[0m\n",
      "\n",
      "\u001b[92m  Describing Non Standard Port\u001b[0m\n",
      "\n",
      "\u001b[92m    Context Checking SQL Server ports on SQL2019N5\u001b[0m\n",
      "\u001b[93m      [!] No SQL Server Instances should be configured with port 1433 on SQL2019N5\u001b[0m\u001b[93m, is skipped\u001b[0m\u001b[90m 0ms\u001b[0m\n",
      "\u001b[97mTests completed in 2.42s\u001b[0m\n",
      "\u001b[32mTests Passed: 0, \u001b[0m\u001b[90mFailed: 0, \u001b[0m\u001b[93mSkipped: 14, \u001b[0m\u001b[90mPending: 0, \u001b[0m\u001b[90mInconclusive: 0 \u001b[0m\n"
     ]
    }
   ],
   "source": [
    "$Sqlinstances = (Get-VM -ComputerName BEARDNUC, BEARDNUC2 -Name *SQL* | Where State -eq 'Running').Name\n",
    "\n",
    "Invoke-DbcCheck -ComputerName $Sqlinstances -Check NonStandardPort"
   ]
  },
  {
   "cell_type": "markdown",
   "metadata": {},
   "source": [
    "Set the config and run again"
   ]
  },
  {
   "cell_type": "code",
   "execution_count": 17,
   "metadata": {},
   "outputs": [
    {
     "name": "stdout",
     "output_type": "stream",
     "text": [
      "\n",
      "\u001b[97m    ____            __\n",
      "   / __ \\___  _____/ /____  _____\n",
      "  / /_/ / _ \\/ ___/ __/ _ \\/ ___/\n",
      " / ____/  __(__  ) /_/  __/ /\n",
      "/_/    \\___/____/\\__/\\___/_/\n",
      "Pester v4.9.0\n",
      "Executing all tests in 'D:\\OneDrive\\Documents\\GitHub\\dbachecks\\checks\\Server.Tests.ps1' with Tags NonStandardPort\u001b[0m\n",
      "\n",
      "\u001b[92mExecuting script D:\\OneDrive\\Documents\\GitHub\\dbachecks\\checks\\Server.Tests.ps1\u001b[0m\n",
      "\n",
      "\u001b[92m  Describing Non Standard Port\u001b[0m\n",
      "\n",
      "\u001b[92m    Context Checking SQL Server ports on SQL2017N5\u001b[0m\n",
      "\u001b[32m      [+] No SQL Server Instances should be configured with port 1433 on SQL2017N5\u001b[0m\u001b[90m 3ms\u001b[0m\n",
      "\u001b[97mTests completed in 281ms\u001b[0m\n",
      "\u001b[32mTests Passed: 1, \u001b[0m\u001b[90mFailed: 0, \u001b[0m\u001b[90mSkipped: 0, \u001b[0m\u001b[90mPending: 0, \u001b[0m\u001b[90mInconclusive: 0 \u001b[0m\n",
      "Name                          Value Description\n",
      "----                          ----- -----------\n",
      "skip.security.nonstandardport False Skips the check for whether SQL Server should be configured wi…\n",
      "\n"
     ]
    }
   ],
   "source": [
    "$Sqlinstances = (Get-VM -ComputerName BEARDNUC, BEARDNUC2 -Name *SQL* | Where State -eq 'Running').Name\n",
    "\n",
    "Set-DbcConfig -Name skip.security.nonstandardport -Value $false\n",
    "Invoke-DbcCheck -ComputerName SQL2017N5 -Check NonStandardPort"
   ]
  },
  {
   "cell_type": "code",
   "execution_count": 15,
   "metadata": {},
   "outputs": [
    {
     "name": "stdout",
     "output_type": "stream",
     "text": [
      "\n",
      "Name                  Value Description\n",
      "----                  ----- -----------\n",
      "global.notcontactable {}    This is used within the checks to avoid trying to contact none-respons…\n",
      "\n"
     ]
    }
   ],
   "source": [
    "Get-DbcConfig -Name global.notcontactable "
   ]
  },
  {
   "cell_type": "code",
   "execution_count": 9,
   "metadata": {},
   "outputs": [
    {
     "name": "stdout",
     "output_type": "stream",
     "text": [
      "1\n"
     ]
    }
   ],
   "source": [
    "@(Get-DbaLogin -SQLInstance sql2019n5 -Type SQL | Where-Object { $_.PasswordPolicyEnforced -eq $false -and $_.IsDisabled -eq $false}).Count"
   ]
  },
  {
   "cell_type": "code",
   "execution_count": 10,
   "metadata": {},
   "outputs": [
    {
     "name": "stdout",
     "output_type": "stream",
     "text": [
      "1\n"
     ]
    }
   ],
   "source": [
    "@(Get-DbaLogin -SqlInstance sql2019n5 -Login sa).Count"
   ]
  },
  {
   "cell_type": "code",
   "execution_count": null,
   "metadata": {},
   "outputs": [],
   "source": []
  }
 ],
 "metadata": {
  "kernelspec": {
   "display_name": ".NET (PowerShell)",
   "language": "PowerShell",
   "name": ".net-powershell"
  },
  "language_info": {
   "file_extension": ".ps1",
   "mimetype": "text/x-powershell",
   "name": "PowerShell",
   "pygments_lexer": "powershell",
   "version": "7.0"
  }
 },
 "nbformat": 4,
 "nbformat_minor": 4
}
