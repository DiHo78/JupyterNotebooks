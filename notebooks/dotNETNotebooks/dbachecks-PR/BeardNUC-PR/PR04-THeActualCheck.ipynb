{
    "metadata": {
        "kernelspec": {
            "name": ".net-powershell",
            "display_name": ".NET (PowerShell)"
        },
        "language_info": {
            "name": "PowerShell",
            "version": "7.0",
            "mimetype": "text/x-powershell",
            "file_extension": ".ps1",
            "pygments_lexer": "powershell"
        }
    },
    "nbformat_minor": 2,
    "nbformat": 4,
    "cells": [
        {
            "cell_type": "markdown",
            "source": [
                "# dbachecks PR check on Beard NUC - MultipleInstances\n",
                "\n",
                "Rob uses this process to make sure that changes will work in an AD estate with a variety of versions"
            ],
            "metadata": {
                "azdata_cell_guid": "c93b01d3-a1a3-4d8c-98e7-d891ea1c0b57"
            }
        },
        {
            "cell_type": "markdown",
            "source": [
                "First we must check the status of the local source control and ensure that we are in the PR branch"
            ],
            "metadata": {
                "azdata_cell_guid": "77ea3cf1-a1c9-4a9d-906f-bb6b6122316d"
            }
        },
        {
            "cell_type": "code",
            "source": [
                "cd D:\\OneDrive\\Documents\\GitHub\\dbachecks\n",
                "    git status\n",
                "    "
            ],
            "metadata": {
                "azdata_cell_guid": "465eab29-083c-46a0-9007-152d811ca86f"
            },
            "outputs": [
{
    "name": "stdout",
    "text": "On branch pr/jpomfret/768-1\r\n",
    "output_type": "stream"
}, {
    "name": "stdout",
    "text": "Your branch is up to date with 'jpomfret/suspectpagelimit'.\r\n",
    "output_type": "stream"
}, {
    "name": "stdout",
    "text": "\r\n",
    "output_type": "stream"
}, {
    "name": "stdout",
    "text": "nothing to commit, working tree clean\r\n",
    "output_type": "stream"
}
],
            "execution_count": 1
        },
        {
            "cell_type": "markdown",
            "source": [
                "First we need to import the module from source control - I normally use verbose to see how it is going\n"
            ],
            "metadata": {
                "azdata_cell_guid": "33e396db-685d-40b3-afa7-c6a25d5f7eb2"
            }
        },
        {
            "cell_type": "code",
            "source": [
                "Import-Module .\\dbachecks.psd1 -Verbose\n",
                "$null= Reset-DbcConfig "
            ],
            "metadata": {
                "azdata_cell_guid": "4a5f5b21-d00f-4f5a-92df-5f4f66078716"
            },
            "outputs": [
{
    "name": "stdout",
    "text": "\u001b[93mVERBOSE: Loading module from path 'D:\\OneDrive\\Documents\\GitHub\\dbachecks\\dbachecks.psd1'.\u001b[0m\r\n",
    "output_type": "stream"
}, {
    "name": "stdout",
    "text": "\u001b[93mVERBOSE: Loading 'FormatsToProcess' from path 'D:\\OneDrive\\Documents\\GitHub\\dbachecks\\xml\\dbachecks.Format.ps1xml'.\u001b[0m\r\n",
    "output_type": "stream"
}, {
    "name": "stdout",
    "text": "\u001b[93mVERBOSE: Loading module from path 'D:\\OneDrive\\Documents\\GitHub\\dbachecks\\dbachecks.psm1'.\u001b[0m\r\n",
    "output_type": "stream"
}, {
    "name": "stdout",
    "text": "\u001b[93mVERBOSE: Exporting function 'Import-ModuleFile'.\u001b[0m\r\n",
    "output_type": "stream"
}, {
    "name": "stdout",
    "text": "\u001b[93mVERBOSE: Exporting function 'Get-CheckFile'.\u001b[0m\r\n",
    "output_type": "stream"
}, {
    "name": "stdout",
    "text": "\u001b[93mVERBOSE: Exporting function 'Get-CheckInformation'.\u001b[0m\r\n",
    "output_type": "stream"
}, {
    "name": "stdout",
    "text": "\u001b[93mVERBOSE: Exporting function 'Get-CheckRepo'.\u001b[0m\r\n",
    "output_type": "stream"
}, {
    "name": "stdout",
    "text": "\u001b[93mVERBOSE: Exporting function 'Get-ComputerName'.\u001b[0m\r\n",
    "output_type": "stream"
}, {
    "name": "stdout",
    "text": "\u001b[93mVERBOSE: Exporting function 'Get-DatabaseDetail'.\u001b[0m\r\n",
    "output_type": "stream"
}, {
    "name": "stdout",
    "text": "\u001b[93mVERBOSE: Exporting function 'Get-Instance'.\u001b[0m\r\n",
    "output_type": "stream"
}, {
    "name": "stdout",
    "text": "\u001b[93mVERBOSE: Exporting function 'Get-Version'.\u001b[0m\r\n",
    "output_type": "stream"
}, {
    "name": "stdout",
    "text": "\u001b[93mVERBOSE: Exporting function 'Invoke-ConfigurationScript'.\u001b[0m\r\n",
    "output_type": "stream"
}, {
    "name": "stdout",
    "text": "\u001b[93mVERBOSE: Exporting function 'New-Json'.\u001b[0m\r\n",
    "output_type": "stream"
}, {
    "name": "stdout",
    "text": "\u001b[93mVERBOSE: Exporting function 'Select-DefaultView'.\u001b[0m\r\n",
    "output_type": "stream"
}, {
    "name": "stdout",
    "text": "\u001b[93mVERBOSE: Exporting function 'Set-DatabaseForIntegrationTesting'.\u001b[0m\r\n",
    "output_type": "stream"
}, {
    "name": "stdout",
    "text": "\u001b[93mVERBOSE: Exporting function 'Clear-DbcPowerBiDataSource'.\u001b[0m\r\n",
    "output_type": "stream"
}, {
    "name": "stdout",
    "text": "\u001b[93mVERBOSE: Exporting function 'Export-DbcConfig'.\u001b[0m\r\n",
    "output_type": "stream"
}, {
    "name": "stdout",
    "text": "\u001b[93mVERBOSE: Exporting function 'Get-DbcCheck'.\u001b[0m\r\n",
    "output_type": "stream"
}, {
    "name": "stdout",
    "text": "\u001b[93mVERBOSE: Exporting function 'Get-DbcConfig'.\u001b[0m\r\n",
    "output_type": "stream"
}, {
    "name": "stdout",
    "text": "\u001b[93mVERBOSE: Exporting function 'Get-DbcConfigValue'.\u001b[0m\r\n",
    "output_type": "stream"
}, {
    "name": "stdout",
    "text": "\u001b[93mVERBOSE: Exporting function 'Get-DbcReleaseNote'.\u001b[0m\r\n",
    "output_type": "stream"
}, {
    "name": "stdout",
    "text": "\u001b[93mVERBOSE: Exporting function 'Get-DbcTagCollection'.\u001b[0m\r\n",
    "output_type": "stream"
}, {
    "name": "stdout",
    "text": "\u001b[93mVERBOSE: Exporting function 'Import-DbcConfig'.\u001b[0m\r\n",
    "output_type": "stream"
}, {
    "name": "stdout",
    "text": "\u001b[93mVERBOSE: Exporting function 'Invoke-DbcCheck'.\u001b[0m\r\n",
    "output_type": "stream"
}, {
    "name": "stdout",
    "text": "\u001b[93mVERBOSE: Exporting function 'Invoke-DbcConfigFile'.\u001b[0m\r\n",
    "output_type": "stream"
}, {
    "name": "stdout",
    "text": "\u001b[93mVERBOSE: Exporting function 'Reset-DbcConfig'.\u001b[0m\r\n",
    "output_type": "stream"
}, {
    "name": "stdout",
    "text": "\u001b[93mVERBOSE: Exporting function 'Save-DbcRequiredModules'.\u001b[0m\r\n",
    "output_type": "stream"
}, {
    "name": "stdout",
    "text": "\u001b[93mVERBOSE: Exporting function 'Set-DbcConfig'.\u001b[0m\r\n",
    "output_type": "stream"
}, {
    "name": "stdout",
    "text": "\u001b[93mVERBOSE: Exporting function 'Start-DbcPowerBi'.\u001b[0m\r\n",
    "output_type": "stream"
}, {
    "name": "stdout",
    "text": "\u001b[93mVERBOSE: Exporting function 'Update-DbcPowerBiDataSource'.\u001b[0m\r\n",
    "output_type": "stream"
}, {
    "name": "stdout",
    "text": "\u001b[93mVERBOSE: Exporting function 'Update-DbcRequiredModules'.\u001b[0m\r\n",
    "output_type": "stream"
}, {
    "name": "stdout",
    "text": "\u001b[93mVERBOSE: Importing function 'Clear-DbcPowerBiDataSource'.\u001b[0m\r\n",
    "output_type": "stream"
}, {
    "name": "stdout",
    "text": "\u001b[93mVERBOSE: Importing function 'Export-DbcConfig'.\u001b[0m\r\n",
    "output_type": "stream"
}, {
    "name": "stdout",
    "text": "\u001b[93mVERBOSE: Importing function 'Get-DbcCheck'.\u001b[0m\r\n",
    "output_type": "stream"
}, {
    "name": "stdout",
    "text": "\u001b[93mVERBOSE: Importing function 'Get-DbcConfig'.\u001b[0m\r\n",
    "output_type": "stream"
}, {
    "name": "stdout",
    "text": "\u001b[93mVERBOSE: Importing function 'Get-DbcConfigValue'.\u001b[0m\r\n",
    "output_type": "stream"
}, {
    "name": "stdout",
    "text": "\u001b[93mVERBOSE: Importing function 'Get-DbcReleaseNote'.\u001b[0m\r\n",
    "output_type": "stream"
}, {
    "name": "stdout",
    "text": "\u001b[93mVERBOSE: Importing function 'Get-DbcTagCollection'.\u001b[0m\r\n",
    "output_type": "stream"
}, {
    "name": "stdout",
    "text": "\u001b[93mVERBOSE: Importing function 'Import-DbcConfig'.\u001b[0m\r\n",
    "output_type": "stream"
}, {
    "name": "stdout",
    "text": "\u001b[93mVERBOSE: Importing function 'Invoke-DbcCheck'.\u001b[0m\r\n",
    "output_type": "stream"
}, {
    "name": "stdout",
    "text": "\u001b[93mVERBOSE: Importing function 'Invoke-DbcConfigFile'.\u001b[0m\r\n",
    "output_type": "stream"
}, {
    "name": "stdout",
    "text": "\u001b[93mVERBOSE: Importing function 'Reset-DbcConfig'.\u001b[0m\r\n",
    "output_type": "stream"
}, {
    "name": "stdout",
    "text": "\u001b[93mVERBOSE: Importing function 'Save-DbcRequiredModules'.\u001b[0m\r\n",
    "output_type": "stream"
}, {
    "name": "stdout",
    "text": "\u001b[93mVERBOSE: Importing function 'Set-DbcConfig'.\u001b[0m\r\n",
    "output_type": "stream"
}, {
    "name": "stdout",
    "text": "\u001b[93mVERBOSE: Importing function 'Start-DbcPowerBi'.\u001b[0m\r\n",
    "output_type": "stream"
}, {
    "name": "stdout",
    "text": "\u001b[93mVERBOSE: Importing function 'Update-DbcPowerBiDataSource'.\u001b[0m\r\n",
    "output_type": "stream"
}, {
    "name": "stdout",
    "text": "\u001b[93mVERBOSE: Importing function 'Update-DbcRequiredModules'.\u001b[0m\r\n",
    "output_type": "stream"
}
],
            "execution_count": 2
        },
        {
            "cell_type": "markdown",
            "source": [
                "Excellent, that worked. Now to run some checks against a single instance  "
            ],
            "metadata": {
                "azdata_cell_guid": "bc99b1cb-f651-4e1c-80e2-90bb91a88619"
            }
        },
        {
            "cell_type": "markdown",
            "source": [
                "I don't care if the test pass or fail, I am only interested in any \n",
                "\n",
                "> Describe block has Error\n",
                "\n",
                "or\n",
                "\n",
                "> Error in Script\n",
                "\n",
                "type failures"
            ],
            "metadata": {
                "azdata_cell_guid": "5ee1280c-f2da-4176-9665-8361c7487638"
            }
        },
        {
            "cell_type": "markdown",
            "source": [
                "Multiple Instances at parameter"
            ],
            "metadata": {
                "azdata_cell_guid": "0e033a5c-6df3-4582-8370-f5f455056c7a"
            }
        },
        {
            "cell_type": "markdown",
            "source": [
                "# Make sure that the check and config have been written to the json file"
            ],
            "metadata": {
                "azdata_cell_guid": "2354b935-8f74-4462-b22f-5def255d817d"
            }
        },
        {
            "cell_type": "code",
            "source": [
                "Get-DbcCheck suspectpagelimit | fl"
            ],
            "metadata": {
                "azdata_cell_guid": "ffd8c99c-88c1-4b41-b3ce-d86717cd2bb3"
            },
            "outputs": [
{
    "name": "stdout",
    "text": "\r\n",
    "output_type": "stream"
}, {
    "name": "stdout",
    "text": "Group       : Instance\r\n",
    "output_type": "stream"
}, {
    "name": "stdout",
    "text": "Type        : Sqlinstance\r\n",
    "output_type": "stream"
}, {
    "name": "stdout",
    "text": "UniqueTag   : SuspectPageLimit\r\n",
    "output_type": "stream"
}, {
    "name": "stdout",
    "text": "AllTags     : SuspectPageLimit, Medium, Instance\r\n",
    "output_type": "stream"
}, {
    "name": "stdout",
    "text": "Config      : app.sqlinstance skip.instance.suspectpagelimit policy.suspectpages.threshold \r\n",
    "output_type": "stream"
}, {
    "name": "stdout",
    "text": "Description : Tests that the suspect_pages table in msdb is not nearing the limit of 1000 rows\r\n",
    "output_type": "stream"
}, {
    "name": "stdout",
    "text": "\r\n",
    "output_type": "stream"
}, {
    "name": "stdout",
    "text": "\r\n",
    "output_type": "stream"
}
],
            "execution_count": 3
        },
        {
            "cell_type": "code",
            "source": [
                "Get-DbcConfig skip.instance.suspectpagelimit   | fl\n",
                "Get-DbcConfig policy.suspectpages.threshold   | fl"
            ],
            "metadata": {
                "azdata_cell_guid": "3ffb764d-09a0-48f1-b6df-f8cf465feb87"
            },
            "outputs": [
{
    "name": "stdout",
    "text": "\r\n",
    "output_type": "stream"
}, {
    "name": "stdout",
    "text": "Name        : skip.instance.suspectpagelimit\r\n",
    "output_type": "stream"
}, {
    "name": "stdout",
    "text": "Value       : False\r\n",
    "output_type": "stream"
}, {
    "name": "stdout",
    "text": "Description : Skip the check for whether the suspect_pages table is nearing the row limit of 1000\r\n",
    "output_type": "stream"
}, {
    "name": "stdout",
    "text": "\r\n",
    "output_type": "stream"
}, {
    "name": "stdout",
    "text": "\r\n",
    "output_type": "stream"
}, {
    "name": "stdout",
    "text": "\r\n",
    "output_type": "stream"
}, {
    "name": "stdout",
    "text": "Name        : policy.suspectpages.threshold\r\n",
    "output_type": "stream"
}, {
    "name": "stdout",
    "text": "Value       : 90\r\n",
    "output_type": "stream"
}, {
    "name": "stdout",
    "text": "Description : Default threshold (%) to check whether suspect_pages is nearing row limit of 1000\r\n",
    "output_type": "stream"
}, {
    "name": "stdout",
    "text": "\r\n",
    "output_type": "stream"
}, {
    "name": "stdout",
    "text": "\r\n",
    "output_type": "stream"
}
],
            "execution_count": 5
        },
        {
            "cell_type": "markdown",
            "source": [
                "I had already checked both AGs with dbachecks HADR check to ensure that they were up and running correctly"
            ],
            "metadata": {
                "azdata_cell_guid": "cfa8bf17-d39d-478c-b68f-ee6090201b04"
            }
        },
        {
            "cell_type": "code",
            "source": [
                "$Sqlinstances = 'SQL2012Ser08AG1','SQL2012Ser08AG2','SQL2012Ser08AG3','SQL2016N1','SQL2016N2','SQL2016N3'\n",
                "Set-DbcConfig -Name skip.backup.readonly -Value $true\n",
                "Invoke-DbcCheck -SqlInstance $Sqlinstances -Check LastFullBackup "
            ],
            "metadata": {
                "azdata_cell_guid": "8e288018-f072-4ee0-ba1c-f5f06958589a"
            },
            "outputs": [
                {
                    "name": "stdout",
                    "text": "\r\n",
                    "output_type": "stream"
                },
                {
                    "name": "stdout",
                    "text": "\u001b[97m    ____            __\r\n   / __ \\___  _____/ /____  _____\r\n  / /_/ / _ \\/ ___/ __/ _ \\/ ___/\r\n / ____/  __(__  ) /_/  __/ /\r\n/_/    \\___/____/\\__/\\___/_/\r\nPester v4.9.0\r\nExecuting all tests in 'D:\\OneDrive\\Documents\\GitHub\\dbachecks\\checks\\Database.Tests.ps1' with Tags LastFullBackup\u001b[0m\r\n",
                    "output_type": "stream"
                },
                {
                    "name": "stdout",
                    "text": "\r\n",
                    "output_type": "stream"
                },
                {
                    "name": "stdout",
                    "text": "\u001b[92mExecuting script D:\\OneDrive\\Documents\\GitHub\\dbachecks\\checks\\Database.Tests.ps1\u001b[0m\r\n",
                    "output_type": "stream"
                },
                {
                    "name": "stdout",
                    "text": "\r\n",
                    "output_type": "stream"
                },
                {
                    "name": "stdout",
                    "text": "\u001b[92m  Describing Last Full Backup Times\u001b[0m\r\n",
                    "output_type": "stream"
                },
                {
                    "name": "stdout",
                    "text": "\r\n",
                    "output_type": "stream"
                },
                {
                    "name": "stdout",
                    "text": "\u001b[92m    Context Testing last full backups on SQL2012Ser08AG1\u001b[0m\r\n",
                    "output_type": "stream"
                },
                {
                    "name": "stdout",
                    "text": "\u001b[32m      [+] Database AdventureWorks2012AG should have full backups less than 1 days old on SQL2012Ser08AG1\u001b[0m",
                    "output_type": "stream"
                },
                {
                    "name": "stdout",
                    "text": "\u001b[90m 1ms\u001b[0m\r\n",
                    "output_type": "stream"
                },
                {
                    "name": "stdout",
                    "text": "\u001b[32m      [+] Database AGDB should have full backups less than 1 days old on SQL2012Ser08AG1\u001b[0m",
                    "output_type": "stream"
                },
                {
                    "name": "stdout",
                    "text": "\u001b[90m 1ms\u001b[0m\r\n",
                    "output_type": "stream"
                },
                {
                    "name": "stdout",
                    "text": "\u001b[32m      [+] Database AndJusticeforAll should have full backups less than 1 days old on SQL2012Ser08AG1\u001b[0m",
                    "output_type": "stream"
                },
                {
                    "name": "stdout",
                    "text": "\u001b[90m 2ms\u001b[0m\r\n",
                    "output_type": "stream"
                },
                {
                    "name": "stdout",
                    "text": "\u001b[32m      [+] Database Blackened should have full backups less than 1 days old on SQL2012Ser08AG1\u001b[0m",
                    "output_type": "stream"
                },
                {
                    "name": "stdout",
                    "text": "\u001b[90m 1ms\u001b[0m\r\n",
                    "output_type": "stream"
                },
                {
                    "name": "stdout",
                    "text": "\u001b[32m      [+] Database DBA-Admin should have full backups less than 1 days old on SQL2012Ser08AG1\u001b[0m",
                    "output_type": "stream"
                },
                {
                    "name": "stdout",
                    "text": "\u001b[90m 1ms\u001b[0m\r\n",
                    "output_type": "stream"
                },
                {
                    "name": "stdout",
                    "text": "\u001b[32m      [+] Database DyersEve should have full backups less than 1 days old on SQL2012Ser08AG1\u001b[0m",
                    "output_type": "stream"
                },
                {
                    "name": "stdout",
                    "text": "\u001b[90m 1ms\u001b[0m\r\n",
                    "output_type": "stream"
                },
                {
                    "name": "stdout",
                    "text": "\u001b[32m      [+] Database EyeoftheBeholder should have full backups less than 1 days old on SQL2012Ser08AG1\u001b[0m",
                    "output_type": "stream"
                },
                {
                    "name": "stdout",
                    "text": "\u001b[90m 1ms\u001b[0m\r\n",
                    "output_type": "stream"
                },
                {
                    "name": "stdout",
                    "text": "\u001b[32m      [+] Database HarvesterofSorrow should have full backups less than 1 days old on SQL2012Ser08AG1\u001b[0m",
                    "output_type": "stream"
                },
                {
                    "name": "stdout",
                    "text": "\u001b[90m 1ms\u001b[0m\r\n",
                    "output_type": "stream"
                },
                {
                    "name": "stdout",
                    "text": "\u001b[32m      [+] Database master should have full backups less than 1 days old on SQL2012Ser08AG1\u001b[0m",
                    "output_type": "stream"
                },
                {
                    "name": "stdout",
                    "text": "\u001b[90m 2ms\u001b[0m\r\n",
                    "output_type": "stream"
                },
                {
                    "name": "stdout",
                    "text": "\u001b[32m      [+] Database model should have full backups less than 1 days old on SQL2012Ser08AG1\u001b[0m",
                    "output_type": "stream"
                },
                {
                    "name": "stdout",
                    "text": "\u001b[90m 2ms\u001b[0m\r\n",
                    "output_type": "stream"
                },
                {
                    "name": "stdout",
                    "text": "\u001b[32m      [+] Database msdb should have full backups less than 1 days old on SQL2012Ser08AG1\u001b[0m",
                    "output_type": "stream"
                },
                {
                    "name": "stdout",
                    "text": "\u001b[90m 1ms\u001b[0m\r\n",
                    "output_type": "stream"
                },
                {
                    "name": "stdout",
                    "text": "\u001b[32m      [+] Database One should have full backups less than 1 days old on SQL2012Ser08AG1\u001b[0m",
                    "output_type": "stream"
                },
                {
                    "name": "stdout",
                    "text": "\u001b[90m 2ms\u001b[0m\r\n",
                    "output_type": "stream"
                },
                {
                    "name": "stdout",
                    "text": "\u001b[32m      [+] Database SQL2012Ser08AG_DB should have full backups less than 1 days old on SQL2012Ser08AG1\u001b[0m",
                    "output_type": "stream"
                },
                {
                    "name": "stdout",
                    "text": "\u001b[90m 1ms\u001b[0m\r\n",
                    "output_type": "stream"
                },
                {
                    "name": "stdout",
                    "text": "\u001b[32m      [+] Database SQLWatch should have full backups less than 1 days old on SQL2012Ser08AG1\u001b[0m",
                    "output_type": "stream"
                },
                {
                    "name": "stdout",
                    "text": "\u001b[90m 1ms\u001b[0m\r\n",
                    "output_type": "stream"
                },
                {
                    "name": "stdout",
                    "text": "\u001b[32m      [+] Database Store should have full backups less than 1 days old on SQL2012Ser08AG1\u001b[0m",
                    "output_type": "stream"
                },
                {
                    "name": "stdout",
                    "text": "\u001b[90m 1ms\u001b[0m\r\n",
                    "output_type": "stream"
                },
                {
                    "name": "stdout",
                    "text": "\u001b[32m      [+] Database TestDatabase should have full backups less than 1 days old on SQL2012Ser08AG1\u001b[0m",
                    "output_type": "stream"
                },
                {
                    "name": "stdout",
                    "text": "\u001b[90m 1ms\u001b[0m\r\n",
                    "output_type": "stream"
                },
                {
                    "name": "stdout",
                    "text": "\u001b[32m      [+] Database TheFrayedEndsofSanity should have full backups less than 1 days old on SQL2012Ser08AG1\u001b[0m",
                    "output_type": "stream"
                },
                {
                    "name": "stdout",
                    "text": "\u001b[90m 1ms\u001b[0m\r\n",
                    "output_type": "stream"
                },
                {
                    "name": "stdout",
                    "text": "\u001b[32m      [+] Database TheShortestStraw should have full backups less than 1 days old on SQL2012Ser08AG1\u001b[0m",
                    "output_type": "stream"
                },
                {
                    "name": "stdout",
                    "text": "\u001b[90m 2ms\u001b[0m\r\n",
                    "output_type": "stream"
                },
                {
                    "name": "stdout",
                    "text": "\u001b[32m      [+] Database ToLiveIstoDie should have full backups less than 1 days old on SQL2012Ser08AG1\u001b[0m",
                    "output_type": "stream"
                },
                {
                    "name": "stdout",
                    "text": "\u001b[90m 2ms\u001b[0m\r\n",
                    "output_type": "stream"
                },
                {
                    "name": "stdout",
                    "text": "\u001b[32m      [+] Database UserGroupTest should have full backups less than 1 days old on SQL2012Ser08AG1\u001b[0m",
                    "output_type": "stream"
                },
                {
                    "name": "stdout",
                    "text": "\u001b[90m 1ms\u001b[0m\r\n",
                    "output_type": "stream"
                },
                {
                    "name": "stdout",
                    "text": "\r\n",
                    "output_type": "stream"
                },
                {
                    "name": "stdout",
                    "text": "\u001b[92m  Describing Last Full Backup Times\u001b[0m\r\n",
                    "output_type": "stream"
                },
                {
                    "name": "stdout",
                    "text": "\r\n",
                    "output_type": "stream"
                },
                {
                    "name": "stdout",
                    "text": "\u001b[92m    Context Testing last full backups on SQL2012Ser08AG2\u001b[0m\r\n",
                    "output_type": "stream"
                },
                {
                    "name": "stdout",
                    "text": "\u001b[93m      [!] Database AdventureWorks2012AG should have full backups less than 1 days old on SQL2012Ser08AG2\u001b[0m",
                    "output_type": "stream"
                },
                {
                    "name": "stdout",
                    "text": "\u001b[93m, is skipped\u001b[0m",
                    "output_type": "stream"
                },
                {
                    "name": "stdout",
                    "text": "\u001b[90m 0ms\u001b[0m\r\n",
                    "output_type": "stream"
                },
                {
                    "name": "stdout",
                    "text": "\u001b[93m      [!] Database AGDB should have full backups less than 1 days old on SQL2012Ser08AG2\u001b[0m",
                    "output_type": "stream"
                },
                {
                    "name": "stdout",
                    "text": "\u001b[93m, is skipped\u001b[0m",
                    "output_type": "stream"
                },
                {
                    "name": "stdout",
                    "text": "\u001b[90m 0ms\u001b[0m\r\n",
                    "output_type": "stream"
                },
                {
                    "name": "stdout",
                    "text": "\u001b[32m      [+] Database DBA-Admin should have full backups less than 1 days old on SQL2012Ser08AG2\u001b[0m",
                    "output_type": "stream"
                },
                {
                    "name": "stdout",
                    "text": "\u001b[90m 2ms\u001b[0m\r\n",
                    "output_type": "stream"
                },
                {
                    "name": "stdout",
                    "text": "\u001b[32m      [+] Database master should have full backups less than 1 days old on SQL2012Ser08AG2\u001b[0m",
                    "output_type": "stream"
                },
                {
                    "name": "stdout",
                    "text": "\u001b[90m 1ms\u001b[0m\r\n",
                    "output_type": "stream"
                },
                {
                    "name": "stdout",
                    "text": "\u001b[32m      [+] Database model should have full backups less than 1 days old on SQL2012Ser08AG2\u001b[0m",
                    "output_type": "stream"
                },
                {
                    "name": "stdout",
                    "text": "\u001b[90m 1ms\u001b[0m\r\n",
                    "output_type": "stream"
                },
                {
                    "name": "stdout",
                    "text": "\u001b[32m      [+] Database msdb should have full backups less than 1 days old on SQL2012Ser08AG2\u001b[0m",
                    "output_type": "stream"
                },
                {
                    "name": "stdout",
                    "text": "\u001b[90m 1ms\u001b[0m\r\n",
                    "output_type": "stream"
                },
                {
                    "name": "stdout",
                    "text": "\u001b[93m      [!] Database SQL2012Ser08AG_DB should have full backups less than 1 days old on SQL2012Ser08AG2\u001b[0m",
                    "output_type": "stream"
                },
                {
                    "name": "stdout",
                    "text": "\u001b[93m, is skipped\u001b[0m",
                    "output_type": "stream"
                },
                {
                    "name": "stdout",
                    "text": "\u001b[90m 0ms\u001b[0m\r\n",
                    "output_type": "stream"
                },
                {
                    "name": "stdout",
                    "text": "\u001b[32m      [+] Database SQLWatch should have full backups less than 1 days old on SQL2012Ser08AG2\u001b[0m",
                    "output_type": "stream"
                },
                {
                    "name": "stdout",
                    "text": "\u001b[90m 2ms\u001b[0m\r\n",
                    "output_type": "stream"
                },
                {
                    "name": "stdout",
                    "text": "\u001b[93m      [!] Database Store should have full backups less than 1 days old on SQL2012Ser08AG2\u001b[0m",
                    "output_type": "stream"
                },
                {
                    "name": "stdout",
                    "text": "\u001b[93m, is skipped\u001b[0m",
                    "output_type": "stream"
                },
                {
                    "name": "stdout",
                    "text": "\u001b[90m 0ms\u001b[0m\r\n",
                    "output_type": "stream"
                },
                {
                    "name": "stdout",
                    "text": "\u001b[93m      [!] Database TestDatabase should have full backups less than 1 days old on SQL2012Ser08AG2\u001b[0m",
                    "output_type": "stream"
                },
                {
                    "name": "stdout",
                    "text": "\u001b[93m, is skipped\u001b[0m",
                    "output_type": "stream"
                },
                {
                    "name": "stdout",
                    "text": "\u001b[90m 0ms\u001b[0m\r\n",
                    "output_type": "stream"
                },
                {
                    "name": "stdout",
                    "text": "\u001b[93m      [!] Database UserGroupTest should have full backups less than 1 days old on SQL2012Ser08AG2\u001b[0m",
                    "output_type": "stream"
                },
                {
                    "name": "stdout",
                    "text": "\u001b[93m, is skipped\u001b[0m",
                    "output_type": "stream"
                },
                {
                    "name": "stdout",
                    "text": "\u001b[90m 0ms\u001b[0m\r\n",
                    "output_type": "stream"
                },
                {
                    "name": "stdout",
                    "text": "\r\n",
                    "output_type": "stream"
                },
                {
                    "name": "stdout",
                    "text": "\u001b[92m  Describing Last Full Backup Times\u001b[0m\r\n",
                    "output_type": "stream"
                },
                {
                    "name": "stdout",
                    "text": "\r\n",
                    "output_type": "stream"
                },
                {
                    "name": "stdout",
                    "text": "\u001b[92m    Context Testing last full backups on SQL2012Ser08AG3\u001b[0m\r\n",
                    "output_type": "stream"
                },
                {
                    "name": "stdout",
                    "text": "\u001b[93m      [!] Database AdventureWorks2012AG should have full backups less than 1 days old on SQL2012Ser08AG3\u001b[0m",
                    "output_type": "stream"
                },
                {
                    "name": "stdout",
                    "text": "\u001b[93m, is skipped\u001b[0m",
                    "output_type": "stream"
                },
                {
                    "name": "stdout",
                    "text": "\u001b[90m 0ms\u001b[0m\r\n",
                    "output_type": "stream"
                },
                {
                    "name": "stdout",
                    "text": "\u001b[93m      [!] Database AGDB should have full backups less than 1 days old on SQL2012Ser08AG3\u001b[0m",
                    "output_type": "stream"
                },
                {
                    "name": "stdout",
                    "text": "\u001b[93m, is skipped\u001b[0m",
                    "output_type": "stream"
                },
                {
                    "name": "stdout",
                    "text": "\u001b[90m 0ms\u001b[0m\r\n",
                    "output_type": "stream"
                },
                {
                    "name": "stdout",
                    "text": "\u001b[32m      [+] Database DBA-Admin should have full backups less than 1 days old on SQL2012Ser08AG3\u001b[0m",
                    "output_type": "stream"
                },
                {
                    "name": "stdout",
                    "text": "\u001b[90m 1ms\u001b[0m\r\n",
                    "output_type": "stream"
                },
                {
                    "name": "stdout",
                    "text": "\u001b[32m      [+] Database master should have full backups less than 1 days old on SQL2012Ser08AG3\u001b[0m",
                    "output_type": "stream"
                },
                {
                    "name": "stdout",
                    "text": "\u001b[90m 1ms\u001b[0m\r\n",
                    "output_type": "stream"
                },
                {
                    "name": "stdout",
                    "text": "\u001b[32m      [+] Database model should have full backups less than 1 days old on SQL2012Ser08AG3\u001b[0m",
                    "output_type": "stream"
                },
                {
                    "name": "stdout",
                    "text": "\u001b[90m 1ms\u001b[0m\r\n",
                    "output_type": "stream"
                },
                {
                    "name": "stdout",
                    "text": "\u001b[32m      [+] Database msdb should have full backups less than 1 days old on SQL2012Ser08AG3\u001b[0m",
                    "output_type": "stream"
                },
                {
                    "name": "stdout",
                    "text": "\u001b[90m 1ms\u001b[0m\r\n",
                    "output_type": "stream"
                },
                {
                    "name": "stdout",
                    "text": "\u001b[93m      [!] Database SQL2012Ser08AG_DB should have full backups less than 1 days old on SQL2012Ser08AG3\u001b[0m",
                    "output_type": "stream"
                },
                {
                    "name": "stdout",
                    "text": "\u001b[93m, is skipped\u001b[0m",
                    "output_type": "stream"
                },
                {
                    "name": "stdout",
                    "text": "\u001b[90m 0ms\u001b[0m\r\n",
                    "output_type": "stream"
                },
                {
                    "name": "stdout",
                    "text": "\u001b[32m      [+] Database SQLWatch should have full backups less than 1 days old on SQL2012Ser08AG3\u001b[0m",
                    "output_type": "stream"
                },
                {
                    "name": "stdout",
                    "text": "\u001b[90m 1ms\u001b[0m\r\n",
                    "output_type": "stream"
                },
                {
                    "name": "stdout",
                    "text": "\u001b[93m      [!] Database Store should have full backups less than 1 days old on SQL2012Ser08AG3\u001b[0m",
                    "output_type": "stream"
                },
                {
                    "name": "stdout",
                    "text": "\u001b[93m, is skipped\u001b[0m",
                    "output_type": "stream"
                },
                {
                    "name": "stdout",
                    "text": "\u001b[90m 0ms\u001b[0m\r\n",
                    "output_type": "stream"
                },
                {
                    "name": "stdout",
                    "text": "\u001b[93m      [!] Database TestDatabase should have full backups less than 1 days old on SQL2012Ser08AG3\u001b[0m",
                    "output_type": "stream"
                },
                {
                    "name": "stdout",
                    "text": "\u001b[93m, is skipped\u001b[0m",
                    "output_type": "stream"
                },
                {
                    "name": "stdout",
                    "text": "\u001b[90m 0ms\u001b[0m\r\n",
                    "output_type": "stream"
                },
                {
                    "name": "stdout",
                    "text": "\u001b[93m      [!] Database UserGroupTest should have full backups less than 1 days old on SQL2012Ser08AG3\u001b[0m",
                    "output_type": "stream"
                },
                {
                    "name": "stdout",
                    "text": "\u001b[93m, is skipped\u001b[0m",
                    "output_type": "stream"
                },
                {
                    "name": "stdout",
                    "text": "\u001b[90m 0ms\u001b[0m\r\n",
                    "output_type": "stream"
                },
                {
                    "name": "stdout",
                    "text": "\r\n",
                    "output_type": "stream"
                },
                {
                    "name": "stdout",
                    "text": "\u001b[92m  Describing Last Full Backup Times\u001b[0m\r\n",
                    "output_type": "stream"
                },
                {
                    "name": "stdout",
                    "text": "\r\n",
                    "output_type": "stream"
                },
                {
                    "name": "stdout",
                    "text": "\u001b[92m    Context Testing last full backups on SQL2016N1\u001b[0m\r\n",
                    "output_type": "stream"
                },
                {
                    "name": "stdout",
                    "text": "\u001b[32m      [+] Database AdventureWorksDW2014 should have full backups less than 1 days old on SQL2016N1\u001b[0m",
                    "output_type": "stream"
                },
                {
                    "name": "stdout",
                    "text": "\u001b[90m 2ms\u001b[0m\r\n",
                    "output_type": "stream"
                },
                {
                    "name": "stdout",
                    "text": "\u001b[32m      [+] Database BeardedAg_db should have full backups less than 1 days old on SQL2016N1\u001b[0m",
                    "output_type": "stream"
                },
                {
                    "name": "stdout",
                    "text": "\u001b[90m 1ms\u001b[0m\r\n",
                    "output_type": "stream"
                },
                {
                    "name": "stdout",
                    "text": "\u001b[32m      [+] Database DAC should have full backups less than 1 days old on SQL2016N1\u001b[0m",
                    "output_type": "stream"
                },
                {
                    "name": "stdout",
                    "text": "\u001b[90m 2ms\u001b[0m\r\n",
                    "output_type": "stream"
                },
                {
                    "name": "stdout",
                    "text": "\u001b[32m      [+] Database database should have full backups less than 1 days old on SQL2016N1\u001b[0m",
                    "output_type": "stream"
                },
                {
                    "name": "stdout",
                    "text": "\u001b[90m 2ms\u001b[0m\r\n",
                    "output_type": "stream"
                },
                {
                    "name": "stdout",
                    "text": "\u001b[32m      [+] Database DBA-Admin should have full backups less than 1 days old on SQL2016N1\u001b[0m",
                    "output_type": "stream"
                },
                {
                    "name": "stdout",
                    "text": "\u001b[90m 1ms\u001b[0m\r\n",
                    "output_type": "stream"
                },
                {
                    "name": "stdout",
                    "text": "\u001b[32m      [+] Database dbachecks should have full backups less than 1 days old on SQL2016N1\u001b[0m",
                    "output_type": "stream"
                },
                {
                    "name": "stdout",
                    "text": "\u001b[90m 2ms\u001b[0m\r\n",
                    "output_type": "stream"
                },
                {
                    "name": "stdout",
                    "text": "\u001b[32m      [+] Database DEMOdbareports should have full backups less than 1 days old on SQL2016N1\u001b[0m",
                    "output_type": "stream"
                },
                {
                    "name": "stdout",
                    "text": "\u001b[90m 3ms\u001b[0m\r\n",
                    "output_type": "stream"
                },
                {
                    "name": "stdout",
                    "text": "\u001b[32m      [+] Database Lisbondbareports should have full backups less than 1 days old on SQL2016N1\u001b[0m",
                    "output_type": "stream"
                },
                {
                    "name": "stdout",
                    "text": "\u001b[90m 1ms\u001b[0m\r\n",
                    "output_type": "stream"
                },
                {
                    "name": "stdout",
                    "text": "\u001b[32m      [+] Database master should have full backups less than 1 days old on SQL2016N1\u001b[0m",
                    "output_type": "stream"
                },
                {
                    "name": "stdout",
                    "text": "\u001b[90m 2ms\u001b[0m\r\n",
                    "output_type": "stream"
                },
                {
                    "name": "stdout",
                    "text": "\u001b[32m      [+] Database model should have full backups less than 1 days old on SQL2016N1\u001b[0m",
                    "output_type": "stream"
                },
                {
                    "name": "stdout",
                    "text": "\u001b[90m 2ms\u001b[0m\r\n",
                    "output_type": "stream"
                },
                {
                    "name": "stdout",
                    "text": "\u001b[32m      [+] Database msdb should have full backups less than 1 days old on SQL2016N1\u001b[0m",
                    "output_type": "stream"
                },
                {
                    "name": "stdout",
                    "text": "\u001b[90m 2ms\u001b[0m\r\n",
                    "output_type": "stream"
                },
                {
                    "name": "stdout",
                    "text": "\u001b[32m      [+] Database NoGoodDBCC should have full backups less than 1 days old on SQL2016N1\u001b[0m",
                    "output_type": "stream"
                },
                {
                    "name": "stdout",
                    "text": "\u001b[90m 2ms\u001b[0m\r\n",
                    "output_type": "stream"
                },
                {
                    "name": "stdout",
                    "text": "\u001b[32m      [+] Database passrocssug_dbareports should have full backups less than 1 days old on SQL2016N1\u001b[0m",
                    "output_type": "stream"
                },
                {
                    "name": "stdout",
                    "text": "\u001b[90m 2ms\u001b[0m\r\n",
                    "output_type": "stream"
                },
                {
                    "name": "stdout",
                    "text": "\u001b[32m      [+] Database ReportServer should have full backups less than 1 days old on SQL2016N1\u001b[0m",
                    "output_type": "stream"
                },
                {
                    "name": "stdout",
                    "text": "\u001b[90m 2ms\u001b[0m\r\n",
                    "output_type": "stream"
                },
                {
                    "name": "stdout",
                    "text": "\u001b[32m      [+] Database ReportServerTempDB should have full backups less than 1 days old on SQL2016N1\u001b[0m",
                    "output_type": "stream"
                },
                {
                    "name": "stdout",
                    "text": "\u001b[90m 2ms\u001b[0m\r\n",
                    "output_type": "stream"
                },
                {
                    "name": "stdout",
                    "text": "\u001b[32m      [+] Database SQLWatch should have full backups less than 1 days old on SQL2016N1\u001b[0m",
                    "output_type": "stream"
                },
                {
                    "name": "stdout",
                    "text": "\u001b[90m 2ms\u001b[0m\r\n",
                    "output_type": "stream"
                },
                {
                    "name": "stdout",
                    "text": "\u001b[32m      [+] Database SSISDB should have full backups less than 1 days old on SQL2016N1\u001b[0m",
                    "output_type": "stream"
                },
                {
                    "name": "stdout",
                    "text": "\u001b[90m 1ms\u001b[0m\r\n",
                    "output_type": "stream"
                },
                {
                    "name": "stdout",
                    "text": "\u001b[32m      [+] Database TheBeardsProd should have full backups less than 1 days old on SQL2016N1\u001b[0m",
                    "output_type": "stream"
                },
                {
                    "name": "stdout",
                    "text": "\u001b[90m 2ms\u001b[0m\r\n",
                    "output_type": "stream"
                },
                {
                    "name": "stdout",
                    "text": "\u001b[32m      [+] Database VideoDemodbareports should have full backups less than 1 days old on SQL2016N1\u001b[0m",
                    "output_type": "stream"
                },
                {
                    "name": "stdout",
                    "text": "\u001b[90m 2ms\u001b[0m\r\n",
                    "output_type": "stream"
                },
                {
                    "name": "stdout",
                    "text": "\u001b[32m      [+] Database Viennadbareports should have full backups less than 1 days old on SQL2016N1\u001b[0m",
                    "output_type": "stream"
                },
                {
                    "name": "stdout",
                    "text": "\u001b[90m 2ms\u001b[0m\r\n",
                    "output_type": "stream"
                },
                {
                    "name": "stdout",
                    "text": "\r\n",
                    "output_type": "stream"
                },
                {
                    "name": "stdout",
                    "text": "\u001b[92m  Describing Last Full Backup Times\u001b[0m\r\n",
                    "output_type": "stream"
                },
                {
                    "name": "stdout",
                    "text": "\r\n",
                    "output_type": "stream"
                },
                {
                    "name": "stdout",
                    "text": "\u001b[92m    Context Testing last full backups on SQL2016N2\u001b[0m\r\n",
                    "output_type": "stream"
                },
                {
                    "name": "stdout",
                    "text": "\u001b[32m      [+] Database DBA-Admin should have full backups less than 1 days old on SQL2016N2\u001b[0m",
                    "output_type": "stream"
                },
                {
                    "name": "stdout",
                    "text": "\u001b[90m 2ms\u001b[0m\r\n",
                    "output_type": "stream"
                },
                {
                    "name": "stdout",
                    "text": "\u001b[32m      [+] Database dbachecks should have full backups less than 1 days old on SQL2016N2\u001b[0m",
                    "output_type": "stream"
                },
                {
                    "name": "stdout",
                    "text": "\u001b[90m 2ms\u001b[0m\r\n",
                    "output_type": "stream"
                },
                {
                    "name": "stdout",
                    "text": "\u001b[91m      [-] Database DEMOdbareports should have full backups less than 1 days old on SQL2016N2\u001b[0m",
                    "output_type": "stream"
                },
                {
                    "name": "stdout",
                    "text": "\u001b[90m 4ms\u001b[0m\r\n",
                    "output_type": "stream"
                },
                {
                    "name": "stdout",
                    "text": "\u001b[91m        Expected the actual value to be greater than 2020-07-04T09:55:00.8618295Z, because Taking regular backups is extraordinarily important, but got 2020-05-17T02:30:43.0000000Z.\u001b[0m\r\n",
                    "output_type": "stream"
                },
                {
                    "name": "stdout",
                    "text": "\u001b[91m        487:                         $psitem.LastBackupDate.ToUniversalTime() | Should -BeGreaterThan (Get-Date).ToUniversalTime().AddDays( - ($maxfull)) -Because \"Taking regular backups is extraordinarily important\"\u001b[0m\r\n",
                    "output_type": "stream"
                },
                {
                    "name": "stdout",
                    "text": "\u001b[91m        at <ScriptBlock>, D:\\OneDrive\\Documents\\GitHub\\dbachecks\\checks\\Database.Tests.ps1: line 487\u001b[0m\r\n",
                    "output_type": "stream"
                },
                {
                    "name": "stdout",
                    "text": "\u001b[91m      [-] Database Lisbondbareports should have full backups less than 1 days old on SQL2016N2\u001b[0m",
                    "output_type": "stream"
                },
                {
                    "name": "stdout",
                    "text": "\u001b[90m 5ms\u001b[0m\r\n",
                    "output_type": "stream"
                },
                {
                    "name": "stdout",
                    "text": "\u001b[91m        Expected the actual value to be greater than 2020-07-04T09:55:00.8730011Z, because Taking regular backups is extraordinarily important, but got 2020-05-17T02:30:44.0000000Z.\u001b[0m\r\n",
                    "output_type": "stream"
                },
                {
                    "name": "stdout",
                    "text": "\u001b[91m        487:                         $psitem.LastBackupDate.ToUniversalTime() | Should -BeGreaterThan (Get-Date).ToUniversalTime().AddDays( - ($maxfull)) -Because \"Taking regular backups is extraordinarily important\"\u001b[0m\r\n",
                    "output_type": "stream"
                },
                {
                    "name": "stdout",
                    "text": "\u001b[91m        at <ScriptBlock>, D:\\OneDrive\\Documents\\GitHub\\dbachecks\\checks\\Database.Tests.ps1: line 487\u001b[0m\r\n",
                    "output_type": "stream"
                },
                {
                    "name": "stdout",
                    "text": "\u001b[32m      [+] Database master should have full backups less than 1 days old on SQL2016N2\u001b[0m",
                    "output_type": "stream"
                },
                {
                    "name": "stdout",
                    "text": "\u001b[90m 2ms\u001b[0m\r\n",
                    "output_type": "stream"
                },
                {
                    "name": "stdout",
                    "text": "\u001b[32m      [+] Database model should have full backups less than 1 days old on SQL2016N2\u001b[0m",
                    "output_type": "stream"
                },
                {
                    "name": "stdout",
                    "text": "\u001b[90m 2ms\u001b[0m\r\n",
                    "output_type": "stream"
                },
                {
                    "name": "stdout",
                    "text": "\u001b[32m      [+] Database msdb should have full backups less than 1 days old on SQL2016N2\u001b[0m",
                    "output_type": "stream"
                },
                {
                    "name": "stdout",
                    "text": "\u001b[90m 2ms\u001b[0m\r\n",
                    "output_type": "stream"
                },
                {
                    "name": "stdout",
                    "text": "\u001b[91m      [-] Database NoGoodDBCC should have full backups less than 1 days old on SQL2016N2\u001b[0m",
                    "output_type": "stream"
                },
                {
                    "name": "stdout",
                    "text": "\u001b[90m 3ms\u001b[0m\r\n",
                    "output_type": "stream"
                },
                {
                    "name": "stdout",
                    "text": "\u001b[91m        Expected the actual value to be greater than 2020-07-04T09:55:00.9027597Z, because Taking regular backups is extraordinarily important, but got 2020-05-17T02:30:44.0000000Z.\u001b[0m\r\n",
                    "output_type": "stream"
                },
                {
                    "name": "stdout",
                    "text": "\u001b[91m        487:                         $psitem.LastBackupDate.ToUniversalTime() | Should -BeGreaterThan (Get-Date).ToUniversalTime().AddDays( - ($maxfull)) -Because \"Taking regular backups is extraordinarily important\"\u001b[0m\r\n",
                    "output_type": "stream"
                },
                {
                    "name": "stdout",
                    "text": "\u001b[91m        at <ScriptBlock>, D:\\OneDrive\\Documents\\GitHub\\dbachecks\\checks\\Database.Tests.ps1: line 487\u001b[0m\r\n",
                    "output_type": "stream"
                },
                {
                    "name": "stdout",
                    "text": "\u001b[91m      [-] Database passrocssug_dbareports should have full backups less than 1 days old on SQL2016N2\u001b[0m",
                    "output_type": "stream"
                },
                {
                    "name": "stdout",
                    "text": "\u001b[90m 6ms\u001b[0m\r\n",
                    "output_type": "stream"
                },
                {
                    "name": "stdout",
                    "text": "\u001b[91m        Expected the actual value to be greater than 2020-07-04T09:55:00.9117474Z, because Taking regular backups is extraordinarily important, but got 2020-05-17T02:30:45.0000000Z.\u001b[0m\r\n",
                    "output_type": "stream"
                },
                {
                    "name": "stdout",
                    "text": "\u001b[91m        487:                         $psitem.LastBackupDate.ToUniversalTime() | Should -BeGreaterThan (Get-Date).ToUniversalTime().AddDays( - ($maxfull)) -Because \"Taking regular backups is extraordinarily important\"\u001b[0m\r\n",
                    "output_type": "stream"
                },
                {
                    "name": "stdout",
                    "text": "\u001b[91m        at <ScriptBlock>, D:\\OneDrive\\Documents\\GitHub\\dbachecks\\checks\\Database.Tests.ps1: line 487\u001b[0m\r\n",
                    "output_type": "stream"
                },
                {
                    "name": "stdout",
                    "text": "\u001b[32m      [+] Database SQLWatch should have full backups less than 1 days old on SQL2016N2\u001b[0m",
                    "output_type": "stream"
                },
                {
                    "name": "stdout",
                    "text": "\u001b[90m 1ms\u001b[0m\r\n",
                    "output_type": "stream"
                },
                {
                    "name": "stdout",
                    "text": "\u001b[91m      [-] Database TheBeardsProd should have full backups less than 1 days old on SQL2016N2\u001b[0m",
                    "output_type": "stream"
                },
                {
                    "name": "stdout",
                    "text": "\u001b[90m 4ms\u001b[0m\r\n",
                    "output_type": "stream"
                },
                {
                    "name": "stdout",
                    "text": "\u001b[91m        Expected the actual value to be greater than 2020-07-04T09:55:00.9305776Z, because Taking regular backups is extraordinarily important, but got 2020-05-17T02:30:51.0000000Z.\u001b[0m\r\n",
                    "output_type": "stream"
                },
                {
                    "name": "stdout",
                    "text": "\u001b[91m        487:                         $psitem.LastBackupDate.ToUniversalTime() | Should -BeGreaterThan (Get-Date).ToUniversalTime().AddDays( - ($maxfull)) -Because \"Taking regular backups is extraordinarily important\"\u001b[0m\r\n",
                    "output_type": "stream"
                },
                {
                    "name": "stdout",
                    "text": "\u001b[91m        at <ScriptBlock>, D:\\OneDrive\\Documents\\GitHub\\dbachecks\\checks\\Database.Tests.ps1: line 487\u001b[0m\r\n",
                    "output_type": "stream"
                },
                {
                    "name": "stdout",
                    "text": "\u001b[91m      [-] Database VideoDemodbareports should have full backups less than 1 days old on SQL2016N2\u001b[0m",
                    "output_type": "stream"
                },
                {
                    "name": "stdout",
                    "text": "\u001b[90m 3ms\u001b[0m\r\n",
                    "output_type": "stream"
                },
                {
                    "name": "stdout",
                    "text": "\u001b[91m        Expected the actual value to be greater than 2020-07-04T09:55:00.9709163Z, because Taking regular backups is extraordinarily important, but got 2020-05-17T02:30:51.0000000Z.\u001b[0m\r\n",
                    "output_type": "stream"
                },
                {
                    "name": "stdout",
                    "text": "\u001b[91m        487:                         $psitem.LastBackupDate.ToUniversalTime() | Should -BeGreaterThan (Get-Date).ToUniversalTime().AddDays( - ($maxfull)) -Because \"Taking regular backups is extraordinarily important\"\u001b[0m\r\n",
                    "output_type": "stream"
                },
                {
                    "name": "stdout",
                    "text": "\u001b[91m        at <ScriptBlock>, D:\\OneDrive\\Documents\\GitHub\\dbachecks\\checks\\Database.Tests.ps1: line 487\u001b[0m\r\n",
                    "output_type": "stream"
                },
                {
                    "name": "stdout",
                    "text": "\u001b[91m      [-] Database Viennadbareports should have full backups less than 1 days old on SQL2016N2\u001b[0m",
                    "output_type": "stream"
                },
                {
                    "name": "stdout",
                    "text": "\u001b[90m 5ms\u001b[0m\r\n",
                    "output_type": "stream"
                },
                {
                    "name": "stdout",
                    "text": "\u001b[91m        Expected the actual value to be greater than 2020-07-04T09:55:00.9810282Z, because Taking regular backups is extraordinarily important, but got 2020-05-17T02:30:52.0000000Z.\u001b[0m\r\n",
                    "output_type": "stream"
                },
                {
                    "name": "stdout",
                    "text": "\u001b[91m        487:                         $psitem.LastBackupDate.ToUniversalTime() | Should -BeGreaterThan (Get-Date).ToUniversalTime().AddDays( - ($maxfull)) -Because \"Taking regular backups is extraordinarily important\"\u001b[0m\r\n",
                    "output_type": "stream"
                },
                {
                    "name": "stdout",
                    "text": "\u001b[91m        at <ScriptBlock>, D:\\OneDrive\\Documents\\GitHub\\dbachecks\\checks\\Database.Tests.ps1: line 487\u001b[0m\r\n",
                    "output_type": "stream"
                },
                {
                    "name": "stdout",
                    "text": "\r\n",
                    "output_type": "stream"
                },
                {
                    "name": "stdout",
                    "text": "\u001b[92m  Describing Last Full Backup Times\u001b[0m\r\n",
                    "output_type": "stream"
                },
                {
                    "name": "stdout",
                    "text": "\r\n",
                    "output_type": "stream"
                },
                {
                    "name": "stdout",
                    "text": "\u001b[92m    Context Testing last full backups on SQL2016N3\u001b[0m\r\n",
                    "output_type": "stream"
                },
                {
                    "name": "stdout",
                    "text": "\u001b[32m      [+] Database DBA-Admin should have full backups less than 1 days old on SQL2016N3\u001b[0m",
                    "output_type": "stream"
                },
                {
                    "name": "stdout",
                    "text": "\u001b[90m 1ms\u001b[0m\r\n",
                    "output_type": "stream"
                },
                {
                    "name": "stdout",
                    "text": "\u001b[91m      [-] Database DEMOdbareports should have full backups less than 1 days old on SQL2016N3\u001b[0m",
                    "output_type": "stream"
                },
                {
                    "name": "stdout",
                    "text": "\u001b[90m 3ms\u001b[0m\r\n",
                    "output_type": "stream"
                },
                {
                    "name": "stdout",
                    "text": "\u001b[91m        Expected the actual value to be greater than 2020-07-04T09:55:01.6225161Z, because Taking regular backups is extraordinarily important, but got 2020-04-18T02:15:46.0000000Z.\u001b[0m\r\n",
                    "output_type": "stream"
                },
                {
                    "name": "stdout",
                    "text": "\u001b[91m        487:                         $psitem.LastBackupDate.ToUniversalTime() | Should -BeGreaterThan (Get-Date).ToUniversalTime().AddDays( - ($maxfull)) -Because \"Taking regular backups is extraordinarily important\"\u001b[0m\r\n",
                    "output_type": "stream"
                },
                {
                    "name": "stdout",
                    "text": "\u001b[91m        at <ScriptBlock>, D:\\OneDrive\\Documents\\GitHub\\dbachecks\\checks\\Database.Tests.ps1: line 487\u001b[0m\r\n",
                    "output_type": "stream"
                },
                {
                    "name": "stdout",
                    "text": "\u001b[91m      [-] Database Lisbondbareports should have full backups less than 1 days old on SQL2016N3\u001b[0m",
                    "output_type": "stream"
                },
                {
                    "name": "stdout",
                    "text": "\u001b[90m 3ms\u001b[0m\r\n",
                    "output_type": "stream"
                },
                {
                    "name": "stdout",
                    "text": "\u001b[91m        Expected the actual value to be greater than 2020-07-04T09:55:01.6304658Z, because Taking regular backups is extraordinarily important, but got 2020-04-18T02:15:46.0000000Z.\u001b[0m\r\n",
                    "output_type": "stream"
                },
                {
                    "name": "stdout",
                    "text": "\u001b[91m        487:                         $psitem.LastBackupDate.ToUniversalTime() | Should -BeGreaterThan (Get-Date).ToUniversalTime().AddDays( - ($maxfull)) -Because \"Taking regular backups is extraordinarily important\"\u001b[0m\r\n",
                    "output_type": "stream"
                },
                {
                    "name": "stdout",
                    "text": "\u001b[91m        at <ScriptBlock>, D:\\OneDrive\\Documents\\GitHub\\dbachecks\\checks\\Database.Tests.ps1: line 487\u001b[0m\r\n",
                    "output_type": "stream"
                },
                {
                    "name": "stdout",
                    "text": "\u001b[32m      [+] Database master should have full backups less than 1 days old on SQL2016N3\u001b[0m",
                    "output_type": "stream"
                },
                {
                    "name": "stdout",
                    "text": "\u001b[90m 1ms\u001b[0m\r\n",
                    "output_type": "stream"
                },
                {
                    "name": "stdout",
                    "text": "\u001b[32m      [+] Database model should have full backups less than 1 days old on SQL2016N3\u001b[0m",
                    "output_type": "stream"
                },
                {
                    "name": "stdout",
                    "text": "\u001b[90m 1ms\u001b[0m\r\n",
                    "output_type": "stream"
                },
                {
                    "name": "stdout",
                    "text": "\u001b[32m      [+] Database msdb should have full backups less than 1 days old on SQL2016N3\u001b[0m",
                    "output_type": "stream"
                },
                {
                    "name": "stdout",
                    "text": "\u001b[90m 2ms\u001b[0m\r\n",
                    "output_type": "stream"
                },
                {
                    "name": "stdout",
                    "text": "\u001b[91m      [-] Database NoGoodDBCC should have full backups less than 1 days old on SQL2016N3\u001b[0m",
                    "output_type": "stream"
                },
                {
                    "name": "stdout",
                    "text": "\u001b[90m 3ms\u001b[0m\r\n",
                    "output_type": "stream"
                },
                {
                    "name": "stdout",
                    "text": "\u001b[91m        Expected the actual value to be greater than 2020-07-04T09:55:01.6535868Z, because Taking regular backups is extraordinarily important, but got 2020-04-18T02:15:46.0000000Z.\u001b[0m\r\n",
                    "output_type": "stream"
                },
                {
                    "name": "stdout",
                    "text": "\u001b[91m        487:                         $psitem.LastBackupDate.ToUniversalTime() | Should -BeGreaterThan (Get-Date).ToUniversalTime().AddDays( - ($maxfull)) -Because \"Taking regular backups is extraordinarily important\"\u001b[0m\r\n",
                    "output_type": "stream"
                },
                {
                    "name": "stdout",
                    "text": "\u001b[91m        at <ScriptBlock>, D:\\OneDrive\\Documents\\GitHub\\dbachecks\\checks\\Database.Tests.ps1: line 487\u001b[0m\r\n",
                    "output_type": "stream"
                },
                {
                    "name": "stdout",
                    "text": "\u001b[91m      [-] Database passrocssug_dbareports should have full backups less than 1 days old on SQL2016N3\u001b[0m",
                    "output_type": "stream"
                },
                {
                    "name": "stdout",
                    "text": "\u001b[90m 3ms\u001b[0m\r\n",
                    "output_type": "stream"
                },
                {
                    "name": "stdout",
                    "text": "\u001b[91m        Expected the actual value to be greater than 2020-07-04T09:55:01.6609552Z, because Taking regular backups is extraordinarily important, but got 2020-04-18T02:15:46.0000000Z.\u001b[0m\r\n",
                    "output_type": "stream"
                },
                {
                    "name": "stdout",
                    "text": "\u001b[91m        487:                         $psitem.LastBackupDate.ToUniversalTime() | Should -BeGreaterThan (Get-Date).ToUniversalTime().AddDays( - ($maxfull)) -Because \"Taking regular backups is extraordinarily important\"\u001b[0m\r\n",
                    "output_type": "stream"
                },
                {
                    "name": "stdout",
                    "text": "\u001b[91m        at <ScriptBlock>, D:\\OneDrive\\Documents\\GitHub\\dbachecks\\checks\\Database.Tests.ps1: line 487\u001b[0m\r\n",
                    "output_type": "stream"
                },
                {
                    "name": "stdout",
                    "text": "\u001b[32m      [+] Database SQLWatch should have full backups less than 1 days old on SQL2016N3\u001b[0m",
                    "output_type": "stream"
                },
                {
                    "name": "stdout",
                    "text": "\u001b[90m 2ms\u001b[0m\r\n",
                    "output_type": "stream"
                },
                {
                    "name": "stdout",
                    "text": "\u001b[91m      [-] Database TheBeardsProd should have full backups less than 1 days old on SQL2016N3\u001b[0m",
                    "output_type": "stream"
                },
                {
                    "name": "stdout",
                    "text": "\u001b[90m 3ms\u001b[0m\r\n",
                    "output_type": "stream"
                },
                {
                    "name": "stdout",
                    "text": "\u001b[91m        Expected the actual value to be greater than 2020-07-04T09:55:01.6756081Z, because Taking regular backups is extraordinarily important, but got 2020-04-18T02:15:46.0000000Z.\u001b[0m\r\n",
                    "output_type": "stream"
                },
                {
                    "name": "stdout",
                    "text": "\u001b[91m        487:                         $psitem.LastBackupDate.ToUniversalTime() | Should -BeGreaterThan (Get-Date).ToUniversalTime().AddDays( - ($maxfull)) -Because \"Taking regular backups is extraordinarily important\"\u001b[0m\r\n",
                    "output_type": "stream"
                },
                {
                    "name": "stdout",
                    "text": "\u001b[91m        at <ScriptBlock>, D:\\OneDrive\\Documents\\GitHub\\dbachecks\\checks\\Database.Tests.ps1: line 487\u001b[0m\r\n",
                    "output_type": "stream"
                },
                {
                    "name": "stdout",
                    "text": "\u001b[91m      [-] Database VideoDemodbareports should have full backups less than 1 days old on SQL2016N3\u001b[0m",
                    "output_type": "stream"
                },
                {
                    "name": "stdout",
                    "text": "\u001b[90m 5ms\u001b[0m\r\n",
                    "output_type": "stream"
                },
                {
                    "name": "stdout",
                    "text": "\u001b[91m        Expected the actual value to be greater than 2020-07-04T09:55:01.6836211Z, because Taking regular backups is extraordinarily important, but got 2020-04-18T02:15:46.0000000Z.\u001b[0m\r\n",
                    "output_type": "stream"
                },
                {
                    "name": "stdout",
                    "text": "\u001b[91m        487:                         $psitem.LastBackupDate.ToUniversalTime() | Should -BeGreaterThan (Get-Date).ToUniversalTime().AddDays( - ($maxfull)) -Because \"Taking regular backups is extraordinarily important\"\u001b[0m\r\n",
                    "output_type": "stream"
                },
                {
                    "name": "stdout",
                    "text": "\u001b[91m        at <ScriptBlock>, D:\\OneDrive\\Documents\\GitHub\\dbachecks\\checks\\Database.Tests.ps1: line 487\u001b[0m\r\n",
                    "output_type": "stream"
                },
                {
                    "name": "stdout",
                    "text": "\u001b[91m      [-] Database Viennadbareports should have full backups less than 1 days old on SQL2016N3\u001b[0m",
                    "output_type": "stream"
                },
                {
                    "name": "stdout",
                    "text": "\u001b[90m 6ms\u001b[0m\r\n",
                    "output_type": "stream"
                },
                {
                    "name": "stdout",
                    "text": "\u001b[91m        Expected the actual value to be greater than 2020-07-04T09:55:01.6945333Z, because Taking regular backups is extraordinarily important, but got 2020-04-18T02:15:46.0000000Z.\u001b[0m\r\n",
                    "output_type": "stream"
                },
                {
                    "name": "stdout",
                    "text": "\u001b[91m        487:                         $psitem.LastBackupDate.ToUniversalTime() | Should -BeGreaterThan (Get-Date).ToUniversalTime().AddDays( - ($maxfull)) -Because \"Taking regular backups is extraordinarily important\"\u001b[0m\r\n",
                    "output_type": "stream"
                },
                {
                    "name": "stdout",
                    "text": "\u001b[91m        at <ScriptBlock>, D:\\OneDrive\\Documents\\GitHub\\dbachecks\\checks\\Database.Tests.ps1: line 487\u001b[0m\r\n",
                    "output_type": "stream"
                },
                {
                    "name": "stdout",
                    "text": "\u001b[97mTests completed in 3.84s\u001b[0m\r\n",
                    "output_type": "stream"
                },
                {
                    "name": "stdout",
                    "text": "\u001b[97mTests Passed: 61, \u001b[0m",
                    "output_type": "stream"
                },
                {
                    "name": "stdout",
                    "text": "\u001b[91mFailed: 14, \u001b[0m",
                    "output_type": "stream"
                },
                {
                    "name": "stdout",
                    "text": "\u001b[93mSkipped: 12, \u001b[0m",
                    "output_type": "stream"
                },
                {
                    "name": "stdout",
                    "text": "\u001b[90mPending: 0, \u001b[0m",
                    "output_type": "stream"
                },
                {
                    "name": "stdout",
                    "text": "\u001b[90mInconclusive: 0 \u001b[0m\r\n",
                    "output_type": "stream"
                },
                {
                    "name": "stdout",
                    "text": "Name                 Value Description\r\n",
                    "output_type": "stream"
                },
                {
                    "name": "stdout",
                    "text": "----                 ----- -----------\r\n",
                    "output_type": "stream"
                },
                {
                    "name": "stdout",
                    "text": "skip.backup.readonly  True Check read-only databases for last backup\r\n",
                    "output_type": "stream"
                },
                {
                    "name": "stdout",
                    "text": "\r\n",
                    "output_type": "stream"
                }
            ],
            "execution_count": 8
        },
        {
            "cell_type": "markdown",
            "source": [
                "Set the config and run again"
            ],
            "metadata": {
                "azdata_cell_guid": "bb8cd127-86a5-4765-b3c1-c78fe4e8e930"
            }
        },
        {
            "cell_type": "code",
            "source": [
                "$InstanceSMO = Connect-DbaInstance SQL2016N2\n",
                "$skipsecondaries = $true\n",
                "$InstanceSMO.Databases.Where{ ($psitem.Name -ne 'tempdb') }.ForEach{\n",
                "    if ($psitem.AvailabilityGroupName) {\n",
                "        $agReplicaRole = $InstanceSMO.AvailabilityGroups[$psitem.AvailabilityGroupName].LocalReplicaRole\n",
                "    } else {\n",
                "        $agReplicaRole = $null\n",
                "    }\n",
                "    $skip = ($psitem.Status -match \"Offline\") -or ($psitem.IsAccessible -eq $false) -or ($psitem.Readonly -eq $true -and $skipreadonly -eq $true) -or ($agReplicaRole -eq 'Secondary' -and $skipsecondaries -eq $true)\n",
                "Write-Host \" $agReplicaRole and $($Psitem.Name) and $skip\"\n",
                "}"
            ],
            "metadata": {
                "azdata_cell_guid": "44b6b8af-3e89-4257-b3a6-312b9ecc7bbe"
            },
            "outputs": [
{
    "name": "stdout",
    "text": "  and DBA-Admin and False\r\n",
    "output_type": "stream"
}, {
    "name": "stdout",
    "text": "  and dbachecks and False\r\n",
    "output_type": "stream"
}, {
    "name": "stdout",
    "text": " Secondary and DEMOdbareports and True\r\n",
    "output_type": "stream"
}, {
    "name": "stdout",
    "text": " Secondary and Lisbondbareports and True\r\n",
    "output_type": "stream"
}, {
    "name": "stdout",
    "text": "  and master and False\r\n",
    "output_type": "stream"
}, {
    "name": "stdout",
    "text": "  and model and False\r\n",
    "output_type": "stream"
}, {
    "name": "stdout",
    "text": "  and msdb and False\r\n",
    "output_type": "stream"
}, {
    "name": "stdout",
    "text": " Secondary and NoGoodDBCC and True\r\n",
    "output_type": "stream"
}, {
    "name": "stdout",
    "text": " Secondary and passrocssug_dbareports and True\r\n",
    "output_type": "stream"
}, {
    "name": "stdout",
    "text": "  and SQLWatch and False\r\n",
    "output_type": "stream"
}, {
    "name": "stdout",
    "text": " Secondary and TheBeardsProd and True\r\n",
    "output_type": "stream"
}, {
    "name": "stdout",
    "text": " Secondary and VideoDemodbareports and True\r\n",
    "output_type": "stream"
}, {
    "name": "stdout",
    "text": " Secondary and Viennadbareports and True\r\n",
    "output_type": "stream"
}
],
            "execution_count": 9
        },
        {
            "cell_type": "code",
            "source": [
                "$Sqlinstances = (Get-VM -ComputerName BEARDNUC, BEARDNUC2 -Name *SQL* | Where State -eq 'Running').Name\n",
                "\n",
                "Set-DbcConfig -Name skip.security.nonstandardport -Value $false\n",
                "Invoke-DbcCheck -ComputerName SQL2017N5 -Check NonStandardPort"
            ],
            "metadata": {
                "azdata_cell_guid": "492db0f8-7acc-45e5-962f-4e6589b56260"
            },
            "outputs": [
                {
                    "output_type": "stream",
                    "name": "stdout",
                    "text": "\n\u001b[97m    ____            __\n   / __ \\___  _____/ /____  _____\n  / /_/ / _ \\/ ___/ __/ _ \\/ ___/\n / ____/  __(__  ) /_/  __/ /\n/_/    \\___/____/\\__/\\___/_/\nPester v4.9.0\nExecuting all tests in 'D:\\OneDrive\\Documents\\GitHub\\dbachecks\\checks\\Server.Tests.ps1' with Tags NonStandardPort\u001b[0m\n\n\u001b[92mExecuting script D:\\OneDrive\\Documents\\GitHub\\dbachecks\\checks\\Server.Tests.ps1\u001b[0m\n\n\u001b[92m  Describing Non Standard Port\u001b[0m\n\n\u001b[92m    Context Checking SQL Server ports on SQL2017N5\u001b[0m\n\u001b[32m      [+] No SQL Server Instances should be configured with port 1433 on SQL2017N5\u001b[0m\u001b[90m 3ms\u001b[0m\n\u001b[97mTests completed in 281ms\u001b[0m\n\u001b[32mTests Passed: 1, \u001b[0m\u001b[90mFailed: 0, \u001b[0m\u001b[90mSkipped: 0, \u001b[0m\u001b[90mPending: 0, \u001b[0m\u001b[90mInconclusive: 0 \u001b[0m\nName                          Value Description\n----                          ----- -----------\nskip.security.nonstandardport False Skips the check for whether SQL Server should be configured wi…\n\n"
                }
            ],
            "execution_count": 17
        },
        {
            "cell_type": "code",
            "source": [
                "Get-DbcConfig -Name global.notcontactable "
            ],
            "metadata": {
                "azdata_cell_guid": "efc82ab0-a902-4575-a584-c775add26dc8"
            },
            "outputs": [
                {
                    "output_type": "stream",
                    "name": "stdout",
                    "text": "\nName                  Value Description\n----                  ----- -----------\nglobal.notcontactable {}    This is used within the checks to avoid trying to contact none-respons…\n\n"
                }
            ],
            "execution_count": 15
        },
        {
            "cell_type": "code",
            "source": [
                "@(Get-DbaLogin -SQLInstance sql2019n5 -Type SQL | Where-Object { $_.PasswordPolicyEnforced -eq $false -and $_.IsDisabled -eq $false}).Count"
            ],
            "metadata": {
                "azdata_cell_guid": "5ccca720-00c1-45d3-b37d-462a0eea2f45"
            },
            "outputs": [
                {
                    "output_type": "stream",
                    "name": "stdout",
                    "text": "1\n"
                }
            ],
            "execution_count": 9
        },
        {
            "cell_type": "code",
            "source": [
                "@(Get-DbaLogin -SqlInstance sql2019n5 -Login sa).Count"
            ],
            "metadata": {
                "azdata_cell_guid": "9342d176-35fc-4c19-899b-7fbcdf808d16"
            },
            "outputs": [
                {
                    "output_type": "stream",
                    "name": "stdout",
                    "text": "1\n"
                }
            ],
            "execution_count": 10
        },
        {
            "cell_type": "code",
            "source": [],
            "metadata": {
                "azdata_cell_guid": "ffbd6b40-efb6-477c-b066-dce03dc22812"
            },
            "outputs": [],
            "execution_count": null
        }
    ]
}