{
    "metadata": {
        "kernelspec": {
            "name": ".net-powershell",
            "display_name": ".NET (PowerShell)"
        },
        "language_info": {
            "name": "PowerShell",
            "version": "7.0",
            "mimetype": "text/x-powershell",
            "file_extension": ".ps1",
            "pygments_lexer": "powershell"
        }
    },
    "nbformat_minor": 2,
    "nbformat": 4,
    "cells": [
        {
            "cell_type": "markdown",
            "source": [
                "# dbachecks PRs\n",
                "\n",
                "To check the PR we need to change the working directory to the source directory"
            ],
            "metadata": {
                "azdata_cell_guid": "b76f7cb1-2ff6-4f1a-b3f3-bd51fba84312"
            }
        },
        {
            "cell_type": "code",
            "source": [
                "# Set-Location C:\\Users\\mrrob\\OneDrive\\Documents\\GitHub\\dbachecks\r\n",
                "Set-Location D:\\OneDrive\\Documents\\GitHub\\dbachecks"
            ],
            "metadata": {
                "azdata_cell_guid": "00b5448c-b6e0-4af3-aab5-e0b5b679e72d"
            },
            "outputs": [],
            "execution_count": 3
        },
        {
            "cell_type": "markdown",
            "source": [
                "Get the status of the repo"
            ],
            "metadata": {
                "azdata_cell_guid": "43454b07-fa62-4513-adec-63520451c699"
            }
        },
        {
            "cell_type": "code",
            "source": [
                "git fetch\n",
                "git status"
            ],
            "metadata": {
                "azdata_cell_guid": "e2bae1e4-dc11-4fe6-89f7-a398fc0d3f18"
            },
            "outputs": [
                {
                    "name": "stdout",
                    "text": "From https://github.com/jpomfret/dbachecks\r\n",
                    "output_type": "stream"
                },
                {
                    "name": "stdout",
                    "text": " * [new branch]      compatLevel -> jpomfret/compatLevel\r\n",
                    "output_type": "stream"
                },
                {
                    "name": "stdout",
                    "text": "On branch pr/jpomfret/777\r\n",
                    "output_type": "stream"
                },
                {
                    "name": "stdout",
                    "text": "Your branch is up to date with 'jpomfret/agSecondaries'.\r\n",
                    "output_type": "stream"
                },
                {
                    "name": "stdout",
                    "text": "\r\n",
                    "output_type": "stream"
                },
                {
                    "name": "stdout",
                    "text": "nothing to commit, working tree clean\r\n",
                    "output_type": "stream"
                }
            ],
            "execution_count": 4
        },
        {
            "cell_type": "markdown",
            "source": [
                "ensure development branch is up to date"
            ],
            "metadata": {
                "azdata_cell_guid": "5dfb5fcd-ed70-496f-a878-2c7f7abb48e5"
            }
        },
        {
            "cell_type": "code",
            "source": [
                "git checkout development\n",
                "git pull"
            ],
            "metadata": {
                "azdata_cell_guid": "86104766-e2e1-4ef5-8111-08cfb40ab1a9"
            },
            "outputs": [
                {
                    "output_type": "stream",
                    "name": "stdout",
                    "text": "Already on 'development'\nM\tPSScriptAnalyzerSettings.psd1\nYour branch is behind 'origin/development' by 9 commits, and can be fast-forwarded.\n  (use \"git pull\" to update your local branch)\nUpdating be95c03..d66c8cd\nFast-forward\n RELEASE.md                                        |  3 +-\n checks/Database.Tests.ps1                         | 41 +++++++++++++++++++++++\n internal/assertions/Database.Assertions.ps1       | 16 +++++++++\n internal/configurations/DbcCheckDescriptions.json | 14 ++++++--\n internal/configurations/configuration.ps1         |  2 ++\n 5 files changed, 72 insertions(+), 4 deletions(-)\n"
                }
            ],
            "execution_count": 11
        },
        {
            "cell_type": "markdown",
            "source": [
                "checkout the PR branch, I normally use Visual Studio Code PR Extension for this"
            ],
            "metadata": {
                "azdata_cell_guid": "a61faea8-8b3b-49d8-a19d-cb7bab5e4e1f"
            }
        },
        {
            "cell_type": "code",
            "source": [
                "git status"
            ],
            "metadata": {
                "azdata_cell_guid": "ad45d977-8de6-499b-aa2c-95869aa3a5ea"
            },
            "outputs": [
                {
                    "name": "stdout",
                    "text": "On branch pr/jpomfret/777\r\n",
                    "output_type": "stream"
                },
                {
                    "name": "stdout",
                    "text": "Your branch is up to date with 'jpomfret/agSecondaries'.\r\n",
                    "output_type": "stream"
                },
                {
                    "name": "stdout",
                    "text": "\r\n",
                    "output_type": "stream"
                },
                {
                    "name": "stdout",
                    "text": "nothing to commit, working tree clean\r\n",
                    "output_type": "stream"
                }
            ],
            "execution_count": 5
        },
        {
            "cell_type": "markdown",
            "source": [
                "make sure that we merge development into this branch"
            ],
            "metadata": {
                "azdata_cell_guid": "0e4aba36-8e09-499c-ae74-670f59236c45"
            }
        },
        {
            "cell_type": "code",
            "source": [
                "git merge development"
            ],
            "metadata": {
                "azdata_cell_guid": "de38d6f3-08ac-465e-93be-8e8fb59a041f"
            },
            "outputs": [
                {
                    "name": "stdout",
                    "text": "Already up to date.\r\n",
                    "output_type": "stream"
                }
            ],
            "execution_count": 6
        },
        {
            "cell_type": "code",
            "source": [],
            "metadata": {
                "azdata_cell_guid": "052f7a4e-8f00-4fb1-a142-c5a0c8dc98b6"
            },
            "outputs": [],
            "execution_count": null
        }
    ]
}