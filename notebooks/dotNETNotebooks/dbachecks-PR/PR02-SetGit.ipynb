{
 "cells": [
  {
   "cell_type": "markdown",
   "metadata": {},
   "source": [
    "# dbachecks PRs\n",
    "\n",
    "To check the PR we need to change the working directory to the source directory"
   ]
  },
  {
   "cell_type": "code",
   "execution_count": 9,
   "metadata": {},
   "outputs": [],
   "source": [
    "Set-Location C:\\Users\\mrrob\\OneDrive\\Documents\\GitHub\\dbachecks"
   ]
  },
  {
   "cell_type": "markdown",
   "metadata": {},
   "source": [
    "Get the status of the repo"
   ]
  },
  {
   "cell_type": "code",
   "execution_count": 10,
   "metadata": {},
   "outputs": [
    {
     "name": "stdout",
     "output_type": "stream",
     "text": [
      "From https://github.com/sqlcollaborative/dbachecks\n",
      "   be95c03..d66c8cd  development -> origin/development\n",
      "On branch development\n",
      "Your branch is behind 'origin/development' by 9 commits, and can be fast-forwarded.\n",
      "  (use \"git pull\" to update your local branch)\n",
      "\n",
      "Changes not staged for commit:\n",
      "  (use \"git add <file>...\" to update what will be committed)\n",
      "  (use \"git restore <file>...\" to discard changes in working directory)\n",
      "\tmodified:   PSScriptAnalyzerSettings.psd1\n",
      "\n",
      "no changes added to commit (use \"git add\" and/or \"git commit -a\")\n"
     ]
    }
   ],
   "source": [
    "git fetch\n",
    "git status"
   ]
  },
  {
   "cell_type": "markdown",
   "metadata": {},
   "source": [
    "ensure development branch is up to date"
   ]
  },
  {
   "cell_type": "code",
   "execution_count": 11,
   "metadata": {},
   "outputs": [
    {
     "name": "stdout",
     "output_type": "stream",
     "text": [
      "Already on 'development'\n",
      "M\tPSScriptAnalyzerSettings.psd1\n",
      "Your branch is behind 'origin/development' by 9 commits, and can be fast-forwarded.\n",
      "  (use \"git pull\" to update your local branch)\n",
      "Updating be95c03..d66c8cd\n",
      "Fast-forward\n",
      " RELEASE.md                                        |  3 +-\n",
      " checks/Database.Tests.ps1                         | 41 +++++++++++++++++++++++\n",
      " internal/assertions/Database.Assertions.ps1       | 16 +++++++++\n",
      " internal/configurations/DbcCheckDescriptions.json | 14 ++++++--\n",
      " internal/configurations/configuration.ps1         |  2 ++\n",
      " 5 files changed, 72 insertions(+), 4 deletions(-)\n"
     ]
    }
   ],
   "source": [
    "git checkout development\n",
    "git pull"
   ]
  },
  {
   "cell_type": "markdown",
   "metadata": {},
   "source": [
    "checkout the PR branch, I normally use Visual Studio Code PR Extension for this"
   ]
  },
  {
   "cell_type": "code",
   "execution_count": 12,
   "metadata": {},
   "outputs": [
    {
     "name": "stdout",
     "output_type": "stream",
     "text": [
      "On branch pr/tboggiano/733\n",
      "Your branch is up to date with 'tboggiano/sqlagentproxies'.\n",
      "\n",
      "Changes not staged for commit:\n",
      "  (use \"git add <file>...\" to update what will be committed)\n",
      "  (use \"git restore <file>...\" to discard changes in working directory)\n",
      "\tmodified:   PSScriptAnalyzerSettings.psd1\n",
      "\n",
      "no changes added to commit (use \"git add\" and/or \"git commit -a\")\n"
     ]
    }
   ],
   "source": [
    "git status"
   ]
  },
  {
   "cell_type": "markdown",
   "metadata": {},
   "source": [
    "make sure that we merge development into this branch"
   ]
  },
  {
   "cell_type": "code",
   "execution_count": 13,
   "metadata": {},
   "outputs": [
    {
     "name": "stdout",
     "output_type": "stream",
     "text": [
      "Auto-merging internal/configurations/configuration.ps1\n",
      "CONFLICT (content): Merge conflict in internal/configurations/configuration.ps1\n",
      "Auto-merging internal/configurations/DbcCheckDescriptions.json\n",
      "CONFLICT (content): Merge conflict in internal/configurations/DbcCheckDescriptions.json\n",
      "Auto-merging internal/assertions/Instance.Assertions.ps1\n",
      "CONFLICT (content): Merge conflict in internal/assertions/Instance.Assertions.ps1\n",
      "Auto-merging checks/Instance.Tests.ps1\n",
      "CONFLICT (content): Merge conflict in checks/Instance.Tests.ps1\n",
      "Automatic merge failed; fix conflicts and then commit the result.\n"
     ]
    }
   ],
   "source": [
    "git merge development"
   ]
  },
  {
   "cell_type": "code",
   "execution_count": null,
   "metadata": {},
   "outputs": [],
   "source": []
  }
 ],
 "metadata": {
  "kernelspec": {
   "display_name": ".NET (PowerShell)",
   "language": "PowerShell",
   "name": ".net-powershell"
  },
  "language_info": {
   "file_extension": ".ps1",
   "mimetype": "text/x-powershell",
   "name": "PowerShell",
   "pygments_lexer": "powershell",
   "version": "7.0"
  }
 },
 "nbformat": 4,
 "nbformat_minor": 4
}
