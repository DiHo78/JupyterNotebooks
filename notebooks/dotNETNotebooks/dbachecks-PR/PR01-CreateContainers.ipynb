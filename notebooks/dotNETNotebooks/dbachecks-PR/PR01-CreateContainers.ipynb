{
 "cells": [
  {
   "cell_type": "markdown",
   "metadata": {},
   "source": [
    "# checking a dbachecks PR\n",
    "\n",
    "![First Power Bi](..\\dbachecks\\images\\dbachecks-logo.png )\n",
    "\n",
    "These notebooks are designed to help when there is a new PR to ensure that nothing obvious is broken\n",
    "\n",
    "## setting up the containers\n",
    "\n",
    "Of course, this will mean that some checks are not able to be tested so we will have to rely on the other Pester checks for those"
   ]
  },
  {
   "cell_type": "code",
   "execution_count": 2,
   "metadata": {},
   "outputs": [
    {
     "name": "stdout",
     "output_type": "stream",
     "text": [
      "Creating Directory C:\\Users\\mrrob\\Documents\\dbachecks\n",
      "Path C:\\Users\\mrrob\\Documents\\dbachecks exists already\n",
      "Creating Directory C:\\Users\\mrrob\\Documents\\dbachecks\\SQL1\n",
      "Directory SQL1 exists already\n",
      "Creating File C:\\Users\\mrrob\\Documents\\dbachecks\\SQL1\\dummyfile.txt\n",
      "Creating Directory C:\\Users\\mrrob\\Documents\\dbachecks\\SQL2\n",
      "Directory SQL2 exists already\n",
      "Creating File C:\\Users\\mrrob\\Documents\\dbachecks\\SQL2\\dummyfile.txt\n",
      "Creating a credential file for the containers - Please don't do this in production\n",
      "Credential file created\n",
      "Setting the docker-compose files values\n"
     ]
    }
   ],
   "source": [
    "$FolderPath = $Env:USERPROFILE + '\\Documents\\dbachecks'\n",
    "\n",
    "########################################################\n",
    "Write-Output \"Creating Directory $FolderPath\"\n",
    "if(Test-Path $FolderPath){\n",
    "    Write-Output \"Path $FolderPath exists already\"\n",
    "}else {\n",
    " $null =    New-Item $FolderPath -ItemType Directory\n",
    "}\n",
    "\n",
    "Write-Output \"Creating Directory $FolderPath\\SQL1\"\n",
    "if(Test-Path \"$FolderPath\\SQL1\"){\n",
    "    Write-Output \"Directory SQL1 exists already\"\n",
    "    Get-ChildItem \"$FolderPath\\SQL1\" -Recurse| Remove-Item -Recurse -Force\n",
    "}else {\n",
    "$null = New-Item \"$FolderPath\\SQL1\"-ItemType Directory\n",
    "}\n",
    "Write-Output \"Creating File $FolderPath\\SQL1\\dummyfile.txt\"\n",
    "if(Test-Path \"$FolderPath\\SQL1\\dummyfile.txt\"){\n",
    "    Write-Output \"dummyfile.txt exists already\"\n",
    "}else {\n",
    "$null =  New-Item \"$FolderPath\\SQL1\\dummyfile.txt\" -ItemType file\n",
    "}\n",
    "\n",
    "Write-Output \"Creating Directory $FolderPath\\SQL2\"\n",
    "if(Test-Path \"$FolderPath\\SQL2\"){\n",
    "    Write-Output \"Directory SQL2 exists already\"\n",
    "    Get-ChildItem \"$FolderPath\\SQL2\" -Recurse| Remove-Item -Recurse -Force\n",
    "}else {\n",
    " $null =    New-Item \"$FolderPath\\SQL2\"-ItemType Directory\n",
    "}\n",
    "Write-Output \"Creating File $FolderPath\\SQL2\\dummyfile.txt\"\n",
    "if(Test-Path \"$FolderPath\\SQL2\\dummyfile.txt\"){\n",
    "    Write-Output \"dummyfile.txt exists already\"\n",
    "}else {\n",
    "$null =  New-Item \"$FolderPath\\SQL2\\dummyfile.txt\" -ItemType file\n",
    "}\n",
    "\n",
    "Write-Output \"Creating a credential file for the containers - Please don't do this in production\"\n",
    "\n",
    "$sqladminPassword = ConvertTo-SecureString 'dbatools.IO' -AsPlainText -Force \n",
    "$cred = New-Object System.Management.Automation.PSCredential ('sqladmin', $sqladminpassword)\n",
    "$Cred | Export-Clixml -Path $FolderPath\\sqladmin.cred\n",
    "Write-Output \"Credential file created\"\n",
    "\n",
    "Write-Output \"Setting the docker-compose files values\"\n",
    "$dockercompose = (Get-Content dockercompose.yml) -replace '__ReplaceME__' , $FolderPath\n",
    "# $dockercompose\n",
    "$dockercompose | Set-Content $FolderPath\\docker-compose.yml\n",
    "\n"
   ]
  },
  {
   "cell_type": "markdown",
   "metadata": {},
   "source": [
    "## Containers\n",
    "\n",
    "We are going to create two SQL 2019 containers using the sqldbawithabeard\\dbachecks [image from the Docker Hub](https://hub.docker.com/repository/docker/sqldbawithabeard/dbachecksdemo). \n",
    "\n",
    "The first time it is going to pull the image sqldbawithabeard/dbachecksdemo from the Docker Hub. If you wish to do this first, you can run \n",
    "\n",
    "`docker pull sqldbawithabeard/dbachecksdemo`"
   ]
  },
  {
   "cell_type": "code",
   "execution_count": 3,
   "metadata": {},
   "outputs": [
    {
     "name": "stdout",
     "output_type": "stream",
     "text": [
      "Creating network \"dbachecks_BeardsMagicNetwork\" with the default driver\n",
      "Creating dbachecks_SQL2019_1 ... \n",
      "\n",
      "Creating dbachecks_SQL2019-1_1 ... \n",
      "\n",
      "\u001b[1A\u001b[2K\n",
      "Creating dbachecks_SQL2019-1_1 ... \u001b[32mdone\u001b[0m\n",
      "\u001b[1B\u001b[2A\u001b[2K\n",
      "Creating dbachecks_SQL2019_1   ... \u001b[32mdone\u001b[0m\n",
      "\u001b[2B\n"
     ]
    }
   ],
   "source": [
    "$FolderPath = $Env:USERPROFILE + '\\Documents\\dbachecks'\n",
    "Set-Location $FolderPath\n",
    "docker-compose up -d"
   ]
  },
  {
   "cell_type": "code",
   "execution_count": 4,
   "metadata": {},
   "outputs": [
    {
     "name": "stdout",
     "output_type": "stream",
     "text": [
      "CONTAINER ID        IMAGE                            COMMAND                  CREATED             STATUS              PORTS                                             NAMES\n",
      "2a4ce913a3ce        sqldbawithabeard/dbachecksdemo   \"/opt/mssql/bin/perm…\"   12 seconds ago      Up 12 seconds       0.0.0.0:5023->5023/tcp, 0.0.0.0:15593->1433/tcp   dbachecks_SQL2019-1_1\n",
      "69017f5d2a89        sqldbawithabeard/dbachecksdemo   \"/opt/mssql/bin/perm…\"   12 seconds ago      Up 12 seconds       0.0.0.0:5022->5022/tcp, 0.0.0.0:15592->1433/tcp   dbachecks_SQL2019_1\n"
     ]
    }
   ],
   "source": [
    "docker ps -a"
   ]
  },
  {
   "cell_type": "markdown",
   "metadata": {},
   "source": [
    "if required"
   ]
  },
  {
   "cell_type": "code",
   "execution_count": null,
   "metadata": {},
   "outputs": [],
   "source": [
    "docker logs dbachecks_SQL2019_1"
   ]
  },
  {
   "cell_type": "code",
   "execution_count": null,
   "metadata": {},
   "outputs": [],
   "source": [
    "docker logs dbachecks_SQL2019-1_1"
   ]
  }
 ],
 "metadata": {
  "kernelspec": {
   "display_name": ".NET (PowerShell)",
   "language": "PowerShell",
   "name": ".net-powershell"
  },
  "language_info": {
   "file_extension": ".ps1",
   "mimetype": "text/x-powershell",
   "name": "PowerShell",
   "pygments_lexer": "powershell",
   "version": "7.0"
  }
 },
 "nbformat": 4,
 "nbformat_minor": 4
}
