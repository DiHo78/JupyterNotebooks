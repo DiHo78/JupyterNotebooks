{
 "cells": [
  {
   "cell_type": "markdown",
   "metadata": {},
   "source": [
    "# Using PowerShell Notebooks in Azure Data Studio\n",
    "\n",
    "In .NET interactive notebook - it does know where it is"
   ]
  },
  {
   "cell_type": "code",
   "execution_count": 1,
   "metadata": {},
   "outputs": [
    {
     "data": {
      "text/html": [
       "<script type=\"text/javascript\">#!javascript\r\n",
       "if ((typeof(requirejs) !==  typeof(Function)) || (typeof(requirejs.config) !== typeof(Function))) { \r\n",
       "    let script = document.createElement(\"script\"); \r\n",
       "    script.setAttribute(\"src\", \"https://cdnjs.cloudflare.com/ajax/libs/require.js/2.3.6/require.min.js\"); \r\n",
       "    script.onload = function(){\r\n",
       "        loadDotnetInteractiveApi();\r\n",
       "    };\r\n",
       "    document.getElementsByTagName(\"head\")[0].appendChild(script); \r\n",
       "}\r\n",
       "else {\r\n",
       "    loadDotnetInteractiveApi();\r\n",
       "}\r\n",
       "\r\n",
       "function loadDotnetInteractiveApi(){\r\n",
       "    let apiRequire = requirejs.config({context:\"dotnet-interactive.23668.56806\",paths:{dotnetInteractive:\"http://localhost:56806/resources/dotnet-interactive\"}});\r\n",
       "    apiRequire(['dotnetInteractive'], \r\n",
       "    function(api) {       \r\n",
       "        api.createDotnetInteractiveClient(\"http://localhost:56806/\", window);\r\n",
       "    },\r\n",
       "    function(error){\r\n",
       "        console.log(error);\r\n",
       "    });\r\n",
       "}</script>"
      ]
     },
     "metadata": {},
     "output_type": "display_data"
    },
    {
     "name": "stdout",
     "output_type": "stream",
     "text": [
      "\n",
      "Path\n",
      "----\n",
      "C:\\Users\\mrrob\\OneDrive\\Documents\\GitHub\\JupyterNotebooks\\notebooks\\dotNETNotebooks\\PowerShell 7\n",
      "\n"
     ]
    }
   ],
   "source": [
    "Get-Location"
   ]
  },
  {
   "cell_type": "markdown",
   "metadata": {},
   "source": [
    "# Service Desk Instructions in the event of problem with ................\n",
    "\n",
    "Hi Service Desk person,\n",
    "\n",
    "Please follow the instructions in this notebook to take action on **problem with ........**\n",
    "\n",
    "Lets check for some common scenarios which you can resolve.\n",
    "\n",
    "If you do not know how to use a notebook please go and read the instructions at [place where we store documentation](https://linktoinstructions)\n",
    "\n",
    "Read that?. Good - Run the cell below and then read the text below it"
   ]
  },
  {
   "cell_type": "code",
   "execution_count": 2,
   "metadata": {},
   "outputs": [
    {
     "name": "stdout",
     "output_type": "stream",
     "text": [
      "\n",
      "\u001b[92mDescribing Checking Problem ...... by BEARDXPS mrrob\u001b[0m\n",
      "\n",
      "\u001b[92m  Context  Are all the services running ?\u001b[0m\n",
      "\u001b[32m    [+] The Service Audiosrv should be running\u001b[0m\u001b[90m 91ms\u001b[0m\n",
      "\u001b[91m    [-] The Service BITS should be running\u001b[0m\u001b[90m 64ms\u001b[0m\n",
      "\u001b[91m      Expected 'Running', because Service XXXX requires the service BITS to be running, but got Stopped.\u001b[0m\n",
      "\u001b[91m      8:                 (Get-Service -Name $Service).Status | Should -Be 'Running' -Because \"Service XXXX requires the service $Service to be running\"\u001b[0m\n",
      "\u001b[32m    [+] The Service com.docker.service should be running\u001b[0m\u001b[90m 4ms\u001b[0m\n",
      "\u001b[32m    [+] The Service EventLog should be running\u001b[0m\u001b[90m 7ms\u001b[0m\n",
      "\u001b[91m    [-] The Service MSSQLSERVER should be running\u001b[0m\u001b[90m 13ms\u001b[0m\n",
      "\u001b[91m      Expected 'Running', because Service XXXX requires the service MSSQLSERVER to be running, but got Stopped.\u001b[0m\n",
      "\u001b[91m      8:                 (Get-Service -Name $Service).Status | Should -Be 'Running' -Because \"Service XXXX requires the service $Service to be running\"\u001b[0m\n",
      "\u001b[32m    [+] The Service Spooler should be running\u001b[0m\u001b[90m 12ms\u001b[0m\n"
     ]
    }
   ],
   "source": [
    "## <----- Press CTRL and ENTER - DONT MAKE A BEARD MAD BY CHANGING ANYTHING below here\n",
    "\n",
    "Describe \"Checking Problem ...... by $($ENV:USERDOMAIN) $($ENV:UserName)\" {\n",
    "    Context \" Are all the services running ?\" {\n",
    "        $Services = 'Audiosrv','BITS','com.docker.service','EventLog','MSSQLSERVER', 'Spooler'\n",
    "        foreach($Service in $Services){\n",
    "            It \"The Service $Service should be running\" {\n",
    "                (Get-Service -Name $Service).Status | Should -Be 'Running' -Because \"Service XXXX requires the service $Service to be running\"\n",
    "            }\n",
    "        }\n",
    "    }\n",
    "}"
   ]
  },
  {
   "cell_type": "markdown",
   "metadata": {},
   "source": [
    "If any of the results above are not tests that have passed (please go and read the instructions if you are unsure at [place where we store documentation](https://linktoinstructions))\n",
    "\n",
    "We can see if you can fix it. Copy the name after`Service` for each failing test and add it to the next code block"
   ]
  },
  {
   "cell_type": "code",
   "execution_count": null,
   "metadata": {},
   "outputs": [],
   "source": [
    "$ServicesToStart = 'MSSQLSERVER' ## You may add values here before pressing play.\n",
    "Get-Service $ServicesToStart | Start-Service"
   ]
  }
 ],
 "metadata": {
  "kernelspec": {
   "display_name": ".NET (PowerShell)",
   "language": "PowerShell",
   "name": ".net-powershell"
  },
  "language_info": {
   "file_extension": ".ps1",
   "mimetype": "text/x-powershell",
   "name": "PowerShell",
   "pygments_lexer": "powershell",
   "version": "7.0"
  }
 },
 "nbformat": 4,
 "nbformat_minor": 4
}
