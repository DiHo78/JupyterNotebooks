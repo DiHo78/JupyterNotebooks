{
    "metadata": {
        "kernelspec": {
            "name": ".net-powershell",
            "display_name": ".NET (PowerShell)"
        },
        "language_info": {
            "name": "PowerShell",
            "version": "7.0",
            "mimetype": "text/x-powershell",
            "file_extension": ".ps1",
            "pygments_lexer": "powershell"
        }
    },
    "nbformat_minor": 2,
    "nbformat": 4,
    "cells": [
        {
            "cell_type": "markdown",
            "source": [
                "# Using PowerShell Notebooks in Azure Data Studio\n",
                "\n",
                "In .NET interactive notebook - it does know where it is "
            ],
            "metadata": {
                "azdata_cell_guid": "37ba4ea5-8b4c-463b-8fa1-f041b09e578c"
            }
        },
        {
            "cell_type": "code",
            "source": [
                "Get-Location"
            ],
            "metadata": {
                "azdata_cell_guid": "8b6f2473-0158-4bc1-9682-3815a9e93950"
            },
            "outputs": [
                {
                    "name": "stdout",
                    "text": "\r\n",
                    "output_type": "stream"
                },
                {
                    "name": "stdout",
                    "text": "Path\r\n",
                    "output_type": "stream"
                },
                {
                    "name": "stdout",
                    "text": "----\r\n",
                    "output_type": "stream"
                },
                {
                    "name": "stdout",
                    "text": "C:\\Users\\mrrob\r\n",
                    "output_type": "stream"
                },
                {
                    "name": "stdout",
                    "text": "\r\n",
                    "output_type": "stream"
                }
            ],
            "execution_count": 1
        },
        {
            "cell_type": "markdown",
            "source": [
                "# Service Desk Instructions in the event of problem with ................\n",
                "\n",
                "Hi Service Desk person,\n",
                "\n",
                "Please follow the instructions in this notebook to take action on **problem with ........**\n",
                "\n",
                "Lets check for some common scenarios which you can resolve.\n",
                "\n",
                "If you do not know how to use a notebook please go and read the instructions at [place where we store documentation](https://linktoinstructions)\n",
                "\n",
                "Read that?. Good - Run the cell below and then read the text below it"
            ],
            "metadata": {
                "azdata_cell_guid": "a6e04289-ad10-4cd9-bc22-10b65f3d8e84"
            }
        },
        {
            "cell_type": "code",
            "source": [
                "## <----- Press CTRL and ENTER - DONT MAKE A BEARD MAD BY CHANGING ANYTHING below here\n",
                "\n",
                "Describe \"Checking Problem ...... by $($ENV:USERDOMAIN) $($ENV:UserName)\" {\n",
                "    Context \" Are all the services running ?\" {\n",
                "        $Services = 'Audiosrv','BITS','com.docker.service','EventLog','MSSQLSERVER', 'Spooler'\n",
                "        foreach($Service in $Services){\n",
                "            It \"The Service $Service should be running\" {\n",
                "                (Get-Service -Name $Service).Status | Should -Be 'Running' -Because \"Service XXXX requires the service $Service to be running\"\n",
                "            }\n",
                "        }\n",
                "    }\n",
                "}"
            ],
            "metadata": {
                "azdata_cell_guid": "7e7ced36-806e-45fa-ba2b-13774fd2d4d7"
            },
            "outputs": [
                {
                    "output_type": "stream",
                    "name": "stdout",
                    "text": "\n\u001b[92mDescribing Checking Problem ...... by BEARDXPS mrrob\u001b[0m\n\n\u001b[92m  Context  Are all the services running ?\u001b[0m\n\u001b[32m    [+] The Service Audiosrv should be running\u001b[0m\u001b[90m 91ms\u001b[0m\n\u001b[91m    [-] The Service BITS should be running\u001b[0m\u001b[90m 64ms\u001b[0m\n\u001b[91m      Expected 'Running', because Service XXXX requires the service BITS to be running, but got Stopped.\u001b[0m\n\u001b[91m      8:                 (Get-Service -Name $Service).Status | Should -Be 'Running' -Because \"Service XXXX requires the service $Service to be running\"\u001b[0m\n\u001b[32m    [+] The Service com.docker.service should be running\u001b[0m\u001b[90m 4ms\u001b[0m\n\u001b[32m    [+] The Service EventLog should be running\u001b[0m\u001b[90m 7ms\u001b[0m\n\u001b[91m    [-] The Service MSSQLSERVER should be running\u001b[0m\u001b[90m 13ms\u001b[0m\n\u001b[91m      Expected 'Running', because Service XXXX requires the service MSSQLSERVER to be running, but got Stopped.\u001b[0m\n\u001b[91m      8:                 (Get-Service -Name $Service).Status | Should -Be 'Running' -Because \"Service XXXX requires the service $Service to be running\"\u001b[0m\n\u001b[32m    [+] The Service Spooler should be running\u001b[0m\u001b[90m 12ms\u001b[0m\n"
                }
            ],
            "execution_count": 2
        },
        {
            "cell_type": "markdown",
            "source": [
                "If any of the results above are not tests that have passed (please go and read the instructions if you are unsure at [place where we store documentation](https://linktoinstructions))\n",
                "\n",
                "We can see if you can fix it. Copy the name after`Service` for each failing test and add it to the next code block"
            ],
            "metadata": {
                "azdata_cell_guid": "dfb3a6d2-11d0-4c17-8cd1-1d4c3238d0c6"
            }
        },
        {
            "cell_type": "code",
            "source": [
                "$ServicesToStart = 'MSSQLSERVER' ## You may add values here before pressing play.\n",
                "Get-Service $ServicesToStart | Start-Service"
            ],
            "metadata": {
                "azdata_cell_guid": "cf899ca7-a3b5-4f46-9d2b-0e7c226ea5e5"
            },
            "outputs": [],
            "execution_count": null
        }
    ]
}