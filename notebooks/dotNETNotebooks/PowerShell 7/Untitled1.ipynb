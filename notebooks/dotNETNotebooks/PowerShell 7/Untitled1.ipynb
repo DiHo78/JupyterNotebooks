{
 "cells": [
  {
   "cell_type": "code",
   "execution_count": 1,
   "metadata": {},
   "outputs": [
    {
     "data": {
      "text/html": [
       "<script type=\"text/javascript\">#!javascript\r\n",
       "if ((typeof(requirejs) !==  typeof(Function)) || (typeof(requirejs.config) !== typeof(Function))) { \r\n",
       "    let script = document.createElement(\"script\"); \r\n",
       "    script.setAttribute(\"src\", \"https://cdnjs.cloudflare.com/ajax/libs/require.js/2.3.6/require.min.js\"); \r\n",
       "    script.onload = function(){\r\n",
       "        loadDotnetInteractiveApi();\r\n",
       "    };\r\n",
       "    document.getElementsByTagName(\"head\")[0].appendChild(script); \r\n",
       "}\r\n",
       "else {\r\n",
       "    loadDotnetInteractiveApi();\r\n",
       "}\r\n",
       "\r\n",
       "function loadDotnetInteractiveApi(){\r\n",
       "    let apiRequire = requirejs.config({context:\"dotnet-interactive.23772.53724\",paths:{dotnetInteractive:\"http://localhost:53724/resources/dotnet-interactive\"}});\r\n",
       "    apiRequire(['dotnetInteractive'], \r\n",
       "    function(api) {       \r\n",
       "        api.createDotnetInteractiveClient(\"http://localhost:53724/\", window);\r\n",
       "    },\r\n",
       "    function(error){\r\n",
       "        console.log(error);\r\n",
       "    });\r\n",
       "}</script>"
      ]
     },
     "metadata": {},
     "output_type": "display_data"
    },
    {
     "name": "stdout",
     "output_type": "stream",
     "text": [
      "\n",
      "Name    Id  Code\n",
      "----    --  ----\n",
      "Tobi    488 DE\n",
      "Jeffrey 512 US\n",
      "Rob     923 UK\n",
      "Alex    726 SR\n",
      "\n"
     ]
    }
   ],
   "source": [
    "# raw tabular text data:\n",
    "$data = @'\n",
    "Name,Id,Code\n",
    "Tobi,488,DE\n",
    "Jeffrey,512,US\n",
    "Rob,923,UK\n",
    "Alex,726,SR\n",
    "'@ \n",
    "\n",
    "# convert plain text:\n",
    "$result = $data | ConvertFrom-Csv\n",
    "\n",
    "# emit results:\n",
    "$result"
   ]
  },
  {
   "cell_type": "code",
   "execution_count": 2,
   "metadata": {},
   "outputs": [
    {
     "name": "stdout",
     "output_type": "stream",
     "text": [
      "\u001b[91mOut-GridView: \u001b[91mException has been thrown by the target of an invocation.\u001b[0m\n"
     ]
    }
   ],
   "source": [
    "$result | Sort-Object -Property Name | Where-Object Code -ne 'DE' | Out-GridView"
   ]
  },
  {
   "cell_type": "code",
   "execution_count": 4,
   "metadata": {},
   "outputs": [
    {
     "name": "stdout",
     "output_type": "stream",
     "text": [
      "\n",
      "Name    Id  Code\n",
      "----    --  ----\n",
      "Alex    726 SR\n",
      "Jeffrey 512 US\n",
      "Rob     923 UK\n",
      "\n"
     ]
    }
   ],
   "source": [
    "$result | Sort-Object -Property Name | Where-Object Code -ne 'DE' "
   ]
  },
  {
   "cell_type": "code",
   "execution_count": null,
   "metadata": {},
   "outputs": [],
   "source": []
  }
 ],
 "metadata": {
  "kernelspec": {
   "display_name": ".NET (PowerShell)",
   "language": "PowerShell",
   "name": ".net-powershell"
  },
  "language_info": {
   "file_extension": ".ps1",
   "mimetype": "text/x-powershell",
   "name": "PowerShell",
   "pygments_lexer": "powershell",
   "version": "7.0"
  }
 },
 "nbformat": 4,
 "nbformat_minor": 4
}
