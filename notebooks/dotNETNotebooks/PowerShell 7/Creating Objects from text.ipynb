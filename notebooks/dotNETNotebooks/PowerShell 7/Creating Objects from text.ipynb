{
 "cells": [
  {
   "cell_type": "markdown",
   "metadata": {},
   "source": [
    "You can find this at this blog post by the wonderful Tobias Weltner\n",
    "\n",
    "![image](https://mvp.microsoft.com/en-us/PublicProfile/Photo/9199)\n",
    "\n",
    "http://powershell.one/tricks/parsing/text"
   ]
  },
  {
   "cell_type": "markdown",
   "metadata": {},
   "source": [
    "Plain text is a common data format. Many console commands emit plain text, and frequently log files use plain text and organize data in their own formats.\n",
    "\n",
    "Even though plain text - unlike structured data such as json or xml - has no intrinsic formatting, in the majority of cases the plain text content is organized in tabular format: one line per dataset, and each dataset items separated by a delimiter or fixed width:"
   ]
  },
  {
   "cell_type": "markdown",
   "metadata": {},
   "source": [
    "# Creating Objects From Text\n",
    "To get familiar with the csv parser, first take a look at this simple example:"
   ]
  },
  {
   "cell_type": "code",
   "execution_count": 2,
   "metadata": {},
   "outputs": [
    {
     "name": "stdout",
     "output_type": "stream",
     "text": [
      "\n",
      "Name        Id  Code\n",
      "----        --  ----\n",
      "Tobi        488 DE\n",
      "Jeffrey     512 US\n",
      "Rob         923 UK\n",
      "Alex        726 SR\n",
      "AwesomeJaap 666 NL\n",
      "\n"
     ]
    }
   ],
   "source": [
    "# raw tabular text data:\n",
    "$data = @'\n",
    "Name,Id,Code\n",
    "Tobi,488,DE\n",
    "Jeffrey,512,US\n",
    "Rob,923,UK\n",
    "Alex,726,SR\n",
    "AwesomeJaap,666,NL\n",
    "'@ \n",
    "\n",
    "# convert plain text:\n",
    "$result = $data | ConvertFrom-Csv\n",
    "\n",
    "# emit results:\n",
    "$result"
   ]
  },
  {
   "cell_type": "code",
   "execution_count": 3,
   "metadata": {},
   "outputs": [
    {
     "name": "stdout",
     "output_type": "stream",
     "text": [
      "\n",
      "Name        Id  Code\n",
      "----        --  ----\n",
      "Alex        726 SR\n",
      "AwesomeJaap 666 NL\n",
      "Jeffrey     512 US\n",
      "Rob         923 UK\n",
      "\n"
     ]
    }
   ],
   "source": [
    "$result | Sort-Object -Property Name | Where-Object Code -ne 'DE' |ft"
   ]
  },
  {
   "cell_type": "markdown",
   "metadata": {},
   "source": [
    "# How about if you want to rename headers ?"
   ]
  },
  {
   "cell_type": "code",
   "execution_count": 4,
   "metadata": {},
   "outputs": [
    {
     "name": "stdout",
     "output_type": "stream",
     "text": [
      "\n",
      "PowerSheller Code Country\n",
      "------------ ---- -------\n",
      "Tobi         488  DE\n",
      "Jeffrey      512  US\n",
      "Rob          923  UK\n",
      "Alex         726  SR\n",
      "\n"
     ]
    }
   ],
   "source": [
    "# raw tabular text data:\n",
    "$data = @'\n",
    "Name,Id,Code\n",
    "Tobi,488,DE\n",
    "Jeffrey,512,US\n",
    "Rob,923,UK\n",
    "Alex,726,SR\n",
    "'@ \n",
    "\n",
    "# pretend the input data is a series of lines (that's what you\n",
    "# get from Get-Content, Import-CSV, or command line tools):\n",
    "$lines = $data.Split(\"`n\")\n",
    "\n",
    "# process each line, and run Trim() to remove remaining line feeds that\n",
    "# were left over from splitting:\n",
    "$result = $lines.Trim() | \n",
    "  # remove first line\n",
    "  Select-Object -Skip 1 |\n",
    "  # convert and use custom headers:\n",
    "  ConvertFrom-Csv -Header 'PowerSheller', 'Code', 'Country'\n",
    "\n",
    "# emit results:\n",
    "$result"
   ]
  },
  {
   "cell_type": "code",
   "execution_count": null,
   "metadata": {},
   "outputs": [],
   "source": []
  }
 ],
 "metadata": {
  "kernelspec": {
   "display_name": ".NET (PowerShell)",
   "language": "PowerShell",
   "name": ".net-powershell"
  },
  "language_info": {
   "file_extension": ".ps1",
   "mimetype": "text/x-powershell",
   "name": "PowerShell",
   "pygments_lexer": "powershell",
   "version": "7.0"
  }
 },
 "nbformat": 4,
 "nbformat_minor": 4
}
