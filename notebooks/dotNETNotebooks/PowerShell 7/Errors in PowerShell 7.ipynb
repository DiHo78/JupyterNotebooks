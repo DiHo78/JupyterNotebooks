{
    "metadata": {
        "kernelspec": {
            "name": ".net-powershell",
            "display_name": ".NET (PowerShell)"
        },
        "language_info": {
            "name": "PowerShell",
            "version": "7.0",
            "mimetype": "text/x-powershell",
            "file_extension": ".ps1",
            "pygments_lexer": "powershell"
        }
    },
    "nbformat_minor": 2,
    "nbformat": 4,
    "cells": [
        {
            "cell_type": "markdown",
            "source": [
                "# PowerShell 7 Errors\r\n",
                "\r\n",
                "Follow the instructions at https://devblogs.microsoft.com/dotnet/net-interactive-is-here-net-notebooks-preview-2/ to be abel to run this notebook on your own machine\r\n",
                "\r\n",
                "Lets look at the version of PowerShell and Host that we are using"
            ],
            "metadata": {
                "azdata_cell_guid": "d99c5330-e9f1-4b70-b979-e3aab783c176"
            }
        },
        {
            "cell_type": "code",
            "source": [
                "Get-Host\r\n",
                "$PSVersionTable"
            ],
            "metadata": {
                "azdata_cell_guid": "c9ca9b78-262c-4661-a3fa-9efc3f77bc0e"
            },
            "outputs": [
                {
                    "output_type": "stream",
                    "name": "stdout",
                    "text": "\r\n"
                },
                {
                    "output_type": "stream",
                    "name": "stdout",
                    "text": "Name             : PowerShell Jupyter Host\r\n"
                },
                {
                    "output_type": "stream",
                    "name": "stdout",
                    "text": "Version          : 0.0.1\r\n"
                },
                {
                    "output_type": "stream",
                    "name": "stdout",
                    "text": "InstanceId       : d6173fb2-778d-47c4-9629-adedca78a624\r\n"
                },
                {
                    "output_type": "stream",
                    "name": "stdout",
                    "text": "UI               : System.Management.Automation.Internal.Host.InternalHostUserInterface\r\n"
                },
                {
                    "output_type": "stream",
                    "name": "stdout",
                    "text": "CurrentCulture   : en-GB\r\n"
                },
                {
                    "output_type": "stream",
                    "name": "stdout",
                    "text": "CurrentUICulture : en-GB\r\n"
                },
                {
                    "output_type": "stream",
                    "name": "stdout",
                    "text": "PrivateData      : Microsoft.DotNet.Interactive.PowerShell.Host.ConsoleColorProxy\r\n"
                },
                {
                    "output_type": "stream",
                    "name": "stdout",
                    "text": "DebuggerEnabled  : True\r\n"
                },
                {
                    "output_type": "stream",
                    "name": "stdout",
                    "text": "IsRunspacePushed : \r\n"
                },
                {
                    "output_type": "stream",
                    "name": "stdout",
                    "text": "Runspace         : \r\n"
                },
                {
                    "output_type": "stream",
                    "name": "stdout",
                    "text": "\r\n"
                },
                {
                    "output_type": "stream",
                    "name": "stdout",
                    "text": "Key   : PSVersion\r\n"
                },
                {
                    "output_type": "stream",
                    "name": "stdout",
                    "text": "Value : 7.0.0\r\n"
                },
                {
                    "output_type": "stream",
                    "name": "stdout",
                    "text": "Name  : PSVersion\r\n"
                },
                {
                    "output_type": "stream",
                    "name": "stdout",
                    "text": "\r\n"
                },
                {
                    "output_type": "stream",
                    "name": "stdout",
                    "text": "Key   : PSEdition\r\n"
                },
                {
                    "output_type": "stream",
                    "name": "stdout",
                    "text": "Value : Core\r\n"
                },
                {
                    "output_type": "stream",
                    "name": "stdout",
                    "text": "Name  : PSEdition\r\n"
                },
                {
                    "output_type": "stream",
                    "name": "stdout",
                    "text": "\r\n"
                },
                {
                    "output_type": "stream",
                    "name": "stdout",
                    "text": "Key   : GitCommitId\r\n"
                },
                {
                    "output_type": "stream",
                    "name": "stdout",
                    "text": "Value : 7.0.0\r\n"
                },
                {
                    "output_type": "stream",
                    "name": "stdout",
                    "text": "Name  : GitCommitId\r\n"
                },
                {
                    "output_type": "stream",
                    "name": "stdout",
                    "text": "\r\n"
                },
                {
                    "output_type": "stream",
                    "name": "stdout",
                    "text": "Key   : OS\r\n"
                },
                {
                    "output_type": "stream",
                    "name": "stdout",
                    "text": "Value : Microsoft Windows 10.0.17134\r\n"
                },
                {
                    "output_type": "stream",
                    "name": "stdout",
                    "text": "Name  : OS\r\n"
                },
                {
                    "output_type": "stream",
                    "name": "stdout",
                    "text": "\r\n"
                },
                {
                    "output_type": "stream",
                    "name": "stdout",
                    "text": "Key   : Platform\r\n"
                },
                {
                    "output_type": "stream",
                    "name": "stdout",
                    "text": "Value : Win32NT\r\n"
                },
                {
                    "output_type": "stream",
                    "name": "stdout",
                    "text": "Name  : Platform\r\n"
                },
                {
                    "output_type": "stream",
                    "name": "stdout",
                    "text": "\r\n"
                },
                {
                    "output_type": "stream",
                    "name": "stdout",
                    "text": "Key   : PSCompatibleVersions\r\n"
                },
                {
                    "output_type": "stream",
                    "name": "stdout",
                    "text": "Value : {1.0, 2.0, 3.0, 4.0…}\r\n"
                },
                {
                    "output_type": "stream",
                    "name": "stdout",
                    "text": "Name  : PSCompatibleVersions\r\n"
                },
                {
                    "output_type": "stream",
                    "name": "stdout",
                    "text": "\r\n"
                },
                {
                    "output_type": "stream",
                    "name": "stdout",
                    "text": "Key   : PSRemotingProtocolVersion\r\n"
                },
                {
                    "output_type": "stream",
                    "name": "stdout",
                    "text": "Value : 2.3\r\n"
                },
                {
                    "output_type": "stream",
                    "name": "stdout",
                    "text": "Name  : PSRemotingProtocolVersion\r\n"
                },
                {
                    "output_type": "stream",
                    "name": "stdout",
                    "text": "\r\n"
                },
                {
                    "output_type": "stream",
                    "name": "stdout",
                    "text": "Key   : SerializationVersion\r\n"
                },
                {
                    "output_type": "stream",
                    "name": "stdout",
                    "text": "Value : 1.1.0.1\r\n"
                },
                {
                    "output_type": "stream",
                    "name": "stdout",
                    "text": "Name  : SerializationVersion\r\n"
                },
                {
                    "output_type": "stream",
                    "name": "stdout",
                    "text": "\r\n"
                },
                {
                    "output_type": "stream",
                    "name": "stdout",
                    "text": "Key   : WSManStackVersion\r\n"
                },
                {
                    "output_type": "stream",
                    "name": "stdout",
                    "text": "Value : 3.0\r\n"
                },
                {
                    "output_type": "stream",
                    "name": "stdout",
                    "text": "Name  : WSManStackVersion\r\n"
                },
                {
                    "output_type": "stream",
                    "name": "stdout",
                    "text": "\r\n"
                },
                {
                    "output_type": "stream",
                    "name": "stdout",
                    "text": "\r\n"
                }
            ],
            "execution_count": 2
        },
        {
            "cell_type": "markdown",
            "source": [
                "Lets look at an error in a Windows PowerShell session (luckily without the red!!)"
            ],
            "metadata": {
                "azdata_cell_guid": "a52e9034-3e93-451b-9f23-fcefeb6d15fa"
            }
        },
        {
            "cell_type": "code",
            "source": [
                "powershell.exe -NoProfile  -Command '1/0' "
            ],
            "metadata": {
                "azdata_cell_guid": "b59fcc2a-e1d7-484e-b9ac-83f5e0ba84b9"
            },
            "outputs": [
                {
                    "output_type": "stream",
                    "name": "stdout",
                    "text": "Attempted to divide by zero.\r\n"
                },
                {
                    "output_type": "stream",
                    "name": "stdout",
                    "text": "At line:1 char:1\r\n"
                },
                {
                    "output_type": "stream",
                    "name": "stdout",
                    "text": "+ 1/0\r\n"
                },
                {
                    "output_type": "stream",
                    "name": "stdout",
                    "text": "+ ~~~\r\n"
                },
                {
                    "output_type": "stream",
                    "name": "stdout",
                    "text": "    + CategoryInfo          : NotSpecified: (:) [], RuntimeException\r\n"
                },
                {
                    "output_type": "stream",
                    "name": "stdout",
                    "text": "    + FullyQualifiedErrorId : RuntimeException\r\n"
                },
                {
                    "output_type": "stream",
                    "name": "stdout",
                    "text": " \r\n"
                }
            ],
            "execution_count": 6
        },
        {
            "cell_type": "markdown",
            "source": [
                "Lets create an error in pwsh - It looks so much easier to read"
            ],
            "metadata": {
                "azdata_cell_guid": "c8b8a687-22af-4127-8d53-64a0f72e9cfa"
            }
        },
        {
            "cell_type": "code",
            "source": [
                "1/0"
            ],
            "metadata": {
                "azdata_cell_guid": "31e93af0-a8cf-4a42-9d50-04756adf56df"
            },
            "outputs": [
                {
                    "output_type": "stream",
                    "name": "stdout",
                    "text": "\u001b[91mRuntimeException: \u001b[91mAttempted to divide by zero.\u001b[0m\r\n"
                }
            ],
            "execution_count": 7
        },
        {
            "cell_type": "code",
            "source": [
                "Get-ChildItem -Path C:\\CleanShavenFace"
            ],
            "metadata": {
                "azdata_cell_guid": "0ae87461-3e5f-43e9-8846-b65d299fb084"
            },
            "outputs": [
                {
                    "name": "stdout",
                    "text": "\u001b[91mGet-ChildItem: \u001b[91mCannot find path 'C:\\CleanShavenFace' because it does not exist.\u001b[0m\r\n",
                    "output_type": "stream"
                }
            ],
            "execution_count": 1
        },
        {
            "cell_type": "markdown",
            "source": [
                "You can see that the first part of the error message changes depending on the type of error and where it occurred. So the first error was a RunTime Exceptoin whilst the second one came from `Get-ChildItem`"
            ],
            "metadata": {
                "azdata_cell_guid": "3888f9e8-0d49-44cb-9447-93ce598575dd"
            }
        },
        {
            "cell_type": "markdown",
            "source": [
                "## Get-Error\r\n",
                "\r\n",
                "You can get the full error using the `Get-Error` command"
            ],
            "metadata": {
                "azdata_cell_guid": "23db0d8e-79bd-471d-8186-134435281692"
            }
        },
        {
            "cell_type": "code",
            "source": [
                "Get-Error"
            ],
            "metadata": {
                "azdata_cell_guid": "75f6f7c8-8bc3-400e-b786-559dbb77f690"
            },
            "outputs": [
                {
                    "name": "stdout",
                    "text": "\r\n",
                    "output_type": "stream"
                },
                {
                    "name": "stdout",
                    "text": "\u001b[92mException             : \u001b[0m\r\n",
                    "output_type": "stream"
                },
                {
                    "name": "stdout",
                    "text": "    \u001b[92mType                 : \u001b[0mSystem.Management.Automation.ItemNotFoundException\r\n",
                    "output_type": "stream"
                },
                {
                    "name": "stdout",
                    "text": "    \u001b[92mErrorRecord          : \u001b[0m\r\n",
                    "output_type": "stream"
                },
                {
                    "name": "stdout",
                    "text": "        \u001b[92mException             : \u001b[0m\r\n",
                    "output_type": "stream"
                },
                {
                    "name": "stdout",
                    "text": "            \u001b[92mType    : \u001b[0mSystem.Management.Automation.ParentContainsErrorRecordException\r\n",
                    "output_type": "stream"
                },
                {
                    "name": "stdout",
                    "text": "            \u001b[92mMessage : \u001b[0mCannot find path 'C:\\CleanShavenFace' because it does not exist.\r\n",
                    "output_type": "stream"
                },
                {
                    "name": "stdout",
                    "text": "            \u001b[92mHResult : \u001b[0m-2146233087\r\n",
                    "output_type": "stream"
                },
                {
                    "name": "stdout",
                    "text": "        \u001b[92mTargetObject          : \u001b[0mC:\\CleanShavenFace\r\n",
                    "output_type": "stream"
                },
                {
                    "name": "stdout",
                    "text": "        \u001b[92mCategoryInfo          : \u001b[0mObjectNotFound: (C:\\CleanShavenFace:String) [], \r\n",
                    "output_type": "stream"
                },
                {
                    "name": "stdout",
                    "text": "ParentContainsErrorRecordException\r\n",
                    "output_type": "stream"
                },
                {
                    "name": "stdout",
                    "text": "        \u001b[92mFullyQualifiedErrorId : \u001b[0mPathNotFound\r\n",
                    "output_type": "stream"
                },
                {
                    "name": "stdout",
                    "text": "    \u001b[92mItemName             : \u001b[0mC:\\CleanShavenFace\r\n",
                    "output_type": "stream"
                },
                {
                    "name": "stdout",
                    "text": "    \u001b[92mSessionStateCategory : \u001b[0mDrive\r\n",
                    "output_type": "stream"
                },
                {
                    "name": "stdout",
                    "text": "    \u001b[92mTargetSite           : \u001b[0m\r\n",
                    "output_type": "stream"
                },
                {
                    "name": "stdout",
                    "text": "        \u001b[92mName          : \u001b[0mGetChildItems\r\n",
                    "output_type": "stream"
                },
                {
                    "name": "stdout",
                    "text": "        \u001b[92mDeclaringType : \u001b[0mSystem.Management.Automation.SessionStateInternal, \r\n",
                    "output_type": "stream"
                },
                {
                    "name": "stdout",
                    "text": "System.Management.Automation, Version=7.0.0.0, Culture=neutral, PublicKeyToken=31bf3856ad364e35\r\n",
                    "output_type": "stream"
                },
                {
                    "name": "stdout",
                    "text": "        \u001b[92mMemberType    : \u001b[0mMethod\r\n",
                    "output_type": "stream"
                },
                {
                    "name": "stdout",
                    "text": "        \u001b[92mModule        : \u001b[0mSystem.Management.Automation.dll\r\n",
                    "output_type": "stream"
                },
                {
                    "name": "stdout",
                    "text": "    \u001b[92mStackTrace           : \u001b[0m\r\n",
                    "output_type": "stream"
                },
                {
                    "name": "stdout",
                    "text": "   at System.Management.Automation.SessionStateInternal.GetChildItems(String path, Boolean \r\n",
                    "output_type": "stream"
                },
                {
                    "name": "stdout",
                    "text": "recurse, UInt32 depth, CmdletProviderContext context)\r\n",
                    "output_type": "stream"
                },
                {
                    "name": "stdout",
                    "text": "   at Microsoft.PowerShell.Commands.GetChildItemCommand.ProcessRecord()\r\n",
                    "output_type": "stream"
                },
                {
                    "name": "stdout",
                    "text": "    \u001b[92mMessage              : \u001b[0mCannot find path 'C:\\CleanShavenFace' because it does not \r\n",
                    "output_type": "stream"
                },
                {
                    "name": "stdout",
                    "text": "exist.\r\n",
                    "output_type": "stream"
                },
                {
                    "name": "stdout",
                    "text": "    \u001b[92mSource               : \u001b[0mSystem.Management.Automation\r\n",
                    "output_type": "stream"
                },
                {
                    "name": "stdout",
                    "text": "    \u001b[92mHResult              : \u001b[0m-2146233087\r\n",
                    "output_type": "stream"
                },
                {
                    "name": "stdout",
                    "text": "\u001b[92mTargetObject          : \u001b[0mC:\\CleanShavenFace\r\n",
                    "output_type": "stream"
                },
                {
                    "name": "stdout",
                    "text": "\u001b[92mCategoryInfo          : \u001b[0mObjectNotFound: (C:\\CleanShavenFace:String) [Get-ChildItem], \r\n",
                    "output_type": "stream"
                },
                {
                    "name": "stdout",
                    "text": "ItemNotFoundException\r\n",
                    "output_type": "stream"
                },
                {
                    "name": "stdout",
                    "text": "\u001b[92mFullyQualifiedErrorId : \u001b[0mPathNotFound,Microsoft.PowerShell.Commands.GetChildItemCommand\r\n",
                    "output_type": "stream"
                },
                {
                    "name": "stdout",
                    "text": "\u001b[92mInvocationInfo        : \u001b[0m\r\n",
                    "output_type": "stream"
                },
                {
                    "name": "stdout",
                    "text": "    \u001b[92mMyCommand        : \u001b[0mGet-ChildItem\r\n",
                    "output_type": "stream"
                },
                {
                    "name": "stdout",
                    "text": "    \u001b[92mScriptLineNumber : \u001b[0m1\r\n",
                    "output_type": "stream"
                },
                {
                    "name": "stdout",
                    "text": "    \u001b[92mOffsetInLine     : \u001b[0m1\r\n",
                    "output_type": "stream"
                },
                {
                    "name": "stdout",
                    "text": "    \u001b[92mHistoryId        : \u001b[0m2\r\n",
                    "output_type": "stream"
                },
                {
                    "name": "stdout",
                    "text": "    \u001b[92mLine             : \u001b[0mGet-ChildItem -Path C:\\CleanShavenFace\r\n",
                    "output_type": "stream"
                },
                {
                    "name": "stdout",
                    "text": "    \u001b[92mPositionMessage  : \u001b[0mAt line:1 char:1\r\n",
                    "output_type": "stream"
                },
                {
                    "name": "stdout",
                    "text": "                       + Get-ChildItem -Path C:\\CleanShavenFace\r\n",
                    "output_type": "stream"
                },
                {
                    "name": "stdout",
                    "text": "                       + ~~~~~~~~~~~~~~~~~~~~~~~~~~~~~~~~~~~~~~\r\n",
                    "output_type": "stream"
                },
                {
                    "name": "stdout",
                    "text": "    \u001b[92mInvocationName   : \u001b[0mGet-ChildItem\r\n",
                    "output_type": "stream"
                },
                {
                    "name": "stdout",
                    "text": "    \u001b[92mCommandOrigin    : \u001b[0mInternal\r\n",
                    "output_type": "stream"
                },
                {
                    "name": "stdout",
                    "text": "\u001b[92mScriptStackTrace      : \u001b[0mat <ScriptBlock>, <No file>: line 1\r\n",
                    "output_type": "stream"
                },
                {
                    "name": "stdout",
                    "text": "\u001b[92mPipelineIterationInfo : \u001b[0m\r\n",
                    "output_type": "stream"
                },
                {
                    "name": "stdout",
                    "text": "\r\n",
                    "output_type": "stream"
                },
                {
                    "name": "stdout",
                    "text": "\r\n",
                    "output_type": "stream"
                },
                {
                    "name": "stdout",
                    "text": "\r\n",
                    "output_type": "stream"
                },
                {
                    "name": "stdout",
                    "text": "\r\n",
                    "output_type": "stream"
                }
            ],
            "execution_count": 2
        }
    ]
}