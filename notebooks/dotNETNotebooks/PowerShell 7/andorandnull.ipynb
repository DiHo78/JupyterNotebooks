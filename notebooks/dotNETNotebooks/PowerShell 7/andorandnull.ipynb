{
    "metadata": {
        "kernelspec": {
            "name": ".net-powershell",
            "display_name": ".NET (PowerShell)",
            "language": "PowerShell"
        },
        "language_info": {
            "name": "PowerShell",
            "version": "7.0",
            "mimetype": "text/x-powershell",
            "file_extension": ".ps1",
            "pygments_lexer": "powershell"
        }
    },
    "nbformat_minor": 2,
    "nbformat": 4,
    "cells": [
        {
            "cell_type": "markdown",
            "source": [
                "PowerShell 7 has some new pipeline operators which which can reduce the amount of code that needs to be written.\r\n",
                "\r\n",
                "Here is a manufactured example. Lets get the content of a log file for processing"
            ],
            "metadata": {
                "azdata_cell_guid": "b8b4e81c-de90-4990-b5d1-61ffa1cc0be3"
            }
        },
        {
            "cell_type": "code",
            "source": [
                "$dockerlog = \"$env:LOCALAPPDATA\\Docker\\log.txt\"\r\n",
                "\r\n",
                "$dockerlogcontent = Get-Content $dockerlog\r\n",
                "$dockerlogcontent[0]"
            ],
            "metadata": {
                "azdata_cell_guid": "2d0ed9f5-5817-4a8a-a358-6e3f04d60eca"
            },
            "outputs": [
                {
                    "output_type": "stream",
                    "name": "stdout",
                    "text": "Version: 3.0.0 (50684)\r\n"
                }
            ],
            "execution_count": 41
        },
        {
            "cell_type": "markdown",
            "source": [
                "If the file doesnt exist we will get two errors, one for the file not existing and one because the array is null so we cannot access the first item."
            ],
            "metadata": {
                "azdata_cell_guid": "28bdaaf3-8d57-410d-ad61-4b992dd70605"
            }
        },
        {
            "cell_type": "code",
            "source": [
                "$dockerlog = \"$env:LOCALAPPDATA\\Docker\\1og.txt\"\r\n",
                "\r\n",
                "$dockerlogcontent =  Get-Content $dockerlog\r\n",
                "$dockerlogcontent[0]"
            ],
            "metadata": {
                "azdata_cell_guid": "4ccad127-50f6-4d23-b9f9-d6ad4b2e6aae"
            },
            "outputs": [
                {
                    "output_type": "stream",
                    "name": "stdout",
                    "text": "\u001b[91mGet-Content: \r\n"
                },
                {
                    "output_type": "stream",
                    "name": "stdout",
                    "text": "\u001b[96mLine |\r\n"
                },
                {
                    "output_type": "stream",
                    "name": "stdout",
                    "text": "\u001b[96m   3 | \u001b[0m $dockerlogcontent =  \u001b[96mGet-Content $dockerlog\u001b[0m\r\n"
                },
                {
                    "output_type": "stream",
                    "name": "stdout",
                    "text": "\u001b[96m     | \u001b[91m                      ~~~~~~~~~~~~~~~~~~~~~~\r\n"
                },
                {
                    "output_type": "stream",
                    "name": "stdout",
                    "text": "\u001b[91m\u001b[96m     | \u001b[91mCannot find path 'C:\\Users\\mrrob\\AppData\\Local\\Docker\\1og.txt' because it does not exist.\u001b[0m\r\n"
                },
                {
                    "output_type": "stream",
                    "name": "stdout",
                    "text": "\u001b[91mInvalidOperation: \r\n"
                },
                {
                    "output_type": "stream",
                    "name": "stdout",
                    "text": "\u001b[96mLine |\r\n"
                },
                {
                    "output_type": "stream",
                    "name": "stdout",
                    "text": "\u001b[96m   4 | \u001b[0m \u001b[96m$dockerlogcontent[0]\u001b[0m\r\n"
                },
                {
                    "output_type": "stream",
                    "name": "stdout",
                    "text": "\u001b[96m     | \u001b[91m ~~~~~~~~~~~~~~~~~~~~\r\n"
                },
                {
                    "output_type": "stream",
                    "name": "stdout",
                    "text": "\u001b[91m\u001b[96m     | \u001b[91mCannot index into a null array.\u001b[0m\r\n"
                }
            ],
            "execution_count": 42
        },
        {
            "cell_type": "markdown",
            "source": [
                "We can wrap this to ensure that the user doesnt receive these errors"
            ],
            "metadata": {
                "azdata_cell_guid": "eb59ef71-eee3-476e-aa5a-e573b271a144"
            }
        },
        {
            "cell_type": "code",
            "source": [
                "$dockerlog = \"$env:LOCALAPPDATA\\Docker\\1og.txt\"\r\n",
                "try {\r\n",
                "    $dockerlogcontent =  Get-Content $dockerlog\r\n",
                "    $dockerlogcontent[0]\r\n",
                "}\r\n",
                "catch {\r\n",
                "    Write-Warning \"Uh-Oh. The Beard is sad\"\r\n",
                "}\r\n",
                "\r\n",
                ""
            ],
            "metadata": {
                "azdata_cell_guid": "3d8615c0-7f81-49d4-98b6-60ecc4f1f3cf"
            },
            "outputs": [
                {
                    "output_type": "stream",
                    "name": "stdout",
                    "text": "\u001b[91mGet-Content: \r\n"
                },
                {
                    "output_type": "stream",
                    "name": "stdout",
                    "text": "\u001b[96mLine |\r\n"
                },
                {
                    "output_type": "stream",
                    "name": "stdout",
                    "text": "\u001b[96m   3 | \u001b[0m     $dockerlogcontent =  \u001b[96mGet-Content $dockerlog\u001b[0m\r\n"
                },
                {
                    "output_type": "stream",
                    "name": "stdout",
                    "text": "\u001b[96m     | \u001b[91m                          ~~~~~~~~~~~~~~~~~~~~~~\r\n"
                },
                {
                    "output_type": "stream",
                    "name": "stdout",
                    "text": "\u001b[91m\u001b[96m     | \u001b[91mCannot find path 'C:\\Users\\mrrob\\AppData\\Local\\Docker\\1og.txt' because it does not exist.\u001b[0m\r\n"
                },
                {
                    "output_type": "stream",
                    "name": "stdout",
                    "text": "\u001b[93mWARNING: Uh-Oh. The Beard is sad\u001b[0m\r\n"
                }
            ],
            "execution_count": 43
        },
        {
            "cell_type": "markdown",
            "source": [
                "Ah we need a terminating error to hit the catch"
            ],
            "metadata": {
                "azdata_cell_guid": "5a43a6fd-bb43-488c-8823-d461adc4e1e0"
            }
        },
        {
            "cell_type": "code",
            "source": [
                "$ErrorActionPreference = 'Stop' \r\n",
                "$dockerlog = \"$env:LOCALAPPDATA\\Docker\\1og.txt\"\r\n",
                "try {\r\n",
                "    $dockerlogcontent =  Get-Content $dockerlog\r\n",
                "    $dockerlogcontent[0]\r\n",
                "}\r\n",
                "catch {\r\n",
                "    Write-Warning \"Uh-Oh. The Beard is sad\"\r\n",
                "}\r\n",
                "$ErrorActionPreference = 'Continue' "
            ],
            "metadata": {
                "azdata_cell_guid": "08e5ef3d-c319-4b0f-809d-86736d071b70"
            },
            "outputs": [
                {
                    "output_type": "stream",
                    "name": "stdout",
                    "text": "\u001b[93mWARNING: Uh-Oh. The Beard is sad\u001b[0m\r\n"
                }
            ],
            "execution_count": 44
        },
        {
            "cell_type": "markdown",
            "source": [
                "or we could use `Test-Path` in an if statement"
            ],
            "metadata": {
                "azdata_cell_guid": "c79fea83-a343-4524-a269-1ed7c9d4422e"
            }
        },
        {
            "cell_type": "code",
            "source": [
                "$ErrorActionPreference = 'Stop' \r\n",
                "$dockerlog = \"$env:LOCALAPPDATA\\Docker\\1og.txt\"\r\n",
                "if(Test-Path $dockerlog){\r\n",
                "    try {\r\n",
                "        $dockerlogcontent =  Get-Content $dockerlog\r\n",
                "        $dockerlogcontent[0]\r\n",
                "    }\r\n",
                "    catch {\r\n",
                "        Write-Warning \"Uh-Oh. The Beard is sad\"\r\n",
                "    }\r\n",
                "} else {\r\n",
                "    Write-Warning \"Uh-Oh. The Beard is sad - that file doesnt exist\"\r\n",
                "}\r\n",
                "\r\n",
                "$ErrorActionPreference = 'Continue' "
            ],
            "metadata": {
                "azdata_cell_guid": "8316a8ba-693f-4340-881b-643eaf409b9a"
            },
            "outputs": [
                {
                    "output_type": "stream",
                    "name": "stdout",
                    "text": "\u001b[93mWARNING: Uh-Oh. The Beard is sad - that file doesnt exist\u001b[0m\r\n"
                }
            ],
            "execution_count": 45
        },
        {
            "cell_type": "markdown",
            "source": [
                "With the new pipeline operators, we can make that easier to read and write less code.\r\n",
                "\r\n",
                "First command fails, causing second not to be executed"
            ],
            "metadata": {
                "azdata_cell_guid": "b44d8c46-2099-47c4-b8c1-b9b6e409064a"
            }
        },
        {
            "cell_type": "code",
            "source": [
                "$dockerlog = \"$env:LOCALAPPDATA\\Docker\\1og.txt\"\r\n",
                "\r\n",
                "Get-ChildItem $dockerlog -ErrorAction SilentlyContinue && Get-Content $dockerlog \r\n",
                ""
            ],
            "metadata": {
                "azdata_cell_guid": "335dd596-370d-42e5-9266-230821527ea2"
            },
            "outputs": [],
            "execution_count": 46
        },
        {
            "cell_type": "markdown",
            "source": [
                "and if we want a message as well we could use the `||` pipeline operator\r\n",
                "\r\n",
                "First command fails, so the second command is executed"
            ],
            "metadata": {
                "azdata_cell_guid": "c6c95cc1-6fa1-4264-ab6f-6572218fee1a"
            }
        },
        {
            "cell_type": "code",
            "source": [
                "$dockerlog = \"$env:LOCALAPPDATA\\Docker\\1og.txt\"\r\n",
                "\r\n",
                "Get-Content $dockerlog -ErrorAction SilentlyContinue || Write-Warning \"Uh-Oh. The Beard is sad\"\r\n",
                ""
            ],
            "metadata": {
                "azdata_cell_guid": "115eab3c-11c3-4033-9a2c-bae063e9b1a7"
            },
            "outputs": [
                {
                    "output_type": "stream",
                    "name": "stdout",
                    "text": "\u001b[93mWARNING: Uh-Oh. The Beard is sad\u001b[0m\r\n"
                }
            ],
            "execution_count": 47
        },
        {
            "cell_type": "markdown",
            "source": [
                "and if we want to assign that to a variable then we can"
            ],
            "metadata": {
                "azdata_cell_guid": "07326133-6a10-4d49-91e0-4b2618e1d044"
            }
        },
        {
            "cell_type": "code",
            "source": [
                "$ErrorActionPreference = 'SilentlyContinue'\r\n",
                "# File does not exist\r\n",
                "$dockerlog = \"$env:LOCALAPPDATA\\Docker\\1og.txt\"\r\n",
                "$dockerlogcontent = Get-Content $dockerlog -ErrorAction SilentlyContinue  || Write-Warning \"Uh-Oh. The Beard is sad\"\r\n",
                "$dockerlogcontent[0] || Write-Warning \"Uh-Oh. The Beard is sad - We have no content\"\r\n",
                "\r\n",
                "#File Exists\r\n",
                "$dockerlog = \"$env:LOCALAPPDATA\\Docker\\log.txt\"\r\n",
                "$dockerlogcontent = Get-Content $dockerlog || Write-Warning \"Uh-Oh. The Beard is sad\"\r\n",
                "$dockerlogcontent[0] || Write-Warning \"Uh-Oh. The Beard is sad - We have no content\"\r\n",
                "\r\n",
                "$ErrorActionPreference = 'Continue'\r\n",
                ""
            ],
            "metadata": {
                "azdata_cell_guid": "939795ad-9455-4aea-9827-ca829a321649"
            },
            "outputs": [
                {
                    "output_type": "stream",
                    "name": "stdout",
                    "text": "\u001b[93mWARNING: Uh-Oh. The Beard is sad\u001b[0m\r\n"
                },
                {
                    "output_type": "stream",
                    "name": "stdout",
                    "text": "\u001b[93mWARNING: Uh-Oh. The Beard is sad - We have no content\u001b[0m\r\n"
                },
                {
                    "output_type": "stream",
                    "name": "stdout",
                    "text": "Version: 3.0.0 (50684)\r\n"
                }
            ],
            "execution_count": 52
        },
        {
            "cell_type": "markdown",
            "source": [
                "Nulls\r\n",
                "\r\n",
                "?? \r\n",
                "\r\n",
                "The best way to describe this is that your output will be the value on the left hand side of the operator if it isn't null, but if it is null then it will output whatever is on the right of the operator.[Thanks](https://toastit.dev/2020/03/11/ps7now-null-conditional/)\r\n",
                "\r\n",
                "First, we will do this in a couple of Windows PowerShell equivalent ways"
            ],
            "metadata": {
                "azdata_cell_guid": "48618069-e133-47b3-96c4-216f615a0267"
            }
        },
        {
            "cell_type": "code",
            "source": [
                "$cleanShaven = $null\r\n",
                "\r\n",
                "if($null -eq $cleanShaven){\r\n",
                "    \"No Beard Found!\"\r\n",
                "} else {\r\n",
                "    $cleanShaven\r\n",
                "}\r\n",
                "\r\n",
                "if(-not $cleanShaven){\r\n",
                "    \"No Beard Found!\"\r\n",
                "} else {\r\n",
                "    $cleanShaven\r\n",
                "}\r\n",
                ""
            ],
            "metadata": {
                "azdata_cell_guid": "95b45c0b-79a0-43ce-afd5-db6dd6573fb2"
            },
            "outputs": [
                {
                    "name": "stdout",
                    "text": "No Beard Found!\r\n",
                    "output_type": "stream"
                },
                {
                    "name": "stdout",
                    "text": "No Beard Found!\r\n",
                    "output_type": "stream"
                }
            ],
            "execution_count": 3
        },
        {
            "cell_type": "code",
            "source": [
                "$cleanShaven = $null\r\n",
                "$cleanShaven ?? \"No Beard Found!\""
            ],
            "metadata": {
                "azdata_cell_guid": "b50621a9-fa41-4307-8b20-92d5d67b8465"
            },
            "outputs": [
                {
                    "name": "stdout",
                    "text": "No Beard Found!\r\n",
                    "output_type": "stream"
                }
            ],
            "execution_count": 2
        },
        {
            "cell_type": "markdown",
            "source": [
                "You can even use commands"
            ],
            "metadata": {
                "azdata_cell_guid": "31573355-547a-47b6-8fa1-b2be49b6cefe"
            }
        },
        {
            "cell_type": "code",
            "source": [
                "$cleanShaven = $null\r\n",
                "$cleanShaven ?? ((Get-ChildItem C:\\temp).Count)"
            ],
            "metadata": {
                "azdata_cell_guid": "d734d1e9-082a-4331-ac91-5114221d973f"
            },
            "outputs": [
                {
                    "name": "stdout",
                    "text": "99\r\n",
                    "output_type": "stream"
                }
            ],
            "execution_count": 4
        },
        {
            "cell_type": "markdown",
            "source": [
                "**BUT** Remember this is evaluating for `$null`"
            ],
            "metadata": {
                "azdata_cell_guid": "453589bb-03fc-434d-a688-1e6bf0cd1c37"
            }
        },
        {
            "cell_type": "code",
            "source": [
                "$cleanShaven = $false\r\n",
                "$cleanShaven ?? ((Get-ChildItem C:\\temp).Count)"
            ],
            "metadata": {
                "azdata_cell_guid": "1866331f-059d-4696-8283-58adf586bcc6"
            },
            "outputs": [
                {
                    "name": "stdout",
                    "text": "False\r\n",
                    "output_type": "stream"
                }
            ],
            "execution_count": 5
        },
        {
            "cell_type": "code",
            "source": [
                "$cleanShaven = Test-Path C:\\notthere\r\n",
                "$cleanShaven ?? ((Get-ChildItem C:\\temp).Count)"
            ],
            "metadata": {
                "azdata_cell_guid": "a2c633cb-f3e2-4f2d-b5a0-3e1576c39746"
            },
            "outputs": [
                {
                    "name": "stdout",
                    "text": "False\r\n",
                    "output_type": "stream"
                }
            ],
            "execution_count": 6
        },
        {
            "cell_type": "code",
            "source": [
                "(Get-DbaDatabase -SqlInstance Beard-Desktop -Database Nope) ?? (Write-Warning \"No Database\")"
            ],
            "metadata": {
                "azdata_cell_guid": "bb5036c8-d583-435c-9601-a2ad72ebf033"
            },
            "outputs": [
                {
                    "name": "stdout",
                    "text": "\u001b[93mWARNING: No Database\u001b[0m\r\n",
                    "output_type": "stream"
                }
            ],
            "execution_count": 9
        },
        {
            "cell_type": "markdown",
            "source": [
                "Also remember that a NULL from a SQL query is not the same as a `$null`"
            ],
            "metadata": {
                "azdata_cell_guid": "46345761-8d69-4260-a548-a8997b806025"
            }
        },
        {
            "cell_type": "code",
            "source": [
                "$Query = \"SELECT TOP 1 NULL AS Beard FROM sys.databases\"\r\n",
                "$DbResults = (Invoke-DbaQuery -SqlInstance Beard-Desktop -Query $Query).Beard\r\n",
                "$DbResults -is [System.DBNull]\r\n",
                "$null -eq $DbResults  "
            ],
            "metadata": {
                "azdata_cell_guid": "fc1a6713-9dd4-4cf3-a6d3-c898fbd85bbd"
            },
            "outputs": [
                {
                    "name": "stdout",
                    "text": "True\r\n",
                    "output_type": "stream"
                },
                {
                    "name": "stdout",
                    "text": "False\r\n",
                    "output_type": "stream"
                }
            ],
            "execution_count": 35
        },
        {
            "cell_type": "code",
            "source": [
                "$Query = \"SELECT TOP 1 NULL AS Beard FROM sys.databases\"\r\n",
                "$ItsANull = (Invoke-DbaQuery -SqlInstance Beard-Desktop -Query $Query).Beard\r\n",
                "$ItsANull ?? (Write-Warning \"I will output if I am NULL\")"
            ],
            "metadata": {
                "azdata_cell_guid": "dcfe9a44-a379-4477-b80d-c3f0aa16d33c"
            },
            "outputs": [
                {
                    "name": "stdout",
                    "text": "\r\n",
                    "output_type": "stream"
                },
                {
                    "name": "stdout",
                    "text": "\r\n",
                    "output_type": "stream"
                }
            ],
            "execution_count": 36
        },
        {
            "cell_type": "code",
            "source": [
                "$Query = \"SELECT TOP 1 NULL AS Beard FROM sys.databases\"\r\n",
                "$ItsANull = (Invoke-DbaQuery -SqlInstance Beard-Desktop -Query $Query).Beard\r\n",
                "if($ItsANull -is [System.DBNull]){\r\n",
                "    $ItsANull = $null\r\n",
                "}\r\n",
                "$ItsANull ?? (Write-Warning \"I will output if I am NULL\")"
            ],
            "metadata": {
                "azdata_cell_guid": "6068f348-4ce9-4075-b114-c2c772800124"
            },
            "outputs": [
                {
                    "name": "stdout",
                    "text": "\u001b[93mWARNING: I will output if I am NULL\u001b[0m\r\n",
                    "output_type": "stream"
                }
            ],
            "execution_count": 37
        }
    ]
}