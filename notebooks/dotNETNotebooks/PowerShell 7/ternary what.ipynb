{
    "metadata": {
        "kernelspec": {
            "name": ".net-powershell",
            "display_name": ".NET (PowerShell)",
            "language": "PowerShell"
        },
        "language_info": {
            "name": "PowerShell",
            "version": "7.0",
            "mimetype": "text/x-powershell",
            "file_extension": ".ps1",
            "pygments_lexer": "powershell"
        }
    },
    "nbformat_minor": 2,
    "nbformat": 4,
    "cells": [
        {
            "cell_type": "markdown",
            "source": [
                "PowerShell 7 brings ternary operators \r\n",
                "\r\n",
                "Whats a ternary operator?\r\n",
                "\r\n",
                "Its like an if else statement\r\n",
                "\r\n",
                "Command ? If It is true : If it is false\r\n",
                "\r\n",
                "So we can check for existence of a file like so"
            ],
            "metadata": {
                "azdata_cell_guid": "59db86e1-678a-4a7e-9eff-a3539b406f19"
            }
        },
        {
            "cell_type": "code",
            "source": [
                "$dockerlog = \"$env:LOCALAPPDATA\\Docker\\log.txt\"\r\n",
                "\r\n",
                "(Test-Path $dockerlog) ? (Write-Output \"Gordons Alive\") : (Write-Warning \"Look! Water is leaking from her eyes.\")"
            ],
            "metadata": {
                "azdata_cell_guid": "1e69afa4-d83b-4c27-af88-09236e43d29e"
            },
            "outputs": [
                {
                    "name": "stdout",
                    "text": "Gordons Alive\r\n",
                    "output_type": "stream"
                }
            ],
            "execution_count": 3
        },
        {
            "cell_type": "code",
            "source": [
                "$dockerlog = \"$env:LOCALAPPDATA\\Docker\\1og.txt\"\r\n",
                "\r\n",
                "(Test-Path $dockerlog) ? (Write-Output \"Gordons Alive\") : (Write-Warning \"Look! Water is leaking from her eyes.\")"
            ],
            "metadata": {
                "azdata_cell_guid": "76e9dcdc-b280-445e-87d5-a5a2f872e714"
            },
            "outputs": [
                {
                    "name": "stdout",
                    "text": "\u001b[93mWARNING: Look! Water is leaking from her eyes.\u001b[0m\r\n",
                    "output_type": "stream"
                }
            ],
            "execution_count": 4
        },
        {
            "cell_type": "markdown",
            "source": [
                "and even add the pipeline operators into the code as well"
            ],
            "metadata": {
                "azdata_cell_guid": "c6c9502d-7cb2-49b4-a2fc-0b5da7131c88"
            }
        },
        {
            "cell_type": "code",
            "source": [
                "$dockerlog = \"$env:LOCALAPPDATA\\Docker\\1og.txt\"\r\n",
                "\r\n",
                "(Test-Path $dockerlog) ? \r\n",
                "{Write-Output \"Gordons Alive\"\r\n",
                "Get-Content $dockerlog -ErrorAction SilentlyContinue || Write-Warning \"Uh-Oh. The Beard is sad\"} : \r\n",
                "(Write-Warning \"Look! Water is leaking from her eyes.\")"
            ],
            "metadata": {
                "azdata_cell_guid": "4cfb490f-b9c8-4350-b21b-3f9b98a7ad67"
            },
            "outputs": [
                {
                    "name": "stdout",
                    "text": "\u001b[93mWARNING: Look! Water is leaking from her eyes.\u001b[0m\r\n",
                    "output_type": "stream"
                }
            ],
            "execution_count": 6
        }
    ]
}