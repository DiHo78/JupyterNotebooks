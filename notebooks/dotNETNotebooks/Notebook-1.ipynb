{
    "metadata": {
        "kernelspec": {
            "name": ".net-powershell",
            "display_name": ".NET (PowerShell)"
        },
        "language_info": {
            "name": "PowerShell",
            "version": "7.0",
            "mimetype": "text/x-powershell",
            "file_extension": ".ps1",
            "pygments_lexer": "powershell"
        }
    },
    "nbformat_minor": 2,
    "nbformat": 4,
    "cells": [
        {
            "cell_type": "markdown",
            "source": [
                "# Lets play with a Notebook\r\n",
                "\r\n",
                "Join along, you can open this notebook and run the code yourself"
            ],
            "metadata": {
                "azdata_cell_guid": "91558fb9-bea0-4923-bbe9-4d8dde2f5772"
            }
        },
        {
            "cell_type": "code",
            "source": [
                "$playdir = \"$Env:Temp\\pwshplaydir\"\r\n",
                "if(-not (Test-Path $playdir)){\r\n",
                "    New-Item $playdir -ItemType Directory\r\n",
                "}\r\n",
                "$10k = 0..10000\r\n",
                "$10k | ForEach-Object -ThrottleLimit 10 -Parallel  {\r\n",
                "    $PlayFileName = $Using:playdir + \"\\$PSItem.txt\"\r\n",
                "        $Null = New-Item $PlayFileName -ItemType File -Force\r\n",
                "}"
            ],
            "metadata": {
                "azdata_cell_guid": "5c0638bd-4092-45b3-a30d-19891265abd9",
                "tags": []
            },
            "outputs": [
                {
                    "output_type": "stream",
                    "name": "stdout",
                    "text": "\r\n"
                },
                {
                    "output_type": "stream",
                    "name": "stdout",
                    "text": "\r\n"
                },
                {
                    "output_type": "stream",
                    "name": "stdout",
                    "text": "    Directory: C:\\Users\\mrrob\\AppData\\Local\\Temp\r\n"
                },
                {
                    "output_type": "stream",
                    "name": "stdout",
                    "text": "\r\n"
                },
                {
                    "output_type": "stream",
                    "name": "stdout",
                    "text": "Mode                 LastWriteTime         Length Name\r\n"
                },
                {
                    "output_type": "stream",
                    "name": "stdout",
                    "text": "----                 -------------         ------ ----\r\n"
                },
                {
                    "output_type": "stream",
                    "name": "stdout",
                    "text": "d----          01/06/2020    13:49                pwshplaydir\r\n"
                },
                {
                    "output_type": "stream",
                    "name": "stdout",
                    "text": "\r\n"
                }
            ],
            "execution_count": 6
        },
        {
            "cell_type": "code",
            "source": [
                "# list the magic codes\r\n",
                "#!lsmagic"
            ],
            "metadata": {
                "azdata_cell_guid": "4d5e872e-e3df-4484-b727-60ea50a07fe8"
            },
            "outputs": [
                {
                    "output_type": "display_data",
                    "data": {
                        "text/html": "<div><h6>.NET</h6><pre>[ #!csharp, #!fsharp, #!powershell, #!javascript, #!html, #!lsmagic, #!markdown, #!time, #!log, #!about, #!enable-http ]</pre></div>"
                    },
                    "metadata": {}
                },
                {
                    "output_type": "error",
                    "ename": "Unhandled exception",
                    "evalue": "(1,3): error CS1024: Preprocessor directive expected",
                    "traceback": [
                        "(1,3): error CS1024: Preprocessor directive expected"
                    ]
                },
                {
                    "output_type": "display_data",
                    "data": {
                        "text/html": "<div><h6>fsharp</h6><pre>[ #!whos, #!lsmagic ]</pre></div>"
                    },
                    "metadata": {}
                },
                {
                    "output_type": "display_data",
                    "data": {
                        "text/html": "<div><h6>powershell</h6><pre>[ #!lsmagic ]</pre></div>"
                    },
                    "metadata": {}
                },
                {
                    "output_type": "display_data",
                    "data": {
                        "text/html": "<script type=\"text/javascript\"># list the magic codes</script>"
                    },
                    "metadata": {}
                },
                {
                    "output_type": "display_data",
                    "data": {
                        "text/html": "<div><h6>javascript</h6><pre>[ #!lsmagic ]</pre></div>"
                    },
                    "metadata": {}
                },
                {
                    "output_type": "display_data",
                    "data": {
                        "text/html": "# list the magic codes"
                    },
                    "metadata": {}
                },
                {
                    "output_type": "display_data",
                    "data": {
                        "text/html": "<div><h6>html</h6><pre>[ #!lsmagic ]</pre></div>"
                    },
                    "metadata": {}
                }
            ],
            "execution_count": 11
        },
        {
            "cell_type": "code",
            "source": [
                "#!csharp\r\n",
                "using System.IO; \r\n",
                "int fileCount = Directory.GetFiles(@\"C:\\Users\\mrrob\\AppData\\Local\\Temp\\pwshplaydir\", \"*\", SearchOption.TopDirectoryOnly).Length;\r\n",
                "Console.WriteLine($\"Number of Files : {fileCount}\\n\");\n",
                "\n",
                ""
            ],
            "metadata": {
                "azdata_cell_guid": "aed268fd-6fe4-439e-a837-3f9eb438a8af"
            },
            "outputs": [
                {
                    "output_type": "stream",
                    "name": "stdout",
                    "text": "Number of Files : 10001\n\r\n"
                }
            ],
            "execution_count": 24
        },
        {
            "cell_type": "code",
            "source": [
                "GCI ENV:"
            ],
            "metadata": {
                "azdata_cell_guid": "7b20343b-9002-4c88-a119-ab74ec2f412a"
            },
            "outputs": [
                {
                    "output_type": "stream",
                    "name": "stdout",
                    "text": "\r\n"
                },
                {
                    "output_type": "stream",
                    "name": "stdout",
                    "text": "Name                           Value\r\n"
                },
                {
                    "output_type": "stream",
                    "name": "stdout",
                    "text": "----                           -----\r\n"
                },
                {
                    "output_type": "stream",
                    "name": "stdout",
                    "text": "ADS_LOGS                       C:\\Users\\mrrob\\AppData\\Roaming\\azuredatastudio\\logs\\20200601T103033\r\n"
                },
                {
                    "output_type": "stream",
                    "name": "stdout",
                    "text": "ALLUSERSPROFILE                C:\\ProgramData\r\n"
                },
                {
                    "output_type": "stream",
                    "name": "stdout",
                    "text": "AMD_ENTRYPOINT                 vs/workbench/services/extensions/node/extensionHostProcess\r\n"
                },
                {
                    "output_type": "stream",
                    "name": "stdout",
                    "text": "APPDATA                        C:\\Users\\mrrob\\AppData\\Roaming\r\n"
                },
                {
                    "output_type": "stream",
                    "name": "stdout",
                    "text": "APPLICATION_INSIGHTS_NO_DIAGN… true\r\n"
                },
                {
                    "output_type": "stream",
                    "name": "stdout",
                    "text": "CHOCOLATEYINSTALL              C:\\ProgramData\\chocolatey\r\n"
                },
                {
                    "output_type": "stream",
                    "name": "stdout",
                    "text": "CHOCOLATEYLASTPATHUPDATE       132123337794998217\r\n"
                },
                {
                    "output_type": "stream",
                    "name": "stdout",
                    "text": "CHOCOLATEYTOOLSLOCATION        C:\\tools\r\n"
                },
                {
                    "output_type": "stream",
                    "name": "stdout",
                    "text": "COMMONPROGRAMFILES             C:\\Program Files\\Common Files\r\n"
                },
                {
                    "output_type": "stream",
                    "name": "stdout",
                    "text": "COMMONPROGRAMFILES(X86)        C:\\Program Files (x86)\\Common Files\r\n"
                },
                {
                    "output_type": "stream",
                    "name": "stdout",
                    "text": "COMMONPROGRAMW6432             C:\\Program Files\\Common Files\r\n"
                },
                {
                    "output_type": "stream",
                    "name": "stdout",
                    "text": "COMPUTERNAME                   BEARDXPS\r\n"
                },
                {
                    "output_type": "stream",
                    "name": "stdout",
                    "text": "COMSPEC                        C:\\WINDOWS\\system32\\cmd.exe\r\n"
                },
                {
                    "output_type": "stream",
                    "name": "stdout",
                    "text": "DLMAS_HOME                     C:\\Program Files (x86)\\Red Gate\\SQL Change Automation PowerShell\\\r\n"
                },
                {
                    "output_type": "stream",
                    "name": "stdout",
                    "text": "DRIVERDATA                     C:\\Windows\\System32\\Drivers\\DriverData\r\n"
                },
                {
                    "output_type": "stream",
                    "name": "stdout",
                    "text": "ELECTRON_RUN_AS_NODE           1\r\n"
                },
                {
                    "output_type": "stream",
                    "name": "stdout",
                    "text": "HOMEDRIVE                      C:\r\n"
                },
                {
                    "output_type": "stream",
                    "name": "stdout",
                    "text": "HOMEPATH                       \\Users\\mrrob\r\n"
                },
                {
                    "output_type": "stream",
                    "name": "stdout",
                    "text": "IPY_INTERRUPT_EVENT            1152\r\n"
                },
                {
                    "output_type": "stream",
                    "name": "stdout",
                    "text": "JPY_INTERRUPT_EVENT            1152\r\n"
                },
                {
                    "output_type": "stream",
                    "name": "stdout",
                    "text": "JPY_PARENT_PID                 1076\r\n"
                },
                {
                    "output_type": "stream",
                    "name": "stdout",
                    "text": "JUPYTER_CONFIG_DIR             C:\\Users\\mrrob\\AppData\\Roaming\\jupyter\\instances\\de54a460-5dd7-44d9…\r\n"
                },
                {
                    "output_type": "stream",
                    "name": "stdout",
                    "text": "JUPYTER_PATH                   C:\\Users\\mrrob\\AppData\\Roaming\\jupyter\\instances\\de54a460-5dd7-44d9…\r\n"
                },
                {
                    "output_type": "stream",
                    "name": "stdout",
                    "text": "KERNEL_LAUNCH_TIMEOUT          40\r\n"
                },
                {
                    "output_type": "stream",
                    "name": "stdout",
                    "text": "LOCALAPPDATA                   C:\\Users\\mrrob\\AppData\\Local\r\n"
                },
                {
                    "output_type": "stream",
                    "name": "stdout",
                    "text": "LOGONSERVER                    \\\\BEARDXPS\r\n"
                },
                {
                    "output_type": "stream",
                    "name": "stdout",
                    "text": "MSHOST_ENVIRONMENT             ADSClient-1.46.0\r\n"
                },
                {
                    "output_type": "stream",
                    "name": "stdout",
                    "text": "MSHOST_TELEMETRY_ENABLED       true\r\n"
                },
                {
                    "output_type": "stream",
                    "name": "stdout",
                    "text": "NUMBER_OF_PROCESSORS           8\r\n"
                },
                {
                    "output_type": "stream",
                    "name": "stdout",
                    "text": "ONEDRIVE                       C:\\Users\\mrrob\\OneDrive\r\n"
                },
                {
                    "output_type": "stream",
                    "name": "stdout",
                    "text": "ONEDRIVECONSUMER               C:\\Users\\mrrob\\OneDrive\r\n"
                },
                {
                    "output_type": "stream",
                    "name": "stdout",
                    "text": "OS                             Windows_NT\r\n"
                },
                {
                    "output_type": "stream",
                    "name": "stdout",
                    "text": "PATH                           C:\\Users\\mrrob\\AppData\\Roaming\\Python\\Python36\\Scripts;C:\\Users\\mrr…\r\n"
                },
                {
                    "output_type": "stream",
                    "name": "stdout",
                    "text": "PATHEXT                        .COM;.EXE;.BAT;.CMD;.VBS;.VBE;.JS;.JSE;.WSF;.WSH;.MSC;.CPL\r\n"
                },
                {
                    "output_type": "stream",
                    "name": "stdout",
                    "text": "PIPE_LOGGING                   true\r\n"
                },
                {
                    "output_type": "stream",
                    "name": "stdout",
                    "text": "POWERSHELL_DISTRIBUTION_CHANN… dotnet-interactive-powershell\r\n"
                },
                {
                    "output_type": "stream",
                    "name": "stdout",
                    "text": "PROCESSOR_ARCHITECTURE         AMD64\r\n"
                },
                {
                    "output_type": "stream",
                    "name": "stdout",
                    "text": "PROCESSOR_IDENTIFIER           Intel64 Family 6 Model 142 Stepping 11, GenuineIntel\r\n"
                },
                {
                    "output_type": "stream",
                    "name": "stdout",
                    "text": "PROCESSOR_LEVEL                6\r\n"
                },
                {
                    "output_type": "stream",
                    "name": "stdout",
                    "text": "PROCESSOR_REVISION             8e0b\r\n"
                },
                {
                    "output_type": "stream",
                    "name": "stdout",
                    "text": "PROGRAMDATA                    C:\\ProgramData\r\n"
                },
                {
                    "output_type": "stream",
                    "name": "stdout",
                    "text": "PROGRAMFILES                   C:\\Program Files\r\n"
                },
                {
                    "output_type": "stream",
                    "name": "stdout",
                    "text": "PROGRAMFILES(X86)              C:\\Program Files (x86)\r\n"
                },
                {
                    "output_type": "stream",
                    "name": "stdout",
                    "text": "PROGRAMW6432                   C:\\Program Files\r\n"
                },
                {
                    "output_type": "stream",
                    "name": "stdout",
                    "text": "PROMPT                         $P$G\r\n"
                },
                {
                    "output_type": "stream",
                    "name": "stdout",
                    "text": "PSExecutionPolicyPreference    RemoteSigned\r\n"
                },
                {
                    "output_type": "stream",
                    "name": "stdout",
                    "text": "PSMODULEPATH                   C:\\Users\\mrrob\\.dotnet\\tools\\.store\\microsoft.dotnet-interactive\\1.…\r\n"
                },
                {
                    "output_type": "stream",
                    "name": "stdout",
                    "text": "PUBLIC                         C:\\Users\\Public\r\n"
                },
                {
                    "output_type": "stream",
                    "name": "stdout",
                    "text": "SESSIONNAME                    Console\r\n"
                },
                {
                    "output_type": "stream",
                    "name": "stdout",
                    "text": "SYSTEMDRIVE                    C:\r\n"
                },
                {
                    "output_type": "stream",
                    "name": "stdout",
                    "text": "SYSTEMROOT                     C:\\WINDOWS\r\n"
                },
                {
                    "output_type": "stream",
                    "name": "stdout",
                    "text": "TEMP                           C:\\Users\\mrrob\\AppData\\Local\\Temp\r\n"
                },
                {
                    "output_type": "stream",
                    "name": "stdout",
                    "text": "TMP                            C:\\Users\\mrrob\\AppData\\Local\\Temp\r\n"
                },
                {
                    "output_type": "stream",
                    "name": "stdout",
                    "text": "USERDOMAIN                     BEARDXPS\r\n"
                },
                {
                    "output_type": "stream",
                    "name": "stdout",
                    "text": "USERDOMAIN_ROAMINGPROFILE      BEARDXPS\r\n"
                },
                {
                    "output_type": "stream",
                    "name": "stdout",
                    "text": "USERNAME                       mrrob\r\n"
                },
                {
                    "output_type": "stream",
                    "name": "stdout",
                    "text": "USERPROFILE                    C:\\Users\\mrrob\r\n"
                },
                {
                    "output_type": "stream",
                    "name": "stdout",
                    "text": "VERBOSE_LOGGING                true\r\n"
                },
                {
                    "output_type": "stream",
                    "name": "stdout",
                    "text": "VSCODE_CWD                     C:\\Users\\mrrob\\AppData\\Local\\Programs\\Azure Data Studio - Insiders\r\n"
                },
                {
                    "output_type": "stream",
                    "name": "stdout",
                    "text": "VSCODE_HANDLES_UNCAUGHT_ERRORS true\r\n"
                },
                {
                    "output_type": "stream",
                    "name": "stdout",
                    "text": "VSCODE_IPC_HOOK                \\\\.\\pipe\\1c4c69d9c57cbfe3c4e7e3cb48364871-1.19.0-insider-main-sock\r\n"
                },
                {
                    "output_type": "stream",
                    "name": "stdout",
                    "text": "VSCODE_IPC_HOOK_EXTHOST        \\\\.\\pipe\\vscode-ipc-f9974166-13b1-4dab-ad3d-268f97afc8d1-sock\r\n"
                },
                {
                    "output_type": "stream",
                    "name": "stdout",
                    "text": "VSCODE_LOG_STACK               true\r\n"
                },
                {
                    "output_type": "stream",
                    "name": "stdout",
                    "text": "VSCODE_LOGS                    C:\\Users\\mrrob\\AppData\\Roaming\\azuredatastudio\\logs\\20200601T103033\r\n"
                },
                {
                    "output_type": "stream",
                    "name": "stdout",
                    "text": "VSCODE_NLS_CONFIG              {\"locale\":\"en-gb\",\"availableLanguages\":{},\"_languagePackSupport\":tr…\r\n"
                },
                {
                    "output_type": "stream",
                    "name": "stdout",
                    "text": "VSCODE_NODE_CACHED_DATA_DIR    C:\\Users\\mrrob\\AppData\\Roaming\\azuredatastudio\\CachedData\\8288360cc…\r\n"
                },
                {
                    "output_type": "stream",
                    "name": "stdout",
                    "text": "VSCODE_PID                     12424\r\n"
                },
                {
                    "output_type": "stream",
                    "name": "stdout",
                    "text": "WINDIR                         C:\\WINDOWS\r\n"
                },
                {
                    "output_type": "stream",
                    "name": "stdout",
                    "text": "\r\n"
                }
            ],
            "execution_count": 20
        },
        {
            "cell_type": "code",
            "source": [
                "$playdir = \"$Env:Temp\\pwshplaydir\"\n",
                "Remove-item $playdir -Force -Recurse\n",
                ""
            ],
            "metadata": {
                "azdata_cell_guid": "b6ad6cda-2c02-46b4-b9bb-a98e8a0e9a56"
            },
            "outputs": [],
            "execution_count": 5
        }
    ]
}