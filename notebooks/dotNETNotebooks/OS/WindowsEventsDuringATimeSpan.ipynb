{
    "metadata": {
        "kernelspec": {
            "name": ".net-powershell",
            "display_name": ".NET (PowerShell)"
        },
        "language_info": {
            "name": "PowerShell",
            "version": "7.0",
            "mimetype": "text/x-powershell",
            "file_extension": ".ps1",
            "pygments_lexer": "powershell"
        }
    },
    "nbformat_minor": 2,
    "nbformat": 4,
    "cells": [
        {
            "cell_type": "markdown",
            "source": [
                "\r\n",
                "# Gathering information about a server from the Windows Event logs for a particular time\r\n",
                "\r\n",
                "Jess Pomfret has written a great blog about how you can use PowerShell to gather the Windows Event logs from a server for a particular period of time\r\n",
                "\r\n",
                "[https://jesspomfret.com/get-winevent/](https://jesspomfret.com/get-winevent/)\r\n",
                "\r\n",
                "## Choosing the logs that you want to investigate\r\n",
                "\r\n",
                "You might choose to just start with the system and application event logs, in which case, skip the next block, but if you wish to dig further, you will need to know the names of the logs. You can find the list of Windows Event Logs with records on a server with the code below. It will pop-up in a seperate window which will probably be hidden but you will see the flashing PowerShell Icon in the taskbar.\r\n",
                "\r\n",
                "You can search in the out-gridview box in the top bar to filter. It will take a couple minutes to run.\r\n",
                "\r\n",
                ""
            ],
            "metadata": {
                "azdata_cell_guid": "8efeb292-9e20-49a0-b007-71c979e4cebe"
            }
        },
        {
            "cell_type": "code",
            "source": [
                "$computerName = ''\r\n",
                "Get-WinEvent -ListLog * -ComputerName $computerName  | \r\n",
                "Where-Object RecordCount | \r\n",
                "Out-GridView"
            ],
            "metadata": {
                "azdata_cell_guid": "2211a8aa-4c75-4baf-b87c-ea91c0db2b06"
            },
            "outputs": [],
            "execution_count": null
        },
        {
            "cell_type": "markdown",
            "source": [
                "Once you have decided which logs to interogate , you can add the computer name, the date and time you wish to investigate and the window in minutes. This will search before and after the time, you specify"
            ],
            "metadata": {
                "azdata_cell_guid": "4fd53a5e-9c27-4efe-b5b1-509147355a0f"
            }
        },
        {
            "cell_type": "code",
            "source": [
                "$computerName = ''   ## Add the computername here\r\n",
                "$issueDateTime = get-date('2020-07-31 21:30')   ## Add the date and time you are interested in here in the format 'yyyy-MM-dd HH:mm'\r\n",
                "$windowMins = 30  ## The number of minutes before and after the issue date time to gather information for\r\n",
                "$lognames = 'system','application' ## The log names you wish to interogate\r\n",
                "\r\n",
                "$winEventFilterHash = @{\r\n",
                "    LogName = $lognames\r\n",
                "    StartTime = $issueDateTime.AddMinutes(-($windowMins/2))\r\n",
                "    EndTime = $issueDateTime.AddMinutes(($windowMins/2))\r\n",
                "}\r\n",
                "\r\n",
                "# Run this first to make sure output width does not mess with output - Update output buffer size to prevent clipping in Visual Studio Code output window.\r\n",
                "if( $Host -and $Host.UI -and $Host.UI.RawUI ) {\r\n",
                "    $rawUI = $Host.UI.RawUI\r\n",
                "    $oldSize = $rawUI.BufferSize\r\n",
                "    $typeName = $oldSize.GetType( ).FullName\r\n",
                "    $newSize = New-Object $typeName (500, $oldSize.Height)\r\n",
                "    $rawUI.BufferSize = $newSize\r\n",
                "  }\r\n",
                "\r\n",
                "Get-WinEvent -FilterHashtable $winEventFilterHash -ComputerName $computerName | Select-Object LogName,\r\n",
                "ProviderName,\r\n",
                "TimeCreated,\r\n",
                "Id,\r\n",
                "LevelDisplayName,\r\n",
                "@{l='UserName';e={(New-Object System.Security.Principal.SecurityIdentifier($_.UserId)).Translate([System.Security.Principal.NTAccount])}}, \r\n",
                "Message | Format-Table -AutoSize -Wrap"
            ],
            "metadata": {
                "azdata_cell_guid": "b447de7e-3c33-4215-935e-d0a21b490318"
            },
            "outputs": [],
            "execution_count": null
        },
        {
            "cell_type": "markdown",
            "source": [
                "## Exporting it to Excel\r\n",
                "\r\n",
                "If you wish to export the results to Excel for analysis, you can use the ImportExcel module and the code below. Again, you will need to update the Computer name, Windows Event Log names and time as before"
            ],
            "metadata": {
                "azdata_cell_guid": "fbd43641-6b29-4ea7-9dd0-6e4da626b316"
            }
        },
        {
            "cell_type": "code",
            "source": [
                "$computerName = ''   ## Add the computername here\r\n",
                "$issueDateTime = get-date('2020-07-31 21:30')   ## Add the date and time you are interested in here in the format 'yyyy-MM-dd HH:mm'\r\n",
                "$windowMins = 30  ## The number of minutes before and after the issue date time to gather information for\r\n",
                "$lognames = 'system','application'  ## The log names you wish to interogate\r\n",
                "$filepath = 'C:\\temp\\'    # path to folder for the Excel workbook\r\n",
                "\r\n",
                "$winEventFilterHash = @{\r\n",
                "    LogName = 'system','application'\r\n",
                "    StartTime = $issueDateTime.AddMinutes(-($windowMins/2))\r\n",
                "    EndTime = $issueDateTime.AddMinutes(($windowMins/2))\r\n",
                "}\r\n",
                "\r\n",
                "$issueDateTimeexcel = Get-Date($issueDateTime) -Format 'yyyy-MM-dd_HH_MM'\r\n",
                "\r\n",
                "$Worksheetname = $computerName.split('.')[0] + '_' + $issueDateTimeexcel\r\n",
                "$filepath = $filepath + $WorksheetName + '.xlsx'\r\n",
                "Get-WinEvent -FilterHashtable $winEventFilterHash -ComputerName $computerName | Select-Object LogName,\r\n",
                "ProviderName,\r\n",
                "TimeCreated,\r\n",
                "Id,\r\n",
                "LevelDisplayName,\r\n",
                "@{l='UserName';e={(New-Object System.Security.Principal.SecurityIdentifier($_.UserId)).Translate([System.Security.Principal.NTAccount])}}, \r\n",
                "Message | Export-Excel -Path $filepath -FreezeTopRow -AutoSize -AutoFilter -WorksheetName $Worksheetname -BoldTopRow \r\n",
                "\r\n",
                "Invoke-Item $filepath"
            ],
            "metadata": {
                "azdata_cell_guid": "565e09c6-d9dd-4234-9b31-813cc2863e8e"
            },
            "outputs": [],
            "execution_count": null
        }
    ]
}