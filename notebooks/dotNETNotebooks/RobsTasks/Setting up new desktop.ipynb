{
    "metadata": {
        "kernelspec": {
            "name": ".net-powershell",
            "display_name": ".NET (PowerShell)"
        },
        "language_info": {
            "name": "PowerShell",
            "version": "7.0",
            "mimetype": "text/x-powershell",
            "file_extension": ".ps1",
            "pygments_lexer": "powershell"
        }
    },
    "nbformat_minor": 2,
    "nbformat": 4,
    "cells": [
        {
            "cell_type": "markdown",
            "source": [
                "# Setting up SQL on new Desktop\r\n",
                "\r\n",
                "Use dbatools :-)\r\n",
                "\r\n",
                "This next piece of code needs to be run in admin mode because it is a localhost installation."
            ],
            "metadata": {
                "azdata_cell_guid": "d90fe6ab-a815-4e80-b086-36db859699c4"
            }
        },
        {
            "cell_type": "code",
            "source": [
                "Install-DbaInstance -SqlInstance localhost -Version 2019 -Feature Default -SaCredential sqladmin -AuthenticationMode Mixed -Path D:\\InstallationMedia -InstancePath D:\\SQLSERVER -DataPath D:\\SQLSERVER\\DEFAULT\\DATA -LogPath D:\\SQLSERVER\\DEFAULT\\Log -TempPath D:\\SQLSERVER\\DEFAULT\\TempDb -PerformVolumeMaintenanceTasks -SaveConfiguration D:\\SQLSERVER\r\n",
                "Install-DbaInstance -SqlInstance localhost\\DAVE -Version 2019 -Feature Default -SaCredential sqladmin -AuthenticationMode Mixed -Path D:\\InstallationMedia -InstancePath D:\\SQLSERVER -DataPath D:\\SQLSERVER\\DAVE\\DATA -LogPath D:\\SQLSERVER\\DAVE\\Log -TempPath D:\\SQLSERVER\\DAVE\\TempDb -PerformVolumeMaintenanceTasks -SaveConfiguration D:\\SQLSERVER\r\n",
                ""
            ],
            "metadata": {
                "azdata_cell_guid": "b154840f-1dcc-4fce-89f9-36f18ec70ada"
            },
            "outputs": [],
            "execution_count": null
        },
        {
            "cell_type": "markdown",
            "source": [
                "Once SQL is installed, restore the database and copy it to the other instance :-)"
            ],
            "metadata": {
                "azdata_cell_guid": "571fedcf-edaf-42d7-b620-f6103f8e5282"
            }
        },
        {
            "cell_type": "code",
            "source": [
                "$sqlcredential = Import-Clixml -Path D:\\Creds\\local-sa.cred\r\n",
                "\r\n",
                "Get-DbaDatabase -SqlInstance 'Beard-Desktop','Beard-Desktop\\DAVE' -SqlCredential $sqlcredential -ExcludeSystem\r\n",
                "Copy-DbaDatabase -source 'Beard-Desktop' -Destination 'Beard-Desktop\\DAVE' -BackupRestore -SharedPath '\\\\BEARD-DESKTOP\\SQLShare' -Database AdventureWorks2017\r\n",
                "Get-DbaDatabase -SqlInstance 'Beard-Desktop','Beard-Desktop\\DAVE' -SqlCredential $sqlcredential -ExcludeSystem"
            ],
            "metadata": {
                "azdata_cell_guid": "47cf8dac-7cce-4eaa-9047-f3289847fe06"
            },
            "outputs": [],
            "execution_count": null
        }
    ]
}