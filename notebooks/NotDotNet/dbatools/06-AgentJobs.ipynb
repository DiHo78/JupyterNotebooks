{
  "cells": [
    {
      "cell_type": "markdown",
      "metadata": {},
      "source": [
        "# Working with Agent Jobs with dbatools\n",
        "\n",
        "You can use dbatools to administer your Agent jobs. Make sure that you have first run your create container notebook\n",
        "\n",
        "We have written a book which will give you a brilliant introduction to dbatools. It's called dbatools in a Month of Lunches and you can find it at https://beard.media/book\n",
        "\n",
        "The cell block below will create the variables that you will need for the rest of the notebook\n",
        "\n",
        "You can run the code by using the arrow keys and shift and enter"
      ]
    },
    {
      "cell_type": "code",
      "execution_count": 2,
      "metadata": {
        "jupyter": {
          "source_hidden": true
        }
      },
      "outputs": [
        {
          "name": "stdout",
          "output_type": "stream",
          "text": [
            " Creating connection to the containers\n",
            "We have a connection to the containers\n"
          ]
        }
      ],
      "source": [
        "$FolderPath = $Env:USERPROFILE + '\\Documents\\dbatoolsdemo'\n",
        "$SqlInstances = 'localhost,15592', 'localhost,15593'\n",
        "$SqlCredential = Import-Clixml -Path $FolderPath\\sqladmin.cred\n",
        "Write-Output \" Creating connection to the containers\"\n",
        "try {\n",
        "    $SQL1 = Connect-DbaInstance -SqlInstance $SqlInstances[0] -SqlCredential $SqlCredential \n",
        "    $SQL2 = Connect-DbaInstance -SqlInstance $SqlInstances[1] -SqlCredential $SqlCredential\n",
        "    Write-Output \"We have a connection to the containers\"\n",
        "\n",
        "}\n",
        "catch {\n",
        "    Write-Output \"You haven't got a connection to the containers - Either they are still upgrading in which case try again in 30 seconds or the containers have not come up correctly\"\n",
        "    Write-Output \"Make sure the containers are running - the code is below in a block for you\"\n",
        "    Write-Output \"docker ps -a\"\n",
        "    Write-Output \"If they are read the logs - the code is below in a block for you\"\n",
        "    Write-Output \"docker logs dbatools_SQL2019_1\"\n",
        "    Write-Output \"docker logs dbatools_SQL2019-1_1\"\n",
        "}"
      ]
    },
    {
      "cell_type": "markdown",
      "metadata": {},
      "source": [
        "## List the Agent jobs on the instance\n",
        "\n",
        "You can very quickly list all the agent jobs on an instance with dbatools"
      ]
    },
    {
      "cell_type": "code",
      "execution_count": 3,
      "metadata": {},
      "outputs": [
        {
          "name": "stdout",
          "output_type": "stream",
          "text": [
            "\n",
            "ComputerName InstanceName SqlInstance  Name                                     Category\n",
            "------------ ------------ -----------  ----                                     --------           \n",
            "localhost    MSSQLSERVER  f65aa80e71d9 CommandLog Cleanup                       Database Maintenan…\n",
            "localhost    MSSQLSERVER  f65aa80e71d9 DatabaseBackup - SYSTEM_DATABASES - FULL Database Maintenan…\n",
            "localhost    MSSQLSERVER  f65aa80e71d9 DatabaseBackup - USER_DATABASES - DIFF   Database Maintenan…\n",
            "localhost    MSSQLSERVER  f65aa80e71d9 DatabaseBackup - USER_DATABASES - FULL   Database Maintenan…\n",
            "localhost    MSSQLSERVER  f65aa80e71d9 DatabaseBackup - USER_DATABASES - LOG    Database Maintenan…\n",
            "localhost    MSSQLSERVER  f65aa80e71d9 DatabaseIntegrityCheck - SYSTEM_DATABAS… Database Maintenan…\n",
            "localhost    MSSQLSERVER  f65aa80e71d9 DatabaseIntegrityCheck - USER_DATABASES  Database Maintenan…\n",
            "localhost    MSSQLSERVER  f65aa80e71d9 IndexOptimize - USER_DATABASES           Database Maintenan…\n",
            "localhost    MSSQLSERVER  f65aa80e71d9 sp_delete_backuphistory                  Database Maintenan…\n",
            "localhost    MSSQLSERVER  f65aa80e71d9 sp_purge_jobhistory                      Database Maintenan…\n",
            "localhost    MSSQLSERVER  f65aa80e71d9 The Beard is Important                   [Uncategorized (Lo…\n",
            "\n"
          ]
        }
      ],
      "source": [
        "Get-DbaAgentJob -SqlInstance $sql1 | Format-Table"
      ]
    },
    {
      "cell_type": "markdown",
      "metadata": {},
      "source": [
        "You can get info about a particular job"
      ]
    },
    {
      "cell_type": "code",
      "execution_count": 5,
      "metadata": {},
      "outputs": [
        {
          "name": "stdout",
          "output_type": "stream",
          "text": [
            "\n",
            "ComputerName           : localhost\n",
            "InstanceName           : MSSQLSERVER\n",
            "SqlInstance            : f65aa80e71d9\n",
            "Name                   : The Beard is Important\n",
            "Category               : [Uncategorized (Local)]\n",
            "OwnerLoginName         : sqladmin\n",
            "CurrentRunStatus       : Idle\n",
            "CurrentRunRetryAttempt : 0\n",
            "Enabled                : True\n",
            "LastRunDate            : 21/12/2019 14:42:01\n",
            "LastRunOutcome         : Failed\n",
            "HasSchedule            : False\n",
            "OperatorToEmail        : \n",
            "CreateDate             : 21/12/2019 14:40:46\n",
            "\n",
            "\n"
          ]
        }
      ],
      "source": [
        "Get-DbaAgentJob -SqlInstance $sql1 -Job 'The Beard is Important'"
      ]
    },
    {
      "cell_type": "markdown",
      "metadata": {},
      "source": [
        "Job Steps"
      ]
    },
    {
      "cell_type": "code",
      "execution_count": 6,
      "metadata": {},
      "outputs": [
        {
          "name": "stdout",
          "output_type": "stream",
          "text": [
            "\n",
            "ComputerName   : localhost\n",
            "InstanceName   : MSSQLSERVER\n",
            "SqlInstance    : f65aa80e71d9\n",
            "AgentJob       : The Beard is Important\n",
            "Name           : Run this SQL\n",
            "SubSystem      : TransactSql\n",
            "LastRunDate    : 21/12/2019 14:42:01\n",
            "LastRunOutcome : Failed\n",
            "State          : Existing\n",
            "\n",
            "\n"
          ]
        }
      ],
      "source": [
        "Get-DbaAgentJobStep -SqlInstance $SQL1 -Job 'The Beard is Important'"
      ]
    },
    {
      "cell_type": "markdown",
      "metadata": {},
      "source": [
        "You can remove jobs \n",
        "\n",
        "**PLEASE DON'T DO THIS IN PRODUCTION**"
      ]
    },
    {
      "cell_type": "code",
      "execution_count": 10,
      "metadata": {},
      "outputs": [
        {
          "name": "stdout",
          "output_type": "stream",
          "text": [
            "\n",
            "ComputerName : localhost\n",
            "InstanceName : MSSQLSERVER\n",
            "SqlInstance  : 7150a7015d41\n",
            "Name         : CommandLog Cleanup\n",
            "Status       : Dropped\n",
            "\n",
            "ComputerName : localhost\n",
            "InstanceName : MSSQLSERVER\n",
            "SqlInstance  : 7150a7015d41\n",
            "Name         : DatabaseBackup - SYSTEM_DATABASES - FULL\n",
            "Status       : Dropped\n",
            "\n",
            "ComputerName : localhost\n",
            "InstanceName : MSSQLSERVER\n",
            "SqlInstance  : 7150a7015d41\n",
            "Name         : DatabaseBackup - USER_DATABASES - DIFF\n",
            "Status       : Dropped\n",
            "\n",
            "ComputerName : localhost\n",
            "InstanceName : MSSQLSERVER\n",
            "SqlInstance  : 7150a7015d41\n",
            "Name         : DatabaseBackup - USER_DATABASES - FULL\n",
            "Status       : Dropped\n",
            "\n",
            "ComputerName : localhost\n",
            "InstanceName : MSSQLSERVER\n",
            "SqlInstance  : 7150a7015d41\n",
            "Name         : DatabaseBackup - USER_DATABASES - LOG\n",
            "Status       : Dropped\n",
            "\n",
            "ComputerName : localhost\n",
            "InstanceName : MSSQLSERVER\n",
            "SqlInstance  : 7150a7015d41\n",
            "Name         : DatabaseIntegrityCheck - SYSTEM_DATABASES\n",
            "Status       : Dropped\n",
            "\n",
            "ComputerName : localhost\n",
            "InstanceName : MSSQLSERVER\n",
            "SqlInstance  : 7150a7015d41\n",
            "Name         : DatabaseIntegrityCheck - USER_DATABASES\n",
            "Status       : Dropped\n",
            "\n",
            "ComputerName : localhost\n",
            "InstanceName : MSSQLSERVER\n",
            "SqlInstance  : 7150a7015d41\n",
            "Name         : IndexOptimize - USER_DATABASES\n",
            "Status       : Dropped\n",
            "\n",
            "ComputerName : localhost\n",
            "InstanceName : MSSQLSERVER\n",
            "SqlInstance  : 7150a7015d41\n",
            "Name         : sp_delete_backuphistory\n",
            "Status       : Dropped\n",
            "\n",
            "ComputerName : localhost\n",
            "InstanceName : MSSQLSERVER\n",
            "SqlInstance  : 7150a7015d41\n",
            "Name         : sp_purge_jobhistory\n",
            "Status       : Dropped\n",
            "\n",
            "ComputerName : localhost\n",
            "InstanceName : MSSQLSERVER\n",
            "SqlInstance  : 7150a7015d41\n",
            "Name         : The Beard is Important\n",
            "Status       : Dropped\n",
            "\n",
            "\n"
          ]
        }
      ],
      "source": [
        "Get-DbaAgentJob -SqlInstance $SQL2 | Remove-DbaAgentJob -Confirm:$false"
      ]
    },
    {
      "cell_type": "markdown",
      "metadata": {},
      "source": [
        "We have no jobs on SQL2"
      ]
    },
    {
      "cell_type": "code",
      "execution_count": 15,
      "metadata": {},
      "outputs": [],
      "source": [
        " $SQL2 = Connect-DbaInstance -SqlInstance $SqlInstances[1] -SqlCredential $SqlCredential\n",
        "Get-DbaAgentJob -SqlInstance $SQL2"
      ]
    },
    {
      "cell_type": "markdown",
      "metadata": {},
      "source": [
        "If you have run through the notebooks, you might still have the Availability Group that was created in Notebook 03\n",
        "\n",
        "You would want your Agent Jobs to be the same on all replicas so that if you failover everything works\n",
        "\n",
        "dbatools has you covered"
      ]
    },
    {
      "cell_type": "code",
      "execution_count": 16,
      "metadata": {},
      "outputs": [
        {
          "name": "stdout",
          "output_type": "stream",
          "text": [
            "\n",
            "Type      Name                                      Status     Notes\n",
            "----      ----                                      ------     -----\n",
            "Agent Job CommandLog Cleanup                        Successful \n",
            "Agent Job DatabaseBackup - SYSTEM_DATABASES - FULL  Successful \n",
            "Agent Job DatabaseBackup - USER_DATABASES - DIFF    Successful \n",
            "Agent Job DatabaseBackup - USER_DATABASES - FULL    Successful \n",
            "Agent Job DatabaseBackup - USER_DATABASES - LOG     Successful \n",
            "Agent Job DatabaseIntegrityCheck - SYSTEM_DATABASES Successful \n",
            "Agent Job DatabaseIntegrityCheck - USER_DATABASES   Successful \n",
            "Agent Job IndexOptimize - USER_DATABASES            Successful \n",
            "Agent Job sp_delete_backuphistory                   Successful \n",
            "Agent Job sp_purge_jobhistory                       Successful \n",
            "Agent Job The Beard is Important                    Successful \n",
            "\n"
          ]
        }
      ],
      "source": [
        "Copy-DbaAgentJob -Source $SQL1 -Destination $SQL2"
      ]
    },
    {
      "cell_type": "markdown",
      "metadata": {},
      "source": [
        "and just like that all jobs are on SQL2"
      ]
    },
    {
      "cell_type": "code",
      "execution_count": 18,
      "metadata": {},
      "outputs": [
        {
          "name": "stdout",
          "output_type": "stream",
          "text": [
            "\n",
            "ComputerName InstanceName SqlInstance  Name                                     Category\n",
            "------------ ------------ -----------  ----                                     --------           \n",
            "localhost    MSSQLSERVER  7150a7015d41 CommandLog Cleanup                       Database Maintenan…\n",
            "localhost    MSSQLSERVER  7150a7015d41 DatabaseBackup - SYSTEM_DATABASES - FULL Database Maintenan…\n",
            "localhost    MSSQLSERVER  7150a7015d41 DatabaseBackup - USER_DATABASES - DIFF   Database Maintenan…\n",
            "localhost    MSSQLSERVER  7150a7015d41 DatabaseBackup - USER_DATABASES - FULL   Database Maintenan…\n",
            "localhost    MSSQLSERVER  7150a7015d41 DatabaseBackup - USER_DATABASES - LOG    Database Maintenan…\n",
            "localhost    MSSQLSERVER  7150a7015d41 DatabaseIntegrityCheck - SYSTEM_DATABAS… Database Maintenan…\n",
            "localhost    MSSQLSERVER  7150a7015d41 DatabaseIntegrityCheck - USER_DATABASES  Database Maintenan…\n",
            "localhost    MSSQLSERVER  7150a7015d41 IndexOptimize - USER_DATABASES           Database Maintenan…\n",
            "localhost    MSSQLSERVER  7150a7015d41 sp_delete_backuphistory                  Database Maintenan…\n",
            "localhost    MSSQLSERVER  7150a7015d41 sp_purge_jobhistory                      Database Maintenan…\n",
            "localhost    MSSQLSERVER  7150a7015d41 The Beard is Important                   [Uncategorized (Lo…\n",
            "\n"
          ]
        }
      ],
      "source": [
        " $SQL2 = Connect-DbaInstance -SqlInstance $SqlInstances[1] -SqlCredential $SqlCredential\n",
        "Get-DbaAgentJob -SqlInstance $SQL2|Format-Table"
      ]
    },
    {
      "cell_type": "markdown",
      "metadata": {},
      "source": [
        "# Clean Up\n",
        "\n",
        "The 99-CleanUpContainers notebook will remove the containers, files and directory - it will leave the image so you do not have to download it again!"
      ]
    },
    {
      "cell_type": "code",
      "execution_count": null,
      "metadata": {},
      "outputs": [],
      "source": []
    }
  ],
  "metadata": {
    "kernelspec": {
      "display_name": "PowerShell",
      "language": "PowerShell",
      "name": "powershell"
    },
    "language_info": {
      "file_extension": ".ps1",
      "mimetype": "text/x-sh",
      "name": "powershell",
      "codemirror_mode": "shell"
    }
  },
  "nbformat": 4,
  "nbformat_minor": 4
}
