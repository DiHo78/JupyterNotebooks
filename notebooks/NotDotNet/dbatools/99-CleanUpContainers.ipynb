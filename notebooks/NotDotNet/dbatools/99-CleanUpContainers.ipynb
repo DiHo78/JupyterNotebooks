{
    "metadata": {
        "kernelspec": {
            "name": "powershell",
            "display_name": "PowerShell",
            "language": "powershell"
        },
        "language_info": {
            "name": "powershell",
            "codemirror_mode": "shell",
            "mimetype": "text/x-sh",
            "file_extension": ".ps1"
        }
    },
    "nbformat_minor": 2,
    "nbformat": 4,
    "cells": [
        {
            "cell_type": "markdown",
            "source": [
                "# Cleaning up the containers and directories and files\n",
                "\n",
                "The code below will clean up the files that have been created and remove the docker containers but not the image so that you can run this notebook again without having to download the image again.\n",
                "\n",
                "You will need to enter the path to this notebook for the `$NotebookDir` variable"
            ],
            "metadata": {
                "azdata_cell_guid": "bf39922e-c732-4c24-8630-1694d703c50e"
            }
        },
        {
            "cell_type": "code",
            "source": [
                "$NotebookDir = '' # Enter the path to the notebook here\n",
                "$FolderPath = $Env:USERPROFILE + '\\Documents\\dbatoolsdemo'\n",
                "Write-Output \"Removing containers\"\n",
                "\n",
                "Set-Location $NotebookDir\n",
                "docker-compose down \n",
                "\n",
                "\n",
                "Write-Output \"Removing directories and files\"\n",
                "Remove-Item $FolderPath -Recurse -Force\n",
                "Write-Output \"Removed everything\"\n",
                ""
            ],
            "metadata": {
                "azdata_cell_guid": "45750e3c-b1a5-430f-b79c-d85430564841"
            },
            "outputs": [
                {
                    "name": "stdout",
                    "text": "Removing containers\nRead-Host : Windows PowerShell is in NonInteractive mode. Read and Prompt functionality is not available.\nAt line:4 char:20\n+ ... tebookDir = Read-Host \"Please enter path to the notebook. Azure Data  ...\n+                 ~~~~~~~~~~~~~~~~~~~~~~~~~~~~~~~~~~~~~~~~~~~~~~~~~~~~~~~~~\n    + CategoryInfo          : InvalidOperation: (:) [Read-Host], PSInvalidOperationException\n    + FullyQualifiedErrorId : InvalidOperation,Microsoft.PowerShell.Commands.ReadHostCommand\n \n",
                    "output_type": "stream"
                },
                {
                    "name": "stdout",
                    "text": "Set-Location : Cannot process argument because the value of argument \"path\" is null. Change the value of argument \"path\" to a non-null value.\nAt line:5 char:5\n+     Set-Location $NotebookDir\n+     ~~~~~~~~~~~~~~~~~~~~~~~~~\n    + CategoryInfo          : InvalidArgument: (:) [Set-Location], PSArgumentNullException\n    + FullyQualifiedErrorId : ArgumentNull,Microsoft.PowerShell.Commands.SetLocationCommand\n \n",
                    "output_type": "stream"
                },
                {
                    "name": "stdout",
                    "text": "\n        Can't find a suitable configuration file in this directory or any\n        parent. Are you in the right directory?\n\n        Supported filenames: docker-compose.yml, docker-compose.yaml\n        \n",
                    "output_type": "stream"
                },
                {
                    "name": "stdout",
                    "text": "Removing directories and files\nRemoved everything\n",
                    "output_type": "stream"
                }
            ],
            "execution_count": 1
        },
        {
            "cell_type": "code",
            "source": [
                "docker ps -a"
            ],
            "metadata": {
                "azdata_cell_guid": "06243d1c-1e53-4a2a-9cae-47c6934eb20c"
            },
            "outputs": [
                {
                    "output_type": "stream",
                    "name": "stdout",
                    "text": "CONTAINER ID        IMAGE               COMMAND             CREATED             STATUS              PORTS               NAMES\r\n"
                }
            ],
            "execution_count": 18
        },
        {
            "cell_type": "code",
            "source": [],
            "metadata": {
                "azdata_cell_guid": "996a4a76-17b3-4e4f-8fdb-fa560b21f238"
            },
            "outputs": [],
            "execution_count": null
        },
        {
            "cell_type": "code",
            "source": [],
            "metadata": {
                "azdata_cell_guid": "5fca1884-f586-49fa-a314-65c111e7cdb3"
            },
            "outputs": [],
            "execution_count": null
        }
    ]
}