{
  "metadata": {
    "kernelspec": {
      "name": "powershell",
      "display_name": "PowerShell"
    },
    "language_info": {
      "name": "powershell",
      "mimetype": "text/x-sh",
      "file_extension": ".ps1",
      "codemirror_mode": "shell"
    }
  },
  "nbformat_minor": 2,
  "nbformat": 4,
  "cells": [
    {
      "cell_type": "markdown",
      "source": [
        "# Introduction\n",
        "\n",
        "How do you start with dbatools?\n",
        "\n",
        "Lets look at how you can begin and how you can help your self to be able to use dbatools\n",
        "\n",
        "***You will need to have followed the steps in the 00-CreateContainers notebook to use this notebook***\n",
        "\n",
        "We have written a book which will give you a brilliant introduction to dbatools. It's called dbatools in a Month of Lunches and you can find it at https://beard.media/book"
      ],
      "metadata": {
        "azdata_cell_guid": "c2e1450c-7c7f-4400-b427-e77c8afbc967"
      }
    },
    {
      "cell_type": "code",
      "source": [
        "## Lets look at the commands\n",
        "Get-Command -Module dbatools "
      ],
      "metadata": {
        "azdata_cell_guid": "4c5d55a6-203d-4a4f-9f3d-e4c21b4d6070"
      },
      "outputs": [
        {
          "name": "stdout",
          "text": "\r\n",
          "output_type": "stream"
        },
        {
          "name": "stdout",
          "text": "CommandType     Name                                               Version    Source\r\n",
          "output_type": "stream"
        },
        {
          "name": "stdout",
          "text": "-----------     ----                                               -------    ------\r\n",
          "output_type": "stream"
        },
        {
          "name": "stdout",
          "text": "Alias           Attach-DbaDatabase                                 1.0.113    dbatools\r\n",
          "output_type": "stream"
        },
        {
          "name": "stdout",
          "text": "Alias           Detach-DbaDatabase                                 1.0.113    dbatools\r\n",
          "output_type": "stream"
        },
        {
          "name": "stdout",
          "text": "Alias           Get-DbaDbModule                                    1.0.113    dbatools\r\n",
          "output_type": "stream"
        },
        {
          "name": "stdout",
          "text": "Alias           Get-DbaRegisteredServer                            1.0.113    dbatools\r\n",
          "output_type": "stream"
        },
        {
          "name": "stdout",
          "text": "Alias           Start-SqlMigration                                 1.0.113    dbatools\r\n",
          "output_type": "stream"
        },
        {
          "name": "stdout",
          "text": "Alias           Write-DbaDataTable                                 1.0.113    dbatools\r\n",
          "output_type": "stream"
        },
        {
          "name": "stdout",
          "text": "Function        Add-DbaAgDatabase                                  1.0.113    dbatools\r\n",
          "output_type": "stream"
        },
        {
          "name": "stdout",
          "text": "Function        Add-DbaAgListener                                  1.0.113    dbatools\r\n",
          "output_type": "stream"
        },
        {
          "name": "stdout",
          "text": "Function        Add-DbaAgReplica                                   1.0.113    dbatools\r\n",
          "output_type": "stream"
        },
        {
          "name": "stdout",
          "text": "Function        Add-DbaComputerCertificate                         1.0.113    dbatools\r\n",
          "output_type": "stream"
        },
        {
          "name": "stdout",
          "text": "Function        Add-DbaDbMirrorMonitor                             1.0.113    dbatools\r\n",
          "output_type": "stream"
        },
        {
          "name": "stdout",
          "text": "Function        Add-DbaDbRoleMember                                1.0.113    dbatools\r\n",
          "output_type": "stream"
        },
        {
          "name": "stdout",
          "text": "Function        Add-DbaPfDataCollectorCounter                      1.0.113    dbatools\r\n",
          "output_type": "stream"
        },
        {
          "name": "stdout",
          "text": "Function        Add-DbaRegServer                                   1.0.113    dbatools\r\n",
          "output_type": "stream"
        },
        {
          "name": "stdout",
          "text": "Function        Add-DbaRegServerGroup                              1.0.113    dbatools\r\n",
          "output_type": "stream"
        },
        {
          "name": "stdout",
          "text": "Function        Add-DbaServerRoleMember                            1.0.113    dbatools\r\n",
          "output_type": "stream"
        },
        {
          "name": "stdout",
          "text": "Function        Backup-DbaComputerCertificate                      1.0.113    dbatools\r\n",
          "output_type": "stream"
        },
        {
          "name": "stdout",
          "text": "Function        Backup-DbaDatabase                                 1.0.113    dbatools\r\n",
          "output_type": "stream"
        },
        {
          "name": "stdout",
          "text": "Function        Backup-DbaDbCertificate                            1.0.113    dbatools\r\n",
          "output_type": "stream"
        },
        {
          "name": "stdout",
          "text": "Function        Backup-DbaDbMasterKey                              1.0.113    dbatools\r\n",
          "output_type": "stream"
        },
        {
          "name": "stdout",
          "text": "Function        Backup-DbaServiceMasterKey                         1.0.113    dbatools\r\n",
          "output_type": "stream"
        },
        {
          "name": "stdout",
          "text": "Function        Clear-DbaConnectionPool                            1.0.113    dbatools\r\n",
          "output_type": "stream"
        },
        {
          "name": "stdout",
          "text": "Function        Clear-DbaLatchStatistics                           1.0.113    dbatools\r\n",
          "output_type": "stream"
        },
        {
          "name": "stdout",
          "text": "Function        Clear-DbaPlanCache                                 1.0.113    dbatools\r\n",
          "output_type": "stream"
        },
        {
          "name": "stdout",
          "text": "Function        Clear-DbaWaitStatistics                            1.0.113    dbatools\r\n",
          "output_type": "stream"
        },
        {
          "name": "stdout",
          "text": "Function        Connect-DbaInstance                                1.0.113    dbatools\r\n",
          "output_type": "stream"
        },
        {
          "name": "stdout",
          "text": "Function        ConvertTo-DbaDataTable                             1.0.113    dbatools\r\n",
          "output_type": "stream"
        },
        {
          "name": "stdout",
          "text": "Function        ConvertTo-DbaTimeline                              1.0.113    dbatools\r\n",
          "output_type": "stream"
        },
        {
          "name": "stdout",
          "text": "Function        ConvertTo-DbaXESession                             1.0.113    dbatools\r\n",
          "output_type": "stream"
        },
        {
          "name": "stdout",
          "text": "Function        Copy-DbaAgentAlert                                 1.0.113    dbatools\r\n",
          "output_type": "stream"
        },
        {
          "name": "stdout",
          "text": "Function        Copy-DbaAgentJob                                   1.0.113    dbatools\r\n",
          "output_type": "stream"
        },
        {
          "name": "stdout",
          "text": "Function        Copy-DbaAgentJobCategory                           1.0.113    dbatools\r\n",
          "output_type": "stream"
        },
        {
          "name": "stdout",
          "text": "Function        Copy-DbaAgentOperator                              1.0.113    dbatools\r\n",
          "output_type": "stream"
        },
        {
          "name": "stdout",
          "text": "Function        Copy-DbaAgentProxy                                 1.0.113    dbatools\r\n",
          "output_type": "stream"
        },
        {
          "name": "stdout",
          "text": "Function        Copy-DbaAgentSchedule                              1.0.113    dbatools\r\n",
          "output_type": "stream"
        },
        {
          "name": "stdout",
          "text": "Function        Copy-DbaAgentServer                                1.0.113    dbatools\r\n",
          "output_type": "stream"
        },
        {
          "name": "stdout",
          "text": "Function        Copy-DbaBackupDevice                               1.0.113    dbatools\r\n",
          "output_type": "stream"
        },
        {
          "name": "stdout",
          "text": "Function        Copy-DbaCredential                                 1.0.113    dbatools\r\n",
          "output_type": "stream"
        },
        {
          "name": "stdout",
          "text": "Function        Copy-DbaCustomError                                1.0.113    dbatools\r\n",
          "output_type": "stream"
        },
        {
          "name": "stdout",
          "text": "Function        Copy-DbaDatabase                                   1.0.113    dbatools\r\n",
          "output_type": "stream"
        },
        {
          "name": "stdout",
          "text": "Function        Copy-DbaDbAssembly                                 1.0.113    dbatools\r\n",
          "output_type": "stream"
        },
        {
          "name": "stdout",
          "text": "Function        Copy-DbaDbMail                                     1.0.113    dbatools\r\n",
          "output_type": "stream"
        },
        {
          "name": "stdout",
          "text": "Function        Copy-DbaDbQueryStoreOption                         1.0.113    dbatools\r\n",
          "output_type": "stream"
        },
        {
          "name": "stdout",
          "text": "Function        Copy-DbaDbTableData                                1.0.113    dbatools\r\n",
          "output_type": "stream"
        },
        {
          "name": "stdout",
          "text": "Function        Copy-DbaDbViewData                                 1.0.113    dbatools\r\n",
          "output_type": "stream"
        },
        {
          "name": "stdout",
          "text": "Function        Copy-DbaEndpoint                                   1.0.113    dbatools\r\n",
          "output_type": "stream"
        },
        {
          "name": "stdout",
          "text": "Function        Copy-DbaInstanceAudit                              1.0.113    dbatools\r\n",
          "output_type": "stream"
        },
        {
          "name": "stdout",
          "text": "Function        Copy-DbaInstanceAuditSpecification                 1.0.113    dbatools\r\n",
          "output_type": "stream"
        },
        {
          "name": "stdout",
          "text": "Function        Copy-DbaInstanceTrigger                            1.0.113    dbatools\r\n",
          "output_type": "stream"
        },
        {
          "name": "stdout",
          "text": "Function        Copy-DbaLinkedServer                               1.0.113    dbatools\r\n",
          "output_type": "stream"
        },
        {
          "name": "stdout",
          "text": "Function        Copy-DbaLogin                                      1.0.113    dbatools\r\n",
          "output_type": "stream"
        },
        {
          "name": "stdout",
          "text": "Function        Copy-DbaRegServer                                  1.0.113    dbatools\r\n",
          "output_type": "stream"
        },
        {
          "name": "stdout",
          "text": "Function        Copy-DbaResourceGovernor                           1.0.113    dbatools\r\n",
          "output_type": "stream"
        },
        {
          "name": "stdout",
          "text": "Function        Copy-DbaSpConfigure                                1.0.113    dbatools\r\n",
          "output_type": "stream"
        },
        {
          "name": "stdout",
          "text": "Function        Copy-DbaStartupProcedure                           1.0.113    dbatools\r\n",
          "output_type": "stream"
        },
        {
          "name": "stdout",
          "text": "Function        Copy-DbaSysDbUserObject                            1.0.113    dbatools\r\n",
          "output_type": "stream"
        },
        {
          "name": "stdout",
          "text": "Function        Copy-DbaXESession                                  1.0.113    dbatools\r\n",
          "output_type": "stream"
        },
        {
          "name": "stdout",
          "text": "Function        Copy-DbaXESessionTemplate                          1.0.113    dbatools\r\n",
          "output_type": "stream"
        },
        {
          "name": "stdout",
          "text": "Function        Disable-DbaAgHadr                                  1.0.113    dbatools\r\n",
          "output_type": "stream"
        },
        {
          "name": "stdout",
          "text": "Function        Disable-DbaFilestream                              1.0.113    dbatools\r\n",
          "output_type": "stream"
        },
        {
          "name": "stdout",
          "text": "Function        Disable-DbaForceNetworkEncryption                  1.0.113    dbatools\r\n",
          "output_type": "stream"
        },
        {
          "name": "stdout",
          "text": "Function        Disable-DbaHideInstance                            1.0.113    dbatools\r\n",
          "output_type": "stream"
        },
        {
          "name": "stdout",
          "text": "Function        Disable-DbaStartupProcedure                        1.0.113    dbatools\r\n",
          "output_type": "stream"
        },
        {
          "name": "stdout",
          "text": "Function        Disable-DbaTraceFlag                               1.0.113    dbatools\r\n",
          "output_type": "stream"
        },
        {
          "name": "stdout",
          "text": "Function        Dismount-DbaDatabase                               1.0.113    dbatools\r\n",
          "output_type": "stream"
        },
        {
          "name": "stdout",
          "text": "Function        Enable-DbaAgHadr                                   1.0.113    dbatools\r\n",
          "output_type": "stream"
        },
        {
          "name": "stdout",
          "text": "Function        Enable-DbaFilestream                               1.0.113    dbatools\r\n",
          "output_type": "stream"
        },
        {
          "name": "stdout",
          "text": "Function        Enable-DbaForceNetworkEncryption                   1.0.113    dbatools\r\n",
          "output_type": "stream"
        },
        {
          "name": "stdout",
          "text": "Function        Enable-DbaHideInstance                             1.0.113    dbatools\r\n",
          "output_type": "stream"
        },
        {
          "name": "stdout",
          "text": "Function        Enable-DbaStartupProcedure                         1.0.113    dbatools\r\n",
          "output_type": "stream"
        },
        {
          "name": "stdout",
          "text": "Function        Enable-DbaTraceFlag                                1.0.113    dbatools\r\n",
          "output_type": "stream"
        },
        {
          "name": "stdout",
          "text": "Function        Expand-DbaDbLogFile                                1.0.113    dbatools\r\n",
          "output_type": "stream"
        },
        {
          "name": "stdout",
          "text": "Function        Export-DbaCredential                               1.0.113    dbatools\r\n",
          "output_type": "stream"
        },
        {
          "name": "stdout",
          "text": "Function        Export-DbaDacPackage                               1.0.113    dbatools\r\n",
          "output_type": "stream"
        },
        {
          "name": "stdout",
          "text": "Function        Export-DbaDbRole                                   1.0.113    dbatools\r\n",
          "output_type": "stream"
        },
        {
          "name": "stdout",
          "text": "Function        Export-DbaDbTableData                              1.0.113    dbatools\r\n",
          "output_type": "stream"
        },
        {
          "name": "stdout",
          "text": "Function        Export-DbaDiagnosticQuery                          1.0.113    dbatools\r\n",
          "output_type": "stream"
        },
        {
          "name": "stdout",
          "text": "Function        Export-DbaExecutionPlan                            1.0.113    dbatools\r\n",
          "output_type": "stream"
        },
        {
          "name": "stdout",
          "text": "Function        Export-DbaInstance                                 1.0.113    dbatools\r\n",
          "output_type": "stream"
        },
        {
          "name": "stdout",
          "text": "Function        Export-DbaLinkedServer                             1.0.113    dbatools\r\n",
          "output_type": "stream"
        },
        {
          "name": "stdout",
          "text": "Function        Export-DbaLogin                                    1.0.113    dbatools\r\n",
          "output_type": "stream"
        },
        {
          "name": "stdout",
          "text": "Function        Export-DbaPfDataCollectorSetTemplate               1.0.113    dbatools\r\n",
          "output_type": "stream"
        },
        {
          "name": "stdout",
          "text": "Function        Export-DbaRegServer                                1.0.113    dbatools\r\n",
          "output_type": "stream"
        },
        {
          "name": "stdout",
          "text": "Function        Export-DbaScript                                   1.0.113    dbatools\r\n",
          "output_type": "stream"
        },
        {
          "name": "stdout",
          "text": "Function        Export-DbaServerRole                               1.0.113    dbatools\r\n",
          "output_type": "stream"
        },
        {
          "name": "stdout",
          "text": "Function        Export-DbaSpConfigure                              1.0.113    dbatools\r\n",
          "output_type": "stream"
        },
        {
          "name": "stdout",
          "text": "Function        Export-DbatoolsConfig                              1.0.113    dbatools\r\n",
          "output_type": "stream"
        },
        {
          "name": "stdout",
          "text": "Function        Export-DbaXECsv                                    1.0.113    dbatools\r\n",
          "output_type": "stream"
        },
        {
          "name": "stdout",
          "text": "Function        Export-DbaXESession                                1.0.113    dbatools\r\n",
          "output_type": "stream"
        },
        {
          "name": "stdout",
          "text": "Function        Export-DbaXESessionTemplate                        1.0.113    dbatools\r\n",
          "output_type": "stream"
        },
        {
          "name": "stdout",
          "text": "Function        Find-DbaAgentJob                                   1.0.113    dbatools\r\n",
          "output_type": "stream"
        },
        {
          "name": "stdout",
          "text": "Function        Find-DbaBackup                                     1.0.113    dbatools\r\n",
          "output_type": "stream"
        },
        {
          "name": "stdout",
          "text": "Function        Find-DbaCommand                                    1.0.113    dbatools\r\n",
          "output_type": "stream"
        },
        {
          "name": "stdout",
          "text": "Function        Find-DbaDatabase                                   1.0.113    dbatools\r\n",
          "output_type": "stream"
        },
        {
          "name": "stdout",
          "text": "Function        Find-DbaDbDisabledIndex                            1.0.113    dbatools\r\n",
          "output_type": "stream"
        },
        {
          "name": "stdout",
          "text": "Function        Find-DbaDbDuplicateIndex                           1.0.113    dbatools\r\n",
          "output_type": "stream"
        },
        {
          "name": "stdout",
          "text": "Function        Find-DbaDbGrowthEvent                              1.0.113    dbatools\r\n",
          "output_type": "stream"
        },
        {
          "name": "stdout",
          "text": "Function        Find-DbaDbUnusedIndex                              1.0.113    dbatools\r\n",
          "output_type": "stream"
        },
        {
          "name": "stdout",
          "text": "Function        Find-DbaInstance                                   1.0.113    dbatools\r\n",
          "output_type": "stream"
        },
        {
          "name": "stdout",
          "text": "Function        Find-DbaLoginInGroup                               1.0.113    dbatools\r\n",
          "output_type": "stream"
        },
        {
          "name": "stdout",
          "text": "Function        Find-DbaOrphanedFile                               1.0.113    dbatools\r\n",
          "output_type": "stream"
        },
        {
          "name": "stdout",
          "text": "Function        Find-DbaSimilarTable                               1.0.113    dbatools\r\n",
          "output_type": "stream"
        },
        {
          "name": "stdout",
          "text": "Function        Find-DbaStoredProcedure                            1.0.113    dbatools\r\n",
          "output_type": "stream"
        },
        {
          "name": "stdout",
          "text": "Function        Find-DbaTrigger                                    1.0.113    dbatools\r\n",
          "output_type": "stream"
        },
        {
          "name": "stdout",
          "text": "Function        Find-DbaUserObject                                 1.0.113    dbatools\r\n",
          "output_type": "stream"
        },
        {
          "name": "stdout",
          "text": "Function        Find-DbaView                                       1.0.113    dbatools\r\n",
          "output_type": "stream"
        },
        {
          "name": "stdout",
          "text": "Function        Format-DbaBackupInformation                        1.0.113    dbatools\r\n",
          "output_type": "stream"
        },
        {
          "name": "stdout",
          "text": "Function        Get-DbaAgDatabase                                  1.0.113    dbatools\r\n",
          "output_type": "stream"
        },
        {
          "name": "stdout",
          "text": "Function        Get-DbaAgentAlert                                  1.0.113    dbatools\r\n",
          "output_type": "stream"
        },
        {
          "name": "stdout",
          "text": "Function        Get-DbaAgentAlertCategory                          1.0.113    dbatools\r\n",
          "output_type": "stream"
        },
        {
          "name": "stdout",
          "text": "Function        Get-DbaAgentJob                                    1.0.113    dbatools\r\n",
          "output_type": "stream"
        },
        {
          "name": "stdout",
          "text": "Function        Get-DbaAgentJobCategory                            1.0.113    dbatools\r\n",
          "output_type": "stream"
        },
        {
          "name": "stdout",
          "text": "Function        Get-DbaAgentJobHistory                             1.0.113    dbatools\r\n",
          "output_type": "stream"
        },
        {
          "name": "stdout",
          "text": "Function        Get-DbaAgentJobOutputFile                          1.0.113    dbatools\r\n",
          "output_type": "stream"
        },
        {
          "name": "stdout",
          "text": "Function        Get-DbaAgentJobStep                                1.0.113    dbatools\r\n",
          "output_type": "stream"
        },
        {
          "name": "stdout",
          "text": "Function        Get-DbaAgentLog                                    1.0.113    dbatools\r\n",
          "output_type": "stream"
        },
        {
          "name": "stdout",
          "text": "Function        Get-DbaAgentOperator                               1.0.113    dbatools\r\n",
          "output_type": "stream"
        },
        {
          "name": "stdout",
          "text": "Function        Get-DbaAgentProxy                                  1.0.113    dbatools\r\n",
          "output_type": "stream"
        },
        {
          "name": "stdout",
          "text": "Function        Get-DbaAgentSchedule                               1.0.113    dbatools\r\n",
          "output_type": "stream"
        },
        {
          "name": "stdout",
          "text": "Function        Get-DbaAgentServer                                 1.0.113    dbatools\r\n",
          "output_type": "stream"
        },
        {
          "name": "stdout",
          "text": "Function        Get-DbaAgHadr                                      1.0.113    dbatools\r\n",
          "output_type": "stream"
        },
        {
          "name": "stdout",
          "text": "Function        Get-DbaAgListener                                  1.0.113    dbatools\r\n",
          "output_type": "stream"
        },
        {
          "name": "stdout",
          "text": "Function        Get-DbaAgReplica                                   1.0.113    dbatools\r\n",
          "output_type": "stream"
        },
        {
          "name": "stdout",
          "text": "Function        Get-DbaAvailabilityGroup                           1.0.113    dbatools\r\n",
          "output_type": "stream"
        },
        {
          "name": "stdout",
          "text": "Function        Get-DbaAvailableCollation                          1.0.113    dbatools\r\n",
          "output_type": "stream"
        },
        {
          "name": "stdout",
          "text": "Function        Get-DbaBackupDevice                                1.0.113    dbatools\r\n",
          "output_type": "stream"
        },
        {
          "name": "stdout",
          "text": "Function        Get-DbaBackupInformation                           1.0.113    dbatools\r\n",
          "output_type": "stream"
        },
        {
          "name": "stdout",
          "text": "Function        Get-DbaBuildReference                              1.0.113    dbatools\r\n",
          "output_type": "stream"
        },
        {
          "name": "stdout",
          "text": "Function        Get-DbaClientAlias                                 1.0.113    dbatools\r\n",
          "output_type": "stream"
        },
        {
          "name": "stdout",
          "text": "Function        Get-DbaClientProtocol                              1.0.113    dbatools\r\n",
          "output_type": "stream"
        },
        {
          "name": "stdout",
          "text": "Function        Get-DbaCmConnection                                1.0.113    dbatools\r\n",
          "output_type": "stream"
        },
        {
          "name": "stdout",
          "text": "Function        Get-DbaCmObject                                    1.0.113    dbatools\r\n",
          "output_type": "stream"
        },
        {
          "name": "stdout",
          "text": "Function        Get-DbaComputerCertificate                         1.0.113    dbatools\r\n",
          "output_type": "stream"
        },
        {
          "name": "stdout",
          "text": "Function        Get-DbaComputerSystem                              1.0.113    dbatools\r\n",
          "output_type": "stream"
        },
        {
          "name": "stdout",
          "text": "Function        Get-DbaConnection                                  1.0.113    dbatools\r\n",
          "output_type": "stream"
        },
        {
          "name": "stdout",
          "text": "Function        Get-DbaCpuRingBuffer                               1.0.113    dbatools\r\n",
          "output_type": "stream"
        },
        {
          "name": "stdout",
          "text": "Function        Get-DbaCpuUsage                                    1.0.113    dbatools\r\n",
          "output_type": "stream"
        },
        {
          "name": "stdout",
          "text": "Function        Get-DbaCredential                                  1.0.113    dbatools\r\n",
          "output_type": "stream"
        },
        {
          "name": "stdout",
          "text": "Function        Get-DbaCustomError                                 1.0.113    dbatools\r\n",
          "output_type": "stream"
        },
        {
          "name": "stdout",
          "text": "Function        Get-DbaDatabase                                    1.0.113    dbatools\r\n",
          "output_type": "stream"
        },
        {
          "name": "stdout",
          "text": "Function        Get-DbaDbAssembly                                  1.0.113    dbatools\r\n",
          "output_type": "stream"
        },
        {
          "name": "stdout",
          "text": "Function        Get-DbaDbAsymmetricKey                             1.0.113    dbatools\r\n",
          "output_type": "stream"
        },
        {
          "name": "stdout",
          "text": "Function        Get-DbaDbBackupHistory                             1.0.113    dbatools\r\n",
          "output_type": "stream"
        },
        {
          "name": "stdout",
          "text": "Function        Get-DbaDbccHelp                                    1.0.113    dbatools\r\n",
          "output_type": "stream"
        },
        {
          "name": "stdout",
          "text": "Function        Get-DbaDbccMemoryStatus                            1.0.113    dbatools\r\n",
          "output_type": "stream"
        },
        {
          "name": "stdout",
          "text": "Function        Get-DbaDbccProcCache                               1.0.113    dbatools\r\n",
          "output_type": "stream"
        },
        {
          "name": "stdout",
          "text": "Function        Get-DbaDbccSessionBuffer                           1.0.113    dbatools\r\n",
          "output_type": "stream"
        },
        {
          "name": "stdout",
          "text": "Function        Get-DbaDbccStatistic                               1.0.113    dbatools\r\n",
          "output_type": "stream"
        },
        {
          "name": "stdout",
          "text": "Function        Get-DbaDbccUserOption                              1.0.113    dbatools\r\n",
          "output_type": "stream"
        },
        {
          "name": "stdout",
          "text": "Function        Get-DbaDbCertificate                               1.0.113    dbatools\r\n",
          "output_type": "stream"
        },
        {
          "name": "stdout",
          "text": "Function        Get-DbaDbCheckConstraint                           1.0.113    dbatools\r\n",
          "output_type": "stream"
        },
        {
          "name": "stdout",
          "text": "Function        Get-DbaDbCompatibility                             1.0.113    dbatools\r\n",
          "output_type": "stream"
        },
        {
          "name": "stdout",
          "text": "Function        Get-DbaDbCompression                               1.0.113    dbatools\r\n",
          "output_type": "stream"
        },
        {
          "name": "stdout",
          "text": "Function        Get-DbaDbDbccOpenTran                              1.0.113    dbatools\r\n",
          "output_type": "stream"
        },
        {
          "name": "stdout",
          "text": "Function        Get-DbaDbDetachedFileInfo                          1.0.113    dbatools\r\n",
          "output_type": "stream"
        },
        {
          "name": "stdout",
          "text": "Function        Get-DbaDbEncryption                                1.0.113    dbatools\r\n",
          "output_type": "stream"
        },
        {
          "name": "stdout",
          "text": "Function        Get-DbaDbExtentDiff                                1.0.113    dbatools\r\n",
          "output_type": "stream"
        },
        {
          "name": "stdout",
          "text": "Function        Get-DbaDbFeatureUsage                              1.0.113    dbatools\r\n",
          "output_type": "stream"
        },
        {
          "name": "stdout",
          "text": "Function        Get-DbaDbFile                                      1.0.113    dbatools\r\n",
          "output_type": "stream"
        },
        {
          "name": "stdout",
          "text": "Function        Get-DbaDbFileGroup                                 1.0.113    dbatools\r\n",
          "output_type": "stream"
        },
        {
          "name": "stdout",
          "text": "Function        Get-DbaDbForeignKey                                1.0.113    dbatools\r\n",
          "output_type": "stream"
        },
        {
          "name": "stdout",
          "text": "Function        Get-DbaDbIdentity                                  1.0.113    dbatools\r\n",
          "output_type": "stream"
        },
        {
          "name": "stdout",
          "text": "Function        Get-DbaDbLogShipError                              1.0.113    dbatools\r\n",
          "output_type": "stream"
        },
        {
          "name": "stdout",
          "text": "Function        Get-DbaDbLogSpace                                  1.0.113    dbatools\r\n",
          "output_type": "stream"
        },
        {
          "name": "stdout",
          "text": "Function        Get-DbaDbMail                                      1.0.113    dbatools\r\n",
          "output_type": "stream"
        },
        {
          "name": "stdout",
          "text": "Function        Get-DbaDbMailAccount                               1.0.113    dbatools\r\n",
          "output_type": "stream"
        },
        {
          "name": "stdout",
          "text": "Function        Get-DbaDbMailConfig                                1.0.113    dbatools\r\n",
          "output_type": "stream"
        },
        {
          "name": "stdout",
          "text": "Function        Get-DbaDbMailHistory                               1.0.113    dbatools\r\n",
          "output_type": "stream"
        },
        {
          "name": "stdout",
          "text": "Function        Get-DbaDbMailLog                                   1.0.113    dbatools\r\n",
          "output_type": "stream"
        },
        {
          "name": "stdout",
          "text": "Function        Get-DbaDbMailProfile                               1.0.113    dbatools\r\n",
          "output_type": "stream"
        },
        {
          "name": "stdout",
          "text": "Function        Get-DbaDbMailServer                                1.0.113    dbatools\r\n",
          "output_type": "stream"
        },
        {
          "name": "stdout",
          "text": "Function        Get-DbaDbMasterKey                                 1.0.113    dbatools\r\n",
          "output_type": "stream"
        },
        {
          "name": "stdout",
          "text": "Function        Get-DbaDbMemoryUsage                               1.0.113    dbatools\r\n",
          "output_type": "stream"
        },
        {
          "name": "stdout",
          "text": "Function        Get-DbaDbMirror                                    1.0.113    dbatools\r\n",
          "output_type": "stream"
        },
        {
          "name": "stdout",
          "text": "Function        Get-DbaDbMirrorMonitor                             1.0.113    dbatools\r\n",
          "output_type": "stream"
        },
        {
          "name": "stdout",
          "text": "Function        Get-DbaDbObjectTrigger                             1.0.113    dbatools\r\n",
          "output_type": "stream"
        },
        {
          "name": "stdout",
          "text": "Function        Get-DbaDbOrphanUser                                1.0.113    dbatools\r\n",
          "output_type": "stream"
        },
        {
          "name": "stdout",
          "text": "Function        Get-DbaDbPageInfo                                  1.0.113    dbatools\r\n",
          "output_type": "stream"
        },
        {
          "name": "stdout",
          "text": "Function        Get-DbaDbPartitionFunction                         1.0.113    dbatools\r\n",
          "output_type": "stream"
        },
        {
          "name": "stdout",
          "text": "Function        Get-DbaDbPartitionScheme                           1.0.113    dbatools\r\n",
          "output_type": "stream"
        },
        {
          "name": "stdout",
          "text": "Function        Get-DbaDbQueryStoreOption                          1.0.113    dbatools\r\n",
          "output_type": "stream"
        },
        {
          "name": "stdout",
          "text": "Function        Get-DbaDbRecoveryModel                             1.0.113    dbatools\r\n",
          "output_type": "stream"
        },
        {
          "name": "stdout",
          "text": "Function        Get-DbaDbRestoreHistory                            1.0.113    dbatools\r\n",
          "output_type": "stream"
        },
        {
          "name": "stdout",
          "text": "Function        Get-DbaDbRole                                      1.0.113    dbatools\r\n",
          "output_type": "stream"
        },
        {
          "name": "stdout",
          "text": "Function        Get-DbaDbRoleMember                                1.0.113    dbatools\r\n",
          "output_type": "stream"
        },
        {
          "name": "stdout",
          "text": "Function        Get-DbaDbSharePoint                                1.0.113    dbatools\r\n",
          "output_type": "stream"
        },
        {
          "name": "stdout",
          "text": "Function        Get-DbaDbSnapshot                                  1.0.113    dbatools\r\n",
          "output_type": "stream"
        },
        {
          "name": "stdout",
          "text": "Function        Get-DbaDbSpace                                     1.0.113    dbatools\r\n",
          "output_type": "stream"
        },
        {
          "name": "stdout",
          "text": "Function        Get-DbaDbState                                     1.0.113    dbatools\r\n",
          "output_type": "stream"
        },
        {
          "name": "stdout",
          "text": "Function        Get-DbaDbStoredProcedure                           1.0.113    dbatools\r\n",
          "output_type": "stream"
        },
        {
          "name": "stdout",
          "text": "Function        Get-DbaDbTable                                     1.0.113    dbatools\r\n",
          "output_type": "stream"
        },
        {
          "name": "stdout",
          "text": "Function        Get-DbaDbTrigger                                   1.0.113    dbatools\r\n",
          "output_type": "stream"
        },
        {
          "name": "stdout",
          "text": "Function        Get-DbaDbUdf                                       1.0.113    dbatools\r\n",
          "output_type": "stream"
        },
        {
          "name": "stdout",
          "text": "Function        Get-DbaDbUser                                      1.0.113    dbatools\r\n",
          "output_type": "stream"
        },
        {
          "name": "stdout",
          "text": "Function        Get-DbaDbView                                      1.0.113    dbatools\r\n",
          "output_type": "stream"
        },
        {
          "name": "stdout",
          "text": "Function        Get-DbaDbVirtualLogFile                            1.0.113    dbatools\r\n",
          "output_type": "stream"
        },
        {
          "name": "stdout",
          "text": "Function        Get-DbaDefaultPath                                 1.0.113    dbatools\r\n",
          "output_type": "stream"
        },
        {
          "name": "stdout",
          "text": "Function        Get-DbaDependency                                  1.0.113    dbatools\r\n",
          "output_type": "stream"
        },
        {
          "name": "stdout",
          "text": "Function        Get-DbaDeprecatedFeature                           1.0.113    dbatools\r\n",
          "output_type": "stream"
        },
        {
          "name": "stdout",
          "text": "Function        Get-DbaDiskSpace                                   1.0.113    dbatools\r\n",
          "output_type": "stream"
        },
        {
          "name": "stdout",
          "text": "Function        Get-DbaDump                                        1.0.113    dbatools\r\n",
          "output_type": "stream"
        },
        {
          "name": "stdout",
          "text": "Function        Get-DbaEndpoint                                    1.0.113    dbatools\r\n",
          "output_type": "stream"
        },
        {
          "name": "stdout",
          "text": "Function        Get-DbaErrorLog                                    1.0.113    dbatools\r\n",
          "output_type": "stream"
        },
        {
          "name": "stdout",
          "text": "Function        Get-DbaErrorLogConfig                              1.0.113    dbatools\r\n",
          "output_type": "stream"
        },
        {
          "name": "stdout",
          "text": "Function        Get-DbaEstimatedCompletionTime                     1.0.113    dbatools\r\n",
          "output_type": "stream"
        },
        {
          "name": "stdout",
          "text": "Function        Get-DbaExecutionPlan                               1.0.113    dbatools\r\n",
          "output_type": "stream"
        },
        {
          "name": "stdout",
          "text": "Function        Get-DbaExtendedProtection                          1.0.113    dbatools\r\n",
          "output_type": "stream"
        },
        {
          "name": "stdout",
          "text": "Function        Get-DbaFeature                                     1.0.113    dbatools\r\n",
          "output_type": "stream"
        },
        {
          "name": "stdout",
          "text": "Function        Get-DbaFile                                        1.0.113    dbatools\r\n",
          "output_type": "stream"
        },
        {
          "name": "stdout",
          "text": "Function        Get-DbaFilestream                                  1.0.113    dbatools\r\n",
          "output_type": "stream"
        },
        {
          "name": "stdout",
          "text": "Function        Get-DbaForceNetworkEncryption                      1.0.113    dbatools\r\n",
          "output_type": "stream"
        },
        {
          "name": "stdout",
          "text": "Function        Get-DbaHelpIndex                                   1.0.113    dbatools\r\n",
          "output_type": "stream"
        },
        {
          "name": "stdout",
          "text": "Function        Get-DbaHideInstance                                1.0.113    dbatools\r\n",
          "output_type": "stream"
        },
        {
          "name": "stdout",
          "text": "Function        Get-DbaInstanceAudit                               1.0.113    dbatools\r\n",
          "output_type": "stream"
        },
        {
          "name": "stdout",
          "text": "Function        Get-DbaInstanceAuditSpecification                  1.0.113    dbatools\r\n",
          "output_type": "stream"
        },
        {
          "name": "stdout",
          "text": "Function        Get-DbaInstanceInstallDate                         1.0.113    dbatools\r\n",
          "output_type": "stream"
        },
        {
          "name": "stdout",
          "text": "Function        Get-DbaInstanceProperty                            1.0.113    dbatools\r\n",
          "output_type": "stream"
        },
        {
          "name": "stdout",
          "text": "Function        Get-DbaInstanceProtocol                            1.0.113    dbatools\r\n",
          "output_type": "stream"
        },
        {
          "name": "stdout",
          "text": "Function        Get-DbaInstanceTrigger                             1.0.113    dbatools\r\n",
          "output_type": "stream"
        },
        {
          "name": "stdout",
          "text": "Function        Get-DbaInstanceUserOption                          1.0.113    dbatools\r\n",
          "output_type": "stream"
        },
        {
          "name": "stdout",
          "text": "Function        Get-DbaIoLatency                                   1.0.113    dbatools\r\n",
          "output_type": "stream"
        },
        {
          "name": "stdout",
          "text": "Function        Get-DbaKbUpdate                                    1.0.113    dbatools\r\n",
          "output_type": "stream"
        },
        {
          "name": "stdout",
          "text": "Function        Get-DbaLastBackup                                  1.0.113    dbatools\r\n",
          "output_type": "stream"
        },
        {
          "name": "stdout",
          "text": "Function        Get-DbaLastGoodCheckDb                             1.0.113    dbatools\r\n",
          "output_type": "stream"
        },
        {
          "name": "stdout",
          "text": "Function        Get-DbaLatchStatistic                              1.0.113    dbatools\r\n",
          "output_type": "stream"
        },
        {
          "name": "stdout",
          "text": "Function        Get-DbaLinkedServer                                1.0.113    dbatools\r\n",
          "output_type": "stream"
        },
        {
          "name": "stdout",
          "text": "Function        Get-DbaLocaleSetting                               1.0.113    dbatools\r\n",
          "output_type": "stream"
        },
        {
          "name": "stdout",
          "text": "Function        Get-DbaLogin                                       1.0.113    dbatools\r\n",
          "output_type": "stream"
        },
        {
          "name": "stdout",
          "text": "Function        Get-DbaMaintenanceSolutionLog                      1.0.113    dbatools\r\n",
          "output_type": "stream"
        },
        {
          "name": "stdout",
          "text": "Function        Get-DbaManagementObject                            1.0.113    dbatools\r\n",
          "output_type": "stream"
        },
        {
          "name": "stdout",
          "text": "Function        Get-DbaMaxMemory                                   1.0.113    dbatools\r\n",
          "output_type": "stream"
        },
        {
          "name": "stdout",
          "text": "Function        Get-DbaMemoryCondition                             1.0.113    dbatools\r\n",
          "output_type": "stream"
        },
        {
          "name": "stdout",
          "text": "Function        Get-DbaMemoryUsage                                 1.0.113    dbatools\r\n",
          "output_type": "stream"
        },
        {
          "name": "stdout",
          "text": "Function        Get-DbaModule                                      1.0.113    dbatools\r\n",
          "output_type": "stream"
        },
        {
          "name": "stdout",
          "text": "Function        Get-DbaMsdtc                                       1.0.113    dbatools\r\n",
          "output_type": "stream"
        },
        {
          "name": "stdout",
          "text": "Function        Get-DbaNetworkActivity                             1.0.113    dbatools\r\n",
          "output_type": "stream"
        },
        {
          "name": "stdout",
          "text": "Function        Get-DbaNetworkCertificate                          1.0.113    dbatools\r\n",
          "output_type": "stream"
        },
        {
          "name": "stdout",
          "text": "Function        Get-DbaOpenTransaction                             1.0.113    dbatools\r\n",
          "output_type": "stream"
        },
        {
          "name": "stdout",
          "text": "Function        Get-DbaOperatingSystem                             1.0.113    dbatools\r\n",
          "output_type": "stream"
        },
        {
          "name": "stdout",
          "text": "Function        Get-DbaPageFileSetting                             1.0.113    dbatools\r\n",
          "output_type": "stream"
        },
        {
          "name": "stdout",
          "text": "Function        Get-DbaPermission                                  1.0.113    dbatools\r\n",
          "output_type": "stream"
        },
        {
          "name": "stdout",
          "text": "Function        Get-DbaPfAvailableCounter                          1.0.113    dbatools\r\n",
          "output_type": "stream"
        },
        {
          "name": "stdout",
          "text": "Function        Get-DbaPfDataCollector                             1.0.113    dbatools\r\n",
          "output_type": "stream"
        },
        {
          "name": "stdout",
          "text": "Function        Get-DbaPfDataCollectorCounter                      1.0.113    dbatools\r\n",
          "output_type": "stream"
        },
        {
          "name": "stdout",
          "text": "Function        Get-DbaPfDataCollectorCounterSample                1.0.113    dbatools\r\n",
          "output_type": "stream"
        },
        {
          "name": "stdout",
          "text": "Function        Get-DbaPfDataCollectorSet                          1.0.113    dbatools\r\n",
          "output_type": "stream"
        },
        {
          "name": "stdout",
          "text": "Function        Get-DbaPfDataCollectorSetTemplate                  1.0.113    dbatools\r\n",
          "output_type": "stream"
        },
        {
          "name": "stdout",
          "text": "Function        Get-DbaPlanCache                                   1.0.113    dbatools\r\n",
          "output_type": "stream"
        },
        {
          "name": "stdout",
          "text": "Function        Get-DbaPowerPlan                                   1.0.113    dbatools\r\n",
          "output_type": "stream"
        },
        {
          "name": "stdout",
          "text": "Function        Get-DbaPrivilege                                   1.0.113    dbatools\r\n",
          "output_type": "stream"
        },
        {
          "name": "stdout",
          "text": "Function        Get-DbaProcess                                     1.0.113    dbatools\r\n",
          "output_type": "stream"
        },
        {
          "name": "stdout",
          "text": "Function        Get-DbaProductKey                                  1.0.113    dbatools\r\n",
          "output_type": "stream"
        },
        {
          "name": "stdout",
          "text": "Function        Get-DbaQueryExecutionTime                          1.0.113    dbatools\r\n",
          "output_type": "stream"
        },
        {
          "name": "stdout",
          "text": "Function        Get-DbaRandomizedDataset                           1.0.113    dbatools\r\n",
          "output_type": "stream"
        },
        {
          "name": "stdout",
          "text": "Function        Get-DbaRandomizedDatasetTemplate                   1.0.113    dbatools\r\n",
          "output_type": "stream"
        },
        {
          "name": "stdout",
          "text": "Function        Get-DbaRandomizedType                              1.0.113    dbatools\r\n",
          "output_type": "stream"
        },
        {
          "name": "stdout",
          "text": "Function        Get-DbaRandomizedValue                             1.0.113    dbatools\r\n",
          "output_type": "stream"
        },
        {
          "name": "stdout",
          "text": "Function        Get-DbaRegistryRoot                                1.0.113    dbatools\r\n",
          "output_type": "stream"
        },
        {
          "name": "stdout",
          "text": "Function        Get-DbaRegServer                                   1.0.113    dbatools\r\n",
          "output_type": "stream"
        },
        {
          "name": "stdout",
          "text": "Function        Get-DbaRegServerGroup                              1.0.113    dbatools\r\n",
          "output_type": "stream"
        },
        {
          "name": "stdout",
          "text": "Function        Get-DbaRegServerStore                              1.0.113    dbatools\r\n",
          "output_type": "stream"
        },
        {
          "name": "stdout",
          "text": "Function        Get-DbaResourceGovernor                            1.0.113    dbatools\r\n",
          "output_type": "stream"
        },
        {
          "name": "stdout",
          "text": "Function        Get-DbaRgClassifierFunction                        1.0.113    dbatools\r\n",
          "output_type": "stream"
        },
        {
          "name": "stdout",
          "text": "Function        Get-DbaRgResourcePool                              1.0.113    dbatools\r\n",
          "output_type": "stream"
        },
        {
          "name": "stdout",
          "text": "Function        Get-DbaRgWorkloadGroup                             1.0.113    dbatools\r\n",
          "output_type": "stream"
        },
        {
          "name": "stdout",
          "text": "Function        Get-DbaRunningJob                                  1.0.113    dbatools\r\n",
          "output_type": "stream"
        },
        {
          "name": "stdout",
          "text": "Function        Get-DbaSchemaChangeHistory                         1.0.113    dbatools\r\n",
          "output_type": "stream"
        },
        {
          "name": "stdout",
          "text": "Function        Get-DbaServerRole                                  1.0.113    dbatools\r\n",
          "output_type": "stream"
        },
        {
          "name": "stdout",
          "text": "Function        Get-DbaServerRoleMember                            1.0.113    dbatools\r\n",
          "output_type": "stream"
        },
        {
          "name": "stdout",
          "text": "Function        Get-DbaService                                     1.0.113    dbatools\r\n",
          "output_type": "stream"
        },
        {
          "name": "stdout",
          "text": "Function        Get-DbaSpConfigure                                 1.0.113    dbatools\r\n",
          "output_type": "stream"
        },
        {
          "name": "stdout",
          "text": "Function        Get-DbaSpinLockStatistic                           1.0.113    dbatools\r\n",
          "output_type": "stream"
        },
        {
          "name": "stdout",
          "text": "Function        Get-DbaSpn                                         1.0.113    dbatools\r\n",
          "output_type": "stream"
        },
        {
          "name": "stdout",
          "text": "Function        Get-DbaStartupParameter                            1.0.113    dbatools\r\n",
          "output_type": "stream"
        },
        {
          "name": "stdout",
          "text": "Function        Get-DbaStartupProcedure                            1.0.113    dbatools\r\n",
          "output_type": "stream"
        },
        {
          "name": "stdout",
          "text": "Function        Get-DbaSuspectPage                                 1.0.113    dbatools\r\n",
          "output_type": "stream"
        },
        {
          "name": "stdout",
          "text": "Function        Get-DbaTcpPort                                     1.0.113    dbatools\r\n",
          "output_type": "stream"
        },
        {
          "name": "stdout",
          "text": "Function        Get-DbaTempdbUsage                                 1.0.113    dbatools\r\n",
          "output_type": "stream"
        },
        {
          "name": "stdout",
          "text": "Function        Get-DbatoolsChangeLog                              1.0.113    dbatools\r\n",
          "output_type": "stream"
        },
        {
          "name": "stdout",
          "text": "Function        Get-DbatoolsConfig                                 1.0.113    dbatools\r\n",
          "output_type": "stream"
        },
        {
          "name": "stdout",
          "text": "Function        Get-DbatoolsConfigValue                            1.0.113    dbatools\r\n",
          "output_type": "stream"
        },
        {
          "name": "stdout",
          "text": "Function        Get-DbatoolsLog                                    1.0.113    dbatools\r\n",
          "output_type": "stream"
        },
        {
          "name": "stdout",
          "text": "Function        Get-DbatoolsPath                                   1.0.113    dbatools\r\n",
          "output_type": "stream"
        },
        {
          "name": "stdout",
          "text": "Function        Get-DbaTopResourceUsage                            1.0.113    dbatools\r\n",
          "output_type": "stream"
        },
        {
          "name": "stdout",
          "text": "Function        Get-DbaTrace                                       1.0.113    dbatools\r\n",
          "output_type": "stream"
        },
        {
          "name": "stdout",
          "text": "Function        Get-DbaTraceFlag                                   1.0.113    dbatools\r\n",
          "output_type": "stream"
        },
        {
          "name": "stdout",
          "text": "Function        Get-DbaUptime                                      1.0.113    dbatools\r\n",
          "output_type": "stream"
        },
        {
          "name": "stdout",
          "text": "Function        Get-DbaUserPermission                              1.0.113    dbatools\r\n",
          "output_type": "stream"
        },
        {
          "name": "stdout",
          "text": "Function        Get-DbaWaitingTask                                 1.0.113    dbatools\r\n",
          "output_type": "stream"
        },
        {
          "name": "stdout",
          "text": "Function        Get-DbaWaitResource                                1.0.113    dbatools\r\n",
          "output_type": "stream"
        },
        {
          "name": "stdout",
          "text": "Function        Get-DbaWaitStatistic                               1.0.113    dbatools\r\n",
          "output_type": "stream"
        },
        {
          "name": "stdout",
          "text": "Function        Get-DbaWindowsLog                                  1.0.113    dbatools\r\n",
          "output_type": "stream"
        },
        {
          "name": "stdout",
          "text": "Function        Get-DbaWsfcAvailableDisk                           1.0.113    dbatools\r\n",
          "output_type": "stream"
        },
        {
          "name": "stdout",
          "text": "Function        Get-DbaWsfcCluster                                 1.0.113    dbatools\r\n",
          "output_type": "stream"
        },
        {
          "name": "stdout",
          "text": "Function        Get-DbaWsfcDisk                                    1.0.113    dbatools\r\n",
          "output_type": "stream"
        },
        {
          "name": "stdout",
          "text": "Function        Get-DbaWsfcNetwork                                 1.0.113    dbatools\r\n",
          "output_type": "stream"
        },
        {
          "name": "stdout",
          "text": "Function        Get-DbaWsfcNetworkInterface                        1.0.113    dbatools\r\n",
          "output_type": "stream"
        },
        {
          "name": "stdout",
          "text": "Function        Get-DbaWsfcNode                                    1.0.113    dbatools\r\n",
          "output_type": "stream"
        },
        {
          "name": "stdout",
          "text": "Function        Get-DbaWsfcResource                                1.0.113    dbatools\r\n",
          "output_type": "stream"
        },
        {
          "name": "stdout",
          "text": "Function        Get-DbaWsfcResourceType                            1.0.113    dbatools\r\n",
          "output_type": "stream"
        },
        {
          "name": "stdout",
          "text": "Function        Get-DbaWsfcRole                                    1.0.113    dbatools\r\n",
          "output_type": "stream"
        },
        {
          "name": "stdout",
          "text": "Function        Get-DbaWsfcSharedVolume                            1.0.113    dbatools\r\n",
          "output_type": "stream"
        },
        {
          "name": "stdout",
          "text": "Function        Get-DbaXEObject                                    1.0.113    dbatools\r\n",
          "output_type": "stream"
        },
        {
          "name": "stdout",
          "text": "Function        Get-DbaXESession                                   1.0.113    dbatools\r\n",
          "output_type": "stream"
        },
        {
          "name": "stdout",
          "text": "Function        Get-DbaXESessionTarget                             1.0.113    dbatools\r\n",
          "output_type": "stream"
        },
        {
          "name": "stdout",
          "text": "Function        Get-DbaXESessionTargetFile                         1.0.113    dbatools\r\n",
          "output_type": "stream"
        },
        {
          "name": "stdout",
          "text": "Function        Get-DbaXESessionTemplate                           1.0.113    dbatools\r\n",
          "output_type": "stream"
        },
        {
          "name": "stdout",
          "text": "Function        Get-DbaXESmartTarget                               1.0.113    dbatools\r\n",
          "output_type": "stream"
        },
        {
          "name": "stdout",
          "text": "Function        Get-DbaXEStore                                     1.0.113    dbatools\r\n",
          "output_type": "stream"
        },
        {
          "name": "stdout",
          "text": "Function        Grant-DbaAgPermission                              1.0.113    dbatools\r\n",
          "output_type": "stream"
        },
        {
          "name": "stdout",
          "text": "Function        Import-DbaCsv                                      1.0.113    dbatools\r\n",
          "output_type": "stream"
        },
        {
          "name": "stdout",
          "text": "Function        Import-DbaPfDataCollectorSetTemplate               1.0.113    dbatools\r\n",
          "output_type": "stream"
        },
        {
          "name": "stdout",
          "text": "Function        Import-DbaRegServer                                1.0.113    dbatools\r\n",
          "output_type": "stream"
        },
        {
          "name": "stdout",
          "text": "Function        Import-DbaSpConfigure                              1.0.113    dbatools\r\n",
          "output_type": "stream"
        },
        {
          "name": "stdout",
          "text": "Function        Import-DbatoolsConfig                              1.0.113    dbatools\r\n",
          "output_type": "stream"
        },
        {
          "name": "stdout",
          "text": "Function        Import-DbaXESessionTemplate                        1.0.113    dbatools\r\n",
          "output_type": "stream"
        },
        {
          "name": "stdout",
          "text": "Function        Install-DbaFirstResponderKit                       1.0.113    dbatools\r\n",
          "output_type": "stream"
        },
        {
          "name": "stdout",
          "text": "Function        Install-DbaInstance                                1.0.113    dbatools\r\n",
          "output_type": "stream"
        },
        {
          "name": "stdout",
          "text": "Function        Install-DbaMaintenanceSolution                     1.0.113    dbatools\r\n",
          "output_type": "stream"
        },
        {
          "name": "stdout",
          "text": "Function        Install-DbaSqlWatch                                1.0.113    dbatools\r\n",
          "output_type": "stream"
        },
        {
          "name": "stdout",
          "text": "Function        Install-DbatoolsWatchUpdate                        1.0.113    dbatools\r\n",
          "output_type": "stream"
        },
        {
          "name": "stdout",
          "text": "Function        Install-DbaWhoIsActive                             1.0.113    dbatools\r\n",
          "output_type": "stream"
        },
        {
          "name": "stdout",
          "text": "Function        Invoke-DbaAdvancedInstall                          1.0.113    dbatools\r\n",
          "output_type": "stream"
        },
        {
          "name": "stdout",
          "text": "Function        Invoke-DbaAdvancedRestore                          1.0.113    dbatools\r\n",
          "output_type": "stream"
        },
        {
          "name": "stdout",
          "text": "Function        Invoke-DbaAdvancedUpdate                           1.0.113    dbatools\r\n",
          "output_type": "stream"
        },
        {
          "name": "stdout",
          "text": "Function        Invoke-DbaAgFailover                               1.0.113    dbatools\r\n",
          "output_type": "stream"
        },
        {
          "name": "stdout",
          "text": "Function        Invoke-DbaBalanceDataFiles                         1.0.113    dbatools\r\n",
          "output_type": "stream"
        },
        {
          "name": "stdout",
          "text": "Function        Invoke-DbaCycleErrorLog                            1.0.113    dbatools\r\n",
          "output_type": "stream"
        },
        {
          "name": "stdout",
          "text": "Function        Invoke-DbaDbccDropCleanBuffer                      1.0.113    dbatools\r\n",
          "output_type": "stream"
        },
        {
          "name": "stdout",
          "text": "Function        Invoke-DbaDbccFreeCache                            1.0.113    dbatools\r\n",
          "output_type": "stream"
        },
        {
          "name": "stdout",
          "text": "Function        Invoke-DbaDbClone                                  1.0.113    dbatools\r\n",
          "output_type": "stream"
        },
        {
          "name": "stdout",
          "text": "Function        Invoke-DbaDbDataGenerator                          1.0.113    dbatools\r\n",
          "output_type": "stream"
        },
        {
          "name": "stdout",
          "text": "Function        Invoke-DbaDbDataMasking                            1.0.113    dbatools\r\n",
          "output_type": "stream"
        },
        {
          "name": "stdout",
          "text": "Function        Invoke-DbaDbDbccCheckConstraint                    1.0.113    dbatools\r\n",
          "output_type": "stream"
        },
        {
          "name": "stdout",
          "text": "Function        Invoke-DbaDbDbccCleanTable                         1.0.113    dbatools\r\n",
          "output_type": "stream"
        },
        {
          "name": "stdout",
          "text": "Function        Invoke-DbaDbDbccUpdateUsage                        1.0.113    dbatools\r\n",
          "output_type": "stream"
        },
        {
          "name": "stdout",
          "text": "Function        Invoke-DbaDbDecryptObject                          1.0.113    dbatools\r\n",
          "output_type": "stream"
        },
        {
          "name": "stdout",
          "text": "Function        Invoke-DbaDbLogShipping                            1.0.113    dbatools\r\n",
          "output_type": "stream"
        },
        {
          "name": "stdout",
          "text": "Function        Invoke-DbaDbLogShipRecovery                        1.0.113    dbatools\r\n",
          "output_type": "stream"
        },
        {
          "name": "stdout",
          "text": "Function        Invoke-DbaDbMirrorFailover                         1.0.113    dbatools\r\n",
          "output_type": "stream"
        },
        {
          "name": "stdout",
          "text": "Function        Invoke-DbaDbMirroring                              1.0.113    dbatools\r\n",
          "output_type": "stream"
        },
        {
          "name": "stdout",
          "text": "Function        Invoke-DbaDbPiiScan                                1.0.113    dbatools\r\n",
          "output_type": "stream"
        },
        {
          "name": "stdout",
          "text": "Function        Invoke-DbaDbShrink                                 1.0.113    dbatools\r\n",
          "output_type": "stream"
        },
        {
          "name": "stdout",
          "text": "Function        Invoke-DbaDbTransfer                               1.0.113    dbatools\r\n",
          "output_type": "stream"
        },
        {
          "name": "stdout",
          "text": "Function        Invoke-DbaDbUpgrade                                1.0.113    dbatools\r\n",
          "output_type": "stream"
        },
        {
          "name": "stdout",
          "text": "Function        Invoke-DbaDiagnosticQuery                          1.0.113    dbatools\r\n",
          "output_type": "stream"
        },
        {
          "name": "stdout",
          "text": "Function        Invoke-DbaPfRelog                                  1.0.113    dbatools\r\n",
          "output_type": "stream"
        },
        {
          "name": "stdout",
          "text": "Function        Invoke-DbaQuery                                    1.0.113    dbatools\r\n",
          "output_type": "stream"
        },
        {
          "name": "stdout",
          "text": "Function        Invoke-DbatoolsFormatter                           1.0.113    dbatools\r\n",
          "output_type": "stream"
        },
        {
          "name": "stdout",
          "text": "Function        Invoke-DbatoolsRenameHelper                        1.0.113    dbatools\r\n",
          "output_type": "stream"
        },
        {
          "name": "stdout",
          "text": "Function        Invoke-DbaWhoIsActive                              1.0.113    dbatools\r\n",
          "output_type": "stream"
        },
        {
          "name": "stdout",
          "text": "Function        Invoke-DbaXEReplay                                 1.0.113    dbatools\r\n",
          "output_type": "stream"
        },
        {
          "name": "stdout",
          "text": "Function        Join-DbaAvailabilityGroup                          1.0.113    dbatools\r\n",
          "output_type": "stream"
        },
        {
          "name": "stdout",
          "text": "Function        Join-DbaPath                                       1.0.113    dbatools\r\n",
          "output_type": "stream"
        },
        {
          "name": "stdout",
          "text": "Function        Measure-DbaBackupThroughput                        1.0.113    dbatools\r\n",
          "output_type": "stream"
        },
        {
          "name": "stdout",
          "text": "Function        Measure-DbaDbVirtualLogFile                        1.0.113    dbatools\r\n",
          "output_type": "stream"
        },
        {
          "name": "stdout",
          "text": "Function        Measure-DbaDiskSpaceRequirement                    1.0.113    dbatools\r\n",
          "output_type": "stream"
        },
        {
          "name": "stdout",
          "text": "Function        Measure-DbatoolsImport                             1.0.113    dbatools\r\n",
          "output_type": "stream"
        },
        {
          "name": "stdout",
          "text": "Function        Mount-DbaDatabase                                  1.0.113    dbatools\r\n",
          "output_type": "stream"
        },
        {
          "name": "stdout",
          "text": "Function        Move-DbaRegServer                                  1.0.113    dbatools\r\n",
          "output_type": "stream"
        },
        {
          "name": "stdout",
          "text": "Function        Move-DbaRegServerGroup                             1.0.113    dbatools\r\n",
          "output_type": "stream"
        },
        {
          "name": "stdout",
          "text": "Function        New-DbaAgentAlertCategory                          1.0.113    dbatools\r\n",
          "output_type": "stream"
        },
        {
          "name": "stdout",
          "text": "Function        New-DbaAgentJob                                    1.0.113    dbatools\r\n",
          "output_type": "stream"
        },
        {
          "name": "stdout",
          "text": "Function        New-DbaAgentJobCategory                            1.0.113    dbatools\r\n",
          "output_type": "stream"
        },
        {
          "name": "stdout",
          "text": "Function        New-DbaAgentJobStep                                1.0.113    dbatools\r\n",
          "output_type": "stream"
        },
        {
          "name": "stdout",
          "text": "Function        New-DbaAgentProxy                                  1.0.113    dbatools\r\n",
          "output_type": "stream"
        },
        {
          "name": "stdout",
          "text": "Function        New-DbaAgentSchedule                               1.0.113    dbatools\r\n",
          "output_type": "stream"
        },
        {
          "name": "stdout",
          "text": "Function        New-DbaAvailabilityGroup                           1.0.113    dbatools\r\n",
          "output_type": "stream"
        },
        {
          "name": "stdout",
          "text": "Function        New-DbaAzAccessToken                               1.0.113    dbatools\r\n",
          "output_type": "stream"
        },
        {
          "name": "stdout",
          "text": "Function        New-DbaClientAlias                                 1.0.113    dbatools\r\n",
          "output_type": "stream"
        },
        {
          "name": "stdout",
          "text": "Function        New-DbaCmConnection                                1.0.113    dbatools\r\n",
          "output_type": "stream"
        },
        {
          "name": "stdout",
          "text": "Function        New-DbaComputerCertificate                         1.0.113    dbatools\r\n",
          "output_type": "stream"
        },
        {
          "name": "stdout",
          "text": "Function        New-DbaComputerCertificateSigningRequest           1.0.113    dbatools\r\n",
          "output_type": "stream"
        },
        {
          "name": "stdout",
          "text": "Function        New-DbaConnectionString                            1.0.113    dbatools\r\n",
          "output_type": "stream"
        },
        {
          "name": "stdout",
          "text": "Function        New-DbaConnectionStringBuilder                     1.0.113    dbatools\r\n",
          "output_type": "stream"
        },
        {
          "name": "stdout",
          "text": "Function        New-DbaCredential                                  1.0.113    dbatools\r\n",
          "output_type": "stream"
        },
        {
          "name": "stdout",
          "text": "Function        New-DbaDacOption                                   1.0.113    dbatools\r\n",
          "output_type": "stream"
        },
        {
          "name": "stdout",
          "text": "Function        New-DbaDacProfile                                  1.0.113    dbatools\r\n",
          "output_type": "stream"
        },
        {
          "name": "stdout",
          "text": "Function        New-DbaDatabase                                    1.0.113    dbatools\r\n",
          "output_type": "stream"
        },
        {
          "name": "stdout",
          "text": "Function        New-DbaDbAsymmetricKey                             1.0.113    dbatools\r\n",
          "output_type": "stream"
        },
        {
          "name": "stdout",
          "text": "Function        New-DbaDbCertificate                               1.0.113    dbatools\r\n",
          "output_type": "stream"
        },
        {
          "name": "stdout",
          "text": "Function        New-DbaDbDataGeneratorConfig                       1.0.113    dbatools\r\n",
          "output_type": "stream"
        },
        {
          "name": "stdout",
          "text": "Function        New-DbaDbMailAccount                               1.0.113    dbatools\r\n",
          "output_type": "stream"
        },
        {
          "name": "stdout",
          "text": "Function        New-DbaDbMailProfile                               1.0.113    dbatools\r\n",
          "output_type": "stream"
        },
        {
          "name": "stdout",
          "text": "Function        New-DbaDbMaskingConfig                             1.0.113    dbatools\r\n",
          "output_type": "stream"
        },
        {
          "name": "stdout",
          "text": "Function        New-DbaDbMasterKey                                 1.0.113    dbatools\r\n",
          "output_type": "stream"
        },
        {
          "name": "stdout",
          "text": "Function        New-DbaDbRole                                      1.0.113    dbatools\r\n",
          "output_type": "stream"
        },
        {
          "name": "stdout",
          "text": "Function        New-DbaDbSnapshot                                  1.0.113    dbatools\r\n",
          "output_type": "stream"
        },
        {
          "name": "stdout",
          "text": "Function        New-DbaDbTable                                     1.0.113    dbatools\r\n",
          "output_type": "stream"
        },
        {
          "name": "stdout",
          "text": "Function        New-DbaDbTransfer                                  1.0.113    dbatools\r\n",
          "output_type": "stream"
        },
        {
          "name": "stdout",
          "text": "Function        New-DbaDbUser                                      1.0.113    dbatools\r\n",
          "output_type": "stream"
        },
        {
          "name": "stdout",
          "text": "Function        New-DbaDiagnosticAdsNotebook                       1.0.113    dbatools\r\n",
          "output_type": "stream"
        },
        {
          "name": "stdout",
          "text": "Function        New-DbaDirectory                                   1.0.113    dbatools\r\n",
          "output_type": "stream"
        },
        {
          "name": "stdout",
          "text": "Function        New-DbaEndpoint                                    1.0.113    dbatools\r\n",
          "output_type": "stream"
        },
        {
          "name": "stdout",
          "text": "Function        New-DbaLogin                                       1.0.113    dbatools\r\n",
          "output_type": "stream"
        },
        {
          "name": "stdout",
          "text": "Function        New-DbaScriptingOption                             1.0.113    dbatools\r\n",
          "output_type": "stream"
        },
        {
          "name": "stdout",
          "text": "Function        New-DbaServerRole                                  1.0.113    dbatools\r\n",
          "output_type": "stream"
        },
        {
          "name": "stdout",
          "text": "Function        New-DbaServiceMasterKey                            1.0.113    dbatools\r\n",
          "output_type": "stream"
        },
        {
          "name": "stdout",
          "text": "Function        New-DbatoolsSupportPackage                         1.0.113    dbatools\r\n",
          "output_type": "stream"
        },
        {
          "name": "stdout",
          "text": "Function        New-DbaXESession                                   1.0.113    dbatools\r\n",
          "output_type": "stream"
        },
        {
          "name": "stdout",
          "text": "Function        New-DbaXESmartCsvWriter                            1.0.113    dbatools\r\n",
          "output_type": "stream"
        },
        {
          "name": "stdout",
          "text": "Function        New-DbaXESmartEmail                                1.0.113    dbatools\r\n",
          "output_type": "stream"
        },
        {
          "name": "stdout",
          "text": "Function        New-DbaXESmartQueryExec                            1.0.113    dbatools\r\n",
          "output_type": "stream"
        },
        {
          "name": "stdout",
          "text": "Function        New-DbaXESmartReplay                               1.0.113    dbatools\r\n",
          "output_type": "stream"
        },
        {
          "name": "stdout",
          "text": "Function        New-DbaXESmartTableWriter                          1.0.113    dbatools\r\n",
          "output_type": "stream"
        },
        {
          "name": "stdout",
          "text": "Function        Publish-DbaDacPackage                              1.0.113    dbatools\r\n",
          "output_type": "stream"
        },
        {
          "name": "stdout",
          "text": "Function        Read-DbaAuditFile                                  1.0.113    dbatools\r\n",
          "output_type": "stream"
        },
        {
          "name": "stdout",
          "text": "Function        Read-DbaBackupHeader                               1.0.113    dbatools\r\n",
          "output_type": "stream"
        },
        {
          "name": "stdout",
          "text": "Function        Read-DbaTraceFile                                  1.0.113    dbatools\r\n",
          "output_type": "stream"
        },
        {
          "name": "stdout",
          "text": "Function        Read-DbaTransactionLog                             1.0.113    dbatools\r\n",
          "output_type": "stream"
        },
        {
          "name": "stdout",
          "text": "Function        Read-DbaXEFile                                     1.0.113    dbatools\r\n",
          "output_type": "stream"
        },
        {
          "name": "stdout",
          "text": "Function        Register-DbatoolsConfig                            1.0.113    dbatools\r\n",
          "output_type": "stream"
        },
        {
          "name": "stdout",
          "text": "Function        Remove-DbaAgDatabase                               1.0.113    dbatools\r\n",
          "output_type": "stream"
        },
        {
          "name": "stdout",
          "text": "Function        Remove-DbaAgentAlertCategory                       1.0.113    dbatools\r\n",
          "output_type": "stream"
        },
        {
          "name": "stdout",
          "text": "Function        Remove-DbaAgentJob                                 1.0.113    dbatools\r\n",
          "output_type": "stream"
        },
        {
          "name": "stdout",
          "text": "Function        Remove-DbaAgentJobCategory                         1.0.113    dbatools\r\n",
          "output_type": "stream"
        },
        {
          "name": "stdout",
          "text": "Function        Remove-DbaAgentJobStep                             1.0.113    dbatools\r\n",
          "output_type": "stream"
        },
        {
          "name": "stdout",
          "text": "Function        Remove-DbaAgentSchedule                            1.0.113    dbatools\r\n",
          "output_type": "stream"
        },
        {
          "name": "stdout",
          "text": "Function        Remove-DbaAgListener                               1.0.113    dbatools\r\n",
          "output_type": "stream"
        },
        {
          "name": "stdout",
          "text": "Function        Remove-DbaAgReplica                                1.0.113    dbatools\r\n",
          "output_type": "stream"
        },
        {
          "name": "stdout",
          "text": "Function        Remove-DbaAvailabilityGroup                        1.0.113    dbatools\r\n",
          "output_type": "stream"
        },
        {
          "name": "stdout",
          "text": "Function        Remove-DbaBackup                                   1.0.113    dbatools\r\n",
          "output_type": "stream"
        },
        {
          "name": "stdout",
          "text": "Function        Remove-DbaClientAlias                              1.0.113    dbatools\r\n",
          "output_type": "stream"
        },
        {
          "name": "stdout",
          "text": "Function        Remove-DbaCmConnection                             1.0.113    dbatools\r\n",
          "output_type": "stream"
        },
        {
          "name": "stdout",
          "text": "Function        Remove-DbaComputerCertificate                      1.0.113    dbatools\r\n",
          "output_type": "stream"
        },
        {
          "name": "stdout",
          "text": "Function        Remove-DbaDatabase                                 1.0.113    dbatools\r\n",
          "output_type": "stream"
        },
        {
          "name": "stdout",
          "text": "Function        Remove-DbaDatabaseSafely                           1.0.113    dbatools\r\n",
          "output_type": "stream"
        },
        {
          "name": "stdout",
          "text": "Function        Remove-DbaDbAsymmetricKey                          1.0.113    dbatools\r\n",
          "output_type": "stream"
        },
        {
          "name": "stdout",
          "text": "Function        Remove-DbaDbBackupRestoreHistory                   1.0.113    dbatools\r\n",
          "output_type": "stream"
        },
        {
          "name": "stdout",
          "text": "Function        Remove-DbaDbCertificate                            1.0.113    dbatools\r\n",
          "output_type": "stream"
        },
        {
          "name": "stdout",
          "text": "Function        Remove-DbaDbLogShipping                            1.0.113    dbatools\r\n",
          "output_type": "stream"
        },
        {
          "name": "stdout",
          "text": "Function        Remove-DbaDbMasterKey                              1.0.113    dbatools\r\n",
          "output_type": "stream"
        },
        {
          "name": "stdout",
          "text": "Function        Remove-DbaDbMirror                                 1.0.113    dbatools\r\n",
          "output_type": "stream"
        },
        {
          "name": "stdout",
          "text": "Function        Remove-DbaDbMirrorMonitor                          1.0.113    dbatools\r\n",
          "output_type": "stream"
        },
        {
          "name": "stdout",
          "text": "Function        Remove-DbaDbOrphanUser                             1.0.113    dbatools\r\n",
          "output_type": "stream"
        },
        {
          "name": "stdout",
          "text": "Function        Remove-DbaDbRole                                   1.0.113    dbatools\r\n",
          "output_type": "stream"
        },
        {
          "name": "stdout",
          "text": "Function        Remove-DbaDbRoleMember                             1.0.113    dbatools\r\n",
          "output_type": "stream"
        },
        {
          "name": "stdout",
          "text": "Function        Remove-DbaDbSnapshot                               1.0.113    dbatools\r\n",
          "output_type": "stream"
        },
        {
          "name": "stdout",
          "text": "Function        Remove-DbaDbUser                                   1.0.113    dbatools\r\n",
          "output_type": "stream"
        },
        {
          "name": "stdout",
          "text": "Function        Remove-DbaEndpoint                                 1.0.113    dbatools\r\n",
          "output_type": "stream"
        },
        {
          "name": "stdout",
          "text": "Function        Remove-DbaLogin                                    1.0.113    dbatools\r\n",
          "output_type": "stream"
        },
        {
          "name": "stdout",
          "text": "Function        Remove-DbaNetworkCertificate                       1.0.113    dbatools\r\n",
          "output_type": "stream"
        },
        {
          "name": "stdout",
          "text": "Function        Remove-DbaPfDataCollectorCounter                   1.0.113    dbatools\r\n",
          "output_type": "stream"
        },
        {
          "name": "stdout",
          "text": "Function        Remove-DbaPfDataCollectorSet                       1.0.113    dbatools\r\n",
          "output_type": "stream"
        },
        {
          "name": "stdout",
          "text": "Function        Remove-DbaRegServer                                1.0.113    dbatools\r\n",
          "output_type": "stream"
        },
        {
          "name": "stdout",
          "text": "Function        Remove-DbaRegServerGroup                           1.0.113    dbatools\r\n",
          "output_type": "stream"
        },
        {
          "name": "stdout",
          "text": "Function        Remove-DbaServerRole                               1.0.113    dbatools\r\n",
          "output_type": "stream"
        },
        {
          "name": "stdout",
          "text": "Function        Remove-DbaSpn                                      1.0.113    dbatools\r\n",
          "output_type": "stream"
        },
        {
          "name": "stdout",
          "text": "Function        Remove-DbaTrace                                    1.0.113    dbatools\r\n",
          "output_type": "stream"
        },
        {
          "name": "stdout",
          "text": "Function        Remove-DbaXESession                                1.0.113    dbatools\r\n",
          "output_type": "stream"
        },
        {
          "name": "stdout",
          "text": "Function        Remove-DbaXESmartTarget                            1.0.113    dbatools\r\n",
          "output_type": "stream"
        },
        {
          "name": "stdout",
          "text": "Function        Rename-DbaDatabase                                 1.0.113    dbatools\r\n",
          "output_type": "stream"
        },
        {
          "name": "stdout",
          "text": "Function        Rename-DbaLogin                                    1.0.113    dbatools\r\n",
          "output_type": "stream"
        },
        {
          "name": "stdout",
          "text": "Function        Repair-DbaDbMirror                                 1.0.113    dbatools\r\n",
          "output_type": "stream"
        },
        {
          "name": "stdout",
          "text": "Function        Repair-DbaDbOrphanUser                             1.0.113    dbatools\r\n",
          "output_type": "stream"
        },
        {
          "name": "stdout",
          "text": "Function        Repair-DbaInstanceName                             1.0.113    dbatools\r\n",
          "output_type": "stream"
        },
        {
          "name": "stdout",
          "text": "Function        Reset-DbaAdmin                                     1.0.113    dbatools\r\n",
          "output_type": "stream"
        },
        {
          "name": "stdout",
          "text": "Function        Reset-DbatoolsConfig                               1.0.113    dbatools\r\n",
          "output_type": "stream"
        },
        {
          "name": "stdout",
          "text": "Function        Resolve-DbaNetworkName                             1.0.113    dbatools\r\n",
          "output_type": "stream"
        },
        {
          "name": "stdout",
          "text": "Function        Resolve-DbaPath                                    1.0.113    dbatools\r\n",
          "output_type": "stream"
        },
        {
          "name": "stdout",
          "text": "Function        Restart-DbaService                                 1.0.113    dbatools\r\n",
          "output_type": "stream"
        },
        {
          "name": "stdout",
          "text": "Function        Restore-DbaDatabase                                1.0.113    dbatools\r\n",
          "output_type": "stream"
        },
        {
          "name": "stdout",
          "text": "Function        Restore-DbaDbCertificate                           1.0.113    dbatools\r\n",
          "output_type": "stream"
        },
        {
          "name": "stdout",
          "text": "Function        Restore-DbaDbSnapshot                              1.0.113    dbatools\r\n",
          "output_type": "stream"
        },
        {
          "name": "stdout",
          "text": "Function        Resume-DbaAgDbDataMovement                         1.0.113    dbatools\r\n",
          "output_type": "stream"
        },
        {
          "name": "stdout",
          "text": "Function        Revoke-DbaAgPermission                             1.0.113    dbatools\r\n",
          "output_type": "stream"
        },
        {
          "name": "stdout",
          "text": "Function        Save-DbaDiagnosticQueryScript                      1.0.113    dbatools\r\n",
          "output_type": "stream"
        },
        {
          "name": "stdout",
          "text": "Function        Save-DbaKbUpdate                                   1.0.113    dbatools\r\n",
          "output_type": "stream"
        },
        {
          "name": "stdout",
          "text": "Function        Select-DbaBackupInformation                        1.0.113    dbatools\r\n",
          "output_type": "stream"
        },
        {
          "name": "stdout",
          "text": "Function        Set-DbaAgentAlert                                  1.0.113    dbatools\r\n",
          "output_type": "stream"
        },
        {
          "name": "stdout",
          "text": "Function        Set-DbaAgentJob                                    1.0.113    dbatools\r\n",
          "output_type": "stream"
        },
        {
          "name": "stdout",
          "text": "Function        Set-DbaAgentJobCategory                            1.0.113    dbatools\r\n",
          "output_type": "stream"
        },
        {
          "name": "stdout",
          "text": "Function        Set-DbaAgentJobOutputFile                          1.0.113    dbatools\r\n",
          "output_type": "stream"
        },
        {
          "name": "stdout",
          "text": "Function        Set-DbaAgentJobOwner                               1.0.113    dbatools\r\n",
          "output_type": "stream"
        },
        {
          "name": "stdout",
          "text": "Function        Set-DbaAgentJobStep                                1.0.113    dbatools\r\n",
          "output_type": "stream"
        },
        {
          "name": "stdout",
          "text": "Function        Set-DbaAgentSchedule                               1.0.113    dbatools\r\n",
          "output_type": "stream"
        },
        {
          "name": "stdout",
          "text": "Function        Set-DbaAgentServer                                 1.0.113    dbatools\r\n",
          "output_type": "stream"
        },
        {
          "name": "stdout",
          "text": "Function        Set-DbaAgListener                                  1.0.113    dbatools\r\n",
          "output_type": "stream"
        },
        {
          "name": "stdout",
          "text": "Function        Set-DbaAgReplica                                   1.0.113    dbatools\r\n",
          "output_type": "stream"
        },
        {
          "name": "stdout",
          "text": "Function        Set-DbaAvailabilityGroup                           1.0.113    dbatools\r\n",
          "output_type": "stream"
        },
        {
          "name": "stdout",
          "text": "Function        Set-DbaCmConnection                                1.0.113    dbatools\r\n",
          "output_type": "stream"
        },
        {
          "name": "stdout",
          "text": "Function        Set-DbaDbCompatibility                             1.0.113    dbatools\r\n",
          "output_type": "stream"
        },
        {
          "name": "stdout",
          "text": "Function        Set-DbaDbCompression                               1.0.113    dbatools\r\n",
          "output_type": "stream"
        },
        {
          "name": "stdout",
          "text": "Function        Set-DbaDbIdentity                                  1.0.113    dbatools\r\n",
          "output_type": "stream"
        },
        {
          "name": "stdout",
          "text": "Function        Set-DbaDbMirror                                    1.0.113    dbatools\r\n",
          "output_type": "stream"
        },
        {
          "name": "stdout",
          "text": "Function        Set-DbaDbOwner                                     1.0.113    dbatools\r\n",
          "output_type": "stream"
        },
        {
          "name": "stdout",
          "text": "Function        Set-DbaDbQueryStoreOption                          1.0.113    dbatools\r\n",
          "output_type": "stream"
        },
        {
          "name": "stdout",
          "text": "Function        Set-DbaDbRecoveryModel                             1.0.113    dbatools\r\n",
          "output_type": "stream"
        },
        {
          "name": "stdout",
          "text": "Function        Set-DbaDbState                                     1.0.113    dbatools\r\n",
          "output_type": "stream"
        },
        {
          "name": "stdout",
          "text": "Function        Set-DbaEndpoint                                    1.0.113    dbatools\r\n",
          "output_type": "stream"
        },
        {
          "name": "stdout",
          "text": "Function        Set-DbaErrorLogConfig                              1.0.113    dbatools\r\n",
          "output_type": "stream"
        },
        {
          "name": "stdout",
          "text": "Function        Set-DbaExtendedProtection                          1.0.113    dbatools\r\n",
          "output_type": "stream"
        },
        {
          "name": "stdout",
          "text": "Function        Set-DbaLogin                                       1.0.113    dbatools\r\n",
          "output_type": "stream"
        },
        {
          "name": "stdout",
          "text": "Function        Set-DbaMaxDop                                      1.0.113    dbatools\r\n",
          "output_type": "stream"
        },
        {
          "name": "stdout",
          "text": "Function        Set-DbaMaxMemory                                   1.0.113    dbatools\r\n",
          "output_type": "stream"
        },
        {
          "name": "stdout",
          "text": "Function        Set-DbaNetworkCertificate                          1.0.113    dbatools\r\n",
          "output_type": "stream"
        },
        {
          "name": "stdout",
          "text": "Function        Set-DbaPowerPlan                                   1.0.113    dbatools\r\n",
          "output_type": "stream"
        },
        {
          "name": "stdout",
          "text": "Function        Set-DbaPrivilege                                   1.0.113    dbatools\r\n",
          "output_type": "stream"
        },
        {
          "name": "stdout",
          "text": "Function        Set-DbaSpConfigure                                 1.0.113    dbatools\r\n",
          "output_type": "stream"
        },
        {
          "name": "stdout",
          "text": "Function        Set-DbaSpn                                         1.0.113    dbatools\r\n",
          "output_type": "stream"
        },
        {
          "name": "stdout",
          "text": "Function        Set-DbaStartupParameter                            1.0.113    dbatools\r\n",
          "output_type": "stream"
        },
        {
          "name": "stdout",
          "text": "Function        Set-DbaTcpPort                                     1.0.113    dbatools\r\n",
          "output_type": "stream"
        },
        {
          "name": "stdout",
          "text": "Function        Set-DbaTempDbConfig                                1.0.113    dbatools\r\n",
          "output_type": "stream"
        },
        {
          "name": "stdout",
          "text": "Function        Set-DbatoolsPath                                   1.0.113    dbatools\r\n",
          "output_type": "stream"
        },
        {
          "name": "stdout",
          "text": "Function        Show-DbaDbList                                     1.0.113    dbatools\r\n",
          "output_type": "stream"
        },
        {
          "name": "stdout",
          "text": "Function        Show-DbaInstanceFileSystem                         1.0.113    dbatools\r\n",
          "output_type": "stream"
        },
        {
          "name": "stdout",
          "text": "Function        Start-DbaAgentJob                                  1.0.113    dbatools\r\n",
          "output_type": "stream"
        },
        {
          "name": "stdout",
          "text": "Function        Start-DbaEndpoint                                  1.0.113    dbatools\r\n",
          "output_type": "stream"
        },
        {
          "name": "stdout",
          "text": "Function        Start-DbaMigration                                 1.0.113    dbatools\r\n",
          "output_type": "stream"
        },
        {
          "name": "stdout",
          "text": "Function        Start-DbaPfDataCollectorSet                        1.0.113    dbatools\r\n",
          "output_type": "stream"
        },
        {
          "name": "stdout",
          "text": "Function        Start-DbaService                                   1.0.113    dbatools\r\n",
          "output_type": "stream"
        },
        {
          "name": "stdout",
          "text": "Function        Start-DbaTrace                                     1.0.113    dbatools\r\n",
          "output_type": "stream"
        },
        {
          "name": "stdout",
          "text": "Function        Start-DbaXESession                                 1.0.113    dbatools\r\n",
          "output_type": "stream"
        },
        {
          "name": "stdout",
          "text": "Function        Start-DbaXESmartTarget                             1.0.113    dbatools\r\n",
          "output_type": "stream"
        },
        {
          "name": "stdout",
          "text": "Function        Stop-DbaAgentJob                                   1.0.113    dbatools\r\n",
          "output_type": "stream"
        },
        {
          "name": "stdout",
          "text": "Function        Stop-DbaEndpoint                                   1.0.113    dbatools\r\n",
          "output_type": "stream"
        },
        {
          "name": "stdout",
          "text": "Function        Stop-DbaPfDataCollectorSet                         1.0.113    dbatools\r\n",
          "output_type": "stream"
        },
        {
          "name": "stdout",
          "text": "Function        Stop-DbaProcess                                    1.0.113    dbatools\r\n",
          "output_type": "stream"
        },
        {
          "name": "stdout",
          "text": "Function        Stop-DbaService                                    1.0.113    dbatools\r\n",
          "output_type": "stream"
        },
        {
          "name": "stdout",
          "text": "Function        Stop-DbaTrace                                      1.0.113    dbatools\r\n",
          "output_type": "stream"
        },
        {
          "name": "stdout",
          "text": "Function        Stop-DbaXESession                                  1.0.113    dbatools\r\n",
          "output_type": "stream"
        },
        {
          "name": "stdout",
          "text": "Function        Stop-DbaXESmartTarget                              1.0.113    dbatools\r\n",
          "output_type": "stream"
        },
        {
          "name": "stdout",
          "text": "Function        Suspend-DbaAgDbDataMovement                        1.0.113    dbatools\r\n",
          "output_type": "stream"
        },
        {
          "name": "stdout",
          "text": "Function        Sync-DbaAvailabilityGroup                          1.0.113    dbatools\r\n",
          "output_type": "stream"
        },
        {
          "name": "stdout",
          "text": "Function        Sync-DbaLoginPermission                            1.0.113    dbatools\r\n",
          "output_type": "stream"
        },
        {
          "name": "stdout",
          "text": "Function        Test-DbaAgentJobOwner                              1.0.113    dbatools\r\n",
          "output_type": "stream"
        },
        {
          "name": "stdout",
          "text": "Function        Test-DbaBackupInformation                          1.0.113    dbatools\r\n",
          "output_type": "stream"
        },
        {
          "name": "stdout",
          "text": "Function        Test-DbaBuild                                      1.0.113    dbatools\r\n",
          "output_type": "stream"
        },
        {
          "name": "stdout",
          "text": "Function        Test-DbaCmConnection                               1.0.113    dbatools\r\n",
          "output_type": "stream"
        },
        {
          "name": "stdout",
          "text": "Function        Test-DbaConnection                                 1.0.113    dbatools\r\n",
          "output_type": "stream"
        },
        {
          "name": "stdout",
          "text": "Function        Test-DbaConnectionAuthScheme                       1.0.113    dbatools\r\n",
          "output_type": "stream"
        },
        {
          "name": "stdout",
          "text": "Function        Test-DbaDbCollation                                1.0.113    dbatools\r\n",
          "output_type": "stream"
        },
        {
          "name": "stdout",
          "text": "Function        Test-DbaDbCompatibility                            1.0.113    dbatools\r\n",
          "output_type": "stream"
        },
        {
          "name": "stdout",
          "text": "Function        Test-DbaDbCompression                              1.0.113    dbatools\r\n",
          "output_type": "stream"
        },
        {
          "name": "stdout",
          "text": "Function        Test-DbaDbDataGeneratorConfig                      1.0.113    dbatools\r\n",
          "output_type": "stream"
        },
        {
          "name": "stdout",
          "text": "Function        Test-DbaDbDataMaskingConfig                        1.0.113    dbatools\r\n",
          "output_type": "stream"
        },
        {
          "name": "stdout",
          "text": "Function        Test-DbaDbLogShipStatus                            1.0.113    dbatools\r\n",
          "output_type": "stream"
        },
        {
          "name": "stdout",
          "text": "Function        Test-DbaDbOwner                                    1.0.113    dbatools\r\n",
          "output_type": "stream"
        },
        {
          "name": "stdout",
          "text": "Function        Test-DbaDbRecoveryModel                            1.0.113    dbatools\r\n",
          "output_type": "stream"
        },
        {
          "name": "stdout",
          "text": "Function        Test-DbaDeprecatedFeature                          1.0.113    dbatools\r\n",
          "output_type": "stream"
        },
        {
          "name": "stdout",
          "text": "Function        Test-DbaDiskAlignment                              1.0.113    dbatools\r\n",
          "output_type": "stream"
        },
        {
          "name": "stdout",
          "text": "Function        Test-DbaDiskAllocation                             1.0.113    dbatools\r\n",
          "output_type": "stream"
        },
        {
          "name": "stdout",
          "text": "Function        Test-DbaDiskSpeed                                  1.0.113    dbatools\r\n",
          "output_type": "stream"
        },
        {
          "name": "stdout",
          "text": "Function        Test-DbaEndpoint                                   1.0.113    dbatools\r\n",
          "output_type": "stream"
        },
        {
          "name": "stdout",
          "text": "Function        Test-DbaIdentityUsage                              1.0.113    dbatools\r\n",
          "output_type": "stream"
        },
        {
          "name": "stdout",
          "text": "Function        Test-DbaInstanceName                               1.0.113    dbatools\r\n",
          "output_type": "stream"
        },
        {
          "name": "stdout",
          "text": "Function        Test-DbaLastBackup                                 1.0.113    dbatools\r\n",
          "output_type": "stream"
        },
        {
          "name": "stdout",
          "text": "Function        Test-DbaLinkedServerConnection                     1.0.113    dbatools\r\n",
          "output_type": "stream"
        },
        {
          "name": "stdout",
          "text": "Function        Test-DbaLoginPassword                              1.0.113    dbatools\r\n",
          "output_type": "stream"
        },
        {
          "name": "stdout",
          "text": "Function        Test-DbaManagementObject                           1.0.113    dbatools\r\n",
          "output_type": "stream"
        },
        {
          "name": "stdout",
          "text": "Function        Test-DbaMaxDop                                     1.0.113    dbatools\r\n",
          "output_type": "stream"
        },
        {
          "name": "stdout",
          "text": "Function        Test-DbaMaxMemory                                  1.0.113    dbatools\r\n",
          "output_type": "stream"
        },
        {
          "name": "stdout",
          "text": "Function        Test-DbaMigrationConstraint                        1.0.113    dbatools\r\n",
          "output_type": "stream"
        },
        {
          "name": "stdout",
          "text": "Function        Test-DbaNetworkLatency                             1.0.113    dbatools\r\n",
          "output_type": "stream"
        },
        {
          "name": "stdout",
          "text": "Function        Test-DbaOptimizeForAdHoc                           1.0.113    dbatools\r\n",
          "output_type": "stream"
        },
        {
          "name": "stdout",
          "text": "Function        Test-DbaPath                                       1.0.113    dbatools\r\n",
          "output_type": "stream"
        },
        {
          "name": "stdout",
          "text": "Function        Test-DbaPowerPlan                                  1.0.113    dbatools\r\n",
          "output_type": "stream"
        },
        {
          "name": "stdout",
          "text": "Function        Test-DbaSpn                                        1.0.113    dbatools\r\n",
          "output_type": "stream"
        },
        {
          "name": "stdout",
          "text": "Function        Test-DbaTempDbConfig                               1.0.113    dbatools\r\n",
          "output_type": "stream"
        },
        {
          "name": "stdout",
          "text": "Function        Test-DbaWindowsLogin                               1.0.113    dbatools\r\n",
          "output_type": "stream"
        },
        {
          "name": "stdout",
          "text": "Function        Uninstall-DbaSqlWatch                              1.0.113    dbatools\r\n",
          "output_type": "stream"
        },
        {
          "name": "stdout",
          "text": "Function        Uninstall-DbatoolsWatchUpdate                      1.0.113    dbatools\r\n",
          "output_type": "stream"
        },
        {
          "name": "stdout",
          "text": "Function        Unregister-DbatoolsConfig                          1.0.113    dbatools\r\n",
          "output_type": "stream"
        },
        {
          "name": "stdout",
          "text": "Function        Update-DbaInstance                                 1.0.113    dbatools\r\n",
          "output_type": "stream"
        },
        {
          "name": "stdout",
          "text": "Function        Update-DbaServiceAccount                           1.0.113    dbatools\r\n",
          "output_type": "stream"
        },
        {
          "name": "stdout",
          "text": "Function        Update-Dbatools                                    1.0.113    dbatools\r\n",
          "output_type": "stream"
        },
        {
          "name": "stdout",
          "text": "Function        Watch-DbaDbLogin                                   1.0.113    dbatools\r\n",
          "output_type": "stream"
        },
        {
          "name": "stdout",
          "text": "Function        Watch-DbatoolsUpdate                               1.0.113    dbatools\r\n",
          "output_type": "stream"
        },
        {
          "name": "stdout",
          "text": "Function        Watch-DbaXESession                                 1.0.113    dbatools\r\n",
          "output_type": "stream"
        },
        {
          "name": "stdout",
          "text": "Function        Write-DbaDbTableData                               1.0.113    dbatools\r\n",
          "output_type": "stream"
        },
        {
          "name": "stdout",
          "text": "Cmdlet          Select-DbaObject                                   1.0.113    dbatools\r\n",
          "output_type": "stream"
        },
        {
          "name": "stdout",
          "text": "Cmdlet          Set-DbatoolsConfig                                 1.0.113    dbatools\r\n",
          "output_type": "stream"
        },
        {
          "name": "stdout",
          "text": "\r\n",
          "output_type": "stream"
        }
      ],
      "execution_count": 1
    },
    {
      "cell_type": "code",
      "source": [
        "## How many commands?\n",
        "(Get-Command -Module dbatools -CommandType Function ).Count"
      ],
      "metadata": {
        "azdata_cell_guid": "0c674263-5c7d-4ebc-9718-1f18922635a4"
      },
      "outputs": [
        {
          "name": "stdout",
          "text": "564\r\n",
          "output_type": "stream"
        }
      ],
      "execution_count": 2
    },
    {
      "cell_type": "markdown",
      "source": [
        "## How do we find commands ?\n",
        "\n",
        "With that many commands even Chrissy can't remember them all !\n",
        "\n",
        "So there is a command to find commands"
      ],
      "metadata": {
        "azdata_cell_guid": "9373b8e2-d16b-4e15-b119-f8aa36585f61"
      }
    },
    {
      "cell_type": "code",
      "source": [
        "Find-DbaCommand -Tag Backup"
      ],
      "metadata": {
        "azdata_cell_guid": "e80e58a9-2e60-4048-bb32-62dbd60702e7"
      },
      "outputs": [
        {
          "name": "stdout",
          "text": "\r\n",
          "output_type": "stream"
        },
        {
          "name": "stdout",
          "text": "CommandName                 Synopsis\r\n",
          "output_type": "stream"
        },
        {
          "name": "stdout",
          "text": "-----------                 --------\r\n",
          "output_type": "stream"
        },
        {
          "name": "stdout",
          "text": "Backup-DbaDatabase          Backup one or more SQL Sever databases from a single SQL Server SqlIns…\r\n",
          "output_type": "stream"
        },
        {
          "name": "stdout",
          "text": "Copy-DbaBackupDevice        Copies backup devices one by one. Copies both SQL code and the backup …\r\n",
          "output_type": "stream"
        },
        {
          "name": "stdout",
          "text": "Copy-DbaDatabase            Migrates SQL Server databases from one SQL Server to another.\r\n",
          "output_type": "stream"
        },
        {
          "name": "stdout",
          "text": "Expand-DbaDbLogFile         This command will help you to automatically grow your transaction log …\r\n",
          "output_type": "stream"
        },
        {
          "name": "stdout",
          "text": "Export-DbaDbTableData       Exports data from tables\r\n",
          "output_type": "stream"
        },
        {
          "name": "stdout",
          "text": "Export-DbaScript            Exports scripts from SQL Management Objects (SMO)\r\n",
          "output_type": "stream"
        },
        {
          "name": "stdout",
          "text": "Find-DbaBackup              Finds SQL Server backups on disk.\r\n",
          "output_type": "stream"
        },
        {
          "name": "stdout",
          "text": "Format-DbaBackupInformation Transforms the data in a dbatools BackupHistory object for a restore\r\n",
          "output_type": "stream"
        },
        {
          "name": "stdout",
          "text": "Get-DbaBackupDevice         Gets SQL Backup Device information for each instance(s) of SQL Server.\r\n",
          "output_type": "stream"
        },
        {
          "name": "stdout",
          "text": "Get-DbaBackupInformation    Scan backup files and creates a set, compatible with Restore-DbaDataba…\r\n",
          "output_type": "stream"
        },
        {
          "name": "stdout",
          "text": "Get-DbaDbBackupHistory      Returns backup history details for databases on a SQL Server.\r\n",
          "output_type": "stream"
        },
        {
          "name": "stdout",
          "text": "Get-DbaDbExtentDiff         What percentage of a database has changed since the last full backup\r\n",
          "output_type": "stream"
        },
        {
          "name": "stdout",
          "text": "Get-DbaDbRestoreHistory     Returns restore history details for databases on a SQL Server.\r\n",
          "output_type": "stream"
        },
        {
          "name": "stdout",
          "text": "Get-DbaLastBackup           Get date/time for last known backups of databases.\r\n",
          "output_type": "stream"
        },
        {
          "name": "stdout",
          "text": "Get-DbaSchemaChangeHistory  Gets DDL changes logged in the system trace.\r\n",
          "output_type": "stream"
        },
        {
          "name": "stdout",
          "text": "Invoke-DbaAdvancedRestore   Allows the restore of modified BackupHistory Objects…\r\n",
          "output_type": "stream"
        },
        {
          "name": "stdout",
          "text": "Measure-DbaBackupThroughput Determines how quickly SQL Server is backing up databases to media.\r\n",
          "output_type": "stream"
        },
        {
          "name": "stdout",
          "text": "New-DbaScriptingOption      Creates a new Microsoft.SqlServer.Management.Smo.ScriptingOptions obje…\r\n",
          "output_type": "stream"
        },
        {
          "name": "stdout",
          "text": "Read-DbaBackupHeader        Reads and displays detailed information about a SQL Server backup.\r\n",
          "output_type": "stream"
        },
        {
          "name": "stdout",
          "text": "Remove-DbaBackup            Removes SQL Server backups from disk.\r\n",
          "output_type": "stream"
        },
        {
          "name": "stdout",
          "text": "Restore-DbaDatabase         Restores a SQL Server Database from a set of backup files\r\n",
          "output_type": "stream"
        },
        {
          "name": "stdout",
          "text": "Restore-DbaDbSnapshot       Restores databases from snapshots\r\n",
          "output_type": "stream"
        },
        {
          "name": "stdout",
          "text": "Select-DbaBackupInformation Select a subset of backups from a dbatools backup history object\r\n",
          "output_type": "stream"
        },
        {
          "name": "stdout",
          "text": "Test-DbaBackupInformation   Tests a dbatools backup history object is correct for restoring\r\n",
          "output_type": "stream"
        },
        {
          "name": "stdout",
          "text": "Test-DbaDbRecoveryModel     Find if database is really a specific recovery model or not.\r\n",
          "output_type": "stream"
        },
        {
          "name": "stdout",
          "text": "Test-DbaLastBackup          Quickly and easily tests the last set of full backups for a server.\r\n",
          "output_type": "stream"
        },
        {
          "name": "stdout",
          "text": "\r\n",
          "output_type": "stream"
        }
      ],
      "execution_count": 3
    },
    {
      "cell_type": "code",
      "source": [
        "Find-DbaCommand -Tag Restore"
      ],
      "metadata": {
        "azdata_cell_guid": "983a8d9f-7666-41b2-8255-3e914a9972d3"
      },
      "outputs": [
        {
          "output_type": "display_data",
          "data": {
            "text/html": "<pre></pre>\r\n"
          },
          "metadata": {}
        },
        {
          "output_type": "display_data",
          "data": {
            "text/html": "<pre>CommandName                 Synopsis</pre>\r\n"
          },
          "metadata": {}
        },
        {
          "output_type": "display_data",
          "data": {
            "text/html": "<pre>-----------                 --------</pre>\r\n"
          },
          "metadata": {}
        },
        {
          "output_type": "display_data",
          "data": {
            "text/html": "<pre>Backup-DbaDatabase          Backup one or more SQL Sever databases from a single SQL Server SqlInstance.</pre>\r\n"
          },
          "metadata": {}
        },
        {
          "output_type": "display_data",
          "data": {
            "text/html": "<pre>Copy-DbaDatabase            Migrates SQL Server databases from one SQL Server to another.</pre>\r\n"
          },
          "metadata": {}
        },
        {
          "output_type": "display_data",
          "data": {
            "text/html": "<pre>Format-DbaBackupInformation Transforms the data in a dbatools BackupHistory object for a restore</pre>\r\n"
          },
          "metadata": {}
        },
        {
          "output_type": "display_data",
          "data": {
            "text/html": "<pre>Get-DbaBackupInformation    Scan backup files and creates a set, compatible with Restore-DbaDatabase</pre>\r\n"
          },
          "metadata": {}
        },
        {
          "output_type": "display_data",
          "data": {
            "text/html": "<pre>Get-DbaDbRestoreHistory     Returns restore history details for databases on a SQL Server.</pre>\r\n"
          },
          "metadata": {}
        },
        {
          "output_type": "display_data",
          "data": {
            "text/html": "<pre>Invoke-DbaAdvancedRestore   Allows the restore of modified BackupHistory Objects…</pre>\r\n"
          },
          "metadata": {}
        },
        {
          "output_type": "display_data",
          "data": {
            "text/html": "<pre>New-DbaDbSnapshot           Creates database snapshots</pre>\r\n"
          },
          "metadata": {}
        },
        {
          "output_type": "display_data",
          "data": {
            "text/html": "<pre>Read-DbaBackupHeader        Reads and displays detailed information about a SQL Server backup.</pre>\r\n"
          },
          "metadata": {}
        },
        {
          "output_type": "display_data",
          "data": {
            "text/html": "<pre>Restore-DbaDatabase         Restores a SQL Server Database from a set of backup files</pre>\r\n"
          },
          "metadata": {}
        },
        {
          "output_type": "display_data",
          "data": {
            "text/html": "<pre>Restore-DbaDbSnapshot       Restores databases from snapshots</pre>\r\n"
          },
          "metadata": {}
        },
        {
          "output_type": "display_data",
          "data": {
            "text/html": "<pre>Select-DbaBackupInformation Select a subset of backups from a dbatools backup history object</pre>\r\n"
          },
          "metadata": {}
        },
        {
          "output_type": "display_data",
          "data": {
            "text/html": "<pre>Test-DbaBackupInformation   Tests a dbatools backup history object is correct for restoring</pre>\r\n"
          },
          "metadata": {}
        },
        {
          "output_type": "display_data",
          "data": {
            "text/html": "<pre>Test-DbaLastBackup          Quickly and easily tests the last set of full backups for a server.</pre>\r\n"
          },
          "metadata": {}
        },
        {
          "output_type": "display_data",
          "data": {
            "text/html": "<pre></pre>\r\n"
          },
          "metadata": {}
        }
      ],
      "execution_count": 4
    },
    {
      "cell_type": "code",
      "source": [
        "Find-DbaCommand -Tag Migration"
      ],
      "metadata": {
        "azdata_cell_guid": "352839bb-0f45-44f8-8596-18bf8cbb7f46"
      },
      "outputs": [
        {
          "output_type": "display_data",
          "data": {
            "text/html": "<pre></pre>\r\n"
          },
          "metadata": {}
        },
        {
          "output_type": "display_data",
          "data": {
            "text/html": "<pre>CommandName                        Synopsis</pre>\r\n"
          },
          "metadata": {}
        },
        {
          "output_type": "display_data",
          "data": {
            "text/html": "<pre>-----------                        --------</pre>\r\n"
          },
          "metadata": {}
        },
        {
          "output_type": "display_data",
          "data": {
            "text/html": "<pre>Backup-DbaDbCertificate            Exports database certificates from SQL Server using SMO.</pre>\r\n"
          },
          "metadata": {}
        },
        {
          "output_type": "display_data",
          "data": {
            "text/html": "<pre>Copy-DbaAgentAlert                 Copy-DbaAgentAlert migrates alerts from one SQL Server to another.</pre>\r\n"
          },
          "metadata": {}
        },
        {
          "output_type": "display_data",
          "data": {
            "text/html": "<pre>Copy-DbaAgentJob                   Copy-DbaAgentJob migrates jobs from one SQL Server to another.</pre>\r\n"
          },
          "metadata": {}
        },
        {
          "output_type": "display_data",
          "data": {
            "text/html": "<pre>Copy-DbaAgentJobCategory           Copy-DbaAgentJobCategory migrates SQL Agent categories from one SQL Server to anot…</pre>\r\n"
          },
          "metadata": {}
        },
        {
          "output_type": "display_data",
          "data": {
            "text/html": "<pre>Copy-DbaAgentOperator              Copy-DbaAgentOperator migrates operators from one SQL Server to another.</pre>\r\n"
          },
          "metadata": {}
        },
        {
          "output_type": "display_data",
          "data": {
            "text/html": "<pre>Copy-DbaAgentProxy                 Copy-DbaAgentProxy migrates proxy accounts from one SQL Server to another.</pre>\r\n"
          },
          "metadata": {}
        },
        {
          "output_type": "display_data",
          "data": {
            "text/html": "<pre>Copy-DbaAgentSchedule              Copy-DbaAgentSchedule migrates shared job schedules from one SQL Server to another.</pre>\r\n"
          },
          "metadata": {}
        },
        {
          "output_type": "display_data",
          "data": {
            "text/html": "<pre>Copy-DbaAgentServer                Copy SQL Server Agent from one server to another.</pre>\r\n"
          },
          "metadata": {}
        },
        {
          "output_type": "display_data",
          "data": {
            "text/html": "<pre>Copy-DbaBackupDevice               Copies backup devices one by one. Copies both SQL code and the backup file itself.</pre>\r\n"
          },
          "metadata": {}
        },
        {
          "output_type": "display_data",
          "data": {
            "text/html": "<pre>Copy-DbaCredential                 Copy-DbaCredential migrates SQL Server Credentials from one SQL Server to another …</pre>\r\n"
          },
          "metadata": {}
        },
        {
          "output_type": "display_data",
          "data": {
            "text/html": "<pre>Copy-DbaCustomError                Copy-DbaCustomError migrates custom errors (user defined messages), by the custom …</pre>\r\n"
          },
          "metadata": {}
        },
        {
          "output_type": "display_data",
          "data": {
            "text/html": "<pre>Copy-DbaDatabase                   Migrates SQL Server databases from one SQL Server to another.</pre>\r\n"
          },
          "metadata": {}
        },
        {
          "output_type": "display_data",
          "data": {
            "text/html": "<pre>Copy-DbaDataCollector              Migrates user SQL Data Collector collection sets. SQL Data Collector configuration…</pre>\r\n"
          },
          "metadata": {}
        },
        {
          "output_type": "display_data",
          "data": {
            "text/html": "<pre>Copy-DbaDbAssembly                 Copy-DbaDbAssembly migrates assemblies from one SQL Server to another.</pre>\r\n"
          },
          "metadata": {}
        },
        {
          "output_type": "display_data",
          "data": {
            "text/html": "<pre>Copy-DbaDbMail                     Migrates Mail Profiles, Accounts, Mail Servers and Mail Server Configs from one SQ…</pre>\r\n"
          },
          "metadata": {}
        },
        {
          "output_type": "display_data",
          "data": {
            "text/html": "<pre>Copy-DbaDbTableData                Copies data between SQL Server tables.</pre>\r\n"
          },
          "metadata": {}
        },
        {
          "output_type": "display_data",
          "data": {
            "text/html": "<pre>Copy-DbaDbViewData                 Copies data from a SQL Server view to a table.</pre>\r\n"
          },
          "metadata": {}
        },
        {
          "output_type": "display_data",
          "data": {
            "text/html": "<pre>Copy-DbaEndpoint                   Copy-DbaEndpoint migrates server endpoints from one SQL Server to another.</pre>\r\n"
          },
          "metadata": {}
        },
        {
          "output_type": "display_data",
          "data": {
            "text/html": "<pre>Copy-DbaInstanceAudit              Copy-DbaInstanceAudit migrates server audits from one SQL Server to another.</pre>\r\n"
          },
          "metadata": {}
        },
        {
          "output_type": "display_data",
          "data": {
            "text/html": "<pre>Copy-DbaInstanceAuditSpecification Copy-DbaInstanceAuditSpecification migrates server audit specifications from one S…</pre>\r\n"
          },
          "metadata": {}
        },
        {
          "output_type": "display_data",
          "data": {
            "text/html": "<pre>Copy-DbaInstanceTrigger            Copy-DbaInstanceTrigger migrates server triggers from one SQL Server to another.</pre>\r\n"
          },
          "metadata": {}
        },
        {
          "output_type": "display_data",
          "data": {
            "text/html": "<pre>Copy-DbaLinkedServer               Copy-DbaLinkedServer migrates Linked Servers from one SQL Server to another. Linke…</pre>\r\n"
          },
          "metadata": {}
        },
        {
          "output_type": "display_data",
          "data": {
            "text/html": "<pre>Copy-DbaLogin                      Migrates logins from source to destination SQL Servers. Supports SQL Server versio…</pre>\r\n"
          },
          "metadata": {}
        },
        {
          "output_type": "display_data",
          "data": {
            "text/html": "<pre>Copy-DbaPolicyManagement           Migrates SQL Policy Based Management Objects, including both policies and conditio…</pre>\r\n"
          },
          "metadata": {}
        },
        {
          "output_type": "display_data",
          "data": {
            "text/html": "<pre>Copy-DbaRegServer                  Migrates SQL Server Central Management groups and server instances from one SQL Se…</pre>\r\n"
          },
          "metadata": {}
        },
        {
          "output_type": "display_data",
          "data": {
            "text/html": "<pre>Copy-DbaResourceGovernor           Migrates Resource Pools</pre>\r\n"
          },
          "metadata": {}
        },
        {
          "output_type": "display_data",
          "data": {
            "text/html": "<pre>Copy-DbaSpConfigure                Copy-DbaSpConfigure migrates configuration values from one SQL Server to another.</pre>\r\n"
          },
          "metadata": {}
        },
        {
          "output_type": "display_data",
          "data": {
            "text/html": "<pre>Copy-DbaSsisCatalog                Copy-DbaSsisCatalog migrates Folders, SSIS projects, and environments from one SQL…</pre>\r\n"
          },
          "metadata": {}
        },
        {
          "output_type": "display_data",
          "data": {
            "text/html": "<pre>Copy-DbaStartupProcedure           Copy-DbaStartupProcedure migrates startup procedures (user defined procedures with…</pre>\r\n"
          },
          "metadata": {}
        },
        {
          "output_type": "display_data",
          "data": {
            "text/html": "<pre>Copy-DbaSysDbUserObject            Imports all user objects found in source SQL Server&#39;s master, msdb and model datab…</pre>\r\n"
          },
          "metadata": {}
        },
        {
          "output_type": "display_data",
          "data": {
            "text/html": "<pre>Copy-DbaXESession                  Migrates SQL Extended Event Sessions except the two default sessions, AlwaysOn_hea…</pre>\r\n"
          },
          "metadata": {}
        },
        {
          "output_type": "display_data",
          "data": {
            "text/html": "<pre>Export-DbaDacPackage               Exports a dacpac from a server.</pre>\r\n"
          },
          "metadata": {}
        },
        {
          "output_type": "display_data",
          "data": {
            "text/html": "<pre>Export-DbaDbTableData              Exports data from tables</pre>\r\n"
          },
          "metadata": {}
        },
        {
          "output_type": "display_data",
          "data": {
            "text/html": "<pre>Export-DbaScript                   Exports scripts from SQL Management Objects (SMO)</pre>\r\n"
          },
          "metadata": {}
        },
        {
          "output_type": "display_data",
          "data": {
            "text/html": "<pre>Get-DbaRgClassifierFunction        Gets the Resource Governor custom classifier Function</pre>\r\n"
          },
          "metadata": {}
        },
        {
          "output_type": "display_data",
          "data": {
            "text/html": "<pre>Get-DbaSchemaChangeHistory         Gets DDL changes logged in the system trace.</pre>\r\n"
          },
          "metadata": {}
        },
        {
          "output_type": "display_data",
          "data": {
            "text/html": "<pre>Get-DbaSsisExecutionHistory        Get-DbaSsisHistory Retreives SSIS project and package execution History, and envir…</pre>\r\n"
          },
          "metadata": {}
        },
        {
          "output_type": "display_data",
          "data": {
            "text/html": "<pre>Import-DbaCsv                      Efficiently imports very large (and small) CSV files into SQL Server.</pre>\r\n"
          },
          "metadata": {}
        },
        {
          "output_type": "display_data",
          "data": {
            "text/html": "<pre>New-DbaDacOption                   Creates a new Microsoft.SqlServer.Dac.DacExtractOptions/DacExportOptions object de…</pre>\r\n"
          },
          "metadata": {}
        },
        {
          "output_type": "display_data",
          "data": {
            "text/html": "<pre>New-DbaScriptingOption             Creates a new Microsoft.SqlServer.Management.Smo.ScriptingOptions object</pre>\r\n"
          },
          "metadata": {}
        },
        {
          "output_type": "display_data",
          "data": {
            "text/html": "<pre>Publish-DbaDacPackage              The Publish-DbaDacPackage command takes a dacpac and publishes it to a database.</pre>\r\n"
          },
          "metadata": {}
        },
        {
          "output_type": "display_data",
          "data": {
            "text/html": "<pre>Restore-DbaDbCertificate           Imports certificates from .cer files using SMO.</pre>\r\n"
          },
          "metadata": {}
        },
        {
          "output_type": "display_data",
          "data": {
            "text/html": "<pre>Start-DbaMigration                 Migrates SQL Server *ALL* databases, logins, database mail profiles/accounts, cred…</pre>\r\n"
          },
          "metadata": {}
        },
        {
          "output_type": "display_data",
          "data": {
            "text/html": "<pre>Sync-DbaLoginPermission            Copies SQL login permissions from one server to another.</pre>\r\n"
          },
          "metadata": {}
        },
        {
          "output_type": "display_data",
          "data": {
            "text/html": "<pre>Test-DbaMigrationConstraint        Show if you can migrate the database(s) between the servers.</pre>\r\n"
          },
          "metadata": {}
        },
        {
          "output_type": "display_data",
          "data": {
            "text/html": "<pre></pre>\r\n"
          },
          "metadata": {}
        }
      ],
      "execution_count": 5
    },
    {
      "cell_type": "code",
      "source": [
        "Find-DbaCommand -Tag Agent"
      ],
      "metadata": {
        "azdata_cell_guid": "b074e028-7872-4cf6-b89d-0822760a897a"
      },
      "outputs": [],
      "execution_count": null
    },
    {
      "cell_type": "code",
      "source": [
        "Find-DbaCommand -Pattern User "
      ],
      "metadata": {
        "azdata_cell_guid": "7196cfef-4f9c-4aab-9ae4-45779205f4d1"
      },
      "outputs": [
        {
          "output_type": "display_data",
          "data": {
            "text/html": "<pre></pre>\r\n"
          },
          "metadata": {}
        },
        {
          "output_type": "display_data",
          "data": {
            "text/html": "<pre>CommandName                          Synopsis</pre>\r\n"
          },
          "metadata": {}
        },
        {
          "output_type": "display_data",
          "data": {
            "text/html": "<pre>-----------                          --------</pre>\r\n"
          },
          "metadata": {}
        },
        {
          "output_type": "display_data",
          "data": {
            "text/html": "<pre>Add-DbaDbRoleMember                  Adds a Database User to a database role for each instance(s) of SQL Server.</pre>\r\n"
          },
          "metadata": {}
        },
        {
          "output_type": "display_data",
          "data": {
            "text/html": "<pre>Add-DbaRegServer                     Adds registered servers to SQL Server Central Management Server (CMS) or Local S…</pre>\r\n"
          },
          "metadata": {}
        },
        {
          "output_type": "display_data",
          "data": {
            "text/html": "<pre>Add-DbaServerRoleMember              Adds a Database User to a database role for each instance(s) of SQL Server.</pre>\r\n"
          },
          "metadata": {}
        },
        {
          "output_type": "display_data",
          "data": {
            "text/html": "<pre>Connect-DbaInstance                  Creates a robust, reusable SQL Server object.</pre>\r\n"
          },
          "metadata": {}
        },
        {
          "output_type": "display_data",
          "data": {
            "text/html": "<pre>Copy-DbaCredential                   Copy-DbaCredential migrates SQL Server Credentials from one SQL Server to anothe…</pre>\r\n"
          },
          "metadata": {}
        },
        {
          "output_type": "display_data",
          "data": {
            "text/html": "<pre>Copy-DbaCustomError                  Copy-DbaCustomError migrates custom errors (user defined messages), by the custo…</pre>\r\n"
          },
          "metadata": {}
        },
        {
          "output_type": "display_data",
          "data": {
            "text/html": "<pre>Copy-DbaDatabase                     Migrates SQL Server databases from one SQL Server to another.</pre>\r\n"
          },
          "metadata": {}
        },
        {
          "output_type": "display_data",
          "data": {
            "text/html": "<pre>Copy-DbaDataCollector                Migrates user SQL Data Collector collection sets. SQL Data Collector configurati…</pre>\r\n"
          },
          "metadata": {}
        },
        {
          "output_type": "display_data",
          "data": {
            "text/html": "<pre>Copy-DbaDbQueryStoreOption           Copies the configuration of a Query Store enabled database and sets the copied c…</pre>\r\n"
          },
          "metadata": {}
        },
        {
          "output_type": "display_data",
          "data": {
            "text/html": "<pre>Copy-DbaLinkedServer                 Copy-DbaLinkedServer migrates Linked Servers from one SQL Server to another. Lin…</pre>\r\n"
          },
          "metadata": {}
        },
        {
          "output_type": "display_data",
          "data": {
            "text/html": "<pre>Copy-DbaLogin                        Migrates logins from source to destination SQL Servers. Supports SQL Server vers…</pre>\r\n"
          },
          "metadata": {}
        },
        {
          "output_type": "display_data",
          "data": {
            "text/html": "<pre>Copy-DbaSsisCatalog                  Copy-DbaSsisCatalog migrates Folders, SSIS projects, and environments from one S…</pre>\r\n"
          },
          "metadata": {}
        },
        {
          "output_type": "display_data",
          "data": {
            "text/html": "<pre>Copy-DbaStartupProcedure             Copy-DbaStartupProcedure migrates startup procedures (user defined procedures wi…</pre>\r\n"
          },
          "metadata": {}
        },
        {
          "output_type": "display_data",
          "data": {
            "text/html": "<pre>Copy-DbaSysDbUserObject              Imports all user objects found in source SQL Server&#39;s master, msdb and model dat…</pre>\r\n"
          },
          "metadata": {}
        },
        {
          "output_type": "display_data",
          "data": {
            "text/html": "<pre>Copy-DbaXESession                    Migrates SQL Extended Event Sessions except the two default sessions, AlwaysOn_h…</pre>\r\n"
          },
          "metadata": {}
        },
        {
          "output_type": "display_data",
          "data": {
            "text/html": "<pre>Disable-DbaAgHadr                    Disables the Hadr service setting on the specified SQL Server.</pre>\r\n"
          },
          "metadata": {}
        },
        {
          "output_type": "display_data",
          "data": {
            "text/html": "<pre>Enable-DbaAgHadr                     Enables the Hadr service setting on the specified SQL Server.</pre>\r\n"
          },
          "metadata": {}
        },
        {
          "output_type": "display_data",
          "data": {
            "text/html": "<pre>Export-DbaDacPackage                 Exports a dacpac from a server.</pre>\r\n"
          },
          "metadata": {}
        },
        {
          "output_type": "display_data",
          "data": {
            "text/html": "<pre>Export-DbaInstance                   Exports SQL Server *ALL* database restore scripts, logins, database mail profile…</pre>\r\n"
          },
          "metadata": {}
        },
        {
          "output_type": "display_data",
          "data": {
            "text/html": "<pre>Export-DbaLogin                      Exports Windows and SQL Logins to a T-SQL file. Export includes login, SID, pass…</pre>\r\n"
          },
          "metadata": {}
        },
        {
          "output_type": "display_data",
          "data": {
            "text/html": "<pre>Export-DbaServerRole                 Exports server roles to a T-SQL file. Export includes Role creation, object perm…</pre>\r\n"
          },
          "metadata": {}
        },
        {
          "output_type": "display_data",
          "data": {
            "text/html": "<pre>Export-DbatoolsConfig                Exports configuration items to a Json file.</pre>\r\n"
          },
          "metadata": {}
        },
        {
          "output_type": "display_data",
          "data": {
            "text/html": "<pre>Export-DbaUser                       Exports users creation and its permissions to a T-SQL file or host.</pre>\r\n"
          },
          "metadata": {}
        },
        {
          "output_type": "display_data",
          "data": {
            "text/html": "<pre>Find-DbaDbDisabledIndex              Find Disabled indexes</pre>\r\n"
          },
          "metadata": {}
        },
        {
          "output_type": "display_data",
          "data": {
            "text/html": "<pre>Find-DbaDbDuplicateIndex             Find duplicate and overlapping indexes.</pre>\r\n"
          },
          "metadata": {}
        },
        {
          "output_type": "display_data",
          "data": {
            "text/html": "<pre>Find-DbaLoginInGroup                 Finds Logins in Active Directory groups that have logins on the SQL Instance.</pre>\r\n"
          },
          "metadata": {}
        },
        {
          "output_type": "display_data",
          "data": {
            "text/html": "<pre>Find-DbaSimilarTable                 Returns all tables/views that are similar in structure by comparing the column n…</pre>\r\n"
          },
          "metadata": {}
        },
        {
          "output_type": "display_data",
          "data": {
            "text/html": "<pre>Find-DbaStoredProcedure              Returns all stored procedures that contain a specific case-insensitive string or…</pre>\r\n"
          },
          "metadata": {}
        },
        {
          "output_type": "display_data",
          "data": {
            "text/html": "<pre>Find-DbaTrigger                      Returns all triggers that contain a specific case-insensitive string or regex pa…</pre>\r\n"
          },
          "metadata": {}
        },
        {
          "output_type": "display_data",
          "data": {
            "text/html": "<pre>Find-DbaUserObject                   Searches SQL Server to find user-owned objects (i.e. not dbo or sa) or for any o…</pre>\r\n"
          },
          "metadata": {}
        },
        {
          "output_type": "display_data",
          "data": {
            "text/html": "<pre>Find-DbaView                         Returns all views that contain a specific case-insensitive string or regex patte…</pre>\r\n"
          },
          "metadata": {}
        },
        {
          "output_type": "display_data",
          "data": {
            "text/html": "<pre>Get-DbaAgentJobOutputFile            Returns the Output File for each step of one or many agent job with the Job Name…</pre>\r\n"
          },
          "metadata": {}
        },
        {
          "output_type": "display_data",
          "data": {
            "text/html": "<pre>Get-DbaBackupInformation             Scan backup files and creates a set, compatible with Restore-DbaDatabase</pre>\r\n"
          },
          "metadata": {}
        },
        {
          "output_type": "display_data",
          "data": {
            "text/html": "<pre>Get-DbaClientProtocol                Gets the SQL Server related client protocols on a computer.</pre>\r\n"
          },
          "metadata": {}
        },
        {
          "output_type": "display_data",
          "data": {
            "text/html": "<pre>Get-DbaCmConnection                  Retrieves windows management connections from the cache</pre>\r\n"
          },
          "metadata": {}
        },
        {
          "output_type": "display_data",
          "data": {
            "text/html": "<pre>Get-DbaCpuRingBuffer                 Collects CPU data from sys.dm_os_ring_buffers.  Works on SQL Server 2005 and abo…</pre>\r\n"
          },
          "metadata": {}
        },
        {
          "output_type": "display_data",
          "data": {
            "text/html": "<pre>Get-DbaDatabase                      Gets SQL Database information for each database that is present on the target in…</pre>\r\n"
          },
          "metadata": {}
        },
        {
          "output_type": "display_data",
          "data": {
            "text/html": "<pre>Get-DbaDbBackupHistory               Returns backup history details for databases on a SQL Server.</pre>\r\n"
          },
          "metadata": {}
        },
        {
          "output_type": "display_data",
          "data": {
            "text/html": "<pre>Get-DbaDbccSessionBuffer             Gets result of Database Console Command DBCC INPUTBUFFER  or DBCC OUTPUTBUFFER</pre>\r\n"
          },
          "metadata": {}
        },
        {
          "output_type": "display_data",
          "data": {
            "text/html": "<pre>Get-DbaDbccStatistic                 Execution of Database Console Command DBCC SHOW_STATISTICS</pre>\r\n"
          },
          "metadata": {}
        },
        {
          "output_type": "display_data",
          "data": {
            "text/html": "<pre>Get-DbaDbccUserOption                Execution of Database Console Command DBCC USEROPTIONS</pre>\r\n"
          },
          "metadata": {}
        },
        {
          "output_type": "display_data",
          "data": {
            "text/html": "<pre>Get-DbaDbCompatibility               Displays the compatibility level for SQL Server databases.</pre>\r\n"
          },
          "metadata": {}
        },
        {
          "output_type": "display_data",
          "data": {
            "text/html": "<pre>Get-DbaDbCompression                 Gets tables and indexes size and current compression settings.</pre>\r\n"
          },
          "metadata": {}
        },
        {
          "output_type": "display_data",
          "data": {
            "text/html": "<pre>Get-DbaDbMemoryUsage                 Determine buffer pool usage by database.</pre>\r\n"
          },
          "metadata": {}
        },
        {
          "output_type": "display_data",
          "data": {
            "text/html": "<pre>Get-DbaDbMirrorMonitor               Returns status rows for a monitored database from the status table in which data…</pre>\r\n"
          },
          "metadata": {}
        },
        {
          "output_type": "display_data",
          "data": {
            "text/html": "<pre>Get-DbaDbOrphanUser                  Get orphaned users.</pre>\r\n"
          },
          "metadata": {}
        },
        {
          "output_type": "display_data",
          "data": {
            "text/html": "<pre>Get-DbaDbPartitionFunction           Gets database Partition Functions</pre>\r\n"
          },
          "metadata": {}
        },
        {
          "output_type": "display_data",
          "data": {
            "text/html": "<pre>Get-DbaDbPartitionScheme             Gets database Partition Schemes</pre>\r\n"
          },
          "metadata": {}
        },
        {
          "output_type": "display_data",
          "data": {
            "text/html": "<pre>Get-DbaDbRestoreHistory              Returns restore history details for databases on a SQL Server.</pre>\r\n"
          },
          "metadata": {}
        },
        {
          "output_type": "display_data",
          "data": {
            "text/html": "<pre>Get-DbaDbRoleMember                  Get members of database roles for each instance(s) of SQL Server.</pre>\r\n"
          },
          "metadata": {}
        },
        {
          "output_type": "display_data",
          "data": {
            "text/html": "<pre>Get-DbaDbSpace                       Returns database file space information for database files on a SQL instance.</pre>\r\n"
          },
          "metadata": {}
        },
        {
          "output_type": "display_data",
          "data": {
            "text/html": "<pre>Get-DbaDbState                       Gets various options for databases, hereby called &quot;states&quot;</pre>\r\n"
          },
          "metadata": {}
        },
        {
          "output_type": "display_data",
          "data": {
            "text/html": "<pre>Get-DbaDbUdf                         Gets database User Defined Functions</pre>\r\n"
          },
          "metadata": {}
        },
        {
          "output_type": "display_data",
          "data": {
            "text/html": "<pre>Get-DbaDbUser                        Gets database users</pre>\r\n"
          },
          "metadata": {}
        },
        {
          "output_type": "display_data",
          "data": {
            "text/html": "<pre>Get-DbaDbVirtualLogFile              Returns database virtual log file information for database files on a SQL instan…</pre>\r\n"
          },
          "metadata": {}
        },
        {
          "output_type": "display_data",
          "data": {
            "text/html": "<pre>Get-DbaDiskSpace                     Displays disk information for all local disk on a server.</pre>\r\n"
          },
          "metadata": {}
        },
        {
          "output_type": "display_data",
          "data": {
            "text/html": "<pre>Get-DbaHelpIndex                     Returns size, row and configuration information for indexes in databases.</pre>\r\n"
          },
          "metadata": {}
        },
        {
          "output_type": "display_data",
          "data": {
            "text/html": "<pre>Get-DbaInstanceInstallDate           Returns the install date of a SQL Instance and Windows Server.</pre>\r\n"
          },
          "metadata": {}
        },
        {
          "output_type": "display_data",
          "data": {
            "text/html": "<pre>Get-DbaInstanceProtocol              Gets the SQL Server related server protocols on a computer.</pre>\r\n"
          },
          "metadata": {}
        },
        {
          "output_type": "display_data",
          "data": {
            "text/html": "<pre>Get-DbaInstanceUserOption            Gets SQL Instance user options of one or more instance(s) of SQL Server.</pre>\r\n"
          },
          "metadata": {}
        },
        {
          "output_type": "display_data",
          "data": {
            "text/html": "<pre>Get-DbaLocaleSetting                 Gets the Locale settings on a computer.</pre>\r\n"
          },
          "metadata": {}
        },
        {
          "output_type": "display_data",
          "data": {
            "text/html": "<pre>Get-DbaLogin                         Function to get an SMO login object of the logins for a given SQL Server instanc…</pre>\r\n"
          },
          "metadata": {}
        },
        {
          "output_type": "display_data",
          "data": {
            "text/html": "<pre>Get-DbaManagementObject              Gets SQL Mangaement Object versions installed on the machine.</pre>\r\n"
          },
          "metadata": {}
        },
        {
          "output_type": "display_data",
          "data": {
            "text/html": "<pre>Get-DbaModule                        Displays all objects in sys.sys_modules after specified modification date.  Work…</pre>\r\n"
          },
          "metadata": {}
        },
        {
          "output_type": "display_data",
          "data": {
            "text/html": "<pre>Get-DbaNetworkActivity               Gets the Current traffic on every Network Interface on a computer.</pre>\r\n"
          },
          "metadata": {}
        },
        {
          "output_type": "display_data",
          "data": {
            "text/html": "<pre>Get-DbaPageFileSetting               Returns information on the page file configuration of the target computer.</pre>\r\n"
          },
          "metadata": {}
        },
        {
          "output_type": "display_data",
          "data": {
            "text/html": "<pre>Get-DbaPowerPlan                     Gets the Power Plan settings for compliance with best practices, which recommend…</pre>\r\n"
          },
          "metadata": {}
        },
        {
          "output_type": "display_data",
          "data": {
            "text/html": "<pre>Get-DbaPrivilege                     Gets the users with local privileges on one or more computers.</pre>\r\n"
          },
          "metadata": {}
        },
        {
          "output_type": "display_data",
          "data": {
            "text/html": "<pre>Get-DbaRandomizedValue               This function will generate a random value for a specific data type or bogus typ…</pre>\r\n"
          },
          "metadata": {}
        },
        {
          "output_type": "display_data",
          "data": {
            "text/html": "<pre>Get-DbaService                       Gets the SQL Server related services on a computer.</pre>\r\n"
          },
          "metadata": {}
        },
        {
          "output_type": "display_data",
          "data": {
            "text/html": "<pre>Get-DbaSpn                           Returns a list of set service principal names for a given computer/AD account</pre>\r\n"
          },
          "metadata": {}
        },
        {
          "output_type": "display_data",
          "data": {
            "text/html": "<pre>Get-DbaSsisEnvironmentVariable       This command gets specified SSIS Environment and all its variables</pre>\r\n"
          },
          "metadata": {}
        },
        {
          "output_type": "display_data",
          "data": {
            "text/html": "<pre>Get-DbaStartupParameter              Displays values for a detailed list of SQL Server Startup Parameters.</pre>\r\n"
          },
          "metadata": {}
        },
        {
          "output_type": "display_data",
          "data": {
            "text/html": "<pre>Get-DbaStartupProcedure              Get-DbaStartupProcedure gets startup procedures (user defined procedures within …</pre>\r\n"
          },
          "metadata": {}
        },
        {
          "output_type": "display_data",
          "data": {
            "text/html": "<pre>Get-DbaTcpPort                       Returns the TCP port used by the specified SQL Server.</pre>\r\n"
          },
          "metadata": {}
        },
        {
          "output_type": "display_data",
          "data": {
            "text/html": "<pre>Get-DbaTempdbUsage                   Gets Tempdb usage for running queries.</pre>\r\n"
          },
          "metadata": {}
        },
        {
          "output_type": "display_data",
          "data": {
            "text/html": "<pre>Get-DbaUserPermission                Displays detailed permissions information for the server and database roles and …</pre>\r\n"
          },
          "metadata": {}
        },
        {
          "output_type": "display_data",
          "data": {
            "text/html": "<pre>Get-DbaWaitingTask                   Displays waiting task.</pre>\r\n"
          },
          "metadata": {}
        },
        {
          "output_type": "display_data",
          "data": {
            "text/html": "<pre>Get-DbaWaitResource                  Returns the resource being waited upon</pre>\r\n"
          },
          "metadata": {}
        },
        {
          "output_type": "display_data",
          "data": {
            "text/html": "<pre>Import-DbaPfDataCollectorSetTemplate Imports a new Performance Monitor Data Collector Set Template either from the db…</pre>\r\n"
          },
          "metadata": {}
        },
        {
          "output_type": "display_data",
          "data": {
            "text/html": "<pre>Import-DbatoolsConfig                Imports a json configuration file into the configuration system.</pre>\r\n"
          },
          "metadata": {}
        },
        {
          "output_type": "display_data",
          "data": {
            "text/html": "<pre>Install-DbaInstance                  This function will help you to quickly install a SQL Server instance.</pre>\r\n"
          },
          "metadata": {}
        },
        {
          "output_type": "display_data",
          "data": {
            "text/html": "<pre>Install-DbaMaintenanceSolution       Download and Install SQL Server Maintenance Solution created by Ola Hallengren (…</pre>\r\n"
          },
          "metadata": {}
        },
        {
          "output_type": "display_data",
          "data": {
            "text/html": "<pre>Invoke-DbaAdvancedRestore            Allows the restore of modified BackupHistory Objects…</pre>\r\n"
          },
          "metadata": {}
        },
        {
          "output_type": "display_data",
          "data": {
            "text/html": "<pre>Invoke-DbaDbDecryptObject            Invoke-DbaDbDecryptObject returns the decrypted version of an object</pre>\r\n"
          },
          "metadata": {}
        },
        {
          "output_type": "display_data",
          "data": {
            "text/html": "<pre>Invoke-DbaDbLogShipping              Invoke-DbaDbLogShipping sets up log shipping for one or more databases</pre>\r\n"
          },
          "metadata": {}
        },
        {
          "output_type": "display_data",
          "data": {
            "text/html": "<pre>Invoke-DbaDbShrink                   Shrinks all files in a database. This is a command that should rarely be used.…</pre>\r\n"
          },
          "metadata": {}
        },
        {
          "output_type": "display_data",
          "data": {
            "text/html": "<pre>Invoke-DbaDbUpgrade                  Take a database and upgrades it to compatibility of the SQL Instance its hosted …</pre>\r\n"
          },
          "metadata": {}
        },
        {
          "output_type": "display_data",
          "data": {
            "text/html": "<pre>Invoke-DbaDiagnosticQuery            Invoke-DbaDiagnosticQuery runs the scripts provided by Glenn Berry&#39;s DMV scripts…</pre>\r\n"
          },
          "metadata": {}
        },
        {
          "output_type": "display_data",
          "data": {
            "text/html": "<pre>Invoke-DbaQuery                      A command to run explicit T-SQL commands or files.</pre>\r\n"
          },
          "metadata": {}
        },
        {
          "output_type": "display_data",
          "data": {
            "text/html": "<pre>Measure-DbaDbVirtualLogFile          Returns calculations on the database virtual log files for database on a SQL ins…</pre>\r\n"
          },
          "metadata": {}
        },
        {
          "output_type": "display_data",
          "data": {
            "text/html": "<pre>New-DbaAgentJobStep                  New-DbaAgentJobStep creates a new job step for a job</pre>\r\n"
          },
          "metadata": {}
        },
        {
          "output_type": "display_data",
          "data": {
            "text/html": "<pre>New-DbaAzAccessToken                 Simplifies the generation of Azure oauth2 tokens.</pre>\r\n"
          },
          "metadata": {}
        },
        {
          "output_type": "display_data",
          "data": {
            "text/html": "<pre>New-DbaCmConnection                  Generates a connection object for use in remote computer management.</pre>\r\n"
          },
          "metadata": {}
        },
        {
          "output_type": "display_data",
          "data": {
            "text/html": "<pre>New-DbaConnectionString              Builds or extracts a SQL Server Connection String</pre>\r\n"
          },
          "metadata": {}
        },
        {
          "output_type": "display_data",
          "data": {
            "text/html": "<pre>New-DbaConnectionStringBuilder       Returns a System.Data.SqlClient.SqlConnectionStringBuilder with the string speci…</pre>\r\n"
          },
          "metadata": {}
        },
        {
          "output_type": "display_data",
          "data": {
            "text/html": "<pre>New-DbaDbAsymmetricKey               Creates a new database asymmetric key</pre>\r\n"
          },
          "metadata": {}
        },
        {
          "output_type": "display_data",
          "data": {
            "text/html": "<pre>New-DbaDbMasterKey                   Creates a new database master key</pre>\r\n"
          },
          "metadata": {}
        },
        {
          "output_type": "display_data",
          "data": {
            "text/html": "<pre>New-DbaDbUser                        Creates a new user for the specified database.</pre>\r\n"
          },
          "metadata": {}
        },
        {
          "output_type": "display_data",
          "data": {
            "text/html": "<pre>New-DbaLogin                         Creates a new SQL Server login</pre>\r\n"
          },
          "metadata": {}
        },
        {
          "output_type": "display_data",
          "data": {
            "text/html": "<pre>New-DbaSsisCatalog                   Enables the SSIS Catalog on a SQL Server 2012+</pre>\r\n"
          },
          "metadata": {}
        },
        {
          "output_type": "display_data",
          "data": {
            "text/html": "<pre>New-DbatoolsSupportPackage           Creates a package of troubleshooting information that can be used by dbatools to…</pre>\r\n"
          },
          "metadata": {}
        },
        {
          "output_type": "display_data",
          "data": {
            "text/html": "<pre>New-DbaXESmartEmail                  This response type can be used to send an email each time an event is captured.</pre>\r\n"
          },
          "metadata": {}
        },
        {
          "output_type": "display_data",
          "data": {
            "text/html": "<pre>Publish-DbaDacPackage                The Publish-DbaDacPackage command takes a dacpac and publishes it to a database.</pre>\r\n"
          },
          "metadata": {}
        },
        {
          "output_type": "display_data",
          "data": {
            "text/html": "<pre>Read-DbaBackupHeader                 Reads and displays detailed information about a SQL Server backup.</pre>\r\n"
          },
          "metadata": {}
        },
        {
          "output_type": "display_data",
          "data": {
            "text/html": "<pre>Read-DbaTraceFile                    Reads SQL Server trace files</pre>\r\n"
          },
          "metadata": {}
        },
        {
          "output_type": "display_data",
          "data": {
            "text/html": "<pre>Read-DbaTransactionLog               Reads the live Transaction log from specified SQL Server Database</pre>\r\n"
          },
          "metadata": {}
        },
        {
          "output_type": "display_data",
          "data": {
            "text/html": "<pre>Register-DbatoolsConfig              Registers an existing configuration object in registry.</pre>\r\n"
          },
          "metadata": {}
        },
        {
          "output_type": "display_data",
          "data": {
            "text/html": "<pre>Remove-DbaComputerCertificate        Removes a computer certificate - useful for removing easily certs from remote co…</pre>\r\n"
          },
          "metadata": {}
        },
        {
          "output_type": "display_data",
          "data": {
            "text/html": "<pre>Remove-DbaDatabase                   Drops a user database, hopefully even the really stuck ones.</pre>\r\n"
          },
          "metadata": {}
        },
        {
          "output_type": "display_data",
          "data": {
            "text/html": "<pre>Remove-DbaDatabaseSafely             Safely removes a SQL Database and creates an Agent Job to restore it.</pre>\r\n"
          },
          "metadata": {}
        },
        {
          "output_type": "display_data",
          "data": {
            "text/html": "<pre>Remove-DbaDbOrphanUser               Drop orphan users with no existing login to map</pre>\r\n"
          },
          "metadata": {}
        },
        {
          "output_type": "display_data",
          "data": {
            "text/html": "<pre>Remove-DbaDbRoleMember               Removes a Database User from a database role for each instance(s) of SQL Server.</pre>\r\n"
          },
          "metadata": {}
        },
        {
          "output_type": "display_data",
          "data": {
            "text/html": "<pre>Remove-DbaDbUser                     Drop database user</pre>\r\n"
          },
          "metadata": {}
        },
        {
          "output_type": "display_data",
          "data": {
            "text/html": "<pre>Rename-DbaDatabase                   Changes database name, logical file names, file group names and physical file na…</pre>\r\n"
          },
          "metadata": {}
        },
        {
          "output_type": "display_data",
          "data": {
            "text/html": "<pre>Rename-DbaLogin                      Rename-DbaLogin will rename login and database mapping for a specified login.</pre>\r\n"
          },
          "metadata": {}
        },
        {
          "output_type": "display_data",
          "data": {
            "text/html": "<pre>Repair-DbaDbOrphanUser               Finds orphan users with existing login and remaps them.</pre>\r\n"
          },
          "metadata": {}
        },
        {
          "output_type": "display_data",
          "data": {
            "text/html": "<pre>Reset-DbaAdmin                       This function allows administrators to regain access to SQL Servers in the event…</pre>\r\n"
          },
          "metadata": {}
        },
        {
          "output_type": "display_data",
          "data": {
            "text/html": "<pre>Reset-DbatoolsConfig                 Reverts a configuration item to its default value.</pre>\r\n"
          },
          "metadata": {}
        },
        {
          "output_type": "display_data",
          "data": {
            "text/html": "<pre>Restart-DbaService                   Restarts SQL Server services on a computer.</pre>\r\n"
          },
          "metadata": {}
        },
        {
          "output_type": "display_data",
          "data": {
            "text/html": "<pre>Restore-DbaDatabase                  Restores a SQL Server Database from a set of backup files</pre>\r\n"
          },
          "metadata": {}
        },
        {
          "output_type": "display_data",
          "data": {
            "text/html": "<pre>Restore-DbaDbCertificate             Imports certificates from .cer files using SMO.</pre>\r\n"
          },
          "metadata": {}
        },
        {
          "output_type": "display_data",
          "data": {
            "text/html": "<pre>Set-DbaAgentJob                      Set-DbaAgentJob updates a job.</pre>\r\n"
          },
          "metadata": {}
        },
        {
          "output_type": "display_data",
          "data": {
            "text/html": "<pre>Set-DbaAgentJobOutputFile            Set the output file for a step within an Agent job.</pre>\r\n"
          },
          "metadata": {}
        },
        {
          "output_type": "display_data",
          "data": {
            "text/html": "<pre>Set-DbaAgentJobOwner                 Sets SQL Agent job owners with a desired login if jobs do not match that owner.</pre>\r\n"
          },
          "metadata": {}
        },
        {
          "output_type": "display_data",
          "data": {
            "text/html": "<pre>Set-DbaAgentJobStep                  Set-DbaAgentJobStep updates a job step.</pre>\r\n"
          },
          "metadata": {}
        },
        {
          "output_type": "display_data",
          "data": {
            "text/html": "<pre>Set-DbaCmConnection                  Configures a connection object for use in remote computer management.</pre>\r\n"
          },
          "metadata": {}
        },
        {
          "output_type": "display_data",
          "data": {
            "text/html": "<pre>Set-DbaDbCompatibility               Sets the compatibility level for SQL Server databases.</pre>\r\n"
          },
          "metadata": {}
        },
        {
          "output_type": "display_data",
          "data": {
            "text/html": "<pre>Set-DbaDbOwner                       Sets database owners with a desired login if databases do not match that owner.</pre>\r\n"
          },
          "metadata": {}
        },
        {
          "output_type": "display_data",
          "data": {
            "text/html": "<pre>Set-DbaDbQueryStoreOption            Configure Query Store settings for a specific or multiple databases.</pre>\r\n"
          },
          "metadata": {}
        },
        {
          "output_type": "display_data",
          "data": {
            "text/html": "<pre>Set-DbaDbRecoveryModel               Set-DbaDbRecoveryModel sets the Recovery Model.</pre>\r\n"
          },
          "metadata": {}
        },
        {
          "output_type": "display_data",
          "data": {
            "text/html": "<pre>Set-DbaDbState                       Sets various options for databases, hereby called &quot;states&quot;</pre>\r\n"
          },
          "metadata": {}
        },
        {
          "output_type": "display_data",
          "data": {
            "text/html": "<pre>Set-DbaLogin                         Set-DbaLogin makes it possible to make changes to one or more logins.</pre>\r\n"
          },
          "metadata": {}
        },
        {
          "output_type": "display_data",
          "data": {
            "text/html": "<pre>Set-DbaPowerPlan                     Sets the SQL Server OS&#39;s Power Plan.</pre>\r\n"
          },
          "metadata": {}
        },
        {
          "output_type": "display_data",
          "data": {
            "text/html": "<pre>Set-DbaPrivilege                     Adds the SQL Service account to local privileges on one or more computers.</pre>\r\n"
          },
          "metadata": {}
        },
        {
          "output_type": "display_data",
          "data": {
            "text/html": "<pre>Set-DbaSpConfigure                   Changes the server level system configuration (sys.configuration/sp_configure) v…</pre>\r\n"
          },
          "metadata": {}
        },
        {
          "output_type": "display_data",
          "data": {
            "text/html": "<pre>Set-DbaStartupParameter              Sets the Startup Parameters for a SQL Server instance</pre>\r\n"
          },
          "metadata": {}
        },
        {
          "output_type": "display_data",
          "data": {
            "text/html": "<pre>Set-DbaTcpPort                       Changes the TCP port used by the specified SQL Server.</pre>\r\n"
          },
          "metadata": {}
        },
        {
          "output_type": "display_data",
          "data": {
            "text/html": "<pre>Set-DbaTempDbConfig                  Sets tempdb data and log files according to best practices.</pre>\r\n"
          },
          "metadata": {}
        },
        {
          "output_type": "display_data",
          "data": {
            "text/html": "<pre>Set-DbatoolsPath                     Configures or updates a path under a name.</pre>\r\n"
          },
          "metadata": {}
        },
        {
          "output_type": "display_data",
          "data": {
            "text/html": "<pre>Start-DbaMigration                   Migrates SQL Server *ALL* databases, logins, database mail profiles/accounts, cr…</pre>\r\n"
          },
          "metadata": {}
        },
        {
          "output_type": "display_data",
          "data": {
            "text/html": "<pre>Start-DbaService                     Starts SQL Server services on a computer.</pre>\r\n"
          },
          "metadata": {}
        },
        {
          "output_type": "display_data",
          "data": {
            "text/html": "<pre>Stop-DbaService                      Stops SQL Server services on a computer.</pre>\r\n"
          },
          "metadata": {}
        },
        {
          "output_type": "display_data",
          "data": {
            "text/html": "<pre>Sync-DbaLoginPermission              Copies SQL login permissions from one server to another.</pre>\r\n"
          },
          "metadata": {}
        },
        {
          "output_type": "display_data",
          "data": {
            "text/html": "<pre>Test-DbaAgentJobOwner                Checks SQL Agent Job owners against a login to validate which jobs do not match …</pre>\r\n"
          },
          "metadata": {}
        },
        {
          "output_type": "display_data",
          "data": {
            "text/html": "<pre>Test-DbaConnection                   Tests the connection to a single instance.</pre>\r\n"
          },
          "metadata": {}
        },
        {
          "output_type": "display_data",
          "data": {
            "text/html": "<pre>Test-DbaDbCompression                Returns tables and indexes with preferred compression setting.</pre>\r\n"
          },
          "metadata": {}
        },
        {
          "output_type": "display_data",
          "data": {
            "text/html": "<pre>Test-DbaDbOwner                      Checks database owners against a login to validate which databases do not match …</pre>\r\n"
          },
          "metadata": {}
        },
        {
          "output_type": "display_data",
          "data": {
            "text/html": "<pre>Test-DbaLoginPassword                Test-DbaLoginPassword finds any logins on SQL instance that are SQL Logins and h…</pre>\r\n"
          },
          "metadata": {}
        },
        {
          "output_type": "display_data",
          "data": {
            "text/html": "<pre>Test-DbaManagementObject             Tests to see if the SMO version specified exists on the computer.</pre>\r\n"
          },
          "metadata": {}
        },
        {
          "output_type": "display_data",
          "data": {
            "text/html": "<pre>Test-DbaPowerPlan                    Checks the Power Plan settings for compliance with best practices, which recomme…</pre>\r\n"
          },
          "metadata": {}
        },
        {
          "output_type": "display_data",
          "data": {
            "text/html": "<pre>Test-DbaWindowsLogin                 Test-DbaWindowsLogin finds any logins on SQL instance that are AD logins with ei…</pre>\r\n"
          },
          "metadata": {}
        },
        {
          "output_type": "display_data",
          "data": {
            "text/html": "<pre>Uninstall-DbaSqlWatch                Uninstalls SqlWatch.</pre>\r\n"
          },
          "metadata": {}
        },
        {
          "output_type": "display_data",
          "data": {
            "text/html": "<pre>Unregister-DbatoolsConfig            Removes registered configuration settings.</pre>\r\n"
          },
          "metadata": {}
        },
        {
          "output_type": "display_data",
          "data": {
            "text/html": "<pre>Update-DbaInstance                   Invokes installation of SQL Server Service Packs and Cumulative Updates on local…</pre>\r\n"
          },
          "metadata": {}
        },
        {
          "output_type": "display_data",
          "data": {
            "text/html": "<pre>Update-DbaServiceAccount             Changes service account (or just its password) of the SQL Server service.</pre>\r\n"
          },
          "metadata": {}
        },
        {
          "output_type": "display_data",
          "data": {
            "text/html": "<pre>Write-DbaDbTableData                 Writes data to a SQL Server Table.</pre>\r\n"
          },
          "metadata": {}
        },
        {
          "output_type": "display_data",
          "data": {
            "text/html": "<pre></pre>\r\n"
          },
          "metadata": {}
        }
      ],
      "execution_count": 6
    },
    {
      "cell_type": "code",
      "source": [
        "Find-DbaCommand -Pattern linked"
      ],
      "metadata": {
        "azdata_cell_guid": "c06460e7-12b5-4c19-a26e-f7aab540dd9c"
      },
      "outputs": [
        {
          "output_type": "display_data",
          "data": {
            "text/html": "<pre></pre>\r\n"
          },
          "metadata": {}
        },
        {
          "output_type": "display_data",
          "data": {
            "text/html": "<pre>CommandName                    Synopsis</pre>\r\n"
          },
          "metadata": {}
        },
        {
          "output_type": "display_data",
          "data": {
            "text/html": "<pre>-----------                    --------</pre>\r\n"
          },
          "metadata": {}
        },
        {
          "output_type": "display_data",
          "data": {
            "text/html": "<pre>Copy-DbaLinkedServer           Copy-DbaLinkedServer migrates Linked Servers from one SQL Server to another. Linked Se…</pre>\r\n"
          },
          "metadata": {}
        },
        {
          "output_type": "display_data",
          "data": {
            "text/html": "<pre>Export-DbaInstance             Exports SQL Server *ALL* database restore scripts, logins, database mail profiles/acco…</pre>\r\n"
          },
          "metadata": {}
        },
        {
          "output_type": "display_data",
          "data": {
            "text/html": "<pre>Export-DbaLinkedServer         Exports linked servers INCLUDING PASSWORDS, unless specified otherwise, to sql file.</pre>\r\n"
          },
          "metadata": {}
        },
        {
          "output_type": "display_data",
          "data": {
            "text/html": "<pre>Get-DbaLinkedServer            Gets all linked servers and a summary of information from the linked servers listed.</pre>\r\n"
          },
          "metadata": {}
        },
        {
          "output_type": "display_data",
          "data": {
            "text/html": "<pre>New-DbaDbMailProfile           Creates a new database mail profile</pre>\r\n"
          },
          "metadata": {}
        },
        {
          "output_type": "display_data",
          "data": {
            "text/html": "<pre>Read-DbaTraceFile              Reads SQL Server trace files</pre>\r\n"
          },
          "metadata": {}
        },
        {
          "output_type": "display_data",
          "data": {
            "text/html": "<pre>Start-DbaMigration             Migrates SQL Server *ALL* databases, logins, database mail profiles/accounts, credenti…</pre>\r\n"
          },
          "metadata": {}
        },
        {
          "output_type": "display_data",
          "data": {
            "text/html": "<pre>Sync-DbaAvailabilityGroup      Syncs dependent objects such as jobs, logins and custom errors for availability groups</pre>\r\n"
          },
          "metadata": {}
        },
        {
          "output_type": "display_data",
          "data": {
            "text/html": "<pre>Test-DbaLinkedServerConnection Test all linked servers from the sql servers passed</pre>\r\n"
          },
          "metadata": {}
        },
        {
          "output_type": "display_data",
          "data": {
            "text/html": "<pre></pre>\r\n"
          },
          "metadata": {}
        }
      ],
      "execution_count": 7
    },
    {
      "cell_type": "markdown",
      "source": [
        "## You can also use native PowerShell \n",
        "\n",
        "This can be used with any module"
      ],
      "metadata": {
        "azdata_cell_guid": "23e63ec8-b5be-4260-a71a-c2c8e23efb9d"
      }
    },
    {
      "cell_type": "code",
      "source": [
        "Get-Command -Module dbatools -Name *linked*"
      ],
      "metadata": {
        "azdata_cell_guid": "84d6ffe1-2a6d-47bf-8358-bd52c5cf2a1c"
      },
      "outputs": [
        {
          "output_type": "display_data",
          "data": {
            "text/html": "<pre></pre>\r\n"
          },
          "metadata": {}
        },
        {
          "output_type": "display_data",
          "data": {
            "text/html": "<pre>CommandType     Name                                               Version    Source</pre>\r\n"
          },
          "metadata": {}
        },
        {
          "output_type": "display_data",
          "data": {
            "text/html": "<pre>-----------     ----                                               -------    ------</pre>\r\n"
          },
          "metadata": {}
        },
        {
          "output_type": "display_data",
          "data": {
            "text/html": "<pre>Function        Copy-DbaLinkedServer                               1.0.100    dbatools</pre>\r\n"
          },
          "metadata": {}
        },
        {
          "output_type": "display_data",
          "data": {
            "text/html": "<pre>Function        Export-DbaLinkedServer                             1.0.100    dbatools</pre>\r\n"
          },
          "metadata": {}
        },
        {
          "output_type": "display_data",
          "data": {
            "text/html": "<pre>Function        Get-DbaLinkedServer                                1.0.100    dbatools</pre>\r\n"
          },
          "metadata": {}
        },
        {
          "output_type": "display_data",
          "data": {
            "text/html": "<pre>Function        Test-DbaLinkedServerConnection                     1.0.100    dbatools</pre>\r\n"
          },
          "metadata": {}
        },
        {
          "output_type": "display_data",
          "data": {
            "text/html": "<pre></pre>\r\n"
          },
          "metadata": {}
        }
      ],
      "execution_count": 8
    },
    {
      "cell_type": "markdown",
      "source": [
        "# How to use commands ?\n",
        "\n",
        "**ALWAYS ALWAYS ALWAYS use `Get-Help`**"
      ],
      "metadata": {
        "azdata_cell_guid": "8dc7d4ec-8021-4b19-a58c-8b3b1ee91acc"
      }
    },
    {
      "cell_type": "code",
      "source": [
        "Get-Help Test-DbaLinkedServerConnection -Full"
      ],
      "metadata": {
        "azdata_cell_guid": "046a7638-acb4-4d01-a2fc-e051e90f451f"
      },
      "outputs": [
        {
          "output_type": "display_data",
          "data": {
            "text/html": "<pre></pre>\r\n"
          },
          "metadata": {}
        },
        {
          "output_type": "display_data",
          "data": {
            "text/html": "<pre>NAME</pre>\r\n"
          },
          "metadata": {}
        },
        {
          "output_type": "display_data",
          "data": {
            "text/html": "<pre>    Test-DbaLinkedServerConnection</pre>\r\n"
          },
          "metadata": {}
        },
        {
          "output_type": "display_data",
          "data": {
            "text/html": "<pre>    </pre>\r\n"
          },
          "metadata": {}
        },
        {
          "output_type": "display_data",
          "data": {
            "text/html": "<pre>SYNOPSIS</pre>\r\n"
          },
          "metadata": {}
        },
        {
          "output_type": "display_data",
          "data": {
            "text/html": "<pre>    Test all linked servers from the sql servers passed</pre>\r\n"
          },
          "metadata": {}
        },
        {
          "output_type": "display_data",
          "data": {
            "text/html": "<pre>    </pre>\r\n"
          },
          "metadata": {}
        },
        {
          "output_type": "display_data",
          "data": {
            "text/html": "<pre>    </pre>\r\n"
          },
          "metadata": {}
        },
        {
          "output_type": "display_data",
          "data": {
            "text/html": "<pre>SYNTAX</pre>\r\n"
          },
          "metadata": {}
        },
        {
          "output_type": "display_data",
          "data": {
            "text/html": "<pre>    Test-DbaLinkedServerConnection [-SqlInstance] &lt;Sqlcollaborative.Dbatools.Parameter.DbaInstanceParameter[]&gt; [[-SqlCredential] &lt;Pscredential&gt;] [-EnableException &lt;Switch&gt;] [&lt;CommonParameters&gt;]</pre>\r\n"
          },
          "metadata": {}
        },
        {
          "output_type": "display_data",
          "data": {
            "text/html": "<pre>    </pre>\r\n"
          },
          "metadata": {}
        },
        {
          "output_type": "display_data",
          "data": {
            "text/html": "<pre>    </pre>\r\n"
          },
          "metadata": {}
        },
        {
          "output_type": "display_data",
          "data": {
            "text/html": "<pre>DESCRIPTION</pre>\r\n"
          },
          "metadata": {}
        },
        {
          "output_type": "display_data",
          "data": {
            "text/html": "<pre>    Test each linked server on the instance</pre>\r\n"
          },
          "metadata": {}
        },
        {
          "output_type": "display_data",
          "data": {
            "text/html": "<pre>    </pre>\r\n"
          },
          "metadata": {}
        },
        {
          "output_type": "display_data",
          "data": {
            "text/html": "<pre></pre>\r\n"
          },
          "metadata": {}
        },
        {
          "output_type": "display_data",
          "data": {
            "text/html": "<pre>PARAMETERS</pre>\r\n"
          },
          "metadata": {}
        },
        {
          "output_type": "display_data",
          "data": {
            "text/html": "<pre>    -EnableException [&lt;Switch&gt;]</pre>\r\n"
          },
          "metadata": {}
        },
        {
          "output_type": "display_data",
          "data": {
            "text/html": "<pre>        By default, when something goes wrong we try to catch it, interpret it and give you a friendly warning message.</pre>\r\n"
          },
          "metadata": {}
        },
        {
          "output_type": "display_data",
          "data": {
            "text/html": "<pre>        </pre>\r\n"
          },
          "metadata": {}
        },
        {
          "output_type": "display_data",
          "data": {
            "text/html": "<pre>        This avoids overwhelming you with &quot;sea of red&quot; exceptions, but is inconvenient because it basically disables advanced scripting.</pre>\r\n"
          },
          "metadata": {}
        },
        {
          "output_type": "display_data",
          "data": {
            "text/html": "<pre>        Using this switch turns this &quot;nice by default&quot; feature off and enables you to catch exceptions with your own try/catch.</pre>\r\n"
          },
          "metadata": {}
        },
        {
          "output_type": "display_data",
          "data": {
            "text/html": "<pre>        </pre>\r\n"
          },
          "metadata": {}
        },
        {
          "output_type": "display_data",
          "data": {
            "text/html": "<pre>        Required?                    false</pre>\r\n"
          },
          "metadata": {}
        },
        {
          "output_type": "display_data",
          "data": {
            "text/html": "<pre>        Position?                    named</pre>\r\n"
          },
          "metadata": {}
        },
        {
          "output_type": "display_data",
          "data": {
            "text/html": "<pre>        Default value                </pre>\r\n"
          },
          "metadata": {}
        },
        {
          "output_type": "display_data",
          "data": {
            "text/html": "<pre>        Accept pipeline input?       False</pre>\r\n"
          },
          "metadata": {}
        },
        {
          "output_type": "display_data",
          "data": {
            "text/html": "<pre>        Accept wildcard characters?  false</pre>\r\n"
          },
          "metadata": {}
        },
        {
          "output_type": "display_data",
          "data": {
            "text/html": "<pre>        </pre>\r\n"
          },
          "metadata": {}
        },
        {
          "output_type": "display_data",
          "data": {
            "text/html": "<pre>    -SqlCredential [&lt;Pscredential&gt;]</pre>\r\n"
          },
          "metadata": {}
        },
        {
          "output_type": "display_data",
          "data": {
            "text/html": "<pre>        Login to the target instance using alternative credentials. Accepts PowerShell credentials (Get-Credential).</pre>\r\n"
          },
          "metadata": {}
        },
        {
          "output_type": "display_data",
          "data": {
            "text/html": "<pre>        </pre>\r\n"
          },
          "metadata": {}
        },
        {
          "output_type": "display_data",
          "data": {
            "text/html": "<pre>        Windows Authentication, SQL Server Authentication, Active Directory - Password, and Active Directory - Integrated are all supported.</pre>\r\n"
          },
          "metadata": {}
        },
        {
          "output_type": "display_data",
          "data": {
            "text/html": "<pre>        </pre>\r\n"
          },
          "metadata": {}
        },
        {
          "output_type": "display_data",
          "data": {
            "text/html": "<pre>        For MFA support, please use Connect-DbaInstance.</pre>\r\n"
          },
          "metadata": {}
        },
        {
          "output_type": "display_data",
          "data": {
            "text/html": "<pre>        </pre>\r\n"
          },
          "metadata": {}
        },
        {
          "output_type": "display_data",
          "data": {
            "text/html": "<pre>        Required?                    false</pre>\r\n"
          },
          "metadata": {}
        },
        {
          "output_type": "display_data",
          "data": {
            "text/html": "<pre>        Position?                    named</pre>\r\n"
          },
          "metadata": {}
        },
        {
          "output_type": "display_data",
          "data": {
            "text/html": "<pre>        Default value                </pre>\r\n"
          },
          "metadata": {}
        },
        {
          "output_type": "display_data",
          "data": {
            "text/html": "<pre>        Accept pipeline input?       False</pre>\r\n"
          },
          "metadata": {}
        },
        {
          "output_type": "display_data",
          "data": {
            "text/html": "<pre>        Accept wildcard characters?  false</pre>\r\n"
          },
          "metadata": {}
        },
        {
          "output_type": "display_data",
          "data": {
            "text/html": "<pre>        </pre>\r\n"
          },
          "metadata": {}
        },
        {
          "output_type": "display_data",
          "data": {
            "text/html": "<pre>    -SqlInstance [&lt;Sqlcollaborative.Dbatools.Parameter.DbaInstanceParameter[]&gt;]</pre>\r\n"
          },
          "metadata": {}
        },
        {
          "output_type": "display_data",
          "data": {
            "text/html": "<pre>        The target SQL Server instance or instances.</pre>\r\n"
          },
          "metadata": {}
        },
        {
          "output_type": "display_data",
          "data": {
            "text/html": "<pre>        </pre>\r\n"
          },
          "metadata": {}
        },
        {
          "output_type": "display_data",
          "data": {
            "text/html": "<pre>        Required?                    false</pre>\r\n"
          },
          "metadata": {}
        },
        {
          "output_type": "display_data",
          "data": {
            "text/html": "<pre>        Position?                    named</pre>\r\n"
          },
          "metadata": {}
        },
        {
          "output_type": "display_data",
          "data": {
            "text/html": "<pre>        Default value                </pre>\r\n"
          },
          "metadata": {}
        },
        {
          "output_type": "display_data",
          "data": {
            "text/html": "<pre>        Accept pipeline input?       False</pre>\r\n"
          },
          "metadata": {}
        },
        {
          "output_type": "display_data",
          "data": {
            "text/html": "<pre>        Accept wildcard characters?  false</pre>\r\n"
          },
          "metadata": {}
        },
        {
          "output_type": "display_data",
          "data": {
            "text/html": "<pre>        </pre>\r\n"
          },
          "metadata": {}
        },
        {
          "output_type": "display_data",
          "data": {
            "text/html": "<pre>    &lt;CommonParameters&gt;</pre>\r\n"
          },
          "metadata": {}
        },
        {
          "output_type": "display_data",
          "data": {
            "text/html": "<pre>        This cmdlet supports the common parameters: Verbose, Debug,</pre>\r\n"
          },
          "metadata": {}
        },
        {
          "output_type": "display_data",
          "data": {
            "text/html": "<pre>        ErrorAction, ErrorVariable, WarningAction, WarningVariable,</pre>\r\n"
          },
          "metadata": {}
        },
        {
          "output_type": "display_data",
          "data": {
            "text/html": "<pre>        OutBuffer, PipelineVariable, and OutVariable. For more information, see</pre>\r\n"
          },
          "metadata": {}
        },
        {
          "output_type": "display_data",
          "data": {
            "text/html": "<pre>        about_CommonParameters (https://go.microsoft.com/fwlink/?LinkID=113216). </pre>\r\n"
          },
          "metadata": {}
        },
        {
          "output_type": "display_data",
          "data": {
            "text/html": "<pre>    </pre>\r\n"
          },
          "metadata": {}
        },
        {
          "output_type": "display_data",
          "data": {
            "text/html": "<pre>INPUTS</pre>\r\n"
          },
          "metadata": {}
        },
        {
          "output_type": "display_data",
          "data": {
            "text/html": "<pre>    </pre>\r\n"
          },
          "metadata": {}
        },
        {
          "output_type": "display_data",
          "data": {
            "text/html": "<pre>OUTPUTS</pre>\r\n"
          },
          "metadata": {}
        },
        {
          "output_type": "display_data",
          "data": {
            "text/html": "<pre>    </pre>\r\n"
          },
          "metadata": {}
        },
        {
          "output_type": "display_data",
          "data": {
            "text/html": "<pre>NOTES</pre>\r\n"
          },
          "metadata": {}
        },
        {
          "output_type": "display_data",
          "data": {
            "text/html": "<pre>    </pre>\r\n"
          },
          "metadata": {}
        },
        {
          "output_type": "display_data",
          "data": {
            "text/html": "<pre>    </pre>\r\n"
          },
          "metadata": {}
        },
        {
          "output_type": "display_data",
          "data": {
            "text/html": "<pre>        Tags: LinkedServer</pre>\r\n"
          },
          "metadata": {}
        },
        {
          "output_type": "display_data",
          "data": {
            "text/html": "<pre>        Author: Thomas LaRock ( https://thomaslarock.com )</pre>\r\n"
          },
          "metadata": {}
        },
        {
          "output_type": "display_data",
          "data": {
            "text/html": "<pre>        </pre>\r\n"
          },
          "metadata": {}
        },
        {
          "output_type": "display_data",
          "data": {
            "text/html": "<pre>        Website: https://dbatools.io</pre>\r\n"
          },
          "metadata": {}
        },
        {
          "output_type": "display_data",
          "data": {
            "text/html": "<pre>        Copyright: (c) 2018 by dbatools, licensed under MIT</pre>\r\n"
          },
          "metadata": {}
        },
        {
          "output_type": "display_data",
          "data": {
            "text/html": "<pre>        License: MIT https://opensource.org/licenses/MIT</pre>\r\n"
          },
          "metadata": {}
        },
        {
          "output_type": "display_data",
          "data": {
            "text/html": "<pre>    </pre>\r\n"
          },
          "metadata": {}
        },
        {
          "output_type": "display_data",
          "data": {
            "text/html": "<pre>    -------------------------- EXAMPLE 1 --------------------------</pre>\r\n"
          },
          "metadata": {}
        },
        {
          "output_type": "display_data",
          "data": {
            "text/html": "<pre>    </pre>\r\n"
          },
          "metadata": {}
        },
        {
          "output_type": "display_data",
          "data": {
            "text/html": "<pre>     PS C:\\&gt; Test-DbaLinkedServerConnection -SqlInstance DEV01</pre>\r\n"
          },
          "metadata": {}
        },
        {
          "output_type": "display_data",
          "data": {
            "text/html": "<pre>    </pre>\r\n"
          },
          "metadata": {}
        },
        {
          "output_type": "display_data",
          "data": {
            "text/html": "<pre>    Test all Linked Servers for the SQL Server instance DEV01</pre>\r\n"
          },
          "metadata": {}
        },
        {
          "output_type": "display_data",
          "data": {
            "text/html": "<pre>    -------------------------- EXAMPLE 2 --------------------------</pre>\r\n"
          },
          "metadata": {}
        },
        {
          "output_type": "display_data",
          "data": {
            "text/html": "<pre>    </pre>\r\n"
          },
          "metadata": {}
        },
        {
          "output_type": "display_data",
          "data": {
            "text/html": "<pre>     PS C:\\&gt; Test-DbaLinkedServerConnection -SqlInstance sql2016 | Out-File C:\\temp\\results.txt</pre>\r\n"
          },
          "metadata": {}
        },
        {
          "output_type": "display_data",
          "data": {
            "text/html": "<pre>    </pre>\r\n"
          },
          "metadata": {}
        },
        {
          "output_type": "display_data",
          "data": {
            "text/html": "<pre>    Test all Linked Servers for the SQL Server instance sql2016 and output results to file</pre>\r\n"
          },
          "metadata": {}
        },
        {
          "output_type": "display_data",
          "data": {
            "text/html": "<pre>    -------------------------- EXAMPLE 3 --------------------------</pre>\r\n"
          },
          "metadata": {}
        },
        {
          "output_type": "display_data",
          "data": {
            "text/html": "<pre>    </pre>\r\n"
          },
          "metadata": {}
        },
        {
          "output_type": "display_data",
          "data": {
            "text/html": "<pre>     PS C:\\&gt; Test-DbaLinkedServerConnection -SqlInstance sql2016, sql2014, sql2012</pre>\r\n"
          },
          "metadata": {}
        },
        {
          "output_type": "display_data",
          "data": {
            "text/html": "<pre>    </pre>\r\n"
          },
          "metadata": {}
        },
        {
          "output_type": "display_data",
          "data": {
            "text/html": "<pre>    Test all Linked Servers for the SQL Server instances sql2016, sql2014 and sql2012</pre>\r\n"
          },
          "metadata": {}
        },
        {
          "output_type": "display_data",
          "data": {
            "text/html": "<pre>    -------------------------- EXAMPLE 4 --------------------------</pre>\r\n"
          },
          "metadata": {}
        },
        {
          "output_type": "display_data",
          "data": {
            "text/html": "<pre>    </pre>\r\n"
          },
          "metadata": {}
        },
        {
          "output_type": "display_data",
          "data": {
            "text/html": "<pre>     PS C:\\&gt; $servers = &quot;sql2016&quot;,&quot;sql2014&quot;,&quot;sql2012&quot;</pre>\r\n"
          },
          "metadata": {}
        },
        {
          "output_type": "display_data",
          "data": {
            "text/html": "<pre>    </pre>\r\n"
          },
          "metadata": {}
        },
        {
          "output_type": "display_data",
          "data": {
            "text/html": "<pre>    PS C:\\&gt; $servers | Test-DbaLinkedServerConnection -SqlCredential sqladmin</pre>\r\n"
          },
          "metadata": {}
        },
        {
          "output_type": "display_data",
          "data": {
            "text/html": "<pre>    </pre>\r\n"
          },
          "metadata": {}
        },
        {
          "output_type": "display_data",
          "data": {
            "text/html": "<pre>    Test all Linked Servers for the SQL Server instances sql2016, sql2014 and sql2012 using SQL login credentials</pre>\r\n"
          },
          "metadata": {}
        },
        {
          "output_type": "display_data",
          "data": {
            "text/html": "<pre>    -------------------------- EXAMPLE 5 --------------------------</pre>\r\n"
          },
          "metadata": {}
        },
        {
          "output_type": "display_data",
          "data": {
            "text/html": "<pre>    </pre>\r\n"
          },
          "metadata": {}
        },
        {
          "output_type": "display_data",
          "data": {
            "text/html": "<pre>     PS C:\\&gt; $servers = &quot;sql2016&quot;,&quot;sql2014&quot;,&quot;sql2012&quot;</pre>\r\n"
          },
          "metadata": {}
        },
        {
          "output_type": "display_data",
          "data": {
            "text/html": "<pre>    </pre>\r\n"
          },
          "metadata": {}
        },
        {
          "output_type": "display_data",
          "data": {
            "text/html": "<pre>    PS C:\\&gt; $servers | Get-DbaLinkedServer | Test-DbaLinkedServerConnection</pre>\r\n"
          },
          "metadata": {}
        },
        {
          "output_type": "display_data",
          "data": {
            "text/html": "<pre>    </pre>\r\n"
          },
          "metadata": {}
        },
        {
          "output_type": "display_data",
          "data": {
            "text/html": "<pre>    Test all Linked Servers for the SQL Server instances sql2016, sql2014 and sql2012</pre>\r\n"
          },
          "metadata": {}
        },
        {
          "output_type": "display_data",
          "data": {
            "text/html": "<pre>    </pre>\r\n"
          },
          "metadata": {}
        },
        {
          "output_type": "display_data",
          "data": {
            "text/html": "<pre>RELATED LINKS</pre>\r\n"
          },
          "metadata": {}
        },
        {
          "output_type": "display_data",
          "data": {
            "text/html": "<pre>    https://dbatools.io/Test-DbaLinkedServerConnection</pre>\r\n"
          },
          "metadata": {}
        },
        {
          "output_type": "display_data",
          "data": {
            "text/html": "<pre></pre>\r\n"
          },
          "metadata": {}
        },
        {
          "output_type": "display_data",
          "data": {
            "text/html": "<pre>PROGRESS: Completed</pre>\r\n"
          },
          "metadata": {}
        },
        {
          "output_type": "display_data",
          "data": {
            "text/html": "<pre></pre>\r\n"
          },
          "metadata": {}
        }
      ],
      "execution_count": 9
    },
    {
      "cell_type": "code",
      "source": [
        "## Here a neat trick which you can use in PowerShell or pwsh but not in a notebook!\n",
        "## When PowerShell opens - right click to paste the command\n",
        "#      Find-DbaCommand -Pattern linked | Out-GridView -PassThru | Get-Help -Full \n",
        "\"Find-DbaCommand -Pattern linked | Out-GridView -PassThru | Get-Help -Full \" | clip\n",
        "# If you have PowerShell 7\n",
        "# Start-Process 'C:\\Program Files\\PowerShell\\7-preview\\pwsh.exe'\n",
        "\n",
        "# if you dont have PowerShell 7 then you can uncomment (remove the #) from the line below and comment (add a # to the beginning) of the line above\n",
        "Start-Process 'C:\\Windows\\system32\\WindowsPowerShell\\v1.0\\powershell.exe'"
      ],
      "metadata": {
        "azdata_cell_guid": "1112a493-763f-487b-b040-1c9757b03034"
      },
      "outputs": [],
      "execution_count": 5
    },
    {
      "cell_type": "markdown",
      "source": [
        "# Clean Up\n",
        "\n",
        "The 99-CleanUpContainers notebook will remove the containers, files and directory - it will leave the image so you do not have to download it again!"
      ],
      "metadata": {
        "azdata_cell_guid": "57b0d390-ffdf-4079-8c1d-0f5b96aa501b"
      }
    },
    {
      "cell_type": "code",
      "source": [],
      "metadata": {
        "azdata_cell_guid": "6047cc93-8c20-4755-b6fd-175f3de304e7"
      },
      "outputs": [],
      "execution_count": null
    }
  ]
}
