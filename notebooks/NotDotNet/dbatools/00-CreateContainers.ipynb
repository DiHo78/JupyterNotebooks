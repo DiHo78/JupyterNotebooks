{
    "metadata": {
        "kernelspec": {
            "name": "powershell",
            "display_name": "PowerShell"
        },
        "language_info": {
            "name": "powershell",
            "codemirror_mode": "shell",
            "mimetype": "text/x-sh",
            "file_extension": ".ps1"
        }
    },
    "nbformat_minor": 2,
    "nbformat": 4,
    "cells": [
        {
            "cell_type": "markdown",
            "source": [
                "![First Power Bi](.\\images\\dbatools.png )\r\n",
                "# Setting up the containers for the rest of the dbatools notebooks\r\n",
                "\r\n",
                "To be able to follow along with the rest of the notebooks, you will need to set up two containers. \r\n",
                "\r\n",
                "This notebook will enable you to do that.\r\n",
                "\r\n",
                "You will need to have Docker installed. The image is based on the SQL Server 2019 image so you will need to have docker set to use Linux Containers. Right click on the Docker icon in the notification area and if it says \"Switch to Linux Containers\" click to switch and wait for Docker to restart.  \r\n",
                "\r\n",
                "![Switch To Linux Containers](.\\images\\switchtolinuxcontainers.png )\r\n",
                "\r\n",
                "You will be able to run all of the code in the notebooks by creating the folder, credential and containers in this notebook and then you can click on the play button in each code block to run the code. Note - There are a few code blocks with the results already included which should not be run. They are to show you the results of a command that cannot be run against containers (setting up configuration for domain accounts for example)\r\n",
                ""
            ],
            "metadata": {
                "azdata_cell_guid": "781fa187-b822-42c1-81b4-ef942ff6887b"
            }
        },
        {
            "cell_type": "markdown",
            "source": [
                "## Create the folders and the credential\r\n",
                "\r\n",
                "Before you run this code, you will have to enter the directory that this notebook is saved in.   \r\n",
                "\r\n",
                "This is a restriction of the Jupyter Notebook in Azure Data Studio as the PowerShell session does not know where it is loc, but I am keeping it for consistency.ted.  \r\n",
                "\r\n",
                "The code below will create a directory called dbachecks-demo in your Documents folder and save a credential file for logging into the containers. You can alter the directory created by altering the $FolderPath but you will have to do this in every notebook."
            ],
            "metadata": {
                "azdata_cell_guid": "a76c0c6e-9c3c-46e0-8cdb-4c6efbcd80fd"
            }
        },
        {
            "cell_type": "code",
            "source": [
                "# Alter the Notebook Directory below before running this code\r\n",
                "$notebookDirectory ='C:\\Users\\mrrob\\OneDrive\\Documents\\GitHub\\JupyterNotebooks\\notebooks\\NotDotNet\\dbatools'\r\n",
                "$FolderPath = $Env:USERPROFILE + '\\Documents\\dbatools'\r\n",
                "\r\n",
                "########################################################\r\n",
                "Write-Output \"Creating Directory $FolderPath\"\r\n",
                "if(Test-Path $FolderPath){\r\n",
                "    Write-Output \"Path $FolderPath exists already\"\r\n",
                "}else {\r\n",
                " $null =    New-Item $FolderPath -ItemType Directory\r\n",
                "}\r\n",
                "\r\n",
                "Write-Output \"Creating Directory $FolderPath\\SQL1\"\r\n",
                "if(Test-Path \"$FolderPath\\SQL1\"){\r\n",
                "    Write-Output \"Directory SQL1 exists already\"\r\n",
                "    Get-ChildItem \"$FolderPath\\SQL1\" -Recurse| Remove-Item -Recurse -Force\r\n",
                "}else {\r\n",
                "$null = New-Item \"$FolderPath\\SQL1\"-ItemType Directory\r\n",
                "}\r\n",
                "Write-Output \"Creating File $FolderPath\\SQL1\\dummyfile.txt\"\r\n",
                "if(Test-Path \"$FolderPath\\SQL1\\dummyfile.txt\"){\r\n",
                "    Write-Output \"dummyfile.txt exists already\"\r\n",
                "}else {\r\n",
                "$null =  New-Item \"$FolderPath\\SQL1\\dummyfile.txt\" -ItemType file\r\n",
                "}\r\n",
                "\r\n",
                "Write-Output \"Creating Directory $FolderPath\\SQL2\"\r\n",
                "if(Test-Path \"$FolderPath\\SQL2\"){\r\n",
                "    Write-Output \"Directory SQL2 exists already\"\r\n",
                "    Get-ChildItem \"$FolderPath\\SQL2\" -Recurse| Remove-Item -Recurse -Force\r\n",
                "}else {\r\n",
                " $null =    New-Item \"$FolderPath\\SQL2\"-ItemType Directory\r\n",
                "}\r\n",
                "Write-Output \"Creating File $FolderPath\\SQL2\\dummyfile.txt\"\r\n",
                "if(Test-Path \"$FolderPath\\SQL2\\dummyfile.txt\"){\r\n",
                "    Write-Output \"dummyfile.txt exists already\"\r\n",
                "}else {\r\n",
                "$null =  New-Item \"$FolderPath\\SQL2\\dummyfile.txt\" -ItemType file\r\n",
                "}\r\n",
                "\r\n",
                "Write-Output \"Creating a credential file for the containers - Please don't do this in production\"\r\n",
                "\r\n",
                "$sqladminPassword = ConvertTo-SecureString 'dbatools.IO' -AsPlainText -Force \r\n",
                "$cred = New-Object System.Management.Automation.PSCredential ('sqladmin', $sqladminpassword)\r\n",
                "$Cred | Export-Clixml -Path $FolderPath\\sqladmin.cred\r\n",
                "Write-Output \"Credential file created\"\r\n",
                "\r\n",
                "Write-Output \"Setting the docker-compose files values\"\r\n",
                "$dockercompose = (Get-Content $notebookDirectory\\dockercompose.yml) -replace '__ReplaceME__' , $FolderPath\r\n",
                "# $dockercompose\r\n",
                "$dockercompose | Set-Content $FolderPath\\docker-compose.yml\r\n",
                "\r\n",
                ""
            ],
            "metadata": {
                "azdata_cell_guid": "3f4eec83-177a-4dc3-bbb5-d3ebb29659a9",
                "tags": [
                    "hide_input"
                ]
            },
            "outputs": [
                {
                    "name": "stdout",
                    "text": "Creating Directory C:\\Users\\mrrob\\Documents\\dbatools\nCreating Directory C:\\Users\\mrrob\\Documents\\dbatools\\SQL1\nCreating File C:\\Users\\mrrob\\Documents\\dbatools\\SQL1\\dummyfile.txt\nCreating Directory C:\\Users\\mrrob\\Documents\\dbatools\\SQL2\nCreating File C:\\Users\\mrrob\\Documents\\dbatools\\SQL2\\dummyfile.txt\nCreating a credential file for the containers - Please don't do this in production\nCredential file created\nSetting the docker-compose files values\n",
                    "output_type": "stream"
                }
            ],
            "execution_count": 9
        },
        {
            "cell_type": "markdown",
            "source": [
                "## Containers\r\n",
                "\r\n",
                "We are going to create two SQL 2019 containers using the sqldbawithabeard\\dbachecks [image from the Docker Hub](https://hub.docker.com/repository/docker/sqldbawithabeard/dbachecksdemo).ve.\r\n",
                "\r\n",
                "The first time it is going to pull the image sqldbawithabeard/dbachecksdemo from the Docker Hub. If you wish to do this first, you can run \r\n",
                "\r\n",
                "`docker pull sqldbawithabeard/dbachecksdemo`\r\n",
                ""
            ],
            "metadata": {
                "azdata_cell_guid": "d4b95aa2-0c4b-48cf-96ac-700abea262f9"
            }
        },
        {
            "cell_type": "code",
            "source": [
                "$FolderPath = $Env:USERPROFILE + '\\Documents\\dbatools'\r\n",
                "Set-Location $FolderPath\r\n",
                "docker-compose up -d"
            ],
            "metadata": {
                "azdata_cell_guid": "e4598636-1eee-4131-b584-5d5dbfec6859"
            },
            "outputs": [
                {
                    "name": "stdout",
                    "text": "Creating network \"dbatools_BeardsMagicNetwork\" with the default driver\nCreating dbatools_SQL2019_1 ... \nCreating dbatools_SQL2019-1_1 ... \n\u001b[2A\u001b[2KCreating dbatools_SQL2019_1   ... \u001b[32mdone\u001b[0m\u001b[2B\u001b[1A\u001b[2KCreating dbatools_SQL2019-1_1 ... \u001b[32mdone\u001b[0m\u001b[1B",
                    "output_type": "stream"
                }
            ],
            "execution_count": 10
        },
        {
            "cell_type": "markdown",
            "source": [
                "If you get an error you might need to add the user you have shared your drives with Docker modify permissions to the \\Documents\\ directory in your user profile\r\n",
                "More details https://docs.docker.com/docker-for-windows/ or troubleshoot in the normal way\r\n",
                "\r\n",
                "Otherwise continue to the next notebook"
            ],
            "metadata": {
                "azdata_cell_guid": "aec33c26-a772-422f-9234-eed9778fbf09"
            }
        },
        {
            "cell_type": "markdown",
            "source": [
                "If there are warnings above - Check the containers are running - Look at the status column"
            ],
            "metadata": {
                "azdata_cell_guid": "898e4dc9-9b05-4d43-b9ea-01ef3be773e3"
            }
        },
        {
            "cell_type": "code",
            "source": [
                "docker ps -a"
            ],
            "metadata": {
                "azdata_cell_guid": "8f345cec-e5d4-452c-be5b-9edbe920a3c5"
            },
            "outputs": [
                {
                    "name": "stdout",
                    "text": "CONTAINER ID        IMAGE                            COMMAND                  CREATED             STATUS              PORTS                                             NAMES\nedc37689b392        sqldbawithabeard/dbachecksdemo   \"/opt/mssql/bin/perm…\"   9 seconds ago       Up 8 seconds        0.0.0.0:5023->5023/tcp, 0.0.0.0:15593->1433/tcp   dbatools_SQL2019-1_1\n50dd0f84a02b        sqldbawithabeard/dbachecksdemo   \"/opt/mssql/bin/perm…\"   9 seconds ago       Up 8 seconds        0.0.0.0:5022->5022/tcp, 0.0.0.0:15592->1433/tcp   dbatools_SQL2019_1\n",
                    "output_type": "stream"
                }
            ],
            "execution_count": 11
        },
        {
            "cell_type": "code",
            "source": [
                "docker logs dbatools_SQL2019_1"
            ],
            "metadata": {
                "azdata_cell_guid": "99891ce6-6eee-4d34-b708-e8e30823a390"
            },
            "outputs": [
                {
                    "name": "stdout",
                    "text": "SQL Server 2019 will run as non-root by default.\nThis container is running as user mssql.\nYour master database file is owned by mssql.\nTo learn more visit https://go.microsoft.com/fwlink/?linkid=2099216.\n2020-03-26 13:22:25.87 Server      Microsoft SQL Server 2019 (RTM) - 15.0.2000.5 (X64) \n\tSep 24 2019 13:48:23 \n\tCopyright (C) 2019 Microsoft Corporation\n\tDeveloper Edition (64-bit) on Linux (Ubuntu 16.04.6 LTS) <X64>\n2020-03-26 13:22:25.87 Server      UTC adjustment: 0:00\n2020-03-26 13:22:25.87 Server      (c) Microsoft Corporation.\n2020-03-26 13:22:25.88 Server      All rights reserved.\n2020-03-26 13:22:25.88 Server      Server process ID is 32.\n2020-03-26 13:22:25.88 Server      Logging SQL Server messages in file '/var/opt/mssql/log/errorlog'.\n2020-03-26 13:22:25.88 Server      Registry startup parameters: \n\t -d /var/opt/mssql/data/master.mdf\n\t -l /var/opt/mssql/data/mastlog.ldf\n\t -e /var/opt/mssql/log/errorlog\n2020-03-26 13:22:25.89 Server      SQL Server detected 1 sockets with 2 cores per socket and 4 logical processors per socket, 4 total logical processors; using 4 logical processors based on SQL Server licensing. This is an informational message; no user action is required.\n2020-03-26 13:22:25.89 Server      SQL Server is starting at normal priority base (=7). This is an informational message only. No user action is required.\n2020-03-26 13:22:25.89 Server      Detected 4759 MB of RAM. This is an informational message; no user action is required.\n2020-03-26 13:22:25.89 Server      Using conventional memory in the memory manager.\n2020-03-26 13:22:25.90 Server      Page exclusion bitmap is enabled.\n2020-03-26 13:22:25.93 Server      Buffer pool extension is not supported on Linux platform.\n2020-03-26 13:22:25.93 Server      Buffer Pool: Allocating 1048576 bytes for 675592 hashPages.\n2020-03-26 13:22:26.24 Server      Buffer pool extension is already disabled. No action is necessary.\n2020-03-26 13:22:26.49 Server      Successfully initialized the TLS configuration. Allowed TLS protocol versions are ['1.0 1.1 1.2']. Allowed TLS ciphers are ['ECDHE-ECDSA-AES128-GCM-SHA256:ECDHE-ECDSA-AES256-GCM-SHA384:ECDHE-RSA-AES128-GCM-SHA256:ECDHE-RSA-AES256-GCM-SHA384:ECDHE-ECDSA-AES128-SHA256:ECDHE-ECDSA-AES256-SHA384:ECDHE-ECDSA-AES256-SHA:ECDHE-ECDSA-AES128-SHA:AES256-GCM-SHA384:AES128-GCM-SHA256:AES256-SHA256:AES128-SHA256:AES256-SHA:AES128-SHA:!DHE-RSA-AES256-GCM-SHA384:!DHE-RSA-AES128-GCM-SHA256:!DHE-RSA-AES256-SHA:!DHE-RSA-AES128-SHA'].\n2020-03-26 13:22:26.50 Server      Query Store settings initialized with enabled = 1, \n2020-03-26 13:22:26.53 Server      The maximum number of dedicated administrator connections for this instance is '1'\n2020-03-26 13:22:26.54 Server      Node configuration: node 0: CPU mask: 0x000000000000000f:0 Active CPU mask: 0x000000000000000f:0. This message provides a description of the NUMA configuration for this computer. This is an informational message only. No user action is required.\n2020-03-26 13:22:26.55 Server      Using dynamic lock allocation.  Initial allocation of 2500 Lock blocks and 5000 Lock Owner blocks per node.  This is an informational message only.  No user action is required.\n2020-03-26 13:22:26.56 Server      In-Memory OLTP initialized on lowend machine.\n2020-03-26 13:22:26.65 Server      [INFO] Created Extended Events session 'hkenginexesession'\n\n2020-03-26 13:22:26.65 Server      Database Instant File Initialization: enabled. For security and performance considerations see the topic 'Database Instant File Initialization' in SQL Server Books Online. This is an informational message only. No user action is required.\nForceFlush is enabled for this instance. \n2020-03-26 13:22:26.66 Server      Total Log Writer threads: 2. This is an informational message; no user action is required.\n2020-03-26 13:22:26.70 Server      clflushopt is selected for pmem flush operation.\n2020-03-26 13:22:26.71 Server      Software Usage Metrics is disabled.\n2020-03-26 13:22:26.71 spid9s      [1]. Feature Status: PVS: 0. CTR: 0. ConcurrentPFSUpdate: 1.\n2020-03-26 13:22:26.71 spid9s      Starting up database 'master'.\n2020-03-26 13:22:26.93 Server      CLR version v4.0.30319 loaded.\nForceFlush feature is enabled for log durability.\n2020-03-26 13:22:27.47 spid9s      CHECKDB for database 'master' finished without errors on 2019-12-21 14:41:58.023 (local time). This is an informational message only; no user action is required.\n2020-03-26 13:22:27.51 spid9s      Resource governor reconfiguration succeeded.\n2020-03-26 13:22:27.51 spid9s      SQL Server Audit is starting the audits. This is an informational message. No user action is required.\n2020-03-26 13:22:27.52 spid9s      SQL Server Audit has started the audits. This is an informational message. No user action is required.\n2020-03-26 13:22:27.69 Server      Common language runtime (CLR) functionality initialized.\n2020-03-26 13:22:28.03 spid9s      SQL Trace ID 1 was started by login \"sa\".\n2020-03-26 13:22:28.11 spid9s      Server name is '6b5d711354b8'. This is an informational message only. No user action is required.\n2020-03-26 13:22:28.14 spid27s     [5]. Feature Status: PVS: 0. CTR: 0. ConcurrentPFSUpdate: 1.\n2020-03-26 13:22:28.14 spid26s     [4]. Feature Status: PVS: 0. CTR: 0. ConcurrentPFSUpdate: 1.\n2020-03-26 13:22:28.14 spid11s     [32767]. Feature Status: PVS: 0. CTR: 0. ConcurrentPFSUpdate: 1.\n2020-03-26 13:22:28.15 spid30s     [7]. Feature Status: PVS: 0. CTR: 0. ConcurrentPFSUpdate: 1.\n2020-03-26 13:22:28.16 spid26s     Starting up database 'msdb'.\n2020-03-26 13:22:28.16 spid31s     [8]. Feature Status: PVS: 0. CTR: 0. ConcurrentPFSUpdate: 1.\n2020-03-26 13:22:28.18 spid29s     Always On: The availability replica manager is starting. This is an informational message only. No user action is required.\n2020-03-26 13:22:28.19 spid11s     Starting up database 'mssqlsystemresource'.\n2020-03-26 13:22:28.20 spid31s     Starting up database 'pubs'.\n2020-03-26 13:22:28.19 spid27s     Starting up database 'AdventureWorks2017'.\n2020-03-26 13:22:28.19 spid30s     Starting up database 'Northwind'.\n2020-03-26 13:22:28.22 spid11s     The resource database build version is 15.00.2000. This is an informational message only. No user action is required.\n2020-03-26 13:22:28.30 spid29s     Always On: The availability replica manager is waiting for the instance of SQL Server to allow client connections. This is an informational message only. No user action is required.\n2020-03-26 13:22:28.34 spid11s     [3]. Feature Status: PVS: 0. CTR: 0. ConcurrentPFSUpdate: 1.\n2020-03-26 13:22:28.35 spid11s     Starting up database 'model'.\n2020-03-26 13:22:28.61 spid24s     A self-generated certificate was successfully loaded for encryption.\n2020-03-26 13:22:28.63 spid24s     Server is listening on [ 'any' <ipv6> 1433].\n2020-03-26 13:22:28.64 spid24s     Server is listening on [ 'any' <ipv4> 1433].\n2020-03-26 13:22:28.66 Server      Server is listening on [ 'any' <ipv6> 1434].\n2020-03-26 13:22:28.66 Server      Server is listening on [ 'any' <ipv4> 1434].\n2020-03-26 13:22:28.67 Server      Dedicated admin connection support was established for listening remotely on port 1434.\n2020-03-26 13:22:28.67 spid24s     Error: 39002, Severity: 16, State: 1.\n2020-03-26 13:22:28.67 spid24s     SQL failed to boot extensibility for error code 0x80070005.\n2020-03-26 13:22:28.68 spid24s     InitializeXdbPkgLauncher failed. ErrorCode: 0x80004005.\n2020-03-26 13:22:28.68 spid24s     SQL Server is now ready for client connections. This is an informational message; no user action is required.\n2020-03-26 13:22:29.04 Server      Failed to verify the Authenticode signature of 'C:\\binn\\msoledbsql.dll'. Signature verification of SQL Server DLLs will be skipped. Genuine copies of SQL Server are signed. Failure to verify the Authenticode signature might indicate that this is not an authentic release of SQL Server. Install a genuine copy of SQL Server or contact customer support.\n2020-03-26 13:22:29.39 spid30s     Parallel redo is started for database 'Northwind' with worker pool size [2].\n2020-03-26 13:22:29.57 spid11s     CHECKDB for database 'model' finished without errors on 2019-12-21 14:41:58.610 (local time). This is an informational message only; no user action is required.\n2020-03-26 13:22:29.57 spid11s     Clearing tempdb database.\n2020-03-26 13:22:29.57 spid9s      Parallel redo is shutdown for database 'Northwind' with worker pool size [2].\n2020-03-26 13:22:29.59 spid31s     Parallel redo is started for database 'pubs' with worker pool size [2].\n2020-03-26 13:22:29.67 spid30s     CHECKDB for database 'Northwind' finished without errors on 2019-12-21 14:42:06.193 (local time). This is an informational message only; no user action is required.\n2020-03-26 13:22:29.69 spid9s      Recovery is writing a checkpoint in database 'msdb' (4). This is an informational message only. No user action is required.\n2020-03-26 13:22:29.77 spid31s     CHECKDB for database 'pubs' finished without errors on 2019-12-21 14:42:06.563 (local time). This is an informational message only; no user action is required.\n2020-03-26 13:22:29.78 spid31s     Parallel redo is shutdown for database 'pubs' with worker pool size [2].\n2020-03-26 13:22:29.98 spid26s     CHECKDB for database 'msdb' finished without errors on 2019-12-21 14:41:59.007 (local time). This is an informational message only; no user action is required.\n2020-03-26 13:22:32.71 spid11s     [2]. Feature Status: PVS: 0. CTR: 0. ConcurrentPFSUpdate: 1.\n2020-03-26 13:22:32.72 spid11s     Starting up database 'tempdb'.\n2020-03-26 13:22:33.43 spid27s     Parallel redo is started for database 'AdventureWorks2017' with worker pool size [2].\n2020-03-26 13:22:33.50 spid9s      Parallel redo is shutdown for database 'AdventureWorks2017' with worker pool size [2].\n2020-03-26 13:22:33.53 spid27s     CHECKDB for database 'AdventureWorks2017' finished without errors on 2019-12-21 14:42:03.403 (local time). This is an informational message only; no user action is required.\n2020-03-26 13:22:34.70 spid11s     The tempdb database has 4 data file(s).\n2020-03-26 13:22:34.72 spid27s     The Service Broker endpoint is in disabled or stopped state.\n2020-03-26 13:22:34.72 spid27s     The Database Mirroring endpoint is in disabled or stopped state.\n2020-03-26 13:22:34.73 spid27s     Service Broker manager has started.\n2020-03-26 13:22:34.73 spid9s      Recovery is complete. This is an informational message only. No user action is required.\n2020-03-26 13:22:35.27 spid51      Attempting to load library 'xpsqlbot.dll' into memory. This is an informational message only. No user action is required.\n2020-03-26 13:22:35.30 spid51      Using 'xpsqlbot.dll' version '2019.150.2000' to execute extended stored procedure 'xp_qv'. This is an informational message only; no user action is required.\n2020-03-26 13:22:35.34 spid51      Attempting to load library 'xpstar.dll' into memory. This is an informational message only. No user action is required.\n2020-03-26 13:22:35.40 spid51      Using 'xpstar.dll' version '2019.150.2000' to execute extended stored procedure 'xp_sqlagent_notify'. This is an informational message only; no user action is required.\n",
                    "output_type": "stream"
                }
            ],
            "execution_count": 6
        },
        {
            "cell_type": "code",
            "source": [
                "docker logs dbatools_SQL2019-1_1"
            ],
            "metadata": {
                "azdata_cell_guid": "9e3b162b-a8fd-4f51-87a6-34b14e27f534"
            },
            "outputs": [
                {
                    "name": "stdout",
                    "text": "SQL Server 2019 will run as non-root by default.\nThis container is running as user mssql.\nYour master database file is owned by mssql.\nTo learn more visit https://go.microsoft.com/fwlink/?linkid=2099216.\n2020-03-26 13:22:25.91 Server      Microsoft SQL Server 2019 (RTM) - 15.0.2000.5 (X64) \n\tSep 24 2019 13:48:23 \n\tCopyright (C) 2019 Microsoft Corporation\n\tDeveloper Edition (64-bit) on Linux (Ubuntu 16.04.6 LTS) <X64>\n2020-03-26 13:22:25.91 Server      UTC adjustment: 0:00\n2020-03-26 13:22:25.91 Server      (c) Microsoft Corporation.\n2020-03-26 13:22:25.91 Server      All rights reserved.\n2020-03-26 13:22:25.91 Server      Server process ID is 32.\n2020-03-26 13:22:25.91 Server      Logging SQL Server messages in file '/var/opt/mssql/log/errorlog'.\n2020-03-26 13:22:25.91 Server      Registry startup parameters: \n\t -d /var/opt/mssql/data/master.mdf\n\t -l /var/opt/mssql/data/mastlog.ldf\n\t -e /var/opt/mssql/log/errorlog\n2020-03-26 13:22:25.92 Server      SQL Server detected 1 sockets with 2 cores per socket and 4 logical processors per socket, 4 total logical processors; using 4 logical processors based on SQL Server licensing. This is an informational message; no user action is required.\n2020-03-26 13:22:25.92 Server      SQL Server is starting at normal priority base (=7). This is an informational message only. No user action is required.\n2020-03-26 13:22:25.92 Server      Detected 4759 MB of RAM. This is an informational message; no user action is required.\n2020-03-26 13:22:25.92 Server      Using conventional memory in the memory manager.\n2020-03-26 13:22:25.92 Server      Page exclusion bitmap is enabled.\n2020-03-26 13:22:25.95 Server      Buffer pool extension is not supported on Linux platform.\n2020-03-26 13:22:25.95 Server      Buffer Pool: Allocating 1048576 bytes for 675540 hashPages.\n2020-03-26 13:22:26.24 Server      Buffer pool extension is already disabled. No action is necessary.\n2020-03-26 13:22:26.49 Server      Successfully initialized the TLS configuration. Allowed TLS protocol versions are ['1.0 1.1 1.2']. Allowed TLS ciphers are ['ECDHE-ECDSA-AES128-GCM-SHA256:ECDHE-ECDSA-AES256-GCM-SHA384:ECDHE-RSA-AES128-GCM-SHA256:ECDHE-RSA-AES256-GCM-SHA384:ECDHE-ECDSA-AES128-SHA256:ECDHE-ECDSA-AES256-SHA384:ECDHE-ECDSA-AES256-SHA:ECDHE-ECDSA-AES128-SHA:AES256-GCM-SHA384:AES128-GCM-SHA256:AES256-SHA256:AES128-SHA256:AES256-SHA:AES128-SHA:!DHE-RSA-AES256-GCM-SHA384:!DHE-RSA-AES128-GCM-SHA256:!DHE-RSA-AES256-SHA:!DHE-RSA-AES128-SHA'].\n2020-03-26 13:22:26.51 Server      Query Store settings initialized with enabled = 1, \n2020-03-26 13:22:26.54 Server      The maximum number of dedicated administrator connections for this instance is '1'\n2020-03-26 13:22:26.54 Server      Node configuration: node 0: CPU mask: 0x000000000000000f:0 Active CPU mask: 0x000000000000000f:0. This message provides a description of the NUMA configuration for this computer. This is an informational message only. No user action is required.\n2020-03-26 13:22:26.55 Server      Using dynamic lock allocation.  Initial allocation of 2500 Lock blocks and 5000 Lock Owner blocks per node.  This is an informational message only.  No user action is required.\n2020-03-26 13:22:26.57 Server      In-Memory OLTP initialized on lowend machine.\n2020-03-26 13:22:26.66 Server      [INFO] Created Extended Events session 'hkenginexesession'\n\n2020-03-26 13:22:26.66 Server      Database Instant File Initialization: enabled. For security and performance considerations see the topic 'Database Instant File Initialization' in SQL Server Books Online. This is an informational message only. No user action is required.\nForceFlush is enabled for this instance. \n2020-03-26 13:22:26.67 Server      Total Log Writer threads: 2. This is an informational message; no user action is required.\n2020-03-26 13:22:26.73 Server      clflushopt is selected for pmem flush operation.\n2020-03-26 13:22:26.73 Server      Software Usage Metrics is disabled.\n2020-03-26 13:22:26.75 spid10s     [1]. Feature Status: PVS: 0. CTR: 0. ConcurrentPFSUpdate: 1.\n2020-03-26 13:22:26.75 spid10s     Starting up database 'master'.\n2020-03-26 13:22:26.96 Server      CLR version v4.0.30319 loaded.\nForceFlush feature is enabled for log durability.\n2020-03-26 13:22:27.44 spid10s     CHECKDB for database 'master' finished without errors on 2019-12-21 14:41:58.023 (local time). This is an informational message only; no user action is required.\n2020-03-26 13:22:27.48 spid10s     Resource governor reconfiguration succeeded.\n2020-03-26 13:22:27.48 spid10s     SQL Server Audit is starting the audits. This is an informational message. No user action is required.\n2020-03-26 13:22:27.49 spid10s     SQL Server Audit has started the audits. This is an informational message. No user action is required.\n2020-03-26 13:22:27.56 Server      Common language runtime (CLR) functionality initialized.\n2020-03-26 13:22:28.04 spid10s     SQL Trace ID 1 was started by login \"sa\".\n2020-03-26 13:22:28.11 spid10s     Server name is '22ef8cfdcf03'. This is an informational message only. No user action is required.\n2020-03-26 13:22:28.13 spid26s     Always On: The availability replica manager is starting. This is an informational message only. No user action is required.\n2020-03-26 13:22:28.14 spid12s     [32767]. Feature Status: PVS: 0. CTR: 0. ConcurrentPFSUpdate: 1.\n2020-03-26 13:22:28.14 spid26s     Always On: The availability replica manager is waiting for the instance of SQL Server to allow client connections. This is an informational message only. No user action is required.\n2020-03-26 13:22:28.15 spid12s     Starting up database 'mssqlsystemresource'.\n2020-03-26 13:22:28.15 spid28s     [4]. Feature Status: PVS: 0. CTR: 0. ConcurrentPFSUpdate: 1.\n2020-03-26 13:22:28.16 spid29s     [5]. Feature Status: PVS: 0. CTR: 0. ConcurrentPFSUpdate: 1.\n2020-03-26 13:22:28.16 spid28s     Starting up database 'msdb'.\n2020-03-26 13:22:28.18 spid31s     [8]. Feature Status: PVS: 0. CTR: 0. ConcurrentPFSUpdate: 1.\n2020-03-26 13:22:28.16 spid30s     [7]. Feature Status: PVS: 0. CTR: 0. ConcurrentPFSUpdate: 1.\n2020-03-26 13:22:28.18 spid29s     Starting up database 'AdventureWorks2017'.\n2020-03-26 13:22:28.19 spid31s     Starting up database 'pubs'.\n2020-03-26 13:22:28.19 spid30s     Starting up database 'Northwind'.\n2020-03-26 13:22:28.20 spid12s     The resource database build version is 15.00.2000. This is an informational message only. No user action is required.\n2020-03-26 13:22:28.35 spid12s     [3]. Feature Status: PVS: 0. CTR: 0. ConcurrentPFSUpdate: 1.\n2020-03-26 13:22:28.36 spid12s     Starting up database 'model'.\n2020-03-26 13:22:28.57 spid23s     A self-generated certificate was successfully loaded for encryption.\n2020-03-26 13:22:28.59 spid23s     Server is listening on [ 'any' <ipv6> 1433].\n2020-03-26 13:22:28.59 spid23s     Server is listening on [ 'any' <ipv4> 1433].\n2020-03-26 13:22:28.60 Server      Server is listening on [ 'any' <ipv6> 1434].\n2020-03-26 13:22:28.60 Server      Server is listening on [ 'any' <ipv4> 1434].\n2020-03-26 13:22:28.60 Server      Dedicated admin connection support was established for listening remotely on port 1434.\n2020-03-26 13:22:28.62 spid23s     Error: 39002, Severity: 16, State: 1.\n2020-03-26 13:22:28.62 spid23s     SQL failed to boot extensibility for error code 0x80070005.\n2020-03-26 13:22:28.63 spid23s     InitializeXdbPkgLauncher failed. ErrorCode: 0x80004005.\n2020-03-26 13:22:28.65 spid23s     SQL Server is now ready for client connections. This is an informational message; no user action is required.\n2020-03-26 13:22:28.82 Server      Failed to verify the Authenticode signature of 'C:\\binn\\msoledbsql.dll'. Signature verification of SQL Server DLLs will be skipped. Genuine copies of SQL Server are signed. Failure to verify the Authenticode signature might indicate that this is not an authentic release of SQL Server. Install a genuine copy of SQL Server or contact customer support.\n2020-03-26 13:22:29.46 spid30s     Parallel redo is started for database 'Northwind' with worker pool size [2].\n2020-03-26 13:22:29.55 spid31s     Parallel redo is started for database 'pubs' with worker pool size [2].\n2020-03-26 13:22:29.68 spid12s     CHECKDB for database 'model' finished without errors on 2019-12-21 14:41:58.610 (local time). This is an informational message only; no user action is required.\n2020-03-26 13:22:29.68 spid12s     Clearing tempdb database.\n2020-03-26 13:22:29.70 spid10s     Parallel redo is shutdown for database 'Northwind' with worker pool size [2].\n2020-03-26 13:22:29.73 spid30s     CHECKDB for database 'Northwind' finished without errors on 2019-12-21 14:42:06.193 (local time). This is an informational message only; no user action is required.\n2020-03-26 13:22:29.76 spid31s     CHECKDB for database 'pubs' finished without errors on 2019-12-21 14:42:06.563 (local time). This is an informational message only; no user action is required.\n2020-03-26 13:22:29.76 spid31s     Recovery is writing a checkpoint in database 'msdb' (4). This is an informational message only. No user action is required.\n2020-03-26 13:22:29.82 spid10s     Parallel redo is shutdown for database 'pubs' with worker pool size [2].\n2020-03-26 13:22:29.87 spid28s     CHECKDB for database 'msdb' finished without errors on 2019-12-21 14:41:59.007 (local time). This is an informational message only; no user action is required.\n2020-03-26 13:22:32.80 spid12s     [2]. Feature Status: PVS: 0. CTR: 0. ConcurrentPFSUpdate: 1.\n2020-03-26 13:22:32.80 spid12s     Starting up database 'tempdb'.\n2020-03-26 13:22:33.45 spid29s     Parallel redo is started for database 'AdventureWorks2017' with worker pool size [2].\n2020-03-26 13:22:33.59 spid10s     Parallel redo is shutdown for database 'AdventureWorks2017' with worker pool size [2].\n2020-03-26 13:22:33.63 spid29s     CHECKDB for database 'AdventureWorks2017' finished without errors on 2019-12-21 14:42:03.403 (local time). This is an informational message only; no user action is required.\n2020-03-26 13:22:34.58 spid12s     The tempdb database has 4 data file(s).\n2020-03-26 13:22:34.59 spid29s     The Service Broker endpoint is in disabled or stopped state.\n2020-03-26 13:22:34.59 spid29s     The Database Mirroring endpoint is in disabled or stopped state.\n2020-03-26 13:22:34.60 spid29s     Service Broker manager has started.\n2020-03-26 13:22:34.61 spid10s     Recovery is complete. This is an informational message only. No user action is required.\n2020-03-26 13:22:35.33 spid51      Attempting to load library 'xpsqlbot.dll' into memory. This is an informational message only. No user action is required.\n2020-03-26 13:22:35.34 spid51      Using 'xpsqlbot.dll' version '2019.150.2000' to execute extended stored procedure 'xp_qv'. This is an informational message only; no user action is required.\n2020-03-26 13:22:35.39 spid51      Attempting to load library 'xpstar.dll' into memory. This is an informational message only. No user action is required.\n2020-03-26 13:22:35.46 spid51      Using 'xpstar.dll' version '2019.150.2000' to execute extended stored procedure 'xp_sqlagent_notify'. This is an informational message only; no user action is required.\n",
                    "output_type": "stream"
                }
            ],
            "execution_count": 8
        }
    ]
}