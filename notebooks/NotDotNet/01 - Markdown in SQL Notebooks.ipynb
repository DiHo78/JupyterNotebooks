{
    "metadata": {
        "kernelspec": {
            "name": "SQL",
            "display_name": "SQL",
            "language": "sql"
        },
        "language_info": {
            "name": "sql",
            "version": ""
        }
    },
    "nbformat_minor": 2,
    "nbformat": 4,
    "cells": [
        {
            "cell_type": "markdown",
            "source": [
                "# Markdown in a SQL Notebook\r\n",
                "\r\n",
                "## A new Notebook\r\n",
                "\r\n",
                "To open a notebook in Azure Data Studio click File and New Notebook or `CTRL + SHIFT + N`\r\n",
                "\r\n",
                "![image](https://user-images.githubusercontent.com/6729780/59563108-6db4bc00-902d-11e9-9916-314f4f8f7187.png)\r\n",
                "\r\n",
                "In Azure Data Studio you should also get used to using the Command Palette to find commands with intellisense, this can be opened with `F1` and then if you type 'New N' you can create a new notebook\r\n",
                "\r\n",
                "![image](https://user-images.githubusercontent.com/6729780/59563149-0c411d00-902e-11e9-8127-68608e94a841.png)\r\n",
                "\r\n",
                "The blank Notebook enables you to start with a Code block or a Text Block. \r\n",
                "\r\n",
                "![image](https://user-images.githubusercontent.com/6729780/59563066-e49d8500-902c-11e9-90d0-f6feea9415bc.png)\r\n",
                "\r\n",
                "A Code block enables you to add T-SQL  \r\n",
                "A Text block allows you to add Markdown\r\n",
                "\r\n",
                "\r\n",
                ""
            ],
            "metadata": {
                "azdata_cell_guid": "1e76a90d-05f6-465d-b55c-49b3c6579a5b"
            }
        },
        {
            "cell_type": "markdown",
            "source": [
                "# Using Markdown\r\n",
                "\r\n",
                "The Markdown language has some intricacies. \r\n",
                "\r\n",
                "# Spaces\r\n",
                "\r\n",
                "The one that catches me out the most often is the requirement for two spaces at the end of a line to add a line break\r\n",
                "\r\n",
                "This is line 1\r\n",
                "This is line 2 without any spaces\r\n",
                "\r\n",
                "\r\n",
                "This is line 1  \r\n",
                "This is line 2 with two spaces\r\n",
                "\r\n",
                "\r\n",
                ""
            ],
            "metadata": {
                "azdata_cell_guid": "2086a4c5-d204-4d0b-ba01-862e11d037b3"
            }
        },
        {
            "cell_type": "markdown",
            "source": [
                "# Headers\r\n",
                "\r\n",
                "Writing headers in Markdown uses `#`\r\n",
                "\r\n",
                "# One `#` (with a space) is the Biggest Header\r\n",
                "## Two `##` (with a space) is a little smaller\r\n",
                "### Three `###` (with a space) is smaller again\r\n",
                "#### Four `####` (with a space) is smaller again again\r\n",
                "etc\r\n",
                "\r\n",
                "\r\n",
                ""
            ],
            "metadata": {
                "azdata_cell_guid": "b6e297b2-6a68-4d18-a95b-e5e7774dc011"
            }
        },
        {
            "cell_type": "markdown",
            "source": [
                "### Emphasis\r\n",
                "\r\n",
                "You can **emphasise** text **in bold** with two `**` before and after a word or phrase  \r\n",
                "You can *emphasise* text *with italics* with one `*` before and after a word or phrase  \r\n",
                "You can ***emphasise*** text ***with bold AND italics*** with three `***` before and after a word or phrase  \r\n",
                "You can <u>emphasise</u> text <u>by underlining</u> by enclosing it in `<u>` tags `<u>Text to underline</u>`  \r\n",
                "You can **<u>emphasise</u>** text **<u>in bold and underlining</u>** with `**` before and after the `<u>` tags `**<u>Text to underline and bold</u>**`  \r\n",
                "You can *<u>emphasise</u>* text *<u>in italics and underlining</u>* with `*` before and after the `<u>` tags `*<u>Text to underline and italicise</u>*`  \r\n",
                "You can ***<u>emphasise</u>*** text ***<u>in bold and italics and underlining</u>*** with `***` before and after the `<u>` tags `*<u>Text to underline and embolden and italicise</u>*`  \r\n",
                "\r\n",
                "### Quotes\r\n",
                "\r\n",
                "You can add a quote block using a `>` and a space before each line of the quote\r\n",
                "\r\n",
                ">  Kid, the next time I say, Let's go someplace like Bolivia,  \r\n",
                ">  Let's go someplace like Bolivia.\r\n",
                "\r\n",
                ""
            ],
            "metadata": {
                "azdata_cell_guid": "3d238acc-649a-4dfd-bfc5-5339ad25917b"
            }
        },
        {
            "cell_type": "markdown",
            "source": [
                "# Lists\r\n",
                "\r\n",
                "To create an unordered bullet list use `-` and a space\r\n",
                "\r\n",
                "Here is a list of Data Events\r\n",
                "\r\n",
                "- Data Grillen\r\n",
                "- Data Saturday Holland\r\n",
                "- Data Relay\r\n",
                "- Data Scotland\r\n",
                "\r\n",
                "To indent the lists tab and then `-` and a space\r\n",
                "\r\n",
                "- Germany\r\n",
                "    - Berlin\r\n",
                "    - Munich\r\n",
                "    - Lingen\r\n",
                "        - Data Grillen\r\n",
                "            - William Durkin\r\n",
                "- Netherlands\r\n",
                "    - Amsterdam\r\n",
                "    - Rotterdam\r\n",
                "    - Apenhuel\r\n",
                "\r\n",
                "Creating a numbered list as you can imagine uses numbers and a . like this  \r\n",
                "\r\n",
                "        1. first\r\n",
                "        2. second\r\n",
                "\r\n",
                "1. first\r\n",
                "2. second\r\n",
                "\r\n",
                "and indenting uses tabs as you expect\r\n",
                "\r\n",
                "1. first\r\n",
                "    1. first inside\r\n",
                "    2. second inside\r\n",
                "        1. first even further\r\n",
                "    3. third inside\r\n",
                "2. second\r\n",
                "\r\n",
                "However, all you need is to start with a `1.` (or possibly any smaller other number Which we think may be an int) after that any number will work!\r\n",
                "\r\n",
                "        1. Start with a 1.\r\n",
                "        7. After that any number will do!\r\n",
                "        1100. As high as you like!\r\n",
                "\r\n",
                "1. Start with a 1.\r\n",
                "7. After that any number will do!\r\n",
                "1100. As high as you like!  \r\n",
                "\r\n",
                "and in the indentations as well\r\n",
                "\r\n",
                "        1. Start with a 1.\r\n",
                "        77. After that any number will do!\r\n",
                "            1. It works the same when indented\r\n",
                "            7. It's a bit odd\r\n",
                "                1. Feels a bit strange\r\n",
                "                47889. Because the Markdown orders the numbers\r\n",
                "            5. and they can be in any order\r\n",
                "        11. As high as you like!\r\n",
                "\r\n",
                "\r\n",
                "1. Start with a 1.\r\n",
                "77. After that any number will do!\r\n",
                "    1. It works the same when indented\r\n",
                "    5. It's a bit odd\r\n",
                "        1. Feels a bit strange\r\n",
                "        47889. Because the Markdown orders the numbers\r\n",
                "    5. and they can be in any order\r\n",
                "11. As high as you like!\r\n",
                ""
            ],
            "metadata": {
                "azdata_cell_guid": "594b6493-a56f-45f4-916a-333e11dc0074"
            }
        },
        {
            "cell_type": "markdown",
            "source": [
                "# Links\r\n",
                "\r\n",
                "You can add links in your notebook with `[Link Text](link)` like `[You can find my blog here](https://sqldbawithabeard.com)`  \r\n",
                "\r\n",
                "[You can find my blog here](https://sqldbawithabeard.com)"
            ],
            "metadata": {
                "azdata_cell_guid": "d7d7bf72-2b4b-4b3a-ab15-89b4fe7b648f"
            }
        },
        {
            "cell_type": "markdown",
            "source": [
                "\r\n",
                "\r\n",
                "# Images\r\n",
                "\r\n",
                "You can embed images into your notebook. You ***should*** be able to use local images but I cannot get it to work.\r\n",
                "\r\n",
                "Images are embedded with `![alt text](link to image)` like this `![image](https://user-images.githubusercontent.com/6729780/59564341-8036f180-903d-11e9-8e14-a773d62cf596.png)`\r\n",
                "\r\n",
                "![image](https://user-images.githubusercontent.com/6729780/59564341-8036f180-903d-11e9-8e14-a773d62cf596.png)\r\n",
                "\r\n",
                "You do not need to be connected to the internet to view the image in the notebook.\r\n",
                "\r\n",
                "I created the above link by opening a new issue iin a GitHub repository\r\n",
                "\r\n",
                "![image](https://user-images.githubusercontent.com/6729780/59564390-284cba80-903e-11e9-8a8c-a481b6da6fce.png)\r\n",
                "\r\n",
                "and then pasting the screenshot into the issue and copy the resulting code and paste into the Markdown block\r\n",
                "\r\n",
                "![image](https://user-images.githubusercontent.com/6729780/59564426-6b0e9280-903e-11e9-8b54-8e82e5959f80.png)\r\n",
                "\r\n",
                ""
            ],
            "metadata": {
                "azdata_cell_guid": "6a63ddf8-ec63-43bc-b037-9347dbd731c0"
            }
        },
        {
            "cell_type": "markdown",
            "source": [
                "\r\n",
                "<img src=\"https://user-images.githubusercontent.com/6729780/60736469-fbaa0580-9f4e-11e9-85ba-ec73907514bf.png\" height= \"750\" title=\"Hetfield\">\r\n",
                ""
            ],
            "metadata": {
                "azdata_cell_guid": "c72d4e7e-c059-46c8-9f01-79ceae282b6d"
            }
        },
        {
            "cell_type": "markdown",
            "source": [
                "\r\n",
                "\r\n",
                "# Code\r\n",
                "\r\n",
                "To add code to the Markdown use the backtick ` \r\n",
                "\r\n",
                "`SELECT @@VERSION`\r\n",
                "\r\n",
                "There is some formatting available also if you use ```` and the language\r\n",
                "\r\n",
                "````sql\r\n",
                "SELECT Name, IsAwesome\r\n",
                "FROM dbo.bands \r\n",
                "WHERE Name = 'Matallica'\r\n",
                "````\r\n",
                "\r\n",
                "````powershell\r\n",
                "$Bands | Where-Object {$Psitem.Name -eq 'Metallica'} | Select-Object Name, IsAWesome\r\n",
                "````"
            ],
            "metadata": {
                "azdata_cell_guid": "bc4be48f-7c31-49ce-b237-9bcac781e6f3"
            }
        },
        {
            "cell_type": "markdown",
            "source": [
                "## Gifs\r\n",
                "\r\n",
                "You can also embed gifs into your notebooks in one of two ways\r\n",
                "\r\n",
                "`![image](https://media.giphy.com/media/Uahz9hecgXoJi/giphy.gif)`  \r\n",
                "`<img src=\"https://media.giphy.com/media/cD00Ukp6FfXuU/giphy.gif\" height= \"264\" title=\"Hetfield\">`\r\n",
                "\r\n",
                "\r\n",
                "<img src=\"https://media.giphy.com/media/cLTMlkqqXLHCa9Jc4y/source.gif\" height= \"264\" title=\"Verstappen\">  <br>\r\n",
                "<img src=\"https://media.giphy.com/media/Yy6DnEzSwb4Gs/giphy.gif\" height= \"264\" title=\"Football\">  \r\n",
                "<img src=\"https://media.giphy.com/media/bjIICkViBAbUk/source.gif\" height= \"264\" title=\"Cruyff\">  \r\n",
                "<img src=\"https://media.giphy.com/media/pOEQPIKAJfWZdhpVZT/giphy.gif\" height= \"264\" title=\"Bike\">             \r\n",
                "\r\n",
                "\r\n",
                "\r\n",
                "<img src=\"https://media.giphy.com/media/3o85xBubCR8RAjZlzG/source.gif\" height= \"264\" title=\"Windmill\">  \r\n",
                "<img src=\"https://media.giphy.com/media/8P7y2ARUPFpNaaWEZ3/giphy.gif\" height= \"264\" title=\"Windmill\">  \r\n",
                "\r\n",
                "\r\n",
                "\r\n",
                "\r\n",
                ""
            ],
            "metadata": {
                "azdata_cell_guid": "3b0391ed-0c5c-4aaa-8994-2135b1710f54"
            }
        }
    ]
}