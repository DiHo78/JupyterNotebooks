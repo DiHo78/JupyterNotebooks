{
    "metadata": {
        "kernelspec": {
            "name": "powershell",
            "display_name": "PowerShell"
        },
        "language_info": {
            "name": "powershell",
            "codemirror_mode": "shell",
            "mimetype": "text/x-sh",
            "file_extension": ".ps1"
        }
    },
    "nbformat_minor": 2,
    "nbformat": 4,
    "cells": [
        {
            "cell_type": "markdown",
            "source": [
                "![First Power Bi](.\\images\\dbachecks-logo.png )\r\n",
                "# dbachecks\r\n",
                "\r\n",
                "## Installation \r\n",
                "\r\n",
                "Take a look at the installation guidelines here [Intro](./01-dbachecks-Intro.ipynb)\r\n",
                "\r\n",
                "Lets Check if you have the dbachecks module available"
            ],
            "metadata": {
                "azdata_cell_guid": "ae946c13-04d8-4845-8528-907c84d1555c",
                "tags": [
                    "hide_input"
                ]
            }
        },
        {
            "cell_type": "code",
            "source": [
                "Get-Module dbachecks -ListAvailable"
            ],
            "metadata": {
                "azdata_cell_guid": "3627b53c-63a5-4e21-9a2d-96b1a092c913",
                "tags": [
                    "hide_input"
                ]
            },
            "outputs": [
                {
                    "output_type": "stream",
                    "name": "stdout",
                    "text": "\n\n    Directory: C:\\Program Files\\WindowsPowerShell\\Modules\n\n\nModuleType Version    Name                                ExportedCommands                                             \n---------- -------    ----                                ----------------                                             \nScript     1.2.15     dbachecks                           {Get-DbcConfig, Get-DbcConfigValue, Get-DbcReleaseNote, Se...\n\n\n"
                }
            ],
            "execution_count": 1
        },
        {
            "cell_type": "markdown",
            "source": [
                "## Examine the available commands\r\n",
                "\r\n",
                "You can look at the commands in the dbachecks module"
            ],
            "metadata": {
                "azdata_cell_guid": "1ae003f9-d98a-43f0-b0b3-bf6b0736c147",
                "tags": [
                    "hide_input"
                ]
            }
        },
        {
            "cell_type": "code",
            "source": [
                "Get-Command -Module dbachecks"
            ],
            "metadata": {
                "azdata_cell_guid": "2718f60b-6ba6-4887-a886-10d52cd0228a",
                "tags": [
                    "hide_input"
                ]
            },
            "outputs": [],
            "execution_count": null
        },
        {
            "cell_type": "markdown",
            "source": [
                "# All of the checks\r\n",
                "\r\n",
                "You can see all of the checks using `Get-DbcCheck` \r\n",
                ""
            ],
            "metadata": {
                "azdata_cell_guid": "2a6fc094-c131-49af-a96e-4f432737bec2"
            }
        },
        {
            "cell_type": "code",
            "source": [
                "Get-DbcCheck"
            ],
            "metadata": {
                "azdata_cell_guid": "76ce1266-5da6-4999-9fae-5d236fc2e810"
            },
            "outputs": [
                {
                    "name": "stdout",
                    "text": "\nGroup               Type         UniqueTag                          AllTags                                            \n-----               ----         ---------                          -------                                            \nAgent               Sqlinstance  DatabaseMailEnabled                DatabaseMailEnabled, CIS, security, Agent          \nAgent               Sqlinstance  AgentServiceAccount                AgentServiceAccount, ServiceAccount, Agent         \nAgent               Sqlinstance  DbaOperator                        DbaOperator, Operator, Agent                       \nAgent               Sqlinstance  FailsafeOperator                   FailsafeOperator, Operator, Agent                  \nAgent               Sqlinstance  DatabaseMailProfile                DatabaseMailProfile, Agent                         \nAgent               Sqlinstance  FailedJob                          FailedJob, Agent                                   \nAgent               Sqlinstance  ValidJobOwner                      ValidJobOwner, Agent                               \nAgent               Sqlinstance  AgentAlert                         AgentAlert, Agent                                  \nAgent               Sqlinstance  JobHistory                         JobHistory, Agent                                  \nAgent               Sqlinstance  LongRunningJob                     LongRunningJob, Agent                              \nAgent               Sqlinstance  LastJobRunTime                     LastJobRunTime, Agent                              \nDatabase            Sqlinstance  DatabaseCollation                  DatabaseCollation, High, Database                  \nDatabase            Sqlinstance  SuspectPage                        SuspectPage, High, Database                        \nDatabase            Sqlinstance  TestLastBackup                     TestLastBackup, Backup, Database                   \nDatabase            Sqlinstance  TestLastBackupVerifyOnly           TestLastBackupVerifyOnly, Backup, Database         \nDatabase            Sqlinstance  ValidDatabaseOwner                 ValidDatabaseOwner, Medium, Database               \nDatabase            Sqlinstance  InvalidDatabaseOwner               InvalidDatabaseOwner, Medium, Database             \nDatabase            Sqlinstance  LastGoodCheckDb                    LastGoodCheckDb, Varied, Database                  \nDatabase            Sqlinstance  IdentityUsage                      IdentityUsage, Medium, Database                    \nDatabase            Sqlinstance  RecoveryModel                      RecoveryModel, DISA, Medium, Database              \nDatabase            Sqlinstance  DuplicateIndex                     DuplicateIndex, Database                           \nDatabase            Sqlinstance  UnusedIndex                        UnusedIndex, Medium, Database                      \nDatabase            Sqlinstance  DisabledIndex                      DisabledIndex, Medium, Database                    \nDatabase            Sqlinstance  DatabaseGrowthEvent                DatabaseGrowthEvent, Low, Database                 \nDatabase            Sqlinstance  PageVerify                         PageVerify, Medium, Database                       \nDatabase            Sqlinstance  AutoClose                          AutoClose, High, Database                          \nDatabase            Sqlinstance  AutoShrink                         AutoShrink, High, Database                         \nDatabase            Sqlinstance  LastFullBackup                     LastFullBackup, LastBackup, Backup, DISA, Varied...\nDatabase            Sqlinstance  LastDiffBackup                     LastDiffBackup, LastBackup, Backup, DISA, Varied...\nDatabase            Sqlinstance  LastLogBackup                      LastLogBackup, LastBackup, Backup, DISA, Varied,...\nDatabase            Sqlinstance  VirtualLogFile                     VirtualLogFile, Medium, Database                   \nDatabase            Sqlinstance  LogfileCount                       LogfileCount, Medium, Database                     \nDatabase            Sqlinstance  LogfileSize                        LogfileSize, Medium, Database                      \nDatabase            Sqlinstance  FutureFileGrowth                   FutureFileGrowth, Low, Database                    \nDatabase            Sqlinstance  FileGroupBalanced                  FileGroupBalanced, Medium, Database                \nDatabase            Sqlinstance  CertificateExpiration              CertificateExpiration, High, Database              \nDatabase            Sqlinstance  AutoCreateStatistics               AutoCreateStatistics, Low, Database                \nDatabase            Sqlinstance  AutoUpdateStatistics               AutoUpdateStatistics, Low, Database                \nDatabase            Sqlinstance  AutoUpdateStatisticsAsynchronously AutoUpdateStatisticsAsynchronously, Low, Database  \nDatabase            Sqlinstance  DatafileAutoGrowthType             DatafileAutoGrowthType, Low, Database              \nDatabase            Sqlinstance  Trustworthy                        Trustworthy, DISA, Varied, CIS, Database           \nDatabase            Sqlinstance  OrphanedUser                       OrphanedUser, CIS, Medium, Database                \nDatabase            Sqlinstance  PseudoSimple                       PseudoSimple, Medium, Database                     \nDatabase            Sqlinstance  CompatibilityLevel                 CompatibilityLevel, High, Database                 \nDatabase            Sqlinstance  FKCKTrusted                        FKCKTrusted, Low, Database                         \nDatabase            Sqlinstance  MaxDopDatabase                     MaxDopDatabase, MaxDop, Low, Database              \nDatabase            Sqlinstance  DatabaseStatus                     DatabaseStatus, High, Database                     \nDatabase            Sqlinstance  DatabaseExists                     DatabaseExists, Database                           \nDatabase            Sqlinstance  ContainedDBAutoClose               ContainedDBAutoClose, CIS, Database                \nDatabase            Sqlinstance  GuestUserConnect                   GuestUserConnect, Security, CIS, Medium, Database  \nDomain              ComputerName DomainName                         DomainName, Domain                                 \nDomain              ComputerName OrganizationalUnit                 OrganizationalUnit, Domain                         \nHADR                ClusterNode  ClusterHealth                      ClusterHealth, HADR                                \nInstance            Sqlinstance  InstanceConnection                 InstanceConnection, Connectivity, High, Instance   \nInstance            Sqlinstance  SqlEngineServiceAccount            SqlEngineServiceAccount, ServiceAccount, High, I...\nInstance            Sqlinstance  TempDbConfiguration                TempDbConfiguration, Medium, Instance              \nInstance            Sqlinstance  AdHocWorkload                      AdHocWorkload, Medium, Instance                    \nInstance            Sqlinstance  BackupPathAccess                   BackupPathAccess, Storage, DISA, Medium, Instance  \nInstance            Sqlinstance  DefaultFilePath                    DefaultFilePath, Instance                          \nInstance            Sqlinstance  DAC                                DAC, CIS, Low, Instance                            \nInstance            Sqlinstance  NetworkLatency                     NetworkLatency, Connectivity, Medium, Instance     \nInstance            Sqlinstance  LinkedServerConnection             LinkedServerConnection, Connectivity, Medium, In...\nInstance            Sqlinstance  MaxMemory                          MaxMemory, High, Instance                          \nInstance            Sqlinstance  OrphanedFile                       OrphanedFile, Low, Instance                        \nInstance            Sqlinstance  ServerNameMatch                    ServerNameMatch, Medium, Instance                  \nInstance            Sqlinstance  MemoryDump                         MemoryDump, Medium, Instance                       \nInstance            Sqlinstance  SupportedBuild                     SupportedBuild, DISA, High, Instance               \nInstance            Sqlinstance  SaRenamed                          SaRenamed, DISA, CIS, Medium, Instance             \nInstance            Sqlinstance  SaDisabled                         SaDisabled, DISA, CIS, Medium, Instance            \nInstance            Sqlinstance  SaExist                            SaExist, CIS, Medium, Instance                     \nInstance            Sqlinstance  DefaultBackupCompression           DefaultBackupCompression, Low, Instance            \nInstance            Sqlinstance  XESessionStopped                   XESessionStopped, ExtendedEvent, Medium, Instance  \nInstance            Sqlinstance  XESessionRunning                   XESessionRunning, ExtendedEvent, Medium, Instance  \nInstance            Sqlinstance  XESessionRunningAllowed            XESessionRunningAllowed, ExtendedEvent, Medium, ...\nInstance            Sqlinstance  OLEAutomation                      OLEAutomation, security, CIS, Medium, Instance     \nInstance            Sqlinstance  WhoIsActiveInstalled               WhoIsActiveInstalled, Low, Instance                \nInstance            Sqlinstance  ModelDbGrowth                      ModelDbGrowth, Low, Instance                       \nInstance            Sqlinstance  ADUser                             ADUser, Domain, High, Instance                     \nInstance            Sqlinstance  ErrorLog                           ErrorLog, Medium, Instance                         \nInstance            Sqlinstance  ErrorLogCount                      ErrorLogCount, CIS, Low, Instance                  \nInstance            Sqlinstance  MaxDopInstance                     MaxDopInstance, MaxDop, Medium, Instance           \nInstance            Sqlinstance  TwoDigitYearCutoff                 TwoDigitYearCutoff, Low, Instance                  \nInstance            Sqlinstance  TraceFlagsExpected                 TraceFlagsExpected, TraceFlag, High, Instance      \nInstance            Sqlinstance  TraceFlagsNotExpected              TraceFlagsNotExpected, TraceFlag, Medium, Instance \nInstance            Sqlinstance  CLREnabled                         CLREnabled, security, CIS, High, Instance          \nInstance            Sqlinstance  CrossDBOwnershipChaining           CrossDBOwnershipChaining, security, CIS, Medium,...\nInstance            Sqlinstance  AdHocDistributedQueriesEnabled     AdHocDistributedQueriesEnabled, security, CIS, M...\nInstance            Sqlinstance  XpCmdShellDisabled                 XpCmdShellDisabled, security, CIS, Medium, Instance\nInstance            Sqlinstance  ScanForStartupProceduresDisabled   ScanForStartupProceduresDisabled, Security, CIS,...\nInstance            Sqlinstance  DefaultTrace                       DefaultTrace, CIS, Low, Instance                   \nInstance            Sqlinstance  OLEAutomationProceduresDisabled    OLEAutomationProceduresDisabled, CIS, Low, Instance\nInstance            Sqlinstance  RemoteAccessDisabled               RemoteAccessDisabled, Security, CIS, Medium, Ins...\nInstance            Sqlinstance  LatestBuild                        LatestBuild, Security, CIS, Medium, Instance       \nInstance            Sqlinstance  BuiltInAdmin                       BuiltInAdmin, CIS, Medium, Instance                \nInstance            Sqlinstance  LocalWindowsGroup                  LocalWindowsGroup, Security, CIS, Medium, Instance \nInstance            Sqlinstance  LoginAuditFailed                   LoginAuditFailed, Security, CIS, Medium, Instance  \nInstance            Sqlinstance  LoginAuditSuccessful               LoginAuditSuccessful, Security, CIS, Medium, Ins...\nInstance            ComputerName SqlBrowserServiceAccount           SqlBrowserServiceAccount, ServiceAccount, High, ...\nLogShipping         Sqlinstance  LogShippingPrimary                 LogShippingPrimary, LogShipping                    \nLogShipping         Sqlinstance  LogShippingSecondary               LogShippingSecondary, LogShipping                  \nMaintenanceSolution Sqlinstance  OlaInstalled                       OlaInstalled, MaintenanceSolution                  \nMaintenanceSolution Sqlinstance  SystemFull                         SystemFull, OlaJobs, MaintenanceSolution           \nMaintenanceSolution Sqlinstance  UserFull                           UserFull, OlaJobs, MaintenanceSolution             \nMaintenanceSolution Sqlinstance  UserDiff                           UserDiff, OlaJobs, MaintenanceSolution             \nMaintenanceSolution Sqlinstance  UserLog                            UserLog, OlaJobs, MaintenanceSolution              \nMaintenanceSolution Sqlinstance  CommandLog                         CommandLog, OlaJobs, MaintenanceSolution           \nMaintenanceSolution Sqlinstance  SystemIntegrityCheck               SystemIntegrityCheck, OlaJobs, MaintenanceSolution \nMaintenanceSolution Sqlinstance  UserIntegrityCheck                 UserIntegrityCheck, OlaJobs, MaintenanceSolution   \nMaintenanceSolution Sqlinstance  UserIndexOptimize                  UserIndexOptimize, OlaJobs, MaintenanceSolution    \nMaintenanceSolution Sqlinstance  OutputFileCleanup                  OutputFileCleanup, OlaJobs, MaintenanceSolution    \nMaintenanceSolution Sqlinstance  DeleteBackupHistory                DeleteBackupHistory, OlaJobs, MaintenanceSolution  \nMaintenanceSolution Sqlinstance  PurgeJobHistory                    PurgeJobHistory, OlaJobs, MaintenanceSolution      \nServer              ComputerName PowerPlan                          PowerPlan, Medium, Server                          \nServer              ComputerName SPN                                SPN, Server                                        \nServer              ComputerName DiskCapacity                       DiskCapacity, Storage, DISA, Varied, Server        \nServer              ComputerName PingComputer                       PingComputer, Varied, Server                       \nServer              ComputerName CPUPrioritisation                  CPUPrioritisation, Medium, Server                  \nServer              ComputerName DiskAllocationUnit                 DiskAllocationUnit, Medium, Server                 \n\n\n",
                    "output_type": "stream"
                }
            ],
            "execution_count": 1
        },
        {
            "cell_type": "markdown",
            "source": [
                "## Searching for Checks to run\r\n",
                "\r\n",
                "You can search for checks using `Get-DbcCheck -Pattern SEARCHTERM`"
            ],
            "metadata": {
                "azdata_cell_guid": "f0882807-09b6-4328-8e6e-21fb23d18d33"
            }
        },
        {
            "cell_type": "code",
            "source": [
                "Get-DbcCheck -Pattern backup"
            ],
            "metadata": {
                "azdata_cell_guid": "6868c7fa-7bf5-4721-a211-08eb7343b844"
            },
            "outputs": [
                {
                    "name": "stdout",
                    "text": "\nGroup               Type        UniqueTag                AllTags                                                    Con\n                                                                                                                    fig\n-----               ----        ---------                -------                                                    ---\nDatabase            Sqlinstance TestLastBackup           TestLastBackup, Backup, Database                           app\nDatabase            Sqlinstance TestLastBackupVerifyOnly TestLastBackupVerifyOnly, Backup, Database                 app\nDatabase            Sqlinstance LastFullBackup           LastFullBackup, LastBackup, Backup, DISA, Varied, Database app\nDatabase            Sqlinstance LastDiffBackup           LastDiffBackup, LastBackup, Backup, DISA, Varied, Database app\nDatabase            Sqlinstance LastLogBackup            LastLogBackup, LastBackup, Backup, DISA, Varied, Database  app\nInstance            Sqlinstance BackupPathAccess         BackupPathAccess, Storage, DISA, Medium, Instance          app\nInstance            Sqlinstance DefaultBackupCompression DefaultBackupCompression, Low, Instance                    app\nMaintenanceSolution Sqlinstance SystemFull               SystemFull, OlaJobs, MaintenanceSolution                   app\nMaintenanceSolution Sqlinstance UserFull                 UserFull, OlaJobs, MaintenanceSolution                     app\nMaintenanceSolution Sqlinstance UserDiff                 UserDiff, OlaJobs, MaintenanceSolution                     app\nMaintenanceSolution Sqlinstance UserLog                  UserLog, OlaJobs, MaintenanceSolution                      app\nMaintenanceSolution Sqlinstance DeleteBackupHistory      DeleteBackupHistory, OlaJobs, MaintenanceSolution          app\n\n\n",
                    "output_type": "stream"
                }
            ],
            "execution_count": 2
        },
        {
            "cell_type": "markdown",
            "source": [
                "# Running a Check\r\n",
                "\r\n",
                "This requires that you have the containers set up from the Notebook 00 - Setting up the containers for the rest of the containers.ipynb\r\n",
                "\r\n",
                "If you have altered the folder path you will need to alter it below."
            ],
            "metadata": {
                "azdata_cell_guid": "a6de41f8-f3e3-46d4-8325-c5d0ceb04df4"
            }
        },
        {
            "cell_type": "markdown",
            "source": [
                "Running a check from the command line can be done with\r\n",
                "\r\n",
                "`Invoke-DbcCheck -SqlInstance SQLINSTANCE -Check UNIQUETAG, A TAG, GROUP`\r\n",
                "\r\n",
                "You can run multiple checks with\r\n",
                "\r\n",
                "`Invoke-DbcCheck -SqlInstance SQLINSTANCE -Check Tag,AnotherTag,AnotherTag`"
            ],
            "metadata": {
                "azdata_cell_guid": "2bdc0137-380e-4d98-8c21-65710f7eca4e"
            }
        },
        {
            "cell_type": "code",
            "source": [
                "$FolderPath = $Env:USERPROFILE + '\\Documents\\dbachecks'\r\n",
                "$SqlInstance = 'localhost,15592'\r\n",
                "$SqlCredential = Import-Clixml -Path $FolderPath\\sqladmin.cred\r\n",
                "$null = Reset-DbcConfig\r\n",
                "Invoke-DbcCheck -SqlInstance $SqlInstance -SqlCredential $SqlCredential -Check AutoClose"
            ],
            "metadata": {
                "azdata_cell_guid": "990486fd-573a-4c43-afad-6e65e5b8f4fd"
            },
            "outputs": [
                {
                    "output_type": "stream",
                    "name": "stdout",
                    "text": "Executing all tests in 'C:\\Program Files\\WindowsPowerShell\\Modules\\dbachecks\\1.2.15\\checks\\Database.Tests.ps1' with Tags AutoClose\n\nExecuting script C:\\Program Files\\WindowsPowerShell\\Modules\\dbachecks\\1.2.15\\checks\\Database.Tests.ps1\n\n  Describing Auto Close\n\n    Context Testing Auto Close on localhost,15592\n      [+] AdventureWorks2017 on localhost,15592 should have Auto Close set to False 600ms\n      [+] master on localhost,15592 should have Auto Close set to False 51ms\n      [+] model on localhost,15592 should have Auto Close set to False 44ms\n      [+] msdb on localhost,15592 should have Auto Close set to False 43ms\n      [+] Northwind on localhost,15592 should have Auto Close set to False 47ms\n      [+] pubs on localhost,15592 should have Auto Close set to False 48ms\n      [+] tempdb on localhost,15592 should have Auto Close set to False 49ms\nTests completed in 6.55s\nTests Passed: 7, Failed: 0, Skipped: 0, Pending: 0, Inconclusive: 0 \n"
                }
            ],
            "execution_count": 3
        },
        {
            "cell_type": "markdown",
            "source": [
                "## Auto-Complete for Checks\r\n",
                "At the command line and in the editor the Checks will auto-complete\r\n",
                "\r\n",
                "Place the cursor a space after the `-Check` and press CTRL + SPACE\r\n",
                "\r\n",
                "`Invoke-DbcCheck -SqlInstance SQL2016N1 -Check `"
            ],
            "metadata": {
                "azdata_cell_guid": "e3eba123-7621-44ee-af57-3b8e95eb46ec"
            }
        },
        {
            "cell_type": "code",
            "source": [
                "$FolderPath = $Env:USERPROFILE + '\\Documents\\dbachecks'\r\n",
                "$SqlInstance = 'localhost,15592'\r\n",
                "$SqlCredential = Import-Clixml -Path $FolderPath\\sqladmin.cred\r\n",
                "Invoke-DbcCheck -SqlInstance $SqlInstance -SqlCredential $SqlCredential -Check AdHocWorkload"
            ],
            "metadata": {
                "azdata_cell_guid": "6bfbde55-35ff-462c-aaa8-0fef795983f3"
            },
            "outputs": [
                {
                    "output_type": "stream",
                    "name": "stdout",
                    "text": "Executing all tests in 'C:\\Program Files\\WindowsPowerShell\\Modules\\dbachecks\\1.2.15\\checks\\Instance.Tests.ps1' with Tags AdHocWorkload\n\nExecuting script C:\\Program Files\\WindowsPowerShell\\Modules\\dbachecks\\1.2.15\\checks\\Instance.Tests.ps1\n\n  Describing Ad Hoc Workload Optimization\n\n    Context Testing Ad Hoc Workload Optimization on localhost,15592\n      [+] localhost,15592 Should be Optimize for Ad Hoc workloads 133ms\nTests completed in 656ms\nTests Passed: 1, Failed: 0, Skipped: 0, Pending: 0, Inconclusive: 0 \n"
                }
            ],
            "execution_count": 4
        },
        {
            "cell_type": "markdown",
            "source": [
                "# Check Agent Jobs at the command line\r\n",
                "\r\n",
                "Did all of the Agent Jobs succeed ?"
            ],
            "metadata": {
                "azdata_cell_guid": "ace87d71-f023-4181-ba05-4bb5041f542f"
            }
        },
        {
            "cell_type": "code",
            "source": [
                "$FolderPath = $Env:USERPROFILE + '\\Documents\\dbachecks'\r\n",
                "$SqlInstance = 'localhost,15592'\r\n",
                "$SqlCredential = Import-Clixml -Path $FolderPath\\sqladmin.cred\r\n",
                "Invoke-DbcCheck -SqlInstance $SqlInstance -SqlCredential $SqlCredential -Check FailedJob"
            ],
            "metadata": {
                "azdata_cell_guid": "a9344196-3a43-4638-8847-0dd3afa429b8",
                "tags": []
            },
            "outputs": [
                {
                    "output_type": "stream",
                    "name": "stdout",
                    "text": "Executing all tests in 'C:\\Program Files\\WindowsPowerShell\\Modules\\dbachecks\\1.2.15\\checks\\Agent.Tests.ps1' with Tags FailedJob\n\nExecuting script C:\\Program Files\\WindowsPowerShell\\Modules\\dbachecks\\1.2.15\\checks\\Agent.Tests.ps1\n\n  Describing Failed Jobs\n\n    Context Checking for failed enabled jobs since 02/13/2020 15:45:46 on localhost,15592\nTests completed in 1.16s\nTests Passed: 0, Failed: 0, Skipped: 0, Pending: 0, Inconclusive: 0 \n"
                }
            ],
            "execution_count": 5
        },
        {
            "cell_type": "markdown",
            "source": [
                "You may have no results because they are no enabled jobs that have run in the last 7 days (depending upon when I last updated the image). Lets run the jobs and see what we get"
            ],
            "metadata": {
                "azdata_cell_guid": "3e5ab98e-4e56-4e7a-8d44-510433db06dd"
            }
        },
        {
            "cell_type": "code",
            "source": [
                "$FolderPath = $Env:USERPROFILE + '\\Documents\\dbachecks'\r\n",
                "$SqlInstance = 'localhost,15592'\r\n",
                "$SqlCredential = Import-Clixml -Path $FolderPath\\sqladmin.cred\r\n",
                "(Get-DbaAgentJob -SqlInstance $SqlInstance -SqlCredential $SqlCredential).Start()\r\n",
                "Start-Sleep -Seconds 15\r\n",
                "Invoke-DbcCheck -SqlInstance $SqlInstance -SqlCredential $SqlCredential -Check FailedJob"
            ],
            "metadata": {
                "azdata_cell_guid": "79d42ef2-197c-43e7-865e-6cd4ca290b60"
            },
            "outputs": [
                {
                    "output_type": "stream",
                    "name": "stdout",
                    "text": "Executing all tests in 'C:\\Program Files\\WindowsPowerShell\\Modules\\dbachecks\\1.2.15\\checks\\Agent.Tests.ps1' with Tags FailedJob\n\nExecuting script C:\\Program Files\\WindowsPowerShell\\Modules\\dbachecks\\1.2.15\\checks\\Agent.Tests.ps1\n\n  Describing Failed Jobs\n\n    Context Checking for failed enabled jobs since 02/13/2020 15:46:18 on localhost,15592\n      [+] CommandLog Cleanup's last run outcome on 0034794b4ce3 is Succeeded 10ms\n      [-] DatabaseBackup - SYSTEM_DATABASES - FULL's last run outcome on 0034794b4ce3 is Failed 182ms\n        Expected 'Succeeded', because All Agent Jobs should have succeed - you need to investigate the failed jobs, but got Failed.\n        170:                                         $psitem.LastRunOutcome | Should -Be \"Succeeded\" -Because 'All Agent Jobs should have succeed - you need to investigate the failed jobs'\n        at <ScriptBlock>, C:\\Program Files\\WindowsPowerShell\\Modules\\dbachecks\\1.2.15\\checks\\Agent.Tests.ps1: line 170\n      [-] DatabaseBackup - USER_DATABASES - DIFF's last run outcome on 0034794b4ce3 is Failed 5ms\n        Expected 'Succeeded', because All Agent Jobs should have succeed - you need to investigate the failed jobs, but got Failed.\n        170:                                         $psitem.LastRunOutcome | Should -Be \"Succeeded\" -Because 'All Agent Jobs should have succeed - you need to investigate the failed jobs'\n        at <ScriptBlock>, C:\\Program Files\\WindowsPowerShell\\Modules\\dbachecks\\1.2.15\\checks\\Agent.Tests.ps1: line 170\n      [-] DatabaseBackup - USER_DATABASES - FULL's last run outcome on 0034794b4ce3 is Failed 5ms\n        Expected 'Succeeded', because All Agent Jobs should have succeed - you need to investigate the failed jobs, but got Failed.\n        170:                                         $psitem.LastRunOutcome | Should -Be \"Succeeded\" -Because 'All Agent Jobs should have succeed - you need to investigate the failed jobs'\n        at <ScriptBlock>, C:\\Program Files\\WindowsPowerShell\\Modules\\dbachecks\\1.2.15\\checks\\Agent.Tests.ps1: line 170\n      [-] DatabaseBackup - USER_DATABASES - LOG's last run outcome on 0034794b4ce3 is Failed 4ms\n        Expected 'Succeeded', because All Agent Jobs should have succeed - you need to investigate the failed jobs, but got Failed.\n        170:                                         $psitem.LastRunOutcome | Should -Be \"Succeeded\" -Because 'All Agent Jobs should have succeed - you need to investigate the failed jobs'\n        at <ScriptBlock>, C:\\Program Files\\WindowsPowerShell\\Modules\\dbachecks\\1.2.15\\checks\\Agent.Tests.ps1: line 170\n      [-] DatabaseIntegrityCheck - SYSTEM_DATABASES's last run outcome on 0034794b4ce3 is Failed 5ms\n        Expected 'Succeeded', because All Agent Jobs should have succeed - you need to investigate the failed jobs, but got Failed.\n        170:                                         $psitem.LastRunOutcome | Should -Be \"Succeeded\" -Because 'All Agent Jobs should have succeed - you need to investigate the failed jobs'\n        at <ScriptBlock>, C:\\Program Files\\WindowsPowerShell\\Modules\\dbachecks\\1.2.15\\checks\\Agent.Tests.ps1: line 170\n      [-] DatabaseIntegrityCheck - USER_DATABASES's last run outcome on 0034794b4ce3 is Failed 5ms\n        Expected 'Succeeded', because All Agent Jobs should have succeed - you need to investigate the failed jobs, but got Failed.\n        170:                                         $psitem.LastRunOutcome | Should -Be \"Succeeded\" -Because 'All Agent Jobs should have succeed - you need to investigate the failed jobs'\n        at <ScriptBlock>, C:\\Program Files\\WindowsPowerShell\\Modules\\dbachecks\\1.2.15\\checks\\Agent.Tests.ps1: line 170\n      [+] IndexOptimize - USER_DATABASES's last run outcome on 0034794b4ce3 is Succeeded 2ms\n      [+] sp_delete_backuphistory's last run outcome on 0034794b4ce3 is Succeeded 5ms\n      [+] sp_purge_jobhistory's last run outcome on 0034794b4ce3 is Succeeded 3ms\n      [-] The Beard is Important's last run outcome on 0034794b4ce3 is Failed 5ms\n        Expected 'Succeeded', because All Agent Jobs should have succeed - you need to investigate the failed jobs, but got Failed.\n        170:                                         $psitem.LastRunOutcome | Should -Be \"Succeeded\" -Because 'All Agent Jobs should have succeed - you need to investigate the failed jobs'\n        at <ScriptBlock>, C:\\Program Files\\WindowsPowerShell\\Modules\\dbachecks\\1.2.15\\checks\\Agent.Tests.ps1: line 170\nTests completed in 1.78s\nTests Passed: 4, Failed: 7, Skipped: 0, Pending: 0, Inconclusive: 0 \n"
                }
            ],
            "execution_count": 6
        },
        {
            "cell_type": "markdown",
            "source": [
                "## Check the instances are available\r\n",
                "Are all of the instances up and available?\r\n",
                "\r\n",
                "There will be failures for the default values of the authentication scheme as we are connecting with SQL Authentication. We will look at configuration in a later notebook."
            ],
            "metadata": {
                "azdata_cell_guid": "60a354ad-2eca-4fc2-988b-17ee6cf42ac2"
            }
        },
        {
            "cell_type": "code",
            "source": [
                "$FolderPath = $Env:USERPROFILE + '\\Documents\\dbachecks'\r\n",
                "$SqlInstances = 'localhost,15592','localhost,15593'\r\n",
                "$SqlCredential = Import-Clixml -Path $FolderPath\\sqladmin.cred\r\n",
                "Invoke-DbcCheck -SqlInstance $SqlInstances -SqlCredential $SqlCredential -Check InstanceConnection "
            ],
            "metadata": {
                "azdata_cell_guid": "8e268766-82db-4024-a8c6-ebafe51760f3"
            },
            "outputs": [
                {
                    "output_type": "stream",
                    "name": "stdout",
                    "text": "Executing all tests in 'C:\\Program Files\\WindowsPowerShell\\Modules\\dbachecks\\1.2.15\\checks\\Instance.Tests.ps1' with Tags InstanceConnection\n\nExecuting script C:\\Program Files\\WindowsPowerShell\\Modules\\dbachecks\\1.2.15\\checks\\Instance.Tests.ps1\n\n  Describing Instance Connection\n\n    Context Testing Instance Connection on localhost,15592\n      [+] connects successfully to localhost,15592 25ms\n      [-] auth scheme should be Kerberos on localhost,15592 255ms\n        Expected strings to be the same, but they were different.\n        Expected length: 8\n        Actual length:   3\n        Strings differ at index 0.\n        Expected: 'Kerberos'\n        But was:  'SQL'\n        64:                         (Test-DbaConnectionAuthScheme -SqlInstance $Instance).authscheme | Should -Be $authscheme\n        at <ScriptBlock>, C:\\Program Files\\WindowsPowerShell\\Modules\\dbachecks\\1.2.15\\checks\\Instance.Tests.ps1: line 64\n      [+] localhost,15592 is pingable 24ms\n      [-] localhost,15592 Is PSRemoteable 24.22s\n        Expected $true, but got $false.\n        84:                     $remoting | Should -BeTrue\n        at <ScriptBlock>, C:\\Program Files\\WindowsPowerShell\\Modules\\dbachecks\\1.2.15\\checks\\Instance.Tests.ps1: line 84\n\n  Describing Instance Connection\n\n    Context Testing Instance Connection on localhost,15593\n      [+] connects successfully to localhost,15593 4ms\n      [-] auth scheme should be Kerberos on localhost,15593 306ms\n        Expected strings to be the same, but they were different.\n        Expected length: 8\n        Actual length:   3\n        Strings differ at index 0.\n        Expected: 'Kerberos'\n        But was:  'SQL'\n        64:                         (Test-DbaConnectionAuthScheme -SqlInstance $Instance).authscheme | Should -Be $authscheme\n        at <ScriptBlock>, C:\\Program Files\\WindowsPowerShell\\Modules\\dbachecks\\1.2.15\\checks\\Instance.Tests.ps1: line 64\n      [+] localhost,15593 is pingable 4ms\n      [-] localhost,15593 Is PSRemoteable 24.1s\n        Expected $true, but got $false.\n        84:                     $remoting | Should -BeTrue\n        at <ScriptBlock>, C:\\Program Files\\WindowsPowerShell\\Modules\\dbachecks\\1.2.15\\checks\\Instance.Tests.ps1: line 84\nTests completed in 50.02s\nTests Passed: 4, Failed: 4, Skipped: 0, Pending: 0, Inconclusive: 0 \n"
                }
            ],
            "execution_count": 7
        },
        {
            "cell_type": "markdown",
            "source": [
                "# Check the databases are available\r\n",
                "Are all the databases up available?\r\n",
                "\r\n",
                "This by default will only show the system databases but we will talk about configuration for this in the next notebook"
            ],
            "metadata": {
                "azdata_cell_guid": "405d3e5a-c0a8-4819-852e-a865cd0618b4"
            }
        },
        {
            "cell_type": "code",
            "source": [
                "$FolderPath = $Env:USERPROFILE + '\\Documents\\dbachecks'\r\n",
                "$SqlInstances = 'localhost,15592','localhost,15593'\r\n",
                "$SqlCredential = Import-Clixml -Path $FolderPath\\sqladmin.cred\r\n",
                "Invoke-DbcCheck -SqlInstance $SqlInstances -SqlCredential $SqlCredential  -Check DatabaseStatus"
            ],
            "metadata": {
                "azdata_cell_guid": "9a42fc56-1dd6-4512-91e0-9908a98cbf83"
            },
            "outputs": [
                {
                    "output_type": "stream",
                    "name": "stdout",
                    "text": "Executing all tests in 'C:\\Program Files\\WindowsPowerShell\\Modules\\dbachecks\\1.2.15\\checks\\Database.Tests.ps1' with Tags DatabaseStatus\n\nExecuting script C:\\Program Files\\WindowsPowerShell\\Modules\\dbachecks\\1.2.15\\checks\\Database.Tests.ps1\n\n  Describing Database Status\n\n    Context Database status is correct on localhost,15592\n      [+] Database AdventureWorks2017 on localhost,15592 has the expected status 246ms\n      [+] Database master on localhost,15592 has the expected status 192ms\n      [+] Database model on localhost,15592 has the expected status 171ms\n      [+] Database msdb on localhost,15592 has the expected status 181ms\n      [+] Database Northwind on localhost,15592 has the expected status 172ms\n      [+] Database pubs on localhost,15592 has the expected status 201ms\n      [+] Database tempdb on localhost,15592 has the expected status 226ms\n\n  Describing Database Status\n\n    Context Database status is correct on localhost,15593\n      [+] Database AdventureWorks2017 on localhost,15593 has the expected status 216ms\n      [+] Database master on localhost,15593 has the expected status 181ms\n      [+] Database model on localhost,15593 has the expected status 206ms\n      [+] Database msdb on localhost,15593 has the expected status 185ms\n      [+] Database Northwind on localhost,15593 has the expected status 205ms\n      [+] Database pubs on localhost,15593 has the expected status 187ms\n      [+] Database tempdb on localhost,15593 has the expected status 189ms\nTests completed in 3.73s\nTests Passed: 14, Failed: 0, Skipped: 0, Pending: 0, Inconclusive: 0 \n"
                }
            ],
            "execution_count": 8
        },
        {
            "cell_type": "markdown",
            "source": [
                "## Check that DBCC CheckDB \r\n",
                "\r\n",
                "This is one of my favourite checks to run. You can get the last time DBCC CHECKDB was run for a single database using T-SQL with\r\n",
                "\r\n",
                "```sql\r\n",
                "DBCC DBINFO('DatabaseName') WITH TABLERESULTS\r\n",
                "```\r\n",
                "\r\n",
                "You will find the result somewhere around line 50. Doing that for all of the databases on your estate is time consuming and prone to (human) error.\r\n",
                "With dbachecks you can do it like this. ON my machine this checks the 2 containers and 14 databases to make sure DBCC CHECKDB was run in the last 7 days in under 2 seconds :-)"
            ],
            "metadata": {
                "azdata_cell_guid": "420b3aad-8a6b-4412-87f4-98cbd5611b29"
            }
        },
        {
            "cell_type": "code",
            "source": [
                "$FolderPath = $Env:USERPROFILE + '\\Documents\\dbachecks'\r\n",
                "$SqlInstances = 'localhost,15592','localhost,15593'\r\n",
                "$SqlCredential = Import-Clixml -Path $FolderPath\\sqladmin.cred\r\n",
                "Invoke-DbcCheck -SqlInstance $SqlInstances -SqlCredential $SqlCredential  -Check LastGoodCheckDb"
            ],
            "metadata": {
                "azdata_cell_guid": "aacc026f-6f6a-4081-ace8-09fe8bf4b72b"
            },
            "outputs": [
                {
                    "output_type": "stream",
                    "name": "stdout",
                    "text": "Executing all tests in 'C:\\Program Files\\WindowsPowerShell\\Modules\\dbachecks\\1.2.15\\checks\\Database.Tests.ps1' with Tags LastGoodCheckDb\n\nExecuting script C:\\Program Files\\WindowsPowerShell\\Modules\\dbachecks\\1.2.15\\checks\\Database.Tests.ps1\n\n  Describing Last Good DBCC CHECKDB\n\n    Context Testing Last Good DBCC CHECKDB on localhost,15592\n      [+] last good integrity check for master on 0034794b4ce3 should be less than 7 days old 44ms\n      [+] last good integrity check for master on 0034794b4ce3 has Data Purity Enabled 4ms\n      [+] last good integrity check for model on 0034794b4ce3 should be less than 7 days old 7ms\n      [+] last good integrity check for model on 0034794b4ce3 has Data Purity Enabled 2ms\n      [+] last good integrity check for msdb on 0034794b4ce3 should be less than 7 days old 2ms\n      [+] last good integrity check for msdb on 0034794b4ce3 has Data Purity Enabled 2ms\n      [+] last good integrity check for AdventureWorks2017 on 0034794b4ce3 should be less than 7 days old 2ms\n      [+] last good integrity check for AdventureWorks2017 on 0034794b4ce3 has Data Purity Enabled 2ms\n      [+] last good integrity check for Northwind on 0034794b4ce3 should be less than 7 days old 2ms\n      [+] last good integrity check for Northwind on 0034794b4ce3 has Data Purity Enabled 1ms\n      [+] last good integrity check for pubs on 0034794b4ce3 should be less than 7 days old 3ms\n      [+] last good integrity check for pubs on 0034794b4ce3 has Data Purity Enabled 3ms\n\n  Describing Last Good DBCC CHECKDB\n\n    Context Testing Last Good DBCC CHECKDB on localhost,15593\n      [-] last good integrity check for master on a05392773c7e should be less than 7 days old 39ms\n        Expected the actual value to be greater than 2020-03-07T15:47:49.2471319Z, because You should have run a DBCC CheckDB inside that time, but got 2019-12-21T14:41:58.0230000.\n        200:                                 $psitem.LastGoodCheckDb | Should -BeGreaterThan (Get-Date).ToUniversalTime().AddDays( - ($maxdays)) -Because \"You should have run a DBCC CheckDB inside that time\"\n        at <ScriptBlock>, C:\\Program Files\\WindowsPowerShell\\Modules\\dbachecks\\1.2.15\\checks\\Database.Tests.ps1: line 200\n      [+] last good integrity check for master on a05392773c7e has Data Purity Enabled 2ms\n      [-] last good integrity check for model on a05392773c7e should be less than 7 days old 5ms\n        Expected the actual value to be greater than 2020-03-07T15:47:49.3151315Z, because You should have run a DBCC CheckDB inside that time, but got 2019-12-21T14:41:58.6100000.\n        200:                                 $psitem.LastGoodCheckDb | Should -BeGreaterThan (Get-Date).ToUniversalTime().AddDays( - ($maxdays)) -Because \"You should have run a DBCC CheckDB inside that time\"\n        at <ScriptBlock>, C:\\Program Files\\WindowsPowerShell\\Modules\\dbachecks\\1.2.15\\checks\\Database.Tests.ps1: line 200\n      [+] last good integrity check for model on a05392773c7e has Data Purity Enabled 3ms\n      [-] last good integrity check for msdb on a05392773c7e should be less than 7 days old 5ms\n        Expected the actual value to be greater than 2020-03-07T15:47:49.3551280Z, because You should have run a DBCC CheckDB inside that time, but got 2019-12-21T14:41:59.0070000.\n        200:                                 $psitem.LastGoodCheckDb | Should -BeGreaterThan (Get-Date).ToUniversalTime().AddDays( - ($maxdays)) -Because \"You should have run a DBCC CheckDB inside that time\"\n        at <ScriptBlock>, C:\\Program Files\\WindowsPowerShell\\Modules\\dbachecks\\1.2.15\\checks\\Database.Tests.ps1: line 200\n      [+] last good integrity check for msdb on a05392773c7e has Data Purity Enabled 2ms\n      [-] last good integrity check for AdventureWorks2017 on a05392773c7e should be less than 7 days old 8ms\n        Expected the actual value to be greater than 2020-03-07T15:47:49.3921291Z, because You should have run a DBCC CheckDB inside that time, but got 2019-12-21T14:42:03.4030000.\n        200:                                 $psitem.LastGoodCheckDb | Should -BeGreaterThan (Get-Date).ToUniversalTime().AddDays( - ($maxdays)) -Because \"You should have run a DBCC CheckDB inside that time\"\n        at <ScriptBlock>, C:\\Program Files\\WindowsPowerShell\\Modules\\dbachecks\\1.2.15\\checks\\Database.Tests.ps1: line 200\n      [+] last good integrity check for AdventureWorks2017 on a05392773c7e has Data Purity Enabled 2ms\n      [-] last good integrity check for Northwind on a05392773c7e should be less than 7 days old 6ms\n        Expected the actual value to be greater than 2020-03-07T15:47:49.4301320Z, because You should have run a DBCC CheckDB inside that time, but got 2019-12-21T14:42:06.1930000.\n        200:                                 $psitem.LastGoodCheckDb | Should -BeGreaterThan (Get-Date).ToUniversalTime().AddDays( - ($maxdays)) -Because \"You should have run a DBCC CheckDB inside that time\"\n        at <ScriptBlock>, C:\\Program Files\\WindowsPowerShell\\Modules\\dbachecks\\1.2.15\\checks\\Database.Tests.ps1: line 200\n      [+] last good integrity check for Northwind on a05392773c7e has Data Purity Enabled 2ms\n      [-] last good integrity check for pubs on a05392773c7e should be less than 7 days old 5ms\n        Expected the actual value to be greater than 2020-03-07T15:47:49.4681286Z, because You should have run a DBCC CheckDB inside that time, but got 2019-12-21T14:42:06.5630000.\n        200:                                 $psitem.LastGoodCheckDb | Should -BeGreaterThan (Get-Date).ToUniversalTime().AddDays( - ($maxdays)) -Because \"You should have run a DBCC CheckDB inside that time\"\n        at <ScriptBlock>, C:\\Program Files\\WindowsPowerShell\\Modules\\dbachecks\\1.2.15\\checks\\Database.Tests.ps1: line 200\n      [+] last good integrity check for pubs on a05392773c7e has Data Purity Enabled 2ms\nTests completed in 1.89s\nTests Passed: 18, Failed: 6, Skipped: 0, Pending: 0, Inconclusive: 0 \n"
                }
            ],
            "execution_count": 9
        },
        {
            "cell_type": "markdown",
            "source": [
                "## Check that the Error log has no Errors\r\n",
                "\r\n",
                "By default this will check the error logs for the last 24 hours"
            ],
            "metadata": {
                "azdata_cell_guid": "773c4455-0b23-4388-9e8d-2f02eef29aeb"
            }
        },
        {
            "cell_type": "code",
            "source": [
                "$FolderPath = $Env:USERPROFILE + '\\Documents\\dbachecks'\r\n",
                "$SqlInstances = 'localhost,15592','localhost,15593'\r\n",
                "$SqlCredential = Import-Clixml -Path $FolderPath\\sqladmin.cred\r\n",
                "Invoke-DbcCheck -SqlInstance $SqlInstances -SqlCredential $SqlCredential  -Check ErrorLog"
            ],
            "metadata": {
                "azdata_cell_guid": "c5e424b6-74f4-4057-907c-720f8e1dfc66"
            },
            "outputs": [
                {
                    "output_type": "stream",
                    "name": "stdout",
                    "text": "Executing all tests in 'C:\\Program Files\\WindowsPowerShell\\Modules\\dbachecks\\1.2.15\\checks\\Instance.Tests.ps1' with Tags ErrorLog\n\nExecuting script C:\\Program Files\\WindowsPowerShell\\Modules\\dbachecks\\1.2.15\\checks\\Instance.Tests.ps1\n\n  Describing Error Log Entries\n\n    Context Checking error log on localhost,15592\n      [+] Error log should be free of error severities 17-24 on localhost,15592 30ms\n\n  Describing Error Log Entries\n\n    Context Checking error log on localhost,15593\n      [+] Error log should be free of error severities 17-24 on localhost,15593 3ms\nTests completed in 1.53s\nTests Passed: 2, Failed: 0, Skipped: 0, Pending: 0, Inconclusive: 0 \n"
                }
            ],
            "execution_count": 10
        },
        {
            "cell_type": "markdown",
            "source": [
                "## Check the disk space on the instance\r\n",
                "\r\n",
                "This will check that the disk space on the hosts has at least 20% free space by default. It requires passing the host names to the `-ComputerName` parameter"
            ],
            "metadata": {
                "azdata_cell_guid": "96b863a1-dab1-479b-87c7-b0ca576b8671"
            }
        },
        {
            "cell_type": "code",
            "source": [
                "$FolderPath = $Env:USERPROFILE + '\\Documents\\dbachecks'\r\n",
                "$SqlInstances = 'localhost,15592','localhost,15593'\r\n",
                "$SqlCredential = Import-Clixml -Path $FolderPath\\sqladmin.cred\r\n",
                "Invoke-DbcCheck -ComputerName $SqlInstances -Check DiskCapacity"
            ],
            "metadata": {
                "azdata_cell_guid": "ae93ad9f-950e-40dc-9ab5-d8d2e40d2928"
            },
            "outputs": [
                {
                    "output_type": "stream",
                    "name": "stdout",
                    "text": "Executing all tests in 'C:\\Program Files\\WindowsPowerShell\\Modules\\dbachecks\\1.2.15\\checks\\Server.Tests.ps1' with Tags DiskCapacity\n\nExecuting script C:\\Program Files\\WindowsPowerShell\\Modules\\dbachecks\\1.2.15\\checks\\Server.Tests.ps1\n\n  Describing Disk Space\n\n    Context Testing Disk Space on localhost,15592\n      [+] C:\\ with 48.7% free should be at least 20% free on localhost 15ms\n\n  Describing Disk Space\n\n    Context Testing Disk Space on localhost,15593\n      [+] C:\\ with 48.7% free should be at least 20% free on localhost 14ms\nTests completed in 821ms\nTests Passed: 2, Failed: 0, Skipped: 0, Pending: 0, Inconclusive: 0 \n"
                }
            ],
            "execution_count": 11
        },
        {
            "cell_type": "markdown",
            "source": [
                "# Check if DAC is enabled\r\n",
                "\r\n",
                "This will check that DAC - the dedicated administrator connection is enabled (by default)"
            ],
            "metadata": {
                "azdata_cell_guid": "0d2e7bf5-3687-4141-ad68-26a84e7a66cc"
            }
        },
        {
            "cell_type": "code",
            "source": [
                "$FolderPath = $Env:USERPROFILE + '\\Documents\\dbachecks'\r\n",
                "$SqlInstances = 'localhost,15592','localhost,15593'\r\n",
                "$SqlCredential = Import-Clixml -Path $FolderPath\\sqladmin.cred\r\n",
                "Invoke-DbcCheck -SqlInstance $SqlInstances -SqlCredential $SqlCredential  -Check DAC"
            ],
            "metadata": {
                "azdata_cell_guid": "3cb402a8-8d90-45cb-b774-19ea98a57fc9"
            },
            "outputs": [
                {
                    "output_type": "stream",
                    "name": "stdout",
                    "text": "Executing all tests in 'C:\\Program Files\\WindowsPowerShell\\Modules\\dbachecks\\1.2.15\\checks\\Instance.Tests.ps1' with Tags DAC\n\nExecuting script C:\\Program Files\\WindowsPowerShell\\Modules\\dbachecks\\1.2.15\\checks\\Instance.Tests.ps1\n\n  Describing Dedicated Administrator Connection\n\n    Context Testing Dedicated Administrator Connection on localhost,15592\n      [+] DAC is set to True on localhost,15592 378ms\n\n  Describing Dedicated Administrator Connection\n\n    Context Testing Dedicated Administrator Connection on localhost,15593\n      [+] DAC is set to True on localhost,15593 113ms\nTests completed in 1.21s\nTests Passed: 2, Failed: 0, Skipped: 0, Pending: 0, Inconclusive: 0 \n"
                }
            ],
            "execution_count": 12
        },
        {
            "cell_type": "markdown",
            "source": [
                "## Check if the database collation matches the server collation\r\n",
                "\r\n",
                "This will check that the collation of the database matches the collation of the instance to avoid collation conflict errors when using temporary tables"
            ],
            "metadata": {
                "azdata_cell_guid": "4748f90f-bc7c-4f7f-85af-9866b2ae6027"
            }
        },
        {
            "cell_type": "code",
            "source": [
                "$FolderPath = $Env:USERPROFILE + '\\Documents\\dbachecks'\r\n",
                "$SqlInstances = 'localhost,15592','localhost,15593'\r\n",
                "$SqlCredential = Import-Clixml -Path $FolderPath\\sqladmin.cred\r\n",
                "Invoke-DbcCheck -SqlInstance $SqlInstances -SqlCredential $SqlCredential  -Check DatabaseCollation"
            ],
            "metadata": {
                "azdata_cell_guid": "e850a5de-3207-4b09-82a7-a05663a0a5ca"
            },
            "outputs": [
                {
                    "output_type": "stream",
                    "name": "stdout",
                    "text": "Executing all tests in 'C:\\Program Files\\WindowsPowerShell\\Modules\\dbachecks\\1.2.15\\checks\\Database.Tests.ps1' with Tags DatabaseCollation\n\nExecuting script C:\\Program Files\\WindowsPowerShell\\Modules\\dbachecks\\1.2.15\\checks\\Database.Tests.ps1\n\n  Describing Database Collation\n\n    Context Testing database collation on localhost,15592\n      [+] database collation (SQL_Latin1_General_CP1_CI_AS) should match server collation (SQL_Latin1_General_CP1_CI_AS) for AdventureWorks2017 on 0034794b4ce3 5ms\n      [+] database collation (SQL_Latin1_General_CP1_CI_AS) should match server collation (SQL_Latin1_General_CP1_CI_AS) for master on 0034794b4ce3 2ms\n      [+] database collation (SQL_Latin1_General_CP1_CI_AS) should match server collation (SQL_Latin1_General_CP1_CI_AS) for model on 0034794b4ce3 3ms\n      [+] database collation (SQL_Latin1_General_CP1_CI_AS) should match server collation (SQL_Latin1_General_CP1_CI_AS) for msdb on 0034794b4ce3 2ms\n      [+] database collation (SQL_Latin1_General_CP1_CI_AS) should match server collation (SQL_Latin1_General_CP1_CI_AS) for Northwind on 0034794b4ce3 2ms\n      [+] database collation (SQL_Latin1_General_CP1_CI_AS) should match server collation (SQL_Latin1_General_CP1_CI_AS) for pubs on 0034794b4ce3 2ms\n      [+] database collation (SQL_Latin1_General_CP1_CI_AS) should match server collation (SQL_Latin1_General_CP1_CI_AS) for tempdb on 0034794b4ce3 2ms\n\n  Describing Database Collation\n\n    Context Testing database collation on localhost,15593\n      [+] database collation (SQL_Latin1_General_CP1_CI_AS) should match server collation (SQL_Latin1_General_CP1_CI_AS) for AdventureWorks2017 on a05392773c7e 4ms\n      [+] database collation (SQL_Latin1_General_CP1_CI_AS) should match server collation (SQL_Latin1_General_CP1_CI_AS) for master on a05392773c7e 4ms\n      [+] database collation (SQL_Latin1_General_CP1_CI_AS) should match server collation (SQL_Latin1_General_CP1_CI_AS) for model on a05392773c7e 2ms\n      [+] database collation (SQL_Latin1_General_CP1_CI_AS) should match server collation (SQL_Latin1_General_CP1_CI_AS) for msdb on a05392773c7e 3ms\n      [+] database collation (SQL_Latin1_General_CP1_CI_AS) should match server collation (SQL_Latin1_General_CP1_CI_AS) for Northwind on a05392773c7e 2ms\n      [+] database collation (SQL_Latin1_General_CP1_CI_AS) should match server collation (SQL_Latin1_General_CP1_CI_AS) for pubs on a05392773c7e 3ms\n      [+] database collation (SQL_Latin1_General_CP1_CI_AS) should match server collation (SQL_Latin1_General_CP1_CI_AS) for tempdb on a05392773c7e 5ms\nTests completed in 1.75s\nTests Passed: 14, Failed: 0, Skipped: 0, Pending: 0, Inconclusive: 0 \n"
                }
            ],
            "execution_count": 13
        },
        {
            "cell_type": "markdown",
            "source": [
                "Are all of the SPNs correct ?\r\n",
                "\r\n",
                "You should not run this one but look at the saved results to see what you can get."
            ],
            "metadata": {
                "azdata_cell_guid": "3aa3347c-b7a9-4d45-b142-8b2f0afc2776"
            }
        },
        {
            "cell_type": "code",
            "source": [
                "$Instances =  'SQL2005Ser2003', 'SQL2008Ser12R2', 'SQL2012Ser08AG1', 'SQL2012Ser08AG2', 'SQL2012Ser08AG3', 'SQL2014Ser12R2', 'SQL2016N1', 'SQL2016N2', 'SQL2016N3', 'SQL2017N5', 'SQL2019N20', 'SQL2019N21', 'SQL2019N22', 'SQL2019N5'\r\n",
                "Invoke-DbcCheck -SqlInstance $instances -Check SPN"
            ],
            "metadata": {
                "azdata_cell_guid": "09010eb5-fc3d-4318-9b29-91a12cff6fbd"
            },
            "outputs": [
                {
                    "output_type": "stream",
                    "name": "stdout",
                    "text": "    ____            __\n   / __ \\___  _____/ /____  _____\n  / /_/ / _ \\/ ___/ __/ _ \\/ ___/\n / ____/  __(__  ) /_/  __/ /\n/_/    \\___/____/\\__/\\___/_/\nPester v4.9.0\nExecuting all tests in 'C:\\Program Files\\WindowsPowerShell\\Modules\\dbachecks\\1.2.21\\checks\\Server.Tests.ps1' with Tags SPN\n\nExecuting script C:\\Program Files\\WindowsPowerShell\\Modules\\dbachecks\\1.2.21\\checks\\Server.Tests.ps1\n\n  Describing SPNs\n\n    Context Testing SPNs on SQL2005Ser2003\n      [-] SQL2005Ser2003 should have a SPN Dont know the SPN for Dont know the Account 5ms\n        Expected strings to be the same, because We expect to have a SPN Dont know the SPN for Dont know the Account, but they were different.\n        Expected length: 4\n        Actual length:   17\n        Strings differ at index 0.\n        Expected: 'None'\n        But was:  'An Error occurred'\n        191:     $SPN.Error | Should -Be 'None' -Because \"We expect to have a SPN $($SPN.RequiredSPN) for $($SPN.InstanceServiceAccount)\"\n        at Assert-SPN, C:\\Program Files\\WindowsPowerShell\\Modules\\dbachecks\\1.2.21\\internal\\assertions\\Server.Assertions.ps1: line 191\n        at <ScriptBlock>, C:\\Program Files\\WindowsPowerShell\\Modules\\dbachecks\\1.2.21\\checks\\Server.Tests.ps1: line 25\n\n  Describing SPNs\n\n    Context Testing SPNs on SQL2008Ser12R2\n      [+] SQL2008Ser12R2 should have a SPN MSSQLSvc/SQL2008Ser12R2.TheBeard.local for THEBEARD\\SQL_SVC 1ms\n      [+] SQL2008Ser12R2 should have a SPN MSSQLSvc/SQL2008Ser12R2.TheBeard.local:1433 for THEBEARD\\SQL_SVC 2ms\n\n  Describing SPNs\n\n    Context Testing SPNs on SQL2012Ser08AG1\n      [-] SQL2012Ser08AG1 should have a SPN MSSQLSvc/SQL2012Ser08AG1.TheBeard.local for THEBEARD\\SVC_SQL_AG1 4ms\n        Expected strings to be the same, because We expect to have a SPN MSSQLSvc/SQL2012Ser08AG1.TheBeard.local for THEBEARD\\SVC_SQL_AG1, but they were different.\n        Expected length: 4\n        Actual length:   11\n        Strings differ at index 0.\n        Expected: 'None'\n        But was:  'SPN missing'\n        191:     $SPN.Error | Should -Be 'None' -Because \"We expect to have a SPN $($SPN.RequiredSPN) for $($SPN.InstanceServiceAccount)\"\n        at Assert-SPN, C:\\Program Files\\WindowsPowerShell\\Modules\\dbachecks\\1.2.21\\internal\\assertions\\Server.Assertions.ps1: line 191\n        at <ScriptBlock>, C:\\Program Files\\WindowsPowerShell\\Modules\\dbachecks\\1.2.21\\checks\\Server.Tests.ps1: line 25\n      [-] SQL2012Ser08AG1 should have a SPN MSSQLSvc/SQL2012Ser08AG1.TheBeard.local:1433 for THEBEARD\\SVC_SQL_AG1 3ms\n        Expected strings to be the same, because We expect to have a SPN MSSQLSvc/SQL2012Ser08AG1.TheBeard.local:1433 for THEBEARD\\SVC_SQL_AG1, but they were different.\n        Expected length: 4\n        Actual length:   11\n        Strings differ at index 0.\n        Expected: 'None'\n        But was:  'SPN missing'\n        191:     $SPN.Error | Should -Be 'None' -Because \"We expect to have a SPN $($SPN.RequiredSPN) for $($SPN.InstanceServiceAccount)\"\n        at Assert-SPN, C:\\Program Files\\WindowsPowerShell\\Modules\\dbachecks\\1.2.21\\internal\\assertions\\Server.Assertions.ps1: line 191\n        at <ScriptBlock>, C:\\Program Files\\WindowsPowerShell\\Modules\\dbachecks\\1.2.21\\checks\\Server.Tests.ps1: line 25\n\n  Describing SPNs\n\n    Context Testing SPNs on SQL2012Ser08AG2\n      [+] SQL2012Ser08AG2 should have a SPN MSSQLSvc/SQL2012Ser08AG2.TheBeard.local for THEBEARD\\SVC_SQL_AG2 5ms\n      [+] SQL2012Ser08AG2 should have a SPN MSSQLSvc/SQL2012Ser08AG2.TheBeard.local:1433 for THEBEARD\\SVC_SQL_AG2 1ms\n\n  Describing SPNs\n\n    Context Testing SPNs on SQL2012Ser08AG3\n      [+] SQL2012Ser08AG3 should have a SPN MSSQLSvc/SQL2012Ser08AG3.TheBeard.local for THEBEARD\\SVC_SQL_AG3 1ms\n      [+] SQL2012Ser08AG3 should have a SPN MSSQLSvc/SQL2012Ser08AG3.TheBeard.local:1433 for THEBEARD\\SVC_SQL_AG3 1ms\n\n  Describing SPNs\n\n    Context Testing SPNs on SQL2014Ser12R2\n      [+] SQL2014Ser12R2 should have a SPN MSSQLSvc/SQL2014Ser12R2.TheBeard.local for thebeard\\sql_svc 2ms\n      [+] SQL2014Ser12R2 should have a SPN MSSQLSvc/SQL2014Ser12R2.TheBeard.local:1433 for thebeard\\sql_svc 1ms\n\n  Describing SPNs\n\n    Context Testing SPNs on SQL2016N1\n      [+] SQL2016N1 should have a SPN MSSQLSvc/SQL2016N1.TheBeard.local for THEBEARD\\SQL_SVC 1ms\n      [+] SQL2016N1 should have a SPN MSSQLSvc/SQL2016N1.TheBeard.local:1433 for THEBEARD\\SQL_SVC 1ms\n\n  Describing SPNs\n\n    Context Testing SPNs on SQL2016N2\n      [+] SQL2016N2 should have a SPN MSSQLSvc/SQL2016N2.TheBeard.local for THEBEARD\\SQL_SVC 1ms\n      [+] SQL2016N2 should have a SPN MSSQLSvc/SQL2016N2.TheBeard.local:1433 for THEBEARD\\SQL_SVC 1ms\n\n  Describing SPNs\n\n    Context Testing SPNs on SQL2016N3\n      [+] SQL2016N3 should have a SPN MSSQLSvc/SQL2016N3.TheBeard.local for THEBEARD\\SQL_SVC 1ms\n      [+] SQL2016N3 should have a SPN MSSQLSvc/SQL2016N3.TheBeard.local:1433 for THEBEARD\\SQL_SVC 4ms\n\n  Describing SPNs\n\n    Context Testing SPNs on SQL2017N5\n      [-] SQL2017N5 should have a SPN MSSQLSvc/SQL2017N5.TheBeard.local for THEBEARD\\SQL_SVC 4ms\n        Expected strings to be the same, because We expect to have a SPN MSSQLSvc/SQL2017N5.TheBeard.local for THEBEARD\\SQL_SVC, but they were different.\n        Expected length: 4\n        Actual length:   11\n        Strings differ at index 0.\n        Expected: 'None'\n        But was:  'SPN missing'\n        191:     $SPN.Error | Should -Be 'None' -Because \"We expect to have a SPN $($SPN.RequiredSPN) for $($SPN.InstanceServiceAccount)\"\n        at Assert-SPN, C:\\Program Files\\WindowsPowerShell\\Modules\\dbachecks\\1.2.21\\internal\\assertions\\Server.Assertions.ps1: line 191\n        at <ScriptBlock>, C:\\Program Files\\WindowsPowerShell\\Modules\\dbachecks\\1.2.21\\checks\\Server.Tests.ps1: line 25\n      [-] SQL2017N5 should have a SPN MSSQLSvc/SQL2017N5.TheBeard.local:1433 for THEBEARD\\SQL_SVC 3ms\n        Expected strings to be the same, because We expect to have a SPN MSSQLSvc/SQL2017N5.TheBeard.local:1433 for THEBEARD\\SQL_SVC, but they were different.\n        Expected length: 4\n        Actual length:   11\n        Strings differ at index 0.\n        Expected: 'None'\n        But was:  'SPN missing'\n        191:     $SPN.Error | Should -Be 'None' -Because \"We expect to have a SPN $($SPN.RequiredSPN) for $($SPN.InstanceServiceAccount)\"\n        at Assert-SPN, C:\\Program Files\\WindowsPowerShell\\Modules\\dbachecks\\1.2.21\\internal\\assertions\\Server.Assertions.ps1: line 191\n        at <ScriptBlock>, C:\\Program Files\\WindowsPowerShell\\Modules\\dbachecks\\1.2.21\\checks\\Server.Tests.ps1: line 25\n\n  Describing SPNs\n\n    Context Testing SPNs on SQL2019N20\n      [+] SQL2019N20 should have a SPN MSSQLSvc/SQL2019N20.TheBeard.local for THEBEARD\\SQL_SVC 1ms\n      [+] SQL2019N20 should have a SPN MSSQLSvc/SQL2019N20.TheBeard.local:1433 for THEBEARD\\SQL_SVC 1ms\n\n  Describing SPNs\n\n    Context Testing SPNs on SQL2019N21\n      [+] SQL2019N21 should have a SPN MSSQLSvc/SQL2019N21.TheBeard.local for THEBEARD\\SQL_SVC 1ms\n      [+] SQL2019N21 should have a SPN MSSQLSvc/SQL2019N21.TheBeard.local:1433 for THEBEARD\\SQL_SVC 1ms\n\n  Describing SPNs\n\n    Context Testing SPNs on SQL2019N22\n      [+] SQL2019N22 should have a SPN MSSQLSvc/SQL2019N22.TheBeard.local for THEBEARD\\SQL_SVC 1ms\n      [+] SQL2019N22 should have a SPN MSSQLSvc/SQL2019N22.TheBeard.local:1433 for THEBEARD\\SQL_SVC 2ms\n\n  Describing SPNs\n\n    Context Testing SPNs on SQL2019N5\n      [+] SQL2019N5 should have a SPN MSSQLSvc/SQL2019N5.TheBeard.local for THEBEARD\\SQL_Svc 2ms\n      [+] SQL2019N5 should have a SPN MSSQLSvc/SQL2019N5.TheBeard.local:1433 for THEBEARD\\SQL_Svc 1ms\nTests completed in 253.49s\nTests Passed: 22, Failed: 5, Skipped: 0, Pending: 0, Inconclusive: 0 \n"
                }
            ],
            "execution_count": 6
        },
        {
            "cell_type": "markdown",
            "source": [
                "# Running multiple checks\r\n",
                "\r\n",
                "All of the examples above have used a single unique tag. You can run more than one check at a time. You can do this either by specifying a tag that covers a number of checks. You can find these by running `Get-DbcCheck`\r\n",
                "\r\n",
                "When you search for checks like disk"
            ],
            "metadata": {
                "azdata_cell_guid": "823ff429-43b3-4598-b34b-d18ff90836bc"
            }
        },
        {
            "cell_type": "code",
            "source": [
                "Get-DbcCheck disk"
            ],
            "metadata": {
                "azdata_cell_guid": "696f7e6a-c592-4434-8c05-9ca240dfde78"
            },
            "outputs": [],
            "execution_count": 7
        },
        {
            "cell_type": "markdown",
            "source": [
                "you can see that under AllTags for the DiskCapacity check there is a tag called Storage. If you search for storage"
            ],
            "metadata": {
                "azdata_cell_guid": "8b17d7b4-a646-4e52-8086-764219072454"
            }
        },
        {
            "cell_type": "code",
            "source": [
                "Get-DbcCheck Storage"
            ],
            "metadata": {
                "azdata_cell_guid": "4d71feaf-0be1-4503-b776-0f99b19e8e1d"
            },
            "outputs": [],
            "execution_count": 8
        },
        {
            "cell_type": "markdown",
            "source": [
                "you can see that this returns two checks - BackUpPathAccess and DiskCapacity. You can run both of these checks at the same time. Note that the `Type` of check is different for these two checks and you will have to supply both `SqlInstance` and `ComputerName`"
            ],
            "metadata": {
                "azdata_cell_guid": "71cf2d4b-7024-4ed4-b6a7-29e4fb0e7525"
            }
        },
        {
            "cell_type": "code",
            "source": [
                "$FolderPath = $Env:USERPROFILE + '\\Documents\\dbachecks'\r\n",
                "$SqlInstances = 'localhost,15592','localhost,15593'\r\n",
                "$SqlCredential = Import-Clixml -Path $FolderPath\\sqladmin.cred\r\n",
                "Invoke-DbcCheck -SqlInstance $SqlInstances -ComputerName $SqlInstances -SqlCredential $SqlCredential -Check Storage"
            ],
            "metadata": {
                "azdata_cell_guid": "d48cdb95-521b-4f7b-8fb0-cd1b5edfbac5"
            },
            "outputs": [
                {
                    "output_type": "stream",
                    "name": "stdout",
                    "text": "Executing all tests in 'C:\\Program Files\\WindowsPowerShell\\Modules\\dbachecks\\1.2.15\\checks\\Instance.Tests.ps1', 'C:\\Program Files\\WindowsPowerShell\\Modules\\dbachecks\\1.2.15\\checks\\Server.Tests.ps1' with Tags Storage\n\nExecuting script C:\\Program Files\\WindowsPowerShell\\Modules\\dbachecks\\1.2.15\\checks\\Instance.Tests.ps1\n\n  Describing Backup Path Access\n\n    Context Testing Backup Path Access on localhost,15592\n      [+] can access backup path (/var/opt/mssql/data) on localhost,15592 120ms\n\n  Describing Backup Path Access\n\n    Context Testing Backup Path Access on localhost,15593\n      [+] can access backup path (/var/opt/mssql/data) on localhost,15593 85ms\n\nExecuting script C:\\Program Files\\WindowsPowerShell\\Modules\\dbachecks\\1.2.15\\checks\\Server.Tests.ps1\n\n  Describing Disk Space\n\n    Context Testing Disk Space on localhost,15592\n      [-]  with % free should be at least 20% free on  38ms\n        Expected the actual value to be greater than 20, because You Do not want to run out of space on your disks, but got $null.\n        197:     $Disk.PercentFree  | Should -BeGreaterThan $free -Because \"You Do not want to run out of space on your disks\"\n        at Assert-DiskSpace, C:\\Program Files\\WindowsPowerShell\\Modules\\dbachecks\\1.2.15\\internal\\assertions\\Server.Assertions.ps1: line 197\n        at <ScriptBlock>, C:\\Program Files\\WindowsPowerShell\\Modules\\dbachecks\\1.2.15\\checks\\Server.Tests.ps1: line 36\n\n  Describing Disk Space\n\n    Context Testing Disk Space on localhost,15593\n      [-]  with % free should be at least 20% free on  17ms\n        Expected the actual value to be greater than 20, because You Do not want to run out of space on your disks, but got $null.\n        197:     $Disk.PercentFree  | Should -BeGreaterThan $free -Because \"You Do not want to run out of space on your disks\"\n        at Assert-DiskSpace, C:\\Program Files\\WindowsPowerShell\\Modules\\dbachecks\\1.2.15\\internal\\assertions\\Server.Assertions.ps1: line 197\n        at <ScriptBlock>, C:\\Program Files\\WindowsPowerShell\\Modules\\dbachecks\\1.2.15\\checks\\Server.Tests.ps1: line 36\nTests completed in 1.49s\nTests Passed: 2, Failed: 2, Skipped: 0, Pending: 0, Inconclusive: 0 \n"
                }
            ],
            "execution_count": 14
        },
        {
            "cell_type": "markdown",
            "source": [
                "## Running checks for a Group\r\n",
                "\r\n",
                "Checks are grouped into ... well groups! The groups are Database, Instance, Server, Agent, HADR, LogShipping and MaintenanceSolution. You can run all of the checks in a group by specifying the group. You will see failures and some errors due to missing configurations and because some checks wont run against containers. I think it is worth showing hte test failures so that you can see what they look like.  \r\n",
                "\r\n",
                "This takes about 90 seconds on my machine"
            ],
            "metadata": {
                "azdata_cell_guid": "5e898a69-40f1-4258-a79f-446d43f09999"
            }
        },
        {
            "cell_type": "code",
            "source": [
                "$FolderPath = $Env:USERPROFILE + '\\Documents\\dbachecks'\r\n",
                "$SqlInstances = 'localhost,15592','localhost,15593'\r\n",
                "$SqlCredential = Import-Clixml -Path $FolderPath\\sqladmin.cred\r\n",
                "Invoke-DbcCheck -SqlInstance $SqlInstances -SqlCredential $SqlCredential -Check Instance"
            ],
            "metadata": {
                "azdata_cell_guid": "6ee020a1-3a9e-414c-b225-bad6255041aa"
            },
            "outputs": [
                {
                    "output_type": "stream",
                    "name": "stdout",
                    "text": "Executing all tests in 'C:\\Program Files\\WindowsPowerShell\\Modules\\dbachecks\\1.2.15\\checks\\Instance.Tests.ps1' with Tags Instance\n\nExecuting script C:\\Program Files\\WindowsPowerShell\\Modules\\dbachecks\\1.2.15\\checks\\Instance.Tests.ps1\n\n  Describing Instance Connection\n\n    Context Testing Instance Connection on localhost,15592\n      [+] connects successfully to localhost,15592 3ms\n      [-] auth scheme should be Kerberos on localhost,15592 126ms\n        Expected strings to be the same, but they were different.\n        Expected length: 8\n        Actual length:   3\n        Strings differ at index 0.\n        Expected: 'Kerberos'\n        But was:  'SQL'\n        64:                         (Test-DbaConnectionAuthScheme -SqlInstance $Instance).authscheme | Should -Be $authscheme\n        at <ScriptBlock>, C:\\Program Files\\WindowsPowerShell\\Modules\\dbachecks\\1.2.15\\checks\\Instance.Tests.ps1: line 64\n      [+] localhost,15592 is pingable 4ms\n      [-] localhost,15592 Is PSRemoteable 24.06s\n        Expected $true, but got $false.\n        84:                     $remoting | Should -BeTrue\n        at <ScriptBlock>, C:\\Program Files\\WindowsPowerShell\\Modules\\dbachecks\\1.2.15\\checks\\Instance.Tests.ps1: line 84\n\n  Describing SQL Engine Service\n\n    Context Testing SQL Engine Service on localhost,15592\n      [-] SQL Engine service account should Be running on DAVE 5ms\n        Expected strings to be the same, because If the service is not running, the SQL Server will not be accessible, but they were different.\n        String lengths are both 7.\n        Strings differ at index 0.\n        Expected: 'Running'\n        But was:  'Stopped'\n        104:                             $psitem.State | Should -Be \"Running\" -Because 'If the service is not running, the SQL Server will not be accessible'\n        at <ScriptBlock>, C:\\Program Files\\WindowsPowerShell\\Modules\\dbachecks\\1.2.15\\checks\\Instance.Tests.ps1: line 104\n      [-] SQL Engine service account should have a start mode of Automatic on standalone instance DAVE 6ms\n        Expected strings to be the same, because If the server restarts, the SQL Server will not be accessible, but they were different.\n        Expected length: 9\n        Actual length:   6\n        Strings differ at index 0.\n        Expected: 'Automatic'\n        But was:  'Manual'\n        113:                                 $psitem.StartMode | Should -Be \"Automatic\" -Because 'If the server restarts, the SQL Server will not be accessible'\n        at <ScriptBlock>, C:\\Program Files\\WindowsPowerShell\\Modules\\dbachecks\\1.2.15\\checks\\Instance.Tests.ps1: line 113\n      [-] SQL Engine service account should Be running on MSSQLSERVER 6ms\n        Expected strings to be the same, because If the service is not running, the SQL Server will not be accessible, but they were different.\n        String lengths are both 7.\n        Strings differ at index 0.\n        Expected: 'Running'\n        But was:  'Stopped'\n        104:                             $psitem.State | Should -Be \"Running\" -Because 'If the service is not running, the SQL Server will not be accessible'\n        at <ScriptBlock>, C:\\Program Files\\WindowsPowerShell\\Modules\\dbachecks\\1.2.15\\checks\\Instance.Tests.ps1: line 104\n      [-] SQL Engine service account should have a start mode of Automatic on standalone instance MSSQLSERVER 5ms\n        Expected strings to be the same, because If the server restarts, the SQL Server will not be accessible, but they were different.\n        Expected length: 9\n        Actual length:   6\n        Strings differ at index 0.\n        Expected: 'Automatic'\n        But was:  'Manual'\n        113:                                 $psitem.StartMode | Should -Be \"Automatic\" -Because 'If the server restarts, the SQL Server will not be accessible'\n        at <ScriptBlock>, C:\\Program Files\\WindowsPowerShell\\Modules\\dbachecks\\1.2.15\\checks\\Instance.Tests.ps1: line 113\n\n  Describing TempDB Configuration\n\n    Context Testing TempDB Configuration on localhost,15592\n      [!] should have TF1118 enabled on 0034794b4ce3, is skipped 0ms\n      [+] should have 4 TempDB Files on 0034794b4ce3 3ms\n      [+] should not have TempDB Files autogrowth set to percent on 0034794b4ce3 2ms\n      [+] should not have TempDB Files on the C Drive on 0034794b4ce3 4ms\n      [+] should not have TempDB Files with MaxSize Set on 0034794b4ce3 5ms\n      [+] The data files should all be the same size on 0034794b4ce3 197ms\n\n  Describing Ad Hoc Workload Optimization\n\n    Context Testing Ad Hoc Workload Optimization on localhost,15592\n      [+] localhost,15592 Should be Optimize for Ad Hoc workloads 91ms\n\n  Describing Backup Path Access\n\n    Context Testing Backup Path Access on localhost,15592\n      [+] can access backup path (/var/opt/mssql/data) on localhost,15592 98ms\n\n  Describing Default File Path\n\n    Context Testing Default Data File Path on localhost,15592\n      [+] Default Data File Path on localhost,15592 680ms\n\n    Context Testing Default Log File Path on localhost,15592\n      [+] Default Log File Path on localhost,15592 450ms\n\n  Describing Dedicated Administrator Connection\n\n    Context Testing Dedicated Administrator Connection on localhost,15592\n      [+] DAC is set to True on localhost,15592 86ms\n\n  Describing Network Latency\n\n    Context Testing Network Latency on localhost,15592\n      [-] network latency should be less than 40 ms on 0034794b4ce3 51ms\n        Expected the actual value to be less than 40, because You do not want to be waiting on the network, but got 44.382.\n        254:                         $psitem.Average.TotalMilliseconds | Should -BeLessThan $max -Because 'You do not want to be waiting on the network'\n        at <ScriptBlock>, C:\\Program Files\\WindowsPowerShell\\Modules\\dbachecks\\1.2.15\\checks\\Instance.Tests.ps1: line 254\n\n  Describing Linked Servers\n\n    Context Testing Linked Servers on localhost,15592\n\n  Describing Max Memory\n\n    Context Testing Max Memory on localhost,15592\n      [-] Max Memory setting should be correct on localhost,15592 5.66s\n        DivideByZeroException: Attempted to divide by zero.\n        RuntimeException: Attempted to divide by zero.\n        at Test-DbaMaxMemory<Process>, C:\\Users\\mrrob\\Documents\\WindowsPowerShell\\Modules\\dbatools\\1.0.83\\allcommands.ps1: line 71552\n        at <ScriptBlock>, C:\\Program Files\\WindowsPowerShell\\Modules\\dbachecks\\1.2.15\\checks\\Instance.Tests.ps1: line 292\n\n  Describing Orphaned Files\n\n    Context Checking for orphaned database files on localhost,15592\n      [-] localhost,15592 doesn't have orphan files 476ms\n        Expected 0, because You dont want any orphaned files - Use Find-DbaOrphanedFile to locate them, but got 46.\n        320:                     @(Find-DbaOrphanedFile -SqlInstance $psitem).Count | Should -Be 0 -Because 'You dont want any orphaned files - Use Find-DbaOrphanedFile to locate them'\n        at <ScriptBlock>, C:\\Program Files\\WindowsPowerShell\\Modules\\dbachecks\\1.2.15\\checks\\Instance.Tests.ps1: line 320\n\n  Describing SQL and Windows names match\n\n    Context Testing instance name matches Windows name for localhost,15592\n      [-] localhost,15592 doesn't require rename 236ms\n        Expected $false, because SQL and Windows should agree on the server name, but got $true.\n        342:                         (Test-DbaInstanceName -SqlInstance $psitem).RenameRequired | Should -BeFalse -Because 'SQL and Windows should agree on the server name'\n        at <ScriptBlock>, C:\\Program Files\\WindowsPowerShell\\Modules\\dbachecks\\1.2.15\\checks\\Instance.Tests.ps1: line 342\n\n  Describing SQL Memory Dumps\n\n    Context Checking that dumps on localhost,15592 do not exceed 1 for localhost,15592\n      [+] dump count of  is less than or equal to the 1 dumps on localhost,15592 6ms\n\n  Describing Supported Build\n\n    Context Checking that build is still supportedby Microsoft for localhost,15592\n      [+] localhost,15592's build is supported by Microsoft 427ms\n      [+] localhost,15592's build is supported by Microsoft within the warning window of 6 months 296ms\n\n  Describing SA Login Renamed\n\n    Context Checking that sa login has been renamed on localhost,15592\n      [+] sa login does not exist on localhost,15592 3ms\n\n  Describing Default Backup Compression\n\n    Context Testing Default Backup Compression on localhost,15592\n      [+] Default Backup Compression is set to True on localhost,15592 102ms\n\n  Describing XE Sessions That should be Stopped\nWARNING: You need to use Set-DbcConfig -Name policy.xevent.requiredstoppedsession -Value to add some Extended Events \nsession names to run this check\n\n  Describing XE Sessions That should be Running\nWARNING: You need to use Set-DbcConfig -Name policy.xevent.requiredrunningsession -Value to add some Extended Events \nsession names to run this check\n\n  Describing XE Sessions That Are Allowed to Be Running\nWARNING: You need to use Set-DbcConfig -Name policy.xevent.validrunningsession -Value to add some Extended Events \nsession names to run this check\n\n  Describing OLE Automation\n\n    Context Testing OLE Automation on localhost,15592\n      [+] OLE Automation is set to False on localhost,15592 129ms\n\n  Describing sp_whoisactive is Installed\n\n    Context Testing WhoIsActive exists on localhost,15592\n      [+] WhoIsActive should exists on master on localhost,15592 350ms\n\n  Describing Model Database Growth\n\n    Context Testing model database growth setting is not default on localhost,15592\n      [+] Model database growth settings should not be percent for file modeldev on 0034794b4ce3 3ms\n      [+] Model database growth settings should not be 1Mb for file modeldev on 0034794b4ce3 4ms\n      [+] Model database growth settings should not be percent for file modellog on 0034794b4ce3 1ms\n      [+] Model database growth settings should not be 1Mb for file modellog on 0034794b4ce3 2ms\n\n  Describing Ad Users and Groups \n\n    Context Testing Active Directory users on localhost,15592\n\n    Context Testing Active Directory groups on localhost,15592\n\n  Describing Error Log Entries\n\n    Context Checking error log on localhost,15592\n      [+] Error log should be free of error severities 17-24 on localhost,15592 1ms\n\n  Describing Error Log Count\n\n    Context Checking error log count on localhost,15592\n      [+] Error log count should be greater or equal to -1 on localhost,15592 111ms\n\n  Describing Instance MaxDop\n\n    Context Testing Instance MaxDop Value on localhost,15592\n      [+] Instance Level MaxDop setting should be correct on localhost,15592 194ms\n\n  Describing Two Digit Year Cutoff\n\n    Context Testing Two Digit Year Cutoff on localhost,15592\n      [+] Two Digit Year Cutoff is set to 2049 on localhost,15592 101ms\n\n  Describing Trace Flags Expected\n\n    Context Testing Expected Trace Flags on localhost,15592\n      [+] Expected Trace Flags  exist on localhost,15592 204ms\n\n  Describing Trace Flags Not Expected\n\n    Context Testing Not Expected Trace Flags on localhost,15592\n      [+] Expected Trace Flags  to not exist on localhost,15592 100ms\n\n  Describing CLR Enabled\n\n    Context Testing CLR Enabled on localhost,15592\n      [+] CLR Enabled is set to False on localhost,15592 91ms\n\n  Describing Cross Database Ownership Chaining\n\n    Context Testing Cross Database Ownership Chaining on localhost,15592\n      [+] Cross Database Ownership Chaining is set to False on localhost,15592 105ms\n\n  Describing Ad Hoc Distributed Queries\n\n    Context Testing Ad Hoc Distributed Queries on localhost,15592\n      [+] Ad Hoc Distributed Queries is set to False on localhost,15592 105ms\n\n  Describing XP CmdShell\n\n    Context Testing XP CmdShell on localhost,15592\n      [+] XPCmdShell is set to True on localhost,15592 96ms\n\n  Describing Scan For Startup Procedures\n\n    Context Testing Scan For Startup Procedures on localhost,15592\n      [+] Scan For Startup Procedures should be disabled on localhost,15592 7ms\n\n  Describing Default Trace\n\n    Context Checking Default Trace on localhost,15592\n      [+] The Default Trace should be enabled on localhost,15592 5ms\n\n  Describing Remote Access Disabled\n\n    Context Testing Remote Access on localhost,15592\n      [-] The Remote Access should be disabled on localhost,15592 7ms\n        Expected 0, because We expected Remote Access to be enabled, but got 1.\n        256:     $AllInstanceInfo.RemoteAccessDisabled.ConfiguredValue | Should -Be 0 -Because \"We expected Remote Access to be enabled\"\n        at Assert-RemoteAccess, C:\\Program Files\\WindowsPowerShell\\Modules\\dbachecks\\1.2.15\\internal\\assertions\\Instance.Assertions.ps1: line 256\n        at <ScriptBlock>, C:\\Program Files\\WindowsPowerShell\\Modules\\dbachecks\\1.2.15\\checks\\Instance.Tests.ps1: line 873\n\n  Describing Instance Connection\n\n    Context Testing Instance Connection on localhost,15593\n      [+] connects successfully to localhost,15593 1ms\n      [-] auth scheme should be Kerberos on localhost,15593 128ms\n        Expected strings to be the same, but they were different.\n        Expected length: 8\n        Actual length:   3\n        Strings differ at index 0.\n        Expected: 'Kerberos'\n        But was:  'SQL'\n        64:                         (Test-DbaConnectionAuthScheme -SqlInstance $Instance).authscheme | Should -Be $authscheme\n        at <ScriptBlock>, C:\\Program Files\\WindowsPowerShell\\Modules\\dbachecks\\1.2.15\\checks\\Instance.Tests.ps1: line 64\n      [+] localhost,15593 is pingable 3ms\n      [-] localhost,15593 Is PSRemoteable 24.07s\n        Expected $true, but got $false.\n        84:                     $remoting | Should -BeTrue\n        at <ScriptBlock>, C:\\Program Files\\WindowsPowerShell\\Modules\\dbachecks\\1.2.15\\checks\\Instance.Tests.ps1: line 84\n\n  Describing SQL Engine Service\n\n    Context Testing SQL Engine Service on localhost,15593\n      [-] SQL Engine service account should Be running on DAVE 8ms\n        Expected strings to be the same, because If the service is not running, the SQL Server will not be accessible, but they were different.\n        String lengths are both 7.\n        Strings differ at index 0.\n        Expected: 'Running'\n        But was:  'Stopped'\n        104:                             $psitem.State | Should -Be \"Running\" -Because 'If the service is not running, the SQL Server will not be accessible'\n        at <ScriptBlock>, C:\\Program Files\\WindowsPowerShell\\Modules\\dbachecks\\1.2.15\\checks\\Instance.Tests.ps1: line 104\n      [-] SQL Engine service account should have a start mode of Automatic on standalone instance DAVE 7ms\n        Expected strings to be the same, because If the server restarts, the SQL Server will not be accessible, but they were different.\n        Expected length: 9\n        Actual length:   6\n        Strings differ at index 0.\n        Expected: 'Automatic'\n        But was:  'Manual'\n        113:                                 $psitem.StartMode | Should -Be \"Automatic\" -Because 'If the server restarts, the SQL Server will not be accessible'\n        at <ScriptBlock>, C:\\Program Files\\WindowsPowerShell\\Modules\\dbachecks\\1.2.15\\checks\\Instance.Tests.ps1: line 113\n      [-] SQL Engine service account should Be running on MSSQLSERVER 6ms\n        Expected strings to be the same, because If the service is not running, the SQL Server will not be accessible, but they were different.\n        String lengths are both 7.\n        Strings differ at index 0.\n        Expected: 'Running'\n        But was:  'Stopped'\n        104:                             $psitem.State | Should -Be \"Running\" -Because 'If the service is not running, the SQL Server will not be accessible'\n        at <ScriptBlock>, C:\\Program Files\\WindowsPowerShell\\Modules\\dbachecks\\1.2.15\\checks\\Instance.Tests.ps1: line 104\n      [-] SQL Engine service account should have a start mode of Automatic on standalone instance MSSQLSERVER 9ms\n        Expected strings to be the same, because If the server restarts, the SQL Server will not be accessible, but they were different.\n        Expected length: 9\n        Actual length:   6\n        Strings differ at index 0.\n        Expected: 'Automatic'\n        But was:  'Manual'\n        113:                                 $psitem.StartMode | Should -Be \"Automatic\" -Because 'If the server restarts, the SQL Server will not be accessible'\n        at <ScriptBlock>, C:\\Program Files\\WindowsPowerShell\\Modules\\dbachecks\\1.2.15\\checks\\Instance.Tests.ps1: line 113\n\n  Describing TempDB Configuration\n\n    Context Testing TempDB Configuration on localhost,15593\n      [!] should have TF1118 enabled on a05392773c7e, is skipped 0ms\n      [+] should have 4 TempDB Files on a05392773c7e 3ms\n      [+] should not have TempDB Files autogrowth set to percent on a05392773c7e 3ms\n      [+] should not have TempDB Files on the C Drive on a05392773c7e 3ms\n      [+] should not have TempDB Files with MaxSize Set on a05392773c7e 7ms\n      [+] The data files should all be the same size on a05392773c7e 263ms\n\n  Describing Ad Hoc Workload Optimization\n\n    Context Testing Ad Hoc Workload Optimization on localhost,15593\n      [+] localhost,15593 Should be Optimize for Ad Hoc workloads 181ms\n\n  Describing Backup Path Access\n\n    Context Testing Backup Path Access on localhost,15593\n      [+] can access backup path (/var/opt/mssql/data) on localhost,15593 132ms\n\n  Describing Default File Path\n\n    Context Testing Default Data File Path on localhost,15593\n      [+] Default Data File Path on localhost,15593 1.13s\n\n    Context Testing Default Log File Path on localhost,15593\n      [+] Default Log File Path on localhost,15593 755ms\n\n  Describing Dedicated Administrator Connection\n\n    Context Testing Dedicated Administrator Connection on localhost,15593\n      [+] DAC is set to True on localhost,15593 126ms\n\n  Describing Network Latency\n\n    Context Testing Network Latency on localhost,15593\n      [-] network latency should be less than 40 ms on a05392773c7e 9ms\n        Expected the actual value to be less than 40, because You do not want to be waiting on the network, but got 80.206.\n        254:                         $psitem.Average.TotalMilliseconds | Should -BeLessThan $max -Because 'You do not want to be waiting on the network'\n        at <ScriptBlock>, C:\\Program Files\\WindowsPowerShell\\Modules\\dbachecks\\1.2.15\\checks\\Instance.Tests.ps1: line 254\n\n  Describing Linked Servers\n\n    Context Testing Linked Servers on localhost,15593\n\n  Describing Max Memory\n\n    Context Testing Max Memory on localhost,15593\n      [-] Max Memory setting should be correct on localhost,15593 6.14s\n        DivideByZeroException: Attempted to divide by zero.\n        RuntimeException: Attempted to divide by zero.\n        at Test-DbaMaxMemory<Process>, C:\\Users\\mrrob\\Documents\\WindowsPowerShell\\Modules\\dbatools\\1.0.83\\allcommands.ps1: line 71552\n        at <ScriptBlock>, C:\\Program Files\\WindowsPowerShell\\Modules\\dbachecks\\1.2.15\\checks\\Instance.Tests.ps1: line 292\n\n  Describing Orphaned Files\n\n    Context Checking for orphaned database files on localhost,15593\n      [-] localhost,15593 doesn't have orphan files 468ms\n        Expected 0, because You dont want any orphaned files - Use Find-DbaOrphanedFile to locate them, but got 46.\n        320:                     @(Find-DbaOrphanedFile -SqlInstance $psitem).Count | Should -Be 0 -Because 'You dont want any orphaned files - Use Find-DbaOrphanedFile to locate them'\n        at <ScriptBlock>, C:\\Program Files\\WindowsPowerShell\\Modules\\dbachecks\\1.2.15\\checks\\Instance.Tests.ps1: line 320\n\n  Describing SQL and Windows names match\n\n    Context Testing instance name matches Windows name for localhost,15593\n      [-] localhost,15593 doesn't require rename 241ms\n        Expected $false, because SQL and Windows should agree on the server name, but got $true.\n        342:                         (Test-DbaInstanceName -SqlInstance $psitem).RenameRequired | Should -BeFalse -Because 'SQL and Windows should agree on the server name'\n        at <ScriptBlock>, C:\\Program Files\\WindowsPowerShell\\Modules\\dbachecks\\1.2.15\\checks\\Instance.Tests.ps1: line 342\n\n  Describing SQL Memory Dumps\n\n    Context Checking that dumps on localhost,15593 do not exceed 1 for localhost,15593\n      [+] dump count of  is less than or equal to the 1 dumps on localhost,15593 3ms\n\n  Describing Supported Build\n\n    Context Checking that build is still supportedby Microsoft for localhost,15593\n      [+] localhost,15593's build is supported by Microsoft 360ms\n      [+] localhost,15593's build is supported by Microsoft within the warning window of 6 months 377ms\n\n  Describing SA Login Renamed\n\n    Context Checking that sa login has been renamed on localhost,15593\n      [+] sa login does not exist on localhost,15593 3ms\n\n  Describing Default Backup Compression\n\n    Context Testing Default Backup Compression on localhost,15593\n      [+] Default Backup Compression is set to True on localhost,15593 93ms\n\n  Describing XE Sessions That should be Stopped\nWARNING: You need to use Set-DbcConfig -Name policy.xevent.requiredstoppedsession -Value to add some Extended Events \nsession names to run this check\n\n  Describing XE Sessions That should be Running\nWARNING: You need to use Set-DbcConfig -Name policy.xevent.requiredrunningsession -Value to add some Extended Events \nsession names to run this check\n\n  Describing XE Sessions That Are Allowed to Be Running\nWARNING: You need to use Set-DbcConfig -Name policy.xevent.validrunningsession -Value to add some Extended Events \nsession names to run this check\n\n  Describing OLE Automation\n\n    Context Testing OLE Automation on localhost,15593\n      [+] OLE Automation is set to False on localhost,15593 101ms\n\n  Describing sp_whoisactive is Installed\n\n    Context Testing WhoIsActive exists on localhost,15593\n      [+] WhoIsActive should exists on master on localhost,15593 384ms\n\n  Describing Model Database Growth\n\n    Context Testing model database growth setting is not default on localhost,15593\n      [+] Model database growth settings should not be percent for file modeldev on a05392773c7e 2ms\n      [+] Model database growth settings should not be 1Mb for file modeldev on a05392773c7e 2ms\n      [+] Model database growth settings should not be percent for file modellog on a05392773c7e 2ms\n      [+] Model database growth settings should not be 1Mb for file modellog on a05392773c7e 2ms\n\n  Describing Ad Users and Groups \n\n    Context Testing Active Directory users on localhost,15593\n\n    Context Testing Active Directory groups on localhost,15593\n\n  Describing Error Log Entries\n\n    Context Checking error log on localhost,15593\n      [+] Error log should be free of error severities 17-24 on localhost,15593 4ms\n\n  Describing Error Log Count\n\n    Context Checking error log count on localhost,15593\n      [+] Error log count should be greater or equal to -1 on localhost,15593 139ms\n\n  Describing Instance MaxDop\n\n    Context Testing Instance MaxDop Value on localhost,15593\n      [+] Instance Level MaxDop setting should be correct on localhost,15593 199ms\n\n  Describing Two Digit Year Cutoff\n\n    Context Testing Two Digit Year Cutoff on localhost,15593\n      [+] Two Digit Year Cutoff is set to 2049 on localhost,15593 101ms\n\n  Describing Trace Flags Expected\n\n    Context Testing Expected Trace Flags on localhost,15593\n      [+] Expected Trace Flags  exist on localhost,15593 188ms\n\n  Describing Trace Flags Not Expected\n\n    Context Testing Not Expected Trace Flags on localhost,15593\n      [+] Expected Trace Flags  to not exist on localhost,15593 104ms\n\n  Describing CLR Enabled\n\n    Context Testing CLR Enabled on localhost,15593\n      [+] CLR Enabled is set to False on localhost,15593 117ms\n\n  Describing Cross Database Ownership Chaining\n\n    Context Testing Cross Database Ownership Chaining on localhost,15593\n      [+] Cross Database Ownership Chaining is set to False on localhost,15593 108ms\n\n  Describing Ad Hoc Distributed Queries\n\n    Context Testing Ad Hoc Distributed Queries on localhost,15593\n      [+] Ad Hoc Distributed Queries is set to False on localhost,15593 114ms\n\n  Describing XP CmdShell\n\n    Context Testing XP CmdShell on localhost,15593\n      [+] XPCmdShell is set to True on localhost,15593 126ms\n\n  Describing Scan For Startup Procedures\n\n    Context Testing Scan For Startup Procedures on localhost,15593\n      [+] Scan For Startup Procedures should be disabled on localhost,15593 7ms\n\n  Describing Default Trace\n\n    Context Checking Default Trace on localhost,15593\n      [+] The Default Trace should be enabled on localhost,15593 2ms\n\n  Describing Remote Access Disabled\n\n    Context Testing Remote Access on localhost,15593\n      [-] The Remote Access should be disabled on localhost,15593 6ms\n        Expected 0, because We expected Remote Access to be enabled, but got 1.\n        256:     $AllInstanceInfo.RemoteAccessDisabled.ConfiguredValue | Should -Be 0 -Because \"We expected Remote Access to be enabled\"\n        at Assert-RemoteAccess, C:\\Program Files\\WindowsPowerShell\\Modules\\dbachecks\\1.2.15\\internal\\assertions\\Instance.Assertions.ps1: line 256\n        at <ScriptBlock>, C:\\Program Files\\WindowsPowerShell\\Modules\\dbachecks\\1.2.15\\checks\\Instance.Tests.ps1: line 873\n\n  Describing SQL Browser Service\nWARNING: [15:50:26][Get-ComputerName] You must specify -ComputerName or use Set-DbcConfig app.computername to setup a \nlist of servers\nTests completed in 96.53s\nTests Passed: 70, Failed: 22, Skipped: 2, Pending: 0, Inconclusive: 0 \n"
                }
            ],
            "execution_count": 15
        }
    ]
}