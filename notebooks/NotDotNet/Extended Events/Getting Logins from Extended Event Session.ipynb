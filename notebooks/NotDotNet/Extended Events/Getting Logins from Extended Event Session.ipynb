{
    "metadata": {
        "kernelspec": {
            "name": "powershell",
            "display_name": "PowerShell"
        },
        "language_info": {
            "name": "powershell",
            "codemirror_mode": "shell",
            "mimetype": "text/x-sh",
            "file_extension": ".ps1"
        }
    },
    "nbformat_minor": 2,
    "nbformat": 4,
    "cells": [
        {
            "cell_type": "markdown",
            "source": [
                "# Logins per day from Extended Event session\r\n",
                "\r\n",
                "This will get the logins per day from the Extended Event session\r\n",
                "\r\n",
                "Make sure it is running, check the Status property"
            ],
            "metadata": {
                "azdata_cell_guid": "8f4b976d-c4ee-4faa-ad32-74058511e0e2"
            }
        },
        {
            "cell_type": "code",
            "source": [
                "Get-DbaXESession -SqlInstance '' -Session MonitorWindowsLogins"
            ],
            "metadata": {
                "azdata_cell_guid": "037d4a79-476a-4427-8fb3-5e7773c2166b"
            },
            "outputs": [],
            "execution_count": null
        },
        {
            "cell_type": "markdown",
            "source": [
                "Now we can read the file - this will take a while\r\n",
                ""
            ],
            "metadata": {
                "azdata_cell_guid": "aa51d93d-357a-465b-8e53-4896ec33309b"
            }
        },
        {
            "cell_type": "code",
            "source": [
                "\r\n",
                "$targetFile = (Get-DbaXESession -SqlInstance '' -Session MonitorWindowsLogins).TargetFile\r\n",
                "if($(hostname) -ne 'CEAWD06967'){\r\n",
                "    $targetFile = $targetFile.Replace('E:','\\\\\\E$')\r\n",
                "}\r\n",
                "Write-Host \"Data Gathered at $(Get-Date)\"\r\n",
                "$XEData = Read-DbaXEFile -Path $targetFile \r\n",
                "$Date = @{ Name='Date';Expression={$_.Name.Split(' ')[0]}}\r\n",
                "$Logins = @{ Name='Unique Logins' ;Expression={($Psitem.Group | Group-Object -Property { $PSItem.session_nt_username }).Count}}\r\n",
                "$xedata | Group-Object {$psitem.timestamp.Date } | Select-Object $Date,$Logins\r\n",
                ""
            ],
            "metadata": {
                "azdata_cell_guid": "85599ce3-6a15-4294-b930-584f86a8aeed"
            },
            "outputs": [],
            "execution_count": null
        }
    ]
}