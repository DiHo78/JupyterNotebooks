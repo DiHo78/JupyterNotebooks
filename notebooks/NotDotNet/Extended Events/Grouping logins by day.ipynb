{
    "metadata": {
        "kernelspec": {
            "name": "SQL",
            "display_name": "SQL",
            "language": "sql"
        },
        "language_info": {
            "name": "sql",
            "version": ""
        }
    },
    "nbformat_minor": 2,
    "nbformat": 4,
    "cells": [
        {
            "cell_type": "markdown",
            "source": [
                "# Logins per day from Extended Event session\r\n",
                "\r\n",
                "This will get the logins per day from the Extended Event session created with https://gist.github.com/SQLDBAWithABeard/07091a0a0e07d64933c15a36b102f9db\r\n",
                ""
            ],
            "metadata": {
                "azdata_cell_guid": "8f4b976d-c4ee-4faa-ad32-74058511e0e2"
            }
        },
        {
            "cell_type": "code",
            "source": [
                "SELECT CAST(GetDate() AS nvarchar(20)) AS 'Execution Time'"
            ],
            "metadata": {
                "azdata_cell_guid": "51224cac-608a-4f6d-84e0-eeeb23e25177"
            },
            "outputs": [
                {
                    "output_type": "display_data",
                    "data": {
                        "text/html": "(1 row affected)"
                    },
                    "metadata": {}
                },
                {
                    "output_type": "display_data",
                    "data": {
                        "text/html": "Total execution time: 00:00:00.116"
                    },
                    "metadata": {}
                },
                {
                    "output_type": "execute_result",
                    "metadata": {},
                    "execution_count": 1,
                    "data": {
                        "application/vnd.dataresource+json": {
                            "schema": {
                                "fields": [
                                    {
                                        "name": "Execution Time"
                                    }
                                ]
                            },
                            "data": [
                                {
                                    "0": "Apr  3 2020  2:41PM"
                                }
                            ]
                        },
                        "text/html": "<table><tr><th>Execution Time</th></tr><tr><td>Apr  3 2020  2:41PM</td></tr></table>"
                    }
                }
            ],
            "execution_count": 1
        },
        {
            "cell_type": "code",
            "source": [
                "SELECT\r\n",
                "    CAST(n.value('(@timestamp)[1]', 'datetime2') AS Date) AS LoginDate,\r\n",
                "    n.value('(@timestamp)[1]', 'datetime2') AS [utc_timestamp],\r\n",
                "    n.value('(action[@name=\"session_nt_username\"]/value)[1]', 'nvarchar(128)') as nt_username,\r\n",
                "    n.value('(action[@name=\"client_hostname\"]/value)[1]', 'nvarchar(128)') as client_hostname\r\n",
                "INTO #tempxeresults\r\n",
                "from (select cast(event_data as XML) as event_data\r\n",
                "from sys.fn_xe_file_target_read_file('MonitorWindowsLogins*.xel', null, null, null)) ed\r\n",
                "cross apply ed.event_data.nodes('event') as q(n)\r\n",
                "\r\n",
                "BEGIN TRY\r\n",
                "SELECT \r\n",
                "LoginDate\r\n",
                ",COUNT(DISTINCT nt_username) AS NumberOfLogins\r\n",
                "FROM #tempxeresults \r\n",
                "GROUP BY LoginDate\r\n",
                "ORDER BY LoginDate\r\n",
                "\r\n",
                "SELECT \r\n",
                "LoginDate\r\n",
                ",nt_username\r\n",
                ",COUNT(nt_username) AS NumberOfLogins\r\n",
                "FROM #tempxeresults \r\n",
                "GROUP BY LoginDate,nt_username\r\n",
                "ORDER BY LoginDate,COUNT(nt_username) DESC\r\n",
                "\r\n",
                "DROP TABLE #tempxeresults\r\n",
                "END TRY\r\n",
                "BEGIN CATCH\r\n",
                "\r\n",
                "DROP TABLE #tempxeresults\r\n",
                "END CATCH"
            ],
            "metadata": {
                "azdata_cell_guid": "5099c3f6-34f3-40b1-8d00-133535dd0a70",
                "tags": []
            },
            "outputs": [
                {
                    "output_type": "display_data",
                    "data": {
                        "text/html": "(4488 rows affected)"
                    },
                    "metadata": {}
                },
                {
                    "output_type": "display_data",
                    "data": {
                        "text/html": "(2 rows affected)"
                    },
                    "metadata": {}
                },
                {
                    "output_type": "display_data",
                    "data": {
                        "text/html": "(19 rows affected)"
                    },
                    "metadata": {}
                },
                {
                    "output_type": "display_data",
                    "data": {
                        "text/html": "Total execution time: 00:00:09.864"
                    },
                    "metadata": {}
                },
                {
                    "output_type": "execute_result",
                    "metadata": {},
                    "execution_count": 2,
                    "data": {
                        "application/vnd.dataresource+json": {
                            "schema": {
                                "fields": [
                                    {
                                        "name": "LoginDate"
                                    },
                                    {
                                        "name": "NumberOfLogins"
                                    }
                                ]
                            },
                            "data": [
                                {
                                    "0": "2020-04-02",
                                    "1": "10"
                                },
                                {
                                    "0": "2020-04-03",
                                    "1": "9"
                                }
                            ]
                        },
                        "text/html": "<table><tr><th>LoginDate</th><th>NumberOfLogins</th></tr><tr><td>2020-04-02</td><td>10</td></tr><tr><td>2020-04-03</td><td>9</td></tr></table>"
                    }
                },
                {
                    "output_type": "execute_result",
                    "metadata": {},
                    "execution_count": 2,
                    "data": {
                        "application/vnd.dataresource+json": {
                            "schema": {
                                "fields": [
                                    {
                                        "name": "LoginDate"
                                    },
                                    {
                                        "name": "nt_username"
                                    },
                                    {
                                        "name": "NumberOfLogins"
                                    }
                                ]
                            },
                            "data": [
                                {
                                    "0": "2020-04-02",
                                    "1": "THEBEARD\\gsartori",
                                    "2": "1130"
                                },
                                {
                                    "0": "2020-04-02",
                                    "1": "THEBEARD\\gfritchey",
                                    "2": "218"
                                },
                                {
                                    "0": "2020-04-02",
                                    "1": "THEBEARD\\akamman",
                                    "2": "80"
                                },
                                {
                                    "0": "2020-04-02",
                                    "1": "THEBEARD\\clemaire",
                                    "2": "70"
                                },
                                {
                                    "0": "2020-04-02",
                                    "1": "THEBEARD\\smelton",
                                    "2": "29"
                                },
                                {
                                    "0": "2020-04-02",
                                    "1": "THEBEARD\\alevy",
                                    "2": "24"
                                },
                                {
                                    "0": "2020-04-02",
                                    "1": "THEBEARD\\fatherjack",
                                    "2": "24"
                                },
                                {
                                    "0": "2020-04-02",
                                    "1": "THEBEARD\\csilva",
                                    "2": "22"
                                },
                                {
                                    "0": "2020-04-02",
                                    "1": "THEBEARD\\jamrtin",
                                    "2": "18"
                                },
                                {
                                    "0": "2020-04-02",
                                    "1": "THEBEARD\\SQL2017N5$",
                                    "2": "2"
                                },
                                {
                                    "0": "2020-04-03",
                                    "1": "THEBEARD\\gsartori",
                                    "2": "1961"
                                },
                                {
                                    "0": "2020-04-03",
                                    "1": "THEBEARD\\gfritchey",
                                    "2": "400"
                                },
                                {
                                    "0": "2020-04-03",
                                    "1": "THEBEARD\\clemaire",
                                    "2": "172"
                                },
                                {
                                    "0": "2020-04-03",
                                    "1": "THEBEARD\\akamman",
                                    "2": "170"
                                },
                                {
                                    "0": "2020-04-03",
                                    "1": "THEBEARD\\fatherjack",
                                    "2": "52"
                                },
                                {
                                    "0": "2020-04-03",
                                    "1": "THEBEARD\\alevy",
                                    "2": "36"
                                },
                                {
                                    "0": "2020-04-03",
                                    "1": "THEBEARD\\csilva",
                                    "2": "30"
                                },
                                {
                                    "0": "2020-04-03",
                                    "1": "THEBEARD\\smelton",
                                    "2": "26"
                                },
                                {
                                    "0": "2020-04-03",
                                    "1": "THEBEARD\\jamrtin",
                                    "2": "24"
                                }
                            ]
                        },
                        "text/html": "<table><tr><th>LoginDate</th><th>nt_username</th><th>NumberOfLogins</th></tr><tr><td>2020-04-02</td><td>THEBEARD\\gsartori</td><td>1130</td></tr><tr><td>2020-04-02</td><td>THEBEARD\\gfritchey</td><td>218</td></tr><tr><td>2020-04-02</td><td>THEBEARD\\akamman</td><td>80</td></tr><tr><td>2020-04-02</td><td>THEBEARD\\clemaire</td><td>70</td></tr><tr><td>2020-04-02</td><td>THEBEARD\\smelton</td><td>29</td></tr><tr><td>2020-04-02</td><td>THEBEARD\\alevy</td><td>24</td></tr><tr><td>2020-04-02</td><td>THEBEARD\\fatherjack</td><td>24</td></tr><tr><td>2020-04-02</td><td>THEBEARD\\csilva</td><td>22</td></tr><tr><td>2020-04-02</td><td>THEBEARD\\jamrtin</td><td>18</td></tr><tr><td>2020-04-02</td><td>THEBEARD\\SQL2017N5$</td><td>2</td></tr><tr><td>2020-04-03</td><td>THEBEARD\\gsartori</td><td>1961</td></tr><tr><td>2020-04-03</td><td>THEBEARD\\gfritchey</td><td>400</td></tr><tr><td>2020-04-03</td><td>THEBEARD\\clemaire</td><td>172</td></tr><tr><td>2020-04-03</td><td>THEBEARD\\akamman</td><td>170</td></tr><tr><td>2020-04-03</td><td>THEBEARD\\fatherjack</td><td>52</td></tr><tr><td>2020-04-03</td><td>THEBEARD\\alevy</td><td>36</td></tr><tr><td>2020-04-03</td><td>THEBEARD\\csilva</td><td>30</td></tr><tr><td>2020-04-03</td><td>THEBEARD\\smelton</td><td>26</td></tr><tr><td>2020-04-03</td><td>THEBEARD\\jamrtin</td><td>24</td></tr></table>"
                    }
                }
            ],
            "execution_count": 2
        }
    ]
}