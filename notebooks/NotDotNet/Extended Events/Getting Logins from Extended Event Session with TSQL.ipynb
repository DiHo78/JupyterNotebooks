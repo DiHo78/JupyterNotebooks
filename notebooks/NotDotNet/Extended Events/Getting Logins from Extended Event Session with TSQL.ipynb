{
    "metadata": {
        "kernelspec": {
            "name": "SQL",
            "display_name": "SQL",
            "language": "sql"
        },
        "language_info": {
            "name": "sql",
            "version": ""
        }
    },
    "nbformat_minor": 2,
    "nbformat": 4,
    "cells": [
        {
            "cell_type": "markdown",
            "source": [
                "# Logins per day from Extended Event session\r\n",
                "\r\n",
                "This will get the logins per day from the Extended Event session\r\n",
                ""
            ],
            "metadata": {
                "azdata_cell_guid": "8f4b976d-c4ee-4faa-ad32-74058511e0e2"
            }
        },
        {
            "cell_type": "code",
            "source": [
                "SELECT CAST(GetDate() AS nvarchar(20)) AS 'Execution Time'"
            ],
            "metadata": {
                "azdata_cell_guid": "51224cac-608a-4f6d-84e0-eeeb23e25177"
            },
            "outputs": [
                {
                    "output_type": "display_data",
                    "data": {
                        "text/html": "(1 row affected)"
                    },
                    "metadata": {}
                },
                {
                    "output_type": "display_data",
                    "data": {
                        "text/html": "Total execution time: 00:00:00.023"
                    },
                    "metadata": {}
                },
                {
                    "output_type": "execute_result",
                    "metadata": {},
                    "execution_count": 2,
                    "data": {
                        "application/vnd.dataresource+json": {
                            "schema": {
                                "fields": [
                                    {
                                        "name": "Execution Time"
                                    }
                                ]
                            },
                            "data": [
                                {
                                    "0": "Jun 16 2020  7:33PM"
                                }
                            ]
                        },
                        "text/html": [
                            "<table>",
                            "<tr><th>Execution Time</th></tr>",
                            "<tr><td>Jun 16 2020  7:33PM</td></tr>",
                            "</table>"
                        ]
                    }
                }
            ],
            "execution_count": 2
        },
        {
            "cell_type": "code",
            "source": [
                "SELECT\r\n",
                "    CAST(n.value('(@timestamp)[1]', 'datetime2') AS Date) AS LoginDate,\r\n",
                "    n.value('(@timestamp)[1]', 'datetime2') AS [utc_timestamp],\r\n",
                "    n.value('(action[@name=\"session_nt_username\"]/value)[1]', 'nvarchar(128)') as nt_username,\r\n",
                "    n.value('(action[@name=\"client_hostname\"]/value)[1]', 'nvarchar(128)') as client_hostname\r\n",
                "INTO #tempxeresults\r\n",
                "from (select cast(event_data as XML) as event_data\r\n",
                "from sys.fn_xe_file_target_read_file('MonitorWindowsLogins*.xel', null, null, null)) ed\r\n",
                "cross apply ed.event_data.nodes('event') as q(n)\r\n",
                "\r\n",
                "BEGIN TRY\r\n",
                "SELECT \r\n",
                "LoginDate\r\n",
                ",COUNT(DISTINCT nt_username) AS NumberOfLogins\r\n",
                "FROM #tempxeresults \r\n",
                "GROUP BY LoginDate\r\n",
                "ORDER BY LoginDate\r\n",
                "DROP TABLE #tempxeresults\r\n",
                "END TRY\r\n",
                "BEGIN CATCH\r\n",
                "\r\n",
                "DROP TABLE #tempxeresults\r\n",
                "END CATCH"
            ],
            "metadata": {
                "azdata_cell_guid": "5099c3f6-34f3-40b1-8d00-133535dd0a70",
                "tags": []
            },
            "outputs": [
                {
                    "output_type": "display_data",
                    "data": {
                        "text/html": "(4742 rows affected)"
                    },
                    "metadata": {}
                },
                {
                    "output_type": "display_data",
                    "data": {
                        "text/html": "(4 rows affected)"
                    },
                    "metadata": {}
                },
                {
                    "output_type": "display_data",
                    "data": {
                        "text/html": "Total execution time: 00:00:09.946"
                    },
                    "metadata": {}
                },
                {
                    "output_type": "execute_result",
                    "metadata": {},
                    "execution_count": 1,
                    "data": {
                        "application/vnd.dataresource+json": {
                            "schema": {
                                "fields": [
                                    {
                                        "name": "LoginDate"
                                    },
                                    {
                                        "name": "NumberOfLogins"
                                    }
                                ]
                            },
                            "data": [
                                {
                                    "0": "2020-05-12",
                                    "1": "2"
                                },
                                {
                                    "0": "2020-05-30",
                                    "1": "6"
                                },
                                {
                                    "0": "2020-06-02",
                                    "1": "6"
                                },
                                {
                                    "0": "2020-06-06",
                                    "1": "6"
                                }
                            ]
                        },
                        "text/html": [
                            "<table>",
                            "<tr><th>LoginDate</th><th>NumberOfLogins</th></tr>",
                            "<tr><td>2020-05-12</td><td>2</td></tr>",
                            "<tr><td>2020-05-30</td><td>6</td></tr>",
                            "<tr><td>2020-06-02</td><td>6</td></tr>",
                            "<tr><td>2020-06-06</td><td>6</td></tr>",
                            "</table>"
                        ]
                    }
                }
            ],
            "execution_count": 1
        }
    ]
}