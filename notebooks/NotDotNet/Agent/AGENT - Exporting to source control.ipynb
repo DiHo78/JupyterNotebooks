{
    "metadata": {
        "kernelspec": {
            "name": "powershell",
            "display_name": "PowerShell"
        },
        "language_info": {
            "name": "powershell",
            "codemirror_mode": "shell",
            "mimetype": "text/x-sh",
            "file_extension": ".ps1"
        }
    },
    "nbformat_minor": 2,
    "nbformat": 4,
    "cells": [
        {
            "cell_type": "markdown",
            "source": [
                "# Exporting the Agent Jobs to Source Control\r\n",
                "\r\n",
                "This notebook will give you the steps to manually update source control with the agent job creation T-SQL\r\n",
                "\r\n",
                "You will need to have run the setup notebook to get all of the modules.\r\n",
                "\r\n",
                "You will need to have cloned the repository."
            ],
            "metadata": {
                "azdata_cell_guid": "3165d9ed-a8aa-4d79-96ba-f11a9574adfc"
            }
        },
        {
            "cell_type": "markdown",
            "source": [
                "Ensure that your local repository is up to date with the remote.\r\n",
                "\r\n",
                "You will need to provide your local path to the root of the repository"
            ],
            "metadata": {
                "azdata_cell_guid": "54500a53-934f-4044-b6d0-e5d5af30336e"
            }
        },
        {
            "cell_type": "code",
            "source": [
                "cd  'D:\\OneDrive\\Documents\\GitHub\\SQLAgentExport' ## Change this to your own local path\r\n",
                "\r\n",
                "git status"
            ],
            "metadata": {
                "azdata_cell_guid": "030d4718-37e7-4ca2-aeb9-6f8c6738ccf4",
                "tags": []
            },
            "outputs": [],
            "execution_count": null
        },
        {
            "cell_type": "markdown",
            "source": [
                "When you get an error like this\r\n",
                "\r\n",
                "![](../Images/no_git.png)\r\n",
                "\r\n",
                "Then you will need to add the path to your `git.exe` this can usually be found by running `$env:Path.Split(';')` in a normal PowerShell session and looking for a path like this `C:\\Users\\USERNAME\\AppData\\Local\\Programs\\Git\\cmd` and using it in the code below"
            ],
            "metadata": {
                "azdata_cell_guid": "a2ff053a-79af-41b1-bfc5-3cd143365ff7"
            }
        },
        {
            "cell_type": "code",
            "source": [
                "$gitPath = 'C:\\Users\\USERNAME\\AppData\\Local\\Programs\\Git\\cmd'\r\n",
                "$env:Path = $env:Path + ';' + $gitPath\r\n",
                "git status"
            ],
            "metadata": {
                "azdata_cell_guid": "3b4cfea7-c2d0-4144-bd43-5e912233b1fa",
                "tags": []
            },
            "outputs": [],
            "execution_count": null
        },
        {
            "cell_type": "markdown",
            "source": [
                "make sure you are on the correct branch of your repo"
            ],
            "metadata": {
                "azdata_cell_guid": "ad54eb91-d288-47c5-bda9-5971dd1667ae"
            }
        },
        {
            "cell_type": "code",
            "source": [
                "git checkout develop"
            ],
            "metadata": {
                "azdata_cell_guid": "6484702c-c51f-4bc3-bc66-08d5cc644ea5"
            },
            "outputs": [],
            "execution_count": null
        },
        {
            "cell_type": "markdown",
            "source": [
                "If your branch is behind then run git pull"
            ],
            "metadata": {
                "azdata_cell_guid": "c5abafc7-27f3-4359-894e-4b5c35f666f9"
            }
        },
        {
            "cell_type": "code",
            "source": [
                "git pull"
            ],
            "metadata": {
                "azdata_cell_guid": "331b2028-e3a2-4996-82d9-f170d7c82c6c"
            },
            "outputs": [],
            "execution_count": null
        },
        {
            "cell_type": "markdown",
            "source": [
                "# Time to update the source control with the agent jobs"
            ],
            "metadata": {
                "azdata_cell_guid": "5636561f-9fef-475f-9b5d-894cfa87b11b"
            }
        },
        {
            "cell_type": "markdown",
            "source": [
                "We will load the PowerShell that will do this from a function . You will need to alter the path to the `Export-TheSqlAgentJobs.ps1` file "
            ],
            "metadata": {
                "azdata_cell_guid": "df1b4e1b-06e3-4fb3-ae3c-525b113bc05d"
            }
        },
        {
            "cell_type": "code",
            "source": [
                "Import-Module ..\\JupyterNotebooks\\notebooks\\NotDotNet\\Agent\\Export-TheSqlAgentJobs.ps1 # ALter this to the right path\r\n",
                ""
            ],
            "metadata": {
                "azdata_cell_guid": "534edaf7-57c8-4195-b3c8-244902fe0eb4"
            },
            "outputs": [],
            "execution_count": null
        },
        {
            "cell_type": "markdown",
            "source": [
                "You can always find out how to use a command using Get-Help if you need to"
            ],
            "metadata": {
                "azdata_cell_guid": "197cee0a-ad2c-4b1d-afbd-b90eaf957924"
            }
        },
        {
            "cell_type": "code",
            "source": [
                "Get-Help Export-TheAgentJobs -Full"
            ],
            "metadata": {
                "azdata_cell_guid": "a2813b3c-4e9f-465b-ab52-a6b947cf6707"
            },
            "outputs": [],
            "execution_count": null
        },
        {
            "cell_type": "markdown",
            "source": [
                "We will now export all of the agent job T-SQL to the file system using hte code below. \r\n",
                "\r\n",
                "There are two parts to alter **before** running this code\r\n",
                "\r\n",
                "On line 1 - for the export path change the last directory to the correct environment  \r\n",
                "On line 2 - for the SQLInstances, change to the correct SQLInstances  \r\n",
                "\r\n",
                "There will be no output for a number of minutes "
            ],
            "metadata": {
                "azdata_cell_guid": "278983a5-5931-4510-b5d1-5e75524e7789"
            }
        },
        {
            "cell_type": "code",
            "source": [
                "$ExportPath = 'SQLAgentJobs\\BeardNUC2' # change this to the correct environment Prod\n",
                "$BeardNUC2 = (Get-VM -ComputerName BEARDNUC2 |Where Name -like '*SQL*' | Where State -eq 'Running').Name\r\n",
                "$SqlInstances = $BeardNUC2  # $ProdInstances # Change this to the instance(s) you wish to export\r\n",
                "Export-TheAgentJobs -SqlInstance $SqlInstances -BaseDirectory $ExportPath"
            ],
            "metadata": {
                "azdata_cell_guid": "853c93cc-5715-4498-90fd-5c117052da45",
                "tags": []
            },
            "outputs": [],
            "execution_count": null
        },
        {
            "cell_type": "markdown",
            "source": [
                "Checking the changes into source control. Below you will run `git status` again and this time will see something like this  \r\n",
                "\r\n",
                "The first part \r\n",
                "\r\n",
                "> Your branch is up to date with 'origin/develop'\r\n",
                "\r\n",
                "means that your local and remote branches have the same commits  \r\n",
                "The next part \r\n",
                "\r\n",
                "> Changes not staged for commit  \r\n",
                "\r\n",
                "will show the agent jobs that have changed\r\n",
                "and\r\n",
                "\r\n",
                "> Untracked files  \r\n",
                "\r\n",
                "will show the new agent jobs that have been added\r\n",
                "\r\n",
                "![](../Images/changes.png)\r\n",
                "\r\n",
                ""
            ],
            "metadata": {
                "azdata_cell_guid": "0eba29a3-c22d-4588-89fd-fcbd25eee0a9"
            }
        },
        {
            "cell_type": "code",
            "source": [
                "git status"
            ],
            "metadata": {
                "azdata_cell_guid": "b07db913-c393-4388-9437-c74ecbf81c00"
            },
            "outputs": [],
            "execution_count": null
        },
        {
            "cell_type": "markdown",
            "source": [
                "Now we can add all of those files with `git add .` (**Please check that you are only committing files for this task** Any other files that you have changed will be shown here. You should commit those using VS Code or Azure Data Studio seperately\r\n",
                "\r\n",
                ")"
            ],
            "metadata": {
                "azdata_cell_guid": "d98d3cb1-be8d-4417-b5ed-d90ac2d1f2f6"
            }
        },
        {
            "cell_type": "code",
            "source": [
                "git add .\r\n",
                "git status"
            ],
            "metadata": {
                "azdata_cell_guid": "8d8c22de-0a38-4114-9d30-4e40607acd09"
            },
            "outputs": [],
            "execution_count": null
        },
        {
            "cell_type": "markdown",
            "source": [
                "With the new and changed files added, we need to give them a commit message to associate with these changes"
            ],
            "metadata": {
                "azdata_cell_guid": "3a70d1b9-d2bd-44a4-849d-17c071b9b308"
            }
        },
        {
            "cell_type": "code",
            "source": [
                "git commit -m ''\r\n",
                ""
            ],
            "metadata": {
                "azdata_cell_guid": "bb9de5dc-600d-4a2f-8a79-0b93d1045ff2"
            },
            "outputs": [],
            "execution_count": null
        },
        {
            "cell_type": "markdown",
            "source": [
                "Next you will run `git push` to send the changes that you have made to the remote repository."
            ],
            "metadata": {
                "azdata_cell_guid": "6381f5b9-3235-4d86-b6c7-990a4fca9fc3"
            }
        },
        {
            "cell_type": "code",
            "source": [
                "git push"
            ],
            "metadata": {
                "azdata_cell_guid": "aef86921-cba1-4dbc-a851-29f613aa145d"
            },
            "outputs": [],
            "execution_count": null
        }
    ]
}