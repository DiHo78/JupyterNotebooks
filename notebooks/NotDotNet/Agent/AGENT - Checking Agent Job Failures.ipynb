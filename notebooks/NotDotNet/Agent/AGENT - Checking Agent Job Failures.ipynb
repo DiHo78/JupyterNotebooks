{
    "metadata": {
        "kernelspec": {
            "name": "powershell",
            "display_name": "PowerShell",
            "language": "powershell"
        },
        "language_info": {
            "name": "powershell",
            "codemirror_mode": "shell",
            "mimetype": "text/x-sh",
            "file_extension": ".ps1"
        }
    },
    "nbformat_minor": 2,
    "nbformat": 4,
    "cells": [
        {
            "cell_type": "markdown",
            "source": [
                "# Quickly Checking for Failures\r\n",
                "\r\n",
                "This notebook will show the Agent Jobs that have failed across the estate"
            ],
            "metadata": {
                "azdata_cell_guid": "2c5347d1-8d87-446b-98db-3d8b442f4ed6"
            }
        },
        {
            "cell_type": "markdown",
            "source": [
                "This requires the dbatools and dbachecks module - Run this cell everytime to check for the module and to load some variables"
            ],
            "metadata": {
                "azdata_cell_guid": "c7377fad-33ca-4fa2-905e-6faffb49ac54"
            }
        },
        {
            "cell_type": "code",
            "source": [
                "#Check for modules and install\r\n",
                "$Modules = 'dbatools', 'dbachecks'\r\n",
                "\r\n",
                "if((Get-PsRepository -Name PSGallery).InstallationPolicy -ne 'Trusted'){\r\n",
                "    Write-Output \"             #######################################################\"\r\n",
                "    Write-Output \"The PowerShell Gallery is not trusted so I will trust it so that we can install the modules without interaction\"\r\n",
                "    Write-Output \"             ######     Please follow the Setting Up notebook ######\"\r\n",
                "} else {\r\n",
                "    Write-Output \"The PowerShell Gallery is trusted I will continue\"\r\n",
                "}\r\n",
                "$Modules.ForEach{\r\n",
                "    If(-not(Get-Module $psitem -ListAvailable)){\r\n",
                "        Write-Output \"             #######################################################\"\r\n",
                "        Write-Output \"                        We don't have the $psitem module.\"\r\n",
                "        Write-Output \"             ######     Please follow the Setting Up notebook ######\"\r\n",
                "    }\r\n",
                "    else {\r\n",
                "        Write-Output \"We have the $psitem module already\"\r\n",
                "    }\r\n",
                "}"
            ],
            "metadata": {
                "azdata_cell_guid": "5757a93b-433e-4fe0-acbe-0a2ef6f5ef9b",
                "tags": [
                    "hide_input"
                ]
            },
            "outputs": [],
            "execution_count": null
        },
        {
            "cell_type": "markdown",
            "source": [
                "Run the cell below to get all of the failed jobs in the last day - To alter that number change the number after the value  \r\n",
                "It will take about 2 minutes or so to run"
            ],
            "metadata": {
                "azdata_cell_guid": "f7624617-4914-4920-ab8c-04588fb2ff6b"
            }
        },
        {
            "cell_type": "code",
            "source": [
                "$AllInstances = 'localhost' # add array of instances here\r\n",
                "Set-DbcConfig agent.failedjob.since -Value 1\r\n",
                "Invoke-DbcCheck -SqlInstance $AllInstances -Check FailedJob -Show Fails"
            ],
            "metadata": {
                "azdata_cell_guid": "96825d33-18a1-456a-9969-41a144b29d74",
                "tags": []
            },
            "outputs": [
                {
                    "name": "stdout",
                    "text": "VERBOSE: Populating RepositorySourceLocation property for module Pester.\nVERBOSE: Loading module from path \n'C:\\Users\\mrrob\\OneDrive\\Documents\\WindowsPowerShell\\Modules\\Pester\\5.0.4\\Pester.psm1'.\nVERBOSE: Populating RepositorySourceLocation property for module Pester.\nVERBOSE: Loading module from path \n'C:\\Users\\mrrob\\OneDrive\\Documents\\WindowsPowerShell\\Modules\\Pester\\5.0.2\\Pester.psm1'.\nVERBOSE: Populating RepositorySourceLocation property for module Pester.\nVERBOSE: Loading module from path \n'C:\\Users\\mrrob\\OneDrive\\Documents\\WindowsPowerShell\\Modules\\Pester\\4.9.0\\Pester.psm1'.\nVERBOSE: Loading module from path 'C:\\Program Files\\WindowsPowerShell\\Modules\\Pester\\3.4.0\\Pester.psm1'.\nVERBOSE: [12:04:20][dbachecks.psm1] Trying to import version 4.9.0\nVERBOSE: Loading module from path \n'C:\\Users\\mrrob\\OneDrive\\Documents\\WindowsPowerShell\\Modules\\Pester\\4.9.0\\Pester.psd1'.\nVERBOSE: Loading 'TypesToProcess' from path \n'C:\\Users\\mrrob\\On",
                    "output_type": "stream"
                },
                {
                    "name": "stdout",
                    "text": "eDrive\\Documents\\WindowsPowerShell\\Modules\\Pester\\4.9.0\\Functions\\Gherkin.types.ps1xml'.\nVERBOSE: Populating RepositorySourceLocation property for module Pester.\nVERBOSE: Loading module from path \n'C:\\Users\\mrrob\\OneDrive\\Documents\\WindowsPowerShell\\Modules\\Pester\\4.9.0\\Pester.psm1'.\nVERBOSE: Importing function 'Add-AssertionOperator'.\nVERBOSE: Importing function 'AfterAll'.\nVERBOSE: Importing function 'AfterEach'.\nVERBOSE: Importing function 'AfterEachFeature'.\nVERBOSE: Importing function 'AfterEachScenario'.\nVERBOSE: Importing function 'Assert-MockCalled'.\nVERBOSE: Importing function 'Assert-VerifiableMock'.\nVERBOSE: Importing function 'Assert-VerifiableMocks'.\nVERBOSE: Importing function 'BeforeAll'.\nVERBOSE: Importing function 'BeforeEach'.\nVERBOSE: Importing function 'BeforeEachFeatu",
                    "output_type": "stream"
                },
                {
                    "name": "stdout",
                    "text": "re'.\nVERBOSE: Importing function 'BeforeEachScenario'.\nVERBOSE: Importing function 'Context'.\nVERBOSE: Importing function 'Describe'.\nVERBOSE: Importing function 'Find-GherkinStep'.\nVERBOSE: Importing function 'Get-MockDynamicParameter'.\nVERBOSE: Importing function 'Get-ShouldOperator'.\nVERBOSE: Importing function 'Get-TestDriveItem'.\nVERBOSE: Importing function 'GherkinStep'.\nVERBOSE: Importing function 'In'.\nVERBOSE: Importing function 'InModuleScope'.\nVERBOSE: Importing function 'Invoke-Gherkin'.\nVERBOSE: Importing function 'Invoke-Mock'.\nVERBOSE: Importing function 'Invoke-Pester'.\nVERBOSE: Importing function 'It'.\nVERBOSE: Importing function 'Mock'.\nVERBOSE: Importing function 'New-Fixture'.\nVERBOSE: Importing function 'New-MockObject'.\nVERBOSE: Importing function 'New-PesterOption'.\nVERBOSE: Importing function 'SafeGetCommand'.\nVERBOSE: Importing function 'Set-DynamicParameterVariable'.\nVERBOSE: Importing function 'Set-ItResult'.\nVERBOSE: Importing function 'Set-TestInconclusive'.\nVERBOSE: Importing function 'Setup'.\nVERBOS",
                    "output_type": "stream"
                },
                {
                    "name": "stdout",
                    "text": "E: Importing function 'Should'.\nVERBOSE: Importing alias 'Add-ShouldOperator'.\nVERBOSE: Importing alias 'And'.\nVERBOSE: Importing alias 'But'.\nVERBOSE: Importing alias 'Given'.\nVERBOSE: Importing alias 'Then'.\nVERBOSE: Importing alias 'When'.\n",
                    "output_type": "stream"
                },
                {
                    "name": "stdout",
                    "text": "\n",
                    "output_type": "stream"
                },
                {
                    "name": "stdout",
                    "text": "    ____            __\n   / __ \\___  _____/ /____  _____\n  / /_/ / _ \\/ ___/ __/ _ \\/ ___/\n / ____/  __(__  ) /_/  __/ /\n/_/    \\___/____/\\__/\\___/_/\nPester v4.9.0\nExecuting all tests in 'C:\\Users\\mrrob\\OneDrive\\Documents\\WindowsPowerShell\\Modules\\dbachecks\\2.0.7\\checks\\Agent.Tests.ps1' with Tags FailedJob\n\nExecuting script C:\\Users\\mrrob\\OneDrive\\Documents\\WindowsPowerShell\\Modules\\dbachecks\\2.0.7\\checks\\Agent.Tests.ps1\n",
                    "output_type": "stream"
                },
                {
                    "name": "stdout",
                    "text": "\n  Describing Failed Jobs\n",
                    "output_type": "stream"
                },
                {
                    "name": "stdout",
                    "text": "\n    Context Checking for failed enabled jobs since 11/30/2020 12:04:25 on localhost\n",
                    "output_type": "stream"
                },
                {
                    "name": "stdout",
                    "text": "Tests completed in 1.51s\nTests Passed: 0, Failed: 0, Skipped: 0, Pending: 0, Inconclusive: 0 \n",
                    "output_type": "stream"
                },
                {
                    "name": "stdout",
                    "text": "Name                  Value Description                                        \n----                  ----- -----------                                        \nagent.failedjob.since     1 The maximum number of days to check for failed jobs\n\n\n. {\n>> $AllInstances = 'localhost' # add array of instances here\n>> Set-DbcConfig agent.failedjob.since -Value 1\n>> Invoke-DbcCheck -SqlInstance $AllInstances -Check FailedJob -Show Fails\n>> }\n>> \n\n",
                    "output_type": "stream"
                }
            ],
            "execution_count": 2
        }
    ]
}