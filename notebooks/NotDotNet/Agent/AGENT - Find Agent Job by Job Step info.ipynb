{
    "metadata": {
        "kernelspec": {
            "name": "powershell",
            "display_name": "PowerShell"
        },
        "language_info": {
            "name": "powershell",
            "codemirror_mode": "shell",
            "mimetype": "text/x-sh",
            "file_extension": ".ps1"
        }
    },
    "nbformat_minor": 2,
    "nbformat": 4,
    "cells": [
        {
            "cell_type": "markdown",
            "source": [
                "# Finding Agent Jobs based on Job step command\r\n",
                "\r\n",
                "This notebook will enable you to find Agent jobs which have job steps wiht the search text in the command step or in the name. Needs to be run as a user with permissions on the instance(s) that you wish to search."
            ],
            "metadata": {
                "azdata_cell_guid": "c5967c24-bba1-4ae5-95f4-8c78b57b0f58"
            }
        },
        {
            "cell_type": "markdown",
            "source": [
                "This requires the dbatools and dbachecks module - Run this cell everytime to check for the module and to load some variables"
            ],
            "metadata": {
                "azdata_cell_guid": "37941af0-7c4b-4ab5-8901-c000eae1bb11"
            }
        },
        {
            "cell_type": "code",
            "source": [
                "#Check for modules and install\r\n",
                "$Modules = 'dbatools', 'dbachecks'\r\n",
                "if((Get-PsRepository -Name PSGallery).InstallationPolicy -ne 'Trusted'){\r\n",
                "    Write-Output \"             #######################################################\"\r\n",
                "    Write-Output \"The PowerShell Gallery is not trusted so I will trust it so that we can install the modules without interaction\"\r\n",
                "    Write-Output \"             ######     Please follow the Setting Up notebook ######\"\r\n",
                "} else {\r\n",
                "    Write-Output \"The PowerShell Gallery is trusted I will continue\"\r\n",
                "}\r\n",
                "$Modules.ForEach{\r\n",
                "    If(-not(Get-Module $psitem -ListAvailable)){\r\n",
                "        Write-Output \"             #######################################################\"\r\n",
                "        Write-Output \"                        We don't have the $psitem module.\"\r\n",
                "        Write-Output \"             ######     Please follow the Setting Up notebook ######\"\r\n",
                "    }\r\n",
                "    else {\r\n",
                "        Write-Output \"We have the $psitem module already\"\r\n",
                "    }\r\n",
                "}"
            ],
            "metadata": {
                "azdata_cell_guid": "4fd0b592-6f85-4a61-87f6-925f6ba9678f",
                "tags": [
                    "hide_input"
                ]
            },
            "outputs": [],
            "execution_count": null
        },
        {
            "cell_type": "markdown",
            "source": [
                "Choose the Instance you wish to check"
            ],
            "metadata": {
                "azdata_cell_guid": "25fc57d8-97a4-4192-9964-91e93d65b75d"
            }
        },
        {
            "cell_type": "markdown",
            "source": [
                "Change the value after $Sqlinstances to the value you require"
            ],
            "metadata": {
                "azdata_cell_guid": "8e43782d-0c1e-4b60-96d0-017908514b3d"
            }
        },
        {
            "cell_type": "code",
            "source": [
                "$Sqlinstances = ''\r\n",
                "$AgentJobSteps =Get-DbaAgentJobStep -SqlInstance $SQLInstances\r\n",
                "Write-Output \"Found $($AgentJobSteps.Count) number of job steps on $Sqlinstances\""
            ],
            "metadata": {
                "azdata_cell_guid": "0d338bb3-a6a6-4f21-b6e2-113341fda587",
                "tags": []
            },
            "outputs": [],
            "execution_count": null
        },
        {
            "cell_type": "markdown",
            "source": [
                "Then we search for the text in the job step that we want, if you need to multiple then run the step above once and keep running the one below with different filters\r\n",
                "\r\n",
                "Change the value after $filter to the text you wish to search for **in the job step command**   \r\n",
                "This does not search for the job step name - you can do that below"
            ],
            "metadata": {
                "azdata_cell_guid": "3c955717-4ef9-4376-8b84-cb4069b3dd1d"
            }
        },
        {
            "cell_type": "code",
            "source": [
                "$commandfilter = '' ## the text to search for\r\n",
                "\r\n",
                "$commandsearch = \"*$commandfilter*\"\r\n",
                "$AgentJobSteps | Where-Object {$psitem.Command -like $commandsearch}"
            ],
            "metadata": {
                "azdata_cell_guid": "5d7f6bc3-8b49-4ceb-815c-14e179eb1c6f",
                "tags": []
            },
            "outputs": [],
            "execution_count": null
        },
        {
            "cell_type": "markdown",
            "source": [
                "If you want to search by the name of the job step"
            ],
            "metadata": {
                "azdata_cell_guid": "2a157767-8787-4db2-9346-22730e71ee9f"
            }
        },
        {
            "cell_type": "code",
            "source": [
                "$jobstepnamefilter = '' ## the text to search for\r\n",
                "\r\n",
                "$commandsearch = \"*$jobstepnamefilter*\"\r\n",
                "$AgentJobSteps | Where-Object {$psitem.Name -like $commandsearch}"
            ],
            "metadata": {
                "azdata_cell_guid": "f4ace36d-235f-4634-b4c3-6c836e848164",
                "tags": []
            },
            "outputs": [],
            "execution_count": null
        }
    ]
}