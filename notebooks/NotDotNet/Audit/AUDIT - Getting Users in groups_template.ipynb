{
    "metadata": {
        "kernelspec": {
            "name": "powershell",
            "display_name": "PowerShell"
        },
        "language_info": {
            "name": "powershell",
            "codemirror_mode": "shell",
            "mimetype": "text/x-sh",
            "file_extension": ".ps1"
        }
    },
    "nbformat_minor": 2,
    "nbformat": 4,
    "cells": [
        {
            "cell_type": "markdown",
            "source": [
                "# AD Group members\r\n",
                "\r\n",
                "This notebook will get the members of the AD groups \r\n",
                "There are two ways of doing it and a number of code blocks below\r\n",
                "\r\n",
                "- one via the AD Module which needs RSAT installed on your laptop \r\n",
                "- One via dbatools\r\n",
                "- With dbatools you can also get a login that is able to connect to an instance and see which group it gets access via\r\n",
                "- You can also create Excel workbooks for either  \r\n",
                "\r\n",
                "\r\n",
                "Run this code first - always - It helps to set the output"
            ],
            "metadata": {
                "azdata_cell_guid": "80a36c0e-0e1d-4ecd-a652-8df5dad4ebf0"
            }
        },
        {
            "cell_type": "code",
            "source": [
                "If(Get-Module ActiveDirectory -ListAvailable ){\r\n",
                "    Write-Output \"you have the Active Directory module so you can use the Active Directory code\"\r\n",
                "}\r\n",
                "if(Get-Module dbatools -ListAvailable){\r\n",
                "    Write-Output \"you have the dbatools module so you can use the dbatools code\"\r\n",
                "}\r\n",
                "Write-Output \"Your choices are presented above - if there is nothing, you will need to install the dbatools module\"\r\n",
                "# Run this first to make sure output width does not mess with output - Update output buffer size to prevent clipping in Visual Studio output window.\r\n",
                "if( $Host -and $Host.UI -and $Host.UI.RawUI ) {\r\n",
                "    $rawUI = $Host.UI.RawUI\r\n",
                "    $oldSize = $rawUI.BufferSize\r\n",
                "    $typeName = $oldSize.GetType( ).FullName\r\n",
                "    $newSize = New-Object $typeName (500, $oldSize.Height)\r\n",
                "    $rawUI.BufferSize = $newSize\r\n",
                "  }"
            ],
            "metadata": {
                "azdata_cell_guid": "a55af179-66d5-4e63-aadc-36e3dc138085",
                "tags": [
                    "hide_input"
                ]
            },
            "outputs": [],
            "execution_count": null
        },
        {
            "cell_type": "markdown",
            "source": [
                "## Using the Active Directory Module\r\n",
                "\r\n",
                "Add the GAD group that you wish to get the members for and run the code\r\n",
                "\r\n",
                "You need to enter the group name here"
            ],
            "metadata": {
                "azdata_cell_guid": "a4ac97f4-9e8b-4c4a-aab8-eb6cc5e7a996"
            }
        },
        {
            "cell_type": "code",
            "source": [
                "$ADGroup = '' # Just the group name after the \\\r\n",
                "Write-Output \"Members of $ADGroup\"\r\n",
                "Get-ADGroupMember -Identity $ADGroup | Select Name, SamAccountName"
            ],
            "metadata": {
                "azdata_cell_guid": "bdecd42e-33a6-4b29-b1ee-1dbc7f423454",
                "tags": [
                    "hide_input"
                ]
            },
            "outputs": [],
            "execution_count": null
        },
        {
            "cell_type": "markdown",
            "source": [
                "## Using dbatools\n",
                "\n",
                "With dbatools you can get all of users that have access to an instance and the groups that they get access via.\n",
                "\n",
                "You need to enter the instance here\n",
                "\n",
                ""
            ],
            "metadata": {
                "azdata_cell_guid": "a367757b-82fa-4293-be5a-3f40fcb4f1af"
            }
        },
        {
            "cell_type": "code",
            "source": [
                "$SQLInstance = ''\n",
                "Find-DbaLoginInGroup -SqlInstance $SQLInstance | Format-Table"
            ],
            "metadata": {
                "azdata_cell_guid": "03272069-ea93-4ea4-9b83-7d7cd097b0d6"
            },
            "outputs": [],
            "execution_count": null
        },
        {
            "cell_type": "markdown",
            "source": [
                "## Using dbatools for a single user\r\n",
                "\r\n",
                "You can find which groups a user used to gain access "
            ],
            "metadata": {
                "azdata_cell_guid": "33793457-1ecb-4e52-8bbe-b0e8b536f729"
            }
        },
        {
            "cell_type": "code",
            "source": [
                "$SQLInstance = ''\r\n",
                "$Login = '\\'\r\n",
                "Find-DbaLoginInGroup -SqlInstance $SQLInstance -Login $Login | Format-Table"
            ],
            "metadata": {
                "azdata_cell_guid": "6212f292-90b3-4125-a330-7c043fe62663"
            },
            "outputs": [],
            "execution_count": null
        },
        {
            "cell_type": "markdown",
            "source": [
                "# Creating Excel\r\n",
                "\r\n",
                "You can create Excel sheets if you wish - This requires that the ImportExcel module has been installed\r\n",
                "\r\n",
                "## Active Directory\r\n",
                "\r\n",
                ""
            ],
            "metadata": {
                "azdata_cell_guid": "7bbcbdca-9276-4324-887d-7fc94d42c579"
            }
        },
        {
            "cell_type": "code",
            "source": [
                "#Check for modules and install\r\n",
                "$Modules = 'dbatools', 'ImportExcel'\r\n",
                "\r\n",
                "if((Get-PsRepository -Name PSGallery).InstallationPolicy -ne 'Trusted'){\r\n",
                "    Write-Output \"             #######################################################\"\r\n",
                "    Write-Output \"The PowerShell Gallery is not trusted so I will trust it so that we can install the modules without interaction\"\r\n",
                "    Write-Output \"             ######     Please follow the Setting Up notebook ######\"\r\n",
                "} else {\r\n",
                "    Write-Output \"The PowerShell Gallery is trusted I will continue\"\r\n",
                "}\r\n",
                "$Modules.ForEach{\r\n",
                "    If(-not(Get-Module $psitem -ListAvailable)){\r\n",
                "        Write-Output \"             #######################################################\"\r\n",
                "        Write-Output \"                        We don't have the $psitem module.\"\r\n",
                "        Write-Output \"             ######     Please follow the Setting Up notebook ######\"\r\n",
                "    }\r\n",
                "    else {\r\n",
                "        Write-Output \"We have the $psitem module already\"\r\n",
                "    }\r\n",
                "}"
            ],
            "metadata": {
                "azdata_cell_guid": "b75ab831-d7c7-47b9-94c4-a56f2142a1b8",
                "tags": [
                    "hide_input"
                ]
            },
            "outputs": [
                {
                    "output_type": "stream",
                    "name": "stdout",
                    "text": "The PowerShell Gallery is trusted I will continue\nWe have the dbatools module already\nWe have the ImportExcel module already\n"
                }
            ],
            "execution_count": 26
        },
        {
            "cell_type": "code",
            "source": [
                "$ADGroups = '', '' # comma seperated list - Just the group name after the \\\r\n",
                "$Directory = 'C:\\temp' # the directory you wish the excel sheet create in\r\n",
                "$Path = $Directory + '\\' + $ADGroups + '_Members_' + (Get-Date).ToString('yyyy-MM-dd') + '.xlsx'\r\n",
                "Write-Output \"Members of $ADGroups\"\r\n",
                "$ADGroups | ForEach-Object { $group = $psitem; Get-ADGroupMember $group | Select @{Name='Group';Exp={$group}}, Name, SamAccountName } | Export-Excel -Path $Path -AutoSize -FreezeTopRow -AutoFilter\r\n",
                "Invoke-Item $Path"
            ],
            "metadata": {
                "azdata_cell_guid": "0fff2eac-1fd3-413a-92bb-50570be72c34"
            },
            "outputs": [],
            "execution_count": null
        },
        {
            "cell_type": "markdown",
            "source": [
                "## dbatools"
            ],
            "metadata": {
                "azdata_cell_guid": "c7d663f9-03fc-49a4-a83b-ad13d62912d7"
            }
        },
        {
            "cell_type": "code",
            "source": [
                "$SQLInstance = '' # enter the SQL instance here\r\n",
                "$Directory = 'C:\\temp' # the directory you wish the excel sheet create in\r\n",
                "$Path = $Directory + '\\Instance' + $SQLInstance + '_Members_and_Groups' + (Get-Date).ToString('yyyy-MM-dd') + '.xlsx'\r\n",
                "Find-DbaLoginInGroup -SqlInstance $SQLInstance | Select-Object SqlInstance, Login, DisplayName, MemberOf, ParentADGroupLogin |Export-Excel -Path $Path -AutoSize -FreezeTopRow -AutoFilter\r\n",
                "Invoke-Item $Path"
            ],
            "metadata": {
                "azdata_cell_guid": "3cdcdfc5-f67c-424b-8e72-20a6058e791a"
            },
            "outputs": [],
            "execution_count": null
        }
    ]
}