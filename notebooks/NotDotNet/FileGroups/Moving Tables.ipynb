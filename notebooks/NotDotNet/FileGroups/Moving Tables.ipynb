{
    "metadata": {
        "kernelspec": {
            "name": "SQL",
            "display_name": "SQL",
            "language": "sql"
        },
        "language_info": {
            "name": "sql",
            "version": ""
        }
    },
    "nbformat_minor": 2,
    "nbformat": 4,
    "cells": [
        {
            "cell_type": "markdown",
            "source": [
                "# Moving tables into FileGroups\r\n",
                "\r\n",
                "All credit goes to the marvelous Jes - Thank you Jes [Blog Post](https://blogs.lessthandot.com/index.php/datamgmt/dbadmin/sql-server-filegroups-the-what/) \r\n",
                "\r\n",
                "A Notebook enabling you to see how to create file groups and move tables between them\r\n",
                "\r\n",
                "Lets create a test database"
            ],
            "metadata": {
                "azdata_cell_guid": "19ebce57-7e81-4242-a108-092a84ea5b6c"
            }
        },
        {
            "cell_type": "code",
            "source": [
                "CREATE DATABASE FileGroup_Test\r\n",
                "GO"
            ],
            "metadata": {
                "azdata_cell_guid": "f4165486-c59c-4fc8-be5b-dfecb8b64a72"
            },
            "outputs": [],
            "execution_count": null
        },
        {
            "cell_type": "markdown",
            "source": [
                "Have a look at the filegroups"
            ],
            "metadata": {
                "azdata_cell_guid": "e4d0fc03-d755-4b90-85b8-8aea568ba1d4"
            }
        },
        {
            "cell_type": "code",
            "source": [
                "USE FileGroup_Test\r\n",
                "GO\r\n",
                "SELECT * FROM sys.filegroups"
            ],
            "metadata": {
                "azdata_cell_guid": "9a2ad30e-93a8-4096-82ea-638ccbf0c1f5"
            },
            "outputs": [],
            "execution_count": null
        },
        {
            "cell_type": "markdown",
            "source": [
                "Lets create two tables, one a heap and one with a Clustered index"
            ],
            "metadata": {
                "azdata_cell_guid": "0625373e-7aaf-43e9-802d-67848dd03455"
            }
        },
        {
            "cell_type": "code",
            "source": [
                "USE FileGroup_Test\r\n",
                "GO\r\n",
                "-- Thanks to Itzek for this code\r\n",
                " ; WITH\r\n",
                "  L0   AS (SELECT c FROM (SELECT 1 UNION ALL SELECT 1) AS D(c)), -- 2^1\r\n",
                "  L1   AS (SELECT 1 AS c FROM L0 AS A CROSS JOIN L0 AS B),       -- 2^2\r\n",
                "  L2   AS (SELECT 1 AS c FROM L1 AS A CROSS JOIN L1 AS B),       -- 2^4\r\n",
                "  L3   AS (SELECT 1 AS c FROM L2 AS A CROSS JOIN L2 AS B),       -- 2^8\r\n",
                "  L4   AS (SELECT 1 AS c FROM L3 AS A CROSS JOIN L3 AS B),       -- 2^16\r\n",
                "  L5   AS (SELECT 1 AS c FROM L4 AS A CROSS JOIN L4 AS B),       -- 2^32\r\n",
                "  Nums AS (SELECT ROW_NUMBER() OVER(ORDER BY (SELECT NULL)) AS k FROM L5)\r\n",
                "\r\n",
                "select k as StuffHere , k/2 as JunkHere,  k/4 as DuffStuffHere\r\n",
                " into StuffAndJunk\r\n",
                "from nums\r\n",
                "where k <= 1000000\r\n",
                "\r\n",
                " ; WITH\r\n",
                "  L0   AS (SELECT c FROM (SELECT 1 UNION ALL SELECT 1) AS D(c)), -- 2^1\r\n",
                "  L1   AS (SELECT 1 AS c FROM L0 AS A CROSS JOIN L0 AS B),       -- 2^2\r\n",
                "  L2   AS (SELECT 1 AS c FROM L1 AS A CROSS JOIN L1 AS B),       -- 2^4\r\n",
                "  L3   AS (SELECT 1 AS c FROM L2 AS A CROSS JOIN L2 AS B),       -- 2^8\r\n",
                "  L4   AS (SELECT 1 AS c FROM L3 AS A CROSS JOIN L3 AS B),       -- 2^16\r\n",
                "  L5   AS (SELECT 1 AS c FROM L4 AS A CROSS JOIN L4 AS B),       -- 2^32\r\n",
                "  Nums AS (SELECT ROW_NUMBER() OVER(ORDER BY (SELECT NULL)) AS k FROM L5)\r\n",
                "\r\n",
                "select k as StuffHere , k/2 as JunkHere,  k/4 as DuffStuffHere\r\n",
                " into OrderedList\r\n",
                "from nums\r\n",
                "where k <= 1000000\r\n",
                "\r\n",
                "ALTER TABLE [FileGroup_Test].[dbo].[OrderedList] ALTER COLUMN StuffHere INT NOT NULL\r\n",
                "\r\n",
                "CREATE UNIQUE CLUSTERED INDEX [OrderList_index] ON [dbo].[OrderedList] -- don't judge I cant be bothered to name things properly\r\n",
                "([StuffHere] ASC,[JunkHere],[DuffStuffHere])\r\n",
                ""
            ],
            "metadata": {
                "azdata_cell_guid": "9531b89d-3379-4272-a526-44cb61ba0ef7"
            },
            "outputs": [],
            "execution_count": null
        },
        {
            "cell_type": "markdown",
            "source": [
                "Take a look at the locations of the tables"
            ],
            "metadata": {
                "azdata_cell_guid": "30ca037d-eac2-482c-97f9-0f71173918d7"
            }
        },
        {
            "cell_type": "code",
            "source": [
                "SELECT  \n",
                "OBJECT_NAME(PA.object_id) AS 'Table'\n",
                ", PA.object_id\n",
                ", FG.name \n",
                "FROM sys.filegroups FG \n",
                "\tINNER JOIN sys.allocation_units AU ON AU.data_space_id = FG.data_space_id \n",
                "\tINNER JOIN sys.partitions PA ON PA.partition_id = AU.container_id \n",
                "WHERE PA.object_id = (SELECT object_id(N'dbo.StuffAndJunk'))\n",
                "OR PA.object_id = (SELECT object_id(N'dbo.OrderedList'))"
            ],
            "metadata": {
                "azdata_cell_guid": "49101558-3732-4417-b2b3-a9732424d056"
            },
            "outputs": [],
            "execution_count": null
        },
        {
            "cell_type": "markdown",
            "source": [
                "You can also use `sp_help` to return info"
            ],
            "metadata": {
                "azdata_cell_guid": "f3a7428f-6d4e-4cde-bcbf-c128cb03d7a5"
            }
        },
        {
            "cell_type": "code",
            "source": [
                "exec sp_help 'dbo.OrderedList'"
            ],
            "metadata": {
                "azdata_cell_guid": "cb57bcf8-e744-41f7-a63a-c39fa10f681b"
            },
            "outputs": [],
            "execution_count": null
        },
        {
            "cell_type": "markdown",
            "source": [
                "# Create File Groups\r\n",
                "\r\n",
                "We can create file groups for existing database"
            ],
            "metadata": {
                "azdata_cell_guid": "c11d2649-e61e-4a29-8af8-19b5e5f76461"
            }
        },
        {
            "cell_type": "code",
            "source": [
                "ALTER DATABASE FileGroup_Test ADD FILEGROUP FGTestFG1\r\n",
                "ALTER DATABASE FileGroup_Test ADD FILEGROUP FGTestFG2"
            ],
            "metadata": {
                "azdata_cell_guid": "4cb55696-4900-430c-94f9-d3ac944035e4"
            },
            "outputs": [],
            "execution_count": null
        },
        {
            "cell_type": "markdown",
            "source": [
                "You can see the file groups using sys.filegroups"
            ],
            "metadata": {
                "azdata_cell_guid": "2ec7af4d-1ce2-4e1f-94e6-ddef4a8cf6a9"
            }
        },
        {
            "cell_type": "code",
            "source": [
                "SELECT * FROM sys.filegroups"
            ],
            "metadata": {
                "azdata_cell_guid": "14efb480-f3a1-4168-bccf-5980fd871184"
            },
            "outputs": [],
            "execution_count": null
        },
        {
            "cell_type": "markdown",
            "source": [
                "Now we need to add some files to the file groups - Check the file paths before running this"
            ],
            "metadata": {
                "azdata_cell_guid": "dbf7e85b-b25e-45d7-bf50-39a8909e12ac"
            }
        },
        {
            "cell_type": "code",
            "source": [
                "ALTER DATABASE FileGroup_Test \r\n",
                "ADD FILE \r\n",
                "(NAME = FileGroup_number1, FILENAME = 'C:\\Program Files\\Microsoft SQL Server\\MSSQL12.MSSQLSERVERSSQL\\FileGroup_FileGroup1.ndf') \r\n",
                "TO FILEGROUP FGTestFG1\r\n",
                "\r\n",
                "ALTER DATABASE FileGroup_Test \r\n",
                "ADD FILE \r\n",
                "(NAME = FileGroup_number2, FILENAME = 'C:\\Program Files\\Microsoft SQL Server\\MSSQL12.MSSQLSERVERSSQL\\FileGroup_FileGroup2.ndf') \r\n",
                "TO FILEGROUP FGTestFG2"
            ],
            "metadata": {
                "azdata_cell_guid": "a29ce20d-2371-43a3-9f0b-c62881ae3338"
            },
            "outputs": [],
            "execution_count": null
        },
        {
            "cell_type": "markdown",
            "source": [
                "We can see which files are in which filegroups with "
            ],
            "metadata": {
                "azdata_cell_guid": "22d5d02c-e374-477e-aa00-4f45aac38c6f"
            }
        },
        {
            "cell_type": "code",
            "source": [
                "SELECT sdf.name AS [FileName],\r\n",
                "size/128 AS [Size_in_MB],\r\n",
                "fg.name AS [File_Group_Name]\r\n",
                "FROM sys.database_files sdf\r\n",
                "INNER JOIN\r\n",
                "sys.filegroups fg\r\n",
                "ON sdf.data_space_id=fg.data_space_id"
            ],
            "metadata": {
                "azdata_cell_guid": "d6f0d105-faa4-416f-845b-efa5657e8b7d"
            },
            "outputs": [],
            "execution_count": null
        },
        {
            "cell_type": "markdown",
            "source": [
                "## Change the Default file group\r\n",
                "\r\n",
                "With new file groups we can change the default file group where objects will be created"
            ],
            "metadata": {
                "azdata_cell_guid": "56c33630-b445-4644-be88-14c0882b777d"
            }
        },
        {
            "cell_type": "code",
            "source": [
                "ALTER DATABASE FileGroup_Test  MODIFY FILEGROUP FGTestFG1 DEFAULT  "
            ],
            "metadata": {
                "azdata_cell_guid": "61fbffbd-1506-4dc3-844f-d3c01e3f7e77"
            },
            "outputs": [],
            "execution_count": null
        },
        {
            "cell_type": "markdown",
            "source": [
                "So when we create a new table we can see where it is created by default. You can of course specify a file group if you want"
            ],
            "metadata": {
                "azdata_cell_guid": "e39c62c9-d146-46bc-84ce-e3724470cb84"
            }
        },
        {
            "cell_type": "code",
            "source": [
                " ; WITH\r\n",
                "  L0   AS (SELECT c FROM (SELECT 1 UNION ALL SELECT 1) AS D(c)), -- 2^1\r\n",
                "  L1   AS (SELECT 1 AS c FROM L0 AS A CROSS JOIN L0 AS B),       -- 2^2\r\n",
                "  L2   AS (SELECT 1 AS c FROM L1 AS A CROSS JOIN L1 AS B),       -- 2^4\r\n",
                "  L3   AS (SELECT 1 AS c FROM L2 AS A CROSS JOIN L2 AS B),       -- 2^8\r\n",
                "  L4   AS (SELECT 1 AS c FROM L3 AS A CROSS JOIN L3 AS B),       -- 2^16\r\n",
                "  L5   AS (SELECT 1 AS c FROM L4 AS A CROSS JOIN L4 AS B),       -- 2^32\r\n",
                "  Nums AS (SELECT ROW_NUMBER() OVER(ORDER BY (SELECT NULL)) AS k FROM L5)\r\n",
                "\r\n",
                "select k as StuffHere , k/2 as JunkHere,  k/4 as DuffStuffHere\r\n",
                " into NewStuff\r\n",
                "from nums\r\n",
                "where k <= 1000000"
            ],
            "metadata": {
                "azdata_cell_guid": "1eaaccf2-c02b-4254-875c-ce8283eb3e7e"
            },
            "outputs": [],
            "execution_count": null
        },
        {
            "cell_type": "code",
            "source": [
                "SELECT  \r\n",
                "OBJECT_NAME(PA.object_id) AS 'Table'\r\n",
                ", PA.object_id\r\n",
                ", FG.name \r\n",
                "FROM sys.filegroups FG \r\n",
                "\tINNER JOIN sys.allocation_units AU ON AU.data_space_id = FG.data_space_id \r\n",
                "\tINNER JOIN sys.partitions PA ON PA.partition_id = AU.container_id \r\n",
                "WHERE PA.object_id = (SELECT object_id(N'dbo.StuffAndJunk'))\r\n",
                "OR PA.object_id = (SELECT object_id(N'dbo.OrderedList'))\r\n",
                "OR PA.object_id = (SELECT object_id(N'dbo.NewStuff'))"
            ],
            "metadata": {
                "azdata_cell_guid": "2d6f9e8a-2931-4ac8-b7a6-6be86b9ddf31"
            },
            "outputs": [],
            "execution_count": null
        },
        {
            "cell_type": "markdown",
            "source": [
                "New Stuff has been created on the default file group"
            ],
            "metadata": {
                "azdata_cell_guid": "17b3a5dd-0ee5-4ea1-96ca-005ae9d55d0c"
            }
        },
        {
            "cell_type": "markdown",
            "source": [
                "# Moving Tables with clustered index to another file group\r\n",
                "\r\n",
                "\r\n",
                "You can move a table from one filegroup to another, provided the table has a clustered index on it.\r\n",
                "\r\n",
                "So to move dbo.OrderedList we can use this code  (You can also add ONLINE if required)"
            ],
            "metadata": {
                "azdata_cell_guid": "8c6b6748-8353-429d-8f2a-49b9a0192848"
            }
        },
        {
            "cell_type": "code",
            "source": [
                "USE FileGroup_Test\r\n",
                "GO\r\n",
                "CREATE UNIQUE CLUSTERED INDEX [OrderList_index] ON \r\n",
                "[dbo].[OrderedList](StuffHere, JunkHere, DuffStuffHere)\r\n",
                "WITH DROP_EXISTING\r\n",
                "ON FGTestFG2"
            ],
            "metadata": {
                "azdata_cell_guid": "64d19005-da14-4bff-821a-c4d0de61c437"
            },
            "outputs": [],
            "execution_count": null
        },
        {
            "cell_type": "markdown",
            "source": [
                "And when we check, we can see that the table is on the new file group"
            ],
            "metadata": {
                "azdata_cell_guid": "a0b59b92-3d8e-4b1c-b10d-1ed986d166c1"
            }
        },
        {
            "cell_type": "code",
            "source": [
                "SELECT \r\n",
                "OBJECT_NAME(PA.object_id) AS 'Table'\r\n",
                ", PA.object_id\r\n",
                ", FG.name \r\n",
                "FROM sys.filegroups FG \r\n",
                "\tINNER JOIN sys.allocation_units AU ON AU.data_space_id = FG.data_space_id \r\n",
                "\tINNER JOIN sys.partitions PA ON PA.partition_id = AU.container_id \r\n",
                "WHERE PA.object_id = (SELECT object_id(N'dbo.StuffAndJunk'))\r\n",
                "OR PA.object_id = (SELECT object_id(N'dbo.OrderedList'))\r\n",
                "OR PA.object_id = (SELECT object_id(N'dbo.NewStuff'))"
            ],
            "metadata": {
                "azdata_cell_guid": "e6dffc6c-38bc-4bfb-ab56-cb9f23244c68"
            },
            "outputs": [],
            "execution_count": null
        },
        {
            "cell_type": "markdown",
            "source": [
                "# Moving Tables without a clustered index (Heap) to another file group\r\n",
                "\r\n",
                "There are two ways, neither is pretty\r\n",
                "\r\n",
                "## Create index on another file group and drop it\r\n",
                "\r\n",
                "Lets move StuffAndJunk from PRIMARY file group to FGTestFG1 in this way  - Beware the log file"
            ],
            "metadata": {
                "azdata_cell_guid": "a84fddd9-2108-4d6b-a113-abb123486ce1"
            }
        },
        {
            "cell_type": "code",
            "source": [
                "USE FileGroup_Test\r\n",
                "GO\r\n",
                "CREATE UNIQUE CLUSTERED INDEX [StuffAndJunk_index] ON \r\n",
                "[dbo].[StuffAndJunk](StuffHere, JunkHere, DuffStuffHere)\r\n",
                "\r\n",
                "ON FGTestFG1\r\n",
                "\r\n",
                "DROP INDEX [StuffAndJunk_index] ON \r\n",
                "[dbo].[StuffAndJunk]"
            ],
            "metadata": {
                "azdata_cell_guid": "10e5eada-783c-4446-a59b-2a09823f03c2"
            },
            "outputs": [],
            "execution_count": null
        },
        {
            "cell_type": "markdown",
            "source": [
                "and check"
            ],
            "metadata": {
                "azdata_cell_guid": "7a3a0278-0f7c-4a3d-bd98-764e41f38243"
            }
        },
        {
            "cell_type": "code",
            "source": [
                "SELECT \r\n",
                "OBJECT_NAME(PA.object_id) AS 'Table'\r\n",
                ", PA.object_id\r\n",
                ", FG.name \r\n",
                "FROM sys.filegroups FG \r\n",
                "\tINNER JOIN sys.allocation_units AU ON AU.data_space_id = FG.data_space_id \r\n",
                "\tINNER JOIN sys.partitions PA ON PA.partition_id = AU.container_id \r\n",
                "WHERE PA.object_id = (SELECT object_id(N'dbo.StuffAndJunk'))\r\n",
                "OR PA.object_id = (SELECT object_id(N'dbo.OrderedList'))\r\n",
                "OR PA.object_id = (SELECT object_id(N'dbo.NewStuff'))"
            ],
            "metadata": {
                "azdata_cell_guid": "19c1f34e-9db2-41b6-9761-4f993791650b"
            },
            "outputs": [],
            "execution_count": null
        },
        {
            "cell_type": "markdown",
            "source": [
                "It's on FGTestFG1"
            ],
            "metadata": {
                "azdata_cell_guid": "b4dc6429-2f6e-409b-9b35-26926a757f0c"
            }
        },
        {
            "cell_type": "markdown",
            "source": [
                "## Create new table on another file group and insert into it\r\n",
                "\r\n",
                "Lets move StuffAndJunk from FGTestFG1 file group to FGTestFG2 in this way - Beware the log file"
            ],
            "metadata": {
                "azdata_cell_guid": "414407a2-b655-4f7a-aa1e-f61f711d7037"
            }
        },
        {
            "cell_type": "code",
            "source": [
                "USE FileGroup_Test\r\n",
                "GO\r\n",
                "CREATE TABLE [dbo].[StuffAndJunk_new](\r\n",
                "\t[StuffHere] [bigint] NULL,\r\n",
                "\t[JunkHere] [bigint] NULL,\r\n",
                "\t[DuffStuffHere] [bigint] NULL\r\n",
                ") ON [FGTestFG2]\r\n",
                "\r\n",
                "INSERT INTO [dbo].[StuffAndJunk_new] WITH (TABLOCK)  -- to reduce logging in simple mode_\r\n",
                "SELECT * FROM [dbo].[StuffAndJunk]\r\n",
                "GO\r\n",
                "\r\n",
                "DROP TABLE [dbo].[StuffAndJunk]\r\n",
                "\r\n",
                "EXEC sp_rename 'StuffAndJunk_new' , 'StuffAndJunk' ; "
            ],
            "metadata": {
                "azdata_cell_guid": "34149314-24fa-4e92-8de8-a1019e12681b"
            },
            "outputs": [],
            "execution_count": null
        },
        {
            "cell_type": "markdown",
            "source": [
                "and check"
            ],
            "metadata": {
                "azdata_cell_guid": "86628c5a-b335-42ad-bd3a-56f063d9fe3a"
            }
        },
        {
            "cell_type": "code",
            "source": [
                "SELECT \r\n",
                "OBJECT_NAME(PA.object_id) AS 'Table'\r\n",
                ", PA.object_id\r\n",
                ", FG.name \r\n",
                "FROM sys.filegroups FG \r\n",
                "\tINNER JOIN sys.allocation_units AU ON AU.data_space_id = FG.data_space_id \r\n",
                "\tINNER JOIN sys.partitions PA ON PA.partition_id = AU.container_id \r\n",
                "WHERE PA.object_id = (SELECT object_id(N'dbo.StuffAndJunk'))\r\n",
                "OR PA.object_id = (SELECT object_id(N'dbo.OrderedList'))\r\n",
                "OR PA.object_id = (SELECT object_id(N'dbo.NewStuff'))"
            ],
            "metadata": {
                "azdata_cell_guid": "81300ed3-bda1-4c38-b1e6-597100a97c9b"
            },
            "outputs": [],
            "execution_count": null
        },
        {
            "cell_type": "markdown",
            "source": [
                "StuffAndJunk is on FGTestFG2"
            ],
            "metadata": {
                "azdata_cell_guid": "d1c8c801-e74a-4722-a81f-d453879eb703"
            }
        },
        {
            "cell_type": "markdown",
            "source": [
                "# Clear up"
            ],
            "metadata": {
                "azdata_cell_guid": "3d310638-116b-47ac-ab0e-27616687984d"
            }
        },
        {
            "cell_type": "code",
            "source": [
                "USE [master]\r\n",
                "GO\r\n",
                "ALTER DATABASE [FileGroup_Test] SET SINGLE_USER WITH ROLLBACK IMMEDIATE\r\n",
                "DROP DATABASE FileGroup_Test"
            ],
            "metadata": {
                "azdata_cell_guid": "4cca75fd-d89a-4056-9885-d846014a5d2f"
            },
            "outputs": [],
            "execution_count": null
        }
    ]
}