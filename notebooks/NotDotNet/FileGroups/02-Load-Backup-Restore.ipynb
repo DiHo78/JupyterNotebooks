{
    "metadata": {
        "kernelspec": {
            "name": "SQL",
            "display_name": "SQL",
            "language": "sql"
        },
        "language_info": {
            "name": "sql",
            "version": ""
        }
    },
    "nbformat_minor": 2,
    "nbformat": 4,
    "cells": [
        {
            "cell_type": "markdown",
            "source": [
                "# File groups restores\r\n",
                "\r\n",
                "How do we restore file group backups - It can be done in SIMPLE recovery mode but **only** for read-only filegroups\r\n",
                "\r\n",
                "> In a file restore, the goal is to restore one or more damaged files without restoring the whole database. Under the simple recovery model, file backups are supported only for read-only files. **The primary filegroup and read/write secondary filegroups are always restored together, by restoring a database or partial backup.**\r\n",
                "\r\n",
                "https://docs.microsoft.com/en-us/sql/relational-databases/backup-restore/file-restores-simple-recovery-model?view=sql-server-ver15\r\n",
                "\r\n",
                "So do the load, set the file groups(s) to read only and then have a process to restore them in the same way\r\n",
                "\r\n",
                "But\r\n",
                "\r\n",
                "You need to be to only connection to make the `ALTER DATABASE MYDB MODIFY FILEGROUP FGName READ_ONLY` code which means that you need to run\r\n",
                "\r\n",
                "```\r\n",
                "ALTER DATABASE MyDB SET SINGLE_USER;  \r\n",
                "ALTER DATABASE MYDB MODIFY FILEGROUP FGName READ_ONLY  \r\n",
                "ALTER DATABASE MyDB SET MULTI_USER;\r\n",
                "```\r\n",
                "after the load and `READ_WRITE` before each load\r\n",
                "Which is adding more complexity. So the decision is based on the answer to\r\n",
                "\r\n",
                "> How important are filegroup restores compared to additional administration or more complex processes\r\n",
                "\r\n",
                "and\r\n",
                "\r\n",
                "> Will we know before making the file group read-write again that we have a mistake and need to restore?\r\n",
                "\r\n",
                "Also, setting the mart read only after a load could be a good thing??"
            ],
            "metadata": {
                "azdata_cell_guid": "33603c04-2984-452a-a818-4d819e7c6eb3"
            }
        },
        {
            "cell_type": "markdown",
            "source": [
                "## Database"
            ],
            "metadata": {
                "azdata_cell_guid": "45ebf54c-fdd8-4f75-ae45-6d8e24ca05c9"
            }
        },
        {
            "cell_type": "code",
            "source": [
                "CREATE DATABASE FileGroup_restores\r\n",
                "GO\r\n",
                ""
            ],
            "metadata": {
                "azdata_cell_guid": "58ac02c5-a078-4e1d-8456-fea2d2471ee5"
            },
            "outputs": [],
            "execution_count": null
        },
        {
            "cell_type": "markdown",
            "source": [
                "Add file groups and files"
            ],
            "metadata": {
                "azdata_cell_guid": "b9584507-3743-4618-8bcc-225ef89ae6b7"
            }
        },
        {
            "cell_type": "code",
            "source": [
                "ALTER DATABASE FileGroup_restores \r\n",
                "ADD FILEGROUP FGTestFG1\r\n",
                "ALTER DATABASE FileGroup_restores \r\n",
                "ADD FILEGROUP FGTestFG2\r\n",
                "\r\n",
                "ALTER DATABASE FileGroup_restores \r\n",
                "ADD FILE \r\n",
                "(NAME = FileGroup_number1, FILENAME = 'FileGroup_FileGroup1.ndf') \r\n",
                "TO FILEGROUP FGTestFG1\r\n",
                "\r\n",
                "ALTER DATABASE FileGroup_restores \r\n",
                "ADD FILE \r\n",
                "(NAME = FileGroup_number2, FILENAME = 'P:\\DATA\\GBQIS1SDA01ODFileGroup_FileGroup2.ndf') \r\n",
                "TO FILEGROUP FGTestFG2"
            ],
            "metadata": {
                "azdata_cell_guid": "30081efa-0b77-4191-af74-243a437a6f55"
            },
            "outputs": [],
            "execution_count": null
        },
        {
            "cell_type": "markdown",
            "source": [
                "Add a table on each file group and fill with data"
            ],
            "metadata": {
                "azdata_cell_guid": "36c0a05c-5552-46a8-92f3-3d6369fa3362"
            }
        },
        {
            "cell_type": "code",
            "source": [
                "USE FileGroup_restores \r\n",
                "GO\r\n",
                "CREATE TABLE [dbo].[StuffAndJunk](\r\n",
                "\t[StuffHere] [bigint] NULL,\r\n",
                "\t[JunkHere] [bigint] NULL,\r\n",
                "\t[DuffStuffHere] [bigint] NULL\r\n",
                ") ON [FGTestFG1]\r\n",
                "\r\n",
                "\r\n",
                " ; WITH\r\n",
                "  L0   AS (SELECT c FROM (SELECT 1 UNION ALL SELECT 1) AS D(c)), -- 2^1\r\n",
                "  L1   AS (SELECT 1 AS c FROM L0 AS A CROSS JOIN L0 AS B),       -- 2^2\r\n",
                "  L2   AS (SELECT 1 AS c FROM L1 AS A CROSS JOIN L1 AS B),       -- 2^4\r\n",
                "  L3   AS (SELECT 1 AS c FROM L2 AS A CROSS JOIN L2 AS B),       -- 2^8\r\n",
                "  L4   AS (SELECT 1 AS c FROM L3 AS A CROSS JOIN L3 AS B),       -- 2^16\r\n",
                "  L5   AS (SELECT 1 AS c FROM L4 AS A CROSS JOIN L4 AS B),       -- 2^32\r\n",
                "  Nums AS (SELECT ROW_NUMBER() OVER(ORDER BY (SELECT NULL)) AS k FROM L5)\r\n",
                "\r\n",
                "INSERT INTO [dbo].[StuffAndJunk] WITH (TABLOCK)  -- to reduce logging in simple mode_\r\n",
                "select k as StuffHere , k/2 as JunkHere,  k/4 as DuffStuffHere\r\n",
                "from nums\r\n",
                "where k <= 1000000\r\n",
                "GO\r\n",
                "\r\n",
                "USE FileGroup_restores \r\n",
                "GO\r\n",
                "CREATE TABLE [dbo].[NewStuff](\r\n",
                "\t[StuffHere] [bigint] NULL,\r\n",
                "\t[JunkHere] [bigint] NULL,\r\n",
                "\t[DuffStuffHere] [bigint] NULL\r\n",
                ") ON [FGTestFG2]\r\n",
                "\r\n",
                "\r\n",
                " ; WITH\r\n",
                "  L0   AS (SELECT c FROM (SELECT 1 UNION ALL SELECT 1) AS D(c)), -- 2^1\r\n",
                "  L1   AS (SELECT 1 AS c FROM L0 AS A CROSS JOIN L0 AS B),       -- 2^2\r\n",
                "  L2   AS (SELECT 1 AS c FROM L1 AS A CROSS JOIN L1 AS B),       -- 2^4\r\n",
                "  L3   AS (SELECT 1 AS c FROM L2 AS A CROSS JOIN L2 AS B),       -- 2^8\r\n",
                "  L4   AS (SELECT 1 AS c FROM L3 AS A CROSS JOIN L3 AS B),       -- 2^16\r\n",
                "  L5   AS (SELECT 1 AS c FROM L4 AS A CROSS JOIN L4 AS B),       -- 2^32\r\n",
                "  Nums AS (SELECT ROW_NUMBER() OVER(ORDER BY (SELECT NULL)) AS k FROM L5)\r\n",
                "\r\n",
                "INSERT INTO [dbo].[NewStuff] WITH (TABLOCK)  -- to reduce logging in simple mode_\r\n",
                "select k as StuffHere , k/2 as JunkHere,  k/4 as DuffStuffHere\r\n",
                "from nums\r\n",
                "where k <= 1000000\r\n",
                "GO"
            ],
            "metadata": {
                "azdata_cell_guid": "ff099b4e-7572-4820-85c3-f4cbe87a1746",
                "tags": []
            },
            "outputs": [],
            "execution_count": null
        },
        {
            "cell_type": "markdown",
            "source": [
                "Take a backups"
            ],
            "metadata": {
                "azdata_cell_guid": "9cc422e7-9b42-47e9-8717-7c228a6b9d50"
            }
        },
        {
            "cell_type": "code",
            "source": [
                "Use Master\r\n",
                "GO\r\n",
                "ALTER DATABASE FileGroup_restores  SET SINGLE_USER;  \r\n",
                "ALTER DATABASE FileGroup_restores  MODIFY FILEGROUP FGTestFG2 READ_ONLY  \r\n",
                "ALTER DATABASE FileGroup_restores  SET MULTI_USER;\r\n",
                "\r\n",
                "BACKUP DATABASE FileGroup_restores  Read_Write_FileGroups \r\n",
                "TO DISK ='FileGroup_restores _RW.bak'\r\n",
                "\r\n",
                "BACKUP DATABASE FileGroup_restores   \r\n",
                "   FILEGROUP = 'FGTestFG2' \r\n",
                "   TO DISK = 'FileGroup_restores _FG2.bak';  \r\n",
                "GO  \r\n",
                ""
            ],
            "metadata": {
                "azdata_cell_guid": "7ea7f12e-c66b-475d-a061-6950e2ef692b"
            },
            "outputs": [],
            "execution_count": null
        },
        {
            "cell_type": "markdown",
            "source": [
                "Delete from table (simultate duff load)"
            ],
            "metadata": {
                "azdata_cell_guid": "0c81075e-e7e3-4d79-825f-702c43523d8c"
            }
        },
        {
            "cell_type": "code",
            "source": [
                "USE FileGroup_restores \r\n",
                "GO\r\n",
                "ALTER DATABASE FileGroup_restores  SET SINGLE_USER;  \r\n",
                "ALTER DATABASE FileGroup_restores  MODIFY FILEGROUP FGTestFG2 READ_WRITE \r\n",
                "ALTER DATABASE FileGroup_restores  SET MULTI_USER;\r\n",
                "TRUNCATE TABLE [dbo].[NewStuff]\r\n",
                "ALTER DATABASE FileGroup_restores  SET SINGLE_USER;  \r\n",
                "ALTER DATABASE FileGroup_restores  MODIFY FILEGROUP FGTestFG2 READ_ONLY  \r\n",
                "ALTER DATABASE FileGroup_restores  SET MULTI_USER;"
            ],
            "metadata": {
                "azdata_cell_guid": "95476707-ffd8-475c-bc59-1065f8eabc0a"
            },
            "outputs": [],
            "execution_count": null
        },
        {
            "cell_type": "markdown",
            "source": [
                "Check"
            ],
            "metadata": {
                "azdata_cell_guid": "f61da747-795c-4542-b93a-02a9ea71e06d"
            }
        },
        {
            "cell_type": "code",
            "source": [
                "USE FileGroup_restores\r\n",
                "GO\r\n",
                "SELECT TOP 1 * FROM [dbo].[StuffAndJunk]\r\n",
                "SELECT TOP 1 * FROM [dbo].[NewStuff]"
            ],
            "metadata": {
                "azdata_cell_guid": "6e19f565-7219-477a-a174-edd4baa41b2f"
            },
            "outputs": [],
            "execution_count": null
        },
        {
            "cell_type": "markdown",
            "source": [
                "Oh no - our load is screwed (we have no data in NewStuff) - assume StuffAndJunk has changed."
            ],
            "metadata": {
                "azdata_cell_guid": "9d5f2c06-a005-4db2-af32-ccf67606cd47"
            }
        },
        {
            "cell_type": "markdown",
            "source": [
                "## Restore all readwrite parts of database"
            ],
            "metadata": {
                "azdata_cell_guid": "7cd51ebb-85f8-4668-a17c-a5a674cae16e"
            }
        },
        {
            "cell_type": "code",
            "source": [
                "USE master\r\n",
                "ALTER DATABASE FileGroup_restores SET SINGLE_USER;  \r\n",
                "RESTORE DATABASE FileGroup_restores READ_WRITE_FILEGROUPS FROM Disk ='FileGroup_restores_RW.bak'\r\n",
                "WITH PARTIAL, RECOVERY  \r\n",
                ""
            ],
            "metadata": {
                "azdata_cell_guid": "2d9ed200-e36f-46f2-8bd1-ac038bf73613"
            },
            "outputs": [],
            "execution_count": null
        },
        {
            "cell_type": "markdown",
            "source": [
                "Can read from FG1 but not FG2"
            ],
            "metadata": {
                "azdata_cell_guid": "46c26557-8eae-48ef-ae0e-a29dac97884a"
            }
        },
        {
            "cell_type": "code",
            "source": [
                "USE FileGroup_restores\r\n",
                "GO\r\n",
                "SELECT TOP 1 * FROM [dbo].[StuffAndJunk]\r\n",
                ""
            ],
            "metadata": {
                "azdata_cell_guid": "4de788af-24f5-491e-9d8c-811942a912ba"
            },
            "outputs": [],
            "execution_count": null
        },
        {
            "cell_type": "code",
            "source": [
                "USE FileGroup_restores\r\n",
                "GO\r\n",
                "SELECT TOP 1 * FROM [dbo].[NewStuff]"
            ],
            "metadata": {
                "azdata_cell_guid": "dabbb8a2-e099-4632-b6b3-1a39c866400b"
            },
            "outputs": [],
            "execution_count": null
        },
        {
            "cell_type": "markdown",
            "source": [
                "Restore FG2"
            ],
            "metadata": {
                "azdata_cell_guid": "85641f1f-85c5-4b15-82e2-602123d2c708"
            }
        },
        {
            "cell_type": "code",
            "source": [
                "USE master\r\n",
                "RESTORE DATABASE FileGroup_restores \r\n",
                "FROM Disk ='FileGroup_restores_FG2.bak' \r\n",
                "WITH RECOVERY"
            ],
            "metadata": {
                "azdata_cell_guid": "e68569a3-f713-4c27-8c43-03bfa4d5a2bd"
            },
            "outputs": [],
            "execution_count": null
        },
        {
            "cell_type": "markdown",
            "source": [
                "Check"
            ],
            "metadata": {
                "azdata_cell_guid": "b24adc48-498a-4543-8e93-a54365a8b132"
            }
        },
        {
            "cell_type": "code",
            "source": [
                "USE FileGroup_restores\r\n",
                "GO\r\n",
                "SELECT TOP 1 * FROM [dbo].[StuffAndJunk]\r\n",
                "SELECT TOP 1 * FROM [dbo].[NewStuff]"
            ],
            "metadata": {
                "azdata_cell_guid": "6e946b9e-0a7c-4efe-8d96-7991d5eb5484"
            },
            "outputs": [],
            "execution_count": null
        },
        {
            "cell_type": "markdown",
            "source": [
                "# Clean Up"
            ],
            "metadata": {
                "azdata_cell_guid": "c7011ebf-8dfc-4b32-8494-962d2d20b0bb"
            }
        },
        {
            "cell_type": "code",
            "source": [
                "USE [master]\r\n",
                "GO\r\n",
                "ALTER DATABASE [FileGroup_restores] SET SINGLE_USER WITH ROLLBACK IMMEDIATE\r\n",
                "DROP DATABASE FileGroup_restores"
            ],
            "metadata": {
                "azdata_cell_guid": "ed265192-774b-4f2c-a69b-3078d5c1354f"
            },
            "outputs": [],
            "execution_count": null
        },
        {
            "cell_type": "code",
            "source": [
                "DECLARE @SQL NVARCHAR(500)\r\n",
                "DECLARE @PowerShell NVarchAr(500)\r\n",
                "\r\n",
                "SET @sql =  N' DEL FileGroup_restores_RW.bak ; FileGroup_restores_FG2.bak'\r\n",
                "-- PRINT @SQL\r\n",
                "EXEC master..xp_cmdshell @SQL"
            ],
            "metadata": {
                "azdata_cell_guid": "184aa7f7-e7cb-483f-b70b-e33c43bcd0fd"
            },
            "outputs": [],
            "execution_count": null
        }
    ]
}