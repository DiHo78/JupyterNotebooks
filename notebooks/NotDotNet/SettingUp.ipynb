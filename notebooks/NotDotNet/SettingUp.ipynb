{
    "metadata": {
        "kernelspec": {
            "name": "powershell",
            "display_name": "PowerShell"
        },
        "language_info": {
            "name": "powershell",
            "codemirror_mode": "shell",
            "mimetype": "text/x-sh",
            "file_extension": ".ps1"
        }
    },
    "nbformat_minor": 2,
    "nbformat": 4,
    "cells": [
        {
            "cell_type": "markdown",
            "source": [
                "# Setting up PowerShell for use\r\n",
                "\r\n",
                "## Install Python\r\n",
                "\r\n",
                "This notebook contains the one off steps that you will need to do to set up PowerShell. \r\n",
                "\r\n",
                "When you first open this it may prompt you for a Python Installation to the left, choose New Installation and wait whilst it installs, it does take a few minutes and you will see the output in the window below and a notification bottom right when it has finished\r\n",
                "\r\n",
                "## Install PowerShell Extension\r\n",
                "\r\n",
                "In Azure Data Studio install the PowerShell Extension using the Extensions Icon on the left\r\n",
                "\r\n",
                "![powershell](.\\Images\\Extension.png)\r\n",
                "\r\n",
                "type Power and then click install on the PowerShell Extension\r\n",
                "\r\n",
                "There are other useful extensions that you can also install at a later date.\r\n",
                "\r\n",
                ""
            ],
            "metadata": {
                "azdata_cell_guid": "c3e2c348-0ed0-4ee1-b729-4abe31acb2dd"
            }
        },
        {
            "cell_type": "markdown",
            "source": [
                "## Trust the PowerShell Gallery\r\n",
                "\r\n",
                "To trust the gallery so that we can install the required modules run the code cell below"
            ],
            "metadata": {
                "azdata_cell_guid": "d6ae7d9c-c138-4886-ba39-4200e8c2edc8"
            }
        },
        {
            "cell_type": "code",
            "source": [
                "# Set up PSGallery\r\n",
                "\r\n",
                "Set-ExecutionPolicy -Scope CurrentUser -ExecutionPolicy RemoteSigned\r\n",
                "\r\n",
                "if ((Get-PsRepository -Name PSGallery).InstallationPolicy -ne 'Trusted') {\r\n",
                "    Write-Output \"The PowerShell Gallery is not trusted so I will trust it so that we can install the modules without interaction\"\r\n",
                "    try {\r\n",
                "        Set-PsRepository -Name PSGallery -InstallationPolicy Trusted  -ErrorAction Stop\r\n",
                "    }\r\n",
                "    catch {\r\n",
                "        Write-Output \" Failed to trust the gallery, follow the manual steps below\"\r\n",
                "    }\r\n",
                "    \r\n",
                "}\r\n",
                "else {\r\n",
                "    Write-Output \"The PowerShell Gallery is trusted I will continue\"\r\n",
                "}\r\n",
                ""
            ],
            "metadata": {
                "azdata_cell_guid": "3a23f8af-c664-4999-973a-2ebdc4c5b52c",
                "tags": [
                    "hide_input"
                ]
            },
            "outputs": [
                {
                    "output_type": "stream",
                    "name": "stdout",
                    "text": "The PowerShell Gallery is trusted I will continue\n"
                }
            ],
            "execution_count": 1
        },
        {
            "cell_type": "markdown",
            "source": [
                "## Install NuGet for this user\r\n",
                "\r\n",
                "If you are told to follow the manual steps below, we need to install the nuget package provider to interact with the PowerShell Gallery.\r\n",
                "\r\n",
                "either -  \r\n",
                "\r\n",
                " <u>**HIGHLIGHT the code in the block below and press F8 - DO NOT run the code block it will fail**</u>  \r\n",
                "\r\n",
                "or copy the code below and then open PowerShell and run it\r\n",
                "\r\n",
                "Then run the above code cell again to trust the PowerShell Gallery\r\n",
                "\r\n",
                " *That will only do this for the current user*, should you wish to do this for all users \r\n",
                "\r\n",
                " ## Install Nuget for All Users of this machine\r\n",
                " \r\n",
                "Open PowerShell as Admin by shift right clicking on the PowerShell Icon and then Run As Adminstrator.\r\n",
                "\r\n",
                "Copy the code below and run it\r\n",
                ""
            ],
            "metadata": {
                "azdata_cell_guid": "fdacd9cb-9352-4901-ad8f-2de4d0250a5e"
            }
        },
        {
            "cell_type": "code",
            "source": [
                "Install-PackageProvider NuGet -MinimumVersion 2.8.5.201 -Scope CurrentUser -Force \r\n",
                "Import-PackageProvider NuGet -RequiredVersion 2.8.5.201 -Force -ErrorAction SilentlyContinue\r\n",
                "Set-PSRepository -Name PSGallery -InstallationPolicy Trusted"
            ],
            "metadata": {
                "azdata_cell_guid": "1b37889b-51e7-40cb-8619-cffc5588b01f"
            },
            "outputs": [],
            "execution_count": null
        },
        {
            "cell_type": "markdown",
            "source": [
                "## Install the required Modules\n",
                "\n",
                "We need to install some modules to use in the notebooks"
            ],
            "metadata": {
                "azdata_cell_guid": "e936eaff-a182-4c8f-9d34-5e62f49b1768"
            }
        },
        {
            "cell_type": "code",
            "source": [
                "#Check for modules and install\r\n",
                "$Modules = 'dbatools', 'DbaChecks', 'ImportExcel', 'AdsNotebook'\r\n",
                "Install-Module Pester -Scope CurrentUser -SkipPublisherCheck -Force -AllowClobber\r\n",
                "$Modules.ForEach{\r\n",
                "    If (-not(Get-Module $psitem -ListAvailable)) {\r\n",
                "        Write-Output \"We don't have the $psitem module so we will install it\"\r\n",
                "        Install-Module $psitem -Scope CurrentUser -Force\r\n",
                "    }\r\n",
                "    else {\r\n",
                "        Write-Output \"We have the $psitem module already - lets update it\"\r\n",
                "        Update-Module $psitem -Scope CurrentUser\r\n",
                "    }\r\n",
                "}"
            ],
            "metadata": {
                "azdata_cell_guid": "8bb6cc5f-d783-4e24-99dd-aaac6fcaaa42"
            },
            "outputs": [
                {
                    "output_type": "stream",
                    "name": "stdout",
                    "text": "We have the dbatools module already - lets update it\nWe have the DbaChecks module already - lets update it\nWe don't have the ImportExcel module so we will install it\nWe don't have the AdsNotebook module so we will install it\n"
                }
            ],
            "execution_count": 1
        },
        {
            "cell_type": "markdown",
            "source": [
                "Congratulations - You are done, now the notebooks will work."
            ],
            "metadata": {
                "azdata_cell_guid": "7104a778-2585-49f2-a560-afd5634e8f75"
            }
        }
    ]
}