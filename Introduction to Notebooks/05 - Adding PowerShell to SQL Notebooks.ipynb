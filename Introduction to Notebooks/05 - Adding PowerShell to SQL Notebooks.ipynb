{
    "metadata": {
        "kernelspec": {
            "name": "SQL",
            "display_name": "SQL",
            "language": "sql"
        },
        "language_info": {
            "name": "sql",
            "version": ""
        }
    },
    "nbformat_minor": 2,
    "nbformat": 4,
    "cells": [
        {
            "cell_type": "markdown",
            "source": [
                "# Adding PowerShell Code to SQL Notebooks\r\n",
                "\r\n",
                "SQL Notebooks are in constant eveolution but as at September 2019, this is how I enable clients to run PowerShell Code in SQL Notebooks in the Markdown blocks\r\n",
                "\r\n",
                "## Use the commands\r\n",
                "\r\n",
                "In Azure Data Studio if you click on the cog in the bottom left and choose Keyboard shortcuts, you can see and change the Keyboard Shortcuts. This enables you to see the command that is called when you use a keyboard shortcut. For Example, if you look at\r\n",
                "\r\n",
                "![image](https://user-images.githubusercontent.com/6729780/59566321-84233d80-9056-11e9-9643-e9e15e85a2f0.png)\r\n",
                "\r\n",
                "You can see that the command that is called is `workbench.action.terminal.focus`\r\n",
                "\r\n",
                "It turns out that you can call this as a link in a Markdown document using HTML with `<a href=\"\">` and adding `command:` prior to the command. When the link is clicked the command will run.\r\n",
                "\r\n",
                "So a link like this `<a href=\"command:workbench.action.terminal.focus\">Click this link to open the terminal</a>` will open the terminal\r\n",
                "\r\n",
                "<a href=\"command:workbench.action.terminal.focus\">Click this link to open the terminal</a> \r\n",
                "\r\n",
                ""
            ],
            "metadata": {
                "azdata_cell_guid": "10ad265a-0390-42f7-a821-a230cdcf662d"
            }
        },
        {
            "cell_type": "markdown",
            "source": [
                "I expect you have clicked this and it has not worked. There is an extra step that is required to enable this functionality.\r\n",
                "\r\n",
                "## The Notebook needs to be Trusted - With a BIG WARNING\r\n",
                "\r\n",
                "When you create a new notebook and save it you will see\r\n",
                "\r\n",
                "![image](https://user-images.githubusercontent.com/6729780/59566360-365b0500-9057-11e9-87fb-1f8cbbb6e9e2.png)\r\n",
                "\r\n",
                "If you click Not Trusted the Notebook will be trusted and allowed to run commands from the markdown blocks. \r\n",
                "\r\n",
                "**This is not something to be done lightly**. I was telling some of my security red team friends at the European PowerShell Conference about this functionality and they were very very interested in a product which has a link which if clicked by a user can execute code. So please, ***be very careful indeed with Notebooks from untrusted sources***. You can also use the steps below to examine the code\r\n",
                "\r\n",
                "So with that big warning covered, lets add some PowerShell to a Notebook.\r\n",
                ""
            ],
            "metadata": {
                "azdata_cell_guid": "20e8afd4-0e11-408c-956a-f780443570d2"
            }
        },
        {
            "cell_type": "markdown",
            "source": [
                "## Send a command sequence\r\n",
                "\r\n",
                "In the [Visual Studio Code documentation](https://code.visualstudio.com/docs/editor/integrated-terminal) it states that \r\n",
                "\r\n",
                "![image](https://user-images.githubusercontent.com/6729780/59566689-5260a580-905b-11e9-8369-c7e4b9a0e229.png)\r\n",
                "\r\n",
                "So we can use `workbench.action.terminal.sendSequence` to send code to the terminal. \r\n",
                "\r\n",
                "However, we still need to craft the command so that it will work as a link. \r\n",
                "It needs to be converted into a URL. \r\n",
                "\r\n",
                "I use this website [https://www.url-encode-decode.com/](https://www.url-encode-decode.com/) to do this.\r\n",
                "\r\n",
                "This is **how you can check the code in other peoples notebook, use the decode capability.**\r\n",
                "\r\n",
                "![image](https://user-images.githubusercontent.com/6729780/59567164-e5044300-9061-11e9-802b-7b28c3aee345.png)\r\n",
                "\r\n",
                "Encoding `Set-Location C:\\dbachecks` gives `Set-Location+C%3A%5Cdbachecks`\r\n",
                "\r\n",
                "Unfortunately, that does not complete the actions required\r\n",
                "\r\n",
                "The + needs to be replaced with a space or `%20`\r\n",
                "\r\n",
                "You also need to double the `\\` and replace the `%3A` with a `:`\r\n",
                "\r\n",
                "The `\"` needs to be replaced with `\\u022`, the `'` with `\\u027`, the curly braces won't work unless you remove the `%0D%0A`\r\n",
                "\r\n",
                "\r\n",
                "\r\n",
                ""
            ],
            "metadata": {
                "azdata_cell_guid": "a33ae7dd-b248-47a6-b4bf-cf3a64d5980a"
            }
        },
        {
            "cell_type": "markdown",
            "source": [
                "So now you can write your PowerShell and encode it and add `\\u000D` at the end of the code to pass an enter to run the code.\r\n",
                "\r\n",
                "and then place all of that into a link like this\r\n",
                "\r\n",
                "`<a href=\"command:workbench.action.terminal.sendSequence?%7B%22text%22%3A%22 PLACE THE ENCODED CODE HERE %22%7D\">Link Text</a>`\r\n",
                "\r\n",
                "This means that to add the code\r\n",
                "\r\n",
                "    Set-Location C:\\dbachecks\r\n",
                "    Get-ChildItem\r\n",
                "\r\n",
                "You would end up with a link like this\r\n",
                "\r\n",
                "\r\n",
                "`<a href=\"command:workbench.action.terminal.sendSequence?%7B%22text%22%3A%22 Set-Location C:%5C%5Cdbachecks \\u000D Get-ChildItem \\u000D %22%7D\">Set Location and list files</a>`\r\n",
                "\r\n",
                "Who wants to remember all that everytime ? So I created a PowerShell function! which I have added to my `ADSNotebook` module. You can install it using\r\n",
                "\r\n",
                "````\r\n",
                "Install-Module ADSNotebook\r\n",
                "\r\n",
                "````\r\n",
                "and you can call it with \r\n",
                "\r\n",
                "````\r\n",
                "Convert-ADSMarkdownForMarkdown\r\n",
                "````\r\n",
                "\r\n",
                "\r\n",
                ""
            ],
            "metadata": {
                "azdata_cell_guid": "bb70c6b2-4e74-470f-af2f-335fb61b3fb2"
            }
        },
        {
            "cell_type": "markdown",
            "source": [
                "# Run some PowerShell\r\n",
                "\r\n",
                "So to run a bit of PowerShell we can do this\r\n",
                "\r\n",
                "<a href=\"command:workbench.action.terminal.focus\">Open a new terminal</a>\r\n",
                "\r\n",
                "<a href=\"command:workbench.action.terminal.sendSequence?%7B%22text%22%3A%22 pwsh \\u000D %22%7D\">Start pwsh</a>\r\n",
                "\r\n",
                "<a href=\"command:workbench.action.terminal.sendSequence?%7B%22text%22%3A%22 if(%24IsLinux)%7b\\u000A    if(-not (Get-PSDrive -Name Git -ErrorAction SilentlyContinue))%7b\\u000A        New-PSDrive -Name Git -PSProvider FileSystem -Root %2fhome%2frob%2fDocuments%2fgit\\u000A    %7d\\u000A    Set-Location \\u0027%2fhome%2frob%2fDocuments%2fgit%2fPresentations%2f2019%2fSQL Saturday Slovenia\\u0027\\u000A%7delse%7b\\u000A    if(-not (Get-PSDrive -Name Git -ErrorAction SilentlyContinue))%7b\\u000A        New-PSDrive -Name Git -PSProvider FileSystem -Root D:%5c%5cOneDrive%5c%5cDocuments%5c%5cGitHub\\u000A    %7d\\u000A    Set-Location \\u0027Git:%5c%5cPresentations%5c%5c2019%5c%5cSQL Saturday Slovenia\\u0027\\u000A%7d\\u000A\\u000AGet-ChildItem\\u000A \\u000D %22%7D\">Set Location and List FIles</a>\r\n",
                "\r\n",
                "<a href=\"command:workbench.action.terminal.sendSequence?%7B%22text%22%3A%22 Import-Module GIT:%5c%5cOlder%5c%5cTechorama-Precon-2019%5c%5cSlides-and-Demos%5c%5c07-Programming%5c%5czNothing.psm1 -DisableNameChecking\\u000A\\u000ANothing-ElseMatters\\u000AEnter-Sandman\\u000AFor-WhomTheBellTolls \\u000D %22%7D\">Play Some Metallica</a>"
            ],
            "metadata": {
                "azdata_cell_guid": "d9b43a87-6ea5-42d0-a218-2221a939728d"
            }
        }
    ]
}